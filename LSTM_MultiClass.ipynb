{
 "cells": [
  {
   "cell_type": "code",
   "execution_count": 1,
   "metadata": {},
   "outputs": [],
   "source": [
    "import torch\n",
    "import torch.nn as nn\n",
    "from torch.utils.data import Dataset, DataLoader, random_split\n",
    "import numpy as np\n",
    "import matplotlib.pyplot as plt\n",
    "\n",
    "# Custom module to create synthetic dataset\n",
    "from utils.sine_dataset import signal_dataset_harmonic_creator"
   ]
  },
  {
   "cell_type": "code",
   "execution_count": 2,
   "metadata": {},
   "outputs": [
    {
     "name": "stdout",
     "output_type": "stream",
     "text": [
      "cpu\n"
     ]
    }
   ],
   "source": [
    "# LSTM parameters\n",
    "hidden_dim = 20\n",
    "n_signals = 1\n",
    "N = 64\n",
    "harmonics = 3\n",
    "tagset_size = harmonics \n",
    "\n",
    "\n",
    "device = \"cuda\" if torch.cuda.is_available() else \"cpu\"\n",
    "print(device)"
   ]
  },
  {
   "cell_type": "code",
   "execution_count": 3,
   "metadata": {},
   "outputs": [
    {
     "name": "stdout",
     "output_type": "stream",
     "text": [
      "Model structure: LSTMHarmonic(\n",
      "  (lstm): LSTM(1, 20, batch_first=True)\n",
      "  (fc): Linear(in_features=20, out_features=3, bias=True)\n",
      "  (softmax): Softmax(dim=1)\n",
      ")\n",
      "\n"
     ]
    }
   ],
   "source": [
    "# Model creation\n",
    "class LSTMHarmonic(nn.Module):\n",
    "    \"\"\"Some Information about LSTMHarmonic\"\"\"\n",
    "\n",
    "    def __init__(self, N, hidden_dim, tagset_size):\n",
    "        super(LSTMHarmonic, self).__init__()\n",
    "        self.lstm = nn.LSTM(N, hidden_dim, batch_first=True)\n",
    "        self.fc = nn.Linear(hidden_dim, tagset_size)\n",
    "        self.softmax = nn.Softmax(dim=1)\n",
    "\n",
    "    def forward(self, x):\n",
    "        lstm_out, _ = self.lstm(x)\n",
    "        fc_layer = self.fc(lstm_out[:, -1, :])\n",
    "        output = self.softmax(fc_layer)\n",
    "\n",
    "        return output\n",
    "        \n",
    "\n",
    "\n",
    "model = LSTMHarmonic(n_signals, hidden_dim, tagset_size).to(device)\n",
    "loss_fn = nn.CrossEntropyLoss()\n",
    "optimizer = torch.optim.Adam(model.parameters(), lr=1e-2)\n",
    "print(f\"Model structure: {model}\\n\")"
   ]
  },
  {
   "cell_type": "code",
   "execution_count": 4,
   "metadata": {},
   "outputs": [],
   "source": [
    "# Define Dataset Class\n",
    "# Define Dataset Class\n",
    "class SineWaveDataset(torch.utils.data.Dataset):\n",
    "    \"\"\"Some Information about SineWaveDataset\"\"\"\n",
    "\n",
    "    def __init__(self, signals, labels, transform=None, labels_transform=None):\n",
    "        super(SineWaveDataset, self).__init__()\n",
    "        self.signals = signals\n",
    "        self.labels = labels\n",
    "        self.transform = transform\n",
    "        self.labels_transform = labels_transform\n",
    "\n",
    "    def __getitem__(self, index):\n",
    "        signal = self.signals[index]\n",
    "        label = self.labels[index]\n",
    "        if self.transform:\n",
    "            signal = self.transform(signal)\n",
    "        if self.labels_transform:\n",
    "            label = self.labels_transform(label)\n",
    "        return signal, label\n",
    "\n",
    "    def __len__(self):\n",
    "        return len(self.signals)"
   ]
  },
  {
   "cell_type": "code",
   "execution_count": 10,
   "metadata": {},
   "outputs": [
    {
     "name": "stdout",
     "output_type": "stream",
     "text": [
      "16\n",
      "16\n"
     ]
    }
   ],
   "source": [
    "dataiter = iter(test_dataloader)\n",
    "signal, labels = next(dataiter)\n",
    "print(len(labels))\n",
    "print(len(signal))\n"
   ]
  },
  {
   "cell_type": "code",
   "execution_count": 6,
   "metadata": {},
   "outputs": [],
   "source": [
    "# Dataset Parameters\n",
    "fs = 3840\n",
    "N = 64\n",
    "m = 1200\n",
    "\n",
    "# Create Dataset Signals\n",
    "signals, target = signal_dataset_harmonic_creator(\n",
    "    fs, N, m, harmonics=harmonics, multiclass=True\n",
    ")\n",
    "signals = np.expand_dims(signals, axis=2)\n",
    "signals = torch.from_numpy(signals).float()\n",
    "target = torch.from_numpy(target).to(torch.int64)\n",
    "# target_one_hot = nn.functional.one_hot(target.to(torch.int64))\n",
    "\n",
    "# Create Dataset instance\n",
    "\n",
    "dataset = SineWaveDataset(signals, target)\n",
    "train_dataset, test_dataset, val_dataset = random_split(dataset, [0.9, 0.09, 0.01])\n",
    "train_dataloader = DataLoader(train_dataset, batch_size=32, shuffle=True)\n",
    "test_dataloader = DataLoader(test_dataset, batch_size=16, shuffle=True)\n",
    "val_dataloader = DataLoader(val_dataset, batch_size=16, shuffle=True)\n"
   ]
  },
  {
   "cell_type": "code",
   "execution_count": 7,
   "metadata": {},
   "outputs": [],
   "source": [
    "# Create Training / Test / Validation Loops\n",
    "\n",
    "# Training\n",
    "def train(dataloader, model, loss_fn, optimizer):\n",
    "    size = len(dataloader.dataset)\n",
    "    model.train()\n",
    "    for batch, (x, y) in enumerate(dataloader):\n",
    "        x, y = x.to(device), y.to(device)\n",
    "\n",
    "        # Compute prediction error\n",
    "        pred = model(x)\n",
    "        loss = loss_fn(pred, y)\n",
    "\n",
    "        # Backpropagation\n",
    "        optimizer.zero_grad()\n",
    "        loss.backward()\n",
    "        optimizer.step()\n",
    "\n",
    "        if batch % 10 == 0:\n",
    "            loss, current = loss.item(), batch * len(x)\n",
    "            print(f\"loss: {loss:>f} [{current:>5d}/{size:>5d}]\")\n",
    "\n",
    "def test(dataloader, model, loss_fn):\n",
    "    size = len(dataloader.dataset)\n",
    "    num_batches = len(dataloader)\n",
    "    model.eval()\n",
    "    test_loss, correct = 0, 0\n",
    "    with torch.no_grad():\n",
    "        for x, y in dataloader:\n",
    "            x, y = x.to(device), y.to(device)\n",
    "            pred = model(x)\n",
    "            test_loss += loss_fn(pred, y).item()\n",
    "            correct += (torch.round(pred.argmax(1)) == y).type(torch.float).sum().item()\n",
    "    test_loss /= num_batches\n",
    "    correct /= size\n",
    "    print(\n",
    "        f\"Test Error: \\n Accuracy: {(100*correct):>0.1f}%, Avg loss: {test_loss:>8f} \\n\"\n",
    "    )"
   ]
  },
  {
   "cell_type": "code",
   "execution_count": 8,
   "metadata": {},
   "outputs": [
    {
     "name": "stdout",
     "output_type": "stream",
     "text": [
      "Epoch 1\n",
      "--------------------------------\n",
      "loss: 1.080036 [    0/  721]\n",
      "loss: 1.098338 [  320/  721]\n",
      "loss: 1.071649 [  640/  721]\n"
     ]
    },
    {
     "ename": "RuntimeError",
     "evalue": "The size of tensor a (3) must match the size of tensor b (16) at non-singleton dimension 1",
     "output_type": "error",
     "traceback": [
      "\u001b[1;31m---------------------------------------------------------------------------\u001b[0m",
      "\u001b[1;31mRuntimeError\u001b[0m                              Traceback (most recent call last)",
      "Cell \u001b[1;32mIn[8], line 5\u001b[0m\n\u001b[0;32m      3\u001b[0m \u001b[39mprint\u001b[39m(\u001b[39mf\u001b[39m\u001b[39m\"\u001b[39m\u001b[39mEpoch \u001b[39m\u001b[39m{\u001b[39;00mepoch\u001b[39m+\u001b[39m\u001b[39m1\u001b[39m\u001b[39m}\u001b[39;00m\u001b[39m\\n\u001b[39;00m\u001b[39m--------------------------------\u001b[39m\u001b[39m\"\u001b[39m)\n\u001b[0;32m      4\u001b[0m train(train_dataloader, model, loss_fn, optimizer)\n\u001b[1;32m----> 5\u001b[0m test(test_dataloader, model, loss_fn)\n",
      "Cell \u001b[1;32mIn[7], line 33\u001b[0m, in \u001b[0;36mtest\u001b[1;34m(dataloader, model, loss_fn)\u001b[0m\n\u001b[0;32m     31\u001b[0m         pred \u001b[39m=\u001b[39m model(x)\n\u001b[0;32m     32\u001b[0m         test_loss \u001b[39m+\u001b[39m\u001b[39m=\u001b[39m loss_fn(pred, y)\u001b[39m.\u001b[39mitem()\n\u001b[1;32m---> 33\u001b[0m         correct \u001b[39m+\u001b[39m\u001b[39m=\u001b[39m (torch\u001b[39m.\u001b[39;49mround(pred) \u001b[39m==\u001b[39;49m y)\u001b[39m.\u001b[39mtype(torch\u001b[39m.\u001b[39mfloat)\u001b[39m.\u001b[39msum()\u001b[39m.\u001b[39mitem()\n\u001b[0;32m     34\u001b[0m test_loss \u001b[39m/\u001b[39m\u001b[39m=\u001b[39m num_batches\n\u001b[0;32m     35\u001b[0m correct \u001b[39m/\u001b[39m\u001b[39m=\u001b[39m size\n",
      "\u001b[1;31mRuntimeError\u001b[0m: The size of tensor a (3) must match the size of tensor b (16) at non-singleton dimension 1"
     ]
    }
   ],
   "source": [
    "epochs = 2\n",
    "for epoch in range(epochs):\n",
    "    print(f\"Epoch {epoch+1}\\n--------------------------------\")\n",
    "    train(train_dataloader, model, loss_fn, optimizer)\n",
    "    test(test_dataloader, model, loss_fn)"
   ]
  },
  {
   "cell_type": "code",
   "execution_count": null,
   "metadata": {},
   "outputs": [],
   "source": []
  },
  {
   "cell_type": "code",
   "execution_count": null,
   "metadata": {},
   "outputs": [],
   "source": []
  }
 ],
 "metadata": {
  "kernelspec": {
   "display_name": "env",
   "language": "python",
   "name": "python3"
  },
  "language_info": {
   "codemirror_mode": {
    "name": "ipython",
    "version": 3
   },
   "file_extension": ".py",
   "mimetype": "text/x-python",
   "name": "python",
   "nbconvert_exporter": "python",
   "pygments_lexer": "ipython3",
   "version": "3.9.13"
  },
  "orig_nbformat": 4,
  "vscode": {
   "interpreter": {
    "hash": "edf36f54e3c0d12e79cbfbdb2eab1260e125462eb03956a03e5e853a13b289dd"
   }
  }
 },
 "nbformat": 4,
 "nbformat_minor": 2
}
