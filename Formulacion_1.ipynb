{
 "cells": [
  {
   "attachments": {},
   "cell_type": "markdown",
   "metadata": {},
   "source": [
    "#### Imports"
   ]
  },
  {
   "cell_type": "code",
   "execution_count": 4,
   "metadata": {},
   "outputs": [],
   "source": [
    "import torch\n",
    "import torch.nn as nn\n",
    "from torch.utils.data import Dataset, DataLoader, random_split\n",
    "import numpy as np\n",
    "import matplotlib.pyplot as plt\n",
    "import os \n",
    "import glob\n",
    "import shutil"
   ]
  },
  {
   "attachments": {},
   "cell_type": "markdown",
   "metadata": {},
   "source": [
    "#### References\n",
    "1. PyTorch Contributors: LSTM. [LSTM — PyTorch 1.13 documentation](https://pytorch.org/docs/stable/generated/torch.nn.LSTM.html).\n",
    "<!-- @online{LSTM,\n",
    "    author = \"{PyTorch Contributors}\",\n",
    "    title = \"LSTM\",\n",
    "    url  = \"https://pytorch.org/docs/stable/generated/torch.nn.LSTM.html\",\n",
    "    addendum = \"(accessed: 10.02.2023)\",\n",
    "    keywords = \"LSTM pytorch\"\n",
    "} -->\n",
    "\n",
    "$a^{\\langle t-1 \\rangle}$"
   ]
  },
  {
   "attachments": {},
   "cell_type": "markdown",
   "metadata": {},
   "source": [
    "#### LSTM parameters\n",
    "\n",
    "- **n_signals:** number of signals fed into model for each event.\n",
    "    - For example: for input signals: [$I_{a}$, $I_{b}$, $I_{c}$] -> n_signals = 3).\n",
    "    <br><br>\n",
    "- **N:** window size. \n",
    "    - For 3840Hz sampling frequency and a 0.016ms window (containing one cycle of a 60Hz wave), N = 64.\n",
    "    \\begin{equation}\n",
    "    N = \\frac{fs}{f_{fundamental}} w\n",
    "    \\end{equation}\n",
    "    <br>\n",
    "- **hidden_dim:** The number of features in the hidden state $a^{\\langle t \\rangle}$ (also refered as $h^{\\langle t \\rangle}$)\n",
    "\n",
    "    \n",
    "    \n",
    "    \n",
    "    \n",
    "\n",
    "\n",
    "\n",
    "- **train/test/dev_batch_size**: mini-batch size.\n",
    "    - train: portion of dataset used to train the model (i.e. adjust the weigths and biases).\n",
    "    - test: portion of dataset used to estimate the performance of the model.\n",
    "    <br><br>\n",
    "    \n",
    "\n",
    "<figure> \n",
    "<center><img src=\"./images/DatabaseSchema.jpeg\" style=\"height:220px;width:330px;\"></center>\n",
    "<caption><center><font color='whitesmoke'><b>Figure 1.</b> Mini-batch dataset geometry </font></center></caption>\n",
    "</figure>\n",
    "\n",
    "\n",
    "- **target_size:** number of classes.\n",
    "    - target_size = 1:\n",
    "        - Binary Classification: One output treated as probability of belonging to one class or the other (E.g. No-Fault = 0 | Fault = 1)\n",
    "    - target_size > 1:\n",
    "        - Multiclass: Multiple exclusive classes. Class with higher score represents predicted class. The sum of scores (using softmax) adds up 1.<br> (E.g. [No-fault, Fault, Caps], an output of values [0.07, 0.91, 0.2] represents a Fault class prediction)\n",
    "        - Multilabel: Multiple classes that are not mutually exclusive. Each position of output vector is a probability (using sigmoid).\n",
    "<br> (E.g. [$\\phi_A$, $\\phi_B$, $\\phi_C$], an output of values [0.95, 0.90, 0.01 ] represents faulted phases *A* and *B*, i.e. biphasic *AB* fault )\n",
    "\n",
    "\n",
    "\n",
    "\n"
   ]
  },
  {
   "cell_type": "code",
   "execution_count": 5,
   "metadata": {},
   "outputs": [
    {
     "name": "stdout",
     "output_type": "stream",
     "text": [
      "cpu\n"
     ]
    }
   ],
   "source": [
    "# LSTM parameters\n",
    "hidden_dim = 20\n",
    "n_signals = 1\n",
    "N = 64\n",
    "\n",
    "# _batch_size => m in figure 1.\n",
    "train_batch_size = 64\n",
    "dev_batch_size = 16\n",
    "test_batch_size = 16\n",
    "\n",
    "# Classification type (binary)\n",
    "tagset_size = 1\n",
    "\n",
    "# Set\n",
    "device = \"cuda\" if torch.cuda.is_available() else \"cpu\"\n",
    "print(device)\n"
   ]
  },
  {
   "attachments": {},
   "cell_type": "markdown",
   "metadata": {},
   "source": [
    "#### Model Creation\n",
    "\n",
    "The fault detector model consists of a block of *N* LSTM cells (figure 2.) in series. This block processes one training sample at a time (moving window). For each moving window, each cell processes a sample of the signal, and will pass context information sequentially to the next cell. This information will be passed in the hidden state $a^{\\langle t \\rangle}$  and the cell state $c^{\\langle t \\rangle}$. \n",
    "\n",
    "\n",
    "Each LSTM's input $x^{\\langle t \\rangle}$ is combined with it's previous hidden state $a^{\\langle t - 1 \\rangle}$. \n",
    "Each LSTM's cell state $c^{\\langle t \\rangle}$. will be inputed to the next LSTM $_{t + 1}$ . At each step $c^{\\langle t \\rangle}$ is updated to add _(remember)_ or delete _(forget)_ information.\n",
    "\n",
    "At each time step, $a^{\\langle t \\rangle}$ can be passed through a sigmoid function to obatain an output $\\hat{y}^{\\langle t \\rangle}$. However, this yields a many-to-many model. Since fault detection is made after processing _N_ input samples inside a moving window, only one label is needed per window (no-fault/fault) making it possible to approach the problem as binary classification. \n",
    "In other words, for each moving window, the prediction will be made at the last LSTM block cell, i.e. $\\hat{y}^{\\langle N-1 \\rangle}$.\n",
    "\n",
    "<br>\n",
    "\n",
    "\n",
    "<figure> \n",
    "<center><img src=\"./images/LSTM_cell.png\" style=\"width:500;height:400px;\" ></center>\n",
    "<caption><center><b>Figure 2.</b>LSTM cell</center></caption>\n",
    "</figure>\n",
    "\n",
    "\n",
    "##### WRITE MORE LSTM INFORMATION\n",
    "\n",
    "The LSTM block will be fed an input vector of dimension (m, N, s), where:\n",
    "\n",
    "            - m: mini-batch size.\n",
    "            - N: moving window size.\n",
    "            - s: signals _(n_signals)_\n",
    "        \n",
    "Pytorch **nn.Module** class will be used to create the FaultDetector LSTM detector class following the architecture shown in figure 3. The FaultDetector class includes the LSTM, linear and sigmoid blocks shown in the flow diagram. The linear + sigmoid blocks work as the classifier part of the model. The hidden activation $a^{\\langle N-1 \\rangle}$ _(lstm_out[:, -1, :])_ is passed through the classifier block to obtain $\\hat{y}^{\\langle N-1 \\rangle}$, with dimensions (m, 1).\n",
    "\n",
    "\n",
    "<figure> \n",
    "<center><img src=\"./images/LSTM_binary.jpeg\" style=\"width:700;height:600px;\"></center>\n",
    "<caption><center><b>Figure 3.</b>LSTM detector flow diagram</center></caption>\n",
    "</figure>\n"
   ]
  },
  {
   "cell_type": "code",
   "execution_count": 6,
   "metadata": {},
   "outputs": [
    {
     "name": "stdout",
     "output_type": "stream",
     "text": [
      "Model structure: FaultDetector(\n",
      "  (lstm): LSTM(1, 20, batch_first=True)\n",
      "  (fc): Linear(in_features=20, out_features=1, bias=True)\n",
      ")\n",
      "\n"
     ]
    }
   ],
   "source": [
    "# Model Creation\n",
    "\n",
    "\n",
    "class FaultDetector(nn.Module):\n",
    "    \"\"\"Some Information about FaultDetector\"\"\"\n",
    "\n",
    "    def __init__(self, N, hidden_dim, tagset_size):\n",
    "        super(FaultDetector, self).__init__()\n",
    "        self.lstm = nn.LSTM(N, hidden_dim, batch_first=True)\n",
    "        self.fc = nn.Linear(hidden_dim, tagset_size)\n",
    "\n",
    "    def forward(self, x):\n",
    "        lstm_out, _ = self.lstm(x)\n",
    "        fc_layer = self.fc(lstm_out[:, -1, :])\n",
    "\n",
    "        return torch.sigmoid(fc_layer)\n",
    "\n",
    "\n",
    "model = FaultDetector(n_signals, hidden_dim, tagset_size).to(device)\n",
    "loss_fn = nn.BCELoss()\n",
    "optimizer = torch.optim.Adam(model.parameters(), lr=1e-2)\n",
    "print(f\"Model structure: {model}\\n\")\n"
   ]
  },
  {
   "attachments": {},
   "cell_type": "markdown",
   "metadata": {},
   "source": [
    "#### Dataset Class "
   ]
  },
  {
   "cell_type": "code",
   "execution_count": 7,
   "metadata": {},
   "outputs": [],
   "source": [
    "from utils.signalload import CSV_pandas_path\n",
    "from utils.auxfunctions import moving_window\n",
    "import numpy as np\n",
    "from itertools import repeat\n",
    "\n",
    "\n",
    "class Form1Dataset(torch.utils.data.Dataset):\n",
    "    \"\"\"Some Information about Form1Dataset\"\"\"\n",
    "\n",
    "    def __init__(\n",
    "        self, dataset_dir, max_window_idx=193, window_length=64, step=1, test=False\n",
    "    ):\n",
    "        super(Form1Dataset, self).__init__()\n",
    "        self.max_window_idx = max_window_idx\n",
    "        self.test = test\n",
    "\n",
    "        self.csv_list = glob.glob(f\"{dataset_dir}*.csv\")\n",
    "        self.csv_amount = len(self.csv_list)\n",
    "        self.windows_amount = max_window_idx * self.csv_amount\n",
    "        self.window_length = window_length\n",
    "        self.step = 1\n",
    "\n",
    "    def __getitem__(self, index):\n",
    "\n",
    "        # sample_settings\n",
    "        window_length = self.window_length\n",
    "        step = self.step\n",
    "\n",
    "        # Calculate window_idx and file name\n",
    "        window_idx = index % self.max_window_idx\n",
    "        csv_idx = index // self.max_window_idx\n",
    "        csv_full_path = self.csv_list[csv_idx]\n",
    "\n",
    "        # Load CSV, signal and create windows\n",
    "        csv_name = os.path.basename(csv_full_path)\n",
    "        signal, t, _ = CSV_pandas_path(csv_full_path).load_data(\"I: X0023A-R1A\")\n",
    "        signal_windows, t_windows = list(\n",
    "            map(moving_window, [signal, t], repeat(window_length), repeat(step))\n",
    "        )\n",
    "\n",
    "        # select window\n",
    "\n",
    "        signal_window = signal_windows[window_idx]\n",
    "        signal_window = np.expand_dims(signal_window, axis=1)\n",
    "        t_window = t_windows[window_idx]\n",
    "\n",
    "        # create labels\n",
    "        if window_idx < 66:\n",
    "            label = np.array([0])\n",
    "        else:\n",
    "            label = np.array([1])\n",
    "\n",
    "        # For dataset visualization return following information\n",
    "        if self.test == True:\n",
    "            return signal_window, t_window, label, csv_name, index, window_idx\n",
    "\n",
    "        # For training only signals and labels are required\n",
    "        signal_window = torch.from_numpy(signal_window).float()\n",
    "        label = torch.from_numpy(label).float()\n",
    "        return signal_window, label\n",
    "\n",
    "    def __len__(self):\n",
    "        return self.csv_amount * self.max_window_idx\n"
   ]
  },
  {
   "cell_type": "code",
   "execution_count": 8,
   "metadata": {},
   "outputs": [],
   "source": [
    "# Creating Dataset\n",
    "dataset_dir = \"C:/Users/aherrada/OneDrive - Universidad del Norte/Uninorte/DetectionDataBase/LSTM_form_1_test/\"\n",
    "max_window_idx = 130\n",
    "dataset = Form1Dataset(dataset_dir, max_window_idx=max_window_idx)\n",
    "train_dataset, test_dataset, dev_dataset = random_split(dataset, [0.9, 0.09, 0.01])\n",
    "train_dataloader = DataLoader(train_dataset, batch_size=train_batch_size, shuffle=True)\n",
    "test_dataloader = DataLoader(test_dataset, batch_size=test_batch_size, shuffle=True)\n",
    "# EL test set realmente es un dev set\n",
    "# Como regla general, si es utilizado dentro del loop es un dev set.\n",
    "dev_dataloader = DataLoader(dev_dataset, batch_size=dev_batch_size, shuffle=True)\n"
   ]
  },
  {
   "cell_type": "code",
   "execution_count": 9,
   "metadata": {},
   "outputs": [],
   "source": [
    "# Create Training / Test / Validation Loops\n",
    "\n",
    "# Training\n",
    "def train(dataloader, model, loss_fn, optimizer):\n",
    "    size = len(dataloader.dataset)\n",
    "    model.train()\n",
    "    for batch, (x, y) in enumerate(dataloader):\n",
    "        x, y = x.to(device), y.to(device)\n",
    "\n",
    "        # Compute prediction error\n",
    "        pred = model(x)\n",
    "        loss = loss_fn(pred, y)\n",
    "\n",
    "        # Backpropagation\n",
    "        optimizer.zero_grad()\n",
    "        loss.backward()\n",
    "        optimizer.step()\n",
    "\n",
    "        if batch % 5 == 0:\n",
    "            loss, current = loss.item(), batch * len(x)\n",
    "            print(f\"loss: {loss:>f} [{current:>5d}/{size:>5d}]\")\n",
    "\n",
    "\n",
    "def test(dataloader, model, loss_fn):\n",
    "    size = len(dataloader.dataset)\n",
    "    num_batches = len(dataloader)\n",
    "    model.eval()\n",
    "    test_loss, correct = 0, 0\n",
    "    with torch.no_grad():\n",
    "        for x, y in dataloader:\n",
    "            x, y = x.to(device), y.to(device)\n",
    "            pred = model(x)\n",
    "            test_loss += loss_fn(pred, y).item()\n",
    "            correct += (torch.round(pred) == y).type(torch.float).sum().item()\n",
    "    test_loss /= num_batches\n",
    "    correct /= size\n",
    "    print(\n",
    "        f\"Test Error: \\n Accuracy: {(100*correct):>0.1f}%, Avg loss: {test_loss:>8f} \\n\"\n",
    "    )\n"
   ]
  },
  {
   "cell_type": "code",
   "execution_count": 632,
   "metadata": {},
   "outputs": [
    {
     "name": "stdout",
     "output_type": "stream",
     "text": [
      "Epoch 1\n",
      "--------------------------------\n",
      "loss: 0.709713 [    0/ 2340]\n",
      "loss: 0.591957 [  320/ 2340]\n",
      "loss: 0.448962 [  640/ 2340]\n",
      "loss: 0.416392 [  960/ 2340]\n",
      "loss: 0.364798 [ 1280/ 2340]\n",
      "loss: 0.289837 [ 1600/ 2340]\n",
      "loss: 0.209476 [ 1920/ 2340]\n",
      "loss: 0.209370 [ 2240/ 2340]\n",
      "Test Error: \n",
      " Accuracy: 94.0%, Avg loss: 0.195222 \n",
      "\n"
     ]
    }
   ],
   "source": [
    "epochs = 1\n",
    "for epoch in range(epochs):\n",
    "    print(f\"Epoch {epoch+1}\\n--------------------------------\")\n",
    "    train(train_dataloader, model, loss_fn, optimizer)\n",
    "    test(test_dataloader, model, loss_fn)"
   ]
  },
  {
   "cell_type": "code",
   "execution_count": 539,
   "metadata": {},
   "outputs": [],
   "source": [
    "# # Save the Model\n",
    "# # torch.save(model.state_dict(), './models/LSTMHarmonic_weights.pth')\n",
    "# model.load_state_dict(torch.load('./models/Formulacion_1.pth'))"
   ]
  },
  {
   "cell_type": "code",
   "execution_count": 12,
   "metadata": {},
   "outputs": [
    {
     "name": "stdout",
     "output_type": "stream",
     "text": [
      "    Pred probability  Pred label  True label          prueba\n",
      "0           0.505066           1           1   True positive\n",
      "1           0.495777           0           1  False negative\n",
      "2           0.475245           0           1  False negative\n",
      "3           0.479486           0           1  False negative\n",
      "4           0.463427           0           0   True negative\n",
      "5           0.478820           0           1  False negative\n",
      "6           0.495562           0           1  False negative\n",
      "7           0.463474           0           1  False negative\n",
      "8           0.463171           0           0   True negative\n",
      "9           0.507251           1           0  False positive\n",
      "10          0.510138           1           0  False positive\n",
      "11          0.473218           0           1  False negative\n",
      "12          0.482423           0           1  False negative\n",
      "13          0.496874           0           1  False negative\n",
      "14          0.473363           0           0   True negative\n",
      "15          0.502224           1           1   True positive\n"
     ]
    }
   ],
   "source": [
    "import pandas as pd\n",
    "\n",
    "dataset = Form1Dataset(dataset_dir, max_window_idx=max_window_idx)\n",
    "train_dataloader = DataLoader(dataset, batch_size=16, shuffle=True)\n",
    "dataiter = iter(train_dataloader)\n",
    "signal, labels = next(dataiter)\n",
    "\n",
    "x = model(signal.to(device))\n",
    "x = x.detach()\n",
    "\n",
    "data = {\n",
    "    \"Pred probability\": torch.reshape(x, (-1,)),\n",
    "    \"Pred label\": torch.reshape(torch.round(x), (-1,)).int(),\n",
    "    \"True label\": torch.reshape(labels, (-1,)).int(),\n",
    "}\n",
    "df = pd.DataFrame(data)\n",
    "\n",
    "df['prueba'] = confussion_matrix_pandas(df['Pred label'], df['True label'])\n",
    "\n",
    "print(df)\n"
   ]
  },
  {
   "cell_type": "code",
   "execution_count": 11,
   "metadata": {},
   "outputs": [],
   "source": [
    "# Data visualization \n",
    "\n",
    "def confussion_matrix(pred_label, true_label):\n",
    "    label = ''\n",
    "    if int(pred_label) == int(true_label):\n",
    "        label += 'True'\n",
    "    else:\n",
    "        label += 'False'\n",
    "    if pred_label == 1:\n",
    "        label += ' positive'\n",
    "    else:\n",
    "        label += ' negative'\n",
    "    return label\n",
    "\n",
    "confussion_matrix_pandas = np.vectorize(confussion_matrix)\n"
   ]
  },
  {
   "cell_type": "code",
   "execution_count": 17,
   "metadata": {},
   "outputs": [
    {
     "name": "stdout",
     "output_type": "stream",
     "text": [
      "tensor([[1., 1., 1., 0., 1., 0., 0., 1., 0.]])\n",
      "torch.Size([16, 64, 1])\n",
      "tensor([[0.4767, 0.4999, 0.4623, 0.5110, 0.5022, 0.5100, 0.5070, 0.4678, 0.4620]],\n",
      "       grad_fn=<ReshapeAliasBackward0>)\n",
      "tensor([[0., 0., 0., 1., 1., 1., 1., 0., 0.]], grad_fn=<ReshapeAliasBackward0>)\n"
     ]
    },
    {
     "data": {
      "image/png": "[encoded data removed]",
      "text/plain": [
       "<Figure size 1000x1000 with 9 Axes>"
      ]
     },
     "metadata": {},
     "output_type": "display_data"
    }
   ],
   "source": [
    "dataiter = iter(dev_dataloader)\n",
    "signal, labels = next(dataiter)\n",
    "fs = 3840\n",
    "t = np.linspace(0, N / fs, N)\n",
    "print(torch.reshape(labels[1:10], (1, -1)))\n",
    "print(signal.shape)\n",
    "figure = plt.figure(figsize=(10, 10))\n",
    "cols, rows = 3, 3\n",
    "for i in range(1, cols * rows + 1):\n",
    "    figure.add_subplot(rows, cols, i)\n",
    "    plt.plot(t, signal[i, :, 0])\n",
    "x = model(signal[1:10].to(device))\n",
    "print(torch.reshape(x, (1, -1)))\n",
    "print(torch.reshape(torch.round(x), (1, -1)))\n"
   ]
  },
  {
   "cell_type": "code",
   "execution_count": 47,
   "metadata": {},
   "outputs": [
    {
     "name": "stdout",
     "output_type": "stream",
     "text": [
      "tensor([[1., 0., 1., 0., 0., 1., 0., 0., 0.]])\n",
      "torch.Size([16, 64, 1])\n"
     ]
    },
    {
     "data": {
      "application/vnd.plotly.v1+json": {
       "config": {
        "plotlyServerURL": "https://plot.ly"
       },
       "data": [
        {
         "name": "0",
         "type": "scatter",
         "x": [
          0,
          0.00026455026455026457,
          0.0005291005291005291,
          0.0007936507936507937,
          0.0010582010582010583,
          0.001322751322751323,
          0.0015873015873015873,
          0.001851851851851852,
          0.0021164021164021165,
          0.002380952380952381,
          0.002645502645502646,
          0.0029100529100529104,
          0.0031746031746031746,
          0.0034391534391534392,
          0.003703703703703704,
          0.003968253968253969,
          0.004232804232804233,
          0.004497354497354497,
          0.004761904761904762,
          0.0050264550264550265,
          0.005291005291005292,
          0.005555555555555556,
          0.005820105820105821,
          0.006084656084656085,
          0.006349206349206349,
          0.006613756613756614,
          0.0068783068783068784,
          0.0071428571428571435,
          0.007407407407407408,
          0.007671957671957673,
          0.007936507936507938,
          0.008201058201058202,
          0.008465608465608466,
          0.00873015873015873,
          0.008994708994708995,
          0.00925925925925926,
          0.009523809523809525,
          0.009788359788359789,
          0.010052910052910053,
          0.010317460317460319,
          0.010582010582010583,
          0.010846560846560847,
          0.011111111111111112,
          0.011375661375661376,
          0.011640211640211642,
          0.011904761904761906,
          0.01216931216931217,
          0.012433862433862434,
          0.012698412698412698,
          0.012962962962962964,
          0.013227513227513229,
          0.013492063492063493,
          0.013756613756613757,
          0.014021164021164023,
          0.014285714285714287,
          0.014550264550264551,
          0.014814814814814815,
          0.01507936507936508,
          0.015343915343915345,
          0.01560846560846561,
          0.015873015873015876,
          0.016137566137566138,
          0.016402116402116404,
          0.016666666666666666
         ],
         "xaxis": "x",
         "y": [
          38.987701416015625,
          37.09991455078125,
          34.793785095214844,
          32.0739860534668,
          28.944873809814453,
          25.755809783935547,
          22.31926918029785,
          18.727140426635742,
          14.660308837890625,
          10.516668319702148,
          6.309928894042969,
          2.1988208293914795,
          -1.8920655250549316,
          -5.962470054626465,
          -10.173969268798828,
          -14.21222972869873,
          -18.167922973632812,
          -21.822734832763672,
          -25.38642692565918,
          -28.59959602355957,
          -31.661502838134766,
          -34.32270431518555,
          -36.76066970825195,
          -38.8410758972168,
          -40.48598098754883,
          -41.82320022583008,
          -42.66395568847656,
          -43.235740661621094,
          -43.328834533691406,
          -42.95372009277344,
          -42.06449508666992,
          -40.871944427490234,
          -39.29722213745117,
          -37.46982192993164,
          -35.225746154785156,
          -32.49455261230469,
          -29.393314361572266,
          -26.225072860717773,
          -22.751049041748047,
          -19.077468872070312,
          -14.991427421569824,
          -10.868997573852539,
          -6.745410919189453,
          -2.5754802227020264,
          1.5051175355911255,
          5.672478675842285,
          9.926843643188477,
          14.008341789245605,
          17.91934585571289,
          21.548555374145508,
          25.174713134765625,
          28.532888412475586,
          31.638856887817383,
          34.31710433959961,
          36.72906494140625,
          38.8565673828125,
          40.59416198730469,
          41.94657516479492,
          42.88212203979492,
          43.41551971435547,
          45.89741516113281,
          78.65337371826172,
          89.47926330566406,
          89.17481994628906
         ],
         "yaxis": "y"
        },
        {
         "name": "1",
         "type": "scatter",
         "x": [
          0,
          0.00026455026455026457,
          0.0005291005291005291,
          0.0007936507936507937,
          0.0010582010582010583,
          0.001322751322751323,
          0.0015873015873015873,
          0.001851851851851852,
          0.0021164021164021165,
          0.002380952380952381,
          0.002645502645502646,
          0.0029100529100529104,
          0.0031746031746031746,
          0.0034391534391534392,
          0.003703703703703704,
          0.003968253968253969,
          0.004232804232804233,
          0.004497354497354497,
          0.004761904761904762,
          0.0050264550264550265,
          0.005291005291005292,
          0.005555555555555556,
          0.005820105820105821,
          0.006084656084656085,
          0.006349206349206349,
          0.006613756613756614,
          0.0068783068783068784,
          0.0071428571428571435,
          0.007407407407407408,
          0.007671957671957673,
          0.007936507936507938,
          0.008201058201058202,
          0.008465608465608466,
          0.00873015873015873,
          0.008994708994708995,
          0.00925925925925926,
          0.009523809523809525,
          0.009788359788359789,
          0.010052910052910053,
          0.010317460317460319,
          0.010582010582010583,
          0.010846560846560847,
          0.011111111111111112,
          0.011375661375661376,
          0.011640211640211642,
          0.011904761904761906,
          0.01216931216931217,
          0.012433862433862434,
          0.012698412698412698,
          0.012962962962962964,
          0.013227513227513229,
          0.013492063492063493,
          0.013756613756613757,
          0.014021164021164023,
          0.014285714285714287,
          0.014550264550264551,
          0.014814814814814815,
          0.01507936507936508,
          0.015343915343915345,
          0.01560846560846561,
          0.015873015873015876,
          0.016137566137566138,
          0.016402116402116404,
          0.016666666666666666
         ],
         "xaxis": "x2",
         "y": [
          18.453411102294922,
          14.46506118774414,
          10.380038261413574,
          6.080406188964844,
          1.823045253753662,
          -2.31166672706604,
          -6.211129188537598,
          -10.299793243408203,
          -14.293874740600586,
          -18.38509750366211,
          -22.03252410888672,
          -25.643953323364258,
          -28.76263999938965,
          -31.742460250854492,
          -34.33576583862305,
          -36.81625747680664,
          -38.95258331298828,
          -40.632686614990234,
          -41.81248474121094,
          -42.68840789794922,
          -43.18088912963867,
          -43.36237716674805,
          -42.91817092895508,
          -42.032745361328125,
          -40.841407775878906,
          -39.20502471923828,
          -37.41936492919922,
          -35.117950439453125,
          -32.402313232421875,
          -29.249914169311523,
          -26.076148986816406,
          -22.63433837890625,
          -18.927019119262695,
          -14.791769981384277,
          -10.650796890258789,
          -6.5079755783081055,
          -2.3942553997039795,
          1.7605180740356445,
          5.9172797203063965,
          10.200369834899902,
          14.273004531860352,
          18.21150779724121,
          21.84759521484375,
          25.43720054626465,
          28.78084373474121,
          31.91507911682129,
          34.57609176635742,
          37.004600524902344,
          39.06043243408203,
          40.82416534423828,
          42.118167877197266,
          43.059661865234375,
          43.55215835571289,
          43.723480224609375,
          43.27971267700195,
          42.46068572998047,
          41.216758728027344,
          39.64320373535156,
          37.755836486816406,
          36.15929412841797,
          43.604862213134766,
          40.635498046875,
          32.624874114990234,
          25.72905158996582
         ],
         "yaxis": "y2"
        },
        {
         "name": "2",
         "type": "scatter",
         "x": [
          0,
          0.00026455026455026457,
          0.0005291005291005291,
          0.0007936507936507937,
          0.0010582010582010583,
          0.001322751322751323,
          0.0015873015873015873,
          0.001851851851851852,
          0.0021164021164021165,
          0.002380952380952381,
          0.002645502645502646,
          0.0029100529100529104,
          0.0031746031746031746,
          0.0034391534391534392,
          0.003703703703703704,
          0.003968253968253969,
          0.004232804232804233,
          0.004497354497354497,
          0.004761904761904762,
          0.0050264550264550265,
          0.005291005291005292,
          0.005555555555555556,
          0.005820105820105821,
          0.006084656084656085,
          0.006349206349206349,
          0.006613756613756614,
          0.0068783068783068784,
          0.0071428571428571435,
          0.007407407407407408,
          0.007671957671957673,
          0.007936507936507938,
          0.008201058201058202,
          0.008465608465608466,
          0.00873015873015873,
          0.008994708994708995,
          0.00925925925925926,
          0.009523809523809525,
          0.009788359788359789,
          0.010052910052910053,
          0.010317460317460319,
          0.010582010582010583,
          0.010846560846560847,
          0.011111111111111112,
          0.011375661375661376,
          0.011640211640211642,
          0.011904761904761906,
          0.01216931216931217,
          0.012433862433862434,
          0.012698412698412698,
          0.012962962962962964,
          0.013227513227513229,
          0.013492063492063493,
          0.013756613756613757,
          0.014021164021164023,
          0.014285714285714287,
          0.014550264550264551,
          0.014814814814814815,
          0.01507936507936508,
          0.015343915343915345,
          0.01560846560846561,
          0.015873015873015876,
          0.016137566137566138,
          0.016402116402116404,
          0.016666666666666666
         ],
         "xaxis": "x3",
         "y": [
          -15.665464401245117,
          -10.796722412109375,
          -6.099769592285156,
          -2.269141912460327,
          1.0440891981124878,
          4.469631195068359,
          8.876724243164062,
          13.769976615905762,
          18.15813446044922,
          21.57849884033203,
          24.45857810974121,
          27.413421630859375,
          30.70303726196289,
          33.82210159301758,
          36.57472610473633,
          38.54929733276367,
          39.91876983642578,
          41.047698974609375,
          42.19847106933594,
          42.969112396240234,
          43.33685302734375,
          42.76248550415039,
          42.091739654541016,
          40.81682205200195,
          39.40245056152344,
          37.461551666259766,
          35.46786880493164,
          32.868289947509766,
          29.920915603637695,
          26.60099983215332,
          23.25400161743164,
          19.5654354095459,
          15.673093795776367,
          11.525737762451172,
          7.56482458114624,
          3.3867321014404297,
          -0.7240427136421204,
          -4.99867582321167,
          -9.160435676574707,
          -13.230140686035156,
          -17.017614364624023,
          -20.75002670288086,
          -24.325607299804688,
          -27.85588264465332,
          -30.95656967163086,
          -33.70954132080078,
          -36.019657135009766,
          -38.254695892333984,
          -40.07896041870117,
          -41.55199432373047,
          -42.54715347290039,
          -43.07931900024414,
          -43.40454864501953,
          -43.056739807128906,
          -42.436771392822266,
          -41.287906646728516,
          -39.8050537109375,
          -37.972904205322266,
          -35.91123962402344,
          -33.331111907958984,
          -30.385766983032227,
          -27.096712112426758,
          -23.744081497192383,
          -20.082521438598633
         ],
         "yaxis": "y3"
        },
        {
         "name": "3",
         "type": "scatter",
         "x": [
          0,
          0.00026455026455026457,
          0.0005291005291005291,
          0.0007936507936507937,
          0.0010582010582010583,
          0.001322751322751323,
          0.0015873015873015873,
          0.001851851851851852,
          0.0021164021164021165,
          0.002380952380952381,
          0.002645502645502646,
          0.0029100529100529104,
          0.0031746031746031746,
          0.0034391534391534392,
          0.003703703703703704,
          0.003968253968253969,
          0.004232804232804233,
          0.004497354497354497,
          0.004761904761904762,
          0.0050264550264550265,
          0.005291005291005292,
          0.005555555555555556,
          0.005820105820105821,
          0.006084656084656085,
          0.006349206349206349,
          0.006613756613756614,
          0.0068783068783068784,
          0.0071428571428571435,
          0.007407407407407408,
          0.007671957671957673,
          0.007936507936507938,
          0.008201058201058202,
          0.008465608465608466,
          0.00873015873015873,
          0.008994708994708995,
          0.00925925925925926,
          0.009523809523809525,
          0.009788359788359789,
          0.010052910052910053,
          0.010317460317460319,
          0.010582010582010583,
          0.010846560846560847,
          0.011111111111111112,
          0.011375661375661376,
          0.011640211640211642,
          0.011904761904761906,
          0.01216931216931217,
          0.012433862433862434,
          0.012698412698412698,
          0.012962962962962964,
          0.013227513227513229,
          0.013492063492063493,
          0.013756613756613757,
          0.014021164021164023,
          0.014285714285714287,
          0.014550264550264551,
          0.014814814814814815,
          0.01507936507936508,
          0.015343915343915345,
          0.01560846560846561,
          0.015873015873015876,
          0.016137566137566138,
          0.016402116402116404,
          0.016666666666666666
         ],
         "xaxis": "x4",
         "y": [
          40.59416198730469,
          41.94657516479492,
          42.88212203979492,
          43.41551971435547,
          45.89741516113281,
          78.65337371826172,
          89.47926330566406,
          89.17481994628906,
          94.98900604248047,
          83.59646606445312,
          76.25242614746094,
          77.41837310791016,
          63.09820556640625,
          47.91986083984375,
          37.173851013183594,
          23.666912078857422,
          10.847944259643555,
          -2.89585280418396,
          -22.478614807128906,
          -36.38554763793945,
          -47.872398376464844,
          -63.570682525634766,
          -79.31668090820312,
          -92.33672332763672,
          -103.91883850097656,
          -112.9995346069336,
          -123.61869812011719,
          -134.9710693359375,
          -141.92784118652344,
          -146.38284301757812,
          -151.68759155273438,
          -155.230712890625,
          -158.05445861816406,
          -157.2598419189453,
          -154.40541076660156,
          -151.45541381835938,
          -148.53472900390625,
          -142.47909545898438,
          -135.1562042236328,
          -125.17787170410156,
          -115.61019897460938,
          -105.0680923461914,
          -93.38700103759766,
          -79.96778106689453,
          -66.44795227050781,
          -51.869937896728516,
          -37.36749267578125,
          -21.94171905517578,
          -6.5674943923950195,
          8.848097801208496,
          24.421878814697266,
          40.05390930175781,
          55.30259323120117,
          70.10014343261719,
          83.92455291748047,
          97.07050323486328,
          109.4978256225586,
          120.89803314208984,
          131.2326202392578,
          139.98367309570312,
          147.432861328125,
          153.64695739746094,
          158.3820037841797,
          161.6024627685547
         ],
         "yaxis": "y4"
        },
        {
         "name": "4",
         "type": "scatter",
         "x": [
          0,
          0.00026455026455026457,
          0.0005291005291005291,
          0.0007936507936507937,
          0.0010582010582010583,
          0.001322751322751323,
          0.0015873015873015873,
          0.001851851851851852,
          0.0021164021164021165,
          0.002380952380952381,
          0.002645502645502646,
          0.0029100529100529104,
          0.0031746031746031746,
          0.0034391534391534392,
          0.003703703703703704,
          0.003968253968253969,
          0.004232804232804233,
          0.004497354497354497,
          0.004761904761904762,
          0.0050264550264550265,
          0.005291005291005292,
          0.005555555555555556,
          0.005820105820105821,
          0.006084656084656085,
          0.006349206349206349,
          0.006613756613756614,
          0.0068783068783068784,
          0.0071428571428571435,
          0.007407407407407408,
          0.007671957671957673,
          0.007936507936507938,
          0.008201058201058202,
          0.008465608465608466,
          0.00873015873015873,
          0.008994708994708995,
          0.00925925925925926,
          0.009523809523809525,
          0.009788359788359789,
          0.010052910052910053,
          0.010317460317460319,
          0.010582010582010583,
          0.010846560846560847,
          0.011111111111111112,
          0.011375661375661376,
          0.011640211640211642,
          0.011904761904761906,
          0.01216931216931217,
          0.012433862433862434,
          0.012698412698412698,
          0.012962962962962964,
          0.013227513227513229,
          0.013492063492063493,
          0.013756613756613757,
          0.014021164021164023,
          0.014285714285714287,
          0.014550264550264551,
          0.014814814814814815,
          0.01507936507936508,
          0.015343915343915345,
          0.01560846560846561,
          0.015873015873015876,
          0.016137566137566138,
          0.016402116402116404,
          0.016666666666666666
         ],
         "xaxis": "x5",
         "y": [
          -43.35721206665039,
          -43.10017013549805,
          -42.52531433105469,
          -41.755794525146484,
          -40.84925079345703,
          -39.68927764892578,
          -38.16001892089844,
          -35.50634002685547,
          -32.05381774902344,
          -28.582103729248047,
          -25.928916931152344,
          -23.36356544494629,
          -20.13323211669922,
          -15.665464401245117,
          -10.796722412109375,
          -6.099769592285156,
          -2.269141912460327,
          1.0440891981124878,
          4.469631195068359,
          8.876724243164062,
          13.769976615905762,
          18.15813446044922,
          21.57849884033203,
          24.45857810974121,
          27.413421630859375,
          30.70303726196289,
          33.82210159301758,
          36.57472610473633,
          38.54929733276367,
          39.91876983642578,
          41.047698974609375,
          42.19847106933594,
          42.969112396240234,
          43.33685302734375,
          42.76248550415039,
          42.091739654541016,
          40.81682205200195,
          39.40245056152344,
          37.461551666259766,
          35.46786880493164,
          32.868289947509766,
          29.920915603637695,
          26.60099983215332,
          23.25400161743164,
          19.5654354095459,
          15.673093795776367,
          11.525737762451172,
          7.56482458114624,
          3.3867321014404297,
          -0.7240427136421204,
          -4.99867582321167,
          -9.160435676574707,
          -13.230140686035156,
          -17.017614364624023,
          -20.75002670288086,
          -24.325607299804688,
          -27.85588264465332,
          -30.95656967163086,
          -33.70954132080078,
          -36.019657135009766,
          -38.254695892333984,
          -40.07896041870117,
          -41.55199432373047,
          -42.54715347290039
         ],
         "yaxis": "y5"
        },
        {
         "name": "5",
         "type": "scatter",
         "x": [
          0,
          0.00026455026455026457,
          0.0005291005291005291,
          0.0007936507936507937,
          0.0010582010582010583,
          0.001322751322751323,
          0.0015873015873015873,
          0.001851851851851852,
          0.0021164021164021165,
          0.002380952380952381,
          0.002645502645502646,
          0.0029100529100529104,
          0.0031746031746031746,
          0.0034391534391534392,
          0.003703703703703704,
          0.003968253968253969,
          0.004232804232804233,
          0.004497354497354497,
          0.004761904761904762,
          0.0050264550264550265,
          0.005291005291005292,
          0.005555555555555556,
          0.005820105820105821,
          0.006084656084656085,
          0.006349206349206349,
          0.006613756613756614,
          0.0068783068783068784,
          0.0071428571428571435,
          0.007407407407407408,
          0.007671957671957673,
          0.007936507936507938,
          0.008201058201058202,
          0.008465608465608466,
          0.00873015873015873,
          0.008994708994708995,
          0.00925925925925926,
          0.009523809523809525,
          0.009788359788359789,
          0.010052910052910053,
          0.010317460317460319,
          0.010582010582010583,
          0.010846560846560847,
          0.011111111111111112,
          0.011375661375661376,
          0.011640211640211642,
          0.011904761904761906,
          0.01216931216931217,
          0.012433862433862434,
          0.012698412698412698,
          0.012962962962962964,
          0.013227513227513229,
          0.013492063492063493,
          0.013756613756613757,
          0.014021164021164023,
          0.014285714285714287,
          0.014550264550264551,
          0.014814814814814815,
          0.01507936507936508,
          0.015343915343915345,
          0.01560846560846561,
          0.015873015873015876,
          0.016137566137566138,
          0.016402116402116404,
          0.016666666666666666
         ],
         "xaxis": "x6",
         "y": [
          -15.802816390991211,
          -11.822829246520996,
          -8.50244140625,
          -5.124798774719238,
          -1.0421775579452515,
          3.7472879886627197,
          8.780932426452637,
          12.993823051452637,
          16.329195022583008,
          19.229223251342773,
          22.737144470214844,
          26.852664947509766,
          30.668466567993164,
          33.43711471557617,
          35.47640609741211,
          37.238731384277344,
          39.265262603759766,
          41.00777053833008,
          42.40327453613281,
          43.01538848876953,
          43.1822624206543,
          42.86970520019531,
          42.3792724609375,
          41.33431625366211,
          40.00882339477539,
          38.151206970214844,
          36.38092041015625,
          33.94397735595703,
          31.059730529785156,
          27.57510757446289,
          24.30753517150879,
          20.85038185119629,
          17.18656349182129,
          13.152830123901367,
          9.071349143981934,
          4.729678153991699,
          0.5251809358596802,
          -3.6397690773010254,
          -7.557199001312256,
          -11.61563777923584,
          -15.52745246887207,
          -19.563562393188477,
          -23.183530807495117,
          -26.72199058532715,
          -29.780607223510742,
          -32.591243743896484,
          -35.12576675415039,
          -37.51225280761719,
          -39.52467346191406,
          -41.105018615722656,
          -42.11155700683594,
          -42.89277267456055,
          -43.26294708251953,
          -43.24488067626953,
          -42.69525909423828,
          -41.67131042480469,
          -40.385379791259766,
          -38.6171989440918,
          -36.75910949707031,
          -34.302616119384766,
          -31.45474624633789,
          -28.22616958618164,
          -24.97287940979004,
          -21.510765075683594
         ],
         "yaxis": "y6"
        },
        {
         "name": "6",
         "type": "scatter",
         "x": [
          0,
          0.00026455026455026457,
          0.0005291005291005291,
          0.0007936507936507937,
          0.0010582010582010583,
          0.001322751322751323,
          0.0015873015873015873,
          0.001851851851851852,
          0.0021164021164021165,
          0.002380952380952381,
          0.002645502645502646,
          0.0029100529100529104,
          0.0031746031746031746,
          0.0034391534391534392,
          0.003703703703703704,
          0.003968253968253969,
          0.004232804232804233,
          0.004497354497354497,
          0.004761904761904762,
          0.0050264550264550265,
          0.005291005291005292,
          0.005555555555555556,
          0.005820105820105821,
          0.006084656084656085,
          0.006349206349206349,
          0.006613756613756614,
          0.0068783068783068784,
          0.0071428571428571435,
          0.007407407407407408,
          0.007671957671957673,
          0.007936507936507938,
          0.008201058201058202,
          0.008465608465608466,
          0.00873015873015873,
          0.008994708994708995,
          0.00925925925925926,
          0.009523809523809525,
          0.009788359788359789,
          0.010052910052910053,
          0.010317460317460319,
          0.010582010582010583,
          0.010846560846560847,
          0.011111111111111112,
          0.011375661375661376,
          0.011640211640211642,
          0.011904761904761906,
          0.01216931216931217,
          0.012433862433862434,
          0.012698412698412698,
          0.012962962962962964,
          0.013227513227513229,
          0.013492063492063493,
          0.013756613756613757,
          0.014021164021164023,
          0.014285714285714287,
          0.014550264550264551,
          0.014814814814814815,
          0.01507936507936508,
          0.015343915343915345,
          0.01560846560846561,
          0.015873015873015876,
          0.016137566137566138,
          0.016402116402116404,
          0.016666666666666666
         ],
         "xaxis": "x7",
         "y": [
          37.004600524902344,
          39.06043243408203,
          40.82416534423828,
          42.118167877197266,
          43.059661865234375,
          43.55215835571289,
          43.723480224609375,
          43.27971267700195,
          42.46068572998047,
          41.216758728027344,
          39.64320373535156,
          37.755836486816406,
          36.15929412841797,
          43.604862213134766,
          40.635498046875,
          32.624874114990234,
          25.72905158996582,
          12.883580207824707,
          0.5053224563598633,
          -8.354029655456543,
          -23.742713928222656,
          -39.1029167175293,
          -51.39140701293945,
          -64.47298431396484,
          -77.44389343261719,
          -89.62843322753906,
          -103.06539916992188,
          -113.2461166381836,
          -121.51016235351562,
          -130.80104064941406,
          -138.75291442871094,
          -144.50753784179688,
          -148.7356414794922,
          -151.2041473388672,
          -153.36624145507812,
          -154.2064208984375,
          -152.1100311279297,
          -148.41070556640625,
          -144.19375610351562,
          -138.82066345214844,
          -131.92086791992188,
          -122.87763977050781,
          -112.65567779541016,
          -102.01580810546875,
          -90.73193359375,
          -78.1082763671875,
          -64.57615661621094,
          -50.2124137878418,
          -35.83139419555664,
          -21.028295516967773,
          -5.822740077972412,
          9.68628215789795,
          24.98685073852539,
          40.07194519042969,
          54.853458404541016,
          69.52790832519531,
          83.49347686767578,
          96.47956085205078,
          108.51985168457031,
          119.68104553222656,
          129.90989685058594,
          138.79249572753906,
          146.17835998535156,
          152.171630859375
         ],
         "yaxis": "y7"
        },
        {
         "name": "7",
         "type": "scatter",
         "x": [
          0,
          0.00026455026455026457,
          0.0005291005291005291,
          0.0007936507936507937,
          0.0010582010582010583,
          0.001322751322751323,
          0.0015873015873015873,
          0.001851851851851852,
          0.0021164021164021165,
          0.002380952380952381,
          0.002645502645502646,
          0.0029100529100529104,
          0.0031746031746031746,
          0.0034391534391534392,
          0.003703703703703704,
          0.003968253968253969,
          0.004232804232804233,
          0.004497354497354497,
          0.004761904761904762,
          0.0050264550264550265,
          0.005291005291005292,
          0.005555555555555556,
          0.005820105820105821,
          0.006084656084656085,
          0.006349206349206349,
          0.006613756613756614,
          0.0068783068783068784,
          0.0071428571428571435,
          0.007407407407407408,
          0.007671957671957673,
          0.007936507936507938,
          0.008201058201058202,
          0.008465608465608466,
          0.00873015873015873,
          0.008994708994708995,
          0.00925925925925926,
          0.009523809523809525,
          0.009788359788359789,
          0.010052910052910053,
          0.010317460317460319,
          0.010582010582010583,
          0.010846560846560847,
          0.011111111111111112,
          0.011375661375661376,
          0.011640211640211642,
          0.011904761904761906,
          0.01216931216931217,
          0.012433862433862434,
          0.012698412698412698,
          0.012962962962962964,
          0.013227513227513229,
          0.013492063492063493,
          0.013756613756613757,
          0.014021164021164023,
          0.014285714285714287,
          0.014550264550264551,
          0.014814814814814815,
          0.01507936507936508,
          0.015343915343915345,
          0.01560846560846561,
          0.015873015873015876,
          0.016137566137566138,
          0.016402116402116404,
          0.016666666666666666
         ],
         "xaxis": "x8",
         "y": [
          -21.58526611328125,
          -17.494569778442383,
          -13.212136268615723,
          -8.91309928894043,
          -5.073626518249512,
          -1.16751229763031,
          2.684182643890381,
          7.006639003753662,
          11.352550506591797,
          15.518204689025879,
          19.11285400390625,
          22.515470504760742,
          25.736581802368164,
          29.173938751220703,
          32.13590621948242,
          34.884639739990234,
          36.953433990478516,
          38.873565673828125,
          40.305118560791016,
          41.62789535522461,
          42.419105529785156,
          42.91656494140625,
          42.76731872558594,
          42.25437927246094,
          41.30095291137695,
          40.03605651855469,
          38.400142669677734,
          36.47568893432617,
          34.188629150390625,
          31.33485221862793,
          28.24814796447754,
          24.980995178222656,
          21.577590942382812,
          17.701885223388672,
          13.687748908996582,
          9.558145523071289,
          5.553414821624756,
          1.398159146308899,
          -2.690833806991577,
          -6.92091178894043,
          -11.046422958374023,
          -15.043030738830566,
          -18.786640167236328,
          -22.43793296813965,
          -25.90340805053711,
          -29.278268814086914,
          -32.14964294433594,
          -34.768341064453125,
          -36.98617172241211,
          -39.042579650878906,
          -40.63820266723633,
          -41.89564895629883,
          -42.63764953613281,
          -43.108192443847656,
          -43.0580940246582,
          -42.63258361816406,
          -41.659523010253906,
          -40.37465286254883,
          -38.70738220214844,
          -36.841190338134766,
          -34.57421875,
          -31.729150772094727,
          -28.578046798706055,
          -25.311479568481445
         ],
         "yaxis": "y8"
        },
        {
         "name": "8",
         "type": "scatter",
         "x": [
          0,
          0.00026455026455026457,
          0.0005291005291005291,
          0.0007936507936507937,
          0.0010582010582010583,
          0.001322751322751323,
          0.0015873015873015873,
          0.001851851851851852,
          0.0021164021164021165,
          0.002380952380952381,
          0.002645502645502646,
          0.0029100529100529104,
          0.0031746031746031746,
          0.0034391534391534392,
          0.003703703703703704,
          0.003968253968253969,
          0.004232804232804233,
          0.004497354497354497,
          0.004761904761904762,
          0.0050264550264550265,
          0.005291005291005292,
          0.005555555555555556,
          0.005820105820105821,
          0.006084656084656085,
          0.006349206349206349,
          0.006613756613756614,
          0.0068783068783068784,
          0.0071428571428571435,
          0.007407407407407408,
          0.007671957671957673,
          0.007936507936507938,
          0.008201058201058202,
          0.008465608465608466,
          0.00873015873015873,
          0.008994708994708995,
          0.00925925925925926,
          0.009523809523809525,
          0.009788359788359789,
          0.010052910052910053,
          0.010317460317460319,
          0.010582010582010583,
          0.010846560846560847,
          0.011111111111111112,
          0.011375661375661376,
          0.011640211640211642,
          0.011904761904761906,
          0.01216931216931217,
          0.012433862433862434,
          0.012698412698412698,
          0.012962962962962964,
          0.013227513227513229,
          0.013492063492063493,
          0.013756613756613757,
          0.014021164021164023,
          0.014285714285714287,
          0.014550264550264551,
          0.014814814814814815,
          0.01507936507936508,
          0.015343915343915345,
          0.01560846560846561,
          0.015873015873015876,
          0.016137566137566138,
          0.016402116402116404,
          0.016666666666666666
         ],
         "xaxis": "x9",
         "y": [
          -33.09280776977539,
          -30.811538696289062,
          -28.39421844482422,
          -24.84705924987793,
          -20.5671329498291,
          -15.802816390991211,
          -11.822829246520996,
          -8.50244140625,
          -5.124798774719238,
          -1.0421775579452515,
          3.7472879886627197,
          8.780932426452637,
          12.993823051452637,
          16.329195022583008,
          19.229223251342773,
          22.737144470214844,
          26.852664947509766,
          30.668466567993164,
          33.43711471557617,
          35.47640609741211,
          37.238731384277344,
          39.265262603759766,
          41.00777053833008,
          42.40327453613281,
          43.01538848876953,
          43.1822624206543,
          42.86970520019531,
          42.3792724609375,
          41.33431625366211,
          40.00882339477539,
          38.151206970214844,
          36.38092041015625,
          33.94397735595703,
          31.059730529785156,
          27.57510757446289,
          24.30753517150879,
          20.85038185119629,
          17.18656349182129,
          13.152830123901367,
          9.071349143981934,
          4.729678153991699,
          0.5251809358596802,
          -3.6397690773010254,
          -7.557199001312256,
          -11.61563777923584,
          -15.52745246887207,
          -19.563562393188477,
          -23.183530807495117,
          -26.72199058532715,
          -29.780607223510742,
          -32.591243743896484,
          -35.12576675415039,
          -37.51225280761719,
          -39.52467346191406,
          -41.105018615722656,
          -42.11155700683594,
          -42.89277267456055,
          -43.26294708251953,
          -43.24488067626953,
          -42.69525909423828,
          -41.67131042480469,
          -40.385379791259766,
          -38.6171989440918,
          -36.75910949707031
         ],
         "yaxis": "y9"
        }
       ],
       "layout": {
        "height": 700,
        "margin": {
         "b": 20,
         "l": 20,
         "r": 30,
         "t": 40
        },
        "template": {
         "data": {
          "bar": [
           {
            "error_x": {
             "color": "#2a3f5f"
            },
            "error_y": {
             "color": "#2a3f5f"
            },
            "marker": {
             "line": {
              "color": "#E5ECF6",
              "width": 0.5
             },
             "pattern": {
              "fillmode": "overlay",
              "size": 10,
              "solidity": 0.2
             }
            },
            "type": "bar"
           }
          ],
          "barpolar": [
           {
            "marker": {
             "line": {
              "color": "#E5ECF6",
              "width": 0.5
             },
             "pattern": {
              "fillmode": "overlay",
              "size": 10,
              "solidity": 0.2
             }
            },
            "type": "barpolar"
           }
          ],
          "carpet": [
           {
            "aaxis": {
             "endlinecolor": "#2a3f5f",
             "gridcolor": "white",
             "linecolor": "white",
             "minorgridcolor": "white",
             "startlinecolor": "#2a3f5f"
            },
            "baxis": {
             "endlinecolor": "#2a3f5f",
             "gridcolor": "white",
             "linecolor": "white",
             "minorgridcolor": "white",
             "startlinecolor": "#2a3f5f"
            },
            "type": "carpet"
           }
          ],
          "choropleth": [
           {
            "colorbar": {
             "outlinewidth": 0,
             "ticks": ""
            },
            "type": "choropleth"
           }
          ],
          "contour": [
           {
            "colorbar": {
             "outlinewidth": 0,
             "ticks": ""
            },
            "colorscale": [
             [
              0,
              "#0d0887"
             ],
             [
              0.1111111111111111,
              "#46039f"
             ],
             [
              0.2222222222222222,
              "#7201a8"
             ],
             [
              0.3333333333333333,
              "#9c179e"
             ],
             [
              0.4444444444444444,
              "#bd3786"
             ],
             [
              0.5555555555555556,
              "#d8576b"
             ],
             [
              0.6666666666666666,
              "#ed7953"
             ],
             [
              0.7777777777777778,
              "#fb9f3a"
             ],
             [
              0.8888888888888888,
              "#fdca26"
             ],
             [
              1,
              "#f0f921"
             ]
            ],
            "type": "contour"
           }
          ],
          "contourcarpet": [
           {
            "colorbar": {
             "outlinewidth": 0,
             "ticks": ""
            },
            "type": "contourcarpet"
           }
          ],
          "heatmap": [
           {
            "colorbar": {
             "outlinewidth": 0,
             "ticks": ""
            },
            "colorscale": [
             [
              0,
              "#0d0887"
             ],
             [
              0.1111111111111111,
              "#46039f"
             ],
             [
              0.2222222222222222,
              "#7201a8"
             ],
             [
              0.3333333333333333,
              "#9c179e"
             ],
             [
              0.4444444444444444,
              "#bd3786"
             ],
             [
              0.5555555555555556,
              "#d8576b"
             ],
             [
              0.6666666666666666,
              "#ed7953"
             ],
             [
              0.7777777777777778,
              "#fb9f3a"
             ],
             [
              0.8888888888888888,
              "#fdca26"
             ],
             [
              1,
              "#f0f921"
             ]
            ],
            "type": "heatmap"
           }
          ],
          "heatmapgl": [
           {
            "colorbar": {
             "outlinewidth": 0,
             "ticks": ""
            },
            "colorscale": [
             [
              0,
              "#0d0887"
             ],
             [
              0.1111111111111111,
              "#46039f"
             ],
             [
              0.2222222222222222,
              "#7201a8"
             ],
             [
              0.3333333333333333,
              "#9c179e"
             ],
             [
              0.4444444444444444,
              "#bd3786"
             ],
             [
              0.5555555555555556,
              "#d8576b"
             ],
             [
              0.6666666666666666,
              "#ed7953"
             ],
             [
              0.7777777777777778,
              "#fb9f3a"
             ],
             [
              0.8888888888888888,
              "#fdca26"
             ],
             [
              1,
              "#f0f921"
             ]
            ],
            "type": "heatmapgl"
           }
          ],
          "histogram": [
           {
            "marker": {
             "pattern": {
              "fillmode": "overlay",
              "size": 10,
              "solidity": 0.2
             }
            },
            "type": "histogram"
           }
          ],
          "histogram2d": [
           {
            "colorbar": {
             "outlinewidth": 0,
             "ticks": ""
            },
            "colorscale": [
             [
              0,
              "#0d0887"
             ],
             [
              0.1111111111111111,
              "#46039f"
             ],
             [
              0.2222222222222222,
              "#7201a8"
             ],
             [
              0.3333333333333333,
              "#9c179e"
             ],
             [
              0.4444444444444444,
              "#bd3786"
             ],
             [
              0.5555555555555556,
              "#d8576b"
             ],
             [
              0.6666666666666666,
              "#ed7953"
             ],
             [
              0.7777777777777778,
              "#fb9f3a"
             ],
             [
              0.8888888888888888,
              "#fdca26"
             ],
             [
              1,
              "#f0f921"
             ]
            ],
            "type": "histogram2d"
           }
          ],
          "histogram2dcontour": [
           {
            "colorbar": {
             "outlinewidth": 0,
             "ticks": ""
            },
            "colorscale": [
             [
              0,
              "#0d0887"
             ],
             [
              0.1111111111111111,
              "#46039f"
             ],
             [
              0.2222222222222222,
              "#7201a8"
             ],
             [
              0.3333333333333333,
              "#9c179e"
             ],
             [
              0.4444444444444444,
              "#bd3786"
             ],
             [
              0.5555555555555556,
              "#d8576b"
             ],
             [
              0.6666666666666666,
              "#ed7953"
             ],
             [
              0.7777777777777778,
              "#fb9f3a"
             ],
             [
              0.8888888888888888,
              "#fdca26"
             ],
             [
              1,
              "#f0f921"
             ]
            ],
            "type": "histogram2dcontour"
           }
          ],
          "mesh3d": [
           {
            "colorbar": {
             "outlinewidth": 0,
             "ticks": ""
            },
            "type": "mesh3d"
           }
          ],
          "parcoords": [
           {
            "line": {
             "colorbar": {
              "outlinewidth": 0,
              "ticks": ""
             }
            },
            "type": "parcoords"
           }
          ],
          "pie": [
           {
            "automargin": true,
            "type": "pie"
           }
          ],
          "scatter": [
           {
            "fillpattern": {
             "fillmode": "overlay",
             "size": 10,
             "solidity": 0.2
            },
            "type": "scatter"
           }
          ],
          "scatter3d": [
           {
            "line": {
             "colorbar": {
              "outlinewidth": 0,
              "ticks": ""
             }
            },
            "marker": {
             "colorbar": {
              "outlinewidth": 0,
              "ticks": ""
             }
            },
            "type": "scatter3d"
           }
          ],
          "scattercarpet": [
           {
            "marker": {
             "colorbar": {
              "outlinewidth": 0,
              "ticks": ""
             }
            },
            "type": "scattercarpet"
           }
          ],
          "scattergeo": [
           {
            "marker": {
             "colorbar": {
              "outlinewidth": 0,
              "ticks": ""
             }
            },
            "type": "scattergeo"
           }
          ],
          "scattergl": [
           {
            "marker": {
             "colorbar": {
              "outlinewidth": 0,
              "ticks": ""
             }
            },
            "type": "scattergl"
           }
          ],
          "scattermapbox": [
           {
            "marker": {
             "colorbar": {
              "outlinewidth": 0,
              "ticks": ""
             }
            },
            "type": "scattermapbox"
           }
          ],
          "scatterpolar": [
           {
            "marker": {
             "colorbar": {
              "outlinewidth": 0,
              "ticks": ""
             }
            },
            "type": "scatterpolar"
           }
          ],
          "scatterpolargl": [
           {
            "marker": {
             "colorbar": {
              "outlinewidth": 0,
              "ticks": ""
             }
            },
            "type": "scatterpolargl"
           }
          ],
          "scatterternary": [
           {
            "marker": {
             "colorbar": {
              "outlinewidth": 0,
              "ticks": ""
             }
            },
            "type": "scatterternary"
           }
          ],
          "surface": [
           {
            "colorbar": {
             "outlinewidth": 0,
             "ticks": ""
            },
            "colorscale": [
             [
              0,
              "#0d0887"
             ],
             [
              0.1111111111111111,
              "#46039f"
             ],
             [
              0.2222222222222222,
              "#7201a8"
             ],
             [
              0.3333333333333333,
              "#9c179e"
             ],
             [
              0.4444444444444444,
              "#bd3786"
             ],
             [
              0.5555555555555556,
              "#d8576b"
             ],
             [
              0.6666666666666666,
              "#ed7953"
             ],
             [
              0.7777777777777778,
              "#fb9f3a"
             ],
             [
              0.8888888888888888,
              "#fdca26"
             ],
             [
              1,
              "#f0f921"
             ]
            ],
            "type": "surface"
           }
          ],
          "table": [
           {
            "cells": {
             "fill": {
              "color": "#EBF0F8"
             },
             "line": {
              "color": "white"
             }
            },
            "header": {
             "fill": {
              "color": "#C8D4E3"
             },
             "line": {
              "color": "white"
             }
            },
            "type": "table"
           }
          ]
         },
         "layout": {
          "annotationdefaults": {
           "arrowcolor": "#2a3f5f",
           "arrowhead": 0,
           "arrowwidth": 1
          },
          "autotypenumbers": "strict",
          "coloraxis": {
           "colorbar": {
            "outlinewidth": 0,
            "ticks": ""
           }
          },
          "colorscale": {
           "diverging": [
            [
             0,
             "#8e0152"
            ],
            [
             0.1,
             "#c51b7d"
            ],
            [
             0.2,
             "#de77ae"
            ],
            [
             0.3,
             "#f1b6da"
            ],
            [
             0.4,
             "#fde0ef"
            ],
            [
             0.5,
             "#f7f7f7"
            ],
            [
             0.6,
             "#e6f5d0"
            ],
            [
             0.7,
             "#b8e186"
            ],
            [
             0.8,
             "#7fbc41"
            ],
            [
             0.9,
             "#4d9221"
            ],
            [
             1,
             "#276419"
            ]
           ],
           "sequential": [
            [
             0,
             "#0d0887"
            ],
            [
             0.1111111111111111,
             "#46039f"
            ],
            [
             0.2222222222222222,
             "#7201a8"
            ],
            [
             0.3333333333333333,
             "#9c179e"
            ],
            [
             0.4444444444444444,
             "#bd3786"
            ],
            [
             0.5555555555555556,
             "#d8576b"
            ],
            [
             0.6666666666666666,
             "#ed7953"
            ],
            [
             0.7777777777777778,
             "#fb9f3a"
            ],
            [
             0.8888888888888888,
             "#fdca26"
            ],
            [
             1,
             "#f0f921"
            ]
           ],
           "sequentialminus": [
            [
             0,
             "#0d0887"
            ],
            [
             0.1111111111111111,
             "#46039f"
            ],
            [
             0.2222222222222222,
             "#7201a8"
            ],
            [
             0.3333333333333333,
             "#9c179e"
            ],
            [
             0.4444444444444444,
             "#bd3786"
            ],
            [
             0.5555555555555556,
             "#d8576b"
            ],
            [
             0.6666666666666666,
             "#ed7953"
            ],
            [
             0.7777777777777778,
             "#fb9f3a"
            ],
            [
             0.8888888888888888,
             "#fdca26"
            ],
            [
             1,
             "#f0f921"
            ]
           ]
          },
          "colorway": [
           "#636efa",
           "#EF553B",
           "#00cc96",
           "#ab63fa",
           "#FFA15A",
           "#19d3f3",
           "#FF6692",
           "#B6E880",
           "#FF97FF",
           "#FECB52"
          ],
          "font": {
           "color": "#2a3f5f"
          },
          "geo": {
           "bgcolor": "white",
           "lakecolor": "white",
           "landcolor": "#E5ECF6",
           "showlakes": true,
           "showland": true,
           "subunitcolor": "white"
          },
          "hoverlabel": {
           "align": "left"
          },
          "hovermode": "closest",
          "mapbox": {
           "style": "light"
          },
          "paper_bgcolor": "white",
          "plot_bgcolor": "#E5ECF6",
          "polar": {
           "angularaxis": {
            "gridcolor": "white",
            "linecolor": "white",
            "ticks": ""
           },
           "bgcolor": "#E5ECF6",
           "radialaxis": {
            "gridcolor": "white",
            "linecolor": "white",
            "ticks": ""
           }
          },
          "scene": {
           "xaxis": {
            "backgroundcolor": "#E5ECF6",
            "gridcolor": "white",
            "gridwidth": 2,
            "linecolor": "white",
            "showbackground": true,
            "ticks": "",
            "zerolinecolor": "white"
           },
           "yaxis": {
            "backgroundcolor": "#E5ECF6",
            "gridcolor": "white",
            "gridwidth": 2,
            "linecolor": "white",
            "showbackground": true,
            "ticks": "",
            "zerolinecolor": "white"
           },
           "zaxis": {
            "backgroundcolor": "#E5ECF6",
            "gridcolor": "white",
            "gridwidth": 2,
            "linecolor": "white",
            "showbackground": true,
            "ticks": "",
            "zerolinecolor": "white"
           }
          },
          "shapedefaults": {
           "line": {
            "color": "#2a3f5f"
           }
          },
          "ternary": {
           "aaxis": {
            "gridcolor": "white",
            "linecolor": "white",
            "ticks": ""
           },
           "baxis": {
            "gridcolor": "white",
            "linecolor": "white",
            "ticks": ""
           },
           "bgcolor": "#E5ECF6",
           "caxis": {
            "gridcolor": "white",
            "linecolor": "white",
            "ticks": ""
           }
          },
          "title": {
           "x": 0.05
          },
          "xaxis": {
           "automargin": true,
           "gridcolor": "white",
           "linecolor": "white",
           "ticks": "",
           "title": {
            "standoff": 15
           },
           "zerolinecolor": "white",
           "zerolinewidth": 2
          },
          "yaxis": {
           "automargin": true,
           "gridcolor": "white",
           "linecolor": "white",
           "ticks": "",
           "title": {
            "standoff": 15
           },
           "zerolinecolor": "white",
           "zerolinewidth": 2
          }
         }
        },
        "title": {
         "text": "Figuras"
        },
        "width": 900,
        "xaxis": {
         "anchor": "y",
         "domain": [
          0,
          0.2888888888888889
         ]
        },
        "xaxis2": {
         "anchor": "y2",
         "domain": [
          0.35555555555555557,
          0.6444444444444445
         ]
        },
        "xaxis3": {
         "anchor": "y3",
         "domain": [
          0.7111111111111111,
          1
         ]
        },
        "xaxis4": {
         "anchor": "y4",
         "domain": [
          0,
          0.2888888888888889
         ]
        },
        "xaxis5": {
         "anchor": "y5",
         "domain": [
          0.35555555555555557,
          0.6444444444444445
         ]
        },
        "xaxis6": {
         "anchor": "y6",
         "domain": [
          0.7111111111111111,
          1
         ]
        },
        "xaxis7": {
         "anchor": "y7",
         "domain": [
          0,
          0.2888888888888889
         ]
        },
        "xaxis8": {
         "anchor": "y8",
         "domain": [
          0.35555555555555557,
          0.6444444444444445
         ]
        },
        "xaxis9": {
         "anchor": "y9",
         "domain": [
          0.7111111111111111,
          1
         ]
        },
        "yaxis": {
         "anchor": "x",
         "domain": [
          0.7333333333333333,
          1
         ]
        },
        "yaxis2": {
         "anchor": "x2",
         "domain": [
          0.7333333333333333,
          1
         ]
        },
        "yaxis3": {
         "anchor": "x3",
         "domain": [
          0.7333333333333333,
          1
         ]
        },
        "yaxis4": {
         "anchor": "x4",
         "domain": [
          0.36666666666666664,
          0.6333333333333333
         ]
        },
        "yaxis5": {
         "anchor": "x5",
         "domain": [
          0.36666666666666664,
          0.6333333333333333
         ]
        },
        "yaxis6": {
         "anchor": "x6",
         "domain": [
          0.36666666666666664,
          0.6333333333333333
         ]
        },
        "yaxis7": {
         "anchor": "x7",
         "domain": [
          0,
          0.26666666666666666
         ]
        },
        "yaxis8": {
         "anchor": "x8",
         "domain": [
          0,
          0.26666666666666666
         ]
        },
        "yaxis9": {
         "anchor": "x9",
         "domain": [
          0,
          0.26666666666666666
         ]
        }
       }
      }
     },
     "metadata": {},
     "output_type": "display_data"
    },
    {
     "name": "stdout",
     "output_type": "stream",
     "text": [
      "tensor([[0.4644, 0.5052, 0.4783, 0.5110, 0.5057, 0.4782, 0.5070, 0.5100, 0.4620]],\n",
      "       grad_fn=<ReshapeAliasBackward0>)\n",
      "tensor([[0., 1., 0., 1., 1., 0., 1., 1., 0.]], grad_fn=<ReshapeAliasBackward0>)\n"
     ]
    }
   ],
   "source": [
    "from plotly.subplots import make_subplots\n",
    "import plotly.graph_objects as go\n",
    "\n",
    "fs = 3840\n",
    "dataiter = iter(dev_dataloader)\n",
    "signal, labels = next(dataiter)\n",
    "t = np.linspace(0, N / fs, N)\n",
    "print(torch.reshape(labels[1:10], (1, -1)))\n",
    "print(signal.shape)\n",
    "\n",
    "\n",
    "# figure = plt.figure(figsize=(10, 10))\n",
    "cols, rows = 3, 3\n",
    "fig = make_subplots(rows=rows, cols=cols)\n",
    "\n",
    "for i in range(0, cols * rows):\n",
    "\n",
    "    col = i % cols\n",
    "    row = i // cols\n",
    "    fig.add_trace(go.Scatter(name=i, x=t, y=signal[i, :, 0]), row=row + 1, col=col + 1)\n",
    "\n",
    "fig.update_layout(\n",
    "    height=700,\n",
    "    width=900,\n",
    "    title_text=\"Figuras\",\n",
    "    margin={\"b\": 20, \"t\": 40, \"l\": 20, \"r\": 30},\n",
    ")\n",
    "fig.show()\n",
    "\n",
    "x = model(signal[1:10].to(device))\n",
    "print(torch.reshape(x, (1, -1)))\n",
    "print(torch.reshape(torch.round(x), (1, -1)))\n"
   ]
  },
  {
   "cell_type": "code",
   "execution_count": null,
   "metadata": {},
   "outputs": [],
   "source": []
  }
 ],
 "metadata": {
  "kernelspec": {
   "display_name": "env",
   "language": "python",
   "name": "python3"
  },
  "language_info": {
   "codemirror_mode": {
    "name": "ipython",
    "version": 3
   },
   "file_extension": ".py",
   "mimetype": "text/x-python",
   "name": "python",
   "nbconvert_exporter": "python",
   "pygments_lexer": "ipython3",
   "version": "3.9.13"
  },
  "orig_nbformat": 4,
  "vscode": {
   "interpreter": {
    "hash": "edf36f54e3c0d12e79cbfbdb2eab1260e125462eb03956a03e5e853a13b289dd"
   }
  }
 },
 "nbformat": 4,
 "nbformat_minor": 2
}
