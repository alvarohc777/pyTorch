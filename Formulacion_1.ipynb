{
 "cells": [
  {
   "attachments": {},
   "cell_type": "markdown",
   "metadata": {},
   "source": [
    "<center><h1 style:\"text-align:center;\">Formulación 1</h1></center>\n",
    "<center><h3>Relé 1</h3></center>\n"
   ]
  },
  {
   "attachments": {},
   "cell_type": "markdown",
   "metadata": {},
   "source": [
    "### 1. Imports\n"
   ]
  },
  {
   "cell_type": "code",
   "execution_count": 9,
   "metadata": {},
   "outputs": [],
   "source": [
    "import torch\n",
    "import torch.nn as nn\n",
    "from torch.utils.data import Dataset, DataLoader, random_split\n",
    "\n",
    "# Métricas\n",
    "from torchmetrics.functional.classification import binary_stat_scores\n",
    "\n",
    "# Visualizar datos\n",
    "import numpy as np\n",
    "import pandas as pd\n",
    "import matplotlib.pyplot as plt\n",
    "import plotly.express as px\n",
    "\n",
    "# Progress bar\n",
    "from tqdm import tqdm\n",
    "\n",
    "# Acceder al sistema operativo\n",
    "import os\n",
    "import glob\n",
    "import shutil\n",
    "import random"
   ]
  },
  {
   "attachments": {},
   "cell_type": "markdown",
   "metadata": {},
   "source": [
    "### 2. Model Parameters\n"
   ]
  },
  {
   "cell_type": "code",
   "execution_count": 10,
   "metadata": {},
   "outputs": [
    {
     "name": "stdout",
     "output_type": "stream",
     "text": [
      "cpu\n"
     ]
    }
   ],
   "source": [
    "# LSTM parameters\n",
    "hidden_dim = 20\n",
    "n_signals = 3\n",
    "N = 64\n",
    "\n",
    "# _batch_size => m in figure 1.\n",
    "train_batch_size = 64\n",
    "dev_batch_size = 16\n",
    "test_batch_size = 16\n",
    "\n",
    "# Classification type (binary)\n",
    "tagset_size = 1\n",
    "\n",
    "# Set\n",
    "device = \"cuda\" if torch.cuda.is_available() else \"cpu\"\n",
    "print(device)"
   ]
  },
  {
   "attachments": {},
   "cell_type": "markdown",
   "metadata": {},
   "source": [
    "### 3. Model Creation\n"
   ]
  },
  {
   "attachments": {},
   "cell_type": "markdown",
   "metadata": {},
   "source": [
    "##### 3.1. FaultDetector Class Creation\n"
   ]
  },
  {
   "cell_type": "code",
   "execution_count": 11,
   "metadata": {},
   "outputs": [],
   "source": [
    "# Model Creation\n",
    "\n",
    "\n",
    "class FaultDetector(nn.Module):\n",
    "    \"\"\"Information about FaultDetector\"\"\"\n",
    "\n",
    "    def __init__(self, n_signals, hidden_dim, tagset_size):\n",
    "        super(FaultDetector, self).__init__()\n",
    "        self.lstm = nn.LSTM(n_signals, hidden_dim, batch_first=True)\n",
    "        self.fc = nn.Linear(hidden_dim, tagset_size)\n",
    "        # self.norm = nn.BatchNorm1d(tagset_size)\n",
    "\n",
    "    def forward(self, x):\n",
    "        lstm_out, _ = self.lstm(x)\n",
    "        fc_layer = self.fc(lstm_out[:, -1, :])\n",
    "        # norm_layer = self.norm(fc_layer)\n",
    "\n",
    "        return torch.sigmoid(fc_layer)"
   ]
  },
  {
   "attachments": {},
   "cell_type": "markdown",
   "metadata": {},
   "source": [
    "##### 3.2. Model Instance Initialization\n"
   ]
  },
  {
   "cell_type": "code",
   "execution_count": 12,
   "metadata": {},
   "outputs": [
    {
     "name": "stdout",
     "output_type": "stream",
     "text": [
      "Model structure: FaultDetector(\n",
      "  (lstm): LSTM(3, 20, batch_first=True)\n",
      "  (fc): Linear(in_features=20, out_features=1, bias=True)\n",
      ")\n",
      "\n",
      "Number of parameters: 2021\n"
     ]
    }
   ],
   "source": [
    "model = FaultDetector(n_signals, hidden_dim, tagset_size).to(device)\n",
    "loss_fn = nn.BCELoss()\n",
    "optimizer = torch.optim.Adam(model.parameters(), lr=1e-2)\n",
    "\n",
    "# Learning rate decay (optional)\n",
    "decayRate = 0.96\n",
    "my_lr_scheduler = torch.optim.lr_scheduler.ExponentialLR(\n",
    "    optimizer=optimizer, gamma=decayRate\n",
    ")\n",
    "\n",
    "print(f\"Model structure: {model}\\n\")\n",
    "\n",
    "# Number of parameters\n",
    "model_parameters = filter(lambda p: p.requires_grad, model.parameters())\n",
    "params = sum([np.prod(p.size()) for p in model_parameters])\n",
    "print(f\"Number of parameters: {params}\")"
   ]
  },
  {
   "attachments": {},
   "cell_type": "markdown",
   "metadata": {},
   "source": [
    "### 4. Dataset Creation\n"
   ]
  },
  {
   "attachments": {},
   "cell_type": "markdown",
   "metadata": {},
   "source": [
    "##### 4.1. Dataset Class Creation\n"
   ]
  },
  {
   "cell_type": "code",
   "execution_count": 171,
   "metadata": {},
   "outputs": [],
   "source": [
    "import numpy as np\n",
    "import pandas as pd\n",
    "from itertools import repeat\n",
    "import random\n",
    "import utils_tesis.dataset_creator as dc\n",
    "import matplotlib.pyplot as plt\n",
    "\n",
    "\n",
    "class Form1Dataset(torch.utils.data.Dataset):\n",
    "    \"\"\"Some information about Form1Dataset\"\"\"\n",
    "\n",
    "    def __init__(\n",
    "        self,\n",
    "        dataset_dir: str,\n",
    "        signal_names: list[str],\n",
    "        dataset_size: int = 999999,\n",
    "        events_size: int = 999999,\n",
    "    ):\n",
    "        super(Form1Dataset, self).__init__()\n",
    "        self.dataset_dir = dataset_dir\n",
    "        self.signal_names = signal_names\n",
    "        self.dataset_size = dataset_size\n",
    "        self.events_size = events_size\n",
    "        self.parquets = self.get_database_list()\n",
    "\n",
    "        _signal = pd.read_parquet(f\"{self.dataset_dir}/{self.parquets[0]}\")\n",
    "        self.time = _signal[\"time\"]\n",
    "        self.N = dc.cycle_info(_signal)[\"samples_per_cycle\"]\n",
    "\n",
    "        time_info = dc.extract_time_info(_signal, \"time\")\n",
    "        self.time = self.calculate_time_array(time_info)\n",
    "\n",
    "        self.max_window_idx = self.N - 1\n",
    "        self.windows_event = dc.calculate_windows(_signal, self.N)\n",
    "        # Reducir dataset size\n",
    "        self.reduce_dataset()\n",
    "\n",
    "    def calculate_time_array(self, time_info: dict) -> np.ndarray:\n",
    "        dt = time_info[\"dt\"]\n",
    "        total_samples = time_info[\"total_samples\"]\n",
    "        total_time = time_info[\"total_time\"]\n",
    "        return np.linspace(0, total_time, total_samples)\n",
    "\n",
    "    def __len__(self):\n",
    "        return len(self.parquets) * self.windows_event\n",
    "\n",
    "    def __getitem__(self, index):\n",
    "        window_idx = index % self.max_window_idx\n",
    "        parquet_idx = index // self.max_window_idx\n",
    "        parquet_name = self.parquets[parquet_idx]\n",
    "        parquet_path = f\"{self.dataset_dir}/{parquet_name}\"\n",
    "        df = pd.read_parquet(parquet_path)[self.signal_names]\n",
    "\n",
    "        df = df.iloc[window_idx : self.N + window_idx]\n",
    "        if \"F_T\" in parquet_name:\n",
    "            labels = np.array([1])\n",
    "        if \"L_T\" in parquet_path:\n",
    "            labels = np.array([0])\n",
    "        signals = torch.from_numpy(df.to_numpy()).float()\n",
    "        labels = torch.from_numpy(labels).float()\n",
    "        return signals, labels\n",
    "\n",
    "    def reduce_dataset(self):\n",
    "        # reducir el tamaño de dataset, menos eventos\n",
    "        if self.events_size < len(self.parquets):\n",
    "            self.parquets = random.sample(self.parquets, self.events_size)\n",
    "            self.dataset_size = len(self) * self.windows_event\n",
    "\n",
    "        # reducir la cantidad de muestras (ventanas) según se necesite\n",
    "        if self.dataset_size < len(self):\n",
    "            self.parquets = random.sample(\n",
    "                self.parquets, int(self.dataset_size / self.N)\n",
    "            )\n",
    "\n",
    "    def get_database_list(self):\n",
    "        file_set = set()\n",
    "        for dir_, _, files in os.walk(dataset_dir):\n",
    "            for file_name in files:\n",
    "                rel_dir = os.path.relpath(dir_, dataset_dir)\n",
    "                rel_file = os.path.join(rel_dir, file_name)\n",
    "                file_set.add(rel_file)\n",
    "        parquets = list(file_set)\n",
    "\n",
    "        return parquets\n",
    "\n",
    "    def max_idx(self):\n",
    "        return len(self.parquets) - 1\n",
    "\n",
    "    def get_event(self, index):\n",
    "        parquet_name = self.parquets[index]\n",
    "        parquet_path = f\"{self.dataset_dir}/{parquet_name}\"\n",
    "        if \"F_T\" in parquet_name:\n",
    "            labels = np.array([1])\n",
    "        if \"L_T\" in parquet_path:\n",
    "            labels = np.array([0])\n",
    "        return pd.read_parquet(parquet_path)[self.signal_names], labels\n",
    "\n",
    "    def len_events(self):\n",
    "        return len(self.parquets)\n",
    "\n",
    "    def get_indices_event(self, index):\n",
    "        min_idx = index * self.max_window_idx\n",
    "        max_idx = min_idx + self.windows_event\n",
    "        return np.arange(min_idx, max_idx)\n",
    "\n",
    "    def get_time(self):\n",
    "        return self.time\n",
    "\n",
    "    def get_time_window(self, index):\n",
    "        window_idx = index % self.max_window_idx\n",
    "        return self.time[window_idx : self.N + window_idx]\n",
    "\n",
    "    # def get_time_window(self, window_index):\n",
    "\n",
    "\n",
    "from utils.relay_list import signals\n",
    "\n",
    "dataset_dir = \"D:\\PaperLSTM\\database\\DB1_nueva_full\\DB1_clean\"\n",
    "relay_number = 1\n",
    "signal_names = signals[(relay_number - 1) * 3 : (relay_number - 1) * 3 + 3]\n",
    "# signal_names.append(\"time\")\n",
    "dataset = Form1Dataset(\n",
    "    dataset_dir,\n",
    "    signal_names=signal_names,\n",
    ")"
   ]
  },
  {
   "attachments": {},
   "cell_type": "markdown",
   "metadata": {},
   "source": [
    "##### 4.2. Database Directory Creation\n"
   ]
  },
  {
   "attachments": {},
   "cell_type": "markdown",
   "metadata": {},
   "source": [
    "##### 4.3. Dataset and Dataloader Instances Creation\n"
   ]
  },
  {
   "cell_type": "code",
   "execution_count": 14,
   "metadata": {},
   "outputs": [
    {
     "name": "stdout",
     "output_type": "stream",
     "text": [
      "0.0051 0.0005\n",
      "Cantidad de ventanas (train): 5020\n",
      "Cantidad de ventanas (test):  493\n"
     ]
    }
   ],
   "source": [
    "from utils.relay_list import signals\n",
    "\n",
    "dataset_dir = \"D:\\PaperLSTM\\database\\DB1_nueva_full\\DB1_clean\"\n",
    "relay_number = 1\n",
    "signal_names = signals[(relay_number - 1) * 3 : (relay_number - 1) * 3 + 3]\n",
    "\n",
    "\n",
    "# signal_names.append(\"time\")\n",
    "dataset = Form1Dataset(\n",
    "    dataset_dir,\n",
    "    signal_names=signal_names,\n",
    ")\n",
    "\n",
    "\n",
    "# dataset.get_events(0)\n",
    "windows_amount = len(dataset)\n",
    "# CANTIDAD DESEADA TRAINING Y TESTING\n",
    "windows_train = 5000\n",
    "windows_test = 500\n",
    "train_percentage = round(windows_train / windows_amount, 4)\n",
    "test_percentage = round(windows_test / windows_amount, 4)\n",
    "print(train_percentage, test_percentage)\n",
    "\n",
    "\n",
    "train_dataset, test_dataset, _ = random_split(\n",
    "    dataset, [train_percentage, test_percentage, 1 - train_percentage - test_percentage]\n",
    ")\n",
    "\n",
    "\n",
    "train_dataloader = DataLoader(train_dataset, batch_size=train_batch_size, shuffle=True)\n",
    "test_dataloader = DataLoader(test_dataset, batch_size=test_batch_size, shuffle=True)\n",
    "\n",
    "\n",
    "print(f\"Cantidad de ventanas (train): {len(train_dataset):>4}\")\n",
    "print(f\"Cantidad de ventanas (test): {len(test_dataset):>4}\")"
   ]
  },
  {
   "attachments": {},
   "cell_type": "markdown",
   "metadata": {},
   "source": [
    "### 5. Model Training\n"
   ]
  },
  {
   "attachments": {},
   "cell_type": "markdown",
   "metadata": {},
   "source": [
    "##### 5.1. Train / Test(dev) Loop Creation\n"
   ]
  },
  {
   "cell_type": "code",
   "execution_count": 15,
   "metadata": {},
   "outputs": [],
   "source": [
    "# Create Training / Test / Validation Loops\n",
    "\n",
    "\n",
    "# Training\n",
    "def train(dataloader, model, loss_fn, optimizer, return_loss=False):\n",
    "    size = len(dataloader.dataset)\n",
    "    model.train()\n",
    "    loss_list = []\n",
    "\n",
    "    for batch, (x, y) in enumerate(dataloader):\n",
    "        x, y = x.to(device), y.to(device)\n",
    "\n",
    "        # Compute prediction error\n",
    "        pred = model(x)\n",
    "        loss = loss_fn(pred, y)\n",
    "\n",
    "        # Backpropagation\n",
    "        optimizer.zero_grad()\n",
    "        loss.backward()\n",
    "        optimizer.step()\n",
    "        if return_loss == True:\n",
    "            loss_list.append(loss.item())\n",
    "        if batch % 2 == 0:\n",
    "            loss, current = loss.item(), batch * len(x)\n",
    "            print(f\"loss: {loss:>f} [{current:>5d}/{size:>5d}]\")\n",
    "\n",
    "        if batch % 5 == 0:\n",
    "            my_lr_scheduler.step()\n",
    "    if return_loss == True:\n",
    "        return loss_list\n",
    "\n",
    "\n",
    "from torchmetrics.functional.classification import binary_stat_scores\n",
    "\n",
    "\n",
    "def test_metrics(dataloader, model, loss_fn, return_metrics=False):\n",
    "    size = len(dataloader.dataset)\n",
    "    num_batches = len(dataloader)\n",
    "    conf_matrix = torch.zeros(1, 5, dtype=torch.int64).to(device)\n",
    "    model.eval()\n",
    "    test_loss, correct = 0, 0\n",
    "    with torch.no_grad():\n",
    "        for x, y in tqdm(dataloader):\n",
    "            x, y = x.to(device), y.to(device)\n",
    "            pred = model(x)\n",
    "\n",
    "            conf_matrix = conf_matrix.add(binary_stat_scores(pred, y))\n",
    "            test_loss += loss_fn(pred, y).item()\n",
    "            correct += (torch.round(pred) == y).type(torch.float).sum().item()\n",
    "\n",
    "    test_loss /= num_batches\n",
    "    acc = (conf_matrix[0, 0] + conf_matrix[0, 2]) / conf_matrix[0, :-1].sum()\n",
    "    correct /= size\n",
    "    print(f\"{correct*100:>0.1f}\")\n",
    "    print(f\"Test Error: \\n Accuracy: {(100*acc):>0.1f}%, Avg loss: {test_loss:>8f} \\n\")\n",
    "    if return_metrics == True:\n",
    "        return conf_matrix, test_loss"
   ]
  },
  {
   "attachments": {},
   "cell_type": "markdown",
   "metadata": {},
   "source": [
    "##### 5.2. Training the model\n"
   ]
  },
  {
   "cell_type": "code",
   "execution_count": 17,
   "metadata": {},
   "outputs": [
    {
     "name": "stdout",
     "output_type": "stream",
     "text": [
      "Epoch 1\n",
      "--------------------------------\n"
     ]
    },
    {
     "name": "stderr",
     "output_type": "stream",
     "text": [
      "100%|██████████| 31/31 [00:08<00:00,  3.81it/s]"
     ]
    },
    {
     "name": "stdout",
     "output_type": "stream",
     "text": [
      "95.5\n",
      "Test Error: \n",
      " Accuracy: 95.5%, Avg loss: 0.241501 \n",
      "\n",
      "tensor([[217,   0, 254,  22, 239]])\n"
     ]
    },
    {
     "name": "stderr",
     "output_type": "stream",
     "text": [
      "\n"
     ]
    }
   ],
   "source": [
    "# model.load_state_dict(torch.load(\"models\\R2.pth\"))\n",
    "# model.load_state_dict(torch.load(\"./models/LSTMHarmonic_weights_R1_996.pth\"))\n",
    "# model.load_state_dict(torch.load('./models/LSTMHarmonic_weights_R2_978.pth'))\n",
    "# model.load_state_dict(torch.load('./models/R2Currents_DB2.pth'))\n",
    "epochs = 1\n",
    "\n",
    "for epoch in range(epochs):\n",
    "\n",
    "    print(f\"Epoch {epoch+1}\\n--------------------------------\")\n",
    "    # train_loss = train(train_dataloader, model, loss_fn, optimizer, return_loss=True)\n",
    "    conf_matrix, _ = test_metrics(test_dataloader, model, loss_fn, return_metrics=True)\n",
    "print(conf_matrix)"
   ]
  },
  {
   "cell_type": "code",
   "execution_count": 18,
   "metadata": {},
   "outputs": [
    {
     "name": "stdout",
     "output_type": "stream",
     "text": [
      "95.5\n",
      "tensor([[217,   0, 254,  22, 239]])\n"
     ]
    }
   ],
   "source": [
    "def conf_matrix_metrics(conf_matrix: torch.LongTensor) -> dict:\n",
    "    \"\"\"\n",
    "    Returns dictionary with metrics from a confusion matrix.\n",
    "\n",
    "\n",
    "            Parameters:\n",
    "                    conf_matrix (torch.Tensor): confusion matrix of dimension (1, 5)\n",
    "                        [TP, FP, TN, FN, TP + FN]\n",
    "\n",
    "            Returns:\n",
    "                    metrics (dict): dictionary with following metrics:\n",
    "                        metrics[\"TOTAL\"] -> total amount of samples.\n",
    "                        metrics[\"TPR\"]   -> True Positive Rate,  sensibility, recall, hit-rate.\n",
    "                        metrics[\"FPR\"]   -> False Positive Rate, Fallout.\n",
    "                        metrics[\"TNR\"]   -> True Negative Rate,  specificity, selectivity\n",
    "                        metrics[\"ACC\"]   -> Accuracy.\n",
    "                        metrics[\"PPV\"]   -> Positive Predictive Value, Precision.\n",
    "    \"\"\"\n",
    "    if conf_matrix.shape == (5,):\n",
    "        conf_matrix = np.expand_dims(conf_matrix, axis=0)\n",
    "\n",
    "    metrics = {}\n",
    "    TP = int(conf_matrix[0, 0].item())\n",
    "    FP = int(conf_matrix[0, 1].item())\n",
    "    TN = int(conf_matrix[0, 2].item())\n",
    "    FN = int(conf_matrix[0, 3].item())\n",
    "    metrics[\"TP\"] = TP\n",
    "    metrics[\"FP\"] = FP\n",
    "    metrics[\"TN\"] = TN\n",
    "    metrics[\"FN\"] = FN\n",
    "    P = TP + FN\n",
    "    N = TN + FP\n",
    "    TOTAL = TP + FP + TN + FN\n",
    "    metrics[\"TOTAL\"] = TOTAL\n",
    "    try:\n",
    "        metrics[\"TPR\"] = TP / (TP + FN)\n",
    "    except ZeroDivisionError:\n",
    "        metrics[\"TPR\"] = \"ZeroDivisionError\"\n",
    "    try:\n",
    "        metrics[\"FPR\"] = FP / (FP + TN)\n",
    "        metrics[\"TNR\"] = TN / (FP + TN)\n",
    "    except ZeroDivisionError:\n",
    "        metrics[\"FPR\"] = \"ZeroDivisionError\"\n",
    "        metrics[\"TNR\"] = \"ZeroDivisionError\"\n",
    "    metrics[\"ACC\"] = (TP + TN) / (TOTAL)\n",
    "    try:\n",
    "        metrics[\"PPV\"] = TP / (TP + FP)\n",
    "    except ZeroDivisionError:\n",
    "        print(\"No se puede obtener PPV, división por cero\")\n",
    "    return metrics\n",
    "\n",
    "\n",
    "metrics = conf_matrix_metrics(conf_matrix)\n",
    "print(round(metrics[\"ACC\"] * 100, 1))\n",
    "print(conf_matrix)"
   ]
  },
  {
   "attachments": {},
   "cell_type": "markdown",
   "metadata": {},
   "source": [
    "##### 5.3. Training loss visualization\n"
   ]
  },
  {
   "cell_type": "code",
   "execution_count": 19,
   "metadata": {},
   "outputs": [
    {
     "data": {
      "image/png": "[encoded data removed]",
      "text/plain": [
       "<Figure size 640x480 with 1 Axes>"
      ]
     },
     "metadata": {},
     "output_type": "display_data"
    }
   ],
   "source": [
    "try:\n",
    "    mini_batch_list = [index for index, _ in enumerate(train_loss)]\n",
    "    train_loss_ewm = pd.DataFrame(train_loss).ewm(com=0.95).mean()\n",
    "    plt.plot(mini_batch_list, train_loss, mini_batch_list, train_loss_ewm)\n",
    "except NameError:\n",
    "    print(\"Error! Run train loop\")"
   ]
  },
  {
   "attachments": {},
   "cell_type": "markdown",
   "metadata": {},
   "source": [
    "##### 5.4. Saving the Model\n"
   ]
  },
  {
   "cell_type": "code",
   "execution_count": 20,
   "metadata": {},
   "outputs": [],
   "source": [
    "# # Save the Model\n",
    "# model.load_state_dict(torch.load('./models/R3Currents_DB2_V2.pth'))\n",
    "torch.save(model.state_dict(), f\"./models/paper_jan/{relay_number}_Currents.pth\")"
   ]
  },
  {
   "attachments": {},
   "cell_type": "markdown",
   "metadata": {},
   "source": [
    "### 6. Results Visualization\n"
   ]
  },
  {
   "attachments": {},
   "cell_type": "markdown",
   "metadata": {},
   "source": [
    "#### 6.1. Confussion Matrix Results Table Function\n"
   ]
  },
  {
   "cell_type": "code",
   "execution_count": 21,
   "metadata": {},
   "outputs": [],
   "source": [
    "# Data visualization (CPU)\n",
    "\n",
    "\n",
    "def confusion_matrix_labels(pred_label, true_label):\n",
    "    label = \"\"\n",
    "    if int(pred_label) == int(true_label):\n",
    "        label += \"T\"\n",
    "    else:\n",
    "        label += \"F\"\n",
    "    if pred_label == 1:\n",
    "        label += \"P\"\n",
    "    else:\n",
    "        label += \"N\"\n",
    "    return label\n",
    "\n",
    "\n",
    "confusion_matrix_pandas = np.vectorize(confusion_matrix_labels)\n",
    "\n",
    "\n",
    "def confusion_matrix(\n",
    "    preds: torch.FloatTensor, labels: torch.FloatTensor\n",
    ") -> pd.DataFrame:\n",
    "    preds = preds.detach()\n",
    "    labels = labels.detach()\n",
    "    data = {\n",
    "        \"Pred probability\": torch.reshape(preds, (-1,)).cpu().numpy(),\n",
    "        \"Pred label\": torch.reshape(torch.round(preds), (-1,)).int().cpu().numpy(),\n",
    "        \"True label\": torch.reshape(labels, (-1,)).int().cpu().numpy(),\n",
    "    }\n",
    "    df = pd.DataFrame(data)\n",
    "    df[\"Result\"] = confusion_matrix_pandas(df[\"Pred label\"], df[\"True label\"])\n",
    "    return df"
   ]
  },
  {
   "attachments": {},
   "cell_type": "markdown",
   "metadata": {},
   "source": [
    "##### 6.2. Plotly Plot\n"
   ]
  },
  {
   "cell_type": "code",
   "execution_count": 22,
   "metadata": {},
   "outputs": [
    {
     "name": "stdout",
     "output_type": "stream",
     "text": [
      "torch.Size([64, 64, 3])\n",
      "<class 'pandas.core.frame.DataFrame'>\n",
      "   Pred probability  Pred label  True label Result\n",
      "0          0.141476           0           0     TN\n",
      "1          0.313484           0           0     TN\n",
      "2          0.733948           1           1     TP\n",
      "3          0.619360           1           1     TP\n",
      "4          0.948524           1           1     TP\n",
      "5          0.139046           0           0     TN\n",
      "6          0.469107           0           1     FN\n",
      "7          0.935549           1           1     TP\n",
      "8          0.787573           1           1     TP\n"
     ]
    },
    {
     "data": {
      "application/vnd.plotly.v1+json": {
       "config": {
        "plotlyServerURL": "https://plot.ly"
       },
       "data": [
        {
         "marker": {
          "color": "black"
         },
         "name": "No Fault",
         "type": "scatter",
         "xaxis": "x",
         "y": [
          -11.27197551727295,
          -7.071266174316406,
          -2.798387050628662,
          1.5235944986343384,
          5.986845970153809,
          10.467634201049805,
          14.7389497756958,
          18.746522903442383,
          22.559600830078125,
          26.24380874633789,
          29.72394561767578,
          32.92921829223633,
          35.674198150634766,
          38.14805603027344,
          40.281856536865234,
          42.02048873901367,
          43.39990997314453,
          44.30031967163086,
          44.86041259765625,
          44.98903274536133,
          44.625911712646484,
          43.83216094970703,
          42.62297058105469,
          40.908599853515625,
          38.806640625,
          36.418704986572266,
          33.60093688964844,
          30.51897430419922,
          27.263690948486328,
          23.76445198059082,
          19.946025848388672,
          15.688029289245605,
          11.337618827819824,
          7.041749477386475,
          2.7320942878723145,
          -1.5819536447525024,
          -5.999442100524902,
          -10.408644676208496,
          -14.643868446350098,
          -18.654457092285156,
          -22.49273109436035,
          -26.228357315063477,
          -29.73757553100586,
          -32.94756317138672,
          -35.68015670776367,
          -38.1164665222168,
          -40.266014099121094,
          -42.0309944152832,
          -43.4434814453125,
          -44.341697692871094,
          -44.843841552734375,
          -44.9311637878418,
          -44.50327682495117,
          -43.70833969116211,
          -42.54341506958008,
          -40.897830963134766,
          -38.89530563354492,
          -36.52425765991211,
          -33.67815399169922,
          -30.50041389465332,
          -27.132946014404297,
          -23.6016902923584,
          -19.77267074584961,
          -15.60274600982666
         ],
         "yaxis": "y"
        },
        {
         "marker": {
          "color": "black"
         },
         "name": "No Fault",
         "type": "scatter",
         "xaxis": "x2",
         "y": [
          -6.0605692863464355,
          -10.45772933959961,
          -14.701438903808594,
          -18.674755096435547,
          -22.527820587158203,
          -26.26630210876465,
          -29.770858764648438,
          -32.998531341552734,
          -35.712860107421875,
          -38.17745590209961,
          -40.310890197753906,
          -42.06629943847656,
          -43.49211502075195,
          -44.38694381713867,
          -44.92580032348633,
          -44.98627471923828,
          -44.55006790161133,
          -43.740562438964844,
          -42.53716278076172,
          -40.88920593261719,
          -38.860137939453125,
          -36.52903366088867,
          -33.71933364868164,
          -30.55510711669922,
          -27.18575096130371,
          -23.606504440307617,
          -19.75644874572754,
          -15.549601554870605,
          -11.27197551727295,
          -7.071266174316406,
          -2.798387050628662,
          1.5235944986343384,
          5.986845970153809,
          10.467634201049805,
          14.7389497756958,
          18.746522903442383,
          22.559600830078125,
          26.24380874633789,
          29.72394561767578,
          32.92921829223633,
          35.674198150634766,
          38.14805603027344,
          40.281856536865234,
          42.02048873901367,
          43.39990997314453,
          44.30031967163086,
          44.86041259765625,
          44.98903274536133,
          44.625911712646484,
          43.83216094970703,
          42.62297058105469,
          40.908599853515625,
          38.806640625,
          36.418704986572266,
          33.60093688964844,
          30.51897430419922,
          27.263690948486328,
          23.76445198059082,
          19.946025848388672,
          15.688029289245605,
          11.337618827819824,
          7.041749477386475,
          2.7320942878723145,
          -1.5819536447525024
         ],
         "yaxis": "y2"
        },
        {
         "marker": {
          "color": "black"
         },
         "name": "Fault",
         "type": "scatter",
         "xaxis": "x3",
         "y": [
          -21.33719825744629,
          -25.86074447631836,
          -29.62616539001465,
          -32.530704498291016,
          -34.96958541870117,
          -37.45892333984375,
          -40.026885986328125,
          -42.128910064697266,
          -43.70116424560547,
          -44.70859909057617,
          -45.23586654663086,
          -45.361228942871094,
          -45.08357620239258,
          -44.56489181518555,
          -43.6900634765625,
          -42.287818908691406,
          -40.38903045654297,
          -38.0065803527832,
          -35.170284271240234,
          -31.824615478515625,
          -28.49908447265625,
          -25.19883918762207,
          -21.659130096435547,
          -17.686925888061523,
          -13.346284866333008,
          -8.988038063049316,
          -4.433357238769531,
          0.1230975016951561,
          4.5908660888671875,
          8.998567581176758,
          13.181485176086426,
          17.17254066467285,
          21.04163932800293,
          24.91716957092285,
          28.748483657836914,
          32.14282989501953,
          34.9493293762207,
          37.34181594848633,
          39.57591247558594,
          41.57145690917969,
          43.17117691040039,
          44.308265686035156,
          44.895111083984375,
          45.03375244140625,
          44.67250442504883,
          44.00177764892578,
          43.05211639404297,
          41.629249572753906,
          39.72757339477539,
          37.38376998901367,
          34.70200729370117,
          31.52498435974121,
          28.241039276123047,
          24.890867233276367,
          21.252275466918945,
          16.105079650878906,
          -7.709707736968994,
          -22.024770736694336,
          -35.969581604003906,
          -60.00606155395508,
          -74.28407287597656,
          -92.89720916748047,
          -107.90755462646484,
          -124.7464599609375
         ],
         "yaxis": "y3"
        },
        {
         "marker": {
          "color": "black"
         },
         "name": "Fault",
         "type": "scatter",
         "xaxis": "x4",
         "y": [
          17.544736862182617,
          21.609901428222656,
          25.483177185058594,
          29.074817657470703,
          32.45784378051758,
          35.28386688232422,
          37.70586013793945,
          39.76726150512695,
          41.76375198364258,
          43.45053482055664,
          44.45745849609375,
          45.01515197753906,
          45.149147033691406,
          44.92705535888672,
          44.19966125488281,
          43.11342239379883,
          41.65715026855469,
          39.6408805847168,
          37.244911193847656,
          34.40696716308594,
          31.487192153930664,
          28.350162506103516,
          24.827991485595703,
          20.95993423461914,
          16.64391326904297,
          12.396116256713867,
          8.246464729309082,
          4.081660270690918,
          -0.24984297156333923,
          -4.862250328063965,
          -9.53091812133789,
          -13.872495651245117,
          -17.686748504638672,
          -21.4022159576416,
          -25.18629264831543,
          -28.902219772338867,
          -32.27790069580078,
          -35.095638275146484,
          -37.624908447265625,
          -39.77545928955078,
          -41.56703567504883,
          -43.10212326049805,
          -44.25448989868164,
          -44.93213653564453,
          -45.012245178222656,
          -44.628456115722656,
          -43.901756286621094,
          -42.81189727783203,
          -41.28415298461914,
          -39.384193420410156,
          -37.23688888549805,
          -34.530601501464844,
          -31.34479331970215,
          -27.930761337280273,
          -24.42095947265625,
          -20.214174270629883,
          -1.5689291954040527,
          13.931641578674316,
          31.568941116333008,
          52.16904830932617,
          69.9675064086914,
          85.22760009765625,
          106.36408233642578,
          127.3578872680664
         ],
         "yaxis": "y4"
        },
        {
         "marker": {
          "color": "black"
         },
         "name": "Fault",
         "type": "scatter",
         "xaxis": "x5",
         "y": [
          -41.222312927246094,
          -42.71971130371094,
          -43.94454574584961,
          -44.78584671020508,
          -45.395748138427734,
          -45.62816619873047,
          -45.190399169921875,
          -44.30379867553711,
          -42.905548095703125,
          -41.01633834838867,
          -38.71397018432617,
          -36.182830810546875,
          -33.39572525024414,
          -30.365970611572266,
          -27.2196102142334,
          -23.69655990600586,
          -19.612173080444336,
          -15.049762725830078,
          -10.418980598449707,
          -6.199909687042236,
          -2.0090572834014893,
          2.141672134399414,
          6.47323751449585,
          10.992612838745117,
          15.349522590637207,
          19.597047805786133,
          23.425203323364258,
          27.001497268676758,
          30.326740264892578,
          33.42147445678711,
          36.22050857543945,
          38.67061233520508,
          40.818389892578125,
          42.44232940673828,
          43.654109954833984,
          44.40865707397461,
          44.82014846801758,
          44.98562240600586,
          44.553924560546875,
          43.69379806518555,
          42.33505630493164,
          40.48234558105469,
          38.34514617919922,
          35.85681915283203,
          33.05174255371094,
          29.94584083557129,
          25.400066375732422,
          11.359131813049316,
          -11.045116424560547,
          -44.07627868652344,
          -86.17217254638672,
          -133.544677734375,
          -191.6705322265625,
          -256.5506286621094,
          -323.5833435058594,
          -400.9169921875,
          -481.45318603515625,
          -561.1248779296875,
          -650.1453247070312,
          -738.0438232421875,
          -822.1499633789062,
          -914.0648803710938,
          -1000.533447265625,
          -1080.8822021484375
         ],
         "yaxis": "y5"
        },
        {
         "marker": {
          "color": "black"
         },
         "name": "No Fault",
         "type": "scatter",
         "xaxis": "x6",
         "y": [
          -43.740562438964844,
          -42.53716278076172,
          -40.88920593261719,
          -38.860137939453125,
          -36.52903366088867,
          -33.71933364868164,
          -30.55510711669922,
          -27.18575096130371,
          -23.606504440307617,
          -19.75644874572754,
          -15.549601554870605,
          -11.27197551727295,
          -7.071266174316406,
          -2.798387050628662,
          1.5235944986343384,
          5.986845970153809,
          10.467634201049805,
          14.7389497756958,
          18.746522903442383,
          22.559600830078125,
          26.24380874633789,
          29.72394561767578,
          32.92921829223633,
          35.674198150634766,
          38.14805603027344,
          40.281856536865234,
          42.02048873901367,
          43.39990997314453,
          44.30031967163086,
          44.86041259765625,
          44.98903274536133,
          44.625911712646484,
          43.83216094970703,
          42.62297058105469,
          40.908599853515625,
          38.806640625,
          36.418704986572266,
          33.60093688964844,
          30.51897430419922,
          27.263690948486328,
          23.76445198059082,
          19.946025848388672,
          15.688029289245605,
          11.337618827819824,
          7.041749477386475,
          2.7320942878723145,
          -1.5819536447525024,
          -5.999442100524902,
          -10.408644676208496,
          -14.643868446350098,
          -18.654457092285156,
          -22.49273109436035,
          -26.228357315063477,
          -29.73757553100586,
          -32.94756317138672,
          -35.68015670776367,
          -38.1164665222168,
          -40.266014099121094,
          -42.0309944152832,
          -43.4434814453125,
          -44.341697692871094,
          -44.843841552734375,
          -44.9311637878418,
          -44.50327682495117
         ],
         "yaxis": "y6"
        },
        {
         "marker": {
          "color": "black"
         },
         "name": "Fault",
         "type": "scatter",
         "xaxis": "x7",
         "y": [
          -16.671222686767578,
          -21.249608993530273,
          -25.29498291015625,
          -28.505022048950195,
          -31.35893440246582,
          -34.2115592956543,
          -37.07554626464844,
          -39.78540802001953,
          -41.851322174072266,
          -43.29780197143555,
          -44.22552490234375,
          -44.95539855957031,
          -45.53548812866211,
          -45.57154846191406,
          -44.99184036254883,
          -43.82508850097656,
          -42.326316833496094,
          -40.49660110473633,
          -38.345619201660156,
          -35.837242126464844,
          -32.74961471557617,
          -29.50428581237793,
          -26.174402236938477,
          -22.64570426940918,
          -18.553529739379883,
          -13.97944164276123,
          -9.444581031799316,
          -5.137461185455322,
          -0.9357458353042603,
          3.2389585971832275,
          7.621936798095703,
          12.139252662658691,
          16.541194915771484,
          20.671096801757812,
          24.455713272094727,
          28.009763717651367,
          31.297842025756836,
          34.251338958740234,
          36.91348648071289,
          39.33535385131836,
          41.410797119140625,
          42.96923065185547,
          44.010276794433594,
          44.64451599121094,
          45.006832122802734,
          44.9986457824707,
          44.532562255859375,
          43.54781723022461,
          42.03587341308594,
          40.0549201965332,
          37.75960159301758,
          35.234046936035156,
          32.24924087524414,
          29.1116886138916,
          25.726964950561523,
          22.083877563476562,
          18.005577087402344,
          13.642905235290527,
          9.36900806427002,
          5.074787139892578,
          0.7578093409538269,
          -4.288976192474365,
          -20.932313919067383,
          -32.96063995361328
         ],
         "yaxis": "y7"
        },
        {
         "marker": {
          "color": "black"
         },
         "name": "Fault",
         "type": "scatter",
         "xaxis": "x8",
         "y": [
          -18.498823165893555,
          -22.463302612304688,
          -26.274925231933594,
          -29.785188674926758,
          -32.996883392333984,
          -35.680850982666016,
          -38.04674530029297,
          -40.226646423339844,
          -42.093788146972656,
          -43.55781173706055,
          -44.377986907958984,
          -44.815372467041016,
          -44.90531539916992,
          -44.48369216918945,
          -43.7076530456543,
          -42.600887298583984,
          -41.06544494628906,
          -39.04902648925781,
          -36.536556243896484,
          -33.5727424621582,
          -30.3730525970459,
          -27.352405548095703,
          -17.01790428161621,
          -6.532227993011475,
          9.866063117980957,
          25.224170684814453,
          44.077327728271484,
          62.932464599609375,
          83.14579772949219,
          104.04463958740234,
          124.10594940185547,
          144.0782928466797,
          162.34658813476562,
          180.41497802734375,
          195.96961975097656,
          210.5752410888672,
          224.09742736816406,
          234.41897583007812,
          243.46560668945312,
          249.70904541015625,
          254.0683135986328,
          255.95648193359375,
          255.59231567382812,
          252.65516662597656,
          247.73590087890625,
          239.8262481689453,
          229.71466064453125,
          217.7362823486328,
          203.13975524902344,
          187.1321258544922,
          169.2461700439453,
          149.62417602539062,
          128.706787109375,
          106.45992279052734,
          83.02803039550781,
          59.11197280883789,
          34.238895416259766,
          9.193890571594238,
          -15.705564498901367,
          -41.00636291503906,
          -65.5877456665039,
          -89.59966278076172,
          -112.97296905517578,
          -135.0199737548828
         ],
         "yaxis": "y8"
        },
        {
         "marker": {
          "color": "black"
         },
         "name": "Fault",
         "type": "scatter",
         "xaxis": "x9",
         "y": [
          -11.052413940429688,
          -15.543803215026855,
          -19.020387649536133,
          -22.038951873779297,
          -25.552101135253906,
          -29.48921775817871,
          -33.34429168701172,
          -36.31428527832031,
          -38.487674713134766,
          -40.36528015136719,
          -42.10438919067383,
          -43.77296447753906,
          -44.89786148071289,
          -45.5062370300293,
          -45.63599395751953,
          -45.176971435546875,
          -44.31129455566406,
          -43.12281799316406,
          -41.60026931762695,
          -39.728271484375,
          -37.3941764831543,
          -34.65708923339844,
          -31.51567268371582,
          -28.10822868347168,
          -24.39422607421875,
          -20.43505096435547,
          -16.23027801513672,
          -11.9895658493042,
          -7.998044967651367,
          -3.7951912879943848,
          0.653358519077301,
          5.377326488494873,
          10.164567947387695,
          14.462991714477539,
          18.404172897338867,
          22.069561004638672,
          25.699493408203125,
          29.307859420776367,
          32.69900131225586,
          35.67617416381836,
          38.13465881347656,
          40.1978874206543,
          41.86723709106445,
          43.323917388916016,
          44.41017150878906,
          45.048744201660156,
          45.24604797363281,
          44.79621887207031,
          43.92407989501953,
          42.656002044677734,
          41.01862335205078,
          39.11616516113281,
          36.834266662597656,
          34.09319305419922,
          30.930593490600586,
          27.560510635375977,
          24.050554275512695,
          20.25269317626953,
          16.07195281982422,
          11.729962348937988,
          4.199495315551758,
          -35.49216079711914,
          -48.870582580566406,
          -73.07091522216797
         ],
         "yaxis": "y9"
        }
       ],
       "layout": {
        "height": 700,
        "margin": {
         "b": 20,
         "l": 20,
         "r": 30,
         "t": 40
        },
        "plot_bgcolor": "rgba(0,0,0,0)",
        "template": {
         "data": {
          "bar": [
           {
            "error_x": {
             "color": "#2a3f5f"
            },
            "error_y": {
             "color": "#2a3f5f"
            },
            "marker": {
             "line": {
              "color": "#E5ECF6",
              "width": 0.5
             },
             "pattern": {
              "fillmode": "overlay",
              "size": 10,
              "solidity": 0.2
             }
            },
            "type": "bar"
           }
          ],
          "barpolar": [
           {
            "marker": {
             "line": {
              "color": "#E5ECF6",
              "width": 0.5
             },
             "pattern": {
              "fillmode": "overlay",
              "size": 10,
              "solidity": 0.2
             }
            },
            "type": "barpolar"
           }
          ],
          "carpet": [
           {
            "aaxis": {
             "endlinecolor": "#2a3f5f",
             "gridcolor": "white",
             "linecolor": "white",
             "minorgridcolor": "white",
             "startlinecolor": "#2a3f5f"
            },
            "baxis": {
             "endlinecolor": "#2a3f5f",
             "gridcolor": "white",
             "linecolor": "white",
             "minorgridcolor": "white",
             "startlinecolor": "#2a3f5f"
            },
            "type": "carpet"
           }
          ],
          "choropleth": [
           {
            "colorbar": {
             "outlinewidth": 0,
             "ticks": ""
            },
            "type": "choropleth"
           }
          ],
          "contour": [
           {
            "colorbar": {
             "outlinewidth": 0,
             "ticks": ""
            },
            "colorscale": [
             [
              0,
              "#0d0887"
             ],
             [
              0.1111111111111111,
              "#46039f"
             ],
             [
              0.2222222222222222,
              "#7201a8"
             ],
             [
              0.3333333333333333,
              "#9c179e"
             ],
             [
              0.4444444444444444,
              "#bd3786"
             ],
             [
              0.5555555555555556,
              "#d8576b"
             ],
             [
              0.6666666666666666,
              "#ed7953"
             ],
             [
              0.7777777777777778,
              "#fb9f3a"
             ],
             [
              0.8888888888888888,
              "#fdca26"
             ],
             [
              1,
              "#f0f921"
             ]
            ],
            "type": "contour"
           }
          ],
          "contourcarpet": [
           {
            "colorbar": {
             "outlinewidth": 0,
             "ticks": ""
            },
            "type": "contourcarpet"
           }
          ],
          "heatmap": [
           {
            "colorbar": {
             "outlinewidth": 0,
             "ticks": ""
            },
            "colorscale": [
             [
              0,
              "#0d0887"
             ],
             [
              0.1111111111111111,
              "#46039f"
             ],
             [
              0.2222222222222222,
              "#7201a8"
             ],
             [
              0.3333333333333333,
              "#9c179e"
             ],
             [
              0.4444444444444444,
              "#bd3786"
             ],
             [
              0.5555555555555556,
              "#d8576b"
             ],
             [
              0.6666666666666666,
              "#ed7953"
             ],
             [
              0.7777777777777778,
              "#fb9f3a"
             ],
             [
              0.8888888888888888,
              "#fdca26"
             ],
             [
              1,
              "#f0f921"
             ]
            ],
            "type": "heatmap"
           }
          ],
          "heatmapgl": [
           {
            "colorbar": {
             "outlinewidth": 0,
             "ticks": ""
            },
            "colorscale": [
             [
              0,
              "#0d0887"
             ],
             [
              0.1111111111111111,
              "#46039f"
             ],
             [
              0.2222222222222222,
              "#7201a8"
             ],
             [
              0.3333333333333333,
              "#9c179e"
             ],
             [
              0.4444444444444444,
              "#bd3786"
             ],
             [
              0.5555555555555556,
              "#d8576b"
             ],
             [
              0.6666666666666666,
              "#ed7953"
             ],
             [
              0.7777777777777778,
              "#fb9f3a"
             ],
             [
              0.8888888888888888,
              "#fdca26"
             ],
             [
              1,
              "#f0f921"
             ]
            ],
            "type": "heatmapgl"
           }
          ],
          "histogram": [
           {
            "marker": {
             "pattern": {
              "fillmode": "overlay",
              "size": 10,
              "solidity": 0.2
             }
            },
            "type": "histogram"
           }
          ],
          "histogram2d": [
           {
            "colorbar": {
             "outlinewidth": 0,
             "ticks": ""
            },
            "colorscale": [
             [
              0,
              "#0d0887"
             ],
             [
              0.1111111111111111,
              "#46039f"
             ],
             [
              0.2222222222222222,
              "#7201a8"
             ],
             [
              0.3333333333333333,
              "#9c179e"
             ],
             [
              0.4444444444444444,
              "#bd3786"
             ],
             [
              0.5555555555555556,
              "#d8576b"
             ],
             [
              0.6666666666666666,
              "#ed7953"
             ],
             [
              0.7777777777777778,
              "#fb9f3a"
             ],
             [
              0.8888888888888888,
              "#fdca26"
             ],
             [
              1,
              "#f0f921"
             ]
            ],
            "type": "histogram2d"
           }
          ],
          "histogram2dcontour": [
           {
            "colorbar": {
             "outlinewidth": 0,
             "ticks": ""
            },
            "colorscale": [
             [
              0,
              "#0d0887"
             ],
             [
              0.1111111111111111,
              "#46039f"
             ],
             [
              0.2222222222222222,
              "#7201a8"
             ],
             [
              0.3333333333333333,
              "#9c179e"
             ],
             [
              0.4444444444444444,
              "#bd3786"
             ],
             [
              0.5555555555555556,
              "#d8576b"
             ],
             [
              0.6666666666666666,
              "#ed7953"
             ],
             [
              0.7777777777777778,
              "#fb9f3a"
             ],
             [
              0.8888888888888888,
              "#fdca26"
             ],
             [
              1,
              "#f0f921"
             ]
            ],
            "type": "histogram2dcontour"
           }
          ],
          "mesh3d": [
           {
            "colorbar": {
             "outlinewidth": 0,
             "ticks": ""
            },
            "type": "mesh3d"
           }
          ],
          "parcoords": [
           {
            "line": {
             "colorbar": {
              "outlinewidth": 0,
              "ticks": ""
             }
            },
            "type": "parcoords"
           }
          ],
          "pie": [
           {
            "automargin": true,
            "type": "pie"
           }
          ],
          "scatter": [
           {
            "fillpattern": {
             "fillmode": "overlay",
             "size": 10,
             "solidity": 0.2
            },
            "type": "scatter"
           }
          ],
          "scatter3d": [
           {
            "line": {
             "colorbar": {
              "outlinewidth": 0,
              "ticks": ""
             }
            },
            "marker": {
             "colorbar": {
              "outlinewidth": 0,
              "ticks": ""
             }
            },
            "type": "scatter3d"
           }
          ],
          "scattercarpet": [
           {
            "marker": {
             "colorbar": {
              "outlinewidth": 0,
              "ticks": ""
             }
            },
            "type": "scattercarpet"
           }
          ],
          "scattergeo": [
           {
            "marker": {
             "colorbar": {
              "outlinewidth": 0,
              "ticks": ""
             }
            },
            "type": "scattergeo"
           }
          ],
          "scattergl": [
           {
            "marker": {
             "colorbar": {
              "outlinewidth": 0,
              "ticks": ""
             }
            },
            "type": "scattergl"
           }
          ],
          "scattermapbox": [
           {
            "marker": {
             "colorbar": {
              "outlinewidth": 0,
              "ticks": ""
             }
            },
            "type": "scattermapbox"
           }
          ],
          "scatterpolar": [
           {
            "marker": {
             "colorbar": {
              "outlinewidth": 0,
              "ticks": ""
             }
            },
            "type": "scatterpolar"
           }
          ],
          "scatterpolargl": [
           {
            "marker": {
             "colorbar": {
              "outlinewidth": 0,
              "ticks": ""
             }
            },
            "type": "scatterpolargl"
           }
          ],
          "scatterternary": [
           {
            "marker": {
             "colorbar": {
              "outlinewidth": 0,
              "ticks": ""
             }
            },
            "type": "scatterternary"
           }
          ],
          "surface": [
           {
            "colorbar": {
             "outlinewidth": 0,
             "ticks": ""
            },
            "colorscale": [
             [
              0,
              "#0d0887"
             ],
             [
              0.1111111111111111,
              "#46039f"
             ],
             [
              0.2222222222222222,
              "#7201a8"
             ],
             [
              0.3333333333333333,
              "#9c179e"
             ],
             [
              0.4444444444444444,
              "#bd3786"
             ],
             [
              0.5555555555555556,
              "#d8576b"
             ],
             [
              0.6666666666666666,
              "#ed7953"
             ],
             [
              0.7777777777777778,
              "#fb9f3a"
             ],
             [
              0.8888888888888888,
              "#fdca26"
             ],
             [
              1,
              "#f0f921"
             ]
            ],
            "type": "surface"
           }
          ],
          "table": [
           {
            "cells": {
             "fill": {
              "color": "#EBF0F8"
             },
             "line": {
              "color": "white"
             }
            },
            "header": {
             "fill": {
              "color": "#C8D4E3"
             },
             "line": {
              "color": "white"
             }
            },
            "type": "table"
           }
          ]
         },
         "layout": {
          "annotationdefaults": {
           "arrowcolor": "#2a3f5f",
           "arrowhead": 0,
           "arrowwidth": 1
          },
          "autotypenumbers": "strict",
          "coloraxis": {
           "colorbar": {
            "outlinewidth": 0,
            "ticks": ""
           }
          },
          "colorscale": {
           "diverging": [
            [
             0,
             "#8e0152"
            ],
            [
             0.1,
             "#c51b7d"
            ],
            [
             0.2,
             "#de77ae"
            ],
            [
             0.3,
             "#f1b6da"
            ],
            [
             0.4,
             "#fde0ef"
            ],
            [
             0.5,
             "#f7f7f7"
            ],
            [
             0.6,
             "#e6f5d0"
            ],
            [
             0.7,
             "#b8e186"
            ],
            [
             0.8,
             "#7fbc41"
            ],
            [
             0.9,
             "#4d9221"
            ],
            [
             1,
             "#276419"
            ]
           ],
           "sequential": [
            [
             0,
             "#0d0887"
            ],
            [
             0.1111111111111111,
             "#46039f"
            ],
            [
             0.2222222222222222,
             "#7201a8"
            ],
            [
             0.3333333333333333,
             "#9c179e"
            ],
            [
             0.4444444444444444,
             "#bd3786"
            ],
            [
             0.5555555555555556,
             "#d8576b"
            ],
            [
             0.6666666666666666,
             "#ed7953"
            ],
            [
             0.7777777777777778,
             "#fb9f3a"
            ],
            [
             0.8888888888888888,
             "#fdca26"
            ],
            [
             1,
             "#f0f921"
            ]
           ],
           "sequentialminus": [
            [
             0,
             "#0d0887"
            ],
            [
             0.1111111111111111,
             "#46039f"
            ],
            [
             0.2222222222222222,
             "#7201a8"
            ],
            [
             0.3333333333333333,
             "#9c179e"
            ],
            [
             0.4444444444444444,
             "#bd3786"
            ],
            [
             0.5555555555555556,
             "#d8576b"
            ],
            [
             0.6666666666666666,
             "#ed7953"
            ],
            [
             0.7777777777777778,
             "#fb9f3a"
            ],
            [
             0.8888888888888888,
             "#fdca26"
            ],
            [
             1,
             "#f0f921"
            ]
           ]
          },
          "colorway": [
           "#636efa",
           "#EF553B",
           "#00cc96",
           "#ab63fa",
           "#FFA15A",
           "#19d3f3",
           "#FF6692",
           "#B6E880",
           "#FF97FF",
           "#FECB52"
          ],
          "font": {
           "color": "#2a3f5f"
          },
          "geo": {
           "bgcolor": "white",
           "lakecolor": "white",
           "landcolor": "#E5ECF6",
           "showlakes": true,
           "showland": true,
           "subunitcolor": "white"
          },
          "hoverlabel": {
           "align": "left"
          },
          "hovermode": "closest",
          "mapbox": {
           "style": "light"
          },
          "paper_bgcolor": "white",
          "plot_bgcolor": "#E5ECF6",
          "polar": {
           "angularaxis": {
            "gridcolor": "white",
            "linecolor": "white",
            "ticks": ""
           },
           "bgcolor": "#E5ECF6",
           "radialaxis": {
            "gridcolor": "white",
            "linecolor": "white",
            "ticks": ""
           }
          },
          "scene": {
           "xaxis": {
            "backgroundcolor": "#E5ECF6",
            "gridcolor": "white",
            "gridwidth": 2,
            "linecolor": "white",
            "showbackground": true,
            "ticks": "",
            "zerolinecolor": "white"
           },
           "yaxis": {
            "backgroundcolor": "#E5ECF6",
            "gridcolor": "white",
            "gridwidth": 2,
            "linecolor": "white",
            "showbackground": true,
            "ticks": "",
            "zerolinecolor": "white"
           },
           "zaxis": {
            "backgroundcolor": "#E5ECF6",
            "gridcolor": "white",
            "gridwidth": 2,
            "linecolor": "white",
            "showbackground": true,
            "ticks": "",
            "zerolinecolor": "white"
           }
          },
          "shapedefaults": {
           "line": {
            "color": "#2a3f5f"
           }
          },
          "ternary": {
           "aaxis": {
            "gridcolor": "white",
            "linecolor": "white",
            "ticks": ""
           },
           "baxis": {
            "gridcolor": "white",
            "linecolor": "white",
            "ticks": ""
           },
           "bgcolor": "#E5ECF6",
           "caxis": {
            "gridcolor": "white",
            "linecolor": "white",
            "ticks": ""
           }
          },
          "title": {
           "x": 0.05
          },
          "xaxis": {
           "automargin": true,
           "gridcolor": "white",
           "linecolor": "white",
           "ticks": "",
           "title": {
            "standoff": 15
           },
           "zerolinecolor": "white",
           "zerolinewidth": 2
          },
          "yaxis": {
           "automargin": true,
           "gridcolor": "white",
           "linecolor": "white",
           "ticks": "",
           "title": {
            "standoff": 15
           },
           "zerolinecolor": "white",
           "zerolinewidth": 2
          }
         }
        },
        "title": {
         "text": "Figuras"
        },
        "width": 900,
        "xaxis": {
         "anchor": "y",
         "domain": [
          0,
          0.2888888888888889
         ]
        },
        "xaxis2": {
         "anchor": "y2",
         "domain": [
          0.35555555555555557,
          0.6444444444444445
         ]
        },
        "xaxis3": {
         "anchor": "y3",
         "domain": [
          0.7111111111111111,
          1
         ]
        },
        "xaxis4": {
         "anchor": "y4",
         "domain": [
          0,
          0.2888888888888889
         ]
        },
        "xaxis5": {
         "anchor": "y5",
         "domain": [
          0.35555555555555557,
          0.6444444444444445
         ]
        },
        "xaxis6": {
         "anchor": "y6",
         "domain": [
          0.7111111111111111,
          1
         ]
        },
        "xaxis7": {
         "anchor": "y7",
         "domain": [
          0,
          0.2888888888888889
         ]
        },
        "xaxis8": {
         "anchor": "y8",
         "domain": [
          0.35555555555555557,
          0.6444444444444445
         ]
        },
        "xaxis9": {
         "anchor": "y9",
         "domain": [
          0.7111111111111111,
          1
         ]
        },
        "yaxis": {
         "anchor": "x",
         "domain": [
          0.7333333333333333,
          1
         ]
        },
        "yaxis2": {
         "anchor": "x2",
         "domain": [
          0.7333333333333333,
          1
         ]
        },
        "yaxis3": {
         "anchor": "x3",
         "domain": [
          0.7333333333333333,
          1
         ]
        },
        "yaxis4": {
         "anchor": "x4",
         "domain": [
          0.36666666666666664,
          0.6333333333333333
         ]
        },
        "yaxis5": {
         "anchor": "x5",
         "domain": [
          0.36666666666666664,
          0.6333333333333333
         ]
        },
        "yaxis6": {
         "anchor": "x6",
         "domain": [
          0.36666666666666664,
          0.6333333333333333
         ]
        },
        "yaxis7": {
         "anchor": "x7",
         "domain": [
          0,
          0.26666666666666666
         ]
        },
        "yaxis8": {
         "anchor": "x8",
         "domain": [
          0,
          0.26666666666666666
         ]
        },
        "yaxis9": {
         "anchor": "x9",
         "domain": [
          0,
          0.26666666666666666
         ]
        }
       }
      }
     },
     "metadata": {},
     "output_type": "display_data"
    }
   ],
   "source": [
    "from plotly.subplots import make_subplots\n",
    "import plotly.graph_objects as go\n",
    "\n",
    "fs = 960\n",
    "dataset_plot = Form1Dataset(\n",
    "    dataset_dir,\n",
    "    signal_names=signal_names,\n",
    ")\n",
    "plot_dataloader = DataLoader(dataset_plot, batch_size=train_batch_size, shuffle=True)\n",
    "\n",
    "dataiter = iter(plot_dataloader)\n",
    "signals, labels = next(dataiter)\n",
    "print(signals.shape)\n",
    "\n",
    "\n",
    "x = model(signals[0:9].to(device))\n",
    "# x = x.detach()\n",
    "\n",
    "# Crear Matriz de confusión\n",
    "df = confusion_matrix(x, labels[0:9])\n",
    "print(type(df))\n",
    "print(df)\n",
    "\n",
    "# figure = plt.figure(figsize=(10, 10))\n",
    "cols, rows = 3, 3\n",
    "fig = make_subplots(rows=rows, cols=cols)\n",
    "\n",
    "label_to_text = {\n",
    "    \"0\": \"No Fault\",\n",
    "    \"1\": \"Fault\",\n",
    "}\n",
    "\n",
    "for i in range(0, cols * rows):\n",
    "\n",
    "    col = i % cols\n",
    "    row = i // cols\n",
    "    label = label_to_text[str(int(labels[i, 0].item()))]\n",
    "    # win_idx = str(window_idx[i].item())\n",
    "    # print(csv_name[i])\n",
    "    fig.add_trace(\n",
    "        go.Scatter(\n",
    "            # name=f\"{label} - {win_idx} - {csv_name[i]}\",\n",
    "            name=f\"{label}\",\n",
    "            y=signals[i, :, 0],\n",
    "            # y=signals[i, :, 1],\n",
    "            marker_color=\"black\",\n",
    "        ),\n",
    "        row=row + 1,\n",
    "        col=col + 1,\n",
    "    )\n",
    "\n",
    "fig.update_layout(\n",
    "    height=700,\n",
    "    width=900,\n",
    "    title_text=\"Figuras\",\n",
    "    margin={\"b\": 20, \"t\": 40, \"l\": 20, \"r\": 30},\n",
    "    plot_bgcolor=\"rgba(0,0,0,0)\",\n",
    "    # paper_bgcolor=\"whitesmoke\",\n",
    ")\n",
    "fig.show()"
   ]
  },
  {
   "attachments": {},
   "cell_type": "markdown",
   "metadata": {},
   "source": [
    "##### 6.3. Matplotlib Plots\n"
   ]
  },
  {
   "cell_type": "code",
   "execution_count": 24,
   "metadata": {},
   "outputs": [
    {
     "name": "stdout",
     "output_type": "stream",
     "text": [
      "   Pred probability  Pred label  True label Result\n",
      "0          0.919458           1           1     TP\n",
      "1          0.303686           0           0     TN\n",
      "2          0.655291           1           1     TP\n",
      "3          0.915611           1           1     TP\n",
      "4          0.161651           0           0     TN\n",
      "5          0.740767           1           1     TP\n",
      "6          0.920892           1           1     TP\n",
      "7          0.894097           1           1     TP\n",
      "8          0.138606           0           0     TN\n"
     ]
    },
    {
     "data": {
      "image/png": "[encoded data removed]",
      "text/plain": [
       "<Figure size 1000x1000 with 9 Axes>"
      ]
     },
     "metadata": {},
     "output_type": "display_data"
    }
   ],
   "source": [
    "dataset_plot = Form1Dataset(\n",
    "    dataset_dir,\n",
    "    signal_names=signal_names,\n",
    ")\n",
    "plot_dataloader = DataLoader(dataset_plot, batch_size=train_batch_size, shuffle=True)\n",
    "\n",
    "dataiter = iter(plot_dataloader)\n",
    "signal_windows, labels = next(dataiter)\n",
    "fs = 960\n",
    "\n",
    "x = model(signal_windows[1:10].to(device))\n",
    "x = x.detach()\n",
    "\n",
    "# Crear Matriz de confusión\n",
    "df = confusion_matrix(x, labels[1:10])\n",
    "print(df)\n",
    "\n",
    "figure = plt.figure(figsize=(10, 10))\n",
    "cols, rows = 3, 3\n",
    "for i in range(1, cols * rows + 1):\n",
    "    figure.add_subplot(rows, cols, i)\n",
    "    plt.plot(signal_windows[i, :, 0])"
   ]
  },
  {
   "attachments": {},
   "cell_type": "markdown",
   "metadata": {},
   "source": [
    "### 7. Data Exploration\n"
   ]
  },
  {
   "attachments": {},
   "cell_type": "markdown",
   "metadata": {},
   "source": [
    "##### 7.1. Auxiliar Functions\n"
   ]
  },
  {
   "cell_type": "code",
   "execution_count": 167,
   "metadata": {},
   "outputs": [],
   "source": [
    "def signal_exploration(event_idx, dataset: Form1Dataset, model, plot: bool = False):\n",
    "    window_indices = dataset.get_indices_event(event_idx)\n",
    "    conf_matrix = torch.zeros(1, 5, dtype=torch.int64).to(device)\n",
    "    preds = torch.empty((0, 1)).to(device)\n",
    "    labels = torch.empty((0, 1)).to(device)\n",
    "    # plot signal\n",
    "    if plot:\n",
    "        signals, label = dataset.get_event(event_idx)\n",
    "        t = dataset.get_time()\n",
    "        plt.plot(t, signals)\n",
    "        plt.show()\n",
    "\n",
    "    for idx in window_indices:\n",
    "        signal, label = dataset[idx]\n",
    "        label = torch.unsqueeze(label, 0).to(device)\n",
    "        signal = torch.unsqueeze(signal, 0).to(device)\n",
    "        pred = model(signal)\n",
    "        preds = torch.cat((preds, pred), 0)\n",
    "        labels = torch.cat((labels, label), 0)\n",
    "        conf_matrix = conf_matrix.add(binary_stat_scores(pred, label))\n",
    "    df = confusion_matrix(preds, labels)\n",
    "    max_idx, min_idx = window_indices[-1], window_indices[0]\n",
    "    df.insert(\n",
    "        loc=0, column=\"event_idx\", value=np.repeat(event_idx, max_idx - min_idx + 1)\n",
    "    )\n",
    "    return df, conf_matrix\n",
    "\n",
    "\n",
    "def plot_confusion_matrix(metrics):\n",
    "    z = [[metrics[\"TP\"], metrics[\"FN\"]], [metrics[\"FP\"], metrics[\"TN\"]]]\n",
    "    fig = px.imshow(\n",
    "        z,\n",
    "        text_auto=True,\n",
    "        template=\"seaborn\",\n",
    "        labels=dict(x=\"Predicted Label\", y=\"Real Label\", color=\"Predictions\"),\n",
    "        x=[\"Positive\", \"Negative\"],\n",
    "        y=[\"Positive\", \"Negative\"],\n",
    "        width=400,\n",
    "        height=300,\n",
    "    )\n",
    "    fig.show()\n",
    "\n",
    "\n",
    "def print_metrics(metrics):\n",
    "    print(f\"{'Total windows:':.<30}{metrics['TOTAL']:4}\")\n",
    "    print(f\"{'True Positives:':.<30}{metrics['TP']:4}\")\n",
    "    print(f\"{'False Positives:':.<30}{metrics['FP']:4}\")\n",
    "    print(f\"{'True Negatives:':.<30}{metrics['TN']:4}\")\n",
    "    print(f\"{'False Negatives:':.<30}{metrics['FN']:4}\")\n",
    "    print(f\"{'Accuracy:':.<30}{metrics['ACC']*100:>6.1f}%\")\n",
    "    try:\n",
    "        print(f\"{'True Positive Rate:':.<30}{metrics['TPR']*100:>6.1f}%\")\n",
    "    except ValueError:\n",
    "        print(\"TPR cannot be calculates, division by zero\")\n",
    "    try:\n",
    "        print(f\"{'False Positive Rate:':.<30}{metrics['FPR']*100:>6.1f}%\")\n",
    "        print(f\"{'True Negative Rate:':.<30}{metrics['TNR']*100:>6.1f}%\")\n",
    "    except ValueError:\n",
    "        print(\"FPR and TNR cannot be calculates, division by zero\")\n",
    "\n",
    "    try:\n",
    "        print(f\"{'Positive Predictive Value:':.<30}{metrics['PPV']*100:>6.1f}%\")\n",
    "    except KeyError:\n",
    "        print(f\"PPV divided by 0. No positive class predicted\")\n",
    "    # metrics[\"PPV\"]"
   ]
  },
  {
   "attachments": {},
   "cell_type": "markdown",
   "metadata": {},
   "source": [
    "##### 7.2. Data Exploration\n"
   ]
  },
  {
   "attachments": {},
   "cell_type": "markdown",
   "metadata": {},
   "source": [
    "##### 7.4. Plot individual windows\n"
   ]
  },
  {
   "attachments": {},
   "cell_type": "markdown",
   "metadata": {},
   "source": [
    "##### 7.5. Whole Dataset Exploration\n"
   ]
  },
  {
   "cell_type": "code",
   "execution_count": 98,
   "metadata": {},
   "outputs": [],
   "source": [
    "# model.load_state_dict(torch.load(\"./models/R2.pth\"))"
   ]
  },
  {
   "cell_type": "code",
   "execution_count": 177,
   "metadata": {},
   "outputs": [
    {
     "name": "stdout",
     "output_type": "stream",
     "text": [
      "126\n",
      "64\n",
      "{'TP': 54, 'FP': 0, 'TN': 0, 'FN': 9, 'TOTAL': 63, 'TPR': 0.8571428571428571, 'FPR': 'ZeroDivisionError', 'TNR': 'ZeroDivisionError', 'ACC': 0.8571428571428571, 'PPV': 1.0}\n"
     ]
    },
    {
     "name": "stderr",
     "output_type": "stream",
     "text": [
      "100%|██████████| 10/10 [00:15<00:00,  1.52s/it]\n"
     ]
    }
   ],
   "source": [
    "# Create Dataframe with information about data\n",
    "dataset = Form1Dataset(dataset_dir, signal_names=signal_names, events_size=10)\n",
    "print(len(dataset.get_time()))\n",
    "print(len(dataset.get_time_window(0)))\n",
    "\n",
    "\n",
    "df, conf_matrix = signal_exploration(1, dataset, model)\n",
    "metrics = conf_matrix_metrics(conf_matrix)\n",
    "# plot_confusion_matrix(metrics)\n",
    "# print(df)\n",
    "# print(conf_matrix)\n",
    "print(metrics)\n",
    "\n",
    "\n",
    "conf_matrix = torch.zeros(0, 5, dtype=torch.int64).to(device)\n",
    "for idx in tqdm(range(dataset.len_events())):\n",
    "    # for idx in tqdm(range()):\n",
    "    df, CM = signal_exploration(idx, dataset, model)\n",
    "    conf_matrix = torch.cat((conf_matrix, CM))\n",
    "    if idx == 0:\n",
    "        dataset_df = df\n",
    "\n",
    "    else:\n",
    "        dataset_df = pd.concat([dataset_df, df])\n",
    "\n",
    "dataset_df = dataset_df.reset_index()\n",
    "\n",
    "\n",
    "\n",
    "dataset_df = dataset_df.rename(columns={\"index\": \"window idx\"})\n",
    "conf_matrix_total = np.sum(conf_matrix.cpu().numpy(), axis=0)\n",
    "\n",
    "\n",
    "\n",
    "# # Load Dataframe\n",
    "# def load_df(i):\n",
    "\n",
    "\n",
    "\n",
    "#     dataset_df = pd.read_parquet(f\"parquet_data/R{i}_df.parquet\")\n",
    "#     conf_matrix_df = pd.read_parquet(f\"parquet_data/R{i}_CM_df.parquet\")\n",
    "#     conf_matrix = np.load(f\"parquet_data/R{i}_CM.npy\", allow_pickle=False)\n",
    "#     return dataset_df, conf_matrix_df, conf_matrix\n",
    "\n",
    "\n",
    "\n",
    "# dataset_df, conf_matrix_df, conf_matrix = load_df(1)\n",
    "\n",
    "\n",
    "\n",
    "# dataset_df = pd.read_parquet(f\"parquet_data\\R2_currents_DB2_df.parquet\")\n",
    "# conf_matrix_df = pd.read_parquet(f\"parquet_data\\R2_currents_DB2_CM_df.parquet\")\n",
    "# conf_matrix = np.load(f\"parquet_data\\R2_currents_DB2_CM.npy\", allow_pickle=False)\n",
    "# conf_matrix_total = np.sum(conf_matrix, axis=0)\n",
    "\n",
    "\n",
    "\n",
    "# conf_matrix_total = np.sum(conf_matrix, axis=0)\n",
    "# metrics = conf_matrix_metrics(conf_matrix_total)"
   ]
  },
  {
   "cell_type": "code",
   "execution_count": 182,
   "metadata": {},
   "outputs": [
    {
     "name": "stdout",
     "output_type": "stream",
     "text": [
      "[291   0 315  24 315]\n",
      "tensor([[ 0,  0, 63,  0,  0],\n",
      "        [54,  0,  0,  9, 63],\n",
      "        [ 0,  0, 63,  0,  0],\n",
      "        [ 0,  0, 63,  0,  0],\n",
      "        [62,  0,  0,  1, 63],\n",
      "        [62,  0,  0,  1, 63],\n",
      "        [60,  0,  0,  3, 63],\n",
      "        [ 0,  0, 63,  0,  0],\n",
      "        [53,  0,  0, 10, 63],\n",
      "        [ 0,  0, 63,  0,  0]])\n",
      "Total windows:................ 630\n",
      "True Positives:............... 291\n",
      "False Positives:..............   0\n",
      "True Negatives:............... 315\n",
      "False Negatives:..............  24\n",
      "Accuracy:.....................  96.2%\n",
      "True Positive Rate:...........  92.4%\n",
      "False Positive Rate:..........   0.0%\n",
      "True Negative Rate:........... 100.0%\n",
      "Positive Predictive Value:.... 100.0%\n",
      "     window idx  event_idx  Pred probability  Pred label  True label Result\n",
      "0             0          0          0.177547           0           0     TN\n",
      "1             1          0          0.179726           0           0     TN\n",
      "2             2          0          0.181467           0           0     TN\n",
      "3             3          0          0.158681           0           0     TN\n",
      "4             4          0          0.146641           0           0     TN\n",
      "5             5          0          0.138950           0           0     TN\n",
      "6             6          0          0.140413           0           0     TN\n",
      "7             7          0          0.146487           0           0     TN\n",
      "8             8          0          0.148848           0           0     TN\n",
      "9             9          0          0.146694           0           0     TN\n",
      "10           10          0          0.148548           0           0     TN\n",
      "11           11          0          0.151966           0           0     TN\n",
      "12           12          0          0.154131           0           0     TN\n",
      "13           13          0          0.150789           0           0     TN\n",
      "14           14          0          0.142870           0           0     TN\n",
      "15           15          0          0.131238           0           0     TN\n",
      "16           16          0          0.112598           0           0     TN\n",
      "17           17          0          0.098794           0           0     TN\n",
      "18           18          0          0.101138           0           0     TN\n",
      "19           19          0          0.120394           0           0     TN\n",
      "20           20          0          0.144946           0           0     TN\n",
      "21           21          0          0.145508           0           0     TN\n",
      "22           22          0          0.152221           0           0     TN\n",
      "23           23          0          0.161877           0           0     TN\n",
      "24           24          0          0.169913           0           0     TN\n",
      "25           25          0          0.178428           0           0     TN\n",
      "26           26          0          0.196592           0           0     TN\n",
      "27           27          0          0.253760           0           0     TN\n",
      "28           28          0          0.313484           0           0     TN\n",
      "29           29          0          0.294916           0           0     TN\n",
      "30           30          0          0.212916           0           0     TN\n",
      "31           31          0          0.155948           0           0     TN\n",
      "32           32          0          0.145556           0           0     TN\n",
      "33           33          0          0.160261           0           0     TN\n",
      "34           34          0          0.160108           0           0     TN\n",
      "35           35          0          0.164074           0           0     TN\n",
      "36           36          0          0.175882           0           0     TN\n",
      "37           37          0          0.196758           0           0     TN\n",
      "38           38          0          0.227453           0           0     TN\n",
      "39           39          0          0.269689           0           0     TN\n",
      "40           40          0          0.303686           0           0     TN\n",
      "41           41          0          0.288379           0           0     TN\n",
      "42           42          0          0.207937           0           0     TN\n",
      "43           43          0          0.154715           0           0     TN\n",
      "44           44          0          0.141587           0           0     TN\n",
      "45           45          0          0.139046           0           0     TN\n",
      "46           46          0          0.138048           0           0     TN\n",
      "47           47          0          0.138606           0           0     TN\n",
      "48           48          0          0.144535           0           0     TN\n",
      "49           49          0          0.161651           0           0     TN\n",
      "50           50          0          0.154635           0           0     TN\n",
      "51           51          0          0.128349           0           0     TN\n",
      "52           52          0          0.127545           0           0     TN\n",
      "53           53          0          0.120517           0           0     TN\n",
      "54           54          0          0.126278           0           0     TN\n",
      "55           55          0          0.135998           0           0     TN\n",
      "56           56          0          0.141476           0           0     TN\n",
      "57           57          0          0.142555           0           0     TN\n",
      "58           58          0          0.138082           0           0     TN\n",
      "59           59          0          0.141293           0           0     TN\n",
      "60           60          0          0.169376           0           0     TN\n",
      "61           61          0          0.207125           0           0     TN\n",
      "62           62          0          0.208487           0           0     TN\n",
      "63            0          0          0.160681           0           1     FN\n",
      "64            1          0          0.337322           0           1     FN\n",
      "65            2          0          0.299837           0           1     FN\n",
      "66            3          0          0.253973           0           1     FN\n",
      "67            4          0          0.230736           0           1     FN\n",
      "68            5          0          0.201393           0           1     FN\n",
      "69            6          0          0.267871           0           1     FN\n",
      "70            7          0          0.387434           0           1     FN\n",
      "71            8          0          0.474387           0           1     FN\n",
      "72            9          0          0.521348           1           1     TP\n",
      "73           10          0          0.540897           1           1     TP\n",
      "74           11          0          0.569947           1           1     TP\n",
      "75           12          0          0.591051           1           1     TP\n",
      "76           13          0          0.605170           1           1     TP\n",
      "77           14          0          0.610648           1           1     TP\n",
      "78           15          0          0.614999           1           1     TP\n",
      "79           16          0          0.669883           1           1     TP\n",
      "80           17          0          0.708081           1           1     TP\n",
      "81           18          0          0.736817           1           1     TP\n",
      "82           19          0          0.795900           1           1     TP\n",
      "83           20          0          0.841487           1           1     TP\n",
      "84           21          0          0.882007           1           1     TP\n",
      "85           22          0          0.857614           1           1     TP\n",
      "86           23          0          0.853183           1           1     TP\n",
      "87           24          0          0.846037           1           1     TP\n",
      "88           25          0          0.850746           1           1     TP\n",
      "89           26          0          0.851463           1           1     TP\n",
      "90           27          0          0.851119           1           1     TP\n",
      "91           28          0          0.850493           1           1     TP\n",
      "92           29          0          0.848098           1           1     TP\n",
      "93           30          0          0.844579           1           1     TP\n",
      "94           31          0          0.840950           1           1     TP\n",
      "95           32          0          0.818355           1           1     TP\n",
      "96           33          0          0.809975           1           1     TP\n",
      "97           34          0          0.876520           1           1     TP\n",
      "98           35          0          0.853243           1           1     TP\n",
      "99           36          0          0.882955           1           1     TP\n",
      "100          37          0          0.924246           1           1     TP\n",
      "101          38          0          0.939770           1           1     TP\n",
      "102          39          0          0.962066           1           1     TP\n",
      "103          40          0          0.958929           1           1     TP\n",
      "104          41          0          0.939532           1           1     TP\n",
      "105          42          0          0.922018           1           1     TP\n",
      "106          43          0          0.914101           1           1     TP\n",
      "107          44          0          0.920373           1           1     TP\n",
      "108          45          0          0.930663           1           1     TP\n",
      "109          46          0          0.932708           1           1     TP\n",
      "110          47          0          0.933080           1           1     TP\n",
      "111          48          0          0.933368           1           1     TP\n",
      "112          49          0          0.931845           1           1     TP\n",
      "113          50          0          0.900405           1           1     TP\n",
      "114          51          0          0.896599           1           1     TP\n",
      "115          52          0          0.911038           1           1     TP\n",
      "116          53          0          0.913796           1           1     TP\n",
      "117          54          0          0.913143           1           1     TP\n",
      "118          55          0          0.911342           1           1     TP\n",
      "119          56          0          0.908415           1           1     TP\n",
      "120          57          0          0.903799           1           1     TP\n",
      "121          58          0          0.897152           1           1     TP\n",
      "122          59          0          0.888061           1           1     TP\n",
      "123          60          0          0.876424           1           1     TP\n",
      "124          61          0          0.901286           1           1     TP\n",
      "125          62          0          0.824390           1           1     TP\n",
      "126           0          0          0.177547           0           0     TN\n",
      "127           1          0          0.179726           0           0     TN\n",
      "128           2          0          0.181467           0           0     TN\n",
      "129           3          0          0.158681           0           0     TN\n",
      "130           4          0          0.146641           0           0     TN\n",
      "131           5          0          0.138950           0           0     TN\n",
      "132           6          0          0.140413           0           0     TN\n",
      "133           7          0          0.146487           0           0     TN\n",
      "134           8          0          0.148848           0           0     TN\n",
      "135           9          0          0.146694           0           0     TN\n",
      "136          10          0          0.148548           0           0     TN\n",
      "137          11          0          0.151966           0           0     TN\n",
      "138          12          0          0.154131           0           0     TN\n",
      "139          13          0          0.150789           0           0     TN\n",
      "140          14          0          0.142870           0           0     TN\n",
      "141          15          0          0.131238           0           0     TN\n",
      "142          16          0          0.112598           0           0     TN\n",
      "143          17          0          0.098794           0           0     TN\n",
      "144          18          0          0.101138           0           0     TN\n",
      "145          19          0          0.120394           0           0     TN\n",
      "146          20          0          0.144946           0           0     TN\n",
      "147          21          0          0.145508           0           0     TN\n",
      "148          22          0          0.152221           0           0     TN\n",
      "149          23          0          0.161877           0           0     TN\n",
      "150          24          0          0.169913           0           0     TN\n",
      "151          25          0          0.178428           0           0     TN\n",
      "152          26          0          0.196592           0           0     TN\n",
      "153          27          0          0.253760           0           0     TN\n",
      "154          28          0          0.313484           0           0     TN\n",
      "155          29          0          0.294916           0           0     TN\n",
      "156          30          0          0.212916           0           0     TN\n",
      "157          31          0          0.155948           0           0     TN\n",
      "158          32          0          0.145556           0           0     TN\n",
      "159          33          0          0.160261           0           0     TN\n",
      "160          34          0          0.160108           0           0     TN\n",
      "161          35          0          0.164074           0           0     TN\n",
      "162          36          0          0.175882           0           0     TN\n",
      "163          37          0          0.196758           0           0     TN\n",
      "164          38          0          0.227453           0           0     TN\n",
      "165          39          0          0.269689           0           0     TN\n",
      "166          40          0          0.303686           0           0     TN\n",
      "167          41          0          0.288379           0           0     TN\n",
      "168          42          0          0.207937           0           0     TN\n",
      "169          43          0          0.154715           0           0     TN\n",
      "170          44          0          0.141587           0           0     TN\n",
      "171          45          0          0.139046           0           0     TN\n",
      "172          46          0          0.138048           0           0     TN\n",
      "173          47          0          0.138606           0           0     TN\n",
      "174          48          0          0.144535           0           0     TN\n",
      "175          49          0          0.161651           0           0     TN\n",
      "176          50          0          0.154635           0           0     TN\n",
      "177          51          0          0.128349           0           0     TN\n",
      "178          52          0          0.127545           0           0     TN\n",
      "179          53          0          0.120517           0           0     TN\n",
      "180          54          0          0.126278           0           0     TN\n",
      "181          55          0          0.135998           0           0     TN\n",
      "182          56          0          0.141476           0           0     TN\n",
      "183          57          0          0.142555           0           0     TN\n",
      "184          58          0          0.138082           0           0     TN\n",
      "185          59          0          0.141293           0           0     TN\n",
      "186          60          0          0.169376           0           0     TN\n",
      "187          61          0          0.207125           0           0     TN\n",
      "188          62          0          0.208487           0           0     TN\n",
      "189           0          0          0.177547           0           0     TN\n",
      "190           1          0          0.179726           0           0     TN\n",
      "191           2          0          0.181467           0           0     TN\n",
      "192           3          0          0.158681           0           0     TN\n",
      "193           4          0          0.146641           0           0     TN\n",
      "194           5          0          0.138950           0           0     TN\n",
      "195           6          0          0.140413           0           0     TN\n",
      "196           7          0          0.146487           0           0     TN\n",
      "197           8          0          0.148848           0           0     TN\n",
      "198           9          0          0.146694           0           0     TN\n",
      "199          10          0          0.148548           0           0     TN\n",
      "200          11          0          0.151966           0           0     TN\n",
      "201          12          0          0.154131           0           0     TN\n",
      "202          13          0          0.150789           0           0     TN\n",
      "203          14          0          0.142870           0           0     TN\n",
      "204          15          0          0.131238           0           0     TN\n",
      "205          16          0          0.112598           0           0     TN\n",
      "206          17          0          0.098794           0           0     TN\n",
      "207          18          0          0.101138           0           0     TN\n",
      "208          19          0          0.120394           0           0     TN\n",
      "209          20          0          0.144946           0           0     TN\n",
      "210          21          0          0.145508           0           0     TN\n",
      "211          22          0          0.152221           0           0     TN\n",
      "212          23          0          0.161877           0           0     TN\n",
      "213          24          0          0.169913           0           0     TN\n",
      "214          25          0          0.178428           0           0     TN\n",
      "215          26          0          0.196592           0           0     TN\n",
      "216          27          0          0.253760           0           0     TN\n",
      "217          28          0          0.313484           0           0     TN\n",
      "218          29          0          0.294916           0           0     TN\n",
      "219          30          0          0.212916           0           0     TN\n",
      "220          31          0          0.155948           0           0     TN\n",
      "221          32          0          0.145556           0           0     TN\n",
      "222          33          0          0.160261           0           0     TN\n",
      "223          34          0          0.160108           0           0     TN\n",
      "224          35          0          0.164074           0           0     TN\n",
      "225          36          0          0.175882           0           0     TN\n",
      "226          37          0          0.196758           0           0     TN\n",
      "227          38          0          0.227453           0           0     TN\n",
      "228          39          0          0.269689           0           0     TN\n",
      "229          40          0          0.303686           0           0     TN\n",
      "230          41          0          0.288379           0           0     TN\n",
      "231          42          0          0.207937           0           0     TN\n",
      "232          43          0          0.154715           0           0     TN\n",
      "233          44          0          0.141587           0           0     TN\n",
      "234          45          0          0.139046           0           0     TN\n",
      "235          46          0          0.138048           0           0     TN\n",
      "236          47          0          0.138606           0           0     TN\n",
      "237          48          0          0.144535           0           0     TN\n",
      "238          49          0          0.161651           0           0     TN\n",
      "239          50          0          0.154635           0           0     TN\n",
      "240          51          0          0.128349           0           0     TN\n",
      "241          52          0          0.127545           0           0     TN\n",
      "242          53          0          0.120517           0           0     TN\n",
      "243          54          0          0.126278           0           0     TN\n",
      "244          55          0          0.135998           0           0     TN\n",
      "245          56          0          0.141476           0           0     TN\n",
      "246          57          0          0.142555           0           0     TN\n",
      "247          58          0          0.138082           0           0     TN\n",
      "248          59          0          0.141293           0           0     TN\n",
      "249          60          0          0.169376           0           0     TN\n",
      "250          61          0          0.207125           0           0     TN\n",
      "251          62          0          0.208487           0           0     TN\n",
      "252           0          0          0.265830           0           1     FN\n",
      "253           1          0          0.740410           1           1     TP\n",
      "254           2          0          0.848802           1           1     TP\n",
      "255           3          0          0.869778           1           1     TP\n",
      "256           4          0          0.872756           1           1     TP\n",
      "257           5          0          0.902308           1           1     TP\n",
      "258           6          0          0.916946           1           1     TP\n",
      "259           7          0          0.922855           1           1     TP\n",
      "260           8          0          0.921381           1           1     TP\n",
      "261           9          0          0.914693           1           1     TP\n",
      "262          10          0          0.902629           1           1     TP\n",
      "263          11          0          0.902194           1           1     TP\n",
      "264          12          0          0.902155           1           1     TP\n",
      "265          13          0          0.902139           1           1     TP\n",
      "266          14          0          0.902088           1           1     TP\n",
      "267          15          0          0.901903           1           1     TP\n",
      "268          16          0          0.901496           1           1     TP\n",
      "269          17          0          0.900563           1           1     TP\n",
      "270          18          0          0.899945           1           1     TP\n",
      "271          19          0          0.911764           1           1     TP\n",
      "272          20          0          0.909723           1           1     TP\n",
      "273          21          0          0.917157           1           1     TP\n",
      "274          22          0          0.941469           1           1     TP\n",
      "275          23          0          0.936450           1           1     TP\n",
      "276          24          0          0.864990           1           1     TP\n",
      "277          25          0          0.899394           1           1     TP\n",
      "278          26          0          0.933760           1           1     TP\n",
      "279          27          0          0.948017           1           1     TP\n",
      "280          28          0          0.956174           1           1     TP\n",
      "281          29          0          0.950453           1           1     TP\n",
      "282          30          0          0.931140           1           1     TP\n",
      "283          31          0          0.913183           1           1     TP\n",
      "284          32          0          0.896650           1           1     TP\n",
      "285          33          0          0.853601           1           1     TP\n",
      "286          34          0          0.697045           1           1     TP\n",
      "287          35          0          0.649140           1           1     TP\n",
      "288          36          0          0.666060           1           1     TP\n",
      "289          37          0          0.734073           1           1     TP\n",
      "290          38          0          0.823767           1           1     TP\n",
      "291          39          0          0.860385           1           1     TP\n",
      "292          40          0          0.867892           1           1     TP\n",
      "293          41          0          0.869044           1           1     TP\n",
      "294          42          0          0.860264           1           1     TP\n",
      "295          43          0          0.843359           1           1     TP\n",
      "296          44          0          0.844907           1           1     TP\n",
      "297          45          0          0.837942           1           1     TP\n",
      "298          46          0          0.785556           1           1     TP\n",
      "299          47          0          0.771868           1           1     TP\n",
      "300          48          0          0.894660           1           1     TP\n",
      "301          49          0          0.898561           1           1     TP\n",
      "302          50          0          0.914857           1           1     TP\n",
      "303          51          0          0.910143           1           1     TP\n",
      "304          52          0          0.902131           1           1     TP\n",
      "305          53          0          0.897415           1           1     TP\n",
      "306          54          0          0.874353           1           1     TP\n",
      "307          55          0          0.842016           1           1     TP\n",
      "308          56          0          0.806837           1           1     TP\n",
      "309          57          0          0.800681           1           1     TP\n",
      "310          58          0          0.864985           1           1     TP\n",
      "311          59          0          0.882360           1           1     TP\n",
      "312          60          0          0.915497           1           1     TP\n",
      "313          61          0          0.934725           1           1     TP\n",
      "314          62          0          0.931141           1           1     TP\n",
      "315           0          0          0.497183           0           1     FN\n",
      "316           1          0          0.800972           1           1     TP\n",
      "317           2          0          0.813988           1           1     TP\n",
      "318           3          0          0.826441           1           1     TP\n",
      "319           4          0          0.847779           1           1     TP\n",
      "320           5          0          0.847711           1           1     TP\n",
      "321           6          0          0.848901           1           1     TP\n",
      "322           7          0          0.851564           1           1     TP\n",
      "323           8          0          0.855373           1           1     TP\n",
      "324           9          0          0.869092           1           1     TP\n",
      "325          10          0          0.914055           1           1     TP\n",
      "326          11          0          0.922053           1           1     TP\n",
      "327          12          0          0.919248           1           1     TP\n",
      "328          13          0          0.913529           1           1     TP\n",
      "329          14          0          0.902399           1           1     TP\n",
      "330          15          0          0.902227           1           1     TP\n",
      "331          16          0          0.902227           1           1     TP\n",
      "332          17          0          0.902227           1           1     TP\n",
      "333          18          0          0.902227           1           1     TP\n",
      "334          19          0          0.902226           1           1     TP\n",
      "335          20          0          0.902225           1           1     TP\n",
      "336          21          0          0.902222           1           1     TP\n",
      "337          22          0          0.902221           1           1     TP\n",
      "338          23          0          0.915300           1           1     TP\n",
      "339          24          0          0.915277           1           1     TP\n",
      "340          25          0          0.915023           1           1     TP\n",
      "341          26          0          0.858383           1           1     TP\n",
      "342          27          0          0.704682           1           1     TP\n",
      "343          28          0          0.628801           1           1     TP\n",
      "344          29          0          0.808424           1           1     TP\n",
      "345          30          0          0.922307           1           1     TP\n",
      "346          31          0          0.941999           1           1     TP\n",
      "347          32          0          0.943674           1           1     TP\n",
      "348          33          0          0.949095           1           1     TP\n",
      "349          34          0          0.888834           1           1     TP\n",
      "350          35          0          0.843561           1           1     TP\n",
      "351          36          0          0.796608           1           1     TP\n",
      "352          37          0          0.769074           1           1     TP\n",
      "353          38          0          0.753681           1           1     TP\n",
      "354          39          0          0.694816           1           1     TP\n",
      "355          40          0          0.551423           1           1     TP\n",
      "356          41          0          0.581339           1           1     TP\n",
      "357          42          0          0.659041           1           1     TP\n",
      "358          43          0          0.663361           1           1     TP\n",
      "359          44          0          0.665523           1           1     TP\n",
      "360          45          0          0.679205           1           1     TP\n",
      "361          46          0          0.702568           1           1     TP\n",
      "362          47          0          0.806745           1           1     TP\n",
      "363          48          0          0.839960           1           1     TP\n",
      "364          49          0          0.802206           1           1     TP\n",
      "365          50          0          0.763126           1           1     TP\n",
      "366          51          0          0.900552           1           1     TP\n",
      "367          52          0          0.888666           1           1     TP\n",
      "368          53          0          0.910753           1           1     TP\n",
      "369          54          0          0.916489           1           1     TP\n",
      "370          55          0          0.916444           1           1     TP\n",
      "371          56          0          0.910770           1           1     TP\n",
      "372          57          0          0.902254           1           1     TP\n",
      "373          58          0          0.890997           1           1     TP\n",
      "374          59          0          0.882402           1           1     TP\n",
      "375          60          0          0.869082           1           1     TP\n",
      "376          61          0          0.861235           1           1     TP\n",
      "377          62          0          0.790607           1           1     TP\n",
      "378           0          0          0.153043           0           1     FN\n",
      "379           1          0          0.243393           0           1     FN\n",
      "380           2          0          0.313124           0           1     FN\n",
      "381           3          0          0.560663           1           1     TP\n",
      "382           4          0          0.613736           1           1     TP\n",
      "383           5          0          0.715531           1           1     TP\n",
      "384           6          0          0.747395           1           1     TP\n",
      "385           7          0          0.799428           1           1     TP\n",
      "386           8          0          0.838373           1           1     TP\n",
      "387           9          0          0.839264           1           1     TP\n",
      "388          10          0          0.842148           1           1     TP\n",
      "389          11          0          0.836600           1           1     TP\n",
      "390          12          0          0.830011           1           1     TP\n",
      "391          13          0          0.815675           1           1     TP\n",
      "392          14          0          0.888614           1           1     TP\n",
      "393          15          0          0.904996           1           1     TP\n",
      "394          16          0          0.921328           1           1     TP\n",
      "395          17          0          0.918123           1           1     TP\n",
      "396          18          0          0.902021           1           1     TP\n",
      "397          19          0          0.901833           1           1     TP\n",
      "398          20          0          0.900993           1           1     TP\n",
      "399          21          0          0.899848           1           1     TP\n",
      "400          22          0          0.893015           1           1     TP\n",
      "401          23          0          0.914954           1           1     TP\n",
      "402          24          0          0.938895           1           1     TP\n",
      "403          25          0          0.931017           1           1     TP\n",
      "404          26          0          0.936087           1           1     TP\n",
      "405          27          0          0.950369           1           1     TP\n",
      "406          28          0          0.964071           1           1     TP\n",
      "407          29          0          0.968258           1           1     TP\n",
      "408          30          0          0.969045           1           1     TP\n",
      "409          31          0          0.977422           1           1     TP\n",
      "410          32          0          0.977906           1           1     TP\n",
      "411          33          0          0.967781           1           1     TP\n",
      "412          34          0          0.961953           1           1     TP\n",
      "413          35          0          0.961934           1           1     TP\n",
      "414          36          0          0.968869           1           1     TP\n",
      "415          37          0          0.970970           1           1     TP\n",
      "416          38          0          0.955392           1           1     TP\n",
      "417          39          0          0.953235           1           1     TP\n",
      "418          40          0          0.961630           1           1     TP\n",
      "419          41          0          0.962810           1           1     TP\n",
      "420          42          0          0.959128           1           1     TP\n",
      "421          43          0          0.953443           1           1     TP\n",
      "422          44          0          0.937232           1           1     TP\n",
      "423          45          0          0.908764           1           1     TP\n",
      "424          46          0          0.911166           1           1     TP\n",
      "425          47          0          0.914945           1           1     TP\n",
      "426          48          0          0.866911           1           1     TP\n",
      "427          49          0          0.868808           1           1     TP\n",
      "428          50          0          0.900403           1           1     TP\n",
      "429          51          0          0.904870           1           1     TP\n",
      "430          52          0          0.897473           1           1     TP\n",
      "431          53          0          0.857437           1           1     TP\n",
      "432          54          0          0.858201           1           1     TP\n",
      "433          55          0          0.939195           1           1     TP\n",
      "434          56          0          0.934606           1           1     TP\n",
      "435          57          0          0.879085           1           1     TP\n",
      "436          58          0          0.879604           1           1     TP\n",
      "437          59          0          0.873543           1           1     TP\n",
      "438          60          0          0.831781           1           1     TP\n",
      "439          61          0          0.824274           1           1     TP\n",
      "440          62          0          0.815540           1           1     TP\n",
      "441           0          0          0.177547           0           0     TN\n",
      "442           1          0          0.179726           0           0     TN\n",
      "443           2          0          0.181467           0           0     TN\n",
      "444           3          0          0.158681           0           0     TN\n",
      "445           4          0          0.146641           0           0     TN\n",
      "446           5          0          0.138950           0           0     TN\n",
      "447           6          0          0.140413           0           0     TN\n",
      "448           7          0          0.146487           0           0     TN\n",
      "449           8          0          0.148848           0           0     TN\n",
      "450           9          0          0.146694           0           0     TN\n",
      "451          10          0          0.148548           0           0     TN\n",
      "452          11          0          0.151966           0           0     TN\n",
      "453          12          0          0.154131           0           0     TN\n",
      "454          13          0          0.150789           0           0     TN\n",
      "455          14          0          0.142870           0           0     TN\n",
      "456          15          0          0.131238           0           0     TN\n",
      "457          16          0          0.112598           0           0     TN\n",
      "458          17          0          0.098794           0           0     TN\n",
      "459          18          0          0.101138           0           0     TN\n",
      "460          19          0          0.120394           0           0     TN\n",
      "461          20          0          0.144946           0           0     TN\n",
      "462          21          0          0.145508           0           0     TN\n",
      "463          22          0          0.152221           0           0     TN\n",
      "464          23          0          0.161877           0           0     TN\n",
      "465          24          0          0.169913           0           0     TN\n",
      "466          25          0          0.178428           0           0     TN\n",
      "467          26          0          0.196592           0           0     TN\n",
      "468          27          0          0.253760           0           0     TN\n",
      "469          28          0          0.313484           0           0     TN\n",
      "470          29          0          0.294916           0           0     TN\n",
      "471          30          0          0.212916           0           0     TN\n",
      "472          31          0          0.155948           0           0     TN\n",
      "473          32          0          0.145556           0           0     TN\n",
      "474          33          0          0.160261           0           0     TN\n",
      "475          34          0          0.160108           0           0     TN\n",
      "476          35          0          0.164074           0           0     TN\n",
      "477          36          0          0.175882           0           0     TN\n",
      "478          37          0          0.196758           0           0     TN\n",
      "479          38          0          0.227453           0           0     TN\n",
      "480          39          0          0.269689           0           0     TN\n",
      "481          40          0          0.303686           0           0     TN\n",
      "482          41          0          0.288379           0           0     TN\n",
      "483          42          0          0.207937           0           0     TN\n",
      "484          43          0          0.154715           0           0     TN\n",
      "485          44          0          0.141587           0           0     TN\n",
      "486          45          0          0.139046           0           0     TN\n",
      "487          46          0          0.138048           0           0     TN\n",
      "488          47          0          0.138606           0           0     TN\n",
      "489          48          0          0.144535           0           0     TN\n",
      "490          49          0          0.161651           0           0     TN\n",
      "491          50          0          0.154635           0           0     TN\n",
      "492          51          0          0.128349           0           0     TN\n",
      "493          52          0          0.127545           0           0     TN\n",
      "494          53          0          0.120517           0           0     TN\n",
      "495          54          0          0.126278           0           0     TN\n",
      "496          55          0          0.135998           0           0     TN\n",
      "497          56          0          0.141476           0           0     TN\n",
      "498          57          0          0.142555           0           0     TN\n",
      "499          58          0          0.138082           0           0     TN\n",
      "500          59          0          0.141293           0           0     TN\n",
      "501          60          0          0.169376           0           0     TN\n",
      "502          61          0          0.207125           0           0     TN\n",
      "503          62          0          0.208487           0           0     TN\n",
      "504           0          0          0.351743           0           1     FN\n",
      "505           1          0          0.394308           0           1     FN\n",
      "506           2          0          0.431236           0           1     FN\n",
      "507           3          0          0.514228           1           1     TP\n",
      "508           4          0          0.568791           1           1     TP\n",
      "509           5          0          0.580498           1           1     TP\n",
      "510           6          0          0.582315           1           1     TP\n",
      "511           7          0          0.582714           1           1     TP\n",
      "512           8          0          0.582604           1           1     TP\n",
      "513           9          0          0.582468           1           1     TP\n",
      "514          10          0          0.582394           1           1     TP\n",
      "515          11          0          0.582307           1           1     TP\n",
      "516          12          0          0.581950           1           1     TP\n",
      "517          13          0          0.578952           1           1     TP\n",
      "518          14          0          0.562113           1           1     TP\n",
      "519          15          0          0.460493           0           1     FN\n",
      "520          16          0          0.316946           0           1     FN\n",
      "521          17          0          0.168996           0           1     FN\n",
      "522          18          0          0.252016           0           1     FN\n",
      "523          19          0          0.627627           1           1     TP\n",
      "524          20          0          0.870260           1           1     TP\n",
      "525          21          0          0.900881           1           1     TP\n",
      "526          22          0          0.880701           1           1     TP\n",
      "527          23          0          0.871337           1           1     TP\n",
      "528          24          0          0.870572           1           1     TP\n",
      "529          25          0          0.870601           1           1     TP\n",
      "530          26          0          0.870639           1           1     TP\n",
      "531          27          0          0.870686           1           1     TP\n",
      "532          28          0          0.870589           1           1     TP\n",
      "533          29          0          0.870558           1           1     TP\n",
      "534          30          0          0.870547           1           1     TP\n",
      "535          31          0          0.870560           1           1     TP\n",
      "536          32          0          0.870554           1           1     TP\n",
      "537          33          0          0.870553           1           1     TP\n",
      "538          34          0          0.870569           1           1     TP\n",
      "539          35          0          0.870624           1           1     TP\n",
      "540          36          0          0.870769           1           1     TP\n",
      "541          37          0          0.871366           1           1     TP\n",
      "542          38          0          0.873971           1           1     TP\n",
      "543          39          0          0.880458           1           1     TP\n",
      "544          40          0          0.886470           1           1     TP\n",
      "545          41          0          0.889834           1           1     TP\n",
      "546          42          0          0.890552           1           1     TP\n",
      "547          43          0          0.880278           1           1     TP\n",
      "548          44          0          0.845937           1           1     TP\n",
      "549          45          0          0.822722           1           1     TP\n",
      "550          46          0          0.822065           1           1     TP\n",
      "551          47          0          0.828011           1           1     TP\n",
      "552          48          0          0.820667           1           1     TP\n",
      "553          49          0          0.814843           1           1     TP\n",
      "554          50          0          0.728922           1           1     TP\n",
      "555          51          0          0.526297           1           1     TP\n",
      "556          52          0          0.527419           1           1     TP\n",
      "557          53          0          0.437617           0           1     FN\n",
      "558          54          0          0.426819           0           1     FN\n",
      "559          55          0          0.473951           0           1     FN\n",
      "560          56          0          0.551546           1           1     TP\n",
      "561          57          0          0.582935           1           1     TP\n",
      "562          58          0          0.588617           1           1     TP\n",
      "563          59          0          0.589448           1           1     TP\n",
      "564          60          0          0.589566           1           1     TP\n",
      "565          61          0          0.589580           1           1     TP\n",
      "566          62          0          0.589569           1           1     TP\n",
      "567           0          0          0.177547           0           0     TN\n",
      "568           1          0          0.179726           0           0     TN\n",
      "569           2          0          0.181467           0           0     TN\n",
      "570           3          0          0.158681           0           0     TN\n",
      "571           4          0          0.146641           0           0     TN\n",
      "572           5          0          0.138950           0           0     TN\n",
      "573           6          0          0.140413           0           0     TN\n",
      "574           7          0          0.146487           0           0     TN\n",
      "575           8          0          0.148848           0           0     TN\n",
      "576           9          0          0.146694           0           0     TN\n",
      "577          10          0          0.148548           0           0     TN\n",
      "578          11          0          0.151966           0           0     TN\n",
      "579          12          0          0.154131           0           0     TN\n",
      "580          13          0          0.150789           0           0     TN\n",
      "581          14          0          0.142870           0           0     TN\n",
      "582          15          0          0.131238           0           0     TN\n",
      "583          16          0          0.112598           0           0     TN\n",
      "584          17          0          0.098794           0           0     TN\n",
      "585          18          0          0.101138           0           0     TN\n",
      "586          19          0          0.120394           0           0     TN\n",
      "587          20          0          0.144946           0           0     TN\n",
      "588          21          0          0.145508           0           0     TN\n",
      "589          22          0          0.152221           0           0     TN\n",
      "590          23          0          0.161877           0           0     TN\n",
      "591          24          0          0.169913           0           0     TN\n",
      "592          25          0          0.178428           0           0     TN\n",
      "593          26          0          0.196592           0           0     TN\n",
      "594          27          0          0.253760           0           0     TN\n",
      "595          28          0          0.313484           0           0     TN\n",
      "596          29          0          0.294916           0           0     TN\n",
      "597          30          0          0.212916           0           0     TN\n",
      "598          31          0          0.155948           0           0     TN\n",
      "599          32          0          0.145556           0           0     TN\n",
      "600          33          0          0.160261           0           0     TN\n",
      "601          34          0          0.160108           0           0     TN\n",
      "602          35          0          0.164074           0           0     TN\n",
      "603          36          0          0.175882           0           0     TN\n",
      "604          37          0          0.196758           0           0     TN\n",
      "605          38          0          0.227453           0           0     TN\n",
      "606          39          0          0.269689           0           0     TN\n",
      "607          40          0          0.303686           0           0     TN\n",
      "608          41          0          0.288379           0           0     TN\n",
      "609          42          0          0.207937           0           0     TN\n",
      "610          43          0          0.154715           0           0     TN\n",
      "611          44          0          0.141587           0           0     TN\n",
      "612          45          0          0.139046           0           0     TN\n",
      "613          46          0          0.138048           0           0     TN\n",
      "614          47          0          0.138606           0           0     TN\n",
      "615          48          0          0.144535           0           0     TN\n",
      "616          49          0          0.161651           0           0     TN\n",
      "617          50          0          0.154635           0           0     TN\n",
      "618          51          0          0.128349           0           0     TN\n",
      "619          52          0          0.127545           0           0     TN\n",
      "620          53          0          0.120517           0           0     TN\n",
      "621          54          0          0.126278           0           0     TN\n",
      "622          55          0          0.135998           0           0     TN\n",
      "623          56          0          0.141476           0           0     TN\n",
      "624          57          0          0.142555           0           0     TN\n",
      "625          58          0          0.138082           0           0     TN\n",
      "626          59          0          0.141293           0           0     TN\n",
      "627          60          0          0.169376           0           0     TN\n",
      "628          61          0          0.207125           0           0     TN\n",
      "629          62          0          0.208487           0           0     TN\n"
     ]
    }
   ],
   "source": [
    "print(conf_matrix_total)\n",
    "print(conf_matrix)\n",
    "conf_matrix_total = np.sum(conf_matrix.cpu().numpy(), axis=0)\n",
    "metrics = conf_matrix_metrics(conf_matrix_total)\n",
    "print_metrics(metrics)\n",
    "print(dataset_df.to_string())"
   ]
  },
  {
   "cell_type": "code",
   "execution_count": 100,
   "metadata": {},
   "outputs": [],
   "source": [
    "# df and plots settings\n",
    "pd.set_option(\"display.float_format\", \"{:.2%}\".format)\n",
    "\n",
    "pd.options.plotting.backend = \"matplotlib\"\n",
    "\n",
    "\n",
    "# print(dataset_df)\n",
    "pd.set_option(\"display.max_rows\", 2000)\n",
    "false_positive = dataset_df.query('Result == \"FP\"')\n",
    "false_negative = dataset_df.query('Result == \"FN\"')\n",
    "# sample_df = pd.concat([sample_df, sample_df])\n",
    "\n",
    "false_positive_plot = false_positive.groupby([\"window idx\"])[\"window idx\"].count()\n",
    "false_negative_plot = false_negative.groupby([\"window idx\"])[\"window idx\"].count()\n",
    "# print(false_positive['Pred probability'].value_counts(bins=10, sort=False))\n",
    "\n",
    "\n",
    "if len(false_positive_plot) > 0:\n",
    "    print(\"FALSE POSITVES\")\n",
    "    print(false_positive)\n",
    "    # print(false_positive.groupby(['event_idx'])['event_idx'].count())\n",
    "    false_positive.groupby([\"event_idx\"])[\"event_idx\"].count().plot(kind=\"bar\")\n",
    "    plt.show()\n",
    "    false_positive_plot.plot(kind=\"bar\", edgecolor=\"black\")\n",
    "    plt.show()\n",
    "    false_positive[\"Pred probability\"].value_counts(\n",
    "        bins=[i * 0.1 for i in range(5, 11)], sort=False, normalize=True\n",
    "    ).plot(kind=\"bar\")\n",
    "    plt.show()\n",
    "if len(false_negative_plot) > 0:\n",
    "    print(\"FALSE NEGATIVES\")\n",
    "    print(false_negative)\n",
    "    # print(false_negative.groupby(['event_idx'])['event_idx'].count())\n",
    "    false_negative.groupby([\"event_idx\"])[\"event_idx\"].count().plot(kind=\"bar\")\n",
    "    plt.show()\n",
    "\n",
    "    false_negative_plot.plot(kind=\"bar\", edgecolor=\"black\")\n",
    "    plt.show()\n",
    "    false_negative[\"Pred probability\"].value_counts(\n",
    "        bins=[i * 0.1 for i in range(6)], sort=False, normalize=True\n",
    "    ).plot(kind=\"bar\")\n",
    "    plt.show()\n",
    "\n",
    "plt.show()"
   ]
  },
  {
   "cell_type": "code",
   "execution_count": null,
   "metadata": {},
   "outputs": [],
   "source": [
    "# model.load_state_dict(torch.load('models\\LSTMHarmonic_weights_R3Currents.pth'))\n",
    "print(conf_matrix_total)\n",
    "metrics = conf_matrix_metrics(conf_matrix_total)\n",
    "print_metrics(metrics)\n",
    "plot_confusion_matrix(metrics)"
   ]
  },
  {
   "attachments": {},
   "cell_type": "markdown",
   "metadata": {},
   "source": [
    "##### 7.6. Save Dataframe and Confusion Matrix\n"
   ]
  },
  {
   "cell_type": "code",
   "execution_count": 180,
   "metadata": {},
   "outputs": [],
   "source": [
    "dataset_df.to_parquet(f\"parquet_data/paper_jan/R{relay_number}_df.parquet\")\n",
    "conf_matrix_df = pd.DataFrame(\n",
    "    conf_matrix.cpu(), columns=[\"TP\", \"FP\", \"TF\", \"FN\", \"TP + FN\"]\n",
    ")\n",
    "conf_matrix_df.to_parquet(f\"parquet_data/paper_jan/R{relay_number}_CM_df.parquet\")\n",
    "np.save(f\"parquet_data/paper_jan/R{relay_number}_CM.npy\", conf_matrix.cpu())"
   ]
  },
  {
   "attachments": {},
   "cell_type": "markdown",
   "metadata": {},
   "source": [
    "##### 7.7. Individual Sample Visualization\n"
   ]
  },
  {
   "cell_type": "code",
   "execution_count": null,
   "metadata": {},
   "outputs": [],
   "source": [
    "# Create signal_df\n",
    "event_idx = 9\n",
    "print(dataset.csv_list[event_idx])\n",
    "sample_df, conf_matrix = signal_exploration(event_idx, dataset, model)\n",
    "metrics = conf_matrix_metrics(conf_matrix)\n",
    "print(f\"Confusion Matrix: {conf_matrix}\")\n",
    "print(sample_df)\n",
    "plot_confusion_matrix(metrics)\n",
    "false_positive = sample_df.query('Result == \"FP\"')\n",
    "false_negative = sample_df.query('Result == \"FN\"')\n",
    "# sample_df = pd.concat([sample_df, sample_df])\n",
    "print(\"FALSE POSITVES\")\n",
    "print(false_positive)\n",
    "print(\"\")\n",
    "print(\"FALSE NEGATIVES\")\n",
    "print(false_negative)"
   ]
  },
  {
   "cell_type": "code",
   "execution_count": null,
   "metadata": {},
   "outputs": [],
   "source": [
    "window_idx = 56\n",
    "sample_idx = (max_window_idx * event_idx) + window_idx\n",
    "\n",
    "\n",
    "def update_fig(fig):\n",
    "    fig.update_traces(line_color=\"#EEEEEE\", line_width=2)\n",
    "    fig.update_layout(\n",
    "        paper_bgcolor=\"#222831\",\n",
    "        plot_bgcolor=\"#393E46\",\n",
    "        font_color=\"whitesmoke\",\n",
    "    )\n",
    "    fig.update_xaxes(showgrid=True, gridwidth=1, gridcolor=\"#32E0C4\")\n",
    "    fig.update_yaxes(showgrid=True, gridwidth=1, gridcolor=\"#32E0C4\")\n",
    "\n",
    "\n",
    "signal, t = dataset.__getitem__(sample_idx, data_plot=True)\n",
    "signal = np.copy(signal)\n",
    "signal = signal.reshape((-1, 3))\n",
    "signal = signal[:, 0]\n",
    "t = np.copy(t)\n",
    "print(type(t))\n",
    "print(type(signal))\n",
    "# print(f\"Window index: {sample_df.query('indices == 196').index[0]}\")\n",
    "fig = px.line(\n",
    "    x=t,\n",
    "    y=signal,\n",
    "    width=600,\n",
    "    height=400,\n",
    "    labels=dict(x=\"time\", y=\"Amplitude\"),\n",
    ")\n",
    "# update_fig(fig)x\n",
    "fig.show()\n",
    "fig = px.line(\n",
    "    x=sample_df.index,\n",
    "    y=sample_df[\"Pred label\"],\n",
    "    width=600,\n",
    "    height=400,\n",
    "    labels=dict(x=\"Window\", y=\"Trip Signal\"),\n",
    "    line_shape=\"hv\",\n",
    ")\n",
    "# update_fig(fig)\n",
    "fig.show()"
   ]
  },
  {
   "cell_type": "code",
   "execution_count": 62,
   "metadata": {},
   "outputs": [],
   "source": [
    "import csv\n",
    "\n",
    "with open(\"./dataset_lists/R2_list.csv\", \"w\") as f:\n",
    "    write = csv.writer(f)\n",
    "    write.writerow(dataset.csv_list)"
   ]
  },
  {
   "attachments": {},
   "cell_type": "markdown",
   "metadata": {},
   "source": [
    "#### Por hacer\n",
    "\n",
    "- Colocar tiempo en la gráfica de disparo\n"
   ]
  },
  {
   "attachments": {},
   "cell_type": "markdown",
   "metadata": {},
   "source": [
    "### 8. References\n",
    "\n",
    "1. PyTorch Contributors: LSTM. [LSTM — PyTorch 1.13 documentation](https://pytorch.org/docs/stable/generated/torch.nn.LSTM.html).\n",
    "<!-- @online{LSTM,\n",
    "    author = \"{PyTorch Contributors}\",\n",
    "    title = \"LSTM\",\n",
    "    url  = \"https://pytorch.org/docs/stable/generated/torch.nn.LSTM.html\",\n",
    "    addendum = \"(accessed: 10.02.2023)\",\n",
    "    keywords = \"LSTM pytorch\"\n",
    "} -->\n"
   ]
  },
  {
   "attachments": {},
   "cell_type": "markdown",
   "metadata": {},
   "source": []
  }
 ],
 "metadata": {
  "kernelspec": {
   "display_name": "env",
   "language": "python",
   "name": "python3"
  },
  "language_info": {
   "codemirror_mode": {
    "name": "ipython",
    "version": 3
   },
   "file_extension": ".py",
   "mimetype": "text/x-python",
   "name": "python",
   "nbconvert_exporter": "python",
   "pygments_lexer": "ipython3",
   "version": "3.9.11"
  },
  "orig_nbformat": 4,
  "vscode": {
   "interpreter": {
    "hash": "72ca1a9e086f4c7ef9a163ec3bf69ee2fedc8d7281f4001d4d35bca77b5aa424"
   }
  }
 },
 "nbformat": 4,
 "nbformat_minor": 2
}
