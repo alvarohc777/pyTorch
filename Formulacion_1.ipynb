{
 "cells": [
  {
   "attachments": {},
   "cell_type": "markdown",
   "metadata": {},
   "source": [
    "#### Imports"
   ]
  },
  {
   "cell_type": "code",
   "execution_count": 30,
   "metadata": {},
   "outputs": [],
   "source": [
    "import torch\n",
    "import torch.nn as nn\n",
    "from torch.utils.data import Dataset, DataLoader, random_split\n",
    "import numpy as np\n",
    "import pandas as pd\n",
    "import matplotlib.pyplot as plt\n",
    "\n",
    "# Acceder al sistema operativo\n",
    "import os\n",
    "import glob\n",
    "import shutil\n",
    "import random\n",
    "\n"
   ]
  },
  {
   "attachments": {},
   "cell_type": "markdown",
   "metadata": {},
   "source": [
    "#### References\n",
    "1. PyTorch Contributors: LSTM. [LSTM — PyTorch 1.13 documentation](https://pytorch.org/docs/stable/generated/torch.nn.LSTM.html).\n",
    "<!-- @online{LSTM,\n",
    "    author = \"{PyTorch Contributors}\",\n",
    "    title = \"LSTM\",\n",
    "    url  = \"https://pytorch.org/docs/stable/generated/torch.nn.LSTM.html\",\n",
    "    addendum = \"(accessed: 10.02.2023)\",\n",
    "    keywords = \"LSTM pytorch\"\n",
    "} -->\n",
    "\n",
    "$a^{\\langle t-1 \\rangle}$"
   ]
  },
  {
   "attachments": {},
   "cell_type": "markdown",
   "metadata": {},
   "source": [
    "#### LSTM parameters\n",
    "\n",
    "- **n_signals:** number of signals fed into model for each event.\n",
    "    - For example: for input signals: [$I_{a}$, $I_{b}$, $I_{c}$] -> n_signals = 3).\n",
    "    <br><br>\n",
    "- **N:** window size. \n",
    "    - For 3840Hz sampling frequency and a 0.016ms window (containing one cycle of a 60Hz wave), N = 64.\n",
    "    \\begin{equation}\n",
    "    N = \\frac{fs}{f_{fundamental}} w\n",
    "    \\end{equation}\n",
    "    <br>\n",
    "- **hidden_dim:** The number of features in the hidden state $a^{\\langle t \\rangle}$ (also refered as $h^{\\langle t \\rangle}$)\n",
    "\n",
    "    \n",
    "    \n",
    "    \n",
    "    \n",
    "\n",
    "\n",
    "\n",
    "- **train/test/dev_batch_size**: mini-batch size.\n",
    "    - train: portion of dataset used to train the model (i.e. adjust the weigths and biases).\n",
    "    - test: portion of dataset used to estimate the performance of the model.\n",
    "    <br><br>\n",
    "    \n",
    "\n",
    "<figure> \n",
    "<center><img src=\"./images/DatabaseSchema.jpeg\" style=\"height:220px;width:330px;\"></center>\n",
    "<caption><center><font color='whitesmoke'><b>Figure 1.</b> Mini-batch dataset geometry </font></center></caption>\n",
    "</figure>\n",
    "\n",
    "\n",
    "- **target_size:** number of classes.\n",
    "    - target_size = 1:\n",
    "        - Binary Classification: One output treated as probability of belonging to one class or the other (E.g. No-Fault = 0 | Fault = 1)\n",
    "    - target_size > 1:\n",
    "        - Multiclass: Multiple exclusive classes. Class with higher score represents predicted class. The sum of scores (using softmax) adds up 1.<br> (E.g. [No-fault, Fault, Caps], an output of values [0.07, 0.91, 0.2] represents a Fault class prediction)\n",
    "        - Multilabel: Multiple classes that are not mutually exclusive. Each position of output vector is a probability (using sigmoid).\n",
    "<br> (E.g. [$\\phi_A$, $\\phi_B$, $\\phi_C$], an output of values [0.95, 0.90, 0.01 ] represents faulted phases *A* and *B*, i.e. biphasic *AB* fault )\n",
    "\n",
    "\n",
    "\n",
    "\n"
   ]
  },
  {
   "cell_type": "code",
   "execution_count": 31,
   "metadata": {},
   "outputs": [
    {
     "name": "stdout",
     "output_type": "stream",
     "text": [
      "cpu\n"
     ]
    }
   ],
   "source": [
    "# LSTM parameters\n",
    "hidden_dim = 20\n",
    "n_signals = 1\n",
    "N = 64\n",
    "\n",
    "# _batch_size => m in figure 1.\n",
    "train_batch_size = 64\n",
    "dev_batch_size = 16\n",
    "test_batch_size = 16\n",
    "\n",
    "# Classification type (binary)\n",
    "tagset_size = 1\n",
    "\n",
    "# Set\n",
    "device = \"cuda\" if torch.cuda.is_available() else \"cpu\"\n",
    "print(device)\n"
   ]
  },
  {
   "attachments": {},
   "cell_type": "markdown",
   "metadata": {},
   "source": [
    "#### Model Creation\n",
    "\n",
    "The fault detector model consists of a block of *N* LSTM cells (figure 2.) in series. This block processes one training sample at a time (moving window). For each moving window, each cell processes a sample of the signal, and will pass context information sequentially to the next cell. This information will be passed in the hidden state $a^{\\langle t \\rangle}$  and the cell state $c^{\\langle t \\rangle}$. \n",
    "\n",
    "\n",
    "Each LSTM's input $x^{\\langle t \\rangle}$ is combined with it's previous hidden state $a^{\\langle t - 1 \\rangle}$. \n",
    "Each LSTM's cell state $c^{\\langle t \\rangle}$. will be inputed to the next LSTM $_{t + 1}$ . At each step $c^{\\langle t \\rangle}$ is updated to add _(remember)_ or delete _(forget)_ information.\n",
    "\n",
    "At each time step, $a^{\\langle t \\rangle}$ can be passed through a sigmoid function to obatain an output $\\hat{y}^{\\langle t \\rangle}$. However, this yields a many-to-many model. Since fault detection is made after processing _N_ input samples inside a moving window, only one label is needed per window (no-fault/fault) making it possible to approach the problem as binary classification. \n",
    "In other words, for each moving window, the prediction will be made at the last LSTM block cell, i.e. $\\hat{y}^{\\langle N-1 \\rangle}$.\n",
    "\n",
    "<br>\n",
    "\n",
    "\n",
    "<figure> \n",
    "<center><img src=\"./images/LSTM_cell.png\" style=\"width:500;height:400px;\" ></center>\n",
    "<caption><center><b>Figure 2.</b>LSTM cell</center></caption>\n",
    "</figure>\n",
    "\n",
    "\n",
    "##### WRITE MORE LSTM INFORMATION\n",
    "\n",
    "The LSTM block will be fed an input vector of dimension (m, N, s), where:\n",
    "\n",
    "            - m: mini-batch size.\n",
    "            - N: moving window size.\n",
    "            - s: signals _(n_signals)_\n",
    "        \n",
    "Pytorch **nn.Module** class will be used to create the FaultDetector LSTM detector class following the architecture shown in figure 3. The FaultDetector class includes the LSTM, linear and sigmoid blocks shown in the flow diagram. The linear + sigmoid blocks work as the classifier part of the model. The hidden activation $a^{\\langle N-1 \\rangle}$ _(lstm_out[:, -1, :])_ is passed through the classifier block to obtain $\\hat{y}^{\\langle N-1 \\rangle}$, with dimensions (m, 1).\n",
    "\n",
    "\n",
    "<figure> \n",
    "<center><img src=\"./images/LSTM_binary.jpeg\" style=\"width:700;height:600px;\"></center>\n",
    "<caption><center><b>Figure 3.</b>LSTM detector flow diagram</center></caption>\n",
    "</figure>\n"
   ]
  },
  {
   "cell_type": "code",
   "execution_count": 32,
   "metadata": {},
   "outputs": [
    {
     "name": "stdout",
     "output_type": "stream",
     "text": [
      "Model structure: FaultDetector(\n",
      "  (lstm): LSTM(1, 20, batch_first=True)\n",
      "  (fc): Linear(in_features=20, out_features=1, bias=True)\n",
      ")\n",
      "\n"
     ]
    }
   ],
   "source": [
    "# Model Creation\n",
    "\n",
    "\n",
    "class FaultDetector(nn.Module):\n",
    "    \"\"\"Some Information about FaultDetector\"\"\"\n",
    "\n",
    "    def __init__(self, N, hidden_dim, tagset_size):\n",
    "        super(FaultDetector, self).__init__()\n",
    "        self.lstm = nn.LSTM(N, hidden_dim, batch_first=True)\n",
    "        self.fc = nn.Linear(hidden_dim, tagset_size)\n",
    "\n",
    "    def forward(self, x):\n",
    "        lstm_out, _ = self.lstm(x)\n",
    "        fc_layer = self.fc(lstm_out[:, -1, :])\n",
    "\n",
    "        return torch.sigmoid(fc_layer)\n",
    "\n",
    "\n",
    "model = FaultDetector(n_signals, hidden_dim, tagset_size).to(device)\n",
    "loss_fn = nn.BCELoss()\n",
    "optimizer = torch.optim.Adam(model.parameters(), lr=1e-2)\n",
    "# Learning rate decay\n",
    "decayRate = 0.96\n",
    "my_lr_scheduler = torch.optim.lr_scheduler.ExponentialLR(optimizer=optimizer, gamma=decayRate)\n",
    "\n",
    "print(f\"Model structure: {model}\\n\")\n",
    "signal_name = \"I: X0023A-R1A\"\n"
   ]
  },
  {
   "attachments": {},
   "cell_type": "markdown",
   "metadata": {},
   "source": [
    "#### Dataset Class "
   ]
  },
  {
   "cell_type": "code",
   "execution_count": 33,
   "metadata": {},
   "outputs": [],
   "source": [
    "from utils.signalload import CSV_pandas_path\n",
    "from utils.auxfunctions import moving_window\n",
    "import numpy as np\n",
    "from itertools import repeat\n",
    "\n",
    "\n",
    "class Form1Dataset(torch.utils.data.Dataset):\n",
    "    \"\"\"Some Information about Form1Dataset\"\"\"\n",
    "\n",
    "    def __init__(\n",
    "        self,\n",
    "        dataset_dir,\n",
    "        signal_name,\n",
    "        max_window_idx=193,\n",
    "        window_length=64,\n",
    "        step=1,\n",
    "        test=False,\n",
    "    ):\n",
    "        super(Form1Dataset, self).__init__()\n",
    "        self.max_window_idx = max_window_idx\n",
    "        self.test = test\n",
    "\n",
    "        self.csv_list = glob.glob(f\"{dataset_dir}*.csv\")\n",
    "        self.csv_amount = len(self.csv_list)\n",
    "        self.windows_amount = max_window_idx * self.csv_amount\n",
    "        self.window_length = window_length\n",
    "        self.step = step\n",
    "\n",
    "    def __getitem__(self, index):\n",
    "\n",
    "        # sample_settings\n",
    "        window_length = self.window_length\n",
    "        step = self.step\n",
    "\n",
    "        # Calculate window_idx and file name\n",
    "        window_idx = index % self.max_window_idx\n",
    "        csv_idx = index // self.max_window_idx\n",
    "        csv_full_path = self.csv_list[csv_idx]\n",
    "\n",
    "        # Load CSV, signal and create windows\n",
    "        csv_name = os.path.basename(csv_full_path)\n",
    "        signal, t, _ = CSV_pandas_path(csv_full_path).load_data(signal_name)\n",
    "        signal_windows, t_windows = list(\n",
    "            map(moving_window, [signal, t], repeat(window_length), repeat(step))\n",
    "        )\n",
    "\n",
    "        # select window\n",
    "\n",
    "        signal_window = signal_windows[window_idx]\n",
    "        signal_window = np.expand_dims(signal_window, axis=1)\n",
    "        t_window = t_windows[window_idx]\n",
    "\n",
    "        # create labels\n",
    "        if window_idx < 66:\n",
    "            label = np.array([0])\n",
    "        else:\n",
    "            label = np.array([1])\n",
    "\n",
    "        # For dataset visualization return following information\n",
    "        if self.test == True:\n",
    "            return signal_window, t_window, label, csv_name, index, window_idx\n",
    "\n",
    "        # For training only signals and labels are required\n",
    "        signal_window = torch.from_numpy(signal_window).float()\n",
    "        label = torch.from_numpy(label).float()\n",
    "        return signal_window, label\n",
    "\n",
    "    def __len__(self):\n",
    "        return self.csv_amount * self.max_window_idx\n"
   ]
  },
  {
   "cell_type": "code",
   "execution_count": 67,
   "metadata": {},
   "outputs": [
    {
     "name": "stdout",
     "output_type": "stream",
     "text": [
      "copying 35 files...\n",
      "finished\n",
      "Available Relays (current):\n",
      "I: X0038A-X0043A\n",
      "I: X0038B-X0043B\n",
      "I: X0038C-X0043C\n",
      "I: X0048A-X0053A\n",
      "I: X0048B-X0053B\n",
      "I: X0048C-X0053C\n",
      "I: X0060A-X0065A\n",
      "I: X0060B-X0065B\n",
      "I: X0060C-X0065C\n",
      "I: X0066A-X0067A\n",
      "I: X0066B-X0067B\n",
      "I: X0066C-X0067C\n",
      "I: X0023A-R1A\n",
      "I: X0023B-R1B\n",
      "I: X0023C-R1C\n",
      "I: X0004A-R2A\n",
      "I: X0004B-R2B\n",
      "I: X0004C-R2C\n",
      "I: X0071A-R3A\n",
      "I: X0071B-R3B\n",
      "I: X0071C-R3C\n",
      "copying 35 files...\n",
      "finished\n",
      "Available Relays (current):\n",
      "I: X0038A-X0043A\n",
      "I: X0038B-X0043B\n",
      "I: X0038C-X0043C\n",
      "I: X0048A-X0053A\n",
      "I: X0048B-X0053B\n",
      "I: X0048C-X0053C\n",
      "I: X0060A-X0065A\n",
      "I: X0060B-X0065B\n",
      "I: X0060C-X0065C\n",
      "I: X0066A-X0067A\n",
      "I: X0066B-X0067B\n",
      "I: X0066C-X0067C\n",
      "I: X0023A-R1A\n",
      "I: X0023B-R1B\n",
      "I: X0023C-R1C\n",
      "I: X0004A-R2A\n",
      "I: X0004B-R2B\n",
      "I: X0004C-R2C\n",
      "I: X0071A-R3A\n",
      "I: X0071B-R3B\n",
      "I: X0071C-R3C\n",
      "copying 35 files...\n",
      "finished\n",
      "Available Relays (current):\n",
      "I: X0038A-X0043A\n",
      "I: X0038B-X0043B\n",
      "I: X0038C-X0043C\n",
      "I: X0048A-X0053A\n",
      "I: X0048B-X0053B\n",
      "I: X0048C-X0053C\n",
      "I: X0060A-X0065A\n",
      "I: X0060B-X0065B\n",
      "I: X0060C-X0065C\n",
      "I: X0066A-X0067A\n",
      "I: X0066B-X0067B\n",
      "I: X0066C-X0067C\n",
      "I: X0023A-R1A\n",
      "I: X0023B-R1B\n",
      "I: X0023C-R1C\n",
      "I: X0004A-R2A\n",
      "I: X0004B-R2B\n",
      "I: X0004C-R2C\n",
      "I: X0071A-R3A\n",
      "I: X0071B-R3B\n",
      "I: X0071C-R3C\n"
     ]
    }
   ],
   "source": [
    "# Creating Dataset Folders\n",
    "\n",
    "dataset_dir_full = \"C:/Users/aherrada/OneDrive - Universidad del Norte/Uninorte/DetectionDataBase/LSTM_form_1/fault_01/\"\n",
    "dataset_dir_R1 = \"C:/Users/aherrada/OneDrive - Universidad del Norte/Uninorte/DetectionDataBase/LSTM_form_1/R1/\"\n",
    "dataset_dir_R2 = \"C:/Users/aherrada/OneDrive - Universidad del Norte/Uninorte/DetectionDataBase/LSTM_form_1/R2/\"\n",
    "dataset_dir_R3 = \"C:/Users/aherrada/OneDrive - Universidad del Norte/Uninorte/DetectionDataBase/LSTM_form_1/R3/\"\n",
    "max_window_idx = 130\n",
    "n_events = 35\n",
    "\n",
    "\n",
    "def dataset_creator(source_path, target_path):\n",
    "    csv_list = glob.glob(f\"{source_path}*.csv\")\n",
    "    if not os.path.isdir(target_path):\n",
    "        print(\"creating\")\n",
    "        os.makedirs(target_path)\n",
    "    else:\n",
    "        file_list = glob.glob(f\"{target_path}*.csv\")\n",
    "        for file in file_list:\n",
    "            os.remove(file)\n",
    "    csv_list = random.sample(csv_list, n_events)\n",
    "    print(f\"copying {len(csv_list)} files...\")\n",
    "    for csv in csv_list:\n",
    "        source_path = csv\n",
    "        target_path = target_path\n",
    "        shutil.copy(source_path, target_path)\n",
    "    print(\"finished\")\n",
    "    print(\"Available Relays (current):\")\n",
    "    CSV_pandas_path(csv_list[0]).relay_list()\n",
    "\n",
    "\n",
    "# Crear los 3 Datasets para entrenar los relés individualmente\n",
    "dataset_creator(dataset_dir_full, dataset_dir_R1)\n",
    "dataset_creator(dataset_dir_full, dataset_dir_R2)\n",
    "dataset_creator(dataset_dir_full, dataset_dir_R3)\n"
   ]
  },
  {
   "cell_type": "code",
   "execution_count": 35,
   "metadata": {},
   "outputs": [],
   "source": [
    "# Create Training / Test / Validation Loops\n",
    "\n",
    "# Training\n",
    "def train(dataloader, model, loss_fn, optimizer, return_loss = False):\n",
    "    size = len(dataloader.dataset)\n",
    "    model.train()\n",
    "    loss_list = []\n",
    "    for batch, (x, y) in enumerate(dataloader):\n",
    "        x, y = x.to(device), y.to(device)\n",
    "\n",
    "        # Compute prediction error\n",
    "        pred = model(x)\n",
    "        loss = loss_fn(pred, y)\n",
    "\n",
    "        # Backpropagation\n",
    "        optimizer.zero_grad()\n",
    "        loss.backward()\n",
    "        optimizer.step()\n",
    "        if return_loss == True:\n",
    "            loss_list.append(loss.item())\n",
    "        if batch % 2 == 0:\n",
    "            loss, current = loss.item(), batch * len(x)\n",
    "            print(f\"loss: {loss:>f} [{current:>5d}/{size:>5d}]\")\n",
    "\n",
    "        if batch % 5 == 0:\n",
    "            my_lr_scheduler.step()\n",
    "    if return_loss == True:\n",
    "        return loss_list\n",
    "\n",
    "\n",
    "\n",
    "def test(dataloader, model, loss_fn):\n",
    "    size = len(dataloader.dataset)\n",
    "    num_batches = len(dataloader)\n",
    "    model.eval()\n",
    "    test_loss, correct = 0, 0\n",
    "    with torch.no_grad():\n",
    "        for x, y in dataloader:\n",
    "            x, y = x.to(device), y.to(device)\n",
    "            pred = model(x)\n",
    "            test_loss += loss_fn(pred, y).item()\n",
    "            correct += (torch.round(pred) == y).type(torch.float).sum().item()\n",
    "    test_loss /= num_batches\n",
    "    correct /= size\n",
    "    print(\n",
    "        f\"Test Error: \\n Accuracy: {(100*correct):>0.1f}%, Avg loss: {test_loss:>8f} \\n\"\n",
    "    )\n"
   ]
  },
  {
   "cell_type": "code",
   "execution_count": 13,
   "metadata": {},
   "outputs": [],
   "source": [
    "# Load Dataset\n",
    "signal_name_R1 = \"I: X0023A-R1A\"\n",
    "dataset_R1 = Form1Dataset(\n",
    "    dataset_dir_R1, max_window_idx=max_window_idx, signal_name=signal_name\n",
    ")\n",
    "train_dataset, test_dataset, dev_dataset = random_split(dataset_R1, [0.9, 0.09, 0.01])\n",
    "train_dataloader = DataLoader(train_dataset, batch_size=train_batch_size, shuffle=True)\n",
    "test_dataloader = DataLoader(test_dataset, batch_size=test_batch_size, shuffle=True)\n",
    "# EL test set realmente es un dev set\n",
    "# Como regla general, si es utilizado dentro del loop es un dev set.\n",
    "dev_dataloader = DataLoader(dev_dataset, batch_size=dev_batch_size, shuffle=True)\n"
   ]
  },
  {
   "cell_type": "code",
   "execution_count": 184,
   "metadata": {},
   "outputs": [
    {
     "name": "stdout",
     "output_type": "stream",
     "text": [
      "Epoch 1\n",
      "--------------------------------\n",
      "loss: 0.729722 [    0/ 4680]\n",
      "loss: 0.663461 [  128/ 4680]\n",
      "loss: 0.627010 [  256/ 4680]\n",
      "loss: 0.618080 [  384/ 4680]\n",
      "loss: 0.607826 [  512/ 4680]\n",
      "loss: 0.562368 [  640/ 4680]\n",
      "loss: 0.548736 [  768/ 4680]\n",
      "loss: 0.520460 [  896/ 4680]\n",
      "loss: 0.476086 [ 1024/ 4680]\n",
      "loss: 0.453834 [ 1152/ 4680]\n",
      "loss: 0.461397 [ 1280/ 4680]\n",
      "loss: 0.366739 [ 1408/ 4680]\n",
      "loss: 0.398598 [ 1536/ 4680]\n",
      "loss: 0.341131 [ 1664/ 4680]\n",
      "loss: 0.305565 [ 1792/ 4680]\n",
      "loss: 0.422587 [ 1920/ 4680]\n",
      "loss: 0.301990 [ 2048/ 4680]\n",
      "loss: 0.339439 [ 2176/ 4680]\n",
      "loss: 0.235904 [ 2304/ 4680]\n",
      "loss: 0.247592 [ 2432/ 4680]\n",
      "loss: 0.284333 [ 2560/ 4680]\n",
      "loss: 0.203905 [ 2688/ 4680]\n",
      "loss: 0.204625 [ 2816/ 4680]\n",
      "loss: 0.225502 [ 2944/ 4680]\n",
      "loss: 0.169407 [ 3072/ 4680]\n",
      "loss: 0.190635 [ 3200/ 4680]\n",
      "loss: 0.165772 [ 3328/ 4680]\n",
      "loss: 0.169632 [ 3456/ 4680]\n",
      "loss: 0.187497 [ 3584/ 4680]\n",
      "loss: 0.196814 [ 3712/ 4680]\n",
      "loss: 0.107561 [ 3840/ 4680]\n",
      "loss: 0.149040 [ 3968/ 4680]\n",
      "loss: 0.140476 [ 4096/ 4680]\n",
      "loss: 0.177108 [ 4224/ 4680]\n",
      "loss: 0.123793 [ 4352/ 4680]\n",
      "loss: 0.181781 [ 4480/ 4680]\n",
      "loss: 0.124730 [ 4608/ 4680]\n",
      "Test Error: \n",
      " Accuracy: 95.7%, Avg loss: 0.155631 \n",
      "\n"
     ]
    }
   ],
   "source": [
    "epochs = 1\n",
    "for epoch in range(epochs):\n",
    "    \n",
    "    print(f\"Epoch {epoch+1}\\n--------------------------------\")\n",
    "    train_loss = train(train_dataloader, model, loss_fn, optimizer, return_loss=True)\n",
    "    test(test_dataloader, model, loss_fn)"
   ]
  },
  {
   "cell_type": "code",
   "execution_count": 197,
   "metadata": {},
   "outputs": [
    {
     "data": {
      "text/plain": [
       "[<matplotlib.lines.Line2D at 0x1d95908c7c0>,\n",
       " <matplotlib.lines.Line2D at 0x1d95908c820>]"
      ]
     },
     "execution_count": 197,
     "metadata": {},
     "output_type": "execute_result"
    },
    {
     "data": {
      "image/png": "[encoded data removed]",
      "text/plain": [
       "<Figure size 640x480 with 1 Axes>"
      ]
     },
     "metadata": {},
     "output_type": "display_data"
    }
   ],
   "source": [
    "\n",
    "mini_batch_list = [index for index, _ in enumerate(train_loss)]\n",
    "train_loss_ewm = pd.DataFrame(train_loss).ewm(com=0.95).mean()\n",
    "plt.plot(mini_batch_list, train_loss, mini_batch_list, train_loss_ewm)\n",
    "\n"
   ]
  },
  {
   "cell_type": "code",
   "execution_count": 8,
   "metadata": {},
   "outputs": [
    {
     "data": {
      "text/plain": [
       "<All keys matched successfully>"
      ]
     },
     "execution_count": 8,
     "metadata": {},
     "output_type": "execute_result"
    }
   ],
   "source": [
    "# # Save the Model\n",
    "# torch.save(model.state_dict(), './models/LSTMHarmonic_weights_989.pth')\n",
    "# model.load_state_dict(torch.load('./models/LSTMHarmonic_weights_989.pth'))\n"
   ]
  },
  {
   "cell_type": "code",
   "execution_count": 17,
   "metadata": {},
   "outputs": [
    {
     "name": "stdout",
     "output_type": "stream",
     "text": [
      "    Pred probability  Pred label  True label          prueba\n",
      "0           0.083728           0           0   True negative\n",
      "1           0.985684           1           1   True positive\n",
      "2           0.976011           1           1   True positive\n",
      "3           0.972641           1           1   True positive\n",
      "4           0.900719           1           1   True positive\n",
      "5           0.540412           1           1   True positive\n",
      "6           0.026980           0           0   True negative\n",
      "7           0.992567           1           1   True positive\n",
      "8           0.146838           0           0   True negative\n",
      "9           0.057726           0           1  False negative\n",
      "10          0.984801           1           1   True positive\n",
      "11          0.937972           1           1   True positive\n",
      "12          0.972068           1           1   True positive\n",
      "13          0.072751           0           0   True negative\n",
      "14          0.972085           1           1   True positive\n",
      "15          0.026660           0           0   True negative\n"
     ]
    }
   ],
   "source": [
    "# Data visualization (CPU)\n",
    "\n",
    "\n",
    "def confussion_matrix(pred_label, true_label):\n",
    "    label = \"\"\n",
    "    if int(pred_label) == int(true_label):\n",
    "        label += \"True\"\n",
    "    else:\n",
    "        label += \"False\"\n",
    "    if pred_label == 1:\n",
    "        label += \" positive\"\n",
    "    else:\n",
    "        label += \" negative\"\n",
    "    return label\n",
    "\n",
    "\n",
    "confussion_matrix_pandas = np.vectorize(confussion_matrix)\n",
    "\n",
    "dataset = Form1Dataset(dataset_dir_R1, signal_name_R1, max_window_idx=max_window_idx)\n",
    "train_dataloader = DataLoader(dataset, batch_size=16, shuffle=True)\n",
    "dataiter = iter(train_dataloader)\n",
    "signal, labels = next(dataiter)\n",
    "\n",
    "x = model(signal.to(device))\n",
    "x = x.detach()\n",
    "\n",
    "data = {\n",
    "    \"Pred probability\": torch.reshape(x, (-1,)),\n",
    "    \"Pred label\": torch.reshape(torch.round(x), (-1,)).int(),\n",
    "    \"True label\": torch.reshape(labels, (-1,)).int(),\n",
    "}\n",
    "df = pd.DataFrame(data)\n",
    "\n",
    "df[\"prueba\"] = confussion_matrix_pandas(df[\"Pred label\"], df[\"True label\"])\n",
    "\n",
    "print(df)\n"
   ]
  },
  {
   "cell_type": "code",
   "execution_count": 21,
   "metadata": {},
   "outputs": [
    {
     "name": "stdout",
     "output_type": "stream",
     "text": [
      "torch.Size([16, 64, 1])\n",
      "tensor([[1., 0., 1., 1., 1., 1., 0., 0., 1.]])\n",
      "tensor([[1., 0., 1., 1., 1., 1., 0., 0., 1.]], grad_fn=<ReshapeAliasBackward0>)\n",
      "tensor([[0.9727, 0.0287, 0.9725, 0.9858, 0.9726, 0.9718, 0.0439, 0.0209, 0.9855]],\n",
      "       grad_fn=<ReshapeAliasBackward0>)\n"
     ]
    },
    {
     "data": {
      "image/png": "[encoded data removed]",
      "text/plain": [
       "<Figure size 1000x1000 with 9 Axes>"
      ]
     },
     "metadata": {},
     "output_type": "display_data"
    }
   ],
   "source": [
    "dataiter = iter(dev_dataloader)\n",
    "signal, labels = next(dataiter)\n",
    "fs = 3840\n",
    "t = np.linspace(0, N / fs, N)\n",
    "print(signal.shape)\n",
    "print(torch.reshape(labels[1:10], (1, -1)))\n",
    "figure = plt.figure(figsize=(10, 10))\n",
    "cols, rows = 3, 3\n",
    "for i in range(1, cols * rows + 1):\n",
    "    figure.add_subplot(rows, cols, i)\n",
    "    plt.plot(t, signal[i, :, 0])\n",
    "x = model(signal[1:10].to(device))\n",
    "print(torch.reshape(torch.round(x), (1, -1)))\n",
    "print(torch.reshape(x, (1, -1)))\n"
   ]
  },
  {
   "cell_type": "code",
   "execution_count": 27,
   "metadata": {},
   "outputs": [
    {
     "name": "stdout",
     "output_type": "stream",
     "text": [
      "torch.Size([16, 64, 1])\n"
     ]
    },
    {
     "data": {
      "application/vnd.plotly.v1+json": {
       "config": {
        "plotlyServerURL": "https://plot.ly"
       },
       "data": [
        {
         "marker": {
          "color": "black"
         },
         "name": "0",
         "type": "scatter",
         "x": [
          0,
          0.00026455026455026457,
          0.0005291005291005291,
          0.0007936507936507937,
          0.0010582010582010583,
          0.001322751322751323,
          0.0015873015873015873,
          0.001851851851851852,
          0.0021164021164021165,
          0.002380952380952381,
          0.002645502645502646,
          0.0029100529100529104,
          0.0031746031746031746,
          0.0034391534391534392,
          0.003703703703703704,
          0.003968253968253969,
          0.004232804232804233,
          0.004497354497354497,
          0.004761904761904762,
          0.0050264550264550265,
          0.005291005291005292,
          0.005555555555555556,
          0.005820105820105821,
          0.006084656084656085,
          0.006349206349206349,
          0.006613756613756614,
          0.0068783068783068784,
          0.0071428571428571435,
          0.007407407407407408,
          0.007671957671957673,
          0.007936507936507938,
          0.008201058201058202,
          0.008465608465608466,
          0.00873015873015873,
          0.008994708994708995,
          0.00925925925925926,
          0.009523809523809525,
          0.009788359788359789,
          0.010052910052910053,
          0.010317460317460319,
          0.010582010582010583,
          0.010846560846560847,
          0.011111111111111112,
          0.011375661375661376,
          0.011640211640211642,
          0.011904761904761906,
          0.01216931216931217,
          0.012433862433862434,
          0.012698412698412698,
          0.012962962962962964,
          0.013227513227513229,
          0.013492063492063493,
          0.013756613756613757,
          0.014021164021164023,
          0.014285714285714287,
          0.014550264550264551,
          0.014814814814814815,
          0.01507936507936508,
          0.015343915343915345,
          0.01560846560846561,
          0.015873015873015876,
          0.016137566137566138,
          0.016402116402116404,
          0.016666666666666666
         ],
         "xaxis": "x",
         "y": [
          40.43107986450195,
          38.66181564331055,
          36.646461486816406,
          34.09608840942383,
          31.163963317871094,
          27.886188507080078,
          24.500347137451172,
          17.564653396606445,
          4.673253059387207,
          -10.204288482666016,
          -25.563230514526367,
          -41.40210723876953,
          -56.483882904052734,
          -72.22344970703125,
          -88.12517547607422,
          -103.18661499023438,
          -116.74215698242188,
          -128.9225311279297,
          -140.93966674804688,
          -151.55645751953125,
          -160.76466369628906,
          -167.78305053710938,
          -173.58529663085938,
          -177.99440002441406,
          -180.8365020751953,
          -181.474609375,
          -180.04812622070312,
          -177.4632568359375,
          -173.3441925048828,
          -167.34835815429688,
          -159.4474639892578,
          -149.83029174804688,
          -139.37083435058594,
          -127.40283203125,
          -114.28718566894531,
          -99.77672576904297,
          -84.36918640136719,
          -68.25206756591797,
          -51.52347183227539,
          -34.246578216552734,
          -16.56596565246582,
          1.396090030670166,
          19.3189697265625,
          37.12888717651367,
          54.71867752075195,
          71.91504669189453,
          88.27312469482422,
          103.8748779296875,
          118.36478424072266,
          131.8836212158203,
          144.08836364746094,
          154.68197631835938,
          164.04917907714844,
          171.7417755126953,
          177.80027770996094,
          182.17816162109375,
          184.6725616455078,
          185.55587768554688,
          184.541015625,
          181.8427734375,
          177.4107666015625,
          171.16087341308594,
          163.30734252929688,
          153.857177734375
         ],
         "yaxis": "y"
        },
        {
         "marker": {
          "color": "black"
         },
         "name": "1",
         "type": "scatter",
         "x": [
          0,
          0.00026455026455026457,
          0.0005291005291005291,
          0.0007936507936507937,
          0.0010582010582010583,
          0.001322751322751323,
          0.0015873015873015873,
          0.001851851851851852,
          0.0021164021164021165,
          0.002380952380952381,
          0.002645502645502646,
          0.0029100529100529104,
          0.0031746031746031746,
          0.0034391534391534392,
          0.003703703703703704,
          0.003968253968253969,
          0.004232804232804233,
          0.004497354497354497,
          0.004761904761904762,
          0.0050264550264550265,
          0.005291005291005292,
          0.005555555555555556,
          0.005820105820105821,
          0.006084656084656085,
          0.006349206349206349,
          0.006613756613756614,
          0.0068783068783068784,
          0.0071428571428571435,
          0.007407407407407408,
          0.007671957671957673,
          0.007936507936507938,
          0.008201058201058202,
          0.008465608465608466,
          0.00873015873015873,
          0.008994708994708995,
          0.00925925925925926,
          0.009523809523809525,
          0.009788359788359789,
          0.010052910052910053,
          0.010317460317460319,
          0.010582010582010583,
          0.010846560846560847,
          0.011111111111111112,
          0.011375661375661376,
          0.011640211640211642,
          0.011904761904761906,
          0.01216931216931217,
          0.012433862433862434,
          0.012698412698412698,
          0.012962962962962964,
          0.013227513227513229,
          0.013492063492063493,
          0.013756613756613757,
          0.014021164021164023,
          0.014285714285714287,
          0.014550264550264551,
          0.014814814814814815,
          0.01507936507936508,
          0.015343915343915345,
          0.01560846560846561,
          0.015873015873015876,
          0.016137566137566138,
          0.016402116402116404,
          0.016666666666666666
         ],
         "xaxis": "x2",
         "y": [
          -13.189179420471191,
          -17.269838333129883,
          -21.132064819335938,
          -24.885854721069336,
          -27.970401763916016,
          -30.979408264160156,
          -33.46738815307617,
          -36.1431999206543,
          -38.3272705078125,
          -40.19969940185547,
          -41.44913864135742,
          -42.33395767211914,
          -42.90796661376953,
          -43.19951629638672,
          -42.905845642089844,
          -42.1970100402832,
          -41.00657272338867,
          -39.51912307739258,
          -37.68818283081055,
          -35.59648513793945,
          -32.97061538696289,
          -29.912189483642578,
          -26.77442741394043,
          -23.307767868041992,
          -19.792028427124023,
          -15.695425987243652,
          -11.585326194763184,
          -7.376896381378174,
          -3.2532405853271484,
          0.8347931504249573,
          4.984068393707275,
          9.256691932678223,
          13.398191452026367,
          17.377017974853516,
          21.046817779541016,
          24.712682723999023,
          28.052440643310547,
          31.306119918823242,
          33.990638732910156,
          36.55059814453125,
          38.68043518066406,
          40.50093460083008,
          41.91411590576172,
          42.927032470703125,
          43.52901077270508,
          43.79298782348633,
          43.425594329833984,
          42.771766662597656,
          41.5893440246582,
          40.116275787353516,
          38.22636413574219,
          36.12038803100586,
          33.46879196166992,
          30.41948699951172,
          27.200347900390625,
          23.731975555419922,
          20.116413116455078,
          15.31985855102539,
          -3.524899482727051,
          -19.316286087036133,
          -32.08865737915039,
          -48.458248138427734,
          -60.45149230957031,
          -72.678955078125
         ],
         "yaxis": "y2"
        },
        {
         "marker": {
          "color": "black"
         },
         "name": "2",
         "type": "scatter",
         "x": [
          0,
          0.00026455026455026457,
          0.0005291005291005291,
          0.0007936507936507937,
          0.0010582010582010583,
          0.001322751322751323,
          0.0015873015873015873,
          0.001851851851851852,
          0.0021164021164021165,
          0.002380952380952381,
          0.002645502645502646,
          0.0029100529100529104,
          0.0031746031746031746,
          0.0034391534391534392,
          0.003703703703703704,
          0.003968253968253969,
          0.004232804232804233,
          0.004497354497354497,
          0.004761904761904762,
          0.0050264550264550265,
          0.005291005291005292,
          0.005555555555555556,
          0.005820105820105821,
          0.006084656084656085,
          0.006349206349206349,
          0.006613756613756614,
          0.0068783068783068784,
          0.0071428571428571435,
          0.007407407407407408,
          0.007671957671957673,
          0.007936507936507938,
          0.008201058201058202,
          0.008465608465608466,
          0.00873015873015873,
          0.008994708994708995,
          0.00925925925925926,
          0.009523809523809525,
          0.009788359788359789,
          0.010052910052910053,
          0.010317460317460319,
          0.010582010582010583,
          0.010846560846560847,
          0.011111111111111112,
          0.011375661375661376,
          0.011640211640211642,
          0.011904761904761906,
          0.01216931216931217,
          0.012433862433862434,
          0.012698412698412698,
          0.012962962962962964,
          0.013227513227513229,
          0.013492063492063493,
          0.013756613756613757,
          0.014021164021164023,
          0.014285714285714287,
          0.014550264550264551,
          0.014814814814814815,
          0.01507936507936508,
          0.015343915343915345,
          0.01560846560846561,
          0.015873015873015876,
          0.016137566137566138,
          0.016402116402116404,
          0.016666666666666666
         ],
         "xaxis": "x3",
         "y": [
          -11.776597023010254,
          -7.569033145904541,
          -3.4483895301818848,
          0.6807847619056702,
          4.731590747833252,
          8.950643539428711,
          12.939663887023926,
          16.92830467224121,
          20.66219711303711,
          24.265106201171875,
          27.6229248046875,
          30.679309844970703,
          33.45771026611328,
          35.89039611816406,
          38.10463333129883,
          39.89170455932617,
          41.308074951171875,
          42.286136627197266,
          42.875831604003906,
          43.150150299072266,
          42.89588928222656,
          42.166404724121094,
          41.1047477722168,
          39.541595458984375,
          37.82072067260742,
          35.70252227783203,
          33.1710319519043,
          30.195493698120117,
          26.980823516845703,
          23.636188507080078,
          20.03995132446289,
          16.128131866455078,
          12.012219429016113,
          7.886990070343018,
          3.78814959526062,
          -0.33222731947898865,
          -4.407815933227539,
          -8.65920352935791,
          -12.716568946838379,
          -16.627552032470703,
          -20.359798431396484,
          -23.93968963623047,
          -27.401506423950195,
          -30.527118682861328,
          -33.2982063293457,
          -35.77034378051758,
          -37.96448516845703,
          -45.3966178894043,
          -105.0465316772461,
          -124.31195068359375,
          -140.02809143066406,
          -173.8031463623047,
          -159.4443359375,
          -181.03790283203125,
          -204.78912353515625,
          -178.8285675048828,
          -188.92271423339844,
          -184.80697631835938,
          -162.88978576660156,
          -179.15731811523438,
          -146.19415283203125,
          -120.8529281616211,
          -122.81211853027344,
          -88.18500518798828
         ],
         "yaxis": "y3"
        },
        {
         "marker": {
          "color": "black"
         },
         "name": "3",
         "type": "scatter",
         "x": [
          0,
          0.00026455026455026457,
          0.0005291005291005291,
          0.0007936507936507937,
          0.0010582010582010583,
          0.001322751322751323,
          0.0015873015873015873,
          0.001851851851851852,
          0.0021164021164021165,
          0.002380952380952381,
          0.002645502645502646,
          0.0029100529100529104,
          0.0031746031746031746,
          0.0034391534391534392,
          0.003703703703703704,
          0.003968253968253969,
          0.004232804232804233,
          0.004497354497354497,
          0.004761904761904762,
          0.0050264550264550265,
          0.005291005291005292,
          0.005555555555555556,
          0.005820105820105821,
          0.006084656084656085,
          0.006349206349206349,
          0.006613756613756614,
          0.0068783068783068784,
          0.0071428571428571435,
          0.007407407407407408,
          0.007671957671957673,
          0.007936507936507938,
          0.008201058201058202,
          0.008465608465608466,
          0.00873015873015873,
          0.008994708994708995,
          0.00925925925925926,
          0.009523809523809525,
          0.009788359788359789,
          0.010052910052910053,
          0.010317460317460319,
          0.010582010582010583,
          0.010846560846560847,
          0.011111111111111112,
          0.011375661375661376,
          0.011640211640211642,
          0.011904761904761906,
          0.01216931216931217,
          0.012433862433862434,
          0.012698412698412698,
          0.012962962962962964,
          0.013227513227513229,
          0.013492063492063493,
          0.013756613756613757,
          0.014021164021164023,
          0.014285714285714287,
          0.014550264550264551,
          0.014814814814814815,
          0.01507936507936508,
          0.015343915343915345,
          0.01560846560846561,
          0.015873015873015876,
          0.016137566137566138,
          0.016402116402116404,
          0.016666666666666666
         ],
         "xaxis": "x4",
         "y": [
          25.201435089111328,
          21.816856384277344,
          17.943714141845703,
          13.897750854492188,
          9.784469604492188,
          5.815093994140625,
          1.6553651094436646,
          -2.4081642627716064,
          -6.627835750579834,
          -10.761096000671387,
          -14.80152416229248,
          -18.53056526184082,
          -22.1502742767334,
          -25.598936080932617,
          -28.97745704650879,
          -31.89017105102539,
          -34.51103210449219,
          -36.74369812011719,
          -38.793033599853516,
          -40.40203094482422,
          -41.65728759765625,
          -42.45278549194336,
          -42.92327880859375,
          -42.91402053833008,
          -42.46577453613281,
          -41.55614471435547,
          -40.2789192199707,
          -38.663307189941406,
          -37.9853630065918,
          -52.40147018432617,
          -52.62493133544922,
          -45.71263885498047,
          -43.43324279785156,
          -29.57508659362793,
          -16.38208770751953,
          -9.862847328186035,
          13.299958229064941,
          33.370262145996094,
          49.02032470703125,
          71.25112915039062,
          92.16674041748047,
          111.8593521118164,
          139.5594940185547,
          157.82850646972656,
          176.5165252685547,
          200.88699340820312,
          218.28933715820312,
          236.3163299560547,
          252.4296875,
          264.28594970703125,
          278.50054931640625,
          290.72442626953125,
          294.6797790527344,
          301.29205322265625,
          304.5455322265625,
          305.20892333984375,
          304.6316223144531,
          297.801513671875,
          289.1029968261719,
          281.55743408203125,
          269.38653564453125,
          253.84710693359375,
          237.38619995117188,
          216.60374450683594
         ],
         "yaxis": "y4"
        },
        {
         "marker": {
          "color": "black"
         },
         "name": "4",
         "type": "scatter",
         "x": [
          0,
          0.00026455026455026457,
          0.0005291005291005291,
          0.0007936507936507937,
          0.0010582010582010583,
          0.001322751322751323,
          0.0015873015873015873,
          0.001851851851851852,
          0.0021164021164021165,
          0.002380952380952381,
          0.002645502645502646,
          0.0029100529100529104,
          0.0031746031746031746,
          0.0034391534391534392,
          0.003703703703703704,
          0.003968253968253969,
          0.004232804232804233,
          0.004497354497354497,
          0.004761904761904762,
          0.0050264550264550265,
          0.005291005291005292,
          0.005555555555555556,
          0.005820105820105821,
          0.006084656084656085,
          0.006349206349206349,
          0.006613756613756614,
          0.0068783068783068784,
          0.0071428571428571435,
          0.007407407407407408,
          0.007671957671957673,
          0.007936507936507938,
          0.008201058201058202,
          0.008465608465608466,
          0.00873015873015873,
          0.008994708994708995,
          0.00925925925925926,
          0.009523809523809525,
          0.009788359788359789,
          0.010052910052910053,
          0.010317460317460319,
          0.010582010582010583,
          0.010846560846560847,
          0.011111111111111112,
          0.011375661375661376,
          0.011640211640211642,
          0.011904761904761906,
          0.01216931216931217,
          0.012433862433862434,
          0.012698412698412698,
          0.012962962962962964,
          0.013227513227513229,
          0.013492063492063493,
          0.013756613756613757,
          0.014021164021164023,
          0.014285714285714287,
          0.014550264550264551,
          0.014814814814814815,
          0.01507936507936508,
          0.015343915343915345,
          0.01560846560846561,
          0.015873015873015876,
          0.016137566137566138,
          0.016402116402116404,
          0.016666666666666666
         ],
         "xaxis": "x5",
         "y": [
          -3.3608837127685547,
          -22.818967819213867,
          -53.48594665527344,
          -80.56331634521484,
          -99.73932647705078,
          -115.55671691894531,
          -124.52650451660156,
          -135.13839721679688,
          -145.77606201171875,
          -151.88992309570312,
          -155.85482788085938,
          -156.3158416748047,
          -159.52401733398438,
          -159.1667938232422,
          -156.72508239746094,
          -151.22467041015625,
          -146.19140625,
          -140.38560485839844,
          -132.96517944335938,
          -122.70773315429688,
          -110.31315612792969,
          -99.20680236816406,
          -87.26924896240234,
          -73.95853424072266,
          -59.25444412231445,
          -43.48860168457031,
          -28.913909912109375,
          -13.295463562011719,
          2.503082275390625,
          18.504270553588867,
          34.36031723022461,
          49.73564910888672,
          64.49224090576172,
          79.59568786621094,
          92.89177703857422,
          105.94718170166016,
          117.300048828125,
          127.71308898925781,
          137.26820373535156,
          145.47518920898438,
          151.7490234375,
          157.17047119140625,
          160.33340454101562,
          163.22506713867188,
          163.4627685546875,
          162.16940307617188,
          159.5437774658203,
          155.51319885253906,
          150.04522705078125,
          143.07041931152344,
          134.28416442871094,
          124.55918884277344,
          113.53974914550781,
          101.59175872802734,
          88.8582992553711,
          74.96520233154297,
          60.293724060058594,
          45.07151412963867,
          29.628488540649414,
          13.762574195861816,
          -2.1114132404327393,
          -18.385997772216797,
          -34.1622314453125,
          -49.928157806396484
         ],
         "yaxis": "y5"
        },
        {
         "marker": {
          "color": "black"
         },
         "name": "5",
         "type": "scatter",
         "x": [
          0,
          0.00026455026455026457,
          0.0005291005291005291,
          0.0007936507936507937,
          0.0010582010582010583,
          0.001322751322751323,
          0.0015873015873015873,
          0.001851851851851852,
          0.0021164021164021165,
          0.002380952380952381,
          0.002645502645502646,
          0.0029100529100529104,
          0.0031746031746031746,
          0.0034391534391534392,
          0.003703703703703704,
          0.003968253968253969,
          0.004232804232804233,
          0.004497354497354497,
          0.004761904761904762,
          0.0050264550264550265,
          0.005291005291005292,
          0.005555555555555556,
          0.005820105820105821,
          0.006084656084656085,
          0.006349206349206349,
          0.006613756613756614,
          0.0068783068783068784,
          0.0071428571428571435,
          0.007407407407407408,
          0.007671957671957673,
          0.007936507936507938,
          0.008201058201058202,
          0.008465608465608466,
          0.00873015873015873,
          0.008994708994708995,
          0.00925925925925926,
          0.009523809523809525,
          0.009788359788359789,
          0.010052910052910053,
          0.010317460317460319,
          0.010582010582010583,
          0.010846560846560847,
          0.011111111111111112,
          0.011375661375661376,
          0.011640211640211642,
          0.011904761904761906,
          0.01216931216931217,
          0.012433862433862434,
          0.012698412698412698,
          0.012962962962962964,
          0.013227513227513229,
          0.013492063492063493,
          0.013756613756613757,
          0.014021164021164023,
          0.014285714285714287,
          0.014550264550264551,
          0.014814814814814815,
          0.01507936507936508,
          0.015343915343915345,
          0.01560846560846561,
          0.015873015873015876,
          0.016137566137566138,
          0.016402116402116404,
          0.016666666666666666
         ],
         "xaxis": "x6",
         "y": [
          -36.90930938720703,
          -39.14338302612305,
          -41.082706451416016,
          -42.09286117553711,
          -42.60721206665039,
          -42.7501335144043,
          -42.826202392578125,
          -42.38704299926758,
          -41.49879837036133,
          -39.98167037963867,
          -38.4608039855957,
          -36.40555953979492,
          -34.21950912475586,
          -31.068143844604492,
          -28.02299690246582,
          -24.71411895751953,
          -21.449460983276367,
          -17.669063568115234,
          -13.64274787902832,
          -9.389315605163574,
          -5.232821464538574,
          -1.067508339881897,
          2.7957687377929688,
          6.903998374938965,
          10.969969749450684,
          15.174711227416992,
          18.937707901000977,
          22.612627029418945,
          25.898202896118164,
          29.14251708984375,
          31.997695922851562,
          34.68314743041992,
          37.001930236816406,
          38.99137496948242,
          40.489803314208984,
          41.681968688964844,
          42.4731559753418,
          42.939247131347656,
          42.918704986572266,
          42.39734649658203,
          41.525550842285156,
          40.149696350097656,
          38.6005973815918,
          36.5978889465332,
          34.41647720336914,
          31.482446670532227,
          28.46573829650879,
          25.201435089111328,
          21.816856384277344,
          17.943714141845703,
          13.897750854492188,
          9.784469604492188,
          5.815093994140625,
          1.6553651094436646,
          -2.4081642627716064,
          -6.627835750579834,
          -10.761096000671387,
          -14.80152416229248,
          -18.53056526184082,
          -22.1502742767334,
          -25.598936080932617,
          -28.97745704650879,
          -31.89017105102539,
          -34.51103210449219
         ],
         "yaxis": "y6"
        },
        {
         "marker": {
          "color": "black"
         },
         "name": "6",
         "type": "scatter",
         "x": [
          0,
          0.00026455026455026457,
          0.0005291005291005291,
          0.0007936507936507937,
          0.0010582010582010583,
          0.001322751322751323,
          0.0015873015873015873,
          0.001851851851851852,
          0.0021164021164021165,
          0.002380952380952381,
          0.002645502645502646,
          0.0029100529100529104,
          0.0031746031746031746,
          0.0034391534391534392,
          0.003703703703703704,
          0.003968253968253969,
          0.004232804232804233,
          0.004497354497354497,
          0.004761904761904762,
          0.0050264550264550265,
          0.005291005291005292,
          0.005555555555555556,
          0.005820105820105821,
          0.006084656084656085,
          0.006349206349206349,
          0.006613756613756614,
          0.0068783068783068784,
          0.0071428571428571435,
          0.007407407407407408,
          0.007671957671957673,
          0.007936507936507938,
          0.008201058201058202,
          0.008465608465608466,
          0.00873015873015873,
          0.008994708994708995,
          0.00925925925925926,
          0.009523809523809525,
          0.009788359788359789,
          0.010052910052910053,
          0.010317460317460319,
          0.010582010582010583,
          0.010846560846560847,
          0.011111111111111112,
          0.011375661375661376,
          0.011640211640211642,
          0.011904761904761906,
          0.01216931216931217,
          0.012433862433862434,
          0.012698412698412698,
          0.012962962962962964,
          0.013227513227513229,
          0.013492063492063493,
          0.013756613756613757,
          0.014021164021164023,
          0.014285714285714287,
          0.014550264550264551,
          0.014814814814814815,
          0.01507936507936508,
          0.015343915343915345,
          0.01560846560846561,
          0.015873015873015876,
          0.016137566137566138,
          0.016402116402116404,
          0.016666666666666666
         ],
         "xaxis": "x7",
         "y": [
          -43.013587951660156,
          -42.570884704589844,
          -41.89687728881836,
          -40.63051223754883,
          -38.99713897705078,
          -37.06958770751953,
          -34.922515869140625,
          -32.21530532836914,
          -29.23086929321289,
          -25.936351776123047,
          -22.63208770751953,
          -18.87859344482422,
          -14.915861129760742,
          -10.721565246582031,
          -6.718647480010986,
          -2.5528042316436768,
          1.4997509717941284,
          5.632126331329346,
          9.831899642944336,
          13.89923095703125,
          17.760976791381836,
          21.432092666625977,
          24.852384567260742,
          28.282947540283203,
          31.27903938293457,
          34.0147819519043,
          36.34416580200195,
          38.41569900512695,
          40.1776008605957,
          41.44011688232422,
          42.444400787353516,
          42.88050079345703,
          43.11323928833008,
          42.666927337646484,
          41.891075134277344,
          40.72868728637695,
          39.17470169067383,
          37.333412170410156,
          35.167537689208984,
          32.45884323120117,
          29.5062255859375,
          26.229564666748047,
          22.92270851135254,
          19.17923355102539,
          15.237079620361328,
          11.083086013793945,
          7.018610954284668,
          2.9386301040649414,
          -1.1643970012664795,
          -5.267543315887451,
          -9.513333320617676,
          -13.546908378601074,
          -17.368873596191406,
          -21.077539443969727,
          -24.572601318359375,
          -28.019880294799805,
          -31.04164695739746,
          -33.75486755371094,
          -36.143218994140625,
          -38.256011962890625,
          -40.03704833984375,
          -41.3845329284668,
          -42.36743927001953,
          -46.746185302734375
         ],
         "yaxis": "y7"
        },
        {
         "marker": {
          "color": "black"
         },
         "name": "7",
         "type": "scatter",
         "x": [
          0,
          0.00026455026455026457,
          0.0005291005291005291,
          0.0007936507936507937,
          0.0010582010582010583,
          0.001322751322751323,
          0.0015873015873015873,
          0.001851851851851852,
          0.0021164021164021165,
          0.002380952380952381,
          0.002645502645502646,
          0.0029100529100529104,
          0.0031746031746031746,
          0.0034391534391534392,
          0.003703703703703704,
          0.003968253968253969,
          0.004232804232804233,
          0.004497354497354497,
          0.004761904761904762,
          0.0050264550264550265,
          0.005291005291005292,
          0.005555555555555556,
          0.005820105820105821,
          0.006084656084656085,
          0.006349206349206349,
          0.006613756613756614,
          0.0068783068783068784,
          0.0071428571428571435,
          0.007407407407407408,
          0.007671957671957673,
          0.007936507936507938,
          0.008201058201058202,
          0.008465608465608466,
          0.00873015873015873,
          0.008994708994708995,
          0.00925925925925926,
          0.009523809523809525,
          0.009788359788359789,
          0.010052910052910053,
          0.010317460317460319,
          0.010582010582010583,
          0.010846560846560847,
          0.011111111111111112,
          0.011375661375661376,
          0.011640211640211642,
          0.011904761904761906,
          0.01216931216931217,
          0.012433862433862434,
          0.012698412698412698,
          0.012962962962962964,
          0.013227513227513229,
          0.013492063492063493,
          0.013756613756613757,
          0.014021164021164023,
          0.014285714285714287,
          0.014550264550264551,
          0.014814814814814815,
          0.01507936507936508,
          0.015343915343915345,
          0.01560846560846561,
          0.015873015873015876,
          0.016137566137566138,
          0.016402116402116404,
          0.016666666666666666
         ],
         "xaxis": "x8",
         "y": [
          42.92814254760742,
          43.14836120605469,
          43.45375442504883,
          42.667686462402344,
          40.51984786987305,
          38.287940979003906,
          36.58412551879883,
          35.33401107788086,
          33.207557678222656,
          29.642772674560547,
          25.389753341674805,
          21.23172950744629,
          17.914466857910156,
          15.01398754119873,
          11.470597267150879,
          7.065205097198486,
          1.7981253862380981,
          -2.9841229915618896,
          -6.813525199890137,
          -10.101806640625,
          -13.445141792297363,
          -17.53522491455078,
          -22.051193237304688,
          -26.140460968017578,
          -29.280874252319336,
          -31.52322006225586,
          -33.754058837890625,
          -36.36130142211914,
          -38.949520111083984,
          -40.78662109375,
          -41.96400833129883,
          -42.47659683227539,
          -42.93956756591797,
          -42.996639251708984,
          -42.74310302734375,
          -41.918296813964844,
          -40.817115783691406,
          -39.15116882324219,
          -37.28200912475586,
          -34.87958526611328,
          -32.123714447021484,
          -28.974939346313477,
          -26.03432846069336,
          -22.70132064819336,
          -19.15651512145996,
          -14.865007400512695,
          -10.650468826293945,
          -6.4786529541015625,
          -2.5610456466674805,
          1.3312159776687622,
          5.314605712890625,
          9.689839363098145,
          13.8560791015625,
          17.85136604309082,
          21.220773696899414,
          24.66646957397461,
          27.841686248779297,
          31.121000289916992,
          33.79198455810547,
          36.26115036010742,
          38.20410919189453,
          39.869712829589844,
          41.18418884277344,
          42.19200134277344
         ],
         "yaxis": "y8"
        },
        {
         "marker": {
          "color": "black"
         },
         "name": "8",
         "type": "scatter",
         "x": [
          0,
          0.00026455026455026457,
          0.0005291005291005291,
          0.0007936507936507937,
          0.0010582010582010583,
          0.001322751322751323,
          0.0015873015873015873,
          0.001851851851851852,
          0.0021164021164021165,
          0.002380952380952381,
          0.002645502645502646,
          0.0029100529100529104,
          0.0031746031746031746,
          0.0034391534391534392,
          0.003703703703703704,
          0.003968253968253969,
          0.004232804232804233,
          0.004497354497354497,
          0.004761904761904762,
          0.0050264550264550265,
          0.005291005291005292,
          0.005555555555555556,
          0.005820105820105821,
          0.006084656084656085,
          0.006349206349206349,
          0.006613756613756614,
          0.0068783068783068784,
          0.0071428571428571435,
          0.007407407407407408,
          0.007671957671957673,
          0.007936507936507938,
          0.008201058201058202,
          0.008465608465608466,
          0.00873015873015873,
          0.008994708994708995,
          0.00925925925925926,
          0.009523809523809525,
          0.009788359788359789,
          0.010052910052910053,
          0.010317460317460319,
          0.010582010582010583,
          0.010846560846560847,
          0.011111111111111112,
          0.011375661375661376,
          0.011640211640211642,
          0.011904761904761906,
          0.01216931216931217,
          0.012433862433862434,
          0.012698412698412698,
          0.012962962962962964,
          0.013227513227513229,
          0.013492063492063493,
          0.013756613756613757,
          0.014021164021164023,
          0.014285714285714287,
          0.014550264550264551,
          0.014814814814814815,
          0.01507936507936508,
          0.015343915343915345,
          0.01560846560846561,
          0.015873015873015876,
          0.016137566137566138,
          0.016402116402116404,
          0.016666666666666666
         ],
         "xaxis": "x9",
         "y": [
          35.3815803527832,
          37.204036712646484,
          39.32037353515625,
          41.37947082519531,
          42.748069763183594,
          43.24882507324219,
          43.06682586669922,
          42.29487609863281,
          41.612388610839844,
          41.08685302734375,
          40.04536437988281,
          38.28009033203125,
          35.72862243652344,
          32.902523040771484,
          29.794389724731445,
          26.897478103637695,
          24.022306442260742,
          20.86566925048828,
          16.65028190612793,
          11.985522270202637,
          7.63017463684082,
          3.831364631652832,
          0.24957004189491272,
          -3.638761281967163,
          -7.931865692138672,
          -12.378678321838379,
          -16.542404174804688,
          -20.211563110351562,
          -23.375886917114258,
          -26.527231216430664,
          -29.852481842041016,
          -32.95370101928711,
          -35.60698699951172,
          -37.62522506713867,
          -39.3829460144043,
          -40.78160095214844,
          -41.96443176269531,
          -42.71125793457031,
          -43.18324661254883,
          -42.993412017822266,
          -42.32231521606445,
          -41.18730545043945,
          -39.868892669677734,
          -38.18593215942383,
          -36.270416259765625,
          -33.855255126953125,
          -30.909866333007812,
          -27.682344436645508,
          -24.31505012512207,
          -20.87520980834961,
          -17.1046199798584,
          -13.018251419067383,
          -8.933256149291992,
          -4.6924543380737305,
          -0.6158941984176636,
          3.5458667278289795,
          7.67629337310791,
          11.776134490966797,
          15.682025909423828,
          19.51058006286621,
          23.15830421447754,
          26.635967254638672,
          29.820737838745117,
          32.61508560180664
         ],
         "yaxis": "y9"
        }
       ],
       "layout": {
        "height": 700,
        "margin": {
         "b": 20,
         "l": 20,
         "r": 30,
         "t": 40
        },
        "paper_bgcolor": "whitesmoke",
        "plot_bgcolor": "rgba(0,0,0,0)",
        "template": {
         "data": {
          "bar": [
           {
            "error_x": {
             "color": "#2a3f5f"
            },
            "error_y": {
             "color": "#2a3f5f"
            },
            "marker": {
             "line": {
              "color": "#E5ECF6",
              "width": 0.5
             },
             "pattern": {
              "fillmode": "overlay",
              "size": 10,
              "solidity": 0.2
             }
            },
            "type": "bar"
           }
          ],
          "barpolar": [
           {
            "marker": {
             "line": {
              "color": "#E5ECF6",
              "width": 0.5
             },
             "pattern": {
              "fillmode": "overlay",
              "size": 10,
              "solidity": 0.2
             }
            },
            "type": "barpolar"
           }
          ],
          "carpet": [
           {
            "aaxis": {
             "endlinecolor": "#2a3f5f",
             "gridcolor": "white",
             "linecolor": "white",
             "minorgridcolor": "white",
             "startlinecolor": "#2a3f5f"
            },
            "baxis": {
             "endlinecolor": "#2a3f5f",
             "gridcolor": "white",
             "linecolor": "white",
             "minorgridcolor": "white",
             "startlinecolor": "#2a3f5f"
            },
            "type": "carpet"
           }
          ],
          "choropleth": [
           {
            "colorbar": {
             "outlinewidth": 0,
             "ticks": ""
            },
            "type": "choropleth"
           }
          ],
          "contour": [
           {
            "colorbar": {
             "outlinewidth": 0,
             "ticks": ""
            },
            "colorscale": [
             [
              0,
              "#0d0887"
             ],
             [
              0.1111111111111111,
              "#46039f"
             ],
             [
              0.2222222222222222,
              "#7201a8"
             ],
             [
              0.3333333333333333,
              "#9c179e"
             ],
             [
              0.4444444444444444,
              "#bd3786"
             ],
             [
              0.5555555555555556,
              "#d8576b"
             ],
             [
              0.6666666666666666,
              "#ed7953"
             ],
             [
              0.7777777777777778,
              "#fb9f3a"
             ],
             [
              0.8888888888888888,
              "#fdca26"
             ],
             [
              1,
              "#f0f921"
             ]
            ],
            "type": "contour"
           }
          ],
          "contourcarpet": [
           {
            "colorbar": {
             "outlinewidth": 0,
             "ticks": ""
            },
            "type": "contourcarpet"
           }
          ],
          "heatmap": [
           {
            "colorbar": {
             "outlinewidth": 0,
             "ticks": ""
            },
            "colorscale": [
             [
              0,
              "#0d0887"
             ],
             [
              0.1111111111111111,
              "#46039f"
             ],
             [
              0.2222222222222222,
              "#7201a8"
             ],
             [
              0.3333333333333333,
              "#9c179e"
             ],
             [
              0.4444444444444444,
              "#bd3786"
             ],
             [
              0.5555555555555556,
              "#d8576b"
             ],
             [
              0.6666666666666666,
              "#ed7953"
             ],
             [
              0.7777777777777778,
              "#fb9f3a"
             ],
             [
              0.8888888888888888,
              "#fdca26"
             ],
             [
              1,
              "#f0f921"
             ]
            ],
            "type": "heatmap"
           }
          ],
          "heatmapgl": [
           {
            "colorbar": {
             "outlinewidth": 0,
             "ticks": ""
            },
            "colorscale": [
             [
              0,
              "#0d0887"
             ],
             [
              0.1111111111111111,
              "#46039f"
             ],
             [
              0.2222222222222222,
              "#7201a8"
             ],
             [
              0.3333333333333333,
              "#9c179e"
             ],
             [
              0.4444444444444444,
              "#bd3786"
             ],
             [
              0.5555555555555556,
              "#d8576b"
             ],
             [
              0.6666666666666666,
              "#ed7953"
             ],
             [
              0.7777777777777778,
              "#fb9f3a"
             ],
             [
              0.8888888888888888,
              "#fdca26"
             ],
             [
              1,
              "#f0f921"
             ]
            ],
            "type": "heatmapgl"
           }
          ],
          "histogram": [
           {
            "marker": {
             "pattern": {
              "fillmode": "overlay",
              "size": 10,
              "solidity": 0.2
             }
            },
            "type": "histogram"
           }
          ],
          "histogram2d": [
           {
            "colorbar": {
             "outlinewidth": 0,
             "ticks": ""
            },
            "colorscale": [
             [
              0,
              "#0d0887"
             ],
             [
              0.1111111111111111,
              "#46039f"
             ],
             [
              0.2222222222222222,
              "#7201a8"
             ],
             [
              0.3333333333333333,
              "#9c179e"
             ],
             [
              0.4444444444444444,
              "#bd3786"
             ],
             [
              0.5555555555555556,
              "#d8576b"
             ],
             [
              0.6666666666666666,
              "#ed7953"
             ],
             [
              0.7777777777777778,
              "#fb9f3a"
             ],
             [
              0.8888888888888888,
              "#fdca26"
             ],
             [
              1,
              "#f0f921"
             ]
            ],
            "type": "histogram2d"
           }
          ],
          "histogram2dcontour": [
           {
            "colorbar": {
             "outlinewidth": 0,
             "ticks": ""
            },
            "colorscale": [
             [
              0,
              "#0d0887"
             ],
             [
              0.1111111111111111,
              "#46039f"
             ],
             [
              0.2222222222222222,
              "#7201a8"
             ],
             [
              0.3333333333333333,
              "#9c179e"
             ],
             [
              0.4444444444444444,
              "#bd3786"
             ],
             [
              0.5555555555555556,
              "#d8576b"
             ],
             [
              0.6666666666666666,
              "#ed7953"
             ],
             [
              0.7777777777777778,
              "#fb9f3a"
             ],
             [
              0.8888888888888888,
              "#fdca26"
             ],
             [
              1,
              "#f0f921"
             ]
            ],
            "type": "histogram2dcontour"
           }
          ],
          "mesh3d": [
           {
            "colorbar": {
             "outlinewidth": 0,
             "ticks": ""
            },
            "type": "mesh3d"
           }
          ],
          "parcoords": [
           {
            "line": {
             "colorbar": {
              "outlinewidth": 0,
              "ticks": ""
             }
            },
            "type": "parcoords"
           }
          ],
          "pie": [
           {
            "automargin": true,
            "type": "pie"
           }
          ],
          "scatter": [
           {
            "fillpattern": {
             "fillmode": "overlay",
             "size": 10,
             "solidity": 0.2
            },
            "type": "scatter"
           }
          ],
          "scatter3d": [
           {
            "line": {
             "colorbar": {
              "outlinewidth": 0,
              "ticks": ""
             }
            },
            "marker": {
             "colorbar": {
              "outlinewidth": 0,
              "ticks": ""
             }
            },
            "type": "scatter3d"
           }
          ],
          "scattercarpet": [
           {
            "marker": {
             "colorbar": {
              "outlinewidth": 0,
              "ticks": ""
             }
            },
            "type": "scattercarpet"
           }
          ],
          "scattergeo": [
           {
            "marker": {
             "colorbar": {
              "outlinewidth": 0,
              "ticks": ""
             }
            },
            "type": "scattergeo"
           }
          ],
          "scattergl": [
           {
            "marker": {
             "colorbar": {
              "outlinewidth": 0,
              "ticks": ""
             }
            },
            "type": "scattergl"
           }
          ],
          "scattermapbox": [
           {
            "marker": {
             "colorbar": {
              "outlinewidth": 0,
              "ticks": ""
             }
            },
            "type": "scattermapbox"
           }
          ],
          "scatterpolar": [
           {
            "marker": {
             "colorbar": {
              "outlinewidth": 0,
              "ticks": ""
             }
            },
            "type": "scatterpolar"
           }
          ],
          "scatterpolargl": [
           {
            "marker": {
             "colorbar": {
              "outlinewidth": 0,
              "ticks": ""
             }
            },
            "type": "scatterpolargl"
           }
          ],
          "scatterternary": [
           {
            "marker": {
             "colorbar": {
              "outlinewidth": 0,
              "ticks": ""
             }
            },
            "type": "scatterternary"
           }
          ],
          "surface": [
           {
            "colorbar": {
             "outlinewidth": 0,
             "ticks": ""
            },
            "colorscale": [
             [
              0,
              "#0d0887"
             ],
             [
              0.1111111111111111,
              "#46039f"
             ],
             [
              0.2222222222222222,
              "#7201a8"
             ],
             [
              0.3333333333333333,
              "#9c179e"
             ],
             [
              0.4444444444444444,
              "#bd3786"
             ],
             [
              0.5555555555555556,
              "#d8576b"
             ],
             [
              0.6666666666666666,
              "#ed7953"
             ],
             [
              0.7777777777777778,
              "#fb9f3a"
             ],
             [
              0.8888888888888888,
              "#fdca26"
             ],
             [
              1,
              "#f0f921"
             ]
            ],
            "type": "surface"
           }
          ],
          "table": [
           {
            "cells": {
             "fill": {
              "color": "#EBF0F8"
             },
             "line": {
              "color": "white"
             }
            },
            "header": {
             "fill": {
              "color": "#C8D4E3"
             },
             "line": {
              "color": "white"
             }
            },
            "type": "table"
           }
          ]
         },
         "layout": {
          "annotationdefaults": {
           "arrowcolor": "#2a3f5f",
           "arrowhead": 0,
           "arrowwidth": 1
          },
          "autotypenumbers": "strict",
          "coloraxis": {
           "colorbar": {
            "outlinewidth": 0,
            "ticks": ""
           }
          },
          "colorscale": {
           "diverging": [
            [
             0,
             "#8e0152"
            ],
            [
             0.1,
             "#c51b7d"
            ],
            [
             0.2,
             "#de77ae"
            ],
            [
             0.3,
             "#f1b6da"
            ],
            [
             0.4,
             "#fde0ef"
            ],
            [
             0.5,
             "#f7f7f7"
            ],
            [
             0.6,
             "#e6f5d0"
            ],
            [
             0.7,
             "#b8e186"
            ],
            [
             0.8,
             "#7fbc41"
            ],
            [
             0.9,
             "#4d9221"
            ],
            [
             1,
             "#276419"
            ]
           ],
           "sequential": [
            [
             0,
             "#0d0887"
            ],
            [
             0.1111111111111111,
             "#46039f"
            ],
            [
             0.2222222222222222,
             "#7201a8"
            ],
            [
             0.3333333333333333,
             "#9c179e"
            ],
            [
             0.4444444444444444,
             "#bd3786"
            ],
            [
             0.5555555555555556,
             "#d8576b"
            ],
            [
             0.6666666666666666,
             "#ed7953"
            ],
            [
             0.7777777777777778,
             "#fb9f3a"
            ],
            [
             0.8888888888888888,
             "#fdca26"
            ],
            [
             1,
             "#f0f921"
            ]
           ],
           "sequentialminus": [
            [
             0,
             "#0d0887"
            ],
            [
             0.1111111111111111,
             "#46039f"
            ],
            [
             0.2222222222222222,
             "#7201a8"
            ],
            [
             0.3333333333333333,
             "#9c179e"
            ],
            [
             0.4444444444444444,
             "#bd3786"
            ],
            [
             0.5555555555555556,
             "#d8576b"
            ],
            [
             0.6666666666666666,
             "#ed7953"
            ],
            [
             0.7777777777777778,
             "#fb9f3a"
            ],
            [
             0.8888888888888888,
             "#fdca26"
            ],
            [
             1,
             "#f0f921"
            ]
           ]
          },
          "colorway": [
           "#636efa",
           "#EF553B",
           "#00cc96",
           "#ab63fa",
           "#FFA15A",
           "#19d3f3",
           "#FF6692",
           "#B6E880",
           "#FF97FF",
           "#FECB52"
          ],
          "font": {
           "color": "#2a3f5f"
          },
          "geo": {
           "bgcolor": "white",
           "lakecolor": "white",
           "landcolor": "#E5ECF6",
           "showlakes": true,
           "showland": true,
           "subunitcolor": "white"
          },
          "hoverlabel": {
           "align": "left"
          },
          "hovermode": "closest",
          "mapbox": {
           "style": "light"
          },
          "paper_bgcolor": "white",
          "plot_bgcolor": "#E5ECF6",
          "polar": {
           "angularaxis": {
            "gridcolor": "white",
            "linecolor": "white",
            "ticks": ""
           },
           "bgcolor": "#E5ECF6",
           "radialaxis": {
            "gridcolor": "white",
            "linecolor": "white",
            "ticks": ""
           }
          },
          "scene": {
           "xaxis": {
            "backgroundcolor": "#E5ECF6",
            "gridcolor": "white",
            "gridwidth": 2,
            "linecolor": "white",
            "showbackground": true,
            "ticks": "",
            "zerolinecolor": "white"
           },
           "yaxis": {
            "backgroundcolor": "#E5ECF6",
            "gridcolor": "white",
            "gridwidth": 2,
            "linecolor": "white",
            "showbackground": true,
            "ticks": "",
            "zerolinecolor": "white"
           },
           "zaxis": {
            "backgroundcolor": "#E5ECF6",
            "gridcolor": "white",
            "gridwidth": 2,
            "linecolor": "white",
            "showbackground": true,
            "ticks": "",
            "zerolinecolor": "white"
           }
          },
          "shapedefaults": {
           "line": {
            "color": "#2a3f5f"
           }
          },
          "ternary": {
           "aaxis": {
            "gridcolor": "white",
            "linecolor": "white",
            "ticks": ""
           },
           "baxis": {
            "gridcolor": "white",
            "linecolor": "white",
            "ticks": ""
           },
           "bgcolor": "#E5ECF6",
           "caxis": {
            "gridcolor": "white",
            "linecolor": "white",
            "ticks": ""
           }
          },
          "title": {
           "x": 0.05
          },
          "xaxis": {
           "automargin": true,
           "gridcolor": "white",
           "linecolor": "white",
           "ticks": "",
           "title": {
            "standoff": 15
           },
           "zerolinecolor": "white",
           "zerolinewidth": 2
          },
          "yaxis": {
           "automargin": true,
           "gridcolor": "white",
           "linecolor": "white",
           "ticks": "",
           "title": {
            "standoff": 15
           },
           "zerolinecolor": "white",
           "zerolinewidth": 2
          }
         }
        },
        "title": {
         "text": "Figuras"
        },
        "width": 900,
        "xaxis": {
         "anchor": "y",
         "domain": [
          0,
          0.2888888888888889
         ]
        },
        "xaxis2": {
         "anchor": "y2",
         "domain": [
          0.35555555555555557,
          0.6444444444444445
         ]
        },
        "xaxis3": {
         "anchor": "y3",
         "domain": [
          0.7111111111111111,
          1
         ]
        },
        "xaxis4": {
         "anchor": "y4",
         "domain": [
          0,
          0.2888888888888889
         ]
        },
        "xaxis5": {
         "anchor": "y5",
         "domain": [
          0.35555555555555557,
          0.6444444444444445
         ]
        },
        "xaxis6": {
         "anchor": "y6",
         "domain": [
          0.7111111111111111,
          1
         ]
        },
        "xaxis7": {
         "anchor": "y7",
         "domain": [
          0,
          0.2888888888888889
         ]
        },
        "xaxis8": {
         "anchor": "y8",
         "domain": [
          0.35555555555555557,
          0.6444444444444445
         ]
        },
        "xaxis9": {
         "anchor": "y9",
         "domain": [
          0.7111111111111111,
          1
         ]
        },
        "yaxis": {
         "anchor": "x",
         "domain": [
          0.7333333333333333,
          1
         ]
        },
        "yaxis2": {
         "anchor": "x2",
         "domain": [
          0.7333333333333333,
          1
         ]
        },
        "yaxis3": {
         "anchor": "x3",
         "domain": [
          0.7333333333333333,
          1
         ]
        },
        "yaxis4": {
         "anchor": "x4",
         "domain": [
          0.36666666666666664,
          0.6333333333333333
         ]
        },
        "yaxis5": {
         "anchor": "x5",
         "domain": [
          0.36666666666666664,
          0.6333333333333333
         ]
        },
        "yaxis6": {
         "anchor": "x6",
         "domain": [
          0.36666666666666664,
          0.6333333333333333
         ]
        },
        "yaxis7": {
         "anchor": "x7",
         "domain": [
          0,
          0.26666666666666666
         ]
        },
        "yaxis8": {
         "anchor": "x8",
         "domain": [
          0,
          0.26666666666666666
         ]
        },
        "yaxis9": {
         "anchor": "x9",
         "domain": [
          0,
          0.26666666666666666
         ]
        }
       }
      }
     },
     "metadata": {},
     "output_type": "display_data"
    },
    {
     "name": "stdout",
     "output_type": "stream",
     "text": [
      "tensor([[1., 1., 1., 1., 0., 1., 0., 0., 1.]])\n",
      "tensor([[1., 1., 1., 1., 0., 0., 0., 0., 1.]], grad_fn=<ReshapeAliasBackward0>)\n",
      "tensor([[0.9855, 0.9077, 0.9730, 0.9932, 0.0476, 0.1270, 0.0338, 0.0269, 0.9706]],\n",
      "       grad_fn=<ReshapeAliasBackward0>)\n"
     ]
    }
   ],
   "source": [
    "from plotly.subplots import make_subplots\n",
    "import plotly.graph_objects as go\n",
    "\n",
    "fs = 3840\n",
    "dataiter = iter(dev_dataloader)\n",
    "signal, labels = next(dataiter)\n",
    "t = np.linspace(0, N / fs, N)\n",
    "\n",
    "print(signal.shape)\n",
    "\n",
    "\n",
    "# figure = plt.figure(figsize=(10, 10))\n",
    "cols, rows = 3, 3\n",
    "fig = make_subplots(rows=rows, cols=cols)\n",
    "\n",
    "for i in range(0, cols * rows):\n",
    "\n",
    "    col = i % cols\n",
    "    row = i // cols\n",
    "    fig.add_trace(\n",
    "        go.Scatter(name=i, x=t, y=signal[i, :, 0], marker_color=\"black\"),\n",
    "        row=row + 1,\n",
    "        col=col + 1,\n",
    "    )\n",
    "\n",
    "fig.update_layout(\n",
    "    height=700,\n",
    "    width=900,\n",
    "    title_text=\"Figuras\",\n",
    "    margin={\"b\": 20, \"t\": 40, \"l\": 20, \"r\": 30},\n",
    "    plot_bgcolor=\"rgba(0,0,0,0)\",\n",
    "    paper_bgcolor=\"whitesmoke\",\n",
    ")\n",
    "fig.show()\n",
    "\n",
    "x = model(signal[1:10].to(device))\n",
    "print(torch.reshape(labels[1:10], (1, -1)))\n",
    "print(torch.reshape(torch.round(x), (1, -1)))\n",
    "print(torch.reshape(x, (1, -1)))\n"
   ]
  },
  {
   "attachments": {},
   "cell_type": "markdown",
   "metadata": {},
   "source": [
    "## Modelo R2 "
   ]
  },
  {
   "cell_type": "code",
   "execution_count": 52,
   "metadata": {},
   "outputs": [
    {
     "name": "stdout",
     "output_type": "stream",
     "text": [
      "Model structure: FaultDetector(\n",
      "  (lstm): LSTM(1, 20, batch_first=True)\n",
      "  (fc): Linear(in_features=20, out_features=1, bias=True)\n",
      ")\n",
      "\n",
      "Epoch 1\n",
      "--------------------------------\n",
      "loss: 0.702416 [    0/ 4680]\n",
      "loss: 0.619623 [  128/ 4680]\n",
      "loss: 0.578907 [  256/ 4680]\n",
      "loss: 0.514406 [  384/ 4680]\n",
      "loss: 0.474631 [  512/ 4680]\n",
      "loss: 0.472961 [  640/ 4680]\n",
      "loss: 0.408875 [  768/ 4680]\n",
      "loss: 0.387976 [  896/ 4680]\n",
      "loss: 0.342253 [ 1024/ 4680]\n",
      "loss: 0.347737 [ 1152/ 4680]\n",
      "loss: 0.332794 [ 1280/ 4680]\n",
      "loss: 0.278311 [ 1408/ 4680]\n",
      "loss: 0.228398 [ 1536/ 4680]\n",
      "loss: 0.286093 [ 1664/ 4680]\n",
      "loss: 0.266084 [ 1792/ 4680]\n",
      "loss: 0.296108 [ 1920/ 4680]\n",
      "loss: 0.234159 [ 2048/ 4680]\n",
      "loss: 0.162087 [ 2176/ 4680]\n",
      "loss: 0.142467 [ 2304/ 4680]\n",
      "loss: 0.115131 [ 2432/ 4680]\n",
      "loss: 0.157571 [ 2560/ 4680]\n",
      "loss: 0.104809 [ 2688/ 4680]\n",
      "loss: 0.126491 [ 2816/ 4680]\n",
      "loss: 0.086688 [ 2944/ 4680]\n",
      "loss: 0.087159 [ 3072/ 4680]\n",
      "loss: 0.105678 [ 3200/ 4680]\n",
      "loss: 0.090882 [ 3328/ 4680]\n",
      "loss: 0.149158 [ 3456/ 4680]\n",
      "loss: 0.213144 [ 3584/ 4680]\n",
      "loss: 0.117503 [ 3712/ 4680]\n",
      "loss: 0.078970 [ 3840/ 4680]\n",
      "loss: 0.055278 [ 3968/ 4680]\n",
      "loss: 0.066988 [ 4096/ 4680]\n",
      "loss: 0.096345 [ 4224/ 4680]\n",
      "loss: 0.080739 [ 4352/ 4680]\n",
      "loss: 0.056449 [ 4480/ 4680]\n",
      "loss: 0.051571 [ 4608/ 4680]\n",
      "Test Error: \n",
      " Accuracy: 97.2%, Avg loss: 0.114193 \n",
      "\n"
     ]
    }
   ],
   "source": [
    "# Load Dataset\n",
    "signal_name_R2 = \"I: X0004A-R2A\"\n",
    "dataset_R2 = Form1Dataset(\n",
    "    dataset_dir_R2, max_window_idx=max_window_idx, signal_name=signal_name_R2\n",
    ")\n",
    "train_dataset, test_dataset, dev_dataset = random_split(dataset_R2, [0.9, 0.09, 0.01])\n",
    "train_dataloader = DataLoader(train_dataset, batch_size=train_batch_size, shuffle=True)\n",
    "test_dataloader = DataLoader(test_dataset, batch_size=test_batch_size, shuffle=True)\n",
    "# EL test set realmente es un dev set\n",
    "# Como regla general, si es utilizado dentro del loop es un dev set.\n",
    "dev_dataloader = DataLoader(dev_dataset, batch_size=dev_batch_size, shuffle=True)\n",
    "epochs = 1\n",
    "\n",
    "# Create Model\n",
    "\n",
    "model_R2 = FaultDetector(n_signals, hidden_dim, tagset_size).to(device)\n",
    "loss_fn = nn.BCELoss()\n",
    "optimizer = torch.optim.Adam(model_R2.parameters(), lr=1e-2)\n",
    "# Learning rate decay\n",
    "decayRate = 0.96\n",
    "my_lr_scheduler = torch.optim.lr_scheduler.ExponentialLR(optimizer=optimizer, gamma=decayRate)\n",
    "\n",
    "print(f\"Model structure: {model_R2}\\n\")\n",
    "\n",
    "\n",
    "for epoch in range(epochs):\n",
    "    \n",
    "    print(f\"Epoch {epoch+1}\\n--------------------------------\")\n",
    "    train_loss = train(train_dataloader, model_R2, loss_fn, optimizer, return_loss=True)\n",
    "    test(test_dataloader, model_R2, loss_fn)\n"
   ]
  },
  {
   "cell_type": "code",
   "execution_count": 55,
   "metadata": {},
   "outputs": [
    {
     "data": {
      "text/plain": [
       "[<matplotlib.lines.Line2D at 0x1cbf303c0d0>,\n",
       " <matplotlib.lines.Line2D at 0x1cbf303c130>]"
      ]
     },
     "execution_count": 55,
     "metadata": {},
     "output_type": "execute_result"
    },
    {
     "data": {
      "image/png": "[encoded data removed]",
      "text/plain": [
       "<Figure size 640x480 with 1 Axes>"
      ]
     },
     "metadata": {},
     "output_type": "display_data"
    }
   ],
   "source": [
    "mini_batch_list = [index for index, _ in enumerate(train_loss)]\n",
    "train_loss_ewm = pd.DataFrame(train_loss).ewm(com=0.98).mean()\n",
    "plt.plot(mini_batch_list, train_loss, mini_batch_list, train_loss_ewm)"
   ]
  },
  {
   "cell_type": "code",
   "execution_count": 54,
   "metadata": {},
   "outputs": [],
   "source": [
    "# # Save the Model_R2\n",
    "# torch.save(model_R2.state_dict(), './models/LSTMHarmonic_weights_R2_972.pth')\n",
    "# model_R2.load_state_dict(torch.load('./models/LSTMHarmonic_weights_989.pth'))"
   ]
  },
  {
   "cell_type": "code",
   "execution_count": 60,
   "metadata": {},
   "outputs": [
    {
     "name": "stdout",
     "output_type": "stream",
     "text": [
      "torch.Size([16, 64, 1])\n",
      "tensor([[0., 1., 0., 0., 1., 0., 1., 0., 0.]])\n",
      "tensor([[0., 1., 0., 0., 1., 0., 1., 0., 0.]], grad_fn=<ReshapeAliasBackward0>)\n",
      "tensor([[0.0139, 0.9801, 0.0268, 0.0299, 0.9595, 0.0424, 0.9759, 0.0199, 0.0319]],\n",
      "       grad_fn=<ReshapeAliasBackward0>)\n"
     ]
    },
    {
     "data": {
      "image/png": "[encoded data removed]",
      "text/plain": [
       "<Figure size 1000x1000 with 9 Axes>"
      ]
     },
     "metadata": {},
     "output_type": "display_data"
    }
   ],
   "source": [
    "dataiter = iter(dev_dataloader)\n",
    "signal, labels = next(dataiter)\n",
    "fs = 3840\n",
    "t = np.linspace(0, N / fs, N)\n",
    "print(signal.shape)\n",
    "print(torch.reshape(labels[1:10], (1, -1)))\n",
    "figure = plt.figure(figsize=(10, 10))\n",
    "cols, rows = 3, 3\n",
    "for i in range(1, cols * rows + 1):\n",
    "    figure.add_subplot(rows, cols, i)\n",
    "    plt.plot(t, signal[i, :, 0])\n",
    "x = model_R2(signal[1:10].to(device))\n",
    "print(torch.reshape(torch.round(x), (1, -1)))\n",
    "print(torch.reshape(x, (1, -1)))"
   ]
  },
  {
   "attachments": {},
   "cell_type": "markdown",
   "metadata": {},
   "source": [
    "## Modelo R3"
   ]
  },
  {
   "cell_type": "code",
   "execution_count": 68,
   "metadata": {},
   "outputs": [
    {
     "name": "stdout",
     "output_type": "stream",
     "text": [
      "Model structure: FaultDetector(\n",
      "  (lstm): LSTM(1, 20, batch_first=True)\n",
      "  (fc): Linear(in_features=20, out_features=1, bias=True)\n",
      ")\n",
      "\n",
      "Epoch 1\n",
      "--------------------------------\n",
      "loss: 0.692727 [    0/ 4096]\n",
      "loss: 0.660021 [  128/ 4096]\n",
      "loss: 0.615531 [  256/ 4096]\n",
      "loss: 0.611954 [  384/ 4096]\n",
      "loss: 0.558207 [  512/ 4096]\n",
      "loss: 0.535211 [  640/ 4096]\n",
      "loss: 0.482247 [  768/ 4096]\n",
      "loss: 0.397284 [  896/ 4096]\n",
      "loss: 0.406855 [ 1024/ 4096]\n",
      "loss: 0.461562 [ 1152/ 4096]\n",
      "loss: 0.321832 [ 1280/ 4096]\n",
      "loss: 0.452397 [ 1408/ 4096]\n",
      "loss: 0.293362 [ 1536/ 4096]\n",
      "loss: 0.344139 [ 1664/ 4096]\n",
      "loss: 0.261584 [ 1792/ 4096]\n",
      "loss: 0.264005 [ 1920/ 4096]\n",
      "loss: 0.210620 [ 2048/ 4096]\n",
      "loss: 0.233822 [ 2176/ 4096]\n",
      "loss: 0.211859 [ 2304/ 4096]\n",
      "loss: 0.172653 [ 2432/ 4096]\n",
      "loss: 0.162004 [ 2560/ 4096]\n",
      "loss: 0.224023 [ 2688/ 4096]\n",
      "loss: 0.170676 [ 2816/ 4096]\n",
      "loss: 0.158842 [ 2944/ 4096]\n",
      "loss: 0.220028 [ 3072/ 4096]\n",
      "loss: 0.113526 [ 3200/ 4096]\n",
      "loss: 0.180606 [ 3328/ 4096]\n",
      "loss: 0.191468 [ 3456/ 4096]\n",
      "loss: 0.134197 [ 3584/ 4096]\n",
      "loss: 0.114831 [ 3712/ 4096]\n",
      "loss: 0.084365 [ 3840/ 4096]\n",
      "loss: 0.179088 [ 3968/ 4096]\n",
      "Test Error: \n",
      " Accuracy: 98.3%, Avg loss: 0.108831 \n",
      "\n"
     ]
    }
   ],
   "source": [
    "# Load Dataset\n",
    "signal_name_R3 = \"I: X0071A-R3A\"\n",
    "dataset_R3 = Form1Dataset(\n",
    "    dataset_dir_R3, max_window_idx=max_window_idx, signal_name=signal_name_R3\n",
    ")\n",
    "train_dataset, test_dataset, dev_dataset = random_split(dataset_R3, [0.9, 0.09, 0.01])\n",
    "train_dataloader = DataLoader(train_dataset, batch_size=train_batch_size, shuffle=True)\n",
    "test_dataloader = DataLoader(test_dataset, batch_size=test_batch_size, shuffle=True)\n",
    "# EL test set realmente es un dev set\n",
    "# Como regla general, si es utilizado dentro del loop es un dev set.\n",
    "dev_dataloader = DataLoader(dev_dataset, batch_size=dev_batch_size, shuffle=True)\n",
    "epochs = 1\n",
    "\n",
    "# Create Model\n",
    "\n",
    "model_R3 = FaultDetector(n_signals, hidden_dim, tagset_size).to(device)\n",
    "loss_fn = nn.BCELoss()\n",
    "optimizer = torch.optim.Adam(model_R3.parameters(), lr=1e-2)\n",
    "# Learning rate decay\n",
    "decayRate = 0.96\n",
    "my_lr_scheduler = torch.optim.lr_scheduler.ExponentialLR(optimizer=optimizer, gamma=decayRate)\n",
    "\n",
    "print(f\"Model structure: {model_R3}\\n\")\n",
    "\n",
    "\n",
    "for epoch in range(epochs):\n",
    "    \n",
    "    print(f\"Epoch {epoch+1}\\n--------------------------------\")\n",
    "    train_loss = train(train_dataloader, model_R3, loss_fn, optimizer, return_loss=True)\n",
    "    test(test_dataloader, model_R3, loss_fn)"
   ]
  },
  {
   "cell_type": "code",
   "execution_count": 69,
   "metadata": {},
   "outputs": [
    {
     "data": {
      "text/plain": [
       "0.1790877729654312"
      ]
     },
     "execution_count": 69,
     "metadata": {},
     "output_type": "execute_result"
    },
    {
     "data": {
      "image/png": "[encoded data removed]",
      "text/plain": [
       "<Figure size 640x480 with 1 Axes>"
      ]
     },
     "metadata": {},
     "output_type": "display_data"
    }
   ],
   "source": [
    "mini_batch_list = [index for index, _ in enumerate(train_loss)]\n",
    "train_loss_ewm = pd.DataFrame(train_loss).ewm(com=0.98).mean()\n",
    "plt.plot(mini_batch_list, train_loss, mini_batch_list, train_loss_ewm)\n",
    "train_loss[-2]"
   ]
  },
  {
   "cell_type": "code",
   "execution_count": 70,
   "metadata": {},
   "outputs": [],
   "source": [
    "# # Save the Model_R2\n",
    "# torch.save(model_R3.state_dict(), './models/LSTMHarmonic_weights_R3_983.pth')\n",
    "# model_R2.load_state_dict(torch.load('./models/LSTMHarmonic_weights_989.pth'))"
   ]
  },
  {
   "cell_type": "code",
   "execution_count": 73,
   "metadata": {},
   "outputs": [
    {
     "name": "stdout",
     "output_type": "stream",
     "text": [
      "torch.Size([16, 64, 1])\n",
      "tensor([[0., 0., 0., 0., 0., 1., 1., 0., 1.]])\n",
      "tensor([[0., 0., 0., 0., 0., 1., 1., 0., 1.]], grad_fn=<ReshapeAliasBackward0>)\n",
      "tensor([[0.0382, 0.0183, 0.0183, 0.0295, 0.0171, 0.9675, 0.8743, 0.0274, 0.9660]],\n",
      "       grad_fn=<ReshapeAliasBackward0>)\n"
     ]
    },
    {
     "data": {
      "image/png": "[encoded data removed]",
      "text/plain": [
       "<Figure size 1000x1000 with 9 Axes>"
      ]
     },
     "metadata": {},
     "output_type": "display_data"
    }
   ],
   "source": [
    "dataiter = iter(dev_dataloader)\n",
    "signal, labels = next(dataiter)\n",
    "fs = 3840\n",
    "t = np.linspace(0, N / fs, N)\n",
    "print(signal.shape)\n",
    "print(torch.reshape(labels[1:10], (1, -1)))\n",
    "figure = plt.figure(figsize=(10, 10))\n",
    "cols, rows = 3, 3\n",
    "for i in range(1, cols * rows + 1):\n",
    "    figure.add_subplot(rows, cols, i)\n",
    "    plt.plot(t, signal[i, :, 0])\n",
    "x = model_R2(signal[1:10].to(device))\n",
    "print(torch.reshape(torch.round(x), (1, -1)))\n",
    "print(torch.reshape(x, (1, -1)))"
   ]
  }
 ],
 "metadata": {
  "kernelspec": {
   "display_name": "env",
   "language": "python",
   "name": "python3"
  },
  "language_info": {
   "codemirror_mode": {
    "name": "ipython",
    "version": 3
   },
   "file_extension": ".py",
   "mimetype": "text/x-python",
   "name": "python",
   "nbconvert_exporter": "python",
   "pygments_lexer": "ipython3",
   "version": "3.9.13"
  },
  "orig_nbformat": 4,
  "vscode": {
   "interpreter": {
    "hash": "edf36f54e3c0d12e79cbfbdb2eab1260e125462eb03956a03e5e853a13b289dd"
   }
  }
 },
 "nbformat": 4,
 "nbformat_minor": 2
}
