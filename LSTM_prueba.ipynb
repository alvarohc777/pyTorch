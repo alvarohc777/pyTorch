{
  "cells": [
    {
      "cell_type": "code",
      "execution_count": 1,
      "metadata": {
        "id": "DyQvhZqlGDj6"
      },
      "outputs": [],
      "source": [
        "import torch\n",
        "import torch.nn as nn\n",
        "from torch.utils.data import Dataset, DataLoader, random_split\n",
        "\n",
        "# from utils.auxfunctions import moving_window\n",
        "import numpy as np\n",
        "import matplotlib.pyplot as plt"
      ]
    },
    {
      "cell_type": "code",
      "execution_count": 2,
      "metadata": {
        "colab": {
          "base_uri": "https://localhost:8080/"
        },
        "id": "va6CHmaBGDj8",
        "outputId": "d9cda4c9-f5d3-4b3b-d9fb-1c426cbadf37"
      },
      "outputs": [
        {
          "name": "stdout",
          "output_type": "stream",
          "text": [
            "cuda\n"
          ]
        }
      ],
      "source": [
        "hidden_dim = 20\n",
        "n_signals = 1\n",
        "N = 64\n",
        "tagset_size = 1\n",
        "\n",
        "device = \"cuda\" if torch.cuda.is_available() else \"cpu\"\n",
        "print(device)"
      ]
    },
    {
      "cell_type": "code",
      "execution_count": 3,
      "metadata": {
        "id": "AqLjZJ-DGDj9"
      },
      "outputs": [],
      "source": [
        "class LSTM_freq(nn.Module):\n",
        "    \"\"\"Some Information about LSTM_freq\"\"\"\n",
        "    def __init__(self, N, hidden_dim, tagset_size):\n",
        "        super(LSTM_freq, self).__init__()\n",
        "        self.lstm = nn.LSTM(N, hidden_dim, batch_first=True)\n",
        "        self.fc = nn.Linear(hidden_dim, tagset_size)\n",
        "        \n",
        "        \n",
        "\n",
        "    def forward(self, x):\n",
        "        lstm_out, _ = self.lstm(x)\n",
        "        # print(f\"LSTM output: {lstm_out.shape}\")\n",
        "        # fc_layer = self.fc(lstm_out[:,-1,:])\n",
        "        fc_layer = self.fc(lstm_out[:,-1,:])\n",
        "        # print(f\" fc_layer: {fc_layer.shape}\")\n",
        "        \n",
        "\n",
        "\n",
        "        return torch.sigmoid(fc_layer)\n"
      ]
    },
    {
      "cell_type": "code",
      "execution_count": 14,
      "metadata": {
        "colab": {
          "base_uri": "https://localhost:8080/"
        },
        "id": "sI-mVhH2bBbX",
        "outputId": "46cf4bec-7002-48d8-9a8e-a444a2551611"
      },
      "outputs": [
        {
          "name": "stdout",
          "output_type": "stream",
          "text": [
            "(64,)\n",
            "torch.Size([11, 64, 1])\n"
          ]
        }
      ],
      "source": [
        "fs = 3840\n",
        "N = 64\n",
        "# Create Dataset\n",
        "\n",
        "\n",
        "t = np.linspace(0,N/fs,N)\n",
        "signals_prueba = [t]\n",
        "print(t.shape)\n",
        "m = 10\n",
        "for i in (np.linspace(1000000, 10000000000, 10)):\n",
        "    signal = np.array(i*np.sin(2*np.pi*fs*t))\n",
        "    signals_prueba = np.vstack((signals_prueba, signal))\n",
        "signals_prueba = np.expand_dims(signals_prueba, axis=2)\n",
        "signals_prueba = torch.from_numpy(signals_prueba).float()\n",
        "print(signals_prueba.shape)"
      ]
    },
    {
      "cell_type": "code",
      "execution_count": 15,
      "metadata": {
        "colab": {
          "base_uri": "https://localhost:8080/",
          "height": 486
        },
        "id": "ORk5FetEJP4G",
        "outputId": "8b60e6e3-a30f-41e2-9aba-354b8a51f04d"
      },
      "outputs": [
        {
          "name": "stdout",
          "output_type": "stream",
          "text": [
            "torch.Size([11, 64, 1])\n",
            "tensor([[0.9461],\n",
            "        [0.9474],\n",
            "        [0.9514],\n",
            "        [0.9547],\n",
            "        [0.9569],\n",
            "        [0.9523],\n",
            "        [0.9604],\n",
            "        [0.9656],\n",
            "        [0.9691],\n",
            "        [0.9718],\n",
            "        [0.9742]], device='cuda:0', grad_fn=<SigmoidBackward0>)\n"
          ]
        },
        {
          "data": {
            "image/png": "[encoded data removed]",
            "text/plain": [
              "<Figure size 640x480 with 1 Axes>"
            ]
          },
          "metadata": {},
          "output_type": "display_data"
        }
      ],
      "source": [
        "# torch.Size([300, 64, 1])\n",
        "print(signals_prueba.shape)\n",
        "x = model(signals_prueba.to(device))\n",
        "plt.plot(signals_prueba[7,:,0])\n",
        "print(x)\n"
      ]
    },
    {
      "cell_type": "code",
      "execution_count": 4,
      "metadata": {
        "id": "Pu2BHkquGDj-"
      },
      "outputs": [],
      "source": [
        "model = LSTM_freq(n_signals, hidden_dim, tagset_size).to(device)\n",
        "# loss_fn = nn.CrossEntropyLoss()\n",
        "loss_fn = nn.BCELoss()\n",
        "optimizer = torch.optim.Adam(model.parameters(), lr=1e-2)\n"
      ]
    },
    {
      "cell_type": "code",
      "execution_count": 5,
      "metadata": {
        "colab": {
          "base_uri": "https://localhost:8080/"
        },
        "id": "fBIu1rX8GDj_",
        "outputId": "6b333dd5-307c-4540-b75a-c915cb274dd3"
      },
      "outputs": [
        {
          "name": "stdout",
          "output_type": "stream",
          "text": [
            "Model structure: LSTM_freq(\n",
            "  (lstm): LSTM(1, 20, batch_first=True)\n",
            "  (fc): Linear(in_features=20, out_features=1, bias=True)\n",
            ")\n",
            "\n",
            "\n"
          ]
        }
      ],
      "source": [
        "print(f\"Model structure: {model}\\n\\n\")\n",
        "\n",
        "# for name, param in model.named_parameters():\n",
        "#     print(f\"Layer: {name} | Size: {param.size()} | Values : {param[:]} \\n\")"
      ]
    },
    {
      "cell_type": "code",
      "execution_count": 6,
      "metadata": {
        "id": "UiEqgkTsGDj_"
      },
      "outputs": [],
      "source": [
        "class SineWaveDataset(torch.utils.data.Dataset):\n",
        "    \"\"\"Some Information about SineWaveDataset\n",
        "    \n",
        "    signals: dim -> (m, N)\n",
        "\n",
        "    \"\"\"\n",
        "\n",
        "    def __init__(self, signals, labels, transform=None, target_transform=None):\n",
        "        super(SineWaveDataset, self).__init__()\n",
        "        self.signals = signals\n",
        "        self.labels = labels\n",
        "        self.transform = transform\n",
        "        self.target_transform = target_transform\n",
        "\n",
        "    def __len__(self):\n",
        "        return len(self.signals)\n",
        "\n",
        "    def __getitem__(self, index):\n",
        "        signal = self.signals[index]\n",
        "        label = self.labels[index]\n",
        "        if self.transform:\n",
        "            signal = self.transform(signal)\n",
        "        if self.target_transform:\n",
        "            label = self.target_transform(label)\n",
        "        # return torch.tensor(signal).float(), label\n",
        "        return signal, label\n",
        "    \n",
        "class MockDataset(torch.utils.data.Dataset):\n",
        "    \"\"\"Some Information about MockDataset\"\"\"\n",
        "    def __init__(self, signals):\n",
        "        super(MockDataset, self).__init__()\n",
        "        self.signals = signals\n",
        "\n",
        "    def __getitem__(self, index):\n",
        "        return self.signals[index]\n",
        "        \n",
        "    def __len__(self):\n",
        "        return len(self.signals)\n"
      ]
    },
    {
      "cell_type": "code",
      "execution_count": 7,
      "metadata": {
        "colab": {
          "base_uri": "https://localhost:8080/"
        },
        "id": "RRFGblHmGDkA",
        "outputId": "0a339a4a-de7d-4b68-d73f-97f0bf9ced50"
      },
      "outputs": [
        {
          "name": "stdout",
          "output_type": "stream",
          "text": [
            "torch.Size([1000, 1])\n",
            "torch.Size([1000, 64, 1])\n"
          ]
        }
      ],
      "source": [
        "\n",
        "fs = 3840\n",
        "N = 64\n",
        "# Create Dataset\n",
        "\n",
        "\n",
        "t = np.linspace(0,N/fs,N)\n",
        "m = 1000\n",
        "signals = t\n",
        "target = np.array([[0]])\n",
        "\n",
        "for i in (np.linspace(0, 10, int(m/2))):\n",
        "    signal = np.array(i*np.sin(2*np.pi*fs*t))\n",
        "    signals = np.vstack((signals, signal))\n",
        "    target = np.vstack((target, np.array(1)))\n",
        "signals = signals[:-1]\n",
        "target = target[:-1]\n",
        "target\n",
        "for i in range(int(m/4)):\n",
        "    signal = np.random.normal(scale=3, size=N)\n",
        "    signals = np.vstack((signals, signal))\n",
        "    target = np.vstack((target, np.array(0)))\n",
        "    \n",
        "for i in range(int(m/4)):\n",
        "    signal = np.ones(64)*i/10\n",
        "    signals = np.vstack((signals, signal))\n",
        "    target = np.vstack((target, np.array(0)))\n",
        "\n",
        "signals = np.expand_dims(signals, axis=2)\n",
        "signals = torch.from_numpy(signals).float()\n",
        "target = torch.from_numpy(target).float()\n",
        "print(target.shape)\n",
        "print(signals.shape)\n"
      ]
    },
    {
      "cell_type": "code",
      "execution_count": 8,
      "metadata": {
        "id": "BL5Ir6V3GDkB"
      },
      "outputs": [],
      "source": [
        "dataset = SineWaveDataset(signals, target)\n",
        "train_dataset, test_dataset = random_split(dataset, [0.9, 0.1])\n",
        "# train_dataset, test_dataset, dev_dataset  = random_split(dataset, [0.9, 0.05, 0.05])\n",
        "train_dataloader = DataLoader(train_dataset, batch_size=16, shuffle=True)\n",
        "test_dataloader = DataLoader(test_dataset, batch_size=16, shuffle=True)\n",
        "# dev_dataloader = DataLoader(dev_dataset, batch_size=16, shuffle=True)\n",
        "\n",
        "\n",
        "\n",
        "\n"
      ]
    },
    {
      "cell_type": "code",
      "execution_count": 9,
      "metadata": {
        "id": "Zt9bejyiGDkB"
      },
      "outputs": [],
      "source": [
        "# Training\n",
        "def train(dataloader, model, loss_fn, optimizer):\n",
        "    size=len(dataloader.dataset)\n",
        "    model.train()\n",
        "    for batch, (x, y) in enumerate(dataloader):\n",
        "        x, y = x.to(device), y.to(device)\n",
        "\n",
        "        # Compute prediction error\n",
        "        pred = model(x)\n",
        "        loss = loss_fn(pred, y)\n",
        "\n",
        "        # Backpropagation\n",
        "        optimizer.zero_grad()\n",
        "        loss.backward()\n",
        "        optimizer.step()\n",
        "\n",
        "        if batch % 30 == 0:\n",
        "            loss, current = loss.item(), batch * len(x)\n",
        "            print(f\"loss: {loss:>7f}  [{current:>5d}/{size:>5d}]\")\n",
        "\n",
        "\n"
      ]
    },
    {
      "cell_type": "code",
      "execution_count": 10,
      "metadata": {
        "id": "HHRlCmoaGDkC"
      },
      "outputs": [],
      "source": [
        "def test(dataloader, model, loss_fn):\n",
        "    size = len(dataloader.dataset)\n",
        "    num_batches = len(dataloader)\n",
        "    model.eval()\n",
        "    test_loss, correct = 0, 0\n",
        "    with torch.no_grad():\n",
        "        for x, y in dataloader:\n",
        "            x, y = x.to(device), y.to(device)\n",
        "            pred = model(x)\n",
        "            test_loss += loss_fn(pred, y).item()\n",
        "            correct += (torch.round(pred) == y).type(torch.float).sum().item()\n",
        "\n",
        "    test_loss /= num_batches\n",
        "    correct /= size\n",
        "    print(f\"Test Error: \\n Accuracy: {(100*correct):>0.1f}%, Avg loss: {test_loss:>8f} \\n\")"
      ]
    },
    {
      "cell_type": "code",
      "execution_count": 11,
      "metadata": {
        "colab": {
          "base_uri": "https://localhost:8080/"
        },
        "id": "DkW29fueGDkC",
        "outputId": "39b556d5-5cb4-4a1d-c663-706f9454fb0d"
      },
      "outputs": [
        {
          "name": "stdout",
          "output_type": "stream",
          "text": [
            "Epoch 1\n",
            "-----------------------------------\n",
            "loss: 0.681876  [    0/  900]\n",
            "loss: 0.149463  [  480/  900]\n",
            "Test Error: \n",
            " Accuracy: 100.0%, Avg loss: 0.014983 \n",
            "\n",
            "Epoch 2\n",
            "-----------------------------------\n",
            "loss: 0.018510  [    0/  900]\n",
            "loss: 0.016705  [  480/  900]\n",
            "Test Error: \n",
            " Accuracy: 100.0%, Avg loss: 0.008562 \n",
            "\n",
            "Epoch 3\n",
            "-----------------------------------\n",
            "loss: 0.006529  [    0/  900]\n",
            "loss: 0.012169  [  480/  900]\n",
            "Test Error: \n",
            " Accuracy: 100.0%, Avg loss: 0.005969 \n",
            "\n",
            "Epoch 4\n",
            "-----------------------------------\n",
            "loss: 0.142655  [    0/  900]\n",
            "loss: 0.002141  [  480/  900]\n",
            "Test Error: \n",
            " Accuracy: 100.0%, Avg loss: 0.009847 \n",
            "\n",
            "Done!\n"
          ]
        }
      ],
      "source": [
        "CUDA_LAUNCH_BLOCKING =1\n",
        "epochs = 4\n",
        "for t in range(epochs):\n",
        "    print(f\"Epoch {t+1}\\n-----------------------------------\")\n",
        "    train(train_dataloader, model, loss_fn, optimizer)\n",
        "    test(test_dataloader, model, loss_fn)\n",
        "print(\"Done!\")"
      ]
    },
    {
      "cell_type": "code",
      "execution_count": 68,
      "metadata": {
        "colab": {
          "base_uri": "https://localhost:8080/",
          "height": 777
        },
        "id": "wKcSUAChGDkD",
        "outputId": "22624dc0-da0c-446e-f4a3-587919f7781f"
      },
      "outputs": [
        {
          "name": "stdout",
          "output_type": "stream",
          "text": [
            "tensor([[1.],\n",
            "        [1.],\n",
            "        [0.],\n",
            "        [0.],\n",
            "        [1.],\n",
            "        [1.],\n",
            "        [1.],\n",
            "        [1.],\n",
            "        [0.]])\n",
            "torch.Size([16, 64, 1])\n"
          ]
        },
        {
          "data": {
            "image/png": "[encoded data removed]",
            "text/plain": [
              "<Figure size 720x720 with 9 Axes>"
            ]
          },
          "metadata": {
            "needs_background": "light"
          },
          "output_type": "display_data"
        }
      ],
      "source": [
        "\n",
        "dataiter = iter(test_dataloader)\n",
        "signal, labels = next(dataiter)\n",
        "\n",
        "t = np.linspace(0,N/fs,N)\n",
        "print(labels[1:10])\n",
        "print(signal.shape)\n",
        "figure = plt.figure(figsize=(10,10))\n",
        "cols, rows = 3, 3\n",
        "for i in range(1, cols * rows +1):\n",
        "    figure.add_subplot(rows, cols, i)\n",
        "    plt.plot(t,signal[i,:,0])\n"
      ]
    },
    {
      "cell_type": "code",
      "execution_count": 53,
      "metadata": {
        "colab": {
          "base_uri": "https://localhost:8080/"
        },
        "id": "sFFFRhEKGDkE",
        "outputId": "6c5b7813-3a5c-4f4a-e03a-c5a1510e3d71"
      },
      "outputs": [
        {
          "name": "stdout",
          "output_type": "stream",
          "text": [
            "Batch: 0, label: tensor([1.])\n",
            "LSTM output: torch.Size([16, 64, 20])\n",
            " fc_layer: torch.Size([16, 1])\n",
            "tensor([[9.9763e-01],\n",
            "        [1.9184e-03],\n",
            "        [9.3973e-04],\n",
            "        [9.9651e-01],\n",
            "        [9.2341e-04],\n",
            "        [9.9710e-01],\n",
            "        [9.9000e-01],\n",
            "        [8.0122e-04],\n",
            "        [9.9748e-01],\n",
            "        [3.5984e-03],\n",
            "        [8.8593e-04],\n",
            "        [8.2668e-04],\n",
            "        [9.9770e-01],\n",
            "        [3.2275e-02],\n",
            "        [1.6358e-03],\n",
            "        [9.9546e-01]], device='cuda:0', grad_fn=<SigmoidBackward0>)\n",
            "tensor([[1.],\n",
            "        [0.],\n",
            "        [0.],\n",
            "        [1.],\n",
            "        [0.],\n",
            "        [1.],\n",
            "        [1.],\n",
            "        [0.],\n",
            "        [1.],\n",
            "        [0.],\n",
            "        [0.],\n",
            "        [0.],\n",
            "        [1.],\n",
            "        [0.],\n",
            "        [0.],\n",
            "        [1.]], device='cuda:0', grad_fn=<RoundBackward0>)\n",
            "tensor([[1.],\n",
            "        [0.],\n",
            "        [0.],\n",
            "        [1.],\n",
            "        [0.],\n",
            "        [1.],\n",
            "        [1.],\n",
            "        [0.],\n",
            "        [1.],\n",
            "        [0.],\n",
            "        [0.],\n",
            "        [0.],\n",
            "        [1.],\n",
            "        [0.],\n",
            "        [0.],\n",
            "        [1.]], device='cuda:0')\n",
            "16.0\n",
            "tensor(0.0045, device='cuda:0', grad_fn=<BinaryCrossEntropyBackward0>)\n"
          ]
        }
      ],
      "source": [
        "CUDA_LAUNCH_BLOCKING =1\n",
        "test_loss, correct = 0, 0\n",
        "for batch, (x, y) in enumerate(train_dataloader):\n",
        "    print(f\"Batch: {batch}, label: {y[0]}\")\n",
        "    x, y = x.to(device), y.to(device)\n",
        "    pred = model(x)\n",
        "    loss = loss_fn(pred, y)\n",
        "    correct += (torch.round(pred) == y).type(torch.float).sum().item()\n",
        "    print(pred)\n",
        "    print(torch.round(pred))\n",
        "    print(y)\n",
        "    \n",
        "    \n",
        "    break\n",
        "print(correct)\n",
        "print(loss)\n",
        "# print(prob)"
      ]
    },
    {
      "cell_type": "code",
      "execution_count": null,
      "metadata": {
        "id": "zJvmExLnGDkE"
      },
      "outputs": [],
      "source": []
    }
  ],
  "metadata": {
    "accelerator": "GPU",
    "colab": {
      "provenance": []
    },
    "gpuClass": "standard",
    "kernelspec": {
      "display_name": "Python 3 (ipykernel)",
      "language": "python",
      "name": "python3"
    },
    "language_info": {
      "codemirror_mode": {
        "name": "ipython",
        "version": 3
      },
      "file_extension": ".py",
      "mimetype": "text/x-python",
      "name": "python",
      "nbconvert_exporter": "python",
      "pygments_lexer": "ipython3",
      "version": "3.9.0"
    },
    "orig_nbformat": 4,
    "vscode": {
      "interpreter": {
        "hash": "72ca1a9e086f4c7ef9a163ec3bf69ee2fedc8d7281f4001d4d35bca77b5aa424"
      }
    }
  },
  "nbformat": 4,
  "nbformat_minor": 0
}
