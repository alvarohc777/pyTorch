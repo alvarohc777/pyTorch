{
 "cells": [
  {
   "cell_type": "code",
   "execution_count": 14,
   "metadata": {},
   "outputs": [],
   "source": [
    "import torch\n",
    "import torch.nn as nn\n",
    "from torch.utils.data import Dataset, DataLoader, random_split\n",
    "\n",
    "from utils.auxfunctions import moving_window\n",
    "import numpy as np\n",
    "import matplotlib.pyplot as plt"
   ]
  },
  {
   "cell_type": "code",
   "execution_count": 15,
   "metadata": {},
   "outputs": [
    {
     "name": "stdout",
     "output_type": "stream",
     "text": [
      "cuda\n"
     ]
    }
   ],
   "source": [
    "hidden_dim = 6\n",
    "n_signals = 1\n",
    "N = 64\n",
    "tagset_size = 1\n",
    "\n",
    "device = \"cuda\" if torch.cuda.is_available() else \"cpu\"\n",
    "print(device)"
   ]
  },
  {
   "cell_type": "code",
   "execution_count": 16,
   "metadata": {},
   "outputs": [],
   "source": [
    "class LSTM_freq(nn.Module):\n",
    "    \"\"\"Some Information about LSTM_freq\"\"\"\n",
    "    def __init__(self, n_signals, hidden_dim, tagset_size):\n",
    "        super(LSTM_freq, self).__init__()\n",
    "        self.lstm = nn.LSTM(n_signals, hidden_dim, batch_first=True)\n",
    "        self.fc = nn.Linear(hidden_dim, tagset_size)\n",
    "        \n",
    "\n",
    "    def forward(self, x):\n",
    "        lstm_out, _ = self.lstm(x)\n",
    "        print(lstm_out.shape)\n",
    "        fc_layer = self.fc(lstm_out[:,-1,:])\n",
    "        print(fc_layer.shape)\n",
    "        # prob_tag = self.activation(fc_layer)\n",
    "        # print(prob_tag.shape)\n",
    "\n",
    "        return torch.sigmoid(fc_layer\n"
   ]
  },
  {
   "cell_type": "code",
   "execution_count": 17,
   "metadata": {},
   "outputs": [
    {
     "ename": "RuntimeError",
     "evalue": "CUDA error: device-side assert triggered\nCUDA kernel errors might be asynchronously reported at some other API call,so the stacktrace below might be incorrect.\nFor debugging consider passing CUDA_LAUNCH_BLOCKING=1.",
     "output_type": "error",
     "traceback": [
      "\u001b[1;31m---------------------------------------------------------------------------\u001b[0m",
      "\u001b[1;31mRuntimeError\u001b[0m                              Traceback (most recent call last)",
      "Cell \u001b[1;32mIn[17], line 1\u001b[0m\n\u001b[1;32m----> 1\u001b[0m model \u001b[39m=\u001b[39m LSTM_freq(n_signals, hidden_dim, tagset_size)\u001b[39m.\u001b[39;49mto(device)\n\u001b[0;32m      2\u001b[0m loss_fn \u001b[39m=\u001b[39m nn\u001b[39m.\u001b[39mCrossEntropyLoss()\n\u001b[0;32m      3\u001b[0m \u001b[39m# loss_fn = nn.BCELoss()\u001b[39;00m\n",
      "File \u001b[1;32mc:\\Users\\aherrada\\Documents\\GIT\\PyTorch\\env\\lib\\site-packages\\torch\\nn\\modules\\module.py:989\u001b[0m, in \u001b[0;36mModule.to\u001b[1;34m(self, *args, **kwargs)\u001b[0m\n\u001b[0;32m    985\u001b[0m         \u001b[39mreturn\u001b[39;00m t\u001b[39m.\u001b[39mto(device, dtype \u001b[39mif\u001b[39;00m t\u001b[39m.\u001b[39mis_floating_point() \u001b[39mor\u001b[39;00m t\u001b[39m.\u001b[39mis_complex() \u001b[39melse\u001b[39;00m \u001b[39mNone\u001b[39;00m,\n\u001b[0;32m    986\u001b[0m                     non_blocking, memory_format\u001b[39m=\u001b[39mconvert_to_format)\n\u001b[0;32m    987\u001b[0m     \u001b[39mreturn\u001b[39;00m t\u001b[39m.\u001b[39mto(device, dtype \u001b[39mif\u001b[39;00m t\u001b[39m.\u001b[39mis_floating_point() \u001b[39mor\u001b[39;00m t\u001b[39m.\u001b[39mis_complex() \u001b[39melse\u001b[39;00m \u001b[39mNone\u001b[39;00m, non_blocking)\n\u001b[1;32m--> 989\u001b[0m \u001b[39mreturn\u001b[39;00m \u001b[39mself\u001b[39;49m\u001b[39m.\u001b[39;49m_apply(convert)\n",
      "File \u001b[1;32mc:\\Users\\aherrada\\Documents\\GIT\\PyTorch\\env\\lib\\site-packages\\torch\\nn\\modules\\module.py:641\u001b[0m, in \u001b[0;36mModule._apply\u001b[1;34m(self, fn)\u001b[0m\n\u001b[0;32m    639\u001b[0m \u001b[39mdef\u001b[39;00m \u001b[39m_apply\u001b[39m(\u001b[39mself\u001b[39m, fn):\n\u001b[0;32m    640\u001b[0m     \u001b[39mfor\u001b[39;00m module \u001b[39min\u001b[39;00m \u001b[39mself\u001b[39m\u001b[39m.\u001b[39mchildren():\n\u001b[1;32m--> 641\u001b[0m         module\u001b[39m.\u001b[39;49m_apply(fn)\n\u001b[0;32m    643\u001b[0m     \u001b[39mdef\u001b[39;00m \u001b[39mcompute_should_use_set_data\u001b[39m(tensor, tensor_applied):\n\u001b[0;32m    644\u001b[0m         \u001b[39mif\u001b[39;00m torch\u001b[39m.\u001b[39m_has_compatible_shallow_copy_type(tensor, tensor_applied):\n\u001b[0;32m    645\u001b[0m             \u001b[39m# If the new tensor has compatible tensor type as the existing tensor,\u001b[39;00m\n\u001b[0;32m    646\u001b[0m             \u001b[39m# the current behavior is to change the tensor in-place using `.data =`,\u001b[39;00m\n\u001b[1;32m   (...)\u001b[0m\n\u001b[0;32m    651\u001b[0m             \u001b[39m# global flag to let the user control whether they want the future\u001b[39;00m\n\u001b[0;32m    652\u001b[0m             \u001b[39m# behavior of overwriting the existing tensor or not.\u001b[39;00m\n",
      "File \u001b[1;32mc:\\Users\\aherrada\\Documents\\GIT\\PyTorch\\env\\lib\\site-packages\\torch\\nn\\modules\\rnn.py:187\u001b[0m, in \u001b[0;36mRNNBase._apply\u001b[1;34m(self, fn)\u001b[0m\n\u001b[0;32m    186\u001b[0m \u001b[39mdef\u001b[39;00m \u001b[39m_apply\u001b[39m(\u001b[39mself\u001b[39m, fn):\n\u001b[1;32m--> 187\u001b[0m     ret \u001b[39m=\u001b[39m \u001b[39msuper\u001b[39;49m(RNNBase, \u001b[39mself\u001b[39;49m)\u001b[39m.\u001b[39;49m_apply(fn)\n\u001b[0;32m    189\u001b[0m     \u001b[39m# Resets _flat_weights\u001b[39;00m\n\u001b[0;32m    190\u001b[0m     \u001b[39m# Note: be v. careful before removing this, as 3rd party device types\u001b[39;00m\n\u001b[0;32m    191\u001b[0m     \u001b[39m# likely rely on this behavior to properly .to() modules like LSTM.\u001b[39;00m\n\u001b[0;32m    192\u001b[0m     \u001b[39mself\u001b[39m\u001b[39m.\u001b[39m_flat_weights \u001b[39m=\u001b[39m [(\u001b[39mlambda\u001b[39;00m wn: \u001b[39mgetattr\u001b[39m(\u001b[39mself\u001b[39m, wn) \u001b[39mif\u001b[39;00m \u001b[39mhasattr\u001b[39m(\u001b[39mself\u001b[39m, wn) \u001b[39melse\u001b[39;00m \u001b[39mNone\u001b[39;00m)(wn) \u001b[39mfor\u001b[39;00m wn \u001b[39min\u001b[39;00m \u001b[39mself\u001b[39m\u001b[39m.\u001b[39m_flat_weights_names]\n",
      "File \u001b[1;32mc:\\Users\\aherrada\\Documents\\GIT\\PyTorch\\env\\lib\\site-packages\\torch\\nn\\modules\\module.py:664\u001b[0m, in \u001b[0;36mModule._apply\u001b[1;34m(self, fn)\u001b[0m\n\u001b[0;32m    660\u001b[0m \u001b[39m# Tensors stored in modules are graph leaves, and we don't want to\u001b[39;00m\n\u001b[0;32m    661\u001b[0m \u001b[39m# track autograd history of `param_applied`, so we have to use\u001b[39;00m\n\u001b[0;32m    662\u001b[0m \u001b[39m# `with torch.no_grad():`\u001b[39;00m\n\u001b[0;32m    663\u001b[0m \u001b[39mwith\u001b[39;00m torch\u001b[39m.\u001b[39mno_grad():\n\u001b[1;32m--> 664\u001b[0m     param_applied \u001b[39m=\u001b[39m fn(param)\n\u001b[0;32m    665\u001b[0m should_use_set_data \u001b[39m=\u001b[39m compute_should_use_set_data(param, param_applied)\n\u001b[0;32m    666\u001b[0m \u001b[39mif\u001b[39;00m should_use_set_data:\n",
      "File \u001b[1;32mc:\\Users\\aherrada\\Documents\\GIT\\PyTorch\\env\\lib\\site-packages\\torch\\nn\\modules\\module.py:987\u001b[0m, in \u001b[0;36mModule.to.<locals>.convert\u001b[1;34m(t)\u001b[0m\n\u001b[0;32m    984\u001b[0m \u001b[39mif\u001b[39;00m convert_to_format \u001b[39mis\u001b[39;00m \u001b[39mnot\u001b[39;00m \u001b[39mNone\u001b[39;00m \u001b[39mand\u001b[39;00m t\u001b[39m.\u001b[39mdim() \u001b[39min\u001b[39;00m (\u001b[39m4\u001b[39m, \u001b[39m5\u001b[39m):\n\u001b[0;32m    985\u001b[0m     \u001b[39mreturn\u001b[39;00m t\u001b[39m.\u001b[39mto(device, dtype \u001b[39mif\u001b[39;00m t\u001b[39m.\u001b[39mis_floating_point() \u001b[39mor\u001b[39;00m t\u001b[39m.\u001b[39mis_complex() \u001b[39melse\u001b[39;00m \u001b[39mNone\u001b[39;00m,\n\u001b[0;32m    986\u001b[0m                 non_blocking, memory_format\u001b[39m=\u001b[39mconvert_to_format)\n\u001b[1;32m--> 987\u001b[0m \u001b[39mreturn\u001b[39;00m t\u001b[39m.\u001b[39;49mto(device, dtype \u001b[39mif\u001b[39;49;00m t\u001b[39m.\u001b[39;49mis_floating_point() \u001b[39mor\u001b[39;49;00m t\u001b[39m.\u001b[39;49mis_complex() \u001b[39melse\u001b[39;49;00m \u001b[39mNone\u001b[39;49;00m, non_blocking)\n",
      "\u001b[1;31mRuntimeError\u001b[0m: CUDA error: device-side assert triggered\nCUDA kernel errors might be asynchronously reported at some other API call,so the stacktrace below might be incorrect.\nFor debugging consider passing CUDA_LAUNCH_BLOCKING=1."
     ]
    }
   ],
   "source": [
    "model = LSTM_freq(n_signals, hidden_dim, tagset_size).to(device)\n",
    "loss_fn = nn.CrossEntropyLoss()\n",
    "# loss_fn = nn.BCELoss()\n",
    "optimizer = torch.optim.Adam(model.parameters(), lr=1e-2)\n"
   ]
  },
  {
   "cell_type": "code",
   "execution_count": null,
   "metadata": {},
   "outputs": [
    {
     "name": "stdout",
     "output_type": "stream",
     "text": [
      "torch.Size([2, 64, 1])\n"
     ]
    },
    {
     "ename": "RuntimeError",
     "evalue": "CUDA error: device-side assert triggered\nCUDA kernel errors might be asynchronously reported at some other API call,so the stacktrace below might be incorrect.\nFor debugging consider passing CUDA_LAUNCH_BLOCKING=1.",
     "output_type": "error",
     "traceback": [
      "\u001b[1;31m---------------------------------------------------------------------------\u001b[0m",
      "\u001b[1;31mRuntimeError\u001b[0m                              Traceback (most recent call last)",
      "Cell \u001b[1;32mIn[13], line 2\u001b[0m\n\u001b[0;32m      1\u001b[0m \u001b[39mprint\u001b[39m(signals[\u001b[39m0\u001b[39m:\u001b[39m2\u001b[39m, :]\u001b[39m.\u001b[39mshape)\n\u001b[1;32m----> 2\u001b[0m x \u001b[39m=\u001b[39m model(signals[\u001b[39m0\u001b[39;49m:\u001b[39m2\u001b[39;49m, :]\u001b[39m.\u001b[39;49mto(device))\n\u001b[0;32m      3\u001b[0m \u001b[39mprint\u001b[39m(x)\n",
      "\u001b[1;31mRuntimeError\u001b[0m: CUDA error: device-side assert triggered\nCUDA kernel errors might be asynchronously reported at some other API call,so the stacktrace below might be incorrect.\nFor debugging consider passing CUDA_LAUNCH_BLOCKING=1."
     ]
    }
   ],
   "source": [
    "print(signals[0:2, :].shape)\n",
    "x = model(signals[0:2, :].to(device))\n",
    "print(x)\n"
   ]
  },
  {
   "cell_type": "code",
   "execution_count": 7,
   "metadata": {},
   "outputs": [
    {
     "name": "stdout",
     "output_type": "stream",
     "text": [
      "Model structure: LSTM_freq(\n",
      "  (lstm): LSTM(1, 6, batch_first=True)\n",
      "  (fc): Linear(in_features=6, out_features=1, bias=True)\n",
      "  (activation): Sigmoid()\n",
      ")\n",
      "\n",
      "\n",
      "Layer: lstm.weight_ih_l0 | Size: torch.Size([24, 1]) | Values : tensor([[ 0.0964],\n",
      "        [ 0.2240],\n",
      "        [ 0.4032],\n",
      "        [ 0.1122],\n",
      "        [ 0.0065],\n",
      "        [-0.2128],\n",
      "        [-0.0526],\n",
      "        [-0.3949],\n",
      "        [ 0.2505],\n",
      "        [-0.2095],\n",
      "        [-0.3706],\n",
      "        [-0.0529],\n",
      "        [-0.3886],\n",
      "        [ 0.1614],\n",
      "        [-0.3385],\n",
      "        [ 0.0736],\n",
      "        [-0.2268],\n",
      "        [-0.0452],\n",
      "        [ 0.1280],\n",
      "        [-0.3813],\n",
      "        [ 0.1443],\n",
      "        [ 0.2201],\n",
      "        [-0.1129],\n",
      "        [ 0.2981]], device='cuda:0', grad_fn=<SliceBackward0>) \n",
      "\n",
      "Layer: lstm.weight_hh_l0 | Size: torch.Size([24, 6]) | Values : tensor([[-0.2922, -0.2111, -0.0093,  0.3135,  0.2678, -0.1862],\n",
      "        [ 0.1262,  0.1472,  0.0480, -0.3947, -0.2282,  0.3718],\n",
      "        [ 0.2747, -0.2474,  0.2735,  0.2223,  0.3949, -0.2846],\n",
      "        [ 0.1957, -0.3147, -0.1560, -0.2994,  0.2176, -0.1920],\n",
      "        [-0.0167, -0.3616,  0.3349, -0.3387,  0.2617, -0.2693],\n",
      "        [-0.0760, -0.0235,  0.3614, -0.2915, -0.3192, -0.1095],\n",
      "        [ 0.1959, -0.1286,  0.3769, -0.3182,  0.0811, -0.1343],\n",
      "        [ 0.0766,  0.3063,  0.3141,  0.0387,  0.2276, -0.1078],\n",
      "        [-0.2977, -0.3418, -0.2301,  0.1594, -0.0126, -0.3578],\n",
      "        [-0.3463,  0.0234,  0.3221, -0.1592,  0.2445, -0.3638],\n",
      "        [-0.0719, -0.3229, -0.2056,  0.0043,  0.2513, -0.2032],\n",
      "        [-0.1589, -0.1476, -0.3865, -0.3590,  0.0372,  0.1237],\n",
      "        [-0.3305,  0.0519,  0.3294, -0.3873,  0.2420,  0.0411],\n",
      "        [-0.0685, -0.2410, -0.2824, -0.3980, -0.0666,  0.2675],\n",
      "        [-0.1926,  0.1432,  0.2774, -0.2510,  0.2610,  0.0948],\n",
      "        [-0.3440, -0.2699, -0.0300, -0.1074,  0.1938, -0.0146],\n",
      "        [ 0.2016, -0.4007,  0.2738, -0.4064,  0.3439,  0.3970],\n",
      "        [-0.0949,  0.0701,  0.0511,  0.1800,  0.0637, -0.2231],\n",
      "        [ 0.1799,  0.2525, -0.3335, -0.2334,  0.1994, -0.1156],\n",
      "        [ 0.2104,  0.2646, -0.1103, -0.0200, -0.1637, -0.1248],\n",
      "        [ 0.1610,  0.4063, -0.4034,  0.3162,  0.2993,  0.2216],\n",
      "        [ 0.1143, -0.3399, -0.1811,  0.0691,  0.0838,  0.0413],\n",
      "        [-0.0698,  0.0983,  0.2409, -0.4003,  0.3531, -0.3586],\n",
      "        [ 0.3525,  0.0527, -0.3858, -0.3898, -0.0246,  0.3833]],\n",
      "       device='cuda:0', grad_fn=<SliceBackward0>) \n",
      "\n",
      "Layer: lstm.bias_ih_l0 | Size: torch.Size([24]) | Values : tensor([ 0.3454,  0.1956, -0.2321,  0.3595,  0.4023, -0.3244,  0.0924,  0.2088,\n",
      "        -0.0496,  0.1070, -0.0831, -0.1631, -0.2649,  0.1131,  0.1912,  0.2600,\n",
      "        -0.3027,  0.2711, -0.3237, -0.0784, -0.3236,  0.1226,  0.3884,  0.2944],\n",
      "       device='cuda:0', grad_fn=<SliceBackward0>) \n",
      "\n",
      "Layer: lstm.bias_hh_l0 | Size: torch.Size([24]) | Values : tensor([ 0.1702, -0.2353,  0.0662, -0.0777, -0.2423,  0.4066,  0.2401, -0.1636,\n",
      "         0.1305, -0.3731,  0.1284, -0.0293,  0.1280,  0.1357,  0.1724, -0.0951,\n",
      "        -0.2241, -0.0840, -0.2305,  0.1122, -0.2042,  0.1853,  0.0141, -0.0609],\n",
      "       device='cuda:0', grad_fn=<SliceBackward0>) \n",
      "\n",
      "Layer: fc.weight | Size: torch.Size([1, 6]) | Values : tensor([[ 0.2671,  0.0311,  0.1998, -0.2629,  0.3772,  0.1601]],\n",
      "       device='cuda:0', grad_fn=<SliceBackward0>) \n",
      "\n",
      "Layer: fc.bias | Size: torch.Size([1]) | Values : tensor([0.3837], device='cuda:0', grad_fn=<SliceBackward0>) \n",
      "\n"
     ]
    }
   ],
   "source": [
    "print(f\"Model structure: {model}\\n\\n\")\n",
    "\n",
    "for name, param in model.named_parameters():\n",
    "    print(f\"Layer: {name} | Size: {param.size()} | Values : {param[:]} \\n\")"
   ]
  },
  {
   "cell_type": "code",
   "execution_count": 8,
   "metadata": {},
   "outputs": [],
   "source": [
    "class SineWaveDataset(torch.utils.data.Dataset):\n",
    "    \"\"\"Some Information about SineWaveDataset\n",
    "    \n",
    "    signals: dim -> (m, N)\n",
    "\n",
    "    \"\"\"\n",
    "\n",
    "    def __init__(self, signals, labels, transform=None, target_transform=None):\n",
    "        super(SineWaveDataset, self).__init__()\n",
    "        self.signals = signals\n",
    "        self.labels = labels\n",
    "        self.transform = transform\n",
    "        self.target_transform = target_transform\n",
    "\n",
    "    def __len__(self):\n",
    "        return len(self.signals)\n",
    "\n",
    "    def __getitem__(self, index):\n",
    "        signal = self.signals[index]\n",
    "        label = self.labels[index]\n",
    "        if self.transform:\n",
    "            signal = self.transform(signal)\n",
    "        if self.target_transform:\n",
    "            label = self.target_transform(label)\n",
    "        # return torch.tensor(signal).float(), label\n",
    "        return signal, label\n",
    "    \n",
    "class MockDataset(torch.utils.data.Dataset):\n",
    "    \"\"\"Some Information about MockDataset\"\"\"\n",
    "    def __init__(self, signals):\n",
    "        super(MockDataset, self).__init__()\n",
    "        self.signals = signals\n",
    "\n",
    "    def __getitem__(self, index):\n",
    "        return self.signals[index]\n",
    "        \n",
    "    def __len__(self):\n",
    "        return len(self.signals)\n"
   ]
  },
  {
   "cell_type": "code",
   "execution_count": 5,
   "metadata": {},
   "outputs": [
    {
     "name": "stdout",
     "output_type": "stream",
     "text": [
      "torch.Size([300, 1])\n",
      "torch.Size([300, 64, 1])\n"
     ]
    }
   ],
   "source": [
    "fs = 3840\n",
    "N = 64\n",
    "# Create Dataset\n",
    "\n",
    "\n",
    "t = np.linspace(0,N/fs,N)\n",
    "m = 300\n",
    "signals = t\n",
    "target = np.array([[0]])\n",
    "\n",
    "for i in (np.linspace(0, 10, int(m/2))):\n",
    "    signal = np.array(i*np.sin(2*np.pi*fs*t))\n",
    "    signals = np.vstack((signals, signal))\n",
    "    target = np.vstack((target, np.array(1)))\n",
    "signals = signals[:-1]\n",
    "target = target[:-1]\n",
    "target\n",
    "for i in range(int(m/4)):\n",
    "    signal = np.random.normal(scale=3, size=N)\n",
    "    signals = np.vstack((signals, signal))\n",
    "    target = np.vstack((target, np.array(0)))\n",
    "    \n",
    "for i in range(int(m/4)):\n",
    "    signal = np.ones(64)*i/10\n",
    "    signals = np.vstack((signals, signal))\n",
    "    target = np.vstack((target, np.array(0)))\n",
    "\n",
    "signals = np.expand_dims(signals, axis=2)\n",
    "signals = torch.from_numpy(signals).float()\n",
    "target = torch.from_numpy(target).float()\n",
    "print(target.shape)\n",
    "print(signals.shape)\n"
   ]
  },
  {
   "cell_type": "code",
   "execution_count": 9,
   "metadata": {},
   "outputs": [],
   "source": [
    "dataset = SineWaveDataset(signals, target)\n",
    "train_dataset, test_dataset, dev_dataset  = random_split(dataset, [0.9, 0.05, 0.05])\n",
    "train_dataloader = DataLoader(train_dataset, batch_size=16, shuffle=True)\n",
    "test_dataloader = DataLoader(test_dataset, batch_size=16, shuffle=True)\n",
    "dev_dataloader = DataLoader(dev_dataset, batch_size=16, shuffle=True)\n",
    "\n",
    "\n",
    "\n",
    "\n"
   ]
  },
  {
   "cell_type": "code",
   "execution_count": 10,
   "metadata": {},
   "outputs": [],
   "source": [
    "# Training\n",
    "def train(dataloader, model, loss_fn, optimizer):\n",
    "    size=len(dataloader.dataset)\n",
    "    model.train()\n",
    "    for batch, (x, y) in enumerate(dataloader):\n",
    "        x, y = x.to(device), y.to(device)\n",
    "\n",
    "        # Compute prediction error\n",
    "        pred = model(x)\n",
    "        loss = loss_fn(pred, y)\n",
    "\n",
    "        # Backpropagation\n",
    "        optimizer.zero_grad()\n",
    "        loss.backward()\n",
    "        optimizer.step()\n",
    "\n",
    "        if batch % 30 == 0:\n",
    "            loss, current = loss.item(), batch * len(x)\n",
    "            print(f\"loss: {loss:>7f}  [{current:>5d}/{size:>5d}]\")\n",
    "\n",
    "\n"
   ]
  },
  {
   "cell_type": "code",
   "execution_count": 11,
   "metadata": {},
   "outputs": [],
   "source": [
    "def test(dataloader, model, loss_fn):\n",
    "    size = len(dataloader.dataset)\n",
    "    num_batches = len(dataloader)\n",
    "    model.eval()\n",
    "    test_loss, correct = 0, 0\n",
    "    with torch.no_grad():\n",
    "        for x, y in dataloader:\n",
    "            x, y = x.to(device), y.to(device)\n",
    "            pred = model(x)\n",
    "            prob = torch.sigmoid(pred)\n",
    "            test_loss += loss_fn(pred, y).item()\n",
    "            correct += (torch.round(prob) == y).type(torch.float).sum().item()\n",
    "\n",
    "    test_loss /= num_batches\n",
    "    correct /= size\n",
    "    print(f\"Test Error: \\n Accuracy: {(100*correct):>0.1f}%, Avg loss: {test_loss:>8f} \\n\")"
   ]
  },
  {
   "cell_type": "code",
   "execution_count": 12,
   "metadata": {},
   "outputs": [
    {
     "name": "stdout",
     "output_type": "stream",
     "text": [
      "Epoch 1\n",
      "-----------------------------------\n",
      "torch.Size([16, 64, 6])\n",
      "torch.Size([16, 1])\n",
      "loss: 0.451900  [    0/  270]\n",
      "torch.Size([16, 64, 6])\n",
      "torch.Size([16, 1])\n"
     ]
    },
    {
     "ename": "RuntimeError",
     "evalue": "CUDA error: device-side assert triggered\nCUDA kernel errors might be asynchronously reported at some other API call,so the stacktrace below might be incorrect.\nFor debugging consider passing CUDA_LAUNCH_BLOCKING=1.",
     "output_type": "error",
     "traceback": [
      "\u001b[1;31m---------------------------------------------------------------------------\u001b[0m",
      "\u001b[1;31mRuntimeError\u001b[0m                              Traceback (most recent call last)",
      "Cell \u001b[1;32mIn[12], line 5\u001b[0m\n\u001b[0;32m      3\u001b[0m \u001b[39mfor\u001b[39;00m t \u001b[39min\u001b[39;00m \u001b[39mrange\u001b[39m(epochs):\n\u001b[0;32m      4\u001b[0m     \u001b[39mprint\u001b[39m(\u001b[39mf\u001b[39m\u001b[39m\"\u001b[39m\u001b[39mEpoch \u001b[39m\u001b[39m{\u001b[39;00mt\u001b[39m+\u001b[39m\u001b[39m1\u001b[39m\u001b[39m}\u001b[39;00m\u001b[39m\\n\u001b[39;00m\u001b[39m-----------------------------------\u001b[39m\u001b[39m\"\u001b[39m)\n\u001b[1;32m----> 5\u001b[0m     train(train_dataloader, model, loss_fn, optimizer)\n\u001b[0;32m      6\u001b[0m     test(test_dataloader, model, loss_fn)\n\u001b[0;32m      7\u001b[0m \u001b[39mprint\u001b[39m(\u001b[39m\"\u001b[39m\u001b[39mDone!\u001b[39m\u001b[39m\"\u001b[39m)\n",
      "Cell \u001b[1;32mIn[10], line 6\u001b[0m, in \u001b[0;36mtrain\u001b[1;34m(dataloader, model, loss_fn, optimizer)\u001b[0m\n\u001b[0;32m      4\u001b[0m model\u001b[39m.\u001b[39mtrain()\n\u001b[0;32m      5\u001b[0m \u001b[39mfor\u001b[39;00m batch, (x, y) \u001b[39min\u001b[39;00m \u001b[39menumerate\u001b[39m(dataloader):\n\u001b[1;32m----> 6\u001b[0m     x, y \u001b[39m=\u001b[39m x\u001b[39m.\u001b[39;49mto(device), y\u001b[39m.\u001b[39mto(device)\n\u001b[0;32m      8\u001b[0m     \u001b[39m# Compute prediction error\u001b[39;00m\n\u001b[0;32m      9\u001b[0m     pred \u001b[39m=\u001b[39m model(x)\n",
      "\u001b[1;31mRuntimeError\u001b[0m: CUDA error: device-side assert triggered\nCUDA kernel errors might be asynchronously reported at some other API call,so the stacktrace below might be incorrect.\nFor debugging consider passing CUDA_LAUNCH_BLOCKING=1."
     ]
    }
   ],
   "source": [
    "CUDA_LAUNCH_BLOCKING =1\n",
    "epochs = 8\n",
    "for t in range(epochs):\n",
    "    print(f\"Epoch {t+1}\\n-----------------------------------\")\n",
    "    train(train_dataloader, model, loss_fn, optimizer)\n",
    "    test(test_dataloader, model, loss_fn)\n",
    "print(\"Done!\")"
   ]
  },
  {
   "cell_type": "code",
   "execution_count": 12,
   "metadata": {},
   "outputs": [
    {
     "ename": "RuntimeError",
     "evalue": "CUDA error: device-side assert triggered\nCUDA kernel errors might be asynchronously reported at some other API call,so the stacktrace below might be incorrect.\nFor debugging consider passing CUDA_LAUNCH_BLOCKING=1.",
     "output_type": "error",
     "traceback": [
      "\u001b[1;31m---------------------------------------------------------------------------\u001b[0m",
      "\u001b[1;31mRuntimeError\u001b[0m                              Traceback (most recent call last)",
      "Cell \u001b[1;32mIn[12], line 3\u001b[0m\n\u001b[0;32m      1\u001b[0m test_loss, correct \u001b[39m=\u001b[39m \u001b[39m0\u001b[39m, \u001b[39m0\u001b[39m\n\u001b[0;32m      2\u001b[0m \u001b[39mfor\u001b[39;00m batch, (x, y) \u001b[39min\u001b[39;00m \u001b[39menumerate\u001b[39m(dev_dataloader):\n\u001b[1;32m----> 3\u001b[0m     x, y \u001b[39m=\u001b[39m x\u001b[39m.\u001b[39;49mto(device), y\u001b[39m.\u001b[39mto(device)\n\u001b[0;32m      4\u001b[0m     pred \u001b[39m=\u001b[39m model(x)\n\u001b[0;32m      5\u001b[0m     prob \u001b[39m=\u001b[39m torch\u001b[39m.\u001b[39msigmoid(pred)\n",
      "\u001b[1;31mRuntimeError\u001b[0m: CUDA error: device-side assert triggered\nCUDA kernel errors might be asynchronously reported at some other API call,so the stacktrace below might be incorrect.\nFor debugging consider passing CUDA_LAUNCH_BLOCKING=1."
     ]
    }
   ],
   "source": [
    "test_loss, correct = 0, 0\n",
    "for batch, (x, y) in enumerate(dev_dataloader):\n",
    "    x, y = x.to(device), y.to(device)\n",
    "    pred = model(x)\n",
    "    prob = torch.sigmoid(pred)\n",
    "    loss = loss_fn(pred, y)\n",
    "    correct += (torch.round(prob) == y).type(torch.float).sum().item()\n",
    "    print(pred)\n",
    "    print(prob)\n",
    "    print(y)\n",
    "    \n",
    "    \n",
    "    \n",
    "\n",
    "print(correct)\n",
    "print(loss)"
   ]
  },
  {
   "cell_type": "code",
   "execution_count": null,
   "metadata": {},
   "outputs": [],
   "source": [
    "\n",
    "dataiter = iter(test_dataloader)\n",
    "signal, labels = next(dataiter)\n",
    "\n",
    "\n",
    "print(labels[1:10])\n",
    "print(signal.shape)\n",
    "figure = plt.figure(figsize=(10,10))\n",
    "cols, rows = 3, 3\n",
    "for i in range(1, cols * rows +1):\n",
    "    figure.add_subplot(rows, cols, i)\n",
    "    plt.plot(t, signal[i,:])\n"
   ]
  },
  {
   "cell_type": "code",
   "execution_count": 11,
   "metadata": {},
   "outputs": [
    {
     "name": "stdout",
     "output_type": "stream",
     "text": [
      "Batch: 0, label: tensor([1.])\n"
     ]
    },
    {
     "ename": "RuntimeError",
     "evalue": "CUDA error: device-side assert triggered\nCUDA kernel errors might be asynchronously reported at some other API call,so the stacktrace below might be incorrect.\nFor debugging consider passing CUDA_LAUNCH_BLOCKING=1.",
     "output_type": "error",
     "traceback": [
      "\u001b[1;31m---------------------------------------------------------------------------\u001b[0m",
      "\u001b[1;31mRuntimeError\u001b[0m                              Traceback (most recent call last)",
      "Cell \u001b[1;32mIn[11], line 9\u001b[0m\n\u001b[0;32m      7\u001b[0m prob \u001b[39m=\u001b[39m torch\u001b[39m.\u001b[39msigmoid(pred)\n\u001b[0;32m      8\u001b[0m loss \u001b[39m=\u001b[39m loss_fn(pred, y)\n\u001b[1;32m----> 9\u001b[0m correct \u001b[39m+\u001b[39m\u001b[39m=\u001b[39m (torch\u001b[39m.\u001b[39;49mround(prob) \u001b[39m==\u001b[39;49m y)\u001b[39m.\u001b[39;49mtype(torch\u001b[39m.\u001b[39;49mfloat)\u001b[39m.\u001b[39;49msum()\u001b[39m.\u001b[39;49mitem()\n\u001b[0;32m     10\u001b[0m \u001b[39mprint\u001b[39m(pred)\n\u001b[0;32m     12\u001b[0m \u001b[39mprint\u001b[39m(y)\n",
      "\u001b[1;31mRuntimeError\u001b[0m: CUDA error: device-side assert triggered\nCUDA kernel errors might be asynchronously reported at some other API call,so the stacktrace below might be incorrect.\nFor debugging consider passing CUDA_LAUNCH_BLOCKING=1."
     ]
    }
   ],
   "source": [
    "CUDA_LAUNCH_BLOCKING =1\n",
    "test_loss, correct = 0, 0\n",
    "for batch, (x, y) in enumerate(train_dataloader):\n",
    "    print(f\"Batch: {batch}, label: {y[0]}\")\n",
    "    x, y = x.to(device), y.to(device)\n",
    "    pred = model(x)\n",
    "    prob = torch.sigmoid(pred)\n",
    "    loss = loss_fn(pred, y)\n",
    "    correct += (torch.round(prob) == y).type(torch.float).sum().item()\n",
    "    print(pred)\n",
    "    \n",
    "    print(y)\n",
    "    \n",
    "    \n",
    "    break\n",
    "print(correct)\n",
    "print(loss)\n",
    "# print(prob)"
   ]
  },
  {
   "cell_type": "code",
   "execution_count": null,
   "metadata": {},
   "outputs": [],
   "source": []
  }
 ],
 "metadata": {
  "kernelspec": {
   "display_name": "Python 3 (ipykernel)",
   "language": "python",
   "name": "python3"
  },
  "language_info": {
   "codemirror_mode": {
    "name": "ipython",
    "version": 3
   },
   "file_extension": ".py",
   "mimetype": "text/x-python",
   "name": "python",
   "nbconvert_exporter": "python",
   "pygments_lexer": "ipython3",
   "version": "3.9.0"
  },
  "orig_nbformat": 4,
  "vscode": {
   "interpreter": {
    "hash": "72ca1a9e086f4c7ef9a163ec3bf69ee2fedc8d7281f4001d4d35bca77b5aa424"
   }
  }
 },
 "nbformat": 4,
 "nbformat_minor": 2
}
