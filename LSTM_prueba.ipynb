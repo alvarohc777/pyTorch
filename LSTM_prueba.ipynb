{
 "cells": [
  {
   "cell_type": "code",
   "execution_count": 70,
   "metadata": {},
   "outputs": [],
   "source": [
    "import torch\n",
    "import torch.nn as nn\n",
    "from utils.auxfunctions import moving_window\n",
    "import numpy as np\n",
    "import matplotlib.pyplot as plt"
   ]
  },
  {
   "cell_type": "code",
   "execution_count": 56,
   "metadata": {},
   "outputs": [],
   "source": [
    "hidden_dim = 6\n",
    "n_signals = 1\n",
    "N = 64\n",
    "tagset_size = 1"
   ]
  },
  {
   "cell_type": "code",
   "execution_count": 50,
   "metadata": {},
   "outputs": [],
   "source": [
    "class LSTM_freq(nn.Module):\n",
    "    \"\"\"Some Information about LSTM_freq\"\"\"\n",
    "    def __init__(self, n_signals, hidden_dim, tagset_size):\n",
    "        super(LSTM_freq, self).__init__()\n",
    "        self.lstm = nn.LSTM(n_signals, hidden_dim)\n",
    "        self.fc = nn.Linear(hidden_dim, tagset_size)\n",
    "        self.activation = nn.Sigmoid()\n",
    "        \n",
    "\n",
    "    def forward(self, x):\n",
    "        lstm_out, _ = self.lstm(x)\n",
    "        print(lstm_out.shape)\n",
    "        fc_layer = self.fc(lstm_out[-1])\n",
    "        print(fc_layer.shape)\n",
    "        prob_tag = self.activation(fc_layer)\n",
    "        print(prob_tag.shape)\n",
    "\n",
    "        return prob_tag\n"
   ]
  },
  {
   "cell_type": "code",
   "execution_count": 51,
   "metadata": {},
   "outputs": [],
   "source": [
    "model = LSTM_freq(n_signals, hidden_dim, tagset_size)\n",
    "loss_fn = nn.BCELoss()\n",
    "optimizer = torch.optim.Adam(model.parameters(), lr=1e-2)\n"
   ]
  },
  {
   "cell_type": "code",
   "execution_count": 54,
   "metadata": {},
   "outputs": [
    {
     "name": "stdout",
     "output_type": "stream",
     "text": [
      "torch.Size([64, 5, 6])\n",
      "torch.Size([5, 1])\n",
      "torch.Size([5, 1])\n",
      "tensor([[0.4710],\n",
      "        [0.4729],\n",
      "        [0.4726],\n",
      "        [0.4714],\n",
      "        [0.4718]])\n"
     ]
    }
   ],
   "source": [
    "mock_dataset = torch.rand(64, 5, 1)\n",
    "with torch.no_grad():\n",
    "    tag_scores = model(mock_dataset)\n",
    "    print(tag_scores)"
   ]
  },
  {
   "cell_type": "code",
   "execution_count": 69,
   "metadata": {},
   "outputs": [
    {
     "name": "stdout",
     "output_type": "stream",
     "text": [
      "[ 0.00000000e+00  9.95678466e-02  1.98146143e-01  2.94755174e-01\n",
      "  3.88434796e-01  4.78253979e-01  5.63320058e-01  6.42787610e-01\n",
      "  7.15866849e-01  7.81831482e-01  8.40025923e-01  8.89871809e-01\n",
      "  9.30873749e-01  9.62624247e-01  9.84807753e-01  9.97203797e-01\n",
      "  9.99689182e-01  9.92239207e-01  9.74927912e-01  9.47927346e-01\n",
      "  9.11505852e-01  8.66025404e-01  8.11938006e-01  7.49781203e-01\n",
      "  6.80172738e-01  6.03804410e-01  5.21435203e-01  4.33883739e-01\n",
      "  3.42020143e-01  2.46757398e-01  1.49042266e-01  4.98458857e-02\n",
      " -4.98458857e-02 -1.49042266e-01 -2.46757398e-01 -3.42020143e-01\n",
      " -4.33883739e-01 -5.21435203e-01 -6.03804410e-01 -6.80172738e-01\n",
      " -7.49781203e-01 -8.11938006e-01 -8.66025404e-01 -9.11505852e-01\n",
      " -9.47927346e-01 -9.74927912e-01 -9.92239207e-01 -9.99689182e-01\n",
      " -9.97203797e-01 -9.84807753e-01 -9.62624247e-01 -9.30873749e-01\n",
      " -8.89871809e-01 -8.40025923e-01 -7.81831482e-01 -7.15866849e-01\n",
      " -6.42787610e-01 -5.63320058e-01 -4.78253979e-01 -3.88434796e-01\n",
      " -2.94755174e-01 -1.98146143e-01 -9.95678466e-02 -7.25188979e-14]\n"
     ]
    }
   ],
   "source": [
    "fs = 3840\n",
    "t = np.linspace(0,1/60,64)\n",
    "signal = np.sin(2*np.pi *fs*t)\n",
    "print(signal)"
   ]
  },
  {
   "cell_type": "code",
   "execution_count": 61,
   "metadata": {},
   "outputs": [
    {
     "name": "stdout",
     "output_type": "stream",
     "text": [
      "Model structure: LSTM_freq(\n",
      "  (lstm): LSTM(1, 6)\n",
      "  (fc): Linear(in_features=6, out_features=1, bias=True)\n",
      "  (activation): Sigmoid()\n",
      ")\n",
      "\n",
      "\n",
      "Layer: lstm.weight_ih_l0 | Size: torch.Size([24, 1]) | Values : tensor([[-0.2381],\n",
      "        [ 0.0176],\n",
      "        [-0.1039],\n",
      "        [-0.2774],\n",
      "        [ 0.2367],\n",
      "        [-0.3029],\n",
      "        [ 0.3260],\n",
      "        [-0.0017],\n",
      "        [-0.0507],\n",
      "        [ 0.3011],\n",
      "        [ 0.0988],\n",
      "        [ 0.3949],\n",
      "        [-0.0184],\n",
      "        [-0.3725],\n",
      "        [ 0.0911],\n",
      "        [ 0.3168],\n",
      "        [-0.2602],\n",
      "        [-0.1913],\n",
      "        [ 0.0217],\n",
      "        [ 0.3465],\n",
      "        [-0.3551],\n",
      "        [ 0.0652],\n",
      "        [-0.1206],\n",
      "        [ 0.2366]], grad_fn=<SliceBackward0>) \n",
      "\n",
      "Layer: lstm.weight_hh_l0 | Size: torch.Size([24, 6]) | Values : tensor([[ 0.3410,  0.3745,  0.0846, -0.0683, -0.1805,  0.3230],\n",
      "        [-0.0581, -0.0646,  0.1498, -0.1316, -0.2244, -0.4081],\n",
      "        [ 0.1802, -0.0735, -0.3571,  0.1071,  0.3528,  0.3861],\n",
      "        [ 0.2982, -0.3160, -0.2787, -0.3930, -0.1771, -0.3675],\n",
      "        [ 0.0732,  0.1482, -0.1028, -0.3219, -0.0229, -0.2369],\n",
      "        [ 0.0642, -0.2979,  0.2328,  0.3085,  0.2852, -0.3536],\n",
      "        [ 0.2410,  0.3076,  0.3033, -0.4001, -0.0154, -0.3370],\n",
      "        [ 0.3709,  0.2661, -0.3325,  0.1449, -0.3282, -0.3686],\n",
      "        [ 0.1848,  0.3694,  0.0203,  0.3256,  0.1323, -0.2505],\n",
      "        [-0.1050, -0.0872,  0.1018,  0.1168,  0.0985,  0.2664],\n",
      "        [ 0.2380, -0.4074,  0.1222, -0.0677, -0.1609, -0.1196],\n",
      "        [-0.0439,  0.0801, -0.3732, -0.2368, -0.3753, -0.0570],\n",
      "        [-0.2990, -0.0877,  0.1198, -0.3109, -0.1471, -0.0715],\n",
      "        [-0.2190,  0.1534,  0.2153,  0.1622,  0.2735,  0.0685],\n",
      "        [-0.0028, -0.0051, -0.2753,  0.1503, -0.3690,  0.0162],\n",
      "        [ 0.2658, -0.1228, -0.2794, -0.0399, -0.2366, -0.2061],\n",
      "        [ 0.2777, -0.0373, -0.3533,  0.2899,  0.3501,  0.1739],\n",
      "        [ 0.2691, -0.1770, -0.3045,  0.1803, -0.0971, -0.1475],\n",
      "        [-0.2830, -0.1065, -0.1925, -0.3347, -0.0438, -0.1962],\n",
      "        [-0.1593, -0.1492, -0.3699,  0.2717,  0.1623, -0.0005],\n",
      "        [-0.0505,  0.3355,  0.0905, -0.1876,  0.1368, -0.0904],\n",
      "        [ 0.0005, -0.2824,  0.0787, -0.2920, -0.0881,  0.0742],\n",
      "        [ 0.2535, -0.0670, -0.2652,  0.1014, -0.1932, -0.3906],\n",
      "        [ 0.3905, -0.0466,  0.1161,  0.0526,  0.2318, -0.1556]],\n",
      "       grad_fn=<SliceBackward0>) \n",
      "\n",
      "Layer: lstm.bias_ih_l0 | Size: torch.Size([24]) | Values : tensor([-0.2177, -0.0707,  0.3527,  0.1228,  0.1310, -0.0957, -0.1345, -0.2245,\n",
      "         0.3343, -0.1796,  0.1215,  0.3434,  0.3234,  0.0187, -0.3543, -0.2342,\n",
      "        -0.2046,  0.1085,  0.2628, -0.0434,  0.3177, -0.0316, -0.1866,  0.1003],\n",
      "       grad_fn=<SliceBackward0>) \n",
      "\n",
      "Layer: lstm.bias_hh_l0 | Size: torch.Size([24]) | Values : tensor([ 0.2314, -0.1018,  0.2895, -0.2943, -0.1179, -0.2127, -0.1667,  0.0685,\n",
      "         0.2175,  0.0740, -0.0426,  0.3907, -0.2370,  0.0582, -0.0916, -0.2055,\n",
      "         0.0272,  0.0430, -0.0343, -0.2174,  0.1099,  0.1685,  0.2534, -0.2369],\n",
      "       grad_fn=<SliceBackward0>) \n",
      "\n",
      "Layer: fc.weight | Size: torch.Size([1, 6]) | Values : tensor([[-0.1130,  0.1132,  0.2584,  0.2332,  0.1609, -0.0156]],\n",
      "       grad_fn=<SliceBackward0>) \n",
      "\n",
      "Layer: fc.bias | Size: torch.Size([1]) | Values : tensor([0.0122], grad_fn=<SliceBackward0>) \n",
      "\n"
     ]
    }
   ],
   "source": [
    "print(f\"Model structure: {model}\\n\\n\")\n",
    "\n",
    "for name, param in model.named_parameters():\n",
    "    print(f\"Layer: {name} | Size: {param.size()} | Values : {param[:]} \\n\")"
   ]
  },
  {
   "cell_type": "code",
   "execution_count": null,
   "metadata": {},
   "outputs": [],
   "source": []
  }
 ],
 "metadata": {
  "kernelspec": {
   "display_name": "env",
   "language": "python",
   "name": "python3"
  },
  "language_info": {
   "codemirror_mode": {
    "name": "ipython",
    "version": 3
   },
   "file_extension": ".py",
   "mimetype": "text/x-python",
   "name": "python",
   "nbconvert_exporter": "python",
   "pygments_lexer": "ipython3",
   "version": "3.9.0"
  },
  "orig_nbformat": 4,
  "vscode": {
   "interpreter": {
    "hash": "72ca1a9e086f4c7ef9a163ec3bf69ee2fedc8d7281f4001d4d35bca77b5aa424"
   }
  }
 },
 "nbformat": 4,
 "nbformat_minor": 2
}
