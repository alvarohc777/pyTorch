{
 "cells": [
  {
   "cell_type": "code",
   "execution_count": 14,
   "metadata": {},
   "outputs": [],
   "source": [
    "# Imports\n",
    "import utils.data_exploration as de\n",
    "\n",
    "import numpy as np\n",
    "import pandas as pd\n",
    "import numexpr as ne\n",
    "import matplotlib.pyplot as plt\n",
    "from torchmetrics.functional.classification import binary_stat_scores\n"
   ]
  },
  {
   "cell_type": "code",
   "execution_count": 15,
   "metadata": {},
   "outputs": [],
   "source": [
    "# Load Dataframe and confusion matrix\n",
    "def load_df(i):\n",
    "    df = pd.read_parquet(f\"parquet_data/R{i}_df.parquet\")\n",
    "    CM_df = pd.read_parquet(f\"parquet_data/R{i}_CM_df.parquet\")\n",
    "    CM = np.load(f\"parquet_data/R{i}_CM.npy\", allow_pickle=False)\n",
    "\n",
    "    return df, CM_df, CM\n",
    "\n",
    "\n",
    "df, CM_df, CM = load_df(2)\n",
    "conf_matrix_total = np.sum(CM, axis=0)\n",
    "metrics = de.conf_matrix_metrics(conf_matrix_total)"
   ]
  },
  {
   "cell_type": "code",
   "execution_count": 59,
   "metadata": {},
   "outputs": [
    {
     "name": "stdout",
     "output_type": "stream",
     "text": [
      "FALSE POSITIVE\n",
      "Total \n",
      "       window idx  event_idx  Pred probability  Pred label  True label Result\n",
      "1964           42         31            51.67%           1           0     FP\n",
      "1965           43         31            51.66%           1           0     FP\n",
      "7542           40        121            50.17%           1           0     FP\n",
      "7543           41        121            52.19%           1           0     FP\n",
      "7544           42        121            50.68%           1           0     FP\n",
      "7556           54        121            51.81%           1           0     FP\n",
      "7557           55        121            83.67%           1           0     FP\n",
      "7558           56        121            86.55%           1           0     FP\n",
      "7559           57        121            83.02%           1           0     FP\n",
      "7560           58        121            78.20%           1           0     FP\n",
      "7561           59        121            77.77%           1           0     FP\n",
      "7562           60        121            77.98%           1           0     FP\n",
      "7563           61        121            79.40%           1           0     FP\n",
      "11832          52        190            51.80%           1           0     FP\n",
      "11833          53        190            69.00%           1           0     FP\n",
      "11834          54        190            64.51%           1           0     FP\n",
      "11835          55        190            62.41%           1           0     FP\n",
      "11836          56        190            60.93%           1           0     FP\n",
      "11837          57        190            62.01%           1           0     FP\n",
      "11838          58        190            61.48%           1           0     FP\n",
      "11839          59        190            55.25%           1           0     FP\n",
      "17649          41        284            50.76%           1           0     FP\n",
      "17664          56        284            74.03%           1           0     FP\n",
      "17665          57        284            77.86%           1           0     FP\n",
      "17666          58        284            74.99%           1           0     FP\n",
      "17667          59        284            71.10%           1           0     FP\n",
      "17668          60        284            69.52%           1           0     FP\n",
      "17669          61        284            62.55%           1           0     FP\n",
      "19820          42        319            57.06%           1           0     FP\n",
      "19821          43        319            51.94%           1           0     FP\n",
      "23642          20        381            58.12%           1           0     FP\n",
      "23643          21        381            65.26%           1           0     FP\n",
      "23644          22        381            61.36%           1           0     FP\n",
      "26142          40        421            50.00%           1           0     FP\n",
      "26143          41        421            52.53%           1           0     FP\n",
      "26144          42        421            50.44%           1           0     FP\n",
      "26157          55        421            84.37%           1           0     FP\n",
      "26158          56        421            88.09%           1           0     FP\n",
      "26159          57        421            84.76%           1           0     FP\n",
      "26160          58        421            80.60%           1           0     FP\n",
      "26161          59        421            79.11%           1           0     FP\n",
      "26162          60        421            81.25%           1           0     FP\n",
      "26163          61        421            83.27%           1           0     FP\n",
      "34768          48        560            53.09%           1           0     FP\n",
      "34769          49        560            59.62%           1           0     FP\n",
      "34770          50        560            56.95%           1           0     FP\n",
      "34771          51        560            51.00%           1           0     FP\n",
      "38310          56        617            75.34%           1           0     FP\n",
      "38311          57        617            72.39%           1           0     FP\n",
      "38312          58        617            68.65%           1           0     FP\n",
      "38313          59        617            67.81%           1           0     FP\n",
      "38314          60        617            68.65%           1           0     FP\n",
      "38315          61        617            63.07%           1           0     FP\n",
      "42326          42        682            65.27%           1           0     FP\n",
      "42327          43        682            65.11%           1           0     FP\n",
      "42328          44        682            61.93%           1           0     FP\n",
      "42329          45        682            58.21%           1           0     FP\n",
      "42330          46        682            56.04%           1           0     FP\n",
      "42331          47        682            54.63%           1           0     FP\n",
      "49031          51        790            68.73%           1           0     FP\n",
      "49032          52        790            69.35%           1           0     FP\n",
      "49033          53        790            63.28%           1           0     FP\n",
      "49034          54        790            56.71%           1           0     FP\n",
      "55971          47        902            53.82%           1           0     FP\n",
      "55972          48        902            52.62%           1           0     FP\n",
      "62371          61       1005            56.05%           1           0     FP\n",
      "63854          56       1029            65.22%           1           0     FP\n",
      "63855          57       1029            79.30%           1           0     FP\n",
      "63856          58       1029            78.27%           1           0     FP\n",
      "63857          59       1029            74.91%           1           0     FP\n",
      "63858          60       1029            72.10%           1           0     FP\n",
      "63859          61       1029            61.16%           1           0     FP\n",
      "68117          41       1098            52.04%           1           0     FP\n",
      "68118          42       1098            54.76%           1           0     FP\n",
      "68119          43       1098            51.15%           1           0     FP\n",
      "68131          55       1098            71.88%           1           0     FP\n",
      "68132          56       1098            68.64%           1           0     FP\n",
      "68133          57       1098            66.32%           1           0     FP\n",
      "68134          58       1098            64.16%           1           0     FP\n",
      "68135          59       1098            63.65%           1           0     FP\n",
      "68136          60       1098            65.59%           1           0     FP\n",
      "68137          61       1098            66.13%           1           0     FP\n",
      "68768          10       1109            62.66%           1           0     FP\n",
      "68769          11       1109            62.62%           1           0     FP\n",
      "68770          12       1109            60.18%           1           0     FP\n",
      "68771          13       1109            54.73%           1           0     FP\n",
      "68772          14       1109            50.93%           1           0     FP\n",
      "68817          59       1109            52.22%           1           0     FP\n",
      "68818          60       1109            53.12%           1           0     FP\n",
      "68819          61       1109            50.11%           1           0     FP\n",
      "71734           0       1157            62.68%           1           0     FP\n",
      "71735           1       1157            63.88%           1           0     FP\n",
      "71736           2       1157            66.18%           1           0     FP\n",
      "71737           3       1157            69.72%           1           0     FP\n",
      "71738           4       1157            71.98%           1           0     FP\n",
      "71739           5       1157            71.22%           1           0     FP\n",
      "71740           6       1157            73.79%           1           0     FP\n",
      "71741           7       1157            73.52%           1           0     FP\n",
      "71742           8       1157            63.85%           1           0     FP\n",
      "71743           9       1157            52.26%           1           0     FP\n",
      "71768          34       1157            53.15%           1           0     FP\n",
      "71769          35       1157            56.07%           1           0     FP\n",
      "71770          36       1157            53.87%           1           0     FP\n",
      "71775          41       1157            55.77%           1           0     FP\n",
      "71776          42       1157            65.83%           1           0     FP\n",
      "71777          43       1157            69.25%           1           0     FP\n",
      "71778          44       1157            68.51%           1           0     FP\n",
      "71779          45       1157            66.62%           1           0     FP\n",
      "71780          46       1157            64.65%           1           0     FP\n",
      "71781          47       1157            63.33%           1           0     FP\n",
      "71782          48       1157            61.38%           1           0     FP\n",
      "71783          49       1157            60.17%           1           0     FP\n",
      "71784          50       1157            53.71%           1           0     FP\n",
      "71793          59       1157            51.78%           1           0     FP\n",
      "71794          60       1157            54.43%           1           0     FP\n",
      "71795          61       1157            54.49%           1           0     FP\n",
      "76391           7       1232            62.88%           1           0     FP\n",
      "76392           8       1232            71.99%           1           0     FP\n",
      "76393           9       1232            64.46%           1           0     FP\n",
      "76394          10       1232            59.18%           1           0     FP\n",
      "76395          11       1232            54.97%           1           0     FP\n",
      "76396          12       1232            51.50%           1           0     FP\n",
      "78520          28       1266            54.50%           1           0     FP\n",
      "78521          29       1266            71.96%           1           0     FP\n",
      "78522          30       1266            71.30%           1           0     FP\n",
      "78523          31       1266            67.17%           1           0     FP\n",
      "78524          32       1266            63.37%           1           0     FP\n",
      "78525          33       1266            55.62%           1           0     FP\n"
     ]
    },
    {
     "data": {
      "image/png": "[encoded data removed]",
      "text/plain": [
       "<Figure size 640x480 with 1 Axes>"
      ]
     },
     "metadata": {},
     "output_type": "display_data"
    },
    {
     "data": {
      "image/png": "[encoded data removed]",
      "text/plain": [
       "<Figure size 640x480 with 1 Axes>"
      ]
     },
     "metadata": {},
     "output_type": "display_data"
    },
    {
     "name": "stdout",
     "output_type": "stream",
     "text": [
      "LIMITS RANGE range(5, 11)\n"
     ]
    },
    {
     "data": {
      "image/png": "[encoded data removed]",
      "text/plain": [
       "<Figure size 640x480 with 1 Axes>"
      ]
     },
     "metadata": {},
     "output_type": "display_data"
    },
    {
     "name": "stdout",
     "output_type": "stream",
     "text": [
      "FALSE NEGATIVES\n",
      "Total \n",
      "       window idx  event_idx  Pred probability  Pred label  True label Result\n",
      "810             4         13            34.14%           0           1     FN\n",
      "811             5         13            35.97%           0           1     FN\n",
      "812             6         13            40.86%           0           1     FN\n",
      "813             7         13            40.88%           0           1     FN\n",
      "814             8         13            46.60%           0           1     FN\n",
      "868             0         14            45.72%           0           1     FN\n",
      "869             1         14            18.74%           0           1     FN\n",
      "870             2         14            49.76%           0           1     FN\n",
      "1116            0         18             5.36%           0           1     FN\n",
      "1117            1         18            11.25%           0           1     FN\n",
      "1118            2         18            23.23%           0           1     FN\n",
      "1142           26         18            41.26%           0           1     FN\n",
      "1143           27         18            37.66%           0           1     FN\n",
      "1145           29         18            48.77%           0           1     FN\n",
      "1146           30         18            44.92%           0           1     FN\n",
      "1984            0         32             7.49%           0           1     FN\n",
      "1985            1         32            10.72%           0           1     FN\n",
      "1986            2         32            18.87%           0           1     FN\n",
      "1987            3         32            24.46%           0           1     FN\n",
      "1988            4         32            27.35%           0           1     FN\n",
      "1989            5         32            35.04%           0           1     FN\n",
      "1990            6         32            49.90%           0           1     FN\n",
      "2170            0         35            28.96%           0           1     FN\n",
      "2171            1         35            31.61%           0           1     FN\n",
      "2172            2         35            44.49%           0           1     FN\n",
      "2173            3         35            42.19%           0           1     FN\n",
      "2174            4         35            45.72%           0           1     FN\n",
      "2418            0         39            19.69%           0           1     FN\n",
      "2419            1         39            46.44%           0           1     FN\n",
      "2424            6         39            44.81%           0           1     FN\n",
      "2425            7         39            37.72%           0           1     FN\n",
      "2728            0         44            13.92%           0           1     FN\n",
      "2729            1         44            28.71%           0           1     FN\n",
      "2732            4         44            46.28%           0           1     FN\n",
      "2733            5         44            48.88%           0           1     FN\n",
      "3658            0         59            10.23%           0           1     FN\n",
      "3659            1         59            13.60%           0           1     FN\n",
      "3660            2         59            17.56%           0           1     FN\n",
      "3661            3         59            14.21%           0           1     FN\n",
      "3662            4         59            11.47%           0           1     FN\n",
      "3663            5         59            11.03%           0           1     FN\n",
      "3664            6         59            12.87%           0           1     FN\n",
      "3665            7         59            14.78%           0           1     FN\n",
      "3666            8         59            21.61%           0           1     FN\n",
      "3667            9         59            33.88%           0           1     FN\n",
      "3668           10         59            49.14%           0           1     FN\n",
      "3782            0         61            27.95%           0           1     FN\n",
      "3783            1         61            27.14%           0           1     FN\n",
      "3784            2         61            37.92%           0           1     FN\n",
      "4092            0         66            20.83%           0           1     FN\n",
      "4093            1         66            24.30%           0           1     FN\n",
      "4094            2         66            44.44%           0           1     FN\n",
      "4095            3         66            47.72%           0           1     FN\n",
      "4154            0         67            25.59%           0           1     FN\n",
      "4155            1         67            25.48%           0           1     FN\n",
      "4156            2         67            45.65%           0           1     FN\n",
      "4216            0         68            26.55%           0           1     FN\n",
      "4464            0         72            16.59%           0           1     FN\n",
      "4465            1         72            13.90%           0           1     FN\n",
      "4466            2         72            21.37%           0           1     FN\n",
      "4467            3         72            12.21%           0           1     FN\n",
      "4468            4         72            18.12%           0           1     FN\n",
      "4469            5         72            13.67%           0           1     FN\n",
      "4470            6         72            16.83%           0           1     FN\n",
      "4471            7         72            15.60%           0           1     FN\n",
      "4472            8         72            17.33%           0           1     FN\n",
      "4473            9         72            22.33%           0           1     FN\n",
      "4474           10         72            24.77%           0           1     FN\n",
      "4475           11         72            43.17%           0           1     FN\n",
      "4774            0         77             8.00%           0           1     FN\n",
      "4775            1         77             8.86%           0           1     FN\n",
      "4776            2         77            44.39%           0           1     FN\n",
      "5022            0         81             5.96%           0           1     FN\n",
      "5023            1         81            13.17%           0           1     FN\n",
      "5024            2         81            33.50%           0           1     FN\n",
      "5049           27         81            37.29%           0           1     FN\n",
      "5050           28         81            48.65%           0           1     FN\n",
      "5052           30         81            48.02%           0           1     FN\n",
      "5084            0         82            41.64%           0           1     FN\n",
      "5085            1         82            29.38%           0           1     FN\n",
      "5086            2         82            33.77%           0           1     FN\n",
      "5087            3         82            32.10%           0           1     FN\n",
      "5088            4         82            43.25%           0           1     FN\n",
      "5091            7         82            48.31%           0           1     FN\n",
      "5271            1         85            17.66%           0           1     FN\n",
      "5642            0         91            45.93%           0           1     FN\n",
      "6014            0         97            28.77%           0           1     FN\n",
      "6015            1         97            25.51%           0           1     FN\n",
      "6016            2         97            39.89%           0           1     FN\n",
      "6324            0        102            18.54%           0           1     FN\n",
      "6325            1        102            14.81%           0           1     FN\n",
      "6326            2        102            14.48%           0           1     FN\n",
      "6327            3        102            18.15%           0           1     FN\n",
      "6328            4        102            18.79%           0           1     FN\n",
      "6329            5        102            20.56%           0           1     FN\n",
      "6330            6        102            21.04%           0           1     FN\n",
      "6331            7        102            20.28%           0           1     FN\n",
      "6332            8        102            19.14%           0           1     FN\n",
      "6333            9        102            18.79%           0           1     FN\n",
      "6334           10        102            17.41%           0           1     FN\n",
      "6335           11        102            17.72%           0           1     FN\n",
      "6336           12        102            16.77%           0           1     FN\n",
      "6337           13        102            16.95%           0           1     FN\n",
      "6338           14        102            17.91%           0           1     FN\n",
      "6339           15        102            19.48%           0           1     FN\n",
      "6340           16        102            22.48%           0           1     FN\n",
      "6341           17        102            32.29%           0           1     FN\n",
      "6696            0        108            32.82%           0           1     FN\n",
      "6697            1        108            24.94%           0           1     FN\n",
      "6698            2        108            46.10%           0           1     FN\n",
      "6699            3        108            47.66%           0           1     FN\n",
      "6712           16        108            45.51%           0           1     FN\n",
      "6714           18        108            38.38%           0           1     FN\n",
      "6746           50        108            46.63%           0           1     FN\n",
      "6944            0        112            43.30%           0           1     FN\n",
      "7874            0        127            29.20%           0           1     FN\n",
      "7875            1        127            46.51%           0           1     FN\n",
      "8060            0        130            25.20%           0           1     FN\n",
      "8061            1        130            24.59%           0           1     FN\n",
      "8116           56        130            35.09%           0           1     FN\n",
      "8117           57        130            33.37%           0           1     FN\n",
      "8118           58        130            36.83%           0           1     FN\n",
      "8184            0        132             2.64%           0           1     FN\n",
      "8185            1        132             6.11%           0           1     FN\n",
      "8186            2        132             7.65%           0           1     FN\n",
      "8187            3        132            15.12%           0           1     FN\n",
      "8188            4        132            16.05%           0           1     FN\n",
      "8189            5        132            14.52%           0           1     FN\n",
      "8190            6        132            18.02%           0           1     FN\n",
      "8191            7        132            21.85%           0           1     FN\n",
      "8192            8        132            18.43%           0           1     FN\n",
      "8193            9        132            28.35%           0           1     FN\n",
      "8194           10        132            26.81%           0           1     FN\n",
      "8195           11        132            24.00%           0           1     FN\n",
      "8196           12        132            24.21%           0           1     FN\n",
      "8197           13        132            23.58%           0           1     FN\n",
      "8198           14        132            23.97%           0           1     FN\n",
      "8199           15        132            23.96%           0           1     FN\n",
      "8200           16        132            23.41%           0           1     FN\n",
      "8201           17        132            23.55%           0           1     FN\n",
      "8202           18        132            26.45%           0           1     FN\n",
      "8203           19        132            25.08%           0           1     FN\n",
      "8204           20        132            28.27%           0           1     FN\n",
      "8205           21        132            30.24%           0           1     FN\n",
      "8206           22        132            36.22%           0           1     FN\n",
      "8207           23        132            46.86%           0           1     FN\n",
      "8680            0        140            21.17%           0           1     FN\n",
      "8681            1        140            25.65%           0           1     FN\n",
      "8742            0        141            13.19%           0           1     FN\n",
      "8743            1        141            38.72%           0           1     FN\n",
      "8866            0        143            13.88%           0           1     FN\n",
      "8867            1        143            16.18%           0           1     FN\n",
      "9736            2        157            38.66%           0           1     FN\n",
      "9737            3        157            36.88%           0           1     FN\n",
      "10044           0        162            24.57%           0           1     FN\n",
      "10045           1        162            23.98%           0           1     FN\n",
      "10046           2        162            32.12%           0           1     FN\n",
      "10047           3        162            29.26%           0           1     FN\n",
      "10048           4        162            20.88%           0           1     FN\n",
      "10049           5        162            12.73%           0           1     FN\n",
      "10050           6        162            22.15%           0           1     FN\n",
      "10051           7        162            36.06%           0           1     FN\n",
      "10355           1        167            46.93%           0           1     FN\n",
      "10356           2        167            29.35%           0           1     FN\n",
      "10357           3        167            34.51%           0           1     FN\n",
      "10540           0        170            14.44%           0           1     FN\n",
      "10541           1        170            19.89%           0           1     FN\n",
      "10542           2        170            31.41%           0           1     FN\n",
      "10543           3        170            44.46%           0           1     FN\n",
      "10544           4        170            43.64%           0           1     FN\n",
      "10576          36        170            38.01%           0           1     FN\n",
      "10602           0        171            44.77%           0           1     FN\n",
      "10608           6        171            40.41%           0           1     FN\n",
      "10610           8        171            44.80%           0           1     FN\n",
      "10611           9        171            32.40%           0           1     FN\n",
      "10612          10        171            31.11%           0           1     FN\n",
      "10613          11        171            27.23%           0           1     FN\n",
      "10614          12        171            27.94%           0           1     FN\n",
      "10615          13        171            28.49%           0           1     FN\n",
      "10850           0        175            29.15%           0           1     FN\n",
      "10851           1        175            22.29%           0           1     FN\n",
      "10852           2        175            20.72%           0           1     FN\n",
      "10853           3        175            40.05%           0           1     FN\n",
      "11222           0        181            36.21%           0           1     FN\n",
      "11346           0        183            43.88%           0           1     FN\n",
      "11518          48        185            41.15%           0           1     FN\n",
      "11519          49        185            25.60%           0           1     FN\n",
      "11520          50        185            16.12%           0           1     FN\n",
      "11521          51        185             9.85%           0           1     FN\n",
      "11522          52        185             4.97%           0           1     FN\n",
      "11523          53        185             3.13%           0           1     FN\n",
      "11524          54        185             2.25%           0           1     FN\n",
      "11525          55        185             2.47%           0           1     FN\n",
      "11526          56        185             3.82%           0           1     FN\n",
      "11527          57        185             6.14%           0           1     FN\n",
      "11528          58        185            11.48%           0           1     FN\n",
      "11529          59        185            19.58%           0           1     FN\n",
      "11530          60        185            31.75%           0           1     FN\n",
      "11531          61        185            40.84%           0           1     FN\n",
      "11904           0        192            43.67%           0           1     FN\n",
      "13454           0        217             7.55%           0           1     FN\n",
      "13455           1        217             7.12%           0           1     FN\n",
      "13456           2        217             6.90%           0           1     FN\n",
      "13457           3        217             6.30%           0           1     FN\n",
      "13458           4        217            13.02%           0           1     FN\n",
      "13459           5        217            15.43%           0           1     FN\n",
      "13460           6        217            29.01%           0           1     FN\n",
      "13888           0        224            44.02%           0           1     FN\n",
      "14136           0        228             9.32%           0           1     FN\n",
      "14137           1        228             9.84%           0           1     FN\n",
      "14138           2        228            10.22%           0           1     FN\n",
      "14139           3        228            13.43%           0           1     FN\n",
      "14140           4        228            21.63%           0           1     FN\n",
      "14141           5        228            33.15%           0           1     FN\n",
      "14142           6        228            43.75%           0           1     FN\n",
      "14570           0        235            15.14%           0           1     FN\n",
      "14571           1        235            27.98%           0           1     FN\n",
      "14572           2        235            45.81%           0           1     FN\n",
      "14592          22        235            46.55%           0           1     FN\n",
      "14756           0        238            17.12%           0           1     FN\n",
      "14757           1        238            18.92%           0           1     FN\n",
      "14758           2        238            18.70%           0           1     FN\n",
      "14759           3        238            43.76%           0           1     FN\n",
      "14760           4        238            49.28%           0           1     FN\n",
      "14942           0        241            16.20%           0           1     FN\n",
      "14943           1        241            17.79%           0           1     FN\n",
      "14944           2        241            14.43%           0           1     FN\n",
      "14945           3        241            25.76%           0           1     FN\n",
      "14946           4        241            19.55%           0           1     FN\n",
      "14947           5        241            36.03%           0           1     FN\n",
      "14948           6        241            35.65%           0           1     FN\n",
      "14949           7        241            42.41%           0           1     FN\n",
      "14950           8        241            42.54%           0           1     FN\n",
      "14951           9        241            42.65%           0           1     FN\n",
      "14952          10        241            48.97%           0           1     FN\n",
      "14953          11        241            49.83%           0           1     FN\n",
      "14955          13        241            48.29%           0           1     FN\n",
      "14956          14        241            39.26%           0           1     FN\n",
      "14957          15        241            46.91%           0           1     FN\n",
      "14958          16        241            34.33%           0           1     FN\n",
      "14959          17        241            49.03%           0           1     FN\n",
      "14960          18        241            30.83%           0           1     FN\n",
      "14961          19        241            29.33%           0           1     FN\n",
      "14963          21        241            35.69%           0           1     FN\n",
      "15934           0        257            42.79%           0           1     FN\n",
      "15996           0        258            14.88%           0           1     FN\n",
      "15997           1        258            18.69%           0           1     FN\n",
      "15998           2        258            25.16%           0           1     FN\n",
      "15999           3        258            28.95%           0           1     FN\n",
      "16000           4        258            32.08%           0           1     FN\n",
      "16001           5        258            33.43%           0           1     FN\n",
      "16002           6        258            34.59%           0           1     FN\n",
      "16003           7        258            35.56%           0           1     FN\n",
      "16004           8        258            36.80%           0           1     FN\n",
      "16005           9        258            38.28%           0           1     FN\n",
      "16006          10        258            42.40%           0           1     FN\n",
      "16007          11        258            49.00%           0           1     FN\n",
      "16058           0        259            23.10%           0           1     FN\n",
      "16059           1        259            29.97%           0           1     FN\n",
      "16084          26        259            49.08%           0           1     FN\n",
      "16430           0        265            39.72%           0           1     FN\n",
      "16432           2        265            49.49%           0           1     FN\n",
      "16740           0        270            37.00%           0           1     FN\n",
      "16864           0        272            38.07%           0           1     FN\n",
      "16865           1        272            44.65%           0           1     FN\n",
      "17175           1        277            24.08%           0           1     FN\n",
      "17176           2        277             7.44%           0           1     FN\n",
      "17177           3        277            30.01%           0           1     FN\n",
      "17360           0        280            36.74%           0           1     FN\n",
      "17546           0        283            22.78%           0           1     FN\n",
      "17547           1        283            20.58%           0           1     FN\n",
      "17670           0        285            14.55%           0           1     FN\n",
      "17671           1        285            16.79%           0           1     FN\n",
      "17672           2        285            18.25%           0           1     FN\n",
      "17673           3        285            20.77%           0           1     FN\n",
      "17674           4        285            18.82%           0           1     FN\n",
      "17675           5        285            17.33%           0           1     FN\n",
      "17676           6        285            17.47%           0           1     FN\n",
      "17677           7        285            19.58%           0           1     FN\n",
      "17678           8        285            20.64%           0           1     FN\n",
      "17679           9        285            21.53%           0           1     FN\n",
      "17680          10        285            21.32%           0           1     FN\n",
      "17681          11        285            21.11%           0           1     FN\n",
      "17682          12        285            19.69%           0           1     FN\n",
      "17683          13        285            19.07%           0           1     FN\n",
      "17684          14        285            18.43%           0           1     FN\n",
      "17685          15        285            17.30%           0           1     FN\n",
      "17686          16        285            17.34%           0           1     FN\n",
      "17687          17        285            16.10%           0           1     FN\n",
      "17688          18        285            17.03%           0           1     FN\n",
      "17689          19        285            16.24%           0           1     FN\n",
      "17690          20        285            17.63%           0           1     FN\n",
      "17691          21        285            19.27%           0           1     FN\n",
      "17692          22        285            23.40%           0           1     FN\n",
      "17693          23        285            34.35%           0           1     FN\n",
      "17980           0        290            48.93%           0           1     FN\n",
      "17981           1        290            21.04%           0           1     FN\n",
      "17982           2        290            29.34%           0           1     FN\n",
      "18290           0        295            27.03%           0           1     FN\n",
      "18291           1        295            22.77%           0           1     FN\n",
      "18292           2        295            27.16%           0           1     FN\n",
      "18293           3        295            34.71%           0           1     FN\n",
      "18294           4        295            22.49%           0           1     FN\n",
      "18295           5        295            21.74%           0           1     FN\n",
      "18296           6        295            22.01%           0           1     FN\n",
      "18297           7        295            24.88%           0           1     FN\n",
      "18298           8        295            22.34%           0           1     FN\n",
      "18299           9        295            21.25%           0           1     FN\n",
      "18300          10        295            18.80%           0           1     FN\n",
      "18301          11        295            18.72%           0           1     FN\n",
      "18302          12        295            16.78%           0           1     FN\n",
      "18303          13        295            17.40%           0           1     FN\n",
      "18304          14        295            19.02%           0           1     FN\n",
      "18305          15        295            24.07%           0           1     FN\n",
      "18306          16        295            34.43%           0           1     FN\n",
      "18463          49        297            44.93%           0           1     FN\n",
      "18464          50        297            36.47%           0           1     FN\n",
      "18465          51        297            30.19%           0           1     FN\n",
      "18466          52        297            18.26%           0           1     FN\n",
      "18467          53        297             8.51%           0           1     FN\n",
      "18468          54        297             3.57%           0           1     FN\n",
      "18469          55        297             1.86%           0           1     FN\n",
      "18470          56        297             1.77%           0           1     FN\n",
      "18471          57        297             2.19%           0           1     FN\n",
      "18472          58        297             2.65%           0           1     FN\n",
      "18473          59        297             3.24%           0           1     FN\n",
      "18474          60        297             3.64%           0           1     FN\n",
      "18475          61        297             4.95%           0           1     FN\n",
      "18724           0        302            36.15%           0           1     FN\n",
      "18728           4        302            40.99%           0           1     FN\n",
      "18729           5        302            39.00%           0           1     FN\n",
      "18730           6        302            34.87%           0           1     FN\n",
      "18731           7        302            44.27%           0           1     FN\n",
      "18786           0        303            48.93%           0           1     FN\n",
      "19282           0        311             8.91%           0           1     FN\n",
      "19283           1        311            11.62%           0           1     FN\n",
      "19284           2        311            38.16%           0           1     FN\n",
      "19567          37        315            49.82%           0           1     FN\n",
      "20461           1        330            49.27%           0           1     FN\n",
      "20462           2        330            47.86%           0           1     FN\n",
      "20464           4        330            48.74%           0           1     FN\n",
      "20466           6        330            45.81%           0           1     FN\n",
      "20467           7        330            43.50%           0           1     FN\n",
      "20475          15        330            39.63%           0           1     FN\n",
      "20476          16        330            27.33%           0           1     FN\n",
      "20477          17        330            23.66%           0           1     FN\n",
      "20478          18        330            16.99%           0           1     FN\n",
      "20479          19        330             8.05%           0           1     FN\n",
      "20480          20        330             7.15%           0           1     FN\n",
      "20481          21        330            28.90%           0           1     FN\n",
      "20522           0        331            13.84%           0           1     FN\n",
      "20523           1        331            14.85%           0           1     FN\n",
      "20524           2        331            15.16%           0           1     FN\n",
      "20525           3        331            15.06%           0           1     FN\n",
      "20526           4        331            13.11%           0           1     FN\n",
      "20527           5        331            10.82%           0           1     FN\n",
      "20528           6        331            14.39%           0           1     FN\n",
      "20529           7        331            19.85%           0           1     FN\n",
      "20530           8        331            29.49%           0           1     FN\n",
      "21080           0        340            26.98%           0           1     FN\n",
      "21266           0        343            15.49%           0           1     FN\n",
      "21267           1        343            14.25%           0           1     FN\n",
      "21268           2        343            28.54%           0           1     FN\n",
      "21269           3        343            32.73%           0           1     FN\n",
      "21527          13        347            44.29%           0           1     FN\n",
      "21528          14        347            24.13%           0           1     FN\n",
      "21529          15        347             9.58%           0           1     FN\n",
      "21530          16        347             5.30%           0           1     FN\n",
      "21531          17        347             2.94%           0           1     FN\n",
      "21532          18        347             2.82%           0           1     FN\n",
      "21533          19        347             5.88%           0           1     FN\n",
      "21534          20        347            15.43%           0           1     FN\n",
      "21535          21        347            31.13%           0           1     FN\n",
      "21536          22        347            47.96%           0           1     FN\n",
      "21638           0        349            22.74%           0           1     FN\n",
      "21639           1        349            16.71%           0           1     FN\n",
      "21640           2        349            19.38%           0           1     FN\n",
      "21641           3        349            26.71%           0           1     FN\n",
      "21642           4        349            23.53%           0           1     FN\n",
      "21643           5        349            27.77%           0           1     FN\n",
      "21644           6        349            30.80%           0           1     FN\n",
      "21645           7        349            31.28%           0           1     FN\n",
      "21646           8        349            33.02%           0           1     FN\n",
      "21647           9        349            36.91%           0           1     FN\n",
      "21648          10        349            39.61%           0           1     FN\n",
      "21649          11        349            47.41%           0           1     FN\n",
      "21948           0        354            12.91%           0           1     FN\n",
      "21949           1        354            12.45%           0           1     FN\n",
      "21950           2        354            13.15%           0           1     FN\n",
      "21951           3        354            11.43%           0           1     FN\n",
      "21952           4        354            14.54%           0           1     FN\n",
      "21953           5        354            18.61%           0           1     FN\n",
      "21954           6        354            24.64%           0           1     FN\n",
      "21955           7        354            21.66%           0           1     FN\n",
      "21956           8        354            36.55%           0           1     FN\n",
      "21984          36        354            48.14%           0           1     FN\n",
      "21985          37        354            40.36%           0           1     FN\n",
      "21986          38        354            48.39%           0           1     FN\n",
      "22134           0        357            40.91%           0           1     FN\n",
      "22294          36        359            43.96%           0           1     FN\n",
      "22295          37        359            34.57%           0           1     FN\n",
      "22296          38        359            27.45%           0           1     FN\n",
      "22297          39        359            28.81%           0           1     FN\n",
      "22298          40        359            32.00%           0           1     FN\n",
      "22299          41        359            36.66%           0           1     FN\n",
      "22300          42        359            39.51%           0           1     FN\n",
      "22301          43        359            40.43%           0           1     FN\n",
      "22302          44        359            39.15%           0           1     FN\n",
      "22303          45        359            39.24%           0           1     FN\n",
      "22304          46        359            37.89%           0           1     FN\n",
      "22305          47        359            36.52%           0           1     FN\n",
      "22306          48        359            35.06%           0           1     FN\n",
      "22307          49        359            36.26%           0           1     FN\n",
      "22308          50        359            43.36%           0           1     FN\n",
      "22940           0        370            19.79%           0           1     FN\n",
      "22941           1        370            19.51%           0           1     FN\n",
      "22942           2        370            24.76%           0           1     FN\n",
      "22943           3        370            39.51%           0           1     FN\n",
      "23002           0        371             7.21%           0           1     FN\n",
      "23003           1        371            19.46%           0           1     FN\n",
      "23004           2        371            37.19%           0           1     FN\n",
      "23005           3        371            18.01%           0           1     FN\n",
      "23006           4        371            31.36%           0           1     FN\n",
      "23007           5        371            20.22%           0           1     FN\n",
      "23008           6        371            48.80%           0           1     FN\n",
      "23064           0        372            34.26%           0           1     FN\n",
      "23065           1        372            44.85%           0           1     FN\n",
      "23066           2        372            32.79%           0           1     FN\n",
      "23067           3        372            46.12%           0           1     FN\n",
      "23560           0        380            21.60%           0           1     FN\n",
      "23561           1        380            24.22%           0           1     FN\n",
      "23562           2        380            16.29%           0           1     FN\n",
      "23563           3        380            25.58%           0           1     FN\n",
      "23564           4        380            23.23%           0           1     FN\n",
      "23565           5        380            22.89%           0           1     FN\n",
      "23566           6        380            20.62%           0           1     FN\n",
      "23567           7        380            21.14%           0           1     FN\n",
      "23568           8        380            20.14%           0           1     FN\n",
      "23569           9        380            17.93%           0           1     FN\n",
      "23570          10        380            19.71%           0           1     FN\n",
      "23571          11        380            27.03%           0           1     FN\n",
      "23572          12        380            27.94%           0           1     FN\n",
      "23746           0        383            15.44%           0           1     FN\n",
      "23747           1        383            11.37%           0           1     FN\n",
      "23748           2        383            11.98%           0           1     FN\n",
      "23749           3        383            16.39%           0           1     FN\n",
      "23750           4        383            11.49%           0           1     FN\n",
      "23751           5        383             7.46%           0           1     FN\n",
      "23752           6        383             7.23%           0           1     FN\n",
      "23753           7        383            38.21%           0           1     FN\n",
      "23754           8        383            42.15%           0           1     FN\n",
      "24180           0        390            16.74%           0           1     FN\n",
      "24181           1        390             9.77%           0           1     FN\n",
      "24182           2        390            26.29%           0           1     FN\n",
      "25309          13        408            48.48%           0           1     FN\n",
      "25310          14        408            40.26%           0           1     FN\n",
      "25311          15        408            39.84%           0           1     FN\n",
      "25482           0        411            16.69%           0           1     FN\n",
      "25483           1        411            32.43%           0           1     FN\n",
      "25668           0        414            25.24%           0           1     FN\n",
      "25669           1        414            28.72%           0           1     FN\n",
      "25854           0        417            35.35%           0           1     FN\n",
      "25855           1        417            48.66%           0           1     FN\n",
      "25858           4        417            33.62%           0           1     FN\n",
      "25916           0        418            20.63%           0           1     FN\n",
      "25917           1        418            34.64%           0           1     FN\n",
      "25918           2        418            37.29%           0           1     FN\n",
      "25919           3        418            41.58%           0           1     FN\n",
      "25920           4        418            47.16%           0           1     FN\n",
      "25921           5        418            48.42%           0           1     FN\n",
      "25922           6        418            47.65%           0           1     FN\n",
      "25923           7        418            45.35%           0           1     FN\n",
      "25924           8        418            46.73%           0           1     FN\n",
      "25925           9        418            42.18%           0           1     FN\n",
      "25926          10        418            29.97%           0           1     FN\n",
      "25927          11        418            23.54%           0           1     FN\n",
      "25928          12        418            25.84%           0           1     FN\n",
      "25929          13        418            30.24%           0           1     FN\n",
      "25930          14        418            37.08%           0           1     FN\n",
      "26660           0        430            30.32%           0           1     FN\n",
      "26661           1        430            36.81%           0           1     FN\n",
      "26694          34        430            47.52%           0           1     FN\n",
      "26695          35        430            39.09%           0           1     FN\n",
      "26696          36        430            29.98%           0           1     FN\n",
      "26697          37        430            25.69%           0           1     FN\n",
      "26698          38        430            24.57%           0           1     FN\n",
      "26699          39        430            25.27%           0           1     FN\n",
      "26700          40        430            28.10%           0           1     FN\n",
      "26701          41        430            40.71%           0           1     FN\n",
      "26702          42        430            42.60%           0           1     FN\n",
      "26970           0        435            34.38%           0           1     FN\n",
      "27900           0        450            35.38%           0           1     FN\n",
      "27901           1        450            16.92%           0           1     FN\n",
      "27902           2        450            45.78%           0           1     FN\n",
      "28086           0        453            34.65%           0           1     FN\n",
      "28334           0        457            23.14%           0           1     FN\n",
      "28335           1        457            26.76%           0           1     FN\n",
      "29140           0        470            43.77%           0           1     FN\n",
      "29450           0        475            32.78%           0           1     FN\n",
      "29451           1        475            42.77%           0           1     FN\n",
      "29474          24        475            45.91%           0           1     FN\n",
      "29475          25        475            37.51%           0           1     FN\n",
      "29476          26        475            31.10%           0           1     FN\n",
      "29477          27        475            27.78%           0           1     FN\n",
      "29478          28        475            25.27%           0           1     FN\n",
      "29479          29        475            21.83%           0           1     FN\n",
      "29480          30        475            17.92%           0           1     FN\n",
      "29481          31        475            15.34%           0           1     FN\n",
      "29482          32        475            16.99%           0           1     FN\n",
      "29483          33        475            19.40%           0           1     FN\n",
      "29484          34        475            19.32%           0           1     FN\n",
      "29485          35        475            16.55%           0           1     FN\n",
      "29486          36        475            15.09%           0           1     FN\n",
      "29487          37        475            16.85%           0           1     FN\n",
      "29488          38        475            20.77%           0           1     FN\n",
      "29489          39        475            21.48%           0           1     FN\n",
      "29490          40        475            20.02%           0           1     FN\n",
      "29491          41        475            18.30%           0           1     FN\n",
      "29492          42        475            17.56%           0           1     FN\n",
      "29493          43        475            18.56%           0           1     FN\n",
      "29494          44        475            24.54%           0           1     FN\n",
      "29495          45        475            30.96%           0           1     FN\n",
      "29496          46        475            38.25%           0           1     FN\n",
      "29497          47        475            48.76%           0           1     FN\n",
      "29503          53        475            49.75%           0           1     FN\n",
      "29504          54        475            45.69%           0           1     FN\n",
      "29505          55        475            37.09%           0           1     FN\n",
      "29506          56        475            25.85%           0           1     FN\n",
      "29507          57        475            21.20%           0           1     FN\n",
      "29508          58        475            24.98%           0           1     FN\n",
      "29509          59        475            39.80%           0           1     FN\n",
      "29512           0        476            10.00%           0           1     FN\n",
      "29513           1        476             8.34%           0           1     FN\n",
      "29514           2        476            38.46%           0           1     FN\n",
      "29515           3        476            42.42%           0           1     FN\n",
      "29574           0        477             3.50%           0           1     FN\n",
      "29575           1        477             9.64%           0           1     FN\n",
      "29636           0        478            29.06%           0           1     FN\n",
      "29637           1        478            23.82%           0           1     FN\n",
      "29761           1        480            37.18%           0           1     FN\n",
      "29762           2        480            31.39%           0           1     FN\n",
      "29764           4        480            41.25%           0           1     FN\n",
      "30008           0        484            37.27%           0           1     FN\n",
      "30009           1        484            49.51%           0           1     FN\n",
      "30281          25        488            49.74%           0           1     FN\n",
      "30282          26        488            47.65%           0           1     FN\n",
      "30442           0        491            33.22%           0           1     FN\n",
      "30504           0        492            14.97%           0           1     FN\n",
      "30505           1        492            16.37%           0           1     FN\n",
      "30506           2        492            16.72%           0           1     FN\n",
      "30507           3        492            15.86%           0           1     FN\n",
      "30508           4        492            16.37%           0           1     FN\n",
      "30509           5        492            17.57%           0           1     FN\n",
      "30510           6        492            19.38%           0           1     FN\n",
      "30511           7        492            20.46%           0           1     FN\n",
      "30512           8        492            21.07%           0           1     FN\n",
      "30513           9        492            20.96%           0           1     FN\n",
      "30514          10        492            20.99%           0           1     FN\n",
      "30515          11        492            20.90%           0           1     FN\n",
      "30516          12        492            20.99%           0           1     FN\n",
      "30517          13        492            22.33%           0           1     FN\n",
      "30518          14        492            24.75%           0           1     FN\n",
      "30519          15        492            30.47%           0           1     FN\n",
      "30520          16        492            40.57%           0           1     FN\n",
      "31000           0        500            12.13%           0           1     FN\n",
      "31001           1        500            24.52%           0           1     FN\n",
      "31248           0        504            21.82%           0           1     FN\n",
      "31249           1        504            25.88%           0           1     FN\n",
      "31250           2        504            19.55%           0           1     FN\n",
      "31251           3        504            15.43%           0           1     FN\n",
      "31252           4        504            21.64%           0           1     FN\n",
      "31253           5        504            20.85%           0           1     FN\n",
      "31254           6        504            18.30%           0           1     FN\n",
      "31255           7        504            18.98%           0           1     FN\n",
      "32364           0        522            41.18%           0           1     FN\n",
      "32365           1        522            42.57%           0           1     FN\n",
      "32426           0        523            12.66%           0           1     FN\n",
      "32427           1        523            13.91%           0           1     FN\n",
      "32428           2        523            17.40%           0           1     FN\n",
      "32429           3        523            20.26%           0           1     FN\n",
      "32430           4        523            24.76%           0           1     FN\n",
      "32431           5        523            45.60%           0           1     FN\n",
      "32488           0        524            42.67%           0           1     FN\n",
      "33418           0        539            13.30%           0           1     FN\n",
      "33419           1        539            18.11%           0           1     FN\n",
      "33480           0        540             4.99%           0           1     FN\n",
      "33481           1        540            13.10%           0           1     FN\n",
      "33482           2        540            38.62%           0           1     FN\n",
      "33483           3        540            49.49%           0           1     FN\n",
      "33494          14        540            48.20%           0           1     FN\n",
      "33495          15        540            33.34%           0           1     FN\n",
      "33496          16        540            24.82%           0           1     FN\n",
      "33497          17        540            20.76%           0           1     FN\n",
      "33498          18        540            32.68%           0           1     FN\n",
      "33499          19        540            43.66%           0           1     FN\n",
      "33529          49        540            46.79%           0           1     FN\n",
      "33914           0        547            19.57%           0           1     FN\n",
      "33915           1        547            27.20%           0           1     FN\n",
      "34100           0        550            16.70%           0           1     FN\n",
      "34101           1        550            20.58%           0           1     FN\n",
      "34102           2        550            19.59%           0           1     FN\n",
      "34103           3        550            23.05%           0           1     FN\n",
      "34104           4        550            24.79%           0           1     FN\n",
      "34105           5        550            23.28%           0           1     FN\n",
      "34106           6        550            26.81%           0           1     FN\n",
      "34107           7        550            24.62%           0           1     FN\n",
      "34108           8        550            22.62%           0           1     FN\n",
      "34109           9        550            26.92%           0           1     FN\n",
      "34110          10        550            23.09%           0           1     FN\n",
      "34111          11        550            24.44%           0           1     FN\n",
      "34112          12        550            26.31%           0           1     FN\n",
      "34113          13        550            29.69%           0           1     FN\n",
      "34114          14        550            43.06%           0           1     FN\n",
      "34115          15        550            41.48%           0           1     FN\n",
      "34116          16        550            49.52%           0           1     FN\n",
      "34117          17        550            49.86%           0           1     FN\n",
      "34118          18        550            48.22%           0           1     FN\n",
      "34225           1        552            44.96%           0           1     FN\n",
      "34348           0        554            39.42%           0           1     FN\n",
      "34658           0        559            34.70%           0           1     FN\n",
      "34844           0        562            12.56%           0           1     FN\n",
      "34845           1        562            12.00%           0           1     FN\n",
      "34846           2        562             6.07%           0           1     FN\n",
      "34847           3        562            10.22%           0           1     FN\n",
      "34848           4        562             7.78%           0           1     FN\n",
      "34849           5        562             9.10%           0           1     FN\n",
      "34850           6        562            10.16%           0           1     FN\n",
      "34851           7        562            12.31%           0           1     FN\n",
      "34852           8        562            12.17%           0           1     FN\n",
      "34853           9        562            13.72%           0           1     FN\n",
      "34854          10        562            25.25%           0           1     FN\n",
      "35030           0        565            21.42%           0           1     FN\n",
      "35031           1        565            11.70%           0           1     FN\n",
      "35032           2        565            34.67%           0           1     FN\n",
      "35092           0        566            36.23%           0           1     FN\n",
      "35464           0        572             4.99%           0           1     FN\n",
      "35465           1        572            15.65%           0           1     FN\n",
      "35466           2        572            36.91%           0           1     FN\n",
      "35467           3        572            34.42%           0           1     FN\n",
      "35468           4        572            49.83%           0           1     FN\n",
      "35712           0        576            42.43%           0           1     FN\n",
      "35713           1        576            28.80%           0           1     FN\n",
      "35714           2        576            29.92%           0           1     FN\n",
      "35715           3        576            33.34%           0           1     FN\n",
      "35716           4        576            38.85%           0           1     FN\n",
      "35717           5        576            38.86%           0           1     FN\n",
      "35718           6        576            42.66%           0           1     FN\n",
      "35774           0        577            34.26%           0           1     FN\n",
      "35898           0        579            10.88%           0           1     FN\n",
      "35899           1        579            10.43%           0           1     FN\n",
      "35900           2        579            10.72%           0           1     FN\n",
      "35901           3        579            13.77%           0           1     FN\n",
      "35902           4        579            15.98%           0           1     FN\n",
      "35903           5        579            16.61%           0           1     FN\n",
      "35904           6        579            16.38%           0           1     FN\n",
      "35905           7        579            15.91%           0           1     FN\n",
      "35906           8        579            15.53%           0           1     FN\n",
      "35907           9        579            15.35%           0           1     FN\n",
      "35908          10        579            15.39%           0           1     FN\n",
      "35909          11        579            15.76%           0           1     FN\n",
      "35910          12        579            16.58%           0           1     FN\n",
      "35911          13        579            17.69%           0           1     FN\n",
      "35912          14        579            18.51%           0           1     FN\n",
      "35913          15        579            18.67%           0           1     FN\n",
      "35914          16        579            16.06%           0           1     FN\n",
      "35915          17        579            12.14%           0           1     FN\n",
      "35916          18        579             9.63%           0           1     FN\n",
      "35917          19        579             8.82%           0           1     FN\n",
      "35918          20        579            10.31%           0           1     FN\n",
      "35919          21        579            13.20%           0           1     FN\n",
      "35920          22        579            17.88%           0           1     FN\n",
      "35921          23        579            21.69%           0           1     FN\n",
      "35922          24        579            23.44%           0           1     FN\n",
      "35923          25        579            24.97%           0           1     FN\n",
      "35924          26        579            29.12%           0           1     FN\n",
      "35925          27        579            37.46%           0           1     FN\n",
      "35926          28        579            43.62%           0           1     FN\n",
      "35927          29        579            43.92%           0           1     FN\n",
      "35928          30        579            41.06%           0           1     FN\n",
      "35929          31        579            37.69%           0           1     FN\n",
      "35930          32        579            38.22%           0           1     FN\n",
      "35931          33        579            45.27%           0           1     FN\n",
      "35945          47        579            40.57%           0           1     FN\n",
      "35946          48        579            32.95%           0           1     FN\n",
      "35947          49        579            29.61%           0           1     FN\n",
      "35948          50        579            29.97%           0           1     FN\n",
      "35949          51        579            28.64%           0           1     FN\n",
      "35950          52        579            25.63%           0           1     FN\n",
      "35951          53        579            23.59%           0           1     FN\n",
      "35952          54        579            20.96%           0           1     FN\n",
      "35953          55        579            17.53%           0           1     FN\n",
      "35954          56        579            16.31%           0           1     FN\n",
      "35955          57        579            19.16%           0           1     FN\n",
      "35956          58        579            20.19%           0           1     FN\n",
      "35957          59        579            18.33%           0           1     FN\n",
      "35958          60        579            16.80%           0           1     FN\n",
      "35959          61        579            16.65%           0           1     FN\n",
      "35960           0        580            20.89%           0           1     FN\n",
      "35961           1        580            17.33%           0           1     FN\n",
      "35962           2        580            17.36%           0           1     FN\n",
      "35963           3        580            29.50%           0           1     FN\n",
      "35964           4        580            48.11%           0           1     FN\n",
      "36394           0        587            42.65%           0           1     FN\n",
      "36518           0        589            17.11%           0           1     FN\n",
      "36519           1        589             9.62%           0           1     FN\n",
      "36520           2        589            33.90%           0           1     FN\n",
      "36580           0        590            45.49%           0           1     FN\n",
      "36704           0        592            42.74%           0           1     FN\n",
      "36705           1        592            49.52%           0           1     FN\n",
      "37014           0        597            28.03%           0           1     FN\n",
      "37015           1        597            27.58%           0           1     FN\n",
      "37016           2        597            22.29%           0           1     FN\n",
      "37017           3        597            40.24%           0           1     FN\n",
      "37018           4        597            30.17%           0           1     FN\n",
      "37019           5        597            21.20%           0           1     FN\n",
      "37020           6        597            17.58%           0           1     FN\n",
      "37021           7        597            20.13%           0           1     FN\n",
      "37022           8        597            18.01%           0           1     FN\n",
      "37023           9        597            20.14%           0           1     FN\n",
      "37024          10        597            24.65%           0           1     FN\n",
      "37025          11        597            37.43%           0           1     FN\n",
      "37448           0        604            49.57%           0           1     FN\n",
      "37449           1        604            33.05%           0           1     FN\n",
      "37450           2        604            44.26%           0           1     FN\n",
      "38442           2        620            32.74%           0           1     FN\n",
      "38443           3        620            48.27%           0           1     FN\n",
      "38626           0        623            46.41%           0           1     FN\n",
      "38688           0        624            47.30%           0           1     FN\n",
      "38689           1        624            34.78%           0           1     FN\n",
      "38690           2        624            27.36%           0           1     FN\n",
      "38691           3        624            46.39%           0           1     FN\n",
      "38696           8        624            48.19%           0           1     FN\n",
      "38697           9        624            48.07%           0           1     FN\n",
      "39122           0        631            15.89%           0           1     FN\n",
      "39123           1        631            25.09%           0           1     FN\n",
      "39124           2        631            40.21%           0           1     FN\n",
      "39135          13        631            48.27%           0           1     FN\n",
      "39136          14        631            39.76%           0           1     FN\n",
      "39137          15        631            23.35%           0           1     FN\n",
      "39138          16        631            18.38%           0           1     FN\n",
      "39139          17        631            27.48%           0           1     FN\n",
      "39140          18        631            36.64%           0           1     FN\n",
      "39169          47        631            42.41%           0           1     FN\n",
      "39170          48        631            42.30%           0           1     FN\n",
      "39171          49        631            46.69%           0           1     FN\n",
      "39618           0        639            25.35%           0           1     FN\n",
      "39619           1        639            22.11%           0           1     FN\n",
      "39621           3        639            45.59%           0           1     FN\n",
      "39680           0        640            28.59%           0           1     FN\n",
      "39681           1        640            15.74%           0           1     FN\n",
      "39742           0        641            12.03%           0           1     FN\n",
      "39990           0        645            18.38%           0           1     FN\n",
      "39991           1        645            33.43%           0           1     FN\n",
      "40052           0        646            18.68%           0           1     FN\n",
      "40053           1        646            13.71%           0           1     FN\n",
      "40090          38        646            45.10%           0           1     FN\n",
      "40091          39        646            37.34%           0           1     FN\n",
      "40092          40        646            29.96%           0           1     FN\n",
      "40093          41        646            24.85%           0           1     FN\n",
      "40094          42        646            20.37%           0           1     FN\n",
      "40095          43        646            13.49%           0           1     FN\n",
      "40096          44        646             7.89%           0           1     FN\n",
      "40097          45        646             4.76%           0           1     FN\n",
      "40098          46        646             2.65%           0           1     FN\n",
      "40099          47        646             1.98%           0           1     FN\n",
      "40100          48        646             1.65%           0           1     FN\n",
      "40101          49        646             1.86%           0           1     FN\n",
      "40102          50        646             2.40%           0           1     FN\n",
      "40103          51        646             3.23%           0           1     FN\n",
      "40104          52        646             4.19%           0           1     FN\n",
      "40105          53        646             5.18%           0           1     FN\n",
      "40106          54        646             7.06%           0           1     FN\n",
      "40107          55        646            10.80%           0           1     FN\n",
      "40108          56        646            19.35%           0           1     FN\n",
      "40109          57        646            35.47%           0           1     FN\n",
      "40114           0        647            29.90%           0           1     FN\n",
      "40115           1        647            28.31%           0           1     FN\n",
      "40116           2        647            43.37%           0           1     FN\n",
      "40424           0        652            49.50%           0           1     FN\n",
      "40920           0        660            33.89%           0           1     FN\n",
      "40921           1        660            38.79%           0           1     FN\n",
      "41416           0        668            13.70%           0           1     FN\n",
      "41417           1        668            24.89%           0           1     FN\n",
      "41418           2        668            38.04%           0           1     FN\n",
      "41419           3        668            48.68%           0           1     FN\n",
      "42160           0        680            11.10%           0           1     FN\n",
      "42532           0        686             5.15%           0           1     FN\n",
      "42533           1        686            14.74%           0           1     FN\n",
      "42534           2        686            38.08%           0           1     FN\n",
      "42535           3        686            28.39%           0           1     FN\n",
      "42658           2        688            38.54%           0           1     FN\n",
      "42659           3        688            42.97%           0           1     FN\n",
      "42842           0        691            25.36%           0           1     FN\n",
      "42843           1        691            26.69%           0           1     FN\n",
      "42844           2        691            44.97%           0           1     FN\n",
      "42845           3        691            41.07%           0           1     FN\n",
      "42852          10        691            44.42%           0           1     FN\n",
      "42853          11        691            39.44%           0           1     FN\n",
      "42854          12        691            34.23%           0           1     FN\n",
      "43400           0        700            27.76%           0           1     FN\n",
      "43401           1        700            33.96%           0           1     FN\n",
      "43402           2        700            42.86%           0           1     FN\n",
      "43403           3        700            40.66%           0           1     FN\n",
      "43404           4        700            43.15%           0           1     FN\n",
      "43405           5        700            42.66%           0           1     FN\n",
      "43406           6        700            43.54%           0           1     FN\n",
      "43407           7        700            49.39%           0           1     FN\n",
      "43413          13        700            49.21%           0           1     FN\n",
      "43414          14        700            25.86%           0           1     FN\n",
      "43415          15        700            28.88%           0           1     FN\n",
      "43417          17        700            40.49%           0           1     FN\n",
      "43834           0        707            15.13%           0           1     FN\n",
      "43835           1        707            39.35%           0           1     FN\n",
      "43836           2        707            24.90%           0           1     FN\n",
      "43837           3        707            25.96%           0           1     FN\n",
      "43838           4        707            31.87%           0           1     FN\n",
      "43839           5        707            34.13%           0           1     FN\n",
      "43840           6        707            34.56%           0           1     FN\n",
      "43841           7        707            42.04%           0           1     FN\n",
      "43842           8        707            48.78%           0           1     FN\n",
      "44020           0        710            22.77%           0           1     FN\n",
      "44021           1        710            13.65%           0           1     FN\n",
      "44022           2        710             7.21%           0           1     FN\n",
      "44023           3        710             6.81%           0           1     FN\n",
      "44024           4        710            11.95%           0           1     FN\n",
      "44025           5        710            22.03%           0           1     FN\n",
      "44026           6        710            30.24%           0           1     FN\n",
      "44330           0        715            17.25%           0           1     FN\n",
      "44826           0        723            25.87%           0           1     FN\n",
      "44827           1        723            34.00%           0           1     FN\n",
      "44828           2        723            38.61%           0           1     FN\n",
      "44888           0        724             7.56%           0           1     FN\n",
      "44889           1        724            15.58%           0           1     FN\n",
      "44892           4        724            49.39%           0           1     FN\n",
      "44894           6        724            47.68%           0           1     FN\n",
      "45136           0        728            35.46%           0           1     FN\n",
      "45571           1        735            42.84%           0           1     FN\n",
      "45572           2        735            44.69%           0           1     FN\n",
      "45573           3        735            39.69%           0           1     FN\n",
      "45880           0        740             3.87%           0           1     FN\n",
      "45881           1        740            11.64%           0           1     FN\n",
      "46438           0        749            32.18%           0           1     FN\n",
      "46439           1        749            21.80%           0           1     FN\n",
      "46440           2        749            36.77%           0           1     FN\n",
      "47244           0        762             9.81%           0           1     FN\n",
      "47245           1        762            23.76%           0           1     FN\n",
      "47246           2        762            49.16%           0           1     FN\n",
      "47740           0        770            26.90%           0           1     FN\n",
      "48072          22        775            47.71%           0           1     FN\n",
      "48236           0        778            25.66%           0           1     FN\n",
      "48237           1        778            33.32%           0           1     FN\n",
      "48422           0        781             7.91%           0           1     FN\n",
      "48423           1        781            10.21%           0           1     FN\n",
      "48424           2        781            10.87%           0           1     FN\n",
      "48425           3        781            11.50%           0           1     FN\n",
      "48426           4        781            20.04%           0           1     FN\n",
      "48670           0        785            19.62%           0           1     FN\n",
      "48671           1        785            20.74%           0           1     FN\n",
      "48672           2        785            41.10%           0           1     FN\n",
      "48673           3        785            46.17%           0           1     FN\n",
      "48794           0        787            26.73%           0           1     FN\n",
      "48918           0        789            39.06%           0           1     FN\n",
      "49538           0        799            26.66%           0           1     FN\n",
      "49539           1        799            24.99%           0           1     FN\n",
      "49540           2        799            43.51%           0           1     FN\n",
      "49541           3        799            47.94%           0           1     FN\n",
      "49714          52        801            37.27%           0           1     FN\n",
      "49715          53        801            26.40%           0           1     FN\n",
      "49716          54        801            21.13%           0           1     FN\n",
      "49717          55        801            18.44%           0           1     FN\n",
      "49718          56        801            16.65%           0           1     FN\n",
      "49719          57        801            17.83%           0           1     FN\n",
      "49720          58        801            28.46%           0           1     FN\n",
      "49721          59        801            36.36%           0           1     FN\n",
      "49722          60        801            42.12%           0           1     FN\n",
      "49723          61        801            42.14%           0           1     FN\n",
      "49910           0        805            30.61%           0           1     FN\n",
      "49911           1        805            23.87%           0           1     FN\n",
      "49912           2        805            17.86%           0           1     FN\n",
      "49913           3        805            21.30%           0           1     FN\n",
      "49914           4        805            20.81%           0           1     FN\n",
      "49915           5        805            20.67%           0           1     FN\n",
      "49916           6        805            24.25%           0           1     FN\n",
      "49917           7        805            20.72%           0           1     FN\n",
      "49918           8        805            23.41%           0           1     FN\n",
      "49919           9        805            30.57%           0           1     FN\n",
      "49920          10        805            28.99%           0           1     FN\n",
      "49921          11        805            43.21%           0           1     FN\n",
      "49922          12        805            42.67%           0           1     FN\n",
      "49972           0        806            17.92%           0           1     FN\n",
      "49973           1        806            21.00%           0           1     FN\n",
      "49974           2        806            25.79%           0           1     FN\n",
      "49975           3        806            37.63%           0           1     FN\n",
      "50158           0        809            46.69%           0           1     FN\n",
      "50159           1        809            49.64%           0           1     FN\n",
      "50160           2        809            39.44%           0           1     FN\n",
      "50224           4        810            38.50%           0           1     FN\n",
      "50225           5        810            21.98%           0           1     FN\n",
      "50226           6        810            20.44%           0           1     FN\n",
      "50227           7        810            21.61%           0           1     FN\n",
      "50228           8        810            19.78%           0           1     FN\n",
      "50229           9        810            20.90%           0           1     FN\n",
      "50344           0        812            48.69%           0           1     FN\n",
      "50345           1        812            49.44%           0           1     FN\n",
      "50468           0        814            32.66%           0           1     FN\n",
      "50469           1        814            31.80%           0           1     FN\n",
      "50470           2        814            46.79%           0           1     FN\n",
      "50497          29        814            48.60%           0           1     FN\n",
      "50498          30        814            45.38%           0           1     FN\n",
      "50654           0        817            35.84%           0           1     FN\n",
      "50716           0        818            36.58%           0           1     FN\n",
      "50717           1        818            48.53%           0           1     FN\n",
      "50778           0        819            30.03%           0           1     FN\n",
      "50840           0        820            21.52%           0           1     FN\n",
      "50843           3        820            42.55%           0           1     FN\n",
      "50904           2        821            47.04%           0           1     FN\n",
      "50905           3        821            49.55%           0           1     FN\n",
      "51274           0        827            37.66%           0           1     FN\n",
      "51584           0        832            30.39%           0           1     FN\n",
      "51646           0        833            23.15%           0           1     FN\n",
      "51647           1        833            19.79%           0           1     FN\n",
      "51648           2        833            37.22%           0           1     FN\n",
      "51649           3        833            26.06%           0           1     FN\n",
      "51650           4        833            41.21%           0           1     FN\n",
      "51651           5        833            27.91%           0           1     FN\n",
      "51652           6        833            31.22%           0           1     FN\n",
      "51653           7        833            29.44%           0           1     FN\n",
      "51832           0        836            49.94%           0           1     FN\n",
      "51833           1        836            28.35%           0           1     FN\n",
      "51834           2        836             6.29%           0           1     FN\n",
      "51835           3        836             6.45%           0           1     FN\n",
      "51836           4        836            26.48%           0           1     FN\n",
      "51837           5        836            23.03%           0           1     FN\n",
      "51838           6        836             8.26%           0           1     FN\n",
      "51839           7        836             6.34%           0           1     FN\n",
      "51840           8        836            11.15%           0           1     FN\n",
      "51841           9        836             7.17%           0           1     FN\n",
      "51842          10        836             3.58%           0           1     FN\n",
      "51843          11        836             3.71%           0           1     FN\n",
      "51844          12        836             4.11%           0           1     FN\n",
      "51845          13        836             4.32%           0           1     FN\n",
      "51846          14        836             4.39%           0           1     FN\n",
      "51847          15        836             4.05%           0           1     FN\n",
      "51848          16        836             4.78%           0           1     FN\n",
      "51849          17        836             5.84%           0           1     FN\n",
      "51850          18        836             7.61%           0           1     FN\n",
      "51851          19        836             9.01%           0           1     FN\n",
      "51852          20        836             9.87%           0           1     FN\n",
      "51853          21        836            10.19%           0           1     FN\n",
      "51854          22        836            10.76%           0           1     FN\n",
      "51855          23        836            13.56%           0           1     FN\n",
      "51856          24        836            17.14%           0           1     FN\n",
      "51857          25        836            21.34%           0           1     FN\n",
      "51858          26        836            37.08%           0           1     FN\n",
      "52204           0        842            19.66%           0           1     FN\n",
      "52205           1        842            27.81%           0           1     FN\n",
      "52391           1        845            34.86%           0           1     FN\n",
      "52392           2        845            48.98%           0           1     FN\n",
      "52638           0        849            36.30%           0           1     FN\n",
      "52811          49        851            45.80%           0           1     FN\n",
      "52812          50        851            43.67%           0           1     FN\n",
      "52813          51        851            30.88%           0           1     FN\n",
      "52814          52        851            17.66%           0           1     FN\n",
      "52815          53        851            11.10%           0           1     FN\n",
      "52816          54        851             6.57%           0           1     FN\n",
      "52817          55        851             4.86%           0           1     FN\n",
      "52818          56        851             7.16%           0           1     FN\n",
      "52819          57        851            19.14%           0           1     FN\n",
      "52820          58        851            29.14%           0           1     FN\n",
      "53196           0        858            12.78%           0           1     FN\n",
      "53197           1        858            19.75%           0           1     FN\n",
      "53198           2        858            28.03%           0           1     FN\n",
      "53199           3        858            19.95%           0           1     FN\n",
      "53200           4        858            15.95%           0           1     FN\n",
      "53201           5        858            18.80%           0           1     FN\n",
      "53202           6        858            25.75%           0           1     FN\n",
      "53203           7        858            30.70%           0           1     FN\n",
      "53204           8        858            46.41%           0           1     FN\n",
      "53321           1        860            45.03%           0           1     FN\n",
      "53322           2        860            49.84%           0           1     FN\n",
      "53630           0        865            10.49%           0           1     FN\n",
      "53631           1        865            19.81%           0           1     FN\n",
      "53632           2        865            48.59%           0           1     FN\n",
      "53878           0        869             9.59%           0           1     FN\n",
      "53879           1        869             9.02%           0           1     FN\n",
      "53880           2        869            11.17%           0           1     FN\n",
      "53881           3        869            11.18%           0           1     FN\n",
      "53882           4        869            16.70%           0           1     FN\n",
      "53883           5        869            17.96%           0           1     FN\n",
      "53884           6        869            28.13%           0           1     FN\n",
      "53885           7        869            28.88%           0           1     FN\n",
      "53886           8        869            37.86%           0           1     FN\n",
      "53887           9        869            47.22%           0           1     FN\n",
      "54932           0        886            14.71%           0           1     FN\n",
      "54933           1        886            13.37%           0           1     FN\n",
      "54934           2        886            11.33%           0           1     FN\n",
      "54935           3        886            10.95%           0           1     FN\n",
      "54936           4        886            13.06%           0           1     FN\n",
      "54937           5        886            20.45%           0           1     FN\n",
      "54938           6        886            29.94%           0           1     FN\n",
      "54939           7        886            44.65%           0           1     FN\n",
      "55144          26        889            47.57%           0           1     FN\n",
      "55145          27        889            39.81%           0           1     FN\n",
      "55146          28        889            38.13%           0           1     FN\n",
      "55147          29        889            34.94%           0           1     FN\n",
      "55148          30        889            30.39%           0           1     FN\n",
      "55149          31        889            29.61%           0           1     FN\n",
      "55150          32        889            34.27%           0           1     FN\n",
      "55151          33        889            31.22%           0           1     FN\n",
      "55152          34        889            28.30%           0           1     FN\n",
      "55153          35        889            25.63%           0           1     FN\n",
      "55154          36        889            30.79%           0           1     FN\n",
      "55155          37        889            29.72%           0           1     FN\n",
      "55156          38        889            28.46%           0           1     FN\n",
      "55157          39        889            29.70%           0           1     FN\n",
      "55158          40        889            31.44%           0           1     FN\n",
      "55159          41        889            31.82%           0           1     FN\n",
      "55160          42        889            36.89%           0           1     FN\n",
      "55161          43        889            39.82%           0           1     FN\n",
      "55162          44        889            48.52%           0           1     FN\n",
      "55490           0        895             9.81%           0           1     FN\n",
      "55491           1        895             7.45%           0           1     FN\n",
      "55492           2        895             9.10%           0           1     FN\n",
      "55493           3        895            16.32%           0           1     FN\n",
      "55494           4        895            15.89%           0           1     FN\n",
      "55495           5        895            20.41%           0           1     FN\n",
      "55496           6        895            28.65%           0           1     FN\n",
      "55497           7        895            32.17%           0           1     FN\n",
      "55498           8        895            35.54%           0           1     FN\n",
      "55499           9        895            41.07%           0           1     FN\n",
      "55500          10        895            44.22%           0           1     FN\n",
      "55864           2        901            43.54%           0           1     FN\n",
      "55986           0        903             9.17%           0           1     FN\n",
      "55987           1        903            21.59%           0           1     FN\n",
      "55988           2        903            15.86%           0           1     FN\n",
      "55989           3        903            15.80%           0           1     FN\n",
      "55990           4        903            19.76%           0           1     FN\n",
      "55991           5        903            28.31%           0           1     FN\n",
      "55992           6        903            47.69%           0           1     FN\n",
      "55997          11        903            46.22%           0           1     FN\n",
      "56000          14        903            49.82%           0           1     FN\n",
      "56001          15        903            49.74%           0           1     FN\n",
      "56234           0        907            23.94%           0           1     FN\n",
      "56235           1        907            26.27%           0           1     FN\n",
      "56358           0        909            15.59%           0           1     FN\n",
      "56359           1        909            11.74%           0           1     FN\n",
      "56360           2        909            12.75%           0           1     FN\n",
      "56361           3        909            22.51%           0           1     FN\n",
      "56362           4        909            37.80%           0           1     FN\n",
      "56484           2        911            43.03%           0           1     FN\n",
      "56606           0        913            31.63%           0           1     FN\n",
      "56730           0        915            33.59%           0           1     FN\n",
      "56916           0        918            14.11%           0           1     FN\n",
      "56917           1        918            13.19%           0           1     FN\n",
      "56918           2        918            13.36%           0           1     FN\n",
      "56919           3        918            17.80%           0           1     FN\n",
      "56920           4        918            29.17%           0           1     FN\n",
      "57164           0        922             6.63%           0           1     FN\n",
      "57165           1        922             9.67%           0           1     FN\n",
      "57166           2        922            19.02%           0           1     FN\n",
      "57167           3        922            25.05%           0           1     FN\n",
      "57168           4        922            28.27%           0           1     FN\n",
      "57169           5        922            44.61%           0           1     FN\n",
      "57288           0        924            39.16%           0           1     FN\n",
      "57289           1        924            37.40%           0           1     FN\n",
      "57290           2        924            48.67%           0           1     FN\n",
      "57413           1        926            47.60%           0           1     FN\n",
      "57474           0        927            37.07%           0           1     FN\n",
      "57475           1        927            38.83%           0           1     FN\n",
      "57476           2        927            35.97%           0           1     FN\n",
      "57478           4        927            37.78%           0           1     FN\n",
      "57722           0        931            47.86%           0           1     FN\n",
      "57771          49        931            45.78%           0           1     FN\n",
      "57784           0        932            32.90%           0           1     FN\n",
      "57785           1        932            36.25%           0           1     FN\n",
      "57786           2        932            47.06%           0           1     FN\n",
      "57787           3        932            39.97%           0           1     FN\n",
      "57788           4        932            26.99%           0           1     FN\n",
      "57789           5        932            49.42%           0           1     FN\n",
      "57908           0        934             7.40%           0           1     FN\n",
      "57909           1        934             9.68%           0           1     FN\n",
      "57910           2        934            12.12%           0           1     FN\n",
      "57911           3        934            17.95%           0           1     FN\n",
      "57912           4        934            42.15%           0           1     FN\n",
      "58156           0        938            22.66%           0           1     FN\n",
      "58157           1        938            29.40%           0           1     FN\n",
      "58466           0        943            48.08%           0           1     FN\n",
      "58590           0        945            27.20%           0           1     FN\n",
      "58591           1        945            30.84%           0           1     FN\n",
      "59148           0        954             3.36%           0           1     FN\n",
      "59149           1        954             5.59%           0           1     FN\n",
      "59150           2        954            12.25%           0           1     FN\n",
      "59151           3        954            20.86%           0           1     FN\n",
      "59152           4        954            26.33%           0           1     FN\n",
      "59153           5        954            31.68%           0           1     FN\n",
      "59154           6        954            47.26%           0           1     FN\n",
      "59459           1        959            47.74%           0           1     FN\n",
      "59509          51        959            44.71%           0           1     FN\n",
      "59510          52        959            24.68%           0           1     FN\n",
      "59511          53        959            15.15%           0           1     FN\n",
      "59512          54        959             7.82%           0           1     FN\n",
      "59513          55        959             4.31%           0           1     FN\n",
      "59514          56        959             2.48%           0           1     FN\n",
      "59515          57        959             1.86%           0           1     FN\n",
      "59516          58        959             2.19%           0           1     FN\n",
      "59517          59        959             3.12%           0           1     FN\n",
      "59518          60        959             4.82%           0           1     FN\n",
      "59519          61        959             7.11%           0           1     FN\n",
      "59582           0        961            15.98%           0           1     FN\n",
      "59583           1        961            13.55%           0           1     FN\n",
      "59584           2        961            12.19%           0           1     FN\n",
      "59585           3        961            16.55%           0           1     FN\n",
      "59586           4        961            31.73%           0           1     FN\n",
      "59587           5        961            33.58%           0           1     FN\n",
      "59588           6        961            34.20%           0           1     FN\n",
      "59618          36        961            39.16%           0           1     FN\n",
      "59644           0        962            45.65%           0           1     FN\n",
      "59768           0        964            37.00%           0           1     FN\n",
      "59769           1        964            31.96%           0           1     FN\n",
      "59770           2        964            42.25%           0           1     FN\n",
      "59830           0        965            45.28%           0           1     FN\n",
      "59831           1        965            44.28%           0           1     FN\n",
      "60204           2        971            49.08%           0           1     FN\n",
      "60264           0        972            49.59%           0           1     FN\n",
      "60450           0        975            17.13%           0           1     FN\n",
      "60451           1        975            13.81%           0           1     FN\n",
      "60452           2        975            27.79%           0           1     FN\n",
      "60453           3        975            46.14%           0           1     FN\n",
      "60636           0        978            11.44%           0           1     FN\n",
      "60822           0        981            18.79%           0           1     FN\n",
      "60823           1        981            32.87%           0           1     FN\n",
      "60825           3        981            48.53%           0           1     FN\n",
      "60826           4        981            42.85%           0           1     FN\n",
      "60827           5        981            43.92%           0           1     FN\n",
      "60828           6        981            43.87%           0           1     FN\n",
      "60885           1        982            47.16%           0           1     FN\n",
      "60923          39        982            37.31%           0           1     FN\n",
      "60924          40        982            47.37%           0           1     FN\n",
      "60926          42        982            49.44%           0           1     FN\n",
      "60931          47        982            42.67%           0           1     FN\n",
      "60932          48        982            38.29%           0           1     FN\n",
      "60933          49        982            39.44%           0           1     FN\n",
      "60934          50        982            40.65%           0           1     FN\n",
      "60935          51        982            41.52%           0           1     FN\n",
      "60936          52        982            44.35%           0           1     FN\n",
      "60937          53        982            41.48%           0           1     FN\n",
      "60938          54        982            36.23%           0           1     FN\n",
      "60939          55        982            32.98%           0           1     FN\n",
      "60940          56        982            25.51%           0           1     FN\n",
      "60941          57        982            25.34%           0           1     FN\n",
      "60942          58        982            23.30%           0           1     FN\n",
      "60943          59        982            20.64%           0           1     FN\n",
      "60944          60        982            19.69%           0           1     FN\n",
      "60945          61        982            18.52%           0           1     FN\n",
      "60946           0        983            19.35%           0           1     FN\n",
      "60947           1        983            30.78%           0           1     FN\n",
      "60948           2        983            44.17%           0           1     FN\n",
      "61070           0        985            12.17%           0           1     FN\n",
      "61071           1        985            17.90%           0           1     FN\n",
      "61214          20        987            49.70%           0           1     FN\n",
      "61380           0        990            15.98%           0           1     FN\n",
      "61381           1        990            40.09%           0           1     FN\n",
      "61392          12        990            47.06%           0           1     FN\n",
      "61393          13        990            35.09%           0           1     FN\n",
      "61394          14        990            19.80%           0           1     FN\n",
      "61395          15        990            27.80%           0           1     FN\n",
      "61396          16        990            33.32%           0           1     FN\n",
      "61426          46        990            47.81%           0           1     FN\n",
      "61631           3        994            24.45%           0           1     FN\n",
      "61632           4        994            19.35%           0           1     FN\n",
      "61633           5        994            13.58%           0           1     FN\n",
      "61634           6        994            25.58%           0           1     FN\n",
      "62248           0       1004            11.55%           0           1     FN\n",
      "62249           1       1004            31.32%           0           1     FN\n",
      "62255           7       1004            48.64%           0           1     FN\n",
      "62256           8       1004            48.33%           0           1     FN\n",
      "62257           9       1004            49.31%           0           1     FN\n",
      "62868           0       1014             3.89%           0           1     FN\n",
      "62869           1       1014             6.03%           0           1     FN\n",
      "62870           2       1014            42.31%           0           1     FN\n",
      "62932           2       1015            46.73%           0           1     FN\n",
      "63116           0       1018            13.18%           0           1     FN\n",
      "63117           1       1018            15.01%           0           1     FN\n",
      "63118           2       1018            11.25%           0           1     FN\n",
      "63119           3       1018            10.35%           0           1     FN\n",
      "63120           4       1018            16.01%           0           1     FN\n",
      "63121           5       1018            21.09%           0           1     FN\n",
      "63122           6       1018            39.04%           0           1     FN\n",
      "63302           0       1021            43.90%           0           1     FN\n",
      "63364           0       1022            46.14%           0           1     FN\n",
      "63675           1       1027            33.06%           0           1     FN\n",
      "63676           2       1027            36.81%           0           1     FN\n",
      "63738           2       1028            44.29%           0           1     FN\n",
      "63739           3       1028            40.18%           0           1     FN\n",
      "63984           0       1032            31.58%           0           1     FN\n",
      "63985           1       1032            40.57%           0           1     FN\n",
      "63987           3       1032            44.46%           0           1     FN\n",
      "64093          47       1033            46.92%           0           1     FN\n",
      "64094          48       1033            44.81%           0           1     FN\n",
      "64095          49       1033            38.64%           0           1     FN\n",
      "64096          50       1033            35.33%           0           1     FN\n",
      "64097          51       1033            31.97%           0           1     FN\n",
      "64098          52       1033            38.28%           0           1     FN\n",
      "64099          53       1033            40.35%           0           1     FN\n",
      "64100          54       1033            43.23%           0           1     FN\n",
      "64101          55       1033            47.75%           0           1     FN\n",
      "64102          56       1033            45.01%           0           1     FN\n",
      "64103          57       1033            40.22%           0           1     FN\n",
      "64104          58       1033            33.59%           0           1     FN\n",
      "64105          59       1033            28.38%           0           1     FN\n",
      "64106          60       1033            28.72%           0           1     FN\n",
      "64107          61       1033            27.41%           0           1     FN\n",
      "64145          37       1034            49.34%           0           1     FN\n",
      "64146          38       1034            46.89%           0           1     FN\n",
      "64294           0       1037            30.83%           0           1     FN\n",
      "64295           1       1037            16.87%           0           1     FN\n",
      "64296           2       1037            35.58%           0           1     FN\n",
      "64301           7       1037            45.14%           0           1     FN\n",
      "64302           8       1037            46.44%           0           1     FN\n",
      "64304          10       1037            32.00%           0           1     FN\n",
      "64305          11       1037            42.88%           0           1     FN\n",
      "64306          12       1037            23.46%           0           1     FN\n",
      "64307          13       1037            13.63%           0           1     FN\n",
      "64308          14       1037            23.96%           0           1     FN\n",
      "64309          15       1037             6.65%           0           1     FN\n",
      "64310          16       1037            31.81%           0           1     FN\n",
      "64356           0       1038             4.34%           0           1     FN\n",
      "64357           1       1038            16.66%           0           1     FN\n",
      "64358           2       1038            22.39%           0           1     FN\n",
      "64359           3       1038            28.24%           0           1     FN\n",
      "64360           4       1038            29.89%           0           1     FN\n",
      "64361           5       1038            26.27%           0           1     FN\n",
      "64362           6       1038            21.07%           0           1     FN\n",
      "64363           7       1038            16.98%           0           1     FN\n",
      "64364           8       1038            16.04%           0           1     FN\n",
      "64365           9       1038            15.97%           0           1     FN\n",
      "64366          10       1038            19.20%           0           1     FN\n",
      "64367          11       1038            28.37%           0           1     FN\n",
      "64368          12       1038            33.59%           0           1     FN\n",
      "64369          13       1038            36.96%           0           1     FN\n",
      "64370          14       1038            39.32%           0           1     FN\n",
      "64371          15       1038            44.55%           0           1     FN\n",
      "64418           0       1039            22.90%           0           1     FN\n",
      "64419           1       1039            20.27%           0           1     FN\n",
      "64420           2       1039            14.71%           0           1     FN\n",
      "64421           3       1039            16.41%           0           1     FN\n",
      "64422           4       1039            16.66%           0           1     FN\n",
      "64423           5       1039            16.97%           0           1     FN\n",
      "64424           6       1039            14.88%           0           1     FN\n",
      "64425           7       1039            12.44%           0           1     FN\n",
      "64426           8       1039            10.40%           0           1     FN\n",
      "64427           9       1039             9.26%           0           1     FN\n",
      "64428          10       1039             8.38%           0           1     FN\n",
      "64429          11       1039             7.63%           0           1     FN\n",
      "64430          12       1039             7.21%           0           1     FN\n",
      "64431          13       1039             6.91%           0           1     FN\n",
      "64432          14       1039             8.17%           0           1     FN\n",
      "64433          15       1039            10.86%           0           1     FN\n",
      "64434          16       1039            13.29%           0           1     FN\n",
      "64435          17       1039            13.67%           0           1     FN\n",
      "64436          18       1039            13.57%           0           1     FN\n",
      "64437          19       1039            11.90%           0           1     FN\n",
      "64438          20       1039            10.81%           0           1     FN\n",
      "64439          21       1039            11.30%           0           1     FN\n",
      "64440          22       1039            15.25%           0           1     FN\n",
      "64441          23       1039            18.47%           0           1     FN\n",
      "64442          24       1039            17.42%           0           1     FN\n",
      "64443          25       1039            15.22%           0           1     FN\n",
      "64444          26       1039            14.00%           0           1     FN\n",
      "64445          27       1039            14.20%           0           1     FN\n",
      "64446          28       1039            15.26%           0           1     FN\n",
      "64447          29       1039            17.55%           0           1     FN\n",
      "64448          30       1039            22.62%           0           1     FN\n",
      "64449          31       1039            30.21%           0           1     FN\n",
      "64456          38       1039            46.83%           0           1     FN\n",
      "64457          39       1039            42.94%           0           1     FN\n",
      "64458          40       1039            39.32%           0           1     FN\n",
      "64459          41       1039            35.92%           0           1     FN\n",
      "64460          42       1039            33.80%           0           1     FN\n",
      "64461          43       1039            35.14%           0           1     FN\n",
      "64462          44       1039            46.09%           0           1     FN\n",
      "64542           0       1041            33.81%           0           1     FN\n",
      "65348           0       1054            29.08%           0           1     FN\n",
      "65349           1       1054            30.86%           0           1     FN\n",
      "65350           2       1054            29.46%           0           1     FN\n",
      "65351           3       1054            44.60%           0           1     FN\n",
      "65534           0       1057            37.05%           0           1     FN\n",
      "65535           1       1057            29.70%           0           1     FN\n",
      "65536           2       1057            37.68%           0           1     FN\n",
      "65537           3       1057            45.25%           0           1     FN\n",
      "65538           4       1057            46.22%           0           1     FN\n",
      "65783           1       1061            30.67%           0           1     FN\n",
      "66154           0       1067            18.70%           0           1     FN\n",
      "66155           1       1067            14.23%           0           1     FN\n",
      "66156           2       1067            42.46%           0           1     FN\n",
      "66157           3       1067            22.52%           0           1     FN\n",
      "66158           4       1067            48.28%           0           1     FN\n",
      "66159           5       1067            48.29%           0           1     FN\n",
      "66160           6       1067            36.45%           0           1     FN\n",
      "66161           7       1067            36.91%           0           1     FN\n",
      "66162           8       1067            45.34%           0           1     FN\n",
      "66163           9       1067            41.97%           0           1     FN\n",
      "66464           0       1072            25.94%           0           1     FN\n",
      "66465           1       1072            23.57%           0           1     FN\n",
      "66466           2       1072            40.24%           0           1     FN\n",
      "66467           3       1072            49.14%           0           1     FN\n",
      "66650           0       1075            41.99%           0           1     FN\n",
      "66653           3       1075            40.49%           0           1     FN\n",
      "66656           6       1075            19.92%           0           1     FN\n",
      "66657           7       1075            21.97%           0           1     FN\n",
      "66658           8       1075            38.05%           0           1     FN\n",
      "66774           0       1077            10.50%           0           1     FN\n",
      "66775           1       1077            13.16%           0           1     FN\n",
      "66776           2       1077            14.87%           0           1     FN\n",
      "66777           3       1077            19.91%           0           1     FN\n",
      "66898           0       1079            26.35%           0           1     FN\n",
      "67084           0       1082            11.77%           0           1     FN\n",
      "67085           1       1082            14.09%           0           1     FN\n",
      "67086           2       1082            18.00%           0           1     FN\n",
      "67087           3       1082            22.43%           0           1     FN\n",
      "67088           4       1082            28.23%           0           1     FN\n",
      "67089           5       1082            38.96%           0           1     FN\n",
      "67090           6       1082            30.54%           0           1     FN\n",
      "67091           7       1082            23.34%           0           1     FN\n",
      "67092           8       1082            15.82%           0           1     FN\n",
      "67093           9       1082            12.77%           0           1     FN\n",
      "67094          10       1082            29.18%           0           1     FN\n",
      "67124          40       1082            40.23%           0           1     FN\n",
      "67125          41       1082            45.76%           0           1     FN\n",
      "67126          42       1082            43.09%           0           1     FN\n",
      "67518           0       1089            15.35%           0           1     FN\n",
      "67519           1       1089            14.91%           0           1     FN\n",
      "67520           2       1089            19.97%           0           1     FN\n",
      "67521           3       1089            17.46%           0           1     FN\n",
      "67522           4       1089            20.26%           0           1     FN\n",
      "67523           5       1089            18.76%           0           1     FN\n",
      "67524           6       1089            18.61%           0           1     FN\n",
      "67525           7       1089            17.71%           0           1     FN\n",
      "67526           8       1089            17.24%           0           1     FN\n",
      "67527           9       1089            16.62%           0           1     FN\n",
      "67528          10       1089            16.57%           0           1     FN\n",
      "67529          11       1089            16.59%           0           1     FN\n",
      "67530          12       1089            16.88%           0           1     FN\n",
      "67531          13       1089            20.47%           0           1     FN\n",
      "67532          14       1089            27.77%           0           1     FN\n",
      "67533          15       1089            35.61%           0           1     FN\n",
      "67642           0       1091            32.91%           0           1     FN\n",
      "67705           1       1092            43.03%           0           1     FN\n",
      "67828           0       1094            45.46%           0           1     FN\n",
      "67829           1       1094            47.91%           0           1     FN\n",
      "67890           0       1095            25.21%           0           1     FN\n",
      "67891           1       1095            23.92%           0           1     FN\n",
      "67892           2       1095            35.01%           0           1     FN\n",
      "67893           3       1095            44.95%           0           1     FN\n",
      "68386           0       1103            26.03%           0           1     FN\n",
      "68387           1       1103            30.11%           0           1     FN\n",
      "68388           2       1103            28.29%           0           1     FN\n",
      "68390           4       1103            33.66%           0           1     FN\n",
      "68628          56       1106            45.83%           0           1     FN\n",
      "68629          57       1106            29.09%           0           1     FN\n",
      "68630          58       1106            33.36%           0           1     FN\n",
      "68685          51       1107            49.97%           0           1     FN\n",
      "68686          52       1107            39.45%           0           1     FN\n",
      "68687          53       1107            33.58%           0           1     FN\n",
      "68688          54       1107            27.13%           0           1     FN\n",
      "68689          55       1107            22.30%           0           1     FN\n",
      "68690          56       1107            22.86%           0           1     FN\n",
      "68691          57       1107            23.43%           0           1     FN\n",
      "68692          58       1107            33.35%           0           1     FN\n",
      "68693          59       1107            40.35%           0           1     FN\n",
      "68694          60       1107            43.98%           0           1     FN\n",
      "68695          61       1107            43.01%           0           1     FN\n",
      "69192           0       1116            46.14%           0           1     FN\n",
      "69316           0       1118            20.76%           0           1     FN\n",
      "69317           1       1118            18.09%           0           1     FN\n",
      "69318           2       1118            34.82%           0           1     FN\n",
      "69319           3       1118            30.77%           0           1     FN\n",
      "69936           0       1128            37.49%           0           1     FN\n",
      "69937           1       1128            38.53%           0           1     FN\n",
      "69938           2       1128            46.75%           0           1     FN\n",
      "69939           3       1128            39.42%           0           1     FN\n",
      "69940           4       1128            24.93%           0           1     FN\n",
      "69941           5       1128            40.79%           0           1     FN\n",
      "70308           0       1134            13.72%           0           1     FN\n",
      "70309           1       1134            14.29%           0           1     FN\n",
      "70310           2       1134            44.41%           0           1     FN\n",
      "70311           3       1134            38.10%           0           1     FN\n",
      "70494           0       1137            44.87%           0           1     FN\n",
      "70495           1       1137            48.60%           0           1     FN\n",
      "70496           2       1137            30.28%           0           1     FN\n",
      "70928           0       1144            28.75%           0           1     FN\n",
      "70990           0       1145            32.03%           0           1     FN\n",
      "70991           1       1145            33.14%           0           1     FN\n",
      "71362           0       1151            32.43%           0           1     FN\n",
      "71363           1       1151            25.39%           0           1     FN\n",
      "71364           2       1151            10.49%           0           1     FN\n",
      "71365           3       1151            11.79%           0           1     FN\n",
      "71366           4       1151            23.29%           0           1     FN\n",
      "71367           5       1151            30.24%           0           1     FN\n",
      "71368           6       1151            29.07%           0           1     FN\n",
      "71369           7       1151            20.77%           0           1     FN\n",
      "71370           8       1151            28.89%           0           1     FN\n",
      "71371           9       1151            42.84%           0           1     FN\n",
      "71372          10       1151            45.03%           0           1     FN\n",
      "71373          11       1151            46.28%           0           1     FN\n",
      "71374          12       1151            39.65%           0           1     FN\n",
      "71375          13       1151            32.90%           0           1     FN\n",
      "71376          14       1151            37.70%           0           1     FN\n",
      "71424           0       1152            42.42%           0           1     FN\n",
      "71480          56       1152            36.90%           0           1     FN\n",
      "71481          57       1152            30.19%           0           1     FN\n",
      "71482          58       1152            44.38%           0           1     FN\n",
      "71920           0       1160            28.22%           0           1     FN\n",
      "71921           1       1160            16.70%           0           1     FN\n",
      "71922           2       1160            10.82%           0           1     FN\n",
      "71923           3       1160            13.93%           0           1     FN\n",
      "71924           4       1160            11.06%           0           1     FN\n",
      "71925           5       1160            10.14%           0           1     FN\n",
      "71926           6       1160            10.10%           0           1     FN\n",
      "71927           7       1160             8.81%           0           1     FN\n",
      "71928           8       1160             8.26%           0           1     FN\n",
      "71929           9       1160             7.04%           0           1     FN\n",
      "71930          10       1160             6.47%           0           1     FN\n",
      "71931          11       1160             5.90%           0           1     FN\n",
      "71932          12       1160             7.15%           0           1     FN\n",
      "71933          13       1160             8.86%           0           1     FN\n",
      "71934          14       1160             9.33%           0           1     FN\n",
      "71935          15       1160             7.69%           0           1     FN\n",
      "71936          16       1160             8.74%           0           1     FN\n",
      "71937          17       1160            11.61%           0           1     FN\n",
      "71938          18       1160            17.37%           0           1     FN\n",
      "71939          19       1160            23.43%           0           1     FN\n",
      "71940          20       1160            29.08%           0           1     FN\n",
      "71941          21       1160            36.29%           0           1     FN\n",
      "71942          22       1160            45.76%           0           1     FN\n",
      "72354           0       1167            13.06%           0           1     FN\n",
      "72355           1       1167            12.67%           0           1     FN\n",
      "72356           2       1167             9.70%           0           1     FN\n",
      "72357           3       1167             9.27%           0           1     FN\n",
      "72358           4       1167            15.04%           0           1     FN\n",
      "72359           5       1167            22.38%           0           1     FN\n",
      "72360           6       1167            39.36%           0           1     FN\n",
      "72542           2       1170            42.65%           0           1     FN\n",
      "72543           3       1170            32.56%           0           1     FN\n",
      "72544           4       1170            24.42%           0           1     FN\n",
      "72545           5       1170            20.21%           0           1     FN\n",
      "72546           6       1170            17.03%           0           1     FN\n",
      "72547           7       1170            15.18%           0           1     FN\n",
      "72548           8       1170            17.82%           0           1     FN\n",
      "72549           9       1170            18.07%           0           1     FN\n",
      "72550          10       1170            18.26%           0           1     FN\n",
      "72551          11       1170            19.05%           0           1     FN\n",
      "72552          12       1170            18.66%           0           1     FN\n",
      "72553          13       1170            15.87%           0           1     FN\n",
      "72554          14       1170            14.18%           0           1     FN\n",
      "72555          15       1170            12.92%           0           1     FN\n",
      "72556          16       1170            11.51%           0           1     FN\n",
      "72557          17       1170             9.77%           0           1     FN\n",
      "72558          18       1170             8.46%           0           1     FN\n",
      "72559          19       1170             8.25%           0           1     FN\n",
      "72560          20       1170             8.81%           0           1     FN\n",
      "72561          21       1170            12.01%           0           1     FN\n",
      "72562          22       1170            17.43%           0           1     FN\n",
      "72563          23       1170            33.24%           0           1     FN\n",
      "72569          29       1170            25.09%           0           1     FN\n",
      "72570          30       1170            19.94%           0           1     FN\n",
      "72571          31       1170            20.98%           0           1     FN\n",
      "72572          32       1170            20.48%           0           1     FN\n",
      "72573          33       1170            17.92%           0           1     FN\n",
      "72574          34       1170            16.73%           0           1     FN\n",
      "72575          35       1170            15.67%           0           1     FN\n",
      "72576          36       1170            15.62%           0           1     FN\n",
      "72577          37       1170            16.58%           0           1     FN\n",
      "72578          38       1170            22.42%           0           1     FN\n",
      "72850           0       1175            16.98%           0           1     FN\n",
      "72851           1       1175            16.26%           0           1     FN\n",
      "72852           2       1175            15.27%           0           1     FN\n",
      "72853           3       1175            20.03%           0           1     FN\n",
      "72854           4       1175            37.70%           0           1     FN\n",
      "73098           0       1179            31.45%           0           1     FN\n",
      "73160           0       1180             9.41%           0           1     FN\n",
      "73161           1       1180            19.65%           0           1     FN\n",
      "73162           2       1180            43.42%           0           1     FN\n",
      "73222           0       1181            44.10%           0           1     FN\n",
      "73346           0       1183            10.50%           0           1     FN\n",
      "73347           1       1183             8.71%           0           1     FN\n",
      "73348           2       1183             7.94%           0           1     FN\n",
      "73349           3       1183             7.96%           0           1     FN\n",
      "73350           4       1183             8.90%           0           1     FN\n",
      "73351           5       1183             7.69%           0           1     FN\n",
      "73352           6       1183            12.76%           0           1     FN\n",
      "73353           7       1183            39.86%           0           1     FN\n",
      "73354           8       1183            46.35%           0           1     FN\n",
      "73532           0       1186            48.80%           0           1     FN\n",
      "73843           1       1191            49.27%           0           1     FN\n",
      "73904           0       1192            46.73%           0           1     FN\n",
      "73905           1       1192            22.06%           0           1     FN\n",
      "73906           2       1192            14.61%           0           1     FN\n",
      "73907           3       1192            22.64%           0           1     FN\n",
      "73910           6       1192            42.41%           0           1     FN\n",
      "73911           7       1192            33.54%           0           1     FN\n",
      "73912           8       1192            42.49%           0           1     FN\n",
      "74090           0       1195            21.38%           0           1     FN\n",
      "74091           1       1195            26.03%           0           1     FN\n",
      "74092           2       1195            33.00%           0           1     FN\n",
      "74093           3       1195            45.96%           0           1     FN\n",
      "74338           0       1199            16.38%           0           1     FN\n",
      "74339           1       1199            14.83%           0           1     FN\n",
      "74341           3       1199            49.40%           0           1     FN\n",
      "74648           0       1204            45.85%           0           1     FN\n",
      "74896           0       1208            20.44%           0           1     FN\n",
      "74897           1       1208            20.89%           0           1     FN\n",
      "74898           2       1208            38.16%           0           1     FN\n",
      "74958           0       1209            13.65%           0           1     FN\n",
      "74959           1       1209            14.27%           0           1     FN\n",
      "74960           2       1209            24.24%           0           1     FN\n",
      "74961           3       1209            19.13%           0           1     FN\n",
      "74962           4       1209            36.54%           0           1     FN\n",
      "75330           0       1215            36.35%           0           1     FN\n",
      "75748          46       1221            45.04%           0           1     FN\n",
      "75749          47       1221            35.67%           0           1     FN\n",
      "75750          48       1221            27.56%           0           1     FN\n",
      "75751          49       1221            21.31%           0           1     FN\n",
      "75752          50       1221            21.29%           0           1     FN\n",
      "75753          51       1221            24.26%           0           1     FN\n",
      "75754          52       1221            23.53%           0           1     FN\n",
      "75755          53       1221            22.81%           0           1     FN\n",
      "75756          54       1221            20.77%           0           1     FN\n",
      "75757          55       1221            23.39%           0           1     FN\n",
      "75758          56       1221            24.20%           0           1     FN\n",
      "75759          57       1221            22.97%           0           1     FN\n",
      "75760          58       1221            18.84%           0           1     FN\n",
      "75761          59       1221            12.69%           0           1     FN\n",
      "75762          60       1221             9.15%           0           1     FN\n",
      "75763          61       1221             9.01%           0           1     FN\n",
      "76322           0       1231            35.51%           0           1     FN\n",
      "76882           2       1240            27.61%           0           1     FN\n",
      "76883           3       1240            34.88%           0           1     FN\n",
      "77004           0       1242            23.51%           0           1     FN\n",
      "77005           1       1242            37.24%           0           1     FN\n",
      "77314           0       1247            31.33%           0           1     FN\n",
      "77315           1       1247            20.29%           0           1     FN\n",
      "77316           2       1247            33.73%           0           1     FN\n",
      "77317           3       1247            20.29%           0           1     FN\n",
      "77318           4       1247             7.81%           0           1     FN\n",
      "77319           5       1247             5.92%           0           1     FN\n",
      "77320           6       1247             9.76%           0           1     FN\n",
      "77321           7       1247             9.09%           0           1     FN\n",
      "77322           8       1247             6.91%           0           1     FN\n",
      "77323           9       1247            15.48%           0           1     FN\n",
      "77324          10       1247            27.45%           0           1     FN\n",
      "77686           0       1253            34.08%           0           1     FN\n",
      "77687           1       1253            35.57%           0           1     FN\n",
      "77935           1       1257            26.40%           0           1     FN\n",
      "77936           2       1257            20.98%           0           1     FN\n",
      "77937           3       1257            18.59%           0           1     FN\n",
      "77938           4       1257            19.49%           0           1     FN\n",
      "77939           5       1257            23.94%           0           1     FN\n",
      "77940           6       1257            31.47%           0           1     FN\n",
      "77941           7       1257            41.49%           0           1     FN\n",
      "77942           8       1257            49.63%           0           1     FN\n",
      "78864           0       1272            31.11%           0           1     FN\n",
      "78865           1       1272            29.22%           0           1     FN\n",
      "78866           2       1272            41.39%           0           1     FN\n",
      "78867           3       1272            45.06%           0           1     FN\n",
      "78868           4       1272            49.69%           0           1     FN\n",
      "79237           1       1278            37.60%           0           1     FN\n",
      "79360           0       1280            36.67%           0           1     FN\n",
      "79361           1       1280            40.72%           0           1     FN\n",
      "79485           1       1282            46.46%           0           1     FN\n",
      "79486           2       1282            35.09%           0           1     FN\n",
      "79487           3       1282            37.24%           0           1     FN\n",
      "79546           0       1283            45.30%           0           1     FN\n",
      "79608           0       1284            34.26%           0           1     FN\n",
      "79609           1       1284            36.57%           0           1     FN\n"
     ]
    },
    {
     "data": {
      "image/png": "[encoded data removed]",
      "text/plain": [
       "<Figure size 640x480 with 1 Axes>"
      ]
     },
     "metadata": {},
     "output_type": "display_data"
    },
    {
     "data": {
      "image/png": "[encoded data removed]",
      "text/plain": [
       "<Figure size 640x480 with 1 Axes>"
      ]
     },
     "metadata": {},
     "output_type": "display_data"
    },
    {
     "name": "stdout",
     "output_type": "stream",
     "text": [
      "LIMITS RANGE range(0, 6)\n"
     ]
    },
    {
     "data": {
      "image/png": "[encoded data removed]",
      "text/plain": [
       "<Figure size 640x480 with 1 Axes>"
      ]
     },
     "metadata": {},
     "output_type": "display_data"
    }
   ],
   "source": [
    "false_positive = df[df[\"Result\"] == \"FP\"]\n",
    "false_negative = df[df[\"Result\"] == \"FN\"]\n",
    "\n",
    "\n",
    "def false_events_plots(false_events: pd.DataFrame, Title: str):\n",
    "    # df and plots settings\n",
    "    pd.set_option(\"display.float_format\", \"{:.2%}\".format)\n",
    "    pd.options.plotting.backend = \"matplotlib\"\n",
    "    pd.set_option(\"display.max_rows\", 2000)\n",
    "\n",
    "    false_events_plot = false_events.groupby([\"window idx\"])[\"window idx\"].count()\n",
    "\n",
    "    if len(false_events_plot) > 0:\n",
    "        print(Title.upper())\n",
    "        print(f\"Total \")\n",
    "        print(false_events)\n",
    "        false_events.groupby([\"event_idx\"])[\"event_idx\"].count().plot(kind=\"bar\")\n",
    "        plt.title(f\"{Title}s per Event\")\n",
    "        plt.show()\n",
    "\n",
    "        false_events_plot.plot(kind=\"bar\", edgecolor=\"black\")\n",
    "        plt.title(f\"{Title} per Window Index\")\n",
    "        plt.show()\n",
    "\n",
    "        limits_range = (\n",
    "            range(6) if (false_events[\"Pred probability\"].min() < 0.5) else range(5, 11)\n",
    "        )\n",
    "        print(f\"LIMITS RANGE {limits_range}\")\n",
    "        false_events[\"Pred probability\"].value_counts(\n",
    "            bins=[i * 0.1 for i in limits_range], sort=False, normalize=True\n",
    "        ).plot(kind=\"bar\")\n",
    "        plt.title(f\"{Title} probability per time interval\")\n",
    "        plt.show()\n",
    "\n",
    "\n",
    "false_events_plots(false_positive, \"False Positive\")\n",
    "false_events_plots(false_negative, \"False Negatives\")"
   ]
  },
  {
   "cell_type": "code",
   "execution_count": 17,
   "metadata": {},
   "outputs": [
    {
     "name": "stdout",
     "output_type": "stream",
     "text": [
      "[45545   128 33352  1575 47120]\n",
      "Total Samples:................80600\n",
      "True Positives:...............45545\n",
      "False Positives:.............. 128\n",
      "True Negatives:...............33352\n",
      "False Negatives:..............1575\n",
      "Accuracy:.....................  97.9%\n",
      "True Positive Rate:...........  96.7%\n",
      "False Positive Rate:..........   0.4%\n",
      "True Negative Rate:...........  99.6%\n",
      "Positive Predictive Value:....  99.7%\n"
     ]
    },
    {
     "data": {
      "application/vnd.plotly.v1+json": {
       "config": {
        "plotlyServerURL": "https://plot.ly"
       },
       "data": [
        {
         "coloraxis": "coloraxis",
         "hovertemplate": "Predicted Label: %{x}<br>Real Label: %{y}<br>Predictions: %{z}<extra></extra>",
         "name": "0",
         "texttemplate": "%{z}",
         "type": "heatmap",
         "x": [
          "Positive",
          "Negative"
         ],
         "xaxis": "x",
         "y": [
          "Positive",
          "Negative"
         ],
         "yaxis": "y",
         "z": [
          [
           45545,
           1575
          ],
          [
           128,
           33352
          ]
         ]
        }
       ],
       "layout": {
        "coloraxis": {
         "colorbar": {
          "title": {
           "text": "Predictions"
          }
         },
         "colorscale": [
          [
           0,
           "rgb(2,4,25)"
          ],
          [
           0.0625,
           "rgb(24,15,41)"
          ],
          [
           0.125,
           "rgb(47,23,57)"
          ],
          [
           0.1875,
           "rgb(71,28,72)"
          ],
          [
           0.25,
           "rgb(97,30,82)"
          ],
          [
           0.3125,
           "rgb(123,30,89)"
          ],
          [
           0.375,
           "rgb(150,27,91)"
          ],
          [
           0.4375,
           "rgb(177,22,88)"
          ],
          [
           0.5,
           "rgb(203,26,79)"
          ],
          [
           0.5625,
           "rgb(223,47,67)"
          ],
          [
           0.625,
           "rgb(236,76,61)"
          ],
          [
           0.6875,
           "rgb(242,107,73)"
          ],
          [
           0.75,
           "rgb(244,135,95)"
          ],
          [
           0.8125,
           "rgb(245,162,122)"
          ],
          [
           0.875,
           "rgb(246,188,153)"
          ],
          [
           0.9375,
           "rgb(247,212,187)"
          ],
          [
           1,
           "rgb(250,234,220)"
          ]
         ]
        },
        "height": 300,
        "margin": {
         "t": 60
        },
        "template": {
         "data": {
          "bar": [
           {
            "error_x": {
             "color": "rgb(36,36,36)"
            },
            "error_y": {
             "color": "rgb(36,36,36)"
            },
            "marker": {
             "line": {
              "color": "rgb(234,234,242)",
              "width": 0.5
             },
             "pattern": {
              "fillmode": "overlay",
              "size": 10,
              "solidity": 0.2
             }
            },
            "type": "bar"
           }
          ],
          "barpolar": [
           {
            "marker": {
             "line": {
              "color": "rgb(234,234,242)",
              "width": 0.5
             },
             "pattern": {
              "fillmode": "overlay",
              "size": 10,
              "solidity": 0.2
             }
            },
            "type": "barpolar"
           }
          ],
          "carpet": [
           {
            "aaxis": {
             "endlinecolor": "rgb(36,36,36)",
             "gridcolor": "white",
             "linecolor": "white",
             "minorgridcolor": "white",
             "startlinecolor": "rgb(36,36,36)"
            },
            "baxis": {
             "endlinecolor": "rgb(36,36,36)",
             "gridcolor": "white",
             "linecolor": "white",
             "minorgridcolor": "white",
             "startlinecolor": "rgb(36,36,36)"
            },
            "type": "carpet"
           }
          ],
          "choropleth": [
           {
            "colorbar": {
             "outlinewidth": 0,
             "tickcolor": "rgb(36,36,36)",
             "ticklen": 8,
             "ticks": "outside",
             "tickwidth": 2
            },
            "type": "choropleth"
           }
          ],
          "contour": [
           {
            "colorbar": {
             "outlinewidth": 0,
             "tickcolor": "rgb(36,36,36)",
             "ticklen": 8,
             "ticks": "outside",
             "tickwidth": 2
            },
            "colorscale": [
             [
              0,
              "rgb(2,4,25)"
             ],
             [
              0.06274509803921569,
              "rgb(24,15,41)"
             ],
             [
              0.12549019607843137,
              "rgb(47,23,57)"
             ],
             [
              0.18823529411764706,
              "rgb(71,28,72)"
             ],
             [
              0.25098039215686274,
              "rgb(97,30,82)"
             ],
             [
              0.3137254901960784,
              "rgb(123,30,89)"
             ],
             [
              0.3764705882352941,
              "rgb(150,27,91)"
             ],
             [
              0.4392156862745098,
              "rgb(177,22,88)"
             ],
             [
              0.5019607843137255,
              "rgb(203,26,79)"
             ],
             [
              0.5647058823529412,
              "rgb(223,47,67)"
             ],
             [
              0.6274509803921569,
              "rgb(236,76,61)"
             ],
             [
              0.6901960784313725,
              "rgb(242,107,73)"
             ],
             [
              0.7529411764705882,
              "rgb(244,135,95)"
             ],
             [
              0.8156862745098039,
              "rgb(245,162,122)"
             ],
             [
              0.8784313725490196,
              "rgb(246,188,153)"
             ],
             [
              0.9411764705882353,
              "rgb(247,212,187)"
             ],
             [
              1,
              "rgb(250,234,220)"
             ]
            ],
            "type": "contour"
           }
          ],
          "contourcarpet": [
           {
            "colorbar": {
             "outlinewidth": 0,
             "tickcolor": "rgb(36,36,36)",
             "ticklen": 8,
             "ticks": "outside",
             "tickwidth": 2
            },
            "type": "contourcarpet"
           }
          ],
          "heatmap": [
           {
            "colorbar": {
             "outlinewidth": 0,
             "tickcolor": "rgb(36,36,36)",
             "ticklen": 8,
             "ticks": "outside",
             "tickwidth": 2
            },
            "colorscale": [
             [
              0,
              "rgb(2,4,25)"
             ],
             [
              0.06274509803921569,
              "rgb(24,15,41)"
             ],
             [
              0.12549019607843137,
              "rgb(47,23,57)"
             ],
             [
              0.18823529411764706,
              "rgb(71,28,72)"
             ],
             [
              0.25098039215686274,
              "rgb(97,30,82)"
             ],
             [
              0.3137254901960784,
              "rgb(123,30,89)"
             ],
             [
              0.3764705882352941,
              "rgb(150,27,91)"
             ],
             [
              0.4392156862745098,
              "rgb(177,22,88)"
             ],
             [
              0.5019607843137255,
              "rgb(203,26,79)"
             ],
             [
              0.5647058823529412,
              "rgb(223,47,67)"
             ],
             [
              0.6274509803921569,
              "rgb(236,76,61)"
             ],
             [
              0.6901960784313725,
              "rgb(242,107,73)"
             ],
             [
              0.7529411764705882,
              "rgb(244,135,95)"
             ],
             [
              0.8156862745098039,
              "rgb(245,162,122)"
             ],
             [
              0.8784313725490196,
              "rgb(246,188,153)"
             ],
             [
              0.9411764705882353,
              "rgb(247,212,187)"
             ],
             [
              1,
              "rgb(250,234,220)"
             ]
            ],
            "type": "heatmap"
           }
          ],
          "heatmapgl": [
           {
            "colorbar": {
             "outlinewidth": 0,
             "tickcolor": "rgb(36,36,36)",
             "ticklen": 8,
             "ticks": "outside",
             "tickwidth": 2
            },
            "colorscale": [
             [
              0,
              "rgb(2,4,25)"
             ],
             [
              0.06274509803921569,
              "rgb(24,15,41)"
             ],
             [
              0.12549019607843137,
              "rgb(47,23,57)"
             ],
             [
              0.18823529411764706,
              "rgb(71,28,72)"
             ],
             [
              0.25098039215686274,
              "rgb(97,30,82)"
             ],
             [
              0.3137254901960784,
              "rgb(123,30,89)"
             ],
             [
              0.3764705882352941,
              "rgb(150,27,91)"
             ],
             [
              0.4392156862745098,
              "rgb(177,22,88)"
             ],
             [
              0.5019607843137255,
              "rgb(203,26,79)"
             ],
             [
              0.5647058823529412,
              "rgb(223,47,67)"
             ],
             [
              0.6274509803921569,
              "rgb(236,76,61)"
             ],
             [
              0.6901960784313725,
              "rgb(242,107,73)"
             ],
             [
              0.7529411764705882,
              "rgb(244,135,95)"
             ],
             [
              0.8156862745098039,
              "rgb(245,162,122)"
             ],
             [
              0.8784313725490196,
              "rgb(246,188,153)"
             ],
             [
              0.9411764705882353,
              "rgb(247,212,187)"
             ],
             [
              1,
              "rgb(250,234,220)"
             ]
            ],
            "type": "heatmapgl"
           }
          ],
          "histogram": [
           {
            "marker": {
             "pattern": {
              "fillmode": "overlay",
              "size": 10,
              "solidity": 0.2
             }
            },
            "type": "histogram"
           }
          ],
          "histogram2d": [
           {
            "colorbar": {
             "outlinewidth": 0,
             "tickcolor": "rgb(36,36,36)",
             "ticklen": 8,
             "ticks": "outside",
             "tickwidth": 2
            },
            "colorscale": [
             [
              0,
              "rgb(2,4,25)"
             ],
             [
              0.06274509803921569,
              "rgb(24,15,41)"
             ],
             [
              0.12549019607843137,
              "rgb(47,23,57)"
             ],
             [
              0.18823529411764706,
              "rgb(71,28,72)"
             ],
             [
              0.25098039215686274,
              "rgb(97,30,82)"
             ],
             [
              0.3137254901960784,
              "rgb(123,30,89)"
             ],
             [
              0.3764705882352941,
              "rgb(150,27,91)"
             ],
             [
              0.4392156862745098,
              "rgb(177,22,88)"
             ],
             [
              0.5019607843137255,
              "rgb(203,26,79)"
             ],
             [
              0.5647058823529412,
              "rgb(223,47,67)"
             ],
             [
              0.6274509803921569,
              "rgb(236,76,61)"
             ],
             [
              0.6901960784313725,
              "rgb(242,107,73)"
             ],
             [
              0.7529411764705882,
              "rgb(244,135,95)"
             ],
             [
              0.8156862745098039,
              "rgb(245,162,122)"
             ],
             [
              0.8784313725490196,
              "rgb(246,188,153)"
             ],
             [
              0.9411764705882353,
              "rgb(247,212,187)"
             ],
             [
              1,
              "rgb(250,234,220)"
             ]
            ],
            "type": "histogram2d"
           }
          ],
          "histogram2dcontour": [
           {
            "colorbar": {
             "outlinewidth": 0,
             "tickcolor": "rgb(36,36,36)",
             "ticklen": 8,
             "ticks": "outside",
             "tickwidth": 2
            },
            "colorscale": [
             [
              0,
              "rgb(2,4,25)"
             ],
             [
              0.06274509803921569,
              "rgb(24,15,41)"
             ],
             [
              0.12549019607843137,
              "rgb(47,23,57)"
             ],
             [
              0.18823529411764706,
              "rgb(71,28,72)"
             ],
             [
              0.25098039215686274,
              "rgb(97,30,82)"
             ],
             [
              0.3137254901960784,
              "rgb(123,30,89)"
             ],
             [
              0.3764705882352941,
              "rgb(150,27,91)"
             ],
             [
              0.4392156862745098,
              "rgb(177,22,88)"
             ],
             [
              0.5019607843137255,
              "rgb(203,26,79)"
             ],
             [
              0.5647058823529412,
              "rgb(223,47,67)"
             ],
             [
              0.6274509803921569,
              "rgb(236,76,61)"
             ],
             [
              0.6901960784313725,
              "rgb(242,107,73)"
             ],
             [
              0.7529411764705882,
              "rgb(244,135,95)"
             ],
             [
              0.8156862745098039,
              "rgb(245,162,122)"
             ],
             [
              0.8784313725490196,
              "rgb(246,188,153)"
             ],
             [
              0.9411764705882353,
              "rgb(247,212,187)"
             ],
             [
              1,
              "rgb(250,234,220)"
             ]
            ],
            "type": "histogram2dcontour"
           }
          ],
          "mesh3d": [
           {
            "colorbar": {
             "outlinewidth": 0,
             "tickcolor": "rgb(36,36,36)",
             "ticklen": 8,
             "ticks": "outside",
             "tickwidth": 2
            },
            "type": "mesh3d"
           }
          ],
          "parcoords": [
           {
            "line": {
             "colorbar": {
              "outlinewidth": 0,
              "tickcolor": "rgb(36,36,36)",
              "ticklen": 8,
              "ticks": "outside",
              "tickwidth": 2
             }
            },
            "type": "parcoords"
           }
          ],
          "pie": [
           {
            "automargin": true,
            "type": "pie"
           }
          ],
          "scatter": [
           {
            "fillpattern": {
             "fillmode": "overlay",
             "size": 10,
             "solidity": 0.2
            },
            "type": "scatter"
           }
          ],
          "scatter3d": [
           {
            "line": {
             "colorbar": {
              "outlinewidth": 0,
              "tickcolor": "rgb(36,36,36)",
              "ticklen": 8,
              "ticks": "outside",
              "tickwidth": 2
             }
            },
            "marker": {
             "colorbar": {
              "outlinewidth": 0,
              "tickcolor": "rgb(36,36,36)",
              "ticklen": 8,
              "ticks": "outside",
              "tickwidth": 2
             }
            },
            "type": "scatter3d"
           }
          ],
          "scattercarpet": [
           {
            "marker": {
             "colorbar": {
              "outlinewidth": 0,
              "tickcolor": "rgb(36,36,36)",
              "ticklen": 8,
              "ticks": "outside",
              "tickwidth": 2
             }
            },
            "type": "scattercarpet"
           }
          ],
          "scattergeo": [
           {
            "marker": {
             "colorbar": {
              "outlinewidth": 0,
              "tickcolor": "rgb(36,36,36)",
              "ticklen": 8,
              "ticks": "outside",
              "tickwidth": 2
             }
            },
            "type": "scattergeo"
           }
          ],
          "scattergl": [
           {
            "marker": {
             "colorbar": {
              "outlinewidth": 0,
              "tickcolor": "rgb(36,36,36)",
              "ticklen": 8,
              "ticks": "outside",
              "tickwidth": 2
             }
            },
            "type": "scattergl"
           }
          ],
          "scattermapbox": [
           {
            "marker": {
             "colorbar": {
              "outlinewidth": 0,
              "tickcolor": "rgb(36,36,36)",
              "ticklen": 8,
              "ticks": "outside",
              "tickwidth": 2
             }
            },
            "type": "scattermapbox"
           }
          ],
          "scatterpolar": [
           {
            "marker": {
             "colorbar": {
              "outlinewidth": 0,
              "tickcolor": "rgb(36,36,36)",
              "ticklen": 8,
              "ticks": "outside",
              "tickwidth": 2
             }
            },
            "type": "scatterpolar"
           }
          ],
          "scatterpolargl": [
           {
            "marker": {
             "colorbar": {
              "outlinewidth": 0,
              "tickcolor": "rgb(36,36,36)",
              "ticklen": 8,
              "ticks": "outside",
              "tickwidth": 2
             }
            },
            "type": "scatterpolargl"
           }
          ],
          "scatterternary": [
           {
            "marker": {
             "colorbar": {
              "outlinewidth": 0,
              "tickcolor": "rgb(36,36,36)",
              "ticklen": 8,
              "ticks": "outside",
              "tickwidth": 2
             }
            },
            "type": "scatterternary"
           }
          ],
          "surface": [
           {
            "colorbar": {
             "outlinewidth": 0,
             "tickcolor": "rgb(36,36,36)",
             "ticklen": 8,
             "ticks": "outside",
             "tickwidth": 2
            },
            "colorscale": [
             [
              0,
              "rgb(2,4,25)"
             ],
             [
              0.06274509803921569,
              "rgb(24,15,41)"
             ],
             [
              0.12549019607843137,
              "rgb(47,23,57)"
             ],
             [
              0.18823529411764706,
              "rgb(71,28,72)"
             ],
             [
              0.25098039215686274,
              "rgb(97,30,82)"
             ],
             [
              0.3137254901960784,
              "rgb(123,30,89)"
             ],
             [
              0.3764705882352941,
              "rgb(150,27,91)"
             ],
             [
              0.4392156862745098,
              "rgb(177,22,88)"
             ],
             [
              0.5019607843137255,
              "rgb(203,26,79)"
             ],
             [
              0.5647058823529412,
              "rgb(223,47,67)"
             ],
             [
              0.6274509803921569,
              "rgb(236,76,61)"
             ],
             [
              0.6901960784313725,
              "rgb(242,107,73)"
             ],
             [
              0.7529411764705882,
              "rgb(244,135,95)"
             ],
             [
              0.8156862745098039,
              "rgb(245,162,122)"
             ],
             [
              0.8784313725490196,
              "rgb(246,188,153)"
             ],
             [
              0.9411764705882353,
              "rgb(247,212,187)"
             ],
             [
              1,
              "rgb(250,234,220)"
             ]
            ],
            "type": "surface"
           }
          ],
          "table": [
           {
            "cells": {
             "fill": {
              "color": "rgb(231,231,240)"
             },
             "line": {
              "color": "white"
             }
            },
            "header": {
             "fill": {
              "color": "rgb(183,183,191)"
             },
             "line": {
              "color": "white"
             }
            },
            "type": "table"
           }
          ]
         },
         "layout": {
          "annotationdefaults": {
           "arrowcolor": "rgb(67,103,167)"
          },
          "autotypenumbers": "strict",
          "coloraxis": {
           "colorbar": {
            "outlinewidth": 0,
            "tickcolor": "rgb(36,36,36)",
            "ticklen": 8,
            "ticks": "outside",
            "tickwidth": 2
           }
          },
          "colorscale": {
           "sequential": [
            [
             0,
             "rgb(2,4,25)"
            ],
            [
             0.06274509803921569,
             "rgb(24,15,41)"
            ],
            [
             0.12549019607843137,
             "rgb(47,23,57)"
            ],
            [
             0.18823529411764706,
             "rgb(71,28,72)"
            ],
            [
             0.25098039215686274,
             "rgb(97,30,82)"
            ],
            [
             0.3137254901960784,
             "rgb(123,30,89)"
            ],
            [
             0.3764705882352941,
             "rgb(150,27,91)"
            ],
            [
             0.4392156862745098,
             "rgb(177,22,88)"
            ],
            [
             0.5019607843137255,
             "rgb(203,26,79)"
            ],
            [
             0.5647058823529412,
             "rgb(223,47,67)"
            ],
            [
             0.6274509803921569,
             "rgb(236,76,61)"
            ],
            [
             0.6901960784313725,
             "rgb(242,107,73)"
            ],
            [
             0.7529411764705882,
             "rgb(244,135,95)"
            ],
            [
             0.8156862745098039,
             "rgb(245,162,122)"
            ],
            [
             0.8784313725490196,
             "rgb(246,188,153)"
            ],
            [
             0.9411764705882353,
             "rgb(247,212,187)"
            ],
            [
             1,
             "rgb(250,234,220)"
            ]
           ],
           "sequentialminus": [
            [
             0,
             "rgb(2,4,25)"
            ],
            [
             0.06274509803921569,
             "rgb(24,15,41)"
            ],
            [
             0.12549019607843137,
             "rgb(47,23,57)"
            ],
            [
             0.18823529411764706,
             "rgb(71,28,72)"
            ],
            [
             0.25098039215686274,
             "rgb(97,30,82)"
            ],
            [
             0.3137254901960784,
             "rgb(123,30,89)"
            ],
            [
             0.3764705882352941,
             "rgb(150,27,91)"
            ],
            [
             0.4392156862745098,
             "rgb(177,22,88)"
            ],
            [
             0.5019607843137255,
             "rgb(203,26,79)"
            ],
            [
             0.5647058823529412,
             "rgb(223,47,67)"
            ],
            [
             0.6274509803921569,
             "rgb(236,76,61)"
            ],
            [
             0.6901960784313725,
             "rgb(242,107,73)"
            ],
            [
             0.7529411764705882,
             "rgb(244,135,95)"
            ],
            [
             0.8156862745098039,
             "rgb(245,162,122)"
            ],
            [
             0.8784313725490196,
             "rgb(246,188,153)"
            ],
            [
             0.9411764705882353,
             "rgb(247,212,187)"
            ],
            [
             1,
             "rgb(250,234,220)"
            ]
           ]
          },
          "colorway": [
           "rgb(76,114,176)",
           "rgb(221,132,82)",
           "rgb(85,168,104)",
           "rgb(196,78,82)",
           "rgb(129,114,179)",
           "rgb(147,120,96)",
           "rgb(218,139,195)",
           "rgb(140,140,140)",
           "rgb(204,185,116)",
           "rgb(100,181,205)"
          ],
          "font": {
           "color": "rgb(36,36,36)"
          },
          "geo": {
           "bgcolor": "white",
           "lakecolor": "white",
           "landcolor": "rgb(234,234,242)",
           "showlakes": true,
           "showland": true,
           "subunitcolor": "white"
          },
          "hoverlabel": {
           "align": "left"
          },
          "hovermode": "closest",
          "paper_bgcolor": "white",
          "plot_bgcolor": "rgb(234,234,242)",
          "polar": {
           "angularaxis": {
            "gridcolor": "white",
            "linecolor": "white",
            "showgrid": true,
            "ticks": ""
           },
           "bgcolor": "rgb(234,234,242)",
           "radialaxis": {
            "gridcolor": "white",
            "linecolor": "white",
            "showgrid": true,
            "ticks": ""
           }
          },
          "scene": {
           "xaxis": {
            "backgroundcolor": "rgb(234,234,242)",
            "gridcolor": "white",
            "gridwidth": 2,
            "linecolor": "white",
            "showbackground": true,
            "showgrid": true,
            "ticks": "",
            "zerolinecolor": "white"
           },
           "yaxis": {
            "backgroundcolor": "rgb(234,234,242)",
            "gridcolor": "white",
            "gridwidth": 2,
            "linecolor": "white",
            "showbackground": true,
            "showgrid": true,
            "ticks": "",
            "zerolinecolor": "white"
           },
           "zaxis": {
            "backgroundcolor": "rgb(234,234,242)",
            "gridcolor": "white",
            "gridwidth": 2,
            "linecolor": "white",
            "showbackground": true,
            "showgrid": true,
            "ticks": "",
            "zerolinecolor": "white"
           }
          },
          "shapedefaults": {
           "fillcolor": "rgb(67,103,167)",
           "line": {
            "width": 0
           },
           "opacity": 0.5
          },
          "ternary": {
           "aaxis": {
            "gridcolor": "white",
            "linecolor": "white",
            "showgrid": true,
            "ticks": ""
           },
           "baxis": {
            "gridcolor": "white",
            "linecolor": "white",
            "showgrid": true,
            "ticks": ""
           },
           "bgcolor": "rgb(234,234,242)",
           "caxis": {
            "gridcolor": "white",
            "linecolor": "white",
            "showgrid": true,
            "ticks": ""
           }
          },
          "xaxis": {
           "automargin": true,
           "gridcolor": "white",
           "linecolor": "white",
           "showgrid": true,
           "ticks": "",
           "title": {
            "standoff": 15
           },
           "zerolinecolor": "white"
          },
          "yaxis": {
           "automargin": true,
           "gridcolor": "white",
           "linecolor": "white",
           "showgrid": true,
           "ticks": "",
           "title": {
            "standoff": 15
           },
           "zerolinecolor": "white"
          }
         }
        },
        "width": 400,
        "xaxis": {
         "anchor": "y",
         "constrain": "domain",
         "domain": [
          0,
          1
         ],
         "scaleanchor": "y",
         "title": {
          "text": "Predicted Label"
         }
        },
        "yaxis": {
         "anchor": "x",
         "autorange": "reversed",
         "constrain": "domain",
         "domain": [
          0,
          1
         ],
         "title": {
          "text": "Real Label"
         }
        }
       }
      }
     },
     "metadata": {},
     "output_type": "display_data"
    }
   ],
   "source": [
    "print(conf_matrix_total)\n",
    "metrics = de.conf_matrix_metrics(conf_matrix_total)\n",
    "de.print_metrics(metrics)\n",
    "de.plot_confusion_matrix(metrics)"
   ]
  },
  {
   "cell_type": "code",
   "execution_count": 5,
   "metadata": {},
   "outputs": [
    {
     "data": {
      "text/plain": [
       "<pandas.core.groupby.generic.DataFrameGroupBy object at 0x000002254F746100>"
      ]
     },
     "execution_count": 5,
     "metadata": {},
     "output_type": "execute_result"
    }
   ],
   "source": [
    "df[(df[\"Result\"] == \"FP\") & (df[\"Pred probability\"] > 0.8)].groupby(df[\"window idx\"])"
   ]
  },
  {
   "cell_type": "code",
   "execution_count": 6,
   "metadata": {},
   "outputs": [
    {
     "name": "stdout",
     "output_type": "stream",
     "text": [
      "Fault Events (True): 760 \n",
      "Non Fault Events (False): 540\n",
      "True Positives: 760 \n",
      "False Positives: 19 \n",
      "True Negatives: 521 \n",
      "False Negatives: 0\n",
      "Total Samples:................1300\n",
      "True Positives:............... 760\n",
      "False Positives:..............  19\n",
      "True Negatives:............... 521\n",
      "False Negatives:..............   0\n",
      "Accuracy:.....................  98.5%\n",
      "True Positive Rate:........... 100.0%\n",
      "False Positive Rate:..........   3.5%\n",
      "True Negative Rate:...........  96.5%\n",
      "Positive Predictive Value:....  97.6%\n"
     ]
    },
    {
     "data": {
      "application/vnd.plotly.v1+json": {
       "config": {
        "plotlyServerURL": "https://plot.ly"
       },
       "data": [
        {
         "coloraxis": "coloraxis",
         "hovertemplate": "Predicted Label: %{x}<br>Real Label: %{y}<br>Predictions: %{z}<extra></extra>",
         "name": "0",
         "texttemplate": "%{z}",
         "type": "heatmap",
         "x": [
          "Positive",
          "Negative"
         ],
         "xaxis": "x",
         "y": [
          "Positive",
          "Negative"
         ],
         "yaxis": "y",
         "z": [
          [
           760,
           0
          ],
          [
           19,
           521
          ]
         ]
        }
       ],
       "layout": {
        "coloraxis": {
         "colorbar": {
          "title": {
           "text": "Predictions"
          }
         },
         "colorscale": [
          [
           0,
           "rgb(2,4,25)"
          ],
          [
           0.0625,
           "rgb(24,15,41)"
          ],
          [
           0.125,
           "rgb(47,23,57)"
          ],
          [
           0.1875,
           "rgb(71,28,72)"
          ],
          [
           0.25,
           "rgb(97,30,82)"
          ],
          [
           0.3125,
           "rgb(123,30,89)"
          ],
          [
           0.375,
           "rgb(150,27,91)"
          ],
          [
           0.4375,
           "rgb(177,22,88)"
          ],
          [
           0.5,
           "rgb(203,26,79)"
          ],
          [
           0.5625,
           "rgb(223,47,67)"
          ],
          [
           0.625,
           "rgb(236,76,61)"
          ],
          [
           0.6875,
           "rgb(242,107,73)"
          ],
          [
           0.75,
           "rgb(244,135,95)"
          ],
          [
           0.8125,
           "rgb(245,162,122)"
          ],
          [
           0.875,
           "rgb(246,188,153)"
          ],
          [
           0.9375,
           "rgb(247,212,187)"
          ],
          [
           1,
           "rgb(250,234,220)"
          ]
         ]
        },
        "height": 300,
        "margin": {
         "t": 60
        },
        "template": {
         "data": {
          "bar": [
           {
            "error_x": {
             "color": "rgb(36,36,36)"
            },
            "error_y": {
             "color": "rgb(36,36,36)"
            },
            "marker": {
             "line": {
              "color": "rgb(234,234,242)",
              "width": 0.5
             },
             "pattern": {
              "fillmode": "overlay",
              "size": 10,
              "solidity": 0.2
             }
            },
            "type": "bar"
           }
          ],
          "barpolar": [
           {
            "marker": {
             "line": {
              "color": "rgb(234,234,242)",
              "width": 0.5
             },
             "pattern": {
              "fillmode": "overlay",
              "size": 10,
              "solidity": 0.2
             }
            },
            "type": "barpolar"
           }
          ],
          "carpet": [
           {
            "aaxis": {
             "endlinecolor": "rgb(36,36,36)",
             "gridcolor": "white",
             "linecolor": "white",
             "minorgridcolor": "white",
             "startlinecolor": "rgb(36,36,36)"
            },
            "baxis": {
             "endlinecolor": "rgb(36,36,36)",
             "gridcolor": "white",
             "linecolor": "white",
             "minorgridcolor": "white",
             "startlinecolor": "rgb(36,36,36)"
            },
            "type": "carpet"
           }
          ],
          "choropleth": [
           {
            "colorbar": {
             "outlinewidth": 0,
             "tickcolor": "rgb(36,36,36)",
             "ticklen": 8,
             "ticks": "outside",
             "tickwidth": 2
            },
            "type": "choropleth"
           }
          ],
          "contour": [
           {
            "colorbar": {
             "outlinewidth": 0,
             "tickcolor": "rgb(36,36,36)",
             "ticklen": 8,
             "ticks": "outside",
             "tickwidth": 2
            },
            "colorscale": [
             [
              0,
              "rgb(2,4,25)"
             ],
             [
              0.06274509803921569,
              "rgb(24,15,41)"
             ],
             [
              0.12549019607843137,
              "rgb(47,23,57)"
             ],
             [
              0.18823529411764706,
              "rgb(71,28,72)"
             ],
             [
              0.25098039215686274,
              "rgb(97,30,82)"
             ],
             [
              0.3137254901960784,
              "rgb(123,30,89)"
             ],
             [
              0.3764705882352941,
              "rgb(150,27,91)"
             ],
             [
              0.4392156862745098,
              "rgb(177,22,88)"
             ],
             [
              0.5019607843137255,
              "rgb(203,26,79)"
             ],
             [
              0.5647058823529412,
              "rgb(223,47,67)"
             ],
             [
              0.6274509803921569,
              "rgb(236,76,61)"
             ],
             [
              0.6901960784313725,
              "rgb(242,107,73)"
             ],
             [
              0.7529411764705882,
              "rgb(244,135,95)"
             ],
             [
              0.8156862745098039,
              "rgb(245,162,122)"
             ],
             [
              0.8784313725490196,
              "rgb(246,188,153)"
             ],
             [
              0.9411764705882353,
              "rgb(247,212,187)"
             ],
             [
              1,
              "rgb(250,234,220)"
             ]
            ],
            "type": "contour"
           }
          ],
          "contourcarpet": [
           {
            "colorbar": {
             "outlinewidth": 0,
             "tickcolor": "rgb(36,36,36)",
             "ticklen": 8,
             "ticks": "outside",
             "tickwidth": 2
            },
            "type": "contourcarpet"
           }
          ],
          "heatmap": [
           {
            "colorbar": {
             "outlinewidth": 0,
             "tickcolor": "rgb(36,36,36)",
             "ticklen": 8,
             "ticks": "outside",
             "tickwidth": 2
            },
            "colorscale": [
             [
              0,
              "rgb(2,4,25)"
             ],
             [
              0.06274509803921569,
              "rgb(24,15,41)"
             ],
             [
              0.12549019607843137,
              "rgb(47,23,57)"
             ],
             [
              0.18823529411764706,
              "rgb(71,28,72)"
             ],
             [
              0.25098039215686274,
              "rgb(97,30,82)"
             ],
             [
              0.3137254901960784,
              "rgb(123,30,89)"
             ],
             [
              0.3764705882352941,
              "rgb(150,27,91)"
             ],
             [
              0.4392156862745098,
              "rgb(177,22,88)"
             ],
             [
              0.5019607843137255,
              "rgb(203,26,79)"
             ],
             [
              0.5647058823529412,
              "rgb(223,47,67)"
             ],
             [
              0.6274509803921569,
              "rgb(236,76,61)"
             ],
             [
              0.6901960784313725,
              "rgb(242,107,73)"
             ],
             [
              0.7529411764705882,
              "rgb(244,135,95)"
             ],
             [
              0.8156862745098039,
              "rgb(245,162,122)"
             ],
             [
              0.8784313725490196,
              "rgb(246,188,153)"
             ],
             [
              0.9411764705882353,
              "rgb(247,212,187)"
             ],
             [
              1,
              "rgb(250,234,220)"
             ]
            ],
            "type": "heatmap"
           }
          ],
          "heatmapgl": [
           {
            "colorbar": {
             "outlinewidth": 0,
             "tickcolor": "rgb(36,36,36)",
             "ticklen": 8,
             "ticks": "outside",
             "tickwidth": 2
            },
            "colorscale": [
             [
              0,
              "rgb(2,4,25)"
             ],
             [
              0.06274509803921569,
              "rgb(24,15,41)"
             ],
             [
              0.12549019607843137,
              "rgb(47,23,57)"
             ],
             [
              0.18823529411764706,
              "rgb(71,28,72)"
             ],
             [
              0.25098039215686274,
              "rgb(97,30,82)"
             ],
             [
              0.3137254901960784,
              "rgb(123,30,89)"
             ],
             [
              0.3764705882352941,
              "rgb(150,27,91)"
             ],
             [
              0.4392156862745098,
              "rgb(177,22,88)"
             ],
             [
              0.5019607843137255,
              "rgb(203,26,79)"
             ],
             [
              0.5647058823529412,
              "rgb(223,47,67)"
             ],
             [
              0.6274509803921569,
              "rgb(236,76,61)"
             ],
             [
              0.6901960784313725,
              "rgb(242,107,73)"
             ],
             [
              0.7529411764705882,
              "rgb(244,135,95)"
             ],
             [
              0.8156862745098039,
              "rgb(245,162,122)"
             ],
             [
              0.8784313725490196,
              "rgb(246,188,153)"
             ],
             [
              0.9411764705882353,
              "rgb(247,212,187)"
             ],
             [
              1,
              "rgb(250,234,220)"
             ]
            ],
            "type": "heatmapgl"
           }
          ],
          "histogram": [
           {
            "marker": {
             "pattern": {
              "fillmode": "overlay",
              "size": 10,
              "solidity": 0.2
             }
            },
            "type": "histogram"
           }
          ],
          "histogram2d": [
           {
            "colorbar": {
             "outlinewidth": 0,
             "tickcolor": "rgb(36,36,36)",
             "ticklen": 8,
             "ticks": "outside",
             "tickwidth": 2
            },
            "colorscale": [
             [
              0,
              "rgb(2,4,25)"
             ],
             [
              0.06274509803921569,
              "rgb(24,15,41)"
             ],
             [
              0.12549019607843137,
              "rgb(47,23,57)"
             ],
             [
              0.18823529411764706,
              "rgb(71,28,72)"
             ],
             [
              0.25098039215686274,
              "rgb(97,30,82)"
             ],
             [
              0.3137254901960784,
              "rgb(123,30,89)"
             ],
             [
              0.3764705882352941,
              "rgb(150,27,91)"
             ],
             [
              0.4392156862745098,
              "rgb(177,22,88)"
             ],
             [
              0.5019607843137255,
              "rgb(203,26,79)"
             ],
             [
              0.5647058823529412,
              "rgb(223,47,67)"
             ],
             [
              0.6274509803921569,
              "rgb(236,76,61)"
             ],
             [
              0.6901960784313725,
              "rgb(242,107,73)"
             ],
             [
              0.7529411764705882,
              "rgb(244,135,95)"
             ],
             [
              0.8156862745098039,
              "rgb(245,162,122)"
             ],
             [
              0.8784313725490196,
              "rgb(246,188,153)"
             ],
             [
              0.9411764705882353,
              "rgb(247,212,187)"
             ],
             [
              1,
              "rgb(250,234,220)"
             ]
            ],
            "type": "histogram2d"
           }
          ],
          "histogram2dcontour": [
           {
            "colorbar": {
             "outlinewidth": 0,
             "tickcolor": "rgb(36,36,36)",
             "ticklen": 8,
             "ticks": "outside",
             "tickwidth": 2
            },
            "colorscale": [
             [
              0,
              "rgb(2,4,25)"
             ],
             [
              0.06274509803921569,
              "rgb(24,15,41)"
             ],
             [
              0.12549019607843137,
              "rgb(47,23,57)"
             ],
             [
              0.18823529411764706,
              "rgb(71,28,72)"
             ],
             [
              0.25098039215686274,
              "rgb(97,30,82)"
             ],
             [
              0.3137254901960784,
              "rgb(123,30,89)"
             ],
             [
              0.3764705882352941,
              "rgb(150,27,91)"
             ],
             [
              0.4392156862745098,
              "rgb(177,22,88)"
             ],
             [
              0.5019607843137255,
              "rgb(203,26,79)"
             ],
             [
              0.5647058823529412,
              "rgb(223,47,67)"
             ],
             [
              0.6274509803921569,
              "rgb(236,76,61)"
             ],
             [
              0.6901960784313725,
              "rgb(242,107,73)"
             ],
             [
              0.7529411764705882,
              "rgb(244,135,95)"
             ],
             [
              0.8156862745098039,
              "rgb(245,162,122)"
             ],
             [
              0.8784313725490196,
              "rgb(246,188,153)"
             ],
             [
              0.9411764705882353,
              "rgb(247,212,187)"
             ],
             [
              1,
              "rgb(250,234,220)"
             ]
            ],
            "type": "histogram2dcontour"
           }
          ],
          "mesh3d": [
           {
            "colorbar": {
             "outlinewidth": 0,
             "tickcolor": "rgb(36,36,36)",
             "ticklen": 8,
             "ticks": "outside",
             "tickwidth": 2
            },
            "type": "mesh3d"
           }
          ],
          "parcoords": [
           {
            "line": {
             "colorbar": {
              "outlinewidth": 0,
              "tickcolor": "rgb(36,36,36)",
              "ticklen": 8,
              "ticks": "outside",
              "tickwidth": 2
             }
            },
            "type": "parcoords"
           }
          ],
          "pie": [
           {
            "automargin": true,
            "type": "pie"
           }
          ],
          "scatter": [
           {
            "fillpattern": {
             "fillmode": "overlay",
             "size": 10,
             "solidity": 0.2
            },
            "type": "scatter"
           }
          ],
          "scatter3d": [
           {
            "line": {
             "colorbar": {
              "outlinewidth": 0,
              "tickcolor": "rgb(36,36,36)",
              "ticklen": 8,
              "ticks": "outside",
              "tickwidth": 2
             }
            },
            "marker": {
             "colorbar": {
              "outlinewidth": 0,
              "tickcolor": "rgb(36,36,36)",
              "ticklen": 8,
              "ticks": "outside",
              "tickwidth": 2
             }
            },
            "type": "scatter3d"
           }
          ],
          "scattercarpet": [
           {
            "marker": {
             "colorbar": {
              "outlinewidth": 0,
              "tickcolor": "rgb(36,36,36)",
              "ticklen": 8,
              "ticks": "outside",
              "tickwidth": 2
             }
            },
            "type": "scattercarpet"
           }
          ],
          "scattergeo": [
           {
            "marker": {
             "colorbar": {
              "outlinewidth": 0,
              "tickcolor": "rgb(36,36,36)",
              "ticklen": 8,
              "ticks": "outside",
              "tickwidth": 2
             }
            },
            "type": "scattergeo"
           }
          ],
          "scattergl": [
           {
            "marker": {
             "colorbar": {
              "outlinewidth": 0,
              "tickcolor": "rgb(36,36,36)",
              "ticklen": 8,
              "ticks": "outside",
              "tickwidth": 2
             }
            },
            "type": "scattergl"
           }
          ],
          "scattermapbox": [
           {
            "marker": {
             "colorbar": {
              "outlinewidth": 0,
              "tickcolor": "rgb(36,36,36)",
              "ticklen": 8,
              "ticks": "outside",
              "tickwidth": 2
             }
            },
            "type": "scattermapbox"
           }
          ],
          "scatterpolar": [
           {
            "marker": {
             "colorbar": {
              "outlinewidth": 0,
              "tickcolor": "rgb(36,36,36)",
              "ticklen": 8,
              "ticks": "outside",
              "tickwidth": 2
             }
            },
            "type": "scatterpolar"
           }
          ],
          "scatterpolargl": [
           {
            "marker": {
             "colorbar": {
              "outlinewidth": 0,
              "tickcolor": "rgb(36,36,36)",
              "ticklen": 8,
              "ticks": "outside",
              "tickwidth": 2
             }
            },
            "type": "scatterpolargl"
           }
          ],
          "scatterternary": [
           {
            "marker": {
             "colorbar": {
              "outlinewidth": 0,
              "tickcolor": "rgb(36,36,36)",
              "ticklen": 8,
              "ticks": "outside",
              "tickwidth": 2
             }
            },
            "type": "scatterternary"
           }
          ],
          "surface": [
           {
            "colorbar": {
             "outlinewidth": 0,
             "tickcolor": "rgb(36,36,36)",
             "ticklen": 8,
             "ticks": "outside",
             "tickwidth": 2
            },
            "colorscale": [
             [
              0,
              "rgb(2,4,25)"
             ],
             [
              0.06274509803921569,
              "rgb(24,15,41)"
             ],
             [
              0.12549019607843137,
              "rgb(47,23,57)"
             ],
             [
              0.18823529411764706,
              "rgb(71,28,72)"
             ],
             [
              0.25098039215686274,
              "rgb(97,30,82)"
             ],
             [
              0.3137254901960784,
              "rgb(123,30,89)"
             ],
             [
              0.3764705882352941,
              "rgb(150,27,91)"
             ],
             [
              0.4392156862745098,
              "rgb(177,22,88)"
             ],
             [
              0.5019607843137255,
              "rgb(203,26,79)"
             ],
             [
              0.5647058823529412,
              "rgb(223,47,67)"
             ],
             [
              0.6274509803921569,
              "rgb(236,76,61)"
             ],
             [
              0.6901960784313725,
              "rgb(242,107,73)"
             ],
             [
              0.7529411764705882,
              "rgb(244,135,95)"
             ],
             [
              0.8156862745098039,
              "rgb(245,162,122)"
             ],
             [
              0.8784313725490196,
              "rgb(246,188,153)"
             ],
             [
              0.9411764705882353,
              "rgb(247,212,187)"
             ],
             [
              1,
              "rgb(250,234,220)"
             ]
            ],
            "type": "surface"
           }
          ],
          "table": [
           {
            "cells": {
             "fill": {
              "color": "rgb(231,231,240)"
             },
             "line": {
              "color": "white"
             }
            },
            "header": {
             "fill": {
              "color": "rgb(183,183,191)"
             },
             "line": {
              "color": "white"
             }
            },
            "type": "table"
           }
          ]
         },
         "layout": {
          "annotationdefaults": {
           "arrowcolor": "rgb(67,103,167)"
          },
          "autotypenumbers": "strict",
          "coloraxis": {
           "colorbar": {
            "outlinewidth": 0,
            "tickcolor": "rgb(36,36,36)",
            "ticklen": 8,
            "ticks": "outside",
            "tickwidth": 2
           }
          },
          "colorscale": {
           "sequential": [
            [
             0,
             "rgb(2,4,25)"
            ],
            [
             0.06274509803921569,
             "rgb(24,15,41)"
            ],
            [
             0.12549019607843137,
             "rgb(47,23,57)"
            ],
            [
             0.18823529411764706,
             "rgb(71,28,72)"
            ],
            [
             0.25098039215686274,
             "rgb(97,30,82)"
            ],
            [
             0.3137254901960784,
             "rgb(123,30,89)"
            ],
            [
             0.3764705882352941,
             "rgb(150,27,91)"
            ],
            [
             0.4392156862745098,
             "rgb(177,22,88)"
            ],
            [
             0.5019607843137255,
             "rgb(203,26,79)"
            ],
            [
             0.5647058823529412,
             "rgb(223,47,67)"
            ],
            [
             0.6274509803921569,
             "rgb(236,76,61)"
            ],
            [
             0.6901960784313725,
             "rgb(242,107,73)"
            ],
            [
             0.7529411764705882,
             "rgb(244,135,95)"
            ],
            [
             0.8156862745098039,
             "rgb(245,162,122)"
            ],
            [
             0.8784313725490196,
             "rgb(246,188,153)"
            ],
            [
             0.9411764705882353,
             "rgb(247,212,187)"
            ],
            [
             1,
             "rgb(250,234,220)"
            ]
           ],
           "sequentialminus": [
            [
             0,
             "rgb(2,4,25)"
            ],
            [
             0.06274509803921569,
             "rgb(24,15,41)"
            ],
            [
             0.12549019607843137,
             "rgb(47,23,57)"
            ],
            [
             0.18823529411764706,
             "rgb(71,28,72)"
            ],
            [
             0.25098039215686274,
             "rgb(97,30,82)"
            ],
            [
             0.3137254901960784,
             "rgb(123,30,89)"
            ],
            [
             0.3764705882352941,
             "rgb(150,27,91)"
            ],
            [
             0.4392156862745098,
             "rgb(177,22,88)"
            ],
            [
             0.5019607843137255,
             "rgb(203,26,79)"
            ],
            [
             0.5647058823529412,
             "rgb(223,47,67)"
            ],
            [
             0.6274509803921569,
             "rgb(236,76,61)"
            ],
            [
             0.6901960784313725,
             "rgb(242,107,73)"
            ],
            [
             0.7529411764705882,
             "rgb(244,135,95)"
            ],
            [
             0.8156862745098039,
             "rgb(245,162,122)"
            ],
            [
             0.8784313725490196,
             "rgb(246,188,153)"
            ],
            [
             0.9411764705882353,
             "rgb(247,212,187)"
            ],
            [
             1,
             "rgb(250,234,220)"
            ]
           ]
          },
          "colorway": [
           "rgb(76,114,176)",
           "rgb(221,132,82)",
           "rgb(85,168,104)",
           "rgb(196,78,82)",
           "rgb(129,114,179)",
           "rgb(147,120,96)",
           "rgb(218,139,195)",
           "rgb(140,140,140)",
           "rgb(204,185,116)",
           "rgb(100,181,205)"
          ],
          "font": {
           "color": "rgb(36,36,36)"
          },
          "geo": {
           "bgcolor": "white",
           "lakecolor": "white",
           "landcolor": "rgb(234,234,242)",
           "showlakes": true,
           "showland": true,
           "subunitcolor": "white"
          },
          "hoverlabel": {
           "align": "left"
          },
          "hovermode": "closest",
          "paper_bgcolor": "white",
          "plot_bgcolor": "rgb(234,234,242)",
          "polar": {
           "angularaxis": {
            "gridcolor": "white",
            "linecolor": "white",
            "showgrid": true,
            "ticks": ""
           },
           "bgcolor": "rgb(234,234,242)",
           "radialaxis": {
            "gridcolor": "white",
            "linecolor": "white",
            "showgrid": true,
            "ticks": ""
           }
          },
          "scene": {
           "xaxis": {
            "backgroundcolor": "rgb(234,234,242)",
            "gridcolor": "white",
            "gridwidth": 2,
            "linecolor": "white",
            "showbackground": true,
            "showgrid": true,
            "ticks": "",
            "zerolinecolor": "white"
           },
           "yaxis": {
            "backgroundcolor": "rgb(234,234,242)",
            "gridcolor": "white",
            "gridwidth": 2,
            "linecolor": "white",
            "showbackground": true,
            "showgrid": true,
            "ticks": "",
            "zerolinecolor": "white"
           },
           "zaxis": {
            "backgroundcolor": "rgb(234,234,242)",
            "gridcolor": "white",
            "gridwidth": 2,
            "linecolor": "white",
            "showbackground": true,
            "showgrid": true,
            "ticks": "",
            "zerolinecolor": "white"
           }
          },
          "shapedefaults": {
           "fillcolor": "rgb(67,103,167)",
           "line": {
            "width": 0
           },
           "opacity": 0.5
          },
          "ternary": {
           "aaxis": {
            "gridcolor": "white",
            "linecolor": "white",
            "showgrid": true,
            "ticks": ""
           },
           "baxis": {
            "gridcolor": "white",
            "linecolor": "white",
            "showgrid": true,
            "ticks": ""
           },
           "bgcolor": "rgb(234,234,242)",
           "caxis": {
            "gridcolor": "white",
            "linecolor": "white",
            "showgrid": true,
            "ticks": ""
           }
          },
          "xaxis": {
           "automargin": true,
           "gridcolor": "white",
           "linecolor": "white",
           "showgrid": true,
           "ticks": "",
           "title": {
            "standoff": 15
           },
           "zerolinecolor": "white"
          },
          "yaxis": {
           "automargin": true,
           "gridcolor": "white",
           "linecolor": "white",
           "showgrid": true,
           "ticks": "",
           "title": {
            "standoff": 15
           },
           "zerolinecolor": "white"
          }
         }
        },
        "width": 400,
        "xaxis": {
         "anchor": "y",
         "constrain": "domain",
         "domain": [
          0,
          1
         ],
         "scaleanchor": "y",
         "title": {
          "text": "Predicted Label"
         }
        },
        "yaxis": {
         "anchor": "x",
         "autorange": "reversed",
         "constrain": "domain",
         "domain": [
          0,
          1
         ],
         "title": {
          "text": "Real Label"
         }
        }
       }
      }
     },
     "metadata": {},
     "output_type": "display_data"
    }
   ],
   "source": [
    "p = df[df[\"True label\"] == 1].event_idx.value_counts().shape[0]\n",
    "n = df[df[\"True label\"] == 0].event_idx.value_counts().shape[0]\n",
    "print(f\"Fault Events (True): {p} \\nNon Fault Events (False): {n}\")\n",
    "\n",
    "\n",
    "def test_result_count(\n",
    "    df: pd.DataFrame, expected_result: str, Label: int, includes=True\n",
    ") -> int:\n",
    "    if includes:\n",
    "        test_result_df = df[\n",
    "            (df[\"Result\"] == expected_result) & (df[\"True label\"] == Label)\n",
    "        ]\n",
    "    else:\n",
    "        test_result_df = df[\n",
    "            (df[\"Result\"] != expected_result) & (df[\"True label\"] == Label)\n",
    "        ]\n",
    "\n",
    "    test_result_count_per_event = test_result_df[\"event_idx\"].value_counts()\n",
    "    return test_result_count_per_event.shape[0]\n",
    "\n",
    "\n",
    "tp = test_result_count(df, \"TP\", 1)\n",
    "fp = test_result_count(df, \"FP\", 0)\n",
    "tn = n - fp\n",
    "fn = p - tp\n",
    "print(\n",
    "    f\"True Positives: {tp} \\nFalse Positives: {fp} \\nTrue Negatives: {tn} \\nFalse Negatives: {fn}\"\n",
    ")\n",
    "\n",
    "metrics = de.conf_matrix_metrics(np.array([tp, fp, tn, fn, tp + fn]))\n",
    "de.print_metrics(metrics)\n",
    "de.plot_confusion_matrix(metrics)"
   ]
  },
  {
   "cell_type": "code",
   "execution_count": 47,
   "metadata": {},
   "outputs": [
    {
     "name": "stdout",
     "output_type": "stream",
     "text": [
      "0.0\n",
      "0.01651462\n",
      "0.017\n",
      "0.49966756\n",
      "0.0\n",
      "0.880861\n",
      "0.881\n",
      "range(0, 6)\n"
     ]
    }
   ],
   "source": [
    "print(false_negative[\"Pred probability\"].apply(np.floor).min())\n",
    "print(false_negative[\"Pred probability\"].min())\n",
    "print(false_negative[\"Pred probability\"].round(3).min())\n",
    "print(false_negative[\"Pred probability\"].max())\n",
    "print(false_positive[\"Pred probability\"].apply(np.floor).min())\n",
    "print(false_positive[\"Pred probability\"].max())\n",
    "print(false_positive[\"Pred probability\"].round(3).max())\n",
    "\n",
    "min_range = range(6) if (false_negative[\"Pred probability\"].min() < 0.5) else range(5, 11)\n",
    "print(min_range)"
   ]
  },
  {
   "cell_type": "code",
   "execution_count": 58,
   "metadata": {},
   "outputs": [
    {
     "name": "stdout",
     "output_type": "stream",
     "text": [
      "FALSE POSITIVE\n",
      "Total \n",
      "       window idx  event_idx  Pred probability  Pred label  True label Result\n",
      "1964           42         31            51.67%           1           0     FP\n",
      "1965           43         31            51.66%           1           0     FP\n",
      "7542           40        121            50.17%           1           0     FP\n",
      "7543           41        121            52.19%           1           0     FP\n",
      "7544           42        121            50.68%           1           0     FP\n",
      "7556           54        121            51.81%           1           0     FP\n",
      "7557           55        121            83.67%           1           0     FP\n",
      "7558           56        121            86.55%           1           0     FP\n",
      "7559           57        121            83.02%           1           0     FP\n",
      "7560           58        121            78.20%           1           0     FP\n",
      "7561           59        121            77.77%           1           0     FP\n",
      "7562           60        121            77.98%           1           0     FP\n",
      "7563           61        121            79.40%           1           0     FP\n",
      "11832          52        190            51.80%           1           0     FP\n",
      "11833          53        190            69.00%           1           0     FP\n",
      "11834          54        190            64.51%           1           0     FP\n",
      "11835          55        190            62.41%           1           0     FP\n",
      "11836          56        190            60.93%           1           0     FP\n",
      "11837          57        190            62.01%           1           0     FP\n",
      "11838          58        190            61.48%           1           0     FP\n",
      "11839          59        190            55.25%           1           0     FP\n",
      "17649          41        284            50.76%           1           0     FP\n",
      "17664          56        284            74.03%           1           0     FP\n",
      "17665          57        284            77.86%           1           0     FP\n",
      "17666          58        284            74.99%           1           0     FP\n",
      "17667          59        284            71.10%           1           0     FP\n",
      "17668          60        284            69.52%           1           0     FP\n",
      "17669          61        284            62.55%           1           0     FP\n",
      "19820          42        319            57.06%           1           0     FP\n",
      "19821          43        319            51.94%           1           0     FP\n",
      "23642          20        381            58.12%           1           0     FP\n",
      "23643          21        381            65.26%           1           0     FP\n",
      "23644          22        381            61.36%           1           0     FP\n",
      "26142          40        421            50.00%           1           0     FP\n",
      "26143          41        421            52.53%           1           0     FP\n",
      "26144          42        421            50.44%           1           0     FP\n",
      "26157          55        421            84.37%           1           0     FP\n",
      "26158          56        421            88.09%           1           0     FP\n",
      "26159          57        421            84.76%           1           0     FP\n",
      "26160          58        421            80.60%           1           0     FP\n",
      "26161          59        421            79.11%           1           0     FP\n",
      "26162          60        421            81.25%           1           0     FP\n",
      "26163          61        421            83.27%           1           0     FP\n",
      "34768          48        560            53.09%           1           0     FP\n",
      "34769          49        560            59.62%           1           0     FP\n",
      "34770          50        560            56.95%           1           0     FP\n",
      "34771          51        560            51.00%           1           0     FP\n",
      "38310          56        617            75.34%           1           0     FP\n",
      "38311          57        617            72.39%           1           0     FP\n",
      "38312          58        617            68.65%           1           0     FP\n",
      "38313          59        617            67.81%           1           0     FP\n",
      "38314          60        617            68.65%           1           0     FP\n",
      "38315          61        617            63.07%           1           0     FP\n",
      "42326          42        682            65.27%           1           0     FP\n",
      "42327          43        682            65.11%           1           0     FP\n",
      "42328          44        682            61.93%           1           0     FP\n",
      "42329          45        682            58.21%           1           0     FP\n",
      "42330          46        682            56.04%           1           0     FP\n",
      "42331          47        682            54.63%           1           0     FP\n",
      "49031          51        790            68.73%           1           0     FP\n",
      "49032          52        790            69.35%           1           0     FP\n",
      "49033          53        790            63.28%           1           0     FP\n",
      "49034          54        790            56.71%           1           0     FP\n",
      "55971          47        902            53.82%           1           0     FP\n",
      "55972          48        902            52.62%           1           0     FP\n",
      "62371          61       1005            56.05%           1           0     FP\n",
      "63854          56       1029            65.22%           1           0     FP\n",
      "63855          57       1029            79.30%           1           0     FP\n",
      "63856          58       1029            78.27%           1           0     FP\n",
      "63857          59       1029            74.91%           1           0     FP\n",
      "63858          60       1029            72.10%           1           0     FP\n",
      "63859          61       1029            61.16%           1           0     FP\n",
      "68117          41       1098            52.04%           1           0     FP\n",
      "68118          42       1098            54.76%           1           0     FP\n",
      "68119          43       1098            51.15%           1           0     FP\n",
      "68131          55       1098            71.88%           1           0     FP\n",
      "68132          56       1098            68.64%           1           0     FP\n",
      "68133          57       1098            66.32%           1           0     FP\n",
      "68134          58       1098            64.16%           1           0     FP\n",
      "68135          59       1098            63.65%           1           0     FP\n",
      "68136          60       1098            65.59%           1           0     FP\n",
      "68137          61       1098            66.13%           1           0     FP\n",
      "68768          10       1109            62.66%           1           0     FP\n",
      "68769          11       1109            62.62%           1           0     FP\n",
      "68770          12       1109            60.18%           1           0     FP\n",
      "68771          13       1109            54.73%           1           0     FP\n",
      "68772          14       1109            50.93%           1           0     FP\n",
      "68817          59       1109            52.22%           1           0     FP\n",
      "68818          60       1109            53.12%           1           0     FP\n",
      "68819          61       1109            50.11%           1           0     FP\n",
      "71734           0       1157            62.68%           1           0     FP\n",
      "71735           1       1157            63.88%           1           0     FP\n",
      "71736           2       1157            66.18%           1           0     FP\n",
      "71737           3       1157            69.72%           1           0     FP\n",
      "71738           4       1157            71.98%           1           0     FP\n",
      "71739           5       1157            71.22%           1           0     FP\n",
      "71740           6       1157            73.79%           1           0     FP\n",
      "71741           7       1157            73.52%           1           0     FP\n",
      "71742           8       1157            63.85%           1           0     FP\n",
      "71743           9       1157            52.26%           1           0     FP\n",
      "71768          34       1157            53.15%           1           0     FP\n",
      "71769          35       1157            56.07%           1           0     FP\n",
      "71770          36       1157            53.87%           1           0     FP\n",
      "71775          41       1157            55.77%           1           0     FP\n",
      "71776          42       1157            65.83%           1           0     FP\n",
      "71777          43       1157            69.25%           1           0     FP\n",
      "71778          44       1157            68.51%           1           0     FP\n",
      "71779          45       1157            66.62%           1           0     FP\n",
      "71780          46       1157            64.65%           1           0     FP\n",
      "71781          47       1157            63.33%           1           0     FP\n",
      "71782          48       1157            61.38%           1           0     FP\n",
      "71783          49       1157            60.17%           1           0     FP\n",
      "71784          50       1157            53.71%           1           0     FP\n",
      "71793          59       1157            51.78%           1           0     FP\n",
      "71794          60       1157            54.43%           1           0     FP\n",
      "71795          61       1157            54.49%           1           0     FP\n",
      "76391           7       1232            62.88%           1           0     FP\n",
      "76392           8       1232            71.99%           1           0     FP\n",
      "76393           9       1232            64.46%           1           0     FP\n",
      "76394          10       1232            59.18%           1           0     FP\n",
      "76395          11       1232            54.97%           1           0     FP\n",
      "76396          12       1232            51.50%           1           0     FP\n",
      "78520          28       1266            54.50%           1           0     FP\n",
      "78521          29       1266            71.96%           1           0     FP\n",
      "78522          30       1266            71.30%           1           0     FP\n",
      "78523          31       1266            67.17%           1           0     FP\n",
      "78524          32       1266            63.37%           1           0     FP\n",
      "78525          33       1266            55.62%           1           0     FP\n"
     ]
    },
    {
     "data": {
      "image/png": "[encoded data removed]",
      "text/plain": [
       "<Figure size 640x480 with 1 Axes>"
      ]
     },
     "metadata": {},
     "output_type": "display_data"
    },
    {
     "data": {
      "image/png": "[encoded data removed]",
      "text/plain": [
       "<Figure size 640x480 with 1 Axes>"
      ]
     },
     "metadata": {},
     "output_type": "display_data"
    },
    {
     "name": "stdout",
     "output_type": "stream",
     "text": [
      "LIMITS RANGE range(5, 11)\n"
     ]
    },
    {
     "data": {
      "image/png": "[encoded data removed]",
      "text/plain": [
       "<Figure size 640x480 with 1 Axes>"
      ]
     },
     "metadata": {},
     "output_type": "display_data"
    },
    {
     "name": "stdout",
     "output_type": "stream",
     "text": [
      "FALSE NEGATIVES\n",
      "Total \n",
      "       window idx  event_idx  Pred probability  Pred label  True label Result\n",
      "810             4         13            34.14%           0           1     FN\n",
      "811             5         13            35.97%           0           1     FN\n",
      "812             6         13            40.86%           0           1     FN\n",
      "813             7         13            40.88%           0           1     FN\n",
      "814             8         13            46.60%           0           1     FN\n",
      "868             0         14            45.72%           0           1     FN\n",
      "869             1         14            18.74%           0           1     FN\n",
      "870             2         14            49.76%           0           1     FN\n",
      "1116            0         18             5.36%           0           1     FN\n",
      "1117            1         18            11.25%           0           1     FN\n",
      "1118            2         18            23.23%           0           1     FN\n",
      "1142           26         18            41.26%           0           1     FN\n",
      "1143           27         18            37.66%           0           1     FN\n",
      "1145           29         18            48.77%           0           1     FN\n",
      "1146           30         18            44.92%           0           1     FN\n",
      "1984            0         32             7.49%           0           1     FN\n",
      "1985            1         32            10.72%           0           1     FN\n",
      "1986            2         32            18.87%           0           1     FN\n",
      "1987            3         32            24.46%           0           1     FN\n",
      "1988            4         32            27.35%           0           1     FN\n",
      "1989            5         32            35.04%           0           1     FN\n",
      "1990            6         32            49.90%           0           1     FN\n",
      "2170            0         35            28.96%           0           1     FN\n",
      "2171            1         35            31.61%           0           1     FN\n",
      "2172            2         35            44.49%           0           1     FN\n",
      "2173            3         35            42.19%           0           1     FN\n",
      "2174            4         35            45.72%           0           1     FN\n",
      "2418            0         39            19.69%           0           1     FN\n",
      "2419            1         39            46.44%           0           1     FN\n",
      "2424            6         39            44.81%           0           1     FN\n",
      "2425            7         39            37.72%           0           1     FN\n",
      "2728            0         44            13.92%           0           1     FN\n",
      "2729            1         44            28.71%           0           1     FN\n",
      "2732            4         44            46.28%           0           1     FN\n",
      "2733            5         44            48.88%           0           1     FN\n",
      "3658            0         59            10.23%           0           1     FN\n",
      "3659            1         59            13.60%           0           1     FN\n",
      "3660            2         59            17.56%           0           1     FN\n",
      "3661            3         59            14.21%           0           1     FN\n",
      "3662            4         59            11.47%           0           1     FN\n",
      "3663            5         59            11.03%           0           1     FN\n",
      "3664            6         59            12.87%           0           1     FN\n",
      "3665            7         59            14.78%           0           1     FN\n",
      "3666            8         59            21.61%           0           1     FN\n",
      "3667            9         59            33.88%           0           1     FN\n",
      "3668           10         59            49.14%           0           1     FN\n",
      "3782            0         61            27.95%           0           1     FN\n",
      "3783            1         61            27.14%           0           1     FN\n",
      "3784            2         61            37.92%           0           1     FN\n",
      "4092            0         66            20.83%           0           1     FN\n",
      "4093            1         66            24.30%           0           1     FN\n",
      "4094            2         66            44.44%           0           1     FN\n",
      "4095            3         66            47.72%           0           1     FN\n",
      "4154            0         67            25.59%           0           1     FN\n",
      "4155            1         67            25.48%           0           1     FN\n",
      "4156            2         67            45.65%           0           1     FN\n",
      "4216            0         68            26.55%           0           1     FN\n",
      "4464            0         72            16.59%           0           1     FN\n",
      "4465            1         72            13.90%           0           1     FN\n",
      "4466            2         72            21.37%           0           1     FN\n",
      "4467            3         72            12.21%           0           1     FN\n",
      "4468            4         72            18.12%           0           1     FN\n",
      "4469            5         72            13.67%           0           1     FN\n",
      "4470            6         72            16.83%           0           1     FN\n",
      "4471            7         72            15.60%           0           1     FN\n",
      "4472            8         72            17.33%           0           1     FN\n",
      "4473            9         72            22.33%           0           1     FN\n",
      "4474           10         72            24.77%           0           1     FN\n",
      "4475           11         72            43.17%           0           1     FN\n",
      "4774            0         77             8.00%           0           1     FN\n",
      "4775            1         77             8.86%           0           1     FN\n",
      "4776            2         77            44.39%           0           1     FN\n",
      "5022            0         81             5.96%           0           1     FN\n",
      "5023            1         81            13.17%           0           1     FN\n",
      "5024            2         81            33.50%           0           1     FN\n",
      "5049           27         81            37.29%           0           1     FN\n",
      "5050           28         81            48.65%           0           1     FN\n",
      "5052           30         81            48.02%           0           1     FN\n",
      "5084            0         82            41.64%           0           1     FN\n",
      "5085            1         82            29.38%           0           1     FN\n",
      "5086            2         82            33.77%           0           1     FN\n",
      "5087            3         82            32.10%           0           1     FN\n",
      "5088            4         82            43.25%           0           1     FN\n",
      "5091            7         82            48.31%           0           1     FN\n",
      "5271            1         85            17.66%           0           1     FN\n",
      "5642            0         91            45.93%           0           1     FN\n",
      "6014            0         97            28.77%           0           1     FN\n",
      "6015            1         97            25.51%           0           1     FN\n",
      "6016            2         97            39.89%           0           1     FN\n",
      "6324            0        102            18.54%           0           1     FN\n",
      "6325            1        102            14.81%           0           1     FN\n",
      "6326            2        102            14.48%           0           1     FN\n",
      "6327            3        102            18.15%           0           1     FN\n",
      "6328            4        102            18.79%           0           1     FN\n",
      "6329            5        102            20.56%           0           1     FN\n",
      "6330            6        102            21.04%           0           1     FN\n",
      "6331            7        102            20.28%           0           1     FN\n",
      "6332            8        102            19.14%           0           1     FN\n",
      "6333            9        102            18.79%           0           1     FN\n",
      "6334           10        102            17.41%           0           1     FN\n",
      "6335           11        102            17.72%           0           1     FN\n",
      "6336           12        102            16.77%           0           1     FN\n",
      "6337           13        102            16.95%           0           1     FN\n",
      "6338           14        102            17.91%           0           1     FN\n",
      "6339           15        102            19.48%           0           1     FN\n",
      "6340           16        102            22.48%           0           1     FN\n",
      "6341           17        102            32.29%           0           1     FN\n",
      "6696            0        108            32.82%           0           1     FN\n",
      "6697            1        108            24.94%           0           1     FN\n",
      "6698            2        108            46.10%           0           1     FN\n",
      "6699            3        108            47.66%           0           1     FN\n",
      "6712           16        108            45.51%           0           1     FN\n",
      "6714           18        108            38.38%           0           1     FN\n",
      "6746           50        108            46.63%           0           1     FN\n",
      "6944            0        112            43.30%           0           1     FN\n",
      "7874            0        127            29.20%           0           1     FN\n",
      "7875            1        127            46.51%           0           1     FN\n",
      "8060            0        130            25.20%           0           1     FN\n",
      "8061            1        130            24.59%           0           1     FN\n",
      "8116           56        130            35.09%           0           1     FN\n",
      "8117           57        130            33.37%           0           1     FN\n",
      "8118           58        130            36.83%           0           1     FN\n",
      "8184            0        132             2.64%           0           1     FN\n",
      "8185            1        132             6.11%           0           1     FN\n",
      "8186            2        132             7.65%           0           1     FN\n",
      "8187            3        132            15.12%           0           1     FN\n",
      "8188            4        132            16.05%           0           1     FN\n",
      "8189            5        132            14.52%           0           1     FN\n",
      "8190            6        132            18.02%           0           1     FN\n",
      "8191            7        132            21.85%           0           1     FN\n",
      "8192            8        132            18.43%           0           1     FN\n",
      "8193            9        132            28.35%           0           1     FN\n",
      "8194           10        132            26.81%           0           1     FN\n",
      "8195           11        132            24.00%           0           1     FN\n",
      "8196           12        132            24.21%           0           1     FN\n",
      "8197           13        132            23.58%           0           1     FN\n",
      "8198           14        132            23.97%           0           1     FN\n",
      "8199           15        132            23.96%           0           1     FN\n",
      "8200           16        132            23.41%           0           1     FN\n",
      "8201           17        132            23.55%           0           1     FN\n",
      "8202           18        132            26.45%           0           1     FN\n",
      "8203           19        132            25.08%           0           1     FN\n",
      "8204           20        132            28.27%           0           1     FN\n",
      "8205           21        132            30.24%           0           1     FN\n",
      "8206           22        132            36.22%           0           1     FN\n",
      "8207           23        132            46.86%           0           1     FN\n",
      "8680            0        140            21.17%           0           1     FN\n",
      "8681            1        140            25.65%           0           1     FN\n",
      "8742            0        141            13.19%           0           1     FN\n",
      "8743            1        141            38.72%           0           1     FN\n",
      "8866            0        143            13.88%           0           1     FN\n",
      "8867            1        143            16.18%           0           1     FN\n",
      "9736            2        157            38.66%           0           1     FN\n",
      "9737            3        157            36.88%           0           1     FN\n",
      "10044           0        162            24.57%           0           1     FN\n",
      "10045           1        162            23.98%           0           1     FN\n",
      "10046           2        162            32.12%           0           1     FN\n",
      "10047           3        162            29.26%           0           1     FN\n",
      "10048           4        162            20.88%           0           1     FN\n",
      "10049           5        162            12.73%           0           1     FN\n",
      "10050           6        162            22.15%           0           1     FN\n",
      "10051           7        162            36.06%           0           1     FN\n",
      "10355           1        167            46.93%           0           1     FN\n",
      "10356           2        167            29.35%           0           1     FN\n",
      "10357           3        167            34.51%           0           1     FN\n",
      "10540           0        170            14.44%           0           1     FN\n",
      "10541           1        170            19.89%           0           1     FN\n",
      "10542           2        170            31.41%           0           1     FN\n",
      "10543           3        170            44.46%           0           1     FN\n",
      "10544           4        170            43.64%           0           1     FN\n",
      "10576          36        170            38.01%           0           1     FN\n",
      "10602           0        171            44.77%           0           1     FN\n",
      "10608           6        171            40.41%           0           1     FN\n",
      "10610           8        171            44.80%           0           1     FN\n",
      "10611           9        171            32.40%           0           1     FN\n",
      "10612          10        171            31.11%           0           1     FN\n",
      "10613          11        171            27.23%           0           1     FN\n",
      "10614          12        171            27.94%           0           1     FN\n",
      "10615          13        171            28.49%           0           1     FN\n",
      "10850           0        175            29.15%           0           1     FN\n",
      "10851           1        175            22.29%           0           1     FN\n",
      "10852           2        175            20.72%           0           1     FN\n",
      "10853           3        175            40.05%           0           1     FN\n",
      "11222           0        181            36.21%           0           1     FN\n",
      "11346           0        183            43.88%           0           1     FN\n",
      "11518          48        185            41.15%           0           1     FN\n",
      "11519          49        185            25.60%           0           1     FN\n",
      "11520          50        185            16.12%           0           1     FN\n",
      "11521          51        185             9.85%           0           1     FN\n",
      "11522          52        185             4.97%           0           1     FN\n",
      "11523          53        185             3.13%           0           1     FN\n",
      "11524          54        185             2.25%           0           1     FN\n",
      "11525          55        185             2.47%           0           1     FN\n",
      "11526          56        185             3.82%           0           1     FN\n",
      "11527          57        185             6.14%           0           1     FN\n",
      "11528          58        185            11.48%           0           1     FN\n",
      "11529          59        185            19.58%           0           1     FN\n",
      "11530          60        185            31.75%           0           1     FN\n",
      "11531          61        185            40.84%           0           1     FN\n",
      "11904           0        192            43.67%           0           1     FN\n",
      "13454           0        217             7.55%           0           1     FN\n",
      "13455           1        217             7.12%           0           1     FN\n",
      "13456           2        217             6.90%           0           1     FN\n",
      "13457           3        217             6.30%           0           1     FN\n",
      "13458           4        217            13.02%           0           1     FN\n",
      "13459           5        217            15.43%           0           1     FN\n",
      "13460           6        217            29.01%           0           1     FN\n",
      "13888           0        224            44.02%           0           1     FN\n",
      "14136           0        228             9.32%           0           1     FN\n",
      "14137           1        228             9.84%           0           1     FN\n",
      "14138           2        228            10.22%           0           1     FN\n",
      "14139           3        228            13.43%           0           1     FN\n",
      "14140           4        228            21.63%           0           1     FN\n",
      "14141           5        228            33.15%           0           1     FN\n",
      "14142           6        228            43.75%           0           1     FN\n",
      "14570           0        235            15.14%           0           1     FN\n",
      "14571           1        235            27.98%           0           1     FN\n",
      "14572           2        235            45.81%           0           1     FN\n",
      "14592          22        235            46.55%           0           1     FN\n",
      "14756           0        238            17.12%           0           1     FN\n",
      "14757           1        238            18.92%           0           1     FN\n",
      "14758           2        238            18.70%           0           1     FN\n",
      "14759           3        238            43.76%           0           1     FN\n",
      "14760           4        238            49.28%           0           1     FN\n",
      "14942           0        241            16.20%           0           1     FN\n",
      "14943           1        241            17.79%           0           1     FN\n",
      "14944           2        241            14.43%           0           1     FN\n",
      "14945           3        241            25.76%           0           1     FN\n",
      "14946           4        241            19.55%           0           1     FN\n",
      "14947           5        241            36.03%           0           1     FN\n",
      "14948           6        241            35.65%           0           1     FN\n",
      "14949           7        241            42.41%           0           1     FN\n",
      "14950           8        241            42.54%           0           1     FN\n",
      "14951           9        241            42.65%           0           1     FN\n",
      "14952          10        241            48.97%           0           1     FN\n",
      "14953          11        241            49.83%           0           1     FN\n",
      "14955          13        241            48.29%           0           1     FN\n",
      "14956          14        241            39.26%           0           1     FN\n",
      "14957          15        241            46.91%           0           1     FN\n",
      "14958          16        241            34.33%           0           1     FN\n",
      "14959          17        241            49.03%           0           1     FN\n",
      "14960          18        241            30.83%           0           1     FN\n",
      "14961          19        241            29.33%           0           1     FN\n",
      "14963          21        241            35.69%           0           1     FN\n",
      "15934           0        257            42.79%           0           1     FN\n",
      "15996           0        258            14.88%           0           1     FN\n",
      "15997           1        258            18.69%           0           1     FN\n",
      "15998           2        258            25.16%           0           1     FN\n",
      "15999           3        258            28.95%           0           1     FN\n",
      "16000           4        258            32.08%           0           1     FN\n",
      "16001           5        258            33.43%           0           1     FN\n",
      "16002           6        258            34.59%           0           1     FN\n",
      "16003           7        258            35.56%           0           1     FN\n",
      "16004           8        258            36.80%           0           1     FN\n",
      "16005           9        258            38.28%           0           1     FN\n",
      "16006          10        258            42.40%           0           1     FN\n",
      "16007          11        258            49.00%           0           1     FN\n",
      "16058           0        259            23.10%           0           1     FN\n",
      "16059           1        259            29.97%           0           1     FN\n",
      "16084          26        259            49.08%           0           1     FN\n",
      "16430           0        265            39.72%           0           1     FN\n",
      "16432           2        265            49.49%           0           1     FN\n",
      "16740           0        270            37.00%           0           1     FN\n",
      "16864           0        272            38.07%           0           1     FN\n",
      "16865           1        272            44.65%           0           1     FN\n",
      "17175           1        277            24.08%           0           1     FN\n",
      "17176           2        277             7.44%           0           1     FN\n",
      "17177           3        277            30.01%           0           1     FN\n",
      "17360           0        280            36.74%           0           1     FN\n",
      "17546           0        283            22.78%           0           1     FN\n",
      "17547           1        283            20.58%           0           1     FN\n",
      "17670           0        285            14.55%           0           1     FN\n",
      "17671           1        285            16.79%           0           1     FN\n",
      "17672           2        285            18.25%           0           1     FN\n",
      "17673           3        285            20.77%           0           1     FN\n",
      "17674           4        285            18.82%           0           1     FN\n",
      "17675           5        285            17.33%           0           1     FN\n",
      "17676           6        285            17.47%           0           1     FN\n",
      "17677           7        285            19.58%           0           1     FN\n",
      "17678           8        285            20.64%           0           1     FN\n",
      "17679           9        285            21.53%           0           1     FN\n",
      "17680          10        285            21.32%           0           1     FN\n",
      "17681          11        285            21.11%           0           1     FN\n",
      "17682          12        285            19.69%           0           1     FN\n",
      "17683          13        285            19.07%           0           1     FN\n",
      "17684          14        285            18.43%           0           1     FN\n",
      "17685          15        285            17.30%           0           1     FN\n",
      "17686          16        285            17.34%           0           1     FN\n",
      "17687          17        285            16.10%           0           1     FN\n",
      "17688          18        285            17.03%           0           1     FN\n",
      "17689          19        285            16.24%           0           1     FN\n",
      "17690          20        285            17.63%           0           1     FN\n",
      "17691          21        285            19.27%           0           1     FN\n",
      "17692          22        285            23.40%           0           1     FN\n",
      "17693          23        285            34.35%           0           1     FN\n",
      "17980           0        290            48.93%           0           1     FN\n",
      "17981           1        290            21.04%           0           1     FN\n",
      "17982           2        290            29.34%           0           1     FN\n",
      "18290           0        295            27.03%           0           1     FN\n",
      "18291           1        295            22.77%           0           1     FN\n",
      "18292           2        295            27.16%           0           1     FN\n",
      "18293           3        295            34.71%           0           1     FN\n",
      "18294           4        295            22.49%           0           1     FN\n",
      "18295           5        295            21.74%           0           1     FN\n",
      "18296           6        295            22.01%           0           1     FN\n",
      "18297           7        295            24.88%           0           1     FN\n",
      "18298           8        295            22.34%           0           1     FN\n",
      "18299           9        295            21.25%           0           1     FN\n",
      "18300          10        295            18.80%           0           1     FN\n",
      "18301          11        295            18.72%           0           1     FN\n",
      "18302          12        295            16.78%           0           1     FN\n",
      "18303          13        295            17.40%           0           1     FN\n",
      "18304          14        295            19.02%           0           1     FN\n",
      "18305          15        295            24.07%           0           1     FN\n",
      "18306          16        295            34.43%           0           1     FN\n",
      "18463          49        297            44.93%           0           1     FN\n",
      "18464          50        297            36.47%           0           1     FN\n",
      "18465          51        297            30.19%           0           1     FN\n",
      "18466          52        297            18.26%           0           1     FN\n",
      "18467          53        297             8.51%           0           1     FN\n",
      "18468          54        297             3.57%           0           1     FN\n",
      "18469          55        297             1.86%           0           1     FN\n",
      "18470          56        297             1.77%           0           1     FN\n",
      "18471          57        297             2.19%           0           1     FN\n",
      "18472          58        297             2.65%           0           1     FN\n",
      "18473          59        297             3.24%           0           1     FN\n",
      "18474          60        297             3.64%           0           1     FN\n",
      "18475          61        297             4.95%           0           1     FN\n",
      "18724           0        302            36.15%           0           1     FN\n",
      "18728           4        302            40.99%           0           1     FN\n",
      "18729           5        302            39.00%           0           1     FN\n",
      "18730           6        302            34.87%           0           1     FN\n",
      "18731           7        302            44.27%           0           1     FN\n",
      "18786           0        303            48.93%           0           1     FN\n",
      "19282           0        311             8.91%           0           1     FN\n",
      "19283           1        311            11.62%           0           1     FN\n",
      "19284           2        311            38.16%           0           1     FN\n",
      "19567          37        315            49.82%           0           1     FN\n",
      "20461           1        330            49.27%           0           1     FN\n",
      "20462           2        330            47.86%           0           1     FN\n",
      "20464           4        330            48.74%           0           1     FN\n",
      "20466           6        330            45.81%           0           1     FN\n",
      "20467           7        330            43.50%           0           1     FN\n",
      "20475          15        330            39.63%           0           1     FN\n",
      "20476          16        330            27.33%           0           1     FN\n",
      "20477          17        330            23.66%           0           1     FN\n",
      "20478          18        330            16.99%           0           1     FN\n",
      "20479          19        330             8.05%           0           1     FN\n",
      "20480          20        330             7.15%           0           1     FN\n",
      "20481          21        330            28.90%           0           1     FN\n",
      "20522           0        331            13.84%           0           1     FN\n",
      "20523           1        331            14.85%           0           1     FN\n",
      "20524           2        331            15.16%           0           1     FN\n",
      "20525           3        331            15.06%           0           1     FN\n",
      "20526           4        331            13.11%           0           1     FN\n",
      "20527           5        331            10.82%           0           1     FN\n",
      "20528           6        331            14.39%           0           1     FN\n",
      "20529           7        331            19.85%           0           1     FN\n",
      "20530           8        331            29.49%           0           1     FN\n",
      "21080           0        340            26.98%           0           1     FN\n",
      "21266           0        343            15.49%           0           1     FN\n",
      "21267           1        343            14.25%           0           1     FN\n",
      "21268           2        343            28.54%           0           1     FN\n",
      "21269           3        343            32.73%           0           1     FN\n",
      "21527          13        347            44.29%           0           1     FN\n",
      "21528          14        347            24.13%           0           1     FN\n",
      "21529          15        347             9.58%           0           1     FN\n",
      "21530          16        347             5.30%           0           1     FN\n",
      "21531          17        347             2.94%           0           1     FN\n",
      "21532          18        347             2.82%           0           1     FN\n",
      "21533          19        347             5.88%           0           1     FN\n",
      "21534          20        347            15.43%           0           1     FN\n",
      "21535          21        347            31.13%           0           1     FN\n",
      "21536          22        347            47.96%           0           1     FN\n",
      "21638           0        349            22.74%           0           1     FN\n",
      "21639           1        349            16.71%           0           1     FN\n",
      "21640           2        349            19.38%           0           1     FN\n",
      "21641           3        349            26.71%           0           1     FN\n",
      "21642           4        349            23.53%           0           1     FN\n",
      "21643           5        349            27.77%           0           1     FN\n",
      "21644           6        349            30.80%           0           1     FN\n",
      "21645           7        349            31.28%           0           1     FN\n",
      "21646           8        349            33.02%           0           1     FN\n",
      "21647           9        349            36.91%           0           1     FN\n",
      "21648          10        349            39.61%           0           1     FN\n",
      "21649          11        349            47.41%           0           1     FN\n",
      "21948           0        354            12.91%           0           1     FN\n",
      "21949           1        354            12.45%           0           1     FN\n",
      "21950           2        354            13.15%           0           1     FN\n",
      "21951           3        354            11.43%           0           1     FN\n",
      "21952           4        354            14.54%           0           1     FN\n",
      "21953           5        354            18.61%           0           1     FN\n",
      "21954           6        354            24.64%           0           1     FN\n",
      "21955           7        354            21.66%           0           1     FN\n",
      "21956           8        354            36.55%           0           1     FN\n",
      "21984          36        354            48.14%           0           1     FN\n",
      "21985          37        354            40.36%           0           1     FN\n",
      "21986          38        354            48.39%           0           1     FN\n",
      "22134           0        357            40.91%           0           1     FN\n",
      "22294          36        359            43.96%           0           1     FN\n",
      "22295          37        359            34.57%           0           1     FN\n",
      "22296          38        359            27.45%           0           1     FN\n",
      "22297          39        359            28.81%           0           1     FN\n",
      "22298          40        359            32.00%           0           1     FN\n",
      "22299          41        359            36.66%           0           1     FN\n",
      "22300          42        359            39.51%           0           1     FN\n",
      "22301          43        359            40.43%           0           1     FN\n",
      "22302          44        359            39.15%           0           1     FN\n",
      "22303          45        359            39.24%           0           1     FN\n",
      "22304          46        359            37.89%           0           1     FN\n",
      "22305          47        359            36.52%           0           1     FN\n",
      "22306          48        359            35.06%           0           1     FN\n",
      "22307          49        359            36.26%           0           1     FN\n",
      "22308          50        359            43.36%           0           1     FN\n",
      "22940           0        370            19.79%           0           1     FN\n",
      "22941           1        370            19.51%           0           1     FN\n",
      "22942           2        370            24.76%           0           1     FN\n",
      "22943           3        370            39.51%           0           1     FN\n",
      "23002           0        371             7.21%           0           1     FN\n",
      "23003           1        371            19.46%           0           1     FN\n",
      "23004           2        371            37.19%           0           1     FN\n",
      "23005           3        371            18.01%           0           1     FN\n",
      "23006           4        371            31.36%           0           1     FN\n",
      "23007           5        371            20.22%           0           1     FN\n",
      "23008           6        371            48.80%           0           1     FN\n",
      "23064           0        372            34.26%           0           1     FN\n",
      "23065           1        372            44.85%           0           1     FN\n",
      "23066           2        372            32.79%           0           1     FN\n",
      "23067           3        372            46.12%           0           1     FN\n",
      "23560           0        380            21.60%           0           1     FN\n",
      "23561           1        380            24.22%           0           1     FN\n",
      "23562           2        380            16.29%           0           1     FN\n",
      "23563           3        380            25.58%           0           1     FN\n",
      "23564           4        380            23.23%           0           1     FN\n",
      "23565           5        380            22.89%           0           1     FN\n",
      "23566           6        380            20.62%           0           1     FN\n",
      "23567           7        380            21.14%           0           1     FN\n",
      "23568           8        380            20.14%           0           1     FN\n",
      "23569           9        380            17.93%           0           1     FN\n",
      "23570          10        380            19.71%           0           1     FN\n",
      "23571          11        380            27.03%           0           1     FN\n",
      "23572          12        380            27.94%           0           1     FN\n",
      "23746           0        383            15.44%           0           1     FN\n",
      "23747           1        383            11.37%           0           1     FN\n",
      "23748           2        383            11.98%           0           1     FN\n",
      "23749           3        383            16.39%           0           1     FN\n",
      "23750           4        383            11.49%           0           1     FN\n",
      "23751           5        383             7.46%           0           1     FN\n",
      "23752           6        383             7.23%           0           1     FN\n",
      "23753           7        383            38.21%           0           1     FN\n",
      "23754           8        383            42.15%           0           1     FN\n",
      "24180           0        390            16.74%           0           1     FN\n",
      "24181           1        390             9.77%           0           1     FN\n",
      "24182           2        390            26.29%           0           1     FN\n",
      "25309          13        408            48.48%           0           1     FN\n",
      "25310          14        408            40.26%           0           1     FN\n",
      "25311          15        408            39.84%           0           1     FN\n",
      "25482           0        411            16.69%           0           1     FN\n",
      "25483           1        411            32.43%           0           1     FN\n",
      "25668           0        414            25.24%           0           1     FN\n",
      "25669           1        414            28.72%           0           1     FN\n",
      "25854           0        417            35.35%           0           1     FN\n",
      "25855           1        417            48.66%           0           1     FN\n",
      "25858           4        417            33.62%           0           1     FN\n",
      "25916           0        418            20.63%           0           1     FN\n",
      "25917           1        418            34.64%           0           1     FN\n",
      "25918           2        418            37.29%           0           1     FN\n",
      "25919           3        418            41.58%           0           1     FN\n",
      "25920           4        418            47.16%           0           1     FN\n",
      "25921           5        418            48.42%           0           1     FN\n",
      "25922           6        418            47.65%           0           1     FN\n",
      "25923           7        418            45.35%           0           1     FN\n",
      "25924           8        418            46.73%           0           1     FN\n",
      "25925           9        418            42.18%           0           1     FN\n",
      "25926          10        418            29.97%           0           1     FN\n",
      "25927          11        418            23.54%           0           1     FN\n",
      "25928          12        418            25.84%           0           1     FN\n",
      "25929          13        418            30.24%           0           1     FN\n",
      "25930          14        418            37.08%           0           1     FN\n",
      "26660           0        430            30.32%           0           1     FN\n",
      "26661           1        430            36.81%           0           1     FN\n",
      "26694          34        430            47.52%           0           1     FN\n",
      "26695          35        430            39.09%           0           1     FN\n",
      "26696          36        430            29.98%           0           1     FN\n",
      "26697          37        430            25.69%           0           1     FN\n",
      "26698          38        430            24.57%           0           1     FN\n",
      "26699          39        430            25.27%           0           1     FN\n",
      "26700          40        430            28.10%           0           1     FN\n",
      "26701          41        430            40.71%           0           1     FN\n",
      "26702          42        430            42.60%           0           1     FN\n",
      "26970           0        435            34.38%           0           1     FN\n",
      "27900           0        450            35.38%           0           1     FN\n",
      "27901           1        450            16.92%           0           1     FN\n",
      "27902           2        450            45.78%           0           1     FN\n",
      "28086           0        453            34.65%           0           1     FN\n",
      "28334           0        457            23.14%           0           1     FN\n",
      "28335           1        457            26.76%           0           1     FN\n",
      "29140           0        470            43.77%           0           1     FN\n",
      "29450           0        475            32.78%           0           1     FN\n",
      "29451           1        475            42.77%           0           1     FN\n",
      "29474          24        475            45.91%           0           1     FN\n",
      "29475          25        475            37.51%           0           1     FN\n",
      "29476          26        475            31.10%           0           1     FN\n",
      "29477          27        475            27.78%           0           1     FN\n",
      "29478          28        475            25.27%           0           1     FN\n",
      "29479          29        475            21.83%           0           1     FN\n",
      "29480          30        475            17.92%           0           1     FN\n",
      "29481          31        475            15.34%           0           1     FN\n",
      "29482          32        475            16.99%           0           1     FN\n",
      "29483          33        475            19.40%           0           1     FN\n",
      "29484          34        475            19.32%           0           1     FN\n",
      "29485          35        475            16.55%           0           1     FN\n",
      "29486          36        475            15.09%           0           1     FN\n",
      "29487          37        475            16.85%           0           1     FN\n",
      "29488          38        475            20.77%           0           1     FN\n",
      "29489          39        475            21.48%           0           1     FN\n",
      "29490          40        475            20.02%           0           1     FN\n",
      "29491          41        475            18.30%           0           1     FN\n",
      "29492          42        475            17.56%           0           1     FN\n",
      "29493          43        475            18.56%           0           1     FN\n",
      "29494          44        475            24.54%           0           1     FN\n",
      "29495          45        475            30.96%           0           1     FN\n",
      "29496          46        475            38.25%           0           1     FN\n",
      "29497          47        475            48.76%           0           1     FN\n",
      "29503          53        475            49.75%           0           1     FN\n",
      "29504          54        475            45.69%           0           1     FN\n",
      "29505          55        475            37.09%           0           1     FN\n",
      "29506          56        475            25.85%           0           1     FN\n",
      "29507          57        475            21.20%           0           1     FN\n",
      "29508          58        475            24.98%           0           1     FN\n",
      "29509          59        475            39.80%           0           1     FN\n",
      "29512           0        476            10.00%           0           1     FN\n",
      "29513           1        476             8.34%           0           1     FN\n",
      "29514           2        476            38.46%           0           1     FN\n",
      "29515           3        476            42.42%           0           1     FN\n",
      "29574           0        477             3.50%           0           1     FN\n",
      "29575           1        477             9.64%           0           1     FN\n",
      "29636           0        478            29.06%           0           1     FN\n",
      "29637           1        478            23.82%           0           1     FN\n",
      "29761           1        480            37.18%           0           1     FN\n",
      "29762           2        480            31.39%           0           1     FN\n",
      "29764           4        480            41.25%           0           1     FN\n",
      "30008           0        484            37.27%           0           1     FN\n",
      "30009           1        484            49.51%           0           1     FN\n",
      "30281          25        488            49.74%           0           1     FN\n",
      "30282          26        488            47.65%           0           1     FN\n",
      "30442           0        491            33.22%           0           1     FN\n",
      "30504           0        492            14.97%           0           1     FN\n",
      "30505           1        492            16.37%           0           1     FN\n",
      "30506           2        492            16.72%           0           1     FN\n",
      "30507           3        492            15.86%           0           1     FN\n",
      "30508           4        492            16.37%           0           1     FN\n",
      "30509           5        492            17.57%           0           1     FN\n",
      "30510           6        492            19.38%           0           1     FN\n",
      "30511           7        492            20.46%           0           1     FN\n",
      "30512           8        492            21.07%           0           1     FN\n",
      "30513           9        492            20.96%           0           1     FN\n",
      "30514          10        492            20.99%           0           1     FN\n",
      "30515          11        492            20.90%           0           1     FN\n",
      "30516          12        492            20.99%           0           1     FN\n",
      "30517          13        492            22.33%           0           1     FN\n",
      "30518          14        492            24.75%           0           1     FN\n",
      "30519          15        492            30.47%           0           1     FN\n",
      "30520          16        492            40.57%           0           1     FN\n",
      "31000           0        500            12.13%           0           1     FN\n",
      "31001           1        500            24.52%           0           1     FN\n",
      "31248           0        504            21.82%           0           1     FN\n",
      "31249           1        504            25.88%           0           1     FN\n",
      "31250           2        504            19.55%           0           1     FN\n",
      "31251           3        504            15.43%           0           1     FN\n",
      "31252           4        504            21.64%           0           1     FN\n",
      "31253           5        504            20.85%           0           1     FN\n",
      "31254           6        504            18.30%           0           1     FN\n",
      "31255           7        504            18.98%           0           1     FN\n",
      "32364           0        522            41.18%           0           1     FN\n",
      "32365           1        522            42.57%           0           1     FN\n",
      "32426           0        523            12.66%           0           1     FN\n",
      "32427           1        523            13.91%           0           1     FN\n",
      "32428           2        523            17.40%           0           1     FN\n",
      "32429           3        523            20.26%           0           1     FN\n",
      "32430           4        523            24.76%           0           1     FN\n",
      "32431           5        523            45.60%           0           1     FN\n",
      "32488           0        524            42.67%           0           1     FN\n",
      "33418           0        539            13.30%           0           1     FN\n",
      "33419           1        539            18.11%           0           1     FN\n",
      "33480           0        540             4.99%           0           1     FN\n",
      "33481           1        540            13.10%           0           1     FN\n",
      "33482           2        540            38.62%           0           1     FN\n",
      "33483           3        540            49.49%           0           1     FN\n",
      "33494          14        540            48.20%           0           1     FN\n",
      "33495          15        540            33.34%           0           1     FN\n",
      "33496          16        540            24.82%           0           1     FN\n",
      "33497          17        540            20.76%           0           1     FN\n",
      "33498          18        540            32.68%           0           1     FN\n",
      "33499          19        540            43.66%           0           1     FN\n",
      "33529          49        540            46.79%           0           1     FN\n",
      "33914           0        547            19.57%           0           1     FN\n",
      "33915           1        547            27.20%           0           1     FN\n",
      "34100           0        550            16.70%           0           1     FN\n",
      "34101           1        550            20.58%           0           1     FN\n",
      "34102           2        550            19.59%           0           1     FN\n",
      "34103           3        550            23.05%           0           1     FN\n",
      "34104           4        550            24.79%           0           1     FN\n",
      "34105           5        550            23.28%           0           1     FN\n",
      "34106           6        550            26.81%           0           1     FN\n",
      "34107           7        550            24.62%           0           1     FN\n",
      "34108           8        550            22.62%           0           1     FN\n",
      "34109           9        550            26.92%           0           1     FN\n",
      "34110          10        550            23.09%           0           1     FN\n",
      "34111          11        550            24.44%           0           1     FN\n",
      "34112          12        550            26.31%           0           1     FN\n",
      "34113          13        550            29.69%           0           1     FN\n",
      "34114          14        550            43.06%           0           1     FN\n",
      "34115          15        550            41.48%           0           1     FN\n",
      "34116          16        550            49.52%           0           1     FN\n",
      "34117          17        550            49.86%           0           1     FN\n",
      "34118          18        550            48.22%           0           1     FN\n",
      "34225           1        552            44.96%           0           1     FN\n",
      "34348           0        554            39.42%           0           1     FN\n",
      "34658           0        559            34.70%           0           1     FN\n",
      "34844           0        562            12.56%           0           1     FN\n",
      "34845           1        562            12.00%           0           1     FN\n",
      "34846           2        562             6.07%           0           1     FN\n",
      "34847           3        562            10.22%           0           1     FN\n",
      "34848           4        562             7.78%           0           1     FN\n",
      "34849           5        562             9.10%           0           1     FN\n",
      "34850           6        562            10.16%           0           1     FN\n",
      "34851           7        562            12.31%           0           1     FN\n",
      "34852           8        562            12.17%           0           1     FN\n",
      "34853           9        562            13.72%           0           1     FN\n",
      "34854          10        562            25.25%           0           1     FN\n",
      "35030           0        565            21.42%           0           1     FN\n",
      "35031           1        565            11.70%           0           1     FN\n",
      "35032           2        565            34.67%           0           1     FN\n",
      "35092           0        566            36.23%           0           1     FN\n",
      "35464           0        572             4.99%           0           1     FN\n",
      "35465           1        572            15.65%           0           1     FN\n",
      "35466           2        572            36.91%           0           1     FN\n",
      "35467           3        572            34.42%           0           1     FN\n",
      "35468           4        572            49.83%           0           1     FN\n",
      "35712           0        576            42.43%           0           1     FN\n",
      "35713           1        576            28.80%           0           1     FN\n",
      "35714           2        576            29.92%           0           1     FN\n",
      "35715           3        576            33.34%           0           1     FN\n",
      "35716           4        576            38.85%           0           1     FN\n",
      "35717           5        576            38.86%           0           1     FN\n",
      "35718           6        576            42.66%           0           1     FN\n",
      "35774           0        577            34.26%           0           1     FN\n",
      "35898           0        579            10.88%           0           1     FN\n",
      "35899           1        579            10.43%           0           1     FN\n",
      "35900           2        579            10.72%           0           1     FN\n",
      "35901           3        579            13.77%           0           1     FN\n",
      "35902           4        579            15.98%           0           1     FN\n",
      "35903           5        579            16.61%           0           1     FN\n",
      "35904           6        579            16.38%           0           1     FN\n",
      "35905           7        579            15.91%           0           1     FN\n",
      "35906           8        579            15.53%           0           1     FN\n",
      "35907           9        579            15.35%           0           1     FN\n",
      "35908          10        579            15.39%           0           1     FN\n",
      "35909          11        579            15.76%           0           1     FN\n",
      "35910          12        579            16.58%           0           1     FN\n",
      "35911          13        579            17.69%           0           1     FN\n",
      "35912          14        579            18.51%           0           1     FN\n",
      "35913          15        579            18.67%           0           1     FN\n",
      "35914          16        579            16.06%           0           1     FN\n",
      "35915          17        579            12.14%           0           1     FN\n",
      "35916          18        579             9.63%           0           1     FN\n",
      "35917          19        579             8.82%           0           1     FN\n",
      "35918          20        579            10.31%           0           1     FN\n",
      "35919          21        579            13.20%           0           1     FN\n",
      "35920          22        579            17.88%           0           1     FN\n",
      "35921          23        579            21.69%           0           1     FN\n",
      "35922          24        579            23.44%           0           1     FN\n",
      "35923          25        579            24.97%           0           1     FN\n",
      "35924          26        579            29.12%           0           1     FN\n",
      "35925          27        579            37.46%           0           1     FN\n",
      "35926          28        579            43.62%           0           1     FN\n",
      "35927          29        579            43.92%           0           1     FN\n",
      "35928          30        579            41.06%           0           1     FN\n",
      "35929          31        579            37.69%           0           1     FN\n",
      "35930          32        579            38.22%           0           1     FN\n",
      "35931          33        579            45.27%           0           1     FN\n",
      "35945          47        579            40.57%           0           1     FN\n",
      "35946          48        579            32.95%           0           1     FN\n",
      "35947          49        579            29.61%           0           1     FN\n",
      "35948          50        579            29.97%           0           1     FN\n",
      "35949          51        579            28.64%           0           1     FN\n",
      "35950          52        579            25.63%           0           1     FN\n",
      "35951          53        579            23.59%           0           1     FN\n",
      "35952          54        579            20.96%           0           1     FN\n",
      "35953          55        579            17.53%           0           1     FN\n",
      "35954          56        579            16.31%           0           1     FN\n",
      "35955          57        579            19.16%           0           1     FN\n",
      "35956          58        579            20.19%           0           1     FN\n",
      "35957          59        579            18.33%           0           1     FN\n",
      "35958          60        579            16.80%           0           1     FN\n",
      "35959          61        579            16.65%           0           1     FN\n",
      "35960           0        580            20.89%           0           1     FN\n",
      "35961           1        580            17.33%           0           1     FN\n",
      "35962           2        580            17.36%           0           1     FN\n",
      "35963           3        580            29.50%           0           1     FN\n",
      "35964           4        580            48.11%           0           1     FN\n",
      "36394           0        587            42.65%           0           1     FN\n",
      "36518           0        589            17.11%           0           1     FN\n",
      "36519           1        589             9.62%           0           1     FN\n",
      "36520           2        589            33.90%           0           1     FN\n",
      "36580           0        590            45.49%           0           1     FN\n",
      "36704           0        592            42.74%           0           1     FN\n",
      "36705           1        592            49.52%           0           1     FN\n",
      "37014           0        597            28.03%           0           1     FN\n",
      "37015           1        597            27.58%           0           1     FN\n",
      "37016           2        597            22.29%           0           1     FN\n",
      "37017           3        597            40.24%           0           1     FN\n",
      "37018           4        597            30.17%           0           1     FN\n",
      "37019           5        597            21.20%           0           1     FN\n",
      "37020           6        597            17.58%           0           1     FN\n",
      "37021           7        597            20.13%           0           1     FN\n",
      "37022           8        597            18.01%           0           1     FN\n",
      "37023           9        597            20.14%           0           1     FN\n",
      "37024          10        597            24.65%           0           1     FN\n",
      "37025          11        597            37.43%           0           1     FN\n",
      "37448           0        604            49.57%           0           1     FN\n",
      "37449           1        604            33.05%           0           1     FN\n",
      "37450           2        604            44.26%           0           1     FN\n",
      "38442           2        620            32.74%           0           1     FN\n",
      "38443           3        620            48.27%           0           1     FN\n",
      "38626           0        623            46.41%           0           1     FN\n",
      "38688           0        624            47.30%           0           1     FN\n",
      "38689           1        624            34.78%           0           1     FN\n",
      "38690           2        624            27.36%           0           1     FN\n",
      "38691           3        624            46.39%           0           1     FN\n",
      "38696           8        624            48.19%           0           1     FN\n",
      "38697           9        624            48.07%           0           1     FN\n",
      "39122           0        631            15.89%           0           1     FN\n",
      "39123           1        631            25.09%           0           1     FN\n",
      "39124           2        631            40.21%           0           1     FN\n",
      "39135          13        631            48.27%           0           1     FN\n",
      "39136          14        631            39.76%           0           1     FN\n",
      "39137          15        631            23.35%           0           1     FN\n",
      "39138          16        631            18.38%           0           1     FN\n",
      "39139          17        631            27.48%           0           1     FN\n",
      "39140          18        631            36.64%           0           1     FN\n",
      "39169          47        631            42.41%           0           1     FN\n",
      "39170          48        631            42.30%           0           1     FN\n",
      "39171          49        631            46.69%           0           1     FN\n",
      "39618           0        639            25.35%           0           1     FN\n",
      "39619           1        639            22.11%           0           1     FN\n",
      "39621           3        639            45.59%           0           1     FN\n",
      "39680           0        640            28.59%           0           1     FN\n",
      "39681           1        640            15.74%           0           1     FN\n",
      "39742           0        641            12.03%           0           1     FN\n",
      "39990           0        645            18.38%           0           1     FN\n",
      "39991           1        645            33.43%           0           1     FN\n",
      "40052           0        646            18.68%           0           1     FN\n",
      "40053           1        646            13.71%           0           1     FN\n",
      "40090          38        646            45.10%           0           1     FN\n",
      "40091          39        646            37.34%           0           1     FN\n",
      "40092          40        646            29.96%           0           1     FN\n",
      "40093          41        646            24.85%           0           1     FN\n",
      "40094          42        646            20.37%           0           1     FN\n",
      "40095          43        646            13.49%           0           1     FN\n",
      "40096          44        646             7.89%           0           1     FN\n",
      "40097          45        646             4.76%           0           1     FN\n",
      "40098          46        646             2.65%           0           1     FN\n",
      "40099          47        646             1.98%           0           1     FN\n",
      "40100          48        646             1.65%           0           1     FN\n",
      "40101          49        646             1.86%           0           1     FN\n",
      "40102          50        646             2.40%           0           1     FN\n",
      "40103          51        646             3.23%           0           1     FN\n",
      "40104          52        646             4.19%           0           1     FN\n",
      "40105          53        646             5.18%           0           1     FN\n",
      "40106          54        646             7.06%           0           1     FN\n",
      "40107          55        646            10.80%           0           1     FN\n",
      "40108          56        646            19.35%           0           1     FN\n",
      "40109          57        646            35.47%           0           1     FN\n",
      "40114           0        647            29.90%           0           1     FN\n",
      "40115           1        647            28.31%           0           1     FN\n",
      "40116           2        647            43.37%           0           1     FN\n",
      "40424           0        652            49.50%           0           1     FN\n",
      "40920           0        660            33.89%           0           1     FN\n",
      "40921           1        660            38.79%           0           1     FN\n",
      "41416           0        668            13.70%           0           1     FN\n",
      "41417           1        668            24.89%           0           1     FN\n",
      "41418           2        668            38.04%           0           1     FN\n",
      "41419           3        668            48.68%           0           1     FN\n",
      "42160           0        680            11.10%           0           1     FN\n",
      "42532           0        686             5.15%           0           1     FN\n",
      "42533           1        686            14.74%           0           1     FN\n",
      "42534           2        686            38.08%           0           1     FN\n",
      "42535           3        686            28.39%           0           1     FN\n",
      "42658           2        688            38.54%           0           1     FN\n",
      "42659           3        688            42.97%           0           1     FN\n",
      "42842           0        691            25.36%           0           1     FN\n",
      "42843           1        691            26.69%           0           1     FN\n",
      "42844           2        691            44.97%           0           1     FN\n",
      "42845           3        691            41.07%           0           1     FN\n",
      "42852          10        691            44.42%           0           1     FN\n",
      "42853          11        691            39.44%           0           1     FN\n",
      "42854          12        691            34.23%           0           1     FN\n",
      "43400           0        700            27.76%           0           1     FN\n",
      "43401           1        700            33.96%           0           1     FN\n",
      "43402           2        700            42.86%           0           1     FN\n",
      "43403           3        700            40.66%           0           1     FN\n",
      "43404           4        700            43.15%           0           1     FN\n",
      "43405           5        700            42.66%           0           1     FN\n",
      "43406           6        700            43.54%           0           1     FN\n",
      "43407           7        700            49.39%           0           1     FN\n",
      "43413          13        700            49.21%           0           1     FN\n",
      "43414          14        700            25.86%           0           1     FN\n",
      "43415          15        700            28.88%           0           1     FN\n",
      "43417          17        700            40.49%           0           1     FN\n",
      "43834           0        707            15.13%           0           1     FN\n",
      "43835           1        707            39.35%           0           1     FN\n",
      "43836           2        707            24.90%           0           1     FN\n",
      "43837           3        707            25.96%           0           1     FN\n",
      "43838           4        707            31.87%           0           1     FN\n",
      "43839           5        707            34.13%           0           1     FN\n",
      "43840           6        707            34.56%           0           1     FN\n",
      "43841           7        707            42.04%           0           1     FN\n",
      "43842           8        707            48.78%           0           1     FN\n",
      "44020           0        710            22.77%           0           1     FN\n",
      "44021           1        710            13.65%           0           1     FN\n",
      "44022           2        710             7.21%           0           1     FN\n",
      "44023           3        710             6.81%           0           1     FN\n",
      "44024           4        710            11.95%           0           1     FN\n",
      "44025           5        710            22.03%           0           1     FN\n",
      "44026           6        710            30.24%           0           1     FN\n",
      "44330           0        715            17.25%           0           1     FN\n",
      "44826           0        723            25.87%           0           1     FN\n",
      "44827           1        723            34.00%           0           1     FN\n",
      "44828           2        723            38.61%           0           1     FN\n",
      "44888           0        724             7.56%           0           1     FN\n",
      "44889           1        724            15.58%           0           1     FN\n",
      "44892           4        724            49.39%           0           1     FN\n",
      "44894           6        724            47.68%           0           1     FN\n",
      "45136           0        728            35.46%           0           1     FN\n",
      "45571           1        735            42.84%           0           1     FN\n",
      "45572           2        735            44.69%           0           1     FN\n",
      "45573           3        735            39.69%           0           1     FN\n",
      "45880           0        740             3.87%           0           1     FN\n",
      "45881           1        740            11.64%           0           1     FN\n",
      "46438           0        749            32.18%           0           1     FN\n",
      "46439           1        749            21.80%           0           1     FN\n",
      "46440           2        749            36.77%           0           1     FN\n",
      "47244           0        762             9.81%           0           1     FN\n",
      "47245           1        762            23.76%           0           1     FN\n",
      "47246           2        762            49.16%           0           1     FN\n",
      "47740           0        770            26.90%           0           1     FN\n",
      "48072          22        775            47.71%           0           1     FN\n",
      "48236           0        778            25.66%           0           1     FN\n",
      "48237           1        778            33.32%           0           1     FN\n",
      "48422           0        781             7.91%           0           1     FN\n",
      "48423           1        781            10.21%           0           1     FN\n",
      "48424           2        781            10.87%           0           1     FN\n",
      "48425           3        781            11.50%           0           1     FN\n",
      "48426           4        781            20.04%           0           1     FN\n",
      "48670           0        785            19.62%           0           1     FN\n",
      "48671           1        785            20.74%           0           1     FN\n",
      "48672           2        785            41.10%           0           1     FN\n",
      "48673           3        785            46.17%           0           1     FN\n",
      "48794           0        787            26.73%           0           1     FN\n",
      "48918           0        789            39.06%           0           1     FN\n",
      "49538           0        799            26.66%           0           1     FN\n",
      "49539           1        799            24.99%           0           1     FN\n",
      "49540           2        799            43.51%           0           1     FN\n",
      "49541           3        799            47.94%           0           1     FN\n",
      "49714          52        801            37.27%           0           1     FN\n",
      "49715          53        801            26.40%           0           1     FN\n",
      "49716          54        801            21.13%           0           1     FN\n",
      "49717          55        801            18.44%           0           1     FN\n",
      "49718          56        801            16.65%           0           1     FN\n",
      "49719          57        801            17.83%           0           1     FN\n",
      "49720          58        801            28.46%           0           1     FN\n",
      "49721          59        801            36.36%           0           1     FN\n",
      "49722          60        801            42.12%           0           1     FN\n",
      "49723          61        801            42.14%           0           1     FN\n",
      "49910           0        805            30.61%           0           1     FN\n",
      "49911           1        805            23.87%           0           1     FN\n",
      "49912           2        805            17.86%           0           1     FN\n",
      "49913           3        805            21.30%           0           1     FN\n",
      "49914           4        805            20.81%           0           1     FN\n",
      "49915           5        805            20.67%           0           1     FN\n",
      "49916           6        805            24.25%           0           1     FN\n",
      "49917           7        805            20.72%           0           1     FN\n",
      "49918           8        805            23.41%           0           1     FN\n",
      "49919           9        805            30.57%           0           1     FN\n",
      "49920          10        805            28.99%           0           1     FN\n",
      "49921          11        805            43.21%           0           1     FN\n",
      "49922          12        805            42.67%           0           1     FN\n",
      "49972           0        806            17.92%           0           1     FN\n",
      "49973           1        806            21.00%           0           1     FN\n",
      "49974           2        806            25.79%           0           1     FN\n",
      "49975           3        806            37.63%           0           1     FN\n",
      "50158           0        809            46.69%           0           1     FN\n",
      "50159           1        809            49.64%           0           1     FN\n",
      "50160           2        809            39.44%           0           1     FN\n",
      "50224           4        810            38.50%           0           1     FN\n",
      "50225           5        810            21.98%           0           1     FN\n",
      "50226           6        810            20.44%           0           1     FN\n",
      "50227           7        810            21.61%           0           1     FN\n",
      "50228           8        810            19.78%           0           1     FN\n",
      "50229           9        810            20.90%           0           1     FN\n",
      "50344           0        812            48.69%           0           1     FN\n",
      "50345           1        812            49.44%           0           1     FN\n",
      "50468           0        814            32.66%           0           1     FN\n",
      "50469           1        814            31.80%           0           1     FN\n",
      "50470           2        814            46.79%           0           1     FN\n",
      "50497          29        814            48.60%           0           1     FN\n",
      "50498          30        814            45.38%           0           1     FN\n",
      "50654           0        817            35.84%           0           1     FN\n",
      "50716           0        818            36.58%           0           1     FN\n",
      "50717           1        818            48.53%           0           1     FN\n",
      "50778           0        819            30.03%           0           1     FN\n",
      "50840           0        820            21.52%           0           1     FN\n",
      "50843           3        820            42.55%           0           1     FN\n",
      "50904           2        821            47.04%           0           1     FN\n",
      "50905           3        821            49.55%           0           1     FN\n",
      "51274           0        827            37.66%           0           1     FN\n",
      "51584           0        832            30.39%           0           1     FN\n",
      "51646           0        833            23.15%           0           1     FN\n",
      "51647           1        833            19.79%           0           1     FN\n",
      "51648           2        833            37.22%           0           1     FN\n",
      "51649           3        833            26.06%           0           1     FN\n",
      "51650           4        833            41.21%           0           1     FN\n",
      "51651           5        833            27.91%           0           1     FN\n",
      "51652           6        833            31.22%           0           1     FN\n",
      "51653           7        833            29.44%           0           1     FN\n",
      "51832           0        836            49.94%           0           1     FN\n",
      "51833           1        836            28.35%           0           1     FN\n",
      "51834           2        836             6.29%           0           1     FN\n",
      "51835           3        836             6.45%           0           1     FN\n",
      "51836           4        836            26.48%           0           1     FN\n",
      "51837           5        836            23.03%           0           1     FN\n",
      "51838           6        836             8.26%           0           1     FN\n",
      "51839           7        836             6.34%           0           1     FN\n",
      "51840           8        836            11.15%           0           1     FN\n",
      "51841           9        836             7.17%           0           1     FN\n",
      "51842          10        836             3.58%           0           1     FN\n",
      "51843          11        836             3.71%           0           1     FN\n",
      "51844          12        836             4.11%           0           1     FN\n",
      "51845          13        836             4.32%           0           1     FN\n",
      "51846          14        836             4.39%           0           1     FN\n",
      "51847          15        836             4.05%           0           1     FN\n",
      "51848          16        836             4.78%           0           1     FN\n",
      "51849          17        836             5.84%           0           1     FN\n",
      "51850          18        836             7.61%           0           1     FN\n",
      "51851          19        836             9.01%           0           1     FN\n",
      "51852          20        836             9.87%           0           1     FN\n",
      "51853          21        836            10.19%           0           1     FN\n",
      "51854          22        836            10.76%           0           1     FN\n",
      "51855          23        836            13.56%           0           1     FN\n",
      "51856          24        836            17.14%           0           1     FN\n",
      "51857          25        836            21.34%           0           1     FN\n",
      "51858          26        836            37.08%           0           1     FN\n",
      "52204           0        842            19.66%           0           1     FN\n",
      "52205           1        842            27.81%           0           1     FN\n",
      "52391           1        845            34.86%           0           1     FN\n",
      "52392           2        845            48.98%           0           1     FN\n",
      "52638           0        849            36.30%           0           1     FN\n",
      "52811          49        851            45.80%           0           1     FN\n",
      "52812          50        851            43.67%           0           1     FN\n",
      "52813          51        851            30.88%           0           1     FN\n",
      "52814          52        851            17.66%           0           1     FN\n",
      "52815          53        851            11.10%           0           1     FN\n",
      "52816          54        851             6.57%           0           1     FN\n",
      "52817          55        851             4.86%           0           1     FN\n",
      "52818          56        851             7.16%           0           1     FN\n",
      "52819          57        851            19.14%           0           1     FN\n",
      "52820          58        851            29.14%           0           1     FN\n",
      "53196           0        858            12.78%           0           1     FN\n",
      "53197           1        858            19.75%           0           1     FN\n",
      "53198           2        858            28.03%           0           1     FN\n",
      "53199           3        858            19.95%           0           1     FN\n",
      "53200           4        858            15.95%           0           1     FN\n",
      "53201           5        858            18.80%           0           1     FN\n",
      "53202           6        858            25.75%           0           1     FN\n",
      "53203           7        858            30.70%           0           1     FN\n",
      "53204           8        858            46.41%           0           1     FN\n",
      "53321           1        860            45.03%           0           1     FN\n",
      "53322           2        860            49.84%           0           1     FN\n",
      "53630           0        865            10.49%           0           1     FN\n",
      "53631           1        865            19.81%           0           1     FN\n",
      "53632           2        865            48.59%           0           1     FN\n",
      "53878           0        869             9.59%           0           1     FN\n",
      "53879           1        869             9.02%           0           1     FN\n",
      "53880           2        869            11.17%           0           1     FN\n",
      "53881           3        869            11.18%           0           1     FN\n",
      "53882           4        869            16.70%           0           1     FN\n",
      "53883           5        869            17.96%           0           1     FN\n",
      "53884           6        869            28.13%           0           1     FN\n",
      "53885           7        869            28.88%           0           1     FN\n",
      "53886           8        869            37.86%           0           1     FN\n",
      "53887           9        869            47.22%           0           1     FN\n",
      "54932           0        886            14.71%           0           1     FN\n",
      "54933           1        886            13.37%           0           1     FN\n",
      "54934           2        886            11.33%           0           1     FN\n",
      "54935           3        886            10.95%           0           1     FN\n",
      "54936           4        886            13.06%           0           1     FN\n",
      "54937           5        886            20.45%           0           1     FN\n",
      "54938           6        886            29.94%           0           1     FN\n",
      "54939           7        886            44.65%           0           1     FN\n",
      "55144          26        889            47.57%           0           1     FN\n",
      "55145          27        889            39.81%           0           1     FN\n",
      "55146          28        889            38.13%           0           1     FN\n",
      "55147          29        889            34.94%           0           1     FN\n",
      "55148          30        889            30.39%           0           1     FN\n",
      "55149          31        889            29.61%           0           1     FN\n",
      "55150          32        889            34.27%           0           1     FN\n",
      "55151          33        889            31.22%           0           1     FN\n",
      "55152          34        889            28.30%           0           1     FN\n",
      "55153          35        889            25.63%           0           1     FN\n",
      "55154          36        889            30.79%           0           1     FN\n",
      "55155          37        889            29.72%           0           1     FN\n",
      "55156          38        889            28.46%           0           1     FN\n",
      "55157          39        889            29.70%           0           1     FN\n",
      "55158          40        889            31.44%           0           1     FN\n",
      "55159          41        889            31.82%           0           1     FN\n",
      "55160          42        889            36.89%           0           1     FN\n",
      "55161          43        889            39.82%           0           1     FN\n",
      "55162          44        889            48.52%           0           1     FN\n",
      "55490           0        895             9.81%           0           1     FN\n",
      "55491           1        895             7.45%           0           1     FN\n",
      "55492           2        895             9.10%           0           1     FN\n",
      "55493           3        895            16.32%           0           1     FN\n",
      "55494           4        895            15.89%           0           1     FN\n",
      "55495           5        895            20.41%           0           1     FN\n",
      "55496           6        895            28.65%           0           1     FN\n",
      "55497           7        895            32.17%           0           1     FN\n",
      "55498           8        895            35.54%           0           1     FN\n",
      "55499           9        895            41.07%           0           1     FN\n",
      "55500          10        895            44.22%           0           1     FN\n",
      "55864           2        901            43.54%           0           1     FN\n",
      "55986           0        903             9.17%           0           1     FN\n",
      "55987           1        903            21.59%           0           1     FN\n",
      "55988           2        903            15.86%           0           1     FN\n",
      "55989           3        903            15.80%           0           1     FN\n",
      "55990           4        903            19.76%           0           1     FN\n",
      "55991           5        903            28.31%           0           1     FN\n",
      "55992           6        903            47.69%           0           1     FN\n",
      "55997          11        903            46.22%           0           1     FN\n",
      "56000          14        903            49.82%           0           1     FN\n",
      "56001          15        903            49.74%           0           1     FN\n",
      "56234           0        907            23.94%           0           1     FN\n",
      "56235           1        907            26.27%           0           1     FN\n",
      "56358           0        909            15.59%           0           1     FN\n",
      "56359           1        909            11.74%           0           1     FN\n",
      "56360           2        909            12.75%           0           1     FN\n",
      "56361           3        909            22.51%           0           1     FN\n",
      "56362           4        909            37.80%           0           1     FN\n",
      "56484           2        911            43.03%           0           1     FN\n",
      "56606           0        913            31.63%           0           1     FN\n",
      "56730           0        915            33.59%           0           1     FN\n",
      "56916           0        918            14.11%           0           1     FN\n",
      "56917           1        918            13.19%           0           1     FN\n",
      "56918           2        918            13.36%           0           1     FN\n",
      "56919           3        918            17.80%           0           1     FN\n",
      "56920           4        918            29.17%           0           1     FN\n",
      "57164           0        922             6.63%           0           1     FN\n",
      "57165           1        922             9.67%           0           1     FN\n",
      "57166           2        922            19.02%           0           1     FN\n",
      "57167           3        922            25.05%           0           1     FN\n",
      "57168           4        922            28.27%           0           1     FN\n",
      "57169           5        922            44.61%           0           1     FN\n",
      "57288           0        924            39.16%           0           1     FN\n",
      "57289           1        924            37.40%           0           1     FN\n",
      "57290           2        924            48.67%           0           1     FN\n",
      "57413           1        926            47.60%           0           1     FN\n",
      "57474           0        927            37.07%           0           1     FN\n",
      "57475           1        927            38.83%           0           1     FN\n",
      "57476           2        927            35.97%           0           1     FN\n",
      "57478           4        927            37.78%           0           1     FN\n",
      "57722           0        931            47.86%           0           1     FN\n",
      "57771          49        931            45.78%           0           1     FN\n",
      "57784           0        932            32.90%           0           1     FN\n",
      "57785           1        932            36.25%           0           1     FN\n",
      "57786           2        932            47.06%           0           1     FN\n",
      "57787           3        932            39.97%           0           1     FN\n",
      "57788           4        932            26.99%           0           1     FN\n",
      "57789           5        932            49.42%           0           1     FN\n",
      "57908           0        934             7.40%           0           1     FN\n",
      "57909           1        934             9.68%           0           1     FN\n",
      "57910           2        934            12.12%           0           1     FN\n",
      "57911           3        934            17.95%           0           1     FN\n",
      "57912           4        934            42.15%           0           1     FN\n",
      "58156           0        938            22.66%           0           1     FN\n",
      "58157           1        938            29.40%           0           1     FN\n",
      "58466           0        943            48.08%           0           1     FN\n",
      "58590           0        945            27.20%           0           1     FN\n",
      "58591           1        945            30.84%           0           1     FN\n",
      "59148           0        954             3.36%           0           1     FN\n",
      "59149           1        954             5.59%           0           1     FN\n",
      "59150           2        954            12.25%           0           1     FN\n",
      "59151           3        954            20.86%           0           1     FN\n",
      "59152           4        954            26.33%           0           1     FN\n",
      "59153           5        954            31.68%           0           1     FN\n",
      "59154           6        954            47.26%           0           1     FN\n",
      "59459           1        959            47.74%           0           1     FN\n",
      "59509          51        959            44.71%           0           1     FN\n",
      "59510          52        959            24.68%           0           1     FN\n",
      "59511          53        959            15.15%           0           1     FN\n",
      "59512          54        959             7.82%           0           1     FN\n",
      "59513          55        959             4.31%           0           1     FN\n",
      "59514          56        959             2.48%           0           1     FN\n",
      "59515          57        959             1.86%           0           1     FN\n",
      "59516          58        959             2.19%           0           1     FN\n",
      "59517          59        959             3.12%           0           1     FN\n",
      "59518          60        959             4.82%           0           1     FN\n",
      "59519          61        959             7.11%           0           1     FN\n",
      "59582           0        961            15.98%           0           1     FN\n",
      "59583           1        961            13.55%           0           1     FN\n",
      "59584           2        961            12.19%           0           1     FN\n",
      "59585           3        961            16.55%           0           1     FN\n",
      "59586           4        961            31.73%           0           1     FN\n",
      "59587           5        961            33.58%           0           1     FN\n",
      "59588           6        961            34.20%           0           1     FN\n",
      "59618          36        961            39.16%           0           1     FN\n",
      "59644           0        962            45.65%           0           1     FN\n",
      "59768           0        964            37.00%           0           1     FN\n",
      "59769           1        964            31.96%           0           1     FN\n",
      "59770           2        964            42.25%           0           1     FN\n",
      "59830           0        965            45.28%           0           1     FN\n",
      "59831           1        965            44.28%           0           1     FN\n",
      "60204           2        971            49.08%           0           1     FN\n",
      "60264           0        972            49.59%           0           1     FN\n",
      "60450           0        975            17.13%           0           1     FN\n",
      "60451           1        975            13.81%           0           1     FN\n",
      "60452           2        975            27.79%           0           1     FN\n",
      "60453           3        975            46.14%           0           1     FN\n",
      "60636           0        978            11.44%           0           1     FN\n",
      "60822           0        981            18.79%           0           1     FN\n",
      "60823           1        981            32.87%           0           1     FN\n",
      "60825           3        981            48.53%           0           1     FN\n",
      "60826           4        981            42.85%           0           1     FN\n",
      "60827           5        981            43.92%           0           1     FN\n",
      "60828           6        981            43.87%           0           1     FN\n",
      "60885           1        982            47.16%           0           1     FN\n",
      "60923          39        982            37.31%           0           1     FN\n",
      "60924          40        982            47.37%           0           1     FN\n",
      "60926          42        982            49.44%           0           1     FN\n",
      "60931          47        982            42.67%           0           1     FN\n",
      "60932          48        982            38.29%           0           1     FN\n",
      "60933          49        982            39.44%           0           1     FN\n",
      "60934          50        982            40.65%           0           1     FN\n",
      "60935          51        982            41.52%           0           1     FN\n",
      "60936          52        982            44.35%           0           1     FN\n",
      "60937          53        982            41.48%           0           1     FN\n",
      "60938          54        982            36.23%           0           1     FN\n",
      "60939          55        982            32.98%           0           1     FN\n",
      "60940          56        982            25.51%           0           1     FN\n",
      "60941          57        982            25.34%           0           1     FN\n",
      "60942          58        982            23.30%           0           1     FN\n",
      "60943          59        982            20.64%           0           1     FN\n",
      "60944          60        982            19.69%           0           1     FN\n",
      "60945          61        982            18.52%           0           1     FN\n",
      "60946           0        983            19.35%           0           1     FN\n",
      "60947           1        983            30.78%           0           1     FN\n",
      "60948           2        983            44.17%           0           1     FN\n",
      "61070           0        985            12.17%           0           1     FN\n",
      "61071           1        985            17.90%           0           1     FN\n",
      "61214          20        987            49.70%           0           1     FN\n",
      "61380           0        990            15.98%           0           1     FN\n",
      "61381           1        990            40.09%           0           1     FN\n",
      "61392          12        990            47.06%           0           1     FN\n",
      "61393          13        990            35.09%           0           1     FN\n",
      "61394          14        990            19.80%           0           1     FN\n",
      "61395          15        990            27.80%           0           1     FN\n",
      "61396          16        990            33.32%           0           1     FN\n",
      "61426          46        990            47.81%           0           1     FN\n",
      "61631           3        994            24.45%           0           1     FN\n",
      "61632           4        994            19.35%           0           1     FN\n",
      "61633           5        994            13.58%           0           1     FN\n",
      "61634           6        994            25.58%           0           1     FN\n",
      "62248           0       1004            11.55%           0           1     FN\n",
      "62249           1       1004            31.32%           0           1     FN\n",
      "62255           7       1004            48.64%           0           1     FN\n",
      "62256           8       1004            48.33%           0           1     FN\n",
      "62257           9       1004            49.31%           0           1     FN\n",
      "62868           0       1014             3.89%           0           1     FN\n",
      "62869           1       1014             6.03%           0           1     FN\n",
      "62870           2       1014            42.31%           0           1     FN\n",
      "62932           2       1015            46.73%           0           1     FN\n",
      "63116           0       1018            13.18%           0           1     FN\n",
      "63117           1       1018            15.01%           0           1     FN\n",
      "63118           2       1018            11.25%           0           1     FN\n",
      "63119           3       1018            10.35%           0           1     FN\n",
      "63120           4       1018            16.01%           0           1     FN\n",
      "63121           5       1018            21.09%           0           1     FN\n",
      "63122           6       1018            39.04%           0           1     FN\n",
      "63302           0       1021            43.90%           0           1     FN\n",
      "63364           0       1022            46.14%           0           1     FN\n",
      "63675           1       1027            33.06%           0           1     FN\n",
      "63676           2       1027            36.81%           0           1     FN\n",
      "63738           2       1028            44.29%           0           1     FN\n",
      "63739           3       1028            40.18%           0           1     FN\n",
      "63984           0       1032            31.58%           0           1     FN\n",
      "63985           1       1032            40.57%           0           1     FN\n",
      "63987           3       1032            44.46%           0           1     FN\n",
      "64093          47       1033            46.92%           0           1     FN\n",
      "64094          48       1033            44.81%           0           1     FN\n",
      "64095          49       1033            38.64%           0           1     FN\n",
      "64096          50       1033            35.33%           0           1     FN\n",
      "64097          51       1033            31.97%           0           1     FN\n",
      "64098          52       1033            38.28%           0           1     FN\n",
      "64099          53       1033            40.35%           0           1     FN\n",
      "64100          54       1033            43.23%           0           1     FN\n",
      "64101          55       1033            47.75%           0           1     FN\n",
      "64102          56       1033            45.01%           0           1     FN\n",
      "64103          57       1033            40.22%           0           1     FN\n",
      "64104          58       1033            33.59%           0           1     FN\n",
      "64105          59       1033            28.38%           0           1     FN\n",
      "64106          60       1033            28.72%           0           1     FN\n",
      "64107          61       1033            27.41%           0           1     FN\n",
      "64145          37       1034            49.34%           0           1     FN\n",
      "64146          38       1034            46.89%           0           1     FN\n",
      "64294           0       1037            30.83%           0           1     FN\n",
      "64295           1       1037            16.87%           0           1     FN\n",
      "64296           2       1037            35.58%           0           1     FN\n",
      "64301           7       1037            45.14%           0           1     FN\n",
      "64302           8       1037            46.44%           0           1     FN\n",
      "64304          10       1037            32.00%           0           1     FN\n",
      "64305          11       1037            42.88%           0           1     FN\n",
      "64306          12       1037            23.46%           0           1     FN\n",
      "64307          13       1037            13.63%           0           1     FN\n",
      "64308          14       1037            23.96%           0           1     FN\n",
      "64309          15       1037             6.65%           0           1     FN\n",
      "64310          16       1037            31.81%           0           1     FN\n",
      "64356           0       1038             4.34%           0           1     FN\n",
      "64357           1       1038            16.66%           0           1     FN\n",
      "64358           2       1038            22.39%           0           1     FN\n",
      "64359           3       1038            28.24%           0           1     FN\n",
      "64360           4       1038            29.89%           0           1     FN\n",
      "64361           5       1038            26.27%           0           1     FN\n",
      "64362           6       1038            21.07%           0           1     FN\n",
      "64363           7       1038            16.98%           0           1     FN\n",
      "64364           8       1038            16.04%           0           1     FN\n",
      "64365           9       1038            15.97%           0           1     FN\n",
      "64366          10       1038            19.20%           0           1     FN\n",
      "64367          11       1038            28.37%           0           1     FN\n",
      "64368          12       1038            33.59%           0           1     FN\n",
      "64369          13       1038            36.96%           0           1     FN\n",
      "64370          14       1038            39.32%           0           1     FN\n",
      "64371          15       1038            44.55%           0           1     FN\n",
      "64418           0       1039            22.90%           0           1     FN\n",
      "64419           1       1039            20.27%           0           1     FN\n",
      "64420           2       1039            14.71%           0           1     FN\n",
      "64421           3       1039            16.41%           0           1     FN\n",
      "64422           4       1039            16.66%           0           1     FN\n",
      "64423           5       1039            16.97%           0           1     FN\n",
      "64424           6       1039            14.88%           0           1     FN\n",
      "64425           7       1039            12.44%           0           1     FN\n",
      "64426           8       1039            10.40%           0           1     FN\n",
      "64427           9       1039             9.26%           0           1     FN\n",
      "64428          10       1039             8.38%           0           1     FN\n",
      "64429          11       1039             7.63%           0           1     FN\n",
      "64430          12       1039             7.21%           0           1     FN\n",
      "64431          13       1039             6.91%           0           1     FN\n",
      "64432          14       1039             8.17%           0           1     FN\n",
      "64433          15       1039            10.86%           0           1     FN\n",
      "64434          16       1039            13.29%           0           1     FN\n",
      "64435          17       1039            13.67%           0           1     FN\n",
      "64436          18       1039            13.57%           0           1     FN\n",
      "64437          19       1039            11.90%           0           1     FN\n",
      "64438          20       1039            10.81%           0           1     FN\n",
      "64439          21       1039            11.30%           0           1     FN\n",
      "64440          22       1039            15.25%           0           1     FN\n",
      "64441          23       1039            18.47%           0           1     FN\n",
      "64442          24       1039            17.42%           0           1     FN\n",
      "64443          25       1039            15.22%           0           1     FN\n",
      "64444          26       1039            14.00%           0           1     FN\n",
      "64445          27       1039            14.20%           0           1     FN\n",
      "64446          28       1039            15.26%           0           1     FN\n",
      "64447          29       1039            17.55%           0           1     FN\n",
      "64448          30       1039            22.62%           0           1     FN\n",
      "64449          31       1039            30.21%           0           1     FN\n",
      "64456          38       1039            46.83%           0           1     FN\n",
      "64457          39       1039            42.94%           0           1     FN\n",
      "64458          40       1039            39.32%           0           1     FN\n",
      "64459          41       1039            35.92%           0           1     FN\n",
      "64460          42       1039            33.80%           0           1     FN\n",
      "64461          43       1039            35.14%           0           1     FN\n",
      "64462          44       1039            46.09%           0           1     FN\n",
      "64542           0       1041            33.81%           0           1     FN\n",
      "65348           0       1054            29.08%           0           1     FN\n",
      "65349           1       1054            30.86%           0           1     FN\n",
      "65350           2       1054            29.46%           0           1     FN\n",
      "65351           3       1054            44.60%           0           1     FN\n",
      "65534           0       1057            37.05%           0           1     FN\n",
      "65535           1       1057            29.70%           0           1     FN\n",
      "65536           2       1057            37.68%           0           1     FN\n",
      "65537           3       1057            45.25%           0           1     FN\n",
      "65538           4       1057            46.22%           0           1     FN\n",
      "65783           1       1061            30.67%           0           1     FN\n",
      "66154           0       1067            18.70%           0           1     FN\n",
      "66155           1       1067            14.23%           0           1     FN\n",
      "66156           2       1067            42.46%           0           1     FN\n",
      "66157           3       1067            22.52%           0           1     FN\n",
      "66158           4       1067            48.28%           0           1     FN\n",
      "66159           5       1067            48.29%           0           1     FN\n",
      "66160           6       1067            36.45%           0           1     FN\n",
      "66161           7       1067            36.91%           0           1     FN\n",
      "66162           8       1067            45.34%           0           1     FN\n",
      "66163           9       1067            41.97%           0           1     FN\n",
      "66464           0       1072            25.94%           0           1     FN\n",
      "66465           1       1072            23.57%           0           1     FN\n",
      "66466           2       1072            40.24%           0           1     FN\n",
      "66467           3       1072            49.14%           0           1     FN\n",
      "66650           0       1075            41.99%           0           1     FN\n",
      "66653           3       1075            40.49%           0           1     FN\n",
      "66656           6       1075            19.92%           0           1     FN\n",
      "66657           7       1075            21.97%           0           1     FN\n",
      "66658           8       1075            38.05%           0           1     FN\n",
      "66774           0       1077            10.50%           0           1     FN\n",
      "66775           1       1077            13.16%           0           1     FN\n",
      "66776           2       1077            14.87%           0           1     FN\n",
      "66777           3       1077            19.91%           0           1     FN\n",
      "66898           0       1079            26.35%           0           1     FN\n",
      "67084           0       1082            11.77%           0           1     FN\n",
      "67085           1       1082            14.09%           0           1     FN\n",
      "67086           2       1082            18.00%           0           1     FN\n",
      "67087           3       1082            22.43%           0           1     FN\n",
      "67088           4       1082            28.23%           0           1     FN\n",
      "67089           5       1082            38.96%           0           1     FN\n",
      "67090           6       1082            30.54%           0           1     FN\n",
      "67091           7       1082            23.34%           0           1     FN\n",
      "67092           8       1082            15.82%           0           1     FN\n",
      "67093           9       1082            12.77%           0           1     FN\n",
      "67094          10       1082            29.18%           0           1     FN\n",
      "67124          40       1082            40.23%           0           1     FN\n",
      "67125          41       1082            45.76%           0           1     FN\n",
      "67126          42       1082            43.09%           0           1     FN\n",
      "67518           0       1089            15.35%           0           1     FN\n",
      "67519           1       1089            14.91%           0           1     FN\n",
      "67520           2       1089            19.97%           0           1     FN\n",
      "67521           3       1089            17.46%           0           1     FN\n",
      "67522           4       1089            20.26%           0           1     FN\n",
      "67523           5       1089            18.76%           0           1     FN\n",
      "67524           6       1089            18.61%           0           1     FN\n",
      "67525           7       1089            17.71%           0           1     FN\n",
      "67526           8       1089            17.24%           0           1     FN\n",
      "67527           9       1089            16.62%           0           1     FN\n",
      "67528          10       1089            16.57%           0           1     FN\n",
      "67529          11       1089            16.59%           0           1     FN\n",
      "67530          12       1089            16.88%           0           1     FN\n",
      "67531          13       1089            20.47%           0           1     FN\n",
      "67532          14       1089            27.77%           0           1     FN\n",
      "67533          15       1089            35.61%           0           1     FN\n",
      "67642           0       1091            32.91%           0           1     FN\n",
      "67705           1       1092            43.03%           0           1     FN\n",
      "67828           0       1094            45.46%           0           1     FN\n",
      "67829           1       1094            47.91%           0           1     FN\n",
      "67890           0       1095            25.21%           0           1     FN\n",
      "67891           1       1095            23.92%           0           1     FN\n",
      "67892           2       1095            35.01%           0           1     FN\n",
      "67893           3       1095            44.95%           0           1     FN\n",
      "68386           0       1103            26.03%           0           1     FN\n",
      "68387           1       1103            30.11%           0           1     FN\n",
      "68388           2       1103            28.29%           0           1     FN\n",
      "68390           4       1103            33.66%           0           1     FN\n",
      "68628          56       1106            45.83%           0           1     FN\n",
      "68629          57       1106            29.09%           0           1     FN\n",
      "68630          58       1106            33.36%           0           1     FN\n",
      "68685          51       1107            49.97%           0           1     FN\n",
      "68686          52       1107            39.45%           0           1     FN\n",
      "68687          53       1107            33.58%           0           1     FN\n",
      "68688          54       1107            27.13%           0           1     FN\n",
      "68689          55       1107            22.30%           0           1     FN\n",
      "68690          56       1107            22.86%           0           1     FN\n",
      "68691          57       1107            23.43%           0           1     FN\n",
      "68692          58       1107            33.35%           0           1     FN\n",
      "68693          59       1107            40.35%           0           1     FN\n",
      "68694          60       1107            43.98%           0           1     FN\n",
      "68695          61       1107            43.01%           0           1     FN\n",
      "69192           0       1116            46.14%           0           1     FN\n",
      "69316           0       1118            20.76%           0           1     FN\n",
      "69317           1       1118            18.09%           0           1     FN\n",
      "69318           2       1118            34.82%           0           1     FN\n",
      "69319           3       1118            30.77%           0           1     FN\n",
      "69936           0       1128            37.49%           0           1     FN\n",
      "69937           1       1128            38.53%           0           1     FN\n",
      "69938           2       1128            46.75%           0           1     FN\n",
      "69939           3       1128            39.42%           0           1     FN\n",
      "69940           4       1128            24.93%           0           1     FN\n",
      "69941           5       1128            40.79%           0           1     FN\n",
      "70308           0       1134            13.72%           0           1     FN\n",
      "70309           1       1134            14.29%           0           1     FN\n",
      "70310           2       1134            44.41%           0           1     FN\n",
      "70311           3       1134            38.10%           0           1     FN\n",
      "70494           0       1137            44.87%           0           1     FN\n",
      "70495           1       1137            48.60%           0           1     FN\n",
      "70496           2       1137            30.28%           0           1     FN\n",
      "70928           0       1144            28.75%           0           1     FN\n",
      "70990           0       1145            32.03%           0           1     FN\n",
      "70991           1       1145            33.14%           0           1     FN\n",
      "71362           0       1151            32.43%           0           1     FN\n",
      "71363           1       1151            25.39%           0           1     FN\n",
      "71364           2       1151            10.49%           0           1     FN\n",
      "71365           3       1151            11.79%           0           1     FN\n",
      "71366           4       1151            23.29%           0           1     FN\n",
      "71367           5       1151            30.24%           0           1     FN\n",
      "71368           6       1151            29.07%           0           1     FN\n",
      "71369           7       1151            20.77%           0           1     FN\n",
      "71370           8       1151            28.89%           0           1     FN\n",
      "71371           9       1151            42.84%           0           1     FN\n",
      "71372          10       1151            45.03%           0           1     FN\n",
      "71373          11       1151            46.28%           0           1     FN\n",
      "71374          12       1151            39.65%           0           1     FN\n",
      "71375          13       1151            32.90%           0           1     FN\n",
      "71376          14       1151            37.70%           0           1     FN\n",
      "71424           0       1152            42.42%           0           1     FN\n",
      "71480          56       1152            36.90%           0           1     FN\n",
      "71481          57       1152            30.19%           0           1     FN\n",
      "71482          58       1152            44.38%           0           1     FN\n",
      "71920           0       1160            28.22%           0           1     FN\n",
      "71921           1       1160            16.70%           0           1     FN\n",
      "71922           2       1160            10.82%           0           1     FN\n",
      "71923           3       1160            13.93%           0           1     FN\n",
      "71924           4       1160            11.06%           0           1     FN\n",
      "71925           5       1160            10.14%           0           1     FN\n",
      "71926           6       1160            10.10%           0           1     FN\n",
      "71927           7       1160             8.81%           0           1     FN\n",
      "71928           8       1160             8.26%           0           1     FN\n",
      "71929           9       1160             7.04%           0           1     FN\n",
      "71930          10       1160             6.47%           0           1     FN\n",
      "71931          11       1160             5.90%           0           1     FN\n",
      "71932          12       1160             7.15%           0           1     FN\n",
      "71933          13       1160             8.86%           0           1     FN\n",
      "71934          14       1160             9.33%           0           1     FN\n",
      "71935          15       1160             7.69%           0           1     FN\n",
      "71936          16       1160             8.74%           0           1     FN\n",
      "71937          17       1160            11.61%           0           1     FN\n",
      "71938          18       1160            17.37%           0           1     FN\n",
      "71939          19       1160            23.43%           0           1     FN\n",
      "71940          20       1160            29.08%           0           1     FN\n",
      "71941          21       1160            36.29%           0           1     FN\n",
      "71942          22       1160            45.76%           0           1     FN\n",
      "72354           0       1167            13.06%           0           1     FN\n",
      "72355           1       1167            12.67%           0           1     FN\n",
      "72356           2       1167             9.70%           0           1     FN\n",
      "72357           3       1167             9.27%           0           1     FN\n",
      "72358           4       1167            15.04%           0           1     FN\n",
      "72359           5       1167            22.38%           0           1     FN\n",
      "72360           6       1167            39.36%           0           1     FN\n",
      "72542           2       1170            42.65%           0           1     FN\n",
      "72543           3       1170            32.56%           0           1     FN\n",
      "72544           4       1170            24.42%           0           1     FN\n",
      "72545           5       1170            20.21%           0           1     FN\n",
      "72546           6       1170            17.03%           0           1     FN\n",
      "72547           7       1170            15.18%           0           1     FN\n",
      "72548           8       1170            17.82%           0           1     FN\n",
      "72549           9       1170            18.07%           0           1     FN\n",
      "72550          10       1170            18.26%           0           1     FN\n",
      "72551          11       1170            19.05%           0           1     FN\n",
      "72552          12       1170            18.66%           0           1     FN\n",
      "72553          13       1170            15.87%           0           1     FN\n",
      "72554          14       1170            14.18%           0           1     FN\n",
      "72555          15       1170            12.92%           0           1     FN\n",
      "72556          16       1170            11.51%           0           1     FN\n",
      "72557          17       1170             9.77%           0           1     FN\n",
      "72558          18       1170             8.46%           0           1     FN\n",
      "72559          19       1170             8.25%           0           1     FN\n",
      "72560          20       1170             8.81%           0           1     FN\n",
      "72561          21       1170            12.01%           0           1     FN\n",
      "72562          22       1170            17.43%           0           1     FN\n",
      "72563          23       1170            33.24%           0           1     FN\n",
      "72569          29       1170            25.09%           0           1     FN\n",
      "72570          30       1170            19.94%           0           1     FN\n",
      "72571          31       1170            20.98%           0           1     FN\n",
      "72572          32       1170            20.48%           0           1     FN\n",
      "72573          33       1170            17.92%           0           1     FN\n",
      "72574          34       1170            16.73%           0           1     FN\n",
      "72575          35       1170            15.67%           0           1     FN\n",
      "72576          36       1170            15.62%           0           1     FN\n",
      "72577          37       1170            16.58%           0           1     FN\n",
      "72578          38       1170            22.42%           0           1     FN\n",
      "72850           0       1175            16.98%           0           1     FN\n",
      "72851           1       1175            16.26%           0           1     FN\n",
      "72852           2       1175            15.27%           0           1     FN\n",
      "72853           3       1175            20.03%           0           1     FN\n",
      "72854           4       1175            37.70%           0           1     FN\n",
      "73098           0       1179            31.45%           0           1     FN\n",
      "73160           0       1180             9.41%           0           1     FN\n",
      "73161           1       1180            19.65%           0           1     FN\n",
      "73162           2       1180            43.42%           0           1     FN\n",
      "73222           0       1181            44.10%           0           1     FN\n",
      "73346           0       1183            10.50%           0           1     FN\n",
      "73347           1       1183             8.71%           0           1     FN\n",
      "73348           2       1183             7.94%           0           1     FN\n",
      "73349           3       1183             7.96%           0           1     FN\n",
      "73350           4       1183             8.90%           0           1     FN\n",
      "73351           5       1183             7.69%           0           1     FN\n",
      "73352           6       1183            12.76%           0           1     FN\n",
      "73353           7       1183            39.86%           0           1     FN\n",
      "73354           8       1183            46.35%           0           1     FN\n",
      "73532           0       1186            48.80%           0           1     FN\n",
      "73843           1       1191            49.27%           0           1     FN\n",
      "73904           0       1192            46.73%           0           1     FN\n",
      "73905           1       1192            22.06%           0           1     FN\n",
      "73906           2       1192            14.61%           0           1     FN\n",
      "73907           3       1192            22.64%           0           1     FN\n",
      "73910           6       1192            42.41%           0           1     FN\n",
      "73911           7       1192            33.54%           0           1     FN\n",
      "73912           8       1192            42.49%           0           1     FN\n",
      "74090           0       1195            21.38%           0           1     FN\n",
      "74091           1       1195            26.03%           0           1     FN\n",
      "74092           2       1195            33.00%           0           1     FN\n",
      "74093           3       1195            45.96%           0           1     FN\n",
      "74338           0       1199            16.38%           0           1     FN\n",
      "74339           1       1199            14.83%           0           1     FN\n",
      "74341           3       1199            49.40%           0           1     FN\n",
      "74648           0       1204            45.85%           0           1     FN\n",
      "74896           0       1208            20.44%           0           1     FN\n",
      "74897           1       1208            20.89%           0           1     FN\n",
      "74898           2       1208            38.16%           0           1     FN\n",
      "74958           0       1209            13.65%           0           1     FN\n",
      "74959           1       1209            14.27%           0           1     FN\n",
      "74960           2       1209            24.24%           0           1     FN\n",
      "74961           3       1209            19.13%           0           1     FN\n",
      "74962           4       1209            36.54%           0           1     FN\n",
      "75330           0       1215            36.35%           0           1     FN\n",
      "75748          46       1221            45.04%           0           1     FN\n",
      "75749          47       1221            35.67%           0           1     FN\n",
      "75750          48       1221            27.56%           0           1     FN\n",
      "75751          49       1221            21.31%           0           1     FN\n",
      "75752          50       1221            21.29%           0           1     FN\n",
      "75753          51       1221            24.26%           0           1     FN\n",
      "75754          52       1221            23.53%           0           1     FN\n",
      "75755          53       1221            22.81%           0           1     FN\n",
      "75756          54       1221            20.77%           0           1     FN\n",
      "75757          55       1221            23.39%           0           1     FN\n",
      "75758          56       1221            24.20%           0           1     FN\n",
      "75759          57       1221            22.97%           0           1     FN\n",
      "75760          58       1221            18.84%           0           1     FN\n",
      "75761          59       1221            12.69%           0           1     FN\n",
      "75762          60       1221             9.15%           0           1     FN\n",
      "75763          61       1221             9.01%           0           1     FN\n",
      "76322           0       1231            35.51%           0           1     FN\n",
      "76882           2       1240            27.61%           0           1     FN\n",
      "76883           3       1240            34.88%           0           1     FN\n",
      "77004           0       1242            23.51%           0           1     FN\n",
      "77005           1       1242            37.24%           0           1     FN\n",
      "77314           0       1247            31.33%           0           1     FN\n",
      "77315           1       1247            20.29%           0           1     FN\n",
      "77316           2       1247            33.73%           0           1     FN\n",
      "77317           3       1247            20.29%           0           1     FN\n",
      "77318           4       1247             7.81%           0           1     FN\n",
      "77319           5       1247             5.92%           0           1     FN\n",
      "77320           6       1247             9.76%           0           1     FN\n",
      "77321           7       1247             9.09%           0           1     FN\n",
      "77322           8       1247             6.91%           0           1     FN\n",
      "77323           9       1247            15.48%           0           1     FN\n",
      "77324          10       1247            27.45%           0           1     FN\n",
      "77686           0       1253            34.08%           0           1     FN\n",
      "77687           1       1253            35.57%           0           1     FN\n",
      "77935           1       1257            26.40%           0           1     FN\n",
      "77936           2       1257            20.98%           0           1     FN\n",
      "77937           3       1257            18.59%           0           1     FN\n",
      "77938           4       1257            19.49%           0           1     FN\n",
      "77939           5       1257            23.94%           0           1     FN\n",
      "77940           6       1257            31.47%           0           1     FN\n",
      "77941           7       1257            41.49%           0           1     FN\n",
      "77942           8       1257            49.63%           0           1     FN\n",
      "78864           0       1272            31.11%           0           1     FN\n",
      "78865           1       1272            29.22%           0           1     FN\n",
      "78866           2       1272            41.39%           0           1     FN\n",
      "78867           3       1272            45.06%           0           1     FN\n",
      "78868           4       1272            49.69%           0           1     FN\n",
      "79237           1       1278            37.60%           0           1     FN\n",
      "79360           0       1280            36.67%           0           1     FN\n",
      "79361           1       1280            40.72%           0           1     FN\n",
      "79485           1       1282            46.46%           0           1     FN\n",
      "79486           2       1282            35.09%           0           1     FN\n",
      "79487           3       1282            37.24%           0           1     FN\n",
      "79546           0       1283            45.30%           0           1     FN\n",
      "79608           0       1284            34.26%           0           1     FN\n",
      "79609           1       1284            36.57%           0           1     FN\n"
     ]
    },
    {
     "data": {
      "image/png": "[encoded data removed]",
      "text/plain": [
       "<Figure size 640x480 with 1 Axes>"
      ]
     },
     "metadata": {},
     "output_type": "display_data"
    },
    {
     "data": {
      "image/png": "[encoded data removed]",
      "text/plain": [
       "<Figure size 640x480 with 1 Axes>"
      ]
     },
     "metadata": {},
     "output_type": "display_data"
    },
    {
     "name": "stdout",
     "output_type": "stream",
     "text": [
      "LIMITS RANGE range(0, 6)\n"
     ]
    },
    {
     "data": {
      "image/png": "[encoded data removed]",
      "text/plain": [
       "<Figure size 640x480 with 1 Axes>"
      ]
     },
     "metadata": {},
     "output_type": "display_data"
    }
   ],
   "source": [
    "false_positive = df[df[\"Result\"] == \"FP\"]\n",
    "false_negative = df[df[\"Result\"] == \"FN\"]\n",
    "\n",
    "\n",
    "def false_events_plots(false_events: pd.DataFrame, Title: str):\n",
    "    # df and plots settings\n",
    "    pd.set_option(\"display.float_format\", \"{:.2%}\".format)\n",
    "    pd.options.plotting.backend = \"matplotlib\"\n",
    "    pd.set_option(\"display.max_rows\", 2000)\n",
    "\n",
    "    false_events_plot = false_events.groupby([\"window idx\"])[\"window idx\"].count()\n",
    "\n",
    "    if len(false_events_plot) > 0:\n",
    "        print(Title.upper())\n",
    "        print(f\"Total \")\n",
    "        print(false_events)\n",
    "        false_events.groupby([\"event_idx\"])[\"event_idx\"].count().plot(kind=\"bar\")\n",
    "        plt.title(f\"{Title}s per Event\")\n",
    "        plt.show()\n",
    "\n",
    "        false_events_plot.plot(kind=\"bar\", edgecolor=\"black\")\n",
    "        plt.title(f\"{Title} per Window Index\")\n",
    "        plt.show()\n",
    "\n",
    "        limits_range = (\n",
    "            range(6) if (false_events[\"Pred probability\"].min() < 0.5) else range(5, 11)\n",
    "        )\n",
    "        print(f\"LIMITS RANGE {limits_range}\")\n",
    "        false_events[\"Pred probability\"].value_counts(\n",
    "            bins=[i * 0.1 for i in limits_range], sort=False, normalize=True\n",
    "        ).plot(kind=\"bar\")\n",
    "        plt.title(f\"{Title} probability per time interval\")\n",
    "        plt.show()\n",
    "\n",
    "\n",
    "false_events_plots(false_positive, \"False Positive\")\n",
    "false_events_plots(false_negative, \"False Negatives\")"
   ]
  },
  {
   "cell_type": "code",
   "execution_count": null,
   "metadata": {},
   "outputs": [],
   "source": []
  }
 ],
 "metadata": {
  "kernelspec": {
   "display_name": "env",
   "language": "python",
   "name": "python3"
  },
  "language_info": {
   "codemirror_mode": {
    "name": "ipython",
    "version": 3
   },
   "file_extension": ".py",
   "mimetype": "text/x-python",
   "name": "python",
   "nbconvert_exporter": "python",
   "pygments_lexer": "ipython3",
   "version": "3.9.13"
  },
  "orig_nbformat": 4
 },
 "nbformat": 4,
 "nbformat_minor": 2
}
