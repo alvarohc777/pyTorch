{
 "cells": [
  {
   "attachments": {},
   "cell_type": "markdown",
   "metadata": {},
   "source": [
    "<center><h1 style:\"text-align:center;\">Formulación 1</h1></center>\n",
    "<center><h3>Relé 1</h3></center>"
   ]
  },
  {
   "attachments": {},
   "cell_type": "markdown",
   "metadata": {},
   "source": [
    "### 1. Imports"
   ]
  },
  {
   "cell_type": "code",
   "execution_count": 2,
   "metadata": {},
   "outputs": [],
   "source": [
    "import torch\n",
    "import torch.nn as nn\n",
    "from torch.utils.data import Dataset, DataLoader, random_split\n",
    "\n",
    "# Métricas\n",
    "from torchmetrics.functional.classification import binary_stat_scores\n",
    "\n",
    "# Visualizar datos\n",
    "import numpy as np\n",
    "import pandas as pd\n",
    "import matplotlib.pyplot as plt\n",
    "import plotly.express as px\n",
    "\n",
    "# Progress bar\n",
    "from tqdm import tqdm\n",
    "\n",
    "# Acceder al sistema operativo\n",
    "import os\n",
    "import glob\n",
    "import shutil\n",
    "import random\n"
   ]
  },
  {
   "attachments": {},
   "cell_type": "markdown",
   "metadata": {},
   "source": [
    "### 2. Model Parameters"
   ]
  },
  {
   "cell_type": "code",
   "execution_count": 10,
   "metadata": {},
   "outputs": [
    {
     "name": "stdout",
     "output_type": "stream",
     "text": [
      "cpu\n"
     ]
    }
   ],
   "source": [
    "# LSTM parameters\n",
    "hidden_dim = 20\n",
    "n_signals = 3\n",
    "N = 64\n",
    "\n",
    "# _batch_size => m in figure 1.\n",
    "train_batch_size = 64\n",
    "dev_batch_size = 16\n",
    "test_batch_size = 16\n",
    "\n",
    "# Classification type (binary)\n",
    "tagset_size = 1\n",
    "\n",
    "# Set\n",
    "device = \"cuda\" if torch.cuda.is_available() else \"cpu\"\n",
    "print(device)\n"
   ]
  },
  {
   "attachments": {},
   "cell_type": "markdown",
   "metadata": {},
   "source": [
    "\n",
    "\n",
    "\n",
    "### 3. Model Creation"
   ]
  },
  {
   "attachments": {},
   "cell_type": "markdown",
   "metadata": {},
   "source": [
    "##### 3.1. FaultDetector Class Creation"
   ]
  },
  {
   "cell_type": "code",
   "execution_count": 11,
   "metadata": {},
   "outputs": [],
   "source": [
    "# Model Creation\n",
    "\n",
    "\n",
    "class FaultDetector(nn.Module):\n",
    "    \"\"\"Information about FaultDetector\"\"\"\n",
    "\n",
    "    def __init__(self, n_signals, hidden_dim, tagset_size):\n",
    "        super(FaultDetector, self).__init__()\n",
    "        self.lstm = nn.LSTM(n_signals, hidden_dim, batch_first=True)\n",
    "        self.fc = nn.Linear(hidden_dim, tagset_size)\n",
    "        self.norm = nn.BatchNorm1d(tagset_size)\n",
    "\n",
    "    def forward(self, x):\n",
    "        lstm_out, _ = self.lstm(x)\n",
    "        fc_layer = self.fc(lstm_out[:, -1, :])\n",
    "        # norm_layer = self.norm(fc_layer)\n",
    "\n",
    "        return torch.sigmoid(fc_layer)\n"
   ]
  },
  {
   "attachments": {},
   "cell_type": "markdown",
   "metadata": {},
   "source": [
    "##### 3.2. Model Instance Initialization"
   ]
  },
  {
   "cell_type": "code",
   "execution_count": 12,
   "metadata": {},
   "outputs": [
    {
     "name": "stdout",
     "output_type": "stream",
     "text": [
      "Model structure: FaultDetector(\n",
      "  (lstm): LSTM(3, 20, batch_first=True)\n",
      "  (fc): Linear(in_features=20, out_features=1, bias=True)\n",
      "  (norm): BatchNorm1d(1, eps=1e-05, momentum=0.1, affine=True, track_running_stats=True)\n",
      ")\n",
      "\n",
      "Number of parameters: 2023\n"
     ]
    }
   ],
   "source": [
    "model = FaultDetector(n_signals, hidden_dim, tagset_size).to(device)\n",
    "loss_fn = nn.BCELoss()\n",
    "optimizer = torch.optim.Adam(model.parameters(), lr=1e-2)\n",
    "\n",
    "# Learning rate decay (optional)\n",
    "decayRate = 0.96\n",
    "my_lr_scheduler = torch.optim.lr_scheduler.ExponentialLR(\n",
    "    optimizer=optimizer, gamma=decayRate\n",
    ")\n",
    "\n",
    "print(f\"Model structure: {model}\\n\")\n",
    "\n",
    "# Number of parameters\n",
    "model_parameters = filter(lambda p: p.requires_grad, model.parameters())\n",
    "params = sum([np.prod(p.size()) for p in model_parameters])\n",
    "print(f\"Number of parameters: {params}\")\n"
   ]
  },
  {
   "attachments": {},
   "cell_type": "markdown",
   "metadata": {},
   "source": [
    "### 4. Dataset Creation"
   ]
  },
  {
   "attachments": {},
   "cell_type": "markdown",
   "metadata": {},
   "source": [
    "##### 4.1. Dataset Class Creation"
   ]
  },
  {
   "cell_type": "code",
   "execution_count": 13,
   "metadata": {},
   "outputs": [],
   "source": [
    "# from utils.signalload import CSV_pandas_path\n",
    "# from utils.auxfunctions import moving_window\n",
    "from utils_tesis.signalload import CSV_pandas_path\n",
    "from utils_tesis.auxfunctions import moving_window\n",
    "import numpy as np\n",
    "from itertools import repeat\n",
    "import random\n",
    "\n",
    "\n",
    "class Form1Dataset(torch.utils.data.Dataset):\n",
    "    \"\"\"Some Information about Form1Dataset\"\"\"\n",
    "\n",
    "    def __init__(\n",
    "        self,\n",
    "        dataset_dir,\n",
    "        signal_names,\n",
    "        max_window_idx=65,\n",
    "        window_length=64,\n",
    "        step=1,\n",
    "        test=False,\n",
    "        dataset_size=999999,\n",
    "    ):\n",
    "        super(Form1Dataset, self).__init__()\n",
    "\n",
    "        self.signal_names = signal_names\n",
    "        self.max_window_idx = max_window_idx\n",
    "        self.dataset_dir = dataset_dir\n",
    "        self.test = test\n",
    "\n",
    "        # Find all csv in folders of DataSet\n",
    "        file_set = set()\n",
    "        for dir_, _, files in os.walk(dataset_dir):\n",
    "            for file_name in files:\n",
    "                rel_dir = os.path.relpath(dir_, dataset_dir)\n",
    "                rel_file = os.path.join(rel_dir, file_name)\n",
    "                file_set.add(rel_file)\n",
    "        csv_list = list(file_set)\n",
    "\n",
    "        if dataset_size < len(csv_list):\n",
    "            csv_list = random.sample(csv_list, dataset_size)\n",
    "            # csv_list = csv_list[:dataset_size]\n",
    "        self.csv_list = csv_list\n",
    "        self.csv_amount = len(csv_list)\n",
    "        self.windows_amount = max_window_idx * self.csv_amount\n",
    "        self.window_length = window_length\n",
    "        self.step = step\n",
    "\n",
    "    def __getitem__(self, index, data_plot=False):\n",
    "\n",
    "        # sample_settings\n",
    "        window_length = self.window_length\n",
    "        step = self.step\n",
    "\n",
    "        # calculate window_idx and filename\n",
    "        window_idx = index % self.max_window_idx\n",
    "        csv_idx = index // self.max_window_idx\n",
    "        csv_full_path = f\"{self.dataset_dir}\\{self.csv_list[csv_idx]}\"\n",
    "\n",
    "        # Load CSV, signal and create windows\n",
    "        csv_name = os.path.basename(csv_full_path)\n",
    "        signals_windows = np.empty((self.window_length, 0))\n",
    "\n",
    "        # Load Change Event\n",
    "\n",
    "        if \"L_T\" in self.csv_list[csv_idx]:\n",
    "            for signal_name in self.signal_names:\n",
    "                signal, t, _ = CSV_pandas_path(csv_full_path).load_data(signal_name)\n",
    "                # select window\n",
    "                len_ = len(signal)\n",
    "                signal_window = signal[\n",
    "                    -self.window_length\n",
    "                    - self.max_window_idx\n",
    "                    + window_idx\n",
    "                    - 1 : -self.max_window_idx\n",
    "                    + window_idx\n",
    "                    - 1\n",
    "                ]\n",
    "                signal_window = np.expand_dims(signal_window, axis=1)\n",
    "                signals_windows = np.append(signals_windows, signal_window, axis=1)\n",
    "\n",
    "            t_window = moving_window(t, window_length, step)\n",
    "            t_window = t_window[window_idx]\n",
    "            # Create labels\n",
    "\n",
    "            label = np.array([0])\n",
    "        # # Load Change Event\n",
    "        # if \"L_T\" in self.csv_list[csv_idx]:\n",
    "        #     for signal_name in self.signal_names:\n",
    "        #         signal, t, _ = CSV_pandas_path(csv_full_path).load_data(signal_name)\n",
    "        #         idx_ = window_idx + 300\n",
    "        #         signal_windows = moving_window(\n",
    "        #             signal[idx_ : idx_ + self.max_window_idx ],\n",
    "        #             window_length,\n",
    "        #             step,\n",
    "        #         )\n",
    "        #         # select window\n",
    "        #         signal_window = signal[idx_ : idx_ + self.max_window_idx ],\n",
    "        #         signal_window = np.expand_dims(signal_window, axis=1)\n",
    "        #         signals_windows = np.append(signals_windows, signal_window, axis=1)\n",
    "\n",
    "        #     t_window = moving_window(t, window_length, step)\n",
    "        #     t_window = t_window[window_idx]\n",
    "        #     # Create labels\n",
    "\n",
    "        #     label = np.array([0])\n",
    "\n",
    "        # Fault Event\n",
    "        elif \"F_T\" in self.csv_list[csv_idx]:\n",
    "\n",
    "            # For faults indices 0 and 1 don't contain fault events.\n",
    "            for signal_name in self.signal_names:\n",
    "                signal, t, _ = CSV_pandas_path(csv_full_path).load_data(signal_name)\n",
    "                # select window\n",
    "                signal_window = signal[window_idx : window_idx + self.window_length]\n",
    "                signal_window = np.expand_dims(signal_window, axis=1)\n",
    "                signals_windows = np.append(signals_windows, signal_window, axis=1)\n",
    "\n",
    "            t_window = moving_window(t, window_length, step)\n",
    "            t_window = t_window[window_idx]\n",
    "            # Create labels\n",
    "\n",
    "            if window_idx < 2:\n",
    "                label = np.array([0])\n",
    "            else:\n",
    "                label = np.array([1])\n",
    "        # # Fault Event\n",
    "        # elif \"F_T\" in self.csv_list[csv_idx]:\n",
    "\n",
    "        #     # For faults indices 0 and 1 don't contain fault events.\n",
    "        #     for signal_name in self.signal_names:\n",
    "        #         signal, t, _ = CSV_pandas_path(csv_full_path).load_data(signal_name)\n",
    "        #         signal_windows = moving_window(\n",
    "        #             signal[window_idx : window_idx + self.max_window_idx],\n",
    "        #             window_length,\n",
    "        #             step,\n",
    "        #         )\n",
    "        #         # select window\n",
    "        #         signal_window = signal_windows[window_idx]\n",
    "        #         signal_window = np.expand_dims(signal_window, axis=1)\n",
    "        #         signals_windows = np.append(signals_windows, signal_window, axis=1)\n",
    "\n",
    "        #     t_window = moving_window(t, window_length, step)\n",
    "        #     t_window = t_window[window_idx]\n",
    "        #     # Create labels\n",
    "\n",
    "        #     if window_idx < 2:\n",
    "        #         label = np.array([0])\n",
    "        #     else:\n",
    "        #         label = np.array([1])\n",
    "\n",
    "        signals_windows = torch.from_numpy(np.copy(signals_windows)).float()\n",
    "        label = torch.from_numpy(label).float()\n",
    "        # For Dataset Visualization\n",
    "        if data_plot == True:\n",
    "            return signals_windows.reshape(-1).numpy(), t_window\n",
    "        if self.test == True:\n",
    "            return signals_windows, t_window, label, csv_name, index, window_idx\n",
    "\n",
    "        return signals_windows, label\n",
    "\n",
    "    def get_event(self, csv_idx):\n",
    "\n",
    "        # Get indices\n",
    "        idx_min = csv_idx * self.max_window_idx\n",
    "        idx_max = ((csv_idx + 1) * self.max_window_idx) - 1\n",
    "\n",
    "        # Get path of csv_index\n",
    "        csv_full_path = f\"{self.dataset_dir}\\{self.csv_list[csv_idx]}\"\n",
    "\n",
    "        # Load CSV, signal and create windows\n",
    "        csv_name = os.path.basename(csv_full_path)\n",
    "        signals = np.zeros((0, 0))\n",
    "        for idx, signal_name in enumerate(self.signal_names):\n",
    "            signal, t, _ = CSV_pandas_path(csv_full_path).load_data(signal_name)\n",
    "            signal = np.expand_dims(signal, axis=1)\n",
    "            if idx == 0:\n",
    "                signals = np.empty((len(signal), 0))\n",
    "            signals = np.append(signals, signal, axis=1)\n",
    "        signal = signals\n",
    "        return signal, t, idx_min, idx_max, csv_name\n",
    "\n",
    "    def len_events(self):\n",
    "        return self.csv_amount\n",
    "\n",
    "    def __len__(self):\n",
    "        return self.csv_amount * self.max_window_idx\n"
   ]
  },
  {
   "attachments": {},
   "cell_type": "markdown",
   "metadata": {},
   "source": [
    "##### 4.2. Database Directory Creation "
   ]
  },
  {
   "attachments": {},
   "cell_type": "markdown",
   "metadata": {},
   "source": [
    "##### 4.3. Dataset and Dataloader Instances Creation"
   ]
  },
  {
   "cell_type": "code",
   "execution_count": 16,
   "metadata": {},
   "outputs": [
    {
     "name": "stdout",
     "output_type": "stream",
     "text": [
      "7567\n"
     ]
    }
   ],
   "source": [
    "dataset_dir = \"C:/Users/aherrada/OneDrive - Universidad del Norte/Uninorte/DetectionDataBase/LSTM_SEM\"\n",
    "max_window_idx = 65\n",
    "\n",
    "# Load Dataset\n",
    "current_R1A = \"I: X0023A-R1A\"\n",
    "current_R1B = \"I: X0023B-R1B\"\n",
    "current_R1C = \"I: X0023C-R1C\"\n",
    "current_R2A = \"I: X0004A-R2A\"\n",
    "current_R2B = \"I: X0004B-R2B\"\n",
    "current_R2C = \"I: X0004C-R2C\"\n",
    "current_R3A = \"I: X0071A-R3A\"\n",
    "current_R3B = \"I: X0071B-R3B\"\n",
    "current_R3C = \"I: X0071C-R3C\"\n",
    "\n",
    "voltage_R1A = \"V: R1A\"\n",
    "voltage_R1B = \"V: R1B\"\n",
    "voltage_R1C = \"V: R1C\"\n",
    "signal_names = [current_R3A, current_R3B, current_R3C]\n",
    "\n",
    "dataset = Form1Dataset(\n",
    "    dataset_dir, max_window_idx=max_window_idx, signal_names=signal_names\n",
    ")\n",
    "# dataset.get_events(0)\n",
    "train_dataset, test_dataset, _ = random_split(dataset, [0.1, 0.02, 0.88])\n",
    "\n",
    "# train_dataset = Form1Dataset(\n",
    "#     dataset_dir, max_window_idx=max_window_idx, signal_names=signal_names, dataset_size=20\n",
    "# )\n",
    "# test_dataset = Form1Dataset(\n",
    "#     dataset_dir, max_window_idx=max_window_idx, signal_names=signal_names, dataset_size=15\n",
    "# )\n",
    "train_dataloader = DataLoader(train_dataset, batch_size=train_batch_size, shuffle=True)\n",
    "test_dataloader = DataLoader(test_dataset, batch_size=test_batch_size, shuffle=True)\n",
    "print(len(train_dataset))\n",
    "# print(len(test_dataset))\n",
    "# EL test set realmente es un dev set\n",
    "# Como regla general, si es utilizado dentro del loop es un dev set.\n"
   ]
  },
  {
   "attachments": {},
   "cell_type": "markdown",
   "metadata": {},
   "source": [
    "### 5. Model Training\n"
   ]
  },
  {
   "attachments": {},
   "cell_type": "markdown",
   "metadata": {},
   "source": [
    "##### 5.1. Train / Test(dev) Loop Creation"
   ]
  },
  {
   "cell_type": "code",
   "execution_count": 17,
   "metadata": {},
   "outputs": [],
   "source": [
    "# Create Training / Test / Validation Loops\n",
    "\n",
    "\n",
    "# Training\n",
    "def train(dataloader, model, loss_fn, optimizer, return_loss=False):\n",
    "    size = len(dataloader.dataset)\n",
    "    model.train()\n",
    "    loss_list = []\n",
    "\n",
    "    for batch, (x, y) in enumerate(dataloader):\n",
    "        x, y = x.to(device), y.to(device)\n",
    "\n",
    "        # Compute prediction error\n",
    "        pred = model(x)\n",
    "        loss = loss_fn(pred, y)\n",
    "\n",
    "        # Backpropagation\n",
    "        optimizer.zero_grad()\n",
    "        loss.backward()\n",
    "        optimizer.step()\n",
    "        if return_loss == True:\n",
    "            loss_list.append(loss.item())\n",
    "        if batch % 2 == 0:\n",
    "            loss, current = loss.item(), batch * len(x)\n",
    "            print(f\"loss: {loss:>f} [{current:>5d}/{size:>5d}]\")\n",
    "\n",
    "        if batch % 5 == 0:\n",
    "            my_lr_scheduler.step()\n",
    "    if return_loss == True:\n",
    "        return loss_list\n",
    "\n",
    "\n",
    "from torchmetrics.functional.classification import binary_stat_scores\n",
    "\n",
    "\n",
    "def test_metrics(dataloader, model, loss_fn, return_metrics=False):\n",
    "    size = len(dataloader.dataset)\n",
    "    num_batches = len(dataloader)\n",
    "    conf_matrix = torch.zeros(1, 5, dtype=torch.int64).to(device)\n",
    "    model.eval()\n",
    "    test_loss, correct = 0, 0\n",
    "    with torch.no_grad():\n",
    "        for x, y in tqdm(dataloader):\n",
    "\n",
    "            x, y = x.to(device), y.to(device)\n",
    "            pred = model(x)\n",
    "\n",
    "            conf_matrix = conf_matrix.add(binary_stat_scores(pred, y))\n",
    "            test_loss += loss_fn(pred, y).item()\n",
    "            correct += (torch.round(pred) == y).type(torch.float).sum().item()\n",
    "\n",
    "    test_loss /= num_batches\n",
    "    acc = (conf_matrix[0, 0] + conf_matrix[0, 2]) / conf_matrix[0, :-1].sum()\n",
    "    correct /= size\n",
    "    print(f\"{correct*100:>0.1f}\")\n",
    "    print(f\"Test Error: \\n Accuracy: {(100*acc):>0.1f}%, Avg loss: {test_loss:>8f} \\n\")\n",
    "    if return_metrics == True:\n",
    "        return conf_matrix, test_loss\n"
   ]
  },
  {
   "attachments": {},
   "cell_type": "markdown",
   "metadata": {},
   "source": [
    "##### 5.2. Training the model"
   ]
  },
  {
   "cell_type": "code",
   "execution_count": 23,
   "metadata": {},
   "outputs": [
    {
     "name": "stdout",
     "output_type": "stream",
     "text": [
      "Epoch 1\n",
      "--------------------------------\n",
      "loss: 0.564129 [    0/ 7567]\n",
      "loss: 0.433384 [  128/ 7567]\n",
      "loss: 0.430707 [  256/ 7567]\n",
      "loss: 0.400036 [  384/ 7567]\n",
      "loss: 0.350758 [  512/ 7567]\n",
      "loss: 0.435281 [  640/ 7567]\n",
      "loss: 0.523866 [  768/ 7567]\n",
      "loss: 0.446345 [  896/ 7567]\n",
      "loss: 0.434437 [ 1024/ 7567]\n",
      "loss: 0.428254 [ 1152/ 7567]\n",
      "loss: 0.380333 [ 1280/ 7567]\n",
      "loss: 0.595819 [ 1408/ 7567]\n",
      "loss: 0.519466 [ 1536/ 7567]\n",
      "loss: 0.427947 [ 1664/ 7567]\n",
      "loss: 0.499830 [ 1792/ 7567]\n",
      "loss: 0.472080 [ 1920/ 7567]\n",
      "loss: 0.466004 [ 2048/ 7567]\n"
     ]
    },
    {
     "ename": "KeyboardInterrupt",
     "evalue": "",
     "output_type": "error",
     "traceback": [
      "\u001b[1;31m---------------------------------------------------------------------------\u001b[0m",
      "\u001b[1;31mKeyboardInterrupt\u001b[0m                         Traceback (most recent call last)",
      "Cell \u001b[1;32mIn[23], line 10\u001b[0m\n\u001b[0;32m      7\u001b[0m \u001b[39mfor\u001b[39;00m epoch \u001b[39min\u001b[39;00m \u001b[39mrange\u001b[39m(epochs):\n\u001b[0;32m      9\u001b[0m     \u001b[39mprint\u001b[39m(\u001b[39mf\u001b[39m\u001b[39m\"\u001b[39m\u001b[39mEpoch \u001b[39m\u001b[39m{\u001b[39;00mepoch\u001b[39m+\u001b[39m\u001b[39m1\u001b[39m\u001b[39m}\u001b[39;00m\u001b[39m\\n\u001b[39;00m\u001b[39m--------------------------------\u001b[39m\u001b[39m\"\u001b[39m)\n\u001b[1;32m---> 10\u001b[0m     train_loss \u001b[39m=\u001b[39m train(train_dataloader, model, loss_fn, optimizer, return_loss\u001b[39m=\u001b[39;49m\u001b[39mTrue\u001b[39;49;00m)\n\u001b[0;32m     11\u001b[0m     \u001b[39m# accuracy, _ = test(test_dataloader, model, loss_fn, return_metrics=True)\u001b[39;00m\n\u001b[0;32m     12\u001b[0m     conf_matrix, _ \u001b[39m=\u001b[39m test_metrics(test_dataloader, model, loss_fn, return_metrics\u001b[39m=\u001b[39m\u001b[39mTrue\u001b[39;00m)\n",
      "Cell \u001b[1;32mIn[17], line 10\u001b[0m, in \u001b[0;36mtrain\u001b[1;34m(dataloader, model, loss_fn, optimizer, return_loss)\u001b[0m\n\u001b[0;32m      7\u001b[0m model\u001b[39m.\u001b[39mtrain()\n\u001b[0;32m      8\u001b[0m loss_list \u001b[39m=\u001b[39m []\n\u001b[1;32m---> 10\u001b[0m \u001b[39mfor\u001b[39;00m batch, (x, y) \u001b[39min\u001b[39;00m \u001b[39menumerate\u001b[39m(dataloader):\n\u001b[0;32m     11\u001b[0m     x, y \u001b[39m=\u001b[39m x\u001b[39m.\u001b[39mto(device), y\u001b[39m.\u001b[39mto(device)\n\u001b[0;32m     13\u001b[0m     \u001b[39m# Compute prediction error\u001b[39;00m\n",
      "File \u001b[1;32mc:\\Users\\aherrada\\Documents\\Git\\Pytorch\\env\\lib\\site-packages\\torch\\utils\\data\\dataloader.py:628\u001b[0m, in \u001b[0;36m_BaseDataLoaderIter.__next__\u001b[1;34m(self)\u001b[0m\n\u001b[0;32m    625\u001b[0m \u001b[39mif\u001b[39;00m \u001b[39mself\u001b[39m\u001b[39m.\u001b[39m_sampler_iter \u001b[39mis\u001b[39;00m \u001b[39mNone\u001b[39;00m:\n\u001b[0;32m    626\u001b[0m     \u001b[39m# TODO(https://github.com/pytorch/pytorch/issues/76750)\u001b[39;00m\n\u001b[0;32m    627\u001b[0m     \u001b[39mself\u001b[39m\u001b[39m.\u001b[39m_reset()  \u001b[39m# type: ignore[call-arg]\u001b[39;00m\n\u001b[1;32m--> 628\u001b[0m data \u001b[39m=\u001b[39m \u001b[39mself\u001b[39;49m\u001b[39m.\u001b[39;49m_next_data()\n\u001b[0;32m    629\u001b[0m \u001b[39mself\u001b[39m\u001b[39m.\u001b[39m_num_yielded \u001b[39m+\u001b[39m\u001b[39m=\u001b[39m \u001b[39m1\u001b[39m\n\u001b[0;32m    630\u001b[0m \u001b[39mif\u001b[39;00m \u001b[39mself\u001b[39m\u001b[39m.\u001b[39m_dataset_kind \u001b[39m==\u001b[39m _DatasetKind\u001b[39m.\u001b[39mIterable \u001b[39mand\u001b[39;00m \\\n\u001b[0;32m    631\u001b[0m         \u001b[39mself\u001b[39m\u001b[39m.\u001b[39m_IterableDataset_len_called \u001b[39mis\u001b[39;00m \u001b[39mnot\u001b[39;00m \u001b[39mNone\u001b[39;00m \u001b[39mand\u001b[39;00m \\\n\u001b[0;32m    632\u001b[0m         \u001b[39mself\u001b[39m\u001b[39m.\u001b[39m_num_yielded \u001b[39m>\u001b[39m \u001b[39mself\u001b[39m\u001b[39m.\u001b[39m_IterableDataset_len_called:\n",
      "File \u001b[1;32mc:\\Users\\aherrada\\Documents\\Git\\Pytorch\\env\\lib\\site-packages\\torch\\utils\\data\\dataloader.py:671\u001b[0m, in \u001b[0;36m_SingleProcessDataLoaderIter._next_data\u001b[1;34m(self)\u001b[0m\n\u001b[0;32m    669\u001b[0m \u001b[39mdef\u001b[39;00m \u001b[39m_next_data\u001b[39m(\u001b[39mself\u001b[39m):\n\u001b[0;32m    670\u001b[0m     index \u001b[39m=\u001b[39m \u001b[39mself\u001b[39m\u001b[39m.\u001b[39m_next_index()  \u001b[39m# may raise StopIteration\u001b[39;00m\n\u001b[1;32m--> 671\u001b[0m     data \u001b[39m=\u001b[39m \u001b[39mself\u001b[39;49m\u001b[39m.\u001b[39;49m_dataset_fetcher\u001b[39m.\u001b[39;49mfetch(index)  \u001b[39m# may raise StopIteration\u001b[39;00m\n\u001b[0;32m    672\u001b[0m     \u001b[39mif\u001b[39;00m \u001b[39mself\u001b[39m\u001b[39m.\u001b[39m_pin_memory:\n\u001b[0;32m    673\u001b[0m         data \u001b[39m=\u001b[39m _utils\u001b[39m.\u001b[39mpin_memory\u001b[39m.\u001b[39mpin_memory(data, \u001b[39mself\u001b[39m\u001b[39m.\u001b[39m_pin_memory_device)\n",
      "File \u001b[1;32mc:\\Users\\aherrada\\Documents\\Git\\Pytorch\\env\\lib\\site-packages\\torch\\utils\\data\\_utils\\fetch.py:58\u001b[0m, in \u001b[0;36m_MapDatasetFetcher.fetch\u001b[1;34m(self, possibly_batched_index)\u001b[0m\n\u001b[0;32m     56\u001b[0m         data \u001b[39m=\u001b[39m \u001b[39mself\u001b[39m\u001b[39m.\u001b[39mdataset\u001b[39m.\u001b[39m__getitems__(possibly_batched_index)\n\u001b[0;32m     57\u001b[0m     \u001b[39melse\u001b[39;00m:\n\u001b[1;32m---> 58\u001b[0m         data \u001b[39m=\u001b[39m [\u001b[39mself\u001b[39m\u001b[39m.\u001b[39mdataset[idx] \u001b[39mfor\u001b[39;00m idx \u001b[39min\u001b[39;00m possibly_batched_index]\n\u001b[0;32m     59\u001b[0m \u001b[39melse\u001b[39;00m:\n\u001b[0;32m     60\u001b[0m     data \u001b[39m=\u001b[39m \u001b[39mself\u001b[39m\u001b[39m.\u001b[39mdataset[possibly_batched_index]\n",
      "File \u001b[1;32mc:\\Users\\aherrada\\Documents\\Git\\Pytorch\\env\\lib\\site-packages\\torch\\utils\\data\\_utils\\fetch.py:58\u001b[0m, in \u001b[0;36m<listcomp>\u001b[1;34m(.0)\u001b[0m\n\u001b[0;32m     56\u001b[0m         data \u001b[39m=\u001b[39m \u001b[39mself\u001b[39m\u001b[39m.\u001b[39mdataset\u001b[39m.\u001b[39m__getitems__(possibly_batched_index)\n\u001b[0;32m     57\u001b[0m     \u001b[39melse\u001b[39;00m:\n\u001b[1;32m---> 58\u001b[0m         data \u001b[39m=\u001b[39m [\u001b[39mself\u001b[39;49m\u001b[39m.\u001b[39;49mdataset[idx] \u001b[39mfor\u001b[39;00m idx \u001b[39min\u001b[39;00m possibly_batched_index]\n\u001b[0;32m     59\u001b[0m \u001b[39melse\u001b[39;00m:\n\u001b[0;32m     60\u001b[0m     data \u001b[39m=\u001b[39m \u001b[39mself\u001b[39m\u001b[39m.\u001b[39mdataset[possibly_batched_index]\n",
      "File \u001b[1;32mc:\\Users\\aherrada\\Documents\\Git\\Pytorch\\env\\lib\\site-packages\\torch\\utils\\data\\dataset.py:295\u001b[0m, in \u001b[0;36mSubset.__getitem__\u001b[1;34m(self, idx)\u001b[0m\n\u001b[0;32m    293\u001b[0m \u001b[39mif\u001b[39;00m \u001b[39misinstance\u001b[39m(idx, \u001b[39mlist\u001b[39m):\n\u001b[0;32m    294\u001b[0m     \u001b[39mreturn\u001b[39;00m \u001b[39mself\u001b[39m\u001b[39m.\u001b[39mdataset[[\u001b[39mself\u001b[39m\u001b[39m.\u001b[39mindices[i] \u001b[39mfor\u001b[39;00m i \u001b[39min\u001b[39;00m idx]]\n\u001b[1;32m--> 295\u001b[0m \u001b[39mreturn\u001b[39;00m \u001b[39mself\u001b[39;49m\u001b[39m.\u001b[39;49mdataset[\u001b[39mself\u001b[39;49m\u001b[39m.\u001b[39;49mindices[idx]]\n",
      "Cell \u001b[1;32mIn[13], line 112\u001b[0m, in \u001b[0;36mForm1Dataset.__getitem__\u001b[1;34m(self, index, data_plot)\u001b[0m\n\u001b[0;32m    108\u001b[0m \u001b[39melif\u001b[39;00m \u001b[39m\"\u001b[39m\u001b[39mF_T\u001b[39m\u001b[39m\"\u001b[39m \u001b[39min\u001b[39;00m \u001b[39mself\u001b[39m\u001b[39m.\u001b[39mcsv_list[csv_idx]:\n\u001b[0;32m    109\u001b[0m \n\u001b[0;32m    110\u001b[0m     \u001b[39m# For faults indices 0 and 1 don't contain fault events.\u001b[39;00m\n\u001b[0;32m    111\u001b[0m     \u001b[39mfor\u001b[39;00m signal_name \u001b[39min\u001b[39;00m \u001b[39mself\u001b[39m\u001b[39m.\u001b[39msignal_names:\n\u001b[1;32m--> 112\u001b[0m         signal, t, _ \u001b[39m=\u001b[39m CSV_pandas_path(csv_full_path)\u001b[39m.\u001b[39mload_data(signal_name)\n\u001b[0;32m    113\u001b[0m         \u001b[39m# select window\u001b[39;00m\n\u001b[0;32m    114\u001b[0m         signal_window \u001b[39m=\u001b[39m signal[window_idx : window_idx \u001b[39m+\u001b[39m \u001b[39mself\u001b[39m\u001b[39m.\u001b[39mwindow_length]\n",
      "File \u001b[1;32mc:\\Users\\aherrada\\Documents\\Git\\Pytorch\\env\\lib\\site-packages\\utils_tesis\\signalload.py:263\u001b[0m, in \u001b[0;36mCSV_pandas_path.__init__\u001b[1;34m(self, filename)\u001b[0m\n\u001b[0;32m    254\u001b[0m \u001b[39mdef\u001b[39;00m \u001b[39m__init__\u001b[39m(\u001b[39mself\u001b[39m, filename: \u001b[39mstr\u001b[39m):\n\u001b[0;32m    255\u001b[0m \u001b[39m    \u001b[39m\u001b[39m\"\"\"Constructor\u001b[39;00m\n\u001b[0;32m    256\u001b[0m \n\u001b[0;32m    257\u001b[0m \u001b[39m    Parameters\u001b[39;00m\n\u001b[1;32m   (...)\u001b[0m\n\u001b[0;32m    260\u001b[0m \u001b[39m        Path of CSV\u001b[39;00m\n\u001b[0;32m    261\u001b[0m \u001b[39m    \"\"\"\u001b[39;00m\n\u001b[1;32m--> 263\u001b[0m     \u001b[39mself\u001b[39;49m\u001b[39m.\u001b[39;49mcsv_load(filename)\n",
      "File \u001b[1;32mc:\\Users\\aherrada\\Documents\\Git\\Pytorch\\env\\lib\\site-packages\\utils_tesis\\signalload.py:275\u001b[0m, in \u001b[0;36mCSV_pandas_path.csv_load\u001b[1;34m(self, filename)\u001b[0m\n\u001b[0;32m    273\u001b[0m \u001b[39mself\u001b[39m\u001b[39m.\u001b[39mpath \u001b[39m=\u001b[39m filename\n\u001b[0;32m    274\u001b[0m \u001b[39m# self.path = \"C:\\\\Users\\\\aherrada\\\\OneDrive - Universidad del Norte\\\\Uninorte\\\\DetectionDataBase\\\\septDataBaseCSV\\\\Caps\\\\NoFault02_B112.csv\"\u001b[39;00m\n\u001b[1;32m--> 275\u001b[0m \u001b[39mself\u001b[39;49m\u001b[39m.\u001b[39;49mextraer_csv()\n",
      "File \u001b[1;32mc:\\Users\\aherrada\\Documents\\Git\\Pytorch\\env\\lib\\site-packages\\utils_tesis\\signalload.py:56\u001b[0m, in \u001b[0;36mCSV_pandas.extraer_csv\u001b[1;34m(self)\u001b[0m\n\u001b[0;32m     53\u001b[0m \u001b[39mif\u001b[39;00m \u001b[39mlen\u001b[39m(df) \u001b[39m%\u001b[39m \u001b[39m2\u001b[39m \u001b[39m!=\u001b[39m \u001b[39m0\u001b[39m:\n\u001b[0;32m     54\u001b[0m     df\u001b[39m.\u001b[39mdrop(df\u001b[39m.\u001b[39mtail(\u001b[39m1\u001b[39m)\u001b[39m.\u001b[39mindex, inplace\u001b[39m=\u001b[39m\u001b[39mTrue\u001b[39;00m)\n\u001b[1;32m---> 56\u001b[0m \u001b[39mself\u001b[39m\u001b[39m.\u001b[39mdf \u001b[39m=\u001b[39m \u001b[39mself\u001b[39;49m\u001b[39m.\u001b[39;49m__rename_columns(df)\n",
      "File \u001b[1;32mc:\\Users\\aherrada\\Documents\\Git\\Pytorch\\env\\lib\\site-packages\\utils_tesis\\signalload.py:78\u001b[0m, in \u001b[0;36mCSV_pandas.__rename_columns\u001b[1;34m(self, df)\u001b[0m\n\u001b[0;32m     76\u001b[0m node_from \u001b[39m=\u001b[39m df\u001b[39m.\u001b[39miloc[\u001b[39m0\u001b[39m]\u001b[39m.\u001b[39mstr\u001b[39m.\u001b[39mreplace(pattern, \u001b[39mr\u001b[39m\u001b[39m\"\u001b[39m\u001b[39m\\\u001b[39m\u001b[39m1\u001b[39m\u001b[39m\"\u001b[39m, regex\u001b[39m=\u001b[39m\u001b[39mTrue\u001b[39;00m)\u001b[39m.\u001b[39mstr\u001b[39m.\u001b[39mstrip()\n\u001b[0;32m     77\u001b[0m node_to \u001b[39m=\u001b[39m df\u001b[39m.\u001b[39miloc[\u001b[39m1\u001b[39m]\u001b[39m.\u001b[39mstr\u001b[39m.\u001b[39mreplace(pattern, \u001b[39mr\u001b[39m\u001b[39m\"\u001b[39m\u001b[39m\\\u001b[39m\u001b[39m1\u001b[39m\u001b[39m\"\u001b[39m, regex\u001b[39m=\u001b[39m\u001b[39mTrue\u001b[39;00m)\u001b[39m.\u001b[39mstr\u001b[39m.\u001b[39mstrip()\n\u001b[1;32m---> 78\u001b[0m df \u001b[39m=\u001b[39m df\u001b[39m.\u001b[39;49mdrop(index\u001b[39m=\u001b[39;49m\u001b[39m0\u001b[39;49m)\n\u001b[0;32m     79\u001b[0m df \u001b[39m=\u001b[39m df\u001b[39m.\u001b[39mdrop(index\u001b[39m=\u001b[39m\u001b[39m1\u001b[39m)\n\u001b[0;32m     81\u001b[0m df \u001b[39m=\u001b[39m \u001b[39mself\u001b[39m\u001b[39m.\u001b[39m__columns_replace(df)\n",
      "File \u001b[1;32mc:\\Users\\aherrada\\Documents\\Git\\Pytorch\\env\\lib\\site-packages\\pandas\\util\\_decorators.py:331\u001b[0m, in \u001b[0;36mdeprecate_nonkeyword_arguments.<locals>.decorate.<locals>.wrapper\u001b[1;34m(*args, **kwargs)\u001b[0m\n\u001b[0;32m    325\u001b[0m \u001b[39mif\u001b[39;00m \u001b[39mlen\u001b[39m(args) \u001b[39m>\u001b[39m num_allow_args:\n\u001b[0;32m    326\u001b[0m     warnings\u001b[39m.\u001b[39mwarn(\n\u001b[0;32m    327\u001b[0m         msg\u001b[39m.\u001b[39mformat(arguments\u001b[39m=\u001b[39m_format_argument_list(allow_args)),\n\u001b[0;32m    328\u001b[0m         \u001b[39mFutureWarning\u001b[39;00m,\n\u001b[0;32m    329\u001b[0m         stacklevel\u001b[39m=\u001b[39mfind_stack_level(),\n\u001b[0;32m    330\u001b[0m     )\n\u001b[1;32m--> 331\u001b[0m \u001b[39mreturn\u001b[39;00m func(\u001b[39m*\u001b[39margs, \u001b[39m*\u001b[39m\u001b[39m*\u001b[39mkwargs)\n",
      "File \u001b[1;32mc:\\Users\\aherrada\\Documents\\Git\\Pytorch\\env\\lib\\site-packages\\pandas\\core\\frame.py:5399\u001b[0m, in \u001b[0;36mDataFrame.drop\u001b[1;34m(self, labels, axis, index, columns, level, inplace, errors)\u001b[0m\n\u001b[0;32m   5251\u001b[0m \u001b[39m@deprecate_nonkeyword_arguments\u001b[39m(version\u001b[39m=\u001b[39m\u001b[39mNone\u001b[39;00m, allowed_args\u001b[39m=\u001b[39m[\u001b[39m\"\u001b[39m\u001b[39mself\u001b[39m\u001b[39m\"\u001b[39m, \u001b[39m\"\u001b[39m\u001b[39mlabels\u001b[39m\u001b[39m\"\u001b[39m])\n\u001b[0;32m   5252\u001b[0m \u001b[39mdef\u001b[39;00m \u001b[39mdrop\u001b[39m(  \u001b[39m# type: ignore[override]\u001b[39;00m\n\u001b[0;32m   5253\u001b[0m     \u001b[39mself\u001b[39m,\n\u001b[1;32m   (...)\u001b[0m\n\u001b[0;32m   5260\u001b[0m     errors: IgnoreRaise \u001b[39m=\u001b[39m \u001b[39m\"\u001b[39m\u001b[39mraise\u001b[39m\u001b[39m\"\u001b[39m,\n\u001b[0;32m   5261\u001b[0m ) \u001b[39m-\u001b[39m\u001b[39m>\u001b[39m DataFrame \u001b[39m|\u001b[39m \u001b[39mNone\u001b[39;00m:\n\u001b[0;32m   5262\u001b[0m \u001b[39m    \u001b[39m\u001b[39m\"\"\"\u001b[39;00m\n\u001b[0;32m   5263\u001b[0m \u001b[39m    Drop specified labels from rows or columns.\u001b[39;00m\n\u001b[0;32m   5264\u001b[0m \n\u001b[1;32m   (...)\u001b[0m\n\u001b[0;32m   5397\u001b[0m \u001b[39m            weight  1.0     0.8\u001b[39;00m\n\u001b[0;32m   5398\u001b[0m \u001b[39m    \"\"\"\u001b[39;00m\n\u001b[1;32m-> 5399\u001b[0m     \u001b[39mreturn\u001b[39;00m \u001b[39msuper\u001b[39;49m()\u001b[39m.\u001b[39;49mdrop(\n\u001b[0;32m   5400\u001b[0m         labels\u001b[39m=\u001b[39;49mlabels,\n\u001b[0;32m   5401\u001b[0m         axis\u001b[39m=\u001b[39;49maxis,\n\u001b[0;32m   5402\u001b[0m         index\u001b[39m=\u001b[39;49mindex,\n\u001b[0;32m   5403\u001b[0m         columns\u001b[39m=\u001b[39;49mcolumns,\n\u001b[0;32m   5404\u001b[0m         level\u001b[39m=\u001b[39;49mlevel,\n\u001b[0;32m   5405\u001b[0m         inplace\u001b[39m=\u001b[39;49minplace,\n\u001b[0;32m   5406\u001b[0m         errors\u001b[39m=\u001b[39;49merrors,\n\u001b[0;32m   5407\u001b[0m     )\n",
      "File \u001b[1;32mc:\\Users\\aherrada\\Documents\\Git\\Pytorch\\env\\lib\\site-packages\\pandas\\util\\_decorators.py:331\u001b[0m, in \u001b[0;36mdeprecate_nonkeyword_arguments.<locals>.decorate.<locals>.wrapper\u001b[1;34m(*args, **kwargs)\u001b[0m\n\u001b[0;32m    325\u001b[0m \u001b[39mif\u001b[39;00m \u001b[39mlen\u001b[39m(args) \u001b[39m>\u001b[39m num_allow_args:\n\u001b[0;32m    326\u001b[0m     warnings\u001b[39m.\u001b[39mwarn(\n\u001b[0;32m    327\u001b[0m         msg\u001b[39m.\u001b[39mformat(arguments\u001b[39m=\u001b[39m_format_argument_list(allow_args)),\n\u001b[0;32m    328\u001b[0m         \u001b[39mFutureWarning\u001b[39;00m,\n\u001b[0;32m    329\u001b[0m         stacklevel\u001b[39m=\u001b[39mfind_stack_level(),\n\u001b[0;32m    330\u001b[0m     )\n\u001b[1;32m--> 331\u001b[0m \u001b[39mreturn\u001b[39;00m func(\u001b[39m*\u001b[39margs, \u001b[39m*\u001b[39m\u001b[39m*\u001b[39mkwargs)\n",
      "File \u001b[1;32mc:\\Users\\aherrada\\Documents\\Git\\Pytorch\\env\\lib\\site-packages\\pandas\\core\\generic.py:4505\u001b[0m, in \u001b[0;36mNDFrame.drop\u001b[1;34m(self, labels, axis, index, columns, level, inplace, errors)\u001b[0m\n\u001b[0;32m   4503\u001b[0m \u001b[39mfor\u001b[39;00m axis, labels \u001b[39min\u001b[39;00m axes\u001b[39m.\u001b[39mitems():\n\u001b[0;32m   4504\u001b[0m     \u001b[39mif\u001b[39;00m labels \u001b[39mis\u001b[39;00m \u001b[39mnot\u001b[39;00m \u001b[39mNone\u001b[39;00m:\n\u001b[1;32m-> 4505\u001b[0m         obj \u001b[39m=\u001b[39m obj\u001b[39m.\u001b[39;49m_drop_axis(labels, axis, level\u001b[39m=\u001b[39;49mlevel, errors\u001b[39m=\u001b[39;49merrors)\n\u001b[0;32m   4507\u001b[0m \u001b[39mif\u001b[39;00m inplace:\n\u001b[0;32m   4508\u001b[0m     \u001b[39mself\u001b[39m\u001b[39m.\u001b[39m_update_inplace(obj)\n",
      "File \u001b[1;32mc:\\Users\\aherrada\\Documents\\Git\\Pytorch\\env\\lib\\site-packages\\pandas\\core\\generic.py:4547\u001b[0m, in \u001b[0;36mNDFrame._drop_axis\u001b[1;34m(self, labels, axis, level, errors, only_slice)\u001b[0m\n\u001b[0;32m   4545\u001b[0m     \u001b[39melse\u001b[39;00m:\n\u001b[0;32m   4546\u001b[0m         new_axis \u001b[39m=\u001b[39m axis\u001b[39m.\u001b[39mdrop(labels, errors\u001b[39m=\u001b[39merrors)\n\u001b[1;32m-> 4547\u001b[0m     indexer \u001b[39m=\u001b[39m axis\u001b[39m.\u001b[39;49mget_indexer(new_axis)\n\u001b[0;32m   4549\u001b[0m \u001b[39m# Case for non-unique axis\u001b[39;00m\n\u001b[0;32m   4550\u001b[0m \u001b[39melse\u001b[39;00m:\n\u001b[0;32m   4551\u001b[0m     is_tuple_labels \u001b[39m=\u001b[39m is_nested_list_like(labels) \u001b[39mor\u001b[39;00m \u001b[39misinstance\u001b[39m(labels, \u001b[39mtuple\u001b[39m)\n",
      "File \u001b[1;32mc:\\Users\\aherrada\\Documents\\Git\\Pytorch\\env\\lib\\site-packages\\pandas\\core\\indexes\\base.py:3973\u001b[0m, in \u001b[0;36mIndex.get_indexer\u001b[1;34m(self, target, method, limit, tolerance)\u001b[0m\n\u001b[0;32m   3968\u001b[0m     target \u001b[39m=\u001b[39m target\u001b[39m.\u001b[39mastype(dtype, copy\u001b[39m=\u001b[39m\u001b[39mFalse\u001b[39;00m)\n\u001b[0;32m   3969\u001b[0m     \u001b[39mreturn\u001b[39;00m this\u001b[39m.\u001b[39m_get_indexer(\n\u001b[0;32m   3970\u001b[0m         target, method\u001b[39m=\u001b[39mmethod, limit\u001b[39m=\u001b[39mlimit, tolerance\u001b[39m=\u001b[39mtolerance\n\u001b[0;32m   3971\u001b[0m     )\n\u001b[1;32m-> 3973\u001b[0m \u001b[39mreturn\u001b[39;00m \u001b[39mself\u001b[39;49m\u001b[39m.\u001b[39;49m_get_indexer(target, method, limit, tolerance)\n",
      "File \u001b[1;32mc:\\Users\\aherrada\\Documents\\Git\\Pytorch\\env\\lib\\site-packages\\pandas\\core\\indexes\\range.py:421\u001b[0m, in \u001b[0;36mRangeIndex._get_indexer\u001b[1;34m(self, target, method, limit, tolerance)\u001b[0m\n\u001b[0;32m    419\u001b[0m valid \u001b[39m=\u001b[39m (locs \u001b[39m%\u001b[39m step \u001b[39m==\u001b[39m \u001b[39m0\u001b[39m) \u001b[39m&\u001b[39m (locs \u001b[39m>\u001b[39m\u001b[39m=\u001b[39m \u001b[39m0\u001b[39m) \u001b[39m&\u001b[39m (target_array \u001b[39m<\u001b[39m stop)\n\u001b[0;32m    420\u001b[0m locs[\u001b[39m~\u001b[39mvalid] \u001b[39m=\u001b[39m \u001b[39m-\u001b[39m\u001b[39m1\u001b[39m\n\u001b[1;32m--> 421\u001b[0m locs[valid] \u001b[39m=\u001b[39m locs[valid] \u001b[39m/\u001b[39m step\n\u001b[0;32m    423\u001b[0m \u001b[39mif\u001b[39;00m step \u001b[39m!=\u001b[39m \u001b[39mself\u001b[39m\u001b[39m.\u001b[39mstep:\n\u001b[0;32m    424\u001b[0m     \u001b[39m# We reversed this range: transform to original locs\u001b[39;00m\n\u001b[0;32m    425\u001b[0m     locs[valid] \u001b[39m=\u001b[39m \u001b[39mlen\u001b[39m(\u001b[39mself\u001b[39m) \u001b[39m-\u001b[39m \u001b[39m1\u001b[39m \u001b[39m-\u001b[39m locs[valid]\n",
      "\u001b[1;31mKeyboardInterrupt\u001b[0m: "
     ]
    }
   ],
   "source": [
    "# model.load_state_dict(torch.load('models\\LSTMHarmonic_weights_R1Currents.pth'))\n",
    "# model.load_state_dict(torch.load(\"./models/LSTMHarmonic_weights_R1_996.pth\"))\n",
    "# model.load_state_dict(torch.load('./models/LSTMHarmonic_weights_R2_978.pth'))\n",
    "\n",
    "epochs = 1\n",
    "\n",
    "for epoch in range(epochs):\n",
    "\n",
    "    print(f\"Epoch {epoch+1}\\n--------------------------------\")\n",
    "    train_loss = train(train_dataloader, model, loss_fn, optimizer, return_loss=True)\n",
    "    # accuracy, _ = test(test_dataloader, model, loss_fn, return_metrics=True)\n",
    "    conf_matrix, _ = test_metrics(test_dataloader, model, loss_fn, return_metrics=True)\n",
    "print(conf_matrix)\n"
   ]
  },
  {
   "cell_type": "code",
   "execution_count": 21,
   "metadata": {},
   "outputs": [
    {
     "name": "stdout",
     "output_type": "stream",
     "text": [
      "81.9\n",
      "tensor([[466,  10, 773, 264, 730]])\n"
     ]
    }
   ],
   "source": [
    "def conf_matrix_metrics(conf_matrix: torch.LongTensor) -> dict:\n",
    "    \"\"\"\n",
    "    Returns dictionary with metrics from a confusion matrix.\n",
    "\n",
    "            Parameters:\n",
    "                    conf_matrix (torch.Tensor): confusion matrix of dimension (1, 5)\n",
    "                        [TP, FP, TN, FN, TP + FN]\n",
    "\n",
    "            Returns:\n",
    "                    metrics (dict): dictionary with following metrics:\n",
    "                        metrics[\"TOTAL\"] -> total amount of samples.\n",
    "                        metrics[\"TPR\"]   -> True Positive Rate,  sensibility, recall, hit-rate.\n",
    "                        metrics[\"FPR\"]   -> False Positive Rate, Fallout.\n",
    "                        metrics[\"TNR\"]   -> True Negative Rate,  specificity, selectivity\n",
    "                        metrics[\"ACC\"]   -> Accuracy.\n",
    "                        metrics[\"PPV\"]   -> Positive Predictive Value, Precision.\n",
    "    \"\"\"\n",
    "    if conf_matrix.shape == (5,):\n",
    "        conf_matrix = np.expand_dims(conf_matrix, axis=0)\n",
    "\n",
    "    metrics = {}\n",
    "    TP = int(conf_matrix[0, 0].item())\n",
    "    FP = int(conf_matrix[0, 1].item())\n",
    "    TN = int(conf_matrix[0, 2].item())\n",
    "    FN = int(conf_matrix[0, 3].item())\n",
    "    metrics[\"TP\"] = TP\n",
    "    metrics[\"FP\"] = FP\n",
    "    metrics[\"TN\"] = TN\n",
    "    metrics[\"FN\"] = FN\n",
    "    P = TP + FN\n",
    "    N = TN + FP\n",
    "    TOTAL = TP + FP + TN + FN\n",
    "    metrics[\"TOTAL\"] = TOTAL\n",
    "    try:\n",
    "        metrics[\"TPR\"] = TP / (TP + FN)\n",
    "    except ZeroDivisionError:\n",
    "        metrics[\"TPR\"] = \"ZeroDivisionError\"\n",
    "    try:\n",
    "        metrics[\"FPR\"] = FP / (FP + TN)\n",
    "        metrics[\"TNR\"] = TN / (FP + TN)\n",
    "    except ZeroDivisionError:\n",
    "        metrics[\"FPR\"] = \"ZeroDivisionError\"\n",
    "        metrics[\"TNR\"] = \"ZeroDivisionError\"\n",
    "    metrics[\"ACC\"] = (TP + TN) / (TOTAL)\n",
    "    try:\n",
    "        metrics[\"PPV\"] = TP / (TP + FP)\n",
    "    except ZeroDivisionError:\n",
    "        print(\"No se puede obtener PPV, división por cero\")\n",
    "    return metrics\n",
    "\n",
    "\n",
    "metrics = conf_matrix_metrics(conf_matrix)\n",
    "print(round(metrics[\"ACC\"] * 100, 1))\n",
    "print(conf_matrix)\n"
   ]
  },
  {
   "attachments": {},
   "cell_type": "markdown",
   "metadata": {},
   "source": [
    "##### 5.3. Training loss visualization"
   ]
  },
  {
   "cell_type": "code",
   "execution_count": 22,
   "metadata": {},
   "outputs": [
    {
     "data": {
      "image/png": "[encoded data removed]",
      "text/plain": [
       "<Figure size 640x480 with 1 Axes>"
      ]
     },
     "metadata": {},
     "output_type": "display_data"
    }
   ],
   "source": [
    "try:\n",
    "    mini_batch_list = [index for index, _ in enumerate(train_loss)]\n",
    "    train_loss_ewm = pd.DataFrame(train_loss).ewm(com=0.95).mean()\n",
    "    plt.plot(mini_batch_list, train_loss, \n",
    "    mini_batch_list, train_loss_ewm)\n",
    "except NameError:\n",
    "    print(\"Error! Run train loop\")\n"
   ]
  },
  {
   "attachments": {},
   "cell_type": "markdown",
   "metadata": {},
   "source": [
    "##### 5.4. Saving the Model"
   ]
  },
  {
   "cell_type": "code",
   "execution_count": 24,
   "metadata": {},
   "outputs": [
    {
     "data": {
      "text/plain": [
       "<All keys matched successfully>"
      ]
     },
     "execution_count": 24,
     "metadata": {},
     "output_type": "execute_result"
    }
   ],
   "source": [
    "# # Save the Model\n",
    "model.load_state_dict(torch.load('./models/R3Currents_DB2.pth'))\n",
    "# torch.save(model.state_dict(), './models/R3Currents_DB2.pth')\n"
   ]
  },
  {
   "attachments": {},
   "cell_type": "markdown",
   "metadata": {},
   "source": [
    "### 6. Results Visualization\n"
   ]
  },
  {
   "attachments": {},
   "cell_type": "markdown",
   "metadata": {},
   "source": [
    "#### 6.1. Confussion Matrix Results Table Function"
   ]
  },
  {
   "cell_type": "code",
   "execution_count": 25,
   "metadata": {},
   "outputs": [],
   "source": [
    "# Data visualization (CPU)\n",
    "\n",
    "\n",
    "def confusion_matrix_labels(pred_label, true_label):\n",
    "    label = \"\"\n",
    "    if int(pred_label) == int(true_label):\n",
    "        label += \"T\"\n",
    "    else:\n",
    "        label += \"F\"\n",
    "    if pred_label == 1:\n",
    "        label += \"P\"\n",
    "    else:\n",
    "        label += \"N\"\n",
    "    return label\n",
    "\n",
    "\n",
    "confusion_matrix_pandas = np.vectorize(confusion_matrix_labels)\n",
    "\n",
    "\n",
    "def confusion_matrix(\n",
    "    preds: torch.FloatTensor, labels: torch.FloatTensor\n",
    ") -> pd.DataFrame:\n",
    "    preds = preds.detach()\n",
    "    labels = labels.detach()\n",
    "    data = {\n",
    "        \"Pred probability\": torch.reshape(preds, (-1,)).cpu().numpy(),\n",
    "        \"Pred label\": torch.reshape(torch.round(preds), (-1,)).int().cpu().numpy(),\n",
    "        \"True label\": torch.reshape(labels, (-1,)).int().cpu().numpy(),\n",
    "    }\n",
    "    df = pd.DataFrame(data)\n",
    "    df[\"Result\"] = confusion_matrix_pandas(df[\"Pred label\"], df[\"True label\"])\n",
    "    return df\n"
   ]
  },
  {
   "attachments": {},
   "cell_type": "markdown",
   "metadata": {},
   "source": [
    "##### 6.2. Plotly Plot"
   ]
  },
  {
   "cell_type": "code",
   "execution_count": 26,
   "metadata": {},
   "outputs": [
    {
     "name": "stderr",
     "output_type": "stream",
     "text": [
      "c:\\Users\\aherrada\\Documents\\Git\\Pytorch\\env\\lib\\site-packages\\torch\\utils\\data\\_utils\\collate.py:172: UserWarning: The given NumPy array is not writable, and PyTorch does not support non-writable tensors. This means writing to this tensor will result in undefined behavior. You may want to copy the array to protect its data or make it writable before converting it to a tensor. This type of warning will be suppressed for the rest of this program. (Triggered internally at C:\\actions-runner\\_work\\pytorch\\pytorch\\builder\\windows\\pytorch\\torch\\csrc\\utils\\tensor_numpy.cpp:205.)\n",
      "  return collate([torch.as_tensor(b) for b in batch], collate_fn_map=collate_fn_map)\n"
     ]
    },
    {
     "name": "stdout",
     "output_type": "stream",
     "text": [
      "64\n",
      "torch.Size([64])\n",
      "torch.Size([64, 1])\n",
      "torch.FloatTensor\n",
      "<class 'pandas.core.frame.DataFrame'>\n",
      "   Pred probability  Pred label  True label Result\n",
      "0          0.400115           0           0     TN\n",
      "1          0.763567           1           1     TP\n",
      "2          0.333055           0           0     TN\n",
      "3          0.316778           0           0     TN\n",
      "4          0.353944           0           0     TN\n",
      "5          0.341919           0           1     FN\n",
      "6          0.240059           0           0     TN\n",
      "7          0.980744           1           1     TP\n",
      "8          0.977921           1           1     TP\n"
     ]
    },
    {
     "data": {
      "application/vnd.plotly.v1+json": {
       "config": {
        "plotlyServerURL": "https://plot.ly"
       },
       "data": [
        {
         "marker": {
          "color": "black"
         },
         "name": "No Fault - 13 - L094.93_093.48.csv",
         "type": "scatter",
         "x": [
          0.0033852,
          0.0036456,
          0.003906,
          0.0041664,
          0.0044268,
          0.0046872,
          0.0049476,
          0.005208,
          0.0054684,
          0.0057288,
          0.0059892,
          0.0062496,
          0.00651,
          0.0067704,
          0.0070308,
          0.0072912,
          0.0075516,
          0.007812,
          0.0080724,
          0.0083328,
          0.0085932,
          0.0088536,
          0.009114,
          0.0093744,
          0.0096348,
          0.0098952,
          0.0101556,
          0.010416,
          0.0106764,
          0.0109368,
          0.0111972,
          0.0114576,
          0.011718,
          0.0119784,
          0.0122388,
          0.0124992,
          0.0127596,
          0.01302,
          0.0132804,
          0.0135408,
          0.0138012,
          0.0140616,
          0.014322,
          0.0145824,
          0.0148428,
          0.0151032,
          0.0153636,
          0.015624,
          0.0158844,
          0.0161448,
          0.0164052,
          0.0166656,
          0.016926,
          0.0171864,
          0.0174468,
          0.0177072,
          0.0179676,
          0.018228,
          0.0184884,
          0.0187488,
          0.0190092,
          0.0192696,
          0.01953,
          0.0197904
         ],
         "xaxis": "x",
         "y": [
          -5.3146162033081055,
          -5.924808979034424,
          -6.670105457305908,
          -7.398365497589111,
          -7.5708723068237305,
          -8.252357482910156,
          -8.253602027893066,
          -8.867365837097168,
          -8.593209266662598,
          -8.974652290344238,
          -8.766894340515137,
          -8.822871208190918,
          -8.195638656616211,
          -8.136174201965332,
          -7.819419860839844,
          -7.276141166687012,
          -6.8657732009887695,
          -6.203496932983398,
          -5.808353900909424,
          -4.8287353515625,
          -4.257720947265625,
          -3.3851070404052734,
          -2.9554078578948975,
          -1.7605007886886597,
          -1.1180574893951416,
          -0.11715789139270782,
          0.7061330080032349,
          1.6334141492843628,
          2.3582072257995605,
          3.1873068809509277,
          4.068152904510498,
          4.826141357421875,
          5.634303092956543,
          6.039137840270996,
          6.878681182861328,
          7.199859142303467,
          7.725925922393799,
          8.082764625549316,
          8.489580154418945,
          8.48190689086914,
          8.694796562194824,
          8.769383430480957,
          8.79487419128418,
          8.630722999572754,
          8.323702812194824,
          8.234284400939941,
          7.882832050323486,
          7.407344818115234,
          6.801202774047852,
          6.463178634643555,
          5.629031658172607,
          5.060416221618652,
          4.2072248458862305,
          3.5149917602539062,
          2.653780937194824,
          1.9908391237258911,
          1.1761553287506104,
          0.46184661984443665,
          -0.4141697585582733,
          -1.2349960803985596,
          -1.9122170209884644,
          -2.8282406330108643,
          -3.5064661502838135,
          -4.2172932624816895
         ],
         "yaxis": "y"
        },
        {
         "marker": {
          "color": "black"
         },
         "name": "Fault - 9 - Fault02_B312_RF80.00001_L057.71.csv",
         "type": "scatter",
         "x": [
          0.0023436,
          0.002604,
          0.0028644,
          0.0031248,
          0.0033852,
          0.0036456,
          0.003906,
          0.0041664,
          0.0044268,
          0.0046872,
          0.0049476,
          0.005208,
          0.0054684,
          0.0057288,
          0.0059892,
          0.0062496,
          0.00651,
          0.0067704,
          0.0070308,
          0.0072912,
          0.0075516,
          0.007812,
          0.0080724,
          0.0083328,
          0.0085932,
          0.0088536,
          0.009114,
          0.0093744,
          0.0096348,
          0.0098952,
          0.0101556,
          0.010416,
          0.0106764,
          0.0109368,
          0.0111972,
          0.0114576,
          0.011718,
          0.0119784,
          0.0122388,
          0.0124992,
          0.0127596,
          0.01302,
          0.0132804,
          0.0135408,
          0.0138012,
          0.0140616,
          0.014322,
          0.0145824,
          0.0148428,
          0.0151032,
          0.0153636,
          0.015624,
          0.0158844,
          0.0161448,
          0.0164052,
          0.0166656,
          0.016926,
          0.0171864,
          0.0174468,
          0.0177072,
          0.0179676,
          0.018228,
          0.0184884,
          0.0187488
         ],
         "xaxis": "x2",
         "y": [
          -6.2123703956604,
          -6.1176581382751465,
          -6.655460834503174,
          -6.782009601593018,
          -7.0514750480651855,
          -7.150586128234863,
          -6.99484920501709,
          -6.899482250213623,
          -6.656953811645508,
          -6.570345401763916,
          -6.338605880737305,
          -6.076877117156982,
          -5.596264362335205,
          -5.117301940917969,
          -4.481650352478027,
          -4.062780380249023,
          -3.5018999576568604,
          -3.0305614471435547,
          -2.320519208908081,
          -1.6005538702011108,
          -0.8304437398910522,
          -0.15356476604938507,
          0.471523642539978,
          1.0751640796661377,
          1.7529932260513306,
          2.4517781734466553,
          3.1678836345672607,
          3.783869981765747,
          4.304398059844971,
          4.772938251495361,
          5.232720851898193,
          5.703928470611572,
          6.10456657409668,
          6.453512668609619,
          6.674887180328369,
          6.847546577453613,
          6.9408488273620605,
          7.0171427726745605,
          7.01475715637207,
          6.963077545166016,
          6.808310031890869,
          6.596941947937012,
          6.282138824462891,
          5.949007511138916,
          5.557729244232178,
          5.133935451507568,
          4.651960372924805,
          4.114124298095703,
          3.527148962020874,
          2.898404121398926,
          2.250133991241455,
          1.5909278392791748,
          0.9266793727874756,
          0.25725528597831726,
          -0.4465986490249634,
          -1.1435102224349976,
          -1.442421555519104,
          -1.7034069299697876,
          -3.918487787246704,
          -4.75460958480835,
          -4.643870830535889,
          -6.015437602996826,
          -4.300203323364258,
          -6.686580657958984
         ],
         "yaxis": "y2"
        },
        {
         "marker": {
          "color": "black"
         },
         "name": "No Fault - 60 - L088.60_084.07.csv",
         "type": "scatter",
         "x": [
          0.015624,
          0.0158844,
          0.0161448,
          0.0164052,
          0.0166656,
          0.016926,
          0.0171864,
          0.0174468,
          0.0177072,
          0.0179676,
          0.018228,
          0.0184884,
          0.0187488,
          0.0190092,
          0.0192696,
          0.01953,
          0.0197904,
          0.0200508,
          0.0203112,
          0.0205716,
          0.020832,
          0.0210924,
          0.0213528,
          0.0216132,
          0.0218736,
          0.022134,
          0.0223944,
          0.0226548,
          0.0229152,
          0.0231756,
          0.023436,
          0.0236964,
          0.0239568,
          0.0242172,
          0.0244776,
          0.024738,
          0.0249984,
          0.0252588,
          0.0255192,
          0.0257796,
          0.02604,
          0.0263004,
          0.0265608,
          0.0268212,
          0.0270816,
          0.027342,
          0.0276024,
          0.0278628,
          0.0281232,
          0.0283836,
          0.028644,
          0.0289044,
          0.0291648,
          0.0294252,
          0.0296856,
          0.029946,
          0.0302064,
          0.0304668,
          0.0307272,
          0.0309876,
          0.031248,
          0.0315084,
          0.0317688,
          0.0320292
         ],
         "xaxis": "x3",
         "y": [
          4.836557388305664,
          5.8033037185668945,
          6.72014045715332,
          7.5747175216674805,
          8.358098983764648,
          9.057755470275879,
          9.674012184143066,
          10.191883087158203,
          10.617527961730957,
          10.932292938232422,
          11.151799201965332,
          11.25380802154541,
          11.263879776000977,
          11.143895149230957,
          10.931973457336426,
          10.595261573791504,
          10.181568145751953,
          9.639575004577637,
          9.047441482543945,
          8.283355712890625,
          7.567492961883545,
          6.726227760314941,
          5.902740001678467,
          4.962837219238281,
          4.019289493560791,
          2.9789040088653564,
          1.9528452157974243,
          0.8782073259353638,
          -0.1714518517255783,
          -1.2317346334457397,
          -2.2998673915863037,
          -3.3255558013916016,
          -4.3367719650268555,
          -5.2825469970703125,
          -6.18646240234375,
          -7.040900707244873,
          -7.80640172958374,
          -8.516613960266113,
          -9.13607120513916,
          -9.67984676361084,
          -10.115043640136719,
          -10.451148986816406,
          -10.69704532623291,
          -10.845486640930176,
          -10.861831665039062,
          -10.808923721313477,
          -10.59908390045166,
          -10.346356391906738,
          -9.940057754516602,
          -9.483068466186523,
          -8.922958374023438,
          -8.271706581115723,
          -7.536217212677002,
          -6.741868019104004,
          -5.891119480133057,
          -4.972486972808838,
          -3.9892311096191406,
          -2.9878199100494385,
          -1.946607232093811,
          -0.8992520570755005,
          0.1874241828918457,
          1.2453148365020752,
          2.3136284351348877,
          3.345339775085449
         ],
         "yaxis": "y3"
        },
        {
         "marker": {
          "color": "black"
         },
         "name": "No Fault - 41 - L074.84_077.97.csv",
         "type": "scatter",
         "x": [
          0.0106764,
          0.0109368,
          0.0111972,
          0.0114576,
          0.011718,
          0.0119784,
          0.0122388,
          0.0124992,
          0.0127596,
          0.01302,
          0.0132804,
          0.0135408,
          0.0138012,
          0.0140616,
          0.014322,
          0.0145824,
          0.0148428,
          0.0151032,
          0.0153636,
          0.015624,
          0.0158844,
          0.0161448,
          0.0164052,
          0.0166656,
          0.016926,
          0.0171864,
          0.0174468,
          0.0177072,
          0.0179676,
          0.018228,
          0.0184884,
          0.0187488,
          0.0190092,
          0.0192696,
          0.01953,
          0.0197904,
          0.0200508,
          0.0203112,
          0.0205716,
          0.020832,
          0.0210924,
          0.0213528,
          0.0216132,
          0.0218736,
          0.022134,
          0.0223944,
          0.0226548,
          0.0229152,
          0.0231756,
          0.023436,
          0.0236964,
          0.0239568,
          0.0242172,
          0.0244776,
          0.024738,
          0.0249984,
          0.0252588,
          0.0255192,
          0.0257796,
          0.02604,
          0.0263004,
          0.0265608,
          0.0268212,
          0.0270816
         ],
         "xaxis": "x4",
         "y": [
          -4.899381637573242,
          -4.00426721572876,
          -2.9950530529022217,
          -2.0312910079956055,
          -1.0181728601455688,
          0.022954605519771576,
          1.0194896459579468,
          2.061817169189453,
          2.950531005859375,
          4.043720245361328,
          4.886599540710449,
          5.851441860198975,
          6.6145477294921875,
          7.369818210601807,
          8.055371284484863,
          8.651728630065918,
          9.209883689880371,
          9.63756275177002,
          9.976259231567383,
          10.232718467712402,
          10.34643840789795,
          10.415731430053711,
          10.335149765014648,
          10.240726470947266,
          9.936699867248535,
          9.589902877807617,
          9.147595405578613,
          8.623176574707031,
          8.033147811889648,
          7.331208229064941,
          6.633952617645264,
          5.868220329284668,
          5.010360240936279,
          4.163270950317383,
          3.199160099029541,
          2.2796154022216797,
          1.2733147144317627,
          0.3160611391067505,
          -0.6904728412628174,
          -1.6880147457122803,
          -2.6746411323547363,
          -3.589646816253662,
          -4.492538928985596,
          -5.351839542388916,
          -6.188482761383057,
          -6.913446426391602,
          -7.615215301513672,
          -8.206511497497559,
          -8.770608901977539,
          -9.18840217590332,
          -9.555240631103516,
          -9.82691478729248,
          -10.010470390319824,
          -10.076410293579102,
          -10.077193260192871,
          -9.94339370727539,
          -9.736666679382324,
          -9.405316352844238,
          -9.027581214904785,
          -8.544342041015625,
          -7.986137866973877,
          -7.3110480308532715,
          -6.618805885314941,
          -5.834863185882568
         ],
         "yaxis": "y4"
        },
        {
         "marker": {
          "color": "black"
         },
         "name": "No Fault - 37 - L071.77_072.46.csv",
         "type": "scatter",
         "x": [
          0.0096348,
          0.0098952,
          0.0101556,
          0.010416,
          0.0106764,
          0.0109368,
          0.0111972,
          0.0114576,
          0.011718,
          0.0119784,
          0.0122388,
          0.0124992,
          0.0127596,
          0.01302,
          0.0132804,
          0.0135408,
          0.0138012,
          0.0140616,
          0.014322,
          0.0145824,
          0.0148428,
          0.0151032,
          0.0153636,
          0.015624,
          0.0158844,
          0.0161448,
          0.0164052,
          0.0166656,
          0.016926,
          0.0171864,
          0.0174468,
          0.0177072,
          0.0179676,
          0.018228,
          0.0184884,
          0.0187488,
          0.0190092,
          0.0192696,
          0.01953,
          0.0197904,
          0.0200508,
          0.0203112,
          0.0205716,
          0.020832,
          0.0210924,
          0.0213528,
          0.0216132,
          0.0218736,
          0.022134,
          0.0223944,
          0.0226548,
          0.0229152,
          0.0231756,
          0.023436,
          0.0236964,
          0.0239568,
          0.0242172,
          0.0244776,
          0.024738,
          0.0249984,
          0.0252588,
          0.0255192,
          0.0257796,
          0.02604
         ],
         "xaxis": "x5",
         "y": [
          -5.138669013977051,
          -4.256867408752441,
          -3.3408923149108887,
          -2.403716802597046,
          -1.4380133152008057,
          -0.4421280026435852,
          0.5214141607284546,
          1.5355278253555298,
          2.479616641998291,
          3.4585602283477783,
          4.3363142013549805,
          5.215268611907959,
          5.993737697601318,
          6.733851909637451,
          7.4337615966796875,
          8.057376861572266,
          8.618258476257324,
          9.042152404785156,
          9.4173002243042,
          9.70244312286377,
          9.887507438659668,
          10.01702880859375,
          9.988327980041504,
          9.947100639343262,
          9.717873573303223,
          9.386693000793457,
          9.010165214538574,
          8.528993606567383,
          8.013511657714844,
          7.352173328399658,
          6.646208763122559,
          5.867043495178223,
          5.0553436279296875,
          4.227455139160156,
          3.2776031494140625,
          0.7390114068984985,
          0.17400430142879486,
          -0.755172610282898,
          -1.348727822303772,
          -2.3392257690429688,
          -2.7721173763275146,
          -3.4928977489471436,
          -4.078851222991943,
          -4.729284286499023,
          -5.5424981117248535,
          -5.760533809661865,
          -6.533917427062988,
          -6.640036106109619,
          -7.242589473724365,
          -7.253688812255859,
          -7.798325538635254,
          -7.632846355438232,
          -7.854167461395264,
          -7.713115692138672,
          -7.665638446807861,
          -7.411927700042725,
          -7.1311354637146,
          -6.903796672821045,
          -6.56438684463501,
          -6.080833911895752,
          -5.457326412200928,
          -5.061126708984375,
          -4.293548583984375,
          -3.7824857234954834
         ],
         "yaxis": "y5"
        },
        {
         "marker": {
          "color": "black"
         },
         "name": "Fault - 3 - Fault03_B830_RF80.00001_L078.15.csv",
         "type": "scatter",
         "x": [
          0.0007812,
          0.0010416,
          0.001302,
          0.0015624,
          0.0018228,
          0.0020832,
          0.0023436,
          0.002604,
          0.0028644,
          0.0031248,
          0.0033852,
          0.0036456,
          0.003906,
          0.0041664,
          0.0044268,
          0.0046872,
          0.0049476,
          0.005208,
          0.0054684,
          0.0057288,
          0.0059892,
          0.0062496,
          0.00651,
          0.0067704,
          0.0070308,
          0.0072912,
          0.0075516,
          0.007812,
          0.0080724,
          0.0083328,
          0.0085932,
          0.0088536,
          0.009114,
          0.0093744,
          0.0096348,
          0.0098952,
          0.0101556,
          0.010416,
          0.0106764,
          0.0109368,
          0.0111972,
          0.0114576,
          0.011718,
          0.0119784,
          0.0122388,
          0.0124992,
          0.0127596,
          0.01302,
          0.0132804,
          0.0135408,
          0.0138012,
          0.0140616,
          0.014322,
          0.0145824,
          0.0148428,
          0.0151032,
          0.0153636,
          0.015624,
          0.0158844,
          0.0161448,
          0.0164052,
          0.0166656,
          0.016926,
          0.0171864
         ],
         "xaxis": "x6",
         "y": [
          -0.6792829036712646,
          0.4746169149875641,
          1.2867887020111084,
          2.328498601913452,
          3.2491049766540527,
          4.021664619445801,
          4.943319320678711,
          5.513975143432617,
          6.397078514099121,
          6.949469089508057,
          7.632957458496094,
          8.122745513916016,
          8.523929595947266,
          8.862860679626465,
          9.110523223876953,
          9.326371192932129,
          9.443453788757324,
          9.423534393310547,
          9.254473686218262,
          9.094267845153809,
          8.738662719726562,
          8.535713195800781,
          7.996500015258789,
          7.584120750427246,
          6.836752414703369,
          6.228332042694092,
          5.451476097106934,
          4.780159950256348,
          3.977785348892212,
          3.1332125663757324,
          2.193946599960327,
          1.2547094821929932,
          0.3227023482322693,
          -0.5571923851966858,
          -1.445646047592163,
          -2.339851140975952,
          -3.253791570663452,
          -4.154716491699219,
          -4.960685729980469,
          -5.701748371124268,
          -6.374016761779785,
          -7.0106024742126465,
          -7.619370937347412,
          -8.13733196258545,
          -8.58520221710205,
          -8.900324821472168,
          -9.162583351135254,
          -9.309553146362305,
          -9.413117408752441,
          -9.39669418334961,
          -9.320612907409668,
          -9.115399360656738,
          -8.842750549316406,
          -8.44968032836914,
          -8.012138366699219,
          -7.486854553222656,
          -6.916944980621338,
          -6.251868724822998,
          -5.537158489227295,
          -4.759225845336914,
          -3.9440882205963135,
          -3.071910858154297,
          -2.134446620941162,
          -0.7126399278640747
         ],
         "yaxis": "y6"
        },
        {
         "marker": {
          "color": "black"
         },
         "name": "No Fault - 0 - L102.48_104.84.csv",
         "type": "scatter",
         "x": [
          0,
          0.0002604,
          0.0005208,
          0.0007812,
          0.0010416,
          0.001302,
          0.0015624,
          0.0018228,
          0.0020832,
          0.0023436,
          0.002604,
          0.0028644,
          0.0031248,
          0.0033852,
          0.0036456,
          0.003906,
          0.0041664,
          0.0044268,
          0.0046872,
          0.0049476,
          0.005208,
          0.0054684,
          0.0057288,
          0.0059892,
          0.0062496,
          0.00651,
          0.0067704,
          0.0070308,
          0.0072912,
          0.0075516,
          0.007812,
          0.0080724,
          0.0083328,
          0.0085932,
          0.0088536,
          0.009114,
          0.0093744,
          0.0096348,
          0.0098952,
          0.0101556,
          0.010416,
          0.0106764,
          0.0109368,
          0.0111972,
          0.0114576,
          0.011718,
          0.0119784,
          0.0122388,
          0.0124992,
          0.0127596,
          0.01302,
          0.0132804,
          0.0135408,
          0.0138012,
          0.0140616,
          0.014322,
          0.0145824,
          0.0148428,
          0.0151032,
          0.0153636,
          0.015624,
          0.0158844,
          0.0161448,
          0.0164052
         ],
         "xaxis": "x7",
         "y": [
          6.654971122741699,
          5.6359543800354,
          4.582706928253174,
          3.41052508354187,
          2.2637994289398193,
          1.1045702695846558,
          -0.035981666296720505,
          -1.169206142425537,
          -2.4060027599334717,
          -3.5194075107574463,
          -4.716229438781738,
          -5.714779853820801,
          -6.699721813201904,
          -7.633802890777588,
          -8.501273155212402,
          -9.341300964355469,
          -10.035394668579102,
          -10.66771411895752,
          -11.188858985900879,
          -11.528706550598145,
          -11.821578025817871,
          -12.016819953918457,
          -12.072074890136719,
          -12.01706600189209,
          -11.812142372131348,
          -11.500775337219238,
          -11.092141151428223,
          -10.590105056762695,
          -9.97632884979248,
          -9.288204193115234,
          -8.455547332763672,
          -7.573683261871338,
          -6.617734432220459,
          -5.620087623596191,
          -4.565661907196045,
          -3.4610025882720947,
          -2.2969679832458496,
          -1.1273399591445923,
          0.06727135181427002,
          1.2524722814559937,
          2.4169018268585205,
          3.5627622604370117,
          4.69612455368042,
          5.748543739318848,
          6.787766456604004,
          7.705968379974365,
          8.590923309326172,
          9.383204460144043,
          10.07983112335205,
          10.687719345092773,
          8.647684097290039,
          7.770309925079346,
          8.458138465881348,
          7.394996643066406,
          8.292326927185059,
          7.52775764465332,
          7.82230806350708,
          7.07440185546875,
          7.1724090576171875,
          6.552370071411133,
          6.1575164794921875,
          5.661739349365234,
          5.253405570983887,
          4.661365032196045
         ],
         "yaxis": "y7"
        },
        {
         "marker": {
          "color": "black"
         },
         "name": "Fault - 55 - Fault01_B806_RF20.00001_L049.11.csv",
         "type": "scatter",
         "x": [
          0.014322,
          0.0145824,
          0.0148428,
          0.0151032,
          0.0153636,
          0.015624,
          0.0158844,
          0.0161448,
          0.0164052,
          0.0166656,
          0.016926,
          0.0171864,
          0.0174468,
          0.0177072,
          0.0179676,
          0.018228,
          0.0184884,
          0.0187488,
          0.0190092,
          0.0192696,
          0.01953,
          0.0197904,
          0.0200508,
          0.0203112,
          0.0205716,
          0.020832,
          0.0210924,
          0.0213528,
          0.0216132,
          0.0218736,
          0.022134,
          0.0223944,
          0.0226548,
          0.0229152,
          0.0231756,
          0.023436,
          0.0236964,
          0.0239568,
          0.0242172,
          0.0244776,
          0.024738,
          0.0249984,
          0.0252588,
          0.0255192,
          0.0257796,
          0.02604,
          0.0263004,
          0.0265608,
          0.0268212,
          0.0270816,
          0.027342,
          0.0276024,
          0.0278628,
          0.0281232,
          0.0283836,
          0.028644,
          0.0289044,
          0.0291648,
          0.0294252,
          0.0296856,
          0.029946,
          0.0302064,
          0.0304668,
          0.0307272
         ],
         "xaxis": "x8",
         "y": [
          4.640018939971924,
          4.940627098083496,
          5.278491973876953,
          5.501369953155518,
          5.7138237953186035,
          5.799478054046631,
          5.884411811828613,
          5.870382308959961,
          5.862008571624756,
          5.733944892883301,
          3.8980565071105957,
          2.594280958175659,
          5.586493492126465,
          5.224680423736572,
          3.9368112087249756,
          2.007009506225586,
          3.19962477684021,
          3.9808788299560547,
          3.364854574203491,
          2.789708137512207,
          0.9900437593460083,
          1.73652982711792,
          1.806847333908081,
          2.3182761669158936,
          0.9098318219184875,
          0.4027668535709381,
          0.08887185901403427,
          0.5486822724342346,
          0.05760005861520767,
          -1.433820366859436,
          -1.7144449949264526,
          -1.7594166994094849,
          -1.5066914558410645,
          -2.361994504928589,
          -2.92582106590271,
          -3.5447707176208496,
          -3.3227057456970215,
          -3.79376482963562,
          -4.1566643714904785,
          -4.645830154418945,
          -4.907779693603516,
          -4.898390293121338,
          -4.79626989364624,
          -4.87760066986084,
          -5.1675944328308105,
          -5.299972057342529,
          -5.23567533493042,
          -4.7892985343933105,
          -4.68650484085083,
          -4.608994483947754,
          -4.34840202331543,
          -4.145738124847412,
          -3.705345869064331,
          -3.4884016513824463,
          -2.98432993888855,
          -2.642759084701538,
          -2.1524832248687744,
          -1.8531484603881836,
          -1.2689796686172485,
          -0.8243585228919983,
          -0.37368011474609375,
          0.017296837642788887,
          0.5164515376091003,
          1.070853352546692
         ],
         "yaxis": "y8"
        },
        {
         "marker": {
          "color": "black"
         },
         "name": "Fault - 21 - Fault05_B312_RF1e-05_L050.79.csv",
         "type": "scatter",
         "x": [
          0.0054684,
          0.0057288,
          0.0059892,
          0.0062496,
          0.00651,
          0.0067704,
          0.0070308,
          0.0072912,
          0.0075516,
          0.007812,
          0.0080724,
          0.0083328,
          0.0085932,
          0.0088536,
          0.009114,
          0.0093744,
          0.0096348,
          0.0098952,
          0.0101556,
          0.010416,
          0.0106764,
          0.0109368,
          0.0111972,
          0.0114576,
          0.011718,
          0.0119784,
          0.0122388,
          0.0124992,
          0.0127596,
          0.01302,
          0.0132804,
          0.0135408,
          0.0138012,
          0.0140616,
          0.014322,
          0.0145824,
          0.0148428,
          0.0151032,
          0.0153636,
          0.015624,
          0.0158844,
          0.0161448,
          0.0164052,
          0.0166656,
          0.016926,
          0.0171864,
          0.0174468,
          0.0177072,
          0.0179676,
          0.018228,
          0.0184884,
          0.0187488,
          0.0190092,
          0.0192696,
          0.01953,
          0.0197904,
          0.0200508,
          0.0203112,
          0.0205716,
          0.020832,
          0.0210924,
          0.0213528,
          0.0216132,
          0.0218736
         ],
         "xaxis": "x9",
         "y": [
          -2.02675461769104,
          -1.351191520690918,
          -0.615687370300293,
          -0.03988412395119667,
          0.49514222145080566,
          0.9625258445739746,
          1.5619523525238037,
          2.2210988998413086,
          2.864218235015869,
          3.436168909072876,
          3.8526535034179688,
          4.250836372375488,
          4.651848316192627,
          5.034148693084717,
          5.44974946975708,
          5.732518196105957,
          5.950865745544434,
          6.060707092285156,
          6.1185479164123535,
          6.212618827819824,
          6.172749042510986,
          6.184360980987549,
          5.988558769226074,
          5.843893527984619,
          5.501471042633057,
          5.234830856323242,
          4.855079650878906,
          4.521305561065674,
          4.067657470703125,
          3.6227023601531982,
          3.061725616455078,
          2.5200705528259277,
          1.9273593425750732,
          1.3502442836761475,
          0.7763774394989014,
          0.19265617430210114,
          -0.4331759214401245,
          -1.055606722831726,
          -1.6836732625961304,
          -2.2554261684417725,
          -2.7989985942840576,
          -3.3067798614501953,
          -3.8079421520233154,
          -4.281308174133301,
          -4.337421417236328,
          -3.7579944133758545,
          -5.456204414367676,
          -7.277639865875244,
          -5.429898262023926,
          -7.018770217895508,
          -4.514924049377441,
          -6.403133869171143,
          -6.291242599487305,
          -6.147769451141357,
          -6.345911979675293,
          -5.593055248260498,
          -5.250396728515625,
          -4.792293548583984,
          -5.432654857635498,
          -4.012307643890381,
          -4.558866500854492,
          -2.4306514263153076,
          -2.6907360553741455,
          -0.27973672747612
         ],
         "yaxis": "y9"
        }
       ],
       "layout": {
        "height": 700,
        "margin": {
         "b": 20,
         "l": 20,
         "r": 30,
         "t": 40
        },
        "plot_bgcolor": "rgba(0,0,0,0)",
        "template": {
         "data": {
          "bar": [
           {
            "error_x": {
             "color": "#2a3f5f"
            },
            "error_y": {
             "color": "#2a3f5f"
            },
            "marker": {
             "line": {
              "color": "#E5ECF6",
              "width": 0.5
             },
             "pattern": {
              "fillmode": "overlay",
              "size": 10,
              "solidity": 0.2
             }
            },
            "type": "bar"
           }
          ],
          "barpolar": [
           {
            "marker": {
             "line": {
              "color": "#E5ECF6",
              "width": 0.5
             },
             "pattern": {
              "fillmode": "overlay",
              "size": 10,
              "solidity": 0.2
             }
            },
            "type": "barpolar"
           }
          ],
          "carpet": [
           {
            "aaxis": {
             "endlinecolor": "#2a3f5f",
             "gridcolor": "white",
             "linecolor": "white",
             "minorgridcolor": "white",
             "startlinecolor": "#2a3f5f"
            },
            "baxis": {
             "endlinecolor": "#2a3f5f",
             "gridcolor": "white",
             "linecolor": "white",
             "minorgridcolor": "white",
             "startlinecolor": "#2a3f5f"
            },
            "type": "carpet"
           }
          ],
          "choropleth": [
           {
            "colorbar": {
             "outlinewidth": 0,
             "ticks": ""
            },
            "type": "choropleth"
           }
          ],
          "contour": [
           {
            "colorbar": {
             "outlinewidth": 0,
             "ticks": ""
            },
            "colorscale": [
             [
              0,
              "#0d0887"
             ],
             [
              0.1111111111111111,
              "#46039f"
             ],
             [
              0.2222222222222222,
              "#7201a8"
             ],
             [
              0.3333333333333333,
              "#9c179e"
             ],
             [
              0.4444444444444444,
              "#bd3786"
             ],
             [
              0.5555555555555556,
              "#d8576b"
             ],
             [
              0.6666666666666666,
              "#ed7953"
             ],
             [
              0.7777777777777778,
              "#fb9f3a"
             ],
             [
              0.8888888888888888,
              "#fdca26"
             ],
             [
              1,
              "#f0f921"
             ]
            ],
            "type": "contour"
           }
          ],
          "contourcarpet": [
           {
            "colorbar": {
             "outlinewidth": 0,
             "ticks": ""
            },
            "type": "contourcarpet"
           }
          ],
          "heatmap": [
           {
            "colorbar": {
             "outlinewidth": 0,
             "ticks": ""
            },
            "colorscale": [
             [
              0,
              "#0d0887"
             ],
             [
              0.1111111111111111,
              "#46039f"
             ],
             [
              0.2222222222222222,
              "#7201a8"
             ],
             [
              0.3333333333333333,
              "#9c179e"
             ],
             [
              0.4444444444444444,
              "#bd3786"
             ],
             [
              0.5555555555555556,
              "#d8576b"
             ],
             [
              0.6666666666666666,
              "#ed7953"
             ],
             [
              0.7777777777777778,
              "#fb9f3a"
             ],
             [
              0.8888888888888888,
              "#fdca26"
             ],
             [
              1,
              "#f0f921"
             ]
            ],
            "type": "heatmap"
           }
          ],
          "heatmapgl": [
           {
            "colorbar": {
             "outlinewidth": 0,
             "ticks": ""
            },
            "colorscale": [
             [
              0,
              "#0d0887"
             ],
             [
              0.1111111111111111,
              "#46039f"
             ],
             [
              0.2222222222222222,
              "#7201a8"
             ],
             [
              0.3333333333333333,
              "#9c179e"
             ],
             [
              0.4444444444444444,
              "#bd3786"
             ],
             [
              0.5555555555555556,
              "#d8576b"
             ],
             [
              0.6666666666666666,
              "#ed7953"
             ],
             [
              0.7777777777777778,
              "#fb9f3a"
             ],
             [
              0.8888888888888888,
              "#fdca26"
             ],
             [
              1,
              "#f0f921"
             ]
            ],
            "type": "heatmapgl"
           }
          ],
          "histogram": [
           {
            "marker": {
             "pattern": {
              "fillmode": "overlay",
              "size": 10,
              "solidity": 0.2
             }
            },
            "type": "histogram"
           }
          ],
          "histogram2d": [
           {
            "colorbar": {
             "outlinewidth": 0,
             "ticks": ""
            },
            "colorscale": [
             [
              0,
              "#0d0887"
             ],
             [
              0.1111111111111111,
              "#46039f"
             ],
             [
              0.2222222222222222,
              "#7201a8"
             ],
             [
              0.3333333333333333,
              "#9c179e"
             ],
             [
              0.4444444444444444,
              "#bd3786"
             ],
             [
              0.5555555555555556,
              "#d8576b"
             ],
             [
              0.6666666666666666,
              "#ed7953"
             ],
             [
              0.7777777777777778,
              "#fb9f3a"
             ],
             [
              0.8888888888888888,
              "#fdca26"
             ],
             [
              1,
              "#f0f921"
             ]
            ],
            "type": "histogram2d"
           }
          ],
          "histogram2dcontour": [
           {
            "colorbar": {
             "outlinewidth": 0,
             "ticks": ""
            },
            "colorscale": [
             [
              0,
              "#0d0887"
             ],
             [
              0.1111111111111111,
              "#46039f"
             ],
             [
              0.2222222222222222,
              "#7201a8"
             ],
             [
              0.3333333333333333,
              "#9c179e"
             ],
             [
              0.4444444444444444,
              "#bd3786"
             ],
             [
              0.5555555555555556,
              "#d8576b"
             ],
             [
              0.6666666666666666,
              "#ed7953"
             ],
             [
              0.7777777777777778,
              "#fb9f3a"
             ],
             [
              0.8888888888888888,
              "#fdca26"
             ],
             [
              1,
              "#f0f921"
             ]
            ],
            "type": "histogram2dcontour"
           }
          ],
          "mesh3d": [
           {
            "colorbar": {
             "outlinewidth": 0,
             "ticks": ""
            },
            "type": "mesh3d"
           }
          ],
          "parcoords": [
           {
            "line": {
             "colorbar": {
              "outlinewidth": 0,
              "ticks": ""
             }
            },
            "type": "parcoords"
           }
          ],
          "pie": [
           {
            "automargin": true,
            "type": "pie"
           }
          ],
          "scatter": [
           {
            "fillpattern": {
             "fillmode": "overlay",
             "size": 10,
             "solidity": 0.2
            },
            "type": "scatter"
           }
          ],
          "scatter3d": [
           {
            "line": {
             "colorbar": {
              "outlinewidth": 0,
              "ticks": ""
             }
            },
            "marker": {
             "colorbar": {
              "outlinewidth": 0,
              "ticks": ""
             }
            },
            "type": "scatter3d"
           }
          ],
          "scattercarpet": [
           {
            "marker": {
             "colorbar": {
              "outlinewidth": 0,
              "ticks": ""
             }
            },
            "type": "scattercarpet"
           }
          ],
          "scattergeo": [
           {
            "marker": {
             "colorbar": {
              "outlinewidth": 0,
              "ticks": ""
             }
            },
            "type": "scattergeo"
           }
          ],
          "scattergl": [
           {
            "marker": {
             "colorbar": {
              "outlinewidth": 0,
              "ticks": ""
             }
            },
            "type": "scattergl"
           }
          ],
          "scattermapbox": [
           {
            "marker": {
             "colorbar": {
              "outlinewidth": 0,
              "ticks": ""
             }
            },
            "type": "scattermapbox"
           }
          ],
          "scatterpolar": [
           {
            "marker": {
             "colorbar": {
              "outlinewidth": 0,
              "ticks": ""
             }
            },
            "type": "scatterpolar"
           }
          ],
          "scatterpolargl": [
           {
            "marker": {
             "colorbar": {
              "outlinewidth": 0,
              "ticks": ""
             }
            },
            "type": "scatterpolargl"
           }
          ],
          "scatterternary": [
           {
            "marker": {
             "colorbar": {
              "outlinewidth": 0,
              "ticks": ""
             }
            },
            "type": "scatterternary"
           }
          ],
          "surface": [
           {
            "colorbar": {
             "outlinewidth": 0,
             "ticks": ""
            },
            "colorscale": [
             [
              0,
              "#0d0887"
             ],
             [
              0.1111111111111111,
              "#46039f"
             ],
             [
              0.2222222222222222,
              "#7201a8"
             ],
             [
              0.3333333333333333,
              "#9c179e"
             ],
             [
              0.4444444444444444,
              "#bd3786"
             ],
             [
              0.5555555555555556,
              "#d8576b"
             ],
             [
              0.6666666666666666,
              "#ed7953"
             ],
             [
              0.7777777777777778,
              "#fb9f3a"
             ],
             [
              0.8888888888888888,
              "#fdca26"
             ],
             [
              1,
              "#f0f921"
             ]
            ],
            "type": "surface"
           }
          ],
          "table": [
           {
            "cells": {
             "fill": {
              "color": "#EBF0F8"
             },
             "line": {
              "color": "white"
             }
            },
            "header": {
             "fill": {
              "color": "#C8D4E3"
             },
             "line": {
              "color": "white"
             }
            },
            "type": "table"
           }
          ]
         },
         "layout": {
          "annotationdefaults": {
           "arrowcolor": "#2a3f5f",
           "arrowhead": 0,
           "arrowwidth": 1
          },
          "autotypenumbers": "strict",
          "coloraxis": {
           "colorbar": {
            "outlinewidth": 0,
            "ticks": ""
           }
          },
          "colorscale": {
           "diverging": [
            [
             0,
             "#8e0152"
            ],
            [
             0.1,
             "#c51b7d"
            ],
            [
             0.2,
             "#de77ae"
            ],
            [
             0.3,
             "#f1b6da"
            ],
            [
             0.4,
             "#fde0ef"
            ],
            [
             0.5,
             "#f7f7f7"
            ],
            [
             0.6,
             "#e6f5d0"
            ],
            [
             0.7,
             "#b8e186"
            ],
            [
             0.8,
             "#7fbc41"
            ],
            [
             0.9,
             "#4d9221"
            ],
            [
             1,
             "#276419"
            ]
           ],
           "sequential": [
            [
             0,
             "#0d0887"
            ],
            [
             0.1111111111111111,
             "#46039f"
            ],
            [
             0.2222222222222222,
             "#7201a8"
            ],
            [
             0.3333333333333333,
             "#9c179e"
            ],
            [
             0.4444444444444444,
             "#bd3786"
            ],
            [
             0.5555555555555556,
             "#d8576b"
            ],
            [
             0.6666666666666666,
             "#ed7953"
            ],
            [
             0.7777777777777778,
             "#fb9f3a"
            ],
            [
             0.8888888888888888,
             "#fdca26"
            ],
            [
             1,
             "#f0f921"
            ]
           ],
           "sequentialminus": [
            [
             0,
             "#0d0887"
            ],
            [
             0.1111111111111111,
             "#46039f"
            ],
            [
             0.2222222222222222,
             "#7201a8"
            ],
            [
             0.3333333333333333,
             "#9c179e"
            ],
            [
             0.4444444444444444,
             "#bd3786"
            ],
            [
             0.5555555555555556,
             "#d8576b"
            ],
            [
             0.6666666666666666,
             "#ed7953"
            ],
            [
             0.7777777777777778,
             "#fb9f3a"
            ],
            [
             0.8888888888888888,
             "#fdca26"
            ],
            [
             1,
             "#f0f921"
            ]
           ]
          },
          "colorway": [
           "#636efa",
           "#EF553B",
           "#00cc96",
           "#ab63fa",
           "#FFA15A",
           "#19d3f3",
           "#FF6692",
           "#B6E880",
           "#FF97FF",
           "#FECB52"
          ],
          "font": {
           "color": "#2a3f5f"
          },
          "geo": {
           "bgcolor": "white",
           "lakecolor": "white",
           "landcolor": "#E5ECF6",
           "showlakes": true,
           "showland": true,
           "subunitcolor": "white"
          },
          "hoverlabel": {
           "align": "left"
          },
          "hovermode": "closest",
          "mapbox": {
           "style": "light"
          },
          "paper_bgcolor": "white",
          "plot_bgcolor": "#E5ECF6",
          "polar": {
           "angularaxis": {
            "gridcolor": "white",
            "linecolor": "white",
            "ticks": ""
           },
           "bgcolor": "#E5ECF6",
           "radialaxis": {
            "gridcolor": "white",
            "linecolor": "white",
            "ticks": ""
           }
          },
          "scene": {
           "xaxis": {
            "backgroundcolor": "#E5ECF6",
            "gridcolor": "white",
            "gridwidth": 2,
            "linecolor": "white",
            "showbackground": true,
            "ticks": "",
            "zerolinecolor": "white"
           },
           "yaxis": {
            "backgroundcolor": "#E5ECF6",
            "gridcolor": "white",
            "gridwidth": 2,
            "linecolor": "white",
            "showbackground": true,
            "ticks": "",
            "zerolinecolor": "white"
           },
           "zaxis": {
            "backgroundcolor": "#E5ECF6",
            "gridcolor": "white",
            "gridwidth": 2,
            "linecolor": "white",
            "showbackground": true,
            "ticks": "",
            "zerolinecolor": "white"
           }
          },
          "shapedefaults": {
           "line": {
            "color": "#2a3f5f"
           }
          },
          "ternary": {
           "aaxis": {
            "gridcolor": "white",
            "linecolor": "white",
            "ticks": ""
           },
           "baxis": {
            "gridcolor": "white",
            "linecolor": "white",
            "ticks": ""
           },
           "bgcolor": "#E5ECF6",
           "caxis": {
            "gridcolor": "white",
            "linecolor": "white",
            "ticks": ""
           }
          },
          "title": {
           "x": 0.05
          },
          "xaxis": {
           "automargin": true,
           "gridcolor": "white",
           "linecolor": "white",
           "ticks": "",
           "title": {
            "standoff": 15
           },
           "zerolinecolor": "white",
           "zerolinewidth": 2
          },
          "yaxis": {
           "automargin": true,
           "gridcolor": "white",
           "linecolor": "white",
           "ticks": "",
           "title": {
            "standoff": 15
           },
           "zerolinecolor": "white",
           "zerolinewidth": 2
          }
         }
        },
        "title": {
         "text": "Figuras"
        },
        "width": 900,
        "xaxis": {
         "anchor": "y",
         "domain": [
          0,
          0.2888888888888889
         ]
        },
        "xaxis2": {
         "anchor": "y2",
         "domain": [
          0.35555555555555557,
          0.6444444444444445
         ]
        },
        "xaxis3": {
         "anchor": "y3",
         "domain": [
          0.7111111111111111,
          1
         ]
        },
        "xaxis4": {
         "anchor": "y4",
         "domain": [
          0,
          0.2888888888888889
         ]
        },
        "xaxis5": {
         "anchor": "y5",
         "domain": [
          0.35555555555555557,
          0.6444444444444445
         ]
        },
        "xaxis6": {
         "anchor": "y6",
         "domain": [
          0.7111111111111111,
          1
         ]
        },
        "xaxis7": {
         "anchor": "y7",
         "domain": [
          0,
          0.2888888888888889
         ]
        },
        "xaxis8": {
         "anchor": "y8",
         "domain": [
          0.35555555555555557,
          0.6444444444444445
         ]
        },
        "xaxis9": {
         "anchor": "y9",
         "domain": [
          0.7111111111111111,
          1
         ]
        },
        "yaxis": {
         "anchor": "x",
         "domain": [
          0.7333333333333333,
          1
         ]
        },
        "yaxis2": {
         "anchor": "x2",
         "domain": [
          0.7333333333333333,
          1
         ]
        },
        "yaxis3": {
         "anchor": "x3",
         "domain": [
          0.7333333333333333,
          1
         ]
        },
        "yaxis4": {
         "anchor": "x4",
         "domain": [
          0.36666666666666664,
          0.6333333333333333
         ]
        },
        "yaxis5": {
         "anchor": "x5",
         "domain": [
          0.36666666666666664,
          0.6333333333333333
         ]
        },
        "yaxis6": {
         "anchor": "x6",
         "domain": [
          0.36666666666666664,
          0.6333333333333333
         ]
        },
        "yaxis7": {
         "anchor": "x7",
         "domain": [
          0,
          0.26666666666666666
         ]
        },
        "yaxis8": {
         "anchor": "x8",
         "domain": [
          0,
          0.26666666666666666
         ]
        },
        "yaxis9": {
         "anchor": "x9",
         "domain": [
          0,
          0.26666666666666666
         ]
        }
       }
      }
     },
     "metadata": {},
     "output_type": "display_data"
    }
   ],
   "source": [
    "from plotly.subplots import make_subplots\n",
    "import plotly.graph_objects as go\n",
    "\n",
    "fs = 3840\n",
    "dataset_plot = Form1Dataset(\n",
    "    dataset_dir, max_window_idx=max_window_idx, signal_names=signal_names, test=True\n",
    ")\n",
    "plot_dataloader = DataLoader(dataset_plot, batch_size=train_batch_size, shuffle=True)\n",
    "\n",
    "dataiter = iter(plot_dataloader)\n",
    "signal_windows, t_windows, labels, csv_name, index, window_idx = next(dataiter)\n",
    "print(len(csv_name))\n",
    "print(window_idx.shape)\n",
    "print(labels.shape)\n",
    "\n",
    "print(labels.type())\n",
    "x = model(signal_windows[0:9].to(device))\n",
    "# x = x.detach()\n",
    "\n",
    "# Crear Matriz de confusión\n",
    "df = confusion_matrix(x, labels[0:9])\n",
    "print(type(df))\n",
    "print(df)\n",
    "\n",
    "# figure = plt.figure(figsize=(10, 10))\n",
    "cols, rows = 3, 3\n",
    "fig = make_subplots(rows=rows, cols=cols)\n",
    "\n",
    "label_to_text = {\n",
    "    \"0\": \"No Fault\",\n",
    "    \"1\": \"Fault\",\n",
    "}\n",
    "\n",
    "for i in range(0, cols * rows):\n",
    "\n",
    "    col = i % cols\n",
    "    row = i // cols\n",
    "    label = label_to_text[str(int(labels[i, 0].item()))]\n",
    "    win_idx = str(window_idx[i].item())\n",
    "    fig.add_trace(\n",
    "        go.Scatter(\n",
    "            name=f\"{label} - {win_idx} - {csv_name[i]}\",\n",
    "            x=t_windows[i, :],\n",
    "            y=signal_windows[i, :, 0],\n",
    "            marker_color=\"black\",\n",
    "        ),\n",
    "        row=row + 1,\n",
    "        col=col + 1,\n",
    "    )\n",
    "\n",
    "fig.update_layout(\n",
    "    height=700,\n",
    "    width=900,\n",
    "    title_text=\"Figuras\",\n",
    "    margin={\"b\": 20, \"t\": 40, \"l\": 20, \"r\": 30},\n",
    "    plot_bgcolor=\"rgba(0,0,0,0)\",\n",
    "    # paper_bgcolor=\"whitesmoke\",\n",
    ")\n",
    "fig.show()\n"
   ]
  },
  {
   "attachments": {},
   "cell_type": "markdown",
   "metadata": {},
   "source": [
    "##### 6.3. Matplotlib Plots"
   ]
  },
  {
   "cell_type": "code",
   "execution_count": 27,
   "metadata": {},
   "outputs": [
    {
     "name": "stdout",
     "output_type": "stream",
     "text": [
      "   Pred probability  Pred label  True label Result\n",
      "0          0.218160           0           0     TN\n",
      "1          0.830756           1           1     TP\n",
      "2          0.954089           1           1     TP\n",
      "3          0.612596           1           1     TP\n",
      "4          0.294955           0           0     TN\n",
      "5          0.334058           0           0     TN\n",
      "6          0.600089           1           1     TP\n",
      "7          0.242327           0           1     FN\n",
      "8          0.890893           1           1     TP\n"
     ]
    },
    {
     "data": {
      "image/png": "[encoded data removed]",
      "text/plain": [
       "<Figure size 1000x1000 with 9 Axes>"
      ]
     },
     "metadata": {},
     "output_type": "display_data"
    }
   ],
   "source": [
    "dataset_plot = Form1Dataset(\n",
    "    dataset_dir, max_window_idx=max_window_idx, signal_names=signal_names, test=True\n",
    ")\n",
    "plot_dataloader = DataLoader(dataset_plot, batch_size=train_batch_size, shuffle=True)\n",
    "\n",
    "dataiter = iter(plot_dataloader)\n",
    "signal_windows, t_windows, labels, *_ = next(dataiter)\n",
    "fs = 3840\n",
    "\n",
    "x = model(signal_windows[1:10].to(device))\n",
    "x = x.detach()\n",
    "\n",
    "# Crear Matriz de confusión\n",
    "df = confusion_matrix(x, labels[1:10])\n",
    "print(df)\n",
    "\n",
    "figure = plt.figure(figsize=(10, 10))\n",
    "cols, rows = 3, 3\n",
    "for i in range(1, cols * rows + 1):\n",
    "    figure.add_subplot(rows, cols, i)\n",
    "    plt.plot(t_windows[i, :], signal_windows[i, :, 0])\n"
   ]
  },
  {
   "attachments": {},
   "cell_type": "markdown",
   "metadata": {},
   "source": [
    "### 7. Data Exploration"
   ]
  },
  {
   "attachments": {},
   "cell_type": "markdown",
   "metadata": {},
   "source": [
    "##### 7.1. Auxiliar Functions"
   ]
  },
  {
   "cell_type": "code",
   "execution_count": 28,
   "metadata": {},
   "outputs": [],
   "source": [
    "def signal_exploration(idx: int, dataset, model, plot_signal: bool = True):\n",
    "    signal, t, idx_min, idx_max, csv_name = dataset.get_event(idx)\n",
    "    model.eval()\n",
    "    if plot_signal == True:\n",
    "        plt.plot(t, signal)\n",
    "        plt.show()\n",
    "    conf_matrix = torch.zeros(1, 5, dtype=torch.int64).to(device)\n",
    "    preds = torch.empty((0, 1)).to(device)\n",
    "    labels = torch.empty((0, 1)).to(device)\n",
    "    for i in range(idx_min, idx_max + 1):\n",
    "        signal, y = dataset.__getitem__(i)\n",
    "        y = torch.unsqueeze(y, 0).to(device)\n",
    "        signal = torch.unsqueeze(signal, 0).to(device)\n",
    "        pred = model(signal)\n",
    "        preds = torch.cat((preds, pred), 0)\n",
    "        labels = torch.cat((labels, y), 0)\n",
    "        conf_matrix = conf_matrix.add(binary_stat_scores(pred, y))\n",
    "    df = confusion_matrix(preds, labels)\n",
    "    df.insert(loc=0, column=\"event_idx\", value=np.repeat(idx, idx_max - idx_min + 1))\n",
    "    # df.insert(loc=0, column=\"window_idx\", value=df.index)\n",
    "    # df.insert(loc=0, column=\"indices\", value=idxs)\n",
    "\n",
    "    return df, conf_matrix\n",
    "\n",
    "\n",
    "def plot_confusion_matrix(metrics):\n",
    "    z = [[metrics[\"TP\"], metrics[\"FN\"]], [metrics[\"FP\"], metrics[\"TN\"]]]\n",
    "    fig = px.imshow(\n",
    "        z,\n",
    "        text_auto=True,\n",
    "        template=\"seaborn\",\n",
    "        labels=dict(x=\"Predicted Label\", y=\"Real Label\", color=\"Predictions\"),\n",
    "        x=[\"Positive\", \"Negative\"],\n",
    "        y=[\"Positive\", \"Negative\"],\n",
    "        width=400,\n",
    "        height=300,\n",
    "    )\n",
    "    fig.show()\n",
    "\n",
    "\n",
    "def print_metrics(metrics):\n",
    "    print(f\"{'Total windows:':.<30}{metrics['TOTAL']:4}\")\n",
    "    print(f\"{'True Positives:':.<30}{metrics['TP']:4}\")\n",
    "    print(f\"{'False Positives:':.<30}{metrics['FP']:4}\")\n",
    "    print(f\"{'True Negatives:':.<30}{metrics['TN']:4}\")\n",
    "    print(f\"{'False Negatives:':.<30}{metrics['FN']:4}\")\n",
    "    print(f\"{'Accuracy:':.<30}{metrics['ACC']*100:>6.1f}%\")\n",
    "    print(f\"{'True Positive Rate:':.<30}{metrics['TPR']*100:>6.1f}%\") \n",
    "    print(f\"{'False Positive Rate:':.<30}{metrics['FPR']*100:>6.1f}%\") \n",
    "    print(f\"{'True Negative Rate:':.<30}{metrics['TNR']*100:>6.1f}%\") \n",
    "    try:\n",
    "        print(f\"{'Positive Predictive Value:':.<30}{metrics['PPV']*100:>6.1f}%\")\n",
    "    except KeyError:\n",
    "        print(f\"PPV divided by 0. No positive class predicted\")\n",
    "    # metrics[\"PPV\"]\n"
   ]
  },
  {
   "attachments": {},
   "cell_type": "markdown",
   "metadata": {},
   "source": [
    "\n",
    "##### 7.2. Data Exploration"
   ]
  },
  {
   "cell_type": "code",
   "execution_count": 37,
   "metadata": {},
   "outputs": [],
   "source": [
    "# Seleccionar pesos de modelo\n",
    "# model.load_state_dict(torch.load('./models/LSTMHarmonic_weights_R3_934.pth'))\n",
    "# model.load_state_dict(torch.load(\"./models/LSTMHarmonic_weights_R1_996.pth\"))\n",
    "# model.load_state_dict(torch.load('./models/LSTMHarmonic_weights_R2_978.pth'))\n",
    "\n",
    "current_R1A = \"I: X0023A-R1A\"\n",
    "current_R1B = \"I: X0023B-R1B\"\n",
    "current_R1C = \"I: X0023C-R1C\"\n",
    "current_R2A = \"I: X0004A-R2A\"\n",
    "current_R2B = \"I: X0004B-R2B\"\n",
    "current_R2C = \"I: X0004C-R2C\"\n",
    "current_R3A = \"I: X0071A-R3A\"\n",
    "current_R3B = \"I: X0071B-R3B\"\n",
    "current_R3C = \"I: X0071C-R3C\"\n",
    "\n",
    "voltage_R1A = \"V: R1A\"\n",
    "voltage_R1B = \"V: R1B\"\n",
    "voltage_R1C = \"V: R1C\"\n",
    "signal_names = [current_R3A, current_R3B, current_R3C]\n",
    "\n",
    "# model.load_state_dict(torch.load('models\\R3Currents_DB2.pth'))\n",
    "\n",
    "# Create Dataset\n",
    "dataset = Form1Dataset(\n",
    "    dataset_dir, max_window_idx=max_window_idx, signal_names=signal_names, dataset_size=100\n",
    ")\n",
    "# dataset = train_dataset\n",
    "\n",
    "\n",
    "\n"
   ]
  },
  {
   "attachments": {},
   "cell_type": "markdown",
   "metadata": {},
   "source": [
    "##### 7.4. Plot individual windows"
   ]
  },
  {
   "attachments": {},
   "cell_type": "markdown",
   "metadata": {},
   "source": [
    "##### 7.5. Whole Dataset Exploration"
   ]
  },
  {
   "cell_type": "code",
   "execution_count": 38,
   "metadata": {},
   "outputs": [
    {
     "name": "stderr",
     "output_type": "stream",
     "text": [
      "100%|██████████| 100/100 [12:00<00:00,  7.21s/it]\n"
     ]
    }
   ],
   "source": [
    "# Create Dataframe with information about data\n",
    "# print(dataset.len_events())\n",
    "conf_matrix = torch.zeros(0, 5, dtype=torch.int64).to(device)\n",
    "for idx in tqdm(range(dataset.len_events())):\n",
    "# for idx in tqdm(range()):\n",
    "    df, CM = signal_exploration(idx, dataset, model, plot_signal=False)\n",
    "    conf_matrix = torch.cat((conf_matrix, CM))\n",
    "    if idx == 0:\n",
    "        dataset_df = df\n",
    "    else:\n",
    "        dataset_df = pd.concat([dataset_df, df])\n",
    "\n",
    "dataset_df = dataset_df.reset_index()\n",
    "dataset_df = dataset_df.rename(columns={'index': 'window idx'})\n",
    "conf_matrix_total = np.sum(conf_matrix.cpu().numpy(), axis=0)\n",
    "\n",
    "\n",
    "# # # Load Dataframe\n",
    "# def load_df(i):\n",
    "#     dataset_df = pd.read_parquet(f\"parquet_data/ModelR{i}_R{i}_df.parquet\")\n",
    "#     conf_matrix_df = pd.read_parquet(f\"parquet_data/ModelR{i}_R{i}_CM_df.parquet\")\n",
    "#     conf_matrix = np.load(f\"parquet_data/ModelR{i}_R{i}_CM.npy\", allow_pickle=False)\n",
    "#     return dataset_df, conf_matrix_df, conf_matrix\n",
    "\n",
    "# dataset_df, conf_matrix_df, conf_matrix = load_df(3)\n",
    "\n",
    "\n",
    "# dataset_df = pd.read_parquet(f\"parquet_data\\R1_currents_DB2_df.parquet\")\n",
    "# conf_matrix_df = pd.read_parquet(f\"parquet_data\\R1_currents_DB2_CM_df.parquet\")\n",
    "# conf_matrix = np.load(f\"parquet_data\\R1_currents_DB2_CM.npy\", allow_pickle=False)\n",
    "# conf_matrix_total = np.sum(conf_matrix, axis=0)\n",
    "\n",
    "# conf_matrix_total = np.sum(conf_matrix, axis=0)\n",
    "metrics = conf_matrix_metrics(conf_matrix_total)\n"
   ]
  },
  {
   "cell_type": "code",
   "execution_count": 39,
   "metadata": {},
   "outputs": [
    {
     "name": "stdout",
     "output_type": "stream",
     "text": [
      "FALSE POSITVES\n",
      "      window idx  event_idx  Pred probability  Pred label  True label Result\n",
      "325            0          5            97.98%           1           0     FP\n",
      "326            1          5            97.95%           1           0     FP\n",
      "585            0          9            69.08%           1           0     FP\n",
      "586            1          9            74.14%           1           0     FP\n",
      "650            0         10            98.14%           1           0     FP\n",
      "651            1         10            98.15%           1           0     FP\n",
      "715            0         11            93.01%           1           0     FP\n",
      "716            1         11            92.79%           1           0     FP\n",
      "921           11         14            51.27%           1           0     FP\n",
      "922           12         14            53.88%           1           0     FP\n",
      "923           13         14            54.45%           1           0     FP\n",
      "924           14         14            54.13%           1           0     FP\n",
      "925           15         14            51.69%           1           0     FP\n",
      "947           37         14            52.07%           1           0     FP\n",
      "948           38         14            56.03%           1           0     FP\n",
      "949           39         14            60.65%           1           0     FP\n",
      "950           40         14            64.85%           1           0     FP\n",
      "951           41         14            68.59%           1           0     FP\n",
      "952           42         14            71.53%           1           0     FP\n",
      "953           43         14            74.80%           1           0     FP\n",
      "954           44         14            76.88%           1           0     FP\n",
      "955           45         14            78.03%           1           0     FP\n",
      "956           46         14            77.82%           1           0     FP\n",
      "957           47         14            76.55%           1           0     FP\n",
      "958           48         14            74.63%           1           0     FP\n",
      "959           49         14            71.11%           1           0     FP\n",
      "960           50         14            66.87%           1           0     FP\n",
      "961           51         14            62.24%           1           0     FP\n",
      "962           52         14            58.79%           1           0     FP\n",
      "963           53         14            55.45%           1           0     FP\n",
      "964           54         14            54.23%           1           0     FP\n",
      "965           55         14            53.12%           1           0     FP\n",
      "966           56         14            52.20%           1           0     FP\n",
      "967           57         14            50.35%           1           0     FP\n",
      "1170           0         18            96.30%           1           0     FP\n",
      "1171           1         18            96.29%           1           0     FP\n",
      "1235           0         19            98.45%           1           0     FP\n",
      "1236           1         19            98.49%           1           0     FP\n",
      "1690           0         26            60.05%           1           0     FP\n",
      "1691           1         26            61.20%           1           0     FP\n",
      "2405           0         37            96.24%           1           0     FP\n",
      "2406           1         37            96.34%           1           0     FP\n",
      "2665           0         41            97.53%           1           0     FP\n",
      "2666           1         41            97.23%           1           0     FP\n",
      "2860           0         44            68.66%           1           0     FP\n",
      "2861           1         44            67.03%           1           0     FP\n",
      "3250           0         50            97.93%           1           0     FP\n",
      "3251           1         50            97.95%           1           0     FP\n",
      "3705           0         57            67.97%           1           0     FP\n",
      "3706           1         57            69.67%           1           0     FP\n",
      "3770           0         58            92.61%           1           0     FP\n",
      "3771           1         58            92.13%           1           0     FP\n",
      "4486           1         69            50.60%           1           0     FP\n",
      "4487           2         69            52.01%           1           0     FP\n",
      "4488           3         69            52.69%           1           0     FP\n",
      "4489           4         69            52.16%           1           0     FP\n",
      "4490           5         69            50.06%           1           0     FP\n",
      "4940           0         76            86.47%           1           0     FP\n",
      "4941           1         76            86.88%           1           0     FP\n",
      "5005           0         77            94.36%           1           0     FP\n",
      "5006           1         77            94.57%           1           0     FP\n",
      "5525           0         85            95.91%           1           0     FP\n",
      "5526           1         85            95.23%           1           0     FP\n",
      "5785           0         89            96.87%           1           0     FP\n",
      "5786           1         89            96.51%           1           0     FP\n",
      "5915           0         91            93.60%           1           0     FP\n",
      "5916           1         91            93.80%           1           0     FP\n",
      "6336          31         97            54.38%           1           0     FP\n",
      "6337          32         97            56.14%           1           0     FP\n",
      "6338          33         97            56.14%           1           0     FP\n",
      "6339          34         97            54.46%           1           0     FP\n",
      "6340          35         97            52.55%           1           0     FP\n",
      "6341          36         97            50.42%           1           0     FP\n",
      "6369          64         97            50.00%           1           0     FP\n"
     ]
    },
    {
     "data": {
      "image/png": "[encoded data removed]",
      "text/plain": [
       "<Figure size 640x480 with 1 Axes>"
      ]
     },
     "metadata": {},
     "output_type": "display_data"
    },
    {
     "data": {
      "image/png": "[encoded data removed]",
      "text/plain": [
       "<Figure size 640x480 with 1 Axes>"
      ]
     },
     "metadata": {},
     "output_type": "display_data"
    },
    {
     "data": {
      "image/png": "[encoded data removed]",
      "text/plain": [
       "<Figure size 640x480 with 1 Axes>"
      ]
     },
     "metadata": {},
     "output_type": "display_data"
    },
    {
     "name": "stdout",
     "output_type": "stream",
     "text": [
      "FALSE NEGATIVES\n",
      "      window idx  event_idx  Pred probability  Pred label  True label Result\n",
      "67             2          1            38.77%           0           1     FN\n",
      "68             3          1            37.34%           0           1     FN\n",
      "69             4          1            38.83%           0           1     FN\n",
      "95            30          1            49.67%           0           1     FN\n",
      "132            2          2            33.00%           0           1     FN\n",
      "133            3          2            27.88%           0           1     FN\n",
      "134            4          2            27.77%           0           1     FN\n",
      "135            5          2            31.98%           0           1     FN\n",
      "136            6          2            28.56%           0           1     FN\n",
      "137            7          2            27.92%           0           1     FN\n",
      "138            8          2            28.86%           0           1     FN\n",
      "139            9          2            27.21%           0           1     FN\n",
      "140           10          2            27.71%           0           1     FN\n",
      "141           11          2            27.11%           0           1     FN\n",
      "142           12          2            27.92%           0           1     FN\n",
      "143           13          2            27.92%           0           1     FN\n",
      "144           14          2            28.80%           0           1     FN\n",
      "145           15          2            28.98%           0           1     FN\n",
      "146           16          2            30.19%           0           1     FN\n",
      "147           17          2            30.26%           0           1     FN\n",
      "148           18          2            30.00%           0           1     FN\n",
      "149           19          2            31.30%           0           1     FN\n",
      "150           20          2            33.19%           0           1     FN\n",
      "151           21          2            33.57%           0           1     FN\n",
      "152           22          2            34.97%           0           1     FN\n",
      "153           23          2            34.00%           0           1     FN\n",
      "154           24          2            34.13%           0           1     FN\n",
      "155           25          2            34.00%           0           1     FN\n",
      "156           26          2            32.32%           0           1     FN\n",
      "157           27          2            34.49%           0           1     FN\n",
      "158           28          2            36.52%           0           1     FN\n",
      "159           29          2            36.90%           0           1     FN\n",
      "160           30          2            39.44%           0           1     FN\n",
      "161           31          2            37.87%           0           1     FN\n",
      "162           32          2            35.58%           0           1     FN\n",
      "163           33          2            33.70%           0           1     FN\n",
      "164           34          2            29.88%           0           1     FN\n",
      "165           35          2            29.05%           0           1     FN\n",
      "166           36          2            25.78%           0           1     FN\n",
      "167           37          2            23.83%           0           1     FN\n",
      "168           38          2            21.65%           0           1     FN\n",
      "169           39          2            20.03%           0           1     FN\n",
      "170           40          2            20.98%           0           1     FN\n",
      "171           41          2            20.85%           0           1     FN\n",
      "172           42          2            19.80%           0           1     FN\n",
      "173           43          2            19.92%           0           1     FN\n",
      "174           44          2            18.01%           0           1     FN\n",
      "175           45          2            19.10%           0           1     FN\n",
      "176           46          2            19.39%           0           1     FN\n",
      "177           47          2            20.56%           0           1     FN\n",
      "178           48          2            20.58%           0           1     FN\n",
      "179           49          2            21.12%           0           1     FN\n",
      "180           50          2            20.68%           0           1     FN\n",
      "181           51          2            22.17%           0           1     FN\n",
      "182           52          2            23.66%           0           1     FN\n",
      "183           53          2            26.25%           0           1     FN\n",
      "184           54          2            26.29%           0           1     FN\n",
      "185           55          2            25.68%           0           1     FN\n",
      "186           56          2            26.25%           0           1     FN\n",
      "187           57          2            27.30%           0           1     FN\n",
      "188           58          2            26.94%           0           1     FN\n",
      "189           59          2            30.74%           0           1     FN\n",
      "190           60          2            27.77%           0           1     FN\n",
      "191           61          2            30.33%           0           1     FN\n",
      "192           62          2            30.81%           0           1     FN\n",
      "193           63          2            28.11%           0           1     FN\n",
      "194           64          2            28.26%           0           1     FN\n",
      "392            2          6            37.40%           0           1     FN\n",
      "393            3          6            36.63%           0           1     FN\n",
      "394            4          6            44.30%           0           1     FN\n",
      "395            5          6            40.60%           0           1     FN\n",
      "522            2          8            36.56%           0           1     FN\n",
      "523            3          8            34.19%           0           1     FN\n",
      "524            4          8            37.80%           0           1     FN\n",
      "525            5          8            35.38%           0           1     FN\n",
      "526            6          8            39.25%           0           1     FN\n",
      "527            7          8            42.14%           0           1     FN\n",
      "528            8          8            44.74%           0           1     FN\n",
      "530           10          8            49.90%           0           1     FN\n",
      "532           12          8            49.87%           0           1     FN\n",
      "533           13          8            48.33%           0           1     FN\n",
      "534           14          8            45.41%           0           1     FN\n",
      "535           15          8            41.48%           0           1     FN\n",
      "536           16          8            38.40%           0           1     FN\n",
      "537           17          8            38.56%           0           1     FN\n",
      "538           18          8            40.99%           0           1     FN\n",
      "539           19          8            42.91%           0           1     FN\n",
      "540           20          8            44.23%           0           1     FN\n",
      "541           21          8            46.08%           0           1     FN\n",
      "542           22          8            48.15%           0           1     FN\n",
      "573           53          8            49.47%           0           1     FN\n",
      "574           54          8            47.73%           0           1     FN\n",
      "575           55          8            48.25%           0           1     FN\n",
      "576           56          8            48.48%           0           1     FN\n",
      "577           57          8            49.79%           0           1     FN\n",
      "614           29          9            48.11%           0           1     FN\n",
      "615           30          9            44.65%           0           1     FN\n",
      "616           31          9            42.28%           0           1     FN\n",
      "617           32          9            41.64%           0           1     FN\n",
      "618           33          9            41.78%           0           1     FN\n",
      "619           34          9            42.50%           0           1     FN\n",
      "620           35          9            43.39%           0           1     FN\n",
      "621           36          9            44.20%           0           1     FN\n",
      "622           37          9            44.56%           0           1     FN\n",
      "623           38          9            44.73%           0           1     FN\n",
      "624           39          9            44.87%           0           1     FN\n",
      "625           40          9            45.53%           0           1     FN\n",
      "626           41          9            46.53%           0           1     FN\n",
      "627           42          9            48.16%           0           1     FN\n",
      "628           43          9            49.98%           0           1     FN\n",
      "638           53          9            48.49%           0           1     FN\n",
      "639           54          9            44.95%           0           1     FN\n",
      "640           55          9            42.32%           0           1     FN\n",
      "641           56          9            40.22%           0           1     FN\n",
      "642           57          9            38.40%           0           1     FN\n",
      "643           58          9            36.76%           0           1     FN\n",
      "644           59          9            35.35%           0           1     FN\n",
      "645           60          9            34.10%           0           1     FN\n",
      "646           61          9            33.37%           0           1     FN\n",
      "647           62          9            33.31%           0           1     FN\n",
      "648           63          9            33.95%           0           1     FN\n",
      "649           64          9            34.86%           0           1     FN\n",
      "782            2         12            20.80%           0           1     FN\n",
      "783            3         12            19.96%           0           1     FN\n",
      "784            4         12            21.01%           0           1     FN\n",
      "785            5         12            24.21%           0           1     FN\n",
      "786            6         12            23.03%           0           1     FN\n",
      "787            7         12            28.97%           0           1     FN\n",
      "788            8         12            40.28%           0           1     FN\n",
      "789            9         12            44.16%           0           1     FN\n",
      "1042           2         16            35.26%           0           1     FN\n",
      "1043           3         16            33.89%           0           1     FN\n",
      "1044           4         16            30.81%           0           1     FN\n",
      "1045           5         16            28.86%           0           1     FN\n",
      "1046           6         16            28.08%           0           1     FN\n",
      "1047           7         16            27.46%           0           1     FN\n",
      "1048           8         16            27.44%           0           1     FN\n",
      "1049           9         16            28.92%           0           1     FN\n",
      "1050          10         16            31.16%           0           1     FN\n",
      "1051          11         16            35.94%           0           1     FN\n",
      "1052          12         16            40.25%           0           1     FN\n",
      "1053          13         16            44.31%           0           1     FN\n",
      "1054          14         16            46.93%           0           1     FN\n",
      "1085          45         16            47.94%           0           1     FN\n",
      "1086          46         16            48.50%           0           1     FN\n",
      "1107           2         17            17.30%           0           1     FN\n",
      "1108           3         17            17.45%           0           1     FN\n",
      "1109           4         17            17.71%           0           1     FN\n",
      "1110           5         17            18.51%           0           1     FN\n",
      "1111           6         17            18.43%           0           1     FN\n",
      "1112           7         17            19.11%           0           1     FN\n",
      "1113           8         17            19.57%           0           1     FN\n",
      "1114           9         17            19.66%           0           1     FN\n",
      "1115          10         17            20.47%           0           1     FN\n",
      "1116          11         17            21.23%           0           1     FN\n",
      "1117          12         17            22.01%           0           1     FN\n",
      "1118          13         17            22.87%           0           1     FN\n",
      "1119          14         17            24.17%           0           1     FN\n",
      "1120          15         17            25.68%           0           1     FN\n",
      "1121          16         17            27.45%           0           1     FN\n",
      "1122          17         17            28.88%           0           1     FN\n",
      "1123          18         17            29.92%           0           1     FN\n",
      "1124          19         17            31.12%           0           1     FN\n",
      "1125          20         17            30.47%           0           1     FN\n",
      "1126          21         17            31.74%           0           1     FN\n",
      "1127          22         17            31.91%           0           1     FN\n",
      "1128          23         17            31.81%           0           1     FN\n",
      "1129          24         17            31.33%           0           1     FN\n",
      "1130          25         17            31.38%           0           1     FN\n",
      "1131          26         17            29.80%           0           1     FN\n",
      "1132          27         17            28.31%           0           1     FN\n",
      "1133          28         17            27.35%           0           1     FN\n",
      "1134          29         17            26.67%           0           1     FN\n",
      "1135          30         17            26.44%           0           1     FN\n",
      "1136          31         17            26.20%           0           1     FN\n",
      "1137          32         17            26.14%           0           1     FN\n",
      "1138          33         17            26.11%           0           1     FN\n",
      "1139          34         17            26.13%           0           1     FN\n",
      "1140          35         17            26.30%           0           1     FN\n",
      "1141          36         17            26.47%           0           1     FN\n",
      "1142          37         17            26.65%           0           1     FN\n",
      "1143          38         17            27.07%           0           1     FN\n",
      "1144          39         17            27.38%           0           1     FN\n",
      "1145          40         17            28.06%           0           1     FN\n",
      "1146          41         17            28.51%           0           1     FN\n",
      "1147          42         17            29.41%           0           1     FN\n",
      "1148          43         17            30.16%           0           1     FN\n",
      "1149          44         17            31.10%           0           1     FN\n",
      "1150          45         17            31.98%           0           1     FN\n",
      "1151          46         17            33.30%           0           1     FN\n",
      "1152          47         17            34.75%           0           1     FN\n",
      "1153          48         17            36.48%           0           1     FN\n",
      "1154          49         17            38.14%           0           1     FN\n",
      "1155          50         17            39.39%           0           1     FN\n",
      "1156          51         17            40.68%           0           1     FN\n",
      "1157          52         17            42.90%           0           1     FN\n",
      "1158          53         17            47.04%           0           1     FN\n",
      "1162          57         17            46.66%           0           1     FN\n",
      "1163          58         17            41.03%           0           1     FN\n",
      "1164          59         17            35.95%           0           1     FN\n",
      "1165          60         17            32.08%           0           1     FN\n",
      "1166          61         17            29.38%           0           1     FN\n",
      "1167          62         17            27.42%           0           1     FN\n",
      "1168          63         17            26.23%           0           1     FN\n",
      "1169          64         17            25.44%           0           1     FN\n",
      "1302           2         20            33.22%           0           1     FN\n",
      "1303           3         20            30.21%           0           1     FN\n",
      "1304           4         20            29.16%           0           1     FN\n",
      "1305           5         20            29.49%           0           1     FN\n",
      "1306           6         20            30.96%           0           1     FN\n",
      "1307           7         20            30.77%           0           1     FN\n",
      "1308           8         20            30.35%           0           1     FN\n",
      "1309           9         20            29.29%           0           1     FN\n",
      "1310          10         20            26.61%           0           1     FN\n",
      "1311          11         20            25.43%           0           1     FN\n",
      "1312          12         20            24.93%           0           1     FN\n",
      "1313          13         20            24.47%           0           1     FN\n",
      "1314          14         20            23.78%           0           1     FN\n",
      "1315          15         20            23.56%           0           1     FN\n",
      "1316          16         20            22.99%           0           1     FN\n",
      "1317          17         20            22.43%           0           1     FN\n",
      "1318          18         20            21.92%           0           1     FN\n",
      "1319          19         20            21.22%           0           1     FN\n",
      "1320          20         20            20.51%           0           1     FN\n",
      "1321          21         20            19.65%           0           1     FN\n",
      "1322          22         20            19.21%           0           1     FN\n",
      "1323          23         20            18.69%           0           1     FN\n",
      "1324          24         20            18.67%           0           1     FN\n",
      "1325          25         20            18.68%           0           1     FN\n",
      "1326          26         20            19.06%           0           1     FN\n",
      "1327          27         20            19.63%           0           1     FN\n",
      "1328          28         20            20.58%           0           1     FN\n",
      "1329          29         20            21.43%           0           1     FN\n",
      "1330          30         20            22.39%           0           1     FN\n",
      "1331          31         20            23.08%           0           1     FN\n",
      "1332          32         20            23.74%           0           1     FN\n",
      "1333          33         20            24.57%           0           1     FN\n",
      "1334          34         20            25.06%           0           1     FN\n",
      "1335          35         20            24.20%           0           1     FN\n",
      "1336          36         20            22.01%           0           1     FN\n",
      "1337          37         20            20.92%           0           1     FN\n",
      "1338          38         20            21.26%           0           1     FN\n",
      "1339          39         20            21.61%           0           1     FN\n",
      "1340          40         20            21.03%           0           1     FN\n",
      "1341          41         20            20.61%           0           1     FN\n",
      "1342          42         20            21.14%           0           1     FN\n",
      "1343          43         20            22.32%           0           1     FN\n",
      "1344          44         20            22.41%           0           1     FN\n",
      "1345          45         20            22.51%           0           1     FN\n",
      "1346          46         20            22.31%           0           1     FN\n",
      "1347          47         20            22.33%           0           1     FN\n",
      "1348          48         20            23.14%           0           1     FN\n",
      "1349          49         20            25.23%           0           1     FN\n",
      "1350          50         20            26.82%           0           1     FN\n",
      "1351          51         20            27.34%           0           1     FN\n",
      "1352          52         20            27.29%           0           1     FN\n",
      "1353          53         20            27.15%           0           1     FN\n",
      "1354          54         20            26.87%           0           1     FN\n",
      "1355          55         20            26.74%           0           1     FN\n",
      "1356          56         20            26.75%           0           1     FN\n",
      "1357          57         20            27.13%           0           1     FN\n",
      "1358          58         20            27.84%           0           1     FN\n",
      "1359          59         20            28.84%           0           1     FN\n",
      "1360          60         20            29.99%           0           1     FN\n",
      "1361          61         20            30.95%           0           1     FN\n",
      "1362          62         20            31.74%           0           1     FN\n",
      "1363          63         20            32.05%           0           1     FN\n",
      "1364          64         20            32.25%           0           1     FN\n",
      "1563           3         24            46.70%           0           1     FN\n",
      "1564           4         24            41.39%           0           1     FN\n",
      "1565           5         24            47.32%           0           1     FN\n",
      "1566           6         24            39.82%           0           1     FN\n",
      "1567           7         24            44.21%           0           1     FN\n",
      "1568           8         24            49.53%           0           1     FN\n",
      "1569           9         24            49.44%           0           1     FN\n",
      "1570          10         24            47.75%           0           1     FN\n",
      "1571          11         24            45.33%           0           1     FN\n",
      "1572          12         24            43.02%           0           1     FN\n",
      "1573          13         24            40.96%           0           1     FN\n",
      "1574          14         24            39.57%           0           1     FN\n",
      "1575          15         24            39.57%           0           1     FN\n",
      "1576          16         24            38.96%           0           1     FN\n",
      "1577          17         24            40.05%           0           1     FN\n",
      "1578          18         24            38.67%           0           1     FN\n",
      "1579          19         24            40.14%           0           1     FN\n",
      "1580          20         24            38.57%           0           1     FN\n",
      "1581          21         24            42.26%           0           1     FN\n",
      "1582          22         24            45.23%           0           1     FN\n",
      "1822           2         28            31.40%           0           1     FN\n",
      "1823           3         28            36.01%           0           1     FN\n",
      "1824           4         28            35.20%           0           1     FN\n",
      "1825           5         28            41.51%           0           1     FN\n",
      "1826           6         28            49.62%           0           1     FN\n",
      "1887           2         29            44.49%           0           1     FN\n",
      "1888           3         29            23.89%           0           1     FN\n",
      "1889           4         29            21.67%           0           1     FN\n",
      "1890           5         29            44.92%           0           1     FN\n",
      "1891           6         29            29.14%           0           1     FN\n",
      "1892           7         29            30.60%           0           1     FN\n",
      "1894           9         29            41.06%           0           1     FN\n",
      "1952           2         30            24.72%           0           1     FN\n",
      "1953           3         30            27.18%           0           1     FN\n",
      "1954           4         30            22.58%           0           1     FN\n",
      "1955           5         30            23.80%           0           1     FN\n",
      "1956           6         30            25.83%           0           1     FN\n",
      "1957           7         30            27.92%           0           1     FN\n",
      "1958           8         30            28.07%           0           1     FN\n",
      "1959           9         30            28.60%           0           1     FN\n",
      "1960          10         30            29.43%           0           1     FN\n",
      "1961          11         30            30.24%           0           1     FN\n",
      "1962          12         30            31.18%           0           1     FN\n",
      "1963          13         30            31.06%           0           1     FN\n",
      "1964          14         30            31.92%           0           1     FN\n",
      "1965          15         30            32.41%           0           1     FN\n",
      "1966          16         30            36.68%           0           1     FN\n",
      "1967          17         30            44.07%           0           1     FN\n",
      "1986          36         30            47.40%           0           1     FN\n",
      "1987          37         30            43.27%           0           1     FN\n",
      "1988          38         30            39.92%           0           1     FN\n",
      "1989          39         30            38.58%           0           1     FN\n",
      "1990          40         30            37.31%           0           1     FN\n",
      "1991          41         30            37.62%           0           1     FN\n",
      "1992          42         30            38.03%           0           1     FN\n",
      "1993          43         30            39.28%           0           1     FN\n",
      "1994          44         30            39.64%           0           1     FN\n",
      "1995          45         30            40.77%           0           1     FN\n",
      "1996          46         30            41.48%           0           1     FN\n",
      "1997          47         30            42.36%           0           1     FN\n",
      "1998          48         30            43.20%           0           1     FN\n",
      "1999          49         30            44.28%           0           1     FN\n",
      "2000          50         30            45.38%           0           1     FN\n",
      "2001          51         30            47.64%           0           1     FN\n",
      "2002          52         30            49.90%           0           1     FN\n",
      "2082           2         32            26.38%           0           1     FN\n",
      "2083           3         32            29.21%           0           1     FN\n",
      "2084           4         32            29.33%           0           1     FN\n",
      "2085           5         32            29.93%           0           1     FN\n",
      "2086           6         32            31.02%           0           1     FN\n",
      "2087           7         32            28.43%           0           1     FN\n",
      "2088           8         32            31.12%           0           1     FN\n",
      "2089           9         32            28.63%           0           1     FN\n",
      "2090          10         32            31.06%           0           1     FN\n",
      "2091          11         32            27.73%           0           1     FN\n",
      "2092          12         32            29.48%           0           1     FN\n",
      "2093          13         32            30.81%           0           1     FN\n",
      "2094          14         32            32.71%           0           1     FN\n",
      "2095          15         32            30.73%           0           1     FN\n",
      "2096          16         32            33.52%           0           1     FN\n",
      "2097          17         32            34.48%           0           1     FN\n",
      "2098          18         32            34.96%           0           1     FN\n",
      "2099          19         32            34.01%           0           1     FN\n",
      "2100          20         32            34.24%           0           1     FN\n",
      "2101          21         32            31.79%           0           1     FN\n",
      "2102          22         32            30.67%           0           1     FN\n",
      "2103          23         32            33.28%           0           1     FN\n",
      "2104          24         32            32.95%           0           1     FN\n",
      "2105          25         32            36.05%           0           1     FN\n",
      "2106          26         32            35.62%           0           1     FN\n",
      "2107          27         32            35.59%           0           1     FN\n",
      "2108          28         32            35.06%           0           1     FN\n",
      "2109          29         32            33.42%           0           1     FN\n",
      "2110          30         32            31.80%           0           1     FN\n",
      "2111          31         32            28.93%           0           1     FN\n",
      "2112          32         32            27.65%           0           1     FN\n",
      "2113          33         32            27.01%           0           1     FN\n",
      "2114          34         32            25.58%           0           1     FN\n",
      "2115          35         32            24.54%           0           1     FN\n",
      "2116          36         32            22.97%           0           1     FN\n",
      "2117          37         32            22.76%           0           1     FN\n",
      "2118          38         32            21.79%           0           1     FN\n",
      "2119          39         32            21.85%           0           1     FN\n",
      "2120          40         32            20.95%           0           1     FN\n",
      "2121          41         32            20.63%           0           1     FN\n",
      "2122          42         32            20.54%           0           1     FN\n",
      "2123          43         32            21.43%           0           1     FN\n",
      "2124          44         32            21.86%           0           1     FN\n",
      "2125          45         32            22.23%           0           1     FN\n",
      "2126          46         32            22.29%           0           1     FN\n",
      "2127          47         32            23.20%           0           1     FN\n",
      "2128          48         32            23.94%           0           1     FN\n",
      "2129          49         32            25.22%           0           1     FN\n",
      "2130          50         32            25.36%           0           1     FN\n",
      "2131          51         32            27.07%           0           1     FN\n",
      "2132          52         32            27.49%           0           1     FN\n",
      "2133          53         32            28.74%           0           1     FN\n",
      "2134          54         32            27.24%           0           1     FN\n",
      "2135          55         32            26.27%           0           1     FN\n",
      "2136          56         32            25.13%           0           1     FN\n",
      "2137          57         32            26.72%           0           1     FN\n",
      "2138          58         32            27.11%           0           1     FN\n",
      "2139          59         32            27.16%           0           1     FN\n",
      "2140          60         32            24.67%           0           1     FN\n",
      "2141          61         32            24.69%           0           1     FN\n",
      "2142          62         32            23.41%           0           1     FN\n",
      "2143          63         32            23.12%           0           1     FN\n",
      "2144          64         32            23.57%           0           1     FN\n",
      "2147           2         33            33.04%           0           1     FN\n",
      "2148           3         33            33.68%           0           1     FN\n",
      "2149           4         33            40.32%           0           1     FN\n",
      "2150           5         33            30.71%           0           1     FN\n",
      "2151           6         33            43.77%           0           1     FN\n",
      "2152           7         33            44.14%           0           1     FN\n",
      "2153           8         33            49.88%           0           1     FN\n",
      "2277           2         35            35.46%           0           1     FN\n",
      "2278           3         35            35.11%           0           1     FN\n",
      "2279           4         35            36.11%           0           1     FN\n",
      "2281           6         35            42.06%           0           1     FN\n",
      "2282           7         35            49.07%           0           1     FN\n",
      "2300          25         35            46.92%           0           1     FN\n",
      "2301          26         35            43.16%           0           1     FN\n",
      "2302          27         35            40.87%           0           1     FN\n",
      "2303          28         35            40.40%           0           1     FN\n",
      "2304          29         35            39.63%           0           1     FN\n",
      "2305          30         35            39.88%           0           1     FN\n",
      "2306          31         35            40.67%           0           1     FN\n",
      "2307          32         35            43.07%           0           1     FN\n",
      "2308          33         35            46.18%           0           1     FN\n",
      "2330          55         35            49.97%           0           1     FN\n",
      "2331          56         35            47.05%           0           1     FN\n",
      "2332          57         35            46.26%           0           1     FN\n",
      "2333          58         35            45.23%           0           1     FN\n",
      "2334          59         35            45.58%           0           1     FN\n",
      "2335          60         35            45.57%           0           1     FN\n",
      "2336          61         35            45.42%           0           1     FN\n",
      "2337          62         35            45.05%           0           1     FN\n",
      "2338          63         35            44.10%           0           1     FN\n",
      "2339          64         35            43.86%           0           1     FN\n",
      "2537           2         39            47.09%           0           1     FN\n",
      "2538           3         39            45.71%           0           1     FN\n",
      "2539           4         39            48.88%           0           1     FN\n",
      "2540           5         39            45.85%           0           1     FN\n",
      "2732           2         42            31.21%           0           1     FN\n",
      "2733           3         42            26.60%           0           1     FN\n",
      "2734           4         42            23.21%           0           1     FN\n",
      "2735           5         42            38.94%           0           1     FN\n",
      "2736           6         42            29.41%           0           1     FN\n",
      "2737           7         42            26.34%           0           1     FN\n",
      "2738           8         42            41.13%           0           1     FN\n",
      "2739           9         42            39.79%           0           1     FN\n",
      "2740          10         42            43.68%           0           1     FN\n",
      "2742          12         42            49.74%           0           1     FN\n",
      "2758          28         42            47.84%           0           1     FN\n",
      "2759          29         42            45.15%           0           1     FN\n",
      "2760          30         42            43.74%           0           1     FN\n",
      "2761          31         42            41.68%           0           1     FN\n",
      "2762          32         42            40.89%           0           1     FN\n",
      "2763          33         42            40.41%           0           1     FN\n",
      "2764          34         42            41.15%           0           1     FN\n",
      "2765          35         42            41.76%           0           1     FN\n",
      "2766          36         42            43.15%           0           1     FN\n",
      "2767          37         42            44.11%           0           1     FN\n",
      "2768          38         42            45.60%           0           1     FN\n",
      "2769          39         42            46.93%           0           1     FN\n",
      "2770          40         42            48.52%           0           1     FN\n",
      "2797           2         43            24.78%           0           1     FN\n",
      "2798           3         43            25.11%           0           1     FN\n",
      "2799           4         43            24.62%           0           1     FN\n",
      "2800           5         43            24.80%           0           1     FN\n",
      "2801           6         43            29.42%           0           1     FN\n",
      "2802           7         43            29.06%           0           1     FN\n",
      "2803           8         43            35.45%           0           1     FN\n",
      "2804           9         43            42.19%           0           1     FN\n",
      "2805          10         43            34.09%           0           1     FN\n",
      "2806          11         43            34.93%           0           1     FN\n",
      "2807          12         43            32.22%           0           1     FN\n",
      "2808          13         43            34.58%           0           1     FN\n",
      "2809          14         43            39.00%           0           1     FN\n",
      "2810          15         43            44.70%           0           1     FN\n",
      "2811          16         43            40.10%           0           1     FN\n",
      "2812          17         43            36.10%           0           1     FN\n",
      "2813          18         43            36.08%           0           1     FN\n",
      "2814          19         43            36.57%           0           1     FN\n",
      "2815          20         43            38.47%           0           1     FN\n",
      "2816          21         43            37.54%           0           1     FN\n",
      "2817          22         43            39.00%           0           1     FN\n",
      "2818          23         43            40.42%           0           1     FN\n",
      "2819          24         43            43.33%           0           1     FN\n",
      "2820          25         43            49.49%           0           1     FN\n",
      "2927           2         45            39.48%           0           1     FN\n",
      "2928           3         45            45.68%           0           1     FN\n",
      "2929           4         45            43.82%           0           1     FN\n",
      "2930           5         45            46.67%           0           1     FN\n",
      "2983          58         45            49.78%           0           1     FN\n",
      "2984          59         45            48.40%           0           1     FN\n",
      "2985          60         45            49.16%           0           1     FN\n",
      "2992           2         46            34.52%           0           1     FN\n",
      "2993           3         46            35.47%           0           1     FN\n",
      "2994           4         46            33.57%           0           1     FN\n",
      "2995           5         46            34.51%           0           1     FN\n",
      "2996           6         46            36.26%           0           1     FN\n",
      "2997           7         46            41.48%           0           1     FN\n",
      "2998           8         46            44.44%           0           1     FN\n",
      "2999           9         46            49.44%           0           1     FN\n",
      "3001          11         46            49.66%           0           1     FN\n",
      "3005          15         46            46.63%           0           1     FN\n",
      "3006          16         46            41.79%           0           1     FN\n",
      "3007          17         46            35.27%           0           1     FN\n",
      "3008          18         46            29.74%           0           1     FN\n",
      "3009          19         46            26.19%           0           1     FN\n",
      "3010          20         46            23.72%           0           1     FN\n",
      "3011          21         46            22.59%           0           1     FN\n",
      "3012          22         46            21.88%           0           1     FN\n",
      "3013          23         46            21.41%           0           1     FN\n",
      "3014          24         46            21.18%           0           1     FN\n",
      "3015          25         46            21.21%           0           1     FN\n",
      "3016          26         46            21.73%           0           1     FN\n",
      "3017          27         46            21.80%           0           1     FN\n",
      "3018          28         46            22.51%           0           1     FN\n",
      "3019          29         46            23.24%           0           1     FN\n",
      "3020          30         46            24.31%           0           1     FN\n",
      "3021          31         46            25.14%           0           1     FN\n",
      "3022          32         46            26.32%           0           1     FN\n",
      "3023          33         46            28.25%           0           1     FN\n",
      "3024          34         46            30.01%           0           1     FN\n",
      "3025          35         46            32.02%           0           1     FN\n",
      "3026          36         46            33.15%           0           1     FN\n",
      "3027          37         46            34.81%           0           1     FN\n",
      "3028          38         46            34.80%           0           1     FN\n",
      "3029          39         46            35.06%           0           1     FN\n",
      "3030          40         46            35.81%           0           1     FN\n",
      "3031          41         46            37.42%           0           1     FN\n",
      "3032          42         46            37.17%           0           1     FN\n",
      "3033          43         46            34.44%           0           1     FN\n",
      "3034          44         46            30.24%           0           1     FN\n",
      "3035          45         46            27.20%           0           1     FN\n",
      "3036          46         46            26.46%           0           1     FN\n",
      "3037          47         46            25.57%           0           1     FN\n",
      "3038          48         46            25.50%           0           1     FN\n",
      "3039          49         46            26.61%           0           1     FN\n",
      "3040          50         46            28.41%           0           1     FN\n",
      "3041          51         46            29.15%           0           1     FN\n",
      "3042          52         46            29.11%           0           1     FN\n",
      "3043          53         46            28.62%           0           1     FN\n",
      "3044          54         46            28.09%           0           1     FN\n",
      "3045          55         46            27.76%           0           1     FN\n",
      "3046          56         46            27.86%           0           1     FN\n",
      "3047          57         46            28.16%           0           1     FN\n",
      "3048          58         46            28.93%           0           1     FN\n",
      "3049          59         46            29.53%           0           1     FN\n",
      "3050          60         46            30.49%           0           1     FN\n",
      "3051          61         46            31.10%           0           1     FN\n",
      "3052          62         46            32.01%           0           1     FN\n",
      "3053          63         46            32.60%           0           1     FN\n",
      "3054          64         46            33.52%           0           1     FN\n",
      "3512           2         54            38.02%           0           1     FN\n",
      "3513           3         54            40.06%           0           1     FN\n",
      "3577           2         55            33.25%           0           1     FN\n",
      "3578           3         55            28.53%           0           1     FN\n",
      "3579           4         55            25.32%           0           1     FN\n",
      "3580           5         55            29.30%           0           1     FN\n",
      "3581           6         55            26.90%           0           1     FN\n",
      "3582           7         55            25.81%           0           1     FN\n",
      "3583           8         55            31.56%           0           1     FN\n",
      "3584           9         55            27.91%           0           1     FN\n",
      "3585          10         55            30.14%           0           1     FN\n",
      "3586          11         55            30.38%           0           1     FN\n",
      "3587          12         55            28.64%           0           1     FN\n",
      "3588          13         55            29.48%           0           1     FN\n",
      "3589          14         55            28.79%           0           1     FN\n",
      "3590          15         55            29.54%           0           1     FN\n",
      "3591          16         55            28.07%           0           1     FN\n",
      "3592          17         55            27.91%           0           1     FN\n",
      "3593          18         55            27.41%           0           1     FN\n",
      "3594          19         55            28.48%           0           1     FN\n",
      "3595          20         55            27.99%           0           1     FN\n",
      "3596          21         55            30.43%           0           1     FN\n",
      "3597          22         55            28.47%           0           1     FN\n",
      "3598          23         55            30.37%           0           1     FN\n",
      "3599          24         55            29.64%           0           1     FN\n",
      "3600          25         55            32.54%           0           1     FN\n",
      "3601          26         55            32.33%           0           1     FN\n",
      "3602          27         55            34.68%           0           1     FN\n",
      "3603          28         55            35.94%           0           1     FN\n",
      "3604          29         55            43.76%           0           1     FN\n",
      "3605          30         55            49.36%           0           1     FN\n",
      "3618          43         55            47.30%           0           1     FN\n",
      "3619          44         55            44.57%           0           1     FN\n",
      "3620          45         55            42.35%           0           1     FN\n",
      "3621          46         55            40.53%           0           1     FN\n",
      "3622          47         55            39.62%           0           1     FN\n",
      "3623          48         55            38.08%           0           1     FN\n",
      "3624          49         55            36.95%           0           1     FN\n",
      "3625          50         55            34.26%           0           1     FN\n",
      "3626          51         55            30.87%           0           1     FN\n",
      "3627          52         55            26.51%           0           1     FN\n",
      "3628          53         55            23.55%           0           1     FN\n",
      "3629          54         55            22.44%           0           1     FN\n",
      "3630          55         55            22.68%           0           1     FN\n",
      "3631          56         55            24.37%           0           1     FN\n",
      "3632          57         55            27.97%           0           1     FN\n",
      "3633          58         55            33.99%           0           1     FN\n",
      "3634          59         55            41.69%           0           1     FN\n",
      "3635          60         55            49.51%           0           1     FN\n",
      "3902           2         60            32.92%           0           1     FN\n",
      "3903           3         60            32.97%           0           1     FN\n",
      "3904           4         60            32.55%           0           1     FN\n",
      "3905           5         60            31.84%           0           1     FN\n",
      "3906           6         60            32.36%           0           1     FN\n",
      "3907           7         60            33.09%           0           1     FN\n",
      "3908           8         60            35.57%           0           1     FN\n",
      "3909           9         60            39.07%           0           1     FN\n",
      "3910          10         60            42.22%           0           1     FN\n",
      "3911          11         60            45.39%           0           1     FN\n",
      "3912          12         60            48.50%           0           1     FN\n",
      "3967           2         61            28.68%           0           1     FN\n",
      "3968           3         61            31.10%           0           1     FN\n",
      "3969           4         61            30.85%           0           1     FN\n",
      "3970           5         61            29.77%           0           1     FN\n",
      "3971           6         61            32.41%           0           1     FN\n",
      "3972           7         61            32.74%           0           1     FN\n",
      "3973           8         61            31.65%           0           1     FN\n",
      "3974           9         61            30.76%           0           1     FN\n",
      "3975          10         61            29.25%           0           1     FN\n",
      "3976          11         61            28.06%           0           1     FN\n",
      "3977          12         61            27.72%           0           1     FN\n",
      "3978          13         61            27.96%           0           1     FN\n",
      "3979          14         61            27.17%           0           1     FN\n",
      "3980          15         61            26.47%           0           1     FN\n",
      "3981          16         61            24.90%           0           1     FN\n",
      "3982          17         61            24.26%           0           1     FN\n",
      "3983          18         61            23.89%           0           1     FN\n",
      "3984          19         61            24.10%           0           1     FN\n",
      "3985          20         61            23.30%           0           1     FN\n",
      "3986          21         61            22.62%           0           1     FN\n",
      "3987          22         61            21.91%           0           1     FN\n",
      "3988          23         61            21.46%           0           1     FN\n",
      "3989          24         61            20.50%           0           1     FN\n",
      "3990          25         61            19.56%           0           1     FN\n",
      "3991          26         61            18.97%           0           1     FN\n",
      "3992          27         61            18.31%           0           1     FN\n",
      "3993          28         61            17.77%           0           1     FN\n",
      "3994          29         61            17.46%           0           1     FN\n",
      "3995          30         61            17.28%           0           1     FN\n",
      "3996          31         61            17.43%           0           1     FN\n",
      "3997          32         61            17.90%           0           1     FN\n",
      "3998          33         61            18.42%           0           1     FN\n",
      "3999          34         61            19.19%           0           1     FN\n",
      "4000          35         61            20.13%           0           1     FN\n",
      "4001          36         61            21.17%           0           1     FN\n",
      "4002          37         61            21.89%           0           1     FN\n",
      "4003          38         61            22.34%           0           1     FN\n",
      "4004          39         61            22.25%           0           1     FN\n",
      "4005          40         61            22.18%           0           1     FN\n",
      "4006          41         61            21.22%           0           1     FN\n",
      "4007          42         61            19.57%           0           1     FN\n",
      "4008          43         61            18.11%           0           1     FN\n",
      "4009          44         61            18.68%           0           1     FN\n",
      "4010          45         61            20.02%           0           1     FN\n",
      "4011          46         61            20.02%           0           1     FN\n",
      "4012          47         61            20.12%           0           1     FN\n",
      "4013          48         61            21.51%           0           1     FN\n",
      "4014          49         61            22.31%           0           1     FN\n",
      "4015          50         61            22.19%           0           1     FN\n",
      "4016          51         61            22.20%           0           1     FN\n",
      "4017          52         61            22.21%           0           1     FN\n",
      "4018          53         61            23.64%           0           1     FN\n",
      "4019          54         61            26.04%           0           1     FN\n",
      "4020          55         61            26.90%           0           1     FN\n",
      "4021          56         61            26.85%           0           1     FN\n",
      "4022          57         61            26.43%           0           1     FN\n",
      "4023          58         61            26.16%           0           1     FN\n",
      "4024          59         61            25.83%           0           1     FN\n",
      "4025          60         61            25.75%           0           1     FN\n",
      "4026          61         61            25.75%           0           1     FN\n",
      "4027          62         61            25.96%           0           1     FN\n",
      "4028          63         61            26.34%           0           1     FN\n",
      "4029          64         61            26.90%           0           1     FN\n",
      "4097           2         63            28.81%           0           1     FN\n",
      "4098           3         63            31.88%           0           1     FN\n",
      "4099           4         63            32.45%           0           1     FN\n",
      "4100           5         63            31.43%           0           1     FN\n",
      "4101           6         63            33.20%           0           1     FN\n",
      "4102           7         63            34.52%           0           1     FN\n",
      "4103           8         63            34.99%           0           1     FN\n",
      "4104           9         63            35.50%           0           1     FN\n",
      "4105          10         63            34.63%           0           1     FN\n",
      "4106          11         63            33.09%           0           1     FN\n",
      "4107          12         63            31.84%           0           1     FN\n",
      "4108          13         63            31.74%           0           1     FN\n",
      "4109          14         63            32.50%           0           1     FN\n",
      "4110          15         63            33.57%           0           1     FN\n",
      "4111          16         63            33.38%           0           1     FN\n",
      "4112          17         63            32.23%           0           1     FN\n",
      "4113          18         63            30.29%           0           1     FN\n",
      "4114          19         63            29.43%           0           1     FN\n",
      "4115          20         63            28.34%           0           1     FN\n",
      "4116          21         63            26.92%           0           1     FN\n",
      "4117          22         63            25.63%           0           1     FN\n",
      "4118          23         63            24.57%           0           1     FN\n",
      "4119          24         63            23.50%           0           1     FN\n",
      "4120          25         63            22.58%           0           1     FN\n",
      "4121          26         63            22.00%           0           1     FN\n",
      "4122          27         63            21.30%           0           1     FN\n",
      "4123          28         63            20.70%           0           1     FN\n",
      "4124          29         63            20.27%           0           1     FN\n",
      "4125          30         63            19.99%           0           1     FN\n",
      "4126          31         63            19.89%           0           1     FN\n",
      "4127          32         63            19.99%           0           1     FN\n",
      "4128          33         63            20.31%           0           1     FN\n",
      "4129          34         63            20.77%           0           1     FN\n",
      "4130          35         63            21.38%           0           1     FN\n",
      "4131          36         63            22.26%           0           1     FN\n",
      "4132          37         63            23.17%           0           1     FN\n",
      "4133          38         63            24.16%           0           1     FN\n",
      "4134          39         63            24.98%           0           1     FN\n",
      "4135          40         63            25.41%           0           1     FN\n",
      "4136          41         63            25.51%           0           1     FN\n",
      "4137          42         63            25.35%           0           1     FN\n",
      "4138          43         63            24.85%           0           1     FN\n",
      "4139          44         63            24.30%           0           1     FN\n",
      "4140          45         63            24.93%           0           1     FN\n",
      "4141          46         63            25.84%           0           1     FN\n",
      "4142          47         63            26.53%           0           1     FN\n",
      "4143          48         63            25.65%           0           1     FN\n",
      "4144          49         63            24.88%           0           1     FN\n",
      "4145          50         63            25.17%           0           1     FN\n",
      "4146          51         63            25.41%           0           1     FN\n",
      "4147          52         63            25.10%           0           1     FN\n",
      "4148          53         63            24.92%           0           1     FN\n",
      "4149          54         63            25.50%           0           1     FN\n",
      "4150          55         63            27.00%           0           1     FN\n",
      "4151          56         63            28.47%           0           1     FN\n",
      "4152          57         63            29.04%           0           1     FN\n",
      "4153          58         63            29.10%           0           1     FN\n",
      "4154          59         63            28.80%           0           1     FN\n",
      "4155          60         63            28.44%           0           1     FN\n",
      "4156          61         63            28.07%           0           1     FN\n",
      "4157          62         63            27.84%           0           1     FN\n",
      "4158          63         63            27.91%           0           1     FN\n",
      "4159          64         63            28.13%           0           1     FN\n",
      "4162           2         64            41.86%           0           1     FN\n",
      "4163           3         64            25.61%           0           1     FN\n",
      "4164           4         64            22.46%           0           1     FN\n",
      "4165           5         64            48.15%           0           1     FN\n",
      "4166           6         64            31.64%           0           1     FN\n",
      "4167           7         64            34.09%           0           1     FN\n",
      "4227           2         65            42.63%           0           1     FN\n",
      "4228           3         65            40.37%           0           1     FN\n",
      "4229           4         65            48.69%           0           1     FN\n",
      "4230           5         65            48.92%           0           1     FN\n",
      "4289          64         65            49.77%           0           1     FN\n",
      "4292           2         66            32.30%           0           1     FN\n",
      "4293           3         66            36.83%           0           1     FN\n",
      "4294           4         66            40.03%           0           1     FN\n",
      "4295           5         66            37.20%           0           1     FN\n",
      "4296           6         66            35.55%           0           1     FN\n",
      "4297           7         66            34.80%           0           1     FN\n",
      "4298           8         66            35.13%           0           1     FN\n",
      "4299           9         66            36.34%           0           1     FN\n",
      "4300          10         66            38.87%           0           1     FN\n",
      "4301          11         66            44.35%           0           1     FN\n",
      "4302          12         66            46.53%           0           1     FN\n",
      "4357           2         67            44.27%           0           1     FN\n",
      "4358           3         67            47.63%           0           1     FN\n",
      "4360           5         67            49.76%           0           1     FN\n",
      "4422           2         68            38.94%           0           1     FN\n",
      "4423           3         68            36.91%           0           1     FN\n",
      "4424           4         68            41.53%           0           1     FN\n",
      "4425           5         68            37.77%           0           1     FN\n",
      "4426           6         68            42.65%           0           1     FN\n",
      "4427           7         68            44.07%           0           1     FN\n",
      "4428           8         68            47.36%           0           1     FN\n",
      "4552           2         70            21.11%           0           1     FN\n",
      "4553           3         70            20.55%           0           1     FN\n",
      "4554           4         70            20.99%           0           1     FN\n",
      "4555           5         70            21.26%           0           1     FN\n",
      "4556           6         70            23.59%           0           1     FN\n",
      "4557           7         70            25.30%           0           1     FN\n",
      "4558           8         70            32.69%           0           1     FN\n",
      "4559           9         70            44.39%           0           1     FN\n",
      "4580          30         70            48.48%           0           1     FN\n",
      "4581          31         70            46.54%           0           1     FN\n",
      "4582          32         70            45.81%           0           1     FN\n",
      "4583          33         70            45.06%           0           1     FN\n",
      "4584          34         70            44.11%           0           1     FN\n",
      "4585          35         70            43.37%           0           1     FN\n",
      "4586          36         70            41.65%           0           1     FN\n",
      "4587          37         70            41.45%           0           1     FN\n",
      "4588          38         70            40.16%           0           1     FN\n",
      "4589          39         70            40.97%           0           1     FN\n",
      "4590          40         70            40.98%           0           1     FN\n",
      "4591          41         70            44.44%           0           1     FN\n",
      "4617           2         71            37.66%           0           1     FN\n",
      "4618           3         71            39.12%           0           1     FN\n",
      "4619           4         71            41.41%           0           1     FN\n",
      "4620           5         71            44.11%           0           1     FN\n",
      "4621           6         71            46.26%           0           1     FN\n",
      "4622           7         71            47.45%           0           1     FN\n",
      "4623           8         71            48.33%           0           1     FN\n",
      "4627          12         71            49.45%           0           1     FN\n",
      "4628          13         71            46.70%           0           1     FN\n",
      "4629          14         71            43.81%           0           1     FN\n",
      "4630          15         71            40.92%           0           1     FN\n",
      "4631          16         71            38.37%           0           1     FN\n",
      "4632          17         71            37.28%           0           1     FN\n",
      "4633          18         71            36.07%           0           1     FN\n",
      "4634          19         71            36.00%           0           1     FN\n",
      "4635          20         71            35.35%           0           1     FN\n",
      "4636          21         71            35.95%           0           1     FN\n",
      "4637          22         71            35.93%           0           1     FN\n",
      "4638          23         71            36.07%           0           1     FN\n",
      "4639          24         71            36.00%           0           1     FN\n",
      "4640          25         71            36.33%           0           1     FN\n",
      "4641          26         71            36.73%           0           1     FN\n",
      "4642          27         71            36.99%           0           1     FN\n",
      "4643          28         71            37.33%           0           1     FN\n",
      "4644          29         71            37.93%           0           1     FN\n",
      "4645          30         71            38.89%           0           1     FN\n",
      "4646          31         71            40.58%           0           1     FN\n",
      "4647          32         71            42.80%           0           1     FN\n",
      "4648          33         71            46.24%           0           1     FN\n",
      "4649          34         71            49.57%           0           1     FN\n",
      "4661          46         71            48.51%           0           1     FN\n",
      "4662          47         71            45.46%           0           1     FN\n",
      "4663          48         71            42.97%           0           1     FN\n",
      "4664          49         71            41.24%           0           1     FN\n",
      "4665          50         71            40.46%           0           1     FN\n",
      "4666          51         71            40.56%           0           1     FN\n",
      "4667          52         71            41.67%           0           1     FN\n",
      "4668          53         71            43.33%           0           1     FN\n",
      "4669          54         71            44.71%           0           1     FN\n",
      "4670          55         71            44.53%           0           1     FN\n",
      "4671          56         71            43.28%           0           1     FN\n",
      "4672          57         71            41.92%           0           1     FN\n",
      "4673          58         71            41.76%           0           1     FN\n",
      "4674          59         71            41.94%           0           1     FN\n",
      "4675          60         71            42.74%           0           1     FN\n",
      "4676          61         71            43.32%           0           1     FN\n",
      "4677          62         71            43.63%           0           1     FN\n",
      "4678          63         71            43.23%           0           1     FN\n",
      "4679          64         71            42.35%           0           1     FN\n",
      "4682           2         72            27.63%           0           1     FN\n",
      "4683           3         72            25.16%           0           1     FN\n",
      "4684           4         72            27.89%           0           1     FN\n",
      "4685           5         72            24.39%           0           1     FN\n",
      "4686           6         72            26.33%           0           1     FN\n",
      "4687           7         72            26.50%           0           1     FN\n",
      "4688           8         72            25.85%           0           1     FN\n",
      "4689           9         72            26.78%           0           1     FN\n",
      "4690          10         72            24.82%           0           1     FN\n",
      "4691          11         72            25.87%           0           1     FN\n",
      "4692          12         72            25.22%           0           1     FN\n",
      "4693          13         72            26.67%           0           1     FN\n",
      "4694          14         72            28.56%           0           1     FN\n",
      "4695          15         72            29.14%           0           1     FN\n",
      "4696          16         72            30.37%           0           1     FN\n",
      "4697          17         72            29.89%           0           1     FN\n",
      "4698          18         72            30.79%           0           1     FN\n",
      "4699          19         72            30.87%           0           1     FN\n",
      "4700          20         72            31.08%           0           1     FN\n",
      "4701          21         72            31.08%           0           1     FN\n",
      "4702          22         72            31.11%           0           1     FN\n",
      "4703          23         72            31.07%           0           1     FN\n",
      "4704          24         72            30.97%           0           1     FN\n",
      "4705          25         72            31.53%           0           1     FN\n",
      "4706          26         72            32.26%           0           1     FN\n",
      "4707          27         72            32.88%           0           1     FN\n",
      "4708          28         72            33.64%           0           1     FN\n",
      "4709          29         72            35.80%           0           1     FN\n",
      "4710          30         72            35.97%           0           1     FN\n",
      "4711          31         72            37.11%           0           1     FN\n",
      "4712          32         72            37.28%           0           1     FN\n",
      "4713          33         72            35.45%           0           1     FN\n",
      "4714          34         72            34.88%           0           1     FN\n",
      "4715          35         72            34.29%           0           1     FN\n",
      "4716          36         72            36.71%           0           1     FN\n",
      "4717          37         72            36.85%           0           1     FN\n",
      "4718          38         72            38.07%           0           1     FN\n",
      "4719          39         72            37.81%           0           1     FN\n",
      "4720          40         72            37.42%           0           1     FN\n",
      "4721          41         72            37.28%           0           1     FN\n",
      "4722          42         72            35.95%           0           1     FN\n",
      "4723          43         72            34.31%           0           1     FN\n",
      "4724          44         72            31.03%           0           1     FN\n",
      "4725          45         72            28.94%           0           1     FN\n",
      "4726          46         72            26.76%           0           1     FN\n",
      "4727          47         72            26.23%           0           1     FN\n",
      "4728          48         72            24.85%           0           1     FN\n",
      "4729          49         72            24.37%           0           1     FN\n",
      "4730          50         72            23.42%           0           1     FN\n",
      "4731          51         72            23.05%           0           1     FN\n",
      "4732          52         72            22.82%           0           1     FN\n",
      "4733          53         72            22.46%           0           1     FN\n",
      "4734          54         72            22.37%           0           1     FN\n",
      "4735          55         72            22.26%           0           1     FN\n",
      "4736          56         72            22.63%           0           1     FN\n",
      "4737          57         72            23.00%           0           1     FN\n",
      "4738          58         72            23.93%           0           1     FN\n",
      "4739          59         72            24.88%           0           1     FN\n",
      "4740          60         72            26.72%           0           1     FN\n",
      "4741          61         72            28.76%           0           1     FN\n",
      "4742          62         72            30.96%           0           1     FN\n",
      "4743          63         72            31.82%           0           1     FN\n",
      "4744          64         72            32.06%           0           1     FN\n",
      "4747           2         73            29.52%           0           1     FN\n",
      "4748           3         73            30.85%           0           1     FN\n",
      "4749           4         73            31.19%           0           1     FN\n",
      "4750           5         73            32.16%           0           1     FN\n",
      "4751           6         73            32.44%           0           1     FN\n",
      "4752           7         73            32.68%           0           1     FN\n",
      "4753           8         73            35.14%           0           1     FN\n",
      "4754           9         73            33.43%           0           1     FN\n",
      "4755          10         73            33.22%           0           1     FN\n",
      "4756          11         73            34.18%           0           1     FN\n",
      "4757          12         73            34.33%           0           1     FN\n",
      "4758          13         73            37.20%           0           1     FN\n",
      "4759          14         73            36.61%           0           1     FN\n",
      "4760          15         73            38.51%           0           1     FN\n",
      "4761          16         73            37.87%           0           1     FN\n",
      "4762          17         73            39.41%           0           1     FN\n",
      "4763          18         73            41.43%           0           1     FN\n",
      "4764          19         73            43.17%           0           1     FN\n",
      "4765          20         73            43.53%           0           1     FN\n",
      "4766          21         73            44.40%           0           1     FN\n",
      "4767          22         73            44.15%           0           1     FN\n",
      "4768          23         73            47.94%           0           1     FN\n",
      "4769          24         73            48.65%           0           1     FN\n",
      "4773          28         73            48.81%           0           1     FN\n",
      "4778          33         73            48.11%           0           1     FN\n",
      "4779          34         73            43.12%           0           1     FN\n",
      "4780          35         73            36.44%           0           1     FN\n",
      "4781          36         73            34.29%           0           1     FN\n",
      "4782          37         73            32.49%           0           1     FN\n",
      "4783          38         73            31.23%           0           1     FN\n",
      "4784          39         73            30.81%           0           1     FN\n",
      "4785          40         73            27.93%           0           1     FN\n",
      "4786          41         73            27.03%           0           1     FN\n",
      "4787          42         73            26.36%           0           1     FN\n",
      "4788          43         73            27.03%           0           1     FN\n",
      "4789          44         73            29.84%           0           1     FN\n",
      "4790          45         73            29.85%           0           1     FN\n",
      "4791          46         73            32.28%           0           1     FN\n",
      "4792          47         73            30.35%           0           1     FN\n",
      "4793          48         73            31.94%           0           1     FN\n",
      "4794          49         73            35.97%           0           1     FN\n",
      "4795          50         73            41.64%           0           1     FN\n",
      "4796          51         73            47.91%           0           1     FN\n",
      "4812           2         74            42.58%           0           1     FN\n",
      "4813           3         74            49.71%           0           1     FN\n",
      "4814           4         74            34.87%           0           1     FN\n",
      "4815           5         74            35.87%           0           1     FN\n",
      "4816           6         74            34.88%           0           1     FN\n",
      "4817           7         74            38.00%           0           1     FN\n",
      "4818           8         74            39.20%           0           1     FN\n",
      "4819           9         74            32.57%           0           1     FN\n",
      "4820          10         74            33.78%           0           1     FN\n",
      "4821          11         74            31.28%           0           1     FN\n",
      "4822          12         74            32.27%           0           1     FN\n",
      "4823          13         74            32.53%           0           1     FN\n",
      "4824          14         74            33.71%           0           1     FN\n",
      "4825          15         74            33.33%           0           1     FN\n",
      "4826          16         74            34.50%           0           1     FN\n",
      "4827          17         74            35.93%           0           1     FN\n",
      "4828          18         74            36.95%           0           1     FN\n",
      "4829          19         74            37.70%           0           1     FN\n",
      "4830          20         74            38.20%           0           1     FN\n",
      "4831          21         74            37.67%           0           1     FN\n",
      "4832          22         74            37.89%           0           1     FN\n",
      "4833          23         74            38.73%           0           1     FN\n",
      "4834          24         74            39.63%           0           1     FN\n",
      "4835          25         74            42.25%           0           1     FN\n",
      "4836          26         74            44.58%           0           1     FN\n",
      "4837          27         74            46.76%           0           1     FN\n",
      "4838          28         74            48.34%           0           1     FN\n",
      "4845          35         74            47.89%           0           1     FN\n",
      "4846          36         74            45.59%           0           1     FN\n",
      "4847          37         74            44.70%           0           1     FN\n",
      "4848          38         74            42.73%           0           1     FN\n",
      "4849          39         74            40.27%           0           1     FN\n",
      "4850          40         74            37.52%           0           1     FN\n",
      "4851          41         74            35.33%           0           1     FN\n",
      "4852          42         74            33.46%           0           1     FN\n",
      "4853          43         74            32.03%           0           1     FN\n",
      "4854          44         74            30.83%           0           1     FN\n",
      "4855          45         74            30.30%           0           1     FN\n",
      "4856          46         74            30.67%           0           1     FN\n",
      "4857          47         74            31.40%           0           1     FN\n",
      "4858          48         74            32.22%           0           1     FN\n",
      "4859          49         74            32.87%           0           1     FN\n",
      "4860          50         74            33.19%           0           1     FN\n",
      "4861          51         74            33.29%           0           1     FN\n",
      "4862          52         74            33.32%           0           1     FN\n",
      "4863          53         74            33.62%           0           1     FN\n",
      "4864          54         74            34.27%           0           1     FN\n",
      "4865          55         74            36.30%           0           1     FN\n",
      "4866          56         74            39.06%           0           1     FN\n",
      "4867          57         74            42.90%           0           1     FN\n",
      "4868          58         74            45.64%           0           1     FN\n",
      "4869          59         74            47.70%           0           1     FN\n",
      "4870          60         74            47.48%           0           1     FN\n",
      "4871          61         74            46.23%           0           1     FN\n",
      "4872          62         74            45.31%           0           1     FN\n",
      "4873          63         74            44.81%           0           1     FN\n",
      "4874          64         74            43.77%           0           1     FN\n",
      "4963          23         76            49.42%           0           1     FN\n",
      "4964          24         76            46.87%           0           1     FN\n",
      "4965          25         76            48.88%           0           1     FN\n",
      "5202           2         80            23.71%           0           1     FN\n",
      "5203           3         80            21.18%           0           1     FN\n",
      "5204           4         80            19.65%           0           1     FN\n",
      "5205           5         80            17.55%           0           1     FN\n",
      "5206           6         80            19.49%           0           1     FN\n",
      "5207           7         80            19.94%           0           1     FN\n",
      "5208           8         80            19.42%           0           1     FN\n",
      "5209           9         80            22.34%           0           1     FN\n",
      "5210          10         80            21.32%           0           1     FN\n",
      "5211          11         80            22.31%           0           1     FN\n",
      "5212          12         80            22.53%           0           1     FN\n",
      "5213          13         80            23.20%           0           1     FN\n",
      "5214          14         80            25.39%           0           1     FN\n",
      "5215          15         80            26.43%           0           1     FN\n",
      "5216          16         80            26.79%           0           1     FN\n",
      "5217          17         80            26.77%           0           1     FN\n",
      "5218          18         80            26.64%           0           1     FN\n",
      "5219          19         80            26.80%           0           1     FN\n",
      "5220          20         80            26.12%           0           1     FN\n",
      "5221          21         80            26.21%           0           1     FN\n",
      "5222          22         80            25.53%           0           1     FN\n",
      "5223          23         80            26.16%           0           1     FN\n",
      "5224          24         80            26.42%           0           1     FN\n",
      "5225          25         80            27.89%           0           1     FN\n",
      "5226          26         80            28.23%           0           1     FN\n",
      "5227          27         80            27.99%           0           1     FN\n",
      "5228          28         80            28.92%           0           1     FN\n",
      "5229          29         80            29.19%           0           1     FN\n",
      "5230          30         80            30.32%           0           1     FN\n",
      "5231          31         80            30.98%           0           1     FN\n",
      "5232          32         80            31.90%           0           1     FN\n",
      "5233          33         80            34.42%           0           1     FN\n",
      "5234          34         80            36.57%           0           1     FN\n",
      "5235          35         80            35.47%           0           1     FN\n",
      "5236          36         80            33.25%           0           1     FN\n",
      "5237          37         80            33.74%           0           1     FN\n",
      "5238          38         80            34.21%           0           1     FN\n",
      "5239          39         80            35.86%           0           1     FN\n",
      "5240          40         80            34.45%           0           1     FN\n",
      "5241          41         80            33.34%           0           1     FN\n",
      "5242          42         80            31.16%           0           1     FN\n",
      "5243          43         80            30.38%           0           1     FN\n",
      "5244          44         80            29.54%           0           1     FN\n",
      "5245          45         80            29.04%           0           1     FN\n",
      "5246          46         80            27.16%           0           1     FN\n",
      "5247          47         80            25.53%           0           1     FN\n",
      "5248          48         80            23.22%           0           1     FN\n",
      "5249          49         80            21.74%           0           1     FN\n",
      "5250          50         80            20.25%           0           1     FN\n",
      "5251          51         80            19.37%           0           1     FN\n",
      "5252          52         80            18.69%           0           1     FN\n",
      "5253          53         80            18.13%           0           1     FN\n",
      "5254          54         80            17.83%           0           1     FN\n",
      "5255          55         80            17.49%           0           1     FN\n",
      "5256          56         80            17.43%           0           1     FN\n",
      "5257          57         80            17.51%           0           1     FN\n",
      "5258          58         80            17.86%           0           1     FN\n",
      "5259          59         80            18.32%           0           1     FN\n",
      "5260          60         80            19.25%           0           1     FN\n",
      "5261          61         80            20.62%           0           1     FN\n",
      "5262          62         80            23.38%           0           1     FN\n",
      "5263          63         80            26.80%           0           1     FN\n",
      "5264          64         80            29.29%           0           1     FN\n",
      "5267           2         81            25.77%           0           1     FN\n",
      "5268           3         81            22.03%           0           1     FN\n",
      "5269           4         81            21.45%           0           1     FN\n",
      "5270           5         81            18.09%           0           1     FN\n",
      "5271           6         81            20.76%           0           1     FN\n",
      "5272           7         81            21.62%           0           1     FN\n",
      "5273           8         81            20.71%           0           1     FN\n",
      "5274           9         81            22.56%           0           1     FN\n",
      "5275          10         81            22.13%           0           1     FN\n",
      "5276          11         81            23.06%           0           1     FN\n",
      "5277          12         81            22.40%           0           1     FN\n",
      "5278          13         81            22.14%           0           1     FN\n",
      "5279          14         81            22.68%           0           1     FN\n",
      "5280          15         81            24.01%           0           1     FN\n",
      "5281          16         81            26.33%           0           1     FN\n",
      "5282          17         81            27.13%           0           1     FN\n",
      "5283          18         81            27.78%           0           1     FN\n",
      "5284          19         81            27.65%           0           1     FN\n",
      "5285          20         81            27.44%           0           1     FN\n",
      "5286          21         81            26.79%           0           1     FN\n",
      "5287          22         81            26.78%           0           1     FN\n",
      "5288          23         81            26.64%           0           1     FN\n",
      "5289          24         81            26.84%           0           1     FN\n",
      "5290          25         81            27.21%           0           1     FN\n",
      "5291          26         81            28.13%           0           1     FN\n",
      "5292          27         81            28.68%           0           1     FN\n",
      "5293          28         81            30.20%           0           1     FN\n",
      "5294          29         81            32.00%           0           1     FN\n",
      "5295          30         81            31.72%           0           1     FN\n",
      "5296          31         81            32.05%           0           1     FN\n",
      "5297          32         81            32.20%           0           1     FN\n",
      "5298          33         81            31.66%           0           1     FN\n",
      "5299          34         81            31.44%           0           1     FN\n",
      "5300          35         81            30.04%           0           1     FN\n",
      "5301          36         81            29.55%           0           1     FN\n",
      "5302          37         81            29.69%           0           1     FN\n",
      "5303          38         81            31.01%           0           1     FN\n",
      "5304          39         81            31.76%           0           1     FN\n",
      "5305          40         81            30.71%           0           1     FN\n",
      "5306          41         81            29.25%           0           1     FN\n",
      "5307          42         81            27.20%           0           1     FN\n",
      "5308          43         81            26.09%           0           1     FN\n",
      "5309          44         81            25.33%           0           1     FN\n",
      "5310          45         81            25.05%           0           1     FN\n",
      "5311          46         81            24.26%           0           1     FN\n",
      "5312          47         81            24.22%           0           1     FN\n",
      "5313          48         81            23.27%           0           1     FN\n",
      "5314          49         81            22.83%           0           1     FN\n",
      "5315          50         81            21.88%           0           1     FN\n",
      "5316          51         81            21.23%           0           1     FN\n",
      "5317          52         81            20.78%           0           1     FN\n",
      "5318          53         81            20.00%           0           1     FN\n",
      "5319          54         81            19.63%           0           1     FN\n",
      "5320          55         81            19.11%           0           1     FN\n",
      "5321          56         81            18.96%           0           1     FN\n",
      "5322          57         81            18.97%           0           1     FN\n",
      "5323          58         81            19.44%           0           1     FN\n",
      "5324          59         81            19.91%           0           1     FN\n",
      "5325          60         81            20.92%           0           1     FN\n",
      "5326          61         81            21.76%           0           1     FN\n",
      "5327          62         81            22.94%           0           1     FN\n",
      "5328          63         81            23.76%           0           1     FN\n",
      "5329          64         81            24.63%           0           1     FN\n",
      "5332           2         82            28.94%           0           1     FN\n",
      "5333           3         82            29.50%           0           1     FN\n",
      "5334           4         82            31.40%           0           1     FN\n",
      "5335           5         82            31.05%           0           1     FN\n",
      "5336           6         82            38.31%           0           1     FN\n",
      "5337           7         82            40.99%           0           1     FN\n",
      "5338           8         82            42.44%           0           1     FN\n",
      "5339           9         82            45.37%           0           1     FN\n",
      "5852           2         90            35.05%           0           1     FN\n",
      "5853           3         90            30.34%           0           1     FN\n",
      "5854           4         90            32.15%           0           1     FN\n",
      "5855           5         90            36.26%           0           1     FN\n",
      "5856           6         90            31.20%           0           1     FN\n",
      "5857           7         90            37.20%           0           1     FN\n",
      "5858           8         90            39.07%           0           1     FN\n",
      "5859           9         90            38.51%           0           1     FN\n",
      "5860          10         90            40.72%           0           1     FN\n",
      "5861          11         90            38.93%           0           1     FN\n",
      "5862          12         90            40.37%           0           1     FN\n",
      "5863          13         90            38.92%           0           1     FN\n",
      "5864          14         90            41.24%           0           1     FN\n",
      "5865          15         90            41.23%           0           1     FN\n",
      "5866          16         90            46.34%           0           1     FN\n",
      "5867          17         90            46.28%           0           1     FN\n",
      "5869          19         90            49.53%           0           1     FN\n",
      "5871          21         90            48.16%           0           1     FN\n",
      "5872          22         90            47.45%           0           1     FN\n",
      "5873          23         90            44.68%           0           1     FN\n",
      "5874          24         90            41.17%           0           1     FN\n",
      "5875          25         90            38.71%           0           1     FN\n",
      "5876          26         90            37.76%           0           1     FN\n",
      "5877          27         90            37.49%           0           1     FN\n",
      "5878          28         90            38.13%           0           1     FN\n",
      "5879          29         90            38.78%           0           1     FN\n",
      "5880          30         90            40.99%           0           1     FN\n",
      "5881          31         90            41.40%           0           1     FN\n",
      "5882          32         90            44.05%           0           1     FN\n",
      "5883          33         90            43.19%           0           1     FN\n",
      "5884          34         90            45.73%           0           1     FN\n",
      "5885          35         90            44.99%           0           1     FN\n",
      "5886          36         90            46.71%           0           1     FN\n",
      "5887          37         90            48.87%           0           1     FN\n",
      "5908          58         90            43.60%           0           1     FN\n",
      "5909          59         90            38.96%           0           1     FN\n",
      "5910          60         90            34.82%           0           1     FN\n",
      "5911          61         90            35.29%           0           1     FN\n",
      "5912          62         90            34.06%           0           1     FN\n",
      "5913          63         90            34.56%           0           1     FN\n",
      "5914          64         90            34.29%           0           1     FN\n",
      "5982           2         92            31.13%           0           1     FN\n",
      "5983           3         92            30.49%           0           1     FN\n",
      "5984           4         92            32.70%           0           1     FN\n",
      "5985           5         92            31.96%           0           1     FN\n",
      "5986           6         92            32.70%           0           1     FN\n",
      "5987           7         92            32.67%           0           1     FN\n",
      "5988           8         92            31.99%           0           1     FN\n",
      "5989           9         92            31.96%           0           1     FN\n",
      "5990          10         92            31.18%           0           1     FN\n",
      "5991          11         92            31.70%           0           1     FN\n",
      "5992          12         92            33.47%           0           1     FN\n",
      "5993          13         92            36.19%           0           1     FN\n",
      "5994          14         92            39.26%           0           1     FN\n",
      "5995          15         92            40.17%           0           1     FN\n",
      "5996          16         92            42.53%           0           1     FN\n",
      "5997          17         92            42.85%           0           1     FN\n",
      "5998          18         92            44.30%           0           1     FN\n",
      "5999          19         92            41.30%           0           1     FN\n",
      "6000          20         92            41.47%           0           1     FN\n",
      "6001          21         92            38.59%           0           1     FN\n",
      "6002          22         92            37.72%           0           1     FN\n",
      "6003          23         92            32.92%           0           1     FN\n",
      "6004          24         92            29.42%           0           1     FN\n",
      "6005          25         92            26.22%           0           1     FN\n",
      "6006          26         92            24.03%           0           1     FN\n",
      "6007          27         92            22.80%           0           1     FN\n",
      "6008          28         92            21.67%           0           1     FN\n",
      "6009          29         92            21.67%           0           1     FN\n",
      "6010          30         92            21.12%           0           1     FN\n",
      "6011          31         92            21.52%           0           1     FN\n",
      "6012          32         92            21.53%           0           1     FN\n",
      "6013          33         92            22.39%           0           1     FN\n",
      "6014          34         92            22.74%           0           1     FN\n",
      "6015          35         92            23.23%           0           1     FN\n",
      "6016          36         92            23.63%           0           1     FN\n",
      "6017          37         92            24.56%           0           1     FN\n",
      "6018          38         92            25.44%           0           1     FN\n",
      "6019          39         92            26.41%           0           1     FN\n",
      "6020          40         92            26.78%           0           1     FN\n",
      "6021          41         92            28.26%           0           1     FN\n",
      "6022          42         92            28.68%           0           1     FN\n",
      "6023          43         92            29.30%           0           1     FN\n",
      "6024          44         92            29.13%           0           1     FN\n",
      "6025          45         92            32.17%           0           1     FN\n",
      "6026          46         92            34.23%           0           1     FN\n",
      "6027          47         92            36.15%           0           1     FN\n",
      "6028          48         92            34.74%           0           1     FN\n",
      "6029          49         92            32.82%           0           1     FN\n",
      "6030          50         92            29.83%           0           1     FN\n",
      "6031          51         92            28.03%           0           1     FN\n",
      "6032          52         92            27.82%           0           1     FN\n",
      "6033          53         92            27.68%           0           1     FN\n",
      "6034          54         92            28.47%           0           1     FN\n",
      "6035          55         92            29.81%           0           1     FN\n",
      "6036          56         92            31.02%           0           1     FN\n",
      "6037          57         92            31.23%           0           1     FN\n",
      "6038          58         92            30.93%           0           1     FN\n",
      "6039          59         92            29.91%           0           1     FN\n",
      "6040          60         92            29.35%           0           1     FN\n",
      "6041          61         92            29.20%           0           1     FN\n",
      "6042          62         92            29.51%           0           1     FN\n",
      "6043          63         92            29.96%           0           1     FN\n",
      "6044          64         92            30.43%           0           1     FN\n",
      "6112           2         94            43.16%           0           1     FN\n",
      "6113           3         94            42.70%           0           1     FN\n",
      "6114           4         94            43.29%           0           1     FN\n",
      "6115           5         94            42.65%           0           1     FN\n",
      "6116           6         94            42.48%           0           1     FN\n",
      "6117           7         94            42.66%           0           1     FN\n",
      "6118           8         94            44.90%           0           1     FN\n",
      "6119           9         94            46.91%           0           1     FN\n",
      "6120          10         94            49.27%           0           1     FN\n",
      "6242           2         96            21.64%           0           1     FN\n",
      "6243           3         96            21.91%           0           1     FN\n",
      "6244           4         96            22.34%           0           1     FN\n",
      "6245           5         96            23.41%           0           1     FN\n",
      "6246           6         96            22.97%           0           1     FN\n",
      "6247           7         96            22.99%           0           1     FN\n",
      "6248           8         96            23.63%           0           1     FN\n",
      "6249           9         96            24.57%           0           1     FN\n",
      "6250          10         96            27.24%           0           1     FN\n",
      "6251          11         96            29.71%           0           1     FN\n",
      "6252          12         96            36.01%           0           1     FN\n",
      "6253          13         96            39.78%           0           1     FN\n",
      "6254          14         96            45.84%           0           1     FN\n",
      "6437           2         99            24.94%           0           1     FN\n",
      "6438           3         99            21.44%           0           1     FN\n",
      "6439           4         99            21.09%           0           1     FN\n",
      "6440           5         99            22.97%           0           1     FN\n",
      "6441           6         99            20.41%           0           1     FN\n",
      "6442           7         99            20.89%           0           1     FN\n",
      "6443           8         99            21.81%           0           1     FN\n",
      "6444           9         99            20.83%           0           1     FN\n",
      "6445          10         99            21.99%           0           1     FN\n",
      "6446          11         99            22.38%           0           1     FN\n",
      "6447          12         99            23.01%           0           1     FN\n",
      "6448          13         99            24.65%           0           1     FN\n",
      "6449          14         99            26.91%           0           1     FN\n",
      "6450          15         99            28.34%           0           1     FN\n",
      "6451          16         99            31.57%           0           1     FN\n",
      "6452          17         99            34.33%           0           1     FN\n",
      "6453          18         99            34.19%           0           1     FN\n",
      "6454          19         99            31.90%           0           1     FN\n",
      "6455          20         99            33.23%           0           1     FN\n",
      "6456          21         99            33.46%           0           1     FN\n",
      "6457          22         99            34.61%           0           1     FN\n",
      "6458          23         99            32.31%           0           1     FN\n",
      "6459          24         99            29.47%           0           1     FN\n",
      "6460          25         99            27.96%           0           1     FN\n",
      "6461          26         99            27.30%           0           1     FN\n",
      "6462          27         99            26.79%           0           1     FN\n",
      "6463          28         99            26.50%           0           1     FN\n",
      "6464          29         99            26.30%           0           1     FN\n",
      "6465          30         99            26.59%           0           1     FN\n",
      "6466          31         99            27.24%           0           1     FN\n",
      "6467          32         99            28.02%           0           1     FN\n",
      "6468          33         99            28.72%           0           1     FN\n",
      "6469          34         99            29.28%           0           1     FN\n",
      "6470          35         99            29.78%           0           1     FN\n",
      "6471          36         99            30.12%           0           1     FN\n",
      "6472          37         99            30.32%           0           1     FN\n",
      "6473          38         99            30.83%           0           1     FN\n",
      "6474          39         99            30.96%           0           1     FN\n",
      "6475          40         99            31.86%           0           1     FN\n",
      "6476          41         99            32.38%           0           1     FN\n",
      "6477          42         99            33.37%           0           1     FN\n",
      "6478          43         99            34.39%           0           1     FN\n",
      "6479          44         99            35.69%           0           1     FN\n",
      "6480          45         99            37.36%           0           1     FN\n",
      "6481          46         99            39.07%           0           1     FN\n",
      "6482          47         99            40.68%           0           1     FN\n",
      "6483          48         99            42.06%           0           1     FN\n",
      "6484          49         99            43.57%           0           1     FN\n",
      "6485          50         99            44.38%           0           1     FN\n",
      "6486          51         99            43.53%           0           1     FN\n",
      "6487          52         99            41.98%           0           1     FN\n",
      "6488          53         99            41.68%           0           1     FN\n",
      "6489          54         99            41.66%           0           1     FN\n",
      "6490          55         99            42.34%           0           1     FN\n",
      "6491          56         99            42.57%           0           1     FN\n",
      "6492          57         99            42.25%           0           1     FN\n",
      "6493          58         99            40.63%           0           1     FN\n",
      "6494          59         99            37.87%           0           1     FN\n",
      "6495          60         99            34.61%           0           1     FN\n",
      "6496          61         99            31.41%           0           1     FN\n",
      "6497          62         99            28.88%           0           1     FN\n",
      "6498          63         99            27.08%           0           1     FN\n",
      "6499          64         99            25.91%           0           1     FN\n"
     ]
    },
    {
     "data": {
      "image/png": "[encoded data removed]",
      "text/plain": [
       "<Figure size 640x480 with 1 Axes>"
      ]
     },
     "metadata": {},
     "output_type": "display_data"
    },
    {
     "data": {
      "image/png": "[encoded data removed]",
      "text/plain": [
       "<Figure size 640x480 with 1 Axes>"
      ]
     },
     "metadata": {},
     "output_type": "display_data"
    },
    {
     "data": {
      "image/png": "[encoded data removed]",
      "text/plain": [
       "<Figure size 640x480 with 1 Axes>"
      ]
     },
     "metadata": {},
     "output_type": "display_data"
    }
   ],
   "source": [
    "# df and plots settings\n",
    "pd.set_option(\"display.float_format\", \"{:.2%}\".format)\n",
    "\n",
    "pd.options.plotting.backend = \"matplotlib\"\n",
    "\n",
    "\n",
    "# print(dataset_df)\n",
    "pd.set_option(\"display.max_rows\", 2000)\n",
    "false_positive = dataset_df.query('Result == \"FP\"')\n",
    "false_negative = dataset_df.query('Result == \"FN\"')\n",
    "# sample_df = pd.concat([sample_df, sample_df])\n",
    "\n",
    "false_positive_plot = false_positive.groupby([\"window idx\"])[\"window idx\"].count()\n",
    "false_negative_plot = false_negative.groupby([\"window idx\"])[\"window idx\"].count()\n",
    "# print(false_positive['Pred probability'].value_counts(bins=10, sort=False))\n",
    "\n",
    "\n",
    "if len(false_positive_plot) > 0:\n",
    "    print(\"FALSE POSITVES\")\n",
    "    print(false_positive)\n",
    "    # print(false_positive.groupby(['event_idx'])['event_idx'].count())\n",
    "    false_positive.groupby(['event_idx'])['event_idx'].count().plot(kind='bar')\n",
    "    plt.show()\n",
    "    false_positive_plot.plot(kind=\"bar\", edgecolor=\"black\")\n",
    "    plt.show()\n",
    "    false_positive[\"Pred probability\"].value_counts(\n",
    "        bins = [i * 0.1 for i in range(5, 11)], sort=False, normalize=True\n",
    "    ).plot(kind=\"bar\")\n",
    "    plt.show()\n",
    "if len(false_negative_plot) > 0:\n",
    "    print(\"FALSE NEGATIVES\")\n",
    "    print(false_negative)\n",
    "    # print(false_negative.groupby(['event_idx'])['event_idx'].count())\n",
    "    false_negative.groupby(['event_idx'])['event_idx'].count().plot(kind='bar')\n",
    "    plt.show()\n",
    "\n",
    "    false_negative_plot.plot(kind=\"bar\", edgecolor=\"black\")\n",
    "    plt.show()\n",
    "    false_negative[\"Pred probability\"].value_counts(\n",
    "        bins = [i * 0.1 for i in range(6)], sort=False, normalize=True\n",
    "    ).plot(kind=\"bar\")\n",
    "    plt.show()\n",
    "\n",
    "\n",
    "\n",
    "\n",
    "plt.show()\n"
   ]
  },
  {
   "cell_type": "code",
   "execution_count": 40,
   "metadata": {},
   "outputs": [
    {
     "name": "stdout",
     "output_type": "stream",
     "text": [
      "[2523   74 2583 1320 3843]\n",
      "Total windows:................6500\n",
      "True Positives:...............2523\n",
      "False Positives:..............  74\n",
      "True Negatives:...............2583\n",
      "False Negatives:..............1320\n",
      "Accuracy:.....................  78.6%\n",
      "True Positive Rate:...........  65.7%\n",
      "False Positive Rate:..........   2.8%\n",
      "True Negative Rate:...........  97.2%\n",
      "Positive Predictive Value:....  97.2%\n"
     ]
    },
    {
     "data": {
      "application/vnd.plotly.v1+json": {
       "config": {
        "plotlyServerURL": "https://plot.ly"
       },
       "data": [
        {
         "coloraxis": "coloraxis",
         "hovertemplate": "Predicted Label: %{x}<br>Real Label: %{y}<br>Predictions: %{z}<extra></extra>",
         "name": "0",
         "texttemplate": "%{z}",
         "type": "heatmap",
         "x": [
          "Positive",
          "Negative"
         ],
         "xaxis": "x",
         "y": [
          "Positive",
          "Negative"
         ],
         "yaxis": "y",
         "z": [
          [
           2523,
           1320
          ],
          [
           74,
           2583
          ]
         ]
        }
       ],
       "layout": {
        "coloraxis": {
         "colorbar": {
          "title": {
           "text": "Predictions"
          }
         },
         "colorscale": [
          [
           0,
           "rgb(2,4,25)"
          ],
          [
           0.0625,
           "rgb(24,15,41)"
          ],
          [
           0.125,
           "rgb(47,23,57)"
          ],
          [
           0.1875,
           "rgb(71,28,72)"
          ],
          [
           0.25,
           "rgb(97,30,82)"
          ],
          [
           0.3125,
           "rgb(123,30,89)"
          ],
          [
           0.375,
           "rgb(150,27,91)"
          ],
          [
           0.4375,
           "rgb(177,22,88)"
          ],
          [
           0.5,
           "rgb(203,26,79)"
          ],
          [
           0.5625,
           "rgb(223,47,67)"
          ],
          [
           0.625,
           "rgb(236,76,61)"
          ],
          [
           0.6875,
           "rgb(242,107,73)"
          ],
          [
           0.75,
           "rgb(244,135,95)"
          ],
          [
           0.8125,
           "rgb(245,162,122)"
          ],
          [
           0.875,
           "rgb(246,188,153)"
          ],
          [
           0.9375,
           "rgb(247,212,187)"
          ],
          [
           1,
           "rgb(250,234,220)"
          ]
         ]
        },
        "height": 300,
        "margin": {
         "t": 60
        },
        "template": {
         "data": {
          "bar": [
           {
            "error_x": {
             "color": "rgb(36,36,36)"
            },
            "error_y": {
             "color": "rgb(36,36,36)"
            },
            "marker": {
             "line": {
              "color": "rgb(234,234,242)",
              "width": 0.5
             },
             "pattern": {
              "fillmode": "overlay",
              "size": 10,
              "solidity": 0.2
             }
            },
            "type": "bar"
           }
          ],
          "barpolar": [
           {
            "marker": {
             "line": {
              "color": "rgb(234,234,242)",
              "width": 0.5
             },
             "pattern": {
              "fillmode": "overlay",
              "size": 10,
              "solidity": 0.2
             }
            },
            "type": "barpolar"
           }
          ],
          "carpet": [
           {
            "aaxis": {
             "endlinecolor": "rgb(36,36,36)",
             "gridcolor": "white",
             "linecolor": "white",
             "minorgridcolor": "white",
             "startlinecolor": "rgb(36,36,36)"
            },
            "baxis": {
             "endlinecolor": "rgb(36,36,36)",
             "gridcolor": "white",
             "linecolor": "white",
             "minorgridcolor": "white",
             "startlinecolor": "rgb(36,36,36)"
            },
            "type": "carpet"
           }
          ],
          "choropleth": [
           {
            "colorbar": {
             "outlinewidth": 0,
             "tickcolor": "rgb(36,36,36)",
             "ticklen": 8,
             "ticks": "outside",
             "tickwidth": 2
            },
            "type": "choropleth"
           }
          ],
          "contour": [
           {
            "colorbar": {
             "outlinewidth": 0,
             "tickcolor": "rgb(36,36,36)",
             "ticklen": 8,
             "ticks": "outside",
             "tickwidth": 2
            },
            "colorscale": [
             [
              0,
              "rgb(2,4,25)"
             ],
             [
              0.06274509803921569,
              "rgb(24,15,41)"
             ],
             [
              0.12549019607843137,
              "rgb(47,23,57)"
             ],
             [
              0.18823529411764706,
              "rgb(71,28,72)"
             ],
             [
              0.25098039215686274,
              "rgb(97,30,82)"
             ],
             [
              0.3137254901960784,
              "rgb(123,30,89)"
             ],
             [
              0.3764705882352941,
              "rgb(150,27,91)"
             ],
             [
              0.4392156862745098,
              "rgb(177,22,88)"
             ],
             [
              0.5019607843137255,
              "rgb(203,26,79)"
             ],
             [
              0.5647058823529412,
              "rgb(223,47,67)"
             ],
             [
              0.6274509803921569,
              "rgb(236,76,61)"
             ],
             [
              0.6901960784313725,
              "rgb(242,107,73)"
             ],
             [
              0.7529411764705882,
              "rgb(244,135,95)"
             ],
             [
              0.8156862745098039,
              "rgb(245,162,122)"
             ],
             [
              0.8784313725490196,
              "rgb(246,188,153)"
             ],
             [
              0.9411764705882353,
              "rgb(247,212,187)"
             ],
             [
              1,
              "rgb(250,234,220)"
             ]
            ],
            "type": "contour"
           }
          ],
          "contourcarpet": [
           {
            "colorbar": {
             "outlinewidth": 0,
             "tickcolor": "rgb(36,36,36)",
             "ticklen": 8,
             "ticks": "outside",
             "tickwidth": 2
            },
            "type": "contourcarpet"
           }
          ],
          "heatmap": [
           {
            "colorbar": {
             "outlinewidth": 0,
             "tickcolor": "rgb(36,36,36)",
             "ticklen": 8,
             "ticks": "outside",
             "tickwidth": 2
            },
            "colorscale": [
             [
              0,
              "rgb(2,4,25)"
             ],
             [
              0.06274509803921569,
              "rgb(24,15,41)"
             ],
             [
              0.12549019607843137,
              "rgb(47,23,57)"
             ],
             [
              0.18823529411764706,
              "rgb(71,28,72)"
             ],
             [
              0.25098039215686274,
              "rgb(97,30,82)"
             ],
             [
              0.3137254901960784,
              "rgb(123,30,89)"
             ],
             [
              0.3764705882352941,
              "rgb(150,27,91)"
             ],
             [
              0.4392156862745098,
              "rgb(177,22,88)"
             ],
             [
              0.5019607843137255,
              "rgb(203,26,79)"
             ],
             [
              0.5647058823529412,
              "rgb(223,47,67)"
             ],
             [
              0.6274509803921569,
              "rgb(236,76,61)"
             ],
             [
              0.6901960784313725,
              "rgb(242,107,73)"
             ],
             [
              0.7529411764705882,
              "rgb(244,135,95)"
             ],
             [
              0.8156862745098039,
              "rgb(245,162,122)"
             ],
             [
              0.8784313725490196,
              "rgb(246,188,153)"
             ],
             [
              0.9411764705882353,
              "rgb(247,212,187)"
             ],
             [
              1,
              "rgb(250,234,220)"
             ]
            ],
            "type": "heatmap"
           }
          ],
          "heatmapgl": [
           {
            "colorbar": {
             "outlinewidth": 0,
             "tickcolor": "rgb(36,36,36)",
             "ticklen": 8,
             "ticks": "outside",
             "tickwidth": 2
            },
            "colorscale": [
             [
              0,
              "rgb(2,4,25)"
             ],
             [
              0.06274509803921569,
              "rgb(24,15,41)"
             ],
             [
              0.12549019607843137,
              "rgb(47,23,57)"
             ],
             [
              0.18823529411764706,
              "rgb(71,28,72)"
             ],
             [
              0.25098039215686274,
              "rgb(97,30,82)"
             ],
             [
              0.3137254901960784,
              "rgb(123,30,89)"
             ],
             [
              0.3764705882352941,
              "rgb(150,27,91)"
             ],
             [
              0.4392156862745098,
              "rgb(177,22,88)"
             ],
             [
              0.5019607843137255,
              "rgb(203,26,79)"
             ],
             [
              0.5647058823529412,
              "rgb(223,47,67)"
             ],
             [
              0.6274509803921569,
              "rgb(236,76,61)"
             ],
             [
              0.6901960784313725,
              "rgb(242,107,73)"
             ],
             [
              0.7529411764705882,
              "rgb(244,135,95)"
             ],
             [
              0.8156862745098039,
              "rgb(245,162,122)"
             ],
             [
              0.8784313725490196,
              "rgb(246,188,153)"
             ],
             [
              0.9411764705882353,
              "rgb(247,212,187)"
             ],
             [
              1,
              "rgb(250,234,220)"
             ]
            ],
            "type": "heatmapgl"
           }
          ],
          "histogram": [
           {
            "marker": {
             "pattern": {
              "fillmode": "overlay",
              "size": 10,
              "solidity": 0.2
             }
            },
            "type": "histogram"
           }
          ],
          "histogram2d": [
           {
            "colorbar": {
             "outlinewidth": 0,
             "tickcolor": "rgb(36,36,36)",
             "ticklen": 8,
             "ticks": "outside",
             "tickwidth": 2
            },
            "colorscale": [
             [
              0,
              "rgb(2,4,25)"
             ],
             [
              0.06274509803921569,
              "rgb(24,15,41)"
             ],
             [
              0.12549019607843137,
              "rgb(47,23,57)"
             ],
             [
              0.18823529411764706,
              "rgb(71,28,72)"
             ],
             [
              0.25098039215686274,
              "rgb(97,30,82)"
             ],
             [
              0.3137254901960784,
              "rgb(123,30,89)"
             ],
             [
              0.3764705882352941,
              "rgb(150,27,91)"
             ],
             [
              0.4392156862745098,
              "rgb(177,22,88)"
             ],
             [
              0.5019607843137255,
              "rgb(203,26,79)"
             ],
             [
              0.5647058823529412,
              "rgb(223,47,67)"
             ],
             [
              0.6274509803921569,
              "rgb(236,76,61)"
             ],
             [
              0.6901960784313725,
              "rgb(242,107,73)"
             ],
             [
              0.7529411764705882,
              "rgb(244,135,95)"
             ],
             [
              0.8156862745098039,
              "rgb(245,162,122)"
             ],
             [
              0.8784313725490196,
              "rgb(246,188,153)"
             ],
             [
              0.9411764705882353,
              "rgb(247,212,187)"
             ],
             [
              1,
              "rgb(250,234,220)"
             ]
            ],
            "type": "histogram2d"
           }
          ],
          "histogram2dcontour": [
           {
            "colorbar": {
             "outlinewidth": 0,
             "tickcolor": "rgb(36,36,36)",
             "ticklen": 8,
             "ticks": "outside",
             "tickwidth": 2
            },
            "colorscale": [
             [
              0,
              "rgb(2,4,25)"
             ],
             [
              0.06274509803921569,
              "rgb(24,15,41)"
             ],
             [
              0.12549019607843137,
              "rgb(47,23,57)"
             ],
             [
              0.18823529411764706,
              "rgb(71,28,72)"
             ],
             [
              0.25098039215686274,
              "rgb(97,30,82)"
             ],
             [
              0.3137254901960784,
              "rgb(123,30,89)"
             ],
             [
              0.3764705882352941,
              "rgb(150,27,91)"
             ],
             [
              0.4392156862745098,
              "rgb(177,22,88)"
             ],
             [
              0.5019607843137255,
              "rgb(203,26,79)"
             ],
             [
              0.5647058823529412,
              "rgb(223,47,67)"
             ],
             [
              0.6274509803921569,
              "rgb(236,76,61)"
             ],
             [
              0.6901960784313725,
              "rgb(242,107,73)"
             ],
             [
              0.7529411764705882,
              "rgb(244,135,95)"
             ],
             [
              0.8156862745098039,
              "rgb(245,162,122)"
             ],
             [
              0.8784313725490196,
              "rgb(246,188,153)"
             ],
             [
              0.9411764705882353,
              "rgb(247,212,187)"
             ],
             [
              1,
              "rgb(250,234,220)"
             ]
            ],
            "type": "histogram2dcontour"
           }
          ],
          "mesh3d": [
           {
            "colorbar": {
             "outlinewidth": 0,
             "tickcolor": "rgb(36,36,36)",
             "ticklen": 8,
             "ticks": "outside",
             "tickwidth": 2
            },
            "type": "mesh3d"
           }
          ],
          "parcoords": [
           {
            "line": {
             "colorbar": {
              "outlinewidth": 0,
              "tickcolor": "rgb(36,36,36)",
              "ticklen": 8,
              "ticks": "outside",
              "tickwidth": 2
             }
            },
            "type": "parcoords"
           }
          ],
          "pie": [
           {
            "automargin": true,
            "type": "pie"
           }
          ],
          "scatter": [
           {
            "fillpattern": {
             "fillmode": "overlay",
             "size": 10,
             "solidity": 0.2
            },
            "type": "scatter"
           }
          ],
          "scatter3d": [
           {
            "line": {
             "colorbar": {
              "outlinewidth": 0,
              "tickcolor": "rgb(36,36,36)",
              "ticklen": 8,
              "ticks": "outside",
              "tickwidth": 2
             }
            },
            "marker": {
             "colorbar": {
              "outlinewidth": 0,
              "tickcolor": "rgb(36,36,36)",
              "ticklen": 8,
              "ticks": "outside",
              "tickwidth": 2
             }
            },
            "type": "scatter3d"
           }
          ],
          "scattercarpet": [
           {
            "marker": {
             "colorbar": {
              "outlinewidth": 0,
              "tickcolor": "rgb(36,36,36)",
              "ticklen": 8,
              "ticks": "outside",
              "tickwidth": 2
             }
            },
            "type": "scattercarpet"
           }
          ],
          "scattergeo": [
           {
            "marker": {
             "colorbar": {
              "outlinewidth": 0,
              "tickcolor": "rgb(36,36,36)",
              "ticklen": 8,
              "ticks": "outside",
              "tickwidth": 2
             }
            },
            "type": "scattergeo"
           }
          ],
          "scattergl": [
           {
            "marker": {
             "colorbar": {
              "outlinewidth": 0,
              "tickcolor": "rgb(36,36,36)",
              "ticklen": 8,
              "ticks": "outside",
              "tickwidth": 2
             }
            },
            "type": "scattergl"
           }
          ],
          "scattermapbox": [
           {
            "marker": {
             "colorbar": {
              "outlinewidth": 0,
              "tickcolor": "rgb(36,36,36)",
              "ticklen": 8,
              "ticks": "outside",
              "tickwidth": 2
             }
            },
            "type": "scattermapbox"
           }
          ],
          "scatterpolar": [
           {
            "marker": {
             "colorbar": {
              "outlinewidth": 0,
              "tickcolor": "rgb(36,36,36)",
              "ticklen": 8,
              "ticks": "outside",
              "tickwidth": 2
             }
            },
            "type": "scatterpolar"
           }
          ],
          "scatterpolargl": [
           {
            "marker": {
             "colorbar": {
              "outlinewidth": 0,
              "tickcolor": "rgb(36,36,36)",
              "ticklen": 8,
              "ticks": "outside",
              "tickwidth": 2
             }
            },
            "type": "scatterpolargl"
           }
          ],
          "scatterternary": [
           {
            "marker": {
             "colorbar": {
              "outlinewidth": 0,
              "tickcolor": "rgb(36,36,36)",
              "ticklen": 8,
              "ticks": "outside",
              "tickwidth": 2
             }
            },
            "type": "scatterternary"
           }
          ],
          "surface": [
           {
            "colorbar": {
             "outlinewidth": 0,
             "tickcolor": "rgb(36,36,36)",
             "ticklen": 8,
             "ticks": "outside",
             "tickwidth": 2
            },
            "colorscale": [
             [
              0,
              "rgb(2,4,25)"
             ],
             [
              0.06274509803921569,
              "rgb(24,15,41)"
             ],
             [
              0.12549019607843137,
              "rgb(47,23,57)"
             ],
             [
              0.18823529411764706,
              "rgb(71,28,72)"
             ],
             [
              0.25098039215686274,
              "rgb(97,30,82)"
             ],
             [
              0.3137254901960784,
              "rgb(123,30,89)"
             ],
             [
              0.3764705882352941,
              "rgb(150,27,91)"
             ],
             [
              0.4392156862745098,
              "rgb(177,22,88)"
             ],
             [
              0.5019607843137255,
              "rgb(203,26,79)"
             ],
             [
              0.5647058823529412,
              "rgb(223,47,67)"
             ],
             [
              0.6274509803921569,
              "rgb(236,76,61)"
             ],
             [
              0.6901960784313725,
              "rgb(242,107,73)"
             ],
             [
              0.7529411764705882,
              "rgb(244,135,95)"
             ],
             [
              0.8156862745098039,
              "rgb(245,162,122)"
             ],
             [
              0.8784313725490196,
              "rgb(246,188,153)"
             ],
             [
              0.9411764705882353,
              "rgb(247,212,187)"
             ],
             [
              1,
              "rgb(250,234,220)"
             ]
            ],
            "type": "surface"
           }
          ],
          "table": [
           {
            "cells": {
             "fill": {
              "color": "rgb(231,231,240)"
             },
             "line": {
              "color": "white"
             }
            },
            "header": {
             "fill": {
              "color": "rgb(183,183,191)"
             },
             "line": {
              "color": "white"
             }
            },
            "type": "table"
           }
          ]
         },
         "layout": {
          "annotationdefaults": {
           "arrowcolor": "rgb(67,103,167)"
          },
          "autotypenumbers": "strict",
          "coloraxis": {
           "colorbar": {
            "outlinewidth": 0,
            "tickcolor": "rgb(36,36,36)",
            "ticklen": 8,
            "ticks": "outside",
            "tickwidth": 2
           }
          },
          "colorscale": {
           "sequential": [
            [
             0,
             "rgb(2,4,25)"
            ],
            [
             0.06274509803921569,
             "rgb(24,15,41)"
            ],
            [
             0.12549019607843137,
             "rgb(47,23,57)"
            ],
            [
             0.18823529411764706,
             "rgb(71,28,72)"
            ],
            [
             0.25098039215686274,
             "rgb(97,30,82)"
            ],
            [
             0.3137254901960784,
             "rgb(123,30,89)"
            ],
            [
             0.3764705882352941,
             "rgb(150,27,91)"
            ],
            [
             0.4392156862745098,
             "rgb(177,22,88)"
            ],
            [
             0.5019607843137255,
             "rgb(203,26,79)"
            ],
            [
             0.5647058823529412,
             "rgb(223,47,67)"
            ],
            [
             0.6274509803921569,
             "rgb(236,76,61)"
            ],
            [
             0.6901960784313725,
             "rgb(242,107,73)"
            ],
            [
             0.7529411764705882,
             "rgb(244,135,95)"
            ],
            [
             0.8156862745098039,
             "rgb(245,162,122)"
            ],
            [
             0.8784313725490196,
             "rgb(246,188,153)"
            ],
            [
             0.9411764705882353,
             "rgb(247,212,187)"
            ],
            [
             1,
             "rgb(250,234,220)"
            ]
           ],
           "sequentialminus": [
            [
             0,
             "rgb(2,4,25)"
            ],
            [
             0.06274509803921569,
             "rgb(24,15,41)"
            ],
            [
             0.12549019607843137,
             "rgb(47,23,57)"
            ],
            [
             0.18823529411764706,
             "rgb(71,28,72)"
            ],
            [
             0.25098039215686274,
             "rgb(97,30,82)"
            ],
            [
             0.3137254901960784,
             "rgb(123,30,89)"
            ],
            [
             0.3764705882352941,
             "rgb(150,27,91)"
            ],
            [
             0.4392156862745098,
             "rgb(177,22,88)"
            ],
            [
             0.5019607843137255,
             "rgb(203,26,79)"
            ],
            [
             0.5647058823529412,
             "rgb(223,47,67)"
            ],
            [
             0.6274509803921569,
             "rgb(236,76,61)"
            ],
            [
             0.6901960784313725,
             "rgb(242,107,73)"
            ],
            [
             0.7529411764705882,
             "rgb(244,135,95)"
            ],
            [
             0.8156862745098039,
             "rgb(245,162,122)"
            ],
            [
             0.8784313725490196,
             "rgb(246,188,153)"
            ],
            [
             0.9411764705882353,
             "rgb(247,212,187)"
            ],
            [
             1,
             "rgb(250,234,220)"
            ]
           ]
          },
          "colorway": [
           "rgb(76,114,176)",
           "rgb(221,132,82)",
           "rgb(85,168,104)",
           "rgb(196,78,82)",
           "rgb(129,114,179)",
           "rgb(147,120,96)",
           "rgb(218,139,195)",
           "rgb(140,140,140)",
           "rgb(204,185,116)",
           "rgb(100,181,205)"
          ],
          "font": {
           "color": "rgb(36,36,36)"
          },
          "geo": {
           "bgcolor": "white",
           "lakecolor": "white",
           "landcolor": "rgb(234,234,242)",
           "showlakes": true,
           "showland": true,
           "subunitcolor": "white"
          },
          "hoverlabel": {
           "align": "left"
          },
          "hovermode": "closest",
          "paper_bgcolor": "white",
          "plot_bgcolor": "rgb(234,234,242)",
          "polar": {
           "angularaxis": {
            "gridcolor": "white",
            "linecolor": "white",
            "showgrid": true,
            "ticks": ""
           },
           "bgcolor": "rgb(234,234,242)",
           "radialaxis": {
            "gridcolor": "white",
            "linecolor": "white",
            "showgrid": true,
            "ticks": ""
           }
          },
          "scene": {
           "xaxis": {
            "backgroundcolor": "rgb(234,234,242)",
            "gridcolor": "white",
            "gridwidth": 2,
            "linecolor": "white",
            "showbackground": true,
            "showgrid": true,
            "ticks": "",
            "zerolinecolor": "white"
           },
           "yaxis": {
            "backgroundcolor": "rgb(234,234,242)",
            "gridcolor": "white",
            "gridwidth": 2,
            "linecolor": "white",
            "showbackground": true,
            "showgrid": true,
            "ticks": "",
            "zerolinecolor": "white"
           },
           "zaxis": {
            "backgroundcolor": "rgb(234,234,242)",
            "gridcolor": "white",
            "gridwidth": 2,
            "linecolor": "white",
            "showbackground": true,
            "showgrid": true,
            "ticks": "",
            "zerolinecolor": "white"
           }
          },
          "shapedefaults": {
           "fillcolor": "rgb(67,103,167)",
           "line": {
            "width": 0
           },
           "opacity": 0.5
          },
          "ternary": {
           "aaxis": {
            "gridcolor": "white",
            "linecolor": "white",
            "showgrid": true,
            "ticks": ""
           },
           "baxis": {
            "gridcolor": "white",
            "linecolor": "white",
            "showgrid": true,
            "ticks": ""
           },
           "bgcolor": "rgb(234,234,242)",
           "caxis": {
            "gridcolor": "white",
            "linecolor": "white",
            "showgrid": true,
            "ticks": ""
           }
          },
          "xaxis": {
           "automargin": true,
           "gridcolor": "white",
           "linecolor": "white",
           "showgrid": true,
           "ticks": "",
           "title": {
            "standoff": 15
           },
           "zerolinecolor": "white"
          },
          "yaxis": {
           "automargin": true,
           "gridcolor": "white",
           "linecolor": "white",
           "showgrid": true,
           "ticks": "",
           "title": {
            "standoff": 15
           },
           "zerolinecolor": "white"
          }
         }
        },
        "width": 400,
        "xaxis": {
         "anchor": "y",
         "constrain": "domain",
         "domain": [
          0,
          1
         ],
         "scaleanchor": "y",
         "title": {
          "text": "Predicted Label"
         }
        },
        "yaxis": {
         "anchor": "x",
         "autorange": "reversed",
         "constrain": "domain",
         "domain": [
          0,
          1
         ],
         "title": {
          "text": "Real Label"
         }
        }
       }
      }
     },
     "metadata": {},
     "output_type": "display_data"
    }
   ],
   "source": [
    "# model.load_state_dict(torch.load('models\\LSTMHarmonic_weights_R3Currents.pth'))\n",
    "print(conf_matrix_total)\n",
    "metrics = conf_matrix_metrics(conf_matrix_total)\n",
    "print_metrics(metrics)\n",
    "plot_confusion_matrix(metrics)\n"
   ]
  },
  {
   "attachments": {},
   "cell_type": "markdown",
   "metadata": {},
   "source": [
    "##### 7.6. Save Dataframe and Confusion Matrix"
   ]
  },
  {
   "cell_type": "code",
   "execution_count": 41,
   "metadata": {},
   "outputs": [],
   "source": [
    "dataset_df.to_parquet('parquet_data/R3_currents_DB2_df.parquet')\n",
    "conf_matrix_df = pd.DataFrame(conf_matrix.cpu(), columns = ['TP','FP','TF', 'FN', 'TP + FN'])\n",
    "conf_matrix_df.to_parquet('parquet_data/R3_currents_DB2_CM_df.parquet')\n",
    "np.save('parquet_data/R3_currents_DB2_CM.npy', conf_matrix.cpu())"
   ]
  },
  {
   "attachments": {},
   "cell_type": "markdown",
   "metadata": {},
   "source": [
    "##### 7.7. Individual Sample Visualization"
   ]
  },
  {
   "cell_type": "code",
   "execution_count": null,
   "metadata": {},
   "outputs": [],
   "source": [
    "# Create signal_df\n",
    "event_idx = 1\n",
    "print(dataset.csv_list[event_idx])\n",
    "sample_df, conf_matrix = signal_exploration(event_idx, dataset, model)\n",
    "metrics = conf_matrix_metrics(conf_matrix)\n",
    "print(f\"Confusion Matrix: {conf_matrix}\")\n",
    "print(sample_df)   \n",
    "plot_confusion_matrix(metrics)\n",
    "false_positive = sample_df.query('Result == \"FP\"')\n",
    "false_negative = sample_df.query('Result == \"FN\"')\n",
    "# sample_df = pd.concat([sample_df, sample_df])\n",
    "print(\"FALSE POSITVES\")\n",
    "print(false_positive)\n",
    "print(\"\")\n",
    "print(\"FALSE NEGATIVES\")\n",
    "print(false_negative)"
   ]
  },
  {
   "cell_type": "code",
   "execution_count": null,
   "metadata": {},
   "outputs": [],
   "source": [
    "window_idx = 64\n",
    "sample_idx = (65 * event_idx) + window_idx\n",
    "\n",
    "\n",
    "def update_fig(fig):\n",
    "    fig.update_traces(line_color=\"#EEEEEE\", line_width=2)\n",
    "    fig.update_layout(\n",
    "        paper_bgcolor=\"#222831\",\n",
    "        plot_bgcolor=\"#393E46\",\n",
    "        font_color=\"whitesmoke\",\n",
    "    )\n",
    "    fig.update_xaxes(showgrid=True, gridwidth=1, gridcolor=\"#32E0C4\")\n",
    "    fig.update_yaxes(showgrid=True, gridwidth=1, gridcolor=\"#32E0C4\")\n",
    "\n",
    "\n",
    "signal, t = dataset.__getitem__(sample_idx, data_plot=True)\n",
    "signal = np.copy(signal)\n",
    "signal = signal.reshape((-1, 3))\n",
    "signal = signal[:, 2]\n",
    "t = np.copy(t)\n",
    "print(type(t))\n",
    "print(type(signal))\n",
    "# print(f\"Window index: {sample_df.query('indices == 196').index[0]}\")\n",
    "fig = px.line(\n",
    "    x=t,\n",
    "    y=signal,\n",
    "    width=600,\n",
    "    height=400,\n",
    "    labels=dict(x=\"time\", y=\"Amplitude\"),\n",
    ")\n",
    "# update_fig(fig)\n",
    "fig.show()\n",
    "fig = px.line(\n",
    "    x=sample_df.index,\n",
    "    y=sample_df[\"Pred label\"],\n",
    "    width=600,\n",
    "    height=400,\n",
    "    labels=dict(x=\"Window\", y=\"Trip Signal\"),\n",
    "    line_shape=\"hv\",\n",
    ")\n",
    "# update_fig(fig)\n",
    "fig.show()\n"
   ]
  },
  {
   "attachments": {},
   "cell_type": "markdown",
   "metadata": {},
   "source": [
    "### 8. References\n",
    "1. PyTorch Contributors: LSTM. [LSTM — PyTorch 1.13 documentation](https://pytorch.org/docs/stable/generated/torch.nn.LSTM.html).\n",
    "<!-- @online{LSTM,\n",
    "    author = \"{PyTorch Contributors}\",\n",
    "    title = \"LSTM\",\n",
    "    url  = \"https://pytorch.org/docs/stable/generated/torch.nn.LSTM.html\",\n",
    "    addendum = \"(accessed: 10.02.2023)\",\n",
    "    keywords = \"LSTM pytorch\"\n",
    "} -->"
   ]
  },
  {
   "cell_type": "markdown",
   "metadata": {},
   "source": []
  }
 ],
 "metadata": {
  "kernelspec": {
   "display_name": "env",
   "language": "python",
   "name": "python3"
  },
  "language_info": {
   "codemirror_mode": {
    "name": "ipython",
    "version": 3
   },
   "file_extension": ".py",
   "mimetype": "text/x-python",
   "name": "python",
   "nbconvert_exporter": "python",
   "pygments_lexer": "ipython3",
   "version": "3.9.13"
  },
  "orig_nbformat": 4,
  "vscode": {
   "interpreter": {
    "hash": "72ca1a9e086f4c7ef9a163ec3bf69ee2fedc8d7281f4001d4d35bca77b5aa424"
   }
  }
 },
 "nbformat": 4,
 "nbformat_minor": 2
}
