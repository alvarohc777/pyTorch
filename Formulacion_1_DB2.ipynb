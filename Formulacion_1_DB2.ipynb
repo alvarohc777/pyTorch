{
 "cells": [
  {
   "attachments": {},
   "cell_type": "markdown",
   "metadata": {},
   "source": [
    "<center><h1 style:\"text-align:center;\">Formulación 1</h1></center>\n",
    "<center><h3>Relé 1</h3></center>"
   ]
  },
  {
   "attachments": {},
   "cell_type": "markdown",
   "metadata": {},
   "source": [
    "### 1. Imports"
   ]
  },
  {
   "cell_type": "code",
   "execution_count": 38,
   "metadata": {},
   "outputs": [],
   "source": [
    "import torch\n",
    "import torch.nn as nn\n",
    "from torch.utils.data import Dataset, DataLoader, random_split\n",
    "\n",
    "# Métricas\n",
    "from torchmetrics.functional.classification import binary_stat_scores\n",
    "\n",
    "# Visualizar datos\n",
    "import numpy as np\n",
    "import pandas as pd\n",
    "import matplotlib.pyplot as plt\n",
    "import plotly.express as px\n",
    "\n",
    "# Progress bar\n",
    "from tqdm import tqdm\n",
    "\n",
    "# Acceder al sistema operativo\n",
    "import os\n",
    "import glob\n",
    "import shutil\n",
    "import random\n"
   ]
  },
  {
   "attachments": {},
   "cell_type": "markdown",
   "metadata": {},
   "source": [
    "### 2. Model Parameters"
   ]
  },
  {
   "cell_type": "code",
   "execution_count": 39,
   "metadata": {},
   "outputs": [
    {
     "name": "stdout",
     "output_type": "stream",
     "text": [
      "cpu\n"
     ]
    }
   ],
   "source": [
    "# LSTM parameters\n",
    "hidden_dim = 20\n",
    "n_signals = 3\n",
    "N = 64\n",
    "\n",
    "# _batch_size => m in figure 1.\n",
    "train_batch_size = 64\n",
    "dev_batch_size = 16\n",
    "test_batch_size = 16\n",
    "\n",
    "# Classification type (binary)\n",
    "tagset_size = 1\n",
    "\n",
    "# Set\n",
    "device = \"cuda\" if torch.cuda.is_available() else \"cpu\"\n",
    "print(device)\n"
   ]
  },
  {
   "attachments": {},
   "cell_type": "markdown",
   "metadata": {},
   "source": [
    "\n",
    "\n",
    "\n",
    "### 3. Model Creation"
   ]
  },
  {
   "attachments": {},
   "cell_type": "markdown",
   "metadata": {},
   "source": [
    "##### 3.1. FaultDetector Class Creation"
   ]
  },
  {
   "cell_type": "code",
   "execution_count": 40,
   "metadata": {},
   "outputs": [],
   "source": [
    "# Model Creation\n",
    "\n",
    "\n",
    "class FaultDetector(nn.Module):\n",
    "    \"\"\"Information about FaultDetector\"\"\"\n",
    "\n",
    "    def __init__(self, n_signals, hidden_dim, tagset_size):\n",
    "        super(FaultDetector, self).__init__()\n",
    "        self.lstm = nn.LSTM(n_signals, hidden_dim, batch_first=True)\n",
    "        self.fc = nn.Linear(hidden_dim, tagset_size)\n",
    "        # self.norm = nn.BatchNorm1d(tagset_size)\n",
    "\n",
    "    def forward(self, x):\n",
    "        lstm_out, _ = self.lstm(x)\n",
    "        fc_layer = self.fc(lstm_out[:,-1, :])\n",
    "        # norm_layer = self.norm(fc_layer)\n",
    "        \n",
    "\n",
    "        return torch.sigmoid(fc_layer)\n"
   ]
  },
  {
   "attachments": {},
   "cell_type": "markdown",
   "metadata": {},
   "source": [
    "##### 3.2. Model Instance Initialization"
   ]
  },
  {
   "cell_type": "code",
   "execution_count": 41,
   "metadata": {},
   "outputs": [
    {
     "name": "stdout",
     "output_type": "stream",
     "text": [
      "Model structure: FaultDetector(\n",
      "  (lstm): LSTM(3, 20, batch_first=True)\n",
      "  (fc): Linear(in_features=20, out_features=1, bias=True)\n",
      ")\n",
      "\n",
      "Number of parameters: 2021\n"
     ]
    }
   ],
   "source": [
    "model = FaultDetector(n_signals, hidden_dim, tagset_size).to(device)\n",
    "loss_fn = nn.BCELoss()\n",
    "optimizer = torch.optim.Adam(model.parameters(), lr=1e-2)\n",
    "\n",
    "# Learning rate decay (optional)\n",
    "decayRate = 0.96\n",
    "my_lr_scheduler = torch.optim.lr_scheduler.ExponentialLR(\n",
    "    optimizer=optimizer, gamma=decayRate\n",
    ")\n",
    "\n",
    "print(f\"Model structure: {model}\\n\")\n",
    "\n",
    "# Number of parameters\n",
    "model_parameters = filter(lambda p: p.requires_grad, model.parameters())\n",
    "params = sum([np.prod(p.size()) for p in model_parameters])\n",
    "print(f\"Number of parameters: {params}\")"
   ]
  },
  {
   "attachments": {},
   "cell_type": "markdown",
   "metadata": {},
   "source": [
    "### 4. Dataset Creation"
   ]
  },
  {
   "attachments": {},
   "cell_type": "markdown",
   "metadata": {},
   "source": [
    "##### 4.1. Dataset Class Creation"
   ]
  },
  {
   "cell_type": "code",
   "execution_count": 42,
   "metadata": {},
   "outputs": [],
   "source": [
    "# from utils.signalload import CSV_pandas_path\n",
    "# from utils.auxfunctions import moving_window\n",
    "from utils_tesis.signalload import CSV_pandas_path\n",
    "from utils_tesis.auxfunctions import moving_window\n",
    "import numpy as np\n",
    "from itertools import repeat\n",
    "import random\n",
    "\n",
    "\n",
    "class Form1Dataset(torch.utils.data.Dataset):\n",
    "    \"\"\"Some Information about Form1Dataset\"\"\"\n",
    "\n",
    "    def __init__(\n",
    "        self,\n",
    "        dataset_dir,\n",
    "        signal_names,\n",
    "        max_window_idx=65,\n",
    "        window_length=64,\n",
    "        step=1,\n",
    "        test=False,\n",
    "        dataset_size=999999,\n",
    "    ):\n",
    "        super(Form1Dataset, self).__init__()\n",
    "\n",
    "        self.signal_names = signal_names\n",
    "        self.max_window_idx = max_window_idx\n",
    "        self.dataset_dir = dataset_dir\n",
    "        self.test = test\n",
    "\n",
    "        # Find all csv in folders of DataSet\n",
    "        file_set = set()\n",
    "        for dir_, _, files in os.walk(dataset_dir):\n",
    "            for file_name in files:\n",
    "                rel_dir = os.path.relpath(dir_, dataset_dir)\n",
    "                rel_file = os.path.join(rel_dir, file_name)\n",
    "                file_set.add(rel_file)\n",
    "        csv_list = list(file_set)\n",
    "\n",
    "        if dataset_size < len(csv_list):\n",
    "            csv_list = random.sample(csv_list, dataset_size)\n",
    "            # csv_list = csv_list[:dataset_size]\n",
    "        self.csv_list = csv_list\n",
    "        self.csv_amount = len(csv_list)\n",
    "        self.windows_amount = max_window_idx * self.csv_amount\n",
    "        self.window_length = window_length\n",
    "        self.step = step\n",
    "\n",
    "    def __getitem__(self, index, data_plot=False):\n",
    "        # sample_settings\n",
    "        window_length = self.window_length\n",
    "        step = self.step\n",
    "\n",
    "        # calculate window_idx and filename\n",
    "        window_idx = index % self.max_window_idx\n",
    "        csv_idx = index // self.max_window_idx\n",
    "        csv_full_path = f\"{self.dataset_dir}\\{self.csv_list[csv_idx]}\"\n",
    "\n",
    "        # Load CSV, signal and create windows\n",
    "        csv_name = os.path.basename(csv_full_path)\n",
    "        signals_windows = np.empty((self.window_length, 0))\n",
    "\n",
    "        # Load Change Event\n",
    "\n",
    "        if \"L_T\" in self.csv_list[csv_idx]:\n",
    "            for signal_name in self.signal_names:\n",
    "                signal, t, _ = CSV_pandas_path(csv_full_path).load_data(signal_name)\n",
    "                # select window\n",
    "                len_ = len(signal)\n",
    "                signal_window = signal[\n",
    "                    -self.window_length\n",
    "                    - self.max_window_idx\n",
    "                    + window_idx\n",
    "                    - 1 : -self.max_window_idx\n",
    "                    + window_idx\n",
    "                    - 1\n",
    "                ]\n",
    "                signal_window = np.expand_dims(signal_window, axis=1)\n",
    "                signals_windows = np.append(signals_windows, signal_window, axis=1)\n",
    "\n",
    "            t_window = moving_window(t, window_length, step)\n",
    "            t_window = t_window[window_idx]\n",
    "            # Create labels\n",
    "\n",
    "            label = np.array([0])\n",
    "\n",
    "        # Fault Event\n",
    "        elif \"F_T\" in self.csv_list[csv_idx]:\n",
    "            # For faults indices 0 and 1 don't contain fault events.\n",
    "            for signal_name in self.signal_names:\n",
    "                signal, t, _ = CSV_pandas_path(csv_full_path).load_data(signal_name)\n",
    "                # select window\n",
    "                signal_window = signal[\n",
    "                    -self.window_length\n",
    "                    - self.max_window_idx\n",
    "                    + window_idx : -self.max_window_idx\n",
    "                    + window_idx\n",
    "                ]\n",
    "                signal_window = np.expand_dims(signal_window, axis=1)\n",
    "                signals_windows = np.append(signals_windows, signal_window, axis=1)\n",
    "\n",
    "            t_window = moving_window(t, window_length, step)\n",
    "            t_window = t_window[window_idx]\n",
    "            # Create labels\n",
    "            label = np.array([1])\n",
    "\n",
    "        signals_windows = torch.from_numpy(np.copy(signals_windows)).float()\n",
    "        label = torch.from_numpy(label).float()\n",
    "        # For Dataset Visualization\n",
    "        if data_plot == True:\n",
    "            return signals_windows.reshape(-1).numpy(), t_window\n",
    "        if self.test == True:\n",
    "            return signals_windows, t_window, label, csv_name, index, window_idx\n",
    "\n",
    "        return signals_windows, label\n",
    "\n",
    "    def get_event(self, csv_idx):\n",
    "        # Get indices\n",
    "        idx_min = csv_idx * self.max_window_idx\n",
    "        idx_max = ((csv_idx + 1) * self.max_window_idx) - 1\n",
    "\n",
    "        # Get path of csv_index\n",
    "        csv_full_path = f\"{self.dataset_dir}\\{self.csv_list[csv_idx]}\"\n",
    "\n",
    "        # Load CSV, signal and create windows\n",
    "        csv_name = os.path.basename(csv_full_path)\n",
    "        signals = np.zeros((0, 0))\n",
    "        for idx, signal_name in enumerate(self.signal_names):\n",
    "            signal, t, _ = CSV_pandas_path(csv_full_path).load_data(signal_name)\n",
    "            signal = np.expand_dims(signal, axis=1)\n",
    "            if idx == 0:\n",
    "                signals = np.empty((len(signal), 0))\n",
    "            signals = np.append(signals, signal, axis=1)\n",
    "        signal = signals\n",
    "        return signal, t, idx_min, idx_max, csv_name\n",
    "\n",
    "    def len_events(self):\n",
    "        return self.csv_amount\n",
    "\n",
    "    def __len__(self):\n",
    "        return self.csv_amount * self.max_window_idx"
   ]
  },
  {
   "attachments": {},
   "cell_type": "markdown",
   "metadata": {},
   "source": [
    "##### 4.2. Database Directory Creation "
   ]
  },
  {
   "attachments": {},
   "cell_type": "markdown",
   "metadata": {},
   "source": [
    "##### 4.3. Dataset and Dataloader Instances Creation"
   ]
  },
  {
   "cell_type": "code",
   "execution_count": 44,
   "metadata": {},
   "outputs": [
    {
     "name": "stdout",
     "output_type": "stream",
     "text": [
      "5071\n"
     ]
    }
   ],
   "source": [
    "dataset_dir = \"C:/Users/Administrador/OneDrive - Universidad del Norte/Uninorte/DetectionDataBase/LSTM_SEM\"\n",
    "max_window_idx = 62\n",
    "\n",
    "# Load Dataset\n",
    "current_R1A = \"I: X0023A-R1A\"\n",
    "current_R1B = \"I: X0023B-R1B\"\n",
    "current_R1C = \"I: X0023C-R1C\"\n",
    "current_R2A = \"I: X0004A-R2A\"\n",
    "current_R2B = \"I: X0004B-R2B\"\n",
    "current_R2C = \"I: X0004C-R2C\"\n",
    "current_R3A = \"I: X0071A-R3A\"\n",
    "current_R3B = \"I: X0071B-R3B\"\n",
    "current_R3C = \"I: X0071C-R3C\"\n",
    "\n",
    "voltage_R1A = \"V: R1A\"\n",
    "voltage_R1B = \"V: R1B\"\n",
    "voltage_R1C = \"V: R1C\"\n",
    "signal_names = [current_R3A, current_R3B, current_R3C]\n",
    "\n",
    "dataset = Form1Dataset(\n",
    "    dataset_dir, max_window_idx=max_window_idx, signal_names=signal_names\n",
    ")\n",
    "# dataset.get_events(0)\n",
    "train_dataset, test_dataset, _ = random_split(dataset, [0.06, 0.05, 0.89])\n",
    "\n",
    "# train_dataset = Form1Dataset(\n",
    "#     dataset_dir, max_window_idx=max_window_idx, signal_names=signal_names, dataset_size=20\n",
    "# )\n",
    "# test_dataset = Form1Dataset(\n",
    "#     dataset_dir, max_window_idx=max_window_idx, signal_names=signal_names,   dataset_size=15\n",
    "# )\n",
    "train_dataloader = DataLoader(train_dataset, batch_size=train_batch_size, shuffle=True)\n",
    "test_dataloader = DataLoader(test_dataset, batch_size=test_batch_size, shuffle=True)\n",
    "print(len(train_dataset))\n",
    "# print(len(test_dataset))\n",
    "# EL test set realmente es un dev set\n",
    "# Como regla general, si es utilizado dentro del loop es un dev set."
   ]
  },
  {
   "attachments": {},
   "cell_type": "markdown",
   "metadata": {},
   "source": [
    "### 5. Model Training\n"
   ]
  },
  {
   "attachments": {},
   "cell_type": "markdown",
   "metadata": {},
   "source": [
    "##### 5.1. Train / Test(dev) Loop Creation"
   ]
  },
  {
   "cell_type": "code",
   "execution_count": 45,
   "metadata": {},
   "outputs": [],
   "source": [
    "# Create Training / Test / Validation Loops\n",
    "\n",
    "\n",
    "# Training\n",
    "def train(dataloader, model, loss_fn, optimizer, return_loss=False):\n",
    "    size = len(dataloader.dataset)\n",
    "    model.train()\n",
    "    loss_list = []\n",
    "\n",
    "    for batch, (x, y) in enumerate(dataloader):\n",
    "        x, y = x.to(device), y.to(device)\n",
    "\n",
    "        # Compute prediction error\n",
    "        pred = model(x)\n",
    "        loss = loss_fn(pred, y)\n",
    "\n",
    "        # Backpropagation\n",
    "        optimizer.zero_grad()\n",
    "        loss.backward()\n",
    "        optimizer.step()\n",
    "        if return_loss == True:\n",
    "            loss_list.append(loss.item())\n",
    "        if batch % 2 == 0:\n",
    "            loss, current = loss.item(), batch * len(x)\n",
    "            print(f\"loss: {loss:>f} [{current:>5d}/{size:>5d}]\")\n",
    "\n",
    "        if batch % 5 == 0:\n",
    "            my_lr_scheduler.step()\n",
    "    if return_loss == True:\n",
    "        return loss_list\n",
    "\n",
    "\n",
    "from torchmetrics.functional.classification import binary_stat_scores\n",
    "\n",
    "\n",
    "def test_metrics(dataloader, model, loss_fn, return_metrics=False):\n",
    "    size = len(dataloader.dataset)\n",
    "    num_batches = len(dataloader)\n",
    "    conf_matrix = torch.zeros(1, 5, dtype=torch.int64).to(device)\n",
    "    model.eval()\n",
    "    test_loss, correct = 0, 0\n",
    "    with torch.no_grad():\n",
    "        for x, y in tqdm(dataloader):\n",
    "            x, y = x.to(device), y.to(device)\n",
    "            pred = model(x)\n",
    "\n",
    "            conf_matrix = conf_matrix.add(binary_stat_scores(pred, y))\n",
    "            test_loss += loss_fn(pred, y).item()\n",
    "            correct += (torch.round(pred) == y).type(torch.float).sum().item()\n",
    "\n",
    "    test_loss /= num_batches\n",
    "    acc = (conf_matrix[0, 0] + conf_matrix[0, 2]) / conf_matrix[0, :-1].sum()\n",
    "    correct /= size\n",
    "    print(f\"{correct*100:>0.1f}\")\n",
    "    print(f\"Test Error: \\n Accuracy: {(100*acc):>0.1f}%, Avg loss: {test_loss:>8f} \\n\")\n",
    "    if return_metrics == True:\n",
    "        return conf_matrix, test_loss"
   ]
  },
  {
   "attachments": {},
   "cell_type": "markdown",
   "metadata": {},
   "source": [
    "##### 5.2. Training the model"
   ]
  },
  {
   "cell_type": "code",
   "execution_count": 47,
   "metadata": {},
   "outputs": [
    {
     "name": "stdout",
     "output_type": "stream",
     "text": [
      "Epoch 1\n",
      "--------------------------------\n",
      "loss: 0.694110 [    0/ 5071]\n",
      "loss: 0.660330 [  128/ 5071]\n",
      "loss: 0.627075 [  256/ 5071]\n",
      "loss: 0.630431 [  384/ 5071]\n",
      "loss: 0.606575 [  512/ 5071]\n",
      "loss: 0.573587 [  640/ 5071]\n",
      "loss: 0.551356 [  768/ 5071]\n",
      "loss: 0.519215 [  896/ 5071]\n",
      "loss: 0.514319 [ 1024/ 5071]\n",
      "loss: 0.483780 [ 1152/ 5071]\n",
      "loss: 0.476620 [ 1280/ 5071]\n",
      "loss: 0.425265 [ 1408/ 5071]\n",
      "loss: 0.408780 [ 1536/ 5071]\n",
      "loss: 0.364958 [ 1664/ 5071]\n",
      "loss: 0.379066 [ 1792/ 5071]\n",
      "loss: 0.362820 [ 1920/ 5071]\n",
      "loss: 0.387508 [ 2048/ 5071]\n",
      "loss: 0.278546 [ 2176/ 5071]\n",
      "loss: 0.307539 [ 2304/ 5071]\n",
      "loss: 0.289625 [ 2432/ 5071]\n",
      "loss: 0.274080 [ 2560/ 5071]\n",
      "loss: 0.261678 [ 2688/ 5071]\n",
      "loss: 0.220692 [ 2816/ 5071]\n",
      "loss: 0.232433 [ 2944/ 5071]\n",
      "loss: 0.197046 [ 3072/ 5071]\n",
      "loss: 0.172149 [ 3200/ 5071]\n",
      "loss: 0.142566 [ 3328/ 5071]\n",
      "loss: 0.160875 [ 3456/ 5071]\n",
      "loss: 0.239636 [ 3584/ 5071]\n",
      "loss: 0.114226 [ 3712/ 5071]\n",
      "loss: 0.173110 [ 3840/ 5071]\n",
      "loss: 0.124837 [ 3968/ 5071]\n",
      "loss: 0.094624 [ 4096/ 5071]\n",
      "loss: 0.125233 [ 4224/ 5071]\n",
      "loss: 0.228797 [ 4352/ 5071]\n",
      "loss: 0.102545 [ 4480/ 5071]\n",
      "loss: 0.123322 [ 4608/ 5071]\n",
      "loss: 0.240764 [ 4736/ 5071]\n",
      "loss: 0.116092 [ 4864/ 5071]\n",
      "loss: 0.128114 [ 4992/ 5071]\n"
     ]
    },
    {
     "name": "stderr",
     "output_type": "stream",
     "text": [
      "100%|██████████| 265/265 [12:32<00:00,  2.84s/it]"
     ]
    },
    {
     "name": "stdout",
     "output_type": "stream",
     "text": [
      "97.4\n",
      "Test Error: \n",
      " Accuracy: 97.4%, Avg loss: 0.126419 \n",
      "\n",
      "tensor([[2358,   21, 1756,   90, 2448]])\n"
     ]
    },
    {
     "name": "stderr",
     "output_type": "stream",
     "text": [
      "\n"
     ]
    }
   ],
   "source": [
    "# model.load_state_dict(torch.load('models\\LSTMHarmonic_weights_R1Currents.pth'))\n",
    "# model.load_state_dict(torch.load(\"./models/LSTMHarmonic_weights_R1_996.pth\"))\n",
    "# model.load_state_dict(torch.load('./models/LSTMHarmonic_weights_R2_978.pth'))\n",
    "# model.load_state_dict(torch.load('./models/R2Currents_DB2.pth'))\n",
    "epochs = 1\n",
    "\n",
    "for epoch in range(epochs):\n",
    "\n",
    "    print(f\"Epoch {epoch+1}\\n--------------------------------\")\n",
    "    train_loss = train(train_dataloader, model, loss_fn, optimizer, return_loss=True)\n",
    "    # accuracy, _ = test(test_dataloader, model, loss_fn, return_metrics=True)\n",
    "    conf_matrix, _ = test_metrics(test_dataloader, model, loss_fn, return_metrics=True)\n",
    "print(conf_matrix)\n"
   ]
  },
  {
   "cell_type": "code",
   "execution_count": 37,
   "metadata": {},
   "outputs": [
    {
     "name": "stdout",
     "output_type": "stream",
     "text": [
      "No se puede obtener PPV, división por cero\n",
      "100.0\n",
      "tensor([[ 0,  0, 62,  0,  0],\n",
      "        [61,  0,  0,  1, 62],\n",
      "        [ 0,  6, 56,  0,  0],\n",
      "        [ 0,  0, 62,  0,  0]], device='cuda:0')\n"
     ]
    }
   ],
   "source": [
    "def conf_matrix_metrics(conf_matrix: torch.LongTensor) -> dict:\n",
    "    \"\"\"\n",
    "    Returns dictionary with metrics from a confusion matrix.\n",
    "\n",
    "            Parameters:\n",
    "                    conf_matrix (torch.Tensor): confusion matrix of dimension (1, 5)\n",
    "                        [TP, FP, TN, FN, TP + FN]\n",
    "\n",
    "            Returns:\n",
    "                    metrics (dict): dictionary with following metrics:\n",
    "                        metrics[\"TOTAL\"] -> total amount of samples.\n",
    "                        metrics[\"TPR\"]   -> True Positive Rate,  sensibility, recall, hit-rate.\n",
    "                        metrics[\"FPR\"]   -> False Positive Rate, Fallout.\n",
    "                        metrics[\"TNR\"]   -> True Negative Rate,  specificity, selectivity\n",
    "                        metrics[\"ACC\"]   -> Accuracy.\n",
    "                        metrics[\"PPV\"]   -> Positive Predictive Value, Precision.\n",
    "    \"\"\"\n",
    "    if conf_matrix.shape == (5,):\n",
    "        conf_matrix = np.expand_dims(conf_matrix, axis=0)\n",
    "\n",
    "    metrics = {}\n",
    "    TP = int(conf_matrix[0, 0].item())\n",
    "    FP = int(conf_matrix[0, 1].item())\n",
    "    TN = int(conf_matrix[0, 2].item())\n",
    "    FN = int(conf_matrix[0, 3].item())\n",
    "    metrics[\"TP\"] = TP\n",
    "    metrics[\"FP\"] = FP\n",
    "    metrics[\"TN\"] = TN\n",
    "    metrics[\"FN\"] = FN\n",
    "    P = TP + FN\n",
    "    N = TN + FP\n",
    "    TOTAL = TP + FP + TN + FN\n",
    "    metrics[\"TOTAL\"] = TOTAL\n",
    "    try:\n",
    "        metrics[\"TPR\"] = TP / (TP + FN)\n",
    "    except ZeroDivisionError:\n",
    "        metrics[\"TPR\"] = \"ZeroDivisionError\"\n",
    "    try:\n",
    "        metrics[\"FPR\"] = FP / (FP + TN)\n",
    "        metrics[\"TNR\"] = TN / (FP + TN)\n",
    "    except ZeroDivisionError:\n",
    "        metrics[\"FPR\"] = \"ZeroDivisionError\"\n",
    "        metrics[\"TNR\"] = \"ZeroDivisionError\"\n",
    "    metrics[\"ACC\"] = (TP + TN) / (TOTAL)\n",
    "    try:\n",
    "        metrics[\"PPV\"] = TP / (TP + FP)\n",
    "    except ZeroDivisionError:\n",
    "        print(\"No se puede obtener PPV, división por cero\")\n",
    "    return metrics\n",
    "\n",
    "\n",
    "metrics = conf_matrix_metrics(conf_matrix)\n",
    "print(round(metrics[\"ACC\"] * 100, 1))\n",
    "print(conf_matrix)\n"
   ]
  },
  {
   "attachments": {},
   "cell_type": "markdown",
   "metadata": {},
   "source": [
    "##### 5.3. Training loss visualization"
   ]
  },
  {
   "cell_type": "code",
   "execution_count": 9,
   "metadata": {},
   "outputs": [
    {
     "name": "stdout",
     "output_type": "stream",
     "text": [
      "Error! Run train loop\n"
     ]
    }
   ],
   "source": [
    "try:\n",
    "    mini_batch_list = [index for index, _ in enumerate(train_loss)]\n",
    "    train_loss_ewm = pd.DataFrame(train_loss).ewm(com=0.95).mean()\n",
    "    plt.plot(mini_batch_list, train_loss, \n",
    "    mini_batch_list, train_loss_ewm)\n",
    "except NameError:\n",
    "    print(\"Error! Run train loop\")\n"
   ]
  },
  {
   "attachments": {},
   "cell_type": "markdown",
   "metadata": {},
   "source": [
    "##### 5.4. Saving the Model"
   ]
  },
  {
   "cell_type": "code",
   "execution_count": 38,
   "metadata": {},
   "outputs": [
    {
     "data": {
      "text/plain": [
       "<All keys matched successfully>"
      ]
     },
     "execution_count": 38,
     "metadata": {},
     "output_type": "execute_result"
    }
   ],
   "source": [
    "# # Save the Model\n",
    "model.load_state_dict(torch.load('./models/R2Currents_DB2_V2.pth'))\n",
    "# torch.save(model.state_dict(), './models/R2Currents_DB2_62WDW.pth')\n"
   ]
  },
  {
   "attachments": {},
   "cell_type": "markdown",
   "metadata": {},
   "source": [
    "### 6. Results Visualization\n"
   ]
  },
  {
   "attachments": {},
   "cell_type": "markdown",
   "metadata": {},
   "source": [
    "#### 6.1. Confussion Matrix Results Table Function"
   ]
  },
  {
   "cell_type": "code",
   "execution_count": 39,
   "metadata": {},
   "outputs": [],
   "source": [
    "# Data visualization (CPU)\n",
    "\n",
    "\n",
    "def confusion_matrix_labels(pred_label, true_label):\n",
    "    label = \"\"\n",
    "    if int(pred_label) == int(true_label):\n",
    "        label += \"T\"\n",
    "    else:\n",
    "        label += \"F\"\n",
    "    if pred_label == 1:\n",
    "        label += \"P\"\n",
    "    else:\n",
    "        label += \"N\"\n",
    "    return label\n",
    "\n",
    "\n",
    "confusion_matrix_pandas = np.vectorize(confusion_matrix_labels)\n",
    "\n",
    "\n",
    "def confusion_matrix(\n",
    "    preds: torch.FloatTensor, labels: torch.FloatTensor\n",
    ") -> pd.DataFrame:\n",
    "    preds = preds.detach()\n",
    "    labels = labels.detach()\n",
    "    data = {\n",
    "        \"Pred probability\": torch.reshape(preds, (-1,)).cpu().numpy(),\n",
    "        \"Pred label\": torch.reshape(torch.round(preds), (-1,)).int().cpu().numpy(),\n",
    "        \"True label\": torch.reshape(labels, (-1,)).int().cpu().numpy(),\n",
    "    }\n",
    "    df = pd.DataFrame(data)\n",
    "    df[\"Result\"] = confusion_matrix_pandas(df[\"Pred label\"], df[\"True label\"])\n",
    "    return df\n"
   ]
  },
  {
   "attachments": {},
   "cell_type": "markdown",
   "metadata": {},
   "source": [
    "##### 6.2. Plotly Plot"
   ]
  },
  {
   "cell_type": "code",
   "execution_count": 12,
   "metadata": {},
   "outputs": [
    {
     "name": "stderr",
     "output_type": "stream",
     "text": [
      "c:\\Users\\aherrada\\Documents\\GIT\\PyTorch\\env\\lib\\site-packages\\torch\\utils\\data\\_utils\\collate.py:172: UserWarning: The given NumPy array is not writable, and PyTorch does not support non-writable tensors. This means writing to this tensor will result in undefined behavior. You may want to copy the array to protect its data or make it writable before converting it to a tensor. This type of warning will be suppressed for the rest of this program. (Triggered internally at C:\\actions-runner\\_work\\pytorch\\pytorch\\builder\\windows\\pytorch\\torch\\csrc\\utils\\tensor_numpy.cpp:205.)\n",
      "  return collate([torch.as_tensor(b) for b in batch], collate_fn_map=collate_fn_map)\n"
     ]
    },
    {
     "name": "stdout",
     "output_type": "stream",
     "text": [
      "64\n",
      "torch.Size([64])\n",
      "torch.Size([64, 1])\n",
      "torch.FloatTensor\n",
      "<class 'pandas.core.frame.DataFrame'>\n",
      "   Pred probability  Pred label  True label Result\n",
      "0          0.944541           1           1     TP\n",
      "1          0.465749           0           0     TN\n",
      "2          0.781689           1           1     TP\n",
      "3          0.831622           1           0     FP\n",
      "4          0.445445           0           0     TN\n",
      "5          0.744722           1           0     FP\n",
      "6          0.129759           0           0     TN\n",
      "7          0.111318           0           0     TN\n",
      "8          0.223580           0           0     TN\n"
     ]
    },
    {
     "data": {
      "application/vnd.plotly.v1+json": {
       "config": {
        "plotlyServerURL": "https://plot.ly"
       },
       "data": [
        {
         "marker": {
          "color": "black"
         },
         "name": "Fault - 12 - Fault07_B860_RF80.00001_L061.63.csv",
         "type": "scatter",
         "x": [
          0.0031248,
          0.0033852,
          0.0036456,
          0.003906,
          0.0041664,
          0.0044268,
          0.0046872,
          0.0049476,
          0.005208,
          0.0054684,
          0.0057288,
          0.0059892,
          0.0062496,
          0.00651,
          0.0067704,
          0.0070308,
          0.0072912,
          0.0075516,
          0.007812,
          0.0080724,
          0.0083328,
          0.0085932,
          0.0088536,
          0.009114,
          0.0093744,
          0.0096348,
          0.0098952,
          0.0101556,
          0.010416,
          0.0106764,
          0.0109368,
          0.0111972,
          0.0114576,
          0.011718,
          0.0119784,
          0.0122388,
          0.0124992,
          0.0127596,
          0.01302,
          0.0132804,
          0.0135408,
          0.0138012,
          0.0140616,
          0.014322,
          0.0145824,
          0.0148428,
          0.0151032,
          0.0153636,
          0.015624,
          0.0158844,
          0.0161448,
          0.0164052,
          0.0166656,
          0.016926,
          0.0171864,
          0.0174468,
          0.0177072,
          0.0179676,
          0.018228,
          0.0184884,
          0.0187488,
          0.0190092,
          0.0192696,
          0.01953
         ],
         "xaxis": "x",
         "y": [
          -27.76029396057129,
          -26.76548957824707,
          -25.354101181030273,
          -23.665143966674805,
          -21.86855125427246,
          -19.825538635253906,
          -17.689237594604492,
          -15.076566696166992,
          -12.362959861755371,
          -9.636861801147461,
          -6.935556411743164,
          -4.249753475189209,
          -1.4790266752243042,
          1.4885462522506714,
          4.404626369476318,
          7.207244396209717,
          9.811875343322754,
          12.464508056640625,
          15.050788879394531,
          17.52920913696289,
          19.676618576049805,
          21.677127838134766,
          23.532806396484375,
          25.155410766601562,
          26.574813842773438,
          27.709665298461914,
          28.595598220825195,
          29.250871658325195,
          29.530162811279297,
          29.558427810668945,
          29.199949264526367,
          28.6007137298584,
          27.783639907836914,
          26.89754867553711,
          25.585111618041992,
          23.918264389038086,
          22.021137237548828,
          19.95746421813965,
          17.761962890625,
          15.1814603805542,
          12.501848220825195,
          9.850878715515137,
          7.131530284881592,
          4.3880767822265625,
          1.5523158311843872,
          -1.3666002750396729,
          -4.259586811065674,
          -7.026769161224365,
          -9.681253433227539,
          -12.353460311889648,
          -14.989964485168457,
          -26.013978958129883,
          -91.07630157470703,
          -108.33580017089844,
          -105.05870056152344,
          -138.07005310058594,
          -150.0909423828125,
          -133.0917205810547,
          -140.88772583007812,
          -150.1734619140625,
          -130.3558807373047,
          -128.68502807617188,
          -123.70130920410156,
          -103.77835845947266
         ],
         "yaxis": "y"
        },
        {
         "marker": {
          "color": "black"
         },
         "name": "No Fault - 36 - L110.52_110.93.csv",
         "type": "scatter",
         "x": [
          0.0093744,
          0.0096348,
          0.0098952,
          0.0101556,
          0.010416,
          0.0106764,
          0.0109368,
          0.0111972,
          0.0114576,
          0.011718,
          0.0119784,
          0.0122388,
          0.0124992,
          0.0127596,
          0.01302,
          0.0132804,
          0.0135408,
          0.0138012,
          0.0140616,
          0.014322,
          0.0145824,
          0.0148428,
          0.0151032,
          0.0153636,
          0.015624,
          0.0158844,
          0.0161448,
          0.0164052,
          0.0166656,
          0.016926,
          0.0171864,
          0.0174468,
          0.0177072,
          0.0179676,
          0.018228,
          0.0184884,
          0.0187488,
          0.0190092,
          0.0192696,
          0.01953,
          0.0197904,
          0.0200508,
          0.0203112,
          0.0205716,
          0.020832,
          0.0210924,
          0.0213528,
          0.0216132,
          0.0218736,
          0.022134,
          0.0223944,
          0.0226548,
          0.0229152,
          0.0231756,
          0.023436,
          0.0236964,
          0.0239568,
          0.0242172,
          0.0244776,
          0.024738,
          0.0249984,
          0.0252588,
          0.0255192,
          0.0257796
         ],
         "xaxis": "x2",
         "y": [
          -11.090521812438965,
          -6.98858118057251,
          -2.7612719535827637,
          1.5009797811508179,
          6.025476932525635,
          10.439453125,
          14.712102890014648,
          18.41191291809082,
          22.213056564331055,
          25.826065063476562,
          29.54867172241211,
          32.717185974121094,
          35.4920768737793,
          37.79123306274414,
          39.9552116394043,
          41.59429931640625,
          42.45375061035156,
          43.168701171875,
          44.09601593017578,
          44.57314682006836,
          44.65079116821289,
          43.624080657958984,
          42.0087890625,
          40.12967300415039,
          38.242942810058594,
          36.67145538330078,
          34.24644470214844,
          31.173290252685547,
          27.340137481689453,
          23.42914581298828,
          19.75748634338379,
          16.049848556518555,
          12.235679626464844,
          8.058637619018555,
          3.353769063949585,
          -1.2312034368515015,
          -5.640156269073486,
          -9.564604759216309,
          -13.442834854125977,
          -17.3425350189209,
          -21.465633392333984,
          -25.465499877929688,
          -29.046005249023438,
          -32.00026321411133,
          -34.57901382446289,
          -37.02861022949219,
          -39.48774719238281,
          -41.4451904296875,
          -42.95235824584961,
          -43.763511657714844,
          -44.326602935791016,
          -44.49095916748047,
          -44.30040740966797,
          -43.58287048339844,
          -42.484519958496094,
          -40.85835266113281,
          -38.940921783447266,
          -36.725223541259766,
          -34.02717208862305,
          -30.972013473510742,
          -27.688779830932617,
          -24.233352661132812,
          -20.522287368774414,
          -16.3964786529541
         ],
         "yaxis": "y2"
        },
        {
         "marker": {
          "color": "black"
         },
         "name": "Fault - 47 - Fault10_B806_RF1e-05_L104.88.csv",
         "type": "scatter",
         "x": [
          0.0122388,
          0.0124992,
          0.0127596,
          0.01302,
          0.0132804,
          0.0135408,
          0.0138012,
          0.0140616,
          0.014322,
          0.0145824,
          0.0148428,
          0.0151032,
          0.0153636,
          0.015624,
          0.0158844,
          0.0161448,
          0.0164052,
          0.0166656,
          0.016926,
          0.0171864,
          0.0174468,
          0.0177072,
          0.0179676,
          0.018228,
          0.0184884,
          0.0187488,
          0.0190092,
          0.0192696,
          0.01953,
          0.0197904,
          0.0200508,
          0.0203112,
          0.0205716,
          0.020832,
          0.0210924,
          0.0213528,
          0.0216132,
          0.0218736,
          0.022134,
          0.0223944,
          0.0226548,
          0.0229152,
          0.0231756,
          0.023436,
          0.0236964,
          0.0239568,
          0.0242172,
          0.0244776,
          0.024738,
          0.0249984,
          0.0252588,
          0.0255192,
          0.0257796,
          0.02604,
          0.0263004,
          0.0265608,
          0.0268212,
          0.0270816,
          0.027342,
          0.0276024,
          0.0278628,
          0.0281232,
          0.0283836,
          0.028644
         ],
         "xaxis": "x3",
         "y": [
          -31.124006271362305,
          -27.738937377929688,
          -24.280513763427734,
          -20.512516021728516,
          -16.43216896057129,
          -12.15914249420166,
          -7.869454383850098,
          -3.620060443878174,
          0.6684398651123047,
          4.919453144073486,
          9.32144832611084,
          13.548853874206543,
          17.582889556884766,
          21.46303939819336,
          25.143951416015625,
          28.718454360961914,
          128.88014221191406,
          222.25753784179688,
          314.3949279785156,
          421.6763916015625,
          502.87811279296875,
          584.5490112304688,
          675.4578857421875,
          739.6142578125,
          805.9711303710938,
          870.732177734375,
          910.2858276367188,
          957.1571655273438,
          992.6135864257812,
          1002.80859375,
          1023.4368286132812,
          1028.283203125,
          1010.8817138671875,
          1001.4593505859375,
          972.9971923828125,
          931.2982788085938,
          894.8027954101562,
          834.2044677734375,
          769.3577880859375,
          710.1084594726562,
          625.3839111328125,
          541.445556640625,
          461.81378173828125,
          362.07568359375,
          268.7002258300781,
          173.98789978027344,
          65.56718444824219,
          -28.08057975769043,
          -127.22647094726562,
          -236.0596923828125,
          -324.7295227050781,
          -418.37652587890625,
          -515.4243774414062,
          -593.0166625976562,
          -675.5820922851562,
          -751.1774291992188,
          -808.6976928710938,
          -874.0591430664062,
          -924.241943359375,
          -955.7684326171875,
          -995.4205322265625,
          -1017.0265502929688,
          -1022.6431274414062,
          -1031.910888671875
         ],
         "yaxis": "y3"
        },
        {
         "marker": {
          "color": "black"
         },
         "name": "No Fault - 59 - L101.64_098.68.csv",
         "type": "scatter",
         "x": [
          0.0153636,
          0.015624,
          0.0158844,
          0.0161448,
          0.0164052,
          0.0166656,
          0.016926,
          0.0171864,
          0.0174468,
          0.0177072,
          0.0179676,
          0.018228,
          0.0184884,
          0.0187488,
          0.0190092,
          0.0192696,
          0.01953,
          0.0197904,
          0.0200508,
          0.0203112,
          0.0205716,
          0.020832,
          0.0210924,
          0.0213528,
          0.0216132,
          0.0218736,
          0.022134,
          0.0223944,
          0.0226548,
          0.0229152,
          0.0231756,
          0.023436,
          0.0236964,
          0.0239568,
          0.0242172,
          0.0244776,
          0.024738,
          0.0249984,
          0.0252588,
          0.0255192,
          0.0257796,
          0.02604,
          0.0263004,
          0.0265608,
          0.0268212,
          0.0270816,
          0.027342,
          0.0276024,
          0.0278628,
          0.0281232,
          0.0283836,
          0.028644,
          0.0289044,
          0.0291648,
          0.0294252,
          0.0296856,
          0.029946,
          0.0302064,
          0.0304668,
          0.0307272,
          0.0309876,
          0.031248,
          0.0315084,
          0.0317688
         ],
         "xaxis": "x4",
         "y": [
          23.329164505004883,
          27.34383201599121,
          30.733373641967773,
          33.398033142089844,
          35.58333969116211,
          37.97518539428711,
          39.71094512939453,
          40.950565338134766,
          42.09947204589844,
          43.0326042175293,
          43.082305908203125,
          42.23753356933594,
          41.521244049072266,
          41.198360443115234,
          39.90592575073242,
          37.94852066040039,
          35.366355895996094,
          32.688011169433594,
          29.70016860961914,
          26.88347053527832,
          23.943117141723633,
          20.577913284301758,
          15.983399391174316,
          11.339329719543457,
          7.395992755889893,
          3.899376392364502,
          0.13895612955093384,
          -4.051519393920898,
          -8.657601356506348,
          -12.979811668395996,
          -16.983434677124023,
          -20.372243881225586,
          -23.563920974731445,
          -26.92439079284668,
          -30.437503814697266,
          -33.49272155761719,
          -35.850563049316406,
          -37.79343032836914,
          -39.57248306274414,
          -41.05767822265625,
          -42.2378044128418,
          -42.870208740234375,
          -43.287967681884766,
          -42.96512985229492,
          -42.20761489868164,
          -41.12607955932617,
          -39.70302200317383,
          -38.02910232543945,
          -35.970611572265625,
          -33.475502014160156,
          -30.547168731689453,
          -27.239652633666992,
          -23.854217529296875,
          -20.296085357666016,
          -16.523252487182617,
          -12.436570167541504,
          -8.3141450881958,
          -4.102194786071777,
          0.04835071787238121,
          4.170554161071777,
          8.363357543945312,
          12.383030891418457,
          16.260282516479492,
          20.090158462524414
         ],
         "yaxis": "y4"
        },
        {
         "marker": {
          "color": "black"
         },
         "name": "No Fault - 59 - L114.54_110.41.csv",
         "type": "scatter",
         "x": [
          0.0153636,
          0.015624,
          0.0158844,
          0.0161448,
          0.0164052,
          0.0166656,
          0.016926,
          0.0171864,
          0.0174468,
          0.0177072,
          0.0179676,
          0.018228,
          0.0184884,
          0.0187488,
          0.0190092,
          0.0192696,
          0.01953,
          0.0197904,
          0.0200508,
          0.0203112,
          0.0205716,
          0.020832,
          0.0210924,
          0.0213528,
          0.0216132,
          0.0218736,
          0.022134,
          0.0223944,
          0.0226548,
          0.0229152,
          0.0231756,
          0.023436,
          0.0236964,
          0.0239568,
          0.0242172,
          0.0244776,
          0.024738,
          0.0249984,
          0.0252588,
          0.0255192,
          0.0257796,
          0.02604,
          0.0263004,
          0.0265608,
          0.0268212,
          0.0270816,
          0.027342,
          0.0276024,
          0.0278628,
          0.0281232,
          0.0283836,
          0.028644,
          0.0289044,
          0.0291648,
          0.0294252,
          0.0296856,
          0.029946,
          0.0302064,
          0.0304668,
          0.0307272,
          0.0309876,
          0.031248,
          0.0315084,
          0.0317688
         ],
         "xaxis": "x5",
         "y": [
          -40.568077087402344,
          -42.25055694580078,
          -43.92332458496094,
          -45.03499984741211,
          -45.7899169921875,
          -45.892269134521484,
          -45.31632995605469,
          -44.55207061767578,
          -43.53242492675781,
          -41.97697067260742,
          -40.00704574584961,
          -37.59244918823242,
          -34.92158889770508,
          -31.70549964904785,
          -28.310470581054688,
          -24.71701431274414,
          -21.07984161376953,
          -16.727956771850586,
          -12.304591178894043,
          -7.827938079833984,
          -3.6110763549804688,
          0.7271071672439575,
          5.132903099060059,
          9.641297340393066,
          13.975898742675781,
          18.11899185180664,
          22.029632568359375,
          25.574134826660156,
          29.03660774230957,
          32.48297119140625,
          35.58083724975586,
          38.294551849365234,
          40.48780059814453,
          42.28905487060547,
          43.76310348510742,
          44.87598419189453,
          45.61119842529297,
          45.925899505615234,
          45.510169982910156,
          44.686981201171875,
          43.543766021728516,
          42.25201416015625,
          40.641719818115234,
          38.461830139160156,
          35.54359817504883,
          32.150238037109375,
          28.74601936340332,
          25.42616081237793,
          21.9871826171875,
          17.88220977783203,
          13.350738525390625,
          8.632452964782715,
          4.154721736907959,
          -0.03408819064497948,
          -4.115743637084961,
          -8.528993606567383,
          -13.096323013305664,
          -17.53277587890625,
          -21.60479164123535,
          -25.331005096435547,
          -28.784719467163086,
          -32.12310028076172,
          -35.20596694946289,
          -38.063194274902344
         ],
         "yaxis": "y5"
        },
        {
         "marker": {
          "color": "black"
         },
         "name": "No Fault - 27 - L031.63_036.57.csv",
         "type": "scatter",
         "x": [
          0.0070308,
          0.0072912,
          0.0075516,
          0.007812,
          0.0080724,
          0.0083328,
          0.0085932,
          0.0088536,
          0.009114,
          0.0093744,
          0.0096348,
          0.0098952,
          0.0101556,
          0.010416,
          0.0106764,
          0.0109368,
          0.0111972,
          0.0114576,
          0.011718,
          0.0119784,
          0.0122388,
          0.0124992,
          0.0127596,
          0.01302,
          0.0132804,
          0.0135408,
          0.0138012,
          0.0140616,
          0.014322,
          0.0145824,
          0.0148428,
          0.0151032,
          0.0153636,
          0.015624,
          0.0158844,
          0.0161448,
          0.0164052,
          0.0166656,
          0.016926,
          0.0171864,
          0.0174468,
          0.0177072,
          0.0179676,
          0.018228,
          0.0184884,
          0.0187488,
          0.0190092,
          0.0192696,
          0.01953,
          0.0197904,
          0.0200508,
          0.0203112,
          0.0205716,
          0.020832,
          0.0210924,
          0.0213528,
          0.0216132,
          0.0218736,
          0.022134,
          0.0223944,
          0.0226548,
          0.0229152,
          0.0231756,
          0.023436
         ],
         "xaxis": "x6",
         "y": [
          -28.474390029907227,
          -28.502132415771484,
          -28.470773696899414,
          -27.961511611938477,
          -27.512474060058594,
          -26.70130157470703,
          -25.920595169067383,
          -24.21457290649414,
          -22.41069221496582,
          -20.343482971191406,
          -18.40833854675293,
          -16.434587478637695,
          -14.211430549621582,
          -11.565826416015625,
          -8.674360275268555,
          -5.668115139007568,
          -3.1542792320251465,
          -0.6459129452705383,
          1.722296118736267,
          4.429067611694336,
          7.121474742889404,
          10.038558006286621,
          12.681655883789062,
          15.038985252380371,
          16.949609756469727,
          18.85416030883789,
          20.834123611450195,
          22.86495590209961,
          24.419395446777344,
          25.69391632080078,
          26.58975601196289,
          27.365800857543945,
          28.01910972595215,
          28.235279083251953,
          28.2889461517334,
          27.795368194580078,
          27.27255630493164,
          26.47124671936035,
          25.24269676208496,
          23.72865867614746,
          22.21946144104004,
          20.512893676757812,
          18.76504898071289,
          16.87399673461914,
          14.255439758300781,
          11.284920692443848,
          8.592771530151367,
          6.150829792022705,
          3.9210450649261475,
          1.2567616701126099,
          -1.54597008228302,
          -4.488293647766113,
          -7.3018059730529785,
          -9.858572959899902,
          -12.220389366149902,
          -14.526554107666016,
          -16.861709594726562,
          -19.09945297241211,
          -21.048261642456055,
          -22.908666610717773,
          -24.345003128051758,
          -25.64959144592285,
          -26.676776885986328,
          -27.562450408935547
         ],
         "yaxis": "y6"
        },
        {
         "marker": {
          "color": "black"
         },
         "name": "No Fault - 8 - L082.05_086.25.csv",
         "type": "scatter",
         "x": [
          0.0020832,
          0.0023436,
          0.002604,
          0.0028644,
          0.0031248,
          0.0033852,
          0.0036456,
          0.003906,
          0.0041664,
          0.0044268,
          0.0046872,
          0.0049476,
          0.005208,
          0.0054684,
          0.0057288,
          0.0059892,
          0.0062496,
          0.00651,
          0.0067704,
          0.0070308,
          0.0072912,
          0.0075516,
          0.007812,
          0.0080724,
          0.0083328,
          0.0085932,
          0.0088536,
          0.009114,
          0.0093744,
          0.0096348,
          0.0098952,
          0.0101556,
          0.010416,
          0.0106764,
          0.0109368,
          0.0111972,
          0.0114576,
          0.011718,
          0.0119784,
          0.0122388,
          0.0124992,
          0.0127596,
          0.01302,
          0.0132804,
          0.0135408,
          0.0138012,
          0.0140616,
          0.014322,
          0.0145824,
          0.0148428,
          0.0151032,
          0.0153636,
          0.015624,
          0.0158844,
          0.0161448,
          0.0164052,
          0.0166656,
          0.016926,
          0.0171864,
          0.0174468,
          0.0177072,
          0.0179676,
          0.018228,
          0.0184884
         ],
         "xaxis": "x7",
         "y": [
          -27.23053741455078,
          -23.771503448486328,
          -20.101146697998047,
          -16.24034309387207,
          -12.842418670654297,
          -9.748333930969238,
          -6.687093257904053,
          -2.7922916412353516,
          1.6800904273986816,
          5.95448112487793,
          9.596152305603027,
          12.639461517333984,
          15.681416511535645,
          19.096818923950195,
          22.72287368774414,
          26.233875274658203,
          28.98386573791504,
          31.00164031982422,
          32.8043327331543,
          34.812522888183594,
          36.732147216796875,
          38.19594192504883,
          38.86072540283203,
          39.31914138793945,
          39.2794189453125,
          39.09053039550781,
          38.29988098144531,
          37.388526916503906,
          35.999168395996094,
          34.388099670410156,
          32.34337615966797,
          29.85378074645996,
          27.036880493164062,
          24.160850524902344,
          21.083831787109375,
          17.830163955688477,
          14.149421691894531,
          10.395302772521973,
          6.544600486755371,
          2.8061370849609375,
          -0.9423930644989014,
          -4.646817684173584,
          -8.483574867248535,
          -12.175039291381836,
          -15.806696891784668,
          -19.211610794067383,
          -22.525524139404297,
          -25.499011993408203,
          -28.310245513916016,
          -30.792030334472656,
          -33.09614562988281,
          -35.0900993347168,
          -36.67414855957031,
          -37.95701217651367,
          -38.79295349121094,
          -39.40286636352539,
          -39.144142150878906,
          -38.55105972290039,
          -37.57624816894531,
          -36.86893844604492,
          -35.7131233215332,
          -33.96585464477539,
          -31.794818878173828,
          -29.12481117248535
         ],
         "yaxis": "y7"
        },
        {
         "marker": {
          "color": "black"
         },
         "name": "No Fault - 6 - L045.64_044.02.csv",
         "type": "scatter",
         "x": [
          0.0015624,
          0.0018228,
          0.0020832,
          0.0023436,
          0.002604,
          0.0028644,
          0.0031248,
          0.0033852,
          0.0036456,
          0.003906,
          0.0041664,
          0.0044268,
          0.0046872,
          0.0049476,
          0.005208,
          0.0054684,
          0.0057288,
          0.0059892,
          0.0062496,
          0.00651,
          0.0067704,
          0.0070308,
          0.0072912,
          0.0075516,
          0.007812,
          0.0080724,
          0.0083328,
          0.0085932,
          0.0088536,
          0.009114,
          0.0093744,
          0.0096348,
          0.0098952,
          0.0101556,
          0.010416,
          0.0106764,
          0.0109368,
          0.0111972,
          0.0114576,
          0.011718,
          0.0119784,
          0.0122388,
          0.0124992,
          0.0127596,
          0.01302,
          0.0132804,
          0.0135408,
          0.0138012,
          0.0140616,
          0.014322,
          0.0145824,
          0.0148428,
          0.0151032,
          0.0153636,
          0.015624,
          0.0158844,
          0.0161448,
          0.0164052,
          0.0166656,
          0.016926,
          0.0171864,
          0.0174468,
          0.0177072,
          0.0179676
         ],
         "xaxis": "x8",
         "y": [
          7.954873561859131,
          11.922237396240234,
          14.827767372131348,
          16.726713180541992,
          18.490476608276367,
          20.734216690063477,
          23.4849910736084,
          26.083206176757812,
          27.883983612060547,
          28.995866775512695,
          29.75011444091797,
          30.579370498657227,
          31.284013748168945,
          31.931488037109375,
          31.934253692626953,
          31.735111236572266,
          30.812623977661133,
          29.751422882080078,
          28.36912727355957,
          27.038427352905273,
          25.412612915039062,
          23.708202362060547,
          21.544981002807617,
          19.032548904418945,
          15.9265718460083,
          13.003106117248535,
          10.15786361694336,
          7.7773051261901855,
          4.991974353790283,
          2.00773286819458,
          -1.4153516292572021,
          -4.754988193511963,
          -7.7054033279418945,
          -10.180004119873047,
          -12.734577178955078,
          -15.378812789916992,
          -18.385393142700195,
          -20.865800857543945,
          -23.11117172241211,
          -24.73619270324707,
          -26.46866226196289,
          -27.93920135498047,
          -29.407379150390625,
          -30.436058044433594,
          -31.163169860839844,
          -31.48651123046875,
          -31.47138023376465,
          -31.143774032592773,
          -30.58159637451172,
          -29.780235290527344,
          -28.83573341369629,
          -27.562000274658203,
          -25.776046752929688,
          -23.76975440979004,
          -21.480714797973633,
          -19.158348083496094,
          -16.480283737182617,
          -13.796987533569336,
          -10.893391609191895,
          -8.087584495544434,
          -5.000339984893799,
          -1.9455115795135498,
          1.1687670946121216,
          4.260462760925293
         ],
         "yaxis": "y8"
        },
        {
         "marker": {
          "color": "black"
         },
         "name": "No Fault - 45 - L083.04_087.75.csv",
         "type": "scatter",
         "x": [
          0.011718,
          0.0119784,
          0.0122388,
          0.0124992,
          0.0127596,
          0.01302,
          0.0132804,
          0.0135408,
          0.0138012,
          0.0140616,
          0.014322,
          0.0145824,
          0.0148428,
          0.0151032,
          0.0153636,
          0.015624,
          0.0158844,
          0.0161448,
          0.0164052,
          0.0166656,
          0.016926,
          0.0171864,
          0.0174468,
          0.0177072,
          0.0179676,
          0.018228,
          0.0184884,
          0.0187488,
          0.0190092,
          0.0192696,
          0.01953,
          0.0197904,
          0.0200508,
          0.0203112,
          0.0205716,
          0.020832,
          0.0210924,
          0.0213528,
          0.0216132,
          0.0218736,
          0.022134,
          0.0223944,
          0.0226548,
          0.0229152,
          0.0231756,
          0.023436,
          0.0236964,
          0.0239568,
          0.0242172,
          0.0244776,
          0.024738,
          0.0249984,
          0.0252588,
          0.0255192,
          0.0257796,
          0.02604,
          0.0263004,
          0.0265608,
          0.0268212,
          0.0270816,
          0.027342,
          0.0276024,
          0.0278628,
          0.0281232
         ],
         "xaxis": "x9",
         "y": [
          -39.22391128540039,
          -39.448524475097656,
          -39.06367111206055,
          -38.283084869384766,
          -37.01206970214844,
          -35.51715850830078,
          -33.77933120727539,
          -31.684267044067383,
          -29.15838623046875,
          -26.412464141845703,
          -23.390329360961914,
          -20.197078704833984,
          -16.644880294799805,
          -12.894618034362793,
          -9.238102912902832,
          -5.438554763793945,
          -1.7438602447509766,
          2.1074390411376953,
          6.000465393066406,
          9.867982864379883,
          13.517303466796875,
          16.98444938659668,
          20.343517303466797,
          23.6614933013916,
          26.733291625976562,
          29.47762680053711,
          31.855587005615234,
          34.05698776245117,
          35.88674545288086,
          37.495052337646484,
          38.61561965942383,
          39.470027923583984,
          39.847408294677734,
          39.89415740966797,
          39.448936462402344,
          38.69036102294922,
          37.484535217285156,
          36.04241180419922,
          34.303836822509766,
          32.21952819824219,
          29.570314407348633,
          26.74622344970703,
          23.732681274414062,
          20.631778717041016,
          17.070011138916016,
          13.310323715209961,
          9.564558029174805,
          5.750113010406494,
          1.979884147644043,
          -1.8559648990631104,
          -5.727254390716553,
          -9.571475982666016,
          -13.295275688171387,
          -16.827795028686523,
          -20.255146026611328,
          -23.529335021972656,
          -26.64785385131836,
          -29.386865615844727,
          -31.829113006591797,
          -34.068115234375,
          -35.96980285644531,
          -37.58559036254883,
          -38.7395133972168,
          -39.55775451660156
         ],
         "yaxis": "y9"
        }
       ],
       "layout": {
        "height": 700,
        "margin": {
         "b": 20,
         "l": 20,
         "r": 30,
         "t": 40
        },
        "plot_bgcolor": "rgba(0,0,0,0)",
        "template": {
         "data": {
          "bar": [
           {
            "error_x": {
             "color": "#2a3f5f"
            },
            "error_y": {
             "color": "#2a3f5f"
            },
            "marker": {
             "line": {
              "color": "#E5ECF6",
              "width": 0.5
             },
             "pattern": {
              "fillmode": "overlay",
              "size": 10,
              "solidity": 0.2
             }
            },
            "type": "bar"
           }
          ],
          "barpolar": [
           {
            "marker": {
             "line": {
              "color": "#E5ECF6",
              "width": 0.5
             },
             "pattern": {
              "fillmode": "overlay",
              "size": 10,
              "solidity": 0.2
             }
            },
            "type": "barpolar"
           }
          ],
          "carpet": [
           {
            "aaxis": {
             "endlinecolor": "#2a3f5f",
             "gridcolor": "white",
             "linecolor": "white",
             "minorgridcolor": "white",
             "startlinecolor": "#2a3f5f"
            },
            "baxis": {
             "endlinecolor": "#2a3f5f",
             "gridcolor": "white",
             "linecolor": "white",
             "minorgridcolor": "white",
             "startlinecolor": "#2a3f5f"
            },
            "type": "carpet"
           }
          ],
          "choropleth": [
           {
            "colorbar": {
             "outlinewidth": 0,
             "ticks": ""
            },
            "type": "choropleth"
           }
          ],
          "contour": [
           {
            "colorbar": {
             "outlinewidth": 0,
             "ticks": ""
            },
            "colorscale": [
             [
              0,
              "#0d0887"
             ],
             [
              0.1111111111111111,
              "#46039f"
             ],
             [
              0.2222222222222222,
              "#7201a8"
             ],
             [
              0.3333333333333333,
              "#9c179e"
             ],
             [
              0.4444444444444444,
              "#bd3786"
             ],
             [
              0.5555555555555556,
              "#d8576b"
             ],
             [
              0.6666666666666666,
              "#ed7953"
             ],
             [
              0.7777777777777778,
              "#fb9f3a"
             ],
             [
              0.8888888888888888,
              "#fdca26"
             ],
             [
              1,
              "#f0f921"
             ]
            ],
            "type": "contour"
           }
          ],
          "contourcarpet": [
           {
            "colorbar": {
             "outlinewidth": 0,
             "ticks": ""
            },
            "type": "contourcarpet"
           }
          ],
          "heatmap": [
           {
            "colorbar": {
             "outlinewidth": 0,
             "ticks": ""
            },
            "colorscale": [
             [
              0,
              "#0d0887"
             ],
             [
              0.1111111111111111,
              "#46039f"
             ],
             [
              0.2222222222222222,
              "#7201a8"
             ],
             [
              0.3333333333333333,
              "#9c179e"
             ],
             [
              0.4444444444444444,
              "#bd3786"
             ],
             [
              0.5555555555555556,
              "#d8576b"
             ],
             [
              0.6666666666666666,
              "#ed7953"
             ],
             [
              0.7777777777777778,
              "#fb9f3a"
             ],
             [
              0.8888888888888888,
              "#fdca26"
             ],
             [
              1,
              "#f0f921"
             ]
            ],
            "type": "heatmap"
           }
          ],
          "heatmapgl": [
           {
            "colorbar": {
             "outlinewidth": 0,
             "ticks": ""
            },
            "colorscale": [
             [
              0,
              "#0d0887"
             ],
             [
              0.1111111111111111,
              "#46039f"
             ],
             [
              0.2222222222222222,
              "#7201a8"
             ],
             [
              0.3333333333333333,
              "#9c179e"
             ],
             [
              0.4444444444444444,
              "#bd3786"
             ],
             [
              0.5555555555555556,
              "#d8576b"
             ],
             [
              0.6666666666666666,
              "#ed7953"
             ],
             [
              0.7777777777777778,
              "#fb9f3a"
             ],
             [
              0.8888888888888888,
              "#fdca26"
             ],
             [
              1,
              "#f0f921"
             ]
            ],
            "type": "heatmapgl"
           }
          ],
          "histogram": [
           {
            "marker": {
             "pattern": {
              "fillmode": "overlay",
              "size": 10,
              "solidity": 0.2
             }
            },
            "type": "histogram"
           }
          ],
          "histogram2d": [
           {
            "colorbar": {
             "outlinewidth": 0,
             "ticks": ""
            },
            "colorscale": [
             [
              0,
              "#0d0887"
             ],
             [
              0.1111111111111111,
              "#46039f"
             ],
             [
              0.2222222222222222,
              "#7201a8"
             ],
             [
              0.3333333333333333,
              "#9c179e"
             ],
             [
              0.4444444444444444,
              "#bd3786"
             ],
             [
              0.5555555555555556,
              "#d8576b"
             ],
             [
              0.6666666666666666,
              "#ed7953"
             ],
             [
              0.7777777777777778,
              "#fb9f3a"
             ],
             [
              0.8888888888888888,
              "#fdca26"
             ],
             [
              1,
              "#f0f921"
             ]
            ],
            "type": "histogram2d"
           }
          ],
          "histogram2dcontour": [
           {
            "colorbar": {
             "outlinewidth": 0,
             "ticks": ""
            },
            "colorscale": [
             [
              0,
              "#0d0887"
             ],
             [
              0.1111111111111111,
              "#46039f"
             ],
             [
              0.2222222222222222,
              "#7201a8"
             ],
             [
              0.3333333333333333,
              "#9c179e"
             ],
             [
              0.4444444444444444,
              "#bd3786"
             ],
             [
              0.5555555555555556,
              "#d8576b"
             ],
             [
              0.6666666666666666,
              "#ed7953"
             ],
             [
              0.7777777777777778,
              "#fb9f3a"
             ],
             [
              0.8888888888888888,
              "#fdca26"
             ],
             [
              1,
              "#f0f921"
             ]
            ],
            "type": "histogram2dcontour"
           }
          ],
          "mesh3d": [
           {
            "colorbar": {
             "outlinewidth": 0,
             "ticks": ""
            },
            "type": "mesh3d"
           }
          ],
          "parcoords": [
           {
            "line": {
             "colorbar": {
              "outlinewidth": 0,
              "ticks": ""
             }
            },
            "type": "parcoords"
           }
          ],
          "pie": [
           {
            "automargin": true,
            "type": "pie"
           }
          ],
          "scatter": [
           {
            "fillpattern": {
             "fillmode": "overlay",
             "size": 10,
             "solidity": 0.2
            },
            "type": "scatter"
           }
          ],
          "scatter3d": [
           {
            "line": {
             "colorbar": {
              "outlinewidth": 0,
              "ticks": ""
             }
            },
            "marker": {
             "colorbar": {
              "outlinewidth": 0,
              "ticks": ""
             }
            },
            "type": "scatter3d"
           }
          ],
          "scattercarpet": [
           {
            "marker": {
             "colorbar": {
              "outlinewidth": 0,
              "ticks": ""
             }
            },
            "type": "scattercarpet"
           }
          ],
          "scattergeo": [
           {
            "marker": {
             "colorbar": {
              "outlinewidth": 0,
              "ticks": ""
             }
            },
            "type": "scattergeo"
           }
          ],
          "scattergl": [
           {
            "marker": {
             "colorbar": {
              "outlinewidth": 0,
              "ticks": ""
             }
            },
            "type": "scattergl"
           }
          ],
          "scattermapbox": [
           {
            "marker": {
             "colorbar": {
              "outlinewidth": 0,
              "ticks": ""
             }
            },
            "type": "scattermapbox"
           }
          ],
          "scatterpolar": [
           {
            "marker": {
             "colorbar": {
              "outlinewidth": 0,
              "ticks": ""
             }
            },
            "type": "scatterpolar"
           }
          ],
          "scatterpolargl": [
           {
            "marker": {
             "colorbar": {
              "outlinewidth": 0,
              "ticks": ""
             }
            },
            "type": "scatterpolargl"
           }
          ],
          "scatterternary": [
           {
            "marker": {
             "colorbar": {
              "outlinewidth": 0,
              "ticks": ""
             }
            },
            "type": "scatterternary"
           }
          ],
          "surface": [
           {
            "colorbar": {
             "outlinewidth": 0,
             "ticks": ""
            },
            "colorscale": [
             [
              0,
              "#0d0887"
             ],
             [
              0.1111111111111111,
              "#46039f"
             ],
             [
              0.2222222222222222,
              "#7201a8"
             ],
             [
              0.3333333333333333,
              "#9c179e"
             ],
             [
              0.4444444444444444,
              "#bd3786"
             ],
             [
              0.5555555555555556,
              "#d8576b"
             ],
             [
              0.6666666666666666,
              "#ed7953"
             ],
             [
              0.7777777777777778,
              "#fb9f3a"
             ],
             [
              0.8888888888888888,
              "#fdca26"
             ],
             [
              1,
              "#f0f921"
             ]
            ],
            "type": "surface"
           }
          ],
          "table": [
           {
            "cells": {
             "fill": {
              "color": "#EBF0F8"
             },
             "line": {
              "color": "white"
             }
            },
            "header": {
             "fill": {
              "color": "#C8D4E3"
             },
             "line": {
              "color": "white"
             }
            },
            "type": "table"
           }
          ]
         },
         "layout": {
          "annotationdefaults": {
           "arrowcolor": "#2a3f5f",
           "arrowhead": 0,
           "arrowwidth": 1
          },
          "autotypenumbers": "strict",
          "coloraxis": {
           "colorbar": {
            "outlinewidth": 0,
            "ticks": ""
           }
          },
          "colorscale": {
           "diverging": [
            [
             0,
             "#8e0152"
            ],
            [
             0.1,
             "#c51b7d"
            ],
            [
             0.2,
             "#de77ae"
            ],
            [
             0.3,
             "#f1b6da"
            ],
            [
             0.4,
             "#fde0ef"
            ],
            [
             0.5,
             "#f7f7f7"
            ],
            [
             0.6,
             "#e6f5d0"
            ],
            [
             0.7,
             "#b8e186"
            ],
            [
             0.8,
             "#7fbc41"
            ],
            [
             0.9,
             "#4d9221"
            ],
            [
             1,
             "#276419"
            ]
           ],
           "sequential": [
            [
             0,
             "#0d0887"
            ],
            [
             0.1111111111111111,
             "#46039f"
            ],
            [
             0.2222222222222222,
             "#7201a8"
            ],
            [
             0.3333333333333333,
             "#9c179e"
            ],
            [
             0.4444444444444444,
             "#bd3786"
            ],
            [
             0.5555555555555556,
             "#d8576b"
            ],
            [
             0.6666666666666666,
             "#ed7953"
            ],
            [
             0.7777777777777778,
             "#fb9f3a"
            ],
            [
             0.8888888888888888,
             "#fdca26"
            ],
            [
             1,
             "#f0f921"
            ]
           ],
           "sequentialminus": [
            [
             0,
             "#0d0887"
            ],
            [
             0.1111111111111111,
             "#46039f"
            ],
            [
             0.2222222222222222,
             "#7201a8"
            ],
            [
             0.3333333333333333,
             "#9c179e"
            ],
            [
             0.4444444444444444,
             "#bd3786"
            ],
            [
             0.5555555555555556,
             "#d8576b"
            ],
            [
             0.6666666666666666,
             "#ed7953"
            ],
            [
             0.7777777777777778,
             "#fb9f3a"
            ],
            [
             0.8888888888888888,
             "#fdca26"
            ],
            [
             1,
             "#f0f921"
            ]
           ]
          },
          "colorway": [
           "#636efa",
           "#EF553B",
           "#00cc96",
           "#ab63fa",
           "#FFA15A",
           "#19d3f3",
           "#FF6692",
           "#B6E880",
           "#FF97FF",
           "#FECB52"
          ],
          "font": {
           "color": "#2a3f5f"
          },
          "geo": {
           "bgcolor": "white",
           "lakecolor": "white",
           "landcolor": "#E5ECF6",
           "showlakes": true,
           "showland": true,
           "subunitcolor": "white"
          },
          "hoverlabel": {
           "align": "left"
          },
          "hovermode": "closest",
          "mapbox": {
           "style": "light"
          },
          "paper_bgcolor": "white",
          "plot_bgcolor": "#E5ECF6",
          "polar": {
           "angularaxis": {
            "gridcolor": "white",
            "linecolor": "white",
            "ticks": ""
           },
           "bgcolor": "#E5ECF6",
           "radialaxis": {
            "gridcolor": "white",
            "linecolor": "white",
            "ticks": ""
           }
          },
          "scene": {
           "xaxis": {
            "backgroundcolor": "#E5ECF6",
            "gridcolor": "white",
            "gridwidth": 2,
            "linecolor": "white",
            "showbackground": true,
            "ticks": "",
            "zerolinecolor": "white"
           },
           "yaxis": {
            "backgroundcolor": "#E5ECF6",
            "gridcolor": "white",
            "gridwidth": 2,
            "linecolor": "white",
            "showbackground": true,
            "ticks": "",
            "zerolinecolor": "white"
           },
           "zaxis": {
            "backgroundcolor": "#E5ECF6",
            "gridcolor": "white",
            "gridwidth": 2,
            "linecolor": "white",
            "showbackground": true,
            "ticks": "",
            "zerolinecolor": "white"
           }
          },
          "shapedefaults": {
           "line": {
            "color": "#2a3f5f"
           }
          },
          "ternary": {
           "aaxis": {
            "gridcolor": "white",
            "linecolor": "white",
            "ticks": ""
           },
           "baxis": {
            "gridcolor": "white",
            "linecolor": "white",
            "ticks": ""
           },
           "bgcolor": "#E5ECF6",
           "caxis": {
            "gridcolor": "white",
            "linecolor": "white",
            "ticks": ""
           }
          },
          "title": {
           "x": 0.05
          },
          "xaxis": {
           "automargin": true,
           "gridcolor": "white",
           "linecolor": "white",
           "ticks": "",
           "title": {
            "standoff": 15
           },
           "zerolinecolor": "white",
           "zerolinewidth": 2
          },
          "yaxis": {
           "automargin": true,
           "gridcolor": "white",
           "linecolor": "white",
           "ticks": "",
           "title": {
            "standoff": 15
           },
           "zerolinecolor": "white",
           "zerolinewidth": 2
          }
         }
        },
        "title": {
         "text": "Figuras"
        },
        "width": 900,
        "xaxis": {
         "anchor": "y",
         "domain": [
          0,
          0.2888888888888889
         ]
        },
        "xaxis2": {
         "anchor": "y2",
         "domain": [
          0.35555555555555557,
          0.6444444444444445
         ]
        },
        "xaxis3": {
         "anchor": "y3",
         "domain": [
          0.7111111111111111,
          1
         ]
        },
        "xaxis4": {
         "anchor": "y4",
         "domain": [
          0,
          0.2888888888888889
         ]
        },
        "xaxis5": {
         "anchor": "y5",
         "domain": [
          0.35555555555555557,
          0.6444444444444445
         ]
        },
        "xaxis6": {
         "anchor": "y6",
         "domain": [
          0.7111111111111111,
          1
         ]
        },
        "xaxis7": {
         "anchor": "y7",
         "domain": [
          0,
          0.2888888888888889
         ]
        },
        "xaxis8": {
         "anchor": "y8",
         "domain": [
          0.35555555555555557,
          0.6444444444444445
         ]
        },
        "xaxis9": {
         "anchor": "y9",
         "domain": [
          0.7111111111111111,
          1
         ]
        },
        "yaxis": {
         "anchor": "x",
         "domain": [
          0.7333333333333333,
          1
         ]
        },
        "yaxis2": {
         "anchor": "x2",
         "domain": [
          0.7333333333333333,
          1
         ]
        },
        "yaxis3": {
         "anchor": "x3",
         "domain": [
          0.7333333333333333,
          1
         ]
        },
        "yaxis4": {
         "anchor": "x4",
         "domain": [
          0.36666666666666664,
          0.6333333333333333
         ]
        },
        "yaxis5": {
         "anchor": "x5",
         "domain": [
          0.36666666666666664,
          0.6333333333333333
         ]
        },
        "yaxis6": {
         "anchor": "x6",
         "domain": [
          0.36666666666666664,
          0.6333333333333333
         ]
        },
        "yaxis7": {
         "anchor": "x7",
         "domain": [
          0,
          0.26666666666666666
         ]
        },
        "yaxis8": {
         "anchor": "x8",
         "domain": [
          0,
          0.26666666666666666
         ]
        },
        "yaxis9": {
         "anchor": "x9",
         "domain": [
          0,
          0.26666666666666666
         ]
        }
       }
      }
     },
     "metadata": {},
     "output_type": "display_data"
    }
   ],
   "source": [
    "from plotly.subplots import make_subplots\n",
    "import plotly.graph_objects as go\n",
    "\n",
    "fs = 3840\n",
    "dataset_plot = Form1Dataset(\n",
    "    dataset_dir, max_window_idx=max_window_idx, signal_names=signal_names, test=True\n",
    ")\n",
    "plot_dataloader = DataLoader(dataset_plot, batch_size=train_batch_size, shuffle=True)\n",
    "\n",
    "dataiter = iter(plot_dataloader)\n",
    "signal_windows, t_windows, labels, csv_name, index, window_idx = next(dataiter)\n",
    "print(len(csv_name))\n",
    "print(window_idx.shape)\n",
    "print(labels.shape)\n",
    "\n",
    "print(labels.type())\n",
    "x = model(signal_windows[0:9].to(device))\n",
    "# x = x.detach()\n",
    "\n",
    "# Crear Matriz de confusión\n",
    "df = confusion_matrix(x, labels[0:9])\n",
    "print(type(df))\n",
    "print(df)\n",
    "\n",
    "# figure = plt.figure(figsize=(10, 10))\n",
    "cols, rows = 3, 3\n",
    "fig = make_subplots(rows=rows, cols=cols)\n",
    "\n",
    "label_to_text = {\n",
    "    \"0\": \"No Fault\",\n",
    "    \"1\": \"Fault\",\n",
    "}\n",
    "\n",
    "for i in range(0, cols * rows):\n",
    "\n",
    "    col = i % cols\n",
    "    row = i // cols\n",
    "    label = label_to_text[str(int(labels[i, 0].item()))]\n",
    "    win_idx = str(window_idx[i].item())\n",
    "    fig.add_trace(\n",
    "        go.Scatter(\n",
    "            name=f\"{label} - {win_idx} - {csv_name[i]}\",\n",
    "            x=t_windows[i, :],\n",
    "            y=signal_windows[i, :, 0],\n",
    "            marker_color=\"black\",\n",
    "        ),\n",
    "        row=row + 1,\n",
    "        col=col + 1,\n",
    "    )\n",
    "\n",
    "fig.update_layout(\n",
    "    height=700,\n",
    "    width=900,\n",
    "    title_text=\"Figuras\",\n",
    "    margin={\"b\": 20, \"t\": 40, \"l\": 20, \"r\": 30},\n",
    "    plot_bgcolor=\"rgba(0,0,0,0)\",\n",
    "    # paper_bgcolor=\"whitesmoke\",\n",
    ")\n",
    "fig.show()\n"
   ]
  },
  {
   "attachments": {},
   "cell_type": "markdown",
   "metadata": {},
   "source": [
    "##### 6.3. Matplotlib Plots"
   ]
  },
  {
   "cell_type": "code",
   "execution_count": 13,
   "metadata": {},
   "outputs": [
    {
     "name": "stdout",
     "output_type": "stream",
     "text": [
      "   Pred probability  Pred label  True label Result\n",
      "0          0.269007           0           0     TN\n",
      "1          0.767797           1           0     FP\n",
      "2          0.719069           1           0     FP\n",
      "3          0.813558           1           0     FP\n",
      "4          0.851828           1           0     FP\n",
      "5          0.977339           1           1     TP\n",
      "6          0.257918           0           0     TN\n",
      "7          0.898692           1           1     TP\n",
      "8          0.823606           1           0     FP\n"
     ]
    },
    {
     "data": {
      "image/png": "[encoded data removed]",
      "text/plain": [
       "<Figure size 1000x1000 with 9 Axes>"
      ]
     },
     "metadata": {},
     "output_type": "display_data"
    }
   ],
   "source": [
    "dataset_plot = Form1Dataset(\n",
    "    dataset_dir, max_window_idx=max_window_idx, signal_names=signal_names, test=True\n",
    ")\n",
    "plot_dataloader = DataLoader(dataset_plot, batch_size=train_batch_size, shuffle=True)\n",
    "\n",
    "dataiter = iter(plot_dataloader)\n",
    "signal_windows, t_windows, labels, *_ = next(dataiter)\n",
    "fs = 3840\n",
    "\n",
    "x = model(signal_windows[1:10].to(device))\n",
    "x = x.detach()\n",
    "\n",
    "# Crear Matriz de confusión\n",
    "df = confusion_matrix(x, labels[1:10])\n",
    "print(df)\n",
    "\n",
    "figure = plt.figure(figsize=(10, 10))\n",
    "cols, rows = 3, 3\n",
    "for i in range(1, cols * rows + 1):\n",
    "    figure.add_subplot(rows, cols, i)\n",
    "    plt.plot(t_windows[i, :], signal_windows[i, :, 0])\n"
   ]
  },
  {
   "attachments": {},
   "cell_type": "markdown",
   "metadata": {},
   "source": [
    "### 7. Data Exploration"
   ]
  },
  {
   "attachments": {},
   "cell_type": "markdown",
   "metadata": {},
   "source": [
    "##### 7.1. Auxiliar Functions"
   ]
  },
  {
   "cell_type": "code",
   "execution_count": 40,
   "metadata": {},
   "outputs": [],
   "source": [
    "def signal_exploration(idx: int, dataset, model, plot_signal: bool = True):\n",
    "    signal, t, idx_min, idx_max, csv_name = dataset.get_event(idx)\n",
    "    model.eval()\n",
    "    if plot_signal == True:\n",
    "        plt.plot(t, signal)\n",
    "        plt.show()\n",
    "    conf_matrix = torch.zeros(1, 5, dtype=torch.int64).to(device)\n",
    "    preds = torch.empty((0, 1)).to(device)\n",
    "    labels = torch.empty((0, 1)).to(device)\n",
    "    for i in range(idx_min, idx_max + 1):\n",
    "        signal, y = dataset.__getitem__(i)\n",
    "        y = torch.unsqueeze(y, 0).to(device)\n",
    "        signal = torch.unsqueeze(signal, 0).to(device)\n",
    "        pred = model(signal)\n",
    "        preds = torch.cat((preds, pred), 0)\n",
    "        labels = torch.cat((labels, y), 0)\n",
    "        conf_matrix = conf_matrix.add(binary_stat_scores(pred, y))\n",
    "    df = confusion_matrix(preds, labels)\n",
    "    df.insert(loc=0, column=\"event_idx\", value=np.repeat(idx, idx_max - idx_min + 1))\n",
    "    # df.insert(loc=0, column=\"window_idx\", value=df.index)\n",
    "    # df.insert(loc=0, column=\"indices\", value=idxs)\n",
    "\n",
    "    return df, conf_matrix\n",
    "\n",
    "\n",
    "def plot_confusion_matrix(metrics):\n",
    "    z = [[metrics[\"TP\"], metrics[\"FN\"]], [metrics[\"FP\"], metrics[\"TN\"]]]\n",
    "    fig = px.imshow(\n",
    "        z,\n",
    "        text_auto=True,\n",
    "        template=\"seaborn\",\n",
    "        labels=dict(x=\"Predicted Label\", y=\"Real Label\", color=\"Predictions\"),\n",
    "        x=[\"Positive\", \"Negative\"],\n",
    "        y=[\"Positive\", \"Negative\"],\n",
    "        width=400,\n",
    "        height=300,\n",
    "    )\n",
    "    fig.show()\n",
    "\n",
    "\n",
    "def print_metrics(metrics):\n",
    "    print(f\"{'Total windows:':.<30}{metrics['TOTAL']:4}\")\n",
    "    print(f\"{'True Positives:':.<30}{metrics['TP']:4}\")\n",
    "    print(f\"{'False Positives:':.<30}{metrics['FP']:4}\")\n",
    "    print(f\"{'True Negatives:':.<30}{metrics['TN']:4}\")\n",
    "    print(f\"{'False Negatives:':.<30}{metrics['FN']:4}\")\n",
    "    print(f\"{'Accuracy:':.<30}{metrics['ACC']*100:>6.1f}%\")\n",
    "    print(f\"{'True Positive Rate:':.<30}{metrics['TPR']*100:>6.1f}%\") \n",
    "    print(f\"{'False Positive Rate:':.<30}{metrics['FPR']*100:>6.1f}%\") \n",
    "    print(f\"{'True Negative Rate:':.<30}{metrics['TNR']*100:>6.1f}%\") \n",
    "    try:\n",
    "        print(f\"{'Positive Predictive Value:':.<30}{metrics['PPV']*100:>6.1f}%\")\n",
    "    except KeyError:\n",
    "        print(f\"PPV divided by 0. No positive class predicted\")\n",
    "    # metrics[\"PPV\"]\n"
   ]
  },
  {
   "attachments": {},
   "cell_type": "markdown",
   "metadata": {},
   "source": [
    "\n",
    "##### 7.2. Data Exploration"
   ]
  },
  {
   "cell_type": "code",
   "execution_count": 79,
   "metadata": {},
   "outputs": [],
   "source": [
    "# Seleccionar pesos de modelo\n",
    "# model.load_state_dict(torch.load('./models/LSTMHarmonic_weights_R3_934.pth'))\n",
    "# model.load_state_dict(torch.load(\"./models/LSTMHarmonic_weights_R1_996.pth\"))\n",
    "# model.load_state_dict(torch.load('./models/LSTMHarmonic_weights_R2_978.pth'))\n",
    "\n",
    "current_R1A = \"I: X0023A-R1A\"\n",
    "current_R1B = \"I: X0023B-R1B\"\n",
    "current_R1C = \"I: X0023C-R1C\"\n",
    "current_R2A = \"I: X0004A-R2A\"\n",
    "current_R2B = \"I: X0004B-R2B\"\n",
    "current_R2C = \"I: X0004C-R2C\"\n",
    "current_R3A = \"I: X0071A-R3A\"\n",
    "current_R3B = \"I: X0071B-R3B\"\n",
    "current_R3C = \"I: X0071C-R3C\"\n",
    "\n",
    "voltage_R1A = \"V: R1A\"\n",
    "voltage_R1B = \"V: R1B\"\n",
    "voltage_R1C = \"V: R1C\"\n",
    "signal_names = [current_R1A, current_R1B, current_R1C]\n",
    "max_window_idx = 62\n",
    "# model.load_state_dict(torch.load('models\\R3Currents_DB2.pth'))\n",
    "\n",
    "# Create Dataset\n",
    "dataset = Form1Dataset(\n",
    "    dataset_dir, max_window_idx=max_window_idx, signal_names=signal_names, dataset_size=1300\n",
    ")\n",
    "# dataset = train_dataset\n",
    "\n",
    "\n",
    "\n"
   ]
  },
  {
   "attachments": {},
   "cell_type": "markdown",
   "metadata": {},
   "source": [
    "##### 7.4. Plot individual windows"
   ]
  },
  {
   "attachments": {},
   "cell_type": "markdown",
   "metadata": {},
   "source": [
    "##### 7.5. Whole Dataset Exploration"
   ]
  },
  {
   "cell_type": "code",
   "execution_count": 80,
   "metadata": {},
   "outputs": [
    {
     "data": {
      "text/plain": [
       "<All keys matched successfully>"
      ]
     },
     "execution_count": 80,
     "metadata": {},
     "output_type": "execute_result"
    }
   ],
   "source": [
    "model.load_state_dict(torch.load('./models/R1Currents_DB2.pth'))"
   ]
  },
  {
   "cell_type": "code",
   "execution_count": 81,
   "metadata": {},
   "outputs": [
    {
     "name": "stderr",
     "output_type": "stream",
     "text": [
      "100%|██████████| 1300/1300 [6:03:54<00:00, 16.80s/it]  \n"
     ]
    }
   ],
   "source": [
    "# Create Dataframe with information about data\n",
    "# print(dataset.len_events())\n",
    "conf_matrix = torch.zeros(0, 5, dtype=torch.int64).to(device)\n",
    "for idx in tqdm(range(dataset.len_events())):\n",
    "# for idx in tqdm(range()):\n",
    "    df, CM = signal_exploration(idx, dataset, model, plot_signal=False)\n",
    "    conf_matrix = torch.cat((conf_matrix, CM))\n",
    "    if idx == 0:\n",
    "        dataset_df = df\n",
    "    else:\n",
    "        dataset_df = pd.concat([dataset_df, df])\n",
    "\n",
    "dataset_df = dataset_df.reset_index()\n",
    "dataset_df = dataset_df.rename(columns={'index': 'window idx'})\n",
    "conf_matrix_total = np.sum(conf_matrix.cpu().numpy(), axis=0)\n",
    "\n",
    "\n",
    "# # # Load Dataframe\n",
    "# def load_df(i):\n",
    "#     dataset_df = pd.read_parquet(f\"parquet_data/ModelR{i}_R{i}_df.parquet\")\n",
    "#     conf_matrix_df = pd.read_parquet(f\"parquet_data/ModelR{i}_R{i}_CM_df.parquet\")\n",
    "#     conf_matrix = np.load(f\"parquet_data/ModelR{i}_R{i}_CM.npy\", allow_pickle=False)\n",
    "#     return dataset_df, conf_matrix_df, conf_matrix\n",
    "\n",
    "# dataset_df, conf_matrix_df, conf_matrix = load_df(3)\n",
    "\n",
    "\n",
    "# dataset_df = pd.read_parquet(f\"parquet_data\\R2_currents_DB2_df.parquet\")\n",
    "# conf_matrix_df = pd.read_parquet(f\"parquet_data\\R2_currents_DB2_CM_df.parquet\")\n",
    "# conf_matrix = np.load(f\"parquet_data\\R2_currents_DB2_CM.npy\", allow_pickle=False)\n",
    "# conf_matrix_total = np.sum(conf_matrix, axis=0)\n",
    "\n",
    "# conf_matrix_total = np.sum(conf_matrix, axis=0)\n",
    "metrics = conf_matrix_metrics(conf_matrix_total)\n"
   ]
  },
  {
   "cell_type": "code",
   "execution_count": 82,
   "metadata": {},
   "outputs": [
    {
     "name": "stdout",
     "output_type": "stream",
     "text": [
      "FALSE POSITVES\n",
      "       window idx  event_idx  Pred probability  Pred label  True label Result\n",
      "418            46          6            58.74%           1           0     FP\n",
      "419            47          6            67.38%           1           0     FP\n",
      "420            48          6            75.14%           1           0     FP\n",
      "421            49          6            79.53%           1           0     FP\n",
      "422            50          6            76.10%           1           0     FP\n",
      "423            51          6            65.64%           1           0     FP\n",
      "744             0         12            63.09%           1           0     FP\n",
      "745             1         12            70.40%           1           0     FP\n",
      "746             2         12            71.00%           1           0     FP\n",
      "747             3         12            61.06%           1           0     FP\n",
      "1071           17         17            58.61%           1           0     FP\n",
      "1072           18         17            66.94%           1           0     FP\n",
      "1073           19         17            74.07%           1           0     FP\n",
      "1074           20         17            78.66%           1           0     FP\n",
      "1075           21         17            75.39%           1           0     FP\n",
      "1076           22         17            65.77%           1           0     FP\n",
      "1866            6         30            55.48%           1           0     FP\n",
      "1867            7         30            64.72%           1           0     FP\n",
      "1868            8         30            71.57%           1           0     FP\n",
      "1869            9         30            76.76%           1           0     FP\n",
      "1870           10         30            73.16%           1           0     FP\n",
      "1871           11         30            61.44%           1           0     FP\n",
      "1970           48         31            59.56%           1           0     FP\n",
      "1971           49         31            66.70%           1           0     FP\n",
      "1972           50         31            72.34%           1           0     FP\n",
      "1973           51         31            77.80%           1           0     FP\n",
      "1974           52         31            76.67%           1           0     FP\n",
      "1975           53         31            67.61%           1           0     FP\n",
      "2483            3         40            61.65%           1           0     FP\n",
      "2484            4         40            68.77%           1           0     FP\n",
      "2485            5         40            76.51%           1           0     FP\n",
      "2486            6         40            80.10%           1           0     FP\n",
      "2487            7         40            77.09%           1           0     FP\n",
      "2488            8         40            66.42%           1           0     FP\n",
      "3083           45         49            50.01%           1           0     FP\n",
      "3084           46         49            61.41%           1           0     FP\n",
      "3085           47         49            67.36%           1           0     FP\n",
      "3086           48         49            73.60%           1           0     FP\n",
      "3087           49         49            70.66%           1           0     FP\n",
      "3088           50         49            57.90%           1           0     FP\n",
      "3492           20         56            54.72%           1           0     FP\n",
      "3493           21         56            61.99%           1           0     FP\n",
      "3494           22         56            68.22%           1           0     FP\n",
      "3495           23         56            72.75%           1           0     FP\n",
      "3496           24         56            67.93%           1           0     FP\n",
      "3497           25         56            52.27%           1           0     FP\n",
      "3849            5         62            51.53%           1           0     FP\n",
      "3850            6         62            59.83%           1           0     FP\n",
      "3851            7         62            67.36%           1           0     FP\n",
      "3852            8         62            71.71%           1           0     FP\n",
      "3853            9         62            66.92%           1           0     FP\n",
      "3854           10         62            50.16%           1           0     FP\n",
      "3957           51         63            50.07%           1           0     FP\n",
      "3958           52         63            61.71%           1           0     FP\n",
      "3959           53         63            69.08%           1           0     FP\n",
      "3960           54         63            75.46%           1           0     FP\n",
      "3961           55         63            75.16%           1           0     FP\n",
      "3962           56         63            66.46%           1           0     FP\n",
      "4052           22         65            53.58%           1           0     FP\n",
      "4053           23         65            63.78%           1           0     FP\n",
      "4054           24         65            71.19%           1           0     FP\n",
      "4055           25         65            77.40%           1           0     FP\n",
      "4056           26         65            77.91%           1           0     FP\n",
      "4057           27         65            70.59%           1           0     FP\n",
      "4058           28         65            54.68%           1           0     FP\n",
      "4615           27         74            59.19%           1           0     FP\n",
      "4616           28         74            65.10%           1           0     FP\n",
      "4617           29         74            70.66%           1           0     FP\n",
      "4618           30         74            71.19%           1           0     FP\n",
      "4619           31         74            59.64%           1           0     FP\n",
      "5637           57         90            56.47%           1           0     FP\n",
      "5638           58         90            62.18%           1           0     FP\n",
      "5639           59         90            65.56%           1           0     FP\n",
      "5640           60         90            58.85%           1           0     FP\n",
      "5864           36         94            62.75%           1           0     FP\n",
      "5865           37         94            70.61%           1           0     FP\n",
      "5866           38         94            77.91%           1           0     FP\n",
      "5867           39         94            81.09%           1           0     FP\n",
      "5868           40         94            77.25%           1           0     FP\n",
      "5869           41         94            67.35%           1           0     FP\n",
      "5870           42         94            50.82%           1           0     FP\n",
      "5961            9         96            53.06%           1           0     FP\n",
      "5962           10         96            60.05%           1           0     FP\n",
      "5963           11         96            66.44%           1           0     FP\n",
      "5964           12         96            67.00%           1           0     FP\n",
      "5965           13         96            55.17%           1           0     FP\n",
      "6492           44        104            53.58%           1           0     FP\n",
      "6493           45        104            58.07%           1           0     FP\n",
      "6494           46        104            57.42%           1           0     FP\n",
      "7711           23        124            54.36%           1           0     FP\n",
      "7712           24        124            62.18%           1           0     FP\n",
      "7713           25        124            68.82%           1           0     FP\n",
      "7714           26        124            70.76%           1           0     FP\n",
      "7715           27        124            61.42%           1           0     FP\n",
      "8162           40        131            61.13%           1           0     FP\n",
      "8163           41        131            69.29%           1           0     FP\n",
      "8164           42        131            75.70%           1           0     FP\n",
      "8165           43        131            80.02%           1           0     FP\n",
      "8166           44        131            77.39%           1           0     FP\n",
      "8167           45        131            68.01%           1           0     FP\n",
      "8168           46        131            50.35%           1           0     FP\n",
      "8464           32        136            56.46%           1           0     FP\n",
      "8465           33        136            64.81%           1           0     FP\n",
      "8466           34        136            71.53%           1           0     FP\n",
      "8467           35        136            74.72%           1           0     FP\n",
      "8468           36        136            67.86%           1           0     FP\n",
      "8469           37        136            50.76%           1           0     FP\n",
      "8962           34        144            55.06%           1           0     FP\n",
      "8963           35        144            56.68%           1           0     FP\n",
      "8964           36        144            60.44%           1           0     FP\n",
      "8965           37        144            52.18%           1           0     FP\n",
      "9035           45        145            54.40%           1           0     FP\n",
      "9036           46        145            61.98%           1           0     FP\n",
      "9037           47        145            67.98%           1           0     FP\n",
      "9038           48        145            70.21%           1           0     FP\n",
      "9039           49        145            60.93%           1           0     FP\n",
      "9103           51        146            55.05%           1           0     FP\n",
      "9104           52        146            62.76%           1           0     FP\n",
      "9105           53        146            68.74%           1           0     FP\n",
      "9106           54        146            69.60%           1           0     FP\n",
      "9107           55        146            59.00%           1           0     FP\n",
      "9116            2        147            50.98%           1           0     FP\n",
      "9117            3        147            58.26%           1           0     FP\n",
      "9118            4        147            63.00%           1           0     FP\n",
      "9119            5        147            62.71%           1           0     FP\n",
      "9676            4        156            56.45%           1           0     FP\n",
      "9677            5        156            65.41%           1           0     FP\n",
      "9678            6        156            72.14%           1           0     FP\n",
      "9679            7        156            76.80%           1           0     FP\n",
      "9680            8        156            72.22%           1           0     FP\n",
      "9681            9        156            59.36%           1           0     FP\n",
      "10288          58        165            53.93%           1           0     FP\n",
      "10289          59        165            59.52%           1           0     FP\n",
      "10290          60        165            64.68%           1           0     FP\n",
      "10291          61        165            61.87%           1           0     FP\n",
      "11175          15        180            56.22%           1           0     FP\n",
      "11176          16        180            62.12%           1           0     FP\n",
      "11177          17        180            64.33%           1           0     FP\n",
      "11178          18        180            53.24%           1           0     FP\n",
      "11297          13        182            50.94%           1           0     FP\n",
      "11298          14        182            58.40%           1           0     FP\n",
      "11299          15        182            65.44%           1           0     FP\n",
      "11300          16        182            68.79%           1           0     FP\n",
      "11301          17        182            60.34%           1           0     FP\n",
      "11766          48        189            59.09%           1           0     FP\n",
      "11767          49        189            67.79%           1           0     FP\n",
      "11768          50        189            74.17%           1           0     FP\n",
      "11769          51        189            77.43%           1           0     FP\n",
      "11770          52        189            72.47%           1           0     FP\n",
      "11771          53        189            58.48%           1           0     FP\n",
      "11780           0        190            51.27%           1           0     FP\n",
      "11839          59        190            51.42%           1           0     FP\n",
      "11840          60        190            59.50%           1           0     FP\n",
      "11841          61        190            65.53%           1           0     FP\n",
      "12163          11        196            52.40%           1           0     FP\n",
      "12164          12        196            55.75%           1           0     FP\n",
      "12165          13        196            57.64%           1           0     FP\n",
      "12255          41        197            56.47%           1           0     FP\n",
      "12256          42        197            64.95%           1           0     FP\n",
      "12257          43        197            72.27%           1           0     FP\n",
      "12258          44        197            74.90%           1           0     FP\n",
      "12259          45        197            67.96%           1           0     FP\n",
      "12260          46        197            51.47%           1           0     FP\n",
      "12347           9        199            50.40%           1           0     FP\n",
      "12348          10        199            51.09%           1           0     FP\n",
      "12764          54        205            54.71%           1           0     FP\n",
      "12765          55        205            63.49%           1           0     FP\n",
      "12766          56        205            70.82%           1           0     FP\n",
      "12767          57        205            74.15%           1           0     FP\n",
      "12768          58        205            67.94%           1           0     FP\n",
      "12769          59        205            50.43%           1           0     FP\n",
      "13185          41        212            52.74%           1           0     FP\n",
      "13186          42        212            60.72%           1           0     FP\n",
      "13187          43        212            66.65%           1           0     FP\n",
      "13188          44        212            70.22%           1           0     FP\n",
      "13189          45        212            62.65%           1           0     FP\n",
      "13874          48        223            55.50%           1           0     FP\n",
      "13875          49        223            61.68%           1           0     FP\n",
      "13876          50        223            66.90%           1           0     FP\n",
      "13877          51        223            62.34%           1           0     FP\n",
      "14259          61        229            53.73%           1           0     FP\n",
      "14473          27        233            57.01%           1           0     FP\n",
      "14474          28        233            68.07%           1           0     FP\n",
      "14475          29        233            74.89%           1           0     FP\n",
      "14476          30        233            81.66%           1           0     FP\n",
      "14477          31        233            82.53%           1           0     FP\n",
      "14478          32        233            77.91%           1           0     FP\n",
      "14479          33        233            67.01%           1           0     FP\n",
      "15134           6        244            55.78%           1           0     FP\n",
      "15135           7        244            64.00%           1           0     FP\n",
      "15136           8        244            70.18%           1           0     FP\n",
      "15137           9        244            72.01%           1           0     FP\n",
      "15138          10        244            62.34%           1           0     FP\n",
      "15429          53        248            55.12%           1           0     FP\n",
      "15430          54        248            63.64%           1           0     FP\n",
      "15431          55        248            70.24%           1           0     FP\n",
      "15432          56        248            73.04%           1           0     FP\n",
      "15433          57        248            64.88%           1           0     FP\n",
      "15528          28        250            54.34%           1           0     FP\n",
      "15529          29        250            59.98%           1           0     FP\n",
      "15530          30        250            62.92%           1           0     FP\n",
      "15531          31        250            53.69%           1           0     FP\n",
      "15632           8        252            55.66%           1           0     FP\n",
      "15633           9        252            60.46%           1           0     FP\n",
      "15634          10        252            66.97%           1           0     FP\n",
      "15635          11        252            72.46%           1           0     FP\n",
      "15636          12        252            65.43%           1           0     FP\n",
      "16198          16        261            50.20%           1           0     FP\n",
      "16998          10        274            51.04%           1           0     FP\n",
      "17846          52        287            58.58%           1           0     FP\n",
      "17847          53        287            66.86%           1           0     FP\n",
      "17848          54        287            73.37%           1           0     FP\n",
      "17849          55        287            78.62%           1           0     FP\n",
      "17850          56        287            77.65%           1           0     FP\n",
      "17851          57        287            69.14%           1           0     FP\n",
      "17852          58        287            51.81%           1           0     FP\n",
      "18105           1        292            51.64%           1           0     FP\n",
      "18106           2        292            59.29%           1           0     FP\n",
      "18107           3        292            65.29%           1           0     FP\n",
      "18108           4        292            68.87%           1           0     FP\n",
      "18109           5        292            64.33%           1           0     FP\n",
      "18865          17        304            54.36%           1           0     FP\n",
      "18866          18        304            63.18%           1           0     FP\n",
      "18867          19        304            70.22%           1           0     FP\n",
      "18868          20        304            74.42%           1           0     FP\n",
      "18869          21        304            68.84%           1           0     FP\n",
      "18870          22        304            53.09%           1           0     FP\n",
      "18950          40        305            58.39%           1           0     FP\n",
      "18951          41        305            67.55%           1           0     FP\n",
      "18952          42        305            74.11%           1           0     FP\n",
      "18953          43        305            78.56%           1           0     FP\n",
      "18954          44        305            76.05%           1           0     FP\n",
      "18955          45        305            67.56%           1           0     FP\n",
      "18956          46        305            51.56%           1           0     FP\n",
      "19006          34        306            55.10%           1           0     FP\n",
      "19007          35        306            59.80%           1           0     FP\n",
      "19008          36        306            58.13%           1           0     FP\n",
      "20150           0        325            78.87%           1           0     FP\n",
      "20151           1        325            74.49%           1           0     FP\n",
      "20152           2        325            61.47%           1           0     FP\n",
      "20211          61        325            57.67%           1           0     FP\n",
      "20306          32        327            51.87%           1           0     FP\n",
      "20307          33        327            60.43%           1           0     FP\n",
      "20308          34        327            67.76%           1           0     FP\n",
      "20309          35        327            71.82%           1           0     FP\n",
      "20310          36        327            63.73%           1           0     FP\n",
      "20393          57        328            54.90%           1           0     FP\n",
      "20394          58        328            64.18%           1           0     FP\n",
      "20395          59        328            71.15%           1           0     FP\n",
      "20396          60        328            77.21%           1           0     FP\n",
      "20397          61        328            76.34%           1           0     FP\n",
      "20661          15        333            56.72%           1           0     FP\n",
      "20662          16        333            65.73%           1           0     FP\n",
      "20663          17        333            73.84%           1           0     FP\n",
      "20664          18        333            78.65%           1           0     FP\n",
      "20665          19        333            73.15%           1           0     FP\n",
      "20666          20        333            62.91%           1           0     FP\n",
      "21150           8        341            51.27%           1           0     FP\n",
      "21814          52        351            51.80%           1           0     FP\n",
      "21815          53        351            62.64%           1           0     FP\n",
      "21816          54        351            70.18%           1           0     FP\n",
      "21817          55        351            76.76%           1           0     FP\n",
      "21818          56        351            78.15%           1           0     FP\n",
      "21819          57        351            71.51%           1           0     FP\n",
      "21820          58        351            56.56%           1           0     FP\n",
      "22237          41        358            54.57%           1           0     FP\n",
      "22238          42        358            62.29%           1           0     FP\n",
      "22239          43        358            68.67%           1           0     FP\n",
      "22240          44        358            69.18%           1           0     FP\n",
      "22241          45        358            58.20%           1           0     FP\n",
      "22419          37        361            57.00%           1           0     FP\n",
      "22420          38        361            62.91%           1           0     FP\n",
      "22421          39        361            64.40%           1           0     FP\n",
      "22422          40        361            52.58%           1           0     FP\n",
      "24515          25        395            50.05%           1           0     FP\n",
      "24516          26        395            50.97%           1           0     FP\n",
      "24616           2        397            51.61%           1           0     FP\n",
      "24617           3        397            60.00%           1           0     FP\n",
      "24618           4        397            65.48%           1           0     FP\n",
      "24619           5        397            70.57%           1           0     FP\n",
      "24620           6        397            64.02%           1           0     FP\n",
      "24964          40        402            54.32%           1           0     FP\n",
      "24965          41        402            61.14%           1           0     FP\n",
      "24966          42        402            67.66%           1           0     FP\n",
      "24967          43        402            70.01%           1           0     FP\n",
      "24968          44        402            60.77%           1           0     FP\n",
      "25481          61        410            55.41%           1           0     FP\n",
      "25993          15        419            50.77%           1           0     FP\n",
      "26383          33        425            54.17%           1           0     FP\n",
      "26384          34        425            65.69%           1           0     FP\n",
      "26385          35        425            72.45%           1           0     FP\n",
      "26386          36        425            79.49%           1           0     FP\n",
      "26387          37        425            80.32%           1           0     FP\n",
      "26388          38        425            74.38%           1           0     FP\n",
      "26389          39        425            61.85%           1           0     FP\n",
      "26583          47        428            57.63%           1           0     FP\n",
      "26584          48        428            67.24%           1           0     FP\n",
      "26585          49        428            74.55%           1           0     FP\n",
      "26586          50        428            80.41%           1           0     FP\n",
      "26587          51        428            79.89%           1           0     FP\n",
      "26588          52        428            72.96%           1           0     FP\n",
      "26589          53        428            58.56%           1           0     FP\n",
      "28052          28        452            52.28%           1           0     FP\n",
      "28053          29        452            57.64%           1           0     FP\n",
      "28054          30        452            60.35%           1           0     FP\n",
      "28055          31        452            50.18%           1           0     FP\n",
      "28174          26        454            55.30%           1           0     FP\n",
      "28175          27        454            64.29%           1           0     FP\n",
      "28176          28        454            72.21%           1           0     FP\n",
      "28177          29        454            77.35%           1           0     FP\n",
      "28178          30        454            74.61%           1           0     FP\n",
      "28179          31        454            64.33%           1           0     FP\n",
      "28753          47        463            60.75%           1           0     FP\n",
      "28754          48        463            68.68%           1           0     FP\n",
      "28755          49        463            75.82%           1           0     FP\n",
      "28756          50        463            78.60%           1           0     FP\n",
      "28757          51        463            73.27%           1           0     FP\n",
      "28758          52        463            59.91%           1           0     FP\n",
      "29289          25        472            54.15%           1           0     FP\n",
      "29290          26        472            64.08%           1           0     FP\n",
      "29291          27        472            71.37%           1           0     FP\n",
      "29292          28        472            76.97%           1           0     FP\n",
      "29293          29        472            74.91%           1           0     FP\n",
      "29294          30        472            65.04%           1           0     FP\n",
      "29698           0        479            70.47%           1           0     FP\n",
      "29699           1        479            77.76%           1           0     FP\n",
      "29700           2        479            78.95%           1           0     FP\n",
      "29701           3        479            73.19%           1           0     FP\n",
      "29702           4        479            58.53%           1           0     FP\n",
      "30102          32        485            50.31%           1           0     FP\n",
      "30103          33        485            57.29%           1           0     FP\n",
      "30104          34        485            62.26%           1           0     FP\n",
      "30105          35        485            59.15%           1           0     FP\n",
      "30438          58        490            56.61%           1           0     FP\n",
      "30439          59        490            61.44%           1           0     FP\n",
      "30440          60        490            64.12%           1           0     FP\n",
      "30441          61        490            53.98%           1           0     FP\n",
      "30842          28        497            54.33%           1           0     FP\n",
      "30843          29        497            61.59%           1           0     FP\n",
      "30844          30        497            67.26%           1           0     FP\n",
      "30845          31        497            66.94%           1           0     FP\n",
      "30846          32        497            54.71%           1           0     FP\n",
      "32057           3        517            53.78%           1           0     FP\n",
      "32058           4        517            61.88%           1           0     FP\n",
      "32059           5        517            69.36%           1           0     FP\n",
      "32060           6        517            74.93%           1           0     FP\n",
      "32061           7        517            73.86%           1           0     FP\n",
      "32062           8        517            62.63%           1           0     FP\n",
      "32210          32        519            52.71%           1           0     FP\n",
      "32211          33        519            59.22%           1           0     FP\n",
      "32212          34        519            63.77%           1           0     FP\n",
      "32213          35        519            59.67%           1           0     FP\n",
      "32720          46        527            57.89%           1           0     FP\n",
      "32721          47        527            65.08%           1           0     FP\n",
      "32722          48        527            72.60%           1           0     FP\n",
      "32723          49        527            77.55%           1           0     FP\n",
      "32724          50        527            77.14%           1           0     FP\n",
      "32725          51        527            69.65%           1           0     FP\n",
      "32726          52        527            52.29%           1           0     FP\n",
      "32782          46        528            52.08%           1           0     FP\n",
      "32783          47        528            59.22%           1           0     FP\n",
      "32784          48        528            64.90%           1           0     FP\n",
      "32785          49        528            67.14%           1           0     FP\n",
      "32786          50        528            56.68%           1           0     FP\n",
      "33214          44        535            59.05%           1           0     FP\n",
      "33215          45        535            66.53%           1           0     FP\n",
      "33216          46        535            72.85%           1           0     FP\n",
      "33217          47        535            72.70%           1           0     FP\n",
      "33218          48        535            62.36%           1           0     FP\n",
      "34465          55        555            53.80%           1           0     FP\n",
      "34466          56        555            59.91%           1           0     FP\n",
      "34467          57        555            63.80%           1           0     FP\n",
      "34468          58        555            57.16%           1           0     FP\n",
      "35295          17        569            54.06%           1           0     FP\n",
      "35296          18        569            59.03%           1           0     FP\n",
      "35297          19        569            59.91%           1           0     FP\n",
      "35581          55        573            58.07%           1           0     FP\n",
      "35582          56        573            65.12%           1           0     FP\n",
      "35583          57        573            70.40%           1           0     FP\n",
      "35584          58        573            66.52%           1           0     FP\n",
      "35585          59        573            50.35%           1           0     FP\n",
      "36027           5        581            61.35%           1           0     FP\n",
      "36028           6        581            68.25%           1           0     FP\n",
      "36029           7        581            75.38%           1           0     FP\n",
      "36030           8        581            76.44%           1           0     FP\n",
      "36031           9        581            69.43%           1           0     FP\n",
      "36032          10        581            53.02%           1           0     FP\n",
      "36196          50        583            55.51%           1           0     FP\n",
      "36197          51        583            64.21%           1           0     FP\n",
      "36198          52        583            71.28%           1           0     FP\n",
      "36199          53        583            76.25%           1           0     FP\n",
      "36200          54        583            73.01%           1           0     FP\n",
      "36201          55        583            60.56%           1           0     FP\n",
      "37796          38        609            54.22%           1           0     FP\n",
      "37797          39        609            59.70%           1           0     FP\n",
      "37798          40        609            62.05%           1           0     FP\n",
      "37799          41        609            52.33%           1           0     FP\n",
      "38041          35        613            52.18%           1           0     FP\n",
      "38042          36        613            61.52%           1           0     FP\n",
      "38043          37        613            68.81%           1           0     FP\n",
      "38044          38        613            73.13%           1           0     FP\n",
      "38045          39        613            67.54%           1           0     FP\n",
      "38046          40        613            52.00%           1           0     FP\n",
      "38808          58        625            52.22%           1           0     FP\n",
      "38809          59        625            56.62%           1           0     FP\n",
      "38810          60        625            58.48%           1           0     FP\n",
      "40284          46        649            51.27%           1           0     FP\n",
      "40285          47        649            56.60%           1           0     FP\n",
      "40286          48        649            59.71%           1           0     FP\n",
      "40287          49        649            57.08%           1           0     FP\n",
      "40758          24        657            57.43%           1           0     FP\n",
      "40759          25        657            64.18%           1           0     FP\n",
      "40760          26        657            69.20%           1           0     FP\n",
      "40761          27        657            71.51%           1           0     FP\n",
      "40762          28        657            62.59%           1           0     FP\n",
      "41025          43        661            51.40%           1           0     FP\n",
      "41026          44        661            53.49%           1           0     FP\n",
      "41224          56        664            59.12%           1           0     FP\n",
      "41225          57        664            66.50%           1           0     FP\n",
      "41226          58        664            73.85%           1           0     FP\n",
      "41227          59        664            76.67%           1           0     FP\n",
      "41228          60        664            70.50%           1           0     FP\n",
      "41229          61        664            55.37%           1           0     FP\n",
      "41397          43        667            59.33%           1           0     FP\n",
      "41398          44        667            67.33%           1           0     FP\n",
      "41399          45        667            74.49%           1           0     FP\n",
      "41400          46        667            78.71%           1           0     FP\n",
      "41401          47        667            75.10%           1           0     FP\n",
      "41402          48        667            63.61%           1           0     FP\n",
      "41703          39        672            53.38%           1           0     FP\n",
      "41704          40        672            57.75%           1           0     FP\n",
      "41705          41        672            57.04%           1           0     FP\n",
      "41789           1        674            52.26%           1           0     FP\n",
      "41790           2        674            52.94%           1           0     FP\n",
      "41791           3        674            50.99%           1           0     FP\n",
      "42261          39        681            51.04%           1           0     FP\n",
      "42262          40        681            55.20%           1           0     FP\n",
      "42263          41        681            55.70%           1           0     FP\n",
      "42788           8        690            52.48%           1           0     FP\n",
      "42789           9        690            59.39%           1           0     FP\n",
      "42790          10        690            62.56%           1           0     FP\n",
      "42791          11        690            65.23%           1           0     FP\n",
      "42792          12        690            54.58%           1           0     FP\n",
      "43248          34        697            56.17%           1           0     FP\n",
      "43249          35        697            61.47%           1           0     FP\n",
      "43250          36        697            62.32%           1           0     FP\n",
      "43251          37        697            50.68%           1           0     FP\n",
      "44103          21        711            53.45%           1           0     FP\n",
      "44104          22        711            55.80%           1           0     FP\n",
      "45033          21        726            61.89%           1           0     FP\n",
      "45034          22        726            69.77%           1           0     FP\n",
      "45035          23        726            76.56%           1           0     FP\n",
      "45036          24        726            80.70%           1           0     FP\n",
      "45037          25        726            77.43%           1           0     FP\n",
      "45038          26        726            60.63%           1           0     FP\n",
      "45323           1        731            53.58%           1           0     FP\n",
      "45324           2        731            61.93%           1           0     FP\n",
      "45325           3        731            68.98%           1           0     FP\n",
      "45326           4        731            74.35%           1           0     FP\n",
      "45327           5        731            74.31%           1           0     FP\n",
      "45328           6        731            63.83%           1           0     FP\n",
      "45417          33        732            52.41%           1           0     FP\n",
      "45418          34        732            63.37%           1           0     FP\n",
      "45419          35        732            71.15%           1           0     FP\n",
      "45420          36        732            77.44%           1           0     FP\n",
      "45421          37        732            77.07%           1           0     FP\n",
      "45422          38        732            68.72%           1           0     FP\n",
      "45423          39        732            51.78%           1           0     FP\n",
      "45554          46        734            54.76%           1           0     FP\n",
      "45555          47        734            62.02%           1           0     FP\n",
      "45556          48        734            67.92%           1           0     FP\n",
      "45557          49        734            66.03%           1           0     FP\n",
      "45558          50        734            50.97%           1           0     FP\n",
      "46713          27        753            53.05%           1           0     FP\n",
      "46714          28        753            62.65%           1           0     FP\n",
      "46715          29        753            68.19%           1           0     FP\n",
      "46716          30        753            74.03%           1           0     FP\n",
      "46717          31        753            75.63%           1           0     FP\n",
      "46718          32        753            68.36%           1           0     FP\n",
      "46719          33        753            51.28%           1           0     FP\n",
      "47006          10        758            55.07%           1           0     FP\n",
      "47007          11        758            59.63%           1           0     FP\n",
      "47008          12        758            58.79%           1           0     FP\n",
      "47308           2        763            51.41%           1           0     FP\n",
      "47309           3        763            56.70%           1           0     FP\n",
      "47310           4        763            59.20%           1           0     FP\n",
      "47311           5        763            53.92%           1           0     FP\n",
      "47479          49        765            51.66%           1           0     FP\n",
      "47480          50        765            62.66%           1           0     FP\n",
      "47481          51        765            70.14%           1           0     FP\n",
      "47482          52        765            76.60%           1           0     FP\n",
      "47483          53        765            76.36%           1           0     FP\n",
      "47484          54        765            68.04%           1           0     FP\n",
      "47485          55        765            50.52%           1           0     FP\n",
      "49211          45        793            57.04%           1           0     FP\n",
      "49212          46        793            65.70%           1           0     FP\n",
      "49213          47        793            72.43%           1           0     FP\n",
      "49214          48        793            77.16%           1           0     FP\n",
      "49215          49        793            74.23%           1           0     FP\n",
      "49216          50        793            62.79%           1           0     FP\n",
      "50070          36        807            50.54%           1           0     FP\n",
      "50071          37        807            58.14%           1           0     FP\n",
      "50072          38        807            63.70%           1           0     FP\n",
      "50073          39        807            65.09%           1           0     FP\n",
      "50074          40        807            53.83%           1           0     FP\n",
      "50562          32        815            59.87%           1           0     FP\n",
      "50563          33        815            67.20%           1           0     FP\n",
      "50564          34        815            73.25%           1           0     FP\n",
      "50565          35        815            71.69%           1           0     FP\n",
      "50566          36        815            59.63%           1           0     FP\n",
      "51398           0        829            65.06%           1           0     FP\n",
      "51399           1        829            71.30%           1           0     FP\n",
      "51400           2        829            68.78%           1           0     FP\n",
      "51401           3        829            55.80%           1           0     FP\n",
      "51796          26        835            60.13%           1           0     FP\n",
      "51797          27        835            67.55%           1           0     FP\n",
      "51798          28        835            73.31%           1           0     FP\n",
      "51799          29        835            71.44%           1           0     FP\n",
      "51800          30        835            60.10%           1           0     FP\n",
      "52489          37        846            52.74%           1           0     FP\n",
      "52490          38        846            55.92%           1           0     FP\n",
      "52491          39        846            50.90%           1           0     FP\n",
      "52728          28        850            57.32%           1           0     FP\n",
      "52729          29        850            65.28%           1           0     FP\n",
      "52730          30        850            74.72%           1           0     FP\n",
      "52731          31        850            78.20%           1           0     FP\n",
      "52732          32        850            75.21%           1           0     FP\n",
      "52733          33        850            65.21%           1           0     FP\n",
      "53104          32        856            50.88%           1           0     FP\n",
      "53830          14        868            57.52%           1           0     FP\n",
      "53831          15        868            63.43%           1           0     FP\n",
      "53832          16        868            67.14%           1           0     FP\n",
      "53833          17        868            59.14%           1           0     FP\n",
      "54312           0        876            68.53%           1           0     FP\n",
      "54313           1        876            75.87%           1           0     FP\n",
      "54314           2        876            77.65%           1           0     FP\n",
      "54315           3        876            71.56%           1           0     FP\n",
      "54316           4        876            55.58%           1           0     FP\n",
      "54378           4        877            57.16%           1           0     FP\n",
      "54379           5        877            64.39%           1           0     FP\n",
      "54380           6        877            69.93%           1           0     FP\n",
      "54381           7        877            70.60%           1           0     FP\n",
      "54382           8        877            58.87%           1           0     FP\n",
      "54700          16        882            59.21%           1           0     FP\n",
      "54701          17        882            66.95%           1           0     FP\n",
      "54702          18        882            74.09%           1           0     FP\n",
      "54703          19        882            76.31%           1           0     FP\n",
      "54704          20        882            69.66%           1           0     FP\n",
      "54705          21        882            53.59%           1           0     FP\n",
      "55668          54        897            57.39%           1           0     FP\n",
      "55669          55        897            64.48%           1           0     FP\n",
      "55670          56        897            70.69%           1           0     FP\n",
      "55671          57        897            69.70%           1           0     FP\n",
      "55672          58        897            57.91%           1           0     FP\n",
      "55757          19        899            50.46%           1           0     FP\n",
      "55758          20        899            63.44%           1           0     FP\n",
      "55759          21        899            69.46%           1           0     FP\n",
      "55760          22        899            76.31%           1           0     FP\n",
      "55761          23        899            80.05%           1           0     FP\n",
      "55762          24        899            76.85%           1           0     FP\n",
      "55763          25        899            67.15%           1           0     FP\n",
      "55977          53        902            56.56%           1           0     FP\n",
      "55978          54        902            64.09%           1           0     FP\n",
      "55979          55        902            69.67%           1           0     FP\n",
      "55980          56        902            75.02%           1           0     FP\n",
      "55981          57        902            73.53%           1           0     FP\n",
      "55982          58        902            62.90%           1           0     FP\n",
      "56110           0        905            52.15%           1           0     FP\n",
      "56111           1        905            64.19%           1           0     FP\n",
      "56112           2        905            70.70%           1           0     FP\n",
      "56113           3        905            78.51%           1           0     FP\n",
      "56114           4        905            80.32%           1           0     FP\n",
      "56115           5        905            75.74%           1           0     FP\n",
      "56116           6        905            63.89%           1           0     FP\n",
      "56335          39        908            61.30%           1           0     FP\n",
      "56336          40        908            68.69%           1           0     FP\n",
      "56337          41        908            75.41%           1           0     FP\n",
      "56338          42        908            76.16%           1           0     FP\n",
      "56339          43        908            68.28%           1           0     FP\n",
      "56340          44        908            51.14%           1           0     FP\n",
      "57019          41        919            52.43%           1           0     FP\n",
      "58012          42        935            51.37%           1           0     FP\n",
      "58013          43        935            54.61%           1           0     FP\n",
      "58014          44        935            50.46%           1           0     FP\n",
      "58300          20        940            54.76%           1           0     FP\n",
      "58301          21        940            63.60%           1           0     FP\n",
      "58302          22        940            70.59%           1           0     FP\n",
      "58303          23        940            75.77%           1           0     FP\n",
      "58304          24        940            73.06%           1           0     FP\n",
      "58305          25        940            61.03%           1           0     FP\n",
      "59421          25        958            57.31%           1           0     FP\n",
      "59422          26        958            67.77%           1           0     FP\n",
      "59423          27        958            74.89%           1           0     FP\n",
      "59424          28        958            81.54%           1           0     FP\n",
      "59425          29        958            81.93%           1           0     FP\n",
      "59426          30        958            76.13%           1           0     FP\n",
      "59427          31        958            63.63%           1           0     FP\n",
      "61493          51        991            54.73%           1           0     FP\n",
      "61494          52        991            61.37%           1           0     FP\n",
      "61495          53        991            66.72%           1           0     FP\n",
      "61496          54        991            64.57%           1           0     FP\n",
      "61822           8        997            56.56%           1           0     FP\n",
      "61823           9        997            62.93%           1           0     FP\n",
      "61824          10        997            66.70%           1           0     FP\n",
      "61825          11        997            60.27%           1           0     FP\n",
      "62111          49       1001            55.72%           1           0     FP\n",
      "62112          50       1001            62.09%           1           0     FP\n",
      "62113          51       1001            64.01%           1           0     FP\n",
      "62114          52       1001            51.15%           1           0     FP\n",
      "62173          49       1002            54.95%           1           0     FP\n",
      "62174          50       1002            65.77%           1           0     FP\n",
      "62175          51       1002            72.99%           1           0     FP\n",
      "62176          52       1002            79.55%           1           0     FP\n",
      "62177          53       1002            80.09%           1           0     FP\n",
      "62178          54       1002            74.19%           1           0     FP\n",
      "62179          55       1002            60.79%           1           0     FP\n",
      "62508          12       1008            56.82%           1           0     FP\n",
      "62509          13       1008            64.98%           1           0     FP\n",
      "62510          14       1008            70.37%           1           0     FP\n",
      "62511          15       1008            71.90%           1           0     FP\n",
      "62512          16       1008            62.49%           1           0     FP\n",
      "63596          46       1025            50.22%           1           0     FP\n",
      "63597          47       1025            61.22%           1           0     FP\n",
      "63598          48       1025            68.53%           1           0     FP\n",
      "63599          49       1025            74.74%           1           0     FP\n",
      "63600          50       1025            77.02%           1           0     FP\n",
      "63601          51       1025            70.70%           1           0     FP\n",
      "63602          52       1025            55.01%           1           0     FP\n",
      "63948          26       1031            51.30%           1           0     FP\n",
      "63949          27       1031            54.29%           1           0     FP\n",
      "63950          28       1031            50.87%           1           0     FP\n",
      "64188          18       1035            52.72%           1           0     FP\n",
      "64189          19       1035            61.89%           1           0     FP\n",
      "64190          20       1035            69.04%           1           0     FP\n",
      "64191          21       1035            76.85%           1           0     FP\n",
      "64192          22       1035            73.49%           1           0     FP\n",
      "64193          23       1035            62.91%           1           0     FP\n",
      "65889          45       1062            62.43%           1           0     FP\n",
      "65890          46       1062            71.13%           1           0     FP\n",
      "65891          47       1062            77.49%           1           0     FP\n",
      "65892          48       1062            82.76%           1           0     FP\n",
      "65893          49       1062            82.58%           1           0     FP\n",
      "65894          50       1062            75.60%           1           0     FP\n",
      "65895          51       1062            61.98%           1           0     FP\n",
      "66224           8       1068            60.17%           1           0     FP\n",
      "66225           9       1068            68.16%           1           0     FP\n",
      "66226          10       1068            75.39%           1           0     FP\n",
      "66227          11       1068            79.81%           1           0     FP\n",
      "66228          12       1068            76.52%           1           0     FP\n",
      "66229          13       1068            66.52%           1           0     FP\n",
      "67040          18       1081            53.12%           1           0     FP\n",
      "67041          19       1081            62.69%           1           0     FP\n",
      "67042          20       1081            67.33%           1           0     FP\n",
      "67043          21       1081            73.01%           1           0     FP\n",
      "67044          22       1081            70.47%           1           0     FP\n",
      "67045          23       1081            58.62%           1           0     FP\n",
      "68076           0       1098            57.41%           1           0     FP\n",
      "68077           1       1098            60.13%           1           0     FP\n",
      "68225          25       1100            50.78%           1           0     FP\n",
      "68226          26       1100            58.97%           1           0     FP\n",
      "68227          27       1100            63.31%           1           0     FP\n",
      "68228          28       1100            57.38%           1           0     FP\n",
      "68835          15       1110            52.10%           1           0     FP\n",
      "68836          16       1110            64.83%           1           0     FP\n",
      "68837          17       1110            71.87%           1           0     FP\n",
      "68838          18       1110            79.18%           1           0     FP\n",
      "68839          19       1110            81.76%           1           0     FP\n",
      "68840          20       1110            77.99%           1           0     FP\n",
      "68841          21       1110            68.09%           1           0     FP\n",
      "68842          22       1110            51.66%           1           0     FP\n",
      "71585          37       1154            50.20%           1           0     FP\n",
      "71586          38       1154            56.69%           1           0     FP\n",
      "71587          39       1154            61.98%           1           0     FP\n",
      "71588          40       1154            60.57%           1           0     FP\n",
      "71708          36       1156            55.11%           1           0     FP\n",
      "71709          37       1156            65.45%           1           0     FP\n",
      "71710          38       1156            72.21%           1           0     FP\n",
      "71711          39       1156            78.50%           1           0     FP\n",
      "71712          40       1156            78.50%           1           0     FP\n",
      "71713          41       1156            71.43%           1           0     FP\n",
      "71714          42       1156            56.66%           1           0     FP\n",
      "71734           0       1157            95.94%           1           0     FP\n",
      "71735           1       1157            95.95%           1           0     FP\n",
      "71736           2       1157            96.67%           1           0     FP\n",
      "71737           3       1157            97.29%           1           0     FP\n",
      "71738           4       1157            97.48%           1           0     FP\n",
      "71739           5       1157            97.52%           1           0     FP\n",
      "71740           6       1157            97.51%           1           0     FP\n",
      "71741           7       1157            97.44%           1           0     FP\n",
      "71742           8       1157            97.39%           1           0     FP\n",
      "71743           9       1157            97.54%           1           0     FP\n",
      "71744          10       1157            97.75%           1           0     FP\n",
      "71745          11       1157            97.34%           1           0     FP\n",
      "71746          12       1157            96.70%           1           0     FP\n",
      "71747          13       1157            95.99%           1           0     FP\n",
      "71748          14       1157            95.18%           1           0     FP\n",
      "71749          15       1157            94.84%           1           0     FP\n",
      "71750          16       1157            95.74%           1           0     FP\n",
      "71751          17       1157            95.52%           1           0     FP\n",
      "71752          18       1157            96.36%           1           0     FP\n",
      "71753          19       1157            97.23%           1           0     FP\n",
      "71754          20       1157            97.63%           1           0     FP\n",
      "71755          21       1157            98.11%           1           0     FP\n",
      "71756          22       1157            98.58%           1           0     FP\n",
      "71757          23       1157            98.71%           1           0     FP\n",
      "71758          24       1157            98.60%           1           0     FP\n",
      "71759          25       1157            98.51%           1           0     FP\n",
      "71760          26       1157            98.48%           1           0     FP\n",
      "71761          27       1157            98.50%           1           0     FP\n",
      "71762          28       1157            98.42%           1           0     FP\n",
      "71763          29       1157            98.10%           1           0     FP\n",
      "71764          30       1157            97.66%           1           0     FP\n",
      "71765          31       1157            97.11%           1           0     FP\n",
      "71766          32       1157            96.31%           1           0     FP\n",
      "71767          33       1157            94.82%           1           0     FP\n",
      "71768          34       1157            92.10%           1           0     FP\n",
      "71769          35       1157            88.52%           1           0     FP\n",
      "71770          36       1157            87.92%           1           0     FP\n",
      "71771          37       1157            90.18%           1           0     FP\n",
      "71772          38       1157            92.27%           1           0     FP\n",
      "71773          39       1157            93.33%           1           0     FP\n",
      "71774          40       1157            93.81%           1           0     FP\n",
      "71775          41       1157            94.18%           1           0     FP\n",
      "71776          42       1157            94.13%           1           0     FP\n",
      "71777          43       1157            93.29%           1           0     FP\n",
      "71778          44       1157            91.96%           1           0     FP\n",
      "71779          45       1157            92.16%           1           0     FP\n",
      "71780          46       1157            95.06%           1           0     FP\n",
      "71781          47       1157            94.94%           1           0     FP\n",
      "71782          48       1157            94.05%           1           0     FP\n",
      "71783          49       1157            93.02%           1           0     FP\n",
      "71784          50       1157            92.94%           1           0     FP\n",
      "71785          51       1157            94.09%           1           0     FP\n",
      "71786          52       1157            96.80%           1           0     FP\n",
      "71787          53       1157            98.42%           1           0     FP\n",
      "71788          54       1157            98.89%           1           0     FP\n",
      "71789          55       1157            98.95%           1           0     FP\n",
      "71790          56       1157            98.87%           1           0     FP\n",
      "71791          57       1157            98.64%           1           0     FP\n",
      "71792          58       1157            98.33%           1           0     FP\n",
      "71793          59       1157            97.81%           1           0     FP\n",
      "71794          60       1157            97.42%           1           0     FP\n",
      "71795          61       1157            97.30%           1           0     FP\n",
      "72300           8       1166            51.24%           1           0     FP\n",
      "72951          39       1176            59.06%           1           0     FP\n",
      "72952          40       1176            67.38%           1           0     FP\n",
      "72953          41       1176            75.02%           1           0     FP\n",
      "72954          42       1176            78.77%           1           0     FP\n",
      "72955          43       1176            74.69%           1           0     FP\n",
      "72956          44       1176            62.61%           1           0     FP\n",
      "73662           6       1188            53.56%           1           0     FP\n",
      "73663           7       1188            60.70%           1           0     FP\n",
      "73664           8       1188            62.49%           1           0     FP\n",
      "73665           9       1188            59.26%           1           0     FP\n",
      "73780           0       1190            72.62%           1           0     FP\n",
      "73781           1       1190            67.17%           1           0     FP\n",
      "73782           2       1190            50.06%           1           0     FP\n",
      "74793          21       1206            52.19%           1           0     FP\n",
      "74794          22       1206            61.60%           1           0     FP\n",
      "74795          23       1206            68.84%           1           0     FP\n",
      "74796          24       1206            75.22%           1           0     FP\n",
      "74797          25       1206            73.10%           1           0     FP\n",
      "74798          26       1206            60.92%           1           0     FP\n",
      "75623          45       1219            57.31%           1           0     FP\n",
      "75624          46       1219            65.70%           1           0     FP\n",
      "75625          47       1219            72.86%           1           0     FP\n",
      "75626          48       1219            77.46%           1           0     FP\n",
      "75627          49       1219            73.81%           1           0     FP\n",
      "75628          50       1219            62.78%           1           0     FP\n",
      "75873          47       1223            59.02%           1           0     FP\n",
      "75874          48       1223            66.61%           1           0     FP\n",
      "75875          49       1223            72.91%           1           0     FP\n",
      "75876          50       1223            72.13%           1           0     FP\n",
      "75877          51       1223            61.11%           1           0     FP\n",
      "76158          22       1228            50.23%           1           0     FP\n",
      "76159          23       1228            59.07%           1           0     FP\n",
      "76160          24       1228            65.84%           1           0     FP\n",
      "76161          25       1228            69.16%           1           0     FP\n",
      "76162          26       1228            61.26%           1           0     FP\n",
      "76399          15       1232            51.26%           1           0     FP\n",
      "76400          16       1232            55.32%           1           0     FP\n",
      "76694           0       1237            69.00%           1           0     FP\n",
      "76695           1       1237            76.34%           1           0     FP\n",
      "76696           2       1237            77.57%           1           0     FP\n",
      "76697           3       1237            71.62%           1           0     FP\n",
      "76698           4       1237            56.04%           1           0     FP\n",
      "77181          53       1244            51.42%           1           0     FP\n",
      "77182          54       1244            54.36%           1           0     FP\n",
      "79133          21       1276            55.10%           1           0     FP\n",
      "79134          22       1276            57.18%           1           0     FP\n",
      "80347          57       1295            57.99%           1           0     FP\n",
      "80348          58       1295            65.80%           1           0     FP\n",
      "80349          59       1295            72.55%           1           0     FP\n",
      "80350          60       1295            75.85%           1           0     FP\n",
      "80351          61       1295            69.84%           1           0     FP\n",
      "80396          44       1296            53.23%           1           0     FP\n",
      "80397          45       1296            58.81%           1           0     FP\n",
      "80398          46       1296            61.71%           1           0     FP\n",
      "80399          47       1296            53.19%           1           0     FP\n",
      "80500          24       1298            53.64%           1           0     FP\n",
      "80501          25       1298            62.99%           1           0     FP\n",
      "80502          26       1298            70.71%           1           0     FP\n",
      "80503          27       1298            75.45%           1           0     FP\n",
      "80504          28       1298            71.44%           1           0     FP\n",
      "80505          29       1298            57.90%           1           0     FP\n"
     ]
    },
    {
     "data": {
      "image/png": "[encoded data removed]",
      "text/plain": [
       "<Figure size 640x480 with 1 Axes>"
      ]
     },
     "metadata": {},
     "output_type": "display_data"
    },
    {
     "data": {
      "image/png": "[encoded data removed]",
      "text/plain": [
       "<Figure size 640x480 with 1 Axes>"
      ]
     },
     "metadata": {},
     "output_type": "display_data"
    },
    {
     "data": {
      "image/png": "[encoded data removed]",
      "text/plain": [
       "<Figure size 640x480 with 1 Axes>"
      ]
     },
     "metadata": {},
     "output_type": "display_data"
    },
    {
     "name": "stdout",
     "output_type": "stream",
     "text": [
      "FALSE NEGATIVES\n",
      "       window idx  event_idx  Pred probability  Pred label  True label Result\n",
      "124             0          2            14.04%           0           1     FN\n",
      "125             1          2            48.67%           0           1     FN\n",
      "248             0          4            19.45%           0           1     FN\n",
      "434             0          7            18.21%           0           1     FN\n",
      "436             2          7            49.64%           0           1     FN\n",
      "...           ...        ...               ...         ...         ...    ...\n",
      "80233           5       1294             2.37%           0           1     FN\n",
      "80234           6       1294            21.42%           0           1     FN\n",
      "80538           0       1299             8.38%           0           1     FN\n",
      "80539           1       1299            25.72%           0           1     FN\n",
      "80540           2       1299            49.74%           0           1     FN\n",
      "\n",
      "[17444 rows x 6 columns]\n"
     ]
    },
    {
     "data": {
      "image/png": "[encoded data removed]",
      "text/plain": [
       "<Figure size 640x480 with 1 Axes>"
      ]
     },
     "metadata": {},
     "output_type": "display_data"
    },
    {
     "data": {
      "image/png": "[encoded data removed]",
      "text/plain": [
       "<Figure size 640x480 with 1 Axes>"
      ]
     },
     "metadata": {},
     "output_type": "display_data"
    },
    {
     "data": {
      "image/png": "[encoded data removed]",
      "text/plain": [
       "<Figure size 640x480 with 1 Axes>"
      ]
     },
     "metadata": {},
     "output_type": "display_data"
    }
   ],
   "source": [
    "# df and plots settings\n",
    "pd.set_option(\"display.float_format\", \"{:.2%}\".format)\n",
    "\n",
    "pd.options.plotting.backend = \"matplotlib\"\n",
    "\n",
    "\n",
    "# print(dataset_df)\n",
    "pd.set_option(\"display.max_rows\", 2000)\n",
    "false_positive = dataset_df.query('Result == \"FP\"')\n",
    "false_negative = dataset_df.query('Result == \"FN\"')\n",
    "# sample_df = pd.concat([sample_df, sample_df])\n",
    "\n",
    "false_positive_plot = false_positive.groupby([\"window idx\"])[\"window idx\"].count()\n",
    "false_negative_plot = false_negative.groupby([\"window idx\"])[\"window idx\"].count()\n",
    "# print(false_positive['Pred probability'].value_counts(bins=10, sort=False))\n",
    "\n",
    "\n",
    "if len(false_positive_plot) > 0:\n",
    "    print(\"FALSE POSITVES\")\n",
    "    print(false_positive)\n",
    "    # print(false_positive.groupby(['event_idx'])['event_idx'].count())\n",
    "    false_positive.groupby(['event_idx'])['event_idx'].count().plot(kind='bar')\n",
    "    plt.show()\n",
    "    false_positive_plot.plot(kind=\"bar\", edgecolor=\"black\")\n",
    "    plt.show()\n",
    "    false_positive[\"Pred probability\"].value_counts(\n",
    "        bins = [i * 0.1 for i in range(5, 11)], sort=False, normalize=True\n",
    "    ).plot(kind=\"bar\")\n",
    "    plt.show()\n",
    "if len(false_negative_plot) > 0:\n",
    "    print(\"FALSE NEGATIVES\")\n",
    "    print(false_negative)\n",
    "    # print(false_negative.groupby(['event_idx'])['event_idx'].count())\n",
    "    false_negative.groupby(['event_idx'])['event_idx'].count().plot(kind='bar')\n",
    "    plt.show()\n",
    "\n",
    "    false_negative_plot.plot(kind=\"bar\", edgecolor=\"black\")\n",
    "    plt.show()\n",
    "    false_negative[\"Pred probability\"].value_counts(\n",
    "        bins = [i * 0.1 for i in range(6)], sort=False, normalize=True\n",
    "    ).plot(kind=\"bar\")\n",
    "    plt.show()\n",
    "\n",
    "\n",
    "\n",
    "\n",
    "plt.show()\n"
   ]
  },
  {
   "cell_type": "code",
   "execution_count": 83,
   "metadata": {},
   "outputs": [
    {
     "name": "stdout",
     "output_type": "stream",
     "text": [
      "[29676   805 32675 17444 47120]\n",
      "Total windows:................80600\n",
      "True Positives:...............29676\n",
      "False Positives:.............. 805\n",
      "True Negatives:...............32675\n",
      "False Negatives:..............17444\n",
      "Accuracy:.....................  77.4%\n",
      "True Positive Rate:...........  63.0%\n",
      "False Positive Rate:..........   2.4%\n",
      "True Negative Rate:...........  97.6%\n",
      "Positive Predictive Value:....  97.4%\n"
     ]
    },
    {
     "data": {
      "application/vnd.plotly.v1+json": {
       "config": {
        "plotlyServerURL": "https://plot.ly"
       },
       "data": [
        {
         "coloraxis": "coloraxis",
         "hovertemplate": "Predicted Label: %{x}<br>Real Label: %{y}<br>Predictions: %{z}<extra></extra>",
         "name": "0",
         "texttemplate": "%{z}",
         "type": "heatmap",
         "x": [
          "Positive",
          "Negative"
         ],
         "xaxis": "x",
         "y": [
          "Positive",
          "Negative"
         ],
         "yaxis": "y",
         "z": [
          [
           29676,
           17444
          ],
          [
           805,
           32675
          ]
         ]
        }
       ],
       "layout": {
        "coloraxis": {
         "colorbar": {
          "title": {
           "text": "Predictions"
          }
         },
         "colorscale": [
          [
           0,
           "rgb(2,4,25)"
          ],
          [
           0.0625,
           "rgb(24,15,41)"
          ],
          [
           0.125,
           "rgb(47,23,57)"
          ],
          [
           0.1875,
           "rgb(71,28,72)"
          ],
          [
           0.25,
           "rgb(97,30,82)"
          ],
          [
           0.3125,
           "rgb(123,30,89)"
          ],
          [
           0.375,
           "rgb(150,27,91)"
          ],
          [
           0.4375,
           "rgb(177,22,88)"
          ],
          [
           0.5,
           "rgb(203,26,79)"
          ],
          [
           0.5625,
           "rgb(223,47,67)"
          ],
          [
           0.625,
           "rgb(236,76,61)"
          ],
          [
           0.6875,
           "rgb(242,107,73)"
          ],
          [
           0.75,
           "rgb(244,135,95)"
          ],
          [
           0.8125,
           "rgb(245,162,122)"
          ],
          [
           0.875,
           "rgb(246,188,153)"
          ],
          [
           0.9375,
           "rgb(247,212,187)"
          ],
          [
           1,
           "rgb(250,234,220)"
          ]
         ]
        },
        "height": 300,
        "margin": {
         "t": 60
        },
        "template": {
         "data": {
          "bar": [
           {
            "error_x": {
             "color": "rgb(36,36,36)"
            },
            "error_y": {
             "color": "rgb(36,36,36)"
            },
            "marker": {
             "line": {
              "color": "rgb(234,234,242)",
              "width": 0.5
             },
             "pattern": {
              "fillmode": "overlay",
              "size": 10,
              "solidity": 0.2
             }
            },
            "type": "bar"
           }
          ],
          "barpolar": [
           {
            "marker": {
             "line": {
              "color": "rgb(234,234,242)",
              "width": 0.5
             },
             "pattern": {
              "fillmode": "overlay",
              "size": 10,
              "solidity": 0.2
             }
            },
            "type": "barpolar"
           }
          ],
          "carpet": [
           {
            "aaxis": {
             "endlinecolor": "rgb(36,36,36)",
             "gridcolor": "white",
             "linecolor": "white",
             "minorgridcolor": "white",
             "startlinecolor": "rgb(36,36,36)"
            },
            "baxis": {
             "endlinecolor": "rgb(36,36,36)",
             "gridcolor": "white",
             "linecolor": "white",
             "minorgridcolor": "white",
             "startlinecolor": "rgb(36,36,36)"
            },
            "type": "carpet"
           }
          ],
          "choropleth": [
           {
            "colorbar": {
             "outlinewidth": 0,
             "tickcolor": "rgb(36,36,36)",
             "ticklen": 8,
             "ticks": "outside",
             "tickwidth": 2
            },
            "type": "choropleth"
           }
          ],
          "contour": [
           {
            "colorbar": {
             "outlinewidth": 0,
             "tickcolor": "rgb(36,36,36)",
             "ticklen": 8,
             "ticks": "outside",
             "tickwidth": 2
            },
            "colorscale": [
             [
              0,
              "rgb(2,4,25)"
             ],
             [
              0.06274509803921569,
              "rgb(24,15,41)"
             ],
             [
              0.12549019607843137,
              "rgb(47,23,57)"
             ],
             [
              0.18823529411764706,
              "rgb(71,28,72)"
             ],
             [
              0.25098039215686274,
              "rgb(97,30,82)"
             ],
             [
              0.3137254901960784,
              "rgb(123,30,89)"
             ],
             [
              0.3764705882352941,
              "rgb(150,27,91)"
             ],
             [
              0.4392156862745098,
              "rgb(177,22,88)"
             ],
             [
              0.5019607843137255,
              "rgb(203,26,79)"
             ],
             [
              0.5647058823529412,
              "rgb(223,47,67)"
             ],
             [
              0.6274509803921569,
              "rgb(236,76,61)"
             ],
             [
              0.6901960784313725,
              "rgb(242,107,73)"
             ],
             [
              0.7529411764705882,
              "rgb(244,135,95)"
             ],
             [
              0.8156862745098039,
              "rgb(245,162,122)"
             ],
             [
              0.8784313725490196,
              "rgb(246,188,153)"
             ],
             [
              0.9411764705882353,
              "rgb(247,212,187)"
             ],
             [
              1,
              "rgb(250,234,220)"
             ]
            ],
            "type": "contour"
           }
          ],
          "contourcarpet": [
           {
            "colorbar": {
             "outlinewidth": 0,
             "tickcolor": "rgb(36,36,36)",
             "ticklen": 8,
             "ticks": "outside",
             "tickwidth": 2
            },
            "type": "contourcarpet"
           }
          ],
          "heatmap": [
           {
            "colorbar": {
             "outlinewidth": 0,
             "tickcolor": "rgb(36,36,36)",
             "ticklen": 8,
             "ticks": "outside",
             "tickwidth": 2
            },
            "colorscale": [
             [
              0,
              "rgb(2,4,25)"
             ],
             [
              0.06274509803921569,
              "rgb(24,15,41)"
             ],
             [
              0.12549019607843137,
              "rgb(47,23,57)"
             ],
             [
              0.18823529411764706,
              "rgb(71,28,72)"
             ],
             [
              0.25098039215686274,
              "rgb(97,30,82)"
             ],
             [
              0.3137254901960784,
              "rgb(123,30,89)"
             ],
             [
              0.3764705882352941,
              "rgb(150,27,91)"
             ],
             [
              0.4392156862745098,
              "rgb(177,22,88)"
             ],
             [
              0.5019607843137255,
              "rgb(203,26,79)"
             ],
             [
              0.5647058823529412,
              "rgb(223,47,67)"
             ],
             [
              0.6274509803921569,
              "rgb(236,76,61)"
             ],
             [
              0.6901960784313725,
              "rgb(242,107,73)"
             ],
             [
              0.7529411764705882,
              "rgb(244,135,95)"
             ],
             [
              0.8156862745098039,
              "rgb(245,162,122)"
             ],
             [
              0.8784313725490196,
              "rgb(246,188,153)"
             ],
             [
              0.9411764705882353,
              "rgb(247,212,187)"
             ],
             [
              1,
              "rgb(250,234,220)"
             ]
            ],
            "type": "heatmap"
           }
          ],
          "heatmapgl": [
           {
            "colorbar": {
             "outlinewidth": 0,
             "tickcolor": "rgb(36,36,36)",
             "ticklen": 8,
             "ticks": "outside",
             "tickwidth": 2
            },
            "colorscale": [
             [
              0,
              "rgb(2,4,25)"
             ],
             [
              0.06274509803921569,
              "rgb(24,15,41)"
             ],
             [
              0.12549019607843137,
              "rgb(47,23,57)"
             ],
             [
              0.18823529411764706,
              "rgb(71,28,72)"
             ],
             [
              0.25098039215686274,
              "rgb(97,30,82)"
             ],
             [
              0.3137254901960784,
              "rgb(123,30,89)"
             ],
             [
              0.3764705882352941,
              "rgb(150,27,91)"
             ],
             [
              0.4392156862745098,
              "rgb(177,22,88)"
             ],
             [
              0.5019607843137255,
              "rgb(203,26,79)"
             ],
             [
              0.5647058823529412,
              "rgb(223,47,67)"
             ],
             [
              0.6274509803921569,
              "rgb(236,76,61)"
             ],
             [
              0.6901960784313725,
              "rgb(242,107,73)"
             ],
             [
              0.7529411764705882,
              "rgb(244,135,95)"
             ],
             [
              0.8156862745098039,
              "rgb(245,162,122)"
             ],
             [
              0.8784313725490196,
              "rgb(246,188,153)"
             ],
             [
              0.9411764705882353,
              "rgb(247,212,187)"
             ],
             [
              1,
              "rgb(250,234,220)"
             ]
            ],
            "type": "heatmapgl"
           }
          ],
          "histogram": [
           {
            "marker": {
             "pattern": {
              "fillmode": "overlay",
              "size": 10,
              "solidity": 0.2
             }
            },
            "type": "histogram"
           }
          ],
          "histogram2d": [
           {
            "colorbar": {
             "outlinewidth": 0,
             "tickcolor": "rgb(36,36,36)",
             "ticklen": 8,
             "ticks": "outside",
             "tickwidth": 2
            },
            "colorscale": [
             [
              0,
              "rgb(2,4,25)"
             ],
             [
              0.06274509803921569,
              "rgb(24,15,41)"
             ],
             [
              0.12549019607843137,
              "rgb(47,23,57)"
             ],
             [
              0.18823529411764706,
              "rgb(71,28,72)"
             ],
             [
              0.25098039215686274,
              "rgb(97,30,82)"
             ],
             [
              0.3137254901960784,
              "rgb(123,30,89)"
             ],
             [
              0.3764705882352941,
              "rgb(150,27,91)"
             ],
             [
              0.4392156862745098,
              "rgb(177,22,88)"
             ],
             [
              0.5019607843137255,
              "rgb(203,26,79)"
             ],
             [
              0.5647058823529412,
              "rgb(223,47,67)"
             ],
             [
              0.6274509803921569,
              "rgb(236,76,61)"
             ],
             [
              0.6901960784313725,
              "rgb(242,107,73)"
             ],
             [
              0.7529411764705882,
              "rgb(244,135,95)"
             ],
             [
              0.8156862745098039,
              "rgb(245,162,122)"
             ],
             [
              0.8784313725490196,
              "rgb(246,188,153)"
             ],
             [
              0.9411764705882353,
              "rgb(247,212,187)"
             ],
             [
              1,
              "rgb(250,234,220)"
             ]
            ],
            "type": "histogram2d"
           }
          ],
          "histogram2dcontour": [
           {
            "colorbar": {
             "outlinewidth": 0,
             "tickcolor": "rgb(36,36,36)",
             "ticklen": 8,
             "ticks": "outside",
             "tickwidth": 2
            },
            "colorscale": [
             [
              0,
              "rgb(2,4,25)"
             ],
             [
              0.06274509803921569,
              "rgb(24,15,41)"
             ],
             [
              0.12549019607843137,
              "rgb(47,23,57)"
             ],
             [
              0.18823529411764706,
              "rgb(71,28,72)"
             ],
             [
              0.25098039215686274,
              "rgb(97,30,82)"
             ],
             [
              0.3137254901960784,
              "rgb(123,30,89)"
             ],
             [
              0.3764705882352941,
              "rgb(150,27,91)"
             ],
             [
              0.4392156862745098,
              "rgb(177,22,88)"
             ],
             [
              0.5019607843137255,
              "rgb(203,26,79)"
             ],
             [
              0.5647058823529412,
              "rgb(223,47,67)"
             ],
             [
              0.6274509803921569,
              "rgb(236,76,61)"
             ],
             [
              0.6901960784313725,
              "rgb(242,107,73)"
             ],
             [
              0.7529411764705882,
              "rgb(244,135,95)"
             ],
             [
              0.8156862745098039,
              "rgb(245,162,122)"
             ],
             [
              0.8784313725490196,
              "rgb(246,188,153)"
             ],
             [
              0.9411764705882353,
              "rgb(247,212,187)"
             ],
             [
              1,
              "rgb(250,234,220)"
             ]
            ],
            "type": "histogram2dcontour"
           }
          ],
          "mesh3d": [
           {
            "colorbar": {
             "outlinewidth": 0,
             "tickcolor": "rgb(36,36,36)",
             "ticklen": 8,
             "ticks": "outside",
             "tickwidth": 2
            },
            "type": "mesh3d"
           }
          ],
          "parcoords": [
           {
            "line": {
             "colorbar": {
              "outlinewidth": 0,
              "tickcolor": "rgb(36,36,36)",
              "ticklen": 8,
              "ticks": "outside",
              "tickwidth": 2
             }
            },
            "type": "parcoords"
           }
          ],
          "pie": [
           {
            "automargin": true,
            "type": "pie"
           }
          ],
          "scatter": [
           {
            "fillpattern": {
             "fillmode": "overlay",
             "size": 10,
             "solidity": 0.2
            },
            "type": "scatter"
           }
          ],
          "scatter3d": [
           {
            "line": {
             "colorbar": {
              "outlinewidth": 0,
              "tickcolor": "rgb(36,36,36)",
              "ticklen": 8,
              "ticks": "outside",
              "tickwidth": 2
             }
            },
            "marker": {
             "colorbar": {
              "outlinewidth": 0,
              "tickcolor": "rgb(36,36,36)",
              "ticklen": 8,
              "ticks": "outside",
              "tickwidth": 2
             }
            },
            "type": "scatter3d"
           }
          ],
          "scattercarpet": [
           {
            "marker": {
             "colorbar": {
              "outlinewidth": 0,
              "tickcolor": "rgb(36,36,36)",
              "ticklen": 8,
              "ticks": "outside",
              "tickwidth": 2
             }
            },
            "type": "scattercarpet"
           }
          ],
          "scattergeo": [
           {
            "marker": {
             "colorbar": {
              "outlinewidth": 0,
              "tickcolor": "rgb(36,36,36)",
              "ticklen": 8,
              "ticks": "outside",
              "tickwidth": 2
             }
            },
            "type": "scattergeo"
           }
          ],
          "scattergl": [
           {
            "marker": {
             "colorbar": {
              "outlinewidth": 0,
              "tickcolor": "rgb(36,36,36)",
              "ticklen": 8,
              "ticks": "outside",
              "tickwidth": 2
             }
            },
            "type": "scattergl"
           }
          ],
          "scattermapbox": [
           {
            "marker": {
             "colorbar": {
              "outlinewidth": 0,
              "tickcolor": "rgb(36,36,36)",
              "ticklen": 8,
              "ticks": "outside",
              "tickwidth": 2
             }
            },
            "type": "scattermapbox"
           }
          ],
          "scatterpolar": [
           {
            "marker": {
             "colorbar": {
              "outlinewidth": 0,
              "tickcolor": "rgb(36,36,36)",
              "ticklen": 8,
              "ticks": "outside",
              "tickwidth": 2
             }
            },
            "type": "scatterpolar"
           }
          ],
          "scatterpolargl": [
           {
            "marker": {
             "colorbar": {
              "outlinewidth": 0,
              "tickcolor": "rgb(36,36,36)",
              "ticklen": 8,
              "ticks": "outside",
              "tickwidth": 2
             }
            },
            "type": "scatterpolargl"
           }
          ],
          "scatterternary": [
           {
            "marker": {
             "colorbar": {
              "outlinewidth": 0,
              "tickcolor": "rgb(36,36,36)",
              "ticklen": 8,
              "ticks": "outside",
              "tickwidth": 2
             }
            },
            "type": "scatterternary"
           }
          ],
          "surface": [
           {
            "colorbar": {
             "outlinewidth": 0,
             "tickcolor": "rgb(36,36,36)",
             "ticklen": 8,
             "ticks": "outside",
             "tickwidth": 2
            },
            "colorscale": [
             [
              0,
              "rgb(2,4,25)"
             ],
             [
              0.06274509803921569,
              "rgb(24,15,41)"
             ],
             [
              0.12549019607843137,
              "rgb(47,23,57)"
             ],
             [
              0.18823529411764706,
              "rgb(71,28,72)"
             ],
             [
              0.25098039215686274,
              "rgb(97,30,82)"
             ],
             [
              0.3137254901960784,
              "rgb(123,30,89)"
             ],
             [
              0.3764705882352941,
              "rgb(150,27,91)"
             ],
             [
              0.4392156862745098,
              "rgb(177,22,88)"
             ],
             [
              0.5019607843137255,
              "rgb(203,26,79)"
             ],
             [
              0.5647058823529412,
              "rgb(223,47,67)"
             ],
             [
              0.6274509803921569,
              "rgb(236,76,61)"
             ],
             [
              0.6901960784313725,
              "rgb(242,107,73)"
             ],
             [
              0.7529411764705882,
              "rgb(244,135,95)"
             ],
             [
              0.8156862745098039,
              "rgb(245,162,122)"
             ],
             [
              0.8784313725490196,
              "rgb(246,188,153)"
             ],
             [
              0.9411764705882353,
              "rgb(247,212,187)"
             ],
             [
              1,
              "rgb(250,234,220)"
             ]
            ],
            "type": "surface"
           }
          ],
          "table": [
           {
            "cells": {
             "fill": {
              "color": "rgb(231,231,240)"
             },
             "line": {
              "color": "white"
             }
            },
            "header": {
             "fill": {
              "color": "rgb(183,183,191)"
             },
             "line": {
              "color": "white"
             }
            },
            "type": "table"
           }
          ]
         },
         "layout": {
          "annotationdefaults": {
           "arrowcolor": "rgb(67,103,167)"
          },
          "autotypenumbers": "strict",
          "coloraxis": {
           "colorbar": {
            "outlinewidth": 0,
            "tickcolor": "rgb(36,36,36)",
            "ticklen": 8,
            "ticks": "outside",
            "tickwidth": 2
           }
          },
          "colorscale": {
           "sequential": [
            [
             0,
             "rgb(2,4,25)"
            ],
            [
             0.06274509803921569,
             "rgb(24,15,41)"
            ],
            [
             0.12549019607843137,
             "rgb(47,23,57)"
            ],
            [
             0.18823529411764706,
             "rgb(71,28,72)"
            ],
            [
             0.25098039215686274,
             "rgb(97,30,82)"
            ],
            [
             0.3137254901960784,
             "rgb(123,30,89)"
            ],
            [
             0.3764705882352941,
             "rgb(150,27,91)"
            ],
            [
             0.4392156862745098,
             "rgb(177,22,88)"
            ],
            [
             0.5019607843137255,
             "rgb(203,26,79)"
            ],
            [
             0.5647058823529412,
             "rgb(223,47,67)"
            ],
            [
             0.6274509803921569,
             "rgb(236,76,61)"
            ],
            [
             0.6901960784313725,
             "rgb(242,107,73)"
            ],
            [
             0.7529411764705882,
             "rgb(244,135,95)"
            ],
            [
             0.8156862745098039,
             "rgb(245,162,122)"
            ],
            [
             0.8784313725490196,
             "rgb(246,188,153)"
            ],
            [
             0.9411764705882353,
             "rgb(247,212,187)"
            ],
            [
             1,
             "rgb(250,234,220)"
            ]
           ],
           "sequentialminus": [
            [
             0,
             "rgb(2,4,25)"
            ],
            [
             0.06274509803921569,
             "rgb(24,15,41)"
            ],
            [
             0.12549019607843137,
             "rgb(47,23,57)"
            ],
            [
             0.18823529411764706,
             "rgb(71,28,72)"
            ],
            [
             0.25098039215686274,
             "rgb(97,30,82)"
            ],
            [
             0.3137254901960784,
             "rgb(123,30,89)"
            ],
            [
             0.3764705882352941,
             "rgb(150,27,91)"
            ],
            [
             0.4392156862745098,
             "rgb(177,22,88)"
            ],
            [
             0.5019607843137255,
             "rgb(203,26,79)"
            ],
            [
             0.5647058823529412,
             "rgb(223,47,67)"
            ],
            [
             0.6274509803921569,
             "rgb(236,76,61)"
            ],
            [
             0.6901960784313725,
             "rgb(242,107,73)"
            ],
            [
             0.7529411764705882,
             "rgb(244,135,95)"
            ],
            [
             0.8156862745098039,
             "rgb(245,162,122)"
            ],
            [
             0.8784313725490196,
             "rgb(246,188,153)"
            ],
            [
             0.9411764705882353,
             "rgb(247,212,187)"
            ],
            [
             1,
             "rgb(250,234,220)"
            ]
           ]
          },
          "colorway": [
           "rgb(76,114,176)",
           "rgb(221,132,82)",
           "rgb(85,168,104)",
           "rgb(196,78,82)",
           "rgb(129,114,179)",
           "rgb(147,120,96)",
           "rgb(218,139,195)",
           "rgb(140,140,140)",
           "rgb(204,185,116)",
           "rgb(100,181,205)"
          ],
          "font": {
           "color": "rgb(36,36,36)"
          },
          "geo": {
           "bgcolor": "white",
           "lakecolor": "white",
           "landcolor": "rgb(234,234,242)",
           "showlakes": true,
           "showland": true,
           "subunitcolor": "white"
          },
          "hoverlabel": {
           "align": "left"
          },
          "hovermode": "closest",
          "paper_bgcolor": "white",
          "plot_bgcolor": "rgb(234,234,242)",
          "polar": {
           "angularaxis": {
            "gridcolor": "white",
            "linecolor": "white",
            "showgrid": true,
            "ticks": ""
           },
           "bgcolor": "rgb(234,234,242)",
           "radialaxis": {
            "gridcolor": "white",
            "linecolor": "white",
            "showgrid": true,
            "ticks": ""
           }
          },
          "scene": {
           "xaxis": {
            "backgroundcolor": "rgb(234,234,242)",
            "gridcolor": "white",
            "gridwidth": 2,
            "linecolor": "white",
            "showbackground": true,
            "showgrid": true,
            "ticks": "",
            "zerolinecolor": "white"
           },
           "yaxis": {
            "backgroundcolor": "rgb(234,234,242)",
            "gridcolor": "white",
            "gridwidth": 2,
            "linecolor": "white",
            "showbackground": true,
            "showgrid": true,
            "ticks": "",
            "zerolinecolor": "white"
           },
           "zaxis": {
            "backgroundcolor": "rgb(234,234,242)",
            "gridcolor": "white",
            "gridwidth": 2,
            "linecolor": "white",
            "showbackground": true,
            "showgrid": true,
            "ticks": "",
            "zerolinecolor": "white"
           }
          },
          "shapedefaults": {
           "fillcolor": "rgb(67,103,167)",
           "line": {
            "width": 0
           },
           "opacity": 0.5
          },
          "ternary": {
           "aaxis": {
            "gridcolor": "white",
            "linecolor": "white",
            "showgrid": true,
            "ticks": ""
           },
           "baxis": {
            "gridcolor": "white",
            "linecolor": "white",
            "showgrid": true,
            "ticks": ""
           },
           "bgcolor": "rgb(234,234,242)",
           "caxis": {
            "gridcolor": "white",
            "linecolor": "white",
            "showgrid": true,
            "ticks": ""
           }
          },
          "xaxis": {
           "automargin": true,
           "gridcolor": "white",
           "linecolor": "white",
           "showgrid": true,
           "ticks": "",
           "title": {
            "standoff": 15
           },
           "zerolinecolor": "white"
          },
          "yaxis": {
           "automargin": true,
           "gridcolor": "white",
           "linecolor": "white",
           "showgrid": true,
           "ticks": "",
           "title": {
            "standoff": 15
           },
           "zerolinecolor": "white"
          }
         }
        },
        "width": 400,
        "xaxis": {
         "anchor": "y",
         "constrain": "domain",
         "domain": [
          0,
          1
         ],
         "scaleanchor": "y",
         "title": {
          "text": "Predicted Label"
         }
        },
        "yaxis": {
         "anchor": "x",
         "autorange": "reversed",
         "constrain": "domain",
         "domain": [
          0,
          1
         ],
         "title": {
          "text": "Real Label"
         }
        }
       }
      }
     },
     "metadata": {},
     "output_type": "display_data"
    }
   ],
   "source": [
    "# model.load_state_dict(torch.load('models\\LSTMHarmonic_weights_R3Currents.pth'))\n",
    "print(conf_matrix_total)\n",
    "metrics = conf_matrix_metrics(conf_matrix_total)\n",
    "print_metrics(metrics)\n",
    "plot_confusion_matrix(metrics)\n"
   ]
  },
  {
   "attachments": {},
   "cell_type": "markdown",
   "metadata": {},
   "source": [
    "##### 7.6. Save Dataframe and Confusion Matrix"
   ]
  },
  {
   "cell_type": "code",
   "execution_count": 84,
   "metadata": {},
   "outputs": [],
   "source": [
    "dataset_df.to_parquet('parquet_data/R1_DB2_df.parquet')\n",
    "conf_matrix_df = pd.DataFrame(conf_matrix.cpu(), columns = ['TP','FP','TF', 'FN', 'TP + FN'])\n",
    "conf_matrix_df.to_parquet('parquet_data/R1_DB2_CM_df.parquet')\n",
    "np.save('parquet_data/R1_DB2_CM.npy', conf_matrix.cpu())"
   ]
  },
  {
   "attachments": {},
   "cell_type": "markdown",
   "metadata": {},
   "source": [
    "##### 7.7. Individual Sample Visualization"
   ]
  },
  {
   "cell_type": "code",
   "execution_count": 47,
   "metadata": {},
   "outputs": [
    {
     "name": "stdout",
     "output_type": "stream",
     "text": [
      "L_T01_h\\L116.98_114.24.csv\n"
     ]
    },
    {
     "data": {
      "image/png": "[encoded data removed]",
      "text/plain": [
       "<Figure size 640x480 with 1 Axes>"
      ]
     },
     "metadata": {},
     "output_type": "display_data"
    }
   ],
   "source": [
    "# Create signal_df\n",
    "event_idx = 31\n",
    "print(dataset.csv_list[event_idx])\n",
    "sample_df, conf_matrix = signal_exploration(event_idx, dataset, model)\n",
    "metrics = conf_matrix_metrics(conf_matrix)\n",
    "print(f\"Confusion Matrix: {conf_matrix}\")\n",
    "print(sample_df)   \n",
    "plot_confusion_matrix(metrics)\n",
    "false_positive = sample_df.query('Result == \"FP\"')\n",
    "false_negative = sample_df.query('Result == \"FN\"')\n",
    "# sample_df = pd.concat([sample_df, sample_df])\n",
    "print(\"FALSE POSITVES\")\n",
    "print(false_positive)\n",
    "print(\"\")\n",
    "print(\"FALSE NEGATIVES\")\n",
    "print(false_negative)"
   ]
  },
  {
   "cell_type": "code",
   "execution_count": 48,
   "metadata": {},
   "outputs": [
    {
     "name": "stdout",
     "output_type": "stream",
     "text": [
      "<class 'numpy.ndarray'>\n",
      "<class 'numpy.ndarray'>\n"
     ]
    },
    {
     "data": {
      "application/vnd.plotly.v1+json": {
       "config": {
        "plotlyServerURL": "https://plot.ly"
       },
       "data": [
        {
         "hovertemplate": "time=%{x}<br>Amplitude=%{y}<extra></extra>",
         "legendgroup": "",
         "line": {
          "color": "#636efa",
          "dash": "solid"
         },
         "marker": {
          "symbol": "circle"
         },
         "mode": "lines",
         "name": "",
         "orientation": "v",
         "showlegend": false,
         "type": "scatter",
         "x": [
          0.0145824,
          0.0148428,
          0.0151032,
          0.0153636,
          0.015624,
          0.0158844,
          0.0161448,
          0.0164052,
          0.0166656,
          0.016926,
          0.0171864,
          0.0174468,
          0.0177072,
          0.0179676,
          0.018228,
          0.0184884,
          0.0187488,
          0.0190092,
          0.0192696,
          0.01953,
          0.0197904,
          0.0200508,
          0.0203112,
          0.0205716,
          0.020832,
          0.0210924,
          0.0213528,
          0.0216132,
          0.0218736,
          0.022134,
          0.0223944,
          0.0226548,
          0.0229152,
          0.0231756,
          0.023436,
          0.0236964,
          0.0239568,
          0.0242172,
          0.0244776,
          0.024738,
          0.0249984,
          0.0252588,
          0.0255192,
          0.0257796,
          0.02604,
          0.0263004,
          0.0265608,
          0.0268212,
          0.0270816,
          0.027342,
          0.0276024,
          0.0278628,
          0.0281232,
          0.0283836,
          0.028644,
          0.0289044,
          0.0291648,
          0.0294252,
          0.0296856,
          0.029946,
          0.0302064,
          0.0304668,
          0.0307272,
          0.0309876
         ],
         "xaxis": "x",
         "y": [
          -5.401926040649414,
          -2.8105099201202393,
          -0.37454143166542053,
          2.4439690113067627,
          4.871304035186768,
          7.31372594833374,
          9.54963493347168,
          11.882205963134766,
          14.119572639465332,
          16.29256820678711,
          18.170467376708984,
          19.874164581298828,
          21.398963928222656,
          22.71967315673828,
          23.91034507751465,
          24.793163299560547,
          25.462614059448242,
          25.921499252319336,
          25.996410369873047,
          25.946548461914062,
          25.543725967407227,
          24.986103057861328,
          24.23969268798828,
          23.262327194213867,
          21.83402442932129,
          20.425045013427734,
          18.650741577148438,
          16.91447639465332,
          14.859862327575684,
          12.701628684997559,
          10.414359092712402,
          8.018319129943848,
          5.557633399963379,
          3.0876047611236572,
          0.5663261413574219,
          -1.9667316675186157,
          -5.012241363525391,
          -6.873039722442627,
          -9.454276084899902,
          -11.695691108703613,
          -14.02696418762207,
          -16.481475830078125,
          -17.83757781982422,
          -20.066621780395508,
          -21.28338623046875,
          -22.810441970825195,
          -24.086280822753906,
          -24.886350631713867,
          -25.78830909729004,
          -26.04332160949707,
          -26.179777145385742,
          -26.205989837646484,
          -25.773290634155273,
          -25.31533432006836,
          -24.585052490234375,
          -23.496570587158203,
          -22.186254501342773,
          -20.6031494140625,
          -18.994564056396484,
          -17.246362686157227,
          -15.118949890136719,
          -13.03485107421875,
          -10.594781875610352,
          -8.212814331054688
         ],
         "yaxis": "y"
        }
       ],
       "layout": {
        "height": 400,
        "legend": {
         "tracegroupgap": 0
        },
        "margin": {
         "t": 60
        },
        "template": {
         "data": {
          "bar": [
           {
            "error_x": {
             "color": "#2a3f5f"
            },
            "error_y": {
             "color": "#2a3f5f"
            },
            "marker": {
             "line": {
              "color": "#E5ECF6",
              "width": 0.5
             },
             "pattern": {
              "fillmode": "overlay",
              "size": 10,
              "solidity": 0.2
             }
            },
            "type": "bar"
           }
          ],
          "barpolar": [
           {
            "marker": {
             "line": {
              "color": "#E5ECF6",
              "width": 0.5
             },
             "pattern": {
              "fillmode": "overlay",
              "size": 10,
              "solidity": 0.2
             }
            },
            "type": "barpolar"
           }
          ],
          "carpet": [
           {
            "aaxis": {
             "endlinecolor": "#2a3f5f",
             "gridcolor": "white",
             "linecolor": "white",
             "minorgridcolor": "white",
             "startlinecolor": "#2a3f5f"
            },
            "baxis": {
             "endlinecolor": "#2a3f5f",
             "gridcolor": "white",
             "linecolor": "white",
             "minorgridcolor": "white",
             "startlinecolor": "#2a3f5f"
            },
            "type": "carpet"
           }
          ],
          "choropleth": [
           {
            "colorbar": {
             "outlinewidth": 0,
             "ticks": ""
            },
            "type": "choropleth"
           }
          ],
          "contour": [
           {
            "colorbar": {
             "outlinewidth": 0,
             "ticks": ""
            },
            "colorscale": [
             [
              0,
              "#0d0887"
             ],
             [
              0.1111111111111111,
              "#46039f"
             ],
             [
              0.2222222222222222,
              "#7201a8"
             ],
             [
              0.3333333333333333,
              "#9c179e"
             ],
             [
              0.4444444444444444,
              "#bd3786"
             ],
             [
              0.5555555555555556,
              "#d8576b"
             ],
             [
              0.6666666666666666,
              "#ed7953"
             ],
             [
              0.7777777777777778,
              "#fb9f3a"
             ],
             [
              0.8888888888888888,
              "#fdca26"
             ],
             [
              1,
              "#f0f921"
             ]
            ],
            "type": "contour"
           }
          ],
          "contourcarpet": [
           {
            "colorbar": {
             "outlinewidth": 0,
             "ticks": ""
            },
            "type": "contourcarpet"
           }
          ],
          "heatmap": [
           {
            "colorbar": {
             "outlinewidth": 0,
             "ticks": ""
            },
            "colorscale": [
             [
              0,
              "#0d0887"
             ],
             [
              0.1111111111111111,
              "#46039f"
             ],
             [
              0.2222222222222222,
              "#7201a8"
             ],
             [
              0.3333333333333333,
              "#9c179e"
             ],
             [
              0.4444444444444444,
              "#bd3786"
             ],
             [
              0.5555555555555556,
              "#d8576b"
             ],
             [
              0.6666666666666666,
              "#ed7953"
             ],
             [
              0.7777777777777778,
              "#fb9f3a"
             ],
             [
              0.8888888888888888,
              "#fdca26"
             ],
             [
              1,
              "#f0f921"
             ]
            ],
            "type": "heatmap"
           }
          ],
          "heatmapgl": [
           {
            "colorbar": {
             "outlinewidth": 0,
             "ticks": ""
            },
            "colorscale": [
             [
              0,
              "#0d0887"
             ],
             [
              0.1111111111111111,
              "#46039f"
             ],
             [
              0.2222222222222222,
              "#7201a8"
             ],
             [
              0.3333333333333333,
              "#9c179e"
             ],
             [
              0.4444444444444444,
              "#bd3786"
             ],
             [
              0.5555555555555556,
              "#d8576b"
             ],
             [
              0.6666666666666666,
              "#ed7953"
             ],
             [
              0.7777777777777778,
              "#fb9f3a"
             ],
             [
              0.8888888888888888,
              "#fdca26"
             ],
             [
              1,
              "#f0f921"
             ]
            ],
            "type": "heatmapgl"
           }
          ],
          "histogram": [
           {
            "marker": {
             "pattern": {
              "fillmode": "overlay",
              "size": 10,
              "solidity": 0.2
             }
            },
            "type": "histogram"
           }
          ],
          "histogram2d": [
           {
            "colorbar": {
             "outlinewidth": 0,
             "ticks": ""
            },
            "colorscale": [
             [
              0,
              "#0d0887"
             ],
             [
              0.1111111111111111,
              "#46039f"
             ],
             [
              0.2222222222222222,
              "#7201a8"
             ],
             [
              0.3333333333333333,
              "#9c179e"
             ],
             [
              0.4444444444444444,
              "#bd3786"
             ],
             [
              0.5555555555555556,
              "#d8576b"
             ],
             [
              0.6666666666666666,
              "#ed7953"
             ],
             [
              0.7777777777777778,
              "#fb9f3a"
             ],
             [
              0.8888888888888888,
              "#fdca26"
             ],
             [
              1,
              "#f0f921"
             ]
            ],
            "type": "histogram2d"
           }
          ],
          "histogram2dcontour": [
           {
            "colorbar": {
             "outlinewidth": 0,
             "ticks": ""
            },
            "colorscale": [
             [
              0,
              "#0d0887"
             ],
             [
              0.1111111111111111,
              "#46039f"
             ],
             [
              0.2222222222222222,
              "#7201a8"
             ],
             [
              0.3333333333333333,
              "#9c179e"
             ],
             [
              0.4444444444444444,
              "#bd3786"
             ],
             [
              0.5555555555555556,
              "#d8576b"
             ],
             [
              0.6666666666666666,
              "#ed7953"
             ],
             [
              0.7777777777777778,
              "#fb9f3a"
             ],
             [
              0.8888888888888888,
              "#fdca26"
             ],
             [
              1,
              "#f0f921"
             ]
            ],
            "type": "histogram2dcontour"
           }
          ],
          "mesh3d": [
           {
            "colorbar": {
             "outlinewidth": 0,
             "ticks": ""
            },
            "type": "mesh3d"
           }
          ],
          "parcoords": [
           {
            "line": {
             "colorbar": {
              "outlinewidth": 0,
              "ticks": ""
             }
            },
            "type": "parcoords"
           }
          ],
          "pie": [
           {
            "automargin": true,
            "type": "pie"
           }
          ],
          "scatter": [
           {
            "fillpattern": {
             "fillmode": "overlay",
             "size": 10,
             "solidity": 0.2
            },
            "type": "scatter"
           }
          ],
          "scatter3d": [
           {
            "line": {
             "colorbar": {
              "outlinewidth": 0,
              "ticks": ""
             }
            },
            "marker": {
             "colorbar": {
              "outlinewidth": 0,
              "ticks": ""
             }
            },
            "type": "scatter3d"
           }
          ],
          "scattercarpet": [
           {
            "marker": {
             "colorbar": {
              "outlinewidth": 0,
              "ticks": ""
             }
            },
            "type": "scattercarpet"
           }
          ],
          "scattergeo": [
           {
            "marker": {
             "colorbar": {
              "outlinewidth": 0,
              "ticks": ""
             }
            },
            "type": "scattergeo"
           }
          ],
          "scattergl": [
           {
            "marker": {
             "colorbar": {
              "outlinewidth": 0,
              "ticks": ""
             }
            },
            "type": "scattergl"
           }
          ],
          "scattermapbox": [
           {
            "marker": {
             "colorbar": {
              "outlinewidth": 0,
              "ticks": ""
             }
            },
            "type": "scattermapbox"
           }
          ],
          "scatterpolar": [
           {
            "marker": {
             "colorbar": {
              "outlinewidth": 0,
              "ticks": ""
             }
            },
            "type": "scatterpolar"
           }
          ],
          "scatterpolargl": [
           {
            "marker": {
             "colorbar": {
              "outlinewidth": 0,
              "ticks": ""
             }
            },
            "type": "scatterpolargl"
           }
          ],
          "scatterternary": [
           {
            "marker": {
             "colorbar": {
              "outlinewidth": 0,
              "ticks": ""
             }
            },
            "type": "scatterternary"
           }
          ],
          "surface": [
           {
            "colorbar": {
             "outlinewidth": 0,
             "ticks": ""
            },
            "colorscale": [
             [
              0,
              "#0d0887"
             ],
             [
              0.1111111111111111,
              "#46039f"
             ],
             [
              0.2222222222222222,
              "#7201a8"
             ],
             [
              0.3333333333333333,
              "#9c179e"
             ],
             [
              0.4444444444444444,
              "#bd3786"
             ],
             [
              0.5555555555555556,
              "#d8576b"
             ],
             [
              0.6666666666666666,
              "#ed7953"
             ],
             [
              0.7777777777777778,
              "#fb9f3a"
             ],
             [
              0.8888888888888888,
              "#fdca26"
             ],
             [
              1,
              "#f0f921"
             ]
            ],
            "type": "surface"
           }
          ],
          "table": [
           {
            "cells": {
             "fill": {
              "color": "#EBF0F8"
             },
             "line": {
              "color": "white"
             }
            },
            "header": {
             "fill": {
              "color": "#C8D4E3"
             },
             "line": {
              "color": "white"
             }
            },
            "type": "table"
           }
          ]
         },
         "layout": {
          "annotationdefaults": {
           "arrowcolor": "#2a3f5f",
           "arrowhead": 0,
           "arrowwidth": 1
          },
          "autotypenumbers": "strict",
          "coloraxis": {
           "colorbar": {
            "outlinewidth": 0,
            "ticks": ""
           }
          },
          "colorscale": {
           "diverging": [
            [
             0,
             "#8e0152"
            ],
            [
             0.1,
             "#c51b7d"
            ],
            [
             0.2,
             "#de77ae"
            ],
            [
             0.3,
             "#f1b6da"
            ],
            [
             0.4,
             "#fde0ef"
            ],
            [
             0.5,
             "#f7f7f7"
            ],
            [
             0.6,
             "#e6f5d0"
            ],
            [
             0.7,
             "#b8e186"
            ],
            [
             0.8,
             "#7fbc41"
            ],
            [
             0.9,
             "#4d9221"
            ],
            [
             1,
             "#276419"
            ]
           ],
           "sequential": [
            [
             0,
             "#0d0887"
            ],
            [
             0.1111111111111111,
             "#46039f"
            ],
            [
             0.2222222222222222,
             "#7201a8"
            ],
            [
             0.3333333333333333,
             "#9c179e"
            ],
            [
             0.4444444444444444,
             "#bd3786"
            ],
            [
             0.5555555555555556,
             "#d8576b"
            ],
            [
             0.6666666666666666,
             "#ed7953"
            ],
            [
             0.7777777777777778,
             "#fb9f3a"
            ],
            [
             0.8888888888888888,
             "#fdca26"
            ],
            [
             1,
             "#f0f921"
            ]
           ],
           "sequentialminus": [
            [
             0,
             "#0d0887"
            ],
            [
             0.1111111111111111,
             "#46039f"
            ],
            [
             0.2222222222222222,
             "#7201a8"
            ],
            [
             0.3333333333333333,
             "#9c179e"
            ],
            [
             0.4444444444444444,
             "#bd3786"
            ],
            [
             0.5555555555555556,
             "#d8576b"
            ],
            [
             0.6666666666666666,
             "#ed7953"
            ],
            [
             0.7777777777777778,
             "#fb9f3a"
            ],
            [
             0.8888888888888888,
             "#fdca26"
            ],
            [
             1,
             "#f0f921"
            ]
           ]
          },
          "colorway": [
           "#636efa",
           "#EF553B",
           "#00cc96",
           "#ab63fa",
           "#FFA15A",
           "#19d3f3",
           "#FF6692",
           "#B6E880",
           "#FF97FF",
           "#FECB52"
          ],
          "font": {
           "color": "#2a3f5f"
          },
          "geo": {
           "bgcolor": "white",
           "lakecolor": "white",
           "landcolor": "#E5ECF6",
           "showlakes": true,
           "showland": true,
           "subunitcolor": "white"
          },
          "hoverlabel": {
           "align": "left"
          },
          "hovermode": "closest",
          "mapbox": {
           "style": "light"
          },
          "paper_bgcolor": "white",
          "plot_bgcolor": "#E5ECF6",
          "polar": {
           "angularaxis": {
            "gridcolor": "white",
            "linecolor": "white",
            "ticks": ""
           },
           "bgcolor": "#E5ECF6",
           "radialaxis": {
            "gridcolor": "white",
            "linecolor": "white",
            "ticks": ""
           }
          },
          "scene": {
           "xaxis": {
            "backgroundcolor": "#E5ECF6",
            "gridcolor": "white",
            "gridwidth": 2,
            "linecolor": "white",
            "showbackground": true,
            "ticks": "",
            "zerolinecolor": "white"
           },
           "yaxis": {
            "backgroundcolor": "#E5ECF6",
            "gridcolor": "white",
            "gridwidth": 2,
            "linecolor": "white",
            "showbackground": true,
            "ticks": "",
            "zerolinecolor": "white"
           },
           "zaxis": {
            "backgroundcolor": "#E5ECF6",
            "gridcolor": "white",
            "gridwidth": 2,
            "linecolor": "white",
            "showbackground": true,
            "ticks": "",
            "zerolinecolor": "white"
           }
          },
          "shapedefaults": {
           "line": {
            "color": "#2a3f5f"
           }
          },
          "ternary": {
           "aaxis": {
            "gridcolor": "white",
            "linecolor": "white",
            "ticks": ""
           },
           "baxis": {
            "gridcolor": "white",
            "linecolor": "white",
            "ticks": ""
           },
           "bgcolor": "#E5ECF6",
           "caxis": {
            "gridcolor": "white",
            "linecolor": "white",
            "ticks": ""
           }
          },
          "title": {
           "x": 0.05
          },
          "xaxis": {
           "automargin": true,
           "gridcolor": "white",
           "linecolor": "white",
           "ticks": "",
           "title": {
            "standoff": 15
           },
           "zerolinecolor": "white",
           "zerolinewidth": 2
          },
          "yaxis": {
           "automargin": true,
           "gridcolor": "white",
           "linecolor": "white",
           "ticks": "",
           "title": {
            "standoff": 15
           },
           "zerolinecolor": "white",
           "zerolinewidth": 2
          }
         }
        },
        "width": 600,
        "xaxis": {
         "anchor": "y",
         "domain": [
          0,
          1
         ],
         "title": {
          "text": "time"
         }
        },
        "yaxis": {
         "anchor": "x",
         "domain": [
          0,
          1
         ],
         "title": {
          "text": "Amplitude"
         }
        }
       }
      }
     },
     "metadata": {},
     "output_type": "display_data"
    },
    {
     "data": {
      "application/vnd.plotly.v1+json": {
       "config": {
        "plotlyServerURL": "https://plot.ly"
       },
       "data": [
        {
         "hovertemplate": "Window=%{x}<br>Trip Signal=%{y}<extra></extra>",
         "legendgroup": "",
         "line": {
          "color": "#636efa",
          "dash": "solid",
          "shape": "hv"
         },
         "marker": {
          "symbol": "circle"
         },
         "mode": "lines",
         "name": "",
         "orientation": "v",
         "showlegend": false,
         "type": "scatter",
         "x": [
          0,
          1,
          2,
          3,
          4,
          5,
          6,
          7,
          8,
          9,
          10,
          11,
          12,
          13,
          14,
          15,
          16,
          17,
          18,
          19,
          20,
          21,
          22,
          23,
          24,
          25,
          26,
          27,
          28,
          29,
          30,
          31,
          32,
          33,
          34,
          35,
          36,
          37,
          38,
          39,
          40,
          41,
          42,
          43,
          44,
          45,
          46,
          47,
          48,
          49,
          50,
          51,
          52,
          53,
          54,
          55,
          56,
          57,
          58,
          59,
          60,
          61
         ],
         "xaxis": "x",
         "y": [
          0,
          0,
          0,
          0,
          0,
          0,
          0,
          0,
          0,
          0,
          0,
          0,
          0,
          0,
          0,
          0,
          0,
          0,
          0,
          0,
          0,
          0,
          0,
          0,
          0,
          0,
          0,
          0,
          0,
          0,
          0,
          0,
          0,
          0,
          0,
          0,
          0,
          0,
          0,
          0,
          0,
          0,
          1,
          1,
          0,
          0,
          0,
          0,
          0,
          0,
          0,
          0,
          0,
          0,
          0,
          0,
          0,
          0,
          0,
          0,
          0,
          0
         ],
         "yaxis": "y"
        }
       ],
       "layout": {
        "height": 400,
        "legend": {
         "tracegroupgap": 0
        },
        "margin": {
         "t": 60
        },
        "template": {
         "data": {
          "bar": [
           {
            "error_x": {
             "color": "#2a3f5f"
            },
            "error_y": {
             "color": "#2a3f5f"
            },
            "marker": {
             "line": {
              "color": "#E5ECF6",
              "width": 0.5
             },
             "pattern": {
              "fillmode": "overlay",
              "size": 10,
              "solidity": 0.2
             }
            },
            "type": "bar"
           }
          ],
          "barpolar": [
           {
            "marker": {
             "line": {
              "color": "#E5ECF6",
              "width": 0.5
             },
             "pattern": {
              "fillmode": "overlay",
              "size": 10,
              "solidity": 0.2
             }
            },
            "type": "barpolar"
           }
          ],
          "carpet": [
           {
            "aaxis": {
             "endlinecolor": "#2a3f5f",
             "gridcolor": "white",
             "linecolor": "white",
             "minorgridcolor": "white",
             "startlinecolor": "#2a3f5f"
            },
            "baxis": {
             "endlinecolor": "#2a3f5f",
             "gridcolor": "white",
             "linecolor": "white",
             "minorgridcolor": "white",
             "startlinecolor": "#2a3f5f"
            },
            "type": "carpet"
           }
          ],
          "choropleth": [
           {
            "colorbar": {
             "outlinewidth": 0,
             "ticks": ""
            },
            "type": "choropleth"
           }
          ],
          "contour": [
           {
            "colorbar": {
             "outlinewidth": 0,
             "ticks": ""
            },
            "colorscale": [
             [
              0,
              "#0d0887"
             ],
             [
              0.1111111111111111,
              "#46039f"
             ],
             [
              0.2222222222222222,
              "#7201a8"
             ],
             [
              0.3333333333333333,
              "#9c179e"
             ],
             [
              0.4444444444444444,
              "#bd3786"
             ],
             [
              0.5555555555555556,
              "#d8576b"
             ],
             [
              0.6666666666666666,
              "#ed7953"
             ],
             [
              0.7777777777777778,
              "#fb9f3a"
             ],
             [
              0.8888888888888888,
              "#fdca26"
             ],
             [
              1,
              "#f0f921"
             ]
            ],
            "type": "contour"
           }
          ],
          "contourcarpet": [
           {
            "colorbar": {
             "outlinewidth": 0,
             "ticks": ""
            },
            "type": "contourcarpet"
           }
          ],
          "heatmap": [
           {
            "colorbar": {
             "outlinewidth": 0,
             "ticks": ""
            },
            "colorscale": [
             [
              0,
              "#0d0887"
             ],
             [
              0.1111111111111111,
              "#46039f"
             ],
             [
              0.2222222222222222,
              "#7201a8"
             ],
             [
              0.3333333333333333,
              "#9c179e"
             ],
             [
              0.4444444444444444,
              "#bd3786"
             ],
             [
              0.5555555555555556,
              "#d8576b"
             ],
             [
              0.6666666666666666,
              "#ed7953"
             ],
             [
              0.7777777777777778,
              "#fb9f3a"
             ],
             [
              0.8888888888888888,
              "#fdca26"
             ],
             [
              1,
              "#f0f921"
             ]
            ],
            "type": "heatmap"
           }
          ],
          "heatmapgl": [
           {
            "colorbar": {
             "outlinewidth": 0,
             "ticks": ""
            },
            "colorscale": [
             [
              0,
              "#0d0887"
             ],
             [
              0.1111111111111111,
              "#46039f"
             ],
             [
              0.2222222222222222,
              "#7201a8"
             ],
             [
              0.3333333333333333,
              "#9c179e"
             ],
             [
              0.4444444444444444,
              "#bd3786"
             ],
             [
              0.5555555555555556,
              "#d8576b"
             ],
             [
              0.6666666666666666,
              "#ed7953"
             ],
             [
              0.7777777777777778,
              "#fb9f3a"
             ],
             [
              0.8888888888888888,
              "#fdca26"
             ],
             [
              1,
              "#f0f921"
             ]
            ],
            "type": "heatmapgl"
           }
          ],
          "histogram": [
           {
            "marker": {
             "pattern": {
              "fillmode": "overlay",
              "size": 10,
              "solidity": 0.2
             }
            },
            "type": "histogram"
           }
          ],
          "histogram2d": [
           {
            "colorbar": {
             "outlinewidth": 0,
             "ticks": ""
            },
            "colorscale": [
             [
              0,
              "#0d0887"
             ],
             [
              0.1111111111111111,
              "#46039f"
             ],
             [
              0.2222222222222222,
              "#7201a8"
             ],
             [
              0.3333333333333333,
              "#9c179e"
             ],
             [
              0.4444444444444444,
              "#bd3786"
             ],
             [
              0.5555555555555556,
              "#d8576b"
             ],
             [
              0.6666666666666666,
              "#ed7953"
             ],
             [
              0.7777777777777778,
              "#fb9f3a"
             ],
             [
              0.8888888888888888,
              "#fdca26"
             ],
             [
              1,
              "#f0f921"
             ]
            ],
            "type": "histogram2d"
           }
          ],
          "histogram2dcontour": [
           {
            "colorbar": {
             "outlinewidth": 0,
             "ticks": ""
            },
            "colorscale": [
             [
              0,
              "#0d0887"
             ],
             [
              0.1111111111111111,
              "#46039f"
             ],
             [
              0.2222222222222222,
              "#7201a8"
             ],
             [
              0.3333333333333333,
              "#9c179e"
             ],
             [
              0.4444444444444444,
              "#bd3786"
             ],
             [
              0.5555555555555556,
              "#d8576b"
             ],
             [
              0.6666666666666666,
              "#ed7953"
             ],
             [
              0.7777777777777778,
              "#fb9f3a"
             ],
             [
              0.8888888888888888,
              "#fdca26"
             ],
             [
              1,
              "#f0f921"
             ]
            ],
            "type": "histogram2dcontour"
           }
          ],
          "mesh3d": [
           {
            "colorbar": {
             "outlinewidth": 0,
             "ticks": ""
            },
            "type": "mesh3d"
           }
          ],
          "parcoords": [
           {
            "line": {
             "colorbar": {
              "outlinewidth": 0,
              "ticks": ""
             }
            },
            "type": "parcoords"
           }
          ],
          "pie": [
           {
            "automargin": true,
            "type": "pie"
           }
          ],
          "scatter": [
           {
            "fillpattern": {
             "fillmode": "overlay",
             "size": 10,
             "solidity": 0.2
            },
            "type": "scatter"
           }
          ],
          "scatter3d": [
           {
            "line": {
             "colorbar": {
              "outlinewidth": 0,
              "ticks": ""
             }
            },
            "marker": {
             "colorbar": {
              "outlinewidth": 0,
              "ticks": ""
             }
            },
            "type": "scatter3d"
           }
          ],
          "scattercarpet": [
           {
            "marker": {
             "colorbar": {
              "outlinewidth": 0,
              "ticks": ""
             }
            },
            "type": "scattercarpet"
           }
          ],
          "scattergeo": [
           {
            "marker": {
             "colorbar": {
              "outlinewidth": 0,
              "ticks": ""
             }
            },
            "type": "scattergeo"
           }
          ],
          "scattergl": [
           {
            "marker": {
             "colorbar": {
              "outlinewidth": 0,
              "ticks": ""
             }
            },
            "type": "scattergl"
           }
          ],
          "scattermapbox": [
           {
            "marker": {
             "colorbar": {
              "outlinewidth": 0,
              "ticks": ""
             }
            },
            "type": "scattermapbox"
           }
          ],
          "scatterpolar": [
           {
            "marker": {
             "colorbar": {
              "outlinewidth": 0,
              "ticks": ""
             }
            },
            "type": "scatterpolar"
           }
          ],
          "scatterpolargl": [
           {
            "marker": {
             "colorbar": {
              "outlinewidth": 0,
              "ticks": ""
             }
            },
            "type": "scatterpolargl"
           }
          ],
          "scatterternary": [
           {
            "marker": {
             "colorbar": {
              "outlinewidth": 0,
              "ticks": ""
             }
            },
            "type": "scatterternary"
           }
          ],
          "surface": [
           {
            "colorbar": {
             "outlinewidth": 0,
             "ticks": ""
            },
            "colorscale": [
             [
              0,
              "#0d0887"
             ],
             [
              0.1111111111111111,
              "#46039f"
             ],
             [
              0.2222222222222222,
              "#7201a8"
             ],
             [
              0.3333333333333333,
              "#9c179e"
             ],
             [
              0.4444444444444444,
              "#bd3786"
             ],
             [
              0.5555555555555556,
              "#d8576b"
             ],
             [
              0.6666666666666666,
              "#ed7953"
             ],
             [
              0.7777777777777778,
              "#fb9f3a"
             ],
             [
              0.8888888888888888,
              "#fdca26"
             ],
             [
              1,
              "#f0f921"
             ]
            ],
            "type": "surface"
           }
          ],
          "table": [
           {
            "cells": {
             "fill": {
              "color": "#EBF0F8"
             },
             "line": {
              "color": "white"
             }
            },
            "header": {
             "fill": {
              "color": "#C8D4E3"
             },
             "line": {
              "color": "white"
             }
            },
            "type": "table"
           }
          ]
         },
         "layout": {
          "annotationdefaults": {
           "arrowcolor": "#2a3f5f",
           "arrowhead": 0,
           "arrowwidth": 1
          },
          "autotypenumbers": "strict",
          "coloraxis": {
           "colorbar": {
            "outlinewidth": 0,
            "ticks": ""
           }
          },
          "colorscale": {
           "diverging": [
            [
             0,
             "#8e0152"
            ],
            [
             0.1,
             "#c51b7d"
            ],
            [
             0.2,
             "#de77ae"
            ],
            [
             0.3,
             "#f1b6da"
            ],
            [
             0.4,
             "#fde0ef"
            ],
            [
             0.5,
             "#f7f7f7"
            ],
            [
             0.6,
             "#e6f5d0"
            ],
            [
             0.7,
             "#b8e186"
            ],
            [
             0.8,
             "#7fbc41"
            ],
            [
             0.9,
             "#4d9221"
            ],
            [
             1,
             "#276419"
            ]
           ],
           "sequential": [
            [
             0,
             "#0d0887"
            ],
            [
             0.1111111111111111,
             "#46039f"
            ],
            [
             0.2222222222222222,
             "#7201a8"
            ],
            [
             0.3333333333333333,
             "#9c179e"
            ],
            [
             0.4444444444444444,
             "#bd3786"
            ],
            [
             0.5555555555555556,
             "#d8576b"
            ],
            [
             0.6666666666666666,
             "#ed7953"
            ],
            [
             0.7777777777777778,
             "#fb9f3a"
            ],
            [
             0.8888888888888888,
             "#fdca26"
            ],
            [
             1,
             "#f0f921"
            ]
           ],
           "sequentialminus": [
            [
             0,
             "#0d0887"
            ],
            [
             0.1111111111111111,
             "#46039f"
            ],
            [
             0.2222222222222222,
             "#7201a8"
            ],
            [
             0.3333333333333333,
             "#9c179e"
            ],
            [
             0.4444444444444444,
             "#bd3786"
            ],
            [
             0.5555555555555556,
             "#d8576b"
            ],
            [
             0.6666666666666666,
             "#ed7953"
            ],
            [
             0.7777777777777778,
             "#fb9f3a"
            ],
            [
             0.8888888888888888,
             "#fdca26"
            ],
            [
             1,
             "#f0f921"
            ]
           ]
          },
          "colorway": [
           "#636efa",
           "#EF553B",
           "#00cc96",
           "#ab63fa",
           "#FFA15A",
           "#19d3f3",
           "#FF6692",
           "#B6E880",
           "#FF97FF",
           "#FECB52"
          ],
          "font": {
           "color": "#2a3f5f"
          },
          "geo": {
           "bgcolor": "white",
           "lakecolor": "white",
           "landcolor": "#E5ECF6",
           "showlakes": true,
           "showland": true,
           "subunitcolor": "white"
          },
          "hoverlabel": {
           "align": "left"
          },
          "hovermode": "closest",
          "mapbox": {
           "style": "light"
          },
          "paper_bgcolor": "white",
          "plot_bgcolor": "#E5ECF6",
          "polar": {
           "angularaxis": {
            "gridcolor": "white",
            "linecolor": "white",
            "ticks": ""
           },
           "bgcolor": "#E5ECF6",
           "radialaxis": {
            "gridcolor": "white",
            "linecolor": "white",
            "ticks": ""
           }
          },
          "scene": {
           "xaxis": {
            "backgroundcolor": "#E5ECF6",
            "gridcolor": "white",
            "gridwidth": 2,
            "linecolor": "white",
            "showbackground": true,
            "ticks": "",
            "zerolinecolor": "white"
           },
           "yaxis": {
            "backgroundcolor": "#E5ECF6",
            "gridcolor": "white",
            "gridwidth": 2,
            "linecolor": "white",
            "showbackground": true,
            "ticks": "",
            "zerolinecolor": "white"
           },
           "zaxis": {
            "backgroundcolor": "#E5ECF6",
            "gridcolor": "white",
            "gridwidth": 2,
            "linecolor": "white",
            "showbackground": true,
            "ticks": "",
            "zerolinecolor": "white"
           }
          },
          "shapedefaults": {
           "line": {
            "color": "#2a3f5f"
           }
          },
          "ternary": {
           "aaxis": {
            "gridcolor": "white",
            "linecolor": "white",
            "ticks": ""
           },
           "baxis": {
            "gridcolor": "white",
            "linecolor": "white",
            "ticks": ""
           },
           "bgcolor": "#E5ECF6",
           "caxis": {
            "gridcolor": "white",
            "linecolor": "white",
            "ticks": ""
           }
          },
          "title": {
           "x": 0.05
          },
          "xaxis": {
           "automargin": true,
           "gridcolor": "white",
           "linecolor": "white",
           "ticks": "",
           "title": {
            "standoff": 15
           },
           "zerolinecolor": "white",
           "zerolinewidth": 2
          },
          "yaxis": {
           "automargin": true,
           "gridcolor": "white",
           "linecolor": "white",
           "ticks": "",
           "title": {
            "standoff": 15
           },
           "zerolinecolor": "white",
           "zerolinewidth": 2
          }
         }
        },
        "width": 600,
        "xaxis": {
         "anchor": "y",
         "domain": [
          0,
          1
         ],
         "title": {
          "text": "Window"
         }
        },
        "yaxis": {
         "anchor": "x",
         "domain": [
          0,
          1
         ],
         "title": {
          "text": "Trip Signal"
         }
        }
       }
      }
     },
     "metadata": {},
     "output_type": "display_data"
    }
   ],
   "source": [
    "window_idx = 56\n",
    "sample_idx = (max_window_idx * event_idx) + window_idx\n",
    "\n",
    "\n",
    "def update_fig(fig):\n",
    "    fig.update_traces(line_color=\"#EEEEEE\", line_width=2)\n",
    "    fig.update_layout(\n",
    "        paper_bgcolor=\"#222831\",\n",
    "        plot_bgcolor=\"#393E46\",\n",
    "        font_color=\"whitesmoke\",\n",
    "    )\n",
    "    fig.update_xaxes(showgrid=True, gridwidth=1, gridcolor=\"#32E0C4\")\n",
    "    fig.update_yaxes(showgrid=True, gridwidth=1, gridcolor=\"#32E0C4\")\n",
    "\n",
    "\n",
    "signal, t = dataset.__getitem__(sample_idx, data_plot=True)\n",
    "signal = np.copy(signal)\n",
    "signal = signal.reshape((-1, 3))\n",
    "signal = signal[:, 0]\n",
    "t = np.copy(t)\n",
    "print(type(t))\n",
    "print(type(signal))\n",
    "# print(f\"Window index: {sample_df.query('indices == 196').index[0]}\")\n",
    "fig = px.line(\n",
    "    x=t,\n",
    "    y=signal,\n",
    "    width=600,\n",
    "    height=400,\n",
    "    labels=dict(x=\"time\", y=\"Amplitude\"),\n",
    ")\n",
    "# update_fig(fig)x\n",
    "fig.show()\n",
    "fig = px.line(\n",
    "    x=sample_df.index,\n",
    "    y=sample_df[\"Pred label\"],\n",
    "    width=600,\n",
    "    height=400,\n",
    "    labels=dict(x=\"Window\", y=\"Trip Signal\"),\n",
    "    line_shape=\"hv\",\n",
    ")\n",
    "# update_fig(fig)\n",
    "fig.show()\n"
   ]
  },
  {
   "cell_type": "code",
   "execution_count": 62,
   "metadata": {},
   "outputs": [],
   "source": [
    "import csv\n",
    "with open('./dataset_lists/R2_list.csv', \"w\") as f:\n",
    "    write = csv.writer(f)\n",
    "    write.writerow(dataset.csv_list)"
   ]
  },
  {
   "attachments": {},
   "cell_type": "markdown",
   "metadata": {},
   "source": [
    "#### Por hacer\n",
    "- Colocar tiempo en la gráfica de disparo"
   ]
  },
  {
   "attachments": {},
   "cell_type": "markdown",
   "metadata": {},
   "source": [
    "### 8. References\n",
    "1. PyTorch Contributors: LSTM. [LSTM — PyTorch 1.13 documentation](https://pytorch.org/docs/stable/generated/torch.nn.LSTM.html).\n",
    "<!-- @online{LSTM,\n",
    "    author = \"{PyTorch Contributors}\",\n",
    "    title = \"LSTM\",\n",
    "    url  = \"https://pytorch.org/docs/stable/generated/torch.nn.LSTM.html\",\n",
    "    addendum = \"(accessed: 10.02.2023)\",\n",
    "    keywords = \"LSTM pytorch\"\n",
    "} -->"
   ]
  },
  {
   "attachments": {},
   "cell_type": "markdown",
   "metadata": {},
   "source": []
  }
 ],
 "metadata": {
  "kernelspec": {
   "display_name": "env",
   "language": "python",
   "name": "python3"
  },
  "language_info": {
   "codemirror_mode": {
    "name": "ipython",
    "version": 3
   },
   "file_extension": ".py",
   "mimetype": "text/x-python",
   "name": "python",
   "nbconvert_exporter": "python",
   "pygments_lexer": "ipython3",
   "version": "3.9.0"
  },
  "orig_nbformat": 4,
  "vscode": {
   "interpreter": {
    "hash": "72ca1a9e086f4c7ef9a163ec3bf69ee2fedc8d7281f4001d4d35bca77b5aa424"
   }
  }
 },
 "nbformat": 4,
 "nbformat_minor": 2
}
