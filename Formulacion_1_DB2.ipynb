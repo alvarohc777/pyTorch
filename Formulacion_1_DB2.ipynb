{
 "cells": [
  {
   "attachments": {},
   "cell_type": "markdown",
   "metadata": {},
   "source": [
    "<center><h1 style:\"text-align:center;\">Formulación 1</h1></center>\n",
    "<center><h3>Relé 1</h3></center>"
   ]
  },
  {
   "attachments": {},
   "cell_type": "markdown",
   "metadata": {},
   "source": [
    "### 1. Imports"
   ]
  },
  {
   "cell_type": "code",
   "execution_count": 1,
   "metadata": {},
   "outputs": [],
   "source": [
    "import torch\n",
    "import torch.nn as nn\n",
    "from torch.utils.data import Dataset, DataLoader, random_split\n",
    "\n",
    "# Métricas\n",
    "from torchmetrics.functional.classification import binary_stat_scores\n",
    "\n",
    "# Visualizar datos\n",
    "import numpy as np\n",
    "import pandas as pd\n",
    "import matplotlib.pyplot as plt\n",
    "import plotly.express as px\n",
    "\n",
    "# Progress bar\n",
    "from tqdm import tqdm\n",
    "\n",
    "# Acceder al sistema operativo\n",
    "import os\n",
    "import glob\n",
    "import shutil\n",
    "import random\n"
   ]
  },
  {
   "attachments": {},
   "cell_type": "markdown",
   "metadata": {},
   "source": [
    "### 2. Model Parameters"
   ]
  },
  {
   "cell_type": "code",
   "execution_count": 2,
   "metadata": {},
   "outputs": [
    {
     "name": "stdout",
     "output_type": "stream",
     "text": [
      "cpu\n"
     ]
    }
   ],
   "source": [
    "# LSTM parameters\n",
    "hidden_dim = 20\n",
    "n_signals = 3\n",
    "N = 64\n",
    "\n",
    "# _batch_size => m in figure 1.\n",
    "train_batch_size = 64\n",
    "dev_batch_size = 16\n",
    "test_batch_size = 16\n",
    "\n",
    "# Classification type (binary)\n",
    "tagset_size = 1\n",
    "\n",
    "# Set\n",
    "device = \"cuda\" if torch.cuda.is_available() else \"cpu\"\n",
    "print(device)\n"
   ]
  },
  {
   "attachments": {},
   "cell_type": "markdown",
   "metadata": {},
   "source": [
    "\n",
    "### 3. Model Creation"
   ]
  },
  {
   "attachments": {},
   "cell_type": "markdown",
   "metadata": {},
   "source": [
    "##### 3.1. FaultDetector Class Creation"
   ]
  },
  {
   "cell_type": "code",
   "execution_count": 3,
   "metadata": {},
   "outputs": [],
   "source": [
    "# Model Creation\n",
    "\n",
    "\n",
    "class FaultDetector(nn.Module):\n",
    "    \"\"\"Information about FaultDetector\"\"\"\n",
    "\n",
    "    def __init__(self, n_signals, hidden_dim, tagset_size):\n",
    "        super(FaultDetector, self).__init__()\n",
    "        self.lstm = nn.LSTM(n_signals, hidden_dim, batch_first=True)\n",
    "        self.fc = nn.Linear(hidden_dim, tagset_size)\n",
    "\n",
    "    def forward(self, x):\n",
    "        lstm_out, _ = self.lstm(x)\n",
    "        fc_layer = self.fc(lstm_out[:, -1, :])\n",
    "\n",
    "        return torch.sigmoid(fc_layer)\n"
   ]
  },
  {
   "attachments": {},
   "cell_type": "markdown",
   "metadata": {},
   "source": [
    "##### 3.2. Model Instance Initialization"
   ]
  },
  {
   "cell_type": "code",
   "execution_count": 4,
   "metadata": {},
   "outputs": [
    {
     "name": "stdout",
     "output_type": "stream",
     "text": [
      "Model structure: FaultDetector(\n",
      "  (lstm): LSTM(3, 20, batch_first=True)\n",
      "  (fc): Linear(in_features=20, out_features=1, bias=True)\n",
      ")\n",
      "\n",
      "Number of parameters: 2021\n"
     ]
    }
   ],
   "source": [
    "model = FaultDetector(n_signals, hidden_dim, tagset_size).to(device)\n",
    "loss_fn = nn.BCELoss()\n",
    "optimizer = torch.optim.Adam(model.parameters(), lr=1e-2)\n",
    "\n",
    "# Learning rate decay (optional)\n",
    "decayRate = 0.96\n",
    "my_lr_scheduler = torch.optim.lr_scheduler.ExponentialLR(\n",
    "    optimizer=optimizer, gamma=decayRate\n",
    ")\n",
    "\n",
    "print(f\"Model structure: {model}\\n\")\n",
    "\n",
    "# Number of parameters\n",
    "model_parameters = filter(lambda p: p.requires_grad, model.parameters())\n",
    "params = sum([np.prod(p.size()) for p in model_parameters])\n",
    "print(f\"Number of parameters: {params}\")\n"
   ]
  },
  {
   "attachments": {},
   "cell_type": "markdown",
   "metadata": {},
   "source": [
    "### 4. Dataset Creation"
   ]
  },
  {
   "attachments": {},
   "cell_type": "markdown",
   "metadata": {},
   "source": [
    "##### 4.1. Dataset Class Creation"
   ]
  },
  {
   "cell_type": "code",
   "execution_count": 182,
   "metadata": {},
   "outputs": [],
   "source": [
    "# from utils.signalload import CSV_pandas_path\n",
    "# from utils.auxfunctions import moving_window\n",
    "from utils_tesis.signalload import CSV_pandas_path\n",
    "from utils_tesis.auxfunctions import moving_window\n",
    "import numpy as np\n",
    "from itertools import repeat\n",
    "\n",
    "\n",
    "class Form1Dataset(torch.utils.data.Dataset):\n",
    "    \"\"\"Some Information about Form1Dataset\"\"\"\n",
    "\n",
    "    def __init__(\n",
    "        self, dataset_dir, signal_names, max_window_idx=65, window_length=64, step=1\n",
    "    ):\n",
    "        super(Form1Dataset, self).__init__()\n",
    "\n",
    "        self.signal_names = signal_names\n",
    "        self.max_window_idx = max_window_idx\n",
    "        self.dataset_dir = dataset_dir\n",
    "\n",
    "        # Find all csv in folders of DataSet\n",
    "        file_set = set()\n",
    "        for dir_, _, files in os.walk(dataset_dir):\n",
    "            for file_name in files:\n",
    "                rel_dir = os.path.relpath(dir_, dataset_dir)\n",
    "                rel_file = os.path.join(rel_dir, file_name)\n",
    "                file_set.add(rel_file)\n",
    "        csv_list = list(file_set)\n",
    "\n",
    "        self.csv_list = csv_list\n",
    "        self.csv_amount = len(csv_list)\n",
    "        self.windows_amount = max_window_idx * self.csv_amount\n",
    "        self.window_length = window_length\n",
    "        self.step = step\n",
    "\n",
    "    def __getitem__(self, index):\n",
    "\n",
    "        # sample_settings\n",
    "        window_length = self.window_length\n",
    "        step = self.step\n",
    "\n",
    "        # calculate window_idx and filename\n",
    "        window_idx = index % self.max_window_idx\n",
    "        csv_idx = index // self.max_window_idx\n",
    "        print(window_idx)\n",
    "        print(csv_idx)\n",
    "        print(len(self.csv_list))\n",
    "        csv_full_path = f\"{self.dataset_dir}\\{self.csv_list[csv_idx]}\"\n",
    "\n",
    "        # Load CSV, signal and create windows\n",
    "        csv_name = os.path.basename(csv_full_path)\n",
    "        signals_windows = np.empty((self.window_length, 0))\n",
    "\n",
    "        \n",
    "        for signal_name in self.signal_names:\n",
    "            signal, t, _ = CSV_pandas_path(csv_full_path).load_data(signal_name)\n",
    "            signal_windows = moving_window(signal, window_length, step)\n",
    "\n",
    "            # select window\n",
    "            signal_window = signal_windows[window_idx]\n",
    "            signal_window = np.expand_dims(signal_window, axis=1)\n",
    "            signals_windows = np.append(signals_windows, signal_window, axis=1)\n",
    "\n",
    "        t_window = moving_window(t, window_length, step)\n",
    "\n",
    "        signals_windows = torch.from_numpy(np.copy(signals_windows)).float()\n",
    "        \n",
    "        return signals_windows, csv_name\n",
    "\n",
    "\n",
    "        \n",
    "\n",
    "    def __len__(self):\n",
    "        return self.csv_amount * self.max_window_idx\n"
   ]
  },
  {
   "cell_type": "code",
   "execution_count": 203,
   "metadata": {},
   "outputs": [
    {
     "name": "stdout",
     "output_type": "stream",
     "text": [
      "77220\n",
      "1188.0\n",
      "0\n",
      "11\n",
      "1188\n",
      "C:/Users/aherrada/OneDrive - Universidad del Norte/Uninorte/DetectionDataBase/LSTM_SEM\\F_T01_l\\Fault11_B830_RF100.00001_L052.43.csv\n",
      "Signal length: 128\n",
      "F_T01_h\\Fault03_B806_RF100.00001_L092.19.csv\n"
     ]
    },
    {
     "data": {
      "image/png": "[encoded data removed]",
      "text/plain": [
       "<Figure size 640x480 with 1 Axes>"
      ]
     },
     "metadata": {},
     "output_type": "display_data"
    }
   ],
   "source": [
    "csv_idx = 10\n",
    "dataset_dir = \"C:/Users/aherrada/OneDrive - Universidad del Norte/Uninorte/DetectionDataBase/LSTM_SEM\"\n",
    "dataset = Form1Dataset(dataset_dir, signal_names)\n",
    "print(len(dataset))\n",
    "print(len(dataset)/65)\n",
    "signals_window, csv_name = dataset.__getitem__(csv_idx*65 + 65)\n",
    "plt.plot(signals_window)\n",
    "print(dataset.csv_list[csv_idx])"
   ]
  },
  {
   "cell_type": "code",
   "execution_count": null,
   "metadata": {},
   "outputs": [],
   "source": []
  },
  {
   "cell_type": "code",
   "execution_count": 97,
   "metadata": {},
   "outputs": [
    {
     "name": "stdout",
     "output_type": "stream",
     "text": [
      "F_T01_m\\Fault04_B830_RF80.00001_L076.99.csv\n"
     ]
    }
   ],
   "source": [
    "# Probar el DataLoader\n",
    "dataset_dir = \"C:/Users/aherrada/OneDrive - Universidad del Norte/Uninorte/DetectionDataBase/LSTM_SEM_2\"\n",
    "a = glob.glob(f\"{dataset_dir}*.csv\")\n",
    "\n",
    "import os\n",
    "\n",
    "file_set = set()\n",
    "for dir_, _, files in os.walk(dataset_dir):\n",
    "    for file_name in files:\n",
    "        rel_dir = os.path.relpath(dir_, dataset_dir)\n",
    "        rel_file = os.path.join(rel_dir, file_name)\n",
    "        file_set.add(rel_file)\n",
    "csv_list = list(file_set)\n",
    "\n",
    "print(csv_list[0])"
   ]
  },
  {
   "cell_type": "code",
   "execution_count": 118,
   "metadata": {},
   "outputs": [
    {
     "data": {
      "text/plain": [
       "[<matplotlib.lines.Line2D at 0x1ef98a2f250>]"
      ]
     },
     "execution_count": 118,
     "metadata": {},
     "output_type": "execute_result"
    },
    {
     "data": {
      "image/png": "[encoded data removed]",
      "text/plain": [
       "<Figure size 640x480 with 1 Axes>"
      ]
     },
     "metadata": {},
     "output_type": "display_data"
    }
   ],
   "source": [
    "from utils_tesis.auxfunctions import moving_window\n",
    "# signals = CSV_pandas_path(f'{dataset_dir}\\\\{file_list[0]}')\n",
    "signals = CSV_pandas_path(csv_name)\n",
    "signal, t, _ = signals.load_data('I: X0023A-R1A')\n",
    "signal_wdw = moving_window(signal, 64, 1)\n",
    "plt.plot(signal)"
   ]
  },
  {
   "attachments": {},
   "cell_type": "markdown",
   "metadata": {},
   "source": [
    "##### 4.2. Database Directory Creation "
   ]
  },
  {
   "cell_type": "code",
   "execution_count": 6,
   "metadata": {},
   "outputs": [
    {
     "name": "stdout",
     "output_type": "stream",
     "text": [
      "copying 54 files...\n",
      "finished\n"
     ]
    }
   ],
   "source": [
    "# Creating Dataset Folders\n",
    "\n",
    "dataset_dir_full = \"C:/Users/aherrada/OneDrive - Universidad del Norte/Uninorte/DetectionDataBase/LSTM_form_1/fault_01/\"\n",
    "dataset_dir = \"C:/Users/aherrada/OneDrive - Universidad del Norte/Uninorte/DetectionDataBase/LSTM_form_1/R1/\"\n",
    "\n",
    "max_window_idx = 130\n",
    "n_events = 54\n",
    "\n",
    "\n",
    "def dataset_creator(source_path, target_path, signal_list=False):\n",
    "    csv_list = glob.glob(f\"{source_path}*.csv\")\n",
    "    if not os.path.isdir(target_path):\n",
    "        print(\"creating\")\n",
    "        os.makedirs(target_path)\n",
    "    else:\n",
    "        file_list = glob.glob(f\"{target_path}*.csv\")\n",
    "        for file in file_list:\n",
    "            os.remove(file)\n",
    "    csv_list = random.sample(csv_list, n_events)\n",
    "    print(f\"copying {len(csv_list)} files...\")\n",
    "    for csv in csv_list:\n",
    "        source_path = csv\n",
    "        target_path = target_path\n",
    "        shutil.copy(source_path, target_path)\n",
    "    print(\"finished\")\n",
    "\n",
    "    if signal_list == True:\n",
    "        print(\"Available Relays (current):\")\n",
    "        CSV_pandas_path(csv_list[0]).relay_list()\n",
    "\n",
    "\n",
    "# Crear los 3 Datasets para entrenar los relés individualmente\n",
    "dataset_creator(dataset_dir_full, dataset_dir, signal_list=False)\n"
   ]
  },
  {
   "attachments": {},
   "cell_type": "markdown",
   "metadata": {},
   "source": [
    "##### 4.3. Dataset and Dataloader Instances Creation"
   ]
  },
  {
   "cell_type": "code",
   "execution_count": 160,
   "metadata": {},
   "outputs": [],
   "source": [
    "# Load Dataset\n",
    "current_R1A = \"I: X0023A-R1A\"\n",
    "current_R1B = \"I: X0023B-R1B\"\n",
    "current_R1C = \"I: X0023C-R1C\"\n",
    "current_R2A = 'I: X0004A-R2A'\n",
    "current_R2B = 'I: X0004B-R2B'\n",
    "current_R2C = 'I: X0004C-R2C'\n",
    "current_R3A = 'I: X0071A-R3A'\n",
    "current_R3B = 'I: X0071B-R3B'\n",
    "current_R3C = 'I: X0071C-R3C'\n",
    "\n",
    "voltage_R1A = \"V: R1A\"\n",
    "voltage_R1B = \"V: R1B\"\n",
    "voltage_R1C = \"V: R1C\"\n",
    "signal_names = [current_R1A, current_R1B, current_R1C]\n",
    "\n",
    "dataset = Form1Dataset(\n",
    "    dataset_dir, max_window_idx=max_window_idx, signal_names=signal_names\n",
    ")\n",
    "# dataset.get_events(0)\n",
    "train_dataset, test_dataset = random_split(dataset, [0.95, 0.05])\n",
    "train_dataloader = DataLoader(train_dataset, batch_size=train_batch_size, shuffle=True)\n",
    "test_dataloader = DataLoader(test_dataset, batch_size=test_batch_size, shuffle=True)\n",
    "# EL test set realmente es un dev set\n",
    "# Como regla general, si es utilizado dentro del loop es un dev set.\n"
   ]
  },
  {
   "attachments": {},
   "cell_type": "markdown",
   "metadata": {},
   "source": [
    "### 5. Model Training\n"
   ]
  },
  {
   "attachments": {},
   "cell_type": "markdown",
   "metadata": {},
   "source": [
    "##### 5.1. Train / Test(dev) Loop Creation"
   ]
  },
  {
   "cell_type": "code",
   "execution_count": 8,
   "metadata": {},
   "outputs": [],
   "source": [
    "# Create Training / Test / Validation Loops\n",
    "\n",
    "\n",
    "# Training\n",
    "def train(dataloader, model, loss_fn, optimizer, return_loss=False):\n",
    "    size = len(dataloader.dataset)\n",
    "    model.train()\n",
    "    loss_list = []\n",
    "\n",
    "    for batch, (x, y) in enumerate(dataloader):\n",
    "        x, y = x.to(device), y.to(device)\n",
    "\n",
    "        # Compute prediction error\n",
    "        pred = model(x)\n",
    "        loss = loss_fn(pred, y)\n",
    "\n",
    "        # Backpropagation\n",
    "        optimizer.zero_grad()\n",
    "        loss.backward()\n",
    "        optimizer.step()\n",
    "        if return_loss == True:\n",
    "            loss_list.append(loss.item())\n",
    "        if batch % 2 == 0:\n",
    "            loss, current = loss.item(), batch * len(x)\n",
    "            print(f\"loss: {loss:>f} [{current:>5d}/{size:>5d}]\")\n",
    "\n",
    "        if batch % 5 == 0:\n",
    "            my_lr_scheduler.step()\n",
    "    if return_loss == True:\n",
    "        return loss_list\n",
    "\n",
    "\n",
    "from torchmetrics.functional.classification import binary_stat_scores\n",
    "\n",
    "\n",
    "def test_metrics(dataloader, model, loss_fn, return_metrics=False):\n",
    "    size = len(dataloader.dataset)\n",
    "    num_batches = len(dataloader)\n",
    "    conf_matrix = torch.zeros(1, 5, dtype=torch.int64).to(device)\n",
    "    model.eval()\n",
    "    test_loss, correct = 0, 0\n",
    "    with torch.no_grad():\n",
    "        for x, y in tqdm(dataloader):\n",
    "\n",
    "            x, y = x.to(device), y.to(device)\n",
    "            pred = model(x)\n",
    "\n",
    "            conf_matrix = conf_matrix.add(binary_stat_scores(pred, y))\n",
    "            test_loss += loss_fn(pred, y).item()\n",
    "            correct += (torch.round(pred) == y).type(torch.float).sum().item()\n",
    "\n",
    "    test_loss /= num_batches\n",
    "    acc = (conf_matrix[0, 0] + conf_matrix[0, 2]) / conf_matrix[0, :-1].sum()\n",
    "    correct /= size\n",
    "    print(f\"{correct*100:>0.1f}\")\n",
    "    print(f\"Test Error: \\n Accuracy: {(100*acc):>0.1f}%, Avg loss: {test_loss:>8f} \\n\")\n",
    "    if return_metrics == True:\n",
    "        return conf_matrix, test_loss\n"
   ]
  },
  {
   "attachments": {},
   "cell_type": "markdown",
   "metadata": {},
   "source": [
    "##### 5.2. Training the model"
   ]
  },
  {
   "cell_type": "code",
   "execution_count": 9,
   "metadata": {},
   "outputs": [
    {
     "data": {
      "text/plain": [
       "<All keys matched successfully>"
      ]
     },
     "execution_count": 9,
     "metadata": {},
     "output_type": "execute_result"
    }
   ],
   "source": [
    "model.load_state_dict(torch.load('models\\LSTMHarmonic_weights_R1Currents.pth'))\n",
    "# model.load_state_dict(torch.load(\"./models/LSTMHarmonic_weights_R1_996.pth\"))\n",
    "# model.load_state_dict(torch.load('./models/LSTMHarmonic_weights_R2_978.pth'))\n",
    "\n",
    "# epochs = 1\n",
    "\n",
    "# for epoch in range(epochs):\n",
    "\n",
    "#     print(f\"Epoch {epoch+1}\\n--------------------------------\")\n",
    "#     train_loss = train(train_dataloader, model, loss_fn, optimizer, return_loss=True)\n",
    "#     # accuracy, _ = test(test_dataloader, model, loss_fn, return_metrics=True)\n",
    "#     conf_matrix, _ = test_metrics(test_dataloader, model, loss_fn, return_metrics=True)\n",
    "# print(conf_matrix)\n"
   ]
  },
  {
   "cell_type": "code",
   "execution_count": 13,
   "metadata": {},
   "outputs": [
    {
     "ename": "NameError",
     "evalue": "name 'conf_matrix' is not defined",
     "output_type": "error",
     "traceback": [
      "\u001b[1;31m---------------------------------------------------------------------------\u001b[0m",
      "\u001b[1;31mNameError\u001b[0m                                 Traceback (most recent call last)",
      "Cell \u001b[1;32mIn[13], line 45\u001b[0m\n\u001b[0;32m     41\u001b[0m         \u001b[39mprint\u001b[39m(\u001b[39m\"\u001b[39m\u001b[39mNo se puede obtener PPV, división por cero\u001b[39m\u001b[39m\"\u001b[39m)\n\u001b[0;32m     42\u001b[0m     \u001b[39mreturn\u001b[39;00m metrics\n\u001b[1;32m---> 45\u001b[0m metrics \u001b[39m=\u001b[39m conf_matrix_metrics(conf_matrix)\n\u001b[0;32m     46\u001b[0m \u001b[39mprint\u001b[39m(\u001b[39mround\u001b[39m(metrics[\u001b[39m\"\u001b[39m\u001b[39mACC\u001b[39m\u001b[39m\"\u001b[39m] \u001b[39m*\u001b[39m \u001b[39m100\u001b[39m, \u001b[39m1\u001b[39m))\n\u001b[0;32m     47\u001b[0m \u001b[39mprint\u001b[39m(conf_matrix)\n",
      "\u001b[1;31mNameError\u001b[0m: name 'conf_matrix' is not defined"
     ]
    }
   ],
   "source": [
    "def conf_matrix_metrics(conf_matrix: torch.LongTensor) -> dict:\n",
    "    \"\"\"\n",
    "    Returns dictionary with metrics from a confusion matrix.\n",
    "\n",
    "            Parameters:\n",
    "                    conf_matrix (torch.Tensor): confusion matrix of dimension (1, 5)\n",
    "                        [TP, FP, TN, FN, TP + FN]\n",
    "\n",
    "            Returns:\n",
    "                    metrics (dict): dictionary with following metrics:\n",
    "                        metrics[\"TOTAL\"] -> total amount of samples.\n",
    "                        metrics[\"TPR\"]   -> True Positive Rate,  sensibility, recall, hit-rate.\n",
    "                        metrics[\"FPR\"]   -> False Positive Rate, Fallout.\n",
    "                        metrics[\"TNR\"]   -> True Negative Rate,  specificity, selectivity\n",
    "                        metrics[\"ACC\"]   -> Accuracy.\n",
    "                        metrics[\"PPV\"]   -> Positive Predictive Value, Precision.\n",
    "    \"\"\"\n",
    "    if conf_matrix.shape == (5,):\n",
    "        conf_matrix = np.expand_dims(conf_matrix, axis=0)\n",
    "\n",
    "    metrics = {}\n",
    "    TP = int(conf_matrix[0, 0].item())\n",
    "    FP = int(conf_matrix[0, 1].item())\n",
    "    TN = int(conf_matrix[0, 2].item())\n",
    "    FN = int(conf_matrix[0, 3].item())\n",
    "    metrics[\"TP\"] = TP\n",
    "    metrics[\"FP\"] = FP\n",
    "    metrics[\"TN\"] = TN\n",
    "    metrics[\"FN\"] = FN\n",
    "    P = TP + FN\n",
    "    N = TN + FP\n",
    "    TOTAL = TP + FP + TN + FN\n",
    "    metrics[\"TOTAL\"] = TOTAL\n",
    "    metrics[\"TPR\"] = TP / (TP + FN)\n",
    "    metrics[\"FPR\"] = FP / (FP + TN)\n",
    "    metrics[\"TNR\"] = TN / (FP + TN)\n",
    "    metrics[\"ACC\"] = (TP + TN) / (TOTAL)\n",
    "    try:\n",
    "        metrics[\"PPV\"] = TP / (TP + FP)\n",
    "    except ZeroDivisionError:\n",
    "        print(\"No se puede obtener PPV, división por cero\")\n",
    "    return metrics\n",
    "\n",
    "\n",
    "metrics = conf_matrix_metrics(conf_matrix)\n",
    "print(round(metrics[\"ACC\"] * 100, 1))\n",
    "print(conf_matrix)\n"
   ]
  },
  {
   "attachments": {},
   "cell_type": "markdown",
   "metadata": {},
   "source": [
    "##### 5.3. Training loss visualization"
   ]
  },
  {
   "cell_type": "code",
   "execution_count": 11,
   "metadata": {},
   "outputs": [
    {
     "name": "stdout",
     "output_type": "stream",
     "text": [
      "Error! Run train loop\n"
     ]
    }
   ],
   "source": [
    "try:\n",
    "    mini_batch_list = [index for index, _ in enumerate(train_loss)]\n",
    "    train_loss_ewm = pd.DataFrame(train_loss).ewm(com=0.95).mean()\n",
    "    plt.plot(mini_batch_list, train_loss, \n",
    "    mini_batch_list, train_loss_ewm)\n",
    "except NameError:\n",
    "    print(\"Error! Run train loop\")\n"
   ]
  },
  {
   "attachments": {},
   "cell_type": "markdown",
   "metadata": {},
   "source": [
    "##### 5.4. Saving the Model"
   ]
  },
  {
   "cell_type": "code",
   "execution_count": 33,
   "metadata": {},
   "outputs": [],
   "source": [
    "# # Save the Model\n",
    "# torch.save(model.state_dict(), './models/LSTMHarmonic_weights_R2Currents.pth')\n"
   ]
  },
  {
   "attachments": {},
   "cell_type": "markdown",
   "metadata": {},
   "source": [
    "### 6. Results Visualization\n"
   ]
  },
  {
   "attachments": {},
   "cell_type": "markdown",
   "metadata": {},
   "source": [
    "#### 6.1. Confussion Matrix Results Table Function"
   ]
  },
  {
   "cell_type": "code",
   "execution_count": 14,
   "metadata": {},
   "outputs": [],
   "source": [
    "# Data visualization (CPU)\n",
    "\n",
    "\n",
    "def confusion_matrix_labels(pred_label, true_label):\n",
    "    label = \"\"\n",
    "    if int(pred_label) == int(true_label):\n",
    "        label += \"T\"\n",
    "    else:\n",
    "        label += \"F\"\n",
    "    if pred_label == 1:\n",
    "        label += \"P\"\n",
    "    else:\n",
    "        label += \"N\"\n",
    "    return label\n",
    "\n",
    "\n",
    "confusion_matrix_pandas = np.vectorize(confusion_matrix_labels)\n",
    "\n",
    "\n",
    "def confusion_matrix(\n",
    "    preds: torch.FloatTensor, labels: torch.FloatTensor\n",
    ") -> pd.DataFrame:\n",
    "    preds = preds.detach()\n",
    "    labels = labels.detach()\n",
    "    data = {\n",
    "        \"Pred probability\": torch.reshape(preds, (-1,)).cpu().numpy(),\n",
    "        \"Pred label\": torch.reshape(torch.round(preds), (-1,)).int().cpu().numpy(),\n",
    "        \"True label\": torch.reshape(labels, (-1,)).int().cpu().numpy(),\n",
    "    }\n",
    "    df = pd.DataFrame(data)\n",
    "    df[\"Result\"] = confusion_matrix_pandas(df[\"Pred label\"], df[\"True label\"])\n",
    "    return df\n"
   ]
  },
  {
   "attachments": {},
   "cell_type": "markdown",
   "metadata": {},
   "source": [
    "##### 6.2. Plotly Plot"
   ]
  },
  {
   "cell_type": "code",
   "execution_count": 15,
   "metadata": {},
   "outputs": [
    {
     "name": "stderr",
     "output_type": "stream",
     "text": [
      "c:\\Users\\aherrada\\Documents\\Git\\Pytorch\\env\\lib\\site-packages\\torch\\utils\\data\\_utils\\collate.py:172: UserWarning: The given NumPy array is not writable, and PyTorch does not support non-writable tensors. This means writing to this tensor will result in undefined behavior. You may want to copy the array to protect its data or make it writable before converting it to a tensor. This type of warning will be suppressed for the rest of this program. (Triggered internally at C:\\actions-runner\\_work\\pytorch\\pytorch\\builder\\windows\\pytorch\\torch\\csrc\\utils\\tensor_numpy.cpp:205.)\n",
      "  return collate([torch.as_tensor(b) for b in batch], collate_fn_map=collate_fn_map)\n"
     ]
    },
    {
     "name": "stdout",
     "output_type": "stream",
     "text": [
      "64\n",
      "torch.Size([64])\n",
      "torch.Size([64, 1])\n",
      "torch.FloatTensor\n",
      "<class 'pandas.core.frame.DataFrame'>\n",
      "   Pred probability  Pred label  True label Result\n",
      "0          0.014643           0           0     TN\n",
      "1          0.945566           1           1     TP\n",
      "2          0.012463           0           0     TN\n",
      "3          0.023886           0           0     TN\n",
      "4          0.066537           0           1     FN\n",
      "5          0.959930           1           1     TP\n",
      "6          0.012172           0           0     TN\n",
      "7          0.969414           1           1     TP\n",
      "8          0.023584           0           1     FN\n"
     ]
    },
    {
     "data": {
      "application/vnd.plotly.v1+json": {
       "config": {
        "plotlyServerURL": "https://plot.ly"
       },
       "data": [
        {
         "marker": {
          "color": "black"
         },
         "name": "No Fault - 15 - Fault01_B860_RF20.csv",
         "type": "scatter",
         "x": [
          0.003906,
          0.0041664,
          0.0044268,
          0.0046872,
          0.0049476,
          0.005208,
          0.0054684,
          0.0057288,
          0.0059892,
          0.0062496,
          0.00651,
          0.0067704,
          0.0070308,
          0.0072912,
          0.0075516,
          0.007812,
          0.0080724,
          0.0083328,
          0.0085932,
          0.0088536,
          0.009114,
          0.0093744,
          0.0096348,
          0.0098952,
          0.0101556,
          0.010416,
          0.0106764,
          0.0109368,
          0.0111972,
          0.0114576,
          0.011718,
          0.0119784,
          0.0122388,
          0.0124992,
          0.0127596,
          0.01302,
          0.0132804,
          0.0135408,
          0.0138012,
          0.0140616,
          0.014322,
          0.0145824,
          0.0148428,
          0.0151032,
          0.0153636,
          0.015624,
          0.0158844,
          0.0161448,
          0.0164052,
          0.0166656,
          0.016926,
          0.0171864,
          0.0174468,
          0.0177072,
          0.0179676,
          0.018228,
          0.0184884,
          0.0187488,
          0.0190092,
          0.0192696,
          0.01953,
          0.0197904,
          0.0200508,
          0.0203112
         ],
         "xaxis": "x",
         "y": [
          24.820510864257812,
          25.290119171142578,
          26.700315475463867,
          26.532093048095703,
          28.56951141357422,
          26.41776466369629,
          27.2799129486084,
          25.35514259338379,
          25.52497100830078,
          24.852062225341797,
          23.583131790161133,
          22.102603912353516,
          19.786775588989258,
          17.68084716796875,
          16.230518341064453,
          14.111662864685059,
          12.279167175292969,
          9.419222831726074,
          6.537238121032715,
          3.821218967437744,
          1.1845585107803345,
          -0.6736375093460083,
          -3.3134355545043945,
          -6.005073070526123,
          -8.849882125854492,
          -11.619974136352539,
          -13.520648002624512,
          -15.590093612670898,
          -17.50853157043457,
          -19.43920135498047,
          -21.585519790649414,
          -22.872085571289062,
          -24.222482681274414,
          -25.050334930419922,
          -25.921363830566406,
          -26.46771240234375,
          -26.952394485473633,
          -26.791790008544922,
          -26.89984130859375,
          -26.09837532043457,
          -25.623088836669922,
          -24.352840423583984,
          -23.442644119262695,
          -21.8630313873291,
          -20.501054763793945,
          -18.473440170288086,
          -16.734516143798828,
          -14.280555725097656,
          -12.149222373962402,
          -9.608539581298828,
          -7.402735233306885,
          -4.747916221618652,
          -2.293731689453125,
          0.4746602177619934,
          2.997365713119507,
          5.725558280944824,
          7.874320983886719,
          10.534646987915039,
          12.623554229736328,
          15.198587417602539,
          17.079463958740234,
          19.119157791137695,
          20.631486892700195,
          22.41539764404297
         ],
         "yaxis": "y"
        },
        {
         "marker": {
          "color": "black"
         },
         "name": "Fault - 112 - Fault01_B840_RF40.csv",
         "type": "scatter",
         "x": [
          0.0291648,
          0.0294252,
          0.0296856,
          0.029946,
          0.0302064,
          0.0304668,
          0.0307272,
          0.0309876,
          0.031248,
          0.0315084,
          0.0317688,
          0.0320292,
          0.0322896,
          0.03255,
          0.0328104,
          0.0330708,
          0.0333312,
          0.0335916,
          0.033852,
          0.0341124,
          0.0343728,
          0.0346332,
          0.0348936,
          0.035154,
          0.0354144,
          0.0356748,
          0.0359352,
          0.0361956,
          0.036456,
          0.0367164,
          0.0369768,
          0.0372372,
          0.0374976,
          0.037758,
          0.0380184,
          0.0382788,
          0.0385392,
          0.0387996,
          0.03906,
          0.0393204,
          0.0395808,
          0.0398412,
          0.0401016,
          0.040362,
          0.0406224,
          0.0408828,
          0.0411432,
          0.0414036,
          0.041664,
          0.0419244,
          0.0421848,
          0.0424452,
          0.0427056,
          0.042966,
          0.0432264,
          0.0434868,
          0.0437472,
          0.0440076,
          0.044268,
          0.0445284,
          0.0447888,
          0.0450492,
          0.0453096,
          0.04557
         ],
         "xaxis": "x2",
         "y": [
          -11.193455696105957,
          -8.790322303771973,
          -6.270532131195068,
          -3.7626678943634033,
          -1.1576088666915894,
          1.4551047086715698,
          4.087070941925049,
          6.578479766845703,
          9.095980644226074,
          11.443774223327637,
          13.860466957092285,
          15.97592830657959,
          18.013763427734375,
          19.844331741333008,
          21.523740768432617,
          23.011884689331055,
          24.250469207763672,
          63.317474365234375,
          44.38180923461914,
          74.94125366210938,
          103.67304229736328,
          91.87247467041016,
          103.7604751586914,
          115.84974670410156,
          87.21067810058594,
          97.41817474365234,
          97.69725036621094,
          73.90612030029297,
          65.9489517211914,
          53.99708938598633,
          36.01487731933594,
          28.94818878173828,
          13.40932846069336,
          -15.23889446258545,
          -22.178260803222656,
          -38.978450775146484,
          -57.495948791503906,
          -74.3927230834961,
          -90.48053741455078,
          -107.47126007080078,
          -117.17486572265625,
          -125.47942352294922,
          -145.83428955078125,
          -155.69175720214844,
          -156.31448364257812,
          -169.775390625,
          -177.9954071044922,
          -178.07431030273438,
          -184.40184020996094,
          -170.02259826660156,
          -183.72210693359375,
          -180.5192413330078,
          -169.5892791748047,
          -166.10894775390625,
          -148.26107788085938,
          -152.9668426513672,
          -142.99139404296875,
          -123.93524169921875,
          -110.51612091064453,
          -89.09638214111328,
          -84.13861846923828,
          -78.65959167480469,
          -42.297874450683594,
          -33.39442825317383
         ],
         "yaxis": "y2"
        },
        {
         "marker": {
          "color": "black"
         },
         "name": "No Fault - 56 - Fault01_B134_RF100.csv",
         "type": "scatter",
         "x": [
          0.0145824,
          0.0148428,
          0.0151032,
          0.0153636,
          0.015624,
          0.0158844,
          0.0161448,
          0.0164052,
          0.0166656,
          0.016926,
          0.0171864,
          0.0174468,
          0.0177072,
          0.0179676,
          0.018228,
          0.0184884,
          0.0187488,
          0.0190092,
          0.0192696,
          0.01953,
          0.0197904,
          0.0200508,
          0.0203112,
          0.0205716,
          0.020832,
          0.0210924,
          0.0213528,
          0.0216132,
          0.0218736,
          0.022134,
          0.0223944,
          0.0226548,
          0.0229152,
          0.0231756,
          0.023436,
          0.0236964,
          0.0239568,
          0.0242172,
          0.0244776,
          0.024738,
          0.0249984,
          0.0252588,
          0.0255192,
          0.0257796,
          0.02604,
          0.0263004,
          0.0265608,
          0.0268212,
          0.0270816,
          0.027342,
          0.0276024,
          0.0278628,
          0.0281232,
          0.0283836,
          0.028644,
          0.0289044,
          0.0291648,
          0.0294252,
          0.0296856,
          0.029946,
          0.0302064,
          0.0304668,
          0.0307272,
          0.0309876
         ],
         "xaxis": "x3",
         "y": [
          7.030885219573975,
          9.40148639678955,
          11.698283195495605,
          13.875335693359375,
          16.076662063598633,
          18.146289825439453,
          19.891651153564453,
          21.67046546936035,
          22.84173011779785,
          24.2314453125,
          25.044164657592773,
          26.035167694091797,
          26.367855072021484,
          26.806114196777344,
          26.570585250854492,
          26.46388053894043,
          25.771074295043945,
          25.126277923583984,
          24.088470458984375,
          22.98061180114746,
          21.308923721313477,
          19.718753814697266,
          17.79278564453125,
          15.893214225769043,
          13.591385841369629,
          11.360404968261719,
          8.821206092834473,
          6.423807621002197,
          3.7275197505950928,
          1.2913284301757812,
          -1.4461839199066162,
          -3.9132487773895264,
          -6.582172870635986,
          -8.966917991638184,
          -11.442769050598145,
          -13.737653732299805,
          -15.923871040344238,
          -17.922534942626953,
          -19.74350929260254,
          -21.452938079833984,
          -22.918521881103516,
          -24.184415817260742,
          -25.140193939208984,
          -25.982860565185547,
          -26.4348087310791,
          -26.85407257080078,
          -26.69377326965332,
          -26.580251693725586,
          -25.951427459716797,
          -25.277042388916016,
          -24.28348731994629,
          -23.135841369628906,
          -21.567617416381836,
          -19.95857048034668,
          -18.097063064575195,
          -16.135135650634766,
          -13.89222240447998,
          -11.576637268066406,
          -9.138729095458984,
          -6.675273895263672,
          -4.104278564453125,
          -1.5513266324996948,
          1.0855274200439453,
          3.694018602371216
         ],
         "yaxis": "y3"
        },
        {
         "marker": {
          "color": "black"
         },
         "name": "No Fault - 58 - Fault01_B846_RF40.csv",
         "type": "scatter",
         "x": [
          0.0151032,
          0.0153636,
          0.015624,
          0.0158844,
          0.0161448,
          0.0164052,
          0.0166656,
          0.016926,
          0.0171864,
          0.0174468,
          0.0177072,
          0.0179676,
          0.018228,
          0.0184884,
          0.0187488,
          0.0190092,
          0.0192696,
          0.01953,
          0.0197904,
          0.0200508,
          0.0203112,
          0.0205716,
          0.020832,
          0.0210924,
          0.0213528,
          0.0216132,
          0.0218736,
          0.022134,
          0.0223944,
          0.0226548,
          0.0229152,
          0.0231756,
          0.023436,
          0.0236964,
          0.0239568,
          0.0242172,
          0.0244776,
          0.024738,
          0.0249984,
          0.0252588,
          0.0255192,
          0.0257796,
          0.02604,
          0.0263004,
          0.0265608,
          0.0268212,
          0.0270816,
          0.027342,
          0.0276024,
          0.0278628,
          0.0281232,
          0.0283836,
          0.028644,
          0.0289044,
          0.0291648,
          0.0294252,
          0.0296856,
          0.029946,
          0.0302064,
          0.0304668,
          0.0307272,
          0.0309876,
          0.031248,
          0.0315084
         ],
         "xaxis": "x4",
         "y": [
          -17.525859832763672,
          -19.25722885131836,
          -21.02828025817871,
          -22.711095809936523,
          -23.796367645263672,
          -25.14569091796875,
          -25.53183364868164,
          -26.48084831237793,
          -26.531126022338867,
          -26.862625122070312,
          -26.445764541625977,
          -26.188554763793945,
          -25.270967483520508,
          -24.597789764404297,
          -23.208955764770508,
          -21.94095230102539,
          -20.170419692993164,
          -18.515775680541992,
          -16.455976486206055,
          -14.43050479888916,
          -11.934856414794922,
          -9.668132781982422,
          -7.0469441413879395,
          -4.624126434326172,
          -1.9230433702468872,
          0.5167806148529053,
          3.35451340675354,
          5.76142692565918,
          8.449501037597656,
          10.689558029174805,
          13.221595764160156,
          15.310011863708496,
          17.5372257232666,
          19.31462287902832,
          21.14614486694336,
          22.67997932434082,
          23.926876068115234,
          25.150114059448242,
          25.871990203857422,
          26.639482498168945,
          26.872882843017578,
          27.040372848510742,
          26.788394927978516,
          26.456287384033203,
          25.63544273376465,
          24.89920997619629,
          23.629247665405273,
          22.291141510009766,
          20.585432052612305,
          18.854257583618164,
          16.84339141845703,
          14.774242401123047,
          12.313312530517578,
          9.959114074707031,
          7.437304496765137,
          4.878204822540283,
          2.2856218814849854,
          -0.31130412220954895,
          -3.0486998558044434,
          -5.582097053527832,
          -8.18712043762207,
          -10.572404861450195,
          -13.04511833190918,
          -15.270112037658691
         ],
         "yaxis": "y4"
        },
        {
         "marker": {
          "color": "black"
         },
         "name": "Fault - 66 - Fault01_B802_RF60.csv",
         "type": "scatter",
         "x": [
          0.0171864,
          0.0174468,
          0.0177072,
          0.0179676,
          0.018228,
          0.0184884,
          0.0187488,
          0.0190092,
          0.0192696,
          0.01953,
          0.0197904,
          0.0200508,
          0.0203112,
          0.0205716,
          0.020832,
          0.0210924,
          0.0213528,
          0.0216132,
          0.0218736,
          0.022134,
          0.0223944,
          0.0226548,
          0.0229152,
          0.0231756,
          0.023436,
          0.0236964,
          0.0239568,
          0.0242172,
          0.0244776,
          0.024738,
          0.0249984,
          0.0252588,
          0.0255192,
          0.0257796,
          0.02604,
          0.0263004,
          0.0265608,
          0.0268212,
          0.0270816,
          0.027342,
          0.0276024,
          0.0278628,
          0.0281232,
          0.0283836,
          0.028644,
          0.0289044,
          0.0291648,
          0.0294252,
          0.0296856,
          0.029946,
          0.0302064,
          0.0304668,
          0.0307272,
          0.0309876,
          0.031248,
          0.0315084,
          0.0317688,
          0.0320292,
          0.0322896,
          0.03255,
          0.0328104,
          0.0330708,
          0.0333312,
          0.0335916
         ],
         "xaxis": "x5",
         "y": [
          -5.300431728363037,
          -2.849255084991455,
          -0.07661857455968857,
          2.4343690872192383,
          5.188561916351318,
          7.342441082000732,
          10.038979530334473,
          12.115738868713379,
          14.753573417663574,
          16.642194747924805,
          18.741586685180664,
          20.275054931640625,
          22.08989143371582,
          23.245882034301758,
          24.7614803314209,
          25.338991165161133,
          26.345813751220703,
          26.51364517211914,
          26.895648956298828,
          26.705209732055664,
          26.40269660949707,
          25.76361083984375,
          24.954374313354492,
          23.950641632080078,
          22.591501235961914,
          21.06433868408203,
          19.244577407836914,
          17.452495574951172,
          15.251236915588379,
          13.034811973571777,
          10.538492202758789,
          8.201122283935547,
          5.499324321746826,
          3.0437815189361572,
          0.3012201488018036,
          -2.2894678115844727,
          -5.002932548522949,
          -7.469118595123291,
          -10.079105377197266,
          -12.38991641998291,
          -14.867504119873047,
          -16.912294387817383,
          -18.994976043701172,
          -20.742286682128906,
          -22.504310607910156,
          -23.8049259185791,
          -25.16969871520996,
          -25.92609977722168,
          -26.863046646118164,
          -27.132659912109375,
          -27.488906860351562,
          -27.2596378326416,
          -27.01327896118164,
          -26.288333892822266,
          -25.56242561340332,
          -24.42660903930664,
          -23.146329879760742,
          -21.460792541503906,
          -19.738859176635742,
          -17.81586456298828,
          -15.711933135986328,
          -13.3755521774292,
          -10.945724487304688,
          -20.116411209106445
         ],
         "yaxis": "y5"
        },
        {
         "marker": {
          "color": "black"
         },
         "name": "Fault - 71 - Fault01_B846_RF1e-05.csv",
         "type": "scatter",
         "x": [
          0.0184884,
          0.0187488,
          0.0190092,
          0.0192696,
          0.01953,
          0.0197904,
          0.0200508,
          0.0203112,
          0.0205716,
          0.020832,
          0.0210924,
          0.0213528,
          0.0216132,
          0.0218736,
          0.022134,
          0.0223944,
          0.0226548,
          0.0229152,
          0.0231756,
          0.023436,
          0.0236964,
          0.0239568,
          0.0242172,
          0.0244776,
          0.024738,
          0.0249984,
          0.0252588,
          0.0255192,
          0.0257796,
          0.02604,
          0.0263004,
          0.0265608,
          0.0268212,
          0.0270816,
          0.027342,
          0.0276024,
          0.0278628,
          0.0281232,
          0.0283836,
          0.028644,
          0.0289044,
          0.0291648,
          0.0294252,
          0.0296856,
          0.029946,
          0.0302064,
          0.0304668,
          0.0307272,
          0.0309876,
          0.031248,
          0.0315084,
          0.0317688,
          0.0320292,
          0.0322896,
          0.03255,
          0.0328104,
          0.0330708,
          0.0333312,
          0.0335916,
          0.033852,
          0.0341124,
          0.0343728,
          0.0346332,
          0.0348936
         ],
         "xaxis": "x6",
         "y": [
          -7.664408206939697,
          -10.316604614257812,
          -12.377714157104492,
          -14.948298454284668,
          -16.81060791015625,
          -18.843223571777344,
          -20.342918395996094,
          -22.112567901611328,
          -23.19550132751465,
          -24.681486129760742,
          -25.193349838256836,
          -26.15057373046875,
          -26.286975860595703,
          -26.58529281616211,
          -26.384193420410156,
          -26.025373458862305,
          -25.362276077270508,
          -24.527212142944336,
          -23.49422836303711,
          -22.091064453125,
          -20.572940826416016,
          -18.733915328979492,
          -16.948469161987305,
          -14.759101867675781,
          -12.532477378845215,
          -10.066258430480957,
          -7.753459453582764,
          -5.080156326293945,
          -2.66837477684021,
          0.037983011454343796,
          2.5860788822174072,
          5.230796813964844,
          7.6492228507995605,
          10.188237190246582,
          12.4577054977417,
          14.849154472351074,
          16.84556007385254,
          18.84465217590332,
          20.539018630981445,
          22.243757247924805,
          23.462297439575195,
          24.794496536254883,
          25.480857849121094,
          26.370237350463867,
          26.60982894897461,
          26.894929885864258,
          26.66072654724121,
          26.378253936767578,
          25.644044876098633,
          24.915851593017578,
          23.77602195739746,
          22.48314666748047,
          20.834369659423828,
          19.12029266357422,
          17.24916648864746,
          15.17978572845459,
          12.872050285339355,
          10.509139060974121,
          -16.723154067993164,
          -13.602079391479492,
          -42.91649627685547,
          -74.30827331542969,
          -80.33697509765625,
          -107.21442413330078
         ],
         "yaxis": "y6"
        },
        {
         "marker": {
          "color": "black"
         },
         "name": "No Fault - 29 - Fault01_B802_RF100.csv",
         "type": "scatter",
         "x": [
          0.0075516,
          0.007812,
          0.0080724,
          0.0083328,
          0.0085932,
          0.0088536,
          0.009114,
          0.0093744,
          0.0096348,
          0.0098952,
          0.0101556,
          0.010416,
          0.0106764,
          0.0109368,
          0.0111972,
          0.0114576,
          0.011718,
          0.0119784,
          0.0122388,
          0.0124992,
          0.0127596,
          0.01302,
          0.0132804,
          0.0135408,
          0.0138012,
          0.0140616,
          0.014322,
          0.0145824,
          0.0148428,
          0.0151032,
          0.0153636,
          0.015624,
          0.0158844,
          0.0161448,
          0.0164052,
          0.0166656,
          0.016926,
          0.0171864,
          0.0174468,
          0.0177072,
          0.0179676,
          0.018228,
          0.0184884,
          0.0187488,
          0.0190092,
          0.0192696,
          0.01953,
          0.0197904,
          0.0200508,
          0.0203112,
          0.0205716,
          0.020832,
          0.0210924,
          0.0213528,
          0.0216132,
          0.0218736,
          0.022134,
          0.0223944,
          0.0226548,
          0.0229152,
          0.0231756,
          0.023436,
          0.0236964,
          0.0239568
         ],
         "xaxis": "x7",
         "y": [
          15.50171947479248,
          17.798900604248047,
          18.9002742767334,
          21.007020950317383,
          22.620866775512695,
          24.020387649536133,
          25.082956314086914,
          25.53538703918457,
          26.133037567138672,
          26.420618057250977,
          26.445798873901367,
          26.492212295532227,
          25.893442153930664,
          25.228172302246094,
          24.030359268188477,
          22.96025848388672,
          21.49189567565918,
          20.14167022705078,
          18.270145416259766,
          16.384939193725586,
          14.158736228942871,
          11.659794807434082,
          9.428665161132812,
          7.057796478271484,
          4.652474403381348,
          2.1412110328674316,
          -0.5786333680152893,
          -3.2577381134033203,
          -5.68712854385376,
          -8.17695140838623,
          -10.380807876586914,
          -12.828092575073242,
          -15.082736015319824,
          -17.189176559448242,
          -19.113651275634766,
          -20.675474166870117,
          -22.324779510498047,
          -23.531299591064453,
          -24.848901748657227,
          -25.587329864501953,
          -26.329410552978516,
          -26.630897521972656,
          -26.78487777709961,
          -26.596982955932617,
          -26.254671096801758,
          -25.54024887084961,
          -24.77995491027832,
          -23.615802764892578,
          -22.268386840820312,
          -20.599407196044922,
          -18.88591766357422,
          -16.95317840576172,
          -14.9417142868042,
          -12.491464614868164,
          -10.22840690612793,
          -7.624026298522949,
          -5.1741943359375,
          -2.5231316089630127,
          -0.05968126654624939,
          2.737119436264038,
          5.204249858856201,
          7.846896648406982,
          10.208891868591309,
          12.642643928527832
         ],
         "yaxis": "y7"
        },
        {
         "marker": {
          "color": "black"
         },
         "name": "Fault - 105 - Fault01_B860_RF40.csv",
         "type": "scatter",
         "x": [
          0.027342,
          0.0276024,
          0.0278628,
          0.0281232,
          0.0283836,
          0.028644,
          0.0289044,
          0.0291648,
          0.0294252,
          0.0296856,
          0.029946,
          0.0302064,
          0.0304668,
          0.0307272,
          0.0309876,
          0.031248,
          0.0315084,
          0.0317688,
          0.0320292,
          0.0322896,
          0.03255,
          0.0328104,
          0.0330708,
          0.0333312,
          0.0335916,
          0.033852,
          0.0341124,
          0.0343728,
          0.0346332,
          0.0348936,
          0.035154,
          0.0354144,
          0.0356748,
          0.0359352,
          0.0361956,
          0.036456,
          0.0367164,
          0.0369768,
          0.0372372,
          0.0374976,
          0.037758,
          0.0380184,
          0.0382788,
          0.0385392,
          0.0387996,
          0.03906,
          0.0393204,
          0.0395808,
          0.0398412,
          0.0401016,
          0.040362,
          0.0406224,
          0.0408828,
          0.0411432,
          0.0414036,
          0.041664,
          0.0419244,
          0.0421848,
          0.0424452,
          0.0427056,
          0.042966,
          0.0432264,
          0.0434868,
          0.0437472
         ],
         "xaxis": "x8",
         "y": [
          -9.14835262298584,
          -11.66989517211914,
          -13.977607727050781,
          -16.287731170654297,
          -18.241687774658203,
          -20.269794464111328,
          -21.824119567871094,
          -23.53713607788086,
          -24.595996856689453,
          -25.847023010253906,
          -26.472562789916992,
          -27.172412872314453,
          -27.37437629699707,
          -27.428205490112305,
          -27.107725143432617,
          -26.66592788696289,
          -25.798255920410156,
          -24.913726806640625,
          -23.61787223815918,
          -22.0560245513916,
          -20.380390167236328,
          -18.481279373168945,
          -16.48688507080078,
          -14.159360885620117,
          4.597925662994385,
          6.673854827880859,
          25.67912483215332,
          47.12846374511719,
          55.33913803100586,
          76.34809112548828,
          94.42718505859375,
          100.97807312011719,
          122.261474609375,
          133.174072265625,
          141.95123291015625,
          154.80677795410156,
          161.6132354736328,
          167.15357971191406,
          178.02464294433594,
          177.66970825195312,
          179.95428466796875,
          182.4192657470703,
          178.1436309814453,
          176.8809356689453,
          172.12997436523438,
          163.81199645996094,
          156.94244384765625,
          147.68402099609375,
          135.66323852539062,
          124.55797576904297,
          110.71036529541016,
          96.09191131591797,
          81.18106842041016,
          64.41370391845703,
          47.37796401977539,
          30.509634017944336,
          12.81110668182373,
          -5.838507175445557,
          -23.23664665222168,
          -41.658897399902344,
          -59.23188781738281,
          -76.73458099365234,
          -93.7547836303711,
          -109.5119857788086
         ],
         "yaxis": "y8"
        },
        {
         "marker": {
          "color": "black"
         },
         "name": "Fault - 80 - Fault01_B802_RF60.csv",
         "type": "scatter",
         "x": [
          0.020832,
          0.0210924,
          0.0213528,
          0.0216132,
          0.0218736,
          0.022134,
          0.0223944,
          0.0226548,
          0.0229152,
          0.0231756,
          0.023436,
          0.0236964,
          0.0239568,
          0.0242172,
          0.0244776,
          0.024738,
          0.0249984,
          0.0252588,
          0.0255192,
          0.0257796,
          0.02604,
          0.0263004,
          0.0265608,
          0.0268212,
          0.0270816,
          0.027342,
          0.0276024,
          0.0278628,
          0.0281232,
          0.0283836,
          0.028644,
          0.0289044,
          0.0291648,
          0.0294252,
          0.0296856,
          0.029946,
          0.0302064,
          0.0304668,
          0.0307272,
          0.0309876,
          0.031248,
          0.0315084,
          0.0317688,
          0.0320292,
          0.0322896,
          0.03255,
          0.0328104,
          0.0330708,
          0.0333312,
          0.0335916,
          0.033852,
          0.0341124,
          0.0343728,
          0.0346332,
          0.0348936,
          0.035154,
          0.0354144,
          0.0356748,
          0.0359352,
          0.0361956,
          0.036456,
          0.0367164,
          0.0369768,
          0.0372372
         ],
         "xaxis": "x9",
         "y": [
          24.7614803314209,
          25.338991165161133,
          26.345813751220703,
          26.51364517211914,
          26.895648956298828,
          26.705209732055664,
          26.40269660949707,
          25.76361083984375,
          24.954374313354492,
          23.950641632080078,
          22.591501235961914,
          21.06433868408203,
          19.244577407836914,
          17.452495574951172,
          15.251236915588379,
          13.034811973571777,
          10.538492202758789,
          8.201122283935547,
          5.499324321746826,
          3.0437815189361572,
          0.3012201488018036,
          -2.2894678115844727,
          -5.002932548522949,
          -7.469118595123291,
          -10.079105377197266,
          -12.38991641998291,
          -14.867504119873047,
          -16.912294387817383,
          -18.994976043701172,
          -20.742286682128906,
          -22.504310607910156,
          -23.8049259185791,
          -25.16969871520996,
          -25.92609977722168,
          -26.863046646118164,
          -27.132659912109375,
          -27.488906860351562,
          -27.2596378326416,
          -27.01327896118164,
          -26.288333892822266,
          -25.56242561340332,
          -24.42660903930664,
          -23.146329879760742,
          -21.460792541503906,
          -19.738859176635742,
          -17.81586456298828,
          -15.711933135986328,
          -13.3755521774292,
          -10.945724487304688,
          -20.116411209106445,
          -16.205167770385742,
          -9.519367218017578,
          -5.351064205169678,
          -8.77192497253418,
          -14.887299537658691,
          -6.2782721519470215,
          -4.518348693847656,
          -1.172196865081787,
          -2.760075569152832,
          -1.6818265914916992,
          1.5190447568893433,
          5.533596992492676,
          5.024499416351318,
          7.428508758544922
         ],
         "yaxis": "y9"
        }
       ],
       "layout": {
        "height": 700,
        "margin": {
         "b": 20,
         "l": 20,
         "r": 30,
         "t": 40
        },
        "plot_bgcolor": "rgba(0,0,0,0)",
        "template": {
         "data": {
          "bar": [
           {
            "error_x": {
             "color": "#2a3f5f"
            },
            "error_y": {
             "color": "#2a3f5f"
            },
            "marker": {
             "line": {
              "color": "#E5ECF6",
              "width": 0.5
             },
             "pattern": {
              "fillmode": "overlay",
              "size": 10,
              "solidity": 0.2
             }
            },
            "type": "bar"
           }
          ],
          "barpolar": [
           {
            "marker": {
             "line": {
              "color": "#E5ECF6",
              "width": 0.5
             },
             "pattern": {
              "fillmode": "overlay",
              "size": 10,
              "solidity": 0.2
             }
            },
            "type": "barpolar"
           }
          ],
          "carpet": [
           {
            "aaxis": {
             "endlinecolor": "#2a3f5f",
             "gridcolor": "white",
             "linecolor": "white",
             "minorgridcolor": "white",
             "startlinecolor": "#2a3f5f"
            },
            "baxis": {
             "endlinecolor": "#2a3f5f",
             "gridcolor": "white",
             "linecolor": "white",
             "minorgridcolor": "white",
             "startlinecolor": "#2a3f5f"
            },
            "type": "carpet"
           }
          ],
          "choropleth": [
           {
            "colorbar": {
             "outlinewidth": 0,
             "ticks": ""
            },
            "type": "choropleth"
           }
          ],
          "contour": [
           {
            "colorbar": {
             "outlinewidth": 0,
             "ticks": ""
            },
            "colorscale": [
             [
              0,
              "#0d0887"
             ],
             [
              0.1111111111111111,
              "#46039f"
             ],
             [
              0.2222222222222222,
              "#7201a8"
             ],
             [
              0.3333333333333333,
              "#9c179e"
             ],
             [
              0.4444444444444444,
              "#bd3786"
             ],
             [
              0.5555555555555556,
              "#d8576b"
             ],
             [
              0.6666666666666666,
              "#ed7953"
             ],
             [
              0.7777777777777778,
              "#fb9f3a"
             ],
             [
              0.8888888888888888,
              "#fdca26"
             ],
             [
              1,
              "#f0f921"
             ]
            ],
            "type": "contour"
           }
          ],
          "contourcarpet": [
           {
            "colorbar": {
             "outlinewidth": 0,
             "ticks": ""
            },
            "type": "contourcarpet"
           }
          ],
          "heatmap": [
           {
            "colorbar": {
             "outlinewidth": 0,
             "ticks": ""
            },
            "colorscale": [
             [
              0,
              "#0d0887"
             ],
             [
              0.1111111111111111,
              "#46039f"
             ],
             [
              0.2222222222222222,
              "#7201a8"
             ],
             [
              0.3333333333333333,
              "#9c179e"
             ],
             [
              0.4444444444444444,
              "#bd3786"
             ],
             [
              0.5555555555555556,
              "#d8576b"
             ],
             [
              0.6666666666666666,
              "#ed7953"
             ],
             [
              0.7777777777777778,
              "#fb9f3a"
             ],
             [
              0.8888888888888888,
              "#fdca26"
             ],
             [
              1,
              "#f0f921"
             ]
            ],
            "type": "heatmap"
           }
          ],
          "heatmapgl": [
           {
            "colorbar": {
             "outlinewidth": 0,
             "ticks": ""
            },
            "colorscale": [
             [
              0,
              "#0d0887"
             ],
             [
              0.1111111111111111,
              "#46039f"
             ],
             [
              0.2222222222222222,
              "#7201a8"
             ],
             [
              0.3333333333333333,
              "#9c179e"
             ],
             [
              0.4444444444444444,
              "#bd3786"
             ],
             [
              0.5555555555555556,
              "#d8576b"
             ],
             [
              0.6666666666666666,
              "#ed7953"
             ],
             [
              0.7777777777777778,
              "#fb9f3a"
             ],
             [
              0.8888888888888888,
              "#fdca26"
             ],
             [
              1,
              "#f0f921"
             ]
            ],
            "type": "heatmapgl"
           }
          ],
          "histogram": [
           {
            "marker": {
             "pattern": {
              "fillmode": "overlay",
              "size": 10,
              "solidity": 0.2
             }
            },
            "type": "histogram"
           }
          ],
          "histogram2d": [
           {
            "colorbar": {
             "outlinewidth": 0,
             "ticks": ""
            },
            "colorscale": [
             [
              0,
              "#0d0887"
             ],
             [
              0.1111111111111111,
              "#46039f"
             ],
             [
              0.2222222222222222,
              "#7201a8"
             ],
             [
              0.3333333333333333,
              "#9c179e"
             ],
             [
              0.4444444444444444,
              "#bd3786"
             ],
             [
              0.5555555555555556,
              "#d8576b"
             ],
             [
              0.6666666666666666,
              "#ed7953"
             ],
             [
              0.7777777777777778,
              "#fb9f3a"
             ],
             [
              0.8888888888888888,
              "#fdca26"
             ],
             [
              1,
              "#f0f921"
             ]
            ],
            "type": "histogram2d"
           }
          ],
          "histogram2dcontour": [
           {
            "colorbar": {
             "outlinewidth": 0,
             "ticks": ""
            },
            "colorscale": [
             [
              0,
              "#0d0887"
             ],
             [
              0.1111111111111111,
              "#46039f"
             ],
             [
              0.2222222222222222,
              "#7201a8"
             ],
             [
              0.3333333333333333,
              "#9c179e"
             ],
             [
              0.4444444444444444,
              "#bd3786"
             ],
             [
              0.5555555555555556,
              "#d8576b"
             ],
             [
              0.6666666666666666,
              "#ed7953"
             ],
             [
              0.7777777777777778,
              "#fb9f3a"
             ],
             [
              0.8888888888888888,
              "#fdca26"
             ],
             [
              1,
              "#f0f921"
             ]
            ],
            "type": "histogram2dcontour"
           }
          ],
          "mesh3d": [
           {
            "colorbar": {
             "outlinewidth": 0,
             "ticks": ""
            },
            "type": "mesh3d"
           }
          ],
          "parcoords": [
           {
            "line": {
             "colorbar": {
              "outlinewidth": 0,
              "ticks": ""
             }
            },
            "type": "parcoords"
           }
          ],
          "pie": [
           {
            "automargin": true,
            "type": "pie"
           }
          ],
          "scatter": [
           {
            "fillpattern": {
             "fillmode": "overlay",
             "size": 10,
             "solidity": 0.2
            },
            "type": "scatter"
           }
          ],
          "scatter3d": [
           {
            "line": {
             "colorbar": {
              "outlinewidth": 0,
              "ticks": ""
             }
            },
            "marker": {
             "colorbar": {
              "outlinewidth": 0,
              "ticks": ""
             }
            },
            "type": "scatter3d"
           }
          ],
          "scattercarpet": [
           {
            "marker": {
             "colorbar": {
              "outlinewidth": 0,
              "ticks": ""
             }
            },
            "type": "scattercarpet"
           }
          ],
          "scattergeo": [
           {
            "marker": {
             "colorbar": {
              "outlinewidth": 0,
              "ticks": ""
             }
            },
            "type": "scattergeo"
           }
          ],
          "scattergl": [
           {
            "marker": {
             "colorbar": {
              "outlinewidth": 0,
              "ticks": ""
             }
            },
            "type": "scattergl"
           }
          ],
          "scattermapbox": [
           {
            "marker": {
             "colorbar": {
              "outlinewidth": 0,
              "ticks": ""
             }
            },
            "type": "scattermapbox"
           }
          ],
          "scatterpolar": [
           {
            "marker": {
             "colorbar": {
              "outlinewidth": 0,
              "ticks": ""
             }
            },
            "type": "scatterpolar"
           }
          ],
          "scatterpolargl": [
           {
            "marker": {
             "colorbar": {
              "outlinewidth": 0,
              "ticks": ""
             }
            },
            "type": "scatterpolargl"
           }
          ],
          "scatterternary": [
           {
            "marker": {
             "colorbar": {
              "outlinewidth": 0,
              "ticks": ""
             }
            },
            "type": "scatterternary"
           }
          ],
          "surface": [
           {
            "colorbar": {
             "outlinewidth": 0,
             "ticks": ""
            },
            "colorscale": [
             [
              0,
              "#0d0887"
             ],
             [
              0.1111111111111111,
              "#46039f"
             ],
             [
              0.2222222222222222,
              "#7201a8"
             ],
             [
              0.3333333333333333,
              "#9c179e"
             ],
             [
              0.4444444444444444,
              "#bd3786"
             ],
             [
              0.5555555555555556,
              "#d8576b"
             ],
             [
              0.6666666666666666,
              "#ed7953"
             ],
             [
              0.7777777777777778,
              "#fb9f3a"
             ],
             [
              0.8888888888888888,
              "#fdca26"
             ],
             [
              1,
              "#f0f921"
             ]
            ],
            "type": "surface"
           }
          ],
          "table": [
           {
            "cells": {
             "fill": {
              "color": "#EBF0F8"
             },
             "line": {
              "color": "white"
             }
            },
            "header": {
             "fill": {
              "color": "#C8D4E3"
             },
             "line": {
              "color": "white"
             }
            },
            "type": "table"
           }
          ]
         },
         "layout": {
          "annotationdefaults": {
           "arrowcolor": "#2a3f5f",
           "arrowhead": 0,
           "arrowwidth": 1
          },
          "autotypenumbers": "strict",
          "coloraxis": {
           "colorbar": {
            "outlinewidth": 0,
            "ticks": ""
           }
          },
          "colorscale": {
           "diverging": [
            [
             0,
             "#8e0152"
            ],
            [
             0.1,
             "#c51b7d"
            ],
            [
             0.2,
             "#de77ae"
            ],
            [
             0.3,
             "#f1b6da"
            ],
            [
             0.4,
             "#fde0ef"
            ],
            [
             0.5,
             "#f7f7f7"
            ],
            [
             0.6,
             "#e6f5d0"
            ],
            [
             0.7,
             "#b8e186"
            ],
            [
             0.8,
             "#7fbc41"
            ],
            [
             0.9,
             "#4d9221"
            ],
            [
             1,
             "#276419"
            ]
           ],
           "sequential": [
            [
             0,
             "#0d0887"
            ],
            [
             0.1111111111111111,
             "#46039f"
            ],
            [
             0.2222222222222222,
             "#7201a8"
            ],
            [
             0.3333333333333333,
             "#9c179e"
            ],
            [
             0.4444444444444444,
             "#bd3786"
            ],
            [
             0.5555555555555556,
             "#d8576b"
            ],
            [
             0.6666666666666666,
             "#ed7953"
            ],
            [
             0.7777777777777778,
             "#fb9f3a"
            ],
            [
             0.8888888888888888,
             "#fdca26"
            ],
            [
             1,
             "#f0f921"
            ]
           ],
           "sequentialminus": [
            [
             0,
             "#0d0887"
            ],
            [
             0.1111111111111111,
             "#46039f"
            ],
            [
             0.2222222222222222,
             "#7201a8"
            ],
            [
             0.3333333333333333,
             "#9c179e"
            ],
            [
             0.4444444444444444,
             "#bd3786"
            ],
            [
             0.5555555555555556,
             "#d8576b"
            ],
            [
             0.6666666666666666,
             "#ed7953"
            ],
            [
             0.7777777777777778,
             "#fb9f3a"
            ],
            [
             0.8888888888888888,
             "#fdca26"
            ],
            [
             1,
             "#f0f921"
            ]
           ]
          },
          "colorway": [
           "#636efa",
           "#EF553B",
           "#00cc96",
           "#ab63fa",
           "#FFA15A",
           "#19d3f3",
           "#FF6692",
           "#B6E880",
           "#FF97FF",
           "#FECB52"
          ],
          "font": {
           "color": "#2a3f5f"
          },
          "geo": {
           "bgcolor": "white",
           "lakecolor": "white",
           "landcolor": "#E5ECF6",
           "showlakes": true,
           "showland": true,
           "subunitcolor": "white"
          },
          "hoverlabel": {
           "align": "left"
          },
          "hovermode": "closest",
          "mapbox": {
           "style": "light"
          },
          "paper_bgcolor": "white",
          "plot_bgcolor": "#E5ECF6",
          "polar": {
           "angularaxis": {
            "gridcolor": "white",
            "linecolor": "white",
            "ticks": ""
           },
           "bgcolor": "#E5ECF6",
           "radialaxis": {
            "gridcolor": "white",
            "linecolor": "white",
            "ticks": ""
           }
          },
          "scene": {
           "xaxis": {
            "backgroundcolor": "#E5ECF6",
            "gridcolor": "white",
            "gridwidth": 2,
            "linecolor": "white",
            "showbackground": true,
            "ticks": "",
            "zerolinecolor": "white"
           },
           "yaxis": {
            "backgroundcolor": "#E5ECF6",
            "gridcolor": "white",
            "gridwidth": 2,
            "linecolor": "white",
            "showbackground": true,
            "ticks": "",
            "zerolinecolor": "white"
           },
           "zaxis": {
            "backgroundcolor": "#E5ECF6",
            "gridcolor": "white",
            "gridwidth": 2,
            "linecolor": "white",
            "showbackground": true,
            "ticks": "",
            "zerolinecolor": "white"
           }
          },
          "shapedefaults": {
           "line": {
            "color": "#2a3f5f"
           }
          },
          "ternary": {
           "aaxis": {
            "gridcolor": "white",
            "linecolor": "white",
            "ticks": ""
           },
           "baxis": {
            "gridcolor": "white",
            "linecolor": "white",
            "ticks": ""
           },
           "bgcolor": "#E5ECF6",
           "caxis": {
            "gridcolor": "white",
            "linecolor": "white",
            "ticks": ""
           }
          },
          "title": {
           "x": 0.05
          },
          "xaxis": {
           "automargin": true,
           "gridcolor": "white",
           "linecolor": "white",
           "ticks": "",
           "title": {
            "standoff": 15
           },
           "zerolinecolor": "white",
           "zerolinewidth": 2
          },
          "yaxis": {
           "automargin": true,
           "gridcolor": "white",
           "linecolor": "white",
           "ticks": "",
           "title": {
            "standoff": 15
           },
           "zerolinecolor": "white",
           "zerolinewidth": 2
          }
         }
        },
        "title": {
         "text": "Figuras"
        },
        "width": 900,
        "xaxis": {
         "anchor": "y",
         "domain": [
          0,
          0.2888888888888889
         ]
        },
        "xaxis2": {
         "anchor": "y2",
         "domain": [
          0.35555555555555557,
          0.6444444444444445
         ]
        },
        "xaxis3": {
         "anchor": "y3",
         "domain": [
          0.7111111111111111,
          1
         ]
        },
        "xaxis4": {
         "anchor": "y4",
         "domain": [
          0,
          0.2888888888888889
         ]
        },
        "xaxis5": {
         "anchor": "y5",
         "domain": [
          0.35555555555555557,
          0.6444444444444445
         ]
        },
        "xaxis6": {
         "anchor": "y6",
         "domain": [
          0.7111111111111111,
          1
         ]
        },
        "xaxis7": {
         "anchor": "y7",
         "domain": [
          0,
          0.2888888888888889
         ]
        },
        "xaxis8": {
         "anchor": "y8",
         "domain": [
          0.35555555555555557,
          0.6444444444444445
         ]
        },
        "xaxis9": {
         "anchor": "y9",
         "domain": [
          0.7111111111111111,
          1
         ]
        },
        "yaxis": {
         "anchor": "x",
         "domain": [
          0.7333333333333333,
          1
         ]
        },
        "yaxis2": {
         "anchor": "x2",
         "domain": [
          0.7333333333333333,
          1
         ]
        },
        "yaxis3": {
         "anchor": "x3",
         "domain": [
          0.7333333333333333,
          1
         ]
        },
        "yaxis4": {
         "anchor": "x4",
         "domain": [
          0.36666666666666664,
          0.6333333333333333
         ]
        },
        "yaxis5": {
         "anchor": "x5",
         "domain": [
          0.36666666666666664,
          0.6333333333333333
         ]
        },
        "yaxis6": {
         "anchor": "x6",
         "domain": [
          0.36666666666666664,
          0.6333333333333333
         ]
        },
        "yaxis7": {
         "anchor": "x7",
         "domain": [
          0,
          0.26666666666666666
         ]
        },
        "yaxis8": {
         "anchor": "x8",
         "domain": [
          0,
          0.26666666666666666
         ]
        },
        "yaxis9": {
         "anchor": "x9",
         "domain": [
          0,
          0.26666666666666666
         ]
        }
       }
      }
     },
     "metadata": {},
     "output_type": "display_data"
    }
   ],
   "source": [
    "from plotly.subplots import make_subplots\n",
    "import plotly.graph_objects as go\n",
    "\n",
    "fs = 3840\n",
    "dataset_plot = Form1Dataset(\n",
    "    dataset_dir, max_window_idx=max_window_idx, signal_names=signal_names, test=True\n",
    ")\n",
    "plot_dataloader = DataLoader(dataset_plot, batch_size=train_batch_size, shuffle=True)\n",
    "\n",
    "dataiter = iter(plot_dataloader)\n",
    "signal_windows, t_windows, labels, csv_name, index, window_idx = next(dataiter)\n",
    "print(len(csv_name))\n",
    "print(window_idx.shape)\n",
    "print(labels.shape)\n",
    "\n",
    "print(labels.type())\n",
    "x = model(signal_windows[0:9].to(device))\n",
    "# x = x.detach()\n",
    "\n",
    "# Crear Matriz de confusión\n",
    "df = confusion_matrix(x, labels[0:9])\n",
    "print(type(df))\n",
    "print(df)\n",
    "\n",
    "# figure = plt.figure(figsize=(10, 10))\n",
    "cols, rows = 3, 3\n",
    "fig = make_subplots(rows=rows, cols=cols)\n",
    "\n",
    "label_to_text = {\n",
    "    \"0\": \"No Fault\",\n",
    "    \"1\": \"Fault\",\n",
    "}\n",
    "\n",
    "for i in range(0, cols * rows):\n",
    "\n",
    "    col = i % cols\n",
    "    row = i // cols\n",
    "    label = label_to_text[str(int(labels[i, 0].item()))]\n",
    "    win_idx = str(window_idx[i].item())\n",
    "    fig.add_trace(\n",
    "        go.Scatter(\n",
    "            name=f\"{label} - {win_idx} - {csv_name[i]}\",\n",
    "            x=t_windows[i, :],\n",
    "            y=signal_windows[i, :, 0],\n",
    "            marker_color=\"black\",\n",
    "        ),\n",
    "        row=row + 1,\n",
    "        col=col + 1,\n",
    "    )\n",
    "\n",
    "fig.update_layout(\n",
    "    height=700,\n",
    "    width=900,\n",
    "    title_text=\"Figuras\",\n",
    "    margin={\"b\": 20, \"t\": 40, \"l\": 20, \"r\": 30},\n",
    "    plot_bgcolor=\"rgba(0,0,0,0)\",\n",
    "    # paper_bgcolor=\"whitesmoke\",\n",
    ")\n",
    "fig.show()\n"
   ]
  },
  {
   "attachments": {},
   "cell_type": "markdown",
   "metadata": {},
   "source": [
    "##### 6.3. Matplotlib Plots"
   ]
  },
  {
   "cell_type": "code",
   "execution_count": 16,
   "metadata": {},
   "outputs": [
    {
     "name": "stdout",
     "output_type": "stream",
     "text": [
      "   Pred probability  Pred label  True label Result\n",
      "0          0.020052           0           0     TN\n",
      "1          0.014630           0           0     TN\n",
      "2          0.014623           0           0     TN\n",
      "3          0.012409           0           0     TN\n",
      "4          0.013993           0           0     TN\n",
      "5          0.979680           1           1     TP\n",
      "6          0.350357           0           1     FN\n",
      "7          0.029866           0           0     TN\n",
      "8          0.039846           0           0     TN\n"
     ]
    },
    {
     "data": {
      "image/png": "[encoded data removed]",
      "text/plain": [
       "<Figure size 1000x1000 with 9 Axes>"
      ]
     },
     "metadata": {},
     "output_type": "display_data"
    }
   ],
   "source": [
    "dataset_plot = Form1Dataset(\n",
    "    dataset_dir, max_window_idx=max_window_idx, signal_names=signal_names, test=True\n",
    ")\n",
    "plot_dataloader = DataLoader(dataset_plot, batch_size=train_batch_size, shuffle=True)\n",
    "\n",
    "dataiter = iter(plot_dataloader)\n",
    "signal_windows, t_windows, labels, *_ = next(dataiter)\n",
    "fs = 3840\n",
    "\n",
    "x = model(signal_windows[1:10].to(device))\n",
    "x = x.detach()\n",
    "\n",
    "# Crear Matriz de confusión\n",
    "df = confusion_matrix(x, labels[1:10])\n",
    "print(df)\n",
    "\n",
    "figure = plt.figure(figsize=(10, 10))\n",
    "cols, rows = 3, 3\n",
    "for i in range(1, cols * rows + 1):\n",
    "    figure.add_subplot(rows, cols, i)\n",
    "    plt.plot(t_windows[i, :], signal_windows[i, :, 0])\n"
   ]
  },
  {
   "attachments": {},
   "cell_type": "markdown",
   "metadata": {},
   "source": [
    "### 7. Data Exploration"
   ]
  },
  {
   "attachments": {},
   "cell_type": "markdown",
   "metadata": {},
   "source": [
    "##### 7.1. Auxiliar Functions"
   ]
  },
  {
   "cell_type": "code",
   "execution_count": 17,
   "metadata": {},
   "outputs": [],
   "source": [
    "def signal_exploration(idx: int, dataset, model, plot_signal: bool = True):\n",
    "    signal, t, idx_min, idx_max, csv_name = dataset.get_event(idx)\n",
    "    model.eval()\n",
    "    if plot_signal == True:\n",
    "        plt.plot(t, signal)\n",
    "        plt.show()\n",
    "    conf_matrix = torch.zeros(1, 5, dtype=torch.int64).to(device)\n",
    "    preds = torch.empty((0, 1)).to(device)\n",
    "    labels = torch.empty((0, 1)).to(device)\n",
    "    for i in range(idx_min, idx_max + 1):\n",
    "        signal, y = dataset.__getitem__(i)\n",
    "        y = torch.unsqueeze(y, 0).to(device)\n",
    "        signal = torch.unsqueeze(signal, 0).to(device)\n",
    "        pred = model(signal)\n",
    "        preds = torch.cat((preds, pred), 0)\n",
    "        labels = torch.cat((labels, y), 0)\n",
    "        conf_matrix = conf_matrix.add(binary_stat_scores(pred, y))\n",
    "    df = confusion_matrix(preds, labels)\n",
    "    df.insert(loc=0, column=\"event_idx\", value=np.repeat(idx, idx_max - idx_min + 1))\n",
    "    # df.insert(loc=0, column=\"window_idx\", value=df.index)\n",
    "    # df.insert(loc=0, column=\"indices\", value=idxs)\n",
    "\n",
    "    return df, conf_matrix\n",
    "\n",
    "\n",
    "def plot_confusion_matrix(metrics):\n",
    "    z = [[metrics[\"TP\"], metrics[\"FN\"]], [metrics[\"FP\"], metrics[\"TN\"]]]\n",
    "    fig = px.imshow(\n",
    "        z,\n",
    "        text_auto=True,\n",
    "        template=\"seaborn\",\n",
    "        labels=dict(x=\"Predicted Label\", y=\"Real Label\", color=\"Predictions\"),\n",
    "        x=[\"Positive\", \"Negative\"],\n",
    "        y=[\"Positive\", \"Negative\"],\n",
    "        width=400,\n",
    "        height=300,\n",
    "    )\n",
    "    fig.show()\n",
    "\n",
    "\n",
    "def print_metrics(metrics):\n",
    "    print(f\"{'Total windows:':.<30}{metrics['TOTAL']:4}\")\n",
    "    print(f\"{'True Positives:':.<30}{metrics['TP']:4}\")\n",
    "    print(f\"{'False Positives:':.<30}{metrics['FP']:4}\")\n",
    "    print(f\"{'True Negatives:':.<30}{metrics['TN']:4}\")\n",
    "    print(f\"{'False Negatives:':.<30}{metrics['FN']:4}\")\n",
    "    print(f\"{'Accuracy:':.<30}{metrics['ACC']*100:>6.1f}%\")\n",
    "    print(f\"{'True Positive Rate:':.<30}{metrics['TPR']*100:>6.1f}%\") \n",
    "    print(f\"{'False Positive Rate:':.<30}{metrics['FPR']*100:>6.1f}%\") \n",
    "    print(f\"{'True Negative Rate:':.<30}{metrics['TNR']*100:>6.1f}%\") \n",
    "    try:\n",
    "        print(f\"{'Positive Predictive Value:':.<30}{metrics['PPV']*100:>6.1f}%\")\n",
    "    except KeyError:\n",
    "        print(f\"PPV divided by 0. No positive class predicted\")\n",
    "    # metrics[\"PPV\"]\n"
   ]
  },
  {
   "attachments": {},
   "cell_type": "markdown",
   "metadata": {},
   "source": [
    "\n",
    "##### 7.2. Data Exploration"
   ]
  },
  {
   "cell_type": "code",
   "execution_count": 18,
   "metadata": {},
   "outputs": [],
   "source": [
    "# Seleccionar pesos de modelo\n",
    "# model.load_state_dict(torch.load('./models/LSTMHarmonic_weights_R3_934.pth'))\n",
    "# model.load_state_dict(torch.load(\"./models/LSTMHarmonic_weights_R1_996.pth\"))\n",
    "# model.load_state_dict(torch.load('./models/LSTMHarmonic_weights_R2_978.pth'))\n",
    "\n",
    "# Select Signal Name\n",
    "# signal_name = \"I: X0023A-R1A\"\n",
    "# signal_name = \"I: X0004A-R2A\"\n",
    "# signal_name = \"I: X0071A-R3A\"\n",
    "\n",
    "# Create Dataset\n",
    "dataset = Form1Dataset(\n",
    "    dataset_dir, max_window_idx=max_window_idx, signal_names=signal_names\n",
    ")\n",
    "\n",
    "\n"
   ]
  },
  {
   "attachments": {},
   "cell_type": "markdown",
   "metadata": {},
   "source": [
    "##### 7.4. Plot individual windows"
   ]
  },
  {
   "attachments": {},
   "cell_type": "markdown",
   "metadata": {},
   "source": [
    "##### 7.5. Whole Dataset Exploration"
   ]
  },
  {
   "cell_type": "code",
   "execution_count": 19,
   "metadata": {},
   "outputs": [],
   "source": [
    "# # Create Dataframe with information about data\n",
    "# print(dataset.len_events())\n",
    "# conf_matrix = torch.zeros(0, 5, dtype=torch.int64).to(device)\n",
    "# for idx in tqdm(range(dataset.len_events())):\n",
    "# # for idx in tqdm(range()):\n",
    "#     df, CM = signal_exploration(idx, dataset, model, plot_signal=False)\n",
    "#     conf_matrix = torch.cat((conf_matrix, CM))\n",
    "#     if idx == 0:\n",
    "#         dataset_df = df\n",
    "#     else:\n",
    "#         dataset_df = pd.concat([dataset_df, df])\n",
    "\n",
    "# dataset_df = dataset_df.reset_index()\n",
    "# dataset_df = dataset_df.rename(columns={'index': 'window idx'})\n",
    "# conf_matrix_total = np.sum(conf_matrix.cpu().numpy(), axis=0)\n",
    "\n",
    "\n",
    "# # # Load Dataframe\n",
    "# def load_df(i):\n",
    "#     dataset_df = pd.read_parquet(f\"parquet_data/ModelR{i}_R{i}_df.parquet\")\n",
    "#     conf_matrix_df = pd.read_parquet(f\"parquet_data/ModelR{i}_R{i}_CM_df.parquet\")\n",
    "#     conf_matrix = np.load(f\"parquet_data/ModelR{i}_R{i}_CM.npy\", allow_pickle=False)\n",
    "#     return dataset_df, conf_matrix_df, conf_matrix\n",
    "\n",
    "# dataset_df, conf_matrix_df, conf_matrix = load_df(3)\n",
    "\n",
    "\n",
    "dataset_df = pd.read_parquet(f\"parquet_data\\ModelR3_currents_df.parquet\")\n",
    "conf_matrix_df = pd.read_parquet(f\"parquet_data\\ModelR3_currents_CM_df.parquet\")\n",
    "conf_matrix = np.load(f\"parquet_data\\ModelR3_currents_CM.npy\", allow_pickle=False)\n",
    "conf_matrix_total = np.sum(conf_matrix, axis=0)\n",
    "\n",
    "# conf_matrix_total = np.sum(conf_matrix, axis=0)\n",
    "metrics = conf_matrix_metrics(conf_matrix_total)\n"
   ]
  },
  {
   "cell_type": "code",
   "execution_count": 20,
   "metadata": {},
   "outputs": [
    {
     "name": "stdout",
     "output_type": "stream",
     "text": [
      "FALSE NEGATIVES\n",
      "      window idx  event_idx  Pred probability  Pred label  True label Result\n",
      "66            66          0            38.79%           0           1     FN\n",
      "67            67          0            26.30%           0           1     FN\n",
      "68            68          0            36.39%           0           1     FN\n",
      "69            69          0            43.25%           0           1     FN\n",
      "89            89          0            48.90%           0           1     FN\n",
      "90            90          0            47.69%           0           1     FN\n",
      "91            91          0            47.47%           0           1     FN\n",
      "92            92          0            47.76%           0           1     FN\n",
      "93            93          0            48.08%           0           1     FN\n",
      "94            94          0            48.29%           0           1     FN\n",
      "95            95          0            49.38%           0           1     FN\n",
      "196           66          1            24.31%           0           1     FN\n",
      "197           67          1            16.01%           0           1     FN\n",
      "198           68          1            42.87%           0           1     FN\n",
      "326           66          2            11.05%           0           1     FN\n",
      "327           67          2            10.28%           0           1     FN\n",
      "328           68          2            16.01%           0           1     FN\n",
      "329           69          2            14.42%           0           1     FN\n",
      "330           70          2            15.68%           0           1     FN\n",
      "331           71          2            20.19%           0           1     FN\n",
      "332           72          2            19.85%           0           1     FN\n",
      "333           73          2            29.32%           0           1     FN\n",
      "334           74          2            30.57%           0           1     FN\n",
      "335           75          2            31.42%           0           1     FN\n",
      "336           76          2            29.31%           0           1     FN\n",
      "337           77          2            28.23%           0           1     FN\n",
      "338           78          2            25.81%           0           1     FN\n",
      "339           79          2            30.65%           0           1     FN\n",
      "340           80          2            25.35%           0           1     FN\n",
      "341           81          2            32.54%           0           1     FN\n",
      "342           82          2            34.37%           0           1     FN\n",
      "343           83          2            38.56%           0           1     FN\n",
      "456           66          3            10.65%           0           1     FN\n",
      "457           67          3            10.00%           0           1     FN\n",
      "458           68          3            13.51%           0           1     FN\n",
      "459           69          3            12.69%           0           1     FN\n",
      "460           70          3            13.50%           0           1     FN\n",
      "461           71          3            16.52%           0           1     FN\n",
      "462           72          3            15.85%           0           1     FN\n",
      "463           73          3            20.95%           0           1     FN\n",
      "464           74          3            23.13%           0           1     FN\n",
      "465           75          3            26.05%           0           1     FN\n",
      "466           76          3            26.63%           0           1     FN\n",
      "467           77          3            26.78%           0           1     FN\n",
      "468           78          3            25.59%           0           1     FN\n",
      "469           79          3            29.92%           0           1     FN\n",
      "470           80          3            26.26%           0           1     FN\n",
      "471           81          3            31.68%           0           1     FN\n",
      "472           82          3            31.94%           0           1     FN\n",
      "473           83          3            41.62%           0           1     FN\n",
      "586           66          4            45.85%           0           1     FN\n",
      "587           67          4            33.34%           0           1     FN\n",
      "611           91          4            49.58%           0           1     FN\n",
      "612           92          4            49.73%           0           1     FN\n",
      "716           66          5            21.18%           0           1     FN\n",
      "717           67          5            24.76%           0           1     FN\n",
      "718           68          5            29.27%           0           1     FN\n",
      "719           69          5            35.53%           0           1     FN\n",
      "720           70          5            43.79%           0           1     FN\n",
      "746           96          5            49.19%           0           1     FN\n",
      "747           97          5            48.09%           0           1     FN\n",
      "748           98          5            48.14%           0           1     FN\n",
      "749           99          5            48.55%           0           1     FN\n",
      "750          100          5            49.01%           0           1     FN\n",
      "846           66          6            34.25%           0           1     FN\n",
      "858           78          6            46.77%           0           1     FN\n",
      "859           79          6            49.24%           0           1     FN\n",
      "861           81          6            48.64%           0           1     FN\n",
      "862           82          6            46.68%           0           1     FN\n",
      "863           83          6            40.97%           0           1     FN\n",
      "864           84          6            42.16%           0           1     FN\n",
      "976           66          7            32.29%           0           1     FN\n",
      "1106          66          8            35.48%           0           1     FN\n",
      "1236          66          9            22.00%           0           1     FN\n",
      "1237          67          9            23.47%           0           1     FN\n",
      "1238          68          9            20.53%           0           1     FN\n",
      "1239          69          9            19.49%           0           1     FN\n",
      "1240          70          9            22.31%           0           1     FN\n",
      "1241          71          9            27.10%           0           1     FN\n",
      "1242          72          9            34.14%           0           1     FN\n",
      "1366          66         10            19.47%           0           1     FN\n",
      "1367          67         10            30.44%           0           1     FN\n",
      "1368          68         10            30.99%           0           1     FN\n",
      "1369          69         10            23.52%           0           1     FN\n",
      "1370          70         10            29.75%           0           1     FN\n",
      "1371          71         10            44.23%           0           1     FN\n",
      "1496          66         11            16.25%           0           1     FN\n",
      "1497          67         11            22.49%           0           1     FN\n",
      "1498          68         11            24.00%           0           1     FN\n",
      "1499          69         11            22.06%           0           1     FN\n",
      "1500          70         11            25.73%           0           1     FN\n",
      "1501          71         11            33.80%           0           1     FN\n",
      "1502          72         11            44.61%           0           1     FN\n",
      "1626          66         12            46.06%           0           1     FN\n",
      "1627          67         12            49.20%           0           1     FN\n",
      "1629          69         12            48.71%           0           1     FN\n",
      "1652          92         12            48.39%           0           1     FN\n",
      "1653          93         12            48.00%           0           1     FN\n",
      "1654          94         12            47.82%           0           1     FN\n",
      "1655          95         12            48.87%           0           1     FN\n",
      "1656          96         12            49.13%           0           1     FN\n",
      "1657          97         12            50.00%           0           1     FN\n",
      "1756          66         13            21.07%           0           1     FN\n",
      "1757          67         13            17.18%           0           1     FN\n",
      "1758          68         13            38.72%           0           1     FN\n",
      "1759          69         13            33.26%           0           1     FN\n",
      "1886          66         14            18.39%           0           1     FN\n",
      "1887          67         14            20.22%           0           1     FN\n",
      "1888          68         14            22.77%           0           1     FN\n",
      "1889          69         14            26.93%           0           1     FN\n",
      "1890          70         14            33.51%           0           1     FN\n",
      "1891          71         14            44.56%           0           1     FN\n",
      "2016          66         15            13.20%           0           1     FN\n",
      "2017          67         15            11.03%           0           1     FN\n",
      "2018          68         15            28.44%           0           1     FN\n",
      "2019          69         15            18.00%           0           1     FN\n",
      "2020          70         15            42.94%           0           1     FN\n",
      "2035          85         15            42.11%           0           1     FN\n",
      "2146          66         16            10.27%           0           1     FN\n",
      "2147          67         16            10.18%           0           1     FN\n",
      "2148          68         16            11.71%           0           1     FN\n",
      "2149          69         16            11.00%           0           1     FN\n",
      "2150          70         16            13.15%           0           1     FN\n",
      "2151          71         16            13.61%           0           1     FN\n",
      "2152          72         16            14.69%           0           1     FN\n",
      "2153          73         16            17.13%           0           1     FN\n",
      "2154          74         16            19.19%           0           1     FN\n",
      "2155          75         16            20.74%           0           1     FN\n",
      "2156          76         16            23.76%           0           1     FN\n",
      "2157          77         16            24.38%           0           1     FN\n",
      "2158          78         16            25.54%           0           1     FN\n",
      "2159          79         16            25.43%           0           1     FN\n",
      "2160          80         16            26.59%           0           1     FN\n",
      "2161          81         16            35.88%           0           1     FN\n",
      "2162          82         16            47.27%           0           1     FN\n",
      "2276          66         17            17.75%           0           1     FN\n",
      "2277          67         17            16.41%           0           1     FN\n",
      "2278          68         17            19.68%           0           1     FN\n",
      "2279          69         17            16.22%           0           1     FN\n",
      "2280          70         17            19.86%           0           1     FN\n",
      "2281          71         17            20.32%           0           1     FN\n",
      "2282          72         17            22.33%           0           1     FN\n",
      "2283          73         17            26.17%           0           1     FN\n",
      "2284          74         17            30.67%           0           1     FN\n",
      "2285          75         17            37.38%           0           1     FN\n",
      "2286          76         17            48.37%           0           1     FN\n",
      "2313         103         17            48.77%           0           1     FN\n",
      "2314         104         17            49.07%           0           1     FN\n",
      "2315         105         17            49.66%           0           1     FN\n",
      "2406          66         18            17.84%           0           1     FN\n",
      "2407          67         18            20.68%           0           1     FN\n",
      "2408          68         18            18.65%           0           1     FN\n",
      "2409          69         18            19.61%           0           1     FN\n",
      "2410          70         18            17.14%           0           1     FN\n",
      "2411          71         18            17.18%           0           1     FN\n",
      "2412          72         18            15.55%           0           1     FN\n",
      "2413          73         18            15.93%           0           1     FN\n",
      "2414          74         18            15.44%           0           1     FN\n",
      "2415          75         18            14.51%           0           1     FN\n",
      "2416          76         18            16.07%           0           1     FN\n",
      "2417          77         18            15.85%           0           1     FN\n",
      "2418          78         18            17.97%           0           1     FN\n",
      "2419          79         18            16.59%           0           1     FN\n",
      "2420          80         18            18.81%           0           1     FN\n",
      "2421          81         18            20.21%           0           1     FN\n",
      "2422          82         18            23.71%           0           1     FN\n",
      "2423          83         18            27.82%           0           1     FN\n",
      "2424          84         18            32.91%           0           1     FN\n",
      "2425          85         18            38.93%           0           1     FN\n",
      "2426          86         18            46.53%           0           1     FN\n",
      "2427          87         18            48.54%           0           1     FN\n",
      "2428          88         18            42.51%           0           1     FN\n",
      "2429          89         18            33.83%           0           1     FN\n",
      "2430          90         18            26.67%           0           1     FN\n",
      "2431          91         18            17.25%           0           1     FN\n",
      "2432          92         18            15.24%           0           1     FN\n",
      "2433          93         18            13.70%           0           1     FN\n",
      "2434          94         18            14.18%           0           1     FN\n",
      "2435          95         18            14.36%           0           1     FN\n",
      "2436          96         18            13.82%           0           1     FN\n",
      "2437          97         18            13.56%           0           1     FN\n",
      "2438          98         18            13.56%           0           1     FN\n",
      "2439          99         18            14.23%           0           1     FN\n",
      "2440         100         18            14.78%           0           1     FN\n",
      "2441         101         18            15.85%           0           1     FN\n",
      "2442         102         18            16.74%           0           1     FN\n",
      "2443         103         18            17.30%           0           1     FN\n",
      "2444         104         18            17.15%           0           1     FN\n",
      "2445         105         18            16.94%           0           1     FN\n",
      "2446         106         18            16.95%           0           1     FN\n",
      "2447         107         18            17.21%           0           1     FN\n",
      "2448         108         18            17.77%           0           1     FN\n",
      "2449         109         18            18.38%           0           1     FN\n",
      "2450         110         18            19.35%           0           1     FN\n",
      "2451         111         18            20.54%           0           1     FN\n",
      "2452         112         18            22.60%           0           1     FN\n",
      "2453         113         18            25.67%           0           1     FN\n",
      "2454         114         18            29.39%           0           1     FN\n",
      "2455         115         18            32.54%           0           1     FN\n",
      "2456         116         18            34.13%           0           1     FN\n",
      "2457         117         18            33.18%           0           1     FN\n",
      "2458         118         18            30.07%           0           1     FN\n",
      "2459         119         18            27.12%           0           1     FN\n",
      "2460         120         18            27.48%           0           1     FN\n",
      "2461         121         18            27.88%           0           1     FN\n",
      "2462         122         18            31.96%           0           1     FN\n",
      "2463         123         18            38.06%           0           1     FN\n",
      "2464         124         18            44.26%           0           1     FN\n",
      "2465         125         18            49.53%           0           1     FN\n",
      "2536          66         19            20.52%           0           1     FN\n",
      "2537          67         19            27.62%           0           1     FN\n",
      "2538          68         19            19.95%           0           1     FN\n",
      "2539          69         19            19.75%           0           1     FN\n",
      "2540          70         19            24.49%           0           1     FN\n",
      "2541          71         19            28.82%           0           1     FN\n",
      "2542          72         19            26.54%           0           1     FN\n",
      "2543          73         19            25.76%           0           1     FN\n",
      "2544          74         19            29.28%           0           1     FN\n",
      "2545          75         19            30.03%           0           1     FN\n",
      "2546          76         19            32.40%           0           1     FN\n",
      "2547          77         19            43.16%           0           1     FN\n",
      "2666          66         20             7.42%           0           1     FN\n",
      "2667          67         20            10.78%           0           1     FN\n",
      "2668          68         20             9.83%           0           1     FN\n",
      "2669          69         20            11.32%           0           1     FN\n",
      "2670          70         20            13.26%           0           1     FN\n",
      "2671          71         20            14.51%           0           1     FN\n",
      "2672          72         20            14.51%           0           1     FN\n",
      "2673          73         20            14.53%           0           1     FN\n",
      "2674          74         20            15.06%           0           1     FN\n",
      "2675          75         20            16.23%           0           1     FN\n",
      "2676          76         20            18.53%           0           1     FN\n",
      "2677          77         20            20.70%           0           1     FN\n",
      "2678          78         20            24.94%           0           1     FN\n",
      "2679          79         20            26.87%           0           1     FN\n",
      "2680          80         20            30.72%           0           1     FN\n",
      "2681          81         20            30.29%           0           1     FN\n",
      "2682          82         20            30.59%           0           1     FN\n",
      "2683          83         20            33.48%           0           1     FN\n",
      "2684          84         20            27.92%           0           1     FN\n",
      "2685          85         20            26.26%           0           1     FN\n",
      "2686          86         20            24.24%           0           1     FN\n",
      "2687          87         20            35.89%           0           1     FN\n",
      "2688          88         20            47.49%           0           1     FN\n",
      "2689          89         20            48.15%           0           1     FN\n",
      "2690          90         20            46.33%           0           1     FN\n",
      "2796          66         21            40.73%           0           1     FN\n",
      "2798          68         21            46.85%           0           1     FN\n",
      "2799          69         21            43.07%           0           1     FN\n",
      "2800          70         21            42.30%           0           1     FN\n",
      "2801          71         21            45.19%           0           1     FN\n",
      "2802          72         21            41.75%           0           1     FN\n",
      "2803          73         21            45.13%           0           1     FN\n",
      "2804          74         21            49.28%           0           1     FN\n",
      "2805          75         21            48.52%           0           1     FN\n",
      "2807          77         21            47.27%           0           1     FN\n",
      "2808          78         21            49.82%           0           1     FN\n",
      "2809          79         21            48.85%           0           1     FN\n",
      "2818          88         21            48.20%           0           1     FN\n",
      "2819          89         21            46.06%           0           1     FN\n",
      "2820          90         21            45.20%           0           1     FN\n",
      "2821          91         21            45.01%           0           1     FN\n",
      "2822          92         21            45.45%           0           1     FN\n",
      "2823          93         21            45.60%           0           1     FN\n",
      "2824          94         21            46.04%           0           1     FN\n",
      "2825          95         21            46.00%           0           1     FN\n",
      "2826          96         21            44.85%           0           1     FN\n",
      "2827          97         21            43.47%           0           1     FN\n",
      "2828          98         21            41.81%           0           1     FN\n",
      "2829          99         21            42.04%           0           1     FN\n",
      "2830         100         21            43.68%           0           1     FN\n",
      "2831         101         21            47.30%           0           1     FN\n",
      "2926          66         22            35.35%           0           1     FN\n",
      "2927          67         22            46.98%           0           1     FN\n",
      "2928          68         22            46.50%           0           1     FN\n",
      "2929          69         22            42.31%           0           1     FN\n",
      "2930          70         22            38.83%           0           1     FN\n",
      "2931          71         22            37.84%           0           1     FN\n",
      "2932          72         22            28.86%           0           1     FN\n",
      "2933          73         22            24.50%           0           1     FN\n",
      "2934          74         22            27.44%           0           1     FN\n",
      "2935          75         22            28.63%           0           1     FN\n",
      "2936          76         22            32.09%           0           1     FN\n",
      "2937          77         22            32.06%           0           1     FN\n",
      "2938          78         22            34.56%           0           1     FN\n",
      "2939          79         22            34.55%           0           1     FN\n",
      "2940          80         22            37.13%           0           1     FN\n",
      "2941          81         22            39.99%           0           1     FN\n",
      "2942          82         22            42.68%           0           1     FN\n",
      "2943          83         22            45.15%           0           1     FN\n",
      "2944          84         22            47.41%           0           1     FN\n",
      "2945          85         22            49.15%           0           1     FN\n",
      "2946          86         22            49.61%           0           1     FN\n",
      "2947          87         22            48.85%           0           1     FN\n",
      "2948          88         22            46.99%           0           1     FN\n",
      "2949          89         22            45.11%           0           1     FN\n",
      "2950          90         22            43.97%           0           1     FN\n",
      "2951          91         22            43.75%           0           1     FN\n",
      "2952          92         22            44.10%           0           1     FN\n",
      "2953          93         22            44.52%           0           1     FN\n",
      "2954          94         22            45.09%           0           1     FN\n",
      "2955          95         22            45.40%           0           1     FN\n",
      "2956          96         22            44.59%           0           1     FN\n",
      "2957          97         22            43.49%           0           1     FN\n",
      "2958          98         22            41.58%           0           1     FN\n",
      "2959          99         22            39.53%           0           1     FN\n",
      "2960         100         22            37.72%           0           1     FN\n",
      "2961         101         22            38.49%           0           1     FN\n",
      "2962         102         22            40.04%           0           1     FN\n",
      "2963         103         22            43.27%           0           1     FN\n",
      "2964         104         22            48.80%           0           1     FN\n",
      "3056          66         23             9.67%           0           1     FN\n",
      "3057          67         23            10.41%           0           1     FN\n",
      "3058          68         23            10.51%           0           1     FN\n",
      "3059          69         23            11.19%           0           1     FN\n",
      "3060          70         23            11.87%           0           1     FN\n",
      "3061          71         23            12.80%           0           1     FN\n",
      "3062          72         23            13.20%           0           1     FN\n",
      "3063          73         23            14.00%           0           1     FN\n",
      "3064          74         23            15.36%           0           1     FN\n",
      "3065          75         23            16.89%           0           1     FN\n",
      "3066          76         23            18.46%           0           1     FN\n",
      "3067          77         23            19.84%           0           1     FN\n",
      "3068          78         23            19.12%           0           1     FN\n",
      "3069          79         23            19.24%           0           1     FN\n",
      "3070          80         23            18.50%           0           1     FN\n",
      "3071          81         23            19.59%           0           1     FN\n",
      "3072          82         23            21.14%           0           1     FN\n",
      "3073          83         23            23.47%           0           1     FN\n",
      "3074          84         23            21.94%           0           1     FN\n",
      "3075          85         23            18.31%           0           1     FN\n",
      "3076          86         23            16.86%           0           1     FN\n",
      "3077          87         23            20.94%           0           1     FN\n",
      "3103         113         23            45.03%           0           1     FN\n",
      "3104         114         23            36.88%           0           1     FN\n",
      "3105         115         23            24.75%           0           1     FN\n",
      "3106         116         23            18.01%           0           1     FN\n",
      "3107         117         23            16.50%           0           1     FN\n",
      "3108         118         23            16.83%           0           1     FN\n",
      "3109         119         23            17.29%           0           1     FN\n",
      "3110         120         23            18.05%           0           1     FN\n",
      "3111         121         23            18.58%           0           1     FN\n",
      "3112         122         23            20.56%           0           1     FN\n",
      "3113         123         23            24.11%           0           1     FN\n",
      "3114         124         23            27.80%           0           1     FN\n",
      "3115         125         23            27.17%           0           1     FN\n",
      "3116         126         23            24.90%           0           1     FN\n",
      "3117         127         23            23.22%           0           1     FN\n",
      "3118         128         23            21.94%           0           1     FN\n",
      "3119         129         23            20.82%           0           1     FN\n",
      "3186          66         24            21.65%           0           1     FN\n",
      "3187          67         24            16.51%           0           1     FN\n",
      "3188          68         24            23.88%           0           1     FN\n",
      "3189          69         24            31.77%           0           1     FN\n",
      "3190          70         24            42.44%           0           1     FN\n",
      "3242         122         24            49.00%           0           1     FN\n",
      "3243         123         24            47.78%           0           1     FN\n",
      "3244         124         24            47.55%           0           1     FN\n",
      "3245         125         24            47.29%           0           1     FN\n",
      "3246         126         24            46.93%           0           1     FN\n",
      "3247         127         24            46.39%           0           1     FN\n",
      "3248         128         24            45.93%           0           1     FN\n",
      "3249         129         24            46.99%           0           1     FN\n",
      "3316          66         25            14.27%           0           1     FN\n",
      "3317          67         25            18.39%           0           1     FN\n",
      "3318          68         25            40.38%           0           1     FN\n",
      "3319          69         25            35.26%           0           1     FN\n",
      "3320          70         25            45.23%           0           1     FN\n",
      "3446          66         26            11.67%           0           1     FN\n",
      "3447          67         26            10.66%           0           1     FN\n",
      "3448          68         26            15.42%           0           1     FN\n",
      "3449          69         26            16.21%           0           1     FN\n",
      "3450          70         26            16.27%           0           1     FN\n",
      "3451          71         26            25.96%           0           1     FN\n",
      "3452          72         26            22.49%           0           1     FN\n",
      "3453          73         26            31.25%           0           1     FN\n",
      "3454          74         26            32.72%           0           1     FN\n",
      "3455          75         26            33.87%           0           1     FN\n",
      "3456          76         26            30.77%           0           1     FN\n",
      "3457          77         26            30.79%           0           1     FN\n",
      "3458          78         26            27.64%           0           1     FN\n",
      "3459          79         26            32.13%           0           1     FN\n",
      "3460          80         26            31.60%           0           1     FN\n",
      "3461          81         26            28.38%           0           1     FN\n",
      "3462          82         26            30.56%           0           1     FN\n",
      "3463          83         26            32.14%           0           1     FN\n",
      "3464          84         26            42.82%           0           1     FN\n",
      "3576          66         27            21.50%           0           1     FN\n",
      "3577          67         27            15.08%           0           1     FN\n",
      "3578          68         27            23.88%           0           1     FN\n",
      "3579          69         27            20.77%           0           1     FN\n",
      "3580          70         27            20.89%           0           1     FN\n",
      "3581          71         27            31.81%           0           1     FN\n",
      "3582          72         27            20.74%           0           1     FN\n",
      "3583          73         27            27.73%           0           1     FN\n",
      "3584          74         27            23.21%           0           1     FN\n",
      "3585          75         27            27.86%           0           1     FN\n",
      "3586          76         27            33.22%           0           1     FN\n",
      "3587          77         27            36.54%           0           1     FN\n",
      "3588          78         27            44.16%           0           1     FN\n",
      "3706          66         28            22.45%           0           1     FN\n",
      "3707          67         28            17.55%           0           1     FN\n",
      "3708          68         28            23.22%           0           1     FN\n",
      "3709          69         28            28.75%           0           1     FN\n",
      "3710          70         28            35.93%           0           1     FN\n",
      "3836          66         29            36.38%           0           1     FN\n",
      "3837          67         29            19.82%           0           1     FN\n",
      "3838          68         29            30.07%           0           1     FN\n",
      "3839          69         29            42.39%           0           1     FN\n",
      "3858          88         29            49.67%           0           1     FN\n",
      "3859          89         29            48.34%           0           1     FN\n",
      "3860          90         29            47.26%           0           1     FN\n",
      "3861          91         29            47.05%           0           1     FN\n",
      "3862          92         29            47.28%           0           1     FN\n",
      "3863          93         29            48.78%           0           1     FN\n",
      "3864          94         29            49.36%           0           1     FN\n",
      "3966          66         30             8.15%           0           1     FN\n",
      "3967          67         30             7.13%           0           1     FN\n",
      "3968          68         30            34.42%           0           1     FN\n",
      "3969          69         30            37.95%           0           1     FN\n",
      "3971          71         30            47.00%           0           1     FN\n",
      "4096          66         31            39.07%           0           1     FN\n",
      "4097          67         31            21.41%           0           1     FN\n",
      "4226          66         32            31.57%           0           1     FN\n",
      "4227          67         32            31.34%           0           1     FN\n",
      "4356          66         33            18.69%           0           1     FN\n",
      "4357          67         33            14.03%           0           1     FN\n",
      "4358          68         33            40.32%           0           1     FN\n",
      "4359          69         33            23.30%           0           1     FN\n",
      "4360          70         33            24.63%           0           1     FN\n",
      "4361          71         33            20.88%           0           1     FN\n",
      "4362          72         33            40.08%           0           1     FN\n",
      "4363          73         33            41.57%           0           1     FN\n",
      "4364          74         33            38.03%           0           1     FN\n",
      "4365          75         33            42.57%           0           1     FN\n",
      "4366          76         33            46.89%           0           1     FN\n",
      "4367          77         33            49.17%           0           1     FN\n",
      "4486          66         34            12.49%           0           1     FN\n",
      "4487          67         34            10.97%           0           1     FN\n",
      "4488          68         34            38.07%           0           1     FN\n",
      "4489          69         34            39.97%           0           1     FN\n",
      "4490          70         34            41.90%           0           1     FN\n",
      "4491          71         34            34.10%           0           1     FN\n",
      "4497          77         34            44.07%           0           1     FN\n",
      "4498          78         34            37.17%           0           1     FN\n",
      "4499          79         34            36.99%           0           1     FN\n",
      "4500          80         34            49.07%           0           1     FN\n",
      "4616          66         35            11.01%           0           1     FN\n",
      "4617          67         35            11.61%           0           1     FN\n",
      "4618          68         35            13.58%           0           1     FN\n",
      "4619          69         35            14.19%           0           1     FN\n",
      "4620          70         35            15.08%           0           1     FN\n",
      "4621          71         35            16.37%           0           1     FN\n",
      "4622          72         35            16.98%           0           1     FN\n",
      "4623          73         35            18.98%           0           1     FN\n",
      "4624          74         35            21.02%           0           1     FN\n",
      "4625          75         35            25.98%           0           1     FN\n",
      "4626          76         35            28.90%           0           1     FN\n",
      "4627          77         35            35.27%           0           1     FN\n",
      "4628          78         35            46.97%           0           1     FN\n",
      "4746          66         36            43.16%           0           1     FN\n",
      "5006          66         38            28.64%           0           1     FN\n",
      "5007          67         38            40.66%           0           1     FN\n",
      "5136          66         39            37.55%           0           1     FN\n",
      "5137          67         39            47.75%           0           1     FN\n",
      "5151          81         39            40.64%           0           1     FN\n",
      "5185         115         39            44.71%           0           1     FN\n",
      "5267          67         40            43.24%           0           1     FN\n",
      "5526          66         42            28.44%           0           1     FN\n",
      "5527          67         42            22.60%           0           1     FN\n",
      "5545          85         42            47.70%           0           1     FN\n",
      "5546          86         42            45.41%           0           1     FN\n",
      "5547          87         42            47.43%           0           1     FN\n",
      "5656          66         43            22.85%           0           1     FN\n",
      "5657          67         43            21.16%           0           1     FN\n",
      "5658          68         43            45.37%           0           1     FN\n",
      "5659          69         43            42.69%           0           1     FN\n",
      "5786          66         44            11.45%           0           1     FN\n",
      "5787          67         44            10.91%           0           1     FN\n",
      "5788          68         44            20.84%           0           1     FN\n",
      "5789          69         44            15.18%           0           1     FN\n",
      "5790          70         44            16.26%           0           1     FN\n",
      "5791          71         44            17.23%           0           1     FN\n",
      "5792          72         44            19.41%           0           1     FN\n",
      "5793          73         44            21.37%           0           1     FN\n",
      "5794          74         44            26.86%           0           1     FN\n",
      "5795          75         44            25.51%           0           1     FN\n",
      "5796          76         44            24.47%           0           1     FN\n",
      "5797          77         44            35.24%           0           1     FN\n",
      "5798          78         44            31.64%           0           1     FN\n",
      "5799          79         44            46.12%           0           1     FN\n",
      "5916          66         45            28.23%           0           1     FN\n",
      "5917          67         45            16.05%           0           1     FN\n",
      "5919          69         45            29.13%           0           1     FN\n",
      "5920          70         45            30.80%           0           1     FN\n",
      "5921          71         45            32.64%           0           1     FN\n",
      "5922          72         45            35.82%           0           1     FN\n",
      "5923          73         45            41.42%           0           1     FN\n",
      "5924          74         45            35.61%           0           1     FN\n",
      "5925          75         45            47.32%           0           1     FN\n",
      "6046          66         46            39.44%           0           1     FN\n",
      "6047          67         46            32.25%           0           1     FN\n",
      "6176          66         47            29.06%           0           1     FN\n",
      "6177          67         47            20.32%           0           1     FN\n",
      "6307          67         48            37.57%           0           1     FN\n",
      "6436          66         49            33.60%           0           1     FN\n",
      "6437          67         49            13.70%           0           1     FN\n",
      "6438          68         49            21.36%           0           1     FN\n",
      "6439          69         49            26.25%           0           1     FN\n",
      "6440          70         49            21.52%           0           1     FN\n",
      "6441          71         49            14.78%           0           1     FN\n",
      "6442          72         49            13.68%           0           1     FN\n",
      "6826          66         52            11.71%           0           1     FN\n",
      "6827          67         52            19.85%           0           1     FN\n",
      "6828          68         52            32.01%           0           1     FN\n",
      "6829          69         52            47.27%           0           1     FN\n"
     ]
    },
    {
     "data": {
      "image/png": "[encoded data removed]",
      "text/plain": [
       "<Figure size 640x480 with 1 Axes>"
      ]
     },
     "metadata": {},
     "output_type": "display_data"
    },
    {
     "data": {
      "image/png": "[encoded data removed]",
      "text/plain": [
       "<Figure size 640x480 with 1 Axes>"
      ]
     },
     "metadata": {},
     "output_type": "display_data"
    },
    {
     "data": {
      "image/png": "[encoded data removed]",
      "text/plain": [
       "<Figure size 640x480 with 1 Axes>"
      ]
     },
     "metadata": {},
     "output_type": "display_data"
    }
   ],
   "source": [
    "# df and plots settings\n",
    "pd.set_option(\"display.float_format\", \"{:.2%}\".format)\n",
    "\n",
    "pd.options.plotting.backend = \"matplotlib\"\n",
    "\n",
    "\n",
    "# print(dataset_df)\n",
    "pd.set_option(\"display.max_rows\", 2000)\n",
    "false_positive = dataset_df.query('Result == \"FP\"')\n",
    "false_negative = dataset_df.query('Result == \"FN\"')\n",
    "# sample_df = pd.concat([sample_df, sample_df])\n",
    "\n",
    "false_positive_plot = false_positive.groupby([\"window idx\"])[\"window idx\"].count()\n",
    "false_negative_plot = false_negative.groupby([\"window idx\"])[\"window idx\"].count()\n",
    "# print(false_positive['Pred probability'].value_counts(bins=10, sort=False))\n",
    "\n",
    "\n",
    "if len(false_positive_plot) > 0:\n",
    "    print(\"FALSE POSITVES\")\n",
    "    print(false_positive)\n",
    "    # print(false_positive.groupby(['event_idx'])['event_idx'].count())\n",
    "    false_positive.groupby(['event_idx'])['event_idx'].count().plot(kind='bar')\n",
    "    plt.show()\n",
    "    false_positive_plot.plot(kind=\"bar\", edgecolor=\"black\")\n",
    "    plt.show()\n",
    "    false_positive[\"Pred probability\"].value_counts(\n",
    "        bins = [i * 0.1 for i in range(5, 11)], sort=False, normalize=True\n",
    "    ).plot(kind=\"bar\")\n",
    "    plt.show()\n",
    "if len(false_negative_plot) > 0:\n",
    "    print(\"FALSE NEGATIVES\")\n",
    "    print(false_negative)\n",
    "    # print(false_negative.groupby(['event_idx'])['event_idx'].count())\n",
    "    false_negative.groupby(['event_idx'])['event_idx'].count().plot(kind='bar')\n",
    "    plt.show()\n",
    "\n",
    "    false_negative_plot.plot(kind=\"bar\", edgecolor=\"black\")\n",
    "    plt.show()\n",
    "    false_negative[\"Pred probability\"].value_counts(\n",
    "        bins = [i * 0.1 for i in range(6)], sort=False, normalize=True\n",
    "    ).plot(kind=\"bar\")\n",
    "    plt.show()\n",
    "\n",
    "\n",
    "\n",
    "\n",
    "plt.show()\n"
   ]
  },
  {
   "cell_type": "code",
   "execution_count": 21,
   "metadata": {},
   "outputs": [
    {
     "name": "stdout",
     "output_type": "stream",
     "text": [
      "[2940    0 3564  516 3456]\n",
      "Total windows:................7020\n",
      "True Positives:...............2940\n",
      "False Positives:..............   0\n",
      "True Negatives:...............3564\n",
      "False Negatives:.............. 516\n",
      "Accuracy:.....................  92.6%\n",
      "True Positive Rate:...........  85.1%\n",
      "False Positive Rate:..........   0.0%\n",
      "True Negative Rate:........... 100.0%\n",
      "Positive Predictive Value:.... 100.0%\n"
     ]
    },
    {
     "data": {
      "application/vnd.plotly.v1+json": {
       "config": {
        "plotlyServerURL": "https://plot.ly"
       },
       "data": [
        {
         "coloraxis": "coloraxis",
         "hovertemplate": "Predicted Label: %{x}<br>Real Label: %{y}<br>Predictions: %{z}<extra></extra>",
         "name": "0",
         "texttemplate": "%{z}",
         "type": "heatmap",
         "x": [
          "Positive",
          "Negative"
         ],
         "xaxis": "x",
         "y": [
          "Positive",
          "Negative"
         ],
         "yaxis": "y",
         "z": [
          [
           2940,
           516
          ],
          [
           0,
           3564
          ]
         ]
        }
       ],
       "layout": {
        "coloraxis": {
         "colorbar": {
          "title": {
           "text": "Predictions"
          }
         },
         "colorscale": [
          [
           0,
           "rgb(2,4,25)"
          ],
          [
           0.0625,
           "rgb(24,15,41)"
          ],
          [
           0.125,
           "rgb(47,23,57)"
          ],
          [
           0.1875,
           "rgb(71,28,72)"
          ],
          [
           0.25,
           "rgb(97,30,82)"
          ],
          [
           0.3125,
           "rgb(123,30,89)"
          ],
          [
           0.375,
           "rgb(150,27,91)"
          ],
          [
           0.4375,
           "rgb(177,22,88)"
          ],
          [
           0.5,
           "rgb(203,26,79)"
          ],
          [
           0.5625,
           "rgb(223,47,67)"
          ],
          [
           0.625,
           "rgb(236,76,61)"
          ],
          [
           0.6875,
           "rgb(242,107,73)"
          ],
          [
           0.75,
           "rgb(244,135,95)"
          ],
          [
           0.8125,
           "rgb(245,162,122)"
          ],
          [
           0.875,
           "rgb(246,188,153)"
          ],
          [
           0.9375,
           "rgb(247,212,187)"
          ],
          [
           1,
           "rgb(250,234,220)"
          ]
         ]
        },
        "height": 300,
        "margin": {
         "t": 60
        },
        "template": {
         "data": {
          "bar": [
           {
            "error_x": {
             "color": "rgb(36,36,36)"
            },
            "error_y": {
             "color": "rgb(36,36,36)"
            },
            "marker": {
             "line": {
              "color": "rgb(234,234,242)",
              "width": 0.5
             },
             "pattern": {
              "fillmode": "overlay",
              "size": 10,
              "solidity": 0.2
             }
            },
            "type": "bar"
           }
          ],
          "barpolar": [
           {
            "marker": {
             "line": {
              "color": "rgb(234,234,242)",
              "width": 0.5
             },
             "pattern": {
              "fillmode": "overlay",
              "size": 10,
              "solidity": 0.2
             }
            },
            "type": "barpolar"
           }
          ],
          "carpet": [
           {
            "aaxis": {
             "endlinecolor": "rgb(36,36,36)",
             "gridcolor": "white",
             "linecolor": "white",
             "minorgridcolor": "white",
             "startlinecolor": "rgb(36,36,36)"
            },
            "baxis": {
             "endlinecolor": "rgb(36,36,36)",
             "gridcolor": "white",
             "linecolor": "white",
             "minorgridcolor": "white",
             "startlinecolor": "rgb(36,36,36)"
            },
            "type": "carpet"
           }
          ],
          "choropleth": [
           {
            "colorbar": {
             "outlinewidth": 0,
             "tickcolor": "rgb(36,36,36)",
             "ticklen": 8,
             "ticks": "outside",
             "tickwidth": 2
            },
            "type": "choropleth"
           }
          ],
          "contour": [
           {
            "colorbar": {
             "outlinewidth": 0,
             "tickcolor": "rgb(36,36,36)",
             "ticklen": 8,
             "ticks": "outside",
             "tickwidth": 2
            },
            "colorscale": [
             [
              0,
              "rgb(2,4,25)"
             ],
             [
              0.06274509803921569,
              "rgb(24,15,41)"
             ],
             [
              0.12549019607843137,
              "rgb(47,23,57)"
             ],
             [
              0.18823529411764706,
              "rgb(71,28,72)"
             ],
             [
              0.25098039215686274,
              "rgb(97,30,82)"
             ],
             [
              0.3137254901960784,
              "rgb(123,30,89)"
             ],
             [
              0.3764705882352941,
              "rgb(150,27,91)"
             ],
             [
              0.4392156862745098,
              "rgb(177,22,88)"
             ],
             [
              0.5019607843137255,
              "rgb(203,26,79)"
             ],
             [
              0.5647058823529412,
              "rgb(223,47,67)"
             ],
             [
              0.6274509803921569,
              "rgb(236,76,61)"
             ],
             [
              0.6901960784313725,
              "rgb(242,107,73)"
             ],
             [
              0.7529411764705882,
              "rgb(244,135,95)"
             ],
             [
              0.8156862745098039,
              "rgb(245,162,122)"
             ],
             [
              0.8784313725490196,
              "rgb(246,188,153)"
             ],
             [
              0.9411764705882353,
              "rgb(247,212,187)"
             ],
             [
              1,
              "rgb(250,234,220)"
             ]
            ],
            "type": "contour"
           }
          ],
          "contourcarpet": [
           {
            "colorbar": {
             "outlinewidth": 0,
             "tickcolor": "rgb(36,36,36)",
             "ticklen": 8,
             "ticks": "outside",
             "tickwidth": 2
            },
            "type": "contourcarpet"
           }
          ],
          "heatmap": [
           {
            "colorbar": {
             "outlinewidth": 0,
             "tickcolor": "rgb(36,36,36)",
             "ticklen": 8,
             "ticks": "outside",
             "tickwidth": 2
            },
            "colorscale": [
             [
              0,
              "rgb(2,4,25)"
             ],
             [
              0.06274509803921569,
              "rgb(24,15,41)"
             ],
             [
              0.12549019607843137,
              "rgb(47,23,57)"
             ],
             [
              0.18823529411764706,
              "rgb(71,28,72)"
             ],
             [
              0.25098039215686274,
              "rgb(97,30,82)"
             ],
             [
              0.3137254901960784,
              "rgb(123,30,89)"
             ],
             [
              0.3764705882352941,
              "rgb(150,27,91)"
             ],
             [
              0.4392156862745098,
              "rgb(177,22,88)"
             ],
             [
              0.5019607843137255,
              "rgb(203,26,79)"
             ],
             [
              0.5647058823529412,
              "rgb(223,47,67)"
             ],
             [
              0.6274509803921569,
              "rgb(236,76,61)"
             ],
             [
              0.6901960784313725,
              "rgb(242,107,73)"
             ],
             [
              0.7529411764705882,
              "rgb(244,135,95)"
             ],
             [
              0.8156862745098039,
              "rgb(245,162,122)"
             ],
             [
              0.8784313725490196,
              "rgb(246,188,153)"
             ],
             [
              0.9411764705882353,
              "rgb(247,212,187)"
             ],
             [
              1,
              "rgb(250,234,220)"
             ]
            ],
            "type": "heatmap"
           }
          ],
          "heatmapgl": [
           {
            "colorbar": {
             "outlinewidth": 0,
             "tickcolor": "rgb(36,36,36)",
             "ticklen": 8,
             "ticks": "outside",
             "tickwidth": 2
            },
            "colorscale": [
             [
              0,
              "rgb(2,4,25)"
             ],
             [
              0.06274509803921569,
              "rgb(24,15,41)"
             ],
             [
              0.12549019607843137,
              "rgb(47,23,57)"
             ],
             [
              0.18823529411764706,
              "rgb(71,28,72)"
             ],
             [
              0.25098039215686274,
              "rgb(97,30,82)"
             ],
             [
              0.3137254901960784,
              "rgb(123,30,89)"
             ],
             [
              0.3764705882352941,
              "rgb(150,27,91)"
             ],
             [
              0.4392156862745098,
              "rgb(177,22,88)"
             ],
             [
              0.5019607843137255,
              "rgb(203,26,79)"
             ],
             [
              0.5647058823529412,
              "rgb(223,47,67)"
             ],
             [
              0.6274509803921569,
              "rgb(236,76,61)"
             ],
             [
              0.6901960784313725,
              "rgb(242,107,73)"
             ],
             [
              0.7529411764705882,
              "rgb(244,135,95)"
             ],
             [
              0.8156862745098039,
              "rgb(245,162,122)"
             ],
             [
              0.8784313725490196,
              "rgb(246,188,153)"
             ],
             [
              0.9411764705882353,
              "rgb(247,212,187)"
             ],
             [
              1,
              "rgb(250,234,220)"
             ]
            ],
            "type": "heatmapgl"
           }
          ],
          "histogram": [
           {
            "marker": {
             "pattern": {
              "fillmode": "overlay",
              "size": 10,
              "solidity": 0.2
             }
            },
            "type": "histogram"
           }
          ],
          "histogram2d": [
           {
            "colorbar": {
             "outlinewidth": 0,
             "tickcolor": "rgb(36,36,36)",
             "ticklen": 8,
             "ticks": "outside",
             "tickwidth": 2
            },
            "colorscale": [
             [
              0,
              "rgb(2,4,25)"
             ],
             [
              0.06274509803921569,
              "rgb(24,15,41)"
             ],
             [
              0.12549019607843137,
              "rgb(47,23,57)"
             ],
             [
              0.18823529411764706,
              "rgb(71,28,72)"
             ],
             [
              0.25098039215686274,
              "rgb(97,30,82)"
             ],
             [
              0.3137254901960784,
              "rgb(123,30,89)"
             ],
             [
              0.3764705882352941,
              "rgb(150,27,91)"
             ],
             [
              0.4392156862745098,
              "rgb(177,22,88)"
             ],
             [
              0.5019607843137255,
              "rgb(203,26,79)"
             ],
             [
              0.5647058823529412,
              "rgb(223,47,67)"
             ],
             [
              0.6274509803921569,
              "rgb(236,76,61)"
             ],
             [
              0.6901960784313725,
              "rgb(242,107,73)"
             ],
             [
              0.7529411764705882,
              "rgb(244,135,95)"
             ],
             [
              0.8156862745098039,
              "rgb(245,162,122)"
             ],
             [
              0.8784313725490196,
              "rgb(246,188,153)"
             ],
             [
              0.9411764705882353,
              "rgb(247,212,187)"
             ],
             [
              1,
              "rgb(250,234,220)"
             ]
            ],
            "type": "histogram2d"
           }
          ],
          "histogram2dcontour": [
           {
            "colorbar": {
             "outlinewidth": 0,
             "tickcolor": "rgb(36,36,36)",
             "ticklen": 8,
             "ticks": "outside",
             "tickwidth": 2
            },
            "colorscale": [
             [
              0,
              "rgb(2,4,25)"
             ],
             [
              0.06274509803921569,
              "rgb(24,15,41)"
             ],
             [
              0.12549019607843137,
              "rgb(47,23,57)"
             ],
             [
              0.18823529411764706,
              "rgb(71,28,72)"
             ],
             [
              0.25098039215686274,
              "rgb(97,30,82)"
             ],
             [
              0.3137254901960784,
              "rgb(123,30,89)"
             ],
             [
              0.3764705882352941,
              "rgb(150,27,91)"
             ],
             [
              0.4392156862745098,
              "rgb(177,22,88)"
             ],
             [
              0.5019607843137255,
              "rgb(203,26,79)"
             ],
             [
              0.5647058823529412,
              "rgb(223,47,67)"
             ],
             [
              0.6274509803921569,
              "rgb(236,76,61)"
             ],
             [
              0.6901960784313725,
              "rgb(242,107,73)"
             ],
             [
              0.7529411764705882,
              "rgb(244,135,95)"
             ],
             [
              0.8156862745098039,
              "rgb(245,162,122)"
             ],
             [
              0.8784313725490196,
              "rgb(246,188,153)"
             ],
             [
              0.9411764705882353,
              "rgb(247,212,187)"
             ],
             [
              1,
              "rgb(250,234,220)"
             ]
            ],
            "type": "histogram2dcontour"
           }
          ],
          "mesh3d": [
           {
            "colorbar": {
             "outlinewidth": 0,
             "tickcolor": "rgb(36,36,36)",
             "ticklen": 8,
             "ticks": "outside",
             "tickwidth": 2
            },
            "type": "mesh3d"
           }
          ],
          "parcoords": [
           {
            "line": {
             "colorbar": {
              "outlinewidth": 0,
              "tickcolor": "rgb(36,36,36)",
              "ticklen": 8,
              "ticks": "outside",
              "tickwidth": 2
             }
            },
            "type": "parcoords"
           }
          ],
          "pie": [
           {
            "automargin": true,
            "type": "pie"
           }
          ],
          "scatter": [
           {
            "fillpattern": {
             "fillmode": "overlay",
             "size": 10,
             "solidity": 0.2
            },
            "type": "scatter"
           }
          ],
          "scatter3d": [
           {
            "line": {
             "colorbar": {
              "outlinewidth": 0,
              "tickcolor": "rgb(36,36,36)",
              "ticklen": 8,
              "ticks": "outside",
              "tickwidth": 2
             }
            },
            "marker": {
             "colorbar": {
              "outlinewidth": 0,
              "tickcolor": "rgb(36,36,36)",
              "ticklen": 8,
              "ticks": "outside",
              "tickwidth": 2
             }
            },
            "type": "scatter3d"
           }
          ],
          "scattercarpet": [
           {
            "marker": {
             "colorbar": {
              "outlinewidth": 0,
              "tickcolor": "rgb(36,36,36)",
              "ticklen": 8,
              "ticks": "outside",
              "tickwidth": 2
             }
            },
            "type": "scattercarpet"
           }
          ],
          "scattergeo": [
           {
            "marker": {
             "colorbar": {
              "outlinewidth": 0,
              "tickcolor": "rgb(36,36,36)",
              "ticklen": 8,
              "ticks": "outside",
              "tickwidth": 2
             }
            },
            "type": "scattergeo"
           }
          ],
          "scattergl": [
           {
            "marker": {
             "colorbar": {
              "outlinewidth": 0,
              "tickcolor": "rgb(36,36,36)",
              "ticklen": 8,
              "ticks": "outside",
              "tickwidth": 2
             }
            },
            "type": "scattergl"
           }
          ],
          "scattermapbox": [
           {
            "marker": {
             "colorbar": {
              "outlinewidth": 0,
              "tickcolor": "rgb(36,36,36)",
              "ticklen": 8,
              "ticks": "outside",
              "tickwidth": 2
             }
            },
            "type": "scattermapbox"
           }
          ],
          "scatterpolar": [
           {
            "marker": {
             "colorbar": {
              "outlinewidth": 0,
              "tickcolor": "rgb(36,36,36)",
              "ticklen": 8,
              "ticks": "outside",
              "tickwidth": 2
             }
            },
            "type": "scatterpolar"
           }
          ],
          "scatterpolargl": [
           {
            "marker": {
             "colorbar": {
              "outlinewidth": 0,
              "tickcolor": "rgb(36,36,36)",
              "ticklen": 8,
              "ticks": "outside",
              "tickwidth": 2
             }
            },
            "type": "scatterpolargl"
           }
          ],
          "scatterternary": [
           {
            "marker": {
             "colorbar": {
              "outlinewidth": 0,
              "tickcolor": "rgb(36,36,36)",
              "ticklen": 8,
              "ticks": "outside",
              "tickwidth": 2
             }
            },
            "type": "scatterternary"
           }
          ],
          "surface": [
           {
            "colorbar": {
             "outlinewidth": 0,
             "tickcolor": "rgb(36,36,36)",
             "ticklen": 8,
             "ticks": "outside",
             "tickwidth": 2
            },
            "colorscale": [
             [
              0,
              "rgb(2,4,25)"
             ],
             [
              0.06274509803921569,
              "rgb(24,15,41)"
             ],
             [
              0.12549019607843137,
              "rgb(47,23,57)"
             ],
             [
              0.18823529411764706,
              "rgb(71,28,72)"
             ],
             [
              0.25098039215686274,
              "rgb(97,30,82)"
             ],
             [
              0.3137254901960784,
              "rgb(123,30,89)"
             ],
             [
              0.3764705882352941,
              "rgb(150,27,91)"
             ],
             [
              0.4392156862745098,
              "rgb(177,22,88)"
             ],
             [
              0.5019607843137255,
              "rgb(203,26,79)"
             ],
             [
              0.5647058823529412,
              "rgb(223,47,67)"
             ],
             [
              0.6274509803921569,
              "rgb(236,76,61)"
             ],
             [
              0.6901960784313725,
              "rgb(242,107,73)"
             ],
             [
              0.7529411764705882,
              "rgb(244,135,95)"
             ],
             [
              0.8156862745098039,
              "rgb(245,162,122)"
             ],
             [
              0.8784313725490196,
              "rgb(246,188,153)"
             ],
             [
              0.9411764705882353,
              "rgb(247,212,187)"
             ],
             [
              1,
              "rgb(250,234,220)"
             ]
            ],
            "type": "surface"
           }
          ],
          "table": [
           {
            "cells": {
             "fill": {
              "color": "rgb(231,231,240)"
             },
             "line": {
              "color": "white"
             }
            },
            "header": {
             "fill": {
              "color": "rgb(183,183,191)"
             },
             "line": {
              "color": "white"
             }
            },
            "type": "table"
           }
          ]
         },
         "layout": {
          "annotationdefaults": {
           "arrowcolor": "rgb(67,103,167)"
          },
          "autotypenumbers": "strict",
          "coloraxis": {
           "colorbar": {
            "outlinewidth": 0,
            "tickcolor": "rgb(36,36,36)",
            "ticklen": 8,
            "ticks": "outside",
            "tickwidth": 2
           }
          },
          "colorscale": {
           "sequential": [
            [
             0,
             "rgb(2,4,25)"
            ],
            [
             0.06274509803921569,
             "rgb(24,15,41)"
            ],
            [
             0.12549019607843137,
             "rgb(47,23,57)"
            ],
            [
             0.18823529411764706,
             "rgb(71,28,72)"
            ],
            [
             0.25098039215686274,
             "rgb(97,30,82)"
            ],
            [
             0.3137254901960784,
             "rgb(123,30,89)"
            ],
            [
             0.3764705882352941,
             "rgb(150,27,91)"
            ],
            [
             0.4392156862745098,
             "rgb(177,22,88)"
            ],
            [
             0.5019607843137255,
             "rgb(203,26,79)"
            ],
            [
             0.5647058823529412,
             "rgb(223,47,67)"
            ],
            [
             0.6274509803921569,
             "rgb(236,76,61)"
            ],
            [
             0.6901960784313725,
             "rgb(242,107,73)"
            ],
            [
             0.7529411764705882,
             "rgb(244,135,95)"
            ],
            [
             0.8156862745098039,
             "rgb(245,162,122)"
            ],
            [
             0.8784313725490196,
             "rgb(246,188,153)"
            ],
            [
             0.9411764705882353,
             "rgb(247,212,187)"
            ],
            [
             1,
             "rgb(250,234,220)"
            ]
           ],
           "sequentialminus": [
            [
             0,
             "rgb(2,4,25)"
            ],
            [
             0.06274509803921569,
             "rgb(24,15,41)"
            ],
            [
             0.12549019607843137,
             "rgb(47,23,57)"
            ],
            [
             0.18823529411764706,
             "rgb(71,28,72)"
            ],
            [
             0.25098039215686274,
             "rgb(97,30,82)"
            ],
            [
             0.3137254901960784,
             "rgb(123,30,89)"
            ],
            [
             0.3764705882352941,
             "rgb(150,27,91)"
            ],
            [
             0.4392156862745098,
             "rgb(177,22,88)"
            ],
            [
             0.5019607843137255,
             "rgb(203,26,79)"
            ],
            [
             0.5647058823529412,
             "rgb(223,47,67)"
            ],
            [
             0.6274509803921569,
             "rgb(236,76,61)"
            ],
            [
             0.6901960784313725,
             "rgb(242,107,73)"
            ],
            [
             0.7529411764705882,
             "rgb(244,135,95)"
            ],
            [
             0.8156862745098039,
             "rgb(245,162,122)"
            ],
            [
             0.8784313725490196,
             "rgb(246,188,153)"
            ],
            [
             0.9411764705882353,
             "rgb(247,212,187)"
            ],
            [
             1,
             "rgb(250,234,220)"
            ]
           ]
          },
          "colorway": [
           "rgb(76,114,176)",
           "rgb(221,132,82)",
           "rgb(85,168,104)",
           "rgb(196,78,82)",
           "rgb(129,114,179)",
           "rgb(147,120,96)",
           "rgb(218,139,195)",
           "rgb(140,140,140)",
           "rgb(204,185,116)",
           "rgb(100,181,205)"
          ],
          "font": {
           "color": "rgb(36,36,36)"
          },
          "geo": {
           "bgcolor": "white",
           "lakecolor": "white",
           "landcolor": "rgb(234,234,242)",
           "showlakes": true,
           "showland": true,
           "subunitcolor": "white"
          },
          "hoverlabel": {
           "align": "left"
          },
          "hovermode": "closest",
          "paper_bgcolor": "white",
          "plot_bgcolor": "rgb(234,234,242)",
          "polar": {
           "angularaxis": {
            "gridcolor": "white",
            "linecolor": "white",
            "showgrid": true,
            "ticks": ""
           },
           "bgcolor": "rgb(234,234,242)",
           "radialaxis": {
            "gridcolor": "white",
            "linecolor": "white",
            "showgrid": true,
            "ticks": ""
           }
          },
          "scene": {
           "xaxis": {
            "backgroundcolor": "rgb(234,234,242)",
            "gridcolor": "white",
            "gridwidth": 2,
            "linecolor": "white",
            "showbackground": true,
            "showgrid": true,
            "ticks": "",
            "zerolinecolor": "white"
           },
           "yaxis": {
            "backgroundcolor": "rgb(234,234,242)",
            "gridcolor": "white",
            "gridwidth": 2,
            "linecolor": "white",
            "showbackground": true,
            "showgrid": true,
            "ticks": "",
            "zerolinecolor": "white"
           },
           "zaxis": {
            "backgroundcolor": "rgb(234,234,242)",
            "gridcolor": "white",
            "gridwidth": 2,
            "linecolor": "white",
            "showbackground": true,
            "showgrid": true,
            "ticks": "",
            "zerolinecolor": "white"
           }
          },
          "shapedefaults": {
           "fillcolor": "rgb(67,103,167)",
           "line": {
            "width": 0
           },
           "opacity": 0.5
          },
          "ternary": {
           "aaxis": {
            "gridcolor": "white",
            "linecolor": "white",
            "showgrid": true,
            "ticks": ""
           },
           "baxis": {
            "gridcolor": "white",
            "linecolor": "white",
            "showgrid": true,
            "ticks": ""
           },
           "bgcolor": "rgb(234,234,242)",
           "caxis": {
            "gridcolor": "white",
            "linecolor": "white",
            "showgrid": true,
            "ticks": ""
           }
          },
          "xaxis": {
           "automargin": true,
           "gridcolor": "white",
           "linecolor": "white",
           "showgrid": true,
           "ticks": "",
           "title": {
            "standoff": 15
           },
           "zerolinecolor": "white"
          },
          "yaxis": {
           "automargin": true,
           "gridcolor": "white",
           "linecolor": "white",
           "showgrid": true,
           "ticks": "",
           "title": {
            "standoff": 15
           },
           "zerolinecolor": "white"
          }
         }
        },
        "width": 400,
        "xaxis": {
         "anchor": "y",
         "constrain": "domain",
         "domain": [
          0,
          1
         ],
         "scaleanchor": "y",
         "title": {
          "text": "Predicted Label"
         }
        },
        "yaxis": {
         "anchor": "x",
         "autorange": "reversed",
         "constrain": "domain",
         "domain": [
          0,
          1
         ],
         "title": {
          "text": "Real Label"
         }
        }
       }
      }
     },
     "metadata": {},
     "output_type": "display_data"
    }
   ],
   "source": [
    "model.load_state_dict(torch.load('models\\LSTMHarmonic_weights_R3Currents.pth'))\n",
    "print(conf_matrix_total)\n",
    "metrics = conf_matrix_metrics(conf_matrix_total)\n",
    "print_metrics(metrics)\n",
    "plot_confusion_matrix(metrics)\n"
   ]
  },
  {
   "attachments": {},
   "cell_type": "markdown",
   "metadata": {},
   "source": [
    "##### 7.6. Save Dataframe and Confusion Matrix"
   ]
  },
  {
   "cell_type": "code",
   "execution_count": 22,
   "metadata": {},
   "outputs": [],
   "source": [
    "# dataset_df.to_parquet('parquet_data/ModelR2_currents_df.parquet')\n",
    "# conf_matrix_df = pd.DataFrame(conf_matrix.cpu(), columns = ['TP','FP','TF', 'FN', 'TP + FN'])\n",
    "# conf_matrix_df.to_parquet('parquet_data/ModelR2_currents_CM_df.parquet')\n",
    "# np.save('parquet_data/ModelR2_currents_CM.npy', conf_matrix.cpu())"
   ]
  },
  {
   "attachments": {},
   "cell_type": "markdown",
   "metadata": {},
   "source": [
    "##### 7.7. Individual Sample Visualization"
   ]
  },
  {
   "cell_type": "code",
   "execution_count": 23,
   "metadata": {},
   "outputs": [
    {
     "name": "stdout",
     "output_type": "stream",
     "text": [
      "C:/Users/aherrada/OneDrive - Universidad del Norte/Uninorte/DetectionDataBase/LSTM_form_1/R1\\Fault01_B124_RF20.csv\n",
      "256\n",
      "(256, 0)\n"
     ]
    },
    {
     "data": {
      "image/png": "[encoded data removed]",
      "text/plain": [
       "<Figure size 640x480 with 1 Axes>"
      ]
     },
     "metadata": {},
     "output_type": "display_data"
    },
    {
     "name": "stdout",
     "output_type": "stream",
     "text": [
      "Confusion Matrix: tensor([[62,  0, 66,  2, 64]])\n",
      "     event_idx  Pred probability  Pred label  True label Result\n",
      "0            2             6.29%           0           0     TN\n",
      "1            2             5.70%           0           0     TN\n",
      "2            2             6.84%           0           0     TN\n",
      "3            2             9.14%           0           0     TN\n",
      "4            2             9.96%           0           0     TN\n",
      "5            2            10.06%           0           0     TN\n",
      "6            2            10.23%           0           0     TN\n",
      "7            2            10.44%           0           0     TN\n",
      "8            2            10.74%           0           0     TN\n",
      "9            2            11.36%           0           0     TN\n",
      "10           2            11.88%           0           0     TN\n",
      "11           2            12.95%           0           0     TN\n",
      "12           2            13.76%           0           0     TN\n",
      "13           2            15.17%           0           0     TN\n",
      "14           2            17.71%           0           0     TN\n",
      "15           2            22.54%           0           0     TN\n",
      "16           2            23.85%           0           0     TN\n",
      "17           2            21.90%           0           0     TN\n",
      "18           2            20.42%           0           0     TN\n",
      "19           2            18.95%           0           0     TN\n",
      "20           2            16.53%           0           0     TN\n",
      "21           2            14.26%           0           0     TN\n",
      "22           2            12.69%           0           0     TN\n",
      "23           2            10.70%           0           0     TN\n",
      "24           2             8.30%           0           0     TN\n",
      "25           2             6.13%           0           0     TN\n",
      "26           2             4.58%           0           0     TN\n",
      "27           2             3.69%           0           0     TN\n",
      "28           2             3.43%           0           0     TN\n",
      "29           2             3.56%           0           0     TN\n",
      "30           2             4.12%           0           0     TN\n",
      "31           2             4.61%           0           0     TN\n",
      "32           2             4.63%           0           0     TN\n",
      "33           2             4.64%           0           0     TN\n",
      "34           2             4.90%           0           0     TN\n",
      "35           2             5.28%           0           0     TN\n",
      "36           2             5.59%           0           0     TN\n",
      "37           2             5.72%           0           0     TN\n",
      "38           2             5.73%           0           0     TN\n",
      "39           2             5.62%           0           0     TN\n",
      "40           2             5.37%           0           0     TN\n",
      "41           2             5.01%           0           0     TN\n",
      "42           2             4.65%           0           0     TN\n",
      "43           2             4.47%           0           0     TN\n",
      "44           2             4.57%           0           0     TN\n",
      "45           2             4.95%           0           0     TN\n",
      "46           2             5.45%           0           0     TN\n",
      "47           2             5.65%           0           0     TN\n",
      "48           2             5.45%           0           0     TN\n",
      "49           2             5.72%           0           0     TN\n",
      "50           2             6.29%           0           0     TN\n",
      "51           2             7.82%           0           0     TN\n",
      "52           2             9.03%           0           0     TN\n",
      "53           2             9.37%           0           0     TN\n",
      "54           2            11.83%           0           0     TN\n",
      "55           2            12.90%           0           0     TN\n",
      "56           2            14.45%           0           0     TN\n",
      "57           2            19.13%           0           0     TN\n",
      "58           2            20.64%           0           0     TN\n",
      "59           2            21.47%           0           0     TN\n",
      "60           2            21.24%           0           0     TN\n",
      "61           2            18.45%           0           0     TN\n",
      "62           2            13.69%           0           0     TN\n",
      "63           2             9.20%           0           0     TN\n",
      "64           2             6.73%           0           0     TN\n",
      "65           2             5.94%           0           0     TN\n",
      "66           2            33.70%           0           1     FN\n",
      "67           2            43.27%           0           1     FN\n",
      "68           2            74.01%           1           1     TP\n",
      "69           2            76.42%           1           1     TP\n",
      "70           2            80.97%           1           1     TP\n",
      "71           2            63.51%           1           1     TP\n",
      "72           2            71.87%           1           1     TP\n",
      "73           2            82.44%           1           1     TP\n",
      "74           2            90.33%           1           1     TP\n",
      "75           2            85.53%           1           1     TP\n",
      "76           2            81.52%           1           1     TP\n",
      "77           2            88.30%           1           1     TP\n",
      "78           2            88.54%           1           1     TP\n",
      "79           2            87.00%           1           1     TP\n",
      "80           2            84.35%           1           1     TP\n",
      "81           2            92.21%           1           1     TP\n",
      "82           2            97.71%           1           1     TP\n",
      "83           2            98.42%           1           1     TP\n",
      "84           2            96.84%           1           1     TP\n",
      "85           2            95.20%           1           1     TP\n",
      "86           2            94.67%           1           1     TP\n",
      "87           2            94.75%           1           1     TP\n",
      "88           2            93.62%           1           1     TP\n",
      "89           2            96.22%           1           1     TP\n",
      "90           2            96.16%           1           1     TP\n",
      "91           2            95.71%           1           1     TP\n",
      "92           2            95.08%           1           1     TP\n",
      "93           2            95.86%           1           1     TP\n",
      "94           2            95.64%           1           1     TP\n",
      "95           2            95.81%           1           1     TP\n",
      "96           2            95.27%           1           1     TP\n",
      "97           2            95.65%           1           1     TP\n",
      "98           2            95.64%           1           1     TP\n",
      "99           2            95.58%           1           1     TP\n",
      "100          2            95.80%           1           1     TP\n",
      "101          2            95.65%           1           1     TP\n",
      "102          2            95.75%           1           1     TP\n",
      "103          2            95.83%           1           1     TP\n",
      "104          2            95.85%           1           1     TP\n",
      "105          2            96.10%           1           1     TP\n",
      "106          2            96.02%           1           1     TP\n",
      "107          2            96.26%           1           1     TP\n",
      "108          2            96.07%           1           1     TP\n",
      "109          2            95.39%           1           1     TP\n",
      "110          2            95.66%           1           1     TP\n",
      "111          2            94.97%           1           1     TP\n",
      "112          2            93.78%           1           1     TP\n",
      "113          2            90.53%           1           1     TP\n",
      "114          2            89.47%           1           1     TP\n",
      "115          2            82.05%           1           1     TP\n",
      "116          2            82.63%           1           1     TP\n",
      "117          2            93.57%           1           1     TP\n",
      "118          2            92.81%           1           1     TP\n",
      "119          2            88.17%           1           1     TP\n",
      "120          2            91.75%           1           1     TP\n",
      "121          2            94.07%           1           1     TP\n",
      "122          2            92.61%           1           1     TP\n",
      "123          2            92.22%           1           1     TP\n",
      "124          2            92.36%           1           1     TP\n",
      "125          2            92.41%           1           1     TP\n",
      "126          2            92.48%           1           1     TP\n",
      "127          2            92.43%           1           1     TP\n",
      "128          2            92.43%           1           1     TP\n",
      "129          2            92.44%           1           1     TP\n"
     ]
    },
    {
     "data": {
      "application/vnd.plotly.v1+json": {
       "config": {
        "plotlyServerURL": "https://plot.ly"
       },
       "data": [
        {
         "coloraxis": "coloraxis",
         "hovertemplate": "Predicted Label: %{x}<br>Real Label: %{y}<br>Predictions: %{z}<extra></extra>",
         "name": "0",
         "texttemplate": "%{z}",
         "type": "heatmap",
         "x": [
          "Positive",
          "Negative"
         ],
         "xaxis": "x",
         "y": [
          "Positive",
          "Negative"
         ],
         "yaxis": "y",
         "z": [
          [
           62,
           2
          ],
          [
           0,
           66
          ]
         ]
        }
       ],
       "layout": {
        "coloraxis": {
         "colorbar": {
          "title": {
           "text": "Predictions"
          }
         },
         "colorscale": [
          [
           0,
           "rgb(2,4,25)"
          ],
          [
           0.0625,
           "rgb(24,15,41)"
          ],
          [
           0.125,
           "rgb(47,23,57)"
          ],
          [
           0.1875,
           "rgb(71,28,72)"
          ],
          [
           0.25,
           "rgb(97,30,82)"
          ],
          [
           0.3125,
           "rgb(123,30,89)"
          ],
          [
           0.375,
           "rgb(150,27,91)"
          ],
          [
           0.4375,
           "rgb(177,22,88)"
          ],
          [
           0.5,
           "rgb(203,26,79)"
          ],
          [
           0.5625,
           "rgb(223,47,67)"
          ],
          [
           0.625,
           "rgb(236,76,61)"
          ],
          [
           0.6875,
           "rgb(242,107,73)"
          ],
          [
           0.75,
           "rgb(244,135,95)"
          ],
          [
           0.8125,
           "rgb(245,162,122)"
          ],
          [
           0.875,
           "rgb(246,188,153)"
          ],
          [
           0.9375,
           "rgb(247,212,187)"
          ],
          [
           1,
           "rgb(250,234,220)"
          ]
         ]
        },
        "height": 300,
        "margin": {
         "t": 60
        },
        "template": {
         "data": {
          "bar": [
           {
            "error_x": {
             "color": "rgb(36,36,36)"
            },
            "error_y": {
             "color": "rgb(36,36,36)"
            },
            "marker": {
             "line": {
              "color": "rgb(234,234,242)",
              "width": 0.5
             },
             "pattern": {
              "fillmode": "overlay",
              "size": 10,
              "solidity": 0.2
             }
            },
            "type": "bar"
           }
          ],
          "barpolar": [
           {
            "marker": {
             "line": {
              "color": "rgb(234,234,242)",
              "width": 0.5
             },
             "pattern": {
              "fillmode": "overlay",
              "size": 10,
              "solidity": 0.2
             }
            },
            "type": "barpolar"
           }
          ],
          "carpet": [
           {
            "aaxis": {
             "endlinecolor": "rgb(36,36,36)",
             "gridcolor": "white",
             "linecolor": "white",
             "minorgridcolor": "white",
             "startlinecolor": "rgb(36,36,36)"
            },
            "baxis": {
             "endlinecolor": "rgb(36,36,36)",
             "gridcolor": "white",
             "linecolor": "white",
             "minorgridcolor": "white",
             "startlinecolor": "rgb(36,36,36)"
            },
            "type": "carpet"
           }
          ],
          "choropleth": [
           {
            "colorbar": {
             "outlinewidth": 0,
             "tickcolor": "rgb(36,36,36)",
             "ticklen": 8,
             "ticks": "outside",
             "tickwidth": 2
            },
            "type": "choropleth"
           }
          ],
          "contour": [
           {
            "colorbar": {
             "outlinewidth": 0,
             "tickcolor": "rgb(36,36,36)",
             "ticklen": 8,
             "ticks": "outside",
             "tickwidth": 2
            },
            "colorscale": [
             [
              0,
              "rgb(2,4,25)"
             ],
             [
              0.06274509803921569,
              "rgb(24,15,41)"
             ],
             [
              0.12549019607843137,
              "rgb(47,23,57)"
             ],
             [
              0.18823529411764706,
              "rgb(71,28,72)"
             ],
             [
              0.25098039215686274,
              "rgb(97,30,82)"
             ],
             [
              0.3137254901960784,
              "rgb(123,30,89)"
             ],
             [
              0.3764705882352941,
              "rgb(150,27,91)"
             ],
             [
              0.4392156862745098,
              "rgb(177,22,88)"
             ],
             [
              0.5019607843137255,
              "rgb(203,26,79)"
             ],
             [
              0.5647058823529412,
              "rgb(223,47,67)"
             ],
             [
              0.6274509803921569,
              "rgb(236,76,61)"
             ],
             [
              0.6901960784313725,
              "rgb(242,107,73)"
             ],
             [
              0.7529411764705882,
              "rgb(244,135,95)"
             ],
             [
              0.8156862745098039,
              "rgb(245,162,122)"
             ],
             [
              0.8784313725490196,
              "rgb(246,188,153)"
             ],
             [
              0.9411764705882353,
              "rgb(247,212,187)"
             ],
             [
              1,
              "rgb(250,234,220)"
             ]
            ],
            "type": "contour"
           }
          ],
          "contourcarpet": [
           {
            "colorbar": {
             "outlinewidth": 0,
             "tickcolor": "rgb(36,36,36)",
             "ticklen": 8,
             "ticks": "outside",
             "tickwidth": 2
            },
            "type": "contourcarpet"
           }
          ],
          "heatmap": [
           {
            "colorbar": {
             "outlinewidth": 0,
             "tickcolor": "rgb(36,36,36)",
             "ticklen": 8,
             "ticks": "outside",
             "tickwidth": 2
            },
            "colorscale": [
             [
              0,
              "rgb(2,4,25)"
             ],
             [
              0.06274509803921569,
              "rgb(24,15,41)"
             ],
             [
              0.12549019607843137,
              "rgb(47,23,57)"
             ],
             [
              0.18823529411764706,
              "rgb(71,28,72)"
             ],
             [
              0.25098039215686274,
              "rgb(97,30,82)"
             ],
             [
              0.3137254901960784,
              "rgb(123,30,89)"
             ],
             [
              0.3764705882352941,
              "rgb(150,27,91)"
             ],
             [
              0.4392156862745098,
              "rgb(177,22,88)"
             ],
             [
              0.5019607843137255,
              "rgb(203,26,79)"
             ],
             [
              0.5647058823529412,
              "rgb(223,47,67)"
             ],
             [
              0.6274509803921569,
              "rgb(236,76,61)"
             ],
             [
              0.6901960784313725,
              "rgb(242,107,73)"
             ],
             [
              0.7529411764705882,
              "rgb(244,135,95)"
             ],
             [
              0.8156862745098039,
              "rgb(245,162,122)"
             ],
             [
              0.8784313725490196,
              "rgb(246,188,153)"
             ],
             [
              0.9411764705882353,
              "rgb(247,212,187)"
             ],
             [
              1,
              "rgb(250,234,220)"
             ]
            ],
            "type": "heatmap"
           }
          ],
          "heatmapgl": [
           {
            "colorbar": {
             "outlinewidth": 0,
             "tickcolor": "rgb(36,36,36)",
             "ticklen": 8,
             "ticks": "outside",
             "tickwidth": 2
            },
            "colorscale": [
             [
              0,
              "rgb(2,4,25)"
             ],
             [
              0.06274509803921569,
              "rgb(24,15,41)"
             ],
             [
              0.12549019607843137,
              "rgb(47,23,57)"
             ],
             [
              0.18823529411764706,
              "rgb(71,28,72)"
             ],
             [
              0.25098039215686274,
              "rgb(97,30,82)"
             ],
             [
              0.3137254901960784,
              "rgb(123,30,89)"
             ],
             [
              0.3764705882352941,
              "rgb(150,27,91)"
             ],
             [
              0.4392156862745098,
              "rgb(177,22,88)"
             ],
             [
              0.5019607843137255,
              "rgb(203,26,79)"
             ],
             [
              0.5647058823529412,
              "rgb(223,47,67)"
             ],
             [
              0.6274509803921569,
              "rgb(236,76,61)"
             ],
             [
              0.6901960784313725,
              "rgb(242,107,73)"
             ],
             [
              0.7529411764705882,
              "rgb(244,135,95)"
             ],
             [
              0.8156862745098039,
              "rgb(245,162,122)"
             ],
             [
              0.8784313725490196,
              "rgb(246,188,153)"
             ],
             [
              0.9411764705882353,
              "rgb(247,212,187)"
             ],
             [
              1,
              "rgb(250,234,220)"
             ]
            ],
            "type": "heatmapgl"
           }
          ],
          "histogram": [
           {
            "marker": {
             "pattern": {
              "fillmode": "overlay",
              "size": 10,
              "solidity": 0.2
             }
            },
            "type": "histogram"
           }
          ],
          "histogram2d": [
           {
            "colorbar": {
             "outlinewidth": 0,
             "tickcolor": "rgb(36,36,36)",
             "ticklen": 8,
             "ticks": "outside",
             "tickwidth": 2
            },
            "colorscale": [
             [
              0,
              "rgb(2,4,25)"
             ],
             [
              0.06274509803921569,
              "rgb(24,15,41)"
             ],
             [
              0.12549019607843137,
              "rgb(47,23,57)"
             ],
             [
              0.18823529411764706,
              "rgb(71,28,72)"
             ],
             [
              0.25098039215686274,
              "rgb(97,30,82)"
             ],
             [
              0.3137254901960784,
              "rgb(123,30,89)"
             ],
             [
              0.3764705882352941,
              "rgb(150,27,91)"
             ],
             [
              0.4392156862745098,
              "rgb(177,22,88)"
             ],
             [
              0.5019607843137255,
              "rgb(203,26,79)"
             ],
             [
              0.5647058823529412,
              "rgb(223,47,67)"
             ],
             [
              0.6274509803921569,
              "rgb(236,76,61)"
             ],
             [
              0.6901960784313725,
              "rgb(242,107,73)"
             ],
             [
              0.7529411764705882,
              "rgb(244,135,95)"
             ],
             [
              0.8156862745098039,
              "rgb(245,162,122)"
             ],
             [
              0.8784313725490196,
              "rgb(246,188,153)"
             ],
             [
              0.9411764705882353,
              "rgb(247,212,187)"
             ],
             [
              1,
              "rgb(250,234,220)"
             ]
            ],
            "type": "histogram2d"
           }
          ],
          "histogram2dcontour": [
           {
            "colorbar": {
             "outlinewidth": 0,
             "tickcolor": "rgb(36,36,36)",
             "ticklen": 8,
             "ticks": "outside",
             "tickwidth": 2
            },
            "colorscale": [
             [
              0,
              "rgb(2,4,25)"
             ],
             [
              0.06274509803921569,
              "rgb(24,15,41)"
             ],
             [
              0.12549019607843137,
              "rgb(47,23,57)"
             ],
             [
              0.18823529411764706,
              "rgb(71,28,72)"
             ],
             [
              0.25098039215686274,
              "rgb(97,30,82)"
             ],
             [
              0.3137254901960784,
              "rgb(123,30,89)"
             ],
             [
              0.3764705882352941,
              "rgb(150,27,91)"
             ],
             [
              0.4392156862745098,
              "rgb(177,22,88)"
             ],
             [
              0.5019607843137255,
              "rgb(203,26,79)"
             ],
             [
              0.5647058823529412,
              "rgb(223,47,67)"
             ],
             [
              0.6274509803921569,
              "rgb(236,76,61)"
             ],
             [
              0.6901960784313725,
              "rgb(242,107,73)"
             ],
             [
              0.7529411764705882,
              "rgb(244,135,95)"
             ],
             [
              0.8156862745098039,
              "rgb(245,162,122)"
             ],
             [
              0.8784313725490196,
              "rgb(246,188,153)"
             ],
             [
              0.9411764705882353,
              "rgb(247,212,187)"
             ],
             [
              1,
              "rgb(250,234,220)"
             ]
            ],
            "type": "histogram2dcontour"
           }
          ],
          "mesh3d": [
           {
            "colorbar": {
             "outlinewidth": 0,
             "tickcolor": "rgb(36,36,36)",
             "ticklen": 8,
             "ticks": "outside",
             "tickwidth": 2
            },
            "type": "mesh3d"
           }
          ],
          "parcoords": [
           {
            "line": {
             "colorbar": {
              "outlinewidth": 0,
              "tickcolor": "rgb(36,36,36)",
              "ticklen": 8,
              "ticks": "outside",
              "tickwidth": 2
             }
            },
            "type": "parcoords"
           }
          ],
          "pie": [
           {
            "automargin": true,
            "type": "pie"
           }
          ],
          "scatter": [
           {
            "fillpattern": {
             "fillmode": "overlay",
             "size": 10,
             "solidity": 0.2
            },
            "type": "scatter"
           }
          ],
          "scatter3d": [
           {
            "line": {
             "colorbar": {
              "outlinewidth": 0,
              "tickcolor": "rgb(36,36,36)",
              "ticklen": 8,
              "ticks": "outside",
              "tickwidth": 2
             }
            },
            "marker": {
             "colorbar": {
              "outlinewidth": 0,
              "tickcolor": "rgb(36,36,36)",
              "ticklen": 8,
              "ticks": "outside",
              "tickwidth": 2
             }
            },
            "type": "scatter3d"
           }
          ],
          "scattercarpet": [
           {
            "marker": {
             "colorbar": {
              "outlinewidth": 0,
              "tickcolor": "rgb(36,36,36)",
              "ticklen": 8,
              "ticks": "outside",
              "tickwidth": 2
             }
            },
            "type": "scattercarpet"
           }
          ],
          "scattergeo": [
           {
            "marker": {
             "colorbar": {
              "outlinewidth": 0,
              "tickcolor": "rgb(36,36,36)",
              "ticklen": 8,
              "ticks": "outside",
              "tickwidth": 2
             }
            },
            "type": "scattergeo"
           }
          ],
          "scattergl": [
           {
            "marker": {
             "colorbar": {
              "outlinewidth": 0,
              "tickcolor": "rgb(36,36,36)",
              "ticklen": 8,
              "ticks": "outside",
              "tickwidth": 2
             }
            },
            "type": "scattergl"
           }
          ],
          "scattermapbox": [
           {
            "marker": {
             "colorbar": {
              "outlinewidth": 0,
              "tickcolor": "rgb(36,36,36)",
              "ticklen": 8,
              "ticks": "outside",
              "tickwidth": 2
             }
            },
            "type": "scattermapbox"
           }
          ],
          "scatterpolar": [
           {
            "marker": {
             "colorbar": {
              "outlinewidth": 0,
              "tickcolor": "rgb(36,36,36)",
              "ticklen": 8,
              "ticks": "outside",
              "tickwidth": 2
             }
            },
            "type": "scatterpolar"
           }
          ],
          "scatterpolargl": [
           {
            "marker": {
             "colorbar": {
              "outlinewidth": 0,
              "tickcolor": "rgb(36,36,36)",
              "ticklen": 8,
              "ticks": "outside",
              "tickwidth": 2
             }
            },
            "type": "scatterpolargl"
           }
          ],
          "scatterternary": [
           {
            "marker": {
             "colorbar": {
              "outlinewidth": 0,
              "tickcolor": "rgb(36,36,36)",
              "ticklen": 8,
              "ticks": "outside",
              "tickwidth": 2
             }
            },
            "type": "scatterternary"
           }
          ],
          "surface": [
           {
            "colorbar": {
             "outlinewidth": 0,
             "tickcolor": "rgb(36,36,36)",
             "ticklen": 8,
             "ticks": "outside",
             "tickwidth": 2
            },
            "colorscale": [
             [
              0,
              "rgb(2,4,25)"
             ],
             [
              0.06274509803921569,
              "rgb(24,15,41)"
             ],
             [
              0.12549019607843137,
              "rgb(47,23,57)"
             ],
             [
              0.18823529411764706,
              "rgb(71,28,72)"
             ],
             [
              0.25098039215686274,
              "rgb(97,30,82)"
             ],
             [
              0.3137254901960784,
              "rgb(123,30,89)"
             ],
             [
              0.3764705882352941,
              "rgb(150,27,91)"
             ],
             [
              0.4392156862745098,
              "rgb(177,22,88)"
             ],
             [
              0.5019607843137255,
              "rgb(203,26,79)"
             ],
             [
              0.5647058823529412,
              "rgb(223,47,67)"
             ],
             [
              0.6274509803921569,
              "rgb(236,76,61)"
             ],
             [
              0.6901960784313725,
              "rgb(242,107,73)"
             ],
             [
              0.7529411764705882,
              "rgb(244,135,95)"
             ],
             [
              0.8156862745098039,
              "rgb(245,162,122)"
             ],
             [
              0.8784313725490196,
              "rgb(246,188,153)"
             ],
             [
              0.9411764705882353,
              "rgb(247,212,187)"
             ],
             [
              1,
              "rgb(250,234,220)"
             ]
            ],
            "type": "surface"
           }
          ],
          "table": [
           {
            "cells": {
             "fill": {
              "color": "rgb(231,231,240)"
             },
             "line": {
              "color": "white"
             }
            },
            "header": {
             "fill": {
              "color": "rgb(183,183,191)"
             },
             "line": {
              "color": "white"
             }
            },
            "type": "table"
           }
          ]
         },
         "layout": {
          "annotationdefaults": {
           "arrowcolor": "rgb(67,103,167)"
          },
          "autotypenumbers": "strict",
          "coloraxis": {
           "colorbar": {
            "outlinewidth": 0,
            "tickcolor": "rgb(36,36,36)",
            "ticklen": 8,
            "ticks": "outside",
            "tickwidth": 2
           }
          },
          "colorscale": {
           "sequential": [
            [
             0,
             "rgb(2,4,25)"
            ],
            [
             0.06274509803921569,
             "rgb(24,15,41)"
            ],
            [
             0.12549019607843137,
             "rgb(47,23,57)"
            ],
            [
             0.18823529411764706,
             "rgb(71,28,72)"
            ],
            [
             0.25098039215686274,
             "rgb(97,30,82)"
            ],
            [
             0.3137254901960784,
             "rgb(123,30,89)"
            ],
            [
             0.3764705882352941,
             "rgb(150,27,91)"
            ],
            [
             0.4392156862745098,
             "rgb(177,22,88)"
            ],
            [
             0.5019607843137255,
             "rgb(203,26,79)"
            ],
            [
             0.5647058823529412,
             "rgb(223,47,67)"
            ],
            [
             0.6274509803921569,
             "rgb(236,76,61)"
            ],
            [
             0.6901960784313725,
             "rgb(242,107,73)"
            ],
            [
             0.7529411764705882,
             "rgb(244,135,95)"
            ],
            [
             0.8156862745098039,
             "rgb(245,162,122)"
            ],
            [
             0.8784313725490196,
             "rgb(246,188,153)"
            ],
            [
             0.9411764705882353,
             "rgb(247,212,187)"
            ],
            [
             1,
             "rgb(250,234,220)"
            ]
           ],
           "sequentialminus": [
            [
             0,
             "rgb(2,4,25)"
            ],
            [
             0.06274509803921569,
             "rgb(24,15,41)"
            ],
            [
             0.12549019607843137,
             "rgb(47,23,57)"
            ],
            [
             0.18823529411764706,
             "rgb(71,28,72)"
            ],
            [
             0.25098039215686274,
             "rgb(97,30,82)"
            ],
            [
             0.3137254901960784,
             "rgb(123,30,89)"
            ],
            [
             0.3764705882352941,
             "rgb(150,27,91)"
            ],
            [
             0.4392156862745098,
             "rgb(177,22,88)"
            ],
            [
             0.5019607843137255,
             "rgb(203,26,79)"
            ],
            [
             0.5647058823529412,
             "rgb(223,47,67)"
            ],
            [
             0.6274509803921569,
             "rgb(236,76,61)"
            ],
            [
             0.6901960784313725,
             "rgb(242,107,73)"
            ],
            [
             0.7529411764705882,
             "rgb(244,135,95)"
            ],
            [
             0.8156862745098039,
             "rgb(245,162,122)"
            ],
            [
             0.8784313725490196,
             "rgb(246,188,153)"
            ],
            [
             0.9411764705882353,
             "rgb(247,212,187)"
            ],
            [
             1,
             "rgb(250,234,220)"
            ]
           ]
          },
          "colorway": [
           "rgb(76,114,176)",
           "rgb(221,132,82)",
           "rgb(85,168,104)",
           "rgb(196,78,82)",
           "rgb(129,114,179)",
           "rgb(147,120,96)",
           "rgb(218,139,195)",
           "rgb(140,140,140)",
           "rgb(204,185,116)",
           "rgb(100,181,205)"
          ],
          "font": {
           "color": "rgb(36,36,36)"
          },
          "geo": {
           "bgcolor": "white",
           "lakecolor": "white",
           "landcolor": "rgb(234,234,242)",
           "showlakes": true,
           "showland": true,
           "subunitcolor": "white"
          },
          "hoverlabel": {
           "align": "left"
          },
          "hovermode": "closest",
          "paper_bgcolor": "white",
          "plot_bgcolor": "rgb(234,234,242)",
          "polar": {
           "angularaxis": {
            "gridcolor": "white",
            "linecolor": "white",
            "showgrid": true,
            "ticks": ""
           },
           "bgcolor": "rgb(234,234,242)",
           "radialaxis": {
            "gridcolor": "white",
            "linecolor": "white",
            "showgrid": true,
            "ticks": ""
           }
          },
          "scene": {
           "xaxis": {
            "backgroundcolor": "rgb(234,234,242)",
            "gridcolor": "white",
            "gridwidth": 2,
            "linecolor": "white",
            "showbackground": true,
            "showgrid": true,
            "ticks": "",
            "zerolinecolor": "white"
           },
           "yaxis": {
            "backgroundcolor": "rgb(234,234,242)",
            "gridcolor": "white",
            "gridwidth": 2,
            "linecolor": "white",
            "showbackground": true,
            "showgrid": true,
            "ticks": "",
            "zerolinecolor": "white"
           },
           "zaxis": {
            "backgroundcolor": "rgb(234,234,242)",
            "gridcolor": "white",
            "gridwidth": 2,
            "linecolor": "white",
            "showbackground": true,
            "showgrid": true,
            "ticks": "",
            "zerolinecolor": "white"
           }
          },
          "shapedefaults": {
           "fillcolor": "rgb(67,103,167)",
           "line": {
            "width": 0
           },
           "opacity": 0.5
          },
          "ternary": {
           "aaxis": {
            "gridcolor": "white",
            "linecolor": "white",
            "showgrid": true,
            "ticks": ""
           },
           "baxis": {
            "gridcolor": "white",
            "linecolor": "white",
            "showgrid": true,
            "ticks": ""
           },
           "bgcolor": "rgb(234,234,242)",
           "caxis": {
            "gridcolor": "white",
            "linecolor": "white",
            "showgrid": true,
            "ticks": ""
           }
          },
          "xaxis": {
           "automargin": true,
           "gridcolor": "white",
           "linecolor": "white",
           "showgrid": true,
           "ticks": "",
           "title": {
            "standoff": 15
           },
           "zerolinecolor": "white"
          },
          "yaxis": {
           "automargin": true,
           "gridcolor": "white",
           "linecolor": "white",
           "showgrid": true,
           "ticks": "",
           "title": {
            "standoff": 15
           },
           "zerolinecolor": "white"
          }
         }
        },
        "width": 400,
        "xaxis": {
         "anchor": "y",
         "constrain": "domain",
         "domain": [
          0,
          1
         ],
         "scaleanchor": "y",
         "title": {
          "text": "Predicted Label"
         }
        },
        "yaxis": {
         "anchor": "x",
         "autorange": "reversed",
         "constrain": "domain",
         "domain": [
          0,
          1
         ],
         "title": {
          "text": "Real Label"
         }
        }
       }
      }
     },
     "metadata": {},
     "output_type": "display_data"
    },
    {
     "name": "stdout",
     "output_type": "stream",
     "text": [
      "FALSE POSITVES\n",
      "Empty DataFrame\n",
      "Columns: [event_idx, Pred probability, Pred label, True label, Result]\n",
      "Index: []\n",
      "\n",
      "FALSE NEGATIVES\n",
      "    event_idx  Pred probability  Pred label  True label Result\n",
      "66          2            33.70%           0           1     FN\n",
      "67          2            43.27%           0           1     FN\n"
     ]
    }
   ],
   "source": [
    "# Create signal_df\n",
    "event_idx = 2\n",
    "print(dataset.csv_list[event_idx])\n",
    "sample_df, conf_matrix = signal_exploration(event_idx, dataset, model)\n",
    "metrics = conf_matrix_metrics(conf_matrix)\n",
    "print(f\"Confusion Matrix: {conf_matrix}\")\n",
    "print(sample_df)\n",
    "plot_confusion_matrix(metrics)\n",
    "false_positive = sample_df.query('Result == \"FP\"')\n",
    "false_negative = sample_df.query('Result == \"FN\"')\n",
    "# sample_df = pd.concat([sample_df, sample_df])\n",
    "print(\"FALSE POSITVES\")\n",
    "print(false_positive)\n",
    "print(\"\")\n",
    "print(\"FALSE NEGATIVES\")\n",
    "print(false_negative)"
   ]
  },
  {
   "cell_type": "code",
   "execution_count": 24,
   "metadata": {},
   "outputs": [
    {
     "data": {
      "application/vnd.plotly.v1+json": {
       "config": {
        "plotlyServerURL": "https://plot.ly"
       },
       "data": [
        {
         "hovertemplate": "time=%{x}<br>Amplitude=%{y}<extra></extra>",
         "legendgroup": "",
         "line": {
          "color": "#636efa",
          "dash": "solid"
         },
         "marker": {
          "symbol": "circle"
         },
         "mode": "lines",
         "name": "",
         "orientation": "v",
         "showlegend": false,
         "type": "scatter",
         "x": [
          0.02604,
          0.0263004,
          0.0265608,
          0.0268212,
          0.0270816,
          0.027342,
          0.0276024,
          0.0278628,
          0.0281232,
          0.0283836,
          0.028644,
          0.0289044,
          0.0291648,
          0.0294252,
          0.0296856,
          0.029946,
          0.0302064,
          0.0304668,
          0.0307272,
          0.0309876,
          0.031248,
          0.0315084,
          0.0317688,
          0.0320292,
          0.0322896,
          0.03255,
          0.0328104,
          0.0330708,
          0.0333312,
          0.0335916,
          0.033852,
          0.0341124,
          0.0343728,
          0.0346332,
          0.0348936,
          0.035154,
          0.0354144,
          0.0356748,
          0.0359352,
          0.0361956,
          0.036456,
          0.0367164,
          0.0369768,
          0.0372372,
          0.0374976,
          0.037758,
          0.0380184,
          0.0382788,
          0.0385392,
          0.0387996,
          0.03906,
          0.0393204,
          0.0395808,
          0.0398412,
          0.0401016,
          0.040362,
          0.0406224,
          0.0408828,
          0.0411432,
          0.0414036,
          0.041664,
          0.0419244,
          0.0421848,
          0.0424452
         ],
         "xaxis": "x",
         "y": [
          25.662569046020508,
          26.43268585205078,
          26.774669647216797,
          26.958065032958984,
          26.805871963500977,
          26.443105697631836,
          25.753557205200195,
          24.966304779052734,
          23.8731632232666,
          22.520252227783203,
          20.90914535522461,
          19.150047302246094,
          17.245880126953125,
          15.174514770507812,
          12.786008834838867,
          10.452092170715332,
          7.967663288116455,
          5.400705814361572,
          2.8507168292999268,
          0.2424357831478119,
          -2.43843412399292,
          -5.02109432220459,
          -7.587167263031006,
          -10.043498039245605,
          -12.457942008972168,
          -14.76500415802002,
          -16.93277931213379,
          -18.840898513793945,
          -20.723960876464844,
          -0.4982375502586365,
          -13.738641738891602,
          -18.36781883239746,
          -22.18328285217285,
          -19.092817306518555,
          -5.924092769622803,
          -22.32826805114746,
          -19.790225982666016,
          -24.24036979675293,
          -23.016267776489258,
          -21.257780075073242,
          -20.200340270996094,
          -24.575525283813477,
          -20.937482833862305,
          -22.688745498657227,
          -22.125200271606445,
          -20.978256225585938,
          -17.99652099609375,
          -17.912925720214844,
          -14.421278953552246,
          -14.653402328491211,
          -11.606249809265137,
          -8.683683395385742,
          -7.662775993347168,
          -5.809108257293701,
          -1.9101842641830444,
          -1.5196895599365234,
          1.7518141269683838,
          3.6645264625549316,
          5.840746879577637,
          8.895840644836426,
          9.663456916809082,
          11.755148887634277,
          14.301959991455078,
          15.421490669250488
         ],
         "yaxis": "y"
        }
       ],
       "layout": {
        "height": 400,
        "legend": {
         "tracegroupgap": 0
        },
        "margin": {
         "t": 60
        },
        "template": {
         "data": {
          "bar": [
           {
            "error_x": {
             "color": "#2a3f5f"
            },
            "error_y": {
             "color": "#2a3f5f"
            },
            "marker": {
             "line": {
              "color": "#E5ECF6",
              "width": 0.5
             },
             "pattern": {
              "fillmode": "overlay",
              "size": 10,
              "solidity": 0.2
             }
            },
            "type": "bar"
           }
          ],
          "barpolar": [
           {
            "marker": {
             "line": {
              "color": "#E5ECF6",
              "width": 0.5
             },
             "pattern": {
              "fillmode": "overlay",
              "size": 10,
              "solidity": 0.2
             }
            },
            "type": "barpolar"
           }
          ],
          "carpet": [
           {
            "aaxis": {
             "endlinecolor": "#2a3f5f",
             "gridcolor": "white",
             "linecolor": "white",
             "minorgridcolor": "white",
             "startlinecolor": "#2a3f5f"
            },
            "baxis": {
             "endlinecolor": "#2a3f5f",
             "gridcolor": "white",
             "linecolor": "white",
             "minorgridcolor": "white",
             "startlinecolor": "#2a3f5f"
            },
            "type": "carpet"
           }
          ],
          "choropleth": [
           {
            "colorbar": {
             "outlinewidth": 0,
             "ticks": ""
            },
            "type": "choropleth"
           }
          ],
          "contour": [
           {
            "colorbar": {
             "outlinewidth": 0,
             "ticks": ""
            },
            "colorscale": [
             [
              0,
              "#0d0887"
             ],
             [
              0.1111111111111111,
              "#46039f"
             ],
             [
              0.2222222222222222,
              "#7201a8"
             ],
             [
              0.3333333333333333,
              "#9c179e"
             ],
             [
              0.4444444444444444,
              "#bd3786"
             ],
             [
              0.5555555555555556,
              "#d8576b"
             ],
             [
              0.6666666666666666,
              "#ed7953"
             ],
             [
              0.7777777777777778,
              "#fb9f3a"
             ],
             [
              0.8888888888888888,
              "#fdca26"
             ],
             [
              1,
              "#f0f921"
             ]
            ],
            "type": "contour"
           }
          ],
          "contourcarpet": [
           {
            "colorbar": {
             "outlinewidth": 0,
             "ticks": ""
            },
            "type": "contourcarpet"
           }
          ],
          "heatmap": [
           {
            "colorbar": {
             "outlinewidth": 0,
             "ticks": ""
            },
            "colorscale": [
             [
              0,
              "#0d0887"
             ],
             [
              0.1111111111111111,
              "#46039f"
             ],
             [
              0.2222222222222222,
              "#7201a8"
             ],
             [
              0.3333333333333333,
              "#9c179e"
             ],
             [
              0.4444444444444444,
              "#bd3786"
             ],
             [
              0.5555555555555556,
              "#d8576b"
             ],
             [
              0.6666666666666666,
              "#ed7953"
             ],
             [
              0.7777777777777778,
              "#fb9f3a"
             ],
             [
              0.8888888888888888,
              "#fdca26"
             ],
             [
              1,
              "#f0f921"
             ]
            ],
            "type": "heatmap"
           }
          ],
          "heatmapgl": [
           {
            "colorbar": {
             "outlinewidth": 0,
             "ticks": ""
            },
            "colorscale": [
             [
              0,
              "#0d0887"
             ],
             [
              0.1111111111111111,
              "#46039f"
             ],
             [
              0.2222222222222222,
              "#7201a8"
             ],
             [
              0.3333333333333333,
              "#9c179e"
             ],
             [
              0.4444444444444444,
              "#bd3786"
             ],
             [
              0.5555555555555556,
              "#d8576b"
             ],
             [
              0.6666666666666666,
              "#ed7953"
             ],
             [
              0.7777777777777778,
              "#fb9f3a"
             ],
             [
              0.8888888888888888,
              "#fdca26"
             ],
             [
              1,
              "#f0f921"
             ]
            ],
            "type": "heatmapgl"
           }
          ],
          "histogram": [
           {
            "marker": {
             "pattern": {
              "fillmode": "overlay",
              "size": 10,
              "solidity": 0.2
             }
            },
            "type": "histogram"
           }
          ],
          "histogram2d": [
           {
            "colorbar": {
             "outlinewidth": 0,
             "ticks": ""
            },
            "colorscale": [
             [
              0,
              "#0d0887"
             ],
             [
              0.1111111111111111,
              "#46039f"
             ],
             [
              0.2222222222222222,
              "#7201a8"
             ],
             [
              0.3333333333333333,
              "#9c179e"
             ],
             [
              0.4444444444444444,
              "#bd3786"
             ],
             [
              0.5555555555555556,
              "#d8576b"
             ],
             [
              0.6666666666666666,
              "#ed7953"
             ],
             [
              0.7777777777777778,
              "#fb9f3a"
             ],
             [
              0.8888888888888888,
              "#fdca26"
             ],
             [
              1,
              "#f0f921"
             ]
            ],
            "type": "histogram2d"
           }
          ],
          "histogram2dcontour": [
           {
            "colorbar": {
             "outlinewidth": 0,
             "ticks": ""
            },
            "colorscale": [
             [
              0,
              "#0d0887"
             ],
             [
              0.1111111111111111,
              "#46039f"
             ],
             [
              0.2222222222222222,
              "#7201a8"
             ],
             [
              0.3333333333333333,
              "#9c179e"
             ],
             [
              0.4444444444444444,
              "#bd3786"
             ],
             [
              0.5555555555555556,
              "#d8576b"
             ],
             [
              0.6666666666666666,
              "#ed7953"
             ],
             [
              0.7777777777777778,
              "#fb9f3a"
             ],
             [
              0.8888888888888888,
              "#fdca26"
             ],
             [
              1,
              "#f0f921"
             ]
            ],
            "type": "histogram2dcontour"
           }
          ],
          "mesh3d": [
           {
            "colorbar": {
             "outlinewidth": 0,
             "ticks": ""
            },
            "type": "mesh3d"
           }
          ],
          "parcoords": [
           {
            "line": {
             "colorbar": {
              "outlinewidth": 0,
              "ticks": ""
             }
            },
            "type": "parcoords"
           }
          ],
          "pie": [
           {
            "automargin": true,
            "type": "pie"
           }
          ],
          "scatter": [
           {
            "fillpattern": {
             "fillmode": "overlay",
             "size": 10,
             "solidity": 0.2
            },
            "type": "scatter"
           }
          ],
          "scatter3d": [
           {
            "line": {
             "colorbar": {
              "outlinewidth": 0,
              "ticks": ""
             }
            },
            "marker": {
             "colorbar": {
              "outlinewidth": 0,
              "ticks": ""
             }
            },
            "type": "scatter3d"
           }
          ],
          "scattercarpet": [
           {
            "marker": {
             "colorbar": {
              "outlinewidth": 0,
              "ticks": ""
             }
            },
            "type": "scattercarpet"
           }
          ],
          "scattergeo": [
           {
            "marker": {
             "colorbar": {
              "outlinewidth": 0,
              "ticks": ""
             }
            },
            "type": "scattergeo"
           }
          ],
          "scattergl": [
           {
            "marker": {
             "colorbar": {
              "outlinewidth": 0,
              "ticks": ""
             }
            },
            "type": "scattergl"
           }
          ],
          "scattermapbox": [
           {
            "marker": {
             "colorbar": {
              "outlinewidth": 0,
              "ticks": ""
             }
            },
            "type": "scattermapbox"
           }
          ],
          "scatterpolar": [
           {
            "marker": {
             "colorbar": {
              "outlinewidth": 0,
              "ticks": ""
             }
            },
            "type": "scatterpolar"
           }
          ],
          "scatterpolargl": [
           {
            "marker": {
             "colorbar": {
              "outlinewidth": 0,
              "ticks": ""
             }
            },
            "type": "scatterpolargl"
           }
          ],
          "scatterternary": [
           {
            "marker": {
             "colorbar": {
              "outlinewidth": 0,
              "ticks": ""
             }
            },
            "type": "scatterternary"
           }
          ],
          "surface": [
           {
            "colorbar": {
             "outlinewidth": 0,
             "ticks": ""
            },
            "colorscale": [
             [
              0,
              "#0d0887"
             ],
             [
              0.1111111111111111,
              "#46039f"
             ],
             [
              0.2222222222222222,
              "#7201a8"
             ],
             [
              0.3333333333333333,
              "#9c179e"
             ],
             [
              0.4444444444444444,
              "#bd3786"
             ],
             [
              0.5555555555555556,
              "#d8576b"
             ],
             [
              0.6666666666666666,
              "#ed7953"
             ],
             [
              0.7777777777777778,
              "#fb9f3a"
             ],
             [
              0.8888888888888888,
              "#fdca26"
             ],
             [
              1,
              "#f0f921"
             ]
            ],
            "type": "surface"
           }
          ],
          "table": [
           {
            "cells": {
             "fill": {
              "color": "#EBF0F8"
             },
             "line": {
              "color": "white"
             }
            },
            "header": {
             "fill": {
              "color": "#C8D4E3"
             },
             "line": {
              "color": "white"
             }
            },
            "type": "table"
           }
          ]
         },
         "layout": {
          "annotationdefaults": {
           "arrowcolor": "#2a3f5f",
           "arrowhead": 0,
           "arrowwidth": 1
          },
          "autotypenumbers": "strict",
          "coloraxis": {
           "colorbar": {
            "outlinewidth": 0,
            "ticks": ""
           }
          },
          "colorscale": {
           "diverging": [
            [
             0,
             "#8e0152"
            ],
            [
             0.1,
             "#c51b7d"
            ],
            [
             0.2,
             "#de77ae"
            ],
            [
             0.3,
             "#f1b6da"
            ],
            [
             0.4,
             "#fde0ef"
            ],
            [
             0.5,
             "#f7f7f7"
            ],
            [
             0.6,
             "#e6f5d0"
            ],
            [
             0.7,
             "#b8e186"
            ],
            [
             0.8,
             "#7fbc41"
            ],
            [
             0.9,
             "#4d9221"
            ],
            [
             1,
             "#276419"
            ]
           ],
           "sequential": [
            [
             0,
             "#0d0887"
            ],
            [
             0.1111111111111111,
             "#46039f"
            ],
            [
             0.2222222222222222,
             "#7201a8"
            ],
            [
             0.3333333333333333,
             "#9c179e"
            ],
            [
             0.4444444444444444,
             "#bd3786"
            ],
            [
             0.5555555555555556,
             "#d8576b"
            ],
            [
             0.6666666666666666,
             "#ed7953"
            ],
            [
             0.7777777777777778,
             "#fb9f3a"
            ],
            [
             0.8888888888888888,
             "#fdca26"
            ],
            [
             1,
             "#f0f921"
            ]
           ],
           "sequentialminus": [
            [
             0,
             "#0d0887"
            ],
            [
             0.1111111111111111,
             "#46039f"
            ],
            [
             0.2222222222222222,
             "#7201a8"
            ],
            [
             0.3333333333333333,
             "#9c179e"
            ],
            [
             0.4444444444444444,
             "#bd3786"
            ],
            [
             0.5555555555555556,
             "#d8576b"
            ],
            [
             0.6666666666666666,
             "#ed7953"
            ],
            [
             0.7777777777777778,
             "#fb9f3a"
            ],
            [
             0.8888888888888888,
             "#fdca26"
            ],
            [
             1,
             "#f0f921"
            ]
           ]
          },
          "colorway": [
           "#636efa",
           "#EF553B",
           "#00cc96",
           "#ab63fa",
           "#FFA15A",
           "#19d3f3",
           "#FF6692",
           "#B6E880",
           "#FF97FF",
           "#FECB52"
          ],
          "font": {
           "color": "#2a3f5f"
          },
          "geo": {
           "bgcolor": "white",
           "lakecolor": "white",
           "landcolor": "#E5ECF6",
           "showlakes": true,
           "showland": true,
           "subunitcolor": "white"
          },
          "hoverlabel": {
           "align": "left"
          },
          "hovermode": "closest",
          "mapbox": {
           "style": "light"
          },
          "paper_bgcolor": "white",
          "plot_bgcolor": "#E5ECF6",
          "polar": {
           "angularaxis": {
            "gridcolor": "white",
            "linecolor": "white",
            "ticks": ""
           },
           "bgcolor": "#E5ECF6",
           "radialaxis": {
            "gridcolor": "white",
            "linecolor": "white",
            "ticks": ""
           }
          },
          "scene": {
           "xaxis": {
            "backgroundcolor": "#E5ECF6",
            "gridcolor": "white",
            "gridwidth": 2,
            "linecolor": "white",
            "showbackground": true,
            "ticks": "",
            "zerolinecolor": "white"
           },
           "yaxis": {
            "backgroundcolor": "#E5ECF6",
            "gridcolor": "white",
            "gridwidth": 2,
            "linecolor": "white",
            "showbackground": true,
            "ticks": "",
            "zerolinecolor": "white"
           },
           "zaxis": {
            "backgroundcolor": "#E5ECF6",
            "gridcolor": "white",
            "gridwidth": 2,
            "linecolor": "white",
            "showbackground": true,
            "ticks": "",
            "zerolinecolor": "white"
           }
          },
          "shapedefaults": {
           "line": {
            "color": "#2a3f5f"
           }
          },
          "ternary": {
           "aaxis": {
            "gridcolor": "white",
            "linecolor": "white",
            "ticks": ""
           },
           "baxis": {
            "gridcolor": "white",
            "linecolor": "white",
            "ticks": ""
           },
           "bgcolor": "#E5ECF6",
           "caxis": {
            "gridcolor": "white",
            "linecolor": "white",
            "ticks": ""
           }
          },
          "title": {
           "x": 0.05
          },
          "xaxis": {
           "automargin": true,
           "gridcolor": "white",
           "linecolor": "white",
           "ticks": "",
           "title": {
            "standoff": 15
           },
           "zerolinecolor": "white",
           "zerolinewidth": 2
          },
          "yaxis": {
           "automargin": true,
           "gridcolor": "white",
           "linecolor": "white",
           "ticks": "",
           "title": {
            "standoff": 15
           },
           "zerolinecolor": "white",
           "zerolinewidth": 2
          }
         }
        },
        "width": 600,
        "xaxis": {
         "anchor": "y",
         "domain": [
          0,
          1
         ],
         "title": {
          "text": "time"
         }
        },
        "yaxis": {
         "anchor": "x",
         "domain": [
          0,
          1
         ],
         "title": {
          "text": "Amplitude"
         }
        }
       }
      }
     },
     "metadata": {},
     "output_type": "display_data"
    },
    {
     "data": {
      "application/vnd.plotly.v1+json": {
       "config": {
        "plotlyServerURL": "https://plot.ly"
       },
       "data": [
        {
         "hovertemplate": "Window=%{x}<br>Trip Signal=%{y}<extra></extra>",
         "legendgroup": "",
         "line": {
          "color": "#636efa",
          "dash": "solid",
          "shape": "hv"
         },
         "marker": {
          "symbol": "circle"
         },
         "mode": "lines",
         "name": "",
         "orientation": "v",
         "showlegend": false,
         "type": "scatter",
         "x": [
          0,
          1,
          2,
          3,
          4,
          5,
          6,
          7,
          8,
          9,
          10,
          11,
          12,
          13,
          14,
          15,
          16,
          17,
          18,
          19,
          20,
          21,
          22,
          23,
          24,
          25,
          26,
          27,
          28,
          29,
          30,
          31,
          32,
          33,
          34,
          35,
          36,
          37,
          38,
          39,
          40,
          41,
          42,
          43,
          44,
          45,
          46,
          47,
          48,
          49,
          50,
          51,
          52,
          53,
          54,
          55,
          56,
          57,
          58,
          59,
          60,
          61,
          62,
          63,
          64,
          65,
          66,
          67,
          68,
          69,
          70,
          71,
          72,
          73,
          74,
          75,
          76,
          77,
          78,
          79,
          80,
          81,
          82,
          83,
          84,
          85,
          86,
          87,
          88,
          89,
          90,
          91,
          92,
          93,
          94,
          95,
          96,
          97,
          98,
          99,
          100,
          101,
          102,
          103,
          104,
          105,
          106,
          107,
          108,
          109,
          110,
          111,
          112,
          113,
          114,
          115,
          116,
          117,
          118,
          119,
          120,
          121,
          122,
          123,
          124,
          125,
          126,
          127,
          128,
          129
         ],
         "xaxis": "x",
         "y": [
          0,
          0,
          0,
          0,
          0,
          0,
          0,
          0,
          0,
          0,
          0,
          0,
          0,
          0,
          0,
          0,
          0,
          0,
          0,
          0,
          0,
          0,
          0,
          0,
          0,
          0,
          0,
          0,
          0,
          0,
          0,
          0,
          0,
          0,
          0,
          0,
          0,
          0,
          0,
          0,
          0,
          0,
          0,
          0,
          0,
          0,
          0,
          0,
          0,
          0,
          0,
          0,
          0,
          0,
          0,
          0,
          0,
          0,
          0,
          0,
          0,
          0,
          0,
          0,
          0,
          0,
          0,
          0,
          1,
          1,
          1,
          1,
          1,
          1,
          1,
          1,
          1,
          1,
          1,
          1,
          1,
          1,
          1,
          1,
          1,
          1,
          1,
          1,
          1,
          1,
          1,
          1,
          1,
          1,
          1,
          1,
          1,
          1,
          1,
          1,
          1,
          1,
          1,
          1,
          1,
          1,
          1,
          1,
          1,
          1,
          1,
          1,
          1,
          1,
          1,
          1,
          1,
          1,
          1,
          1,
          1,
          1,
          1,
          1,
          1,
          1,
          1,
          1,
          1,
          1
         ],
         "yaxis": "y"
        }
       ],
       "layout": {
        "height": 400,
        "legend": {
         "tracegroupgap": 0
        },
        "margin": {
         "t": 60
        },
        "template": {
         "data": {
          "bar": [
           {
            "error_x": {
             "color": "#2a3f5f"
            },
            "error_y": {
             "color": "#2a3f5f"
            },
            "marker": {
             "line": {
              "color": "#E5ECF6",
              "width": 0.5
             },
             "pattern": {
              "fillmode": "overlay",
              "size": 10,
              "solidity": 0.2
             }
            },
            "type": "bar"
           }
          ],
          "barpolar": [
           {
            "marker": {
             "line": {
              "color": "#E5ECF6",
              "width": 0.5
             },
             "pattern": {
              "fillmode": "overlay",
              "size": 10,
              "solidity": 0.2
             }
            },
            "type": "barpolar"
           }
          ],
          "carpet": [
           {
            "aaxis": {
             "endlinecolor": "#2a3f5f",
             "gridcolor": "white",
             "linecolor": "white",
             "minorgridcolor": "white",
             "startlinecolor": "#2a3f5f"
            },
            "baxis": {
             "endlinecolor": "#2a3f5f",
             "gridcolor": "white",
             "linecolor": "white",
             "minorgridcolor": "white",
             "startlinecolor": "#2a3f5f"
            },
            "type": "carpet"
           }
          ],
          "choropleth": [
           {
            "colorbar": {
             "outlinewidth": 0,
             "ticks": ""
            },
            "type": "choropleth"
           }
          ],
          "contour": [
           {
            "colorbar": {
             "outlinewidth": 0,
             "ticks": ""
            },
            "colorscale": [
             [
              0,
              "#0d0887"
             ],
             [
              0.1111111111111111,
              "#46039f"
             ],
             [
              0.2222222222222222,
              "#7201a8"
             ],
             [
              0.3333333333333333,
              "#9c179e"
             ],
             [
              0.4444444444444444,
              "#bd3786"
             ],
             [
              0.5555555555555556,
              "#d8576b"
             ],
             [
              0.6666666666666666,
              "#ed7953"
             ],
             [
              0.7777777777777778,
              "#fb9f3a"
             ],
             [
              0.8888888888888888,
              "#fdca26"
             ],
             [
              1,
              "#f0f921"
             ]
            ],
            "type": "contour"
           }
          ],
          "contourcarpet": [
           {
            "colorbar": {
             "outlinewidth": 0,
             "ticks": ""
            },
            "type": "contourcarpet"
           }
          ],
          "heatmap": [
           {
            "colorbar": {
             "outlinewidth": 0,
             "ticks": ""
            },
            "colorscale": [
             [
              0,
              "#0d0887"
             ],
             [
              0.1111111111111111,
              "#46039f"
             ],
             [
              0.2222222222222222,
              "#7201a8"
             ],
             [
              0.3333333333333333,
              "#9c179e"
             ],
             [
              0.4444444444444444,
              "#bd3786"
             ],
             [
              0.5555555555555556,
              "#d8576b"
             ],
             [
              0.6666666666666666,
              "#ed7953"
             ],
             [
              0.7777777777777778,
              "#fb9f3a"
             ],
             [
              0.8888888888888888,
              "#fdca26"
             ],
             [
              1,
              "#f0f921"
             ]
            ],
            "type": "heatmap"
           }
          ],
          "heatmapgl": [
           {
            "colorbar": {
             "outlinewidth": 0,
             "ticks": ""
            },
            "colorscale": [
             [
              0,
              "#0d0887"
             ],
             [
              0.1111111111111111,
              "#46039f"
             ],
             [
              0.2222222222222222,
              "#7201a8"
             ],
             [
              0.3333333333333333,
              "#9c179e"
             ],
             [
              0.4444444444444444,
              "#bd3786"
             ],
             [
              0.5555555555555556,
              "#d8576b"
             ],
             [
              0.6666666666666666,
              "#ed7953"
             ],
             [
              0.7777777777777778,
              "#fb9f3a"
             ],
             [
              0.8888888888888888,
              "#fdca26"
             ],
             [
              1,
              "#f0f921"
             ]
            ],
            "type": "heatmapgl"
           }
          ],
          "histogram": [
           {
            "marker": {
             "pattern": {
              "fillmode": "overlay",
              "size": 10,
              "solidity": 0.2
             }
            },
            "type": "histogram"
           }
          ],
          "histogram2d": [
           {
            "colorbar": {
             "outlinewidth": 0,
             "ticks": ""
            },
            "colorscale": [
             [
              0,
              "#0d0887"
             ],
             [
              0.1111111111111111,
              "#46039f"
             ],
             [
              0.2222222222222222,
              "#7201a8"
             ],
             [
              0.3333333333333333,
              "#9c179e"
             ],
             [
              0.4444444444444444,
              "#bd3786"
             ],
             [
              0.5555555555555556,
              "#d8576b"
             ],
             [
              0.6666666666666666,
              "#ed7953"
             ],
             [
              0.7777777777777778,
              "#fb9f3a"
             ],
             [
              0.8888888888888888,
              "#fdca26"
             ],
             [
              1,
              "#f0f921"
             ]
            ],
            "type": "histogram2d"
           }
          ],
          "histogram2dcontour": [
           {
            "colorbar": {
             "outlinewidth": 0,
             "ticks": ""
            },
            "colorscale": [
             [
              0,
              "#0d0887"
             ],
             [
              0.1111111111111111,
              "#46039f"
             ],
             [
              0.2222222222222222,
              "#7201a8"
             ],
             [
              0.3333333333333333,
              "#9c179e"
             ],
             [
              0.4444444444444444,
              "#bd3786"
             ],
             [
              0.5555555555555556,
              "#d8576b"
             ],
             [
              0.6666666666666666,
              "#ed7953"
             ],
             [
              0.7777777777777778,
              "#fb9f3a"
             ],
             [
              0.8888888888888888,
              "#fdca26"
             ],
             [
              1,
              "#f0f921"
             ]
            ],
            "type": "histogram2dcontour"
           }
          ],
          "mesh3d": [
           {
            "colorbar": {
             "outlinewidth": 0,
             "ticks": ""
            },
            "type": "mesh3d"
           }
          ],
          "parcoords": [
           {
            "line": {
             "colorbar": {
              "outlinewidth": 0,
              "ticks": ""
             }
            },
            "type": "parcoords"
           }
          ],
          "pie": [
           {
            "automargin": true,
            "type": "pie"
           }
          ],
          "scatter": [
           {
            "fillpattern": {
             "fillmode": "overlay",
             "size": 10,
             "solidity": 0.2
            },
            "type": "scatter"
           }
          ],
          "scatter3d": [
           {
            "line": {
             "colorbar": {
              "outlinewidth": 0,
              "ticks": ""
             }
            },
            "marker": {
             "colorbar": {
              "outlinewidth": 0,
              "ticks": ""
             }
            },
            "type": "scatter3d"
           }
          ],
          "scattercarpet": [
           {
            "marker": {
             "colorbar": {
              "outlinewidth": 0,
              "ticks": ""
             }
            },
            "type": "scattercarpet"
           }
          ],
          "scattergeo": [
           {
            "marker": {
             "colorbar": {
              "outlinewidth": 0,
              "ticks": ""
             }
            },
            "type": "scattergeo"
           }
          ],
          "scattergl": [
           {
            "marker": {
             "colorbar": {
              "outlinewidth": 0,
              "ticks": ""
             }
            },
            "type": "scattergl"
           }
          ],
          "scattermapbox": [
           {
            "marker": {
             "colorbar": {
              "outlinewidth": 0,
              "ticks": ""
             }
            },
            "type": "scattermapbox"
           }
          ],
          "scatterpolar": [
           {
            "marker": {
             "colorbar": {
              "outlinewidth": 0,
              "ticks": ""
             }
            },
            "type": "scatterpolar"
           }
          ],
          "scatterpolargl": [
           {
            "marker": {
             "colorbar": {
              "outlinewidth": 0,
              "ticks": ""
             }
            },
            "type": "scatterpolargl"
           }
          ],
          "scatterternary": [
           {
            "marker": {
             "colorbar": {
              "outlinewidth": 0,
              "ticks": ""
             }
            },
            "type": "scatterternary"
           }
          ],
          "surface": [
           {
            "colorbar": {
             "outlinewidth": 0,
             "ticks": ""
            },
            "colorscale": [
             [
              0,
              "#0d0887"
             ],
             [
              0.1111111111111111,
              "#46039f"
             ],
             [
              0.2222222222222222,
              "#7201a8"
             ],
             [
              0.3333333333333333,
              "#9c179e"
             ],
             [
              0.4444444444444444,
              "#bd3786"
             ],
             [
              0.5555555555555556,
              "#d8576b"
             ],
             [
              0.6666666666666666,
              "#ed7953"
             ],
             [
              0.7777777777777778,
              "#fb9f3a"
             ],
             [
              0.8888888888888888,
              "#fdca26"
             ],
             [
              1,
              "#f0f921"
             ]
            ],
            "type": "surface"
           }
          ],
          "table": [
           {
            "cells": {
             "fill": {
              "color": "#EBF0F8"
             },
             "line": {
              "color": "white"
             }
            },
            "header": {
             "fill": {
              "color": "#C8D4E3"
             },
             "line": {
              "color": "white"
             }
            },
            "type": "table"
           }
          ]
         },
         "layout": {
          "annotationdefaults": {
           "arrowcolor": "#2a3f5f",
           "arrowhead": 0,
           "arrowwidth": 1
          },
          "autotypenumbers": "strict",
          "coloraxis": {
           "colorbar": {
            "outlinewidth": 0,
            "ticks": ""
           }
          },
          "colorscale": {
           "diverging": [
            [
             0,
             "#8e0152"
            ],
            [
             0.1,
             "#c51b7d"
            ],
            [
             0.2,
             "#de77ae"
            ],
            [
             0.3,
             "#f1b6da"
            ],
            [
             0.4,
             "#fde0ef"
            ],
            [
             0.5,
             "#f7f7f7"
            ],
            [
             0.6,
             "#e6f5d0"
            ],
            [
             0.7,
             "#b8e186"
            ],
            [
             0.8,
             "#7fbc41"
            ],
            [
             0.9,
             "#4d9221"
            ],
            [
             1,
             "#276419"
            ]
           ],
           "sequential": [
            [
             0,
             "#0d0887"
            ],
            [
             0.1111111111111111,
             "#46039f"
            ],
            [
             0.2222222222222222,
             "#7201a8"
            ],
            [
             0.3333333333333333,
             "#9c179e"
            ],
            [
             0.4444444444444444,
             "#bd3786"
            ],
            [
             0.5555555555555556,
             "#d8576b"
            ],
            [
             0.6666666666666666,
             "#ed7953"
            ],
            [
             0.7777777777777778,
             "#fb9f3a"
            ],
            [
             0.8888888888888888,
             "#fdca26"
            ],
            [
             1,
             "#f0f921"
            ]
           ],
           "sequentialminus": [
            [
             0,
             "#0d0887"
            ],
            [
             0.1111111111111111,
             "#46039f"
            ],
            [
             0.2222222222222222,
             "#7201a8"
            ],
            [
             0.3333333333333333,
             "#9c179e"
            ],
            [
             0.4444444444444444,
             "#bd3786"
            ],
            [
             0.5555555555555556,
             "#d8576b"
            ],
            [
             0.6666666666666666,
             "#ed7953"
            ],
            [
             0.7777777777777778,
             "#fb9f3a"
            ],
            [
             0.8888888888888888,
             "#fdca26"
            ],
            [
             1,
             "#f0f921"
            ]
           ]
          },
          "colorway": [
           "#636efa",
           "#EF553B",
           "#00cc96",
           "#ab63fa",
           "#FFA15A",
           "#19d3f3",
           "#FF6692",
           "#B6E880",
           "#FF97FF",
           "#FECB52"
          ],
          "font": {
           "color": "#2a3f5f"
          },
          "geo": {
           "bgcolor": "white",
           "lakecolor": "white",
           "landcolor": "#E5ECF6",
           "showlakes": true,
           "showland": true,
           "subunitcolor": "white"
          },
          "hoverlabel": {
           "align": "left"
          },
          "hovermode": "closest",
          "mapbox": {
           "style": "light"
          },
          "paper_bgcolor": "white",
          "plot_bgcolor": "#E5ECF6",
          "polar": {
           "angularaxis": {
            "gridcolor": "white",
            "linecolor": "white",
            "ticks": ""
           },
           "bgcolor": "#E5ECF6",
           "radialaxis": {
            "gridcolor": "white",
            "linecolor": "white",
            "ticks": ""
           }
          },
          "scene": {
           "xaxis": {
            "backgroundcolor": "#E5ECF6",
            "gridcolor": "white",
            "gridwidth": 2,
            "linecolor": "white",
            "showbackground": true,
            "ticks": "",
            "zerolinecolor": "white"
           },
           "yaxis": {
            "backgroundcolor": "#E5ECF6",
            "gridcolor": "white",
            "gridwidth": 2,
            "linecolor": "white",
            "showbackground": true,
            "ticks": "",
            "zerolinecolor": "white"
           },
           "zaxis": {
            "backgroundcolor": "#E5ECF6",
            "gridcolor": "white",
            "gridwidth": 2,
            "linecolor": "white",
            "showbackground": true,
            "ticks": "",
            "zerolinecolor": "white"
           }
          },
          "shapedefaults": {
           "line": {
            "color": "#2a3f5f"
           }
          },
          "ternary": {
           "aaxis": {
            "gridcolor": "white",
            "linecolor": "white",
            "ticks": ""
           },
           "baxis": {
            "gridcolor": "white",
            "linecolor": "white",
            "ticks": ""
           },
           "bgcolor": "#E5ECF6",
           "caxis": {
            "gridcolor": "white",
            "linecolor": "white",
            "ticks": ""
           }
          },
          "title": {
           "x": 0.05
          },
          "xaxis": {
           "automargin": true,
           "gridcolor": "white",
           "linecolor": "white",
           "ticks": "",
           "title": {
            "standoff": 15
           },
           "zerolinecolor": "white",
           "zerolinewidth": 2
          },
          "yaxis": {
           "automargin": true,
           "gridcolor": "white",
           "linecolor": "white",
           "ticks": "",
           "title": {
            "standoff": 15
           },
           "zerolinecolor": "white",
           "zerolinewidth": 2
          }
         }
        },
        "width": 600,
        "xaxis": {
         "anchor": "y",
         "domain": [
          0,
          1
         ],
         "title": {
          "text": "Window"
         }
        },
        "yaxis": {
         "anchor": "x",
         "domain": [
          0,
          1
         ],
         "title": {
          "text": "Trip Signal"
         }
        }
       }
      }
     },
     "metadata": {},
     "output_type": "display_data"
    }
   ],
   "source": [
    "def update_fig(fig):\n",
    "    fig.update_traces(line_color=\"#EEEEEE\", line_width=2)\n",
    "    fig.update_layout(\n",
    "        paper_bgcolor=\"#222831\",\n",
    "        plot_bgcolor=\"#393E46\",\n",
    "        font_color=\"whitesmoke\",\n",
    "    )\n",
    "    fig.update_xaxes(showgrid=True, gridwidth=1, gridcolor=\"#32E0C4\")\n",
    "    fig.update_yaxes(showgrid=True, gridwidth=1, gridcolor=\"#32E0C4\")\n",
    "\n",
    "\n",
    "signal, t = dataset.__getitem__(2440, data_plot=True)\n",
    "signal = signal.reshape((-1, 3))\n",
    "signal = signal[:, 0]\n",
    "# print(f\"Window index: {sample_df.query('indices == 196').index[0]}\")\n",
    "fig = px.line(\n",
    "    x=t,\n",
    "    y=signal,\n",
    "    width=600,\n",
    "    height=400,\n",
    "    labels=dict(x=\"time\", y=\"Amplitude\"),\n",
    ")\n",
    "# update_fig(fig)\n",
    "fig.show()\n",
    "fig = px.line(\n",
    "    x=sample_df.index,\n",
    "    y=sample_df[\"Pred label\"],\n",
    "    width=600,\n",
    "    height=400,\n",
    "    labels=dict(x=\"Window\", y=\"Trip Signal\"),\n",
    "    line_shape=\"hv\",\n",
    ")\n",
    "# update_fig(fig)\n",
    "fig.show()"
   ]
  },
  {
   "attachments": {},
   "cell_type": "markdown",
   "metadata": {},
   "source": [
    "### 8. References\n",
    "1. PyTorch Contributors: LSTM. [LSTM — PyTorch 1.13 documentation](https://pytorch.org/docs/stable/generated/torch.nn.LSTM.html).\n",
    "<!-- @online{LSTM,\n",
    "    author = \"{PyTorch Contributors}\",\n",
    "    title = \"LSTM\",\n",
    "    url  = \"https://pytorch.org/docs/stable/generated/torch.nn.LSTM.html\",\n",
    "    addendum = \"(accessed: 10.02.2023)\",\n",
    "    keywords = \"LSTM pytorch\"\n",
    "} -->"
   ]
  },
  {
   "cell_type": "markdown",
   "metadata": {},
   "source": []
  }
 ],
 "metadata": {
  "kernelspec": {
   "display_name": "env",
   "language": "python",
   "name": "python3"
  },
  "language_info": {
   "codemirror_mode": {
    "name": "ipython",
    "version": 3
   },
   "file_extension": ".py",
   "mimetype": "text/x-python",
   "name": "python",
   "nbconvert_exporter": "python",
   "pygments_lexer": "ipython3",
   "version": "3.9.13"
  },
  "orig_nbformat": 4,
  "vscode": {
   "interpreter": {
    "hash": "72ca1a9e086f4c7ef9a163ec3bf69ee2fedc8d7281f4001d4d35bca77b5aa424"
   }
  }
 },
 "nbformat": 4,
 "nbformat_minor": 2
}
