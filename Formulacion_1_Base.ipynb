{
 "cells": [
  {
   "attachments": {},
   "cell_type": "markdown",
   "metadata": {},
   "source": [
    "#### Imports"
   ]
  },
  {
   "cell_type": "code",
   "execution_count": 1,
   "metadata": {},
   "outputs": [
    {
     "name": "stderr",
     "output_type": "stream",
     "text": [
      "c:\\Users\\aherrada\\Documents\\Git\\Pytorch\\env\\lib\\site-packages\\tqdm\\auto.py:22: TqdmWarning: IProgress not found. Please update jupyter and ipywidgets. See https://ipywidgets.readthedocs.io/en/stable/user_install.html\n",
      "  from .autonotebook import tqdm as notebook_tqdm\n"
     ]
    }
   ],
   "source": [
    "import torch\n",
    "import torch.nn as nn\n",
    "from torch.utils.data import Dataset, DataLoader, random_split\n",
    "import numpy as np\n",
    "import pandas as pd\n",
    "import matplotlib.pyplot as plt\n",
    "\n",
    "# Acceder al sistema operativo\n",
    "import os\n",
    "import glob\n",
    "import shutil\n",
    "import random\n",
    "\n"
   ]
  },
  {
   "attachments": {},
   "cell_type": "markdown",
   "metadata": {},
   "source": [
    "#### References\n",
    "1. PyTorch Contributors: LSTM. [LSTM — PyTorch 1.13 documentation](https://pytorch.org/docs/stable/generated/torch.nn.LSTM.html).\n",
    "<!-- @online{LSTM,\n",
    "    author = \"{PyTorch Contributors}\",\n",
    "    title = \"LSTM\",\n",
    "    url  = \"https://pytorch.org/docs/stable/generated/torch.nn.LSTM.html\",\n",
    "    addendum = \"(accessed: 10.02.2023)\",\n",
    "    keywords = \"LSTM pytorch\"\n",
    "} -->\n",
    "\n",
    "$a^{\\langle t-1 \\rangle}$"
   ]
  },
  {
   "attachments": {},
   "cell_type": "markdown",
   "metadata": {},
   "source": [
    "#### LSTM parameters\n",
    "\n",
    "- **n_signals:** number of signals fed into model for each event.\n",
    "    - For example: for input signals: [$I_{a}$, $I_{b}$, $I_{c}$] -> n_signals = 3).\n",
    "    <br><br>\n",
    "- **N:** window size. \n",
    "    - For 3840Hz sampling frequency and a 0.016ms window (containing one cycle of a 60Hz wave), N = 64.\n",
    "    \\begin{equation}\n",
    "    N = \\frac{fs}{f_{fundamental}} w\n",
    "    \\end{equation}\n",
    "    <br>\n",
    "- **hidden_dim:** The number of features in the hidden state $a^{\\langle t \\rangle}$ (also refered as $h^{\\langle t \\rangle}$)\n",
    "\n",
    "    \n",
    "    \n",
    "    \n",
    "    \n",
    "\n",
    "\n",
    "\n",
    "- **train/test/dev_batch_size**: mini-batch size.\n",
    "    - train: portion of dataset used to train the model (i.e. adjust the weigths and biases).\n",
    "    - test: portion of dataset used to estimate the performance of the model.\n",
    "    <br><br>\n",
    "    \n",
    "\n",
    "<figure> \n",
    "<center><img src=\"./images/DatabaseSchema.jpeg\" style=\"height:220px;width:330px;\"></center>\n",
    "<caption><center><font color='whitesmoke'><b>Figure 1.</b> Mini-batch dataset geometry </font></center></caption>\n",
    "</figure>\n",
    "\n",
    "\n",
    "- **target_size:** number of classes.\n",
    "    - target_size = 1:\n",
    "        - Binary Classification: One output treated as probability of belonging to one class or the other (E.g. No-Fault = 0 | Fault = 1)\n",
    "    - target_size > 1:\n",
    "        - Multiclass: Multiple exclusive classes. Class with higher score represents predicted class. The sum of scores (using softmax) adds up 1.<br> (E.g. [No-fault, Fault, Caps], an output of values [0.07, 0.91, 0.2] represents a Fault class prediction)\n",
    "        - Multilabel: Multiple classes that are not mutually exclusive. Each position of output vector is a probability (using sigmoid).\n",
    "<br> (E.g. [$\\phi_A$, $\\phi_B$, $\\phi_C$], an output of values [0.95, 0.90, 0.01 ] represents faulted phases *A* and *B*, i.e. biphasic *AB* fault )\n",
    "\n",
    "\n",
    "\n",
    "\n"
   ]
  },
  {
   "cell_type": "code",
   "execution_count": 2,
   "metadata": {},
   "outputs": [
    {
     "name": "stdout",
     "output_type": "stream",
     "text": [
      "cpu\n"
     ]
    }
   ],
   "source": [
    "# LSTM parameters\n",
    "hidden_dim = 20\n",
    "n_signals = 1\n",
    "N = 64\n",
    "\n",
    "# _batch_size => m in figure 1.\n",
    "train_batch_size = 64\n",
    "dev_batch_size = 16\n",
    "test_batch_size = 16\n",
    "\n",
    "# Classification type (binary)\n",
    "tagset_size = 1\n",
    "\n",
    "# Set\n",
    "device = \"cuda\" if torch.cuda.is_available() else \"cpu\"\n",
    "print(device)\n"
   ]
  },
  {
   "attachments": {},
   "cell_type": "markdown",
   "metadata": {},
   "source": [
    "#### Model Creation\n",
    "\n",
    "The fault detector model consists of a block of *N* LSTM cells (figure 2.) in series. This block processes one training sample at a time (moving window). For each moving window, each cell processes a sample of the signal, and will pass context information sequentially to the next cell. This information will be passed in the hidden state $a^{\\langle t \\rangle}$  and the cell state $c^{\\langle t \\rangle}$. \n",
    "\n",
    "\n",
    "Each LSTM's input $x^{\\langle t \\rangle}$ is combined with it's previous hidden state $a^{\\langle t - 1 \\rangle}$. \n",
    "Each LSTM's cell state $c^{\\langle t \\rangle}$. will be inputed to the next LSTM $_{t + 1}$ . At each step $c^{\\langle t \\rangle}$ is updated to add _(remember)_ or delete _(forget)_ information.\n",
    "\n",
    "At each time step, $a^{\\langle t \\rangle}$ can be passed through a sigmoid function to obatain an output $\\hat{y}^{\\langle t \\rangle}$. However, this yields a many-to-many model. Since fault detection is made after processing _N_ input samples inside a moving window, only one label is needed per window (no-fault/fault) making it possible to approach the problem as binary classification. \n",
    "In other words, for each moving window, the prediction will be made at the last LSTM block cell, i.e. $\\hat{y}^{\\langle N-1 \\rangle}$.\n",
    "\n",
    "<br>\n",
    "\n",
    "\n",
    "<figure> \n",
    "<center><img src=\"./images/LSTM_cell.png\" style=\"width:500;height:400px;\" ></center>\n",
    "<caption><center><b>Figure 2.</b>LSTM cell</center></caption>\n",
    "</figure>\n",
    "\n",
    "\n",
    "##### WRITE MORE LSTM INFORMATION\n",
    "\n",
    "The LSTM block will be fed an input vector of dimension (m, N, s), where:\n",
    "\n",
    "            - m: mini-batch size.\n",
    "            - N: moving window size.\n",
    "            - s: signals _(n_signals)_\n",
    "        \n",
    "Pytorch **nn.Module** class will be used to create the FaultDetector LSTM detector class following the architecture shown in figure 3. The FaultDetector class includes the LSTM, linear and sigmoid blocks shown in the flow diagram. The linear + sigmoid blocks work as the classifier part of the model. The hidden activation $a^{\\langle N-1 \\rangle}$ _(lstm_out[:, -1, :])_ is passed through the classifier block to obtain $\\hat{y}^{\\langle N-1 \\rangle}$, with dimensions (m, 1).\n",
    "\n",
    "\n",
    "<figure> \n",
    "<center><img src=\"./images/LSTM_binary.jpeg\" style=\"width:700;height:600px;\"></center>\n",
    "<caption><center><b>Figure 3.</b>LSTM detector flow diagram</center></caption>\n",
    "</figure>\n"
   ]
  },
  {
   "cell_type": "code",
   "execution_count": 18,
   "metadata": {},
   "outputs": [
    {
     "name": "stdout",
     "output_type": "stream",
     "text": [
      "Model structure: FaultDetector(\n",
      "  (lstm): LSTM(1, 20, batch_first=True)\n",
      "  (fc): Linear(in_features=20, out_features=1, bias=True)\n",
      ")\n",
      "\n"
     ]
    }
   ],
   "source": [
    "# Model Creation\n",
    "\n",
    "\n",
    "class FaultDetector(nn.Module):\n",
    "    \"\"\"Some Information about FaultDetector\"\"\"\n",
    "\n",
    "    def __init__(self, N, hidden_dim, tagset_size):\n",
    "        super(FaultDetector, self).__init__()\n",
    "        self.lstm = nn.LSTM(N, hidden_dim, batch_first=True)\n",
    "        self.fc = nn.Linear(hidden_dim, tagset_size)\n",
    "\n",
    "    def forward(self, x):\n",
    "        lstm_out, _ = self.lstm(x)\n",
    "        fc_layer = self.fc(lstm_out[:, -1, :])\n",
    "\n",
    "        return torch.sigmoid(fc_layer)\n",
    "\n",
    "\n",
    "model = FaultDetector(n_signals, hidden_dim, tagset_size).to(device)\n",
    "loss_fn = nn.BCELoss()\n",
    "optimizer = torch.optim.Adam(model.parameters(), lr=1e-2)\n",
    "# Learning rate decay\n",
    "decayRate = 0.96\n",
    "my_lr_scheduler = torch.optim.lr_scheduler.ExponentialLR(optimizer=optimizer, gamma=decayRate)\n",
    "\n",
    "print(f\"Model structure: {model}\\n\")\n",
    "signal_name = \"I: X0023A-R1A\"\n"
   ]
  },
  {
   "attachments": {},
   "cell_type": "markdown",
   "metadata": {},
   "source": [
    "#### Dataset Class "
   ]
  },
  {
   "cell_type": "code",
   "execution_count": 25,
   "metadata": {},
   "outputs": [],
   "source": [
    "from utils.signalload import CSV_pandas_path\n",
    "from utils.auxfunctions import moving_window\n",
    "import numpy as np\n",
    "from itertools import repeat\n",
    "\n",
    "\n",
    "class Form1Dataset(torch.utils.data.Dataset):\n",
    "    \"\"\"Some Information about Form1Dataset\"\"\"\n",
    "\n",
    "    def __init__(\n",
    "        self,\n",
    "        dataset_dir,\n",
    "        signal_name,\n",
    "        max_window_idx=193,\n",
    "        window_length=64,\n",
    "        step=1,\n",
    "        test=False,\n",
    "    ):\n",
    "        super(Form1Dataset, self).__init__()\n",
    "        self.max_window_idx = max_window_idx\n",
    "        self.test = test\n",
    "\n",
    "        self.csv_list = glob.glob(f\"{dataset_dir}*.csv\")\n",
    "        self.csv_amount = len(self.csv_list)\n",
    "        self.windows_amount = max_window_idx * self.csv_amount\n",
    "        self.window_length = window_length\n",
    "        self.step = step\n",
    "\n",
    "    def __getitem__(self, index):\n",
    "\n",
    "        # sample_settings\n",
    "        window_length = self.window_length\n",
    "        step = self.step\n",
    "\n",
    "        # Calculate window_idx and file name\n",
    "        window_idx = index % self.max_window_idx\n",
    "        csv_idx = index // self.max_window_idx\n",
    "        csv_full_path = self.csv_list[csv_idx]\n",
    "\n",
    "        # Load CSV, signal and create windows\n",
    "        csv_name = os.path.basename(csv_full_path)\n",
    "        signal, t, _ = CSV_pandas_path(csv_full_path).load_data(signal_name)\n",
    "        signal_windows, t_windows = list(\n",
    "            map(moving_window, [signal, t], repeat(window_length), repeat(step))\n",
    "        )\n",
    "\n",
    "        # select window\n",
    "\n",
    "        signal_window = signal_windows[window_idx]\n",
    "        signal_window = np.expand_dims(signal_window, axis=1)\n",
    "        t_window = t_windows[window_idx]\n",
    "\n",
    "        # create labels\n",
    "        if window_idx < 66:\n",
    "            label = np.array([0])\n",
    "        else:\n",
    "            label = np.array([1])\n",
    "\n",
    "        # For dataset visualization return following information\n",
    "        signal_window = torch.from_numpy(signal_window).float()\n",
    "        label = torch.from_numpy(label).float()\n",
    "        if self.test == True:\n",
    "            return signal_window, t_window, label, csv_name, index, window_idx\n",
    "\n",
    "        # For training only signals and labels are required\n",
    "        \n",
    "        return signal_window, label\n",
    "\n",
    "    def __len__(self):\n",
    "        return self.csv_amount * self.max_window_idx"
   ]
  },
  {
   "cell_type": "code",
   "execution_count": null,
   "metadata": {},
   "outputs": [
    {
     "name": "stdout",
     "output_type": "stream",
     "text": [
      "copying 35 files...\n",
      "finished\n",
      "Available Relays (current):\n",
      "I: X0038A-X0043A\n",
      "I: X0038B-X0043B\n",
      "I: X0038C-X0043C\n",
      "I: X0048A-X0053A\n",
      "I: X0048B-X0053B\n",
      "I: X0048C-X0053C\n",
      "I: X0060A-X0065A\n",
      "I: X0060B-X0065B\n",
      "I: X0060C-X0065C\n",
      "I: X0066A-X0067A\n",
      "I: X0066B-X0067B\n",
      "I: X0066C-X0067C\n",
      "I: X0023A-R1A\n",
      "I: X0023B-R1B\n",
      "I: X0023C-R1C\n",
      "I: X0004A-R2A\n",
      "I: X0004B-R2B\n",
      "I: X0004C-R2C\n",
      "I: X0071A-R3A\n",
      "I: X0071B-R3B\n",
      "I: X0071C-R3C\n",
      "copying 35 files...\n",
      "finished\n",
      "Available Relays (current):\n",
      "copying 35 files...\n",
      "finished\n",
      "Available Relays (current):\n"
     ]
    }
   ],
   "source": [
    "# Creating Dataset Folders\n",
    "\n",
    "dataset_dir_full = \"C:/Users/aherrada/OneDrive - Universidad del Norte/Uninorte/DetectionDataBase/LSTM_form_1/fault_01/\"\n",
    "dataset_dir = \"C:/Users/aherrada/OneDrive - Universidad del Norte/Uninorte/DetectionDataBase/LSTM_form_1/R1/\"\n",
    "dataset_dir_R2 = \"C:/Users/aherrada/OneDrive - Universidad del Norte/Uninorte/DetectionDataBase/LSTM_form_1/R2/\"\n",
    "dataset_dir_R3 = \"C:/Users/aherrada/OneDrive - Universidad del Norte/Uninorte/DetectionDataBase/LSTM_form_1/R3/\"\n",
    "max_window_idx = 130\n",
    "n_events = 35\n",
    "\n",
    "\n",
    "def dataset_creator(source_path, target_path, signal_list=False):\n",
    "    csv_list = glob.glob(f\"{source_path}*.csv\")\n",
    "    if not os.path.isdir(target_path):\n",
    "        print(\"creating\")\n",
    "        os.makedirs(target_path)\n",
    "    else:\n",
    "        file_list = glob.glob(f\"{target_path}*.csv\")\n",
    "        for file in file_list:\n",
    "            os.remove(file)\n",
    "    csv_list = random.sample(csv_list, n_events)\n",
    "    print(f\"copying {len(csv_list)} files...\")\n",
    "    for csv in csv_list:\n",
    "        source_path = csv\n",
    "        target_path = target_path\n",
    "        shutil.copy(source_path, target_path)\n",
    "    print(\"finished\")\n",
    "    print(\"Available Relays (current):\")\n",
    "    if signal_list == True:\n",
    "        CSV_pandas_path(csv_list[0]).relay_list()\n",
    "\n",
    "\n",
    "# Crear los 3 Datasets para entrenar los relés individualmente\n",
    "dataset_creator(dataset_dir_full, dataset_dir, signal_list=True)\n",
    "dataset_creator(dataset_dir_full, dataset_dir_R2)\n",
    "dataset_creator(dataset_dir_full, dataset_dir_R3)\n"
   ]
  },
  {
   "cell_type": "code",
   "execution_count": null,
   "metadata": {},
   "outputs": [],
   "source": [
    "# Create Training / Test / Validation Loops\n",
    "\n",
    "# Training\n",
    "def train(dataloader, model, loss_fn, optimizer, return_loss = False):\n",
    "    size = len(dataloader.dataset)\n",
    "    model.train()\n",
    "    loss_list = []\n",
    "    for batch, (x, y) in enumerate(dataloader):\n",
    "        x, y = x.to(device), y.to(device)\n",
    "\n",
    "        # Compute prediction error\n",
    "        pred = model(x)\n",
    "        loss = loss_fn(pred, y)\n",
    "\n",
    "        # Backpropagation\n",
    "        optimizer.zero_grad()\n",
    "        loss.backward()\n",
    "        optimizer.step()\n",
    "        if return_loss == True:\n",
    "            loss_list.append(loss.item())\n",
    "        if batch % 2 == 0:\n",
    "            loss, current = loss.item(), batch * len(x)\n",
    "            print(f\"loss: {loss:>f} [{current:>5d}/{size:>5d}]\")\n",
    "\n",
    "        if batch % 5 == 0:\n",
    "            my_lr_scheduler.step()\n",
    "    if return_loss == True:\n",
    "        return loss_list\n",
    "\n",
    "\n",
    "\n",
    "def test(dataloader, model, loss_fn, return_metrics=False):\n",
    "    size = len(dataloader.dataset)\n",
    "    num_batches = len(dataloader)\n",
    "    model.eval()\n",
    "    test_loss, correct = 0, 0\n",
    "    with torch.no_grad():\n",
    "        for x, y in dataloader:\n",
    "            x, y = x.to(device), y.to(device)\n",
    "            pred = model(x)\n",
    "            test_loss += loss_fn(pred, y).item()\n",
    "            correct += (torch.round(pred) == y).type(torch.float).sum().item()\n",
    "    test_loss /= num_batches\n",
    "    correct /= size\n",
    "    print(\n",
    "        f\"Test Error: \\n Accuracy: {(100*correct):>0.1f}%, Avg loss: {test_loss:>8f} \\n\"\n",
    "    )\n",
    "    if return_metrics==True:\n",
    "        return correct*100, test_loss\n"
   ]
  },
  {
   "cell_type": "code",
   "execution_count": 19,
   "metadata": {},
   "outputs": [],
   "source": [
    "# Load Dataset\n",
    "signal_name = \"I: X0023A-R1A\"\n",
    "dataset = Form1Dataset(\n",
    "    dataset_dir, max_window_idx=max_window_idx, signal_name=signal_name\n",
    ")\n",
    "train_dataset, test_dataset = random_split(dataset, [0.95, 0.05])\n",
    "train_dataloader = DataLoader(train_dataset, batch_size=train_batch_size, shuffle=True)\n",
    "test_dataloader = DataLoader(test_dataset, batch_size=test_batch_size, shuffle=True)\n",
    "# EL test set realmente es un dev set\n",
    "# Como regla general, si es utilizado dentro del loop es un dev set."
   ]
  },
  {
   "cell_type": "code",
   "execution_count": 20,
   "metadata": {},
   "outputs": [
    {
     "name": "stdout",
     "output_type": "stream",
     "text": [
      "Epoch 1\n",
      "--------------------------------\n",
      "loss: 0.718567 [    0/ 4323]\n",
      "loss: 0.659676 [  128/ 4323]\n",
      "loss: 0.618413 [  256/ 4323]\n",
      "loss: 0.596546 [  384/ 4323]\n",
      "loss: 0.598759 [  512/ 4323]\n",
      "loss: 0.517556 [  640/ 4323]\n",
      "loss: 0.527544 [  768/ 4323]\n",
      "loss: 0.419825 [  896/ 4323]\n",
      "loss: 0.401054 [ 1024/ 4323]\n",
      "loss: 0.348217 [ 1152/ 4323]\n",
      "loss: 0.337028 [ 1280/ 4323]\n",
      "loss: 0.314767 [ 1408/ 4323]\n",
      "loss: 0.254112 [ 1536/ 4323]\n",
      "loss: 0.224954 [ 1664/ 4323]\n",
      "loss: 0.332776 [ 1792/ 4323]\n",
      "loss: 0.224895 [ 1920/ 4323]\n",
      "loss: 0.196184 [ 2048/ 4323]\n",
      "loss: 0.253838 [ 2176/ 4323]\n",
      "loss: 0.211048 [ 2304/ 4323]\n",
      "loss: 0.151677 [ 2432/ 4323]\n",
      "loss: 0.151327 [ 2560/ 4323]\n",
      "loss: 0.178574 [ 2688/ 4323]\n",
      "loss: 0.153113 [ 2816/ 4323]\n",
      "loss: 0.139782 [ 2944/ 4323]\n",
      "loss: 0.182893 [ 3072/ 4323]\n",
      "loss: 0.153114 [ 3200/ 4323]\n",
      "loss: 0.114182 [ 3328/ 4323]\n",
      "loss: 0.116075 [ 3456/ 4323]\n",
      "loss: 0.270297 [ 3584/ 4323]\n",
      "loss: 0.111343 [ 3712/ 4323]\n",
      "loss: 0.201795 [ 3840/ 4323]\n",
      "loss: 0.088842 [ 3968/ 4323]\n",
      "loss: 0.223740 [ 4096/ 4323]\n",
      "loss: 0.094792 [ 4224/ 4323]\n",
      "Test Error: \n",
      " Accuracy: 99.6%, Avg loss: 0.097008 \n",
      "\n"
     ]
    }
   ],
   "source": [
    "epochs = 1\n",
    "for epoch in range(epochs):\n",
    "    \n",
    "    print(f\"Epoch {epoch+1}\\n--------------------------------\")\n",
    "    train_loss = train(train_dataloader, model, loss_fn, optimizer, return_loss=True)\n",
    "    test(test_dataloader, model, loss_fn)"
   ]
  },
  {
   "cell_type": "code",
   "execution_count": 22,
   "metadata": {},
   "outputs": [
    {
     "data": {
      "text/plain": [
       "[<matplotlib.lines.Line2D at 0x1c4c17bedf0>,\n",
       " <matplotlib.lines.Line2D at 0x1c4c17bee50>]"
      ]
     },
     "execution_count": 22,
     "metadata": {},
     "output_type": "execute_result"
    },
    {
     "data": {
      "image/png": "[encoded data removed]",
      "text/plain": [
       "<Figure size 640x480 with 1 Axes>"
      ]
     },
     "metadata": {},
     "output_type": "display_data"
    }
   ],
   "source": [
    "mini_batch_list = [index for index, _ in enumerate(train_loss)]\n",
    "train_loss_ewm = pd.DataFrame(train_loss).ewm(com=0.95).mean()\n",
    "plt.plot(mini_batch_list, train_loss, mini_batch_list, train_loss_ewm)\n"
   ]
  },
  {
   "cell_type": "code",
   "execution_count": 21,
   "metadata": {},
   "outputs": [],
   "source": [
    "# # Save the Model\n",
    "torch.save(model.state_dict(), './models/LSTMHarmonic_weights_R1_996.pth')\n",
    "# model.load_state_dict(torch.load('./models/LSTMHarmonic_weights_989.pth'))\n"
   ]
  },
  {
   "cell_type": "code",
   "execution_count": 23,
   "metadata": {},
   "outputs": [],
   "source": [
    "# Data visualization (CPU)\n",
    "\n",
    "def confussion_matrix_labels(pred_label, true_label):\n",
    "    label = \"\"\n",
    "    if int(pred_label) == int(true_label):\n",
    "        label += \"True\"\n",
    "    else:\n",
    "        label += \"False\"\n",
    "    if pred_label == 1:\n",
    "        label += \" positive\"\n",
    "    else:\n",
    "        label += \" negative\"\n",
    "    return label\n",
    "\n",
    "\n",
    "def confussion_matrix(x, labels):\n",
    "    data = {\n",
    "        \"Pred probability\": torch.reshape(x, (-1,)).numpy(),\n",
    "        \"Pred label\": torch.reshape(torch.round(x), (-1,)).int().numpy(),\n",
    "        \"True label\": torch.reshape(labels, (-1,)).int().numpy(),\n",
    "    }\n",
    "    df = pd.DataFrame(data)\n",
    "    df[\"prueba\"] = confussion_matrix_pandas(df[\"Pred label\"], df[\"True label\"])\n",
    "    return df\n",
    "\n",
    "confussion_matrix_pandas = np.vectorize(confussion_matrix_labels)\n"
   ]
  },
  {
   "cell_type": "code",
   "execution_count": 29,
   "metadata": {},
   "outputs": [
    {
     "name": "stdout",
     "output_type": "stream",
     "text": [
      "   Pred probability  Pred label  True label          prueba\n",
      "0          0.415728           0           1  False negative\n",
      "1          0.875868           1           1   True positive\n",
      "2          0.043123           0           0   True negative\n",
      "3          0.046501           0           0   True negative\n",
      "4          0.021499           0           0   True negative\n",
      "5          0.043043           0           0   True negative\n",
      "6          0.035818           0           0   True negative\n",
      "7          0.124074           0           0   True negative\n",
      "8          0.121845           0           0   True negative\n"
     ]
    },
    {
     "data": {
      "image/png": "[encoded data removed]",
      "text/plain": [
       "<Figure size 1000x1000 with 9 Axes>"
      ]
     },
     "metadata": {},
     "output_type": "display_data"
    }
   ],
   "source": [
    "dataset_test = Form1Dataset(\n",
    "    dataset_dir, max_window_idx=max_window_idx, signal_name=signal_name, test=True\n",
    ")\n",
    "test_dataloader = DataLoader(dataset_test, batch_size=train_batch_size, shuffle=True)\n",
    "\n",
    "dataiter = iter(test_dataloader)\n",
    "signal_windows, t_windows, labels, *_ = next(dataiter)\n",
    "fs = 3840\n",
    "\n",
    "x = model(signal_windows[1:10].to(device))\n",
    "x = x.detach()\n",
    "\n",
    "# Crear Matriz de confusión\n",
    "df = confussion_matrix(x, labels[1:10])\n",
    "print(df)\n",
    "\n",
    "figure = plt.figure(figsize=(10, 10))\n",
    "cols, rows = 3, 3\n",
    "for i in range(1, cols * rows + 1):\n",
    "    figure.add_subplot(rows, cols, i)\n",
    "    plt.plot(t_windows[i, :], signal_windows[i, :, 0])\n"
   ]
  },
  {
   "cell_type": "code",
   "execution_count": 30,
   "metadata": {},
   "outputs": [
    {
     "name": "stdout",
     "output_type": "stream",
     "text": [
      "   Pred probability  Pred label  True label         prueba\n",
      "0          0.031104           0           0  True negative\n",
      "1          0.931979           1           1  True positive\n",
      "2          0.094983           0           0  True negative\n",
      "3          0.878675           1           1  True positive\n",
      "4          0.041623           0           0  True negative\n",
      "5          0.041081           0           0  True negative\n",
      "6          0.058987           0           0  True negative\n",
      "7          0.040840           0           0  True negative\n",
      "8          0.933170           1           1  True positive\n"
     ]
    },
    {
     "data": {
      "application/vnd.plotly.v1+json": {
       "config": {
        "plotlyServerURL": "https://plot.ly"
       },
       "data": [
        {
         "marker": {
          "color": "black"
         },
         "name": "0",
         "type": "scatter",
         "x": [
          0.0140616,
          0.014322,
          0.0145824,
          0.0148428,
          0.0151032,
          0.0153636,
          0.015624,
          0.0158844,
          0.0161448,
          0.0164052,
          0.0166656,
          0.016926,
          0.0171864,
          0.0174468,
          0.0177072,
          0.0179676,
          0.018228,
          0.0184884,
          0.0187488,
          0.0190092,
          0.0192696,
          0.01953,
          0.0197904,
          0.0200508,
          0.0203112,
          0.0205716,
          0.020832,
          0.0210924,
          0.0213528,
          0.0216132,
          0.0218736,
          0.022134,
          0.0223944,
          0.0226548,
          0.0229152,
          0.0231756,
          0.023436,
          0.0236964,
          0.0239568,
          0.0242172,
          0.0244776,
          0.024738,
          0.0249984,
          0.0252588,
          0.0255192,
          0.0257796,
          0.02604,
          0.0263004,
          0.0265608,
          0.0268212,
          0.0270816,
          0.027342,
          0.0276024,
          0.0278628,
          0.0281232,
          0.0283836,
          0.028644,
          0.0289044,
          0.0291648,
          0.0294252,
          0.0296856,
          0.029946,
          0.0302064,
          0.0304668
         ],
         "xaxis": "x",
         "y": [
          15.171216011047363,
          19.34899139404297,
          23.245153427124023,
          26.590702056884766,
          29.40561294555664,
          32.00897979736328,
          34.71519470214844,
          37.30341339111328,
          39.438316345214844,
          40.8022346496582,
          41.84624481201172,
          42.47963333129883,
          43.02847671508789,
          43.0071907043457,
          42.656795501708984,
          41.62321853637695,
          40.24992752075195,
          38.48081588745117,
          36.612464904785156,
          34.34518814086914,
          31.52069854736328,
          28.364206314086914,
          25.103408813476562,
          21.613372802734375,
          17.785018920898438,
          13.693251609802246,
          9.689648628234863,
          5.547815799713135,
          1.4321774244308472,
          -2.7670469284057617,
          -6.917006015777588,
          -11.106758117675781,
          -15.099082946777344,
          -18.90950584411621,
          -22.48495864868164,
          -26.041460037231445,
          -29.34779167175293,
          -32.31963348388672,
          -34.861202239990234,
          -37.14653396606445,
          -39.181785583496094,
          -40.797691345214844,
          -42.04629135131836,
          -42.803157806396484,
          -43.26826095581055,
          -43.20431900024414,
          -42.765628814697266,
          -41.83226776123047,
          -40.55484390258789,
          -38.86796188354492,
          -36.956363677978516,
          -34.677490234375,
          -31.850872039794922,
          -28.706031799316406,
          -25.45647430419922,
          -21.9902286529541,
          -18.171030044555664,
          -14.066170692443848,
          -9.96560001373291,
          -5.880334377288818,
          -1.7405864000320435,
          2.432997465133667,
          6.633738994598389,
          10.82593822479248
         ],
         "yaxis": "y"
        },
        {
         "marker": {
          "color": "black"
         },
         "name": "1",
         "type": "scatter",
         "x": [
          0.0059892,
          0.0062496,
          0.00651,
          0.0067704,
          0.0070308,
          0.0072912,
          0.0075516,
          0.007812,
          0.0080724,
          0.0083328,
          0.0085932,
          0.0088536,
          0.009114,
          0.0093744,
          0.0096348,
          0.0098952,
          0.0101556,
          0.010416,
          0.0106764,
          0.0109368,
          0.0111972,
          0.0114576,
          0.011718,
          0.0119784,
          0.0122388,
          0.0124992,
          0.0127596,
          0.01302,
          0.0132804,
          0.0135408,
          0.0138012,
          0.0140616,
          0.014322,
          0.0145824,
          0.0148428,
          0.0151032,
          0.0153636,
          0.015624,
          0.0158844,
          0.0161448,
          0.0164052,
          0.0166656,
          0.016926,
          0.0171864,
          0.0174468,
          0.0177072,
          0.0179676,
          0.018228,
          0.0184884,
          0.0187488,
          0.0190092,
          0.0192696,
          0.01953,
          0.0197904,
          0.0200508,
          0.0203112,
          0.0205716,
          0.020832,
          0.0210924,
          0.0213528,
          0.0216132,
          0.0218736,
          0.022134,
          0.0223944
         ],
         "xaxis": "x2",
         "y": [
          19.51850700378418,
          17.785438537597656,
          15.396286964416504,
          11.053291320800781,
          4.708528518676758,
          -1.1635760068893433,
          -5.449863433837891,
          -7.6451802253723145,
          -10.400703430175781,
          -14.276747703552246,
          -19.496280670166016,
          -24.50465965270996,
          -28.01119613647461,
          -30.19099235534668,
          -31.818994522094727,
          -34.321929931640625,
          -37.541324615478516,
          -40.22328186035156,
          -41.687049865722656,
          -42.09172439575195,
          -42.30746841430664,
          -42.686336517333984,
          -42.88393783569336,
          -42.72916793823242,
          -41.77079391479492,
          -40.161865234375,
          -38.088748931884766,
          -35.94520950317383,
          -33.71701431274414,
          -31.093982696533203,
          -28.04935073852539,
          -24.83928108215332,
          -21.084518432617188,
          -17.089323043823242,
          -12.884387016296387,
          -9.019598960876465,
          -5.201776504516602,
          -1.1714991331100464,
          3.073578119277954,
          7.397249221801758,
          11.654156684875488,
          15.466477394104004,
          19.097984313964844,
          22.477418899536133,
          26.032907485961914,
          29.441959381103516,
          32.45268630981445,
          34.86286926269531,
          37.01066970825195,
          38.86854553222656,
          40.60801696777344,
          41.77981948852539,
          42.65085983276367,
          42.91514587402344,
          42.90205001831055,
          42.29479217529297,
          41.468116760253906,
          40.151268005371094,
          38.53839874267578,
          36.543155670166016,
          34.220794677734375,
          31.377838134765625,
          28.27408790588379,
          25.035551071166992
         ],
         "yaxis": "y2"
        },
        {
         "marker": {
          "color": "black"
         },
         "name": "2",
         "type": "scatter",
         "x": [
          0.0263004,
          0.0265608,
          0.0268212,
          0.0270816,
          0.027342,
          0.0276024,
          0.0278628,
          0.0281232,
          0.0283836,
          0.028644,
          0.0289044,
          0.0291648,
          0.0294252,
          0.0296856,
          0.029946,
          0.0302064,
          0.0304668,
          0.0307272,
          0.0309876,
          0.031248,
          0.0315084,
          0.0317688,
          0.0320292,
          0.0322896,
          0.03255,
          0.0328104,
          0.0330708,
          0.0333312,
          0.0335916,
          0.033852,
          0.0341124,
          0.0343728,
          0.0346332,
          0.0348936,
          0.035154,
          0.0354144,
          0.0356748,
          0.0359352,
          0.0361956,
          0.036456,
          0.0367164,
          0.0369768,
          0.0372372,
          0.0374976,
          0.037758,
          0.0380184,
          0.0382788,
          0.0385392,
          0.0387996,
          0.03906,
          0.0393204,
          0.0395808,
          0.0398412,
          0.0401016,
          0.040362,
          0.0406224,
          0.0408828,
          0.0411432,
          0.0414036,
          0.041664,
          0.0419244,
          0.0421848,
          0.0424452,
          0.0427056
         ],
         "xaxis": "x3",
         "y": [
          39.0405158996582,
          37.24953079223633,
          35.01264953613281,
          32.320533752441406,
          29.251073837280273,
          26.086761474609375,
          22.669599533081055,
          19.007009506225586,
          14.982088088989258,
          10.875931739807129,
          6.786041259765625,
          2.6766517162323,
          -1.3826323747634888,
          -5.480707168579102,
          -9.728205680847168,
          -13.744580268859863,
          -17.623844146728516,
          -21.224119186401367,
          -24.789318084716797,
          -28.145931243896484,
          -31.193105697631836,
          -33.866886138916016,
          -36.2545166015625,
          -38.34175491333008,
          -40.09024429321289,
          -41.40848159790039,
          -42.36786651611328,
          -42.882347106933594,
          -62.521907806396484,
          -87.89482879638672,
          -111.11331176757812,
          -118.81715393066406,
          -122.0129165649414,
          -119.50117492675781,
          -113.77973937988281,
          -109.03614807128906,
          -97.70865631103516,
          -81.27274322509766,
          -60.914146423339844,
          -46.272186279296875,
          -26.87763786315918,
          -5.287074089050293,
          19.118234634399414,
          40.99333953857422,
          61.77457809448242,
          83.35540771484375,
          105.24607849121094,
          129.15501403808594,
          148.30421447753906,
          167.0619354248047,
          184.35203552246094,
          200.69781494140625,
          215.69439697265625,
          228.07484436035156,
          236.75302124023438,
          246.44036865234375,
          250.9999542236328,
          255.94602966308594,
          254.50791931152344,
          251.1702880859375,
          248.4624481201172,
          240.8289031982422,
          234.15322875976562,
          221.76426696777344
         ],
         "yaxis": "y3"
        },
        {
         "marker": {
          "color": "black"
         },
         "name": "3",
         "type": "scatter",
         "x": [
          0.001302,
          0.0015624,
          0.0018228,
          0.0020832,
          0.0023436,
          0.002604,
          0.0028644,
          0.0031248,
          0.0033852,
          0.0036456,
          0.003906,
          0.0041664,
          0.0044268,
          0.0046872,
          0.0049476,
          0.005208,
          0.0054684,
          0.0057288,
          0.0059892,
          0.0062496,
          0.00651,
          0.0067704,
          0.0070308,
          0.0072912,
          0.0075516,
          0.007812,
          0.0080724,
          0.0083328,
          0.0085932,
          0.0088536,
          0.009114,
          0.0093744,
          0.0096348,
          0.0098952,
          0.0101556,
          0.010416,
          0.0106764,
          0.0109368,
          0.0111972,
          0.0114576,
          0.011718,
          0.0119784,
          0.0122388,
          0.0124992,
          0.0127596,
          0.01302,
          0.0132804,
          0.0135408,
          0.0138012,
          0.0140616,
          0.014322,
          0.0145824,
          0.0148428,
          0.0151032,
          0.0153636,
          0.015624,
          0.0158844,
          0.0161448,
          0.0164052,
          0.0166656,
          0.016926,
          0.0171864,
          0.0174468,
          0.0177072
         ],
         "xaxis": "x4",
         "y": [
          -46.91240310668945,
          -49.99346923828125,
          -48.88406753540039,
          -45.4468994140625,
          -40.0377311706543,
          -38.177757263183594,
          -37.48369598388672,
          -37.33323287963867,
          -34.93338394165039,
          -30.253568649291992,
          -24.07142448425293,
          -19.3424015045166,
          -16.0504207611084,
          -14.59421157836914,
          -11.147002220153809,
          -6.33806037902832,
          0.1795651614665985,
          5.255036354064941,
          9.250602722167969,
          11.79509162902832,
          14.701678276062012,
          18.602479934692383,
          23.75591278076172,
          28.089641571044922,
          31.172901153564453,
          32.673213958740234,
          34.66355895996094,
          37.06071090698242,
          39.67341232299805,
          41.65010452270508,
          42.57106399536133,
          42.77000045776367,
          42.447425842285156,
          42.3172492980957,
          42.271759033203125,
          41.63488006591797,
          40.19296646118164,
          37.95378875732422,
          35.61872863769531,
          33.11988067626953,
          30.44508934020996,
          27.69657325744629,
          24.670093536376953,
          20.915264129638672,
          16.550783157348633,
          12.227401733398438,
          8.403597831726074,
          4.767298698425293,
          0.8488374948501587,
          -3.3235890865325928,
          -7.829809188842773,
          -12.152395248413086,
          -16.072423934936523,
          -19.440706253051758,
          -22.751676559448242,
          -26.275362014770508,
          -29.810314178466797,
          -32.81578063964844,
          -35.1921272277832,
          -37.27509307861328,
          -39.08785629272461,
          -40.7287712097168,
          -41.93937301635742,
          -42.803592681884766
         ],
         "yaxis": "y4"
        },
        {
         "marker": {
          "color": "black"
         },
         "name": "4",
         "type": "scatter",
         "x": [
          0.0278628,
          0.0281232,
          0.0283836,
          0.028644,
          0.0289044,
          0.0291648,
          0.0294252,
          0.0296856,
          0.029946,
          0.0302064,
          0.0304668,
          0.0307272,
          0.0309876,
          0.031248,
          0.0315084,
          0.0317688,
          0.0320292,
          0.0322896,
          0.03255,
          0.0328104,
          0.0330708,
          0.0333312,
          0.0335916,
          0.033852,
          0.0341124,
          0.0343728,
          0.0346332,
          0.0348936,
          0.035154,
          0.0354144,
          0.0356748,
          0.0359352,
          0.0361956,
          0.036456,
          0.0367164,
          0.0369768,
          0.0372372,
          0.0374976,
          0.037758,
          0.0380184,
          0.0382788,
          0.0385392,
          0.0387996,
          0.03906,
          0.0393204,
          0.0395808,
          0.0398412,
          0.0401016,
          0.040362,
          0.0406224,
          0.0408828,
          0.0411432,
          0.0414036,
          0.041664,
          0.0419244,
          0.0421848,
          0.0424452,
          0.0427056,
          0.042966,
          0.0432264,
          0.0434868,
          0.0437472,
          0.0440076,
          0.044268
         ],
         "xaxis": "x5",
         "y": [
          5.859012603759766,
          1.8149425983428955,
          -2.3916337490081787,
          -6.517299175262451,
          -10.70361614227295,
          -14.673243522644043,
          -18.410581588745117,
          -22.056686401367188,
          -25.56192970275879,
          -28.89548683166504,
          -31.864849090576172,
          -34.37574005126953,
          -36.74811935424805,
          -38.68183517456055,
          -40.43003845214844,
          -41.59881591796875,
          -42.465110778808594,
          -42.9041748046875,
          -42.90058517456055,
          -42.500980377197266,
          -41.564456939697266,
          -40.32225036621094,
          -39.89765167236328,
          -58.37052536010742,
          -61.206390380859375,
          -56.56746292114258,
          -55.967533111572266,
          -43.50623321533203,
          -31.444305419921875,
          -27.74430274963379,
          -7.443129539489746,
          11.617321014404297,
          24.07616424560547,
          43.33366775512695,
          61.948020935058594,
          78.85154724121094,
          102.81822204589844,
          119.1984634399414,
          133.8041229248047,
          154.6848602294922,
          171.40126037597656,
          184.66253662109375,
          198.0010528564453,
          207.30462646484375,
          219.39047241210938,
          229.4443359375,
          232.49569702148438,
          235.23318481445312,
          238.57496643066406,
          238.11224365234375,
          235.94540405273438,
          229.413818359375,
          220.56910705566406,
          213.4413299560547,
          203.54092407226562,
          189.13601684570312,
          173.7460479736328,
          156.47280883789062,
          139.26686096191406,
          120.88270568847656,
          99.35052490234375,
          76.82054901123047,
          55.04762268066406,
          32.81828689575195
         ],
         "yaxis": "y5"
        },
        {
         "marker": {
          "color": "black"
         },
         "name": "5",
         "type": "scatter",
         "x": [
          0.0062496,
          0.00651,
          0.0067704,
          0.0070308,
          0.0072912,
          0.0075516,
          0.007812,
          0.0080724,
          0.0083328,
          0.0085932,
          0.0088536,
          0.009114,
          0.0093744,
          0.0096348,
          0.0098952,
          0.0101556,
          0.010416,
          0.0106764,
          0.0109368,
          0.0111972,
          0.0114576,
          0.011718,
          0.0119784,
          0.0122388,
          0.0124992,
          0.0127596,
          0.01302,
          0.0132804,
          0.0135408,
          0.0138012,
          0.0140616,
          0.014322,
          0.0145824,
          0.0148428,
          0.0151032,
          0.0153636,
          0.015624,
          0.0158844,
          0.0161448,
          0.0164052,
          0.0166656,
          0.016926,
          0.0171864,
          0.0174468,
          0.0177072,
          0.0179676,
          0.018228,
          0.0184884,
          0.0187488,
          0.0190092,
          0.0192696,
          0.01953,
          0.0197904,
          0.0200508,
          0.0203112,
          0.0205716,
          0.020832,
          0.0210924,
          0.0213528,
          0.0216132,
          0.0218736,
          0.022134,
          0.0223944,
          0.0226548
         ],
         "xaxis": "x6",
         "y": [
          -22.732826232910156,
          -25.808202743530273,
          -29.5509090423584,
          -33.506656646728516,
          -36.2690544128418,
          -38.034889221191406,
          -39.02601623535156,
          -40.493873596191406,
          -41.90711975097656,
          -43.02981185913086,
          -43.58266830444336,
          -43.377952575683594,
          -42.406497955322266,
          -40.82494354248047,
          -39.34009552001953,
          -38.20112609863281,
          -36.70878219604492,
          -34.4833869934082,
          -30.987836837768555,
          -27.369220733642578,
          -23.803457260131836,
          -20.70955467224121,
          -17.46916961669922,
          -13.781599998474121,
          -9.342812538146973,
          -4.586432933807373,
          -0.1539374142885208,
          3.616579055786133,
          7.191463470458984,
          11.030088424682617,
          15.181197166442871,
          19.35603904724121,
          23.24903106689453,
          26.597965240478516,
          29.40797996520996,
          32.018287658691406,
          34.71759033203125,
          37.30895233154297,
          39.44083786010742,
          40.802032470703125,
          41.852569580078125,
          42.477699279785156,
          43.031620025634766,
          43.00484085083008,
          42.654876708984375,
          41.62543869018555,
          40.242645263671875,
          38.48003387451172,
          36.60655212402344,
          34.34370040893555,
          31.516765594482422,
          28.35391616821289,
          25.100234985351562,
          21.60527992248535,
          17.781295776367188,
          13.684739112854004,
          9.68016529083252,
          5.543097019195557,
          1.4229404926300049,
          -2.771577835083008,
          -6.927563667297363,
          -11.113245964050293,
          -15.104585647583008,
          -18.91716766357422
         ],
         "yaxis": "y6"
        },
        {
         "marker": {
          "color": "black"
         },
         "name": "6",
         "type": "scatter",
         "x": [
          0,
          0.0002604,
          0.0005208,
          0.0007812,
          0.0010416,
          0.001302,
          0.0015624,
          0.0018228,
          0.0020832,
          0.0023436,
          0.002604,
          0.0028644,
          0.0031248,
          0.0033852,
          0.0036456,
          0.003906,
          0.0041664,
          0.0044268,
          0.0046872,
          0.0049476,
          0.005208,
          0.0054684,
          0.0057288,
          0.0059892,
          0.0062496,
          0.00651,
          0.0067704,
          0.0070308,
          0.0072912,
          0.0075516,
          0.007812,
          0.0080724,
          0.0083328,
          0.0085932,
          0.0088536,
          0.009114,
          0.0093744,
          0.0096348,
          0.0098952,
          0.0101556,
          0.010416,
          0.0106764,
          0.0109368,
          0.0111972,
          0.0114576,
          0.011718,
          0.0119784,
          0.0122388,
          0.0124992,
          0.0127596,
          0.01302,
          0.0132804,
          0.0135408,
          0.0138012,
          0.0140616,
          0.014322,
          0.0145824,
          0.0148428,
          0.0151032,
          0.0153636,
          0.015624,
          0.0158844,
          0.0161448,
          0.0164052
         ],
         "xaxis": "x7",
         "y": [
          39.78193283081055,
          35.56475067138672,
          30.5705623626709,
          26.610280990600586,
          23.325571060180664,
          20.397132873535156,
          16.67786979675293,
          10.587590217590332,
          4.918363571166992,
          0.2615567743778229,
          -2.8308632373809814,
          -5.2768659591674805,
          -9.432077407836914,
          -14.915940284729004,
          -20.20496940612793,
          -24.25776481628418,
          -26.370744705200195,
          -28.18389892578125,
          -31.357908248901367,
          -34.842529296875,
          -38.43373107910156,
          -39.92682647705078,
          -40.81852340698242,
          -41.58040237426758,
          -42.774986267089844,
          -43.50951385498047,
          -43.317039489746094,
          -42.759735107421875,
          -42.01711654663086,
          -41.1893196105957,
          -39.533016204833984,
          -37.10547637939453,
          -34.321781158447266,
          -31.541128158569336,
          -29.100242614746094,
          -26.663223266601562,
          -23.154422760009766,
          -18.704896926879883,
          -13.7938871383667,
          -9.63921070098877,
          -6.302259922027588,
          -2.9307456016540527,
          1.0601766109466553,
          5.771966457366943,
          10.864603042602539,
          15.040596961975098,
          18.35373878479004,
          21.15416145324707,
          24.535202026367188,
          28.519901275634766,
          32.115238189697266,
          34.748985290527344,
          36.66859817504883,
          38.326419830322266,
          40.12678527832031,
          41.5902214050293,
          42.795528411865234,
          43.19337844848633,
          43.25419616699219,
          42.65855407714844,
          41.9123420715332,
          40.68409729003906,
          39.13561248779297,
          37.17973327636719
         ],
         "yaxis": "y7"
        },
        {
         "marker": {
          "color": "black"
         },
         "name": "7",
         "type": "scatter",
         "x": [
          0.0020832,
          0.0023436,
          0.002604,
          0.0028644,
          0.0031248,
          0.0033852,
          0.0036456,
          0.003906,
          0.0041664,
          0.0044268,
          0.0046872,
          0.0049476,
          0.005208,
          0.0054684,
          0.0057288,
          0.0059892,
          0.0062496,
          0.00651,
          0.0067704,
          0.0070308,
          0.0072912,
          0.0075516,
          0.007812,
          0.0080724,
          0.0083328,
          0.0085932,
          0.0088536,
          0.009114,
          0.0093744,
          0.0096348,
          0.0098952,
          0.0101556,
          0.010416,
          0.0106764,
          0.0109368,
          0.0111972,
          0.0114576,
          0.011718,
          0.0119784,
          0.0122388,
          0.0124992,
          0.0127596,
          0.01302,
          0.0132804,
          0.0135408,
          0.0138012,
          0.0140616,
          0.014322,
          0.0145824,
          0.0148428,
          0.0151032,
          0.0153636,
          0.015624,
          0.0158844,
          0.0161448,
          0.0164052,
          0.0166656,
          0.016926,
          0.0171864,
          0.0174468,
          0.0177072,
          0.0179676,
          0.018228,
          0.0184884
         ],
         "xaxis": "x8",
         "y": [
          1.1058086156845093,
          5.292247772216797,
          8.486513137817383,
          11.057908058166504,
          15.22723388671875,
          20.46283721923828,
          25.256872177124023,
          28.789485931396484,
          30.582782745361328,
          32.18296813964844,
          35.1776008605957,
          38.08018493652344,
          40.99702072143555,
          41.73042297363281,
          42.25687026977539,
          42.71739959716797,
          43.552730560302734,
          43.6210823059082,
          42.467681884765625,
          41.17536163330078,
          39.9528694152832,
          38.93244171142578,
          37.147911071777344,
          34.244686126708984,
          30.564626693725586,
          27.049903869628906,
          24.30916976928711,
          21.819263458251953,
          18.1815128326416,
          13.52552604675293,
          8.331655502319336,
          3.975154399871826,
          0.3902689516544342,
          -2.8727571964263916,
          -6.650741100311279,
          -11.253567695617676,
          -16.0986385345459,
          -20.255582809448242,
          -23.45219612121582,
          -26.070329666137695,
          -29.07058334350586,
          -32.38734817504883,
          -35.511260986328125,
          -37.798824310302734,
          -39.46961212158203,
          -40.63283920288086,
          -41.791297912597656,
          -42.60140609741211,
          -43.194217681884766,
          -43.11982345581055,
          -42.55134582519531,
          -41.43821334838867,
          -40.11833572387695,
          -38.29004669189453,
          -36.364418029785156,
          -33.946685791015625,
          -31.341516494750977,
          -28.180442810058594,
          -24.935453414916992,
          -21.197404861450195,
          -17.35704803466797,
          -13.323847770690918,
          -9.431988716125488,
          -5.444263458251953
         ],
         "yaxis": "y8"
        },
        {
         "marker": {
          "color": "black"
         },
         "name": "8",
         "type": "scatter",
         "x": [
          0.0140616,
          0.014322,
          0.0145824,
          0.0148428,
          0.0151032,
          0.0153636,
          0.015624,
          0.0158844,
          0.0161448,
          0.0164052,
          0.0166656,
          0.016926,
          0.0171864,
          0.0174468,
          0.0177072,
          0.0179676,
          0.018228,
          0.0184884,
          0.0187488,
          0.0190092,
          0.0192696,
          0.01953,
          0.0197904,
          0.0200508,
          0.0203112,
          0.0205716,
          0.020832,
          0.0210924,
          0.0213528,
          0.0216132,
          0.0218736,
          0.022134,
          0.0223944,
          0.0226548,
          0.0229152,
          0.0231756,
          0.023436,
          0.0236964,
          0.0239568,
          0.0242172,
          0.0244776,
          0.024738,
          0.0249984,
          0.0252588,
          0.0255192,
          0.0257796,
          0.02604,
          0.0263004,
          0.0265608,
          0.0268212,
          0.0270816,
          0.027342,
          0.0276024,
          0.0278628,
          0.0281232,
          0.0283836,
          0.028644,
          0.0289044,
          0.0291648,
          0.0294252,
          0.0296856,
          0.029946,
          0.0302064,
          0.0304668
         ],
         "xaxis": "x9",
         "y": [
          -21.588830947875977,
          -25.541419982910156,
          -29.18302345275879,
          -32.010868072509766,
          -34.157859802246094,
          -36.19593811035156,
          -38.434146881103516,
          -40.42856216430664,
          -41.85652160644531,
          -42.44740295410156,
          -42.850555419921875,
          -42.818477630615234,
          -42.55113983154297,
          -41.6451416015625,
          -40.55830383300781,
          -38.908870697021484,
          -37.045875549316406,
          -34.7324104309082,
          -32.04055404663086,
          -28.93328094482422,
          -25.73457145690918,
          -22.324636459350586,
          -18.736289978027344,
          -14.699165344238281,
          -10.566730499267578,
          -6.366684436798096,
          -2.283893346786499,
          1.8026927709579468,
          5.825986862182617,
          10.042733192443848,
          14.0584077835083,
          17.99738121032715,
          21.641267776489258,
          25.167404174804688,
          28.3841495513916,
          31.424537658691406,
          34.07832336425781,
          36.50302505493164,
          38.55792236328125,
          40.213294982910156,
          41.537689208984375,
          42.38338088989258,
          42.94542694091797,
          43.04206848144531,
          42.68151092529297,
          41.793701171875,
          40.62276840209961,
          39.0405158996582,
          37.24953079223633,
          35.01264953613281,
          32.320533752441406,
          29.251073837280273,
          26.086761474609375,
          22.669599533081055,
          19.007009506225586,
          14.982088088989258,
          10.875931739807129,
          6.786041259765625,
          2.6766517162323,
          -1.3826323747634888,
          -5.480707168579102,
          -9.728205680847168,
          -13.744580268859863,
          -17.623844146728516
         ],
         "yaxis": "y9"
        }
       ],
       "layout": {
        "height": 700,
        "margin": {
         "b": 20,
         "l": 20,
         "r": 30,
         "t": 40
        },
        "plot_bgcolor": "rgba(0,0,0,0)",
        "template": {
         "data": {
          "bar": [
           {
            "error_x": {
             "color": "#2a3f5f"
            },
            "error_y": {
             "color": "#2a3f5f"
            },
            "marker": {
             "line": {
              "color": "#E5ECF6",
              "width": 0.5
             },
             "pattern": {
              "fillmode": "overlay",
              "size": 10,
              "solidity": 0.2
             }
            },
            "type": "bar"
           }
          ],
          "barpolar": [
           {
            "marker": {
             "line": {
              "color": "#E5ECF6",
              "width": 0.5
             },
             "pattern": {
              "fillmode": "overlay",
              "size": 10,
              "solidity": 0.2
             }
            },
            "type": "barpolar"
           }
          ],
          "carpet": [
           {
            "aaxis": {
             "endlinecolor": "#2a3f5f",
             "gridcolor": "white",
             "linecolor": "white",
             "minorgridcolor": "white",
             "startlinecolor": "#2a3f5f"
            },
            "baxis": {
             "endlinecolor": "#2a3f5f",
             "gridcolor": "white",
             "linecolor": "white",
             "minorgridcolor": "white",
             "startlinecolor": "#2a3f5f"
            },
            "type": "carpet"
           }
          ],
          "choropleth": [
           {
            "colorbar": {
             "outlinewidth": 0,
             "ticks": ""
            },
            "type": "choropleth"
           }
          ],
          "contour": [
           {
            "colorbar": {
             "outlinewidth": 0,
             "ticks": ""
            },
            "colorscale": [
             [
              0,
              "#0d0887"
             ],
             [
              0.1111111111111111,
              "#46039f"
             ],
             [
              0.2222222222222222,
              "#7201a8"
             ],
             [
              0.3333333333333333,
              "#9c179e"
             ],
             [
              0.4444444444444444,
              "#bd3786"
             ],
             [
              0.5555555555555556,
              "#d8576b"
             ],
             [
              0.6666666666666666,
              "#ed7953"
             ],
             [
              0.7777777777777778,
              "#fb9f3a"
             ],
             [
              0.8888888888888888,
              "#fdca26"
             ],
             [
              1,
              "#f0f921"
             ]
            ],
            "type": "contour"
           }
          ],
          "contourcarpet": [
           {
            "colorbar": {
             "outlinewidth": 0,
             "ticks": ""
            },
            "type": "contourcarpet"
           }
          ],
          "heatmap": [
           {
            "colorbar": {
             "outlinewidth": 0,
             "ticks": ""
            },
            "colorscale": [
             [
              0,
              "#0d0887"
             ],
             [
              0.1111111111111111,
              "#46039f"
             ],
             [
              0.2222222222222222,
              "#7201a8"
             ],
             [
              0.3333333333333333,
              "#9c179e"
             ],
             [
              0.4444444444444444,
              "#bd3786"
             ],
             [
              0.5555555555555556,
              "#d8576b"
             ],
             [
              0.6666666666666666,
              "#ed7953"
             ],
             [
              0.7777777777777778,
              "#fb9f3a"
             ],
             [
              0.8888888888888888,
              "#fdca26"
             ],
             [
              1,
              "#f0f921"
             ]
            ],
            "type": "heatmap"
           }
          ],
          "heatmapgl": [
           {
            "colorbar": {
             "outlinewidth": 0,
             "ticks": ""
            },
            "colorscale": [
             [
              0,
              "#0d0887"
             ],
             [
              0.1111111111111111,
              "#46039f"
             ],
             [
              0.2222222222222222,
              "#7201a8"
             ],
             [
              0.3333333333333333,
              "#9c179e"
             ],
             [
              0.4444444444444444,
              "#bd3786"
             ],
             [
              0.5555555555555556,
              "#d8576b"
             ],
             [
              0.6666666666666666,
              "#ed7953"
             ],
             [
              0.7777777777777778,
              "#fb9f3a"
             ],
             [
              0.8888888888888888,
              "#fdca26"
             ],
             [
              1,
              "#f0f921"
             ]
            ],
            "type": "heatmapgl"
           }
          ],
          "histogram": [
           {
            "marker": {
             "pattern": {
              "fillmode": "overlay",
              "size": 10,
              "solidity": 0.2
             }
            },
            "type": "histogram"
           }
          ],
          "histogram2d": [
           {
            "colorbar": {
             "outlinewidth": 0,
             "ticks": ""
            },
            "colorscale": [
             [
              0,
              "#0d0887"
             ],
             [
              0.1111111111111111,
              "#46039f"
             ],
             [
              0.2222222222222222,
              "#7201a8"
             ],
             [
              0.3333333333333333,
              "#9c179e"
             ],
             [
              0.4444444444444444,
              "#bd3786"
             ],
             [
              0.5555555555555556,
              "#d8576b"
             ],
             [
              0.6666666666666666,
              "#ed7953"
             ],
             [
              0.7777777777777778,
              "#fb9f3a"
             ],
             [
              0.8888888888888888,
              "#fdca26"
             ],
             [
              1,
              "#f0f921"
             ]
            ],
            "type": "histogram2d"
           }
          ],
          "histogram2dcontour": [
           {
            "colorbar": {
             "outlinewidth": 0,
             "ticks": ""
            },
            "colorscale": [
             [
              0,
              "#0d0887"
             ],
             [
              0.1111111111111111,
              "#46039f"
             ],
             [
              0.2222222222222222,
              "#7201a8"
             ],
             [
              0.3333333333333333,
              "#9c179e"
             ],
             [
              0.4444444444444444,
              "#bd3786"
             ],
             [
              0.5555555555555556,
              "#d8576b"
             ],
             [
              0.6666666666666666,
              "#ed7953"
             ],
             [
              0.7777777777777778,
              "#fb9f3a"
             ],
             [
              0.8888888888888888,
              "#fdca26"
             ],
             [
              1,
              "#f0f921"
             ]
            ],
            "type": "histogram2dcontour"
           }
          ],
          "mesh3d": [
           {
            "colorbar": {
             "outlinewidth": 0,
             "ticks": ""
            },
            "type": "mesh3d"
           }
          ],
          "parcoords": [
           {
            "line": {
             "colorbar": {
              "outlinewidth": 0,
              "ticks": ""
             }
            },
            "type": "parcoords"
           }
          ],
          "pie": [
           {
            "automargin": true,
            "type": "pie"
           }
          ],
          "scatter": [
           {
            "fillpattern": {
             "fillmode": "overlay",
             "size": 10,
             "solidity": 0.2
            },
            "type": "scatter"
           }
          ],
          "scatter3d": [
           {
            "line": {
             "colorbar": {
              "outlinewidth": 0,
              "ticks": ""
             }
            },
            "marker": {
             "colorbar": {
              "outlinewidth": 0,
              "ticks": ""
             }
            },
            "type": "scatter3d"
           }
          ],
          "scattercarpet": [
           {
            "marker": {
             "colorbar": {
              "outlinewidth": 0,
              "ticks": ""
             }
            },
            "type": "scattercarpet"
           }
          ],
          "scattergeo": [
           {
            "marker": {
             "colorbar": {
              "outlinewidth": 0,
              "ticks": ""
             }
            },
            "type": "scattergeo"
           }
          ],
          "scattergl": [
           {
            "marker": {
             "colorbar": {
              "outlinewidth": 0,
              "ticks": ""
             }
            },
            "type": "scattergl"
           }
          ],
          "scattermapbox": [
           {
            "marker": {
             "colorbar": {
              "outlinewidth": 0,
              "ticks": ""
             }
            },
            "type": "scattermapbox"
           }
          ],
          "scatterpolar": [
           {
            "marker": {
             "colorbar": {
              "outlinewidth": 0,
              "ticks": ""
             }
            },
            "type": "scatterpolar"
           }
          ],
          "scatterpolargl": [
           {
            "marker": {
             "colorbar": {
              "outlinewidth": 0,
              "ticks": ""
             }
            },
            "type": "scatterpolargl"
           }
          ],
          "scatterternary": [
           {
            "marker": {
             "colorbar": {
              "outlinewidth": 0,
              "ticks": ""
             }
            },
            "type": "scatterternary"
           }
          ],
          "surface": [
           {
            "colorbar": {
             "outlinewidth": 0,
             "ticks": ""
            },
            "colorscale": [
             [
              0,
              "#0d0887"
             ],
             [
              0.1111111111111111,
              "#46039f"
             ],
             [
              0.2222222222222222,
              "#7201a8"
             ],
             [
              0.3333333333333333,
              "#9c179e"
             ],
             [
              0.4444444444444444,
              "#bd3786"
             ],
             [
              0.5555555555555556,
              "#d8576b"
             ],
             [
              0.6666666666666666,
              "#ed7953"
             ],
             [
              0.7777777777777778,
              "#fb9f3a"
             ],
             [
              0.8888888888888888,
              "#fdca26"
             ],
             [
              1,
              "#f0f921"
             ]
            ],
            "type": "surface"
           }
          ],
          "table": [
           {
            "cells": {
             "fill": {
              "color": "#EBF0F8"
             },
             "line": {
              "color": "white"
             }
            },
            "header": {
             "fill": {
              "color": "#C8D4E3"
             },
             "line": {
              "color": "white"
             }
            },
            "type": "table"
           }
          ]
         },
         "layout": {
          "annotationdefaults": {
           "arrowcolor": "#2a3f5f",
           "arrowhead": 0,
           "arrowwidth": 1
          },
          "autotypenumbers": "strict",
          "coloraxis": {
           "colorbar": {
            "outlinewidth": 0,
            "ticks": ""
           }
          },
          "colorscale": {
           "diverging": [
            [
             0,
             "#8e0152"
            ],
            [
             0.1,
             "#c51b7d"
            ],
            [
             0.2,
             "#de77ae"
            ],
            [
             0.3,
             "#f1b6da"
            ],
            [
             0.4,
             "#fde0ef"
            ],
            [
             0.5,
             "#f7f7f7"
            ],
            [
             0.6,
             "#e6f5d0"
            ],
            [
             0.7,
             "#b8e186"
            ],
            [
             0.8,
             "#7fbc41"
            ],
            [
             0.9,
             "#4d9221"
            ],
            [
             1,
             "#276419"
            ]
           ],
           "sequential": [
            [
             0,
             "#0d0887"
            ],
            [
             0.1111111111111111,
             "#46039f"
            ],
            [
             0.2222222222222222,
             "#7201a8"
            ],
            [
             0.3333333333333333,
             "#9c179e"
            ],
            [
             0.4444444444444444,
             "#bd3786"
            ],
            [
             0.5555555555555556,
             "#d8576b"
            ],
            [
             0.6666666666666666,
             "#ed7953"
            ],
            [
             0.7777777777777778,
             "#fb9f3a"
            ],
            [
             0.8888888888888888,
             "#fdca26"
            ],
            [
             1,
             "#f0f921"
            ]
           ],
           "sequentialminus": [
            [
             0,
             "#0d0887"
            ],
            [
             0.1111111111111111,
             "#46039f"
            ],
            [
             0.2222222222222222,
             "#7201a8"
            ],
            [
             0.3333333333333333,
             "#9c179e"
            ],
            [
             0.4444444444444444,
             "#bd3786"
            ],
            [
             0.5555555555555556,
             "#d8576b"
            ],
            [
             0.6666666666666666,
             "#ed7953"
            ],
            [
             0.7777777777777778,
             "#fb9f3a"
            ],
            [
             0.8888888888888888,
             "#fdca26"
            ],
            [
             1,
             "#f0f921"
            ]
           ]
          },
          "colorway": [
           "#636efa",
           "#EF553B",
           "#00cc96",
           "#ab63fa",
           "#FFA15A",
           "#19d3f3",
           "#FF6692",
           "#B6E880",
           "#FF97FF",
           "#FECB52"
          ],
          "font": {
           "color": "#2a3f5f"
          },
          "geo": {
           "bgcolor": "white",
           "lakecolor": "white",
           "landcolor": "#E5ECF6",
           "showlakes": true,
           "showland": true,
           "subunitcolor": "white"
          },
          "hoverlabel": {
           "align": "left"
          },
          "hovermode": "closest",
          "mapbox": {
           "style": "light"
          },
          "paper_bgcolor": "white",
          "plot_bgcolor": "#E5ECF6",
          "polar": {
           "angularaxis": {
            "gridcolor": "white",
            "linecolor": "white",
            "ticks": ""
           },
           "bgcolor": "#E5ECF6",
           "radialaxis": {
            "gridcolor": "white",
            "linecolor": "white",
            "ticks": ""
           }
          },
          "scene": {
           "xaxis": {
            "backgroundcolor": "#E5ECF6",
            "gridcolor": "white",
            "gridwidth": 2,
            "linecolor": "white",
            "showbackground": true,
            "ticks": "",
            "zerolinecolor": "white"
           },
           "yaxis": {
            "backgroundcolor": "#E5ECF6",
            "gridcolor": "white",
            "gridwidth": 2,
            "linecolor": "white",
            "showbackground": true,
            "ticks": "",
            "zerolinecolor": "white"
           },
           "zaxis": {
            "backgroundcolor": "#E5ECF6",
            "gridcolor": "white",
            "gridwidth": 2,
            "linecolor": "white",
            "showbackground": true,
            "ticks": "",
            "zerolinecolor": "white"
           }
          },
          "shapedefaults": {
           "line": {
            "color": "#2a3f5f"
           }
          },
          "ternary": {
           "aaxis": {
            "gridcolor": "white",
            "linecolor": "white",
            "ticks": ""
           },
           "baxis": {
            "gridcolor": "white",
            "linecolor": "white",
            "ticks": ""
           },
           "bgcolor": "#E5ECF6",
           "caxis": {
            "gridcolor": "white",
            "linecolor": "white",
            "ticks": ""
           }
          },
          "title": {
           "x": 0.05
          },
          "xaxis": {
           "automargin": true,
           "gridcolor": "white",
           "linecolor": "white",
           "ticks": "",
           "title": {
            "standoff": 15
           },
           "zerolinecolor": "white",
           "zerolinewidth": 2
          },
          "yaxis": {
           "automargin": true,
           "gridcolor": "white",
           "linecolor": "white",
           "ticks": "",
           "title": {
            "standoff": 15
           },
           "zerolinecolor": "white",
           "zerolinewidth": 2
          }
         }
        },
        "title": {
         "text": "Figuras"
        },
        "width": 900,
        "xaxis": {
         "anchor": "y",
         "domain": [
          0,
          0.2888888888888889
         ]
        },
        "xaxis2": {
         "anchor": "y2",
         "domain": [
          0.35555555555555557,
          0.6444444444444445
         ]
        },
        "xaxis3": {
         "anchor": "y3",
         "domain": [
          0.7111111111111111,
          1
         ]
        },
        "xaxis4": {
         "anchor": "y4",
         "domain": [
          0,
          0.2888888888888889
         ]
        },
        "xaxis5": {
         "anchor": "y5",
         "domain": [
          0.35555555555555557,
          0.6444444444444445
         ]
        },
        "xaxis6": {
         "anchor": "y6",
         "domain": [
          0.7111111111111111,
          1
         ]
        },
        "xaxis7": {
         "anchor": "y7",
         "domain": [
          0,
          0.2888888888888889
         ]
        },
        "xaxis8": {
         "anchor": "y8",
         "domain": [
          0.35555555555555557,
          0.6444444444444445
         ]
        },
        "xaxis9": {
         "anchor": "y9",
         "domain": [
          0.7111111111111111,
          1
         ]
        },
        "yaxis": {
         "anchor": "x",
         "domain": [
          0.7333333333333333,
          1
         ]
        },
        "yaxis2": {
         "anchor": "x2",
         "domain": [
          0.7333333333333333,
          1
         ]
        },
        "yaxis3": {
         "anchor": "x3",
         "domain": [
          0.7333333333333333,
          1
         ]
        },
        "yaxis4": {
         "anchor": "x4",
         "domain": [
          0.36666666666666664,
          0.6333333333333333
         ]
        },
        "yaxis5": {
         "anchor": "x5",
         "domain": [
          0.36666666666666664,
          0.6333333333333333
         ]
        },
        "yaxis6": {
         "anchor": "x6",
         "domain": [
          0.36666666666666664,
          0.6333333333333333
         ]
        },
        "yaxis7": {
         "anchor": "x7",
         "domain": [
          0,
          0.26666666666666666
         ]
        },
        "yaxis8": {
         "anchor": "x8",
         "domain": [
          0,
          0.26666666666666666
         ]
        },
        "yaxis9": {
         "anchor": "x9",
         "domain": [
          0,
          0.26666666666666666
         ]
        }
       }
      }
     },
     "metadata": {},
     "output_type": "display_data"
    }
   ],
   "source": [
    "from plotly.subplots import make_subplots\n",
    "import plotly.graph_objects as go\n",
    "\n",
    "fs = 3840\n",
    "dataset_test = Form1Dataset(\n",
    "    dataset_dir, max_window_idx=max_window_idx, signal_name=signal_name, test=True\n",
    ")\n",
    "train_dataloader = DataLoader(dataset_test, batch_size=train_batch_size, shuffle=True)\n",
    "\n",
    "dataiter = iter(train_dataloader)\n",
    "signal_windows, t_windows, labels, *_ = next(dataiter)\n",
    "\n",
    "x = model(signal_windows[1:10].to(device))\n",
    "x = x.detach()\n",
    "\n",
    "# Crear Matriz de confusión\n",
    "df = confussion_matrix(x, labels[1:10])\n",
    "print(df)\n",
    "\n",
    "# figure = plt.figure(figsize=(10, 10))\n",
    "cols, rows = 3, 3\n",
    "fig = make_subplots(rows=rows, cols=cols)\n",
    "\n",
    "for i in range(0, cols * rows):\n",
    "\n",
    "    col = i % cols\n",
    "    row = i // cols\n",
    "    fig.add_trace(\n",
    "        go.Scatter(\n",
    "            name=i, x=t_windows[i, :], y=signal_windows[i, :, 0], marker_color=\"black\"\n",
    "        ),\n",
    "        row=row + 1,\n",
    "        col=col + 1,\n",
    "    )\n",
    "\n",
    "fig.update_layout(\n",
    "    height=700,\n",
    "    width=900,\n",
    "    title_text=\"Figuras\",\n",
    "    margin={\"b\": 20, \"t\": 40, \"l\": 20, \"r\": 30},\n",
    "    plot_bgcolor=\"rgba(0,0,0,0)\",\n",
    "    # paper_bgcolor=\"whitesmoke\",\n",
    ")\n",
    "fig.show()\n"
   ]
  },
  {
   "attachments": {},
   "cell_type": "markdown",
   "metadata": {},
   "source": [
    "## Modelo R2 "
   ]
  },
  {
   "cell_type": "code",
   "execution_count": 52,
   "metadata": {},
   "outputs": [
    {
     "name": "stdout",
     "output_type": "stream",
     "text": [
      "Model structure: FaultDetector(\n",
      "  (lstm): LSTM(1, 20, batch_first=True)\n",
      "  (fc): Linear(in_features=20, out_features=1, bias=True)\n",
      ")\n",
      "\n",
      "Epoch 1\n",
      "--------------------------------\n",
      "loss: 0.702416 [    0/ 4680]\n",
      "loss: 0.619623 [  128/ 4680]\n",
      "loss: 0.578907 [  256/ 4680]\n",
      "loss: 0.514406 [  384/ 4680]\n",
      "loss: 0.474631 [  512/ 4680]\n",
      "loss: 0.472961 [  640/ 4680]\n",
      "loss: 0.408875 [  768/ 4680]\n",
      "loss: 0.387976 [  896/ 4680]\n",
      "loss: 0.342253 [ 1024/ 4680]\n",
      "loss: 0.347737 [ 1152/ 4680]\n",
      "loss: 0.332794 [ 1280/ 4680]\n",
      "loss: 0.278311 [ 1408/ 4680]\n",
      "loss: 0.228398 [ 1536/ 4680]\n",
      "loss: 0.286093 [ 1664/ 4680]\n",
      "loss: 0.266084 [ 1792/ 4680]\n",
      "loss: 0.296108 [ 1920/ 4680]\n",
      "loss: 0.234159 [ 2048/ 4680]\n",
      "loss: 0.162087 [ 2176/ 4680]\n",
      "loss: 0.142467 [ 2304/ 4680]\n",
      "loss: 0.115131 [ 2432/ 4680]\n",
      "loss: 0.157571 [ 2560/ 4680]\n",
      "loss: 0.104809 [ 2688/ 4680]\n",
      "loss: 0.126491 [ 2816/ 4680]\n",
      "loss: 0.086688 [ 2944/ 4680]\n",
      "loss: 0.087159 [ 3072/ 4680]\n",
      "loss: 0.105678 [ 3200/ 4680]\n",
      "loss: 0.090882 [ 3328/ 4680]\n",
      "loss: 0.149158 [ 3456/ 4680]\n",
      "loss: 0.213144 [ 3584/ 4680]\n",
      "loss: 0.117503 [ 3712/ 4680]\n",
      "loss: 0.078970 [ 3840/ 4680]\n",
      "loss: 0.055278 [ 3968/ 4680]\n",
      "loss: 0.066988 [ 4096/ 4680]\n",
      "loss: 0.096345 [ 4224/ 4680]\n",
      "loss: 0.080739 [ 4352/ 4680]\n",
      "loss: 0.056449 [ 4480/ 4680]\n",
      "loss: 0.051571 [ 4608/ 4680]\n",
      "Test Error: \n",
      " Accuracy: 97.2%, Avg loss: 0.114193 \n",
      "\n"
     ]
    }
   ],
   "source": [
    "# Load Dataset\n",
    "signal_name_R2 = \"I: X0004A-R2A\"\n",
    "dataset_R2 = Form1Dataset(\n",
    "    dataset_dir_R2, max_window_idx=max_window_idx, signal_name=signal_name_R2\n",
    ")\n",
    "train_dataset, test_dataset, dev_dataset = random_split(dataset_R2, [0.9, 0.09, 0.01])\n",
    "train_dataloader = DataLoader(train_dataset, batch_size=train_batch_size, shuffle=True)\n",
    "test_dataloader = DataLoader(test_dataset, batch_size=test_batch_size, shuffle=True)\n",
    "# EL test set realmente es un dev set\n",
    "# Como regla general, si es utilizado dentro del loop es un dev set.\n",
    "dev_dataloader = DataLoader(dev_dataset, batch_size=dev_batch_size, shuffle=True)\n",
    "epochs = 1\n",
    "\n",
    "# Create Model\n",
    "\n",
    "model_R2 = FaultDetector(n_signals, hidden_dim, tagset_size).to(device)\n",
    "loss_fn = nn.BCELoss()\n",
    "optimizer = torch.optim.Adam(model_R2.parameters(), lr=1e-2)\n",
    "# Learning rate decay\n",
    "decayRate = 0.96\n",
    "my_lr_scheduler = torch.optim.lr_scheduler.ExponentialLR(optimizer=optimizer, gamma=decayRate)\n",
    "\n",
    "print(f\"Model structure: {model_R2}\\n\")\n",
    "\n",
    "\n",
    "for epoch in range(epochs):\n",
    "    \n",
    "    print(f\"Epoch {epoch+1}\\n--------------------------------\")\n",
    "    train_loss = train(train_dataloader, model_R2, loss_fn, optimizer, return_loss=True)\n",
    "    test(test_dataloader, model_R2, loss_fn)\n"
   ]
  },
  {
   "cell_type": "code",
   "execution_count": 55,
   "metadata": {},
   "outputs": [
    {
     "data": {
      "text/plain": [
       "[<matplotlib.lines.Line2D at 0x1cbf303c0d0>,\n",
       " <matplotlib.lines.Line2D at 0x1cbf303c130>]"
      ]
     },
     "execution_count": 55,
     "metadata": {},
     "output_type": "execute_result"
    },
    {
     "data": {
      "image/png": "[encoded data removed]",
      "text/plain": [
       "<Figure size 640x480 with 1 Axes>"
      ]
     },
     "metadata": {},
     "output_type": "display_data"
    }
   ],
   "source": [
    "mini_batch_list = [index for index, _ in enumerate(train_loss)]\n",
    "train_loss_ewm = pd.DataFrame(train_loss).ewm(com=0.98).mean()\n",
    "plt.plot(mini_batch_list, train_loss, mini_batch_list, train_loss_ewm)"
   ]
  },
  {
   "cell_type": "code",
   "execution_count": 54,
   "metadata": {},
   "outputs": [],
   "source": [
    "# # Save the Model_R2\n",
    "# torch.save(model_R2.state_dict(), './models/LSTMHarmonic_weights_R2_972.pth')\n",
    "# model_R2.load_state_dict(torch.load('./models/LSTMHarmonic_weights_989.pth'))"
   ]
  },
  {
   "cell_type": "code",
   "execution_count": 60,
   "metadata": {},
   "outputs": [
    {
     "name": "stdout",
     "output_type": "stream",
     "text": [
      "torch.Size([16, 64, 1])\n",
      "tensor([[0., 1., 0., 0., 1., 0., 1., 0., 0.]])\n",
      "tensor([[0., 1., 0., 0., 1., 0., 1., 0., 0.]], grad_fn=<ReshapeAliasBackward0>)\n",
      "tensor([[0.0139, 0.9801, 0.0268, 0.0299, 0.9595, 0.0424, 0.9759, 0.0199, 0.0319]],\n",
      "       grad_fn=<ReshapeAliasBackward0>)\n"
     ]
    },
    {
     "data": {
      "image/png": "[encoded data removed]",
      "text/plain": [
       "<Figure size 1000x1000 with 9 Axes>"
      ]
     },
     "metadata": {},
     "output_type": "display_data"
    }
   ],
   "source": [
    "dataiter = iter(dev_dataloader)\n",
    "signal, labels = next(dataiter)\n",
    "fs = 3840\n",
    "t = np.linspace(0, N / fs, N)\n",
    "print(signal.shape)\n",
    "print(torch.reshape(labels[1:10], (1, -1)))\n",
    "figure = plt.figure(figsize=(10, 10))\n",
    "cols, rows = 3, 3\n",
    "for i in range(1, cols * rows + 1):\n",
    "    figure.add_subplot(rows, cols, i)\n",
    "    plt.plot(t, signal[i, :, 0])\n",
    "x = model_R2(signal[1:10].to(device))\n",
    "print(torch.reshape(torch.round(x), (1, -1)))\n",
    "print(torch.reshape(x, (1, -1)))"
   ]
  },
  {
   "attachments": {},
   "cell_type": "markdown",
   "metadata": {},
   "source": [
    "## Modelo R3"
   ]
  },
  {
   "cell_type": "code",
   "execution_count": 68,
   "metadata": {},
   "outputs": [
    {
     "name": "stdout",
     "output_type": "stream",
     "text": [
      "Model structure: FaultDetector(\n",
      "  (lstm): LSTM(1, 20, batch_first=True)\n",
      "  (fc): Linear(in_features=20, out_features=1, bias=True)\n",
      ")\n",
      "\n",
      "Epoch 1\n",
      "--------------------------------\n",
      "loss: 0.692727 [    0/ 4096]\n",
      "loss: 0.660021 [  128/ 4096]\n",
      "loss: 0.615531 [  256/ 4096]\n",
      "loss: 0.611954 [  384/ 4096]\n",
      "loss: 0.558207 [  512/ 4096]\n",
      "loss: 0.535211 [  640/ 4096]\n",
      "loss: 0.482247 [  768/ 4096]\n",
      "loss: 0.397284 [  896/ 4096]\n",
      "loss: 0.406855 [ 1024/ 4096]\n",
      "loss: 0.461562 [ 1152/ 4096]\n",
      "loss: 0.321832 [ 1280/ 4096]\n",
      "loss: 0.452397 [ 1408/ 4096]\n",
      "loss: 0.293362 [ 1536/ 4096]\n",
      "loss: 0.344139 [ 1664/ 4096]\n",
      "loss: 0.261584 [ 1792/ 4096]\n",
      "loss: 0.264005 [ 1920/ 4096]\n",
      "loss: 0.210620 [ 2048/ 4096]\n",
      "loss: 0.233822 [ 2176/ 4096]\n",
      "loss: 0.211859 [ 2304/ 4096]\n",
      "loss: 0.172653 [ 2432/ 4096]\n",
      "loss: 0.162004 [ 2560/ 4096]\n",
      "loss: 0.224023 [ 2688/ 4096]\n",
      "loss: 0.170676 [ 2816/ 4096]\n",
      "loss: 0.158842 [ 2944/ 4096]\n",
      "loss: 0.220028 [ 3072/ 4096]\n",
      "loss: 0.113526 [ 3200/ 4096]\n",
      "loss: 0.180606 [ 3328/ 4096]\n",
      "loss: 0.191468 [ 3456/ 4096]\n",
      "loss: 0.134197 [ 3584/ 4096]\n",
      "loss: 0.114831 [ 3712/ 4096]\n",
      "loss: 0.084365 [ 3840/ 4096]\n",
      "loss: 0.179088 [ 3968/ 4096]\n",
      "Test Error: \n",
      " Accuracy: 98.3%, Avg loss: 0.108831 \n",
      "\n"
     ]
    }
   ],
   "source": [
    "# Load Dataset\n",
    "signal_name_R3 = \"I: X0071A-R3A\"\n",
    "dataset_R3 = Form1Dataset(\n",
    "    dataset_dir_R3, max_window_idx=max_window_idx, signal_name=signal_name_R3\n",
    ")\n",
    "train_dataset, test_dataset, dev_dataset = random_split(dataset_R3, [0.9, 0.09, 0.01])\n",
    "train_dataloader = DataLoader(train_dataset, batch_size=train_batch_size, shuffle=True)\n",
    "test_dataloader = DataLoader(test_dataset, batch_size=test_batch_size, shuffle=True)\n",
    "# EL test set realmente es un dev set\n",
    "# Como regla general, si es utilizado dentro del loop es un dev set.\n",
    "dev_dataloader = DataLoader(dev_dataset, batch_size=dev_batch_size, shuffle=True)\n",
    "epochs = 1\n",
    "\n",
    "# Create Model\n",
    "\n",
    "model_R3 = FaultDetector(n_signals, hidden_dim, tagset_size).to(device)\n",
    "loss_fn = nn.BCELoss()\n",
    "optimizer = torch.optim.Adam(model_R3.parameters(), lr=1e-2)\n",
    "# Learning rate decay\n",
    "decayRate = 0.96\n",
    "my_lr_scheduler = torch.optim.lr_scheduler.ExponentialLR(optimizer=optimizer, gamma=decayRate)\n",
    "\n",
    "print(f\"Model structure: {model_R3}\\n\")\n",
    "\n",
    "\n",
    "for epoch in range(epochs):\n",
    "    \n",
    "    print(f\"Epoch {epoch+1}\\n--------------------------------\")\n",
    "    train_loss = train(train_dataloader, model_R3, loss_fn, optimizer, return_loss=True)\n",
    "    test(test_dataloader, model_R3, loss_fn)"
   ]
  },
  {
   "cell_type": "code",
   "execution_count": 69,
   "metadata": {},
   "outputs": [
    {
     "data": {
      "text/plain": [
       "0.1790877729654312"
      ]
     },
     "execution_count": 69,
     "metadata": {},
     "output_type": "execute_result"
    },
    {
     "data": {
      "image/png": "[encoded data removed]",
      "text/plain": [
       "<Figure size 640x480 with 1 Axes>"
      ]
     },
     "metadata": {},
     "output_type": "display_data"
    }
   ],
   "source": [
    "mini_batch_list = [index for index, _ in enumerate(train_loss)]\n",
    "train_loss_ewm = pd.DataFrame(train_loss).ewm(com=0.98).mean()\n",
    "plt.plot(mini_batch_list, train_loss, mini_batch_list, train_loss_ewm)\n",
    "train_loss[-2]"
   ]
  },
  {
   "cell_type": "code",
   "execution_count": 70,
   "metadata": {},
   "outputs": [],
   "source": [
    "# # Save the Model_R2\n",
    "# torch.save(model_R3.state_dict(), './models/LSTMHarmonic_weights_R3_983.pth')\n",
    "# model_R2.load_state_dict(torch.load('./models/LSTMHarmonic_weights_989.pth'))"
   ]
  },
  {
   "cell_type": "code",
   "execution_count": 74,
   "metadata": {},
   "outputs": [
    {
     "name": "stdout",
     "output_type": "stream",
     "text": [
      "torch.Size([16, 64, 1])\n",
      "tensor([[1., 1., 0., 1., 1., 0., 1., 0., 1.]])\n",
      "tensor([[1., 1., 0., 1., 1., 0., 1., 0., 1.]], grad_fn=<ReshapeAliasBackward0>)\n",
      "tensor([[0.9562, 0.9559, 0.0382, 0.9664, 0.9712, 0.0191, 0.9659, 0.0283, 0.9659]],\n",
      "       grad_fn=<ReshapeAliasBackward0>)\n"
     ]
    },
    {
     "data": {
      "image/png": "[encoded data removed]",
      "text/plain": [
       "<Figure size 1000x1000 with 9 Axes>"
      ]
     },
     "metadata": {},
     "output_type": "display_data"
    }
   ],
   "source": [
    "dataiter = iter(dev_dataloader)\n",
    "signal, labels = next(dataiter)\n",
    "fs = 3840\n",
    "t = np.linspace(0, N / fs, N)\n",
    "print(signal.shape)\n",
    "print(torch.reshape(labels[1:10], (1, -1)))\n",
    "figure = plt.figure(figsize=(10, 10))\n",
    "cols, rows = 3, 3\n",
    "for i in range(1, cols * rows + 1):\n",
    "    figure.add_subplot(rows, cols, i)\n",
    "    plt.plot(t, signal[i, :, 0])\n",
    "x = model_R2(signal[1:10].to(device))\n",
    "print(torch.reshape(torch.round(x), (1, -1)))\n",
    "print(torch.reshape(x, (1, -1)))"
   ]
  }
 ],
 "metadata": {
  "kernelspec": {
   "display_name": "env",
   "language": "python",
   "name": "python3"
  },
  "language_info": {
   "codemirror_mode": {
    "name": "ipython",
    "version": 3
   },
   "file_extension": ".py",
   "mimetype": "text/x-python",
   "name": "python",
   "nbconvert_exporter": "python",
   "pygments_lexer": "ipython3",
   "version": "3.9.13"
  },
  "orig_nbformat": 4,
  "vscode": {
   "interpreter": {
    "hash": "edf36f54e3c0d12e79cbfbdb2eab1260e125462eb03956a03e5e853a13b289dd"
   }
  }
 },
 "nbformat": 4,
 "nbformat_minor": 2
}
