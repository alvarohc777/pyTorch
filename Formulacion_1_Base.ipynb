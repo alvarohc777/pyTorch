{
 "cells": [
  {
   "attachments": {},
   "cell_type": "markdown",
   "metadata": {},
   "source": [
    "<center><h1 style:\"text-align:center;\">Formulación 1</h1></center>\n",
    "<center><h3>Base Notebook</h3></center>"
   ]
  },
  {
   "attachments": {},
   "cell_type": "markdown",
   "metadata": {},
   "source": [
    "### 1. Imports"
   ]
  },
  {
   "cell_type": "code",
   "execution_count": 2,
   "metadata": {},
   "outputs": [
    {
     "name": "stderr",
     "output_type": "stream",
     "text": [
      "c:\\Users\\aherrada\\Documents\\Git\\Pytorch\\env\\lib\\site-packages\\tqdm\\auto.py:22: TqdmWarning: IProgress not found. Please update jupyter and ipywidgets. See https://ipywidgets.readthedocs.io/en/stable/user_install.html\n",
      "  from .autonotebook import tqdm as notebook_tqdm\n"
     ]
    }
   ],
   "source": [
    "import torch\n",
    "import torch.nn as nn\n",
    "from torch.utils.data import Dataset, DataLoader, random_split\n",
    "import numpy as np\n",
    "import pandas as pd\n",
    "import matplotlib.pyplot as plt\n",
    "\n",
    "# Acceder al sistema operativo\n",
    "import os\n",
    "import glob\n",
    "import shutil\n",
    "import random\n",
    "\n"
   ]
  },
  {
   "attachments": {},
   "cell_type": "markdown",
   "metadata": {},
   "source": [
    "### 2. Model Parameters\n",
    "\n",
    "#### LSTM parameters\n",
    "\n",
    "- **n_signals:** number of signals fed into model for each event.\n",
    "    - For example: for input signals: [$I_{a}$, $I_{b}$, $I_{c}$] -> n_signals = 3).\n",
    "    <br><br>\n",
    "- **N:** window size. \n",
    "    - For 3840Hz sampling frequency and a 0.016ms window (containing one cycle of a 60Hz wave), N = 64.\n",
    "    \\begin{equation}\n",
    "    N = \\frac{fs}{f_{fundamental}} w\n",
    "    \\end{equation}\n",
    "    <br>\n",
    "- **hidden_dim:** The number of features in the hidden state $a^{\\langle t \\rangle}$ (also refered as $h^{\\langle t \\rangle}$)\n",
    "\n",
    "    \n",
    "    \n",
    "    \n",
    "    \n",
    "\n",
    "\n",
    "\n",
    "- **train/test/dev_batch_size**: mini-batch size.\n",
    "    - train: portion of dataset used to train the model (i.e. adjust the weigths and biases).\n",
    "    - test: portion of dataset used to estimate the performance of the model.\n",
    "    <br><br>\n",
    "    \n",
    "\n",
    "<figure> \n",
    "<center><img src=\"./images/DatabaseSchema.jpeg\" style=\"height:220px;width:330px;\"></center>\n",
    "<caption><center><font color='whitesmoke'><b>Figure 1.</b> Mini-batch dataset geometry </font></center></caption>\n",
    "</figure>\n",
    "\n",
    "\n",
    "- **target_size:** number of classes.\n",
    "    - target_size = 1:\n",
    "        - Binary Classification: One output treated as probability of belonging to one class or the other (E.g. No-Fault = 0 | Fault = 1)\n",
    "    - target_size > 1:\n",
    "        - Multiclass: Multiple exclusive classes. Class with higher score represents predicted class. The sum of scores (using softmax) adds up 1.<br> (E.g. [No-fault, Fault, Caps], an output of values [0.07, 0.91, 0.2] represents a Fault class prediction)\n",
    "        - Multilabel: Multiple classes that are not mutually exclusive. Each position of output vector is a probability (using sigmoid).\n",
    "<br> (E.g. [$\\phi_A$, $\\phi_B$, $\\phi_C$], an output of values [0.95, 0.90, 0.01 ] represents faulted phases *A* and *B*, i.e. biphasic *AB* fault )\n",
    "\n",
    "\n",
    "\n",
    "\n"
   ]
  },
  {
   "cell_type": "code",
   "execution_count": 3,
   "metadata": {},
   "outputs": [
    {
     "name": "stdout",
     "output_type": "stream",
     "text": [
      "cpu\n"
     ]
    }
   ],
   "source": [
    "# LSTM parameters\n",
    "hidden_dim = 20\n",
    "n_signals = 1\n",
    "N = 64\n",
    "\n",
    "# _batch_size => m in figure 1.\n",
    "train_batch_size = 64\n",
    "dev_batch_size = 16\n",
    "test_batch_size = 16\n",
    "\n",
    "# Classification type (binary)\n",
    "tagset_size = 1\n",
    "\n",
    "# Set\n",
    "device = \"cuda\" if torch.cuda.is_available() else \"cpu\"\n",
    "print(device)\n"
   ]
  },
  {
   "attachments": {},
   "cell_type": "markdown",
   "metadata": {},
   "source": [
    "### 3. Model Creation\n",
    "\n",
    "The fault detector model consists of a block of *N* LSTM cells (figure 2.) in series. This block processes one training sample at a time (moving window). For each moving window, each cell processes a sample of the signal, and will pass context information sequentially to the next cell. This information will be passed in the hidden state $a^{\\langle t \\rangle}$  and the cell state $c^{\\langle t \\rangle}$. \n",
    "\n",
    "\n",
    "Each LSTM's input $x^{\\langle t \\rangle}$ is combined with it's previous hidden state $a^{\\langle t - 1 \\rangle}$. \n",
    "Each LSTM's cell state $c^{\\langle t \\rangle}$. will be inputed to the next LSTM $_{t + 1}$ . At each step $c^{\\langle t \\rangle}$ is updated to add _(remember)_ or delete _(forget)_ information.\n",
    "\n",
    "At each time step, $a^{\\langle t \\rangle}$ can be passed through a sigmoid function to obatain an output $\\hat{y}^{\\langle t \\rangle}$. However, this yields a many-to-many model. Since fault detection is made after processing _N_ input samples inside a moving window, only one label is needed per window (no-fault/fault) making it possible to approach the problem as binary classification. \n",
    "In other words, for each moving window, the prediction will be made at the last LSTM block cell, i.e. $\\hat{y}^{\\langle N-1 \\rangle}$.\n",
    "\n",
    "<br>\n",
    "\n",
    "\n",
    "<figure> \n",
    "<center><img src=\"./images/LSTM_cell.png\" style=\"width:500;height:400px;\" ></center>\n",
    "<caption><center><b>Figure 2.</b>LSTM cell</center></caption>\n",
    "</figure>\n",
    "\n",
    "\n",
    "##### WRITE MORE LSTM INFORMATION\n",
    "\n",
    "The LSTM block will be fed an input vector of dimension (m, N, s), where:\n",
    "\n",
    "            - m: mini-batch size.\n",
    "            - N: moving window size.\n",
    "            - s: signals _(n_signals)_\n",
    "        \n",
    "Pytorch **nn.Module** class will be used to create the FaultDetector LSTM detector class following the architecture shown in figure 3. The FaultDetector class includes the LSTM, linear and sigmoid blocks shown in the flow diagram. The linear + sigmoid blocks work as the classifier part of the model. The hidden activation $a^{\\langle N-1 \\rangle}$ _(lstm_out[:, -1, :])_ is passed through the classifier block to obtain $\\hat{y}^{\\langle N-1 \\rangle}$, with dimensions (m, 1).\n",
    "\n",
    "\n",
    "<figure> \n",
    "<center><img src=\"./images/LSTM_binary.jpeg\" style=\"width:700;height:600px;\"></center>\n",
    "<caption><center><b>Figure 3.</b>LSTM detector flow diagram</center></caption>\n",
    "</figure>\n"
   ]
  },
  {
   "attachments": {},
   "cell_type": "markdown",
   "metadata": {},
   "source": [
    "##### 3.1. FaultDetector Class Creation"
   ]
  },
  {
   "cell_type": "code",
   "execution_count": 4,
   "metadata": {},
   "outputs": [],
   "source": [
    "# Model Creation\n",
    "\n",
    "\n",
    "class FaultDetector(nn.Module):\n",
    "    \"\"\"Some Information about FaultDetector\"\"\"\n",
    "\n",
    "    def __init__(self, N, hidden_dim, tagset_size):\n",
    "        super(FaultDetector, self).__init__()\n",
    "        self.lstm = nn.LSTM(N, hidden_dim, batch_first=True)\n",
    "        self.fc = nn.Linear(hidden_dim, tagset_size)\n",
    "\n",
    "    def forward(self, x):\n",
    "        lstm_out, _ = self.lstm(x)\n",
    "        fc_layer = self.fc(lstm_out[:, -1, :])\n",
    "\n",
    "        return torch.sigmoid(fc_layer)\n",
    "\n",
    "\n"
   ]
  },
  {
   "attachments": {},
   "cell_type": "markdown",
   "metadata": {},
   "source": [
    "##### 3.2. Model Instance Initialization"
   ]
  },
  {
   "cell_type": "code",
   "execution_count": 5,
   "metadata": {},
   "outputs": [
    {
     "name": "stdout",
     "output_type": "stream",
     "text": [
      "Model structure: FaultDetector(\n",
      "  (lstm): LSTM(1, 20, batch_first=True)\n",
      "  (fc): Linear(in_features=20, out_features=1, bias=True)\n",
      ")\n",
      "\n",
      "1861\n"
     ]
    }
   ],
   "source": [
    "model = FaultDetector(n_signals, hidden_dim, tagset_size).to(device)\n",
    "loss_fn = nn.BCELoss()\n",
    "optimizer = torch.optim.Adam(model.parameters(), lr=1e-2)\n",
    "# Learning rate decay (optional)\n",
    "\n",
    "decayRate = 0.96\n",
    "my_lr_scheduler = torch.optim.lr_scheduler.ExponentialLR(\n",
    "    optimizer=optimizer, gamma=decayRate\n",
    ")\n",
    "\n",
    "# Model Summary\n",
    "print(f\"Model structure: {model}\\n\")\n",
    "\n",
    "# Number of parameters\n",
    "model_parameters = filter(lambda p: p.requires_grad, model.parameters())\n",
    "params = sum([np.prod(p.size()) for p in model_parameters])\n",
    "print(f\"Number of parameters: {params}\")"
   ]
  },
  {
   "attachments": {},
   "cell_type": "markdown",
   "metadata": {},
   "source": [
    "### 4. Dataset Creation"
   ]
  },
  {
   "attachments": {},
   "cell_type": "markdown",
   "metadata": {},
   "source": [
    "##### 4.1. Dataset Class Creation"
   ]
  },
  {
   "cell_type": "code",
   "execution_count": 6,
   "metadata": {},
   "outputs": [],
   "source": [
    "from utils.signalload import CSV_pandas_path\n",
    "from utils.auxfunctions import moving_window\n",
    "import numpy as np\n",
    "from itertools import repeat\n",
    "\n",
    "\n",
    "class Form1Dataset(torch.utils.data.Dataset):\n",
    "    \"\"\"Some Information about Form1Dataset\"\"\"\n",
    "\n",
    "    def __init__(\n",
    "        self,\n",
    "        dataset_dir,\n",
    "        signal_name,\n",
    "        max_window_idx=193,\n",
    "        window_length=64,\n",
    "        step=1,\n",
    "        test=False,\n",
    "    ):\n",
    "        super(Form1Dataset, self).__init__()\n",
    "        self.max_window_idx = max_window_idx\n",
    "        self.test = test\n",
    "        self.signal_name = signal_name\n",
    "\n",
    "        self.csv_list = glob.glob(f\"{dataset_dir}*.csv\")\n",
    "        self.csv_amount = len(self.csv_list)\n",
    "        self.windows_amount = max_window_idx * self.csv_amount\n",
    "        self.window_length = window_length\n",
    "        self.step = step\n",
    "\n",
    "    def __getitem__(self, index):\n",
    "\n",
    "        # sample_settings\n",
    "        window_length = self.window_length\n",
    "        step = self.step\n",
    "\n",
    "        # Calculate window_idx and file name\n",
    "        window_idx = index % self.max_window_idx\n",
    "        csv_idx = index // self.max_window_idx\n",
    "        csv_full_path = self.csv_list[csv_idx]\n",
    "\n",
    "        # Load CSV, signal and create windows\n",
    "        csv_name = os.path.basename(csv_full_path)\n",
    "        signal, t, _ = CSV_pandas_path(csv_full_path).load_data(self.signal_name)\n",
    "        signal_windows, t_windows = list(\n",
    "            map(moving_window, [signal, t], repeat(window_length), repeat(step))\n",
    "        )\n",
    "\n",
    "        # select window\n",
    "\n",
    "        signal_window = signal_windows[window_idx]\n",
    "        signal_window = np.expand_dims(signal_window, axis=1)\n",
    "        t_window = t_windows[window_idx]\n",
    "\n",
    "        # create labels\n",
    "        if window_idx < 66:\n",
    "            label = np.array([0])\n",
    "        else:\n",
    "            label = np.array([1])\n",
    "\n",
    "        # For dataset visualization return following information\n",
    "        signal_window = torch.from_numpy(np.copy(signal_window)).float()\n",
    "        label = torch.from_numpy(label).float()\n",
    "        if self.test == True:\n",
    "            return signal_window, t_window, label, csv_name, index, window_idx\n",
    "\n",
    "        # For training only signals and labels are required\n",
    "        \n",
    "        return signal_window, label\n",
    "\n",
    "    def __len__(self):\n",
    "        return self.csv_amount * self.max_window_idx"
   ]
  },
  {
   "attachments": {},
   "cell_type": "markdown",
   "metadata": {},
   "source": [
    "##### 4.2. Database Directory Creation"
   ]
  },
  {
   "cell_type": "code",
   "execution_count": 7,
   "metadata": {},
   "outputs": [
    {
     "name": "stdout",
     "output_type": "stream",
     "text": [
      "copying 35 files...\n",
      "finished\n",
      "Available Relays (current):\n",
      "I: X0038A-X0043A\n",
      "I: X0038B-X0043B\n",
      "I: X0038C-X0043C\n",
      "I: X0048A-X0053A\n",
      "I: X0048B-X0053B\n",
      "I: X0048C-X0053C\n",
      "I: X0060A-X0065A\n",
      "I: X0060B-X0065B\n",
      "I: X0060C-X0065C\n",
      "I: X0066A-X0067A\n",
      "I: X0066B-X0067B\n",
      "I: X0066C-X0067C\n",
      "I: X0023A-R1A\n",
      "I: X0023B-R1B\n",
      "I: X0023C-R1C\n",
      "I: X0004A-R2A\n",
      "I: X0004B-R2B\n",
      "I: X0004C-R2C\n",
      "I: X0071A-R3A\n",
      "I: X0071B-R3B\n",
      "I: X0071C-R3C\n",
      "copying 35 files...\n",
      "finished\n",
      "Available Relays (current):\n",
      "copying 35 files...\n",
      "finished\n",
      "Available Relays (current):\n"
     ]
    }
   ],
   "source": [
    "# Creating Dataset Folders\n",
    "\n",
    "dataset_dir_full = \"C:/Users/aherrada/OneDrive - Universidad del Norte/Uninorte/DetectionDataBase/LSTM_form_1/fault_01/\"\n",
    "dataset_dir = \"C:/Users/aherrada/OneDrive - Universidad del Norte/Uninorte/DetectionDataBase/LSTM_form_1/R1/\"\n",
    "dataset_dir_R2 = \"C:/Users/aherrada/OneDrive - Universidad del Norte/Uninorte/DetectionDataBase/LSTM_form_1/R2/\"\n",
    "dataset_dir_R3 = \"C:/Users/aherrada/OneDrive - Universidad del Norte/Uninorte/DetectionDataBase/LSTM_form_1/R3/\"\n",
    "max_window_idx = 130\n",
    "n_events = 35\n",
    "\n",
    "\n",
    "def dataset_creator(source_path, target_path, signal_list=False):\n",
    "    csv_list = glob.glob(f\"{source_path}*.csv\")\n",
    "    if not os.path.isdir(target_path):\n",
    "        print(\"creating\")\n",
    "        os.makedirs(target_path)\n",
    "    else:\n",
    "        file_list = glob.glob(f\"{target_path}*.csv\")\n",
    "        for file in file_list:\n",
    "            os.remove(file)\n",
    "    csv_list = random.sample(csv_list, n_events)\n",
    "    print(f\"copying {len(csv_list)} files...\")\n",
    "    for csv in csv_list:\n",
    "        source_path = csv\n",
    "        target_path = target_path\n",
    "        shutil.copy(source_path, target_path)\n",
    "    print(\"finished\")\n",
    "    print(\"Available Relays (current):\")\n",
    "    if signal_list == True:\n",
    "        CSV_pandas_path(csv_list[0]).relay_list()\n",
    "\n",
    "\n",
    "# Crear los 3 Datasets para entrenar los relés individualmente\n",
    "dataset_creator(dataset_dir_full, dataset_dir, signal_list=True)\n",
    "dataset_creator(dataset_dir_full, dataset_dir_R2)\n",
    "dataset_creator(dataset_dir_full, dataset_dir_R3)\n"
   ]
  },
  {
   "attachments": {},
   "cell_type": "markdown",
   "metadata": {},
   "source": [
    "##### 4.3. Dataset and Dataloader Instances Creation"
   ]
  },
  {
   "cell_type": "code",
   "execution_count": 8,
   "metadata": {},
   "outputs": [],
   "source": [
    "# Load Dataset\n",
    "signal_name = \"I: X0023A-R1A\"\n",
    "dataset = Form1Dataset(\n",
    "    dataset_dir, max_window_idx=max_window_idx, signal_name=signal_name\n",
    ")\n",
    "train_dataset, test_dataset = random_split(dataset, [0.95, 0.05])\n",
    "train_dataloader = DataLoader(train_dataset, batch_size=train_batch_size, shuffle=True)\n",
    "test_dataloader = DataLoader(test_dataset, batch_size=test_batch_size, shuffle=True)\n",
    "# EL test set realmente es un dev set\n",
    "# Como regla general, si es utilizado dentro del loop es un dev set."
   ]
  },
  {
   "attachments": {},
   "cell_type": "markdown",
   "metadata": {},
   "source": [
    "### 5. Model Training"
   ]
  },
  {
   "attachments": {},
   "cell_type": "markdown",
   "metadata": {},
   "source": [
    "##### 5.1. Train / Test(dev) Loop Creation"
   ]
  },
  {
   "cell_type": "code",
   "execution_count": 9,
   "metadata": {},
   "outputs": [],
   "source": [
    "# Create Training / Test / Validation Loops\n",
    "\n",
    "# Training\n",
    "def train(dataloader, model, loss_fn, optimizer, return_loss = False):\n",
    "    size = len(dataloader.dataset)\n",
    "    model.train()\n",
    "    loss_list = []\n",
    "    for batch, (x, y) in enumerate(dataloader):\n",
    "        x, y = x.to(device), y.to(device)\n",
    "\n",
    "        # Compute prediction error\n",
    "        pred = model(x)\n",
    "        loss = loss_fn(pred, y)\n",
    "\n",
    "        # Backpropagation\n",
    "        optimizer.zero_grad()\n",
    "        loss.backward()\n",
    "        optimizer.step()\n",
    "        if return_loss == True:\n",
    "            loss_list.append(loss.item())\n",
    "        if batch % 2 == 0:\n",
    "            loss, current = loss.item(), batch * len(x)\n",
    "            print(f\"loss: {loss:>f} [{current:>5d}/{size:>5d}]\")\n",
    "\n",
    "        if batch % 5 == 0:\n",
    "            my_lr_scheduler.step()\n",
    "    if return_loss == True:\n",
    "        return loss_list\n",
    "\n",
    "\n",
    "\n",
    "def test(dataloader, model, loss_fn, return_metrics=False):\n",
    "    size = len(dataloader.dataset)\n",
    "    num_batches = len(dataloader)\n",
    "    model.eval()\n",
    "    test_loss, correct = 0, 0\n",
    "    with torch.no_grad():\n",
    "        for x, y in dataloader:\n",
    "            x, y = x.to(device), y.to(device)\n",
    "            pred = model(x)\n",
    "            test_loss += loss_fn(pred, y).item()\n",
    "            correct += (torch.round(pred) == y).type(torch.float).sum().item()\n",
    "    test_loss /= num_batches\n",
    "    correct /= size\n",
    "    print(\n",
    "        f\"Test Error: \\n Accuracy: {(100*correct):>0.1f}%, Avg loss: {test_loss:>8f} \\n\"\n",
    "    )\n",
    "    if return_metrics==True:\n",
    "        return correct*100, test_loss\n"
   ]
  },
  {
   "attachments": {},
   "cell_type": "markdown",
   "metadata": {},
   "source": [
    "##### 5.2. Training the Model"
   ]
  },
  {
   "cell_type": "code",
   "execution_count": 11,
   "metadata": {},
   "outputs": [
    {
     "name": "stdout",
     "output_type": "stream",
     "text": [
      "Epoch 1\n",
      "--------------------------------\n",
      "Test Error: \n",
      " Accuracy: 97.8%, Avg loss: 0.103665 \n",
      "\n"
     ]
    }
   ],
   "source": [
    "epochs = 1\n",
    "for epoch in range(epochs):\n",
    "    \n",
    "    print(f\"Epoch {epoch+1}\\n--------------------------------\")\n",
    "    train_loss = train(train_dataloader, model, loss_fn, optimizer, return_loss=True)\n",
    "    test(test_dataloader, model, loss_fn)"
   ]
  },
  {
   "attachments": {},
   "cell_type": "markdown",
   "metadata": {},
   "source": [
    "##### 5.3. Loss Visualization"
   ]
  },
  {
   "cell_type": "code",
   "execution_count": 10,
   "metadata": {},
   "outputs": [
    {
     "data": {
      "text/plain": [
       "[<matplotlib.lines.Line2D at 0x1e1c5b2b3a0>,\n",
       " <matplotlib.lines.Line2D at 0x1e1c5b2b400>]"
      ]
     },
     "execution_count": 10,
     "metadata": {},
     "output_type": "execute_result"
    },
    {
     "data": {
      "image/png": "[encoded data removed]",
      "text/plain": [
       "<Figure size 640x480 with 1 Axes>"
      ]
     },
     "metadata": {},
     "output_type": "display_data"
    }
   ],
   "source": [
    "mini_batch_list = [index for index, _ in enumerate(train_loss)]\n",
    "train_loss_ewm = pd.DataFrame(train_loss).ewm(com=0.95).mean()\n",
    "plt.plot(mini_batch_list, train_loss, mini_batch_list, train_loss_ewm)\n"
   ]
  },
  {
   "attachments": {},
   "cell_type": "markdown",
   "metadata": {},
   "source": [
    "##### 5.4. Saving the Model"
   ]
  },
  {
   "cell_type": "code",
   "execution_count": 11,
   "metadata": {},
   "outputs": [],
   "source": [
    "# # Save the Model\n",
    "# torch.save(model.state_dict(), './models/LSTMHarmonic_weights_R1_996.pth')\n",
    "# model.load_state_dict(torch.load('./models/LSTMHarmonic_weights_989.pth'))\n"
   ]
  },
  {
   "attachments": {},
   "cell_type": "markdown",
   "metadata": {},
   "source": [
    "### 6. Results Visualization"
   ]
  },
  {
   "attachments": {},
   "cell_type": "markdown",
   "metadata": {},
   "source": [
    "#### 6.1. Confussion Matrix Results Table Function"
   ]
  },
  {
   "cell_type": "code",
   "execution_count": 12,
   "metadata": {},
   "outputs": [],
   "source": [
    "# Data visualization (CPU)\n",
    "\n",
    "def confussion_matrix_labels(pred_label, true_label):\n",
    "    label = \"\"\n",
    "    if int(pred_label) == int(true_label):\n",
    "        label += \"True\"\n",
    "    else:\n",
    "        label += \"False\"\n",
    "    if pred_label == 1:\n",
    "        label += \" positive\"\n",
    "    else:\n",
    "        label += \" negative\"\n",
    "    return label\n",
    "\n",
    "\n",
    "def confussion_matrix(x, labels):\n",
    "    data = {\n",
    "        \"Pred probability\": torch.reshape(x, (-1,)).numpy(),\n",
    "        \"Pred label\": torch.reshape(torch.round(x), (-1,)).int().numpy(),\n",
    "        \"True label\": torch.reshape(labels, (-1,)).int().numpy(),\n",
    "    }\n",
    "    df = pd.DataFrame(data)\n",
    "    df[\"prueba\"] = confussion_matrix_pandas(df[\"Pred label\"], df[\"True label\"])\n",
    "    return df\n",
    "\n",
    "confussion_matrix_pandas = np.vectorize(confussion_matrix_labels)\n"
   ]
  },
  {
   "attachments": {},
   "cell_type": "markdown",
   "metadata": {},
   "source": [
    "##### 6.2. Matlab Plots"
   ]
  },
  {
   "cell_type": "code",
   "execution_count": 13,
   "metadata": {},
   "outputs": [
    {
     "name": "stdout",
     "output_type": "stream",
     "text": [
      "   Pred probability  Pred label  True label         prueba\n",
      "0          0.970602           1           1  True positive\n",
      "1          0.888951           1           1  True positive\n",
      "2          0.978314           1           1  True positive\n",
      "3          0.030253           0           0  True negative\n",
      "4          0.149297           0           0  True negative\n",
      "5          0.977493           1           1  True positive\n",
      "6          0.870592           1           1  True positive\n",
      "7          0.025624           0           0  True negative\n",
      "8          0.887179           1           1  True positive\n"
     ]
    },
    {
     "data": {
      "image/png": "[encoded data removed]",
      "text/plain": [
       "<Figure size 1000x1000 with 9 Axes>"
      ]
     },
     "metadata": {},
     "output_type": "display_data"
    }
   ],
   "source": [
    "dataset_test = Form1Dataset(\n",
    "    dataset_dir, max_window_idx=max_window_idx, signal_name=signal_name, test=True\n",
    ")\n",
    "test_dataloader = DataLoader(dataset_test, batch_size=train_batch_size, shuffle=True)\n",
    "\n",
    "dataiter = iter(test_dataloader)\n",
    "signal_windows, t_windows, labels, *_ = next(dataiter)\n",
    "fs = 3840\n",
    "\n",
    "x = model(signal_windows[1:10].to(device))\n",
    "x = x.detach()\n",
    "\n",
    "# Crear Matriz de confusión\n",
    "df = confussion_matrix(x, labels[1:10])\n",
    "print(df)\n",
    "\n",
    "figure = plt.figure(figsize=(10, 10))\n",
    "cols, rows = 3, 3\n",
    "for i in range(1, cols * rows + 1):\n",
    "    figure.add_subplot(rows, cols, i)\n",
    "    plt.plot(t_windows[i, :], signal_windows[i, :, 0])\n"
   ]
  },
  {
   "attachments": {},
   "cell_type": "markdown",
   "metadata": {},
   "source": [
    "##### 6.3. Plotly Plot"
   ]
  },
  {
   "cell_type": "code",
   "execution_count": 14,
   "metadata": {},
   "outputs": [
    {
     "name": "stdout",
     "output_type": "stream",
     "text": [
      "   Pred probability  Pred label  True label         prueba\n",
      "0          0.154364           0           0  True negative\n",
      "1          0.043757           0           0  True negative\n",
      "2          0.977443           1           1  True positive\n",
      "3          0.093179           0           0  True negative\n",
      "4          0.889391           1           1  True positive\n",
      "5          0.027588           0           0  True negative\n",
      "6          0.884128           1           1  True positive\n",
      "7          0.028989           0           0  True negative\n",
      "8          0.030503           0           0  True negative\n"
     ]
    },
    {
     "data": {
      "application/vnd.plotly.v1+json": {
       "config": {
        "plotlyServerURL": "https://plot.ly"
       },
       "data": [
        {
         "marker": {
          "color": "black"
         },
         "name": "0",
         "type": "scatter",
         "x": [
          0.0205716,
          0.020832,
          0.0210924,
          0.0213528,
          0.0216132,
          0.0218736,
          0.022134,
          0.0223944,
          0.0226548,
          0.0229152,
          0.0231756,
          0.023436,
          0.0236964,
          0.0239568,
          0.0242172,
          0.0244776,
          0.024738,
          0.0249984,
          0.0252588,
          0.0255192,
          0.0257796,
          0.02604,
          0.0263004,
          0.0265608,
          0.0268212,
          0.0270816,
          0.027342,
          0.0276024,
          0.0278628,
          0.0281232,
          0.0283836,
          0.028644,
          0.0289044,
          0.0291648,
          0.0294252,
          0.0296856,
          0.029946,
          0.0302064,
          0.0304668,
          0.0307272,
          0.0309876,
          0.031248,
          0.0315084,
          0.0317688,
          0.0320292,
          0.0322896,
          0.03255,
          0.0328104,
          0.0330708,
          0.0333312,
          0.0335916,
          0.033852,
          0.0341124,
          0.0343728,
          0.0346332,
          0.0348936,
          0.035154,
          0.0354144,
          0.0356748,
          0.0359352,
          0.0361956,
          0.036456,
          0.0367164,
          0.0369768
         ],
         "xaxis": "x",
         "y": [
          -21.417137145996094,
          -24.96830940246582,
          -28.405187606811523,
          -31.268943786621094,
          -33.90782165527344,
          -36.29541778564453,
          -38.55408477783203,
          -40.34768295288086,
          -41.71569061279297,
          -42.53754806518555,
          -43.106895446777344,
          -43.309783935546875,
          -43.000431060791016,
          -42.231563568115234,
          -41.02321243286133,
          -39.54315948486328,
          -37.65876007080078,
          -35.60103225708008,
          -32.83638000488281,
          -29.860946655273438,
          -26.550506591796875,
          -23.222484588623047,
          -19.54364776611328,
          -15.573537826538086,
          -11.348267555236816,
          -7.210482120513916,
          -3.0092787742614746,
          1.0481101274490356,
          5.236833572387695,
          9.441895484924316,
          13.618627548217773,
          17.514009475708008,
          21.304752349853516,
          24.856489181518555,
          28.280136108398438,
          31.373945236206055,
          34.155029296875,
          36.599613189697266,
          38.811126708984375,
          40.52512741088867,
          41.986000061035156,
          42.903480529785156,
          43.538143157958984,
          43.7210578918457,
          43.40426254272461,
          42.63621520996094,
          41.50938415527344,
          39.95009231567383,
          38.09954071044922,
          35.950618743896484,
          33.91061019897461,
          38.35421371459961,
          33.174930572509766,
          23.793174743652344,
          15.552718162536621,
          0.4961656928062439,
          -12.65791130065918,
          -24.77532958984375,
          -43.36958694458008,
          -60.63700485229492,
          -75.73607635498047,
          -92.44792175292969,
          -107.74627685546875,
          -123.13981628417969
         ],
         "yaxis": "y"
        },
        {
         "marker": {
          "color": "black"
         },
         "name": "1",
         "type": "scatter",
         "x": [
          0.014322,
          0.0145824,
          0.0148428,
          0.0151032,
          0.0153636,
          0.015624,
          0.0158844,
          0.0161448,
          0.0164052,
          0.0166656,
          0.016926,
          0.0171864,
          0.0174468,
          0.0177072,
          0.0179676,
          0.018228,
          0.0184884,
          0.0187488,
          0.0190092,
          0.0192696,
          0.01953,
          0.0197904,
          0.0200508,
          0.0203112,
          0.0205716,
          0.020832,
          0.0210924,
          0.0213528,
          0.0216132,
          0.0218736,
          0.022134,
          0.0223944,
          0.0226548,
          0.0229152,
          0.0231756,
          0.023436,
          0.0236964,
          0.0239568,
          0.0242172,
          0.0244776,
          0.024738,
          0.0249984,
          0.0252588,
          0.0255192,
          0.0257796,
          0.02604,
          0.0263004,
          0.0265608,
          0.0268212,
          0.0270816,
          0.027342,
          0.0276024,
          0.0278628,
          0.0281232,
          0.0283836,
          0.028644,
          0.0289044,
          0.0291648,
          0.0294252,
          0.0296856,
          0.029946,
          0.0302064,
          0.0304668,
          0.0307272
         ],
         "xaxis": "x2",
         "y": [
          32.287445068359375,
          29.054906845092773,
          25.64556312561035,
          22.519874572753906,
          19.147523880004883,
          15.300970077514648,
          10.945568084716797,
          6.59270715713501,
          2.2273707389831543,
          -1.64236319065094,
          -5.527485370635986,
          -9.442193031311035,
          -13.612449645996094,
          -17.700674057006836,
          -21.583459854125977,
          -24.96939468383789,
          -28.14063835144043,
          -30.97401237487793,
          -33.79092788696289,
          -36.26298522949219,
          -38.562625885009766,
          -40.124107360839844,
          -41.46879196166992,
          -42.22346878051758,
          -42.92448806762695,
          -43.13008499145508,
          -42.847251892089844,
          -41.99210739135742,
          -40.79802703857422,
          -39.26463317871094,
          -37.48177719116211,
          -35.3531379699707,
          -32.689395904541016,
          -29.62604331970215,
          -26.407014846801758,
          -23.018299102783203,
          -19.370223999023438,
          -15.424607276916504,
          -11.213603019714355,
          -7.1298346519470215,
          -2.8978333473205566,
          1.1443955898284912,
          5.310683250427246,
          9.536813735961914,
          13.650040626525879,
          17.576568603515625,
          21.29293441772461,
          24.86711311340332,
          28.294876098632812,
          31.363887786865234,
          34.15427017211914,
          36.538143157958984,
          38.77289962768555,
          40.4697380065918,
          41.92561721801758,
          42.848854064941406,
          43.450679779052734,
          43.64134979248047,
          43.31813049316406,
          42.545597076416016,
          41.452938079833984,
          39.83165740966797,
          38.03287124633789,
          35.830467224121094
         ],
         "yaxis": "y2"
        },
        {
         "marker": {
          "color": "black"
         },
         "name": "2",
         "type": "scatter",
         "x": [
          0.0059892,
          0.0062496,
          0.00651,
          0.0067704,
          0.0070308,
          0.0072912,
          0.0075516,
          0.007812,
          0.0080724,
          0.0083328,
          0.0085932,
          0.0088536,
          0.009114,
          0.0093744,
          0.0096348,
          0.0098952,
          0.0101556,
          0.010416,
          0.0106764,
          0.0109368,
          0.0111972,
          0.0114576,
          0.011718,
          0.0119784,
          0.0122388,
          0.0124992,
          0.0127596,
          0.01302,
          0.0132804,
          0.0135408,
          0.0138012,
          0.0140616,
          0.014322,
          0.0145824,
          0.0148428,
          0.0151032,
          0.0153636,
          0.015624,
          0.0158844,
          0.0161448,
          0.0164052,
          0.0166656,
          0.016926,
          0.0171864,
          0.0174468,
          0.0177072,
          0.0179676,
          0.018228,
          0.0184884,
          0.0187488,
          0.0190092,
          0.0192696,
          0.01953,
          0.0197904,
          0.0200508,
          0.0203112,
          0.0205716,
          0.020832,
          0.0210924,
          0.0213528,
          0.0216132,
          0.0218736,
          0.022134,
          0.0223944
         ],
         "xaxis": "x3",
         "y": [
          35.15403747558594,
          36.996620178222656,
          39.35840606689453,
          41.245121002197266,
          42.823246002197266,
          43.42487716674805,
          43.473262786865234,
          43.02908706665039,
          42.22548294067383,
          41.2335090637207,
          40.08370590209961,
          38.86476135253906,
          37.272308349609375,
          34.47251510620117,
          30.760339736938477,
          27.09246063232422,
          24.360937118530273,
          21.756284713745117,
          18.351911544799805,
          13.872335433959961,
          8.976001739501953,
          4.297497749328613,
          0.39998412132263184,
          -2.9443304538726807,
          -6.349092483520508,
          -10.695348739624023,
          -15.498310089111328,
          -19.813817977905273,
          -23.187768936157227,
          -25.99108123779297,
          -28.84133529663086,
          -31.906497955322266,
          -34.889305114746094,
          -37.48097610473633,
          -39.31747055053711,
          -40.54314422607422,
          -41.43610763549805,
          -42.42355728149414,
          -42.976661682128906,
          -43.1182975769043,
          -42.366477966308594,
          -41.49468231201172,
          -40.019126892089844,
          -38.476810455322266,
          -36.40776062011719,
          -34.24881362915039,
          -31.388296127319336,
          -28.34259605407715,
          -24.978593826293945,
          -21.594581604003906,
          -17.680896759033203,
          -13.715664863586426,
          -9.579408645629883,
          -5.686744689941406,
          -1.5120199918746948,
          2.619753837585449,
          6.887998104095459,
          10.991891860961914,
          14.970476150512695,
          18.64258575439453,
          22.283266067504883,
          25.722198486328125,
          29.156906127929688,
          32.031288146972656
         ],
         "yaxis": "y3"
        },
        {
         "marker": {
          "color": "black"
         },
         "name": "3",
         "type": "scatter",
         "x": [
          0.0302064,
          0.0304668,
          0.0307272,
          0.0309876,
          0.031248,
          0.0315084,
          0.0317688,
          0.0320292,
          0.0322896,
          0.03255,
          0.0328104,
          0.0330708,
          0.0333312,
          0.0335916,
          0.033852,
          0.0341124,
          0.0343728,
          0.0346332,
          0.0348936,
          0.035154,
          0.0354144,
          0.0356748,
          0.0359352,
          0.0361956,
          0.036456,
          0.0367164,
          0.0369768,
          0.0372372,
          0.0374976,
          0.037758,
          0.0380184,
          0.0382788,
          0.0385392,
          0.0387996,
          0.03906,
          0.0393204,
          0.0395808,
          0.0398412,
          0.0401016,
          0.040362,
          0.0406224,
          0.0408828,
          0.0411432,
          0.0414036,
          0.041664,
          0.0419244,
          0.0421848,
          0.0424452,
          0.0427056,
          0.042966,
          0.0432264,
          0.0434868,
          0.0437472,
          0.0440076,
          0.044268,
          0.0445284,
          0.0447888,
          0.0450492,
          0.0453096,
          0.04557,
          0.0458304,
          0.0460908,
          0.0463512,
          0.0466116
         ],
         "xaxis": "x4",
         "y": [
          -32.54807662963867,
          -29.550355911254883,
          -26.243680953979492,
          -22.926450729370117,
          -19.226543426513672,
          -15.290135383605957,
          -11.184379577636719,
          -7.045895576477051,
          -2.911855459213257,
          1.2282096147537231,
          5.2842793464660645,
          9.499319076538086,
          13.547178268432617,
          43.79203796386719,
          83.94087219238281,
          137.45413208007812,
          166.87591552734375,
          200.62789916992188,
          238.12774658203125,
          258.46771240234375,
          298.2863464355469,
          324.479248046875,
          336.1112060546875,
          352.6068115234375,
          372.9849548339844,
          385.311767578125,
          389.2453918457031,
          386.99017333984375,
          384.944091796875,
          385.5199890136719,
          376.91064453125,
          357.5333557128906,
          343.49981689453125,
          321.78485107421875,
          298.210205078125,
          276.8629150390625,
          242.1097869873047,
          209.2562713623047,
          177.96054077148438,
          142.05763244628906,
          105.69342803955078,
          64.92977142333984,
          21.923118591308594,
          -12.528203964233398,
          -52.08735656738281,
          -96.37020874023438,
          -131.0423126220703,
          -168.6172637939453,
          -204.1857147216797,
          -235.76870727539062,
          -269.7705993652344,
          -297.92462158203125,
          -321.2156677246094,
          -346.41583251953125,
          -363.033935546875,
          -381.4010314941406,
          -394.0364685058594,
          -400.3006896972656,
          -404.7230529785156,
          -406.9044189453125,
          -404.5378112792969,
          -396.4063720703125,
          -384.8828430175781,
          -371.53399658203125
         ],
         "yaxis": "y4"
        },
        {
         "marker": {
          "color": "black"
         },
         "name": "4",
         "type": "scatter",
         "x": [
          0.0085932,
          0.0088536,
          0.009114,
          0.0093744,
          0.0096348,
          0.0098952,
          0.0101556,
          0.010416,
          0.0106764,
          0.0109368,
          0.0111972,
          0.0114576,
          0.011718,
          0.0119784,
          0.0122388,
          0.0124992,
          0.0127596,
          0.01302,
          0.0132804,
          0.0135408,
          0.0138012,
          0.0140616,
          0.014322,
          0.0145824,
          0.0148428,
          0.0151032,
          0.0153636,
          0.015624,
          0.0158844,
          0.0161448,
          0.0164052,
          0.0166656,
          0.016926,
          0.0171864,
          0.0174468,
          0.0177072,
          0.0179676,
          0.018228,
          0.0184884,
          0.0187488,
          0.0190092,
          0.0192696,
          0.01953,
          0.0197904,
          0.0200508,
          0.0203112,
          0.0205716,
          0.020832,
          0.0210924,
          0.0213528,
          0.0216132,
          0.0218736,
          0.022134,
          0.0223944,
          0.0226548,
          0.0229152,
          0.0231756,
          0.023436,
          0.0236964,
          0.0239568,
          0.0242172,
          0.0244776,
          0.024738,
          0.0249984
         ],
         "xaxis": "x5",
         "y": [
          0.34920066595077515,
          -4.616718769073486,
          -8.038908004760742,
          -10.777549743652344,
          -13.918224334716797,
          -18.383560180664062,
          -23.313119888305664,
          -27.430387496948242,
          -30.188940048217773,
          -32.07463455200195,
          -34.210845947265625,
          -36.9376335144043,
          -39.608154296875,
          -41.49883270263672,
          -42.36327362060547,
          -42.704891204833984,
          -42.846256256103516,
          -43.02094268798828,
          -42.64609909057617,
          -41.972129821777344,
          -40.555419921875,
          -38.927101135253906,
          -36.64898681640625,
          -34.25418472290039,
          -31.33694839477539,
          -28.473873138427734,
          -25.44597625732422,
          -22.071630477905273,
          -18.064899444580078,
          -13.82459831237793,
          -9.506339073181152,
          -5.715844631195068,
          -1.745186448097229,
          2.07855486869812,
          6.390735626220703,
          10.761781692504883,
          14.940427780151367,
          18.593914031982422,
          21.970531463623047,
          25.254770278930664,
          28.70754051208496,
          31.73877716064453,
          34.54710388183594,
          36.611331939697266,
          38.626548767089844,
          40.074256896972656,
          41.48365783691406,
          42.34199523925781,
          42.85584259033203,
          42.837528228759766,
          42.33500671386719,
          41.4669075012207,
          40.24226379394531,
          38.651493072509766,
          36.787498474121094,
          34.52244186401367,
          31.775671005249023,
          28.711273193359375,
          25.472745895385742,
          22.09307289123535,
          18.26664161682129,
          14.304277420043945,
          10.145647048950195,
          6.168547630310059
         ],
         "yaxis": "y5"
        },
        {
         "marker": {
          "color": "black"
         },
         "name": "5",
         "type": "scatter",
         "x": [
          0.0265608,
          0.0268212,
          0.0270816,
          0.027342,
          0.0276024,
          0.0278628,
          0.0281232,
          0.0283836,
          0.028644,
          0.0289044,
          0.0291648,
          0.0294252,
          0.0296856,
          0.029946,
          0.0302064,
          0.0304668,
          0.0307272,
          0.0309876,
          0.031248,
          0.0315084,
          0.0317688,
          0.0320292,
          0.0322896,
          0.03255,
          0.0328104,
          0.0330708,
          0.0333312,
          0.0335916,
          0.033852,
          0.0341124,
          0.0343728,
          0.0346332,
          0.0348936,
          0.035154,
          0.0354144,
          0.0356748,
          0.0359352,
          0.0361956,
          0.036456,
          0.0367164,
          0.0369768,
          0.0372372,
          0.0374976,
          0.037758,
          0.0380184,
          0.0382788,
          0.0385392,
          0.0387996,
          0.03906,
          0.0393204,
          0.0395808,
          0.0398412,
          0.0401016,
          0.040362,
          0.0406224,
          0.0408828,
          0.0411432,
          0.0414036,
          0.041664,
          0.0419244,
          0.0421848,
          0.0424452,
          0.0427056,
          0.042966
         ],
         "xaxis": "x6",
         "y": [
          6.657835483551025,
          10.908610343933105,
          14.966991424560547,
          18.857118606567383,
          22.511825561523438,
          26.063861846923828,
          29.37518882751465,
          32.41543197631836,
          35.01188278198242,
          37.44688034057617,
          39.41984939575195,
          41.155269622802734,
          42.32571029663086,
          43.23350143432617,
          43.659210205078125,
          43.70915985107422,
          43.224205017089844,
          42.33937454223633,
          41.02204132080078,
          39.413612365722656,
          37.433807373046875,
          35.193458557128906,
          32.28434371948242,
          29.17095375061035,
          25.856557846069336,
          22.37470817565918,
          18.577207565307617,
          12.756978034973145,
          -11.2520751953125,
          -28.716259002685547,
          -46.32194137573242,
          -69.45013427734375,
          -83.74664306640625,
          -105.24365234375,
          -128.87094116210938,
          -142.95823669433594,
          -162.78501892089844,
          -179.1409149169922,
          -194.37474060058594,
          -212.42779541015625,
          -222.03587341308594,
          -231.1127471923828,
          -242.2890625,
          -248.66831970214844,
          -252.97674560546875,
          -253.60939025878906,
          -251.7387237548828,
          -250.3655242919922,
          -246.78842163085938,
          -239.0587921142578,
          -228.28890991210938,
          -216.4138641357422,
          -202.88243103027344,
          -187.88169860839844,
          -170.1904754638672,
          -150.5790557861328,
          -130.48388671875,
          -108.5632553100586,
          -85.62942504882812,
          -61.89243698120117,
          -37.56629943847656,
          -13.025349617004395,
          11.892049789428711,
          37.27711868286133
         ],
         "yaxis": "y6"
        },
        {
         "marker": {
          "color": "black"
         },
         "name": "6",
         "type": "scatter",
         "x": [
          0.0148428,
          0.0151032,
          0.0153636,
          0.015624,
          0.0158844,
          0.0161448,
          0.0164052,
          0.0166656,
          0.016926,
          0.0171864,
          0.0174468,
          0.0177072,
          0.0179676,
          0.018228,
          0.0184884,
          0.0187488,
          0.0190092,
          0.0192696,
          0.01953,
          0.0197904,
          0.0200508,
          0.0203112,
          0.0205716,
          0.020832,
          0.0210924,
          0.0213528,
          0.0216132,
          0.0218736,
          0.022134,
          0.0223944,
          0.0226548,
          0.0229152,
          0.0231756,
          0.023436,
          0.0236964,
          0.0239568,
          0.0242172,
          0.0244776,
          0.024738,
          0.0249984,
          0.0252588,
          0.0255192,
          0.0257796,
          0.02604,
          0.0263004,
          0.0265608,
          0.0268212,
          0.0270816,
          0.027342,
          0.0276024,
          0.0278628,
          0.0281232,
          0.0283836,
          0.028644,
          0.0289044,
          0.0291648,
          0.0294252,
          0.0296856,
          0.029946,
          0.0302064,
          0.0304668,
          0.0307272,
          0.0309876,
          0.031248
         ],
         "xaxis": "x7",
         "y": [
          -27.262184143066406,
          -24.219436645507812,
          -21.032865524291992,
          -17.290071487426758,
          -12.97098159790039,
          -8.637221336364746,
          -4.3035664558410645,
          -0.42472001910209656,
          3.447009325027466,
          7.340391635894775,
          11.580400466918945,
          15.746004104614258,
          19.71589469909668,
          23.13287925720215,
          26.3917293548584,
          29.386545181274414,
          32.3650016784668,
          34.97218704223633,
          37.38008499145508,
          39.145015716552734,
          40.66120910644531,
          41.601749420166016,
          42.49052429199219,
          42.85255432128906,
          42.8641242980957,
          42.19620132446289,
          41.19679641723633,
          39.83061599731445,
          38.18888854980469,
          36.2601318359375,
          33.90210723876953,
          30.992576599121094,
          27.848421096801758,
          24.577991485595703,
          21.142656326293945,
          17.312406539916992,
          13.182832717895508,
          9.124165534973145,
          4.974353790283203,
          0.9383091330528259,
          -3.192697525024414,
          -7.359008312225342,
          -11.537647247314453,
          -15.485584259033203,
          -19.279401779174805,
          -22.84503746032715,
          -26.344043731689453,
          -29.58922576904297,
          -32.501651763916016,
          -35.027618408203125,
          -37.32094192504883,
          -39.221500396728516,
          -40.86811828613281,
          -41.950931549072266,
          -42.77790069580078,
          -43.09530258178711,
          -43.083152770996094,
          -42.514957427978516,
          -41.582130432128906,
          -40.19843292236328,
          -38.533695220947266,
          -36.569000244140625,
          -34.29756164550781,
          -31.373117446899414
         ],
         "yaxis": "y7"
        },
        {
         "marker": {
          "color": "black"
         },
         "name": "7",
         "type": "scatter",
         "x": [
          0.0302064,
          0.0304668,
          0.0307272,
          0.0309876,
          0.031248,
          0.0315084,
          0.0317688,
          0.0320292,
          0.0322896,
          0.03255,
          0.0328104,
          0.0330708,
          0.0333312,
          0.0335916,
          0.033852,
          0.0341124,
          0.0343728,
          0.0346332,
          0.0348936,
          0.035154,
          0.0354144,
          0.0356748,
          0.0359352,
          0.0361956,
          0.036456,
          0.0367164,
          0.0369768,
          0.0372372,
          0.0374976,
          0.037758,
          0.0380184,
          0.0382788,
          0.0385392,
          0.0387996,
          0.03906,
          0.0393204,
          0.0395808,
          0.0398412,
          0.0401016,
          0.040362,
          0.0406224,
          0.0408828,
          0.0411432,
          0.0414036,
          0.041664,
          0.0419244,
          0.0421848,
          0.0424452,
          0.0427056,
          0.042966,
          0.0432264,
          0.0434868,
          0.0437472,
          0.0440076,
          0.044268,
          0.0445284,
          0.0447888,
          0.0450492,
          0.0453096,
          0.04557,
          0.0458304,
          0.0460908,
          0.0463512,
          0.0466116
         ],
         "xaxis": "x8",
         "y": [
          0.9682875871658325,
          -3.1801061630249023,
          -7.354218482971191,
          -11.482927322387695,
          -15.450310707092285,
          -19.197179794311523,
          -22.847055435180664,
          -26.330345153808594,
          -29.60732650756836,
          -32.47314453125,
          -34.99873352050781,
          -37.315181732177734,
          -39.255863189697266,
          -125.97566223144531,
          -216.36715698242188,
          -280.4369201660156,
          -347.0385437011719,
          -391.2742614746094,
          -426.0801086425781,
          -433.3670654296875,
          -432.5953063964844,
          -429.640869140625,
          -423.493896484375,
          -398.1410827636719,
          -354.1527404785156,
          -315.40374755859375,
          -274.83502197265625,
          -229.93727111816406,
          -163.9694061279297,
          -102.77545166015625,
          -40.77858352661133,
          15.87788200378418,
          83.22984313964844,
          151.57150268554688,
          222.1329803466797,
          288.9697570800781,
          347.50103759765625,
          406.8683776855469,
          463.373291015625,
          522.6976318359375,
          570.3228149414062,
          608.7930908203125,
          643.2374877929688,
          677.6909790039062,
          705.4873657226562,
          727.1033935546875,
          738.875,
          746.79833984375,
          747.2102661132812,
          736.18359375,
          719.5902099609375,
          696.090576171875,
          673.3831787109375,
          640.3109741210938,
          598.5706176757812,
          544.920654296875,
          495.7850341796875,
          441.8829040527344,
          386.10430908203125,
          320.19183349609375,
          248.75677490234375,
          176.61842346191406,
          110.64557647705078,
          43.215999603271484
         ],
         "yaxis": "y8"
        },
        {
         "marker": {
          "color": "black"
         },
         "name": "8",
         "type": "scatter",
         "x": [
          0.0046872,
          0.0049476,
          0.005208,
          0.0054684,
          0.0057288,
          0.0059892,
          0.0062496,
          0.00651,
          0.0067704,
          0.0070308,
          0.0072912,
          0.0075516,
          0.007812,
          0.0080724,
          0.0083328,
          0.0085932,
          0.0088536,
          0.009114,
          0.0093744,
          0.0096348,
          0.0098952,
          0.0101556,
          0.010416,
          0.0106764,
          0.0109368,
          0.0111972,
          0.0114576,
          0.011718,
          0.0119784,
          0.0122388,
          0.0124992,
          0.0127596,
          0.01302,
          0.0132804,
          0.0135408,
          0.0138012,
          0.0140616,
          0.014322,
          0.0145824,
          0.0148428,
          0.0151032,
          0.0153636,
          0.015624,
          0.0158844,
          0.0161448,
          0.0164052,
          0.0166656,
          0.016926,
          0.0171864,
          0.0174468,
          0.0177072,
          0.0179676,
          0.018228,
          0.0184884,
          0.0187488,
          0.0190092,
          0.0192696,
          0.01953,
          0.0197904,
          0.0200508,
          0.0203112,
          0.0205716,
          0.020832,
          0.0210924
         ],
         "xaxis": "x9",
         "y": [
          -40.55925369262695,
          -42.36715316772461,
          -43.73699188232422,
          -42.98092269897461,
          -42.921348571777344,
          -42.896297454833984,
          -43.058189392089844,
          -41.98145294189453,
          -39.380828857421875,
          -36.80369567871094,
          -34.861141204833984,
          -33.347232818603516,
          -31.164688110351562,
          -27.50298500061035,
          -23.080270767211914,
          -18.616172790527344,
          -14.847572326660156,
          -11.880607604980469,
          -8.532827377319336,
          -4.305388927459717,
          0.9638421535491943,
          5.9164018630981445,
          9.973637580871582,
          13.164457321166992,
          16.24729347229004,
          20.10563850402832,
          24.482444763183594,
          28.546144485473633,
          31.608591079711914,
          33.57522964477539,
          35.57366180419922,
          37.88936233520508,
          40.209354400634766,
          41.82583236694336,
          42.75128936767578,
          43.02760314941406,
          43.221839904785156,
          42.84751510620117,
          42.28012466430664,
          41.18443298339844,
          39.82549285888672,
          38.010963439941406,
          35.96119689941406,
          33.15058517456055,
          30.111419677734375,
          26.750640869140625,
          23.735809326171875,
          20.349353790283203,
          16.503450393676758,
          12.082651138305664,
          7.789297103881836,
          3.5905606746673584,
          -0.2946959137916565,
          -4.1891398429870605,
          -8.24894905090332,
          -12.56179428100586,
          -16.61580467224121,
          -20.540542602539062,
          -23.830608367919922,
          -27.170011520385742,
          -30.187274932861328,
          -33.16663360595703,
          -35.71987533569336,
          -38.0139274597168
         ],
         "yaxis": "y9"
        }
       ],
       "layout": {
        "height": 700,
        "margin": {
         "b": 20,
         "l": 20,
         "r": 30,
         "t": 40
        },
        "plot_bgcolor": "rgba(0,0,0,0)",
        "template": {
         "data": {
          "bar": [
           {
            "error_x": {
             "color": "#2a3f5f"
            },
            "error_y": {
             "color": "#2a3f5f"
            },
            "marker": {
             "line": {
              "color": "#E5ECF6",
              "width": 0.5
             },
             "pattern": {
              "fillmode": "overlay",
              "size": 10,
              "solidity": 0.2
             }
            },
            "type": "bar"
           }
          ],
          "barpolar": [
           {
            "marker": {
             "line": {
              "color": "#E5ECF6",
              "width": 0.5
             },
             "pattern": {
              "fillmode": "overlay",
              "size": 10,
              "solidity": 0.2
             }
            },
            "type": "barpolar"
           }
          ],
          "carpet": [
           {
            "aaxis": {
             "endlinecolor": "#2a3f5f",
             "gridcolor": "white",
             "linecolor": "white",
             "minorgridcolor": "white",
             "startlinecolor": "#2a3f5f"
            },
            "baxis": {
             "endlinecolor": "#2a3f5f",
             "gridcolor": "white",
             "linecolor": "white",
             "minorgridcolor": "white",
             "startlinecolor": "#2a3f5f"
            },
            "type": "carpet"
           }
          ],
          "choropleth": [
           {
            "colorbar": {
             "outlinewidth": 0,
             "ticks": ""
            },
            "type": "choropleth"
           }
          ],
          "contour": [
           {
            "colorbar": {
             "outlinewidth": 0,
             "ticks": ""
            },
            "colorscale": [
             [
              0,
              "#0d0887"
             ],
             [
              0.1111111111111111,
              "#46039f"
             ],
             [
              0.2222222222222222,
              "#7201a8"
             ],
             [
              0.3333333333333333,
              "#9c179e"
             ],
             [
              0.4444444444444444,
              "#bd3786"
             ],
             [
              0.5555555555555556,
              "#d8576b"
             ],
             [
              0.6666666666666666,
              "#ed7953"
             ],
             [
              0.7777777777777778,
              "#fb9f3a"
             ],
             [
              0.8888888888888888,
              "#fdca26"
             ],
             [
              1,
              "#f0f921"
             ]
            ],
            "type": "contour"
           }
          ],
          "contourcarpet": [
           {
            "colorbar": {
             "outlinewidth": 0,
             "ticks": ""
            },
            "type": "contourcarpet"
           }
          ],
          "heatmap": [
           {
            "colorbar": {
             "outlinewidth": 0,
             "ticks": ""
            },
            "colorscale": [
             [
              0,
              "#0d0887"
             ],
             [
              0.1111111111111111,
              "#46039f"
             ],
             [
              0.2222222222222222,
              "#7201a8"
             ],
             [
              0.3333333333333333,
              "#9c179e"
             ],
             [
              0.4444444444444444,
              "#bd3786"
             ],
             [
              0.5555555555555556,
              "#d8576b"
             ],
             [
              0.6666666666666666,
              "#ed7953"
             ],
             [
              0.7777777777777778,
              "#fb9f3a"
             ],
             [
              0.8888888888888888,
              "#fdca26"
             ],
             [
              1,
              "#f0f921"
             ]
            ],
            "type": "heatmap"
           }
          ],
          "heatmapgl": [
           {
            "colorbar": {
             "outlinewidth": 0,
             "ticks": ""
            },
            "colorscale": [
             [
              0,
              "#0d0887"
             ],
             [
              0.1111111111111111,
              "#46039f"
             ],
             [
              0.2222222222222222,
              "#7201a8"
             ],
             [
              0.3333333333333333,
              "#9c179e"
             ],
             [
              0.4444444444444444,
              "#bd3786"
             ],
             [
              0.5555555555555556,
              "#d8576b"
             ],
             [
              0.6666666666666666,
              "#ed7953"
             ],
             [
              0.7777777777777778,
              "#fb9f3a"
             ],
             [
              0.8888888888888888,
              "#fdca26"
             ],
             [
              1,
              "#f0f921"
             ]
            ],
            "type": "heatmapgl"
           }
          ],
          "histogram": [
           {
            "marker": {
             "pattern": {
              "fillmode": "overlay",
              "size": 10,
              "solidity": 0.2
             }
            },
            "type": "histogram"
           }
          ],
          "histogram2d": [
           {
            "colorbar": {
             "outlinewidth": 0,
             "ticks": ""
            },
            "colorscale": [
             [
              0,
              "#0d0887"
             ],
             [
              0.1111111111111111,
              "#46039f"
             ],
             [
              0.2222222222222222,
              "#7201a8"
             ],
             [
              0.3333333333333333,
              "#9c179e"
             ],
             [
              0.4444444444444444,
              "#bd3786"
             ],
             [
              0.5555555555555556,
              "#d8576b"
             ],
             [
              0.6666666666666666,
              "#ed7953"
             ],
             [
              0.7777777777777778,
              "#fb9f3a"
             ],
             [
              0.8888888888888888,
              "#fdca26"
             ],
             [
              1,
              "#f0f921"
             ]
            ],
            "type": "histogram2d"
           }
          ],
          "histogram2dcontour": [
           {
            "colorbar": {
             "outlinewidth": 0,
             "ticks": ""
            },
            "colorscale": [
             [
              0,
              "#0d0887"
             ],
             [
              0.1111111111111111,
              "#46039f"
             ],
             [
              0.2222222222222222,
              "#7201a8"
             ],
             [
              0.3333333333333333,
              "#9c179e"
             ],
             [
              0.4444444444444444,
              "#bd3786"
             ],
             [
              0.5555555555555556,
              "#d8576b"
             ],
             [
              0.6666666666666666,
              "#ed7953"
             ],
             [
              0.7777777777777778,
              "#fb9f3a"
             ],
             [
              0.8888888888888888,
              "#fdca26"
             ],
             [
              1,
              "#f0f921"
             ]
            ],
            "type": "histogram2dcontour"
           }
          ],
          "mesh3d": [
           {
            "colorbar": {
             "outlinewidth": 0,
             "ticks": ""
            },
            "type": "mesh3d"
           }
          ],
          "parcoords": [
           {
            "line": {
             "colorbar": {
              "outlinewidth": 0,
              "ticks": ""
             }
            },
            "type": "parcoords"
           }
          ],
          "pie": [
           {
            "automargin": true,
            "type": "pie"
           }
          ],
          "scatter": [
           {
            "fillpattern": {
             "fillmode": "overlay",
             "size": 10,
             "solidity": 0.2
            },
            "type": "scatter"
           }
          ],
          "scatter3d": [
           {
            "line": {
             "colorbar": {
              "outlinewidth": 0,
              "ticks": ""
             }
            },
            "marker": {
             "colorbar": {
              "outlinewidth": 0,
              "ticks": ""
             }
            },
            "type": "scatter3d"
           }
          ],
          "scattercarpet": [
           {
            "marker": {
             "colorbar": {
              "outlinewidth": 0,
              "ticks": ""
             }
            },
            "type": "scattercarpet"
           }
          ],
          "scattergeo": [
           {
            "marker": {
             "colorbar": {
              "outlinewidth": 0,
              "ticks": ""
             }
            },
            "type": "scattergeo"
           }
          ],
          "scattergl": [
           {
            "marker": {
             "colorbar": {
              "outlinewidth": 0,
              "ticks": ""
             }
            },
            "type": "scattergl"
           }
          ],
          "scattermapbox": [
           {
            "marker": {
             "colorbar": {
              "outlinewidth": 0,
              "ticks": ""
             }
            },
            "type": "scattermapbox"
           }
          ],
          "scatterpolar": [
           {
            "marker": {
             "colorbar": {
              "outlinewidth": 0,
              "ticks": ""
             }
            },
            "type": "scatterpolar"
           }
          ],
          "scatterpolargl": [
           {
            "marker": {
             "colorbar": {
              "outlinewidth": 0,
              "ticks": ""
             }
            },
            "type": "scatterpolargl"
           }
          ],
          "scatterternary": [
           {
            "marker": {
             "colorbar": {
              "outlinewidth": 0,
              "ticks": ""
             }
            },
            "type": "scatterternary"
           }
          ],
          "surface": [
           {
            "colorbar": {
             "outlinewidth": 0,
             "ticks": ""
            },
            "colorscale": [
             [
              0,
              "#0d0887"
             ],
             [
              0.1111111111111111,
              "#46039f"
             ],
             [
              0.2222222222222222,
              "#7201a8"
             ],
             [
              0.3333333333333333,
              "#9c179e"
             ],
             [
              0.4444444444444444,
              "#bd3786"
             ],
             [
              0.5555555555555556,
              "#d8576b"
             ],
             [
              0.6666666666666666,
              "#ed7953"
             ],
             [
              0.7777777777777778,
              "#fb9f3a"
             ],
             [
              0.8888888888888888,
              "#fdca26"
             ],
             [
              1,
              "#f0f921"
             ]
            ],
            "type": "surface"
           }
          ],
          "table": [
           {
            "cells": {
             "fill": {
              "color": "#EBF0F8"
             },
             "line": {
              "color": "white"
             }
            },
            "header": {
             "fill": {
              "color": "#C8D4E3"
             },
             "line": {
              "color": "white"
             }
            },
            "type": "table"
           }
          ]
         },
         "layout": {
          "annotationdefaults": {
           "arrowcolor": "#2a3f5f",
           "arrowhead": 0,
           "arrowwidth": 1
          },
          "autotypenumbers": "strict",
          "coloraxis": {
           "colorbar": {
            "outlinewidth": 0,
            "ticks": ""
           }
          },
          "colorscale": {
           "diverging": [
            [
             0,
             "#8e0152"
            ],
            [
             0.1,
             "#c51b7d"
            ],
            [
             0.2,
             "#de77ae"
            ],
            [
             0.3,
             "#f1b6da"
            ],
            [
             0.4,
             "#fde0ef"
            ],
            [
             0.5,
             "#f7f7f7"
            ],
            [
             0.6,
             "#e6f5d0"
            ],
            [
             0.7,
             "#b8e186"
            ],
            [
             0.8,
             "#7fbc41"
            ],
            [
             0.9,
             "#4d9221"
            ],
            [
             1,
             "#276419"
            ]
           ],
           "sequential": [
            [
             0,
             "#0d0887"
            ],
            [
             0.1111111111111111,
             "#46039f"
            ],
            [
             0.2222222222222222,
             "#7201a8"
            ],
            [
             0.3333333333333333,
             "#9c179e"
            ],
            [
             0.4444444444444444,
             "#bd3786"
            ],
            [
             0.5555555555555556,
             "#d8576b"
            ],
            [
             0.6666666666666666,
             "#ed7953"
            ],
            [
             0.7777777777777778,
             "#fb9f3a"
            ],
            [
             0.8888888888888888,
             "#fdca26"
            ],
            [
             1,
             "#f0f921"
            ]
           ],
           "sequentialminus": [
            [
             0,
             "#0d0887"
            ],
            [
             0.1111111111111111,
             "#46039f"
            ],
            [
             0.2222222222222222,
             "#7201a8"
            ],
            [
             0.3333333333333333,
             "#9c179e"
            ],
            [
             0.4444444444444444,
             "#bd3786"
            ],
            [
             0.5555555555555556,
             "#d8576b"
            ],
            [
             0.6666666666666666,
             "#ed7953"
            ],
            [
             0.7777777777777778,
             "#fb9f3a"
            ],
            [
             0.8888888888888888,
             "#fdca26"
            ],
            [
             1,
             "#f0f921"
            ]
           ]
          },
          "colorway": [
           "#636efa",
           "#EF553B",
           "#00cc96",
           "#ab63fa",
           "#FFA15A",
           "#19d3f3",
           "#FF6692",
           "#B6E880",
           "#FF97FF",
           "#FECB52"
          ],
          "font": {
           "color": "#2a3f5f"
          },
          "geo": {
           "bgcolor": "white",
           "lakecolor": "white",
           "landcolor": "#E5ECF6",
           "showlakes": true,
           "showland": true,
           "subunitcolor": "white"
          },
          "hoverlabel": {
           "align": "left"
          },
          "hovermode": "closest",
          "mapbox": {
           "style": "light"
          },
          "paper_bgcolor": "white",
          "plot_bgcolor": "#E5ECF6",
          "polar": {
           "angularaxis": {
            "gridcolor": "white",
            "linecolor": "white",
            "ticks": ""
           },
           "bgcolor": "#E5ECF6",
           "radialaxis": {
            "gridcolor": "white",
            "linecolor": "white",
            "ticks": ""
           }
          },
          "scene": {
           "xaxis": {
            "backgroundcolor": "#E5ECF6",
            "gridcolor": "white",
            "gridwidth": 2,
            "linecolor": "white",
            "showbackground": true,
            "ticks": "",
            "zerolinecolor": "white"
           },
           "yaxis": {
            "backgroundcolor": "#E5ECF6",
            "gridcolor": "white",
            "gridwidth": 2,
            "linecolor": "white",
            "showbackground": true,
            "ticks": "",
            "zerolinecolor": "white"
           },
           "zaxis": {
            "backgroundcolor": "#E5ECF6",
            "gridcolor": "white",
            "gridwidth": 2,
            "linecolor": "white",
            "showbackground": true,
            "ticks": "",
            "zerolinecolor": "white"
           }
          },
          "shapedefaults": {
           "line": {
            "color": "#2a3f5f"
           }
          },
          "ternary": {
           "aaxis": {
            "gridcolor": "white",
            "linecolor": "white",
            "ticks": ""
           },
           "baxis": {
            "gridcolor": "white",
            "linecolor": "white",
            "ticks": ""
           },
           "bgcolor": "#E5ECF6",
           "caxis": {
            "gridcolor": "white",
            "linecolor": "white",
            "ticks": ""
           }
          },
          "title": {
           "x": 0.05
          },
          "xaxis": {
           "automargin": true,
           "gridcolor": "white",
           "linecolor": "white",
           "ticks": "",
           "title": {
            "standoff": 15
           },
           "zerolinecolor": "white",
           "zerolinewidth": 2
          },
          "yaxis": {
           "automargin": true,
           "gridcolor": "white",
           "linecolor": "white",
           "ticks": "",
           "title": {
            "standoff": 15
           },
           "zerolinecolor": "white",
           "zerolinewidth": 2
          }
         }
        },
        "title": {
         "text": "Figuras"
        },
        "width": 900,
        "xaxis": {
         "anchor": "y",
         "domain": [
          0,
          0.2888888888888889
         ]
        },
        "xaxis2": {
         "anchor": "y2",
         "domain": [
          0.35555555555555557,
          0.6444444444444445
         ]
        },
        "xaxis3": {
         "anchor": "y3",
         "domain": [
          0.7111111111111111,
          1
         ]
        },
        "xaxis4": {
         "anchor": "y4",
         "domain": [
          0,
          0.2888888888888889
         ]
        },
        "xaxis5": {
         "anchor": "y5",
         "domain": [
          0.35555555555555557,
          0.6444444444444445
         ]
        },
        "xaxis6": {
         "anchor": "y6",
         "domain": [
          0.7111111111111111,
          1
         ]
        },
        "xaxis7": {
         "anchor": "y7",
         "domain": [
          0,
          0.2888888888888889
         ]
        },
        "xaxis8": {
         "anchor": "y8",
         "domain": [
          0.35555555555555557,
          0.6444444444444445
         ]
        },
        "xaxis9": {
         "anchor": "y9",
         "domain": [
          0.7111111111111111,
          1
         ]
        },
        "yaxis": {
         "anchor": "x",
         "domain": [
          0.7333333333333333,
          1
         ]
        },
        "yaxis2": {
         "anchor": "x2",
         "domain": [
          0.7333333333333333,
          1
         ]
        },
        "yaxis3": {
         "anchor": "x3",
         "domain": [
          0.7333333333333333,
          1
         ]
        },
        "yaxis4": {
         "anchor": "x4",
         "domain": [
          0.36666666666666664,
          0.6333333333333333
         ]
        },
        "yaxis5": {
         "anchor": "x5",
         "domain": [
          0.36666666666666664,
          0.6333333333333333
         ]
        },
        "yaxis6": {
         "anchor": "x6",
         "domain": [
          0.36666666666666664,
          0.6333333333333333
         ]
        },
        "yaxis7": {
         "anchor": "x7",
         "domain": [
          0,
          0.26666666666666666
         ]
        },
        "yaxis8": {
         "anchor": "x8",
         "domain": [
          0,
          0.26666666666666666
         ]
        },
        "yaxis9": {
         "anchor": "x9",
         "domain": [
          0,
          0.26666666666666666
         ]
        }
       }
      }
     },
     "metadata": {},
     "output_type": "display_data"
    }
   ],
   "source": [
    "from plotly.subplots import make_subplots\n",
    "import plotly.graph_objects as go\n",
    "\n",
    "fs = 3840\n",
    "dataset_test = Form1Dataset(\n",
    "    dataset_dir, max_window_idx=max_window_idx, signal_name=signal_name, test=True\n",
    ")\n",
    "train_dataloader = DataLoader(dataset_test, batch_size=train_batch_size, shuffle=True)\n",
    "\n",
    "dataiter = iter(train_dataloader)\n",
    "signal_windows, t_windows, labels, *_ = next(dataiter)\n",
    "\n",
    "x = model(signal_windows[1:10].to(device))\n",
    "x = x.detach()\n",
    "\n",
    "# Crear Matriz de confusión\n",
    "df = confussion_matrix(x, labels[1:10])\n",
    "print(df)\n",
    "\n",
    "# figure = plt.figure(figsize=(10, 10))\n",
    "cols, rows = 3, 3\n",
    "fig = make_subplots(rows=rows, cols=cols)\n",
    "\n",
    "for i in range(0, cols * rows):\n",
    "\n",
    "    col = i % cols\n",
    "    row = i // cols\n",
    "    fig.add_trace(\n",
    "        go.Scatter(\n",
    "            name=i, x=t_windows[i, :], y=signal_windows[i, :, 0], marker_color=\"black\"\n",
    "        ),\n",
    "        row=row + 1,\n",
    "        col=col + 1,\n",
    "    )\n",
    "\n",
    "fig.update_layout(\n",
    "    height=700,\n",
    "    width=900,\n",
    "    title_text=\"Figuras\",\n",
    "    margin={\"b\": 20, \"t\": 40, \"l\": 20, \"r\": 30},\n",
    "    plot_bgcolor=\"rgba(0,0,0,0)\",\n",
    "    # paper_bgcolor=\"whitesmoke\",\n",
    ")\n",
    "fig.show()\n"
   ]
  },
  {
   "attachments": {},
   "cell_type": "markdown",
   "metadata": {},
   "source": [
    "## Modelo R2 "
   ]
  },
  {
   "cell_type": "code",
   "execution_count": 15,
   "metadata": {},
   "outputs": [
    {
     "name": "stdout",
     "output_type": "stream",
     "text": [
      "Model structure: FaultDetector(\n",
      "  (lstm): LSTM(1, 20, batch_first=True)\n",
      "  (fc): Linear(in_features=20, out_features=1, bias=True)\n",
      ")\n",
      "\n",
      "Epoch 1\n",
      "--------------------------------\n",
      "loss: 0.699276 [    0/ 4096]\n",
      "loss: 0.640427 [  128/ 4096]\n",
      "loss: 0.623498 [  256/ 4096]\n",
      "loss: 0.601174 [  384/ 4096]\n",
      "loss: 0.574079 [  512/ 4096]\n",
      "loss: 0.513729 [  640/ 4096]\n",
      "loss: 0.487733 [  768/ 4096]\n",
      "loss: 0.436654 [  896/ 4096]\n",
      "loss: 0.429537 [ 1024/ 4096]\n",
      "loss: 0.396921 [ 1152/ 4096]\n",
      "loss: 0.314566 [ 1280/ 4096]\n",
      "loss: 0.296397 [ 1408/ 4096]\n",
      "loss: 0.255865 [ 1536/ 4096]\n",
      "loss: 0.307133 [ 1664/ 4096]\n",
      "loss: 0.269831 [ 1792/ 4096]\n",
      "loss: 0.185034 [ 1920/ 4096]\n",
      "loss: 0.232722 [ 2048/ 4096]\n",
      "loss: 0.238132 [ 2176/ 4096]\n",
      "loss: 0.142724 [ 2304/ 4096]\n",
      "loss: 0.171021 [ 2432/ 4096]\n",
      "loss: 0.277281 [ 2560/ 4096]\n",
      "loss: 0.168091 [ 2688/ 4096]\n",
      "loss: 0.189481 [ 2816/ 4096]\n",
      "loss: 0.121623 [ 2944/ 4096]\n",
      "loss: 0.151956 [ 3072/ 4096]\n",
      "loss: 0.083514 [ 3200/ 4096]\n",
      "loss: 0.090595 [ 3328/ 4096]\n",
      "loss: 0.132138 [ 3456/ 4096]\n",
      "loss: 0.148001 [ 3584/ 4096]\n",
      "loss: 0.100255 [ 3712/ 4096]\n",
      "loss: 0.068380 [ 3840/ 4096]\n",
      "loss: 0.171877 [ 3968/ 4096]\n",
      "Test Error: \n",
      " Accuracy: 98.3%, Avg loss: 0.093816 \n",
      "\n"
     ]
    }
   ],
   "source": [
    "# Load Dataset\n",
    "signal_name_R2 = \"I: X0004A-R2A\"\n",
    "dataset_R2 = Form1Dataset(\n",
    "    dataset_dir_R2, max_window_idx=max_window_idx, signal_name=signal_name_R2\n",
    ")\n",
    "train_dataset, test_dataset, dev_dataset = random_split(dataset_R2, [0.9, 0.09, 0.01])\n",
    "train_dataloader = DataLoader(train_dataset, batch_size=train_batch_size, shuffle=True)\n",
    "test_dataloader = DataLoader(test_dataset, batch_size=test_batch_size, shuffle=True)\n",
    "# EL test set realmente es un dev set\n",
    "# Como regla general, si es utilizado dentro del loop es un dev set.\n",
    "dev_dataloader = DataLoader(dev_dataset, batch_size=dev_batch_size, shuffle=True)\n",
    "epochs = 1\n",
    "\n",
    "# Create Model\n",
    "\n",
    "model_R2 = FaultDetector(n_signals, hidden_dim, tagset_size).to(device)\n",
    "loss_fn = nn.BCELoss()\n",
    "optimizer = torch.optim.Adam(model_R2.parameters(), lr=1e-2)\n",
    "# Learning rate decay\n",
    "decayRate = 0.96\n",
    "my_lr_scheduler = torch.optim.lr_scheduler.ExponentialLR(optimizer=optimizer, gamma=decayRate)\n",
    "\n",
    "print(f\"Model structure: {model_R2}\\n\")\n",
    "\n",
    "\n",
    "for epoch in range(epochs):\n",
    "    \n",
    "    print(f\"Epoch {epoch+1}\\n--------------------------------\")\n",
    "    train_loss = train(train_dataloader, model_R2, loss_fn, optimizer, return_loss=True)\n",
    "    test(test_dataloader, model_R2, loss_fn)\n"
   ]
  },
  {
   "cell_type": "code",
   "execution_count": 16,
   "metadata": {},
   "outputs": [
    {
     "data": {
      "text/plain": [
       "[<matplotlib.lines.Line2D at 0x1e1c5e3a4f0>,\n",
       " <matplotlib.lines.Line2D at 0x1e1c5e3a550>]"
      ]
     },
     "execution_count": 16,
     "metadata": {},
     "output_type": "execute_result"
    },
    {
     "data": {
      "image/png": "[encoded data removed]",
      "text/plain": [
       "<Figure size 640x480 with 1 Axes>"
      ]
     },
     "metadata": {},
     "output_type": "display_data"
    }
   ],
   "source": [
    "mini_batch_list = [index for index, _ in enumerate(train_loss)]\n",
    "train_loss_ewm = pd.DataFrame(train_loss).ewm(com=0.98).mean()\n",
    "plt.plot(mini_batch_list, train_loss, mini_batch_list, train_loss_ewm)"
   ]
  },
  {
   "cell_type": "code",
   "execution_count": 17,
   "metadata": {},
   "outputs": [],
   "source": [
    "# # Save the Model_R2\n",
    "# torch.save(model_R2.state_dict(), './models/LSTMHarmonic_weights_R2_972.pth')\n",
    "# model_R2.load_state_dict(torch.load('./models/LSTMHarmonic_weights_989.pth'))"
   ]
  },
  {
   "cell_type": "code",
   "execution_count": 18,
   "metadata": {},
   "outputs": [
    {
     "name": "stdout",
     "output_type": "stream",
     "text": [
      "torch.Size([16, 64, 1])\n",
      "tensor([[0., 0., 1., 1., 0., 0., 1., 0., 1.]])\n",
      "tensor([[0., 0., 0., 1., 0., 0., 1., 0., 1.]], grad_fn=<ReshapeAliasBackward0>)\n",
      "tensor([[0.0243, 0.0284, 0.0497, 0.9431, 0.0319, 0.0409, 0.9745, 0.0578, 0.9702]],\n",
      "       grad_fn=<ReshapeAliasBackward0>)\n"
     ]
    },
    {
     "data": {
      "image/png": "[encoded data removed]",
      "text/plain": [
       "<Figure size 1000x1000 with 9 Axes>"
      ]
     },
     "metadata": {},
     "output_type": "display_data"
    }
   ],
   "source": [
    "dataiter = iter(dev_dataloader)\n",
    "signal, labels = next(dataiter)\n",
    "fs = 3840\n",
    "t = np.linspace(0, N / fs, N)\n",
    "print(signal.shape)\n",
    "print(torch.reshape(labels[1:10], (1, -1)))\n",
    "figure = plt.figure(figsize=(10, 10))\n",
    "cols, rows = 3, 3\n",
    "for i in range(1, cols * rows + 1):\n",
    "    figure.add_subplot(rows, cols, i)\n",
    "    plt.plot(t, signal[i, :, 0])\n",
    "x = model_R2(signal[1:10].to(device))\n",
    "print(torch.reshape(torch.round(x), (1, -1)))\n",
    "print(torch.reshape(x, (1, -1)))"
   ]
  },
  {
   "attachments": {},
   "cell_type": "markdown",
   "metadata": {},
   "source": [
    "## Modelo R3"
   ]
  },
  {
   "cell_type": "code",
   "execution_count": 19,
   "metadata": {},
   "outputs": [
    {
     "name": "stdout",
     "output_type": "stream",
     "text": [
      "Model structure: FaultDetector(\n",
      "  (lstm): LSTM(1, 20, batch_first=True)\n",
      "  (fc): Linear(in_features=20, out_features=1, bias=True)\n",
      ")\n",
      "\n",
      "Epoch 1\n",
      "--------------------------------\n",
      "loss: 0.688448 [    0/ 4096]\n",
      "loss: 0.619775 [  128/ 4096]\n",
      "loss: 0.582305 [  256/ 4096]\n",
      "loss: 0.558069 [  384/ 4096]\n",
      "loss: 0.532146 [  512/ 4096]\n",
      "loss: 0.510895 [  640/ 4096]\n",
      "loss: 0.475235 [  768/ 4096]\n",
      "loss: 0.408887 [  896/ 4096]\n",
      "loss: 0.462808 [ 1024/ 4096]\n",
      "loss: 0.363916 [ 1152/ 4096]\n",
      "loss: 0.348708 [ 1280/ 4096]\n",
      "loss: 0.325589 [ 1408/ 4096]\n",
      "loss: 0.322745 [ 1536/ 4096]\n",
      "loss: 0.288809 [ 1664/ 4096]\n",
      "loss: 0.297721 [ 1792/ 4096]\n",
      "loss: 0.404995 [ 1920/ 4096]\n",
      "loss: 0.323360 [ 2048/ 4096]\n",
      "loss: 0.267944 [ 2176/ 4096]\n",
      "loss: 0.289457 [ 2304/ 4096]\n",
      "loss: 0.257210 [ 2432/ 4096]\n",
      "loss: 0.205581 [ 2560/ 4096]\n",
      "loss: 0.326841 [ 2688/ 4096]\n",
      "loss: 0.240391 [ 2816/ 4096]\n",
      "loss: 0.196868 [ 2944/ 4096]\n",
      "loss: 0.197302 [ 3072/ 4096]\n",
      "loss: 0.202544 [ 3200/ 4096]\n",
      "loss: 0.153139 [ 3328/ 4096]\n",
      "loss: 0.213567 [ 3456/ 4096]\n"
     ]
    },
    {
     "ename": "KeyboardInterrupt",
     "evalue": "",
     "output_type": "error",
     "traceback": [
      "\u001b[1;31m---------------------------------------------------------------------------\u001b[0m",
      "\u001b[1;31mKeyboardInterrupt\u001b[0m                         Traceback (most recent call last)",
      "Cell \u001b[1;32mIn[19], line 29\u001b[0m\n\u001b[0;32m     26\u001b[0m \u001b[39mfor\u001b[39;00m epoch \u001b[39min\u001b[39;00m \u001b[39mrange\u001b[39m(epochs):\n\u001b[0;32m     28\u001b[0m     \u001b[39mprint\u001b[39m(\u001b[39mf\u001b[39m\u001b[39m\"\u001b[39m\u001b[39mEpoch \u001b[39m\u001b[39m{\u001b[39;00mepoch\u001b[39m+\u001b[39m\u001b[39m1\u001b[39m\u001b[39m}\u001b[39;00m\u001b[39m\\n\u001b[39;00m\u001b[39m--------------------------------\u001b[39m\u001b[39m\"\u001b[39m)\n\u001b[1;32m---> 29\u001b[0m     train_loss \u001b[39m=\u001b[39m train(train_dataloader, model_R3, loss_fn, optimizer, return_loss\u001b[39m=\u001b[39;49m\u001b[39mTrue\u001b[39;49;00m)\n\u001b[0;32m     30\u001b[0m     test(test_dataloader, model_R3, loss_fn)\n",
      "Cell \u001b[1;32mIn[8], line 8\u001b[0m, in \u001b[0;36mtrain\u001b[1;34m(dataloader, model, loss_fn, optimizer, return_loss)\u001b[0m\n\u001b[0;32m      6\u001b[0m model\u001b[39m.\u001b[39mtrain()\n\u001b[0;32m      7\u001b[0m loss_list \u001b[39m=\u001b[39m []\n\u001b[1;32m----> 8\u001b[0m \u001b[39mfor\u001b[39;00m batch, (x, y) \u001b[39min\u001b[39;00m \u001b[39menumerate\u001b[39m(dataloader):\n\u001b[0;32m      9\u001b[0m     x, y \u001b[39m=\u001b[39m x\u001b[39m.\u001b[39mto(device), y\u001b[39m.\u001b[39mto(device)\n\u001b[0;32m     11\u001b[0m     \u001b[39m# Compute prediction error\u001b[39;00m\n",
      "File \u001b[1;32mc:\\Users\\aherrada\\Documents\\Git\\Pytorch\\env\\lib\\site-packages\\torch\\utils\\data\\dataloader.py:628\u001b[0m, in \u001b[0;36m_BaseDataLoaderIter.__next__\u001b[1;34m(self)\u001b[0m\n\u001b[0;32m    625\u001b[0m \u001b[39mif\u001b[39;00m \u001b[39mself\u001b[39m\u001b[39m.\u001b[39m_sampler_iter \u001b[39mis\u001b[39;00m \u001b[39mNone\u001b[39;00m:\n\u001b[0;32m    626\u001b[0m     \u001b[39m# TODO(https://github.com/pytorch/pytorch/issues/76750)\u001b[39;00m\n\u001b[0;32m    627\u001b[0m     \u001b[39mself\u001b[39m\u001b[39m.\u001b[39m_reset()  \u001b[39m# type: ignore[call-arg]\u001b[39;00m\n\u001b[1;32m--> 628\u001b[0m data \u001b[39m=\u001b[39m \u001b[39mself\u001b[39;49m\u001b[39m.\u001b[39;49m_next_data()\n\u001b[0;32m    629\u001b[0m \u001b[39mself\u001b[39m\u001b[39m.\u001b[39m_num_yielded \u001b[39m+\u001b[39m\u001b[39m=\u001b[39m \u001b[39m1\u001b[39m\n\u001b[0;32m    630\u001b[0m \u001b[39mif\u001b[39;00m \u001b[39mself\u001b[39m\u001b[39m.\u001b[39m_dataset_kind \u001b[39m==\u001b[39m _DatasetKind\u001b[39m.\u001b[39mIterable \u001b[39mand\u001b[39;00m \\\n\u001b[0;32m    631\u001b[0m         \u001b[39mself\u001b[39m\u001b[39m.\u001b[39m_IterableDataset_len_called \u001b[39mis\u001b[39;00m \u001b[39mnot\u001b[39;00m \u001b[39mNone\u001b[39;00m \u001b[39mand\u001b[39;00m \\\n\u001b[0;32m    632\u001b[0m         \u001b[39mself\u001b[39m\u001b[39m.\u001b[39m_num_yielded \u001b[39m>\u001b[39m \u001b[39mself\u001b[39m\u001b[39m.\u001b[39m_IterableDataset_len_called:\n",
      "File \u001b[1;32mc:\\Users\\aherrada\\Documents\\Git\\Pytorch\\env\\lib\\site-packages\\torch\\utils\\data\\dataloader.py:671\u001b[0m, in \u001b[0;36m_SingleProcessDataLoaderIter._next_data\u001b[1;34m(self)\u001b[0m\n\u001b[0;32m    669\u001b[0m \u001b[39mdef\u001b[39;00m \u001b[39m_next_data\u001b[39m(\u001b[39mself\u001b[39m):\n\u001b[0;32m    670\u001b[0m     index \u001b[39m=\u001b[39m \u001b[39mself\u001b[39m\u001b[39m.\u001b[39m_next_index()  \u001b[39m# may raise StopIteration\u001b[39;00m\n\u001b[1;32m--> 671\u001b[0m     data \u001b[39m=\u001b[39m \u001b[39mself\u001b[39;49m\u001b[39m.\u001b[39;49m_dataset_fetcher\u001b[39m.\u001b[39;49mfetch(index)  \u001b[39m# may raise StopIteration\u001b[39;00m\n\u001b[0;32m    672\u001b[0m     \u001b[39mif\u001b[39;00m \u001b[39mself\u001b[39m\u001b[39m.\u001b[39m_pin_memory:\n\u001b[0;32m    673\u001b[0m         data \u001b[39m=\u001b[39m _utils\u001b[39m.\u001b[39mpin_memory\u001b[39m.\u001b[39mpin_memory(data, \u001b[39mself\u001b[39m\u001b[39m.\u001b[39m_pin_memory_device)\n",
      "File \u001b[1;32mc:\\Users\\aherrada\\Documents\\Git\\Pytorch\\env\\lib\\site-packages\\torch\\utils\\data\\_utils\\fetch.py:58\u001b[0m, in \u001b[0;36m_MapDatasetFetcher.fetch\u001b[1;34m(self, possibly_batched_index)\u001b[0m\n\u001b[0;32m     56\u001b[0m         data \u001b[39m=\u001b[39m \u001b[39mself\u001b[39m\u001b[39m.\u001b[39mdataset\u001b[39m.\u001b[39m__getitems__(possibly_batched_index)\n\u001b[0;32m     57\u001b[0m     \u001b[39melse\u001b[39;00m:\n\u001b[1;32m---> 58\u001b[0m         data \u001b[39m=\u001b[39m [\u001b[39mself\u001b[39m\u001b[39m.\u001b[39mdataset[idx] \u001b[39mfor\u001b[39;00m idx \u001b[39min\u001b[39;00m possibly_batched_index]\n\u001b[0;32m     59\u001b[0m \u001b[39melse\u001b[39;00m:\n\u001b[0;32m     60\u001b[0m     data \u001b[39m=\u001b[39m \u001b[39mself\u001b[39m\u001b[39m.\u001b[39mdataset[possibly_batched_index]\n",
      "File \u001b[1;32mc:\\Users\\aherrada\\Documents\\Git\\Pytorch\\env\\lib\\site-packages\\torch\\utils\\data\\_utils\\fetch.py:58\u001b[0m, in \u001b[0;36m<listcomp>\u001b[1;34m(.0)\u001b[0m\n\u001b[0;32m     56\u001b[0m         data \u001b[39m=\u001b[39m \u001b[39mself\u001b[39m\u001b[39m.\u001b[39mdataset\u001b[39m.\u001b[39m__getitems__(possibly_batched_index)\n\u001b[0;32m     57\u001b[0m     \u001b[39melse\u001b[39;00m:\n\u001b[1;32m---> 58\u001b[0m         data \u001b[39m=\u001b[39m [\u001b[39mself\u001b[39;49m\u001b[39m.\u001b[39;49mdataset[idx] \u001b[39mfor\u001b[39;00m idx \u001b[39min\u001b[39;00m possibly_batched_index]\n\u001b[0;32m     59\u001b[0m \u001b[39melse\u001b[39;00m:\n\u001b[0;32m     60\u001b[0m     data \u001b[39m=\u001b[39m \u001b[39mself\u001b[39m\u001b[39m.\u001b[39mdataset[possibly_batched_index]\n",
      "File \u001b[1;32mc:\\Users\\aherrada\\Documents\\Git\\Pytorch\\env\\lib\\site-packages\\torch\\utils\\data\\dataset.py:295\u001b[0m, in \u001b[0;36mSubset.__getitem__\u001b[1;34m(self, idx)\u001b[0m\n\u001b[0;32m    293\u001b[0m \u001b[39mif\u001b[39;00m \u001b[39misinstance\u001b[39m(idx, \u001b[39mlist\u001b[39m):\n\u001b[0;32m    294\u001b[0m     \u001b[39mreturn\u001b[39;00m \u001b[39mself\u001b[39m\u001b[39m.\u001b[39mdataset[[\u001b[39mself\u001b[39m\u001b[39m.\u001b[39mindices[i] \u001b[39mfor\u001b[39;00m i \u001b[39min\u001b[39;00m idx]]\n\u001b[1;32m--> 295\u001b[0m \u001b[39mreturn\u001b[39;00m \u001b[39mself\u001b[39;49m\u001b[39m.\u001b[39;49mdataset[\u001b[39mself\u001b[39;49m\u001b[39m.\u001b[39;49mindices[idx]]\n",
      "Cell \u001b[1;32mIn[5], line 60\u001b[0m, in \u001b[0;36mForm1Dataset.__getitem__\u001b[1;34m(self, index)\u001b[0m\n\u001b[0;32m     57\u001b[0m     label \u001b[39m=\u001b[39m np\u001b[39m.\u001b[39marray([\u001b[39m1\u001b[39m])\n\u001b[0;32m     59\u001b[0m \u001b[39m# For dataset visualization return following information\u001b[39;00m\n\u001b[1;32m---> 60\u001b[0m signal_window \u001b[39m=\u001b[39m torch\u001b[39m.\u001b[39;49mfrom_numpy(signal_window)\u001b[39m.\u001b[39;49mfloat()\n\u001b[0;32m     61\u001b[0m label \u001b[39m=\u001b[39m torch\u001b[39m.\u001b[39mfrom_numpy(label)\u001b[39m.\u001b[39mfloat()\n\u001b[0;32m     62\u001b[0m \u001b[39mif\u001b[39;00m \u001b[39mself\u001b[39m\u001b[39m.\u001b[39mtest \u001b[39m==\u001b[39m \u001b[39mTrue\u001b[39;00m:\n",
      "\u001b[1;31mKeyboardInterrupt\u001b[0m: "
     ]
    }
   ],
   "source": [
    "# Load Dataset\n",
    "signal_name_R3 = \"I: X0071A-R3A\"\n",
    "dataset_R3 = Form1Dataset(\n",
    "    dataset_dir_R3, max_window_idx=max_window_idx, signal_name=signal_name_R3\n",
    ")\n",
    "train_dataset, test_dataset, dev_dataset = random_split(dataset_R3, [0.9, 0.09, 0.01])\n",
    "train_dataloader = DataLoader(train_dataset, batch_size=train_batch_size, shuffle=True)\n",
    "test_dataloader = DataLoader(test_dataset, batch_size=test_batch_size, shuffle=True)\n",
    "# EL test set realmente es un dev set\n",
    "# Como regla general, si es utilizado dentro del loop es un dev set.\n",
    "dev_dataloader = DataLoader(dev_dataset, batch_size=dev_batch_size, shuffle=True)\n",
    "epochs = 1\n",
    "\n",
    "# Create Model\n",
    "\n",
    "model_R3 = FaultDetector(n_signals, hidden_dim, tagset_size).to(device)\n",
    "loss_fn = nn.BCELoss()\n",
    "optimizer = torch.optim.Adam(model_R3.parameters(), lr=1e-2)\n",
    "# Learning rate decay\n",
    "decayRate = 0.96\n",
    "my_lr_scheduler = torch.optim.lr_scheduler.ExponentialLR(optimizer=optimizer, gamma=decayRate)\n",
    "\n",
    "print(f\"Model structure: {model_R3}\\n\")\n",
    "\n",
    "\n",
    "for epoch in range(epochs):\n",
    "    \n",
    "    print(f\"Epoch {epoch+1}\\n--------------------------------\")\n",
    "    train_loss = train(train_dataloader, model_R3, loss_fn, optimizer, return_loss=True)\n",
    "    test(test_dataloader, model_R3, loss_fn)"
   ]
  },
  {
   "cell_type": "code",
   "execution_count": null,
   "metadata": {},
   "outputs": [
    {
     "data": {
      "text/plain": [
       "0.1790877729654312"
      ]
     },
     "execution_count": 69,
     "metadata": {},
     "output_type": "execute_result"
    },
    {
     "data": {
      "image/png": "[encoded data removed]",
      "text/plain": [
       "<Figure size 640x480 with 1 Axes>"
      ]
     },
     "metadata": {},
     "output_type": "display_data"
    }
   ],
   "source": [
    "mini_batch_list = [index for index, _ in enumerate(train_loss)]\n",
    "train_loss_ewm = pd.DataFrame(train_loss).ewm(com=0.98).mean()\n",
    "plt.plot(mini_batch_list, train_loss, mini_batch_list, train_loss_ewm)\n",
    "train_loss[-2]"
   ]
  },
  {
   "cell_type": "code",
   "execution_count": 70,
   "metadata": {},
   "outputs": [],
   "source": [
    "# # Save the Model_R2\n",
    "# torch.save(model_R3.state_dict(), './models/LSTMHarmonic_weights_R3_983.pth')\n",
    "# model_R2.load_state_dict(torch.load('./models/LSTMHarmonic_weights_989.pth'))"
   ]
  },
  {
   "cell_type": "code",
   "execution_count": 74,
   "metadata": {},
   "outputs": [
    {
     "name": "stdout",
     "output_type": "stream",
     "text": [
      "torch.Size([16, 64, 1])\n",
      "tensor([[1., 1., 0., 1., 1., 0., 1., 0., 1.]])\n",
      "tensor([[1., 1., 0., 1., 1., 0., 1., 0., 1.]], grad_fn=<ReshapeAliasBackward0>)\n",
      "tensor([[0.9562, 0.9559, 0.0382, 0.9664, 0.9712, 0.0191, 0.9659, 0.0283, 0.9659]],\n",
      "       grad_fn=<ReshapeAliasBackward0>)\n"
     ]
    },
    {
     "data": {
      "image/png": "[encoded data removed]",
      "text/plain": [
       "<Figure size 1000x1000 with 9 Axes>"
      ]
     },
     "metadata": {},
     "output_type": "display_data"
    }
   ],
   "source": [
    "dataiter = iter(dev_dataloader)\n",
    "signal, labels = next(dataiter)\n",
    "fs = 3840\n",
    "t = np.linspace(0, N / fs, N)\n",
    "print(signal.shape)\n",
    "print(torch.reshape(labels[1:10], (1, -1)))\n",
    "figure = plt.figure(figsize=(10, 10))\n",
    "cols, rows = 3, 3\n",
    "for i in range(1, cols * rows + 1):\n",
    "    figure.add_subplot(rows, cols, i)\n",
    "    plt.plot(t, signal[i, :, 0])\n",
    "x = model_R2(signal[1:10].to(device))\n",
    "print(torch.reshape(torch.round(x), (1, -1)))\n",
    "print(torch.reshape(x, (1, -1)))"
   ]
  },
  {
   "attachments": {},
   "cell_type": "markdown",
   "metadata": {},
   "source": [
    "### 7. References\n",
    "1. PyTorch Contributors: LSTM. [LSTM — PyTorch 1.13 documentation](https://pytorch.org/docs/stable/generated/torch.nn.LSTM.html).\n",
    "<!-- @online{LSTM,\n",
    "    author = \"{PyTorch Contributors}\",\n",
    "    title = \"LSTM\",\n",
    "    url  = \"https://pytorch.org/docs/stable/generated/torch.nn.LSTM.html\",\n",
    "    addendum = \"(accessed: 10.02.2023)\",\n",
    "    keywords = \"LSTM pytorch\"\n",
    "} -->\n",
    "\n"
   ]
  }
 ],
 "metadata": {
  "kernelspec": {
   "display_name": "env",
   "language": "python",
   "name": "python3"
  },
  "language_info": {
   "codemirror_mode": {
    "name": "ipython",
    "version": 3
   },
   "file_extension": ".py",
   "mimetype": "text/x-python",
   "name": "python",
   "nbconvert_exporter": "python",
   "pygments_lexer": "ipython3",
   "version": "3.9.13"
  },
  "orig_nbformat": 4,
  "vscode": {
   "interpreter": {
    "hash": "edf36f54e3c0d12e79cbfbdb2eab1260e125462eb03956a03e5e853a13b289dd"
   }
  }
 },
 "nbformat": 4,
 "nbformat_minor": 2
}
