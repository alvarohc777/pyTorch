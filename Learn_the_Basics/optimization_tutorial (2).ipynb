{
  "cells": [
    {
      "cell_type": "code",
      "execution_count": 1,
      "metadata": {
        "collapsed": false
      },
      "outputs": [],
      "source": [
        "%matplotlib inline"
      ]
    },
    {
      "cell_type": "markdown",
      "metadata": {},
      "source": [
        "\n",
        "[Learn the Basics](intro.html) ||\n",
        "[Quickstart](quickstart_tutorial.html) ||\n",
        "[Tensors](tensorqs_tutorial.html) ||\n",
        "[Datasets & DataLoaders](data_tutorial.html) ||\n",
        "[Transforms](transforms_tutorial.html) ||\n",
        "[Build Model](buildmodel_tutorial.html) ||\n",
        "[Autograd](autogradqs_tutorial.html) ||\n",
        "**Optimization** ||\n",
        "[Save & Load Model](saveloadrun_tutorial.html)\n",
        "\n",
        "# Optimizing Model Parameters\n",
        "\n",
        "Now that we have a model and data it's time to train, validate and test our model by optimizing its parameters on\n",
        "our data. Training a model is an iterative process; in each iteration the model makes a guess about the output, calculates\n",
        "the error in its guess (*loss*), collects the derivatives of the error with respect to its parameters (as we saw in\n",
        "the [previous section](autograd_tutorial.html)), and **optimizes** these parameters using gradient descent. For a more\n",
        "detailed walkthrough of this process, check out this video on [backpropagation from 3Blue1Brown](https://www.youtube.com/watch?v=tIeHLnjs5U8)_.\n",
        "\n",
        "## Prerequisite Code\n",
        "We load the code from the previous sections on [Datasets & DataLoaders](data_tutorial.html)\n",
        "and [Build Model](buildmodel_tutorial.html).\n"
      ]
    },
    {
      "cell_type": "code",
      "execution_count": 2,
      "metadata": {
        "collapsed": false
      },
      "outputs": [],
      "source": [
        "import torch\n",
        "from torch import nn\n",
        "from torch.utils.data import DataLoader\n",
        "from torchvision import datasets\n",
        "from torchvision.transforms import ToTensor\n",
        "\n",
        "training_data = datasets.FashionMNIST(\n",
        "    root=\"data\",\n",
        "    train=True,\n",
        "    download=True,\n",
        "    transform=ToTensor()\n",
        ")\n",
        "\n",
        "test_data = datasets.FashionMNIST(\n",
        "    root=\"data\",\n",
        "    train=False,\n",
        "    download=True,\n",
        "    transform=ToTensor()\n",
        ")\n",
        "\n",
        "train_dataloader = DataLoader(training_data, batch_size=64)\n",
        "test_dataloader = DataLoader(test_data, batch_size=64)\n",
        "\n",
        "class NeuralNetwork(nn.Module):\n",
        "    def __init__(self):\n",
        "        super(NeuralNetwork, self).__init__()\n",
        "        self.flatten = nn.Flatten()\n",
        "        self.linear_relu_stack = nn.Sequential(\n",
        "            nn.Linear(28*28, 512),\n",
        "            nn.ReLU(),\n",
        "            nn.Linear(512, 512),\n",
        "            nn.ReLU(),\n",
        "            nn.Linear(512, 10),\n",
        "        )\n",
        "\n",
        "    def forward(self, x):\n",
        "        x = self.flatten(x)\n",
        "        logits = self.linear_relu_stack(x)\n",
        "        return logits\n",
        "\n",
        "model = NeuralNetwork()"
      ]
    },
    {
      "cell_type": "markdown",
      "metadata": {},
      "source": [
        "## Hyperparameters\n",
        "\n",
        "Hyperparameters are adjustable parameters that let you control the model optimization process.\n",
        "Different hyperparameter values can impact model training and convergence rates\n",
        "([read more](https://pytorch.org/tutorials/beginner/hyperparameter_tuning_tutorial.html)_ about hyperparameter tuning)\n",
        "\n",
        "We define the following hyperparameters for training:\n",
        " - **Number of Epochs** - the number times to iterate over the dataset\n",
        " - **Batch Size** - the number of data samples propagated through the network before the parameters are updated\n",
        " - **Learning Rate** - how much to update models parameters at each batch/epoch. Smaller values yield slow learning speed, while large values may result in unpredictable behavior during training.\n",
        "\n",
        "\n"
      ]
    },
    {
      "cell_type": "code",
      "execution_count": 3,
      "metadata": {
        "collapsed": false
      },
      "outputs": [],
      "source": [
        "learning_rate = 1e-3\n",
        "batch_size = 64\n",
        "epochs = 5"
      ]
    },
    {
      "cell_type": "markdown",
      "metadata": {},
      "source": [
        "## Optimization Loop\n",
        "\n",
        "Once we set our hyperparameters, we can then train and optimize our model with an optimization loop. Each\n",
        "iteration of the optimization loop is called an **epoch**.\n",
        "\n",
        "Each epoch consists of two main parts:\n",
        " - **The Train Loop** - iterate over the training dataset and try to converge to optimal parameters.\n",
        " - **The Validation/Test Loop** - iterate over the test dataset to check if model performance is improving.\n",
        "\n",
        "Let's briefly familiarize ourselves with some of the concepts used in the training loop. Jump ahead to\n",
        "see the `full-impl-label` of the optimization loop.\n",
        "\n",
        "### Loss Function\n",
        "\n",
        "When presented with some training data, our untrained network is likely not to give the correct\n",
        "answer. **Loss function** measures the degree of dissimilarity of obtained result to the target value,\n",
        "and it is the loss function that we want to minimize during training. To calculate the loss we make a\n",
        "prediction using the inputs of our given data sample and compare it against the true data label value.\n",
        "\n",
        "Common loss functions include [nn.MSELoss](https://pytorch.org/docs/stable/generated/torch.nn.MSELoss.html#torch.nn.MSELoss) (Mean Square Error) for regression tasks, and\n",
        "[nn.NLLLoss](https://pytorch.org/docs/stable/generated/torch.nn.NLLLoss.html#torch.nn.NLLLoss) (Negative Log Likelihood) for classification.\n",
        "[nn.CrossEntropyLoss](https://pytorch.org/docs/stable/generated/torch.nn.CrossEntropyLoss.html#torch.nn.CrossEntropyLoss) combines ``nn.LogSoftmax`` and ``nn.NLLLoss``.\n",
        "\n",
        "We pass our model's output logits to ``nn.CrossEntropyLoss``, which will normalize the logits and compute the prediction error.\n",
        "\n"
      ]
    },
    {
      "cell_type": "code",
      "execution_count": 4,
      "metadata": {
        "collapsed": false
      },
      "outputs": [],
      "source": [
        "# Initialize the loss function\n",
        "loss_fn = nn.CrossEntropyLoss()"
      ]
    },
    {
      "cell_type": "markdown",
      "metadata": {},
      "source": [
        "### Optimizer\n",
        "\n",
        "Optimization is the process of adjusting model parameters to reduce model error in each training step. **Optimization algorithms** define how this process is performed (in this example we use Stochastic Gradient Descent).\n",
        "All optimization logic is encapsulated in  the ``optimizer`` object. Here, we use the SGD optimizer; additionally, there are many [different optimizers](https://pytorch.org/docs/stable/optim.html)\n",
        "available in PyTorch such as ADAM and RMSProp, that work better for different kinds of models and data.\n",
        "\n",
        "We initialize the optimizer by registering the model's parameters that need to be trained, and passing in the learning rate hyperparameter.\n",
        "\n"
      ]
    },
    {
      "cell_type": "code",
      "execution_count": 5,
      "metadata": {
        "collapsed": false
      },
      "outputs": [],
      "source": [
        "optimizer = torch.optim.SGD(model.parameters(), lr=learning_rate)"
      ]
    },
    {
      "cell_type": "markdown",
      "metadata": {},
      "source": [
        "Inside the training loop, optimization happens in three steps:\n",
        " * Call ``optimizer.zero_grad()`` to reset the gradients of model parameters. Gradients by default add up; to prevent double-counting, we explicitly zero them at each iteration.\n",
        " * Backpropagate the prediction loss with a call to ``loss.backward()``. PyTorch deposits the gradients of the loss w.r.t. each parameter.\n",
        " * Once we have our gradients, we call ``optimizer.step()`` to adjust the parameters by the gradients collected in the backward pass.\n",
        "\n"
      ]
    },
    {
      "cell_type": "markdown",
      "metadata": {},
      "source": [
        "\n",
        "## Full Implementation\n",
        "We define ``train_loop`` that loops over our optimization code, and ``test_loop`` that\n",
        "evaluates the model's performance against our test data.\n",
        "\n"
      ]
    },
    {
      "cell_type": "code",
      "execution_count": 6,
      "metadata": {
        "collapsed": false
      },
      "outputs": [],
      "source": [
        "def train_loop(dataloader, model, loss_fn, optimizer):\n",
        "    size = len(dataloader.dataset)\n",
        "    for batch, (X, y) in enumerate(dataloader):\n",
        "        # Compute prediction and loss\n",
        "        pred = model(X)\n",
        "        loss = loss_fn(pred, y)\n",
        "\n",
        "        # Backpropagation\n",
        "        optimizer.zero_grad()\n",
        "        loss.backward()\n",
        "        optimizer.step()\n",
        "\n",
        "        if batch % 100 == 0:\n",
        "            loss, current = loss.item(), batch * len(X)\n",
        "            print(f\"loss: {loss:>7f}  [{current:>5d}/{size:>5d}]\")\n",
        "\n",
        "\n",
        "def test_loop(dataloader, model, loss_fn):\n",
        "    size = len(dataloader.dataset)\n",
        "    num_batches = len(dataloader)\n",
        "    test_loss, correct = 0, 0\n",
        "\n",
        "    with torch.no_grad():\n",
        "        for X, y in dataloader:\n",
        "            pred = model(X)\n",
        "            test_loss += loss_fn(pred, y).item()\n",
        "            correct += (pred.argmax(1) == y).type(torch.float).sum().item()\n",
        "\n",
        "    test_loss /= num_batches\n",
        "    correct /= size\n",
        "    print(f\"Test Error: \\n Accuracy: {(100*correct):>0.1f}%, Avg loss: {test_loss:>8f} \\n\")"
      ]
    },
    {
      "cell_type": "markdown",
      "metadata": {},
      "source": [
        "We initialize the loss function and optimizer, and pass it to ``train_loop`` and ``test_loop``.\n",
        "Feel free to increase the number of epochs to track the model's improving performance.\n",
        "\n"
      ]
    },
    {
      "cell_type": "code",
      "execution_count": 7,
      "metadata": {
        "collapsed": false
      },
      "outputs": [
        {
          "name": "stdout",
          "output_type": "stream",
          "text": [
            "Epoch 1\n",
            "-------------------------------\n",
            "loss: 2.297436  [    0/60000]\n",
            "loss: 2.287969  [ 6400/60000]\n",
            "loss: 2.266878  [12800/60000]\n",
            "loss: 2.265330  [19200/60000]\n",
            "loss: 2.243614  [25600/60000]\n",
            "loss: 2.208638  [32000/60000]\n",
            "loss: 2.224066  [38400/60000]\n",
            "loss: 2.186850  [44800/60000]\n",
            "loss: 2.189389  [51200/60000]\n",
            "loss: 2.157473  [57600/60000]\n",
            "Test Error: \n",
            " Accuracy: 46.9%, Avg loss: 2.146051 \n",
            "\n",
            "Epoch 2\n",
            "-------------------------------\n",
            "loss: 2.162081  [    0/60000]\n",
            "loss: 2.146156  [ 6400/60000]\n",
            "loss: 2.090629  [12800/60000]\n",
            "loss: 2.113328  [19200/60000]\n",
            "loss: 2.057138  [25600/60000]\n",
            "loss: 1.995073  [32000/60000]\n",
            "loss: 2.034301  [38400/60000]\n",
            "loss: 1.953028  [44800/60000]\n",
            "loss: 1.965430  [51200/60000]\n",
            "loss: 1.892367  [57600/60000]\n",
            "Test Error: \n",
            " Accuracy: 54.1%, Avg loss: 1.881508 \n",
            "\n",
            "Epoch 3\n",
            "-------------------------------\n",
            "loss: 1.921818  [    0/60000]\n",
            "loss: 1.878146  [ 6400/60000]\n",
            "loss: 1.770480  [12800/60000]\n",
            "loss: 1.820733  [19200/60000]\n",
            "loss: 1.694324  [25600/60000]\n",
            "loss: 1.655841  [32000/60000]\n",
            "loss: 1.689881  [38400/60000]\n",
            "loss: 1.587377  [44800/60000]\n",
            "loss: 1.613033  [51200/60000]\n",
            "loss: 1.512623  [57600/60000]\n",
            "Test Error: \n",
            " Accuracy: 60.3%, Avg loss: 1.517264 \n",
            "\n",
            "Epoch 4\n",
            "-------------------------------\n",
            "loss: 1.589600  [    0/60000]\n",
            "loss: 1.539249  [ 6400/60000]\n",
            "loss: 1.401045  [12800/60000]\n",
            "loss: 1.481493  [19200/60000]\n",
            "loss: 1.345212  [25600/60000]\n",
            "loss: 1.351997  [32000/60000]\n",
            "loss: 1.373555  [38400/60000]\n",
            "loss: 1.295784  [44800/60000]\n",
            "loss: 1.325170  [51200/60000]\n",
            "loss: 1.234271  [57600/60000]\n",
            "Test Error: \n",
            " Accuracy: 63.3%, Avg loss: 1.248423 \n",
            "\n",
            "Epoch 5\n",
            "-------------------------------\n",
            "loss: 1.327878  [    0/60000]\n",
            "loss: 1.296455  [ 6400/60000]\n",
            "loss: 1.143209  [12800/60000]\n",
            "loss: 1.257560  [19200/60000]\n",
            "loss: 1.120169  [25600/60000]\n",
            "loss: 1.149922  [32000/60000]\n",
            "loss: 1.177351  [38400/60000]\n",
            "loss: 1.114877  [44800/60000]\n",
            "loss: 1.146628  [51200/60000]\n",
            "loss: 1.070936  [57600/60000]\n",
            "Test Error: \n",
            " Accuracy: 64.8%, Avg loss: 1.082057 \n",
            "\n",
            "Epoch 6\n",
            "-------------------------------\n",
            "loss: 1.152597  [    0/60000]\n",
            "loss: 1.142280  [ 6400/60000]\n",
            "loss: 0.973412  [12800/60000]\n",
            "loss: 1.118194  [19200/60000]\n",
            "loss: 0.980375  [25600/60000]\n",
            "loss: 1.013691  [32000/60000]\n",
            "loss: 1.055342  [38400/60000]\n",
            "loss: 1.000995  [44800/60000]\n",
            "loss: 1.032203  [51200/60000]\n",
            "loss: 0.968328  [57600/60000]\n",
            "Test Error: \n",
            " Accuracy: 65.8%, Avg loss: 0.975394 \n",
            "\n",
            "Epoch 7\n",
            "-------------------------------\n",
            "loss: 1.031446  [    0/60000]\n",
            "loss: 1.042844  [ 6400/60000]\n",
            "loss: 0.857970  [12800/60000]\n",
            "loss: 1.025700  [19200/60000]\n",
            "loss: 0.891370  [25600/60000]\n",
            "loss: 0.918796  [32000/60000]\n",
            "loss: 0.975407  [38400/60000]\n",
            "loss: 0.927443  [44800/60000]\n",
            "loss: 0.954183  [51200/60000]\n",
            "loss: 0.900188  [57600/60000]\n",
            "Test Error: \n",
            " Accuracy: 66.9%, Avg loss: 0.903514 \n",
            "\n",
            "Epoch 8\n",
            "-------------------------------\n",
            "loss: 0.943207  [    0/60000]\n",
            "loss: 0.974745  [ 6400/60000]\n",
            "loss: 0.776107  [12800/60000]\n",
            "loss: 0.960368  [19200/60000]\n",
            "loss: 0.831933  [25600/60000]\n",
            "loss: 0.850300  [32000/60000]\n",
            "loss: 0.919777  [38400/60000]\n",
            "loss: 0.878518  [44800/60000]\n",
            "loss: 0.898616  [51200/60000]\n",
            "loss: 0.852282  [57600/60000]\n",
            "Test Error: \n",
            " Accuracy: 68.0%, Avg loss: 0.852365 \n",
            "\n",
            "Epoch 9\n",
            "-------------------------------\n",
            "loss: 0.875670  [    0/60000]\n",
            "loss: 0.924240  [ 6400/60000]\n",
            "loss: 0.715363  [12800/60000]\n",
            "loss: 0.911786  [19200/60000]\n",
            "loss: 0.789666  [25600/60000]\n",
            "loss: 0.799389  [32000/60000]\n",
            "loss: 0.878179  [38400/60000]\n",
            "loss: 0.844496  [44800/60000]\n",
            "loss: 0.857096  [51200/60000]\n",
            "loss: 0.816310  [57600/60000]\n",
            "Test Error: \n",
            " Accuracy: 69.3%, Avg loss: 0.813819 \n",
            "\n",
            "Epoch 10\n",
            "-------------------------------\n",
            "loss: 0.821954  [    0/60000]\n",
            "loss: 0.883991  [ 6400/60000]\n",
            "loss: 0.668072  [12800/60000]\n",
            "loss: 0.874111  [19200/60000]\n",
            "loss: 0.757727  [25600/60000]\n",
            "loss: 0.760495  [32000/60000]\n",
            "loss: 0.844927  [38400/60000]\n",
            "loss: 0.819311  [44800/60000]\n",
            "loss: 0.824720  [51200/60000]\n",
            "loss: 0.787641  [57600/60000]\n",
            "Test Error: \n",
            " Accuracy: 70.8%, Avg loss: 0.783156 \n",
            "\n",
            "Done!\n"
          ]
        }
      ],
      "source": [
        "loss_fn = nn.CrossEntropyLoss()\n",
        "optimizer = torch.optim.SGD(model.parameters(), lr=learning_rate)\n",
        "\n",
        "epochs = 10\n",
        "for t in range(epochs):\n",
        "    print(f\"Epoch {t+1}\\n-------------------------------\")\n",
        "    train_loop(train_dataloader, model, loss_fn, optimizer)\n",
        "    test_loop(test_dataloader, model, loss_fn)\n",
        "print(\"Done!\")"
      ]
    },
    {
      "cell_type": "markdown",
      "metadata": {},
      "source": [
        "## Further Reading\n",
        "- [Loss Functions](https://pytorch.org/docs/stable/nn.html#loss-functions)\n",
        "- [torch.optim](https://pytorch.org/docs/stable/optim.html)\n",
        "- [Warmstart Training a Model](https://pytorch.org/tutorials/recipes/recipes/warmstarting_model_using_parameters_from_a_different_model.html)\n",
        "\n",
        "\n"
      ]
    }
  ],
  "metadata": {
    "kernelspec": {
      "display_name": "env",
      "language": "python",
      "name": "python3"
    },
    "language_info": {
      "codemirror_mode": {
        "name": "ipython",
        "version": 3
      },
      "file_extension": ".py",
      "mimetype": "text/x-python",
      "name": "python",
      "nbconvert_exporter": "python",
      "pygments_lexer": "ipython3",
      "version": "3.9.0 (tags/v3.9.0:9cf6752, Oct  5 2020, 15:34:40) [MSC v.1927 64 bit (AMD64)]"
    },
    "vscode": {
      "interpreter": {
        "hash": "72ca1a9e086f4c7ef9a163ec3bf69ee2fedc8d7281f4001d4d35bca77b5aa424"
      }
    }
  },
  "nbformat": 4,
  "nbformat_minor": 0
}
