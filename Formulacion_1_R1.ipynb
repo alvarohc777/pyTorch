{
 "cells": [
  {
   "attachments": {},
   "cell_type": "markdown",
   "metadata": {},
   "source": [
    "<center><h1 style:\"text-align:center;\">Formulación 1</h1></center>\n",
    "<center><h3>Relé 1</h3></center>"
   ]
  },
  {
   "attachments": {},
   "cell_type": "markdown",
   "metadata": {},
   "source": [
    "### 1. Imports"
   ]
  },
  {
   "cell_type": "code",
   "execution_count": 1,
   "metadata": {},
   "outputs": [],
   "source": [
    "import torch\n",
    "import torch.nn as nn\n",
    "from torch.utils.data import Dataset, DataLoader, random_split\n",
    "\n",
    "# Métricas\n",
    "from torchmetrics.functional.classification import binary_stat_scores\n",
    "\n",
    "# Visualizar datos\n",
    "import numpy as np\n",
    "import pandas as pd\n",
    "import matplotlib.pyplot as plt\n",
    "import plotly.express as px\n",
    "\n",
    "# Progress bar\n",
    "from tqdm import tqdm\n",
    "\n",
    "# Acceder al sistema operativo\n",
    "import os\n",
    "import glob\n",
    "import shutil\n",
    "import random\n"
   ]
  },
  {
   "attachments": {},
   "cell_type": "markdown",
   "metadata": {},
   "source": [
    "### 2. Model Parameters"
   ]
  },
  {
   "cell_type": "code",
   "execution_count": 2,
   "metadata": {},
   "outputs": [
    {
     "name": "stdout",
     "output_type": "stream",
     "text": [
      "cpu\n"
     ]
    }
   ],
   "source": [
    "# LSTM parameters\n",
    "hidden_dim = 20\n",
    "n_signals = 1\n",
    "N = 64\n",
    "\n",
    "# _batch_size => m in figure 1.\n",
    "train_batch_size = 64\n",
    "dev_batch_size = 16\n",
    "test_batch_size = 16\n",
    "\n",
    "# Classification type (binary)\n",
    "tagset_size = 1\n",
    "\n",
    "# Set\n",
    "device = \"cuda\" if torch.cuda.is_available() else \"cpu\"\n",
    "print(device)\n"
   ]
  },
  {
   "attachments": {},
   "cell_type": "markdown",
   "metadata": {},
   "source": [
    "### 3. Model Creation"
   ]
  },
  {
   "attachments": {},
   "cell_type": "markdown",
   "metadata": {},
   "source": [
    "##### 3.1. FaultDetector Class Creation"
   ]
  },
  {
   "cell_type": "code",
   "execution_count": 3,
   "metadata": {},
   "outputs": [],
   "source": [
    "# Model Creation\n",
    "\n",
    "\n",
    "class FaultDetector(nn.Module):\n",
    "    \"\"\"Information about FaultDetector\"\"\"\n",
    "\n",
    "    def __init__(self, N, hidden_dim, tagset_size):\n",
    "        super(FaultDetector, self).__init__()\n",
    "        self.lstm = nn.LSTM(N, hidden_dim, batch_first=True)\n",
    "        self.fc = nn.Linear(hidden_dim, tagset_size)\n",
    "\n",
    "    def forward(self, x):\n",
    "        lstm_out, _ = self.lstm(x)\n",
    "        fc_layer = self.fc(lstm_out[:, -1, :])\n",
    "\n",
    "        return torch.sigmoid(fc_layer)\n"
   ]
  },
  {
   "attachments": {},
   "cell_type": "markdown",
   "metadata": {},
   "source": [
    "##### 3.2. Model Instance Initialization"
   ]
  },
  {
   "cell_type": "code",
   "execution_count": 4,
   "metadata": {},
   "outputs": [
    {
     "name": "stdout",
     "output_type": "stream",
     "text": [
      "Model structure: FaultDetector(\n",
      "  (lstm): LSTM(1, 20, batch_first=True)\n",
      "  (fc): Linear(in_features=20, out_features=1, bias=True)\n",
      ")\n",
      "\n",
      "Number of parameters: 1861\n"
     ]
    }
   ],
   "source": [
    "model = FaultDetector(n_signals, hidden_dim, tagset_size).to(device)\n",
    "loss_fn = nn.BCELoss()\n",
    "optimizer = torch.optim.Adam(model.parameters(), lr=1e-2)\n",
    "\n",
    "# Learning rate decay (optional)\n",
    "decayRate = 0.96\n",
    "my_lr_scheduler = torch.optim.lr_scheduler.ExponentialLR(\n",
    "    optimizer=optimizer, gamma=decayRate\n",
    ")\n",
    "\n",
    "print(f\"Model structure: {model}\\n\")\n",
    "\n",
    "# Number of parameters\n",
    "model_parameters = filter(lambda p: p.requires_grad, model.parameters())\n",
    "params = sum([np.prod(p.size()) for p in model_parameters])\n",
    "print(f\"Number of parameters: {params}\")\n"
   ]
  },
  {
   "attachments": {},
   "cell_type": "markdown",
   "metadata": {},
   "source": [
    "### 4. Dataset Creation"
   ]
  },
  {
   "attachments": {},
   "cell_type": "markdown",
   "metadata": {},
   "source": [
    "##### 4.1. Dataset Class Creation"
   ]
  },
  {
   "cell_type": "code",
   "execution_count": 54,
   "metadata": {},
   "outputs": [],
   "source": [
    "from utils.signalload import CSV_pandas_path\n",
    "from utils.auxfunctions import moving_window\n",
    "import numpy as np\n",
    "from itertools import repeat\n",
    "\n",
    "\n",
    "class Form1Dataset(torch.utils.data.Dataset):\n",
    "    \"\"\"Some Information about Form1Dataset\"\"\"\n",
    "\n",
    "    def __init__(\n",
    "        self,\n",
    "        dataset_dir,\n",
    "        signal_name,\n",
    "        max_window_idx=193,\n",
    "        window_length=64,\n",
    "        step=1,\n",
    "        test=False,\n",
    "    ):\n",
    "        super(Form1Dataset, self).__init__()\n",
    "        self.max_window_idx = max_window_idx\n",
    "        self.test = test\n",
    "        self.signal_name = signal_name\n",
    "\n",
    "        self.csv_list = glob.glob(f\"{dataset_dir}*.csv\")\n",
    "        self.csv_amount = len(self.csv_list)\n",
    "        self.windows_amount = max_window_idx * self.csv_amount\n",
    "        self.window_length = window_length\n",
    "        self.step = step\n",
    "\n",
    "    def __getitem__(self, index, data_plot=False):\n",
    "\n",
    "        # sample_settings\n",
    "        window_length = self.window_length\n",
    "        step = self.step\n",
    "\n",
    "        # Calculate window_idx and file name\n",
    "        window_idx = index % self.max_window_idx\n",
    "        csv_idx = index // self.max_window_idx\n",
    "        csv_full_path = self.csv_list[csv_idx]\n",
    "\n",
    "        # Load CSV, signal and create windows\n",
    "        csv_name = os.path.basename(csv_full_path)\n",
    "        signal, t, _ = CSV_pandas_path(csv_full_path).load_data(self.signal_name)\n",
    "        signal_windows, t_windows = list(\n",
    "            map(moving_window, [signal, t], repeat(window_length), repeat(step))\n",
    "        )\n",
    "\n",
    "        # select window\n",
    "\n",
    "        signal_window = signal_windows[window_idx]\n",
    "        signal_window = np.expand_dims(signal_window, axis=1)\n",
    "        t_window = t_windows[window_idx]\n",
    "\n",
    "        # create labels\n",
    "        if window_idx < 66:\n",
    "            label = np.array([0])\n",
    "        else:\n",
    "            label = np.array([1])\n",
    "\n",
    "        # For dataset visualization return following information\n",
    "        signal_window = torch.from_numpy(np.copy(signal_window)).float()\n",
    "        label = torch.from_numpy(label).float()\n",
    "        if data_plot == True:\n",
    "            return signal_window.reshape(-1).numpy(), t_window\n",
    "        if self.test == True:\n",
    "            return signal_window, t_window, label, csv_name, index, window_idx\n",
    "\n",
    "        # For training only signals and labels are required\n",
    "\n",
    "        return signal_window, label\n",
    "\n",
    "    def get_event(self, csv_idx):\n",
    "\n",
    "        # Get indices\n",
    "        idx_min = csv_idx * self.max_window_idx\n",
    "        idx_max = ((csv_idx + 1) * self.max_window_idx) - 1\n",
    "\n",
    "        # Get path of csv_index\n",
    "        csv_full_path = self.csv_list[csv_idx]\n",
    "\n",
    "        # Load CSV, signal and create windows\n",
    "        csv_name = os.path.basename(csv_full_path)\n",
    "\n",
    "        # Load CSV, signal and create windows\n",
    "        csv_name = os.path.basename(csv_full_path)\n",
    "        signal, t, _ = CSV_pandas_path(csv_full_path).load_data(self.signal_name)\n",
    "        return signal, t, idx_min, idx_max, csv_name\n",
    "\n",
    "    def len_events(self):\n",
    "        return self.csv_amount\n",
    "\n",
    "    def __len__(self):\n",
    "        return self.csv_amount * self.max_window_idx\n"
   ]
  },
  {
   "cell_type": "code",
   "execution_count": 65,
   "metadata": {},
   "outputs": [
    {
     "data": {
      "image/png": "[encoded data removed]",
      "text/plain": [
       "<Figure size 640x480 with 1 Axes>"
      ]
     },
     "metadata": {},
     "output_type": "display_data"
    }
   ],
   "source": [
    "# Select Signal Name\n",
    "signal_name = \"I: X0023A-R1A\"\n",
    "# signal_name = \"I: X0004A-R2A\"\n",
    "# signal_name = \"I: X0071A-R3A\"\n",
    "\n",
    "# Create Dataset\n",
    "dataset = Form1Dataset(\n",
    "    dataset_dir, max_window_idx=max_window_idx, signal_name=signal_name\n",
    ")\n",
    "\n",
    "\n",
    "def signal_exploration(idx: int, dataset, model, plot_signal: bool = True):\n",
    "    signal, t, idx_min, idx_max, csv_name = dataset.get_event(idx)\n",
    "    model.eval()\n",
    "    if plot_signal == True:\n",
    "        plt.plot(t, signal)\n",
    "        plt.show()\n",
    "    conf_matrix = torch.zeros(1, 5, dtype=torch.int64).to(device)\n",
    "    preds = torch.empty((0, 1))\n",
    "    labels = torch.empty((0, 1))\n",
    "    idxs = []\n",
    "    for i in range(idx_min, idx_max + 1):\n",
    "        signal, y = dataset.__getitem__(i)\n",
    "        idxs.append(i)\n",
    "        y = torch.unsqueeze(y, 0).to(device)\n",
    "        signal = torch.unsqueeze(signal, 0).to(device)\n",
    "        pred = model(signal)\n",
    "        preds = torch.cat((preds, pred), 0)\n",
    "        labels = torch.cat((labels, y), 0)\n",
    "        conf_matrix = conf_matrix.add(binary_stat_scores(pred, y))\n",
    "    df = confusion_matrix(preds, labels)\n",
    "    df.insert(loc=0, column=\"indices\", value=idxs)\n",
    "    return df, conf_matrix\n",
    "\n",
    "\n",
    "sample_df, conf_matrix = signal_exploration(2, dataset, model)\n"
   ]
  },
  {
   "cell_type": "code",
   "execution_count": 66,
   "metadata": {},
   "outputs": [
    {
     "name": "stdout",
     "output_type": "stream",
     "text": [
      "Confusion Matrix: tensor([[62,  0, 66,  2, 64]])\n",
      "     indices  Pred probability  Pred label  True label Result\n",
      "0        260          0.085017           0           0     TN\n",
      "1        261          0.096747           0           0     TN\n",
      "2        262          0.108154           0           0     TN\n",
      "3        263          0.118776           0           0     TN\n",
      "4        264          0.124004           0           0     TN\n",
      "..       ...               ...         ...         ...    ...\n",
      "125      385          0.966038           1           1     TP\n",
      "126      386          0.966039           1           1     TP\n",
      "127      387          0.966040           1           1     TP\n",
      "128      388          0.966041           1           1     TP\n",
      "129      389          0.966041           1           1     TP\n",
      "\n",
      "[130 rows x 5 columns]\n",
      "Empty DataFrame\n",
      "Columns: [indices, Pred probability, Pred label, True label, Result]\n",
      "Index: []\n",
      "    indices  Pred probability  Pred label  True label Result\n",
      "66      326          0.345454           0           1     FN\n",
      "80      340          0.327865           0           1     FN\n"
     ]
    }
   ],
   "source": [
    "print(f\"Confusion Matrix: {conf_matrix}\")\n",
    "\n",
    "metrics = conf_matrix_metrics(conf_matrix)\n",
    "# print(f\"Total windows: {metrics['TOTAL']}\")\n",
    "# print(f\"True Positives: {conf_matrix[0,0]}\")\n",
    "# print(f\"False Positives: {conf_matrix[0,1]}\")\n",
    "# print(f\"True Negatives: {conf_matrix[0,2]}\")\n",
    "# print(f\"False Negatives: {conf_matrix[0,3]}\")\n",
    "# print(f\"Accuracy: {metrics['ACC']*100:0.1f}\")\n",
    "print(sample_df)\n",
    "\n",
    "\n",
    "def plot_confusion_matrix(metrics):\n",
    "    z = [[metrics[\"TP\"], metrics[\"FN\"]], [metrics[\"FP\"], metrics[\"TN\"]]]\n",
    "    fig = px.imshow(\n",
    "        z,\n",
    "        text_auto=True,\n",
    "        template=\"seaborn\",\n",
    "        labels=dict(x=\"Predicted Label\", y=\"Real Label\", color=\"Predictions\"),\n",
    "        x=[\"Positive\", \"Negative\"],\n",
    "        y=[\"Positive\", \"Negative\"],\n",
    "    )\n",
    "    # fig.show()\n",
    "\n",
    "\n",
    "plot_confusion_matrix(metrics)\n",
    "false_positive = sample_df.query('Result == \"FP\"')\n",
    "false_negative = sample_df.query('Result == \"FN\"')\n",
    "print(false_positive)\n",
    "print(false_negative)\n"
   ]
  },
  {
   "cell_type": "code",
   "execution_count": 79,
   "metadata": {},
   "outputs": [
    {
     "name": "stdout",
     "output_type": "stream",
     "text": [
      "(64,)\n",
      "(64,)\n"
     ]
    },
    {
     "data": {
      "application/vnd.plotly.v1+json": {
       "config": {
        "plotlyServerURL": "https://plot.ly"
       },
       "data": [
        {
         "hovertemplate": "x=%{x}<br>y=%{y}<extra></extra>",
         "legendgroup": "",
         "line": {
          "color": "#636efa",
          "dash": "solid"
         },
         "marker": {
          "symbol": "circle"
         },
         "mode": "lines",
         "name": "",
         "orientation": "v",
         "showlegend": false,
         "type": "scatter",
         "x": [
          0.0171864,
          0.0174468,
          0.0177072,
          0.0179676,
          0.018228,
          0.0184884,
          0.0187488,
          0.0190092,
          0.0192696,
          0.01953,
          0.0197904,
          0.0200508,
          0.0203112,
          0.0205716,
          0.020832,
          0.0210924,
          0.0213528,
          0.0216132,
          0.0218736,
          0.022134,
          0.0223944,
          0.0226548,
          0.0229152,
          0.0231756,
          0.023436,
          0.0236964,
          0.0239568,
          0.0242172,
          0.0244776,
          0.024738,
          0.0249984,
          0.0252588,
          0.0255192,
          0.0257796,
          0.02604,
          0.0263004,
          0.0265608,
          0.0268212,
          0.0270816,
          0.027342,
          0.0276024,
          0.0278628,
          0.0281232,
          0.0283836,
          0.028644,
          0.0289044,
          0.0291648,
          0.0294252,
          0.0296856,
          0.029946,
          0.0302064,
          0.0304668,
          0.0307272,
          0.0309876,
          0.031248,
          0.0315084,
          0.0317688,
          0.0320292,
          0.0322896,
          0.03255,
          0.0328104,
          0.0330708,
          0.0333312,
          0.0335916
         ],
         "xaxis": "x",
         "y": [
          -42.80189514160156,
          -42.141845703125,
          -41.2393913269043,
          -39.74268341064453,
          -37.97776794433594,
          -35.85847091674805,
          -33.45213317871094,
          -30.484115600585938,
          -27.35627555847168,
          -23.991809844970703,
          -20.630537033081055,
          -16.666723251342773,
          -12.546026229858398,
          -8.354446411132812,
          -4.324906826019287,
          -0.214861199259758,
          3.8168559074401855,
          8.051807403564453,
          12.127532005310059,
          16.140256881713867,
          19.87531852722168,
          23.46341896057129,
          26.78908920288086,
          30.035491943359375,
          32.83598709106445,
          35.39612579345703,
          37.59266662597656,
          39.43497848510742,
          40.97826385498047,
          42.014888763427734,
          42.75498580932617,
          43.03593444824219,
          42.91866683959961,
          42.26537322998047,
          41.276832580566406,
          39.85660934448242,
          38.174034118652344,
          36.12652587890625,
          33.706336975097656,
          30.7713623046875,
          27.669132232666016,
          24.328737258911133,
          20.905471801757812,
          16.952314376831055,
          12.861021041870117,
          8.742164611816406,
          4.685659885406494,
          0.6197372078895569,
          -3.4713761806488037,
          -7.711680889129639,
          -11.816762924194336,
          -15.77270221710205,
          -19.468774795532227,
          -23.090734481811523,
          -26.531126022338867,
          -29.79053497314453,
          -32.614295959472656,
          -35.143768310546875,
          -37.38169479370117,
          -39.296546936035156,
          -40.843082427978516,
          -41.97944259643555,
          -42.686256408691406,
          -64.98108673095703
         ],
         "yaxis": "y"
        }
       ],
       "layout": {
        "height": 400,
        "legend": {
         "tracegroupgap": 0
        },
        "margin": {
         "t": 60
        },
        "template": {
         "data": {
          "bar": [
           {
            "error_x": {
             "color": "#2a3f5f"
            },
            "error_y": {
             "color": "#2a3f5f"
            },
            "marker": {
             "line": {
              "color": "#E5ECF6",
              "width": 0.5
             },
             "pattern": {
              "fillmode": "overlay",
              "size": 10,
              "solidity": 0.2
             }
            },
            "type": "bar"
           }
          ],
          "barpolar": [
           {
            "marker": {
             "line": {
              "color": "#E5ECF6",
              "width": 0.5
             },
             "pattern": {
              "fillmode": "overlay",
              "size": 10,
              "solidity": 0.2
             }
            },
            "type": "barpolar"
           }
          ],
          "carpet": [
           {
            "aaxis": {
             "endlinecolor": "#2a3f5f",
             "gridcolor": "white",
             "linecolor": "white",
             "minorgridcolor": "white",
             "startlinecolor": "#2a3f5f"
            },
            "baxis": {
             "endlinecolor": "#2a3f5f",
             "gridcolor": "white",
             "linecolor": "white",
             "minorgridcolor": "white",
             "startlinecolor": "#2a3f5f"
            },
            "type": "carpet"
           }
          ],
          "choropleth": [
           {
            "colorbar": {
             "outlinewidth": 0,
             "ticks": ""
            },
            "type": "choropleth"
           }
          ],
          "contour": [
           {
            "colorbar": {
             "outlinewidth": 0,
             "ticks": ""
            },
            "colorscale": [
             [
              0,
              "#0d0887"
             ],
             [
              0.1111111111111111,
              "#46039f"
             ],
             [
              0.2222222222222222,
              "#7201a8"
             ],
             [
              0.3333333333333333,
              "#9c179e"
             ],
             [
              0.4444444444444444,
              "#bd3786"
             ],
             [
              0.5555555555555556,
              "#d8576b"
             ],
             [
              0.6666666666666666,
              "#ed7953"
             ],
             [
              0.7777777777777778,
              "#fb9f3a"
             ],
             [
              0.8888888888888888,
              "#fdca26"
             ],
             [
              1,
              "#f0f921"
             ]
            ],
            "type": "contour"
           }
          ],
          "contourcarpet": [
           {
            "colorbar": {
             "outlinewidth": 0,
             "ticks": ""
            },
            "type": "contourcarpet"
           }
          ],
          "heatmap": [
           {
            "colorbar": {
             "outlinewidth": 0,
             "ticks": ""
            },
            "colorscale": [
             [
              0,
              "#0d0887"
             ],
             [
              0.1111111111111111,
              "#46039f"
             ],
             [
              0.2222222222222222,
              "#7201a8"
             ],
             [
              0.3333333333333333,
              "#9c179e"
             ],
             [
              0.4444444444444444,
              "#bd3786"
             ],
             [
              0.5555555555555556,
              "#d8576b"
             ],
             [
              0.6666666666666666,
              "#ed7953"
             ],
             [
              0.7777777777777778,
              "#fb9f3a"
             ],
             [
              0.8888888888888888,
              "#fdca26"
             ],
             [
              1,
              "#f0f921"
             ]
            ],
            "type": "heatmap"
           }
          ],
          "heatmapgl": [
           {
            "colorbar": {
             "outlinewidth": 0,
             "ticks": ""
            },
            "colorscale": [
             [
              0,
              "#0d0887"
             ],
             [
              0.1111111111111111,
              "#46039f"
             ],
             [
              0.2222222222222222,
              "#7201a8"
             ],
             [
              0.3333333333333333,
              "#9c179e"
             ],
             [
              0.4444444444444444,
              "#bd3786"
             ],
             [
              0.5555555555555556,
              "#d8576b"
             ],
             [
              0.6666666666666666,
              "#ed7953"
             ],
             [
              0.7777777777777778,
              "#fb9f3a"
             ],
             [
              0.8888888888888888,
              "#fdca26"
             ],
             [
              1,
              "#f0f921"
             ]
            ],
            "type": "heatmapgl"
           }
          ],
          "histogram": [
           {
            "marker": {
             "pattern": {
              "fillmode": "overlay",
              "size": 10,
              "solidity": 0.2
             }
            },
            "type": "histogram"
           }
          ],
          "histogram2d": [
           {
            "colorbar": {
             "outlinewidth": 0,
             "ticks": ""
            },
            "colorscale": [
             [
              0,
              "#0d0887"
             ],
             [
              0.1111111111111111,
              "#46039f"
             ],
             [
              0.2222222222222222,
              "#7201a8"
             ],
             [
              0.3333333333333333,
              "#9c179e"
             ],
             [
              0.4444444444444444,
              "#bd3786"
             ],
             [
              0.5555555555555556,
              "#d8576b"
             ],
             [
              0.6666666666666666,
              "#ed7953"
             ],
             [
              0.7777777777777778,
              "#fb9f3a"
             ],
             [
              0.8888888888888888,
              "#fdca26"
             ],
             [
              1,
              "#f0f921"
             ]
            ],
            "type": "histogram2d"
           }
          ],
          "histogram2dcontour": [
           {
            "colorbar": {
             "outlinewidth": 0,
             "ticks": ""
            },
            "colorscale": [
             [
              0,
              "#0d0887"
             ],
             [
              0.1111111111111111,
              "#46039f"
             ],
             [
              0.2222222222222222,
              "#7201a8"
             ],
             [
              0.3333333333333333,
              "#9c179e"
             ],
             [
              0.4444444444444444,
              "#bd3786"
             ],
             [
              0.5555555555555556,
              "#d8576b"
             ],
             [
              0.6666666666666666,
              "#ed7953"
             ],
             [
              0.7777777777777778,
              "#fb9f3a"
             ],
             [
              0.8888888888888888,
              "#fdca26"
             ],
             [
              1,
              "#f0f921"
             ]
            ],
            "type": "histogram2dcontour"
           }
          ],
          "mesh3d": [
           {
            "colorbar": {
             "outlinewidth": 0,
             "ticks": ""
            },
            "type": "mesh3d"
           }
          ],
          "parcoords": [
           {
            "line": {
             "colorbar": {
              "outlinewidth": 0,
              "ticks": ""
             }
            },
            "type": "parcoords"
           }
          ],
          "pie": [
           {
            "automargin": true,
            "type": "pie"
           }
          ],
          "scatter": [
           {
            "fillpattern": {
             "fillmode": "overlay",
             "size": 10,
             "solidity": 0.2
            },
            "type": "scatter"
           }
          ],
          "scatter3d": [
           {
            "line": {
             "colorbar": {
              "outlinewidth": 0,
              "ticks": ""
             }
            },
            "marker": {
             "colorbar": {
              "outlinewidth": 0,
              "ticks": ""
             }
            },
            "type": "scatter3d"
           }
          ],
          "scattercarpet": [
           {
            "marker": {
             "colorbar": {
              "outlinewidth": 0,
              "ticks": ""
             }
            },
            "type": "scattercarpet"
           }
          ],
          "scattergeo": [
           {
            "marker": {
             "colorbar": {
              "outlinewidth": 0,
              "ticks": ""
             }
            },
            "type": "scattergeo"
           }
          ],
          "scattergl": [
           {
            "marker": {
             "colorbar": {
              "outlinewidth": 0,
              "ticks": ""
             }
            },
            "type": "scattergl"
           }
          ],
          "scattermapbox": [
           {
            "marker": {
             "colorbar": {
              "outlinewidth": 0,
              "ticks": ""
             }
            },
            "type": "scattermapbox"
           }
          ],
          "scatterpolar": [
           {
            "marker": {
             "colorbar": {
              "outlinewidth": 0,
              "ticks": ""
             }
            },
            "type": "scatterpolar"
           }
          ],
          "scatterpolargl": [
           {
            "marker": {
             "colorbar": {
              "outlinewidth": 0,
              "ticks": ""
             }
            },
            "type": "scatterpolargl"
           }
          ],
          "scatterternary": [
           {
            "marker": {
             "colorbar": {
              "outlinewidth": 0,
              "ticks": ""
             }
            },
            "type": "scatterternary"
           }
          ],
          "surface": [
           {
            "colorbar": {
             "outlinewidth": 0,
             "ticks": ""
            },
            "colorscale": [
             [
              0,
              "#0d0887"
             ],
             [
              0.1111111111111111,
              "#46039f"
             ],
             [
              0.2222222222222222,
              "#7201a8"
             ],
             [
              0.3333333333333333,
              "#9c179e"
             ],
             [
              0.4444444444444444,
              "#bd3786"
             ],
             [
              0.5555555555555556,
              "#d8576b"
             ],
             [
              0.6666666666666666,
              "#ed7953"
             ],
             [
              0.7777777777777778,
              "#fb9f3a"
             ],
             [
              0.8888888888888888,
              "#fdca26"
             ],
             [
              1,
              "#f0f921"
             ]
            ],
            "type": "surface"
           }
          ],
          "table": [
           {
            "cells": {
             "fill": {
              "color": "#EBF0F8"
             },
             "line": {
              "color": "white"
             }
            },
            "header": {
             "fill": {
              "color": "#C8D4E3"
             },
             "line": {
              "color": "white"
             }
            },
            "type": "table"
           }
          ]
         },
         "layout": {
          "annotationdefaults": {
           "arrowcolor": "#2a3f5f",
           "arrowhead": 0,
           "arrowwidth": 1
          },
          "autotypenumbers": "strict",
          "coloraxis": {
           "colorbar": {
            "outlinewidth": 0,
            "ticks": ""
           }
          },
          "colorscale": {
           "diverging": [
            [
             0,
             "#8e0152"
            ],
            [
             0.1,
             "#c51b7d"
            ],
            [
             0.2,
             "#de77ae"
            ],
            [
             0.3,
             "#f1b6da"
            ],
            [
             0.4,
             "#fde0ef"
            ],
            [
             0.5,
             "#f7f7f7"
            ],
            [
             0.6,
             "#e6f5d0"
            ],
            [
             0.7,
             "#b8e186"
            ],
            [
             0.8,
             "#7fbc41"
            ],
            [
             0.9,
             "#4d9221"
            ],
            [
             1,
             "#276419"
            ]
           ],
           "sequential": [
            [
             0,
             "#0d0887"
            ],
            [
             0.1111111111111111,
             "#46039f"
            ],
            [
             0.2222222222222222,
             "#7201a8"
            ],
            [
             0.3333333333333333,
             "#9c179e"
            ],
            [
             0.4444444444444444,
             "#bd3786"
            ],
            [
             0.5555555555555556,
             "#d8576b"
            ],
            [
             0.6666666666666666,
             "#ed7953"
            ],
            [
             0.7777777777777778,
             "#fb9f3a"
            ],
            [
             0.8888888888888888,
             "#fdca26"
            ],
            [
             1,
             "#f0f921"
            ]
           ],
           "sequentialminus": [
            [
             0,
             "#0d0887"
            ],
            [
             0.1111111111111111,
             "#46039f"
            ],
            [
             0.2222222222222222,
             "#7201a8"
            ],
            [
             0.3333333333333333,
             "#9c179e"
            ],
            [
             0.4444444444444444,
             "#bd3786"
            ],
            [
             0.5555555555555556,
             "#d8576b"
            ],
            [
             0.6666666666666666,
             "#ed7953"
            ],
            [
             0.7777777777777778,
             "#fb9f3a"
            ],
            [
             0.8888888888888888,
             "#fdca26"
            ],
            [
             1,
             "#f0f921"
            ]
           ]
          },
          "colorway": [
           "#636efa",
           "#EF553B",
           "#00cc96",
           "#ab63fa",
           "#FFA15A",
           "#19d3f3",
           "#FF6692",
           "#B6E880",
           "#FF97FF",
           "#FECB52"
          ],
          "font": {
           "color": "#2a3f5f"
          },
          "geo": {
           "bgcolor": "white",
           "lakecolor": "white",
           "landcolor": "#E5ECF6",
           "showlakes": true,
           "showland": true,
           "subunitcolor": "white"
          },
          "hoverlabel": {
           "align": "left"
          },
          "hovermode": "closest",
          "mapbox": {
           "style": "light"
          },
          "paper_bgcolor": "white",
          "plot_bgcolor": "#E5ECF6",
          "polar": {
           "angularaxis": {
            "gridcolor": "white",
            "linecolor": "white",
            "ticks": ""
           },
           "bgcolor": "#E5ECF6",
           "radialaxis": {
            "gridcolor": "white",
            "linecolor": "white",
            "ticks": ""
           }
          },
          "scene": {
           "xaxis": {
            "backgroundcolor": "#E5ECF6",
            "gridcolor": "white",
            "gridwidth": 2,
            "linecolor": "white",
            "showbackground": true,
            "ticks": "",
            "zerolinecolor": "white"
           },
           "yaxis": {
            "backgroundcolor": "#E5ECF6",
            "gridcolor": "white",
            "gridwidth": 2,
            "linecolor": "white",
            "showbackground": true,
            "ticks": "",
            "zerolinecolor": "white"
           },
           "zaxis": {
            "backgroundcolor": "#E5ECF6",
            "gridcolor": "white",
            "gridwidth": 2,
            "linecolor": "white",
            "showbackground": true,
            "ticks": "",
            "zerolinecolor": "white"
           }
          },
          "shapedefaults": {
           "line": {
            "color": "#2a3f5f"
           }
          },
          "ternary": {
           "aaxis": {
            "gridcolor": "white",
            "linecolor": "white",
            "ticks": ""
           },
           "baxis": {
            "gridcolor": "white",
            "linecolor": "white",
            "ticks": ""
           },
           "bgcolor": "#E5ECF6",
           "caxis": {
            "gridcolor": "white",
            "linecolor": "white",
            "ticks": ""
           }
          },
          "title": {
           "x": 0.05
          },
          "xaxis": {
           "automargin": true,
           "gridcolor": "white",
           "linecolor": "white",
           "ticks": "",
           "title": {
            "standoff": 15
           },
           "zerolinecolor": "white",
           "zerolinewidth": 2
          },
          "yaxis": {
           "automargin": true,
           "gridcolor": "white",
           "linecolor": "white",
           "ticks": "",
           "title": {
            "standoff": 15
           },
           "zerolinecolor": "white",
           "zerolinewidth": 2
          }
         }
        },
        "width": 800,
        "xaxis": {
         "anchor": "y",
         "domain": [
          0,
          1
         ],
         "title": {
          "text": "x"
         }
        },
        "yaxis": {
         "anchor": "x",
         "domain": [
          0,
          1
         ],
         "title": {
          "text": "y"
         }
        }
       }
      }
     },
     "metadata": {},
     "output_type": "display_data"
    },
    {
     "data": {
      "application/vnd.plotly.v1+json": {
       "config": {
        "plotlyServerURL": "https://plot.ly"
       },
       "data": [
        {
         "hovertemplate": "x=%{x}<br>y=%{y}<extra></extra>",
         "legendgroup": "",
         "marker": {
          "color": "#636efa",
          "symbol": "circle"
         },
         "mode": "markers",
         "name": "",
         "orientation": "v",
         "showlegend": false,
         "type": "scatter",
         "x": [
          0,
          1,
          2,
          3,
          4,
          5,
          6,
          7,
          8,
          9,
          10,
          11,
          12,
          13,
          14,
          15,
          16,
          17,
          18,
          19,
          20,
          21,
          22,
          23,
          24,
          25,
          26,
          27,
          28,
          29,
          30,
          31,
          32,
          33,
          34,
          35,
          36,
          37,
          38,
          39,
          40,
          41,
          42,
          43,
          44,
          45,
          46,
          47,
          48,
          49,
          50,
          51,
          52,
          53,
          54,
          55,
          56,
          57,
          58,
          59,
          60,
          61,
          62,
          63,
          64,
          65,
          66,
          67,
          68,
          69,
          70,
          71,
          72,
          73,
          74,
          75,
          76,
          77,
          78,
          79,
          80,
          81,
          82,
          83,
          84,
          85,
          86,
          87,
          88,
          89,
          90,
          91,
          92,
          93,
          94,
          95,
          96,
          97,
          98,
          99,
          100,
          101,
          102,
          103,
          104,
          105,
          106,
          107,
          108,
          109,
          110,
          111,
          112,
          113,
          114,
          115,
          116,
          117,
          118,
          119,
          120,
          121,
          122,
          123,
          124,
          125,
          126,
          127,
          128,
          129
         ],
         "xaxis": "x",
         "y": [
          0,
          0,
          0,
          0,
          0,
          0,
          0,
          0,
          0,
          0,
          0,
          0,
          0,
          0,
          0,
          0,
          0,
          0,
          0,
          0,
          0,
          0,
          0,
          0,
          0,
          0,
          0,
          0,
          0,
          0,
          0,
          0,
          0,
          0,
          0,
          0,
          0,
          0,
          0,
          0,
          0,
          0,
          0,
          0,
          0,
          0,
          0,
          0,
          0,
          0,
          0,
          0,
          0,
          0,
          0,
          0,
          0,
          0,
          0,
          0,
          0,
          0,
          0,
          0,
          0,
          0,
          0,
          1,
          1,
          1,
          1,
          1,
          1,
          1,
          1,
          1,
          1,
          1,
          1,
          1,
          0,
          1,
          1,
          1,
          1,
          1,
          1,
          1,
          1,
          1,
          1,
          1,
          1,
          1,
          1,
          1,
          1,
          1,
          1,
          1,
          1,
          1,
          1,
          1,
          1,
          1,
          1,
          1,
          1,
          1,
          1,
          1,
          1,
          1,
          1,
          1,
          1,
          1,
          1,
          1,
          1,
          1,
          1,
          1,
          1,
          1,
          1,
          1,
          1,
          1
         ],
         "yaxis": "y"
        }
       ],
       "layout": {
        "height": 400,
        "legend": {
         "tracegroupgap": 0
        },
        "margin": {
         "t": 60
        },
        "template": {
         "data": {
          "bar": [
           {
            "error_x": {
             "color": "#2a3f5f"
            },
            "error_y": {
             "color": "#2a3f5f"
            },
            "marker": {
             "line": {
              "color": "#E5ECF6",
              "width": 0.5
             },
             "pattern": {
              "fillmode": "overlay",
              "size": 10,
              "solidity": 0.2
             }
            },
            "type": "bar"
           }
          ],
          "barpolar": [
           {
            "marker": {
             "line": {
              "color": "#E5ECF6",
              "width": 0.5
             },
             "pattern": {
              "fillmode": "overlay",
              "size": 10,
              "solidity": 0.2
             }
            },
            "type": "barpolar"
           }
          ],
          "carpet": [
           {
            "aaxis": {
             "endlinecolor": "#2a3f5f",
             "gridcolor": "white",
             "linecolor": "white",
             "minorgridcolor": "white",
             "startlinecolor": "#2a3f5f"
            },
            "baxis": {
             "endlinecolor": "#2a3f5f",
             "gridcolor": "white",
             "linecolor": "white",
             "minorgridcolor": "white",
             "startlinecolor": "#2a3f5f"
            },
            "type": "carpet"
           }
          ],
          "choropleth": [
           {
            "colorbar": {
             "outlinewidth": 0,
             "ticks": ""
            },
            "type": "choropleth"
           }
          ],
          "contour": [
           {
            "colorbar": {
             "outlinewidth": 0,
             "ticks": ""
            },
            "colorscale": [
             [
              0,
              "#0d0887"
             ],
             [
              0.1111111111111111,
              "#46039f"
             ],
             [
              0.2222222222222222,
              "#7201a8"
             ],
             [
              0.3333333333333333,
              "#9c179e"
             ],
             [
              0.4444444444444444,
              "#bd3786"
             ],
             [
              0.5555555555555556,
              "#d8576b"
             ],
             [
              0.6666666666666666,
              "#ed7953"
             ],
             [
              0.7777777777777778,
              "#fb9f3a"
             ],
             [
              0.8888888888888888,
              "#fdca26"
             ],
             [
              1,
              "#f0f921"
             ]
            ],
            "type": "contour"
           }
          ],
          "contourcarpet": [
           {
            "colorbar": {
             "outlinewidth": 0,
             "ticks": ""
            },
            "type": "contourcarpet"
           }
          ],
          "heatmap": [
           {
            "colorbar": {
             "outlinewidth": 0,
             "ticks": ""
            },
            "colorscale": [
             [
              0,
              "#0d0887"
             ],
             [
              0.1111111111111111,
              "#46039f"
             ],
             [
              0.2222222222222222,
              "#7201a8"
             ],
             [
              0.3333333333333333,
              "#9c179e"
             ],
             [
              0.4444444444444444,
              "#bd3786"
             ],
             [
              0.5555555555555556,
              "#d8576b"
             ],
             [
              0.6666666666666666,
              "#ed7953"
             ],
             [
              0.7777777777777778,
              "#fb9f3a"
             ],
             [
              0.8888888888888888,
              "#fdca26"
             ],
             [
              1,
              "#f0f921"
             ]
            ],
            "type": "heatmap"
           }
          ],
          "heatmapgl": [
           {
            "colorbar": {
             "outlinewidth": 0,
             "ticks": ""
            },
            "colorscale": [
             [
              0,
              "#0d0887"
             ],
             [
              0.1111111111111111,
              "#46039f"
             ],
             [
              0.2222222222222222,
              "#7201a8"
             ],
             [
              0.3333333333333333,
              "#9c179e"
             ],
             [
              0.4444444444444444,
              "#bd3786"
             ],
             [
              0.5555555555555556,
              "#d8576b"
             ],
             [
              0.6666666666666666,
              "#ed7953"
             ],
             [
              0.7777777777777778,
              "#fb9f3a"
             ],
             [
              0.8888888888888888,
              "#fdca26"
             ],
             [
              1,
              "#f0f921"
             ]
            ],
            "type": "heatmapgl"
           }
          ],
          "histogram": [
           {
            "marker": {
             "pattern": {
              "fillmode": "overlay",
              "size": 10,
              "solidity": 0.2
             }
            },
            "type": "histogram"
           }
          ],
          "histogram2d": [
           {
            "colorbar": {
             "outlinewidth": 0,
             "ticks": ""
            },
            "colorscale": [
             [
              0,
              "#0d0887"
             ],
             [
              0.1111111111111111,
              "#46039f"
             ],
             [
              0.2222222222222222,
              "#7201a8"
             ],
             [
              0.3333333333333333,
              "#9c179e"
             ],
             [
              0.4444444444444444,
              "#bd3786"
             ],
             [
              0.5555555555555556,
              "#d8576b"
             ],
             [
              0.6666666666666666,
              "#ed7953"
             ],
             [
              0.7777777777777778,
              "#fb9f3a"
             ],
             [
              0.8888888888888888,
              "#fdca26"
             ],
             [
              1,
              "#f0f921"
             ]
            ],
            "type": "histogram2d"
           }
          ],
          "histogram2dcontour": [
           {
            "colorbar": {
             "outlinewidth": 0,
             "ticks": ""
            },
            "colorscale": [
             [
              0,
              "#0d0887"
             ],
             [
              0.1111111111111111,
              "#46039f"
             ],
             [
              0.2222222222222222,
              "#7201a8"
             ],
             [
              0.3333333333333333,
              "#9c179e"
             ],
             [
              0.4444444444444444,
              "#bd3786"
             ],
             [
              0.5555555555555556,
              "#d8576b"
             ],
             [
              0.6666666666666666,
              "#ed7953"
             ],
             [
              0.7777777777777778,
              "#fb9f3a"
             ],
             [
              0.8888888888888888,
              "#fdca26"
             ],
             [
              1,
              "#f0f921"
             ]
            ],
            "type": "histogram2dcontour"
           }
          ],
          "mesh3d": [
           {
            "colorbar": {
             "outlinewidth": 0,
             "ticks": ""
            },
            "type": "mesh3d"
           }
          ],
          "parcoords": [
           {
            "line": {
             "colorbar": {
              "outlinewidth": 0,
              "ticks": ""
             }
            },
            "type": "parcoords"
           }
          ],
          "pie": [
           {
            "automargin": true,
            "type": "pie"
           }
          ],
          "scatter": [
           {
            "fillpattern": {
             "fillmode": "overlay",
             "size": 10,
             "solidity": 0.2
            },
            "type": "scatter"
           }
          ],
          "scatter3d": [
           {
            "line": {
             "colorbar": {
              "outlinewidth": 0,
              "ticks": ""
             }
            },
            "marker": {
             "colorbar": {
              "outlinewidth": 0,
              "ticks": ""
             }
            },
            "type": "scatter3d"
           }
          ],
          "scattercarpet": [
           {
            "marker": {
             "colorbar": {
              "outlinewidth": 0,
              "ticks": ""
             }
            },
            "type": "scattercarpet"
           }
          ],
          "scattergeo": [
           {
            "marker": {
             "colorbar": {
              "outlinewidth": 0,
              "ticks": ""
             }
            },
            "type": "scattergeo"
           }
          ],
          "scattergl": [
           {
            "marker": {
             "colorbar": {
              "outlinewidth": 0,
              "ticks": ""
             }
            },
            "type": "scattergl"
           }
          ],
          "scattermapbox": [
           {
            "marker": {
             "colorbar": {
              "outlinewidth": 0,
              "ticks": ""
             }
            },
            "type": "scattermapbox"
           }
          ],
          "scatterpolar": [
           {
            "marker": {
             "colorbar": {
              "outlinewidth": 0,
              "ticks": ""
             }
            },
            "type": "scatterpolar"
           }
          ],
          "scatterpolargl": [
           {
            "marker": {
             "colorbar": {
              "outlinewidth": 0,
              "ticks": ""
             }
            },
            "type": "scatterpolargl"
           }
          ],
          "scatterternary": [
           {
            "marker": {
             "colorbar": {
              "outlinewidth": 0,
              "ticks": ""
             }
            },
            "type": "scatterternary"
           }
          ],
          "surface": [
           {
            "colorbar": {
             "outlinewidth": 0,
             "ticks": ""
            },
            "colorscale": [
             [
              0,
              "#0d0887"
             ],
             [
              0.1111111111111111,
              "#46039f"
             ],
             [
              0.2222222222222222,
              "#7201a8"
             ],
             [
              0.3333333333333333,
              "#9c179e"
             ],
             [
              0.4444444444444444,
              "#bd3786"
             ],
             [
              0.5555555555555556,
              "#d8576b"
             ],
             [
              0.6666666666666666,
              "#ed7953"
             ],
             [
              0.7777777777777778,
              "#fb9f3a"
             ],
             [
              0.8888888888888888,
              "#fdca26"
             ],
             [
              1,
              "#f0f921"
             ]
            ],
            "type": "surface"
           }
          ],
          "table": [
           {
            "cells": {
             "fill": {
              "color": "#EBF0F8"
             },
             "line": {
              "color": "white"
             }
            },
            "header": {
             "fill": {
              "color": "#C8D4E3"
             },
             "line": {
              "color": "white"
             }
            },
            "type": "table"
           }
          ]
         },
         "layout": {
          "annotationdefaults": {
           "arrowcolor": "#2a3f5f",
           "arrowhead": 0,
           "arrowwidth": 1
          },
          "autotypenumbers": "strict",
          "coloraxis": {
           "colorbar": {
            "outlinewidth": 0,
            "ticks": ""
           }
          },
          "colorscale": {
           "diverging": [
            [
             0,
             "#8e0152"
            ],
            [
             0.1,
             "#c51b7d"
            ],
            [
             0.2,
             "#de77ae"
            ],
            [
             0.3,
             "#f1b6da"
            ],
            [
             0.4,
             "#fde0ef"
            ],
            [
             0.5,
             "#f7f7f7"
            ],
            [
             0.6,
             "#e6f5d0"
            ],
            [
             0.7,
             "#b8e186"
            ],
            [
             0.8,
             "#7fbc41"
            ],
            [
             0.9,
             "#4d9221"
            ],
            [
             1,
             "#276419"
            ]
           ],
           "sequential": [
            [
             0,
             "#0d0887"
            ],
            [
             0.1111111111111111,
             "#46039f"
            ],
            [
             0.2222222222222222,
             "#7201a8"
            ],
            [
             0.3333333333333333,
             "#9c179e"
            ],
            [
             0.4444444444444444,
             "#bd3786"
            ],
            [
             0.5555555555555556,
             "#d8576b"
            ],
            [
             0.6666666666666666,
             "#ed7953"
            ],
            [
             0.7777777777777778,
             "#fb9f3a"
            ],
            [
             0.8888888888888888,
             "#fdca26"
            ],
            [
             1,
             "#f0f921"
            ]
           ],
           "sequentialminus": [
            [
             0,
             "#0d0887"
            ],
            [
             0.1111111111111111,
             "#46039f"
            ],
            [
             0.2222222222222222,
             "#7201a8"
            ],
            [
             0.3333333333333333,
             "#9c179e"
            ],
            [
             0.4444444444444444,
             "#bd3786"
            ],
            [
             0.5555555555555556,
             "#d8576b"
            ],
            [
             0.6666666666666666,
             "#ed7953"
            ],
            [
             0.7777777777777778,
             "#fb9f3a"
            ],
            [
             0.8888888888888888,
             "#fdca26"
            ],
            [
             1,
             "#f0f921"
            ]
           ]
          },
          "colorway": [
           "#636efa",
           "#EF553B",
           "#00cc96",
           "#ab63fa",
           "#FFA15A",
           "#19d3f3",
           "#FF6692",
           "#B6E880",
           "#FF97FF",
           "#FECB52"
          ],
          "font": {
           "color": "#2a3f5f"
          },
          "geo": {
           "bgcolor": "white",
           "lakecolor": "white",
           "landcolor": "#E5ECF6",
           "showlakes": true,
           "showland": true,
           "subunitcolor": "white"
          },
          "hoverlabel": {
           "align": "left"
          },
          "hovermode": "closest",
          "mapbox": {
           "style": "light"
          },
          "paper_bgcolor": "white",
          "plot_bgcolor": "#E5ECF6",
          "polar": {
           "angularaxis": {
            "gridcolor": "white",
            "linecolor": "white",
            "ticks": ""
           },
           "bgcolor": "#E5ECF6",
           "radialaxis": {
            "gridcolor": "white",
            "linecolor": "white",
            "ticks": ""
           }
          },
          "scene": {
           "xaxis": {
            "backgroundcolor": "#E5ECF6",
            "gridcolor": "white",
            "gridwidth": 2,
            "linecolor": "white",
            "showbackground": true,
            "ticks": "",
            "zerolinecolor": "white"
           },
           "yaxis": {
            "backgroundcolor": "#E5ECF6",
            "gridcolor": "white",
            "gridwidth": 2,
            "linecolor": "white",
            "showbackground": true,
            "ticks": "",
            "zerolinecolor": "white"
           },
           "zaxis": {
            "backgroundcolor": "#E5ECF6",
            "gridcolor": "white",
            "gridwidth": 2,
            "linecolor": "white",
            "showbackground": true,
            "ticks": "",
            "zerolinecolor": "white"
           }
          },
          "shapedefaults": {
           "line": {
            "color": "#2a3f5f"
           }
          },
          "ternary": {
           "aaxis": {
            "gridcolor": "white",
            "linecolor": "white",
            "ticks": ""
           },
           "baxis": {
            "gridcolor": "white",
            "linecolor": "white",
            "ticks": ""
           },
           "bgcolor": "#E5ECF6",
           "caxis": {
            "gridcolor": "white",
            "linecolor": "white",
            "ticks": ""
           }
          },
          "title": {
           "x": 0.05
          },
          "xaxis": {
           "automargin": true,
           "gridcolor": "white",
           "linecolor": "white",
           "ticks": "",
           "title": {
            "standoff": 15
           },
           "zerolinecolor": "white",
           "zerolinewidth": 2
          },
          "yaxis": {
           "automargin": true,
           "gridcolor": "white",
           "linecolor": "white",
           "ticks": "",
           "title": {
            "standoff": 15
           },
           "zerolinecolor": "white",
           "zerolinewidth": 2
          }
         }
        },
        "width": 800,
        "xaxis": {
         "anchor": "y",
         "domain": [
          0,
          1
         ],
         "title": {
          "text": "x"
         }
        },
        "yaxis": {
         "anchor": "x",
         "domain": [
          0,
          1
         ],
         "title": {
          "text": "y"
         }
        }
       }
      }
     },
     "metadata": {},
     "output_type": "display_data"
    }
   ],
   "source": [
    "signal, t = dataset.__getitem__(326, data_plot=True)\n",
    "print(t.shape)\n",
    "print(signal.shape)\n",
    "# plt.plot(t, signal)\n",
    "fig = px.line(x=t, y=signal, width=800, height=400)\n",
    "fig.show()\n",
    "fig = px.scatter(x= sample_df.index,  y=sample_df['Pred label'], width=800, height=400)\n",
    "fig.show()"
   ]
  },
  {
   "attachments": {},
   "cell_type": "markdown",
   "metadata": {},
   "source": [
    "##### 4.2. Database Directory Creation "
   ]
  },
  {
   "cell_type": "code",
   "execution_count": 6,
   "metadata": {},
   "outputs": [
    {
     "name": "stdout",
     "output_type": "stream",
     "text": [
      "copying 54 files...\n",
      "finished\n"
     ]
    }
   ],
   "source": [
    "# Creating Dataset Folders\n",
    "\n",
    "dataset_dir_full = \"C:/Users/aherrada/OneDrive - Universidad del Norte/Uninorte/DetectionDataBase/LSTM_form_1/fault_01/\"\n",
    "dataset_dir = \"C:/Users/aherrada/OneDrive - Universidad del Norte/Uninorte/DetectionDataBase/LSTM_form_1/R1/\"\n",
    "\n",
    "max_window_idx = 130\n",
    "n_events = 54\n",
    "\n",
    "\n",
    "def dataset_creator(source_path, target_path, signal_list=False):\n",
    "    csv_list = glob.glob(f\"{source_path}*.csv\")\n",
    "    if not os.path.isdir(target_path):\n",
    "        print(\"creating\")\n",
    "        os.makedirs(target_path)\n",
    "    else:\n",
    "        file_list = glob.glob(f\"{target_path}*.csv\")\n",
    "        for file in file_list:\n",
    "            os.remove(file)\n",
    "    csv_list = random.sample(csv_list, n_events)\n",
    "    print(f\"copying {len(csv_list)} files...\")\n",
    "    for csv in csv_list:\n",
    "        source_path = csv\n",
    "        target_path = target_path\n",
    "        shutil.copy(source_path, target_path)\n",
    "    print(\"finished\")\n",
    "\n",
    "    if signal_list == True:\n",
    "        print(\"Available Relays (current):\")\n",
    "        CSV_pandas_path(csv_list[0]).relay_list()\n",
    "\n",
    "\n",
    "# Crear los 3 Datasets para entrenar los relés individualmente\n",
    "dataset_creator(dataset_dir_full, dataset_dir, signal_list=False)\n"
   ]
  },
  {
   "attachments": {},
   "cell_type": "markdown",
   "metadata": {},
   "source": [
    "##### 4.3. Dataset and Dataloader Instances Creation"
   ]
  },
  {
   "cell_type": "code",
   "execution_count": 7,
   "metadata": {},
   "outputs": [],
   "source": [
    "# Load Dataset\n",
    "signal_name = \"I: X0023A-R1A\"\n",
    "# signal_name = \"I: X0004A-R2A\"\n",
    "# signal_name = \"I: X0071A-R3A\"\n",
    "\n",
    "dataset = Form1Dataset(\n",
    "    dataset_dir, max_window_idx=max_window_idx, signal_name=signal_name\n",
    ")\n",
    "# dataset.get_events(0)\n",
    "train_dataset, test_dataset = random_split(dataset, [0.95, 0.05])\n",
    "train_dataloader = DataLoader(train_dataset, batch_size=train_batch_size, shuffle=False)\n",
    "test_dataloader = DataLoader(test_dataset, batch_size=test_batch_size, shuffle=False)\n",
    "# EL test set realmente es un dev set\n",
    "# Como regla general, si es utilizado dentro del loop es un dev set.\n"
   ]
  },
  {
   "attachments": {},
   "cell_type": "markdown",
   "metadata": {},
   "source": [
    "### 5. Model Training\n"
   ]
  },
  {
   "attachments": {},
   "cell_type": "markdown",
   "metadata": {},
   "source": [
    "##### 5.1. Train / Test(dev) Loop Creation"
   ]
  },
  {
   "cell_type": "code",
   "execution_count": 8,
   "metadata": {},
   "outputs": [],
   "source": [
    "# Create Training / Test / Validation Loops\n",
    "\n",
    "\n",
    "# Training\n",
    "def train(dataloader, model, loss_fn, optimizer, return_loss=False):\n",
    "    size = len(dataloader.dataset)\n",
    "    model.train()\n",
    "    loss_list = []\n",
    "\n",
    "    for batch, (x, y) in enumerate(dataloader):\n",
    "        x, y = x.to(device), y.to(device)\n",
    "\n",
    "        # Compute prediction error\n",
    "        pred = model(x)\n",
    "        loss = loss_fn(pred, y)\n",
    "\n",
    "        # Backpropagation\n",
    "        optimizer.zero_grad()\n",
    "        loss.backward()\n",
    "        optimizer.step()\n",
    "        if return_loss == True:\n",
    "            loss_list.append(loss.item())\n",
    "        if batch % 2 == 0:\n",
    "            loss, current = loss.item(), batch * len(x)\n",
    "            print(f\"loss: {loss:>f} [{current:>5d}/{size:>5d}]\")\n",
    "\n",
    "        if batch % 5 == 0:\n",
    "            my_lr_scheduler.step()\n",
    "    if return_loss == True:\n",
    "        return loss_list\n",
    "\n",
    "\n",
    "from torchmetrics.functional.classification import binary_stat_scores\n",
    "\n",
    "\n",
    "def test_metrics(dataloader, model, loss_fn, return_metrics=False):\n",
    "    size = len(dataloader.dataset)\n",
    "    num_batches = len(dataloader)\n",
    "    conf_matrix = torch.zeros(1, 5, dtype=torch.int64).to(device)\n",
    "    model.eval()\n",
    "    test_loss, correct = 0, 0\n",
    "    with torch.no_grad():\n",
    "        for x, y in tqdm(dataloader):\n",
    "\n",
    "            x, y = x.to(device), y.to(device)\n",
    "            pred = model(x)\n",
    "\n",
    "            conf_matrix = conf_matrix.add(binary_stat_scores(pred, y))\n",
    "            test_loss += loss_fn(pred, y).item()\n",
    "            correct += (torch.round(pred) == y).type(torch.float).sum().item()\n",
    "\n",
    "    test_loss /= num_batches\n",
    "    acc = (conf_matrix[0, 0] + conf_matrix[0, 2]) / conf_matrix[0, :-1].sum()\n",
    "    correct /= size\n",
    "    print(f\"{correct*100:>0.1f}\")\n",
    "    print(f\"Test Error: \\n Accuracy: {(100*acc):>0.1f}%, Avg loss: {test_loss:>8f} \\n\")\n",
    "    if return_metrics == True:\n",
    "        return conf_matrix, test_loss\n"
   ]
  },
  {
   "attachments": {},
   "cell_type": "markdown",
   "metadata": {},
   "source": [
    "##### 5.2. Training the model"
   ]
  },
  {
   "cell_type": "code",
   "execution_count": 13,
   "metadata": {},
   "outputs": [
    {
     "name": "stdout",
     "output_type": "stream",
     "text": [
      "Epoch 1\n",
      "--------------------------------\n"
     ]
    },
    {
     "name": "stderr",
     "output_type": "stream",
     "text": [
      "100%|██████████| 22/22 [00:22<00:00,  1.01s/it]"
     ]
    },
    {
     "name": "stdout",
     "output_type": "stream",
     "text": [
      "98.0\n",
      "Test Error: \n",
      " Accuracy: 98.0%, Avg loss: 0.112581 \n",
      "\n",
      "tensor([[160,   0, 184,   7, 167]])\n"
     ]
    },
    {
     "name": "stderr",
     "output_type": "stream",
     "text": [
      "\n"
     ]
    }
   ],
   "source": [
    "epochs = 1\n",
    "for epoch in range(epochs):\n",
    "\n",
    "    print(f\"Epoch {epoch+1}\\n--------------------------------\")\n",
    "    # train_loss = train(train_dataloader, model, loss_fn, optimizer, return_loss=True)\n",
    "    # accuracy, _ = test(test_dataloader, model, loss_fn, return_metrics=True)\n",
    "    conf_matrix, _ = test_metrics(test_dataloader, model, loss_fn, return_metrics=True)\n",
    "print(conf_matrix)\n"
   ]
  },
  {
   "cell_type": "code",
   "execution_count": 14,
   "metadata": {},
   "outputs": [
    {
     "name": "stdout",
     "output_type": "stream",
     "text": [
      "0.98005698005698\n",
      "0.9580838323353293\n",
      "1.0\n",
      "tensor([[160,   0, 184,   7, 167]])\n",
      "tensor(0.9801)\n"
     ]
    }
   ],
   "source": [
    "def conf_matrix_metrics(conf_matrix: torch.LongTensor) -> dict:\n",
    "    \"\"\"\n",
    "    Returns dictionary with metrics from a confusion matrix.\n",
    "\n",
    "            Parameters:\n",
    "                    conf_matrix (torch.Tensor): confusion matrix of dimension (1, 5)\n",
    "                        [TP, FP, TN, FN, TP + FN]\n",
    "\n",
    "            Returns:\n",
    "                    metrics (dict): dictionary with following metrics:\n",
    "                        metrics[\"TOTAL\"] -> total amount of samples.\n",
    "                        metrics[\"TPR\"]   -> True Positive Rate,  sensibility, recall, hit-rate.\n",
    "                        metrics[\"FPR\"]   -> False Positive Rate, Fallout.\n",
    "                        metrics[\"TNR\"]   -> True Negative Rate,  specificity, selectivity\n",
    "                        metrics[\"ACC\"]   -> Accuracy.\n",
    "                        metrics[\"PPV\"]   -> Positive Predictive Value, Precision.\n",
    "    \"\"\"\n",
    "    metrics = {}\n",
    "    TP = int(conf_matrix[0, 0].item())\n",
    "    FP = int(conf_matrix[0, 1].item())\n",
    "    TN = int(conf_matrix[0, 2].item())\n",
    "    FN = int(conf_matrix[0, 3].item())\n",
    "    metrics[\"TP\"] = TP\n",
    "    metrics[\"FP\"] = FP\n",
    "    metrics[\"TN\"] = TN\n",
    "    metrics[\"FN\"] = FN\n",
    "    P = TP + FN\n",
    "    N = TN + FP\n",
    "    TOTAL = TP + FP + TN + FN\n",
    "    metrics[\"TOTAL\"] = TOTAL\n",
    "    metrics[\"TPR\"] = TP / (TP + FN)\n",
    "    metrics[\"FPR\"] = FP / (FP + TN)\n",
    "    metrics[\"TNR\"] = TN / (FP + TN)\n",
    "    metrics[\"ACC\"] = (TP + TN) / (TOTAL)\n",
    "    metrics[\"PPV\"] = TP / (TP + FP)\n",
    "\n",
    "    return metrics\n",
    "\n",
    "\n",
    "metrics = conf_matrix_metrics(conf_matrix)\n",
    "print(metrics[\"ACC\"])\n",
    "print(metrics[\"TPR\"])\n",
    "print(metrics[\"PPV\"])\n",
    "print(conf_matrix)\n",
    "acc = (conf_matrix[0, 0] + conf_matrix[0, 2]) / conf_matrix[0, :-1].sum()\n",
    "print(acc)\n"
   ]
  },
  {
   "attachments": {},
   "cell_type": "markdown",
   "metadata": {},
   "source": [
    "##### 5.3. Training loss visualization"
   ]
  },
  {
   "cell_type": "code",
   "execution_count": 11,
   "metadata": {},
   "outputs": [
    {
     "name": "stdout",
     "output_type": "stream",
     "text": [
      "Error! Run train loop\n"
     ]
    }
   ],
   "source": [
    "try:\n",
    "    mini_batch_list = [index for index, _ in enumerate(train_loss)]\n",
    "    train_loss_ewm = pd.DataFrame(train_loss).ewm(com=0.95).mean()\n",
    "    plt.plot(mini_batch_list, train_loss, mini_batch_list, train_loss_ewm)\n",
    "except NameError:\n",
    "    print(\"Error! Run train loop\")\n"
   ]
  },
  {
   "attachments": {},
   "cell_type": "markdown",
   "metadata": {},
   "source": [
    "##### 5.4. Saving the Model"
   ]
  },
  {
   "cell_type": "code",
   "execution_count": 12,
   "metadata": {},
   "outputs": [
    {
     "data": {
      "text/plain": [
       "<All keys matched successfully>"
      ]
     },
     "execution_count": 12,
     "metadata": {},
     "output_type": "execute_result"
    }
   ],
   "source": [
    "# # Save the Model\n",
    "# torch.save(model.state_dict(), './models/LSTMHarmonic_weights_989.pth')\n",
    "# model.load_state_dict(torch.load('./models/LSTMHarmonic_weights_R3_934.pth'))\n",
    "model.load_state_dict(torch.load(\"./models/LSTMHarmonic_weights_R1_996.pth\"))\n",
    "# model.load_state_dict(torch.load('./models/LSTMHarmonic_weights_R2_978.pth'))\n",
    "\n",
    "# R2 + R3 weights\n",
    "# R1 + R3 weights (iniciar)\n"
   ]
  },
  {
   "attachments": {},
   "cell_type": "markdown",
   "metadata": {},
   "source": [
    "### 6. Results Visualization\n"
   ]
  },
  {
   "attachments": {},
   "cell_type": "markdown",
   "metadata": {},
   "source": [
    "#### 6.1. Confussion Matrix Results Table Function"
   ]
  },
  {
   "cell_type": "code",
   "execution_count": 16,
   "metadata": {},
   "outputs": [],
   "source": [
    "# Data visualization (CPU)\n",
    "\n",
    "\n",
    "def confusion_matrix_labels(pred_label, true_label):\n",
    "    label = \"\"\n",
    "    if int(pred_label) == int(true_label):\n",
    "        label += \"T\"\n",
    "    else:\n",
    "        label += \"F\"\n",
    "    if pred_label == 1:\n",
    "        label += \"P\"\n",
    "    else:\n",
    "        label += \"N\"\n",
    "    return label\n",
    "\n",
    "\n",
    "confusion_matrix_pandas = np.vectorize(confusion_matrix_labels)\n",
    "\n",
    "\n",
    "def confusion_matrix(\n",
    "    preds: torch.FloatTensor, labels: torch.FloatTensor\n",
    ") -> pd.DataFrame:\n",
    "    preds = preds.detach()\n",
    "    labels = labels.detach()\n",
    "    data = {\n",
    "        \"Pred probability\": torch.reshape(preds, (-1,)).cpu().numpy(),\n",
    "        \"Pred label\": torch.reshape(torch.round(preds), (-1,)).int().cpu().numpy(),\n",
    "        \"True label\": torch.reshape(labels, (-1,)).int().cpu().numpy(),\n",
    "    }\n",
    "    df = pd.DataFrame(data)\n",
    "    df[\"Result\"] = confusion_matrix_pandas(df[\"Pred label\"], df[\"True label\"])\n",
    "    return df\n"
   ]
  },
  {
   "attachments": {},
   "cell_type": "markdown",
   "metadata": {},
   "source": [
    "##### 6.2. Plotly Plot"
   ]
  },
  {
   "cell_type": "code",
   "execution_count": 17,
   "metadata": {},
   "outputs": [
    {
     "name": "stderr",
     "output_type": "stream",
     "text": [
      "c:\\Users\\aherrada\\Documents\\Git\\Pytorch\\env\\lib\\site-packages\\torch\\utils\\data\\_utils\\collate.py:172: UserWarning: The given NumPy array is not writable, and PyTorch does not support non-writable tensors. This means writing to this tensor will result in undefined behavior. You may want to copy the array to protect its data or make it writable before converting it to a tensor. This type of warning will be suppressed for the rest of this program. (Triggered internally at C:\\actions-runner\\_work\\pytorch\\pytorch\\builder\\windows\\pytorch\\torch\\csrc\\utils\\tensor_numpy.cpp:205.)\n",
      "  return collate([torch.as_tensor(b) for b in batch], collate_fn_map=collate_fn_map)\n"
     ]
    },
    {
     "name": "stdout",
     "output_type": "stream",
     "text": [
      "64\n",
      "torch.Size([64])\n",
      "torch.Size([64, 1])\n",
      "torch.FloatTensor\n",
      "<class 'pandas.core.frame.DataFrame'>\n",
      "   Pred probability  Pred label  True label Result\n",
      "0          0.967047           1           1     TP\n",
      "1          0.930682           1           1     TP\n",
      "2          0.967079           1           1     TP\n",
      "3          0.967503           1           1     TP\n",
      "4          0.051164           0           0     TN\n",
      "5          0.048864           0           0     TN\n",
      "6          0.037045           0           0     TN\n",
      "7          0.046161           0           0     TN\n",
      "8          0.960699           1           1     TP\n"
     ]
    },
    {
     "data": {
      "application/vnd.plotly.v1+json": {
       "config": {
        "plotlyServerURL": "https://plot.ly"
       },
       "data": [
        {
         "marker": {
          "color": "black"
         },
         "name": "Fault - 117 - Fault01_B124_RF1e-05.csv",
         "type": "scatter",
         "x": [
          0.0304668,
          0.0307272,
          0.0309876,
          0.031248,
          0.0315084,
          0.0317688,
          0.0320292,
          0.0322896,
          0.03255,
          0.0328104,
          0.0330708,
          0.0333312,
          0.0335916,
          0.033852,
          0.0341124,
          0.0343728,
          0.0346332,
          0.0348936,
          0.035154,
          0.0354144,
          0.0356748,
          0.0359352,
          0.0361956,
          0.036456,
          0.0367164,
          0.0369768,
          0.0372372,
          0.0374976,
          0.037758,
          0.0380184,
          0.0382788,
          0.0385392,
          0.0387996,
          0.03906,
          0.0393204,
          0.0395808,
          0.0398412,
          0.0401016,
          0.040362,
          0.0406224,
          0.0408828,
          0.0411432,
          0.0414036,
          0.041664,
          0.0419244,
          0.0421848,
          0.0424452,
          0.0427056,
          0.042966,
          0.0432264,
          0.0434868,
          0.0437472,
          0.0440076,
          0.044268,
          0.0445284,
          0.0447888,
          0.0450492,
          0.0453096,
          0.04557,
          0.0458304,
          0.0460908,
          0.0463512,
          0.0466116,
          0.046872
         ],
         "xaxis": "x",
         "y": [
          -29.550355911254883,
          -26.243680953979492,
          -22.926450729370117,
          -19.226543426513672,
          -15.290135383605957,
          -11.184379577636719,
          -7.045895576477051,
          -2.911855459213257,
          1.2282096147537231,
          5.2842793464660645,
          9.499319076538086,
          13.547178268432617,
          43.79203796386719,
          83.94087219238281,
          137.45413208007812,
          166.87591552734375,
          200.62789916992188,
          238.12774658203125,
          258.46771240234375,
          298.2863464355469,
          324.479248046875,
          336.1112060546875,
          352.6068115234375,
          372.9849548339844,
          385.311767578125,
          389.2453918457031,
          386.99017333984375,
          384.944091796875,
          385.5199890136719,
          376.91064453125,
          357.5333557128906,
          343.49981689453125,
          321.78485107421875,
          298.210205078125,
          276.8629150390625,
          242.1097869873047,
          209.2562713623047,
          177.96054077148438,
          142.05763244628906,
          105.69342803955078,
          64.92977142333984,
          21.923118591308594,
          -12.528203964233398,
          -52.08735656738281,
          -96.37020874023438,
          -131.0423126220703,
          -168.6172637939453,
          -204.1857147216797,
          -235.76870727539062,
          -269.7705993652344,
          -297.92462158203125,
          -321.2156677246094,
          -346.41583251953125,
          -363.033935546875,
          -381.4010314941406,
          -394.0364685058594,
          -400.3006896972656,
          -404.7230529785156,
          -406.9044189453125,
          -404.5378112792969,
          -396.4063720703125,
          -384.8828430175781,
          -371.53399658203125,
          -353.8360595703125
         ],
         "yaxis": "y"
        },
        {
         "marker": {
          "color": "black"
         },
         "name": "Fault - 84 - Fault01_B134_RF60.csv",
         "type": "scatter",
         "x": [
          0.0218736,
          0.022134,
          0.0223944,
          0.0226548,
          0.0229152,
          0.0231756,
          0.023436,
          0.0236964,
          0.0239568,
          0.0242172,
          0.0244776,
          0.024738,
          0.0249984,
          0.0252588,
          0.0255192,
          0.0257796,
          0.02604,
          0.0263004,
          0.0265608,
          0.0268212,
          0.0270816,
          0.027342,
          0.0276024,
          0.0278628,
          0.0281232,
          0.0283836,
          0.028644,
          0.0289044,
          0.0291648,
          0.0294252,
          0.0296856,
          0.029946,
          0.0302064,
          0.0304668,
          0.0307272,
          0.0309876,
          0.031248,
          0.0315084,
          0.0317688,
          0.0320292,
          0.0322896,
          0.03255,
          0.0328104,
          0.0330708,
          0.0333312,
          0.0335916,
          0.033852,
          0.0341124,
          0.0343728,
          0.0346332,
          0.0348936,
          0.035154,
          0.0354144,
          0.0356748,
          0.0359352,
          0.0361956,
          0.036456,
          0.0367164,
          0.0369768,
          0.0372372,
          0.0374976,
          0.037758,
          0.0380184,
          0.0382788
         ],
         "xaxis": "x2",
         "y": [
          42.78227996826172,
          42.41892623901367,
          41.58860397338867,
          40.33963394165039,
          38.730262756347656,
          36.89008331298828,
          34.71479415893555,
          31.971281051635742,
          28.931148529052734,
          25.65389633178711,
          22.297122955322266,
          18.551021575927734,
          14.616508483886719,
          10.466919898986816,
          6.417320728302002,
          2.207029104232788,
          -1.840335488319397,
          -5.98650598526001,
          -10.093939781188965,
          -14.168343544006348,
          -18.00078582763672,
          -21.69464874267578,
          -25.18706703186035,
          -28.548660278320312,
          -31.49711799621582,
          -34.196205139160156,
          -36.493438720703125,
          -38.65583801269531,
          -40.283626556396484,
          -41.62654495239258,
          -42.45750045776367,
          -43.000091552734375,
          -43.103816986083984,
          -42.71322250366211,
          -41.83721160888672,
          -40.66364288330078,
          -39.06608200073242,
          -37.24821853637695,
          -35.02140808105469,
          -32.29831314086914,
          -29.226356506347656,
          -26.005205154418945,
          -22.64359474182129,
          -18.94724464416504,
          -14.980729103088379,
          -9.598907470703125,
          15.4606351852417,
          34.182762145996094,
          48.190914154052734,
          68.099609375,
          79.90617370605469,
          93.85023498535156,
          113.6527328491211,
          124.70587158203125,
          133.62008666992188,
          145.62432861328125,
          154.4241180419922,
          163.23321533203125,
          169.89169311523438,
          170.84677124023438,
          174.2474365234375,
          176.78933715820312,
          175.01942443847656,
          171.4781036376953
         ],
         "yaxis": "y2"
        },
        {
         "marker": {
          "color": "black"
         },
         "name": "Fault - 85 - Fault01_B832_RF40.csv",
         "type": "scatter",
         "x": [
          0.022134,
          0.0223944,
          0.0226548,
          0.0229152,
          0.0231756,
          0.023436,
          0.0236964,
          0.0239568,
          0.0242172,
          0.0244776,
          0.024738,
          0.0249984,
          0.0252588,
          0.0255192,
          0.0257796,
          0.02604,
          0.0263004,
          0.0265608,
          0.0268212,
          0.0270816,
          0.027342,
          0.0276024,
          0.0278628,
          0.0281232,
          0.0283836,
          0.028644,
          0.0289044,
          0.0291648,
          0.0294252,
          0.0296856,
          0.029946,
          0.0302064,
          0.0304668,
          0.0307272,
          0.0309876,
          0.031248,
          0.0315084,
          0.0317688,
          0.0320292,
          0.0322896,
          0.03255,
          0.0328104,
          0.0330708,
          0.0333312,
          0.0335916,
          0.033852,
          0.0341124,
          0.0343728,
          0.0346332,
          0.0348936,
          0.035154,
          0.0354144,
          0.0356748,
          0.0359352,
          0.0361956,
          0.036456,
          0.0367164,
          0.0369768,
          0.0372372,
          0.0374976,
          0.037758,
          0.0380184,
          0.0382788,
          0.0385392
         ],
         "xaxis": "x3",
         "y": [
          -27.440494537353516,
          -30.61155128479004,
          -33.387821197509766,
          -35.73396301269531,
          -37.99467086791992,
          -39.87773132324219,
          -41.415340423583984,
          -42.4442024230957,
          -43.023170471191406,
          -43.388397216796875,
          -43.12047576904297,
          -42.55662155151367,
          -41.43077087402344,
          -40.006099700927734,
          -38.19830322265625,
          -36.20713424682617,
          -33.67177200317383,
          -30.778728485107422,
          -27.493619918823242,
          -24.165796279907227,
          -20.59185028076172,
          -16.695178985595703,
          -12.511877059936523,
          -8.424254417419434,
          -4.24196720123291,
          -0.10292553156614304,
          4.053736686706543,
          8.300032615661621,
          12.402277946472168,
          16.34137725830078,
          20.186573028564453,
          23.779451370239258,
          27.324268341064453,
          30.479074478149414,
          33.336090087890625,
          35.83851623535156,
          38.115108489990234,
          40.00492477416992,
          41.54624938964844,
          42.624755859375,
          43.306724548339844,
          43.618507385253906,
          43.449241638183594,
          42.81941604614258,
          44.66605758666992,
          71.14884185791016,
          74.79112243652344,
          74.94009399414062,
          77.22794342041016,
          61.954837799072266,
          57.485172271728516,
          53.10882568359375,
          32.81146240234375,
          19.423446655273438,
          2.708061933517456,
          -14.843033790588379,
          -27.516281127929688,
          -48.99983215332031,
          -70.8058853149414,
          -84.92693328857422,
          -102.42781829833984,
          -118.7771987915039,
          -135.77444458007812,
          -153.64004516601562
         ],
         "yaxis": "y3"
        },
        {
         "marker": {
          "color": "black"
         },
         "name": "Fault - 128 - Fault01_B840_RF40.csv",
         "type": "scatter",
         "x": [
          0.0333312,
          0.0335916,
          0.033852,
          0.0341124,
          0.0343728,
          0.0346332,
          0.0348936,
          0.035154,
          0.0354144,
          0.0356748,
          0.0359352,
          0.0361956,
          0.036456,
          0.0367164,
          0.0369768,
          0.0372372,
          0.0374976,
          0.037758,
          0.0380184,
          0.0382788,
          0.0385392,
          0.0387996,
          0.03906,
          0.0393204,
          0.0395808,
          0.0398412,
          0.0401016,
          0.040362,
          0.0406224,
          0.0408828,
          0.0411432,
          0.0414036,
          0.041664,
          0.0419244,
          0.0421848,
          0.0424452,
          0.0427056,
          0.042966,
          0.0432264,
          0.0434868,
          0.0437472,
          0.0440076,
          0.044268,
          0.0445284,
          0.0447888,
          0.0450492,
          0.0453096,
          0.04557,
          0.0458304,
          0.0460908,
          0.0463512,
          0.0466116,
          0.046872,
          0.0471324,
          0.0473928,
          0.0476532,
          0.0479136,
          0.048174,
          0.0484344,
          0.0486948,
          0.0489552,
          0.0492156,
          0.049476,
          0.0497364
         ],
         "xaxis": "x4",
         "y": [
          -41.279083251953125,
          -44.55354690551758,
          -88.21066284179688,
          -107.60607147216797,
          -111.57176208496094,
          -123.50566864013672,
          -118.68174743652344,
          -113.21847534179688,
          -127.6017074584961,
          -113.5519027709961,
          -94.41000366210938,
          -91.61004638671875,
          -78.9198989868164,
          -65.10559844970703,
          -50.54005813598633,
          -25.762678146362305,
          -8.451384544372559,
          0.09309111535549164,
          23.143213272094727,
          47.25598907470703,
          64.39088439941406,
          80.01610565185547,
          93.87875366210938,
          111.84146881103516,
          134.59947204589844,
          151.571044921875,
          157.63790893554688,
          165.961669921875,
          183.35073852539062,
          193.14317321777344,
          196.63697814941406,
          200.36224365234375,
          199.1943359375,
          212.51889038085938,
          209.47894287109375,
          197.75778198242188,
          194.95773315429688,
          187.26858520507812,
          190.88780212402344,
          173.3221435546875,
          150.4459228515625,
          142.64752197265625,
          130.41114807128906,
          125.18295288085938,
          98.72846984863281,
          64.45921325683594,
          59.469940185546875,
          42.34143829345703,
          27.07094383239746,
          5.140694618225098,
          -29.72166633605957,
          -42.41038131713867,
          -53.61843490600586,
          -81.34806823730469,
          -99.52005004882812,
          -117.19622039794922,
          -132.86715698242188,
          -147.58958435058594,
          -165.8300323486328,
          -183.4868927001953,
          -186.41793823242188,
          -190.99896240234375,
          -202.73043823242188,
          -217.11289978027344
         ],
         "yaxis": "y4"
        },
        {
         "marker": {
          "color": "black"
         },
         "name": "No Fault - 19 - Fault01_B134_RF100.csv",
         "type": "scatter",
         "x": [
          0.0049476,
          0.005208,
          0.0054684,
          0.0057288,
          0.0059892,
          0.0062496,
          0.00651,
          0.0067704,
          0.0070308,
          0.0072912,
          0.0075516,
          0.007812,
          0.0080724,
          0.0083328,
          0.0085932,
          0.0088536,
          0.009114,
          0.0093744,
          0.0096348,
          0.0098952,
          0.0101556,
          0.010416,
          0.0106764,
          0.0109368,
          0.0111972,
          0.0114576,
          0.011718,
          0.0119784,
          0.0122388,
          0.0124992,
          0.0127596,
          0.01302,
          0.0132804,
          0.0135408,
          0.0138012,
          0.0140616,
          0.014322,
          0.0145824,
          0.0148428,
          0.0151032,
          0.0153636,
          0.015624,
          0.0158844,
          0.0161448,
          0.0164052,
          0.0166656,
          0.016926,
          0.0171864,
          0.0174468,
          0.0177072,
          0.0179676,
          0.018228,
          0.0184884,
          0.0187488,
          0.0190092,
          0.0192696,
          0.01953,
          0.0197904,
          0.0200508,
          0.0203112,
          0.0205716,
          0.020832,
          0.0210924,
          0.0213528
         ],
         "xaxis": "x5",
         "y": [
          -5.3102946281433105,
          -0.36271408200263977,
          5.887799263000488,
          10.763171195983887,
          14.529433250427246,
          16.99873924255371,
          19.90073585510254,
          23.69427490234375,
          28.47509002685547,
          32.225128173828125,
          34.611026763916016,
          35.86201858520508,
          37.66358184814453,
          39.69240188598633,
          41.65574264526367,
          42.9044303894043,
          43.32877731323242,
          43.0788688659668,
          42.182804107666016,
          41.410430908203125,
          40.80546188354492,
          39.688697814941406,
          37.873497009277344,
          35.23438262939453,
          32.280662536621094,
          29.096853256225586,
          26.175174713134766,
          23.285146713256836,
          20.080705642700195,
          15.792645454406738,
          11.074041366577148,
          6.721991062164307,
          2.9182941913604736,
          -0.6418042182922363,
          -4.506446361541748,
          -8.841187477111816,
          -13.243337631225586,
          -17.3868408203125,
          -20.999427795410156,
          -24.11269187927246,
          -27.25456428527832,
          -30.481782913208008,
          -33.531036376953125,
          -36.105621337890625,
          -38.06856918334961,
          -39.74089050292969,
          -41.03495788574219,
          -42.1546630859375,
          -42.80316162109375,
          -43.206748962402344,
          -42.888160705566406,
          -42.122737884521484,
          -40.92681884765625,
          -39.50491714477539,
          -37.774940490722656,
          -35.77178192138672,
          -33.19161605834961,
          -30.24199676513672,
          -26.95163917541504,
          -23.574684143066406,
          -20.07436752319336,
          -16.22733497619629,
          -12.11966323852539,
          -8.002124786376953
         ],
         "yaxis": "y5"
        },
        {
         "marker": {
          "color": "black"
         },
         "name": "No Fault - 51 - Fault01_B354_RF100.csv",
         "type": "scatter",
         "x": [
          0.0132804,
          0.0135408,
          0.0138012,
          0.0140616,
          0.014322,
          0.0145824,
          0.0148428,
          0.0151032,
          0.0153636,
          0.015624,
          0.0158844,
          0.0161448,
          0.0164052,
          0.0166656,
          0.016926,
          0.0171864,
          0.0174468,
          0.0177072,
          0.0179676,
          0.018228,
          0.0184884,
          0.0187488,
          0.0190092,
          0.0192696,
          0.01953,
          0.0197904,
          0.0200508,
          0.0203112,
          0.0205716,
          0.020832,
          0.0210924,
          0.0213528,
          0.0216132,
          0.0218736,
          0.022134,
          0.0223944,
          0.0226548,
          0.0229152,
          0.0231756,
          0.023436,
          0.0236964,
          0.0239568,
          0.0242172,
          0.0244776,
          0.024738,
          0.0249984,
          0.0252588,
          0.0255192,
          0.0257796,
          0.02604,
          0.0263004,
          0.0265608,
          0.0268212,
          0.0270816,
          0.027342,
          0.0276024,
          0.0278628,
          0.0281232,
          0.0283836,
          0.028644,
          0.0289044,
          0.0291648,
          0.0294252,
          0.0296856
         ],
         "xaxis": "x6",
         "y": [
          43.021873474121094,
          42.52122116088867,
          41.295562744140625,
          39.740234375,
          37.61149215698242,
          35.373634338378906,
          32.72492980957031,
          29.97690200805664,
          26.95269203186035,
          23.666183471679688,
          19.842405319213867,
          15.664169311523438,
          11.324479103088379,
          7.514341354370117,
          3.5781092643737793,
          -0.2716327905654907,
          -4.561774730682373,
          -9.029781341552734,
          -13.254114151000977,
          -17.007062911987305,
          -20.477731704711914,
          -23.827465057373047,
          -27.42771339416504,
          -30.64014434814453,
          -33.613685607910156,
          -35.82254409790039,
          -37.96421432495117,
          -39.599246978759766,
          -41.222496032714844,
          -42.272377014160156,
          -42.958709716796875,
          -43.13882064819336,
          -42.840362548828125,
          -42.164493560791016,
          -41.16069793701172,
          -39.66079330444336,
          -37.920406341552734,
          -35.782901763916016,
          -33.28118896484375,
          -30.323219299316406,
          -27.114601135253906,
          -23.796791076660156,
          -20.155799865722656,
          -16.2393856048584,
          -12.020947456359863,
          -7.99082612991333,
          -3.807393789291382,
          0.30856412649154663,
          4.494483947753906,
          8.771069526672363,
          12.856606483459473,
          16.792232513427734,
          20.5604190826416,
          24.1511173248291,
          27.720199584960938,
          30.834970474243164,
          33.71062088012695,
          36.099708557128906,
          38.396331787109375,
          40.22150421142578,
          41.75446701049805,
          42.77608871459961,
          43.42887496948242,
          43.7130012512207
         ],
         "yaxis": "y6"
        },
        {
         "marker": {
          "color": "black"
         },
         "name": "No Fault - 20 - Fault01_B832_RF80.csv",
         "type": "scatter",
         "x": [
          0.005208,
          0.0054684,
          0.0057288,
          0.0059892,
          0.0062496,
          0.00651,
          0.0067704,
          0.0070308,
          0.0072912,
          0.0075516,
          0.007812,
          0.0080724,
          0.0083328,
          0.0085932,
          0.0088536,
          0.009114,
          0.0093744,
          0.0096348,
          0.0098952,
          0.0101556,
          0.010416,
          0.0106764,
          0.0109368,
          0.0111972,
          0.0114576,
          0.011718,
          0.0119784,
          0.0122388,
          0.0124992,
          0.0127596,
          0.01302,
          0.0132804,
          0.0135408,
          0.0138012,
          0.0140616,
          0.014322,
          0.0145824,
          0.0148428,
          0.0151032,
          0.0153636,
          0.015624,
          0.0158844,
          0.0161448,
          0.0164052,
          0.0166656,
          0.016926,
          0.0171864,
          0.0174468,
          0.0177072,
          0.0179676,
          0.018228,
          0.0184884,
          0.0187488,
          0.0190092,
          0.0192696,
          0.01953,
          0.0197904,
          0.0200508,
          0.0203112,
          0.0205716,
          0.020832,
          0.0210924,
          0.0213528,
          0.0216132
         ],
         "xaxis": "x7",
         "y": [
          37.6956787109375,
          39.330753326416016,
          40.34872055053711,
          41.16917037963867,
          42.448402404785156,
          43.36445999145508,
          43.3504524230957,
          43.05129623413086,
          42.408939361572266,
          41.638309478759766,
          40.05794143676758,
          37.715511322021484,
          35.13172149658203,
          32.556785583496094,
          30.265338897705078,
          27.805057525634766,
          24.2871036529541,
          19.968212127685547,
          15.124853134155273,
          11.108979225158691,
          7.737478256225586,
          4.402158737182617,
          0.3344934582710266,
          -4.405653953552246,
          -9.459908485412598,
          -13.68785572052002,
          -16.974130630493164,
          -19.868499755859375,
          -23.292564392089844,
          -27.38067054748535,
          -31.1247615814209,
          -33.82482147216797,
          -35.82789993286133,
          -37.52952575683594,
          -39.491981506347656,
          -41.122432708740234,
          -42.44877624511719,
          -42.985294342041016,
          -43.08563232421875,
          -42.70015335083008,
          -42.095802307128906,
          -40.99856948852539,
          -39.59054946899414,
          -37.68267822265625,
          -35.87464904785156,
          -33.26881790161133,
          -30.408283233642578,
          -26.879945755004883,
          -23.58903694152832,
          -20.12810516357422,
          -16.385665893554688,
          -12.372756958007812,
          -8.250978469848633,
          -3.9743502140045166,
          0.21837833523750305,
          4.353147506713867,
          8.242899894714355,
          12.287151336669922,
          16.099773406982422,
          20.10542106628418,
          23.658226013183594,
          27.127229690551758,
          30.11867904663086,
          32.81784439086914
         ],
         "yaxis": "y7"
        },
        {
         "marker": {
          "color": "black"
         },
         "name": "No Fault - 47 - Fault01_B846_RF60.csv",
         "type": "scatter",
         "x": [
          0.0122388,
          0.0124992,
          0.0127596,
          0.01302,
          0.0132804,
          0.0135408,
          0.0138012,
          0.0140616,
          0.014322,
          0.0145824,
          0.0148428,
          0.0151032,
          0.0153636,
          0.015624,
          0.0158844,
          0.0161448,
          0.0164052,
          0.0166656,
          0.016926,
          0.0171864,
          0.0174468,
          0.0177072,
          0.0179676,
          0.018228,
          0.0184884,
          0.0187488,
          0.0190092,
          0.0192696,
          0.01953,
          0.0197904,
          0.0200508,
          0.0203112,
          0.0205716,
          0.020832,
          0.0210924,
          0.0213528,
          0.0216132,
          0.0218736,
          0.022134,
          0.0223944,
          0.0226548,
          0.0229152,
          0.0231756,
          0.023436,
          0.0236964,
          0.0239568,
          0.0242172,
          0.0244776,
          0.024738,
          0.0249984,
          0.0252588,
          0.0255192,
          0.0257796,
          0.02604,
          0.0263004,
          0.0265608,
          0.0268212,
          0.0270816,
          0.027342,
          0.0276024,
          0.0278628,
          0.0281232,
          0.0283836,
          0.028644
         ],
         "xaxis": "x8",
         "y": [
          39.520442962646484,
          37.51472854614258,
          34.99311828613281,
          32.17089080810547,
          29.253503799438477,
          26.286088943481445,
          23.053470611572266,
          19.55315399169922,
          15.343277931213379,
          11.032974243164062,
          6.766727447509766,
          2.8845326900482178,
          -0.9359052777290344,
          -4.91738224029541,
          -9.2670259475708,
          -13.460474967956543,
          -17.446081161499023,
          -21.01546859741211,
          -24.414445877075195,
          -27.636472702026367,
          -30.794321060180664,
          -33.640625,
          -36.17340087890625,
          -38.189456939697266,
          -39.88636016845703,
          -41.20137405395508,
          -42.31339645385742,
          -42.90618133544922,
          -43.226600646972656,
          -42.81675720214844,
          -42.10835647583008,
          -40.939353942871094,
          -39.50178909301758,
          -37.769432067871094,
          -35.67679977416992,
          -33.03614044189453,
          -29.985347747802734,
          -26.78371810913086,
          -23.462841033935547,
          -19.914396286010742,
          -15.970686912536621,
          -11.824503898620605,
          -7.633229732513428,
          -3.4985318183898926,
          0.6164711713790894,
          4.653868198394775,
          8.918963432312012,
          13.00377368927002,
          16.979581832885742,
          20.70839500427246,
          24.27301597595215,
          27.700246810913086,
          30.81893539428711,
          33.585426330566406,
          36.08414077758789,
          38.25121307373047,
          40.110260009765625,
          41.48177719116211,
          42.535911560058594,
          43.12259292602539,
          43.42328643798828,
          43.13511276245117,
          42.45472717285156,
          41.363033294677734
         ],
         "yaxis": "y8"
        },
        {
         "marker": {
          "color": "black"
         },
         "name": "Fault - 76 - Fault01_B124_RF100.csv",
         "type": "scatter",
         "x": [
          0.0197904,
          0.0200508,
          0.0203112,
          0.0205716,
          0.020832,
          0.0210924,
          0.0213528,
          0.0216132,
          0.0218736,
          0.022134,
          0.0223944,
          0.0226548,
          0.0229152,
          0.0231756,
          0.023436,
          0.0236964,
          0.0239568,
          0.0242172,
          0.0244776,
          0.024738,
          0.0249984,
          0.0252588,
          0.0255192,
          0.0257796,
          0.02604,
          0.0263004,
          0.0265608,
          0.0268212,
          0.0270816,
          0.027342,
          0.0276024,
          0.0278628,
          0.0281232,
          0.0283836,
          0.028644,
          0.0289044,
          0.0291648,
          0.0294252,
          0.0296856,
          0.029946,
          0.0302064,
          0.0304668,
          0.0307272,
          0.0309876,
          0.031248,
          0.0315084,
          0.0317688,
          0.0320292,
          0.0322896,
          0.03255,
          0.0328104,
          0.0330708,
          0.0333312,
          0.0335916,
          0.033852,
          0.0341124,
          0.0343728,
          0.0346332,
          0.0348936,
          0.035154,
          0.0354144,
          0.0356748,
          0.0359352,
          0.0361956
         ],
         "xaxis": "x9",
         "y": [
          -41.001373291015625,
          -42.07886505126953,
          -42.60380935668945,
          -43.096160888671875,
          -42.94969940185547,
          -42.442283630371094,
          -41.33186721801758,
          -39.88664245605469,
          -38.18415069580078,
          -36.225894927978516,
          -33.82284927368164,
          -30.8922176361084,
          -27.683467864990234,
          -24.340167999267578,
          -20.8853816986084,
          -16.982275009155273,
          -12.904232025146484,
          -8.722290992736816,
          -4.610328674316406,
          -0.4241069257259369,
          3.6520721912384033,
          7.900477409362793,
          12.013934135437012,
          16.030223846435547,
          19.82076644897461,
          23.48271942138672,
          26.942975997924805,
          30.221343994140625,
          33.03681564331055,
          35.632896423339844,
          37.880619049072266,
          39.86648178100586,
          41.36896514892578,
          42.53856658935547,
          43.1971549987793,
          43.62345504760742,
          43.43388748168945,
          42.91135025024414,
          41.86860656738281,
          40.49962615966797,
          38.751590728759766,
          36.73606872558594,
          34.294532775878906,
          31.375062942504883,
          28.1690731048584,
          24.844953536987305,
          21.315082550048828,
          17.405725479125977,
          13.254196166992188,
          9.1232328414917,
          4.973502159118652,
          0.7746835350990295,
          -3.3608837127685547,
          -22.818967819213867,
          -53.48594665527344,
          -80.56331634521484,
          -99.73932647705078,
          -115.55671691894531,
          -124.52650451660156,
          -135.13839721679688,
          -145.77606201171875,
          -151.88992309570312,
          -155.85482788085938,
          -156.3158416748047
         ],
         "yaxis": "y9"
        }
       ],
       "layout": {
        "height": 700,
        "margin": {
         "b": 20,
         "l": 20,
         "r": 30,
         "t": 40
        },
        "plot_bgcolor": "rgba(0,0,0,0)",
        "template": {
         "data": {
          "bar": [
           {
            "error_x": {
             "color": "#2a3f5f"
            },
            "error_y": {
             "color": "#2a3f5f"
            },
            "marker": {
             "line": {
              "color": "#E5ECF6",
              "width": 0.5
             },
             "pattern": {
              "fillmode": "overlay",
              "size": 10,
              "solidity": 0.2
             }
            },
            "type": "bar"
           }
          ],
          "barpolar": [
           {
            "marker": {
             "line": {
              "color": "#E5ECF6",
              "width": 0.5
             },
             "pattern": {
              "fillmode": "overlay",
              "size": 10,
              "solidity": 0.2
             }
            },
            "type": "barpolar"
           }
          ],
          "carpet": [
           {
            "aaxis": {
             "endlinecolor": "#2a3f5f",
             "gridcolor": "white",
             "linecolor": "white",
             "minorgridcolor": "white",
             "startlinecolor": "#2a3f5f"
            },
            "baxis": {
             "endlinecolor": "#2a3f5f",
             "gridcolor": "white",
             "linecolor": "white",
             "minorgridcolor": "white",
             "startlinecolor": "#2a3f5f"
            },
            "type": "carpet"
           }
          ],
          "choropleth": [
           {
            "colorbar": {
             "outlinewidth": 0,
             "ticks": ""
            },
            "type": "choropleth"
           }
          ],
          "contour": [
           {
            "colorbar": {
             "outlinewidth": 0,
             "ticks": ""
            },
            "colorscale": [
             [
              0,
              "#0d0887"
             ],
             [
              0.1111111111111111,
              "#46039f"
             ],
             [
              0.2222222222222222,
              "#7201a8"
             ],
             [
              0.3333333333333333,
              "#9c179e"
             ],
             [
              0.4444444444444444,
              "#bd3786"
             ],
             [
              0.5555555555555556,
              "#d8576b"
             ],
             [
              0.6666666666666666,
              "#ed7953"
             ],
             [
              0.7777777777777778,
              "#fb9f3a"
             ],
             [
              0.8888888888888888,
              "#fdca26"
             ],
             [
              1,
              "#f0f921"
             ]
            ],
            "type": "contour"
           }
          ],
          "contourcarpet": [
           {
            "colorbar": {
             "outlinewidth": 0,
             "ticks": ""
            },
            "type": "contourcarpet"
           }
          ],
          "heatmap": [
           {
            "colorbar": {
             "outlinewidth": 0,
             "ticks": ""
            },
            "colorscale": [
             [
              0,
              "#0d0887"
             ],
             [
              0.1111111111111111,
              "#46039f"
             ],
             [
              0.2222222222222222,
              "#7201a8"
             ],
             [
              0.3333333333333333,
              "#9c179e"
             ],
             [
              0.4444444444444444,
              "#bd3786"
             ],
             [
              0.5555555555555556,
              "#d8576b"
             ],
             [
              0.6666666666666666,
              "#ed7953"
             ],
             [
              0.7777777777777778,
              "#fb9f3a"
             ],
             [
              0.8888888888888888,
              "#fdca26"
             ],
             [
              1,
              "#f0f921"
             ]
            ],
            "type": "heatmap"
           }
          ],
          "heatmapgl": [
           {
            "colorbar": {
             "outlinewidth": 0,
             "ticks": ""
            },
            "colorscale": [
             [
              0,
              "#0d0887"
             ],
             [
              0.1111111111111111,
              "#46039f"
             ],
             [
              0.2222222222222222,
              "#7201a8"
             ],
             [
              0.3333333333333333,
              "#9c179e"
             ],
             [
              0.4444444444444444,
              "#bd3786"
             ],
             [
              0.5555555555555556,
              "#d8576b"
             ],
             [
              0.6666666666666666,
              "#ed7953"
             ],
             [
              0.7777777777777778,
              "#fb9f3a"
             ],
             [
              0.8888888888888888,
              "#fdca26"
             ],
             [
              1,
              "#f0f921"
             ]
            ],
            "type": "heatmapgl"
           }
          ],
          "histogram": [
           {
            "marker": {
             "pattern": {
              "fillmode": "overlay",
              "size": 10,
              "solidity": 0.2
             }
            },
            "type": "histogram"
           }
          ],
          "histogram2d": [
           {
            "colorbar": {
             "outlinewidth": 0,
             "ticks": ""
            },
            "colorscale": [
             [
              0,
              "#0d0887"
             ],
             [
              0.1111111111111111,
              "#46039f"
             ],
             [
              0.2222222222222222,
              "#7201a8"
             ],
             [
              0.3333333333333333,
              "#9c179e"
             ],
             [
              0.4444444444444444,
              "#bd3786"
             ],
             [
              0.5555555555555556,
              "#d8576b"
             ],
             [
              0.6666666666666666,
              "#ed7953"
             ],
             [
              0.7777777777777778,
              "#fb9f3a"
             ],
             [
              0.8888888888888888,
              "#fdca26"
             ],
             [
              1,
              "#f0f921"
             ]
            ],
            "type": "histogram2d"
           }
          ],
          "histogram2dcontour": [
           {
            "colorbar": {
             "outlinewidth": 0,
             "ticks": ""
            },
            "colorscale": [
             [
              0,
              "#0d0887"
             ],
             [
              0.1111111111111111,
              "#46039f"
             ],
             [
              0.2222222222222222,
              "#7201a8"
             ],
             [
              0.3333333333333333,
              "#9c179e"
             ],
             [
              0.4444444444444444,
              "#bd3786"
             ],
             [
              0.5555555555555556,
              "#d8576b"
             ],
             [
              0.6666666666666666,
              "#ed7953"
             ],
             [
              0.7777777777777778,
              "#fb9f3a"
             ],
             [
              0.8888888888888888,
              "#fdca26"
             ],
             [
              1,
              "#f0f921"
             ]
            ],
            "type": "histogram2dcontour"
           }
          ],
          "mesh3d": [
           {
            "colorbar": {
             "outlinewidth": 0,
             "ticks": ""
            },
            "type": "mesh3d"
           }
          ],
          "parcoords": [
           {
            "line": {
             "colorbar": {
              "outlinewidth": 0,
              "ticks": ""
             }
            },
            "type": "parcoords"
           }
          ],
          "pie": [
           {
            "automargin": true,
            "type": "pie"
           }
          ],
          "scatter": [
           {
            "fillpattern": {
             "fillmode": "overlay",
             "size": 10,
             "solidity": 0.2
            },
            "type": "scatter"
           }
          ],
          "scatter3d": [
           {
            "line": {
             "colorbar": {
              "outlinewidth": 0,
              "ticks": ""
             }
            },
            "marker": {
             "colorbar": {
              "outlinewidth": 0,
              "ticks": ""
             }
            },
            "type": "scatter3d"
           }
          ],
          "scattercarpet": [
           {
            "marker": {
             "colorbar": {
              "outlinewidth": 0,
              "ticks": ""
             }
            },
            "type": "scattercarpet"
           }
          ],
          "scattergeo": [
           {
            "marker": {
             "colorbar": {
              "outlinewidth": 0,
              "ticks": ""
             }
            },
            "type": "scattergeo"
           }
          ],
          "scattergl": [
           {
            "marker": {
             "colorbar": {
              "outlinewidth": 0,
              "ticks": ""
             }
            },
            "type": "scattergl"
           }
          ],
          "scattermapbox": [
           {
            "marker": {
             "colorbar": {
              "outlinewidth": 0,
              "ticks": ""
             }
            },
            "type": "scattermapbox"
           }
          ],
          "scatterpolar": [
           {
            "marker": {
             "colorbar": {
              "outlinewidth": 0,
              "ticks": ""
             }
            },
            "type": "scatterpolar"
           }
          ],
          "scatterpolargl": [
           {
            "marker": {
             "colorbar": {
              "outlinewidth": 0,
              "ticks": ""
             }
            },
            "type": "scatterpolargl"
           }
          ],
          "scatterternary": [
           {
            "marker": {
             "colorbar": {
              "outlinewidth": 0,
              "ticks": ""
             }
            },
            "type": "scatterternary"
           }
          ],
          "surface": [
           {
            "colorbar": {
             "outlinewidth": 0,
             "ticks": ""
            },
            "colorscale": [
             [
              0,
              "#0d0887"
             ],
             [
              0.1111111111111111,
              "#46039f"
             ],
             [
              0.2222222222222222,
              "#7201a8"
             ],
             [
              0.3333333333333333,
              "#9c179e"
             ],
             [
              0.4444444444444444,
              "#bd3786"
             ],
             [
              0.5555555555555556,
              "#d8576b"
             ],
             [
              0.6666666666666666,
              "#ed7953"
             ],
             [
              0.7777777777777778,
              "#fb9f3a"
             ],
             [
              0.8888888888888888,
              "#fdca26"
             ],
             [
              1,
              "#f0f921"
             ]
            ],
            "type": "surface"
           }
          ],
          "table": [
           {
            "cells": {
             "fill": {
              "color": "#EBF0F8"
             },
             "line": {
              "color": "white"
             }
            },
            "header": {
             "fill": {
              "color": "#C8D4E3"
             },
             "line": {
              "color": "white"
             }
            },
            "type": "table"
           }
          ]
         },
         "layout": {
          "annotationdefaults": {
           "arrowcolor": "#2a3f5f",
           "arrowhead": 0,
           "arrowwidth": 1
          },
          "autotypenumbers": "strict",
          "coloraxis": {
           "colorbar": {
            "outlinewidth": 0,
            "ticks": ""
           }
          },
          "colorscale": {
           "diverging": [
            [
             0,
             "#8e0152"
            ],
            [
             0.1,
             "#c51b7d"
            ],
            [
             0.2,
             "#de77ae"
            ],
            [
             0.3,
             "#f1b6da"
            ],
            [
             0.4,
             "#fde0ef"
            ],
            [
             0.5,
             "#f7f7f7"
            ],
            [
             0.6,
             "#e6f5d0"
            ],
            [
             0.7,
             "#b8e186"
            ],
            [
             0.8,
             "#7fbc41"
            ],
            [
             0.9,
             "#4d9221"
            ],
            [
             1,
             "#276419"
            ]
           ],
           "sequential": [
            [
             0,
             "#0d0887"
            ],
            [
             0.1111111111111111,
             "#46039f"
            ],
            [
             0.2222222222222222,
             "#7201a8"
            ],
            [
             0.3333333333333333,
             "#9c179e"
            ],
            [
             0.4444444444444444,
             "#bd3786"
            ],
            [
             0.5555555555555556,
             "#d8576b"
            ],
            [
             0.6666666666666666,
             "#ed7953"
            ],
            [
             0.7777777777777778,
             "#fb9f3a"
            ],
            [
             0.8888888888888888,
             "#fdca26"
            ],
            [
             1,
             "#f0f921"
            ]
           ],
           "sequentialminus": [
            [
             0,
             "#0d0887"
            ],
            [
             0.1111111111111111,
             "#46039f"
            ],
            [
             0.2222222222222222,
             "#7201a8"
            ],
            [
             0.3333333333333333,
             "#9c179e"
            ],
            [
             0.4444444444444444,
             "#bd3786"
            ],
            [
             0.5555555555555556,
             "#d8576b"
            ],
            [
             0.6666666666666666,
             "#ed7953"
            ],
            [
             0.7777777777777778,
             "#fb9f3a"
            ],
            [
             0.8888888888888888,
             "#fdca26"
            ],
            [
             1,
             "#f0f921"
            ]
           ]
          },
          "colorway": [
           "#636efa",
           "#EF553B",
           "#00cc96",
           "#ab63fa",
           "#FFA15A",
           "#19d3f3",
           "#FF6692",
           "#B6E880",
           "#FF97FF",
           "#FECB52"
          ],
          "font": {
           "color": "#2a3f5f"
          },
          "geo": {
           "bgcolor": "white",
           "lakecolor": "white",
           "landcolor": "#E5ECF6",
           "showlakes": true,
           "showland": true,
           "subunitcolor": "white"
          },
          "hoverlabel": {
           "align": "left"
          },
          "hovermode": "closest",
          "mapbox": {
           "style": "light"
          },
          "paper_bgcolor": "white",
          "plot_bgcolor": "#E5ECF6",
          "polar": {
           "angularaxis": {
            "gridcolor": "white",
            "linecolor": "white",
            "ticks": ""
           },
           "bgcolor": "#E5ECF6",
           "radialaxis": {
            "gridcolor": "white",
            "linecolor": "white",
            "ticks": ""
           }
          },
          "scene": {
           "xaxis": {
            "backgroundcolor": "#E5ECF6",
            "gridcolor": "white",
            "gridwidth": 2,
            "linecolor": "white",
            "showbackground": true,
            "ticks": "",
            "zerolinecolor": "white"
           },
           "yaxis": {
            "backgroundcolor": "#E5ECF6",
            "gridcolor": "white",
            "gridwidth": 2,
            "linecolor": "white",
            "showbackground": true,
            "ticks": "",
            "zerolinecolor": "white"
           },
           "zaxis": {
            "backgroundcolor": "#E5ECF6",
            "gridcolor": "white",
            "gridwidth": 2,
            "linecolor": "white",
            "showbackground": true,
            "ticks": "",
            "zerolinecolor": "white"
           }
          },
          "shapedefaults": {
           "line": {
            "color": "#2a3f5f"
           }
          },
          "ternary": {
           "aaxis": {
            "gridcolor": "white",
            "linecolor": "white",
            "ticks": ""
           },
           "baxis": {
            "gridcolor": "white",
            "linecolor": "white",
            "ticks": ""
           },
           "bgcolor": "#E5ECF6",
           "caxis": {
            "gridcolor": "white",
            "linecolor": "white",
            "ticks": ""
           }
          },
          "title": {
           "x": 0.05
          },
          "xaxis": {
           "automargin": true,
           "gridcolor": "white",
           "linecolor": "white",
           "ticks": "",
           "title": {
            "standoff": 15
           },
           "zerolinecolor": "white",
           "zerolinewidth": 2
          },
          "yaxis": {
           "automargin": true,
           "gridcolor": "white",
           "linecolor": "white",
           "ticks": "",
           "title": {
            "standoff": 15
           },
           "zerolinecolor": "white",
           "zerolinewidth": 2
          }
         }
        },
        "title": {
         "text": "Figuras"
        },
        "width": 900,
        "xaxis": {
         "anchor": "y",
         "domain": [
          0,
          0.2888888888888889
         ]
        },
        "xaxis2": {
         "anchor": "y2",
         "domain": [
          0.35555555555555557,
          0.6444444444444445
         ]
        },
        "xaxis3": {
         "anchor": "y3",
         "domain": [
          0.7111111111111111,
          1
         ]
        },
        "xaxis4": {
         "anchor": "y4",
         "domain": [
          0,
          0.2888888888888889
         ]
        },
        "xaxis5": {
         "anchor": "y5",
         "domain": [
          0.35555555555555557,
          0.6444444444444445
         ]
        },
        "xaxis6": {
         "anchor": "y6",
         "domain": [
          0.7111111111111111,
          1
         ]
        },
        "xaxis7": {
         "anchor": "y7",
         "domain": [
          0,
          0.2888888888888889
         ]
        },
        "xaxis8": {
         "anchor": "y8",
         "domain": [
          0.35555555555555557,
          0.6444444444444445
         ]
        },
        "xaxis9": {
         "anchor": "y9",
         "domain": [
          0.7111111111111111,
          1
         ]
        },
        "yaxis": {
         "anchor": "x",
         "domain": [
          0.7333333333333333,
          1
         ]
        },
        "yaxis2": {
         "anchor": "x2",
         "domain": [
          0.7333333333333333,
          1
         ]
        },
        "yaxis3": {
         "anchor": "x3",
         "domain": [
          0.7333333333333333,
          1
         ]
        },
        "yaxis4": {
         "anchor": "x4",
         "domain": [
          0.36666666666666664,
          0.6333333333333333
         ]
        },
        "yaxis5": {
         "anchor": "x5",
         "domain": [
          0.36666666666666664,
          0.6333333333333333
         ]
        },
        "yaxis6": {
         "anchor": "x6",
         "domain": [
          0.36666666666666664,
          0.6333333333333333
         ]
        },
        "yaxis7": {
         "anchor": "x7",
         "domain": [
          0,
          0.26666666666666666
         ]
        },
        "yaxis8": {
         "anchor": "x8",
         "domain": [
          0,
          0.26666666666666666
         ]
        },
        "yaxis9": {
         "anchor": "x9",
         "domain": [
          0,
          0.26666666666666666
         ]
        }
       }
      }
     },
     "metadata": {},
     "output_type": "display_data"
    }
   ],
   "source": [
    "from plotly.subplots import make_subplots\n",
    "import plotly.graph_objects as go\n",
    "\n",
    "fs = 3840\n",
    "dataset_plot = Form1Dataset(\n",
    "    dataset_dir, max_window_idx=max_window_idx, signal_name=signal_name, test=True\n",
    ")\n",
    "plot_dataloader = DataLoader(dataset_plot, batch_size=train_batch_size, shuffle=True)\n",
    "\n",
    "dataiter = iter(plot_dataloader)\n",
    "signal_windows, t_windows, labels, csv_name, index, window_idx = next(dataiter)\n",
    "print(len(csv_name))\n",
    "print(window_idx.shape)\n",
    "print(labels.shape)\n",
    "\n",
    "print(labels.type())\n",
    "x = model(signal_windows[0:9].to(device))\n",
    "# x = x.detach()\n",
    "\n",
    "# Crear Matriz de confusión\n",
    "df = confusion_matrix(x, labels[0:9])\n",
    "print(type(df))\n",
    "print(df)\n",
    "\n",
    "# figure = plt.figure(figsize=(10, 10))\n",
    "cols, rows = 3, 3\n",
    "fig = make_subplots(rows=rows, cols=cols)\n",
    "\n",
    "label_to_text = {\n",
    "    \"0\": \"No Fault\",\n",
    "    \"1\": \"Fault\",\n",
    "}\n",
    "\n",
    "for i in range(0, cols * rows):\n",
    "\n",
    "    col = i % cols\n",
    "    row = i // cols\n",
    "    label = label_to_text[str(int(labels[i, 0].item()))]\n",
    "    win_idx = str(window_idx[i].item())\n",
    "    fig.add_trace(\n",
    "        go.Scatter(\n",
    "            name=f\"{label} - {win_idx} - {csv_name[i]}\",\n",
    "            x=t_windows[i, :],\n",
    "            y=signal_windows[i, :, 0],\n",
    "            marker_color=\"black\",\n",
    "        ),\n",
    "        row=row + 1,\n",
    "        col=col + 1,\n",
    "    )\n",
    "\n",
    "fig.update_layout(\n",
    "    height=700,\n",
    "    width=900,\n",
    "    title_text=\"Figuras\",\n",
    "    margin={\"b\": 20, \"t\": 40, \"l\": 20, \"r\": 30},\n",
    "    plot_bgcolor=\"rgba(0,0,0,0)\",\n",
    "    # paper_bgcolor=\"whitesmoke\",\n",
    ")\n",
    "fig.show()\n"
   ]
  },
  {
   "attachments": {},
   "cell_type": "markdown",
   "metadata": {},
   "source": [
    "##### 6.3. Matlab Plots"
   ]
  },
  {
   "cell_type": "code",
   "execution_count": null,
   "metadata": {},
   "outputs": [],
   "source": [
    "dataset_plot = Form1Dataset(\n",
    "    dataset_dir, max_window_idx=max_window_idx, signal_name=signal_name, test=True\n",
    ")\n",
    "plot_dataloader = DataLoader(dataset_plot, batch_size=train_batch_size, shuffle=True)\n",
    "\n",
    "dataiter = iter(plot_dataloader)\n",
    "signal_windows, t_windows, labels, *_ = next(dataiter)\n",
    "fs = 3840\n",
    "\n",
    "x = model(signal_windows[1:10].to(device))\n",
    "x = x.detach()\n",
    "\n",
    "# Crear Matriz de confusión\n",
    "df = confussion_matrix(x, labels[1:10])\n",
    "print(df)\n",
    "\n",
    "figure = plt.figure(figsize=(10, 10))\n",
    "cols, rows = 3, 3\n",
    "for i in range(1, cols * rows + 1):\n",
    "    figure.add_subplot(rows, cols, i)\n",
    "    plt.plot(t_windows[i, :], signal_windows[i, :, 0])\n"
   ]
  },
  {
   "attachments": {},
   "cell_type": "markdown",
   "metadata": {},
   "source": [
    "### 7. References\n",
    "1. PyTorch Contributors: LSTM. [LSTM — PyTorch 1.13 documentation](https://pytorch.org/docs/stable/generated/torch.nn.LSTM.html).\n",
    "<!-- @online{LSTM,\n",
    "    author = \"{PyTorch Contributors}\",\n",
    "    title = \"LSTM\",\n",
    "    url  = \"https://pytorch.org/docs/stable/generated/torch.nn.LSTM.html\",\n",
    "    addendum = \"(accessed: 10.02.2023)\",\n",
    "    keywords = \"LSTM pytorch\"\n",
    "} -->"
   ]
  }
 ],
 "metadata": {
  "kernelspec": {
   "display_name": "env",
   "language": "python",
   "name": "python3"
  },
  "language_info": {
   "codemirror_mode": {
    "name": "ipython",
    "version": 3
   },
   "file_extension": ".py",
   "mimetype": "text/x-python",
   "name": "python",
   "nbconvert_exporter": "python",
   "pygments_lexer": "ipython3",
   "version": "3.9.13"
  },
  "orig_nbformat": 4,
  "vscode": {
   "interpreter": {
    "hash": "edf36f54e3c0d12e79cbfbdb2eab1260e125462eb03956a03e5e853a13b289dd"
   }
  }
 },
 "nbformat": 4,
 "nbformat_minor": 2
}
