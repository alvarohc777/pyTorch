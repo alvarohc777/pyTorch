{
 "cells": [
  {
   "attachments": {},
   "cell_type": "markdown",
   "metadata": {},
   "source": [
    "<center><h1 style:\"text-align:center;\">Formulación 1</h1></center>\n",
    "<center><h3>Relé 1</h3></center>"
   ]
  },
  {
   "attachments": {},
   "cell_type": "markdown",
   "metadata": {},
   "source": [
    "### 1. Imports"
   ]
  },
  {
   "cell_type": "code",
   "execution_count": 14,
   "metadata": {},
   "outputs": [],
   "source": [
    "import torch\n",
    "import torch.nn as nn\n",
    "from torch.utils.data import Dataset, DataLoader, random_split\n",
    "import numpy as np\n",
    "import pandas as pd\n",
    "import matplotlib.pyplot as plt\n",
    "\n",
    "# Acceder al sistema operativo\n",
    "import os\n",
    "import glob\n",
    "import shutil\n",
    "import random"
   ]
  },
  {
   "attachments": {},
   "cell_type": "markdown",
   "metadata": {},
   "source": [
    "### 2. Model Parameters"
   ]
  },
  {
   "cell_type": "code",
   "execution_count": 15,
   "metadata": {},
   "outputs": [
    {
     "name": "stdout",
     "output_type": "stream",
     "text": [
      "cpu\n"
     ]
    }
   ],
   "source": [
    "# LSTM parameters\n",
    "hidden_dim = 20\n",
    "n_signals = 1\n",
    "N = 64\n",
    "\n",
    "# _batch_size => m in figure 1.\n",
    "train_batch_size = 64\n",
    "dev_batch_size = 16\n",
    "test_batch_size = 16\n",
    "\n",
    "# Classification type (binary)\n",
    "tagset_size = 1\n",
    "\n",
    "# Set\n",
    "device = \"cuda\" if torch.cuda.is_available() else \"cpu\"\n",
    "print(device)"
   ]
  },
  {
   "attachments": {},
   "cell_type": "markdown",
   "metadata": {},
   "source": [
    "### 3. Model Creation"
   ]
  },
  {
   "attachments": {},
   "cell_type": "markdown",
   "metadata": {},
   "source": [
    "##### 3.1. FaultDetector Class Creation"
   ]
  },
  {
   "cell_type": "code",
   "execution_count": 16,
   "metadata": {},
   "outputs": [],
   "source": [
    "# Model Creation\n",
    "\n",
    "\n",
    "class FaultDetector(nn.Module):\n",
    "    \"\"\"Some Information about FaultDetector\"\"\"\n",
    "\n",
    "    def __init__(self, N, hidden_dim, tagset_size):\n",
    "        super(FaultDetector, self).__init__()\n",
    "        self.lstm = nn.LSTM(N, hidden_dim, batch_first=True)\n",
    "        self.fc = nn.Linear(hidden_dim, tagset_size)\n",
    "\n",
    "    def forward(self, x):\n",
    "        lstm_out, _ = self.lstm(x)\n",
    "        fc_layer = self.fc(lstm_out[:, -1, :])\n",
    "\n",
    "        return torch.sigmoid(fc_layer)\n"
   ]
  },
  {
   "attachments": {},
   "cell_type": "markdown",
   "metadata": {},
   "source": [
    "##### 3.2. Model Instance Initialization"
   ]
  },
  {
   "cell_type": "code",
   "execution_count": 17,
   "metadata": {},
   "outputs": [
    {
     "name": "stdout",
     "output_type": "stream",
     "text": [
      "Model structure: FaultDetector(\n",
      "  (lstm): LSTM(1, 20, batch_first=True)\n",
      "  (fc): Linear(in_features=20, out_features=1, bias=True)\n",
      ")\n",
      "\n",
      "Number of parameters: 1861\n"
     ]
    }
   ],
   "source": [
    "model = FaultDetector(n_signals, hidden_dim, tagset_size).to(device)\n",
    "loss_fn = nn.BCELoss()\n",
    "optimizer = torch.optim.Adam(model.parameters(), lr=1e-2)\n",
    "\n",
    "# Learning rate decay (optional)\n",
    "decayRate = 0.96\n",
    "my_lr_scheduler = torch.optim.lr_scheduler.ExponentialLR(\n",
    "    optimizer=optimizer, gamma=decayRate\n",
    ")\n",
    "\n",
    "print(f\"Model structure: {model}\\n\")\n",
    "\n",
    "# Number of parameters\n",
    "model_parameters = filter(lambda p: p.requires_grad, model.parameters())\n",
    "params = sum([np.prod(p.size()) for p in model_parameters])\n",
    "print(f\"Number of parameters: {params}\")"
   ]
  },
  {
   "attachments": {},
   "cell_type": "markdown",
   "metadata": {},
   "source": [
    "### 4. Dataset Creation"
   ]
  },
  {
   "attachments": {},
   "cell_type": "markdown",
   "metadata": {},
   "source": [
    "##### 4.1. Dataset Class Creation"
   ]
  },
  {
   "cell_type": "code",
   "execution_count": 18,
   "metadata": {},
   "outputs": [],
   "source": [
    "from utils.signalload import CSV_pandas_path\n",
    "from utils.auxfunctions import moving_window\n",
    "import numpy as np\n",
    "from itertools import repeat\n",
    "\n",
    "\n",
    "class Form1Dataset(torch.utils.data.Dataset):\n",
    "    \"\"\"Some Information about Form1Dataset\"\"\"\n",
    "\n",
    "    def __init__(\n",
    "        self,\n",
    "        dataset_dir,\n",
    "        signal_name,\n",
    "        max_window_idx=193,\n",
    "        window_length=64,\n",
    "        step=1,\n",
    "        test=False,\n",
    "    ):\n",
    "        super(Form1Dataset, self).__init__()\n",
    "        self.max_window_idx = max_window_idx\n",
    "        self.test = test\n",
    "        self.signal_name = signal_name\n",
    "\n",
    "        self.csv_list = glob.glob(f\"{dataset_dir}*.csv\")\n",
    "        self.csv_amount = len(self.csv_list)\n",
    "        self.windows_amount = max_window_idx * self.csv_amount\n",
    "        self.window_length = window_length\n",
    "        self.step = step\n",
    "\n",
    "    def __getitem__(self, index):\n",
    "\n",
    "        # sample_settings\n",
    "        window_length = self.window_length\n",
    "        step = self.step\n",
    "\n",
    "        # Calculate window_idx and file name\n",
    "        window_idx = index % self.max_window_idx\n",
    "        csv_idx = index // self.max_window_idx\n",
    "        csv_full_path = self.csv_list[csv_idx]\n",
    "\n",
    "        # Load CSV, signal and create windows\n",
    "        csv_name = os.path.basename(csv_full_path)\n",
    "        signal, t, _ = CSV_pandas_path(csv_full_path).load_data(self.signal_name)\n",
    "        signal_windows, t_windows = list(\n",
    "            map(moving_window, [signal, t], repeat(window_length), repeat(step))\n",
    "        )\n",
    "\n",
    "        # select window\n",
    "\n",
    "        signal_window = signal_windows[window_idx]\n",
    "        signal_window = np.expand_dims(signal_window, axis=1)\n",
    "        t_window = t_windows[window_idx]\n",
    "\n",
    "        # create labels\n",
    "        if window_idx < 66:\n",
    "            label = np.array([0])\n",
    "        else:\n",
    "            label = np.array([1])\n",
    "\n",
    "        # For dataset visualization return following information\n",
    "        signal_window = torch.from_numpy(np.copy(signal_window)).float()\n",
    "        label = torch.from_numpy(label).float()\n",
    "        if self.test == True:\n",
    "            return signal_window, t_window, label, csv_name, index, window_idx\n",
    "\n",
    "        # For training only signals and labels are required\n",
    "        \n",
    "        return signal_window, label\n",
    "\n",
    "    def __len__(self):\n",
    "        return self.csv_amount * self.max_window_idx"
   ]
  },
  {
   "attachments": {},
   "cell_type": "markdown",
   "metadata": {},
   "source": [
    "##### 4.2. Database Directory Creation "
   ]
  },
  {
   "cell_type": "code",
   "execution_count": 52,
   "metadata": {},
   "outputs": [
    {
     "name": "stdout",
     "output_type": "stream",
     "text": [
      "copying 54 files...\n",
      "finished\n",
      "Available Relays (current):\n",
      "I: X0038A-X0043A\n",
      "I: X0038B-X0043B\n",
      "I: X0038C-X0043C\n",
      "I: X0048A-X0053A\n",
      "I: X0048B-X0053B\n",
      "I: X0048C-X0053C\n",
      "I: X0060A-X0065A\n",
      "I: X0060B-X0065B\n",
      "I: X0060C-X0065C\n",
      "I: X0066A-X0067A\n",
      "I: X0066B-X0067B\n",
      "I: X0066C-X0067C\n",
      "I: X0023A-R1A\n",
      "I: X0023B-R1B\n",
      "I: X0023C-R1C\n",
      "I: X0004A-R2A\n",
      "I: X0004B-R2B\n",
      "I: X0004C-R2C\n",
      "I: X0071A-R3A\n",
      "I: X0071B-R3B\n",
      "I: X0071C-R3C\n"
     ]
    }
   ],
   "source": [
    "# Creating Dataset Folders\n",
    "\n",
    "dataset_dir_full = \"C:/Users/aherrada/OneDrive - Universidad del Norte/Uninorte/DetectionDataBase/LSTM_form_1/fault_01/\"\n",
    "dataset_dir = \"C:/Users/aherrada/OneDrive - Universidad del Norte/Uninorte/DetectionDataBase/LSTM_form_1/R1/\"\n",
    "\n",
    "max_window_idx = 130\n",
    "n_events = 54\n",
    "\n",
    "\n",
    "def dataset_creator(source_path, target_path, signal_list=False):\n",
    "    csv_list = glob.glob(f\"{source_path}*.csv\")\n",
    "    if not os.path.isdir(target_path):\n",
    "        print(\"creating\")\n",
    "        os.makedirs(target_path)\n",
    "    else:\n",
    "        file_list = glob.glob(f\"{target_path}*.csv\")\n",
    "        for file in file_list:\n",
    "            os.remove(file)\n",
    "    csv_list = random.sample(csv_list, n_events)\n",
    "    print(f\"copying {len(csv_list)} files...\")\n",
    "    for csv in csv_list:\n",
    "        source_path = csv\n",
    "        target_path = target_path\n",
    "        shutil.copy(source_path, target_path)\n",
    "    print(\"finished\")\n",
    "    print(\"Available Relays (current):\")\n",
    "    if signal_list == True:\n",
    "        CSV_pandas_path(csv_list[0]).relay_list()\n",
    "\n",
    "\n",
    "# Crear los 3 Datasets para entrenar los relés individualmente\n",
    "dataset_creator(dataset_dir_full, dataset_dir, signal_list=True)\n"
   ]
  },
  {
   "attachments": {},
   "cell_type": "markdown",
   "metadata": {},
   "source": [
    "##### 4.3. Dataset and Dataloader Instances Creation"
   ]
  },
  {
   "cell_type": "code",
   "execution_count": 53,
   "metadata": {},
   "outputs": [],
   "source": [
    "# Load Dataset\n",
    "signal_name = \"I: X0023A-R1A\"\n",
    "# signal_name = \"I: X0071A-R3A\"\n",
    "\n",
    "dataset = Form1Dataset(\n",
    "    dataset_dir, max_window_idx=max_window_idx, signal_name=signal_name\n",
    ")\n",
    "train_dataset, test_dataset = random_split(dataset, [0.95, 0.05])\n",
    "train_dataloader = DataLoader(train_dataset, batch_size=train_batch_size, shuffle=True)\n",
    "test_dataloader = DataLoader(test_dataset, batch_size=test_batch_size, shuffle=True)\n",
    "# EL test set realmente es un dev set\n",
    "# Como regla general, si es utilizado dentro del loop es un dev set.\n"
   ]
  },
  {
   "attachments": {},
   "cell_type": "markdown",
   "metadata": {},
   "source": [
    "### 5. Model Training\n"
   ]
  },
  {
   "attachments": {},
   "cell_type": "markdown",
   "metadata": {},
   "source": [
    "##### 5.1. Train / Test(dev) Loop Creation"
   ]
  },
  {
   "cell_type": "code",
   "execution_count": 56,
   "metadata": {},
   "outputs": [],
   "source": [
    "# Create Training / Test / Validation Loops\n",
    "\n",
    "# Training\n",
    "def train(dataloader, model, loss_fn, optimizer, return_loss = False):\n",
    "    size = len(dataloader.dataset)\n",
    "    model.train()\n",
    "    loss_list = []\n",
    "    for batch, (x, y) in enumerate(dataloader):\n",
    "        x, y = x.to(device), y.to(device)\n",
    "\n",
    "        # Compute prediction error\n",
    "        pred = model(x)\n",
    "        loss = loss_fn(pred, y)\n",
    "\n",
    "        # Backpropagation\n",
    "        optimizer.zero_grad()\n",
    "        loss.backward()\n",
    "        optimizer.step()\n",
    "        if return_loss == True:\n",
    "            loss_list.append(loss.item())\n",
    "        if batch % 2 == 0:\n",
    "            loss, current = loss.item(), batch * len(x)\n",
    "            print(f\"loss: {loss:>f} [{current:>5d}/{size:>5d}]\")\n",
    "\n",
    "        if batch % 5 == 0:\n",
    "            my_lr_scheduler.step()\n",
    "    if return_loss == True:\n",
    "        return loss_list\n",
    "\n",
    "\n",
    "\n",
    "def test(dataloader, model, loss_fn, return_metrics=False):\n",
    "    size = len(dataloader.dataset)\n",
    "    num_batches = len(dataloader)\n",
    "    model.eval()\n",
    "    test_loss, correct = 0, 0\n",
    "    with torch.no_grad():\n",
    "        for x, y in dataloader:\n",
    "            \n",
    "            x, y = x.to(device), y.to(device)\n",
    "            pred = model(x)\n",
    "            test_loss += loss_fn(pred, y).item()\n",
    "            correct += (torch.round(pred) == y).type(torch.float).sum().item()\n",
    "    test_loss /= num_batches\n",
    "    correct /= size\n",
    "    print(\n",
    "        f\"Test Error: \\n Accuracy: {(100*correct):>0.1f}%, Avg loss: {test_loss:>8f} \\n\"\n",
    "    )\n",
    "    if return_metrics==True:\n",
    "        return correct*100, test_loss\n"
   ]
  },
  {
   "attachments": {},
   "cell_type": "markdown",
   "metadata": {},
   "source": [
    "##### 5.2. Training the model"
   ]
  },
  {
   "cell_type": "code",
   "execution_count": 60,
   "metadata": {},
   "outputs": [
    {
     "name": "stdout",
     "output_type": "stream",
     "text": [
      "Epoch 1\n",
      "--------------------------------\n",
      "Test Error: \n",
      " Accuracy: 97.7%, Avg loss: 0.089033 \n",
      "\n"
     ]
    }
   ],
   "source": [
    "epochs = 1\n",
    "for epoch in range(epochs):\n",
    "    \n",
    "    print(f\"Epoch {epoch+1}\\n--------------------------------\")\n",
    "    # train_loss = train(train_dataloader, model, loss_fn, optimizer, return_loss=True)\n",
    "    accuracy, _ = test(test_dataloader, model, loss_fn, return_metrics=True)"
   ]
  },
  {
   "attachments": {},
   "cell_type": "markdown",
   "metadata": {},
   "source": [
    "##### 5.3. Loss visualization"
   ]
  },
  {
   "cell_type": "code",
   "execution_count": 10,
   "metadata": {},
   "outputs": [
    {
     "data": {
      "text/plain": [
       "[<matplotlib.lines.Line2D at 0x25936fe8460>,\n",
       " <matplotlib.lines.Line2D at 0x25936fe84c0>]"
      ]
     },
     "execution_count": 10,
     "metadata": {},
     "output_type": "execute_result"
    },
    {
     "data": {
      "image/png": "[encoded data removed]",
      "text/plain": [
       "<Figure size 640x480 with 1 Axes>"
      ]
     },
     "metadata": {},
     "output_type": "display_data"
    }
   ],
   "source": [
    "mini_batch_list = [index for index, _ in enumerate(train_loss)]\n",
    "train_loss_ewm = pd.DataFrame(train_loss).ewm(com=0.95).mean()\n",
    "plt.plot(mini_batch_list, train_loss, mini_batch_list, train_loss_ewm)"
   ]
  },
  {
   "attachments": {},
   "cell_type": "markdown",
   "metadata": {},
   "source": [
    "##### 5.4. Saving the Model"
   ]
  },
  {
   "cell_type": "code",
   "execution_count": 59,
   "metadata": {},
   "outputs": [
    {
     "data": {
      "text/plain": [
       "<All keys matched successfully>"
      ]
     },
     "execution_count": 59,
     "metadata": {},
     "output_type": "execute_result"
    }
   ],
   "source": [
    "# # Save the Model\n",
    "# torch.save(model.state_dict(), './models/LSTMHarmonic_weights_989.pth')\n",
    "model.load_state_dict(torch.load('./models/LSTMHarmonic_weights_R1_989.pth'))"
   ]
  },
  {
   "attachments": {},
   "cell_type": "markdown",
   "metadata": {},
   "source": [
    "### 6. Results Visualization\n"
   ]
  },
  {
   "attachments": {},
   "cell_type": "markdown",
   "metadata": {},
   "source": [
    "#### 6.1. Confussion Matrix Results Table Function"
   ]
  },
  {
   "cell_type": "code",
   "execution_count": 11,
   "metadata": {},
   "outputs": [],
   "source": [
    "# Data visualization (CPU)\n",
    "\n",
    "\n",
    "def confussion_matrix_labels(pred_label, true_label):\n",
    "    label = \"\"\n",
    "    if int(pred_label) == int(true_label):\n",
    "        label += \"True\"\n",
    "    else:\n",
    "        label += \"False\"\n",
    "    if pred_label == 1:\n",
    "        label += \" positive\"\n",
    "    else:\n",
    "        label += \" negative\"\n",
    "    return label\n",
    "\n",
    "\n",
    "def confussion_matrix(x, labels):\n",
    "    data = {\n",
    "        \"Pred probability\": torch.reshape(x, (-1,)).numpy(),\n",
    "        \"Pred label\": torch.reshape(torch.round(x), (-1,)).int().numpy(),\n",
    "        \"True label\": torch.reshape(labels, (-1,)).int().numpy(),\n",
    "    }\n",
    "    df = pd.DataFrame(data)\n",
    "    df[\"prueba\"] = confussion_matrix_pandas(df[\"Pred label\"], df[\"True label\"])\n",
    "    return df\n",
    "\n",
    "\n",
    "confussion_matrix_pandas = np.vectorize(confussion_matrix_labels)\n"
   ]
  },
  {
   "attachments": {},
   "cell_type": "markdown",
   "metadata": {},
   "source": [
    "##### 6.2. Plotly Plot"
   ]
  },
  {
   "cell_type": "code",
   "execution_count": 29,
   "metadata": {},
   "outputs": [
    {
     "name": "stdout",
     "output_type": "stream",
     "text": [
      "   Pred probability  Pred label  True label          prueba\n",
      "0          0.039423           0           0   True negative\n",
      "1          0.948684           1           1   True positive\n",
      "2          0.031107           0           1  False negative\n",
      "3          0.020711           0           0   True negative\n",
      "4          0.964334           1           1   True positive\n",
      "5          0.965793           1           1   True positive\n",
      "6          0.949100           1           1   True positive\n",
      "7          0.964806           1           1   True positive\n",
      "8          0.023677           0           0   True negative\n"
     ]
    },
    {
     "data": {
      "application/vnd.plotly.v1+json": {
       "config": {
        "plotlyServerURL": "https://plot.ly"
       },
       "data": [
        {
         "marker": {
          "color": "black"
         },
         "name": "0",
         "type": "scatter",
         "x": [
          0.0054684,
          0.0057288,
          0.0059892,
          0.0062496,
          0.00651,
          0.0067704,
          0.0070308,
          0.0072912,
          0.0075516,
          0.007812,
          0.0080724,
          0.0083328,
          0.0085932,
          0.0088536,
          0.009114,
          0.0093744,
          0.0096348,
          0.0098952,
          0.0101556,
          0.010416,
          0.0106764,
          0.0109368,
          0.0111972,
          0.0114576,
          0.011718,
          0.0119784,
          0.0122388,
          0.0124992,
          0.0127596,
          0.01302,
          0.0132804,
          0.0135408,
          0.0138012,
          0.0140616,
          0.014322,
          0.0145824,
          0.0148428,
          0.0151032,
          0.0153636,
          0.015624,
          0.0158844,
          0.0161448,
          0.0164052,
          0.0166656,
          0.016926,
          0.0171864,
          0.0174468,
          0.0177072,
          0.0179676,
          0.018228,
          0.0184884,
          0.0187488,
          0.0190092,
          0.0192696,
          0.01953,
          0.0197904,
          0.0200508,
          0.0203112,
          0.0205716,
          0.020832,
          0.0210924,
          0.0213528,
          0.0216132,
          0.0218736
         ],
         "xaxis": "x",
         "y": [
          37.17397689819336,
          34.60152053833008,
          32.94939041137695,
          31.946474075317383,
          29.687118530273438,
          25.297821044921875,
          19.7392578125,
          14.763827323913574,
          11.286222457885742,
          9.177760124206543,
          6.019651412963867,
          1.3464909791946411,
          -4.5587873458862305,
          -9.889196395874023,
          -13.543620109558105,
          -16.07176971435547,
          -18.759952545166016,
          -22.759538650512695,
          -27.497583389282227,
          -31.46237564086914,
          -33.90772247314453,
          -35.42741012573242,
          -37.09206008911133,
          -39.314205169677734,
          -41.403038024902344,
          -42.84326934814453,
          -43.31969451904297,
          -43.22126388549805,
          -42.77259063720703,
          -42.19687271118164,
          -41.28034210205078,
          -40.14479446411133,
          -38.404178619384766,
          -36.44792556762695,
          -33.721290588378906,
          -30.595172882080078,
          -27.262184143066406,
          -24.219436645507812,
          -21.032865524291992,
          -17.290071487426758,
          -12.97098159790039,
          -8.637221336364746,
          -4.3035664558410645,
          -0.42472001910209656,
          3.447009325027466,
          7.340391635894775,
          11.580400466918945,
          15.746004104614258,
          19.71589469909668,
          23.13287925720215,
          26.3917293548584,
          29.386545181274414,
          32.3650016784668,
          34.97218704223633,
          37.38008499145508,
          39.145015716552734,
          40.66120910644531,
          41.601749420166016,
          42.49052429199219,
          42.85255432128906,
          42.8641242980957,
          42.19620132446289,
          41.19679641723633,
          39.83061599731445
         ],
         "yaxis": "y"
        },
        {
         "marker": {
          "color": "black"
         },
         "name": "1",
         "type": "scatter",
         "x": [
          0.0203112,
          0.0205716,
          0.020832,
          0.0210924,
          0.0213528,
          0.0216132,
          0.0218736,
          0.022134,
          0.0223944,
          0.0226548,
          0.0229152,
          0.0231756,
          0.023436,
          0.0236964,
          0.0239568,
          0.0242172,
          0.0244776,
          0.024738,
          0.0249984,
          0.0252588,
          0.0255192,
          0.0257796,
          0.02604,
          0.0263004,
          0.0265608,
          0.0268212,
          0.0270816,
          0.027342,
          0.0276024,
          0.0278628,
          0.0281232,
          0.0283836,
          0.028644,
          0.0289044,
          0.0291648,
          0.0294252,
          0.0296856,
          0.029946,
          0.0302064,
          0.0304668,
          0.0307272,
          0.0309876,
          0.031248,
          0.0315084,
          0.0317688,
          0.0320292,
          0.0322896,
          0.03255,
          0.0328104,
          0.0330708,
          0.0333312,
          0.0335916,
          0.033852,
          0.0341124,
          0.0343728,
          0.0346332,
          0.0348936,
          0.035154,
          0.0354144,
          0.0356748,
          0.0359352,
          0.0361956,
          0.036456,
          0.0367164
         ],
         "xaxis": "x2",
         "y": [
          22.06846809387207,
          18.34040069580078,
          14.41164493560791,
          10.307814598083496,
          6.225399017333984,
          1.9366978406906128,
          -2.1512911319732666,
          -6.34948205947876,
          -10.456759452819824,
          -14.495267868041992,
          -18.285749435424805,
          -22.00652313232422,
          -25.56773567199707,
          -28.917537689208984,
          -31.861356735229492,
          -34.456626892089844,
          -36.816280364990234,
          -38.89676284790039,
          -40.60441207885742,
          -41.85002136230469,
          -42.7197151184082,
          -43.14673614501953,
          -43.26359558105469,
          -42.8148193359375,
          -42.01115417480469,
          -40.69135665893555,
          -39.12514114379883,
          -37.20425033569336,
          -35.03093338012695,
          -32.23595428466797,
          -29.172626495361328,
          -25.919260025024414,
          -22.468990325927734,
          -18.71233367919922,
          -14.670169830322266,
          -10.567307472229004,
          -6.49786901473999,
          -2.2837679386138916,
          1.8125848770141602,
          6.034600257873535,
          10.18287467956543,
          14.26264762878418,
          18.111770629882812,
          21.776643753051758,
          25.383129119873047,
          28.7401065826416,
          31.787586212158203,
          34.43523406982422,
          36.788909912109375,
          38.95091247558594,
          40.63027572631836,
          133.14332580566406,
          242.20152282714844,
          323.74334716796875,
          413.21478271484375,
          491.4515380859375,
          570.0979614257812,
          617.326416015625,
          650.6414794921875,
          680.5942993164062,
          715.6922607421875,
          725.8569946289062,
          708.023193359375,
          691.1431884765625
         ],
         "yaxis": "y2"
        },
        {
         "marker": {
          "color": "black"
         },
         "name": "2",
         "type": "scatter",
         "x": [
          0.0174468,
          0.0177072,
          0.0179676,
          0.018228,
          0.0184884,
          0.0187488,
          0.0190092,
          0.0192696,
          0.01953,
          0.0197904,
          0.0200508,
          0.0203112,
          0.0205716,
          0.020832,
          0.0210924,
          0.0213528,
          0.0216132,
          0.0218736,
          0.022134,
          0.0223944,
          0.0226548,
          0.0229152,
          0.0231756,
          0.023436,
          0.0236964,
          0.0239568,
          0.0242172,
          0.0244776,
          0.024738,
          0.0249984,
          0.0252588,
          0.0255192,
          0.0257796,
          0.02604,
          0.0263004,
          0.0265608,
          0.0268212,
          0.0270816,
          0.027342,
          0.0276024,
          0.0278628,
          0.0281232,
          0.0283836,
          0.028644,
          0.0289044,
          0.0291648,
          0.0294252,
          0.0296856,
          0.029946,
          0.0302064,
          0.0304668,
          0.0307272,
          0.0309876,
          0.031248,
          0.0315084,
          0.0317688,
          0.0320292,
          0.0322896,
          0.03255,
          0.0328104,
          0.0330708,
          0.0333312,
          0.0335916,
          0.033852
         ],
         "xaxis": "x3",
         "y": [
          13.33613109588623,
          9.089591026306152,
          4.908533573150635,
          0.9656088352203369,
          -2.9253201484680176,
          -6.98521614074707,
          -11.317974090576172,
          -15.43677806854248,
          -19.418777465820312,
          -22.73966407775879,
          -26.149160385131836,
          -29.256195068359375,
          -32.37230682373047,
          -34.99515914916992,
          -37.358428955078125,
          -39.20472717285156,
          -40.7559928894043,
          -41.89084243774414,
          -42.77029800415039,
          -43.19382858276367,
          -43.202125549316406,
          -42.60984802246094,
          -41.717071533203125,
          -40.36335754394531,
          -38.7269401550293,
          -36.80968475341797,
          -34.45613098144531,
          -31.671749114990234,
          -28.448637008666992,
          -25.269058227539062,
          -21.718793869018555,
          -17.883441925048828,
          -13.732819557189941,
          -9.626703262329102,
          -5.55012321472168,
          -1.4022141695022583,
          2.7851572036743164,
          7.034245014190674,
          11.291367530822754,
          15.2290678024292,
          19.13311004638672,
          22.69806671142578,
          26.33456039428711,
          29.648944854736328,
          32.65326690673828,
          35.241512298583984,
          37.545616149902344,
          39.559574127197266,
          41.25320053100586,
          42.43668746948242,
          43.30295944213867,
          43.648704528808594,
          43.72171401977539,
          43.15425491333008,
          42.27699279785156,
          40.89405059814453,
          39.24799728393555,
          37.31309509277344,
          34.98146438598633,
          32.113040924072266,
          28.89109230041504,
          25.577896118164062,
          21.783039093017578,
          10.14130687713623
         ],
         "yaxis": "y3"
        },
        {
         "marker": {
          "color": "black"
         },
         "name": "3",
         "type": "scatter",
         "x": [
          0.002604,
          0.0028644,
          0.0031248,
          0.0033852,
          0.0036456,
          0.003906,
          0.0041664,
          0.0044268,
          0.0046872,
          0.0049476,
          0.005208,
          0.0054684,
          0.0057288,
          0.0059892,
          0.0062496,
          0.00651,
          0.0067704,
          0.0070308,
          0.0072912,
          0.0075516,
          0.007812,
          0.0080724,
          0.0083328,
          0.0085932,
          0.0088536,
          0.009114,
          0.0093744,
          0.0096348,
          0.0098952,
          0.0101556,
          0.010416,
          0.0106764,
          0.0109368,
          0.0111972,
          0.0114576,
          0.011718,
          0.0119784,
          0.0122388,
          0.0124992,
          0.0127596,
          0.01302,
          0.0132804,
          0.0135408,
          0.0138012,
          0.0140616,
          0.014322,
          0.0145824,
          0.0148428,
          0.0151032,
          0.0153636,
          0.015624,
          0.0158844,
          0.0161448,
          0.0164052,
          0.0166656,
          0.016926,
          0.0171864,
          0.0174468,
          0.0177072,
          0.0179676,
          0.018228,
          0.0184884,
          0.0187488,
          0.0190092
         ],
         "xaxis": "x4",
         "y": [
          -28.501083374023438,
          -26.78269386291504,
          -25.0676212310791,
          -21.243499755859375,
          -15.608309745788574,
          -9.08664608001709,
          -4.521130084991455,
          -1.4735612869262695,
          0.6664493083953857,
          4.826340675354004,
          10.234710693359375,
          15.913724899291992,
          19.715595245361328,
          22.642532348632812,
          25.132455825805664,
          28.268104553222656,
          31.78912353515625,
          35.31812286376953,
          37.755828857421875,
          39.32345962524414,
          40.15809631347656,
          41.36084747314453,
          42.48719024658203,
          43.2850227355957,
          43.565425872802734,
          43.03607177734375,
          41.75196838378906,
          39.89652633666992,
          38.1329345703125,
          36.81044387817383,
          35.14326477050781,
          32.51112365722656,
          28.840030670166016,
          25.058706283569336,
          21.35137939453125,
          18.048404693603516,
          14.667084693908691,
          10.940345764160156,
          6.523663520812988,
          1.6628865003585815,
          -2.7314393520355225,
          -6.490321636199951,
          -10.083331108093262,
          -13.756672859191895,
          -17.811674118041992,
          -21.86092185974121,
          -25.665176391601562,
          -28.883169174194336,
          -31.39788246154785,
          -33.763492584228516,
          -36.26343536376953,
          -38.66925048828125,
          -40.52201843261719,
          -41.5587272644043,
          -42.36280822753906,
          -42.6767578125,
          -43.013587951660156,
          -42.570884704589844,
          -41.89687728881836,
          -40.63051223754883,
          -38.99713897705078,
          -37.06958770751953,
          -34.922515869140625,
          -32.21530532836914
         ],
         "yaxis": "y4"
        },
        {
         "marker": {
          "color": "black"
         },
         "name": "4",
         "type": "scatter",
         "x": [
          0.0244776,
          0.024738,
          0.0249984,
          0.0252588,
          0.0255192,
          0.0257796,
          0.02604,
          0.0263004,
          0.0265608,
          0.0268212,
          0.0270816,
          0.027342,
          0.0276024,
          0.0278628,
          0.0281232,
          0.0283836,
          0.028644,
          0.0289044,
          0.0291648,
          0.0294252,
          0.0296856,
          0.029946,
          0.0302064,
          0.0304668,
          0.0307272,
          0.0309876,
          0.031248,
          0.0315084,
          0.0317688,
          0.0320292,
          0.0322896,
          0.03255,
          0.0328104,
          0.0330708,
          0.0333312,
          0.0335916,
          0.033852,
          0.0341124,
          0.0343728,
          0.0346332,
          0.0348936,
          0.035154,
          0.0354144,
          0.0356748,
          0.0359352,
          0.0361956,
          0.036456,
          0.0367164,
          0.0369768,
          0.0372372,
          0.0374976,
          0.037758,
          0.0380184,
          0.0382788,
          0.0385392,
          0.0387996,
          0.03906,
          0.0393204,
          0.0395808,
          0.0398412,
          0.0401016,
          0.040362,
          0.0406224,
          0.0408828
         ],
         "xaxis": "x5",
         "y": [
          -39.54315948486328,
          -37.65876007080078,
          -35.60103225708008,
          -32.83638000488281,
          -29.860946655273438,
          -26.550506591796875,
          -23.222484588623047,
          -19.54364776611328,
          -15.573537826538086,
          -11.348267555236816,
          -7.210482120513916,
          -3.0092787742614746,
          1.0481101274490356,
          5.236833572387695,
          9.441895484924316,
          13.618627548217773,
          17.514009475708008,
          21.304752349853516,
          24.856489181518555,
          28.280136108398438,
          31.373945236206055,
          34.155029296875,
          36.599613189697266,
          38.811126708984375,
          40.52512741088867,
          41.986000061035156,
          42.903480529785156,
          43.538143157958984,
          43.7210578918457,
          43.40426254272461,
          42.63621520996094,
          41.50938415527344,
          39.95009231567383,
          38.09954071044922,
          35.950618743896484,
          33.91061019897461,
          38.35421371459961,
          33.174930572509766,
          23.793174743652344,
          15.552718162536621,
          0.4961656928062439,
          -12.65791130065918,
          -24.77532958984375,
          -43.36958694458008,
          -60.63700485229492,
          -75.73607635498047,
          -92.44792175292969,
          -107.74627685546875,
          -123.13981628417969,
          -139.69190979003906,
          -151.84474182128906,
          -163.0592803955078,
          -175.05589294433594,
          -184.64869689941406,
          -192.4580078125,
          -198.0217742919922,
          -201.0834503173828,
          -204.15638732910156,
          -204.9326171875,
          -202.74801635742188,
          -198.6154327392578,
          -193.021240234375,
          -185.8766326904297,
          -176.99729919433594
         ],
         "yaxis": "y5"
        },
        {
         "marker": {
          "color": "black"
         },
         "name": "5",
         "type": "scatter",
         "x": [
          0.0320292,
          0.0322896,
          0.03255,
          0.0328104,
          0.0330708,
          0.0333312,
          0.0335916,
          0.033852,
          0.0341124,
          0.0343728,
          0.0346332,
          0.0348936,
          0.035154,
          0.0354144,
          0.0356748,
          0.0359352,
          0.0361956,
          0.036456,
          0.0367164,
          0.0369768,
          0.0372372,
          0.0374976,
          0.037758,
          0.0380184,
          0.0382788,
          0.0385392,
          0.0387996,
          0.03906,
          0.0393204,
          0.0395808,
          0.0398412,
          0.0401016,
          0.040362,
          0.0406224,
          0.0408828,
          0.0411432,
          0.0414036,
          0.041664,
          0.0419244,
          0.0421848,
          0.0424452,
          0.0427056,
          0.042966,
          0.0432264,
          0.0434868,
          0.0437472,
          0.0440076,
          0.044268,
          0.0445284,
          0.0447888,
          0.0450492,
          0.0453096,
          0.04557,
          0.0458304,
          0.0460908,
          0.0463512,
          0.0466116,
          0.046872,
          0.0471324,
          0.0473928,
          0.0476532,
          0.0479136,
          0.048174,
          0.0484344
         ],
         "xaxis": "x6",
         "y": [
          -42.92327880859375,
          -42.91402053833008,
          -42.46577453613281,
          -41.55614471435547,
          -40.2789192199707,
          -38.663307189941406,
          -37.9853630065918,
          -52.40147018432617,
          -52.62493133544922,
          -45.71263885498047,
          -43.43324279785156,
          -29.57508659362793,
          -16.38208770751953,
          -9.862847328186035,
          13.299958229064941,
          33.370262145996094,
          49.02032470703125,
          71.25112915039062,
          92.16674041748047,
          111.8593521118164,
          139.5594940185547,
          157.82850646972656,
          176.5165252685547,
          200.88699340820312,
          218.28933715820312,
          236.3163299560547,
          252.4296875,
          264.28594970703125,
          278.50054931640625,
          290.72442626953125,
          294.6797790527344,
          301.29205322265625,
          304.5455322265625,
          305.20892333984375,
          304.6316223144531,
          297.801513671875,
          289.1029968261719,
          281.55743408203125,
          269.38653564453125,
          253.84710693359375,
          237.38619995117188,
          216.60374450683594,
          196.8905792236328,
          174.92071533203125,
          149.02468872070312,
          122.5284194946289,
          96.63436126708984,
          68.3656005859375,
          41.82256317138672,
          12.013991355895996,
          -18.24331283569336,
          -45.21620178222656,
          -74.04900360107422,
          -101.46186065673828,
          -127.53997802734375,
          -153.6234588623047,
          -176.46478271484375,
          -197.3466339111328,
          -218.32366943359375,
          -235.60182189941406,
          -250.7946014404297,
          -263.6918640136719,
          -273.4261779785156,
          -281.28021240234375
         ],
         "yaxis": "y6"
        },
        {
         "marker": {
          "color": "black"
         },
         "name": "6",
         "type": "scatter",
         "x": [
          0.0231756,
          0.023436,
          0.0236964,
          0.0239568,
          0.0242172,
          0.0244776,
          0.024738,
          0.0249984,
          0.0252588,
          0.0255192,
          0.0257796,
          0.02604,
          0.0263004,
          0.0265608,
          0.0268212,
          0.0270816,
          0.027342,
          0.0276024,
          0.0278628,
          0.0281232,
          0.0283836,
          0.028644,
          0.0289044,
          0.0291648,
          0.0294252,
          0.0296856,
          0.029946,
          0.0302064,
          0.0304668,
          0.0307272,
          0.0309876,
          0.031248,
          0.0315084,
          0.0317688,
          0.0320292,
          0.0322896,
          0.03255,
          0.0328104,
          0.0330708,
          0.0333312,
          0.0335916,
          0.033852,
          0.0341124,
          0.0343728,
          0.0346332,
          0.0348936,
          0.035154,
          0.0354144,
          0.0356748,
          0.0359352,
          0.0361956,
          0.036456,
          0.0367164,
          0.0369768,
          0.0372372,
          0.0374976,
          0.037758,
          0.0380184,
          0.0382788,
          0.0385392,
          0.0387996,
          0.03906,
          0.0393204,
          0.0395808
         ],
         "xaxis": "x7",
         "y": [
          14.883293151855469,
          10.766427993774414,
          6.669371128082275,
          2.605623483657837,
          -1.5764461755752563,
          -5.639556407928467,
          -9.935598373413086,
          -13.90461254119873,
          -17.76860809326172,
          -21.446231842041016,
          -24.96520233154297,
          -28.37879180908203,
          -31.39482879638672,
          -34.05009460449219,
          -36.45622634887695,
          -38.49444580078125,
          -40.3073844909668,
          -41.55570983886719,
          -42.55807113647461,
          -43.000633239746094,
          -43.219879150390625,
          -42.8063850402832,
          -41.99705123901367,
          -40.82133102416992,
          -39.24944305419922,
          -37.43817138671875,
          -35.285884857177734,
          -32.54807662963867,
          -29.550355911254883,
          -26.243680953979492,
          -22.926450729370117,
          -19.226543426513672,
          -15.290135383605957,
          -11.184379577636719,
          -7.045895576477051,
          -2.911855459213257,
          1.2282096147537231,
          5.2842793464660645,
          9.499319076538086,
          13.547178268432617,
          43.79203796386719,
          83.94087219238281,
          137.45413208007812,
          166.87591552734375,
          200.62789916992188,
          238.12774658203125,
          258.46771240234375,
          298.2863464355469,
          324.479248046875,
          336.1112060546875,
          352.6068115234375,
          372.9849548339844,
          385.311767578125,
          389.2453918457031,
          386.99017333984375,
          384.944091796875,
          385.5199890136719,
          376.91064453125,
          357.5333557128906,
          343.49981689453125,
          321.78485107421875,
          298.210205078125,
          276.8629150390625,
          242.1097869873047
         ],
         "yaxis": "y7"
        },
        {
         "marker": {
          "color": "black"
         },
         "name": "7",
         "type": "scatter",
         "x": [
          0.0192696,
          0.01953,
          0.0197904,
          0.0200508,
          0.0203112,
          0.0205716,
          0.020832,
          0.0210924,
          0.0213528,
          0.0216132,
          0.0218736,
          0.022134,
          0.0223944,
          0.0226548,
          0.0229152,
          0.0231756,
          0.023436,
          0.0236964,
          0.0239568,
          0.0242172,
          0.0244776,
          0.024738,
          0.0249984,
          0.0252588,
          0.0255192,
          0.0257796,
          0.02604,
          0.0263004,
          0.0265608,
          0.0268212,
          0.0270816,
          0.027342,
          0.0276024,
          0.0278628,
          0.0281232,
          0.0283836,
          0.028644,
          0.0289044,
          0.0291648,
          0.0294252,
          0.0296856,
          0.029946,
          0.0302064,
          0.0304668,
          0.0307272,
          0.0309876,
          0.031248,
          0.0315084,
          0.0317688,
          0.0320292,
          0.0322896,
          0.03255,
          0.0328104,
          0.0330708,
          0.0333312,
          0.0335916,
          0.033852,
          0.0341124,
          0.0343728,
          0.0346332,
          0.0348936,
          0.035154,
          0.0354144,
          0.0356748
         ],
         "xaxis": "x8",
         "y": [
          -16.61580467224121,
          -20.540542602539062,
          -23.830608367919922,
          -27.170011520385742,
          -30.187274932861328,
          -33.16663360595703,
          -35.71987533569336,
          -38.0139274597168,
          -39.72137451171875,
          -41.16176223754883,
          -42.153358459472656,
          -42.93464279174805,
          -43.233367919921875,
          -43.07587814331055,
          -42.35977554321289,
          -41.34021759033203,
          -39.901432037353516,
          -38.138206481933594,
          -36.14411544799805,
          -33.544952392578125,
          -30.72376823425293,
          -27.455291748046875,
          -24.194189071655273,
          -20.616891860961914,
          -16.62387466430664,
          -12.451099395751953,
          -8.320775985717773,
          -4.237075328826904,
          -0.13659872114658356,
          4.074606895446777,
          8.327731132507324,
          12.572908401489258,
          16.43499755859375,
          20.27629280090332,
          23.810054779052734,
          27.375619888305664,
          30.61664390563965,
          33.479461669921875,
          35.99300003051758,
          38.222381591796875,
          40.092716217041016,
          41.686302185058594,
          42.72211837768555,
          43.482303619384766,
          43.702796936035156,
          43.60749435424805,
          42.91484832763672,
          41.90994644165039,
          40.43107986450195,
          38.66181564331055,
          36.646461486816406,
          34.09608840942383,
          31.163963317871094,
          27.886188507080078,
          24.500347137451172,
          17.564653396606445,
          4.673253059387207,
          -10.204288482666016,
          -25.563230514526367,
          -41.40210723876953,
          -56.483882904052734,
          -72.22344970703125,
          -88.12517547607422,
          -103.18661499023438
         ],
         "yaxis": "y8"
        },
        {
         "marker": {
          "color": "black"
         },
         "name": "8",
         "type": "scatter",
         "x": [
          0.0096348,
          0.0098952,
          0.0101556,
          0.010416,
          0.0106764,
          0.0109368,
          0.0111972,
          0.0114576,
          0.011718,
          0.0119784,
          0.0122388,
          0.0124992,
          0.0127596,
          0.01302,
          0.0132804,
          0.0135408,
          0.0138012,
          0.0140616,
          0.014322,
          0.0145824,
          0.0148428,
          0.0151032,
          0.0153636,
          0.015624,
          0.0158844,
          0.0161448,
          0.0164052,
          0.0166656,
          0.016926,
          0.0171864,
          0.0174468,
          0.0177072,
          0.0179676,
          0.018228,
          0.0184884,
          0.0187488,
          0.0190092,
          0.0192696,
          0.01953,
          0.0197904,
          0.0200508,
          0.0203112,
          0.0205716,
          0.020832,
          0.0210924,
          0.0213528,
          0.0216132,
          0.0218736,
          0.022134,
          0.0223944,
          0.0226548,
          0.0229152,
          0.0231756,
          0.023436,
          0.0236964,
          0.0239568,
          0.0242172,
          0.0244776,
          0.024738,
          0.0249984,
          0.0252588,
          0.0255192,
          0.0257796,
          0.02604
         ],
         "xaxis": "x9",
         "y": [
          -18.759952545166016,
          -22.759538650512695,
          -27.497583389282227,
          -31.46237564086914,
          -33.90772247314453,
          -35.42741012573242,
          -37.09206008911133,
          -39.314205169677734,
          -41.403038024902344,
          -42.84326934814453,
          -43.31969451904297,
          -43.22126388549805,
          -42.77259063720703,
          -42.19687271118164,
          -41.28034210205078,
          -40.14479446411133,
          -38.404178619384766,
          -36.44792556762695,
          -33.721290588378906,
          -30.595172882080078,
          -27.262184143066406,
          -24.219436645507812,
          -21.032865524291992,
          -17.290071487426758,
          -12.97098159790039,
          -8.637221336364746,
          -4.3035664558410645,
          -0.42472001910209656,
          3.447009325027466,
          7.340391635894775,
          11.580400466918945,
          15.746004104614258,
          19.71589469909668,
          23.13287925720215,
          26.3917293548584,
          29.386545181274414,
          32.3650016784668,
          34.97218704223633,
          37.38008499145508,
          39.145015716552734,
          40.66120910644531,
          41.601749420166016,
          42.49052429199219,
          42.85255432128906,
          42.8641242980957,
          42.19620132446289,
          41.19679641723633,
          39.83061599731445,
          38.18888854980469,
          36.2601318359375,
          33.90210723876953,
          30.992576599121094,
          27.848421096801758,
          24.577991485595703,
          21.142656326293945,
          17.312406539916992,
          13.182832717895508,
          9.124165534973145,
          4.974353790283203,
          0.9383091330528259,
          -3.192697525024414,
          -7.359008312225342,
          -11.537647247314453,
          -15.485584259033203
         ],
         "yaxis": "y9"
        }
       ],
       "layout": {
        "height": 700,
        "margin": {
         "b": 20,
         "l": 20,
         "r": 30,
         "t": 40
        },
        "plot_bgcolor": "rgba(0,0,0,0)",
        "template": {
         "data": {
          "bar": [
           {
            "error_x": {
             "color": "#2a3f5f"
            },
            "error_y": {
             "color": "#2a3f5f"
            },
            "marker": {
             "line": {
              "color": "#E5ECF6",
              "width": 0.5
             },
             "pattern": {
              "fillmode": "overlay",
              "size": 10,
              "solidity": 0.2
             }
            },
            "type": "bar"
           }
          ],
          "barpolar": [
           {
            "marker": {
             "line": {
              "color": "#E5ECF6",
              "width": 0.5
             },
             "pattern": {
              "fillmode": "overlay",
              "size": 10,
              "solidity": 0.2
             }
            },
            "type": "barpolar"
           }
          ],
          "carpet": [
           {
            "aaxis": {
             "endlinecolor": "#2a3f5f",
             "gridcolor": "white",
             "linecolor": "white",
             "minorgridcolor": "white",
             "startlinecolor": "#2a3f5f"
            },
            "baxis": {
             "endlinecolor": "#2a3f5f",
             "gridcolor": "white",
             "linecolor": "white",
             "minorgridcolor": "white",
             "startlinecolor": "#2a3f5f"
            },
            "type": "carpet"
           }
          ],
          "choropleth": [
           {
            "colorbar": {
             "outlinewidth": 0,
             "ticks": ""
            },
            "type": "choropleth"
           }
          ],
          "contour": [
           {
            "colorbar": {
             "outlinewidth": 0,
             "ticks": ""
            },
            "colorscale": [
             [
              0,
              "#0d0887"
             ],
             [
              0.1111111111111111,
              "#46039f"
             ],
             [
              0.2222222222222222,
              "#7201a8"
             ],
             [
              0.3333333333333333,
              "#9c179e"
             ],
             [
              0.4444444444444444,
              "#bd3786"
             ],
             [
              0.5555555555555556,
              "#d8576b"
             ],
             [
              0.6666666666666666,
              "#ed7953"
             ],
             [
              0.7777777777777778,
              "#fb9f3a"
             ],
             [
              0.8888888888888888,
              "#fdca26"
             ],
             [
              1,
              "#f0f921"
             ]
            ],
            "type": "contour"
           }
          ],
          "contourcarpet": [
           {
            "colorbar": {
             "outlinewidth": 0,
             "ticks": ""
            },
            "type": "contourcarpet"
           }
          ],
          "heatmap": [
           {
            "colorbar": {
             "outlinewidth": 0,
             "ticks": ""
            },
            "colorscale": [
             [
              0,
              "#0d0887"
             ],
             [
              0.1111111111111111,
              "#46039f"
             ],
             [
              0.2222222222222222,
              "#7201a8"
             ],
             [
              0.3333333333333333,
              "#9c179e"
             ],
             [
              0.4444444444444444,
              "#bd3786"
             ],
             [
              0.5555555555555556,
              "#d8576b"
             ],
             [
              0.6666666666666666,
              "#ed7953"
             ],
             [
              0.7777777777777778,
              "#fb9f3a"
             ],
             [
              0.8888888888888888,
              "#fdca26"
             ],
             [
              1,
              "#f0f921"
             ]
            ],
            "type": "heatmap"
           }
          ],
          "heatmapgl": [
           {
            "colorbar": {
             "outlinewidth": 0,
             "ticks": ""
            },
            "colorscale": [
             [
              0,
              "#0d0887"
             ],
             [
              0.1111111111111111,
              "#46039f"
             ],
             [
              0.2222222222222222,
              "#7201a8"
             ],
             [
              0.3333333333333333,
              "#9c179e"
             ],
             [
              0.4444444444444444,
              "#bd3786"
             ],
             [
              0.5555555555555556,
              "#d8576b"
             ],
             [
              0.6666666666666666,
              "#ed7953"
             ],
             [
              0.7777777777777778,
              "#fb9f3a"
             ],
             [
              0.8888888888888888,
              "#fdca26"
             ],
             [
              1,
              "#f0f921"
             ]
            ],
            "type": "heatmapgl"
           }
          ],
          "histogram": [
           {
            "marker": {
             "pattern": {
              "fillmode": "overlay",
              "size": 10,
              "solidity": 0.2
             }
            },
            "type": "histogram"
           }
          ],
          "histogram2d": [
           {
            "colorbar": {
             "outlinewidth": 0,
             "ticks": ""
            },
            "colorscale": [
             [
              0,
              "#0d0887"
             ],
             [
              0.1111111111111111,
              "#46039f"
             ],
             [
              0.2222222222222222,
              "#7201a8"
             ],
             [
              0.3333333333333333,
              "#9c179e"
             ],
             [
              0.4444444444444444,
              "#bd3786"
             ],
             [
              0.5555555555555556,
              "#d8576b"
             ],
             [
              0.6666666666666666,
              "#ed7953"
             ],
             [
              0.7777777777777778,
              "#fb9f3a"
             ],
             [
              0.8888888888888888,
              "#fdca26"
             ],
             [
              1,
              "#f0f921"
             ]
            ],
            "type": "histogram2d"
           }
          ],
          "histogram2dcontour": [
           {
            "colorbar": {
             "outlinewidth": 0,
             "ticks": ""
            },
            "colorscale": [
             [
              0,
              "#0d0887"
             ],
             [
              0.1111111111111111,
              "#46039f"
             ],
             [
              0.2222222222222222,
              "#7201a8"
             ],
             [
              0.3333333333333333,
              "#9c179e"
             ],
             [
              0.4444444444444444,
              "#bd3786"
             ],
             [
              0.5555555555555556,
              "#d8576b"
             ],
             [
              0.6666666666666666,
              "#ed7953"
             ],
             [
              0.7777777777777778,
              "#fb9f3a"
             ],
             [
              0.8888888888888888,
              "#fdca26"
             ],
             [
              1,
              "#f0f921"
             ]
            ],
            "type": "histogram2dcontour"
           }
          ],
          "mesh3d": [
           {
            "colorbar": {
             "outlinewidth": 0,
             "ticks": ""
            },
            "type": "mesh3d"
           }
          ],
          "parcoords": [
           {
            "line": {
             "colorbar": {
              "outlinewidth": 0,
              "ticks": ""
             }
            },
            "type": "parcoords"
           }
          ],
          "pie": [
           {
            "automargin": true,
            "type": "pie"
           }
          ],
          "scatter": [
           {
            "fillpattern": {
             "fillmode": "overlay",
             "size": 10,
             "solidity": 0.2
            },
            "type": "scatter"
           }
          ],
          "scatter3d": [
           {
            "line": {
             "colorbar": {
              "outlinewidth": 0,
              "ticks": ""
             }
            },
            "marker": {
             "colorbar": {
              "outlinewidth": 0,
              "ticks": ""
             }
            },
            "type": "scatter3d"
           }
          ],
          "scattercarpet": [
           {
            "marker": {
             "colorbar": {
              "outlinewidth": 0,
              "ticks": ""
             }
            },
            "type": "scattercarpet"
           }
          ],
          "scattergeo": [
           {
            "marker": {
             "colorbar": {
              "outlinewidth": 0,
              "ticks": ""
             }
            },
            "type": "scattergeo"
           }
          ],
          "scattergl": [
           {
            "marker": {
             "colorbar": {
              "outlinewidth": 0,
              "ticks": ""
             }
            },
            "type": "scattergl"
           }
          ],
          "scattermapbox": [
           {
            "marker": {
             "colorbar": {
              "outlinewidth": 0,
              "ticks": ""
             }
            },
            "type": "scattermapbox"
           }
          ],
          "scatterpolar": [
           {
            "marker": {
             "colorbar": {
              "outlinewidth": 0,
              "ticks": ""
             }
            },
            "type": "scatterpolar"
           }
          ],
          "scatterpolargl": [
           {
            "marker": {
             "colorbar": {
              "outlinewidth": 0,
              "ticks": ""
             }
            },
            "type": "scatterpolargl"
           }
          ],
          "scatterternary": [
           {
            "marker": {
             "colorbar": {
              "outlinewidth": 0,
              "ticks": ""
             }
            },
            "type": "scatterternary"
           }
          ],
          "surface": [
           {
            "colorbar": {
             "outlinewidth": 0,
             "ticks": ""
            },
            "colorscale": [
             [
              0,
              "#0d0887"
             ],
             [
              0.1111111111111111,
              "#46039f"
             ],
             [
              0.2222222222222222,
              "#7201a8"
             ],
             [
              0.3333333333333333,
              "#9c179e"
             ],
             [
              0.4444444444444444,
              "#bd3786"
             ],
             [
              0.5555555555555556,
              "#d8576b"
             ],
             [
              0.6666666666666666,
              "#ed7953"
             ],
             [
              0.7777777777777778,
              "#fb9f3a"
             ],
             [
              0.8888888888888888,
              "#fdca26"
             ],
             [
              1,
              "#f0f921"
             ]
            ],
            "type": "surface"
           }
          ],
          "table": [
           {
            "cells": {
             "fill": {
              "color": "#EBF0F8"
             },
             "line": {
              "color": "white"
             }
            },
            "header": {
             "fill": {
              "color": "#C8D4E3"
             },
             "line": {
              "color": "white"
             }
            },
            "type": "table"
           }
          ]
         },
         "layout": {
          "annotationdefaults": {
           "arrowcolor": "#2a3f5f",
           "arrowhead": 0,
           "arrowwidth": 1
          },
          "autotypenumbers": "strict",
          "coloraxis": {
           "colorbar": {
            "outlinewidth": 0,
            "ticks": ""
           }
          },
          "colorscale": {
           "diverging": [
            [
             0,
             "#8e0152"
            ],
            [
             0.1,
             "#c51b7d"
            ],
            [
             0.2,
             "#de77ae"
            ],
            [
             0.3,
             "#f1b6da"
            ],
            [
             0.4,
             "#fde0ef"
            ],
            [
             0.5,
             "#f7f7f7"
            ],
            [
             0.6,
             "#e6f5d0"
            ],
            [
             0.7,
             "#b8e186"
            ],
            [
             0.8,
             "#7fbc41"
            ],
            [
             0.9,
             "#4d9221"
            ],
            [
             1,
             "#276419"
            ]
           ],
           "sequential": [
            [
             0,
             "#0d0887"
            ],
            [
             0.1111111111111111,
             "#46039f"
            ],
            [
             0.2222222222222222,
             "#7201a8"
            ],
            [
             0.3333333333333333,
             "#9c179e"
            ],
            [
             0.4444444444444444,
             "#bd3786"
            ],
            [
             0.5555555555555556,
             "#d8576b"
            ],
            [
             0.6666666666666666,
             "#ed7953"
            ],
            [
             0.7777777777777778,
             "#fb9f3a"
            ],
            [
             0.8888888888888888,
             "#fdca26"
            ],
            [
             1,
             "#f0f921"
            ]
           ],
           "sequentialminus": [
            [
             0,
             "#0d0887"
            ],
            [
             0.1111111111111111,
             "#46039f"
            ],
            [
             0.2222222222222222,
             "#7201a8"
            ],
            [
             0.3333333333333333,
             "#9c179e"
            ],
            [
             0.4444444444444444,
             "#bd3786"
            ],
            [
             0.5555555555555556,
             "#d8576b"
            ],
            [
             0.6666666666666666,
             "#ed7953"
            ],
            [
             0.7777777777777778,
             "#fb9f3a"
            ],
            [
             0.8888888888888888,
             "#fdca26"
            ],
            [
             1,
             "#f0f921"
            ]
           ]
          },
          "colorway": [
           "#636efa",
           "#EF553B",
           "#00cc96",
           "#ab63fa",
           "#FFA15A",
           "#19d3f3",
           "#FF6692",
           "#B6E880",
           "#FF97FF",
           "#FECB52"
          ],
          "font": {
           "color": "#2a3f5f"
          },
          "geo": {
           "bgcolor": "white",
           "lakecolor": "white",
           "landcolor": "#E5ECF6",
           "showlakes": true,
           "showland": true,
           "subunitcolor": "white"
          },
          "hoverlabel": {
           "align": "left"
          },
          "hovermode": "closest",
          "mapbox": {
           "style": "light"
          },
          "paper_bgcolor": "white",
          "plot_bgcolor": "#E5ECF6",
          "polar": {
           "angularaxis": {
            "gridcolor": "white",
            "linecolor": "white",
            "ticks": ""
           },
           "bgcolor": "#E5ECF6",
           "radialaxis": {
            "gridcolor": "white",
            "linecolor": "white",
            "ticks": ""
           }
          },
          "scene": {
           "xaxis": {
            "backgroundcolor": "#E5ECF6",
            "gridcolor": "white",
            "gridwidth": 2,
            "linecolor": "white",
            "showbackground": true,
            "ticks": "",
            "zerolinecolor": "white"
           },
           "yaxis": {
            "backgroundcolor": "#E5ECF6",
            "gridcolor": "white",
            "gridwidth": 2,
            "linecolor": "white",
            "showbackground": true,
            "ticks": "",
            "zerolinecolor": "white"
           },
           "zaxis": {
            "backgroundcolor": "#E5ECF6",
            "gridcolor": "white",
            "gridwidth": 2,
            "linecolor": "white",
            "showbackground": true,
            "ticks": "",
            "zerolinecolor": "white"
           }
          },
          "shapedefaults": {
           "line": {
            "color": "#2a3f5f"
           }
          },
          "ternary": {
           "aaxis": {
            "gridcolor": "white",
            "linecolor": "white",
            "ticks": ""
           },
           "baxis": {
            "gridcolor": "white",
            "linecolor": "white",
            "ticks": ""
           },
           "bgcolor": "#E5ECF6",
           "caxis": {
            "gridcolor": "white",
            "linecolor": "white",
            "ticks": ""
           }
          },
          "title": {
           "x": 0.05
          },
          "xaxis": {
           "automargin": true,
           "gridcolor": "white",
           "linecolor": "white",
           "ticks": "",
           "title": {
            "standoff": 15
           },
           "zerolinecolor": "white",
           "zerolinewidth": 2
          },
          "yaxis": {
           "automargin": true,
           "gridcolor": "white",
           "linecolor": "white",
           "ticks": "",
           "title": {
            "standoff": 15
           },
           "zerolinecolor": "white",
           "zerolinewidth": 2
          }
         }
        },
        "title": {
         "text": "Figuras"
        },
        "width": 900,
        "xaxis": {
         "anchor": "y",
         "domain": [
          0,
          0.2888888888888889
         ]
        },
        "xaxis2": {
         "anchor": "y2",
         "domain": [
          0.35555555555555557,
          0.6444444444444445
         ]
        },
        "xaxis3": {
         "anchor": "y3",
         "domain": [
          0.7111111111111111,
          1
         ]
        },
        "xaxis4": {
         "anchor": "y4",
         "domain": [
          0,
          0.2888888888888889
         ]
        },
        "xaxis5": {
         "anchor": "y5",
         "domain": [
          0.35555555555555557,
          0.6444444444444445
         ]
        },
        "xaxis6": {
         "anchor": "y6",
         "domain": [
          0.7111111111111111,
          1
         ]
        },
        "xaxis7": {
         "anchor": "y7",
         "domain": [
          0,
          0.2888888888888889
         ]
        },
        "xaxis8": {
         "anchor": "y8",
         "domain": [
          0.35555555555555557,
          0.6444444444444445
         ]
        },
        "xaxis9": {
         "anchor": "y9",
         "domain": [
          0.7111111111111111,
          1
         ]
        },
        "yaxis": {
         "anchor": "x",
         "domain": [
          0.7333333333333333,
          1
         ]
        },
        "yaxis2": {
         "anchor": "x2",
         "domain": [
          0.7333333333333333,
          1
         ]
        },
        "yaxis3": {
         "anchor": "x3",
         "domain": [
          0.7333333333333333,
          1
         ]
        },
        "yaxis4": {
         "anchor": "x4",
         "domain": [
          0.36666666666666664,
          0.6333333333333333
         ]
        },
        "yaxis5": {
         "anchor": "x5",
         "domain": [
          0.36666666666666664,
          0.6333333333333333
         ]
        },
        "yaxis6": {
         "anchor": "x6",
         "domain": [
          0.36666666666666664,
          0.6333333333333333
         ]
        },
        "yaxis7": {
         "anchor": "x7",
         "domain": [
          0,
          0.26666666666666666
         ]
        },
        "yaxis8": {
         "anchor": "x8",
         "domain": [
          0,
          0.26666666666666666
         ]
        },
        "yaxis9": {
         "anchor": "x9",
         "domain": [
          0,
          0.26666666666666666
         ]
        }
       }
      }
     },
     "metadata": {},
     "output_type": "display_data"
    }
   ],
   "source": [
    "from plotly.subplots import make_subplots\n",
    "import plotly.graph_objects as go\n",
    "\n",
    "fs = 3840\n",
    "dataset_plot = Form1Dataset(\n",
    "    dataset_dir, max_window_idx=max_window_idx, signal_name=signal_name, test=True\n",
    ")\n",
    "plot_dataloader = DataLoader(dataset_plot, batch_size=train_batch_size, shuffle=True)\n",
    "\n",
    "dataiter = iter(plot_dataloader)\n",
    "signal_windows, t_windows, labels, *_ = next(dataiter)\n",
    "\n",
    "x = model(signal_windows[0:9].to(device))\n",
    "x = x.detach()\n",
    "\n",
    "# Crear Matriz de confusión\n",
    "df = confussion_matrix(x, labels[0:9])\n",
    "print(df)\n",
    "\n",
    "# figure = plt.figure(figsize=(10, 10))\n",
    "cols, rows = 3, 3\n",
    "fig = make_subplots(rows=rows, cols=cols)\n",
    "\n",
    "for i in range(0, cols * rows):\n",
    "\n",
    "    col = i % cols\n",
    "    row = i // cols\n",
    "    fig.add_trace(\n",
    "        go.Scatter(\n",
    "            name=i, x=t_windows[i, :], y=signal_windows[i, :, 0], marker_color=\"black\"\n",
    "        ),\n",
    "        row=row + 1,\n",
    "        col=col + 1,\n",
    "    )\n",
    "\n",
    "fig.update_layout(\n",
    "    height=700,\n",
    "    width=900,\n",
    "    title_text=\"Figuras\",\n",
    "    margin={\"b\": 20, \"t\": 40, \"l\": 20, \"r\": 30},\n",
    "    plot_bgcolor=\"rgba(0,0,0,0)\",\n",
    "    # paper_bgcolor=\"whitesmoke\",\n",
    ")\n",
    "fig.show()\n"
   ]
  },
  {
   "attachments": {},
   "cell_type": "markdown",
   "metadata": {},
   "source": [
    "##### 6.3. Matlab Plots"
   ]
  },
  {
   "cell_type": "code",
   "execution_count": 13,
   "metadata": {},
   "outputs": [
    {
     "name": "stdout",
     "output_type": "stream",
     "text": [
      "   Pred probability  Pred label  True label         prueba\n",
      "0          0.045321           0           0  True negative\n",
      "1          0.922940           1           1  True positive\n",
      "2          0.754692           1           1  True positive\n",
      "3          0.912544           1           1  True positive\n",
      "4          0.053176           0           0  True negative\n",
      "5          0.030945           0           0  True negative\n",
      "6          0.978832           1           1  True positive\n",
      "7          0.657892           1           1  True positive\n",
      "8          0.035352           0           0  True negative\n"
     ]
    },
    {
     "data": {
      "image/png": "[encoded data removed]",
      "text/plain": [
       "<Figure size 1000x1000 with 9 Axes>"
      ]
     },
     "metadata": {},
     "output_type": "display_data"
    }
   ],
   "source": [
    "dataset_plot = Form1Dataset(\n",
    "    dataset_dir, max_window_idx=max_window_idx, signal_name=signal_name, test=True\n",
    ")\n",
    "plot_dataloader = DataLoader(dataset_plot, batch_size=train_batch_size, shuffle=True)\n",
    "\n",
    "dataiter = iter(plot_dataloader)\n",
    "signal_windows, t_windows, labels, *_ = next(dataiter)\n",
    "fs = 3840\n",
    "\n",
    "x = model(signal_windows[1:10].to(device))\n",
    "x = x.detach()\n",
    "\n",
    "# Crear Matriz de confusión\n",
    "df = confussion_matrix(x, labels[1:10])\n",
    "print(df)\n",
    "\n",
    "figure = plt.figure(figsize=(10, 10))\n",
    "cols, rows = 3, 3\n",
    "for i in range(1, cols * rows + 1):\n",
    "    figure.add_subplot(rows, cols, i)\n",
    "    plt.plot(t_windows[i, :], signal_windows[i, :, 0])\n"
   ]
  },
  {
   "attachments": {},
   "cell_type": "markdown",
   "metadata": {},
   "source": [
    "### 7. References\n",
    "1. PyTorch Contributors: LSTM. [LSTM — PyTorch 1.13 documentation](https://pytorch.org/docs/stable/generated/torch.nn.LSTM.html).\n",
    "<!-- @online{LSTM,\n",
    "    author = \"{PyTorch Contributors}\",\n",
    "    title = \"LSTM\",\n",
    "    url  = \"https://pytorch.org/docs/stable/generated/torch.nn.LSTM.html\",\n",
    "    addendum = \"(accessed: 10.02.2023)\",\n",
    "    keywords = \"LSTM pytorch\"\n",
    "} -->"
   ]
  }
 ],
 "metadata": {
  "kernelspec": {
   "display_name": "env",
   "language": "python",
   "name": "python3"
  },
  "language_info": {
   "codemirror_mode": {
    "name": "ipython",
    "version": 3
   },
   "file_extension": ".py",
   "mimetype": "text/x-python",
   "name": "python",
   "nbconvert_exporter": "python",
   "pygments_lexer": "ipython3",
   "version": "3.9.13"
  },
  "orig_nbformat": 4,
  "vscode": {
   "interpreter": {
    "hash": "edf36f54e3c0d12e79cbfbdb2eab1260e125462eb03956a03e5e853a13b289dd"
   }
  }
 },
 "nbformat": 4,
 "nbformat_minor": 2
}
