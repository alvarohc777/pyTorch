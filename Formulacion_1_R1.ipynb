{
 "cells": [
  {
   "attachments": {},
   "cell_type": "markdown",
   "metadata": {},
   "source": [
    "<center><h1 style:\"text-align:center;\">Formulación 1</h1></center>\n",
    "<center><h3>Relé 1</h3></center>"
   ]
  },
  {
   "attachments": {},
   "cell_type": "markdown",
   "metadata": {},
   "source": [
    "#### 1. Imports"
   ]
  },
  {
   "cell_type": "code",
   "execution_count": 1,
   "metadata": {},
   "outputs": [
    {
     "name": "stderr",
     "output_type": "stream",
     "text": [
      "c:\\Users\\aherrada\\Documents\\Git\\Pytorch\\env\\lib\\site-packages\\tqdm\\auto.py:22: TqdmWarning: IProgress not found. Please update jupyter and ipywidgets. See https://ipywidgets.readthedocs.io/en/stable/user_install.html\n",
      "  from .autonotebook import tqdm as notebook_tqdm\n"
     ]
    }
   ],
   "source": [
    "import torch\n",
    "import torch.nn as nn\n",
    "from torch.utils.data import Dataset, DataLoader, random_split\n",
    "import numpy as np\n",
    "import pandas as pd\n",
    "import matplotlib.pyplot as plt\n",
    "\n",
    "# Acceder al sistema operativo\n",
    "import os\n",
    "import glob\n",
    "import shutil\n",
    "import random"
   ]
  },
  {
   "attachments": {},
   "cell_type": "markdown",
   "metadata": {},
   "source": [
    "#### 2. Model Parameters"
   ]
  },
  {
   "cell_type": "code",
   "execution_count": 2,
   "metadata": {},
   "outputs": [
    {
     "name": "stdout",
     "output_type": "stream",
     "text": [
      "cpu\n"
     ]
    }
   ],
   "source": [
    "# LSTM parameters\n",
    "hidden_dim = 20\n",
    "n_signals = 1\n",
    "N = 64\n",
    "\n",
    "# _batch_size => m in figure 1.\n",
    "train_batch_size = 64\n",
    "dev_batch_size = 16\n",
    "test_batch_size = 16\n",
    "\n",
    "# Classification type (binary)\n",
    "tagset_size = 1\n",
    "\n",
    "# Set\n",
    "device = \"cuda\" if torch.cuda.is_available() else \"cpu\"\n",
    "print(device)"
   ]
  },
  {
   "attachments": {},
   "cell_type": "markdown",
   "metadata": {},
   "source": [
    "#### 3. Model Creation"
   ]
  },
  {
   "cell_type": "code",
   "execution_count": 3,
   "metadata": {},
   "outputs": [
    {
     "name": "stdout",
     "output_type": "stream",
     "text": [
      "Model structure: FaultDetector(\n",
      "  (lstm): LSTM(1, 20, batch_first=True)\n",
      "  (fc): Linear(in_features=20, out_features=1, bias=True)\n",
      ")\n",
      "\n"
     ]
    }
   ],
   "source": [
    "# Model Creation\n",
    "\n",
    "\n",
    "class FaultDetector(nn.Module):\n",
    "    \"\"\"Some Information about FaultDetector\"\"\"\n",
    "\n",
    "    def __init__(self, N, hidden_dim, tagset_size):\n",
    "        super(FaultDetector, self).__init__()\n",
    "        self.lstm = nn.LSTM(N, hidden_dim, batch_first=True)\n",
    "        self.fc = nn.Linear(hidden_dim, tagset_size)\n",
    "\n",
    "    def forward(self, x):\n",
    "        lstm_out, _ = self.lstm(x)\n",
    "        fc_layer = self.fc(lstm_out[:, -1, :])\n",
    "\n",
    "        return torch.sigmoid(fc_layer)\n",
    "\n",
    "\n",
    "model = FaultDetector(n_signals, hidden_dim, tagset_size).to(device)\n",
    "loss_fn = nn.BCELoss()\n",
    "optimizer = torch.optim.Adam(model.parameters(), lr=1e-2)\n",
    "# Learning rate decay\n",
    "decayRate = 0.96\n",
    "my_lr_scheduler = torch.optim.lr_scheduler.ExponentialLR(\n",
    "    optimizer=optimizer, gamma=decayRate\n",
    ")\n",
    "\n",
    "print(f\"Model structure: {model}\\n\")\n"
   ]
  },
  {
   "attachments": {},
   "cell_type": "markdown",
   "metadata": {},
   "source": [
    "#### 4. Dataset Class Creation"
   ]
  },
  {
   "cell_type": "code",
   "execution_count": 34,
   "metadata": {},
   "outputs": [],
   "source": [
    "from utils.signalload import CSV_pandas_path\n",
    "from utils.auxfunctions import moving_window\n",
    "import numpy as np\n",
    "from itertools import repeat\n",
    "\n",
    "\n",
    "class Form1Dataset(torch.utils.data.Dataset):\n",
    "    \"\"\"Some Information about Form1Dataset\"\"\"\n",
    "\n",
    "    def __init__(\n",
    "        self,\n",
    "        dataset_dir,\n",
    "        signal_name,\n",
    "        max_window_idx=193,\n",
    "        window_length=64,\n",
    "        step=1,\n",
    "        test=False,\n",
    "    ):\n",
    "        super(Form1Dataset, self).__init__()\n",
    "        self.max_window_idx = max_window_idx\n",
    "        self.test = test\n",
    "\n",
    "        self.csv_list = glob.glob(f\"{dataset_dir}*.csv\")\n",
    "        self.csv_amount = len(self.csv_list)\n",
    "        self.windows_amount = max_window_idx * self.csv_amount\n",
    "        self.window_length = window_length\n",
    "        self.step = step\n",
    "\n",
    "    def __getitem__(self, index):\n",
    "\n",
    "        # sample_settings\n",
    "        window_length = self.window_length\n",
    "        step = self.step\n",
    "\n",
    "        # Calculate window_idx and file name\n",
    "        window_idx = index % self.max_window_idx\n",
    "        csv_idx = index // self.max_window_idx\n",
    "        csv_full_path = self.csv_list[csv_idx]\n",
    "\n",
    "        # Load CSV, signal and create windows\n",
    "        csv_name = os.path.basename(csv_full_path)\n",
    "        signal, t, _ = CSV_pandas_path(csv_full_path).load_data(signal_name)\n",
    "        signal_windows, t_windows = list(\n",
    "            map(moving_window, [signal, t], repeat(window_length), repeat(step))\n",
    "        )\n",
    "\n",
    "        # select window\n",
    "\n",
    "        signal_window = signal_windows[window_idx]\n",
    "        signal_window = np.expand_dims(signal_window, axis=1)\n",
    "        t_window = t_windows[window_idx]\n",
    "\n",
    "        # create labels\n",
    "        if window_idx < 66:\n",
    "            label = np.array([0])\n",
    "        else:\n",
    "            label = np.array([1])\n",
    "\n",
    "        # For dataset visualization return following information\n",
    "        signal_window = torch.from_numpy(signal_window).float()\n",
    "        label = torch.from_numpy(label).float()\n",
    "        if self.test == True:\n",
    "            return signal_window, t_window, label, csv_name, index, window_idx\n",
    "\n",
    "        # For training only signals and labels are required\n",
    "        \n",
    "        return signal_window, label\n",
    "\n",
    "    def __len__(self):\n",
    "        return self.csv_amount * self.max_window_idx"
   ]
  },
  {
   "attachments": {},
   "cell_type": "markdown",
   "metadata": {},
   "source": [
    "#### Database Directory Creation "
   ]
  },
  {
   "cell_type": "code",
   "execution_count": 19,
   "metadata": {},
   "outputs": [
    {
     "name": "stdout",
     "output_type": "stream",
     "text": [
      "copying 35 files...\n",
      "finished\n",
      "Available Relays (current):\n",
      "I: X0038A-X0043A\n",
      "I: X0038B-X0043B\n",
      "I: X0038C-X0043C\n",
      "I: X0048A-X0053A\n",
      "I: X0048B-X0053B\n",
      "I: X0048C-X0053C\n",
      "I: X0060A-X0065A\n",
      "I: X0060B-X0065B\n",
      "I: X0060C-X0065C\n",
      "I: X0066A-X0067A\n",
      "I: X0066B-X0067B\n",
      "I: X0066C-X0067C\n",
      "I: X0023A-R1A\n",
      "I: X0023B-R1B\n",
      "I: X0023C-R1C\n",
      "I: X0004A-R2A\n",
      "I: X0004B-R2B\n",
      "I: X0004C-R2C\n",
      "I: X0071A-R3A\n",
      "I: X0071B-R3B\n",
      "I: X0071C-R3C\n"
     ]
    }
   ],
   "source": [
    "# Creating Dataset Folders\n",
    "\n",
    "dataset_dir_full = \"C:/Users/aherrada/OneDrive - Universidad del Norte/Uninorte/DetectionDataBase/LSTM_form_1/fault_01/\"\n",
    "dataset_dir = \"C:/Users/aherrada/OneDrive - Universidad del Norte/Uninorte/DetectionDataBase/LSTM_form_1/R1/\"\n",
    "\n",
    "max_window_idx = 130\n",
    "n_events = 35\n",
    "\n",
    "\n",
    "def dataset_creator(source_path, target_path, signal_list=False):\n",
    "    csv_list = glob.glob(f\"{source_path}*.csv\")\n",
    "    if not os.path.isdir(target_path):\n",
    "        print(\"creating\")\n",
    "        os.makedirs(target_path)\n",
    "    else:\n",
    "        file_list = glob.glob(f\"{target_path}*.csv\")\n",
    "        for file in file_list:\n",
    "            os.remove(file)\n",
    "    csv_list = random.sample(csv_list, n_events)\n",
    "    print(f\"copying {len(csv_list)} files...\")\n",
    "    for csv in csv_list:\n",
    "        source_path = csv\n",
    "        target_path = target_path\n",
    "        shutil.copy(source_path, target_path)\n",
    "    print(\"finished\")\n",
    "    print(\"Available Relays (current):\")\n",
    "    if signal_list == True:\n",
    "        CSV_pandas_path(csv_list[0]).relay_list()\n",
    "\n",
    "\n",
    "# Crear los 3 Datasets para entrenar los relés individualmente\n",
    "dataset_creator(dataset_dir_full, dataset_dir, signal_list=True)\n"
   ]
  },
  {
   "attachments": {},
   "cell_type": "markdown",
   "metadata": {},
   "source": [
    "#### Load Dataset"
   ]
  },
  {
   "cell_type": "code",
   "execution_count": 67,
   "metadata": {},
   "outputs": [],
   "source": [
    "# Load Dataset\n",
    "signal_name = \"I: X0023A-R1A\"\n",
    "dataset = Form1Dataset(\n",
    "    dataset_dir, max_window_idx=max_window_idx, signal_name=signal_name\n",
    ")\n",
    "train_dataset, test_dataset = random_split(dataset, [0.95, 0.05])\n",
    "train_dataloader = DataLoader(train_dataset, batch_size=train_batch_size, shuffle=True)\n",
    "test_dataloader = DataLoader(test_dataset, batch_size=test_batch_size, shuffle=True)\n",
    "# EL test set realmente es un dev set\n",
    "# Como regla general, si es utilizado dentro del loop es un dev set.\n"
   ]
  },
  {
   "attachments": {},
   "cell_type": "markdown",
   "metadata": {},
   "source": [
    "#### Train/Test Loop Creation\n"
   ]
  },
  {
   "cell_type": "code",
   "execution_count": 74,
   "metadata": {},
   "outputs": [],
   "source": [
    "# Create Training / Test / Validation Loops\n",
    "\n",
    "# Training\n",
    "def train(dataloader, model, loss_fn, optimizer, return_loss = False):\n",
    "    size = len(dataloader.dataset)\n",
    "    model.train()\n",
    "    loss_list = []\n",
    "    for batch, (x, y) in enumerate(dataloader):\n",
    "        x, y = x.to(device), y.to(device)\n",
    "\n",
    "        # Compute prediction error\n",
    "        pred = model(x)\n",
    "        loss = loss_fn(pred, y)\n",
    "\n",
    "        # Backpropagation\n",
    "        optimizer.zero_grad()\n",
    "        loss.backward()\n",
    "        optimizer.step()\n",
    "        if return_loss == True:\n",
    "            loss_list.append(loss.item())\n",
    "        if batch % 2 == 0:\n",
    "            loss, current = loss.item(), batch * len(x)\n",
    "            print(f\"loss: {loss:>f} [{current:>5d}/{size:>5d}]\")\n",
    "\n",
    "        if batch % 5 == 0:\n",
    "            my_lr_scheduler.step()\n",
    "    if return_loss == True:\n",
    "        return loss_list\n",
    "\n",
    "\n",
    "\n",
    "def test(dataloader, model, loss_fn, return_metrics=False):\n",
    "    size = len(dataloader.dataset)\n",
    "    num_batches = len(dataloader)\n",
    "    model.eval()\n",
    "    test_loss, correct = 0, 0\n",
    "    with torch.no_grad():\n",
    "        for x, y in dataloader:\n",
    "            x, y = x.to(device), y.to(device)\n",
    "            pred = model(x)\n",
    "            test_loss += loss_fn(pred, y).item()\n",
    "            correct += (torch.round(pred) == y).type(torch.float).sum().item()\n",
    "    test_loss /= num_batches\n",
    "    correct /= size\n",
    "    print(\n",
    "        f\"Test Error: \\n Accuracy: {(100*correct):>0.1f}%, Avg loss: {test_loss:>8f} \\n\"\n",
    "    )\n",
    "    if return_metrics==True:\n",
    "        return correct*100, test_loss\n"
   ]
  },
  {
   "attachments": {},
   "cell_type": "markdown",
   "metadata": {},
   "source": [
    "#### Train/Test Loop"
   ]
  },
  {
   "cell_type": "code",
   "execution_count": 76,
   "metadata": {},
   "outputs": [
    {
     "name": "stdout",
     "output_type": "stream",
     "text": [
      "Epoch 1\n",
      "--------------------------------\n",
      "Test Error: \n",
      " Accuracy: 95.2%, Avg loss: 0.130424 \n",
      "\n"
     ]
    }
   ],
   "source": [
    "epochs = 1\n",
    "for epoch in range(epochs):\n",
    "    \n",
    "    print(f\"Epoch {epoch+1}\\n--------------------------------\")\n",
    "    train_loss = train(train_dataloader, model, loss_fn, optimizer, return_loss=True)\n",
    "    accuracy, _ = test(test_dataloader, model, loss_fn, return_metrics=True)"
   ]
  },
  {
   "attachments": {},
   "cell_type": "markdown",
   "metadata": {},
   "source": [
    "#### Loss visualization"
   ]
  },
  {
   "cell_type": "code",
   "execution_count": null,
   "metadata": {},
   "outputs": [],
   "source": [
    "mini_batch_list = [index for index, _ in enumerate(train_loss)]\n",
    "train_loss_ewm = pd.DataFrame(train_loss).ewm(com=0.95).mean()\n",
    "plt.plot(mini_batch_list, train_loss, mini_batch_list, train_loss_ewm)"
   ]
  },
  {
   "attachments": {},
   "cell_type": "markdown",
   "metadata": {},
   "source": [
    "#### Save the Model"
   ]
  },
  {
   "cell_type": "code",
   "execution_count": null,
   "metadata": {},
   "outputs": [],
   "source": [
    "# # Save the Model\n",
    "# torch.save(model.state_dict(), './models/LSTMHarmonic_weights_989.pth')\n",
    "# model.load_state_dict(torch.load('./models/LSTMHarmonic_weights_989.pth'))"
   ]
  },
  {
   "attachments": {},
   "cell_type": "markdown",
   "metadata": {},
   "source": [
    "#### Results Visualization\n"
   ]
  },
  {
   "attachments": {},
   "cell_type": "markdown",
   "metadata": {},
   "source": [
    "#### Plots"
   ]
  },
  {
   "cell_type": "code",
   "execution_count": 84,
   "metadata": {},
   "outputs": [],
   "source": [
    "# Data visualization (CPU)\n",
    "\n",
    "\n",
    "def confussion_matrix_labels(pred_label, true_label):\n",
    "    label = \"\"\n",
    "    if int(pred_label) == int(true_label):\n",
    "        label += \"True\"\n",
    "    else:\n",
    "        label += \"False\"\n",
    "    if pred_label == 1:\n",
    "        label += \" positive\"\n",
    "    else:\n",
    "        label += \" negative\"\n",
    "    return label\n",
    "\n",
    "\n",
    "def confussion_matrix(x, labels):\n",
    "    data = {\n",
    "        \"Pred probability\": torch.reshape(x, (-1,)).numpy(),\n",
    "        \"Pred label\": torch.reshape(torch.round(x), (-1,)).int().numpy(),\n",
    "        \"True label\": torch.reshape(labels, (-1,)).int().numpy(),\n",
    "    }\n",
    "    df = pd.DataFrame(data)\n",
    "    df[\"prueba\"] = confussion_matrix_pandas(df[\"Pred label\"], df[\"True label\"])\n",
    "    return df\n",
    "\n",
    "\n",
    "confussion_matrix_pandas = np.vectorize(confussion_matrix_labels)\n"
   ]
  },
  {
   "cell_type": "code",
   "execution_count": 83,
   "metadata": {},
   "outputs": [
    {
     "name": "stdout",
     "output_type": "stream",
     "text": [
      "   Pred probability  Pred label  True label         prueba\n",
      "0          0.974326           1           1  True positive\n",
      "1          0.035430           0           0  True negative\n",
      "2          0.029374           0           0  True negative\n",
      "3          0.974601           1           1  True positive\n",
      "4          0.083205           0           0  True negative\n",
      "5          0.038344           0           0  True negative\n",
      "6          0.041530           0           0  True negative\n",
      "7          0.041499           0           0  True negative\n",
      "8          0.969250           1           1  True positive\n"
     ]
    },
    {
     "data": {
      "application/vnd.plotly.v1+json": {
       "config": {
        "plotlyServerURL": "https://plot.ly"
       },
       "data": [
        {
         "marker": {
          "color": "black"
         },
         "name": "0",
         "type": "scatter",
         "x": [
          0.0158844,
          0.0161448,
          0.0164052,
          0.0166656,
          0.016926,
          0.0171864,
          0.0174468,
          0.0177072,
          0.0179676,
          0.018228,
          0.0184884,
          0.0187488,
          0.0190092,
          0.0192696,
          0.01953,
          0.0197904,
          0.0200508,
          0.0203112,
          0.0205716,
          0.020832,
          0.0210924,
          0.0213528,
          0.0216132,
          0.0218736,
          0.022134,
          0.0223944,
          0.0226548,
          0.0229152,
          0.0231756,
          0.023436,
          0.0236964,
          0.0239568,
          0.0242172,
          0.0244776,
          0.024738,
          0.0249984,
          0.0252588,
          0.0255192,
          0.0257796,
          0.02604,
          0.0263004,
          0.0265608,
          0.0268212,
          0.0270816,
          0.027342,
          0.0276024,
          0.0278628,
          0.0281232,
          0.0283836,
          0.028644,
          0.0289044,
          0.0291648,
          0.0294252,
          0.0296856,
          0.029946,
          0.0302064,
          0.0304668,
          0.0307272,
          0.0309876,
          0.031248,
          0.0315084,
          0.0317688,
          0.0320292,
          0.0322896
         ],
         "xaxis": "x",
         "y": [
          -40.42856216430664,
          -41.85652160644531,
          -42.44740295410156,
          -42.850555419921875,
          -42.818477630615234,
          -42.55113983154297,
          -41.6451416015625,
          -40.55830383300781,
          -38.908870697021484,
          -37.045875549316406,
          -34.7324104309082,
          -32.04055404663086,
          -28.93328094482422,
          -25.73457145690918,
          -22.324636459350586,
          -18.736289978027344,
          -14.699165344238281,
          -10.566730499267578,
          -6.366684436798096,
          -2.283893346786499,
          1.8026927709579468,
          5.825986862182617,
          10.042733192443848,
          14.0584077835083,
          17.99738121032715,
          21.641267776489258,
          25.167404174804688,
          28.3841495513916,
          31.424537658691406,
          34.07832336425781,
          36.50302505493164,
          38.55792236328125,
          40.213294982910156,
          41.537689208984375,
          42.38338088989258,
          42.94542694091797,
          43.04206848144531,
          42.68151092529297,
          41.793701171875,
          40.62276840209961,
          39.0405158996582,
          37.24953079223633,
          35.01264953613281,
          32.320533752441406,
          29.251073837280273,
          26.086761474609375,
          22.669599533081055,
          19.007009506225586,
          14.982088088989258,
          10.875931739807129,
          6.786041259765625,
          2.6766517162323,
          -1.3826323747634888,
          -5.480707168579102,
          -9.728205680847168,
          -13.744580268859863,
          -17.623844146728516,
          -21.224119186401367,
          -24.789318084716797,
          -28.145931243896484,
          -31.193105697631836,
          -33.866886138916016,
          -36.2545166015625,
          -38.34175491333008
         ],
         "yaxis": "y"
        },
        {
         "marker": {
          "color": "black"
         },
         "name": "1",
         "type": "scatter",
         "x": [
          0.0317688,
          0.0320292,
          0.0322896,
          0.03255,
          0.0328104,
          0.0330708,
          0.0333312,
          0.0335916,
          0.033852,
          0.0341124,
          0.0343728,
          0.0346332,
          0.0348936,
          0.035154,
          0.0354144,
          0.0356748,
          0.0359352,
          0.0361956,
          0.036456,
          0.0367164,
          0.0369768,
          0.0372372,
          0.0374976,
          0.037758,
          0.0380184,
          0.0382788,
          0.0385392,
          0.0387996,
          0.03906,
          0.0393204,
          0.0395808,
          0.0398412,
          0.0401016,
          0.040362,
          0.0406224,
          0.0408828,
          0.0411432,
          0.0414036,
          0.041664,
          0.0419244,
          0.0421848,
          0.0424452,
          0.0427056,
          0.042966,
          0.0432264,
          0.0434868,
          0.0437472,
          0.0440076,
          0.044268,
          0.0445284,
          0.0447888,
          0.0450492,
          0.0453096,
          0.04557,
          0.0458304,
          0.0460908,
          0.0463512,
          0.0466116,
          0.046872,
          0.0471324,
          0.0473928,
          0.0476532,
          0.0479136,
          0.048174
         ],
         "xaxis": "x2",
         "y": [
          -8.390003204345703,
          -4.252148628234863,
          -0.14070482552051544,
          3.9467508792877197,
          8.158724784851074,
          12.24073600769043,
          16.17546844482422,
          34.2515869140625,
          92.5169677734375,
          119.8586196899414,
          167.43252563476562,
          184.38961791992188,
          211.24356079101562,
          240.44903564453125,
          265.4097595214844,
          291.7188415527344,
          292.5226135253906,
          318.75872802734375,
          320.1282958984375,
          339.9945068359375,
          329.5693664550781,
          331.28228759765625,
          320.43365478515625,
          322.5240478515625,
          309.7195739746094,
          295.145263671875,
          272.7140197753906,
          253.11859130859375,
          232.890625,
          206.24728393554688,
          176.50038146972656,
          143.5642547607422,
          116.29768371582031,
          84.58302307128906,
          50.025856018066406,
          11.573099136352539,
          -22.28242301940918,
          -56.972320556640625,
          -89.2093505859375,
          -126.62337493896484,
          -157.9227294921875,
          -189.7980194091797,
          -214.93994140625,
          -244.019287109375,
          -269.99761962890625,
          -292.89208984375,
          -311.1194152832031,
          -325.44207763671875,
          -339.7958984375,
          -351.34173583984375,
          -357.7425231933594,
          -359.74560546875,
          -359.0284423828125,
          -357.6008605957031,
          -350.64697265625,
          -340.2451171875,
          -325.23553466796875,
          -309.88287353515625,
          -290.5810852050781,
          -269.0469665527344,
          -242.51502990722656,
          -216.39974975585938,
          -187.31710815429688,
          -157.1212921142578
         ],
         "yaxis": "y2"
        },
        {
         "marker": {
          "color": "black"
         },
         "name": "2",
         "type": "scatter",
         "x": [
          0,
          0.0002604,
          0.0005208,
          0.0007812,
          0.0010416,
          0.001302,
          0.0015624,
          0.0018228,
          0.0020832,
          0.0023436,
          0.002604,
          0.0028644,
          0.0031248,
          0.0033852,
          0.0036456,
          0.003906,
          0.0041664,
          0.0044268,
          0.0046872,
          0.0049476,
          0.005208,
          0.0054684,
          0.0057288,
          0.0059892,
          0.0062496,
          0.00651,
          0.0067704,
          0.0070308,
          0.0072912,
          0.0075516,
          0.007812,
          0.0080724,
          0.0083328,
          0.0085932,
          0.0088536,
          0.009114,
          0.0093744,
          0.0096348,
          0.0098952,
          0.0101556,
          0.010416,
          0.0106764,
          0.0109368,
          0.0111972,
          0.0114576,
          0.011718,
          0.0119784,
          0.0122388,
          0.0124992,
          0.0127596,
          0.01302,
          0.0132804,
          0.0135408,
          0.0138012,
          0.0140616,
          0.014322,
          0.0145824,
          0.0148428,
          0.0151032,
          0.0153636,
          0.015624,
          0.0158844,
          0.0161448,
          0.0164052
         ],
         "xaxis": "x3",
         "y": [
          18.405363082885742,
          13.16423225402832,
          9.644552230834961,
          6.301527976989746,
          3.264693021774292,
          -1.6537448167800903,
          -6.582406520843506,
          -12.355311393737793,
          -16.99097442626953,
          -19.693523406982422,
          -22.51836395263672,
          -24.89710235595703,
          -29.140464782714844,
          -33.34210968017578,
          -36.36331558227539,
          -38.01369857788086,
          -38.82937240600586,
          -40.04197311401367,
          -42.55893325805664,
          -43.64994430541992,
          -44.2579345703125,
          -42.81144714355469,
          -42.26025390625,
          -41.975425720214844,
          -41.893924713134766,
          -40.31965255737305,
          -37.168155670166016,
          -33.96604919433594,
          -31.314897537231445,
          -29.432579040527344,
          -27.30670738220215,
          -23.662246704101562,
          -18.887813568115234,
          -13.623233795166016,
          -9.444643020629883,
          -6.521374702453613,
          -3.4677505493164062,
          0.5153153538703918,
          5.769370079040527,
          11.055930137634277,
          15.187569618225098,
          18.16155242919922,
          20.86203956604004,
          24.345264434814453,
          28.510299682617188,
          32.31773376464844,
          34.981781005859375,
          36.677345275878906,
          38.2637939453125,
          40.043739318847656,
          41.821311950683594,
          42.91859436035156,
          43.48680114746094,
          43.35422134399414,
          42.93696594238281,
          41.927066802978516,
          40.83087158203125,
          39.245906829833984,
          37.580223083496094,
          35.494441986083984,
          32.81668472290039,
          29.50897216796875,
          26.10308074951172,
          22.587154388427734
         ],
         "yaxis": "y3"
        },
        {
         "marker": {
          "color": "black"
         },
         "name": "3",
         "type": "scatter",
         "x": [
          0.0140616,
          0.014322,
          0.0145824,
          0.0148428,
          0.0151032,
          0.0153636,
          0.015624,
          0.0158844,
          0.0161448,
          0.0164052,
          0.0166656,
          0.016926,
          0.0171864,
          0.0174468,
          0.0177072,
          0.0179676,
          0.018228,
          0.0184884,
          0.0187488,
          0.0190092,
          0.0192696,
          0.01953,
          0.0197904,
          0.0200508,
          0.0203112,
          0.0205716,
          0.020832,
          0.0210924,
          0.0213528,
          0.0216132,
          0.0218736,
          0.022134,
          0.0223944,
          0.0226548,
          0.0229152,
          0.0231756,
          0.023436,
          0.0236964,
          0.0239568,
          0.0242172,
          0.0244776,
          0.024738,
          0.0249984,
          0.0252588,
          0.0255192,
          0.0257796,
          0.02604,
          0.0263004,
          0.0265608,
          0.0268212,
          0.0270816,
          0.027342,
          0.0276024,
          0.0278628,
          0.0281232,
          0.0283836,
          0.028644,
          0.0289044,
          0.0291648,
          0.0294252,
          0.0296856,
          0.029946,
          0.0302064,
          0.0304668
         ],
         "xaxis": "x4",
         "y": [
          -6.590705394744873,
          -2.192667245864868,
          2.0965287685394287,
          6.271372318267822,
          10.137750625610352,
          13.870387077331543,
          17.66937828063965,
          21.55649757385254,
          25.25467872619629,
          28.55770492553711,
          31.4450740814209,
          33.92674255371094,
          36.2625732421875,
          38.444427490234375,
          40.2987060546875,
          41.66654968261719,
          42.42668914794922,
          42.840755462646484,
          43.03112030029297,
          42.7575569152832,
          42.0064811706543,
          40.81181716918945,
          39.189571380615234,
          37.33546447753906,
          35.13288116455078,
          32.506622314453125,
          29.534561157226562,
          26.299724578857422,
          22.866310119628906,
          19.13374137878418,
          15.202173233032227,
          11.093838691711426,
          7.035786151885986,
          2.8440771102905273,
          -1.2403466701507568,
          -5.424777030944824,
          -9.628033638000488,
          -13.680808067321777,
          -17.512632369995117,
          -21.199661254882812,
          -24.796072006225586,
          -28.18034553527832,
          -31.24996566772461,
          -33.911354064941406,
          -36.306190490722656,
          -38.44588088989258,
          -40.18097686767578,
          -41.572757720947266,
          -42.512847900390625,
          -43.03512954711914,
          -43.234039306640625,
          -42.85319519042969,
          -42.10720443725586,
          -40.94505310058594,
          -39.395240783691406,
          -37.605098724365234,
          -35.42458724975586,
          -32.77421188354492,
          -29.72319793701172,
          -26.52755355834961,
          -23.160207748413086,
          -19.486244201660156,
          -15.526597023010254,
          -11.37106990814209
         ],
         "yaxis": "y4"
        },
        {
         "marker": {
          "color": "black"
         },
         "name": "4",
         "type": "scatter",
         "x": [
          0.02604,
          0.0263004,
          0.0265608,
          0.0268212,
          0.0270816,
          0.027342,
          0.0276024,
          0.0278628,
          0.0281232,
          0.0283836,
          0.028644,
          0.0289044,
          0.0291648,
          0.0294252,
          0.0296856,
          0.029946,
          0.0302064,
          0.0304668,
          0.0307272,
          0.0309876,
          0.031248,
          0.0315084,
          0.0317688,
          0.0320292,
          0.0322896,
          0.03255,
          0.0328104,
          0.0330708,
          0.0333312,
          0.0335916,
          0.033852,
          0.0341124,
          0.0343728,
          0.0346332,
          0.0348936,
          0.035154,
          0.0354144,
          0.0356748,
          0.0359352,
          0.0361956,
          0.036456,
          0.0367164,
          0.0369768,
          0.0372372,
          0.0374976,
          0.037758,
          0.0380184,
          0.0382788,
          0.0385392,
          0.0387996,
          0.03906,
          0.0393204,
          0.0395808,
          0.0398412,
          0.0401016,
          0.040362,
          0.0406224,
          0.0408828,
          0.0411432,
          0.0414036,
          0.041664,
          0.0419244,
          0.0421848,
          0.0424452
         ],
         "xaxis": "x5",
         "y": [
          -30.435230255126953,
          -33.2374382019043,
          -35.68045425415039,
          -37.918880462646484,
          -39.70431137084961,
          -41.23529052734375,
          -42.235076904296875,
          -42.919219970703125,
          -43.1884765625,
          -42.990726470947266,
          -42.3213996887207,
          -41.27607727050781,
          -39.78055953979492,
          -38.073421478271484,
          -36.0106315612793,
          -33.526695251464844,
          -30.560070037841797,
          -27.357370376586914,
          -24.008499145507812,
          -20.533275604248047,
          -16.60871696472168,
          -12.513460159301758,
          -8.390003204345703,
          -4.252148628234863,
          -0.14070482552051544,
          3.9467508792877197,
          8.158724784851074,
          12.24073600769043,
          16.17546844482422,
          34.2515869140625,
          92.5169677734375,
          119.8586196899414,
          167.43252563476562,
          184.38961791992188,
          211.24356079101562,
          240.44903564453125,
          265.4097595214844,
          291.7188415527344,
          292.5226135253906,
          318.75872802734375,
          320.1282958984375,
          339.9945068359375,
          329.5693664550781,
          331.28228759765625,
          320.43365478515625,
          322.5240478515625,
          309.7195739746094,
          295.145263671875,
          272.7140197753906,
          253.11859130859375,
          232.890625,
          206.24728393554688,
          176.50038146972656,
          143.5642547607422,
          116.29768371582031,
          84.58302307128906,
          50.025856018066406,
          11.573099136352539,
          -22.28242301940918,
          -56.972320556640625,
          -89.2093505859375,
          -126.62337493896484,
          -157.9227294921875,
          -189.7980194091797
         ],
         "yaxis": "y5"
        },
        {
         "marker": {
          "color": "black"
         },
         "name": "5",
         "type": "scatter",
         "x": [
          0.0151032,
          0.0153636,
          0.015624,
          0.0158844,
          0.0161448,
          0.0164052,
          0.0166656,
          0.016926,
          0.0171864,
          0.0174468,
          0.0177072,
          0.0179676,
          0.018228,
          0.0184884,
          0.0187488,
          0.0190092,
          0.0192696,
          0.01953,
          0.0197904,
          0.0200508,
          0.0203112,
          0.0205716,
          0.020832,
          0.0210924,
          0.0213528,
          0.0216132,
          0.0218736,
          0.022134,
          0.0223944,
          0.0226548,
          0.0229152,
          0.0231756,
          0.023436,
          0.0236964,
          0.0239568,
          0.0242172,
          0.0244776,
          0.024738,
          0.0249984,
          0.0252588,
          0.0255192,
          0.0257796,
          0.02604,
          0.0263004,
          0.0265608,
          0.0268212,
          0.0270816,
          0.027342,
          0.0276024,
          0.0278628,
          0.0281232,
          0.0283836,
          0.028644,
          0.0289044,
          0.0291648,
          0.0294252,
          0.0296856,
          0.029946,
          0.0302064,
          0.0304668,
          0.0307272,
          0.0309876,
          0.031248,
          0.0315084
         ],
         "xaxis": "x6",
         "y": [
          10.137750625610352,
          13.870387077331543,
          17.66937828063965,
          21.55649757385254,
          25.25467872619629,
          28.55770492553711,
          31.4450740814209,
          33.92674255371094,
          36.2625732421875,
          38.444427490234375,
          40.2987060546875,
          41.66654968261719,
          42.42668914794922,
          42.840755462646484,
          43.03112030029297,
          42.7575569152832,
          42.0064811706543,
          40.81181716918945,
          39.189571380615234,
          37.33546447753906,
          35.13288116455078,
          32.506622314453125,
          29.534561157226562,
          26.299724578857422,
          22.866310119628906,
          19.13374137878418,
          15.202173233032227,
          11.093838691711426,
          7.035786151885986,
          2.8440771102905273,
          -1.2403466701507568,
          -5.424777030944824,
          -9.628033638000488,
          -13.680808067321777,
          -17.512632369995117,
          -21.199661254882812,
          -24.796072006225586,
          -28.18034553527832,
          -31.24996566772461,
          -33.911354064941406,
          -36.306190490722656,
          -38.44588088989258,
          -40.18097686767578,
          -41.572757720947266,
          -42.512847900390625,
          -43.03512954711914,
          -43.234039306640625,
          -42.85319519042969,
          -42.10720443725586,
          -40.94505310058594,
          -39.395240783691406,
          -37.605098724365234,
          -35.42458724975586,
          -32.77421188354492,
          -29.72319793701172,
          -26.52755355834961,
          -23.160207748413086,
          -19.486244201660156,
          -15.526597023010254,
          -11.37106990814209,
          -7.284106731414795,
          -3.1239702701568604,
          0.9768327474594116,
          5.072699546813965
         ],
         "yaxis": "y6"
        },
        {
         "marker": {
          "color": "black"
         },
         "name": "6",
         "type": "scatter",
         "x": [
          0.0109368,
          0.0111972,
          0.0114576,
          0.011718,
          0.0119784,
          0.0122388,
          0.0124992,
          0.0127596,
          0.01302,
          0.0132804,
          0.0135408,
          0.0138012,
          0.0140616,
          0.014322,
          0.0145824,
          0.0148428,
          0.0151032,
          0.0153636,
          0.015624,
          0.0158844,
          0.0161448,
          0.0164052,
          0.0166656,
          0.016926,
          0.0171864,
          0.0174468,
          0.0177072,
          0.0179676,
          0.018228,
          0.0184884,
          0.0187488,
          0.0190092,
          0.0192696,
          0.01953,
          0.0197904,
          0.0200508,
          0.0203112,
          0.0205716,
          0.020832,
          0.0210924,
          0.0213528,
          0.0216132,
          0.0218736,
          0.022134,
          0.0223944,
          0.0226548,
          0.0229152,
          0.0231756,
          0.023436,
          0.0236964,
          0.0239568,
          0.0242172,
          0.0244776,
          0.024738,
          0.0249984,
          0.0252588,
          0.0255192,
          0.0257796,
          0.02604,
          0.0263004,
          0.0265608,
          0.0268212,
          0.0270816,
          0.027342
         ],
         "xaxis": "x7",
         "y": [
          35.72862243652344,
          32.902523040771484,
          29.794389724731445,
          26.897478103637695,
          24.022306442260742,
          20.86566925048828,
          16.65028190612793,
          11.985522270202637,
          7.63017463684082,
          3.831364631652832,
          0.24957004189491272,
          -3.638761281967163,
          -7.931865692138672,
          -12.378678321838379,
          -16.542404174804688,
          -20.211563110351562,
          -23.375886917114258,
          -26.527231216430664,
          -29.852481842041016,
          -32.95370101928711,
          -35.60698699951172,
          -37.62522506713867,
          -39.3829460144043,
          -40.78160095214844,
          -41.96443176269531,
          -42.71125793457031,
          -43.18324661254883,
          -42.993412017822266,
          -42.32231521606445,
          -41.18730545043945,
          -39.868892669677734,
          -38.18593215942383,
          -36.270416259765625,
          -33.855255126953125,
          -30.909866333007812,
          -27.682344436645508,
          -24.31505012512207,
          -20.87520980834961,
          -17.1046199798584,
          -13.018251419067383,
          -8.933256149291992,
          -4.6924543380737305,
          -0.6158941984176636,
          3.5458667278289795,
          7.67629337310791,
          11.776134490966797,
          15.682025909423828,
          19.51058006286621,
          23.15830421447754,
          26.635967254638672,
          29.820737838745117,
          32.61508560180664,
          35.165531158447266,
          37.42525100708008,
          39.3824462890625,
          40.92249298095703,
          42.03194808959961,
          42.709598541259766,
          43.09425354003906,
          42.969215393066406,
          42.46308135986328,
          41.421302795410156,
          40.06141662597656,
          38.32749557495117
         ],
         "yaxis": "y7"
        },
        {
         "marker": {
          "color": "black"
         },
         "name": "7",
         "type": "scatter",
         "x": [
          0.0140616,
          0.014322,
          0.0145824,
          0.0148428,
          0.0151032,
          0.0153636,
          0.015624,
          0.0158844,
          0.0161448,
          0.0164052,
          0.0166656,
          0.016926,
          0.0171864,
          0.0174468,
          0.0177072,
          0.0179676,
          0.018228,
          0.0184884,
          0.0187488,
          0.0190092,
          0.0192696,
          0.01953,
          0.0197904,
          0.0200508,
          0.0203112,
          0.0205716,
          0.020832,
          0.0210924,
          0.0213528,
          0.0216132,
          0.0218736,
          0.022134,
          0.0223944,
          0.0226548,
          0.0229152,
          0.0231756,
          0.023436,
          0.0236964,
          0.0239568,
          0.0242172,
          0.0244776,
          0.024738,
          0.0249984,
          0.0252588,
          0.0255192,
          0.0257796,
          0.02604,
          0.0263004,
          0.0265608,
          0.0268212,
          0.0270816,
          0.027342,
          0.0276024,
          0.0278628,
          0.0281232,
          0.0283836,
          0.028644,
          0.0289044,
          0.0291648,
          0.0294252,
          0.0296856,
          0.029946,
          0.0302064,
          0.0304668
         ],
         "xaxis": "x8",
         "y": [
          43.16532516479492,
          42.98152542114258,
          42.564613342285156,
          41.575439453125,
          40.3040771484375,
          38.586429595947266,
          36.618839263916016,
          34.05152130126953,
          31.06241226196289,
          27.77223014831543,
          24.813737869262695,
          21.43596649169922,
          17.72761344909668,
          13.33613109588623,
          9.089591026306152,
          4.908533573150635,
          0.9656088352203369,
          -2.9253201484680176,
          -6.98521614074707,
          -11.317974090576172,
          -15.43677806854248,
          -19.418777465820312,
          -22.73966407775879,
          -26.149160385131836,
          -29.256195068359375,
          -32.37230682373047,
          -34.99515914916992,
          -37.358428955078125,
          -39.20472717285156,
          -40.7559928894043,
          -41.89084243774414,
          -42.77029800415039,
          -43.19382858276367,
          -43.202125549316406,
          -42.60984802246094,
          -41.717071533203125,
          -40.36335754394531,
          -38.7269401550293,
          -36.80968475341797,
          -34.45613098144531,
          -31.671749114990234,
          -28.448637008666992,
          -25.269058227539062,
          -21.718793869018555,
          -17.883441925048828,
          -13.732819557189941,
          -9.626703262329102,
          -5.55012321472168,
          -1.4022141695022583,
          2.7851572036743164,
          7.034245014190674,
          11.291367530822754,
          15.2290678024292,
          19.13311004638672,
          22.69806671142578,
          26.33456039428711,
          29.648944854736328,
          32.65326690673828,
          35.241512298583984,
          37.545616149902344,
          39.559574127197266,
          41.25320053100586,
          42.43668746948242,
          43.30295944213867
         ],
         "yaxis": "y8"
        },
        {
         "marker": {
          "color": "black"
         },
         "name": "8",
         "type": "scatter",
         "x": [
          0.0101556,
          0.010416,
          0.0106764,
          0.0109368,
          0.0111972,
          0.0114576,
          0.011718,
          0.0119784,
          0.0122388,
          0.0124992,
          0.0127596,
          0.01302,
          0.0132804,
          0.0135408,
          0.0138012,
          0.0140616,
          0.014322,
          0.0145824,
          0.0148428,
          0.0151032,
          0.0153636,
          0.015624,
          0.0158844,
          0.0161448,
          0.0164052,
          0.0166656,
          0.016926,
          0.0171864,
          0.0174468,
          0.0177072,
          0.0179676,
          0.018228,
          0.0184884,
          0.0187488,
          0.0190092,
          0.0192696,
          0.01953,
          0.0197904,
          0.0200508,
          0.0203112,
          0.0205716,
          0.020832,
          0.0210924,
          0.0213528,
          0.0216132,
          0.0218736,
          0.022134,
          0.0223944,
          0.0226548,
          0.0229152,
          0.0231756,
          0.023436,
          0.0236964,
          0.0239568,
          0.0242172,
          0.0244776,
          0.024738,
          0.0249984,
          0.0252588,
          0.0255192,
          0.0257796,
          0.02604,
          0.0263004,
          0.0265608
         ],
         "xaxis": "x9",
         "y": [
          30.912694931030273,
          34.48838806152344,
          36.703556060791016,
          37.96076965332031,
          39.249874114990234,
          40.939842224121094,
          42.46589279174805,
          43.502201080322266,
          43.65047073364258,
          43.11067581176758,
          42.11487579345703,
          40.98613739013672,
          39.635719299316406,
          38.161155700683594,
          36.17593765258789,
          33.768917083740234,
          30.457773208618164,
          27.071691513061523,
          23.55982208251953,
          20.358505249023438,
          16.742942810058594,
          12.76368522644043,
          8.435798645019531,
          4.08453893661499,
          -0.22736208140850067,
          -4.124666690826416,
          -8.110091209411621,
          -11.925797462463379,
          -15.984084129333496,
          -19.93429183959961,
          -23.730382919311523,
          -27.014068603515625,
          -30.04486083984375,
          -32.64080047607422,
          -35.29294967651367,
          -37.58627700805664,
          -39.644569396972656,
          -41.001373291015625,
          -42.07886505126953,
          -42.60380935668945,
          -43.096160888671875,
          -42.94969940185547,
          -42.442283630371094,
          -41.33186721801758,
          -39.88664245605469,
          -38.18415069580078,
          -36.225894927978516,
          -33.82284927368164,
          -30.8922176361084,
          -27.683467864990234,
          -24.340167999267578,
          -20.8853816986084,
          -16.982275009155273,
          -12.904232025146484,
          -8.722290992736816,
          -4.610328674316406,
          -0.4241069257259369,
          3.6520721912384033,
          7.900477409362793,
          12.013934135437012,
          16.030223846435547,
          19.82076644897461,
          23.48271942138672,
          26.942975997924805
         ],
         "yaxis": "y9"
        }
       ],
       "layout": {
        "height": 700,
        "margin": {
         "b": 20,
         "l": 20,
         "r": 30,
         "t": 40
        },
        "plot_bgcolor": "rgba(0,0,0,0)",
        "template": {
         "data": {
          "bar": [
           {
            "error_x": {
             "color": "#2a3f5f"
            },
            "error_y": {
             "color": "#2a3f5f"
            },
            "marker": {
             "line": {
              "color": "#E5ECF6",
              "width": 0.5
             },
             "pattern": {
              "fillmode": "overlay",
              "size": 10,
              "solidity": 0.2
             }
            },
            "type": "bar"
           }
          ],
          "barpolar": [
           {
            "marker": {
             "line": {
              "color": "#E5ECF6",
              "width": 0.5
             },
             "pattern": {
              "fillmode": "overlay",
              "size": 10,
              "solidity": 0.2
             }
            },
            "type": "barpolar"
           }
          ],
          "carpet": [
           {
            "aaxis": {
             "endlinecolor": "#2a3f5f",
             "gridcolor": "white",
             "linecolor": "white",
             "minorgridcolor": "white",
             "startlinecolor": "#2a3f5f"
            },
            "baxis": {
             "endlinecolor": "#2a3f5f",
             "gridcolor": "white",
             "linecolor": "white",
             "minorgridcolor": "white",
             "startlinecolor": "#2a3f5f"
            },
            "type": "carpet"
           }
          ],
          "choropleth": [
           {
            "colorbar": {
             "outlinewidth": 0,
             "ticks": ""
            },
            "type": "choropleth"
           }
          ],
          "contour": [
           {
            "colorbar": {
             "outlinewidth": 0,
             "ticks": ""
            },
            "colorscale": [
             [
              0,
              "#0d0887"
             ],
             [
              0.1111111111111111,
              "#46039f"
             ],
             [
              0.2222222222222222,
              "#7201a8"
             ],
             [
              0.3333333333333333,
              "#9c179e"
             ],
             [
              0.4444444444444444,
              "#bd3786"
             ],
             [
              0.5555555555555556,
              "#d8576b"
             ],
             [
              0.6666666666666666,
              "#ed7953"
             ],
             [
              0.7777777777777778,
              "#fb9f3a"
             ],
             [
              0.8888888888888888,
              "#fdca26"
             ],
             [
              1,
              "#f0f921"
             ]
            ],
            "type": "contour"
           }
          ],
          "contourcarpet": [
           {
            "colorbar": {
             "outlinewidth": 0,
             "ticks": ""
            },
            "type": "contourcarpet"
           }
          ],
          "heatmap": [
           {
            "colorbar": {
             "outlinewidth": 0,
             "ticks": ""
            },
            "colorscale": [
             [
              0,
              "#0d0887"
             ],
             [
              0.1111111111111111,
              "#46039f"
             ],
             [
              0.2222222222222222,
              "#7201a8"
             ],
             [
              0.3333333333333333,
              "#9c179e"
             ],
             [
              0.4444444444444444,
              "#bd3786"
             ],
             [
              0.5555555555555556,
              "#d8576b"
             ],
             [
              0.6666666666666666,
              "#ed7953"
             ],
             [
              0.7777777777777778,
              "#fb9f3a"
             ],
             [
              0.8888888888888888,
              "#fdca26"
             ],
             [
              1,
              "#f0f921"
             ]
            ],
            "type": "heatmap"
           }
          ],
          "heatmapgl": [
           {
            "colorbar": {
             "outlinewidth": 0,
             "ticks": ""
            },
            "colorscale": [
             [
              0,
              "#0d0887"
             ],
             [
              0.1111111111111111,
              "#46039f"
             ],
             [
              0.2222222222222222,
              "#7201a8"
             ],
             [
              0.3333333333333333,
              "#9c179e"
             ],
             [
              0.4444444444444444,
              "#bd3786"
             ],
             [
              0.5555555555555556,
              "#d8576b"
             ],
             [
              0.6666666666666666,
              "#ed7953"
             ],
             [
              0.7777777777777778,
              "#fb9f3a"
             ],
             [
              0.8888888888888888,
              "#fdca26"
             ],
             [
              1,
              "#f0f921"
             ]
            ],
            "type": "heatmapgl"
           }
          ],
          "histogram": [
           {
            "marker": {
             "pattern": {
              "fillmode": "overlay",
              "size": 10,
              "solidity": 0.2
             }
            },
            "type": "histogram"
           }
          ],
          "histogram2d": [
           {
            "colorbar": {
             "outlinewidth": 0,
             "ticks": ""
            },
            "colorscale": [
             [
              0,
              "#0d0887"
             ],
             [
              0.1111111111111111,
              "#46039f"
             ],
             [
              0.2222222222222222,
              "#7201a8"
             ],
             [
              0.3333333333333333,
              "#9c179e"
             ],
             [
              0.4444444444444444,
              "#bd3786"
             ],
             [
              0.5555555555555556,
              "#d8576b"
             ],
             [
              0.6666666666666666,
              "#ed7953"
             ],
             [
              0.7777777777777778,
              "#fb9f3a"
             ],
             [
              0.8888888888888888,
              "#fdca26"
             ],
             [
              1,
              "#f0f921"
             ]
            ],
            "type": "histogram2d"
           }
          ],
          "histogram2dcontour": [
           {
            "colorbar": {
             "outlinewidth": 0,
             "ticks": ""
            },
            "colorscale": [
             [
              0,
              "#0d0887"
             ],
             [
              0.1111111111111111,
              "#46039f"
             ],
             [
              0.2222222222222222,
              "#7201a8"
             ],
             [
              0.3333333333333333,
              "#9c179e"
             ],
             [
              0.4444444444444444,
              "#bd3786"
             ],
             [
              0.5555555555555556,
              "#d8576b"
             ],
             [
              0.6666666666666666,
              "#ed7953"
             ],
             [
              0.7777777777777778,
              "#fb9f3a"
             ],
             [
              0.8888888888888888,
              "#fdca26"
             ],
             [
              1,
              "#f0f921"
             ]
            ],
            "type": "histogram2dcontour"
           }
          ],
          "mesh3d": [
           {
            "colorbar": {
             "outlinewidth": 0,
             "ticks": ""
            },
            "type": "mesh3d"
           }
          ],
          "parcoords": [
           {
            "line": {
             "colorbar": {
              "outlinewidth": 0,
              "ticks": ""
             }
            },
            "type": "parcoords"
           }
          ],
          "pie": [
           {
            "automargin": true,
            "type": "pie"
           }
          ],
          "scatter": [
           {
            "fillpattern": {
             "fillmode": "overlay",
             "size": 10,
             "solidity": 0.2
            },
            "type": "scatter"
           }
          ],
          "scatter3d": [
           {
            "line": {
             "colorbar": {
              "outlinewidth": 0,
              "ticks": ""
             }
            },
            "marker": {
             "colorbar": {
              "outlinewidth": 0,
              "ticks": ""
             }
            },
            "type": "scatter3d"
           }
          ],
          "scattercarpet": [
           {
            "marker": {
             "colorbar": {
              "outlinewidth": 0,
              "ticks": ""
             }
            },
            "type": "scattercarpet"
           }
          ],
          "scattergeo": [
           {
            "marker": {
             "colorbar": {
              "outlinewidth": 0,
              "ticks": ""
             }
            },
            "type": "scattergeo"
           }
          ],
          "scattergl": [
           {
            "marker": {
             "colorbar": {
              "outlinewidth": 0,
              "ticks": ""
             }
            },
            "type": "scattergl"
           }
          ],
          "scattermapbox": [
           {
            "marker": {
             "colorbar": {
              "outlinewidth": 0,
              "ticks": ""
             }
            },
            "type": "scattermapbox"
           }
          ],
          "scatterpolar": [
           {
            "marker": {
             "colorbar": {
              "outlinewidth": 0,
              "ticks": ""
             }
            },
            "type": "scatterpolar"
           }
          ],
          "scatterpolargl": [
           {
            "marker": {
             "colorbar": {
              "outlinewidth": 0,
              "ticks": ""
             }
            },
            "type": "scatterpolargl"
           }
          ],
          "scatterternary": [
           {
            "marker": {
             "colorbar": {
              "outlinewidth": 0,
              "ticks": ""
             }
            },
            "type": "scatterternary"
           }
          ],
          "surface": [
           {
            "colorbar": {
             "outlinewidth": 0,
             "ticks": ""
            },
            "colorscale": [
             [
              0,
              "#0d0887"
             ],
             [
              0.1111111111111111,
              "#46039f"
             ],
             [
              0.2222222222222222,
              "#7201a8"
             ],
             [
              0.3333333333333333,
              "#9c179e"
             ],
             [
              0.4444444444444444,
              "#bd3786"
             ],
             [
              0.5555555555555556,
              "#d8576b"
             ],
             [
              0.6666666666666666,
              "#ed7953"
             ],
             [
              0.7777777777777778,
              "#fb9f3a"
             ],
             [
              0.8888888888888888,
              "#fdca26"
             ],
             [
              1,
              "#f0f921"
             ]
            ],
            "type": "surface"
           }
          ],
          "table": [
           {
            "cells": {
             "fill": {
              "color": "#EBF0F8"
             },
             "line": {
              "color": "white"
             }
            },
            "header": {
             "fill": {
              "color": "#C8D4E3"
             },
             "line": {
              "color": "white"
             }
            },
            "type": "table"
           }
          ]
         },
         "layout": {
          "annotationdefaults": {
           "arrowcolor": "#2a3f5f",
           "arrowhead": 0,
           "arrowwidth": 1
          },
          "autotypenumbers": "strict",
          "coloraxis": {
           "colorbar": {
            "outlinewidth": 0,
            "ticks": ""
           }
          },
          "colorscale": {
           "diverging": [
            [
             0,
             "#8e0152"
            ],
            [
             0.1,
             "#c51b7d"
            ],
            [
             0.2,
             "#de77ae"
            ],
            [
             0.3,
             "#f1b6da"
            ],
            [
             0.4,
             "#fde0ef"
            ],
            [
             0.5,
             "#f7f7f7"
            ],
            [
             0.6,
             "#e6f5d0"
            ],
            [
             0.7,
             "#b8e186"
            ],
            [
             0.8,
             "#7fbc41"
            ],
            [
             0.9,
             "#4d9221"
            ],
            [
             1,
             "#276419"
            ]
           ],
           "sequential": [
            [
             0,
             "#0d0887"
            ],
            [
             0.1111111111111111,
             "#46039f"
            ],
            [
             0.2222222222222222,
             "#7201a8"
            ],
            [
             0.3333333333333333,
             "#9c179e"
            ],
            [
             0.4444444444444444,
             "#bd3786"
            ],
            [
             0.5555555555555556,
             "#d8576b"
            ],
            [
             0.6666666666666666,
             "#ed7953"
            ],
            [
             0.7777777777777778,
             "#fb9f3a"
            ],
            [
             0.8888888888888888,
             "#fdca26"
            ],
            [
             1,
             "#f0f921"
            ]
           ],
           "sequentialminus": [
            [
             0,
             "#0d0887"
            ],
            [
             0.1111111111111111,
             "#46039f"
            ],
            [
             0.2222222222222222,
             "#7201a8"
            ],
            [
             0.3333333333333333,
             "#9c179e"
            ],
            [
             0.4444444444444444,
             "#bd3786"
            ],
            [
             0.5555555555555556,
             "#d8576b"
            ],
            [
             0.6666666666666666,
             "#ed7953"
            ],
            [
             0.7777777777777778,
             "#fb9f3a"
            ],
            [
             0.8888888888888888,
             "#fdca26"
            ],
            [
             1,
             "#f0f921"
            ]
           ]
          },
          "colorway": [
           "#636efa",
           "#EF553B",
           "#00cc96",
           "#ab63fa",
           "#FFA15A",
           "#19d3f3",
           "#FF6692",
           "#B6E880",
           "#FF97FF",
           "#FECB52"
          ],
          "font": {
           "color": "#2a3f5f"
          },
          "geo": {
           "bgcolor": "white",
           "lakecolor": "white",
           "landcolor": "#E5ECF6",
           "showlakes": true,
           "showland": true,
           "subunitcolor": "white"
          },
          "hoverlabel": {
           "align": "left"
          },
          "hovermode": "closest",
          "mapbox": {
           "style": "light"
          },
          "paper_bgcolor": "white",
          "plot_bgcolor": "#E5ECF6",
          "polar": {
           "angularaxis": {
            "gridcolor": "white",
            "linecolor": "white",
            "ticks": ""
           },
           "bgcolor": "#E5ECF6",
           "radialaxis": {
            "gridcolor": "white",
            "linecolor": "white",
            "ticks": ""
           }
          },
          "scene": {
           "xaxis": {
            "backgroundcolor": "#E5ECF6",
            "gridcolor": "white",
            "gridwidth": 2,
            "linecolor": "white",
            "showbackground": true,
            "ticks": "",
            "zerolinecolor": "white"
           },
           "yaxis": {
            "backgroundcolor": "#E5ECF6",
            "gridcolor": "white",
            "gridwidth": 2,
            "linecolor": "white",
            "showbackground": true,
            "ticks": "",
            "zerolinecolor": "white"
           },
           "zaxis": {
            "backgroundcolor": "#E5ECF6",
            "gridcolor": "white",
            "gridwidth": 2,
            "linecolor": "white",
            "showbackground": true,
            "ticks": "",
            "zerolinecolor": "white"
           }
          },
          "shapedefaults": {
           "line": {
            "color": "#2a3f5f"
           }
          },
          "ternary": {
           "aaxis": {
            "gridcolor": "white",
            "linecolor": "white",
            "ticks": ""
           },
           "baxis": {
            "gridcolor": "white",
            "linecolor": "white",
            "ticks": ""
           },
           "bgcolor": "#E5ECF6",
           "caxis": {
            "gridcolor": "white",
            "linecolor": "white",
            "ticks": ""
           }
          },
          "title": {
           "x": 0.05
          },
          "xaxis": {
           "automargin": true,
           "gridcolor": "white",
           "linecolor": "white",
           "ticks": "",
           "title": {
            "standoff": 15
           },
           "zerolinecolor": "white",
           "zerolinewidth": 2
          },
          "yaxis": {
           "automargin": true,
           "gridcolor": "white",
           "linecolor": "white",
           "ticks": "",
           "title": {
            "standoff": 15
           },
           "zerolinecolor": "white",
           "zerolinewidth": 2
          }
         }
        },
        "title": {
         "text": "Figuras"
        },
        "width": 900,
        "xaxis": {
         "anchor": "y",
         "domain": [
          0,
          0.2888888888888889
         ]
        },
        "xaxis2": {
         "anchor": "y2",
         "domain": [
          0.35555555555555557,
          0.6444444444444445
         ]
        },
        "xaxis3": {
         "anchor": "y3",
         "domain": [
          0.7111111111111111,
          1
         ]
        },
        "xaxis4": {
         "anchor": "y4",
         "domain": [
          0,
          0.2888888888888889
         ]
        },
        "xaxis5": {
         "anchor": "y5",
         "domain": [
          0.35555555555555557,
          0.6444444444444445
         ]
        },
        "xaxis6": {
         "anchor": "y6",
         "domain": [
          0.7111111111111111,
          1
         ]
        },
        "xaxis7": {
         "anchor": "y7",
         "domain": [
          0,
          0.2888888888888889
         ]
        },
        "xaxis8": {
         "anchor": "y8",
         "domain": [
          0.35555555555555557,
          0.6444444444444445
         ]
        },
        "xaxis9": {
         "anchor": "y9",
         "domain": [
          0.7111111111111111,
          1
         ]
        },
        "yaxis": {
         "anchor": "x",
         "domain": [
          0.7333333333333333,
          1
         ]
        },
        "yaxis2": {
         "anchor": "x2",
         "domain": [
          0.7333333333333333,
          1
         ]
        },
        "yaxis3": {
         "anchor": "x3",
         "domain": [
          0.7333333333333333,
          1
         ]
        },
        "yaxis4": {
         "anchor": "x4",
         "domain": [
          0.36666666666666664,
          0.6333333333333333
         ]
        },
        "yaxis5": {
         "anchor": "x5",
         "domain": [
          0.36666666666666664,
          0.6333333333333333
         ]
        },
        "yaxis6": {
         "anchor": "x6",
         "domain": [
          0.36666666666666664,
          0.6333333333333333
         ]
        },
        "yaxis7": {
         "anchor": "x7",
         "domain": [
          0,
          0.26666666666666666
         ]
        },
        "yaxis8": {
         "anchor": "x8",
         "domain": [
          0,
          0.26666666666666666
         ]
        },
        "yaxis9": {
         "anchor": "x9",
         "domain": [
          0,
          0.26666666666666666
         ]
        }
       }
      }
     },
     "metadata": {},
     "output_type": "display_data"
    }
   ],
   "source": [
    "from plotly.subplots import make_subplots\n",
    "import plotly.graph_objects as go\n",
    "\n",
    "fs = 3840\n",
    "dataset_test = Form1Dataset(\n",
    "    dataset_dir, max_window_idx=max_window_idx, signal_name=signal_name, test=True\n",
    ")\n",
    "train_dataloader = DataLoader(dataset_test, batch_size=train_batch_size, shuffle=True)\n",
    "\n",
    "dataiter = iter(train_dataloader)\n",
    "signal_windows, t_windows, labels, *_ = next(dataiter)\n",
    "\n",
    "x = model(signal_windows[1:10].to(device))\n",
    "x = x.detach()\n",
    "\n",
    "# Crear Matriz de confusión\n",
    "df = confussion_matrix(x, labels[1:10])\n",
    "print(df)\n",
    "\n",
    "# figure = plt.figure(figsize=(10, 10))\n",
    "cols, rows = 3, 3\n",
    "fig = make_subplots(rows=rows, cols=cols)\n",
    "\n",
    "for i in range(0, cols * rows):\n",
    "\n",
    "    col = i % cols\n",
    "    row = i // cols\n",
    "    fig.add_trace(\n",
    "        go.Scatter(\n",
    "            name=i, x=t_windows[i, :], y=signal_windows[i, :, 0], marker_color=\"black\"\n",
    "        ),\n",
    "        row=row + 1,\n",
    "        col=col + 1,\n",
    "    )\n",
    "\n",
    "fig.update_layout(\n",
    "    height=700,\n",
    "    width=900,\n",
    "    title_text=\"Figuras\",\n",
    "    margin={\"b\": 20, \"t\": 40, \"l\": 20, \"r\": 30},\n",
    "    plot_bgcolor=\"rgba(0,0,0,0)\",\n",
    "    # paper_bgcolor=\"whitesmoke\",\n",
    ")\n",
    "fig.show()\n"
   ]
  },
  {
   "attachments": {},
   "cell_type": "markdown",
   "metadata": {},
   "source": [
    "#### Matlab Visualization"
   ]
  },
  {
   "cell_type": "code",
   "execution_count": 82,
   "metadata": {},
   "outputs": [
    {
     "name": "stdout",
     "output_type": "stream",
     "text": [
      "   Pred probability  Pred label  True label          prueba\n",
      "0          0.974905           1           1   True positive\n",
      "1          0.951809           1           1   True positive\n",
      "2          0.968367           1           1   True positive\n",
      "3          0.972428           1           1   True positive\n",
      "4          0.970764           1           1   True positive\n",
      "5          0.035266           0           0   True negative\n",
      "6          0.818017           1           1   True positive\n",
      "7          0.051134           0           0   True negative\n",
      "8          0.070513           0           1  False negative\n"
     ]
    },
    {
     "data": {
      "image/png": "[encoded data removed]",
      "text/plain": [
       "<Figure size 1000x1000 with 9 Axes>"
      ]
     },
     "metadata": {},
     "output_type": "display_data"
    }
   ],
   "source": [
    "dataset_test = Form1Dataset(\n",
    "    dataset_dir, max_window_idx=max_window_idx, signal_name=signal_name, test=True\n",
    ")\n",
    "test_dataloader = DataLoader(dataset_test, batch_size=train_batch_size, shuffle=True)\n",
    "\n",
    "dataiter = iter(test_dataloader)\n",
    "signal_windows, t_windows, labels, *_ = next(dataiter)\n",
    "fs = 3840\n",
    "\n",
    "x = model(signal_windows[1:10].to(device))\n",
    "x = x.detach()\n",
    "\n",
    "# Crear Matriz de confusión\n",
    "df = confussion_matrix(x, labels[1:10])\n",
    "print(df)\n",
    "\n",
    "figure = plt.figure(figsize=(10, 10))\n",
    "cols, rows = 3, 3\n",
    "for i in range(1, cols * rows + 1):\n",
    "    figure.add_subplot(rows, cols, i)\n",
    "    plt.plot(t_windows[i, :], signal_windows[i, :, 0])\n"
   ]
  },
  {
   "cell_type": "code",
   "execution_count": null,
   "metadata": {},
   "outputs": [],
   "source": []
  }
 ],
 "metadata": {
  "kernelspec": {
   "display_name": "env",
   "language": "python",
   "name": "python3"
  },
  "language_info": {
   "codemirror_mode": {
    "name": "ipython",
    "version": 3
   },
   "file_extension": ".py",
   "mimetype": "text/x-python",
   "name": "python",
   "nbconvert_exporter": "python",
   "pygments_lexer": "ipython3",
   "version": "3.9.13"
  },
  "orig_nbformat": 4,
  "vscode": {
   "interpreter": {
    "hash": "edf36f54e3c0d12e79cbfbdb2eab1260e125462eb03956a03e5e853a13b289dd"
   }
  }
 },
 "nbformat": 4,
 "nbformat_minor": 2
}
