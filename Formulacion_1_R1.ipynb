{
 "cells": [
  {
   "attachments": {},
   "cell_type": "markdown",
   "metadata": {},
   "source": [
    "<center><h1 style:\"text-align:center;\">Formulación 1</h1></center>\n",
    "<center><h3>Relé 1</h3></center>"
   ]
  },
  {
   "attachments": {},
   "cell_type": "markdown",
   "metadata": {},
   "source": [
    "### 1. Imports"
   ]
  },
  {
   "cell_type": "code",
   "execution_count": 1,
   "metadata": {},
   "outputs": [],
   "source": [
    "import torch\n",
    "import torch.nn as nn\n",
    "from torch.utils.data import Dataset, DataLoader, random_split\n",
    "\n",
    "# Métricas\n",
    "from torchmetrics.functional.classification import binary_stat_scores\n",
    "\n",
    "# Visualizar datos\n",
    "import numpy as np\n",
    "import pandas as pd\n",
    "import matplotlib.pyplot as plt\n",
    "import plotly.express as px\n",
    "\n",
    "# Progress bar\n",
    "from tqdm import tqdm\n",
    "\n",
    "# Acceder al sistema operativo\n",
    "import os\n",
    "import glob\n",
    "import shutil\n",
    "import random\n"
   ]
  },
  {
   "attachments": {},
   "cell_type": "markdown",
   "metadata": {},
   "source": [
    "### 2. Model Parameters"
   ]
  },
  {
   "cell_type": "code",
   "execution_count": 2,
   "metadata": {},
   "outputs": [
    {
     "name": "stdout",
     "output_type": "stream",
     "text": [
      "cpu\n"
     ]
    }
   ],
   "source": [
    "# LSTM parameters\n",
    "hidden_dim = 20\n",
    "n_signals = 1\n",
    "N = 64\n",
    "\n",
    "# _batch_size => m in figure 1.\n",
    "train_batch_size = 64\n",
    "dev_batch_size = 16\n",
    "test_batch_size = 16\n",
    "\n",
    "# Classification type (binary)\n",
    "tagset_size = 1\n",
    "\n",
    "# Set\n",
    "device = \"cuda\" if torch.cuda.is_available() else \"cpu\"\n",
    "print(device)\n"
   ]
  },
  {
   "attachments": {},
   "cell_type": "markdown",
   "metadata": {},
   "source": [
    "### 3. Model Creation"
   ]
  },
  {
   "attachments": {},
   "cell_type": "markdown",
   "metadata": {},
   "source": [
    "##### 3.1. FaultDetector Class Creation"
   ]
  },
  {
   "cell_type": "code",
   "execution_count": 3,
   "metadata": {},
   "outputs": [],
   "source": [
    "# Model Creation\n",
    "\n",
    "\n",
    "class FaultDetector(nn.Module):\n",
    "    \"\"\"Information about FaultDetector\"\"\"\n",
    "\n",
    "    def __init__(self, N, hidden_dim, tagset_size):\n",
    "        super(FaultDetector, self).__init__()\n",
    "        self.lstm = nn.LSTM(N, hidden_dim, batch_first=True)\n",
    "        self.fc = nn.Linear(hidden_dim, tagset_size)\n",
    "\n",
    "    def forward(self, x):\n",
    "        lstm_out, _ = self.lstm(x)\n",
    "        fc_layer = self.fc(lstm_out[:, -1, :])\n",
    "\n",
    "        return torch.sigmoid(fc_layer)\n"
   ]
  },
  {
   "attachments": {},
   "cell_type": "markdown",
   "metadata": {},
   "source": [
    "##### 3.2. Model Instance Initialization"
   ]
  },
  {
   "cell_type": "code",
   "execution_count": 4,
   "metadata": {},
   "outputs": [
    {
     "name": "stdout",
     "output_type": "stream",
     "text": [
      "Model structure: FaultDetector(\n",
      "  (lstm): LSTM(1, 20, batch_first=True)\n",
      "  (fc): Linear(in_features=20, out_features=1, bias=True)\n",
      ")\n",
      "\n",
      "Number of parameters: 1861\n"
     ]
    }
   ],
   "source": [
    "model = FaultDetector(n_signals, hidden_dim, tagset_size).to(device)\n",
    "loss_fn = nn.BCELoss()\n",
    "optimizer = torch.optim.Adam(model.parameters(), lr=1e-2)\n",
    "\n",
    "# Learning rate decay (optional)\n",
    "decayRate = 0.96\n",
    "my_lr_scheduler = torch.optim.lr_scheduler.ExponentialLR(\n",
    "    optimizer=optimizer, gamma=decayRate\n",
    ")\n",
    "\n",
    "print(f\"Model structure: {model}\\n\")\n",
    "\n",
    "# Number of parameters\n",
    "model_parameters = filter(lambda p: p.requires_grad, model.parameters())\n",
    "params = sum([np.prod(p.size()) for p in model_parameters])\n",
    "print(f\"Number of parameters: {params}\")\n"
   ]
  },
  {
   "attachments": {},
   "cell_type": "markdown",
   "metadata": {},
   "source": [
    "### 4. Dataset Creation"
   ]
  },
  {
   "attachments": {},
   "cell_type": "markdown",
   "metadata": {},
   "source": [
    "##### 4.1. Dataset Class Creation"
   ]
  },
  {
   "cell_type": "code",
   "execution_count": 5,
   "metadata": {},
   "outputs": [],
   "source": [
    "from utils.signalload import CSV_pandas_path\n",
    "from utils.auxfunctions import moving_window\n",
    "import numpy as np\n",
    "from itertools import repeat\n",
    "\n",
    "\n",
    "class Form1Dataset(torch.utils.data.Dataset):\n",
    "    \"\"\"Some Information about Form1Dataset\"\"\"\n",
    "\n",
    "    def __init__(\n",
    "        self,\n",
    "        dataset_dir,\n",
    "        signal_name,\n",
    "        max_window_idx=193,\n",
    "        window_length=64,\n",
    "        step=1,\n",
    "        test=False,\n",
    "    ):\n",
    "        super(Form1Dataset, self).__init__()\n",
    "        self.max_window_idx = max_window_idx\n",
    "        self.test = test\n",
    "        self.signal_name = signal_name\n",
    "\n",
    "        self.csv_list = glob.glob(f\"{dataset_dir}*.csv\")\n",
    "        self.csv_amount = len(self.csv_list)\n",
    "        self.windows_amount = max_window_idx * self.csv_amount\n",
    "        self.window_length = window_length\n",
    "        self.step = step\n",
    "\n",
    "    def __getitem__(self, index, data_plot=False):\n",
    "\n",
    "        # sample_settings\n",
    "        window_length = self.window_length\n",
    "        step = self.step\n",
    "\n",
    "        # Calculate window_idx and file name\n",
    "        window_idx = index % self.max_window_idx\n",
    "        csv_idx = index // self.max_window_idx\n",
    "        csv_full_path = self.csv_list[csv_idx]\n",
    "\n",
    "        # Load CSV, signal and create windows\n",
    "        csv_name = os.path.basename(csv_full_path)\n",
    "        signal, t, _ = CSV_pandas_path(csv_full_path).load_data(self.signal_name)\n",
    "        signal_windows, t_windows = list(\n",
    "            map(moving_window, [signal, t], repeat(window_length), repeat(step))\n",
    "        )\n",
    "\n",
    "        # select window\n",
    "\n",
    "        signal_window = signal_windows[window_idx]\n",
    "        signal_window = np.expand_dims(signal_window, axis=1)\n",
    "        t_window = t_windows[window_idx]\n",
    "\n",
    "        # create labels\n",
    "        if window_idx < 66:\n",
    "            label = np.array([0])\n",
    "        else:\n",
    "            label = np.array([1])\n",
    "\n",
    "        # For dataset visualization return following information\n",
    "        signal_window = torch.from_numpy(np.copy(signal_window)).float()\n",
    "        label = torch.from_numpy(label).float()\n",
    "        if data_plot == True:\n",
    "            return signal_window.reshape(-1).numpy(), t_window\n",
    "        if self.test == True:\n",
    "            return signal_window, t_window, label, csv_name, index, window_idx\n",
    "\n",
    "        # For training only signals and labels are required\n",
    "\n",
    "        return signal_window, label\n",
    "\n",
    "    def get_event(self, csv_idx):\n",
    "\n",
    "        # Get indices\n",
    "        idx_min = csv_idx * self.max_window_idx\n",
    "        idx_max = ((csv_idx + 1) * self.max_window_idx) - 1\n",
    "\n",
    "        # Get path of csv_index\n",
    "        csv_full_path = self.csv_list[csv_idx]\n",
    "\n",
    "        # Load CSV, signal and create windows\n",
    "        csv_name = os.path.basename(csv_full_path)\n",
    "\n",
    "        # Load CSV, signal and create windows\n",
    "        csv_name = os.path.basename(csv_full_path)\n",
    "        signal, t, _ = CSV_pandas_path(csv_full_path).load_data(self.signal_name)\n",
    "        return signal, t, idx_min, idx_max, csv_name\n",
    "\n",
    "    def len_events(self):\n",
    "        return self.csv_amount\n",
    "\n",
    "    def __len__(self):\n",
    "        return self.csv_amount * self.max_window_idx\n"
   ]
  },
  {
   "attachments": {},
   "cell_type": "markdown",
   "metadata": {},
   "source": [
    "##### 4.2. Database Directory Creation "
   ]
  },
  {
   "cell_type": "code",
   "execution_count": 6,
   "metadata": {},
   "outputs": [
    {
     "name": "stdout",
     "output_type": "stream",
     "text": [
      "copying 54 files...\n",
      "finished\n"
     ]
    }
   ],
   "source": [
    "# Creating Dataset Folders\n",
    "\n",
    "dataset_dir_full = \"C:/Users/aherrada/OneDrive - Universidad del Norte/Uninorte/DetectionDataBase/LSTM_form_1/fault_01/\"\n",
    "dataset_dir = \"C:/Users/aherrada/OneDrive - Universidad del Norte/Uninorte/DetectionDataBase/LSTM_form_1/R1/\"\n",
    "\n",
    "max_window_idx = 130\n",
    "n_events = 54\n",
    "\n",
    "\n",
    "def dataset_creator(source_path, target_path, signal_list=False):\n",
    "    csv_list = glob.glob(f\"{source_path}*.csv\")\n",
    "    if not os.path.isdir(target_path):\n",
    "        print(\"creating\")\n",
    "        os.makedirs(target_path)\n",
    "    else:\n",
    "        file_list = glob.glob(f\"{target_path}*.csv\")\n",
    "        for file in file_list:\n",
    "            os.remove(file)\n",
    "    csv_list = random.sample(csv_list, n_events)\n",
    "    print(f\"copying {len(csv_list)} files...\")\n",
    "    for csv in csv_list:\n",
    "        source_path = csv\n",
    "        target_path = target_path\n",
    "        shutil.copy(source_path, target_path)\n",
    "    print(\"finished\")\n",
    "\n",
    "    if signal_list == True:\n",
    "        print(\"Available Relays (current):\")\n",
    "        CSV_pandas_path(csv_list[0]).relay_list()\n",
    "\n",
    "\n",
    "# Crear los 3 Datasets para entrenar los relés individualmente\n",
    "dataset_creator(dataset_dir_full, dataset_dir, signal_list=False)\n"
   ]
  },
  {
   "attachments": {},
   "cell_type": "markdown",
   "metadata": {},
   "source": [
    "##### 4.3. Dataset and Dataloader Instances Creation"
   ]
  },
  {
   "cell_type": "code",
   "execution_count": 7,
   "metadata": {},
   "outputs": [],
   "source": [
    "# Load Dataset\n",
    "signal_name = \"I: X0023A-R1A\"\n",
    "# signal_name = \"I: X0004A-R2A\"\n",
    "# signal_name = \"I: X0071A-R3A\"\n",
    "\n",
    "dataset = Form1Dataset(\n",
    "    dataset_dir, max_window_idx=max_window_idx, signal_name=signal_name\n",
    ")\n",
    "# dataset.get_events(0)\n",
    "train_dataset, test_dataset = random_split(dataset, [0.95, 0.05])\n",
    "train_dataloader = DataLoader(train_dataset, batch_size=train_batch_size, shuffle=False)\n",
    "test_dataloader = DataLoader(test_dataset, batch_size=test_batch_size, shuffle=False)\n",
    "# EL test set realmente es un dev set\n",
    "# Como regla general, si es utilizado dentro del loop es un dev set.\n"
   ]
  },
  {
   "attachments": {},
   "cell_type": "markdown",
   "metadata": {},
   "source": [
    "### 5. Model Training\n"
   ]
  },
  {
   "attachments": {},
   "cell_type": "markdown",
   "metadata": {},
   "source": [
    "##### 5.1. Train / Test(dev) Loop Creation"
   ]
  },
  {
   "cell_type": "code",
   "execution_count": 8,
   "metadata": {},
   "outputs": [],
   "source": [
    "# Create Training / Test / Validation Loops\n",
    "\n",
    "\n",
    "# Training\n",
    "def train(dataloader, model, loss_fn, optimizer, return_loss=False):\n",
    "    size = len(dataloader.dataset)\n",
    "    model.train()\n",
    "    loss_list = []\n",
    "\n",
    "    for batch, (x, y) in enumerate(dataloader):\n",
    "        x, y = x.to(device), y.to(device)\n",
    "\n",
    "        # Compute prediction error\n",
    "        pred = model(x)\n",
    "        loss = loss_fn(pred, y)\n",
    "\n",
    "        # Backpropagation\n",
    "        optimizer.zero_grad()\n",
    "        loss.backward()\n",
    "        optimizer.step()\n",
    "        if return_loss == True:\n",
    "            loss_list.append(loss.item())\n",
    "        if batch % 2 == 0:\n",
    "            loss, current = loss.item(), batch * len(x)\n",
    "            print(f\"loss: {loss:>f} [{current:>5d}/{size:>5d}]\")\n",
    "\n",
    "        if batch % 5 == 0:\n",
    "            my_lr_scheduler.step()\n",
    "    if return_loss == True:\n",
    "        return loss_list\n",
    "\n",
    "\n",
    "from torchmetrics.functional.classification import binary_stat_scores\n",
    "\n",
    "\n",
    "def test_metrics(dataloader, model, loss_fn, return_metrics=False):\n",
    "    size = len(dataloader.dataset)\n",
    "    num_batches = len(dataloader)\n",
    "    conf_matrix = torch.zeros(1, 5, dtype=torch.int64).to(device)\n",
    "    model.eval()\n",
    "    test_loss, correct = 0, 0\n",
    "    with torch.no_grad():\n",
    "        for x, y in tqdm(dataloader):\n",
    "\n",
    "            x, y = x.to(device), y.to(device)\n",
    "            pred = model(x)\n",
    "\n",
    "            conf_matrix = conf_matrix.add(binary_stat_scores(pred, y))\n",
    "            test_loss += loss_fn(pred, y).item()\n",
    "            correct += (torch.round(pred) == y).type(torch.float).sum().item()\n",
    "\n",
    "    test_loss /= num_batches\n",
    "    acc = (conf_matrix[0, 0] + conf_matrix[0, 2]) / conf_matrix[0, :-1].sum()\n",
    "    correct /= size\n",
    "    print(f\"{correct*100:>0.1f}\")\n",
    "    print(f\"Test Error: \\n Accuracy: {(100*acc):>0.1f}%, Avg loss: {test_loss:>8f} \\n\")\n",
    "    if return_metrics == True:\n",
    "        return conf_matrix, test_loss\n"
   ]
  },
  {
   "attachments": {},
   "cell_type": "markdown",
   "metadata": {},
   "source": [
    "##### 5.2. Training the model"
   ]
  },
  {
   "cell_type": "code",
   "execution_count": 9,
   "metadata": {},
   "outputs": [
    {
     "name": "stdout",
     "output_type": "stream",
     "text": [
      "Epoch 1\n",
      "--------------------------------\n"
     ]
    },
    {
     "name": "stderr",
     "output_type": "stream",
     "text": [
      "100%|██████████| 22/22 [00:24<00:00,  1.12s/it]"
     ]
    },
    {
     "name": "stdout",
     "output_type": "stream",
     "text": [
      "97.4\n",
      "Test Error: \n",
      " Accuracy: 97.4%, Avg loss: 0.121627 \n",
      "\n",
      "tensor([[163,   0, 179,   9, 172]])\n"
     ]
    },
    {
     "name": "stderr",
     "output_type": "stream",
     "text": [
      "\n"
     ]
    }
   ],
   "source": [
    "# model.load_state_dict(torch.load('./models/LSTMHarmonic_weights_R3_934.pth'))\n",
    "model.load_state_dict(torch.load(\"./models/LSTMHarmonic_weights_R1_996.pth\"))\n",
    "# model.load_state_dict(torch.load('./models/LSTMHarmonic_weights_R2_978.pth'))\n",
    "\n",
    "epochs = 1\n",
    "\n",
    "for epoch in range(epochs):\n",
    "\n",
    "    print(f\"Epoch {epoch+1}\\n--------------------------------\")\n",
    "    # train_loss = train(train_dataloader, model, loss_fn, optimizer, return_loss=True)\n",
    "    # accuracy, _ = test(test_dataloader, model, loss_fn, return_metrics=True)\n",
    "    conf_matrix, _ = test_metrics(test_dataloader, model, loss_fn, return_metrics=True)\n",
    "print(conf_matrix)\n"
   ]
  },
  {
   "cell_type": "code",
   "execution_count": 10,
   "metadata": {},
   "outputs": [
    {
     "name": "stdout",
     "output_type": "stream",
     "text": [
      "97.4\n",
      "tensor([[163,   0, 179,   9, 172]])\n"
     ]
    }
   ],
   "source": [
    "def conf_matrix_metrics(conf_matrix: torch.LongTensor) -> dict:\n",
    "    \"\"\"\n",
    "    Returns dictionary with metrics from a confusion matrix.\n",
    "\n",
    "            Parameters:\n",
    "                    conf_matrix (torch.Tensor): confusion matrix of dimension (1, 5)\n",
    "                        [TP, FP, TN, FN, TP + FN]\n",
    "\n",
    "            Returns:\n",
    "                    metrics (dict): dictionary with following metrics:\n",
    "                        metrics[\"TOTAL\"] -> total amount of samples.\n",
    "                        metrics[\"TPR\"]   -> True Positive Rate,  sensibility, recall, hit-rate.\n",
    "                        metrics[\"FPR\"]   -> False Positive Rate, Fallout.\n",
    "                        metrics[\"TNR\"]   -> True Negative Rate,  specificity, selectivity\n",
    "                        metrics[\"ACC\"]   -> Accuracy.\n",
    "                        metrics[\"PPV\"]   -> Positive Predictive Value, Precision.\n",
    "    \"\"\"\n",
    "    metrics = {}\n",
    "    TP = int(conf_matrix[0, 0].item())\n",
    "    FP = int(conf_matrix[0, 1].item())\n",
    "    TN = int(conf_matrix[0, 2].item())\n",
    "    FN = int(conf_matrix[0, 3].item())\n",
    "    metrics[\"TP\"] = TP\n",
    "    metrics[\"FP\"] = FP\n",
    "    metrics[\"TN\"] = TN\n",
    "    metrics[\"FN\"] = FN\n",
    "    P = TP + FN\n",
    "    N = TN + FP\n",
    "    TOTAL = TP + FP + TN + FN\n",
    "    metrics[\"TOTAL\"] = TOTAL\n",
    "    metrics[\"TPR\"] = TP / (TP + FN)\n",
    "    metrics[\"FPR\"] = FP / (FP + TN)\n",
    "    metrics[\"TNR\"] = TN / (FP + TN)\n",
    "    metrics[\"ACC\"] = (TP + TN) / (TOTAL)\n",
    "    try:\n",
    "        metrics[\"PPV\"] = TP / (TP + FP)\n",
    "    except ZeroDivisionError:\n",
    "        print(\"No se puede obtener PPV, división por cero\")\n",
    "    return metrics\n",
    "\n",
    "\n",
    "metrics = conf_matrix_metrics(conf_matrix)\n",
    "print(round(metrics[\"ACC\"] * 100, 1))\n",
    "print(conf_matrix)\n"
   ]
  },
  {
   "attachments": {},
   "cell_type": "markdown",
   "metadata": {},
   "source": [
    "##### 5.3. Training loss visualization"
   ]
  },
  {
   "cell_type": "code",
   "execution_count": 11,
   "metadata": {},
   "outputs": [
    {
     "name": "stdout",
     "output_type": "stream",
     "text": [
      "Error! Run train loop\n"
     ]
    }
   ],
   "source": [
    "try:\n",
    "    mini_batch_list = [index for index, _ in enumerate(train_loss)]\n",
    "    train_loss_ewm = pd.DataFrame(train_loss).ewm(com=0.95).mean()\n",
    "    plt.plot(mini_batch_list, train_loss, mini_batch_list, train_loss_ewm)\n",
    "except NameError:\n",
    "    print(\"Error! Run train loop\")\n"
   ]
  },
  {
   "attachments": {},
   "cell_type": "markdown",
   "metadata": {},
   "source": [
    "##### 5.4. Saving the Model"
   ]
  },
  {
   "cell_type": "code",
   "execution_count": 12,
   "metadata": {},
   "outputs": [],
   "source": [
    "# # Save the Model\n",
    "# torch.save(model.state_dict(), './models/LSTMHarmonic_weights_989.pth')\n"
   ]
  },
  {
   "attachments": {},
   "cell_type": "markdown",
   "metadata": {},
   "source": [
    "### 6. Results Visualization\n"
   ]
  },
  {
   "attachments": {},
   "cell_type": "markdown",
   "metadata": {},
   "source": [
    "#### 6.1. Confussion Matrix Results Table Function"
   ]
  },
  {
   "cell_type": "code",
   "execution_count": 13,
   "metadata": {},
   "outputs": [],
   "source": [
    "# Data visualization (CPU)\n",
    "\n",
    "\n",
    "def confusion_matrix_labels(pred_label, true_label):\n",
    "    label = \"\"\n",
    "    if int(pred_label) == int(true_label):\n",
    "        label += \"T\"\n",
    "    else:\n",
    "        label += \"F\"\n",
    "    if pred_label == 1:\n",
    "        label += \"P\"\n",
    "    else:\n",
    "        label += \"N\"\n",
    "    return label\n",
    "\n",
    "\n",
    "confusion_matrix_pandas = np.vectorize(confusion_matrix_labels)\n",
    "\n",
    "\n",
    "def confusion_matrix(\n",
    "    preds: torch.FloatTensor, labels: torch.FloatTensor\n",
    ") -> pd.DataFrame:\n",
    "    preds = preds.detach()\n",
    "    labels = labels.detach()\n",
    "    data = {\n",
    "        \"Pred probability\": torch.reshape(preds, (-1,)).cpu().numpy(),\n",
    "        \"Pred label\": torch.reshape(torch.round(preds), (-1,)).int().cpu().numpy(),\n",
    "        \"True label\": torch.reshape(labels, (-1,)).int().cpu().numpy(),\n",
    "    }\n",
    "    df = pd.DataFrame(data)\n",
    "    df[\"Result\"] = confusion_matrix_pandas(df[\"Pred label\"], df[\"True label\"])\n",
    "    return df\n"
   ]
  },
  {
   "attachments": {},
   "cell_type": "markdown",
   "metadata": {},
   "source": [
    "##### 6.2. Plotly Plot"
   ]
  },
  {
   "cell_type": "code",
   "execution_count": 14,
   "metadata": {},
   "outputs": [
    {
     "name": "stderr",
     "output_type": "stream",
     "text": [
      "c:\\Users\\aherrada\\Documents\\Git\\Pytorch\\env\\lib\\site-packages\\torch\\utils\\data\\_utils\\collate.py:172: UserWarning: The given NumPy array is not writable, and PyTorch does not support non-writable tensors. This means writing to this tensor will result in undefined behavior. You may want to copy the array to protect its data or make it writable before converting it to a tensor. This type of warning will be suppressed for the rest of this program. (Triggered internally at C:\\actions-runner\\_work\\pytorch\\pytorch\\builder\\windows\\pytorch\\torch\\csrc\\utils\\tensor_numpy.cpp:205.)\n",
      "  return collate([torch.as_tensor(b) for b in batch], collate_fn_map=collate_fn_map)\n"
     ]
    },
    {
     "name": "stdout",
     "output_type": "stream",
     "text": [
      "64\n",
      "torch.Size([64])\n",
      "torch.Size([64, 1])\n",
      "torch.FloatTensor\n",
      "<class 'pandas.core.frame.DataFrame'>\n",
      "   Pred probability  Pred label  True label Result\n",
      "0          0.947981           1           1     TP\n",
      "1          0.015661           0           0     TN\n",
      "2          0.962013           1           1     TP\n",
      "3          0.965569           1           1     TP\n",
      "4          0.930255           1           1     TP\n",
      "5          0.932843           1           1     TP\n",
      "6          0.931305           1           1     TP\n",
      "7          0.047577           0           0     TN\n",
      "8          0.032906           0           0     TN\n"
     ]
    },
    {
     "data": {
      "application/vnd.plotly.v1+json": {
       "config": {
        "plotlyServerURL": "https://plot.ly"
       },
       "data": [
        {
         "marker": {
          "color": "black"
         },
         "name": "Fault - 129 - Fault01_B802_RF60.csv",
         "type": "scatter",
         "x": [
          0.0335916,
          0.033852,
          0.0341124,
          0.0343728,
          0.0346332,
          0.0348936,
          0.035154,
          0.0354144,
          0.0356748,
          0.0359352,
          0.0361956,
          0.036456,
          0.0367164,
          0.0369768,
          0.0372372,
          0.0374976,
          0.037758,
          0.0380184,
          0.0382788,
          0.0385392,
          0.0387996,
          0.03906,
          0.0393204,
          0.0395808,
          0.0398412,
          0.0401016,
          0.040362,
          0.0406224,
          0.0408828,
          0.0411432,
          0.0414036,
          0.041664,
          0.0419244,
          0.0421848,
          0.0424452,
          0.0427056,
          0.042966,
          0.0432264,
          0.0434868,
          0.0437472,
          0.0440076,
          0.044268,
          0.0445284,
          0.0447888,
          0.0450492,
          0.0453096,
          0.04557,
          0.0458304,
          0.0460908,
          0.0463512,
          0.0466116,
          0.046872,
          0.0471324,
          0.0473928,
          0.0476532,
          0.0479136,
          0.048174,
          0.0484344,
          0.0486948,
          0.0489552,
          0.0492156,
          0.049476,
          0.0497364,
          0.0499968
         ],
         "xaxis": "x",
         "y": [
          -30.69753074645996,
          -75.20845031738281,
          -114.41657257080078,
          -158.16986083984375,
          -191.44216918945312,
          -220.74105834960938,
          -242.3531494140625,
          -263.1830749511719,
          -283.2628173828125,
          -302.4798583984375,
          -315.5150146484375,
          -323.41845703125,
          -331.7275390625,
          -336.64453125,
          -338.736083984375,
          -334.1186218261719,
          -329.08203125,
          -321.1894836425781,
          -310.4056396484375,
          -294.42041015625,
          -277.0052490234375,
          -257.204833984375,
          -234.48187255859375,
          -209.29318237304688,
          -182.38720703125,
          -154.19374084472656,
          -123.64269256591797,
          -91.86809539794922,
          -59.950496673583984,
          -27.720552444458008,
          5.653188705444336,
          39.062496185302734,
          71.55462646484375,
          103.32073211669922,
          134.6439666748047,
          164.99765014648438,
          192.72381591796875,
          219.14166259765625,
          243.37599182128906,
          264.479248046875,
          283.2115173339844,
          299.43804931640625,
          313.0829772949219,
          323.8595275878906,
          330.8864440917969,
          335.14263916015625,
          336.4432373046875,
          334.3127136230469,
          328.5727233886719,
          320.025146484375,
          308.5155944824219,
          293.8900146484375,
          276.2352600097656,
          256.16387939453125,
          233.6092071533203,
          208.6796112060547,
          181.55215454101562,
          153.000732421875,
          122.98997497558594,
          91.56425476074219,
          59.25653839111328,
          26.605079650878906,
          -6.365650653839111,
          -39.47450256347656
         ],
         "yaxis": "y"
        },
        {
         "marker": {
          "color": "black"
         },
         "name": "No Fault - 22 - Fault01_B124_RF40.csv",
         "type": "scatter",
         "x": [
          0.0057288,
          0.0059892,
          0.0062496,
          0.00651,
          0.0067704,
          0.0070308,
          0.0072912,
          0.0075516,
          0.007812,
          0.0080724,
          0.0083328,
          0.0085932,
          0.0088536,
          0.009114,
          0.0093744,
          0.0096348,
          0.0098952,
          0.0101556,
          0.010416,
          0.0106764,
          0.0109368,
          0.0111972,
          0.0114576,
          0.011718,
          0.0119784,
          0.0122388,
          0.0124992,
          0.0127596,
          0.01302,
          0.0132804,
          0.0135408,
          0.0138012,
          0.0140616,
          0.014322,
          0.0145824,
          0.0148428,
          0.0151032,
          0.0153636,
          0.015624,
          0.0158844,
          0.0161448,
          0.0164052,
          0.0166656,
          0.016926,
          0.0171864,
          0.0174468,
          0.0177072,
          0.0179676,
          0.018228,
          0.0184884,
          0.0187488,
          0.0190092,
          0.0192696,
          0.01953,
          0.0197904,
          0.0200508,
          0.0203112,
          0.0205716,
          0.020832,
          0.0210924,
          0.0213528,
          0.0216132,
          0.0218736,
          0.022134
         ],
         "xaxis": "x2",
         "y": [
          23.44883918762207,
          26.160045623779297,
          28.644733428955078,
          31.660531997680664,
          34.72190856933594,
          37.80734634399414,
          39.8053092956543,
          40.96556091308594,
          41.53212356567383,
          42.297035217285156,
          42.963985443115234,
          43.32362365722656,
          43.05786895751953,
          42.19485092163086,
          40.4558219909668,
          38.17716598510742,
          36.04568099975586,
          34.42915344238281,
          32.29164123535156,
          29.359779357910156,
          25.487934112548828,
          21.454345703125,
          17.39992332458496,
          13.775084495544434,
          10.316564559936523,
          6.7317585945129395,
          2.259263277053833,
          -2.594295024871826,
          -7.084525108337402,
          -10.92940616607666,
          -14.271812438964844,
          -17.758960723876953,
          -21.588830947875977,
          -25.541419982910156,
          -29.18302345275879,
          -32.010868072509766,
          -34.157859802246094,
          -36.19593811035156,
          -38.434146881103516,
          -40.42856216430664,
          -41.85652160644531,
          -42.44740295410156,
          -42.850555419921875,
          -42.818477630615234,
          -42.55113983154297,
          -41.6451416015625,
          -40.55830383300781,
          -38.908870697021484,
          -37.045875549316406,
          -34.7324104309082,
          -32.04055404663086,
          -28.93328094482422,
          -25.73457145690918,
          -22.324636459350586,
          -18.736289978027344,
          -14.699165344238281,
          -10.566730499267578,
          -6.366684436798096,
          -2.283893346786499,
          1.8026927709579468,
          5.825986862182617,
          10.042733192443848,
          14.0584077835083,
          17.99738121032715
         ],
         "yaxis": "y2"
        },
        {
         "marker": {
          "color": "black"
         },
         "name": "Fault - 122 - Fault01_B832_RF100.csv",
         "type": "scatter",
         "x": [
          0.0317688,
          0.0320292,
          0.0322896,
          0.03255,
          0.0328104,
          0.0330708,
          0.0333312,
          0.0335916,
          0.033852,
          0.0341124,
          0.0343728,
          0.0346332,
          0.0348936,
          0.035154,
          0.0354144,
          0.0356748,
          0.0359352,
          0.0361956,
          0.036456,
          0.0367164,
          0.0369768,
          0.0372372,
          0.0374976,
          0.037758,
          0.0380184,
          0.0382788,
          0.0385392,
          0.0387996,
          0.03906,
          0.0393204,
          0.0395808,
          0.0398412,
          0.0401016,
          0.040362,
          0.0406224,
          0.0408828,
          0.0411432,
          0.0414036,
          0.041664,
          0.0419244,
          0.0421848,
          0.0424452,
          0.0427056,
          0.042966,
          0.0432264,
          0.0434868,
          0.0437472,
          0.0440076,
          0.044268,
          0.0445284,
          0.0447888,
          0.0450492,
          0.0453096,
          0.04557,
          0.0458304,
          0.0460908,
          0.0463512,
          0.0466116,
          0.046872,
          0.0471324,
          0.0473928,
          0.0476532,
          0.0479136,
          0.048174
         ],
         "xaxis": "x3",
         "y": [
          -18.8479061126709,
          -22.45168685913086,
          -26.002851486206055,
          -29.282390594482422,
          -32.18129348754883,
          -34.81498336791992,
          -37.07721710205078,
          -43.126121520996094,
          -92.12460327148438,
          -109.07816314697266,
          -115.00086212158203,
          -123.21807861328125,
          -112.26956939697266,
          -115.18663787841797,
          -127.88924407958984,
          -113.97563934326172,
          -97.11157989501953,
          -92.40180969238281,
          -79.68513488769531,
          -81.20088958740234,
          -61.05900192260742,
          -38.77461242675781,
          -32.49808120727539,
          -20.53647232055664,
          -8.857049942016602,
          10.393192291259766,
          33.67454147338867,
          39.67769241333008,
          51.04989242553711,
          62.97793197631836,
          83.15216827392578,
          99.77304077148438,
          109.5616455078125,
          108.83784484863281,
          122.86599731445312,
          136.7671356201172,
          145.71295166015625,
          144.280517578125,
          146.66197204589844,
          145.13980102539062,
          150.99957275390625,
          153.89227294921875,
          149.8196563720703,
          144.4468231201172,
          143.4312744140625,
          141.0004119873047,
          127.14107513427734,
          116.59310150146484,
          109.72196197509766,
          97.57057189941406,
          95.9280776977539,
          75.06505584716797,
          49.027469635009766,
          46.06803512573242,
          34.98451614379883,
          22.98427391052246,
          7.171077251434326,
          -21.553104400634766,
          -34.68375778198242,
          -37.77583312988281,
          -56.44816970825195,
          -67.95671844482422,
          -85.48490905761719,
          -101.83892822265625
         ],
         "yaxis": "y3"
        },
        {
         "marker": {
          "color": "black"
         },
         "name": "Fault - 106 - Fault01_B832_RF40.csv",
         "type": "scatter",
         "x": [
          0.0276024,
          0.0278628,
          0.0281232,
          0.0283836,
          0.028644,
          0.0289044,
          0.0291648,
          0.0294252,
          0.0296856,
          0.029946,
          0.0302064,
          0.0304668,
          0.0307272,
          0.0309876,
          0.031248,
          0.0315084,
          0.0317688,
          0.0320292,
          0.0322896,
          0.03255,
          0.0328104,
          0.0330708,
          0.0333312,
          0.0335916,
          0.033852,
          0.0341124,
          0.0343728,
          0.0346332,
          0.0348936,
          0.035154,
          0.0354144,
          0.0356748,
          0.0359352,
          0.0361956,
          0.036456,
          0.0367164,
          0.0369768,
          0.0372372,
          0.0374976,
          0.037758,
          0.0380184,
          0.0382788,
          0.0385392,
          0.0387996,
          0.03906,
          0.0393204,
          0.0395808,
          0.0398412,
          0.0401016,
          0.040362,
          0.0406224,
          0.0408828,
          0.0411432,
          0.0414036,
          0.041664,
          0.0419244,
          0.0421848,
          0.0424452,
          0.0427056,
          0.042966,
          0.0432264,
          0.0434868,
          0.0437472,
          0.0440076
         ],
         "xaxis": "x4",
         "y": [
          -16.695178985595703,
          -12.511877059936523,
          -8.424254417419434,
          -4.24196720123291,
          -0.10292553156614304,
          4.053736686706543,
          8.300032615661621,
          12.402277946472168,
          16.34137725830078,
          20.186573028564453,
          23.779451370239258,
          27.324268341064453,
          30.479074478149414,
          33.336090087890625,
          35.83851623535156,
          38.115108489990234,
          40.00492477416992,
          41.54624938964844,
          42.624755859375,
          43.306724548339844,
          43.618507385253906,
          43.449241638183594,
          42.81941604614258,
          44.66605758666992,
          71.14884185791016,
          74.79112243652344,
          74.94009399414062,
          77.22794342041016,
          61.954837799072266,
          57.485172271728516,
          53.10882568359375,
          32.81146240234375,
          19.423446655273438,
          2.708061933517456,
          -14.843033790588379,
          -27.516281127929688,
          -48.99983215332031,
          -70.8058853149414,
          -84.92693328857422,
          -102.42781829833984,
          -118.7771987915039,
          -135.77444458007812,
          -153.64004516601562,
          -163.74041748046875,
          -174.29315185546875,
          -186.78219604492188,
          -196.14393615722656,
          -203.59080505371094,
          -206.7019805908203,
          -208.8605194091797,
          -211.85472106933594,
          -211.612060546875,
          -207.70510864257812,
          -201.6601104736328,
          -194.14010620117188,
          -186.80824279785156,
          -176.2073974609375,
          -163.4585418701172,
          -148.74368286132812,
          -133.79769897460938,
          -117.37184143066406,
          -99.74300384521484,
          -80.36079406738281,
          -60.91775131225586
         ],
         "yaxis": "y4"
        },
        {
         "marker": {
          "color": "black"
         },
         "name": "Fault - 91 - Fault01_B840_RF80.csv",
         "type": "scatter",
         "x": [
          0.0236964,
          0.0239568,
          0.0242172,
          0.0244776,
          0.024738,
          0.0249984,
          0.0252588,
          0.0255192,
          0.0257796,
          0.02604,
          0.0263004,
          0.0265608,
          0.0268212,
          0.0270816,
          0.027342,
          0.0276024,
          0.0278628,
          0.0281232,
          0.0283836,
          0.028644,
          0.0289044,
          0.0291648,
          0.0294252,
          0.0296856,
          0.029946,
          0.0302064,
          0.0304668,
          0.0307272,
          0.0309876,
          0.031248,
          0.0315084,
          0.0317688,
          0.0320292,
          0.0322896,
          0.03255,
          0.0328104,
          0.0330708,
          0.0333312,
          0.0335916,
          0.033852,
          0.0341124,
          0.0343728,
          0.0346332,
          0.0348936,
          0.035154,
          0.0354144,
          0.0356748,
          0.0359352,
          0.0361956,
          0.036456,
          0.0367164,
          0.0369768,
          0.0372372,
          0.0374976,
          0.037758,
          0.0380184,
          0.0382788,
          0.0385392,
          0.0387996,
          0.03906,
          0.0393204,
          0.0395808,
          0.0398412,
          0.0401016
         ],
         "xaxis": "x5",
         "y": [
          7.168273448944092,
          11.222187042236328,
          15.227412223815918,
          19.084623336791992,
          22.737590789794922,
          26.26323699951172,
          29.50928497314453,
          32.392974853515625,
          34.98326110839844,
          37.25430679321289,
          39.317989349365234,
          40.89823913574219,
          42.09587478637695,
          42.82701873779297,
          43.24349594116211,
          43.228214263916016,
          42.721221923828125,
          41.78947448730469,
          40.4481201171875,
          38.78380584716797,
          36.85717010498047,
          34.517940521240234,
          31.687875747680664,
          28.51243782043457,
          25.265220642089844,
          21.78594970703125,
          17.941638946533203,
          13.876948356628418,
          9.745648384094238,
          5.66417932510376,
          1.4860332012176514,
          -2.630117177963257,
          -6.854908466339111,
          -11.031142234802246,
          -15.014793395996094,
          -18.87558937072754,
          -22.503131866455078,
          -26.058334350585938,
          -31.681774139404297,
          -81.46920013427734,
          -108.43756103515625,
          -113.86526489257812,
          -136.56068420410156,
          -130.3090362548828,
          -132.83689880371094,
          -156.99237060546875,
          -149.09388732910156,
          -131.41650390625,
          -137.080810546875,
          -130.53347778320312,
          -126.62446594238281,
          -122.094482421875,
          -95.32946014404297,
          -80.63079071044922,
          -84.15727996826172,
          -69.1086654663086,
          -52.61069869995117,
          -30.12662696838379,
          -7.106285095214844,
          -3.59904146194458,
          3.4836361408233643,
          27.41144561767578,
          44.27648162841797,
          67.14198303222656
         ],
         "yaxis": "y5"
        },
        {
         "marker": {
          "color": "black"
         },
         "name": "Fault - 101 - Fault01_B354_RF60.csv",
         "type": "scatter",
         "x": [
          0.0263004,
          0.0265608,
          0.0268212,
          0.0270816,
          0.027342,
          0.0276024,
          0.0278628,
          0.0281232,
          0.0283836,
          0.028644,
          0.0289044,
          0.0291648,
          0.0294252,
          0.0296856,
          0.029946,
          0.0302064,
          0.0304668,
          0.0307272,
          0.0309876,
          0.031248,
          0.0315084,
          0.0317688,
          0.0320292,
          0.0322896,
          0.03255,
          0.0328104,
          0.0330708,
          0.0333312,
          0.0335916,
          0.033852,
          0.0341124,
          0.0343728,
          0.0346332,
          0.0348936,
          0.035154,
          0.0354144,
          0.0356748,
          0.0359352,
          0.0361956,
          0.036456,
          0.0367164,
          0.0369768,
          0.0372372,
          0.0374976,
          0.037758,
          0.0380184,
          0.0382788,
          0.0385392,
          0.0387996,
          0.03906,
          0.0393204,
          0.0395808,
          0.0398412,
          0.0401016,
          0.040362,
          0.0406224,
          0.0408828,
          0.0411432,
          0.0414036,
          0.041664,
          0.0419244,
          0.0421848,
          0.0424452,
          0.0427056
         ],
         "xaxis": "x6",
         "y": [
          34.93474578857422,
          32.24079895019531,
          29.124351501464844,
          25.93876838684082,
          22.46996307373047,
          18.87388038635254,
          14.817709922790527,
          10.769363403320312,
          6.6585893630981445,
          2.5056469440460205,
          -1.5719246864318848,
          -5.690195560455322,
          -9.826284408569336,
          -13.849944114685059,
          -17.74580955505371,
          -21.36124610900879,
          -24.953290939331055,
          -28.216299057006836,
          -31.297809600830078,
          -33.90413284301758,
          -36.292938232421875,
          -38.39029312133789,
          -40.10923767089844,
          -41.43906784057617,
          -42.321250915527344,
          -42.837745666503906,
          -43.02048110961914,
          -42.612449645996094,
          -49.769508361816406,
          -76.43247985839844,
          -80.2098159790039,
          -89.00154876708984,
          -81.81094360351562,
          -71.27678680419922,
          -64.94351196289062,
          -54.81657028198242,
          -43.74232482910156,
          -23.642654418945312,
          -9.985429763793945,
          7.7267842292785645,
          21.47842788696289,
          42.42655944824219,
          60.34727478027344,
          78.26513671875,
          91.85572052001953,
          107.91204833984375,
          122.67713165283203,
          138.0620880126953,
          150.3774871826172,
          160.12704467773438,
          170.18881225585938,
          178.79029846191406,
          186.09451293945312,
          188.97386169433594,
          191.61575317382812,
          191.65640258789062,
          192.4870147705078,
          188.4480743408203,
          184.2040557861328,
          176.5823516845703,
          168.99636840820312,
          158.4438018798828,
          147.5752410888672,
          134.12930297851562
         ],
         "yaxis": "y6"
        },
        {
         "marker": {
          "color": "black"
         },
         "name": "Fault - 87 - Fault01_B846_RF20.csv",
         "type": "scatter",
         "x": [
          0.0226548,
          0.0229152,
          0.0231756,
          0.023436,
          0.0236964,
          0.0239568,
          0.0242172,
          0.0244776,
          0.024738,
          0.0249984,
          0.0252588,
          0.0255192,
          0.0257796,
          0.02604,
          0.0263004,
          0.0265608,
          0.0268212,
          0.0270816,
          0.027342,
          0.0276024,
          0.0278628,
          0.0281232,
          0.0283836,
          0.028644,
          0.0289044,
          0.0291648,
          0.0294252,
          0.0296856,
          0.029946,
          0.0302064,
          0.0304668,
          0.0307272,
          0.0309876,
          0.031248,
          0.0315084,
          0.0317688,
          0.0320292,
          0.0322896,
          0.03255,
          0.0328104,
          0.0330708,
          0.0333312,
          0.0335916,
          0.033852,
          0.0341124,
          0.0343728,
          0.0346332,
          0.0348936,
          0.035154,
          0.0354144,
          0.0356748,
          0.0359352,
          0.0361956,
          0.036456,
          0.0367164,
          0.0369768,
          0.0372372,
          0.0374976,
          0.037758,
          0.0380184,
          0.0382788,
          0.0385392,
          0.0387996,
          0.03906
         ],
         "xaxis": "x7",
         "y": [
          36.98792266845703,
          38.828033447265625,
          40.51902770996094,
          41.67206573486328,
          42.53730773925781,
          42.95353317260742,
          42.88398742675781,
          42.49979019165039,
          41.48054885864258,
          40.29343795776367,
          38.559814453125,
          36.7051887512207,
          34.41642761230469,
          31.609901428222656,
          28.557018280029297,
          25.29790687561035,
          21.83407974243164,
          18.038494110107422,
          13.951592445373535,
          9.975215911865234,
          5.859012603759766,
          1.8149425983428955,
          -2.3916337490081787,
          -6.517299175262451,
          -10.70361614227295,
          -14.673243522644043,
          -18.410581588745117,
          -22.056686401367188,
          -25.56192970275879,
          -28.89548683166504,
          -31.864849090576172,
          -34.37574005126953,
          -36.74811935424805,
          -38.68183517456055,
          -40.43003845214844,
          -41.59881591796875,
          -42.465110778808594,
          -42.9041748046875,
          -42.90058517456055,
          -42.500980377197266,
          -41.564456939697266,
          -40.32225036621094,
          -39.89765167236328,
          -58.37052536010742,
          -61.206390380859375,
          -56.56746292114258,
          -55.967533111572266,
          -43.50623321533203,
          -31.444305419921875,
          -27.74430274963379,
          -7.443129539489746,
          11.617321014404297,
          24.07616424560547,
          43.33366775512695,
          61.948020935058594,
          78.85154724121094,
          102.81822204589844,
          119.1984634399414,
          133.8041229248047,
          154.6848602294922,
          171.40126037597656,
          184.66253662109375,
          198.0010528564453,
          207.30462646484375
         ],
         "yaxis": "y7"
        },
        {
         "marker": {
          "color": "black"
         },
         "name": "No Fault - 5 - Fault01_B860_RF100.csv",
         "type": "scatter",
         "x": [
          0.001302,
          0.0015624,
          0.0018228,
          0.0020832,
          0.0023436,
          0.002604,
          0.0028644,
          0.0031248,
          0.0033852,
          0.0036456,
          0.003906,
          0.0041664,
          0.0044268,
          0.0046872,
          0.0049476,
          0.005208,
          0.0054684,
          0.0057288,
          0.0059892,
          0.0062496,
          0.00651,
          0.0067704,
          0.0070308,
          0.0072912,
          0.0075516,
          0.007812,
          0.0080724,
          0.0083328,
          0.0085932,
          0.0088536,
          0.009114,
          0.0093744,
          0.0096348,
          0.0098952,
          0.0101556,
          0.010416,
          0.0106764,
          0.0109368,
          0.0111972,
          0.0114576,
          0.011718,
          0.0119784,
          0.0122388,
          0.0124992,
          0.0127596,
          0.01302,
          0.0132804,
          0.0135408,
          0.0138012,
          0.0140616,
          0.014322,
          0.0145824,
          0.0148428,
          0.0151032,
          0.0153636,
          0.015624,
          0.0158844,
          0.0161448,
          0.0164052,
          0.0166656,
          0.016926,
          0.0171864,
          0.0174468,
          0.0177072
         ],
         "xaxis": "x8",
         "y": [
          45.14202880859375,
          46.532432556152344,
          43.885772705078125,
          39.37489318847656,
          33.571895599365234,
          30.7172794342041,
          29.08291244506836,
          27.627208709716797,
          24.21416473388672,
          18.767803192138672,
          12.119540214538574,
          7.372284412384033,
          4.277810096740723,
          2.275695562362671,
          -1.7327646017074585,
          -7.041286945343018,
          -12.98177719116211,
          -17.137006759643555,
          -20.298965454101562,
          -22.732826232910156,
          -25.808202743530273,
          -29.5509090423584,
          -33.506656646728516,
          -36.2690544128418,
          -38.034889221191406,
          -39.02601623535156,
          -40.493873596191406,
          -41.90711975097656,
          -43.02981185913086,
          -43.58266830444336,
          -43.377952575683594,
          -42.406497955322266,
          -40.82494354248047,
          -39.34009552001953,
          -38.20112609863281,
          -36.70878219604492,
          -34.4833869934082,
          -30.987836837768555,
          -27.369220733642578,
          -23.803457260131836,
          -20.70955467224121,
          -17.46916961669922,
          -13.781599998474121,
          -9.342812538146973,
          -4.586432933807373,
          -0.1539374142885208,
          3.616579055786133,
          7.191463470458984,
          11.030088424682617,
          15.181197166442871,
          19.35603904724121,
          23.24903106689453,
          26.597965240478516,
          29.40797996520996,
          32.018287658691406,
          34.71759033203125,
          37.30895233154297,
          39.44083786010742,
          40.802032470703125,
          41.852569580078125,
          42.477699279785156,
          43.031620025634766,
          43.00484085083008,
          42.654876708984375
         ],
         "yaxis": "y8"
        },
        {
         "marker": {
          "color": "black"
         },
         "name": "No Fault - 58 - Fault01_B840_RF60.csv",
         "type": "scatter",
         "x": [
          0.0151032,
          0.0153636,
          0.015624,
          0.0158844,
          0.0161448,
          0.0164052,
          0.0166656,
          0.016926,
          0.0171864,
          0.0174468,
          0.0177072,
          0.0179676,
          0.018228,
          0.0184884,
          0.0187488,
          0.0190092,
          0.0192696,
          0.01953,
          0.0197904,
          0.0200508,
          0.0203112,
          0.0205716,
          0.020832,
          0.0210924,
          0.0213528,
          0.0216132,
          0.0218736,
          0.022134,
          0.0223944,
          0.0226548,
          0.0229152,
          0.0231756,
          0.023436,
          0.0236964,
          0.0239568,
          0.0242172,
          0.0244776,
          0.024738,
          0.0249984,
          0.0252588,
          0.0255192,
          0.0257796,
          0.02604,
          0.0263004,
          0.0265608,
          0.0268212,
          0.0270816,
          0.027342,
          0.0276024,
          0.0278628,
          0.0281232,
          0.0283836,
          0.028644,
          0.0289044,
          0.0291648,
          0.0294252,
          0.0296856,
          0.029946,
          0.0302064,
          0.0304668,
          0.0307272,
          0.0309876,
          0.031248,
          0.0315084
         ],
         "xaxis": "x9",
         "y": [
          29.40561294555664,
          32.00897979736328,
          34.71519470214844,
          37.30341339111328,
          39.438316345214844,
          40.8022346496582,
          41.84624481201172,
          42.47963333129883,
          43.02847671508789,
          43.0071907043457,
          42.656795501708984,
          41.62321853637695,
          40.24992752075195,
          38.48081588745117,
          36.612464904785156,
          34.34518814086914,
          31.52069854736328,
          28.364206314086914,
          25.103408813476562,
          21.613372802734375,
          17.785018920898438,
          13.693251609802246,
          9.689648628234863,
          5.547815799713135,
          1.4321774244308472,
          -2.7670469284057617,
          -6.917006015777588,
          -11.106758117675781,
          -15.099082946777344,
          -18.90950584411621,
          -22.48495864868164,
          -26.041460037231445,
          -29.34779167175293,
          -32.31963348388672,
          -34.861202239990234,
          -37.14653396606445,
          -39.181785583496094,
          -40.797691345214844,
          -42.04629135131836,
          -42.803157806396484,
          -43.26826095581055,
          -43.20431900024414,
          -42.765628814697266,
          -41.83226776123047,
          -40.55484390258789,
          -38.86796188354492,
          -36.956363677978516,
          -34.677490234375,
          -31.850872039794922,
          -28.706031799316406,
          -25.45647430419922,
          -21.9902286529541,
          -18.171030044555664,
          -14.066170692443848,
          -9.96560001373291,
          -5.880334377288818,
          -1.7405864000320435,
          2.432997465133667,
          6.633738994598389,
          10.82593822479248,
          14.819610595703125,
          18.67317008972168,
          22.333040237426758,
          25.87713623046875
         ],
         "yaxis": "y9"
        }
       ],
       "layout": {
        "height": 700,
        "margin": {
         "b": 20,
         "l": 20,
         "r": 30,
         "t": 40
        },
        "plot_bgcolor": "rgba(0,0,0,0)",
        "template": {
         "data": {
          "bar": [
           {
            "error_x": {
             "color": "#2a3f5f"
            },
            "error_y": {
             "color": "#2a3f5f"
            },
            "marker": {
             "line": {
              "color": "#E5ECF6",
              "width": 0.5
             },
             "pattern": {
              "fillmode": "overlay",
              "size": 10,
              "solidity": 0.2
             }
            },
            "type": "bar"
           }
          ],
          "barpolar": [
           {
            "marker": {
             "line": {
              "color": "#E5ECF6",
              "width": 0.5
             },
             "pattern": {
              "fillmode": "overlay",
              "size": 10,
              "solidity": 0.2
             }
            },
            "type": "barpolar"
           }
          ],
          "carpet": [
           {
            "aaxis": {
             "endlinecolor": "#2a3f5f",
             "gridcolor": "white",
             "linecolor": "white",
             "minorgridcolor": "white",
             "startlinecolor": "#2a3f5f"
            },
            "baxis": {
             "endlinecolor": "#2a3f5f",
             "gridcolor": "white",
             "linecolor": "white",
             "minorgridcolor": "white",
             "startlinecolor": "#2a3f5f"
            },
            "type": "carpet"
           }
          ],
          "choropleth": [
           {
            "colorbar": {
             "outlinewidth": 0,
             "ticks": ""
            },
            "type": "choropleth"
           }
          ],
          "contour": [
           {
            "colorbar": {
             "outlinewidth": 0,
             "ticks": ""
            },
            "colorscale": [
             [
              0,
              "#0d0887"
             ],
             [
              0.1111111111111111,
              "#46039f"
             ],
             [
              0.2222222222222222,
              "#7201a8"
             ],
             [
              0.3333333333333333,
              "#9c179e"
             ],
             [
              0.4444444444444444,
              "#bd3786"
             ],
             [
              0.5555555555555556,
              "#d8576b"
             ],
             [
              0.6666666666666666,
              "#ed7953"
             ],
             [
              0.7777777777777778,
              "#fb9f3a"
             ],
             [
              0.8888888888888888,
              "#fdca26"
             ],
             [
              1,
              "#f0f921"
             ]
            ],
            "type": "contour"
           }
          ],
          "contourcarpet": [
           {
            "colorbar": {
             "outlinewidth": 0,
             "ticks": ""
            },
            "type": "contourcarpet"
           }
          ],
          "heatmap": [
           {
            "colorbar": {
             "outlinewidth": 0,
             "ticks": ""
            },
            "colorscale": [
             [
              0,
              "#0d0887"
             ],
             [
              0.1111111111111111,
              "#46039f"
             ],
             [
              0.2222222222222222,
              "#7201a8"
             ],
             [
              0.3333333333333333,
              "#9c179e"
             ],
             [
              0.4444444444444444,
              "#bd3786"
             ],
             [
              0.5555555555555556,
              "#d8576b"
             ],
             [
              0.6666666666666666,
              "#ed7953"
             ],
             [
              0.7777777777777778,
              "#fb9f3a"
             ],
             [
              0.8888888888888888,
              "#fdca26"
             ],
             [
              1,
              "#f0f921"
             ]
            ],
            "type": "heatmap"
           }
          ],
          "heatmapgl": [
           {
            "colorbar": {
             "outlinewidth": 0,
             "ticks": ""
            },
            "colorscale": [
             [
              0,
              "#0d0887"
             ],
             [
              0.1111111111111111,
              "#46039f"
             ],
             [
              0.2222222222222222,
              "#7201a8"
             ],
             [
              0.3333333333333333,
              "#9c179e"
             ],
             [
              0.4444444444444444,
              "#bd3786"
             ],
             [
              0.5555555555555556,
              "#d8576b"
             ],
             [
              0.6666666666666666,
              "#ed7953"
             ],
             [
              0.7777777777777778,
              "#fb9f3a"
             ],
             [
              0.8888888888888888,
              "#fdca26"
             ],
             [
              1,
              "#f0f921"
             ]
            ],
            "type": "heatmapgl"
           }
          ],
          "histogram": [
           {
            "marker": {
             "pattern": {
              "fillmode": "overlay",
              "size": 10,
              "solidity": 0.2
             }
            },
            "type": "histogram"
           }
          ],
          "histogram2d": [
           {
            "colorbar": {
             "outlinewidth": 0,
             "ticks": ""
            },
            "colorscale": [
             [
              0,
              "#0d0887"
             ],
             [
              0.1111111111111111,
              "#46039f"
             ],
             [
              0.2222222222222222,
              "#7201a8"
             ],
             [
              0.3333333333333333,
              "#9c179e"
             ],
             [
              0.4444444444444444,
              "#bd3786"
             ],
             [
              0.5555555555555556,
              "#d8576b"
             ],
             [
              0.6666666666666666,
              "#ed7953"
             ],
             [
              0.7777777777777778,
              "#fb9f3a"
             ],
             [
              0.8888888888888888,
              "#fdca26"
             ],
             [
              1,
              "#f0f921"
             ]
            ],
            "type": "histogram2d"
           }
          ],
          "histogram2dcontour": [
           {
            "colorbar": {
             "outlinewidth": 0,
             "ticks": ""
            },
            "colorscale": [
             [
              0,
              "#0d0887"
             ],
             [
              0.1111111111111111,
              "#46039f"
             ],
             [
              0.2222222222222222,
              "#7201a8"
             ],
             [
              0.3333333333333333,
              "#9c179e"
             ],
             [
              0.4444444444444444,
              "#bd3786"
             ],
             [
              0.5555555555555556,
              "#d8576b"
             ],
             [
              0.6666666666666666,
              "#ed7953"
             ],
             [
              0.7777777777777778,
              "#fb9f3a"
             ],
             [
              0.8888888888888888,
              "#fdca26"
             ],
             [
              1,
              "#f0f921"
             ]
            ],
            "type": "histogram2dcontour"
           }
          ],
          "mesh3d": [
           {
            "colorbar": {
             "outlinewidth": 0,
             "ticks": ""
            },
            "type": "mesh3d"
           }
          ],
          "parcoords": [
           {
            "line": {
             "colorbar": {
              "outlinewidth": 0,
              "ticks": ""
             }
            },
            "type": "parcoords"
           }
          ],
          "pie": [
           {
            "automargin": true,
            "type": "pie"
           }
          ],
          "scatter": [
           {
            "fillpattern": {
             "fillmode": "overlay",
             "size": 10,
             "solidity": 0.2
            },
            "type": "scatter"
           }
          ],
          "scatter3d": [
           {
            "line": {
             "colorbar": {
              "outlinewidth": 0,
              "ticks": ""
             }
            },
            "marker": {
             "colorbar": {
              "outlinewidth": 0,
              "ticks": ""
             }
            },
            "type": "scatter3d"
           }
          ],
          "scattercarpet": [
           {
            "marker": {
             "colorbar": {
              "outlinewidth": 0,
              "ticks": ""
             }
            },
            "type": "scattercarpet"
           }
          ],
          "scattergeo": [
           {
            "marker": {
             "colorbar": {
              "outlinewidth": 0,
              "ticks": ""
             }
            },
            "type": "scattergeo"
           }
          ],
          "scattergl": [
           {
            "marker": {
             "colorbar": {
              "outlinewidth": 0,
              "ticks": ""
             }
            },
            "type": "scattergl"
           }
          ],
          "scattermapbox": [
           {
            "marker": {
             "colorbar": {
              "outlinewidth": 0,
              "ticks": ""
             }
            },
            "type": "scattermapbox"
           }
          ],
          "scatterpolar": [
           {
            "marker": {
             "colorbar": {
              "outlinewidth": 0,
              "ticks": ""
             }
            },
            "type": "scatterpolar"
           }
          ],
          "scatterpolargl": [
           {
            "marker": {
             "colorbar": {
              "outlinewidth": 0,
              "ticks": ""
             }
            },
            "type": "scatterpolargl"
           }
          ],
          "scatterternary": [
           {
            "marker": {
             "colorbar": {
              "outlinewidth": 0,
              "ticks": ""
             }
            },
            "type": "scatterternary"
           }
          ],
          "surface": [
           {
            "colorbar": {
             "outlinewidth": 0,
             "ticks": ""
            },
            "colorscale": [
             [
              0,
              "#0d0887"
             ],
             [
              0.1111111111111111,
              "#46039f"
             ],
             [
              0.2222222222222222,
              "#7201a8"
             ],
             [
              0.3333333333333333,
              "#9c179e"
             ],
             [
              0.4444444444444444,
              "#bd3786"
             ],
             [
              0.5555555555555556,
              "#d8576b"
             ],
             [
              0.6666666666666666,
              "#ed7953"
             ],
             [
              0.7777777777777778,
              "#fb9f3a"
             ],
             [
              0.8888888888888888,
              "#fdca26"
             ],
             [
              1,
              "#f0f921"
             ]
            ],
            "type": "surface"
           }
          ],
          "table": [
           {
            "cells": {
             "fill": {
              "color": "#EBF0F8"
             },
             "line": {
              "color": "white"
             }
            },
            "header": {
             "fill": {
              "color": "#C8D4E3"
             },
             "line": {
              "color": "white"
             }
            },
            "type": "table"
           }
          ]
         },
         "layout": {
          "annotationdefaults": {
           "arrowcolor": "#2a3f5f",
           "arrowhead": 0,
           "arrowwidth": 1
          },
          "autotypenumbers": "strict",
          "coloraxis": {
           "colorbar": {
            "outlinewidth": 0,
            "ticks": ""
           }
          },
          "colorscale": {
           "diverging": [
            [
             0,
             "#8e0152"
            ],
            [
             0.1,
             "#c51b7d"
            ],
            [
             0.2,
             "#de77ae"
            ],
            [
             0.3,
             "#f1b6da"
            ],
            [
             0.4,
             "#fde0ef"
            ],
            [
             0.5,
             "#f7f7f7"
            ],
            [
             0.6,
             "#e6f5d0"
            ],
            [
             0.7,
             "#b8e186"
            ],
            [
             0.8,
             "#7fbc41"
            ],
            [
             0.9,
             "#4d9221"
            ],
            [
             1,
             "#276419"
            ]
           ],
           "sequential": [
            [
             0,
             "#0d0887"
            ],
            [
             0.1111111111111111,
             "#46039f"
            ],
            [
             0.2222222222222222,
             "#7201a8"
            ],
            [
             0.3333333333333333,
             "#9c179e"
            ],
            [
             0.4444444444444444,
             "#bd3786"
            ],
            [
             0.5555555555555556,
             "#d8576b"
            ],
            [
             0.6666666666666666,
             "#ed7953"
            ],
            [
             0.7777777777777778,
             "#fb9f3a"
            ],
            [
             0.8888888888888888,
             "#fdca26"
            ],
            [
             1,
             "#f0f921"
            ]
           ],
           "sequentialminus": [
            [
             0,
             "#0d0887"
            ],
            [
             0.1111111111111111,
             "#46039f"
            ],
            [
             0.2222222222222222,
             "#7201a8"
            ],
            [
             0.3333333333333333,
             "#9c179e"
            ],
            [
             0.4444444444444444,
             "#bd3786"
            ],
            [
             0.5555555555555556,
             "#d8576b"
            ],
            [
             0.6666666666666666,
             "#ed7953"
            ],
            [
             0.7777777777777778,
             "#fb9f3a"
            ],
            [
             0.8888888888888888,
             "#fdca26"
            ],
            [
             1,
             "#f0f921"
            ]
           ]
          },
          "colorway": [
           "#636efa",
           "#EF553B",
           "#00cc96",
           "#ab63fa",
           "#FFA15A",
           "#19d3f3",
           "#FF6692",
           "#B6E880",
           "#FF97FF",
           "#FECB52"
          ],
          "font": {
           "color": "#2a3f5f"
          },
          "geo": {
           "bgcolor": "white",
           "lakecolor": "white",
           "landcolor": "#E5ECF6",
           "showlakes": true,
           "showland": true,
           "subunitcolor": "white"
          },
          "hoverlabel": {
           "align": "left"
          },
          "hovermode": "closest",
          "mapbox": {
           "style": "light"
          },
          "paper_bgcolor": "white",
          "plot_bgcolor": "#E5ECF6",
          "polar": {
           "angularaxis": {
            "gridcolor": "white",
            "linecolor": "white",
            "ticks": ""
           },
           "bgcolor": "#E5ECF6",
           "radialaxis": {
            "gridcolor": "white",
            "linecolor": "white",
            "ticks": ""
           }
          },
          "scene": {
           "xaxis": {
            "backgroundcolor": "#E5ECF6",
            "gridcolor": "white",
            "gridwidth": 2,
            "linecolor": "white",
            "showbackground": true,
            "ticks": "",
            "zerolinecolor": "white"
           },
           "yaxis": {
            "backgroundcolor": "#E5ECF6",
            "gridcolor": "white",
            "gridwidth": 2,
            "linecolor": "white",
            "showbackground": true,
            "ticks": "",
            "zerolinecolor": "white"
           },
           "zaxis": {
            "backgroundcolor": "#E5ECF6",
            "gridcolor": "white",
            "gridwidth": 2,
            "linecolor": "white",
            "showbackground": true,
            "ticks": "",
            "zerolinecolor": "white"
           }
          },
          "shapedefaults": {
           "line": {
            "color": "#2a3f5f"
           }
          },
          "ternary": {
           "aaxis": {
            "gridcolor": "white",
            "linecolor": "white",
            "ticks": ""
           },
           "baxis": {
            "gridcolor": "white",
            "linecolor": "white",
            "ticks": ""
           },
           "bgcolor": "#E5ECF6",
           "caxis": {
            "gridcolor": "white",
            "linecolor": "white",
            "ticks": ""
           }
          },
          "title": {
           "x": 0.05
          },
          "xaxis": {
           "automargin": true,
           "gridcolor": "white",
           "linecolor": "white",
           "ticks": "",
           "title": {
            "standoff": 15
           },
           "zerolinecolor": "white",
           "zerolinewidth": 2
          },
          "yaxis": {
           "automargin": true,
           "gridcolor": "white",
           "linecolor": "white",
           "ticks": "",
           "title": {
            "standoff": 15
           },
           "zerolinecolor": "white",
           "zerolinewidth": 2
          }
         }
        },
        "title": {
         "text": "Figuras"
        },
        "width": 900,
        "xaxis": {
         "anchor": "y",
         "domain": [
          0,
          0.2888888888888889
         ]
        },
        "xaxis2": {
         "anchor": "y2",
         "domain": [
          0.35555555555555557,
          0.6444444444444445
         ]
        },
        "xaxis3": {
         "anchor": "y3",
         "domain": [
          0.7111111111111111,
          1
         ]
        },
        "xaxis4": {
         "anchor": "y4",
         "domain": [
          0,
          0.2888888888888889
         ]
        },
        "xaxis5": {
         "anchor": "y5",
         "domain": [
          0.35555555555555557,
          0.6444444444444445
         ]
        },
        "xaxis6": {
         "anchor": "y6",
         "domain": [
          0.7111111111111111,
          1
         ]
        },
        "xaxis7": {
         "anchor": "y7",
         "domain": [
          0,
          0.2888888888888889
         ]
        },
        "xaxis8": {
         "anchor": "y8",
         "domain": [
          0.35555555555555557,
          0.6444444444444445
         ]
        },
        "xaxis9": {
         "anchor": "y9",
         "domain": [
          0.7111111111111111,
          1
         ]
        },
        "yaxis": {
         "anchor": "x",
         "domain": [
          0.7333333333333333,
          1
         ]
        },
        "yaxis2": {
         "anchor": "x2",
         "domain": [
          0.7333333333333333,
          1
         ]
        },
        "yaxis3": {
         "anchor": "x3",
         "domain": [
          0.7333333333333333,
          1
         ]
        },
        "yaxis4": {
         "anchor": "x4",
         "domain": [
          0.36666666666666664,
          0.6333333333333333
         ]
        },
        "yaxis5": {
         "anchor": "x5",
         "domain": [
          0.36666666666666664,
          0.6333333333333333
         ]
        },
        "yaxis6": {
         "anchor": "x6",
         "domain": [
          0.36666666666666664,
          0.6333333333333333
         ]
        },
        "yaxis7": {
         "anchor": "x7",
         "domain": [
          0,
          0.26666666666666666
         ]
        },
        "yaxis8": {
         "anchor": "x8",
         "domain": [
          0,
          0.26666666666666666
         ]
        },
        "yaxis9": {
         "anchor": "x9",
         "domain": [
          0,
          0.26666666666666666
         ]
        }
       }
      }
     },
     "metadata": {},
     "output_type": "display_data"
    }
   ],
   "source": [
    "from plotly.subplots import make_subplots\n",
    "import plotly.graph_objects as go\n",
    "\n",
    "fs = 3840\n",
    "dataset_plot = Form1Dataset(\n",
    "    dataset_dir, max_window_idx=max_window_idx, signal_name=signal_name, test=True\n",
    ")\n",
    "plot_dataloader = DataLoader(dataset_plot, batch_size=train_batch_size, shuffle=True)\n",
    "\n",
    "dataiter = iter(plot_dataloader)\n",
    "signal_windows, t_windows, labels, csv_name, index, window_idx = next(dataiter)\n",
    "print(len(csv_name))\n",
    "print(window_idx.shape)\n",
    "print(labels.shape)\n",
    "\n",
    "print(labels.type())\n",
    "x = model(signal_windows[0:9].to(device))\n",
    "# x = x.detach()\n",
    "\n",
    "# Crear Matriz de confusión\n",
    "df = confusion_matrix(x, labels[0:9])\n",
    "print(type(df))\n",
    "print(df)\n",
    "\n",
    "# figure = plt.figure(figsize=(10, 10))\n",
    "cols, rows = 3, 3\n",
    "fig = make_subplots(rows=rows, cols=cols)\n",
    "\n",
    "label_to_text = {\n",
    "    \"0\": \"No Fault\",\n",
    "    \"1\": \"Fault\",\n",
    "}\n",
    "\n",
    "for i in range(0, cols * rows):\n",
    "\n",
    "    col = i % cols\n",
    "    row = i // cols\n",
    "    label = label_to_text[str(int(labels[i, 0].item()))]\n",
    "    win_idx = str(window_idx[i].item())\n",
    "    fig.add_trace(\n",
    "        go.Scatter(\n",
    "            name=f\"{label} - {win_idx} - {csv_name[i]}\",\n",
    "            x=t_windows[i, :],\n",
    "            y=signal_windows[i, :, 0],\n",
    "            marker_color=\"black\",\n",
    "        ),\n",
    "        row=row + 1,\n",
    "        col=col + 1,\n",
    "    )\n",
    "\n",
    "fig.update_layout(\n",
    "    height=700,\n",
    "    width=900,\n",
    "    title_text=\"Figuras\",\n",
    "    margin={\"b\": 20, \"t\": 40, \"l\": 20, \"r\": 30},\n",
    "    plot_bgcolor=\"rgba(0,0,0,0)\",\n",
    "    # paper_bgcolor=\"whitesmoke\",\n",
    ")\n",
    "fig.show()\n"
   ]
  },
  {
   "attachments": {},
   "cell_type": "markdown",
   "metadata": {},
   "source": [
    "##### 6.3. Matplotlib Plots"
   ]
  },
  {
   "cell_type": "code",
   "execution_count": 15,
   "metadata": {},
   "outputs": [
    {
     "name": "stdout",
     "output_type": "stream",
     "text": [
      "   Pred probability  Pred label  True label Result\n",
      "0          0.965057           1           1     TP\n",
      "1          0.052804           0           0     TN\n",
      "2          0.934009           1           1     TP\n",
      "3          0.043907           0           0     TN\n",
      "4          0.027411           0           0     TN\n",
      "5          0.934700           1           1     TP\n",
      "6          0.045109           0           0     TN\n",
      "7          0.930754           1           1     TP\n",
      "8          0.967245           1           1     TP\n"
     ]
    },
    {
     "data": {
      "image/png": "[encoded data removed]",
      "text/plain": [
       "<Figure size 1000x1000 with 9 Axes>"
      ]
     },
     "metadata": {},
     "output_type": "display_data"
    }
   ],
   "source": [
    "dataset_plot = Form1Dataset(\n",
    "    dataset_dir, max_window_idx=max_window_idx, signal_name=signal_name, test=True\n",
    ")\n",
    "plot_dataloader = DataLoader(dataset_plot, batch_size=train_batch_size, shuffle=True)\n",
    "\n",
    "dataiter = iter(plot_dataloader)\n",
    "signal_windows, t_windows, labels, *_ = next(dataiter)\n",
    "fs = 3840\n",
    "\n",
    "x = model(signal_windows[1:10].to(device))\n",
    "x = x.detach()\n",
    "\n",
    "# Crear Matriz de confusión\n",
    "df = confusion_matrix(x, labels[1:10])\n",
    "print(df)\n",
    "\n",
    "figure = plt.figure(figsize=(10, 10))\n",
    "cols, rows = 3, 3\n",
    "for i in range(1, cols * rows + 1):\n",
    "    figure.add_subplot(rows, cols, i)\n",
    "    plt.plot(t_windows[i, :], signal_windows[i, :, 0])\n"
   ]
  },
  {
   "attachments": {},
   "cell_type": "markdown",
   "metadata": {},
   "source": [
    "### 7. Data Exploration"
   ]
  },
  {
   "attachments": {},
   "cell_type": "markdown",
   "metadata": {},
   "source": [
    "##### 7.1. Auxiliar Functions"
   ]
  },
  {
   "cell_type": "code",
   "execution_count": 81,
   "metadata": {},
   "outputs": [],
   "source": [
    "\n",
    "def signal_exploration(idx: int, dataset, model, plot_signal: bool = True):\n",
    "    signal, t, idx_min, idx_max, csv_name = dataset.get_event(idx)\n",
    "    model.eval()\n",
    "    if plot_signal == True:\n",
    "        plt.plot(t, signal)\n",
    "        plt.show()\n",
    "    conf_matrix = torch.zeros(1, 5, dtype=torch.int64).to(device)\n",
    "    preds = torch.empty((0, 1))\n",
    "    labels = torch.empty((0, 1))\n",
    "    idxs = []\n",
    "    for i in range(idx_min, idx_max + 1):\n",
    "        signal, y = dataset.__getitem__(i)\n",
    "        idxs.append(i)\n",
    "        y = torch.unsqueeze(y, 0).to(device)\n",
    "        signal = torch.unsqueeze(signal, 0).to(device)\n",
    "        pred = model(signal)\n",
    "        preds = torch.cat((preds, pred), 0)\n",
    "        labels = torch.cat((labels, y), 0)\n",
    "        conf_matrix = conf_matrix.add(binary_stat_scores(pred, y))\n",
    "    df = confusion_matrix(preds, labels)\n",
    "    # df.insert(loc=0, column=\"window idx\", value=df.index)\n",
    "    # df.insert(loc=0, column=\"indices\", value=idxs)\n",
    "    \n",
    "    return df, conf_matrix\n",
    "\n",
    "\n",
    "def plot_confusion_matrix(metrics):\n",
    "    z = [[metrics[\"TP\"], metrics[\"FN\"]], [metrics[\"FP\"], metrics[\"TN\"]]]\n",
    "    fig = px.imshow(\n",
    "        z,\n",
    "        text_auto=True,\n",
    "        template=\"seaborn\",\n",
    "        labels=dict(x=\"Predicted Label\", y=\"Real Label\", color=\"Predictions\"),\n",
    "        x=[\"Positive\", \"Negative\"],\n",
    "        y=[\"Positive\", \"Negative\"],\n",
    "        width=400,\n",
    "        height=300,\n",
    "    )\n",
    "    fig.show()\n",
    "\n",
    "\n",
    "def print_metrics(metrics):\n",
    "    print(f\"Total windows: {metrics['TOTAL']}\")\n",
    "    print(f\"True Positives: {conf_matrix[0,0]}\")\n",
    "    print(f\"False Positives: {conf_matrix[0,1]}\")\n",
    "    print(f\"True Negatives: {conf_matrix[0,2]}\")\n",
    "    print(f\"False Negatives: {conf_matrix[0,3]}\")\n",
    "    print(f\"Accuracy: {metrics['ACC']*100:0.1f}\")\n"
   ]
  },
  {
   "cell_type": "code",
   "execution_count": 96,
   "metadata": {},
   "outputs": [
    {
     "name": "stdout",
     "output_type": "stream",
     "text": [
      "54\n"
     ]
    }
   ],
   "source": [
    "print(dataset.len_events())\n",
    "conf_matrix = torch.zeros(0, 5, dtype=torch.int64).to(device)\n",
    "for idx in range(54):\n",
    "    df, CM = signal_exploration(idx, dataset, model, plot_signal=False)\n",
    "    conf_matrix = torch.cat((conf_matrix, CM))\n",
    "    if idx == 0:\n",
    "        dataset_df = df\n",
    "    else:\n",
    "        dataset_df = pd.concat([dataset_df, df])\n",
    "dataset_df = dataset_df.reset_index()\n",
    "dataset_df = dataset_df.rename(columns={'index': 'window idx'})"
   ]
  },
  {
   "cell_type": "code",
   "execution_count": 111,
   "metadata": {},
   "outputs": [
    {
     "name": "stdout",
     "output_type": "stream",
     "text": [
      "      window idx  Pred probability  Pred label  True label Result\n",
      "0              0          0.011671           0           0     TN\n",
      "1              1          0.016661           0           0     TN\n",
      "2              2          0.026741           0           0     TN\n",
      "3              3          0.029952           0           0     TN\n",
      "4              4          0.040015           0           0     TN\n",
      "...          ...               ...         ...         ...    ...\n",
      "7015         125          0.932980           1           1     TP\n",
      "7016         126          0.931005           1           1     TP\n",
      "7017         127          0.926637           1           1     TP\n",
      "7018         128          0.915585           1           1     TP\n",
      "7019         129          0.882929           1           1     TP\n",
      "\n",
      "[7020 rows x 5 columns]\n",
      "FALSE POSITVES\n",
      "Empty DataFrame\n",
      "Columns: [window idx, Pred probability, Pred label, True label, Result]\n",
      "Index: []\n",
      "\n",
      "FALSE NEGATIVES\n",
      "      window idx  Pred probability  Pred label  True label Result\n",
      "66            66          0.142361           0           1     FN\n",
      "67            67          0.478444           0           1     FN\n",
      "196           66          0.105533           0           1     FN\n",
      "326           66          0.345454           0           1     FN\n",
      "340           80          0.327865           0           1     FN\n",
      "...          ...               ...         ...         ...    ...\n",
      "6828          68          0.043382           0           1     FN\n",
      "6829          69          0.052022           0           1     FN\n",
      "6830          70          0.162121           0           1     FN\n",
      "6956          66          0.021769           0           1     FN\n",
      "6957          67          0.078496           0           1     FN\n",
      "\n",
      "[153 rows x 5 columns]\n",
      "[3303    0 3564  153 3456]\n"
     ]
    }
   ],
   "source": [
    "print(dataset_df)\n",
    "false_positive = dataset_df.query('Result == \"FP\"')\n",
    "false_negative = dataset_df.query('Result == \"FN\"')\n",
    "sample_df = pd.concat([sample_df, sample_df])\n",
    "print(\"FALSE POSITVES\")\n",
    "print(false_positive)\n",
    "print(\"\")\n",
    "print(\"FALSE NEGATIVES\")\n",
    "print(false_negative)\n",
    "print(np.sum(conf_matrix.numpy(), axis=0))\n",
    "\n",
    "# dataset_df.to_parquet('parquet_data/ModelR1_R1_df.parquet')\n",
    "# conf_matrix_df = pd.DataFrame(conf_matrix, columns = ['TP','FP','TF', 'FN', 'TP + FN'])\n",
    "# conf_matrix_df.to_parquet('parquet_data/ModelR1_R1_CM_df.parquet')\n",
    "# np.save('parquet_data/ModelR1_R1_CM.npy', conf_matrix)\n"
   ]
  },
  {
   "attachments": {},
   "cell_type": "markdown",
   "metadata": {},
   "source": [
    "##### 7.2. Data Exploration"
   ]
  },
  {
   "cell_type": "code",
   "execution_count": 37,
   "metadata": {},
   "outputs": [
    {
     "data": {
      "image/png": "[encoded data removed]",
      "text/plain": [
       "<Figure size 640x480 with 1 Axes>"
      ]
     },
     "metadata": {},
     "output_type": "display_data"
    },
    {
     "name": "stdout",
     "output_type": "stream",
     "text": [
      "Confusion Matrix: tensor([[63,  0, 66,  1, 64]])\n",
      "     indices  Pred probability  Pred label  True label Result\n",
      "0        130          0.028666           0           0     TN\n",
      "1        131          0.019659           0           0     TN\n",
      "2        132          0.015841           0           0     TN\n",
      "3        133          0.017271           0           0     TN\n",
      "4        134          0.029638           0           0     TN\n",
      "..       ...               ...         ...         ...    ...\n",
      "125      255          0.966599           1           1     TP\n",
      "126      256          0.965801           1           1     TP\n",
      "127      257          0.963510           1           1     TP\n",
      "128      258          0.987354           1           1     TP\n",
      "129      259          0.972154           1           1     TP\n",
      "\n",
      "[130 rows x 5 columns]\n"
     ]
    }
   ],
   "source": [
    "# Select Signal Name\n",
    "signal_name = \"I: X0023A-R1A\"\n",
    "# signal_name = \"I: X0004A-R2A\"\n",
    "# signal_name = \"I: X0071A-R3A\"\n",
    "\n",
    "# Create Dataset\n",
    "dataset = Form1Dataset(\n",
    "    dataset_dir, max_window_idx=max_window_idx, signal_name=signal_name\n",
    ")\n",
    "\n",
    "# Create signal_df\n",
    "sample_df, conf_matrix = signal_exploration(1, dataset, model)\n",
    "metrics = conf_matrix_metrics(conf_matrix)\n",
    "print(f\"Confusion Matrix: {conf_matrix}\")\n",
    "print(sample_df)\n"
   ]
  },
  {
   "attachments": {},
   "cell_type": "markdown",
   "metadata": {},
   "source": [
    "##### 7.3 Confusion Matrix"
   ]
  },
  {
   "cell_type": "code",
   "execution_count": 89,
   "metadata": {},
   "outputs": [
    {
     "data": {
      "application/vnd.plotly.v1+json": {
       "config": {
        "plotlyServerURL": "https://plot.ly"
       },
       "data": [
        {
         "coloraxis": "coloraxis",
         "hovertemplate": "Predicted Label: %{x}<br>Real Label: %{y}<br>Predictions: %{z}<extra></extra>",
         "name": "0",
         "texttemplate": "%{z}",
         "type": "heatmap",
         "x": [
          "Positive",
          "Negative"
         ],
         "xaxis": "x",
         "y": [
          "Positive",
          "Negative"
         ],
         "yaxis": "y",
         "z": [
          [
           63,
           1
          ],
          [
           0,
           66
          ]
         ]
        }
       ],
       "layout": {
        "coloraxis": {
         "colorbar": {
          "title": {
           "text": "Predictions"
          }
         },
         "colorscale": [
          [
           0,
           "rgb(2,4,25)"
          ],
          [
           0.0625,
           "rgb(24,15,41)"
          ],
          [
           0.125,
           "rgb(47,23,57)"
          ],
          [
           0.1875,
           "rgb(71,28,72)"
          ],
          [
           0.25,
           "rgb(97,30,82)"
          ],
          [
           0.3125,
           "rgb(123,30,89)"
          ],
          [
           0.375,
           "rgb(150,27,91)"
          ],
          [
           0.4375,
           "rgb(177,22,88)"
          ],
          [
           0.5,
           "rgb(203,26,79)"
          ],
          [
           0.5625,
           "rgb(223,47,67)"
          ],
          [
           0.625,
           "rgb(236,76,61)"
          ],
          [
           0.6875,
           "rgb(242,107,73)"
          ],
          [
           0.75,
           "rgb(244,135,95)"
          ],
          [
           0.8125,
           "rgb(245,162,122)"
          ],
          [
           0.875,
           "rgb(246,188,153)"
          ],
          [
           0.9375,
           "rgb(247,212,187)"
          ],
          [
           1,
           "rgb(250,234,220)"
          ]
         ]
        },
        "height": 300,
        "margin": {
         "t": 60
        },
        "template": {
         "data": {
          "bar": [
           {
            "error_x": {
             "color": "rgb(36,36,36)"
            },
            "error_y": {
             "color": "rgb(36,36,36)"
            },
            "marker": {
             "line": {
              "color": "rgb(234,234,242)",
              "width": 0.5
             },
             "pattern": {
              "fillmode": "overlay",
              "size": 10,
              "solidity": 0.2
             }
            },
            "type": "bar"
           }
          ],
          "barpolar": [
           {
            "marker": {
             "line": {
              "color": "rgb(234,234,242)",
              "width": 0.5
             },
             "pattern": {
              "fillmode": "overlay",
              "size": 10,
              "solidity": 0.2
             }
            },
            "type": "barpolar"
           }
          ],
          "carpet": [
           {
            "aaxis": {
             "endlinecolor": "rgb(36,36,36)",
             "gridcolor": "white",
             "linecolor": "white",
             "minorgridcolor": "white",
             "startlinecolor": "rgb(36,36,36)"
            },
            "baxis": {
             "endlinecolor": "rgb(36,36,36)",
             "gridcolor": "white",
             "linecolor": "white",
             "minorgridcolor": "white",
             "startlinecolor": "rgb(36,36,36)"
            },
            "type": "carpet"
           }
          ],
          "choropleth": [
           {
            "colorbar": {
             "outlinewidth": 0,
             "tickcolor": "rgb(36,36,36)",
             "ticklen": 8,
             "ticks": "outside",
             "tickwidth": 2
            },
            "type": "choropleth"
           }
          ],
          "contour": [
           {
            "colorbar": {
             "outlinewidth": 0,
             "tickcolor": "rgb(36,36,36)",
             "ticklen": 8,
             "ticks": "outside",
             "tickwidth": 2
            },
            "colorscale": [
             [
              0,
              "rgb(2,4,25)"
             ],
             [
              0.06274509803921569,
              "rgb(24,15,41)"
             ],
             [
              0.12549019607843137,
              "rgb(47,23,57)"
             ],
             [
              0.18823529411764706,
              "rgb(71,28,72)"
             ],
             [
              0.25098039215686274,
              "rgb(97,30,82)"
             ],
             [
              0.3137254901960784,
              "rgb(123,30,89)"
             ],
             [
              0.3764705882352941,
              "rgb(150,27,91)"
             ],
             [
              0.4392156862745098,
              "rgb(177,22,88)"
             ],
             [
              0.5019607843137255,
              "rgb(203,26,79)"
             ],
             [
              0.5647058823529412,
              "rgb(223,47,67)"
             ],
             [
              0.6274509803921569,
              "rgb(236,76,61)"
             ],
             [
              0.6901960784313725,
              "rgb(242,107,73)"
             ],
             [
              0.7529411764705882,
              "rgb(244,135,95)"
             ],
             [
              0.8156862745098039,
              "rgb(245,162,122)"
             ],
             [
              0.8784313725490196,
              "rgb(246,188,153)"
             ],
             [
              0.9411764705882353,
              "rgb(247,212,187)"
             ],
             [
              1,
              "rgb(250,234,220)"
             ]
            ],
            "type": "contour"
           }
          ],
          "contourcarpet": [
           {
            "colorbar": {
             "outlinewidth": 0,
             "tickcolor": "rgb(36,36,36)",
             "ticklen": 8,
             "ticks": "outside",
             "tickwidth": 2
            },
            "type": "contourcarpet"
           }
          ],
          "heatmap": [
           {
            "colorbar": {
             "outlinewidth": 0,
             "tickcolor": "rgb(36,36,36)",
             "ticklen": 8,
             "ticks": "outside",
             "tickwidth": 2
            },
            "colorscale": [
             [
              0,
              "rgb(2,4,25)"
             ],
             [
              0.06274509803921569,
              "rgb(24,15,41)"
             ],
             [
              0.12549019607843137,
              "rgb(47,23,57)"
             ],
             [
              0.18823529411764706,
              "rgb(71,28,72)"
             ],
             [
              0.25098039215686274,
              "rgb(97,30,82)"
             ],
             [
              0.3137254901960784,
              "rgb(123,30,89)"
             ],
             [
              0.3764705882352941,
              "rgb(150,27,91)"
             ],
             [
              0.4392156862745098,
              "rgb(177,22,88)"
             ],
             [
              0.5019607843137255,
              "rgb(203,26,79)"
             ],
             [
              0.5647058823529412,
              "rgb(223,47,67)"
             ],
             [
              0.6274509803921569,
              "rgb(236,76,61)"
             ],
             [
              0.6901960784313725,
              "rgb(242,107,73)"
             ],
             [
              0.7529411764705882,
              "rgb(244,135,95)"
             ],
             [
              0.8156862745098039,
              "rgb(245,162,122)"
             ],
             [
              0.8784313725490196,
              "rgb(246,188,153)"
             ],
             [
              0.9411764705882353,
              "rgb(247,212,187)"
             ],
             [
              1,
              "rgb(250,234,220)"
             ]
            ],
            "type": "heatmap"
           }
          ],
          "heatmapgl": [
           {
            "colorbar": {
             "outlinewidth": 0,
             "tickcolor": "rgb(36,36,36)",
             "ticklen": 8,
             "ticks": "outside",
             "tickwidth": 2
            },
            "colorscale": [
             [
              0,
              "rgb(2,4,25)"
             ],
             [
              0.06274509803921569,
              "rgb(24,15,41)"
             ],
             [
              0.12549019607843137,
              "rgb(47,23,57)"
             ],
             [
              0.18823529411764706,
              "rgb(71,28,72)"
             ],
             [
              0.25098039215686274,
              "rgb(97,30,82)"
             ],
             [
              0.3137254901960784,
              "rgb(123,30,89)"
             ],
             [
              0.3764705882352941,
              "rgb(150,27,91)"
             ],
             [
              0.4392156862745098,
              "rgb(177,22,88)"
             ],
             [
              0.5019607843137255,
              "rgb(203,26,79)"
             ],
             [
              0.5647058823529412,
              "rgb(223,47,67)"
             ],
             [
              0.6274509803921569,
              "rgb(236,76,61)"
             ],
             [
              0.6901960784313725,
              "rgb(242,107,73)"
             ],
             [
              0.7529411764705882,
              "rgb(244,135,95)"
             ],
             [
              0.8156862745098039,
              "rgb(245,162,122)"
             ],
             [
              0.8784313725490196,
              "rgb(246,188,153)"
             ],
             [
              0.9411764705882353,
              "rgb(247,212,187)"
             ],
             [
              1,
              "rgb(250,234,220)"
             ]
            ],
            "type": "heatmapgl"
           }
          ],
          "histogram": [
           {
            "marker": {
             "pattern": {
              "fillmode": "overlay",
              "size": 10,
              "solidity": 0.2
             }
            },
            "type": "histogram"
           }
          ],
          "histogram2d": [
           {
            "colorbar": {
             "outlinewidth": 0,
             "tickcolor": "rgb(36,36,36)",
             "ticklen": 8,
             "ticks": "outside",
             "tickwidth": 2
            },
            "colorscale": [
             [
              0,
              "rgb(2,4,25)"
             ],
             [
              0.06274509803921569,
              "rgb(24,15,41)"
             ],
             [
              0.12549019607843137,
              "rgb(47,23,57)"
             ],
             [
              0.18823529411764706,
              "rgb(71,28,72)"
             ],
             [
              0.25098039215686274,
              "rgb(97,30,82)"
             ],
             [
              0.3137254901960784,
              "rgb(123,30,89)"
             ],
             [
              0.3764705882352941,
              "rgb(150,27,91)"
             ],
             [
              0.4392156862745098,
              "rgb(177,22,88)"
             ],
             [
              0.5019607843137255,
              "rgb(203,26,79)"
             ],
             [
              0.5647058823529412,
              "rgb(223,47,67)"
             ],
             [
              0.6274509803921569,
              "rgb(236,76,61)"
             ],
             [
              0.6901960784313725,
              "rgb(242,107,73)"
             ],
             [
              0.7529411764705882,
              "rgb(244,135,95)"
             ],
             [
              0.8156862745098039,
              "rgb(245,162,122)"
             ],
             [
              0.8784313725490196,
              "rgb(246,188,153)"
             ],
             [
              0.9411764705882353,
              "rgb(247,212,187)"
             ],
             [
              1,
              "rgb(250,234,220)"
             ]
            ],
            "type": "histogram2d"
           }
          ],
          "histogram2dcontour": [
           {
            "colorbar": {
             "outlinewidth": 0,
             "tickcolor": "rgb(36,36,36)",
             "ticklen": 8,
             "ticks": "outside",
             "tickwidth": 2
            },
            "colorscale": [
             [
              0,
              "rgb(2,4,25)"
             ],
             [
              0.06274509803921569,
              "rgb(24,15,41)"
             ],
             [
              0.12549019607843137,
              "rgb(47,23,57)"
             ],
             [
              0.18823529411764706,
              "rgb(71,28,72)"
             ],
             [
              0.25098039215686274,
              "rgb(97,30,82)"
             ],
             [
              0.3137254901960784,
              "rgb(123,30,89)"
             ],
             [
              0.3764705882352941,
              "rgb(150,27,91)"
             ],
             [
              0.4392156862745098,
              "rgb(177,22,88)"
             ],
             [
              0.5019607843137255,
              "rgb(203,26,79)"
             ],
             [
              0.5647058823529412,
              "rgb(223,47,67)"
             ],
             [
              0.6274509803921569,
              "rgb(236,76,61)"
             ],
             [
              0.6901960784313725,
              "rgb(242,107,73)"
             ],
             [
              0.7529411764705882,
              "rgb(244,135,95)"
             ],
             [
              0.8156862745098039,
              "rgb(245,162,122)"
             ],
             [
              0.8784313725490196,
              "rgb(246,188,153)"
             ],
             [
              0.9411764705882353,
              "rgb(247,212,187)"
             ],
             [
              1,
              "rgb(250,234,220)"
             ]
            ],
            "type": "histogram2dcontour"
           }
          ],
          "mesh3d": [
           {
            "colorbar": {
             "outlinewidth": 0,
             "tickcolor": "rgb(36,36,36)",
             "ticklen": 8,
             "ticks": "outside",
             "tickwidth": 2
            },
            "type": "mesh3d"
           }
          ],
          "parcoords": [
           {
            "line": {
             "colorbar": {
              "outlinewidth": 0,
              "tickcolor": "rgb(36,36,36)",
              "ticklen": 8,
              "ticks": "outside",
              "tickwidth": 2
             }
            },
            "type": "parcoords"
           }
          ],
          "pie": [
           {
            "automargin": true,
            "type": "pie"
           }
          ],
          "scatter": [
           {
            "fillpattern": {
             "fillmode": "overlay",
             "size": 10,
             "solidity": 0.2
            },
            "type": "scatter"
           }
          ],
          "scatter3d": [
           {
            "line": {
             "colorbar": {
              "outlinewidth": 0,
              "tickcolor": "rgb(36,36,36)",
              "ticklen": 8,
              "ticks": "outside",
              "tickwidth": 2
             }
            },
            "marker": {
             "colorbar": {
              "outlinewidth": 0,
              "tickcolor": "rgb(36,36,36)",
              "ticklen": 8,
              "ticks": "outside",
              "tickwidth": 2
             }
            },
            "type": "scatter3d"
           }
          ],
          "scattercarpet": [
           {
            "marker": {
             "colorbar": {
              "outlinewidth": 0,
              "tickcolor": "rgb(36,36,36)",
              "ticklen": 8,
              "ticks": "outside",
              "tickwidth": 2
             }
            },
            "type": "scattercarpet"
           }
          ],
          "scattergeo": [
           {
            "marker": {
             "colorbar": {
              "outlinewidth": 0,
              "tickcolor": "rgb(36,36,36)",
              "ticklen": 8,
              "ticks": "outside",
              "tickwidth": 2
             }
            },
            "type": "scattergeo"
           }
          ],
          "scattergl": [
           {
            "marker": {
             "colorbar": {
              "outlinewidth": 0,
              "tickcolor": "rgb(36,36,36)",
              "ticklen": 8,
              "ticks": "outside",
              "tickwidth": 2
             }
            },
            "type": "scattergl"
           }
          ],
          "scattermapbox": [
           {
            "marker": {
             "colorbar": {
              "outlinewidth": 0,
              "tickcolor": "rgb(36,36,36)",
              "ticklen": 8,
              "ticks": "outside",
              "tickwidth": 2
             }
            },
            "type": "scattermapbox"
           }
          ],
          "scatterpolar": [
           {
            "marker": {
             "colorbar": {
              "outlinewidth": 0,
              "tickcolor": "rgb(36,36,36)",
              "ticklen": 8,
              "ticks": "outside",
              "tickwidth": 2
             }
            },
            "type": "scatterpolar"
           }
          ],
          "scatterpolargl": [
           {
            "marker": {
             "colorbar": {
              "outlinewidth": 0,
              "tickcolor": "rgb(36,36,36)",
              "ticklen": 8,
              "ticks": "outside",
              "tickwidth": 2
             }
            },
            "type": "scatterpolargl"
           }
          ],
          "scatterternary": [
           {
            "marker": {
             "colorbar": {
              "outlinewidth": 0,
              "tickcolor": "rgb(36,36,36)",
              "ticklen": 8,
              "ticks": "outside",
              "tickwidth": 2
             }
            },
            "type": "scatterternary"
           }
          ],
          "surface": [
           {
            "colorbar": {
             "outlinewidth": 0,
             "tickcolor": "rgb(36,36,36)",
             "ticklen": 8,
             "ticks": "outside",
             "tickwidth": 2
            },
            "colorscale": [
             [
              0,
              "rgb(2,4,25)"
             ],
             [
              0.06274509803921569,
              "rgb(24,15,41)"
             ],
             [
              0.12549019607843137,
              "rgb(47,23,57)"
             ],
             [
              0.18823529411764706,
              "rgb(71,28,72)"
             ],
             [
              0.25098039215686274,
              "rgb(97,30,82)"
             ],
             [
              0.3137254901960784,
              "rgb(123,30,89)"
             ],
             [
              0.3764705882352941,
              "rgb(150,27,91)"
             ],
             [
              0.4392156862745098,
              "rgb(177,22,88)"
             ],
             [
              0.5019607843137255,
              "rgb(203,26,79)"
             ],
             [
              0.5647058823529412,
              "rgb(223,47,67)"
             ],
             [
              0.6274509803921569,
              "rgb(236,76,61)"
             ],
             [
              0.6901960784313725,
              "rgb(242,107,73)"
             ],
             [
              0.7529411764705882,
              "rgb(244,135,95)"
             ],
             [
              0.8156862745098039,
              "rgb(245,162,122)"
             ],
             [
              0.8784313725490196,
              "rgb(246,188,153)"
             ],
             [
              0.9411764705882353,
              "rgb(247,212,187)"
             ],
             [
              1,
              "rgb(250,234,220)"
             ]
            ],
            "type": "surface"
           }
          ],
          "table": [
           {
            "cells": {
             "fill": {
              "color": "rgb(231,231,240)"
             },
             "line": {
              "color": "white"
             }
            },
            "header": {
             "fill": {
              "color": "rgb(183,183,191)"
             },
             "line": {
              "color": "white"
             }
            },
            "type": "table"
           }
          ]
         },
         "layout": {
          "annotationdefaults": {
           "arrowcolor": "rgb(67,103,167)"
          },
          "autotypenumbers": "strict",
          "coloraxis": {
           "colorbar": {
            "outlinewidth": 0,
            "tickcolor": "rgb(36,36,36)",
            "ticklen": 8,
            "ticks": "outside",
            "tickwidth": 2
           }
          },
          "colorscale": {
           "sequential": [
            [
             0,
             "rgb(2,4,25)"
            ],
            [
             0.06274509803921569,
             "rgb(24,15,41)"
            ],
            [
             0.12549019607843137,
             "rgb(47,23,57)"
            ],
            [
             0.18823529411764706,
             "rgb(71,28,72)"
            ],
            [
             0.25098039215686274,
             "rgb(97,30,82)"
            ],
            [
             0.3137254901960784,
             "rgb(123,30,89)"
            ],
            [
             0.3764705882352941,
             "rgb(150,27,91)"
            ],
            [
             0.4392156862745098,
             "rgb(177,22,88)"
            ],
            [
             0.5019607843137255,
             "rgb(203,26,79)"
            ],
            [
             0.5647058823529412,
             "rgb(223,47,67)"
            ],
            [
             0.6274509803921569,
             "rgb(236,76,61)"
            ],
            [
             0.6901960784313725,
             "rgb(242,107,73)"
            ],
            [
             0.7529411764705882,
             "rgb(244,135,95)"
            ],
            [
             0.8156862745098039,
             "rgb(245,162,122)"
            ],
            [
             0.8784313725490196,
             "rgb(246,188,153)"
            ],
            [
             0.9411764705882353,
             "rgb(247,212,187)"
            ],
            [
             1,
             "rgb(250,234,220)"
            ]
           ],
           "sequentialminus": [
            [
             0,
             "rgb(2,4,25)"
            ],
            [
             0.06274509803921569,
             "rgb(24,15,41)"
            ],
            [
             0.12549019607843137,
             "rgb(47,23,57)"
            ],
            [
             0.18823529411764706,
             "rgb(71,28,72)"
            ],
            [
             0.25098039215686274,
             "rgb(97,30,82)"
            ],
            [
             0.3137254901960784,
             "rgb(123,30,89)"
            ],
            [
             0.3764705882352941,
             "rgb(150,27,91)"
            ],
            [
             0.4392156862745098,
             "rgb(177,22,88)"
            ],
            [
             0.5019607843137255,
             "rgb(203,26,79)"
            ],
            [
             0.5647058823529412,
             "rgb(223,47,67)"
            ],
            [
             0.6274509803921569,
             "rgb(236,76,61)"
            ],
            [
             0.6901960784313725,
             "rgb(242,107,73)"
            ],
            [
             0.7529411764705882,
             "rgb(244,135,95)"
            ],
            [
             0.8156862745098039,
             "rgb(245,162,122)"
            ],
            [
             0.8784313725490196,
             "rgb(246,188,153)"
            ],
            [
             0.9411764705882353,
             "rgb(247,212,187)"
            ],
            [
             1,
             "rgb(250,234,220)"
            ]
           ]
          },
          "colorway": [
           "rgb(76,114,176)",
           "rgb(221,132,82)",
           "rgb(85,168,104)",
           "rgb(196,78,82)",
           "rgb(129,114,179)",
           "rgb(147,120,96)",
           "rgb(218,139,195)",
           "rgb(140,140,140)",
           "rgb(204,185,116)",
           "rgb(100,181,205)"
          ],
          "font": {
           "color": "rgb(36,36,36)"
          },
          "geo": {
           "bgcolor": "white",
           "lakecolor": "white",
           "landcolor": "rgb(234,234,242)",
           "showlakes": true,
           "showland": true,
           "subunitcolor": "white"
          },
          "hoverlabel": {
           "align": "left"
          },
          "hovermode": "closest",
          "paper_bgcolor": "white",
          "plot_bgcolor": "rgb(234,234,242)",
          "polar": {
           "angularaxis": {
            "gridcolor": "white",
            "linecolor": "white",
            "showgrid": true,
            "ticks": ""
           },
           "bgcolor": "rgb(234,234,242)",
           "radialaxis": {
            "gridcolor": "white",
            "linecolor": "white",
            "showgrid": true,
            "ticks": ""
           }
          },
          "scene": {
           "xaxis": {
            "backgroundcolor": "rgb(234,234,242)",
            "gridcolor": "white",
            "gridwidth": 2,
            "linecolor": "white",
            "showbackground": true,
            "showgrid": true,
            "ticks": "",
            "zerolinecolor": "white"
           },
           "yaxis": {
            "backgroundcolor": "rgb(234,234,242)",
            "gridcolor": "white",
            "gridwidth": 2,
            "linecolor": "white",
            "showbackground": true,
            "showgrid": true,
            "ticks": "",
            "zerolinecolor": "white"
           },
           "zaxis": {
            "backgroundcolor": "rgb(234,234,242)",
            "gridcolor": "white",
            "gridwidth": 2,
            "linecolor": "white",
            "showbackground": true,
            "showgrid": true,
            "ticks": "",
            "zerolinecolor": "white"
           }
          },
          "shapedefaults": {
           "fillcolor": "rgb(67,103,167)",
           "line": {
            "width": 0
           },
           "opacity": 0.5
          },
          "ternary": {
           "aaxis": {
            "gridcolor": "white",
            "linecolor": "white",
            "showgrid": true,
            "ticks": ""
           },
           "baxis": {
            "gridcolor": "white",
            "linecolor": "white",
            "showgrid": true,
            "ticks": ""
           },
           "bgcolor": "rgb(234,234,242)",
           "caxis": {
            "gridcolor": "white",
            "linecolor": "white",
            "showgrid": true,
            "ticks": ""
           }
          },
          "xaxis": {
           "automargin": true,
           "gridcolor": "white",
           "linecolor": "white",
           "showgrid": true,
           "ticks": "",
           "title": {
            "standoff": 15
           },
           "zerolinecolor": "white"
          },
          "yaxis": {
           "automargin": true,
           "gridcolor": "white",
           "linecolor": "white",
           "showgrid": true,
           "ticks": "",
           "title": {
            "standoff": 15
           },
           "zerolinecolor": "white"
          }
         }
        },
        "width": 400,
        "xaxis": {
         "anchor": "y",
         "constrain": "domain",
         "domain": [
          0,
          1
         ],
         "scaleanchor": "y",
         "title": {
          "text": "Predicted Label"
         }
        },
        "yaxis": {
         "anchor": "x",
         "autorange": "reversed",
         "constrain": "domain",
         "domain": [
          0,
          1
         ],
         "title": {
          "text": "Real Label"
         }
        }
       }
      }
     },
     "metadata": {},
     "output_type": "display_data"
    },
    {
     "name": "stdout",
     "output_type": "stream",
     "text": [
      "FALSE POSITVES\n",
      "Empty DataFrame\n",
      "Columns: [index, indices, Pred probability, Pred label, True label, Result]\n",
      "Index: []\n",
      "\n",
      "FALSE NEGATIVES\n",
      "    index  indices  Pred probability  Pred label  True label Result\n",
      "66     66      196          0.105533           0           1     FN\n",
      "130\n"
     ]
    }
   ],
   "source": [
    "plot_confusion_matrix(metrics)\n",
    "false_positive = sample_df.query('Result == \"FP\"')\n",
    "false_negative = sample_df.query('Result == \"FN\"')\n",
    "# sample_df = pd.concat([sample_df, sample_df])\n",
    "print(\"FALSE POSITVES\")\n",
    "print(false_positive)\n",
    "print(\"\")\n",
    "print(\"FALSE NEGATIVES\")\n",
    "print(false_negative)\n",
    "print(len(sample_df.index))"
   ]
  },
  {
   "attachments": {},
   "cell_type": "markdown",
   "metadata": {},
   "source": [
    "##### 7.4. Plot individual windows"
   ]
  },
  {
   "cell_type": "code",
   "execution_count": 22,
   "metadata": {},
   "outputs": [
    {
     "name": "stdout",
     "output_type": "stream",
     "text": [
      "Window index: 66\n"
     ]
    },
    {
     "data": {
      "application/vnd.plotly.v1+json": {
       "config": {
        "plotlyServerURL": "https://plot.ly"
       },
       "data": [
        {
         "hovertemplate": "time=%{x}<br>Amplitude=%{y}<extra></extra>",
         "legendgroup": "",
         "line": {
          "color": "#636efa",
          "dash": "solid"
         },
         "marker": {
          "symbol": "circle"
         },
         "mode": "lines",
         "name": "",
         "orientation": "v",
         "showlegend": false,
         "type": "scatter",
         "x": [
          0.0171864,
          0.0174468,
          0.0177072,
          0.0179676,
          0.018228,
          0.0184884,
          0.0187488,
          0.0190092,
          0.0192696,
          0.01953,
          0.0197904,
          0.0200508,
          0.0203112,
          0.0205716,
          0.020832,
          0.0210924,
          0.0213528,
          0.0216132,
          0.0218736,
          0.022134,
          0.0223944,
          0.0226548,
          0.0229152,
          0.0231756,
          0.023436,
          0.0236964,
          0.0239568,
          0.0242172,
          0.0244776,
          0.024738,
          0.0249984,
          0.0252588,
          0.0255192,
          0.0257796,
          0.02604,
          0.0263004,
          0.0265608,
          0.0268212,
          0.0270816,
          0.027342,
          0.0276024,
          0.0278628,
          0.0281232,
          0.0283836,
          0.028644,
          0.0289044,
          0.0291648,
          0.0294252,
          0.0296856,
          0.029946,
          0.0302064,
          0.0304668,
          0.0307272,
          0.0309876,
          0.031248,
          0.0315084,
          0.0317688,
          0.0320292,
          0.0322896,
          0.03255,
          0.0328104,
          0.0330708,
          0.0333312,
          0.0335916
         ],
         "xaxis": "x",
         "y": [
          21.451175689697266,
          25.028398513793945,
          28.545490264892578,
          31.64473533630371,
          34.15851593017578,
          36.378231048583984,
          38.31985092163086,
          40.179141998291016,
          41.45548629760742,
          42.492984771728516,
          42.80500030517578,
          42.986663818359375,
          42.46856689453125,
          41.7475471496582,
          40.59856414794922,
          39.01033401489258,
          37.13475799560547,
          34.889041900634766,
          32.21063232421875,
          29.217300415039062,
          25.967025756835938,
          22.6106014251709,
          18.867952346801758,
          14.883293151855469,
          10.766427993774414,
          6.669371128082275,
          2.605623483657837,
          -1.5764461755752563,
          -5.639556407928467,
          -9.935598373413086,
          -13.90461254119873,
          -17.76860809326172,
          -21.446231842041016,
          -24.96520233154297,
          -28.37879180908203,
          -31.39482879638672,
          -34.05009460449219,
          -36.45622634887695,
          -38.49444580078125,
          -40.3073844909668,
          -41.55570983886719,
          -42.55807113647461,
          -43.000633239746094,
          -43.219879150390625,
          -42.8063850402832,
          -41.99705123901367,
          -40.82133102416992,
          -39.24944305419922,
          -37.43817138671875,
          -35.285884857177734,
          -32.54807662963867,
          -29.550355911254883,
          -26.243680953979492,
          -22.926450729370117,
          -19.226543426513672,
          -15.290135383605957,
          -11.184379577636719,
          -7.045895576477051,
          -2.911855459213257,
          1.2282096147537231,
          5.2842793464660645,
          9.499319076538086,
          13.547178268432617,
          43.79203796386719
         ],
         "yaxis": "y"
        }
       ],
       "layout": {
        "height": 400,
        "legend": {
         "tracegroupgap": 0
        },
        "margin": {
         "t": 60
        },
        "template": {
         "data": {
          "bar": [
           {
            "error_x": {
             "color": "#2a3f5f"
            },
            "error_y": {
             "color": "#2a3f5f"
            },
            "marker": {
             "line": {
              "color": "#E5ECF6",
              "width": 0.5
             },
             "pattern": {
              "fillmode": "overlay",
              "size": 10,
              "solidity": 0.2
             }
            },
            "type": "bar"
           }
          ],
          "barpolar": [
           {
            "marker": {
             "line": {
              "color": "#E5ECF6",
              "width": 0.5
             },
             "pattern": {
              "fillmode": "overlay",
              "size": 10,
              "solidity": 0.2
             }
            },
            "type": "barpolar"
           }
          ],
          "carpet": [
           {
            "aaxis": {
             "endlinecolor": "#2a3f5f",
             "gridcolor": "white",
             "linecolor": "white",
             "minorgridcolor": "white",
             "startlinecolor": "#2a3f5f"
            },
            "baxis": {
             "endlinecolor": "#2a3f5f",
             "gridcolor": "white",
             "linecolor": "white",
             "minorgridcolor": "white",
             "startlinecolor": "#2a3f5f"
            },
            "type": "carpet"
           }
          ],
          "choropleth": [
           {
            "colorbar": {
             "outlinewidth": 0,
             "ticks": ""
            },
            "type": "choropleth"
           }
          ],
          "contour": [
           {
            "colorbar": {
             "outlinewidth": 0,
             "ticks": ""
            },
            "colorscale": [
             [
              0,
              "#0d0887"
             ],
             [
              0.1111111111111111,
              "#46039f"
             ],
             [
              0.2222222222222222,
              "#7201a8"
             ],
             [
              0.3333333333333333,
              "#9c179e"
             ],
             [
              0.4444444444444444,
              "#bd3786"
             ],
             [
              0.5555555555555556,
              "#d8576b"
             ],
             [
              0.6666666666666666,
              "#ed7953"
             ],
             [
              0.7777777777777778,
              "#fb9f3a"
             ],
             [
              0.8888888888888888,
              "#fdca26"
             ],
             [
              1,
              "#f0f921"
             ]
            ],
            "type": "contour"
           }
          ],
          "contourcarpet": [
           {
            "colorbar": {
             "outlinewidth": 0,
             "ticks": ""
            },
            "type": "contourcarpet"
           }
          ],
          "heatmap": [
           {
            "colorbar": {
             "outlinewidth": 0,
             "ticks": ""
            },
            "colorscale": [
             [
              0,
              "#0d0887"
             ],
             [
              0.1111111111111111,
              "#46039f"
             ],
             [
              0.2222222222222222,
              "#7201a8"
             ],
             [
              0.3333333333333333,
              "#9c179e"
             ],
             [
              0.4444444444444444,
              "#bd3786"
             ],
             [
              0.5555555555555556,
              "#d8576b"
             ],
             [
              0.6666666666666666,
              "#ed7953"
             ],
             [
              0.7777777777777778,
              "#fb9f3a"
             ],
             [
              0.8888888888888888,
              "#fdca26"
             ],
             [
              1,
              "#f0f921"
             ]
            ],
            "type": "heatmap"
           }
          ],
          "heatmapgl": [
           {
            "colorbar": {
             "outlinewidth": 0,
             "ticks": ""
            },
            "colorscale": [
             [
              0,
              "#0d0887"
             ],
             [
              0.1111111111111111,
              "#46039f"
             ],
             [
              0.2222222222222222,
              "#7201a8"
             ],
             [
              0.3333333333333333,
              "#9c179e"
             ],
             [
              0.4444444444444444,
              "#bd3786"
             ],
             [
              0.5555555555555556,
              "#d8576b"
             ],
             [
              0.6666666666666666,
              "#ed7953"
             ],
             [
              0.7777777777777778,
              "#fb9f3a"
             ],
             [
              0.8888888888888888,
              "#fdca26"
             ],
             [
              1,
              "#f0f921"
             ]
            ],
            "type": "heatmapgl"
           }
          ],
          "histogram": [
           {
            "marker": {
             "pattern": {
              "fillmode": "overlay",
              "size": 10,
              "solidity": 0.2
             }
            },
            "type": "histogram"
           }
          ],
          "histogram2d": [
           {
            "colorbar": {
             "outlinewidth": 0,
             "ticks": ""
            },
            "colorscale": [
             [
              0,
              "#0d0887"
             ],
             [
              0.1111111111111111,
              "#46039f"
             ],
             [
              0.2222222222222222,
              "#7201a8"
             ],
             [
              0.3333333333333333,
              "#9c179e"
             ],
             [
              0.4444444444444444,
              "#bd3786"
             ],
             [
              0.5555555555555556,
              "#d8576b"
             ],
             [
              0.6666666666666666,
              "#ed7953"
             ],
             [
              0.7777777777777778,
              "#fb9f3a"
             ],
             [
              0.8888888888888888,
              "#fdca26"
             ],
             [
              1,
              "#f0f921"
             ]
            ],
            "type": "histogram2d"
           }
          ],
          "histogram2dcontour": [
           {
            "colorbar": {
             "outlinewidth": 0,
             "ticks": ""
            },
            "colorscale": [
             [
              0,
              "#0d0887"
             ],
             [
              0.1111111111111111,
              "#46039f"
             ],
             [
              0.2222222222222222,
              "#7201a8"
             ],
             [
              0.3333333333333333,
              "#9c179e"
             ],
             [
              0.4444444444444444,
              "#bd3786"
             ],
             [
              0.5555555555555556,
              "#d8576b"
             ],
             [
              0.6666666666666666,
              "#ed7953"
             ],
             [
              0.7777777777777778,
              "#fb9f3a"
             ],
             [
              0.8888888888888888,
              "#fdca26"
             ],
             [
              1,
              "#f0f921"
             ]
            ],
            "type": "histogram2dcontour"
           }
          ],
          "mesh3d": [
           {
            "colorbar": {
             "outlinewidth": 0,
             "ticks": ""
            },
            "type": "mesh3d"
           }
          ],
          "parcoords": [
           {
            "line": {
             "colorbar": {
              "outlinewidth": 0,
              "ticks": ""
             }
            },
            "type": "parcoords"
           }
          ],
          "pie": [
           {
            "automargin": true,
            "type": "pie"
           }
          ],
          "scatter": [
           {
            "fillpattern": {
             "fillmode": "overlay",
             "size": 10,
             "solidity": 0.2
            },
            "type": "scatter"
           }
          ],
          "scatter3d": [
           {
            "line": {
             "colorbar": {
              "outlinewidth": 0,
              "ticks": ""
             }
            },
            "marker": {
             "colorbar": {
              "outlinewidth": 0,
              "ticks": ""
             }
            },
            "type": "scatter3d"
           }
          ],
          "scattercarpet": [
           {
            "marker": {
             "colorbar": {
              "outlinewidth": 0,
              "ticks": ""
             }
            },
            "type": "scattercarpet"
           }
          ],
          "scattergeo": [
           {
            "marker": {
             "colorbar": {
              "outlinewidth": 0,
              "ticks": ""
             }
            },
            "type": "scattergeo"
           }
          ],
          "scattergl": [
           {
            "marker": {
             "colorbar": {
              "outlinewidth": 0,
              "ticks": ""
             }
            },
            "type": "scattergl"
           }
          ],
          "scattermapbox": [
           {
            "marker": {
             "colorbar": {
              "outlinewidth": 0,
              "ticks": ""
             }
            },
            "type": "scattermapbox"
           }
          ],
          "scatterpolar": [
           {
            "marker": {
             "colorbar": {
              "outlinewidth": 0,
              "ticks": ""
             }
            },
            "type": "scatterpolar"
           }
          ],
          "scatterpolargl": [
           {
            "marker": {
             "colorbar": {
              "outlinewidth": 0,
              "ticks": ""
             }
            },
            "type": "scatterpolargl"
           }
          ],
          "scatterternary": [
           {
            "marker": {
             "colorbar": {
              "outlinewidth": 0,
              "ticks": ""
             }
            },
            "type": "scatterternary"
           }
          ],
          "surface": [
           {
            "colorbar": {
             "outlinewidth": 0,
             "ticks": ""
            },
            "colorscale": [
             [
              0,
              "#0d0887"
             ],
             [
              0.1111111111111111,
              "#46039f"
             ],
             [
              0.2222222222222222,
              "#7201a8"
             ],
             [
              0.3333333333333333,
              "#9c179e"
             ],
             [
              0.4444444444444444,
              "#bd3786"
             ],
             [
              0.5555555555555556,
              "#d8576b"
             ],
             [
              0.6666666666666666,
              "#ed7953"
             ],
             [
              0.7777777777777778,
              "#fb9f3a"
             ],
             [
              0.8888888888888888,
              "#fdca26"
             ],
             [
              1,
              "#f0f921"
             ]
            ],
            "type": "surface"
           }
          ],
          "table": [
           {
            "cells": {
             "fill": {
              "color": "#EBF0F8"
             },
             "line": {
              "color": "white"
             }
            },
            "header": {
             "fill": {
              "color": "#C8D4E3"
             },
             "line": {
              "color": "white"
             }
            },
            "type": "table"
           }
          ]
         },
         "layout": {
          "annotationdefaults": {
           "arrowcolor": "#2a3f5f",
           "arrowhead": 0,
           "arrowwidth": 1
          },
          "autotypenumbers": "strict",
          "coloraxis": {
           "colorbar": {
            "outlinewidth": 0,
            "ticks": ""
           }
          },
          "colorscale": {
           "diverging": [
            [
             0,
             "#8e0152"
            ],
            [
             0.1,
             "#c51b7d"
            ],
            [
             0.2,
             "#de77ae"
            ],
            [
             0.3,
             "#f1b6da"
            ],
            [
             0.4,
             "#fde0ef"
            ],
            [
             0.5,
             "#f7f7f7"
            ],
            [
             0.6,
             "#e6f5d0"
            ],
            [
             0.7,
             "#b8e186"
            ],
            [
             0.8,
             "#7fbc41"
            ],
            [
             0.9,
             "#4d9221"
            ],
            [
             1,
             "#276419"
            ]
           ],
           "sequential": [
            [
             0,
             "#0d0887"
            ],
            [
             0.1111111111111111,
             "#46039f"
            ],
            [
             0.2222222222222222,
             "#7201a8"
            ],
            [
             0.3333333333333333,
             "#9c179e"
            ],
            [
             0.4444444444444444,
             "#bd3786"
            ],
            [
             0.5555555555555556,
             "#d8576b"
            ],
            [
             0.6666666666666666,
             "#ed7953"
            ],
            [
             0.7777777777777778,
             "#fb9f3a"
            ],
            [
             0.8888888888888888,
             "#fdca26"
            ],
            [
             1,
             "#f0f921"
            ]
           ],
           "sequentialminus": [
            [
             0,
             "#0d0887"
            ],
            [
             0.1111111111111111,
             "#46039f"
            ],
            [
             0.2222222222222222,
             "#7201a8"
            ],
            [
             0.3333333333333333,
             "#9c179e"
            ],
            [
             0.4444444444444444,
             "#bd3786"
            ],
            [
             0.5555555555555556,
             "#d8576b"
            ],
            [
             0.6666666666666666,
             "#ed7953"
            ],
            [
             0.7777777777777778,
             "#fb9f3a"
            ],
            [
             0.8888888888888888,
             "#fdca26"
            ],
            [
             1,
             "#f0f921"
            ]
           ]
          },
          "colorway": [
           "#636efa",
           "#EF553B",
           "#00cc96",
           "#ab63fa",
           "#FFA15A",
           "#19d3f3",
           "#FF6692",
           "#B6E880",
           "#FF97FF",
           "#FECB52"
          ],
          "font": {
           "color": "#2a3f5f"
          },
          "geo": {
           "bgcolor": "white",
           "lakecolor": "white",
           "landcolor": "#E5ECF6",
           "showlakes": true,
           "showland": true,
           "subunitcolor": "white"
          },
          "hoverlabel": {
           "align": "left"
          },
          "hovermode": "closest",
          "mapbox": {
           "style": "light"
          },
          "paper_bgcolor": "white",
          "plot_bgcolor": "#E5ECF6",
          "polar": {
           "angularaxis": {
            "gridcolor": "white",
            "linecolor": "white",
            "ticks": ""
           },
           "bgcolor": "#E5ECF6",
           "radialaxis": {
            "gridcolor": "white",
            "linecolor": "white",
            "ticks": ""
           }
          },
          "scene": {
           "xaxis": {
            "backgroundcolor": "#E5ECF6",
            "gridcolor": "white",
            "gridwidth": 2,
            "linecolor": "white",
            "showbackground": true,
            "ticks": "",
            "zerolinecolor": "white"
           },
           "yaxis": {
            "backgroundcolor": "#E5ECF6",
            "gridcolor": "white",
            "gridwidth": 2,
            "linecolor": "white",
            "showbackground": true,
            "ticks": "",
            "zerolinecolor": "white"
           },
           "zaxis": {
            "backgroundcolor": "#E5ECF6",
            "gridcolor": "white",
            "gridwidth": 2,
            "linecolor": "white",
            "showbackground": true,
            "ticks": "",
            "zerolinecolor": "white"
           }
          },
          "shapedefaults": {
           "line": {
            "color": "#2a3f5f"
           }
          },
          "ternary": {
           "aaxis": {
            "gridcolor": "white",
            "linecolor": "white",
            "ticks": ""
           },
           "baxis": {
            "gridcolor": "white",
            "linecolor": "white",
            "ticks": ""
           },
           "bgcolor": "#E5ECF6",
           "caxis": {
            "gridcolor": "white",
            "linecolor": "white",
            "ticks": ""
           }
          },
          "title": {
           "x": 0.05
          },
          "xaxis": {
           "automargin": true,
           "gridcolor": "white",
           "linecolor": "white",
           "ticks": "",
           "title": {
            "standoff": 15
           },
           "zerolinecolor": "white",
           "zerolinewidth": 2
          },
          "yaxis": {
           "automargin": true,
           "gridcolor": "white",
           "linecolor": "white",
           "ticks": "",
           "title": {
            "standoff": 15
           },
           "zerolinecolor": "white",
           "zerolinewidth": 2
          }
         }
        },
        "width": 600,
        "xaxis": {
         "anchor": "y",
         "domain": [
          0,
          1
         ],
         "title": {
          "text": "time"
         }
        },
        "yaxis": {
         "anchor": "x",
         "domain": [
          0,
          1
         ],
         "title": {
          "text": "Amplitude"
         }
        }
       }
      }
     },
     "metadata": {},
     "output_type": "display_data"
    },
    {
     "data": {
      "application/vnd.plotly.v1+json": {
       "config": {
        "plotlyServerURL": "https://plot.ly"
       },
       "data": [
        {
         "hovertemplate": "Window=%{x}<br>Trip Signal=%{y}<extra></extra>",
         "legendgroup": "",
         "line": {
          "color": "#636efa",
          "dash": "solid",
          "shape": "hv"
         },
         "marker": {
          "symbol": "circle"
         },
         "mode": "lines",
         "name": "",
         "orientation": "v",
         "showlegend": false,
         "type": "scatter",
         "x": [
          0,
          1,
          2,
          3,
          4,
          5,
          6,
          7,
          8,
          9,
          10,
          11,
          12,
          13,
          14,
          15,
          16,
          17,
          18,
          19,
          20,
          21,
          22,
          23,
          24,
          25,
          26,
          27,
          28,
          29,
          30,
          31,
          32,
          33,
          34,
          35,
          36,
          37,
          38,
          39,
          40,
          41,
          42,
          43,
          44,
          45,
          46,
          47,
          48,
          49,
          50,
          51,
          52,
          53,
          54,
          55,
          56,
          57,
          58,
          59,
          60,
          61,
          62,
          63,
          64,
          65,
          66,
          67,
          68,
          69,
          70,
          71,
          72,
          73,
          74,
          75,
          76,
          77,
          78,
          79,
          80,
          81,
          82,
          83,
          84,
          85,
          86,
          87,
          88,
          89,
          90,
          91,
          92,
          93,
          94,
          95,
          96,
          97,
          98,
          99,
          100,
          101,
          102,
          103,
          104,
          105,
          106,
          107,
          108,
          109,
          110,
          111,
          112,
          113,
          114,
          115,
          116,
          117,
          118,
          119,
          120,
          121,
          122,
          123,
          124,
          125,
          126,
          127,
          128,
          129
         ],
         "xaxis": "x",
         "y": [
          0,
          0,
          0,
          0,
          0,
          0,
          0,
          0,
          0,
          0,
          0,
          0,
          0,
          0,
          0,
          0,
          0,
          0,
          0,
          0,
          0,
          0,
          0,
          0,
          0,
          0,
          0,
          0,
          0,
          0,
          0,
          0,
          0,
          0,
          0,
          0,
          0,
          0,
          0,
          0,
          0,
          0,
          0,
          0,
          0,
          0,
          0,
          0,
          0,
          0,
          0,
          0,
          0,
          0,
          0,
          0,
          0,
          0,
          0,
          0,
          0,
          0,
          0,
          0,
          0,
          0,
          0,
          1,
          1,
          1,
          1,
          1,
          1,
          1,
          1,
          1,
          1,
          1,
          1,
          1,
          1,
          1,
          1,
          1,
          1,
          1,
          1,
          1,
          1,
          1,
          1,
          1,
          1,
          1,
          1,
          1,
          1,
          1,
          1,
          1,
          1,
          1,
          1,
          1,
          1,
          1,
          1,
          1,
          1,
          1,
          1,
          1,
          1,
          1,
          1,
          1,
          1,
          1,
          1,
          1,
          1,
          1,
          1,
          1,
          1,
          1,
          1,
          1,
          1,
          1
         ],
         "yaxis": "y"
        }
       ],
       "layout": {
        "height": 400,
        "legend": {
         "tracegroupgap": 0
        },
        "margin": {
         "t": 60
        },
        "template": {
         "data": {
          "bar": [
           {
            "error_x": {
             "color": "#2a3f5f"
            },
            "error_y": {
             "color": "#2a3f5f"
            },
            "marker": {
             "line": {
              "color": "#E5ECF6",
              "width": 0.5
             },
             "pattern": {
              "fillmode": "overlay",
              "size": 10,
              "solidity": 0.2
             }
            },
            "type": "bar"
           }
          ],
          "barpolar": [
           {
            "marker": {
             "line": {
              "color": "#E5ECF6",
              "width": 0.5
             },
             "pattern": {
              "fillmode": "overlay",
              "size": 10,
              "solidity": 0.2
             }
            },
            "type": "barpolar"
           }
          ],
          "carpet": [
           {
            "aaxis": {
             "endlinecolor": "#2a3f5f",
             "gridcolor": "white",
             "linecolor": "white",
             "minorgridcolor": "white",
             "startlinecolor": "#2a3f5f"
            },
            "baxis": {
             "endlinecolor": "#2a3f5f",
             "gridcolor": "white",
             "linecolor": "white",
             "minorgridcolor": "white",
             "startlinecolor": "#2a3f5f"
            },
            "type": "carpet"
           }
          ],
          "choropleth": [
           {
            "colorbar": {
             "outlinewidth": 0,
             "ticks": ""
            },
            "type": "choropleth"
           }
          ],
          "contour": [
           {
            "colorbar": {
             "outlinewidth": 0,
             "ticks": ""
            },
            "colorscale": [
             [
              0,
              "#0d0887"
             ],
             [
              0.1111111111111111,
              "#46039f"
             ],
             [
              0.2222222222222222,
              "#7201a8"
             ],
             [
              0.3333333333333333,
              "#9c179e"
             ],
             [
              0.4444444444444444,
              "#bd3786"
             ],
             [
              0.5555555555555556,
              "#d8576b"
             ],
             [
              0.6666666666666666,
              "#ed7953"
             ],
             [
              0.7777777777777778,
              "#fb9f3a"
             ],
             [
              0.8888888888888888,
              "#fdca26"
             ],
             [
              1,
              "#f0f921"
             ]
            ],
            "type": "contour"
           }
          ],
          "contourcarpet": [
           {
            "colorbar": {
             "outlinewidth": 0,
             "ticks": ""
            },
            "type": "contourcarpet"
           }
          ],
          "heatmap": [
           {
            "colorbar": {
             "outlinewidth": 0,
             "ticks": ""
            },
            "colorscale": [
             [
              0,
              "#0d0887"
             ],
             [
              0.1111111111111111,
              "#46039f"
             ],
             [
              0.2222222222222222,
              "#7201a8"
             ],
             [
              0.3333333333333333,
              "#9c179e"
             ],
             [
              0.4444444444444444,
              "#bd3786"
             ],
             [
              0.5555555555555556,
              "#d8576b"
             ],
             [
              0.6666666666666666,
              "#ed7953"
             ],
             [
              0.7777777777777778,
              "#fb9f3a"
             ],
             [
              0.8888888888888888,
              "#fdca26"
             ],
             [
              1,
              "#f0f921"
             ]
            ],
            "type": "heatmap"
           }
          ],
          "heatmapgl": [
           {
            "colorbar": {
             "outlinewidth": 0,
             "ticks": ""
            },
            "colorscale": [
             [
              0,
              "#0d0887"
             ],
             [
              0.1111111111111111,
              "#46039f"
             ],
             [
              0.2222222222222222,
              "#7201a8"
             ],
             [
              0.3333333333333333,
              "#9c179e"
             ],
             [
              0.4444444444444444,
              "#bd3786"
             ],
             [
              0.5555555555555556,
              "#d8576b"
             ],
             [
              0.6666666666666666,
              "#ed7953"
             ],
             [
              0.7777777777777778,
              "#fb9f3a"
             ],
             [
              0.8888888888888888,
              "#fdca26"
             ],
             [
              1,
              "#f0f921"
             ]
            ],
            "type": "heatmapgl"
           }
          ],
          "histogram": [
           {
            "marker": {
             "pattern": {
              "fillmode": "overlay",
              "size": 10,
              "solidity": 0.2
             }
            },
            "type": "histogram"
           }
          ],
          "histogram2d": [
           {
            "colorbar": {
             "outlinewidth": 0,
             "ticks": ""
            },
            "colorscale": [
             [
              0,
              "#0d0887"
             ],
             [
              0.1111111111111111,
              "#46039f"
             ],
             [
              0.2222222222222222,
              "#7201a8"
             ],
             [
              0.3333333333333333,
              "#9c179e"
             ],
             [
              0.4444444444444444,
              "#bd3786"
             ],
             [
              0.5555555555555556,
              "#d8576b"
             ],
             [
              0.6666666666666666,
              "#ed7953"
             ],
             [
              0.7777777777777778,
              "#fb9f3a"
             ],
             [
              0.8888888888888888,
              "#fdca26"
             ],
             [
              1,
              "#f0f921"
             ]
            ],
            "type": "histogram2d"
           }
          ],
          "histogram2dcontour": [
           {
            "colorbar": {
             "outlinewidth": 0,
             "ticks": ""
            },
            "colorscale": [
             [
              0,
              "#0d0887"
             ],
             [
              0.1111111111111111,
              "#46039f"
             ],
             [
              0.2222222222222222,
              "#7201a8"
             ],
             [
              0.3333333333333333,
              "#9c179e"
             ],
             [
              0.4444444444444444,
              "#bd3786"
             ],
             [
              0.5555555555555556,
              "#d8576b"
             ],
             [
              0.6666666666666666,
              "#ed7953"
             ],
             [
              0.7777777777777778,
              "#fb9f3a"
             ],
             [
              0.8888888888888888,
              "#fdca26"
             ],
             [
              1,
              "#f0f921"
             ]
            ],
            "type": "histogram2dcontour"
           }
          ],
          "mesh3d": [
           {
            "colorbar": {
             "outlinewidth": 0,
             "ticks": ""
            },
            "type": "mesh3d"
           }
          ],
          "parcoords": [
           {
            "line": {
             "colorbar": {
              "outlinewidth": 0,
              "ticks": ""
             }
            },
            "type": "parcoords"
           }
          ],
          "pie": [
           {
            "automargin": true,
            "type": "pie"
           }
          ],
          "scatter": [
           {
            "fillpattern": {
             "fillmode": "overlay",
             "size": 10,
             "solidity": 0.2
            },
            "type": "scatter"
           }
          ],
          "scatter3d": [
           {
            "line": {
             "colorbar": {
              "outlinewidth": 0,
              "ticks": ""
             }
            },
            "marker": {
             "colorbar": {
              "outlinewidth": 0,
              "ticks": ""
             }
            },
            "type": "scatter3d"
           }
          ],
          "scattercarpet": [
           {
            "marker": {
             "colorbar": {
              "outlinewidth": 0,
              "ticks": ""
             }
            },
            "type": "scattercarpet"
           }
          ],
          "scattergeo": [
           {
            "marker": {
             "colorbar": {
              "outlinewidth": 0,
              "ticks": ""
             }
            },
            "type": "scattergeo"
           }
          ],
          "scattergl": [
           {
            "marker": {
             "colorbar": {
              "outlinewidth": 0,
              "ticks": ""
             }
            },
            "type": "scattergl"
           }
          ],
          "scattermapbox": [
           {
            "marker": {
             "colorbar": {
              "outlinewidth": 0,
              "ticks": ""
             }
            },
            "type": "scattermapbox"
           }
          ],
          "scatterpolar": [
           {
            "marker": {
             "colorbar": {
              "outlinewidth": 0,
              "ticks": ""
             }
            },
            "type": "scatterpolar"
           }
          ],
          "scatterpolargl": [
           {
            "marker": {
             "colorbar": {
              "outlinewidth": 0,
              "ticks": ""
             }
            },
            "type": "scatterpolargl"
           }
          ],
          "scatterternary": [
           {
            "marker": {
             "colorbar": {
              "outlinewidth": 0,
              "ticks": ""
             }
            },
            "type": "scatterternary"
           }
          ],
          "surface": [
           {
            "colorbar": {
             "outlinewidth": 0,
             "ticks": ""
            },
            "colorscale": [
             [
              0,
              "#0d0887"
             ],
             [
              0.1111111111111111,
              "#46039f"
             ],
             [
              0.2222222222222222,
              "#7201a8"
             ],
             [
              0.3333333333333333,
              "#9c179e"
             ],
             [
              0.4444444444444444,
              "#bd3786"
             ],
             [
              0.5555555555555556,
              "#d8576b"
             ],
             [
              0.6666666666666666,
              "#ed7953"
             ],
             [
              0.7777777777777778,
              "#fb9f3a"
             ],
             [
              0.8888888888888888,
              "#fdca26"
             ],
             [
              1,
              "#f0f921"
             ]
            ],
            "type": "surface"
           }
          ],
          "table": [
           {
            "cells": {
             "fill": {
              "color": "#EBF0F8"
             },
             "line": {
              "color": "white"
             }
            },
            "header": {
             "fill": {
              "color": "#C8D4E3"
             },
             "line": {
              "color": "white"
             }
            },
            "type": "table"
           }
          ]
         },
         "layout": {
          "annotationdefaults": {
           "arrowcolor": "#2a3f5f",
           "arrowhead": 0,
           "arrowwidth": 1
          },
          "autotypenumbers": "strict",
          "coloraxis": {
           "colorbar": {
            "outlinewidth": 0,
            "ticks": ""
           }
          },
          "colorscale": {
           "diverging": [
            [
             0,
             "#8e0152"
            ],
            [
             0.1,
             "#c51b7d"
            ],
            [
             0.2,
             "#de77ae"
            ],
            [
             0.3,
             "#f1b6da"
            ],
            [
             0.4,
             "#fde0ef"
            ],
            [
             0.5,
             "#f7f7f7"
            ],
            [
             0.6,
             "#e6f5d0"
            ],
            [
             0.7,
             "#b8e186"
            ],
            [
             0.8,
             "#7fbc41"
            ],
            [
             0.9,
             "#4d9221"
            ],
            [
             1,
             "#276419"
            ]
           ],
           "sequential": [
            [
             0,
             "#0d0887"
            ],
            [
             0.1111111111111111,
             "#46039f"
            ],
            [
             0.2222222222222222,
             "#7201a8"
            ],
            [
             0.3333333333333333,
             "#9c179e"
            ],
            [
             0.4444444444444444,
             "#bd3786"
            ],
            [
             0.5555555555555556,
             "#d8576b"
            ],
            [
             0.6666666666666666,
             "#ed7953"
            ],
            [
             0.7777777777777778,
             "#fb9f3a"
            ],
            [
             0.8888888888888888,
             "#fdca26"
            ],
            [
             1,
             "#f0f921"
            ]
           ],
           "sequentialminus": [
            [
             0,
             "#0d0887"
            ],
            [
             0.1111111111111111,
             "#46039f"
            ],
            [
             0.2222222222222222,
             "#7201a8"
            ],
            [
             0.3333333333333333,
             "#9c179e"
            ],
            [
             0.4444444444444444,
             "#bd3786"
            ],
            [
             0.5555555555555556,
             "#d8576b"
            ],
            [
             0.6666666666666666,
             "#ed7953"
            ],
            [
             0.7777777777777778,
             "#fb9f3a"
            ],
            [
             0.8888888888888888,
             "#fdca26"
            ],
            [
             1,
             "#f0f921"
            ]
           ]
          },
          "colorway": [
           "#636efa",
           "#EF553B",
           "#00cc96",
           "#ab63fa",
           "#FFA15A",
           "#19d3f3",
           "#FF6692",
           "#B6E880",
           "#FF97FF",
           "#FECB52"
          ],
          "font": {
           "color": "#2a3f5f"
          },
          "geo": {
           "bgcolor": "white",
           "lakecolor": "white",
           "landcolor": "#E5ECF6",
           "showlakes": true,
           "showland": true,
           "subunitcolor": "white"
          },
          "hoverlabel": {
           "align": "left"
          },
          "hovermode": "closest",
          "mapbox": {
           "style": "light"
          },
          "paper_bgcolor": "white",
          "plot_bgcolor": "#E5ECF6",
          "polar": {
           "angularaxis": {
            "gridcolor": "white",
            "linecolor": "white",
            "ticks": ""
           },
           "bgcolor": "#E5ECF6",
           "radialaxis": {
            "gridcolor": "white",
            "linecolor": "white",
            "ticks": ""
           }
          },
          "scene": {
           "xaxis": {
            "backgroundcolor": "#E5ECF6",
            "gridcolor": "white",
            "gridwidth": 2,
            "linecolor": "white",
            "showbackground": true,
            "ticks": "",
            "zerolinecolor": "white"
           },
           "yaxis": {
            "backgroundcolor": "#E5ECF6",
            "gridcolor": "white",
            "gridwidth": 2,
            "linecolor": "white",
            "showbackground": true,
            "ticks": "",
            "zerolinecolor": "white"
           },
           "zaxis": {
            "backgroundcolor": "#E5ECF6",
            "gridcolor": "white",
            "gridwidth": 2,
            "linecolor": "white",
            "showbackground": true,
            "ticks": "",
            "zerolinecolor": "white"
           }
          },
          "shapedefaults": {
           "line": {
            "color": "#2a3f5f"
           }
          },
          "ternary": {
           "aaxis": {
            "gridcolor": "white",
            "linecolor": "white",
            "ticks": ""
           },
           "baxis": {
            "gridcolor": "white",
            "linecolor": "white",
            "ticks": ""
           },
           "bgcolor": "#E5ECF6",
           "caxis": {
            "gridcolor": "white",
            "linecolor": "white",
            "ticks": ""
           }
          },
          "title": {
           "x": 0.05
          },
          "xaxis": {
           "automargin": true,
           "gridcolor": "white",
           "linecolor": "white",
           "ticks": "",
           "title": {
            "standoff": 15
           },
           "zerolinecolor": "white",
           "zerolinewidth": 2
          },
          "yaxis": {
           "automargin": true,
           "gridcolor": "white",
           "linecolor": "white",
           "ticks": "",
           "title": {
            "standoff": 15
           },
           "zerolinecolor": "white",
           "zerolinewidth": 2
          }
         }
        },
        "width": 600,
        "xaxis": {
         "anchor": "y",
         "domain": [
          0,
          1
         ],
         "title": {
          "text": "Window"
         }
        },
        "yaxis": {
         "anchor": "x",
         "domain": [
          0,
          1
         ],
         "title": {
          "text": "Trip Signal"
         }
        }
       }
      }
     },
     "metadata": {},
     "output_type": "display_data"
    }
   ],
   "source": [
    "def update_fig(fig):\n",
    "    fig.update_traces(line_color=\"#EEEEEE\", line_width=2)\n",
    "    fig.update_layout(\n",
    "        paper_bgcolor=\"#222831\",\n",
    "        plot_bgcolor=\"#393E46\",\n",
    "        font_color=\"whitesmoke\",\n",
    "    )\n",
    "    fig.update_xaxes(showgrid=True, gridwidth=1, gridcolor=\"#32E0C4\")\n",
    "    fig.update_yaxes(showgrid=True, gridwidth=1, gridcolor=\"#32E0C4\")\n",
    "\n",
    "\n",
    "signal, t = dataset.__getitem__(196, data_plot=True)\n",
    "print(f\"Window index: {sample_df.query('indices == 196').index[0]}\")\n",
    "fig = px.line(\n",
    "    x=t,\n",
    "    y=signal,\n",
    "    width=600,\n",
    "    height=400,\n",
    "    labels=dict(x=\"time\", y=\"Amplitude\"),\n",
    ")\n",
    "# update_fig(fig)\n",
    "fig.show()\n",
    "fig = px.line(\n",
    "    x=sample_df.index,\n",
    "    y=sample_df[\"Pred label\"],\n",
    "    width=600,\n",
    "    height=400,\n",
    "    labels=dict(x=\"Window\", y=\"Trip Signal\"),\n",
    "    line_shape=\"hv\",\n",
    ")\n",
    "# update_fig(fig)\n",
    "fig.show()\n"
   ]
  },
  {
   "attachments": {},
   "cell_type": "markdown",
   "metadata": {},
   "source": [
    "##### 7.5. Whole Dataset Exploration"
   ]
  },
  {
   "cell_type": "code",
   "execution_count": null,
   "metadata": {},
   "outputs": [],
   "source": [
    "\n"
   ]
  },
  {
   "attachments": {},
   "cell_type": "markdown",
   "metadata": {},
   "source": [
    "### 8. References\n",
    "1. PyTorch Contributors: LSTM. [LSTM — PyTorch 1.13 documentation](https://pytorch.org/docs/stable/generated/torch.nn.LSTM.html).\n",
    "<!-- @online{LSTM,\n",
    "    author = \"{PyTorch Contributors}\",\n",
    "    title = \"LSTM\",\n",
    "    url  = \"https://pytorch.org/docs/stable/generated/torch.nn.LSTM.html\",\n",
    "    addendum = \"(accessed: 10.02.2023)\",\n",
    "    keywords = \"LSTM pytorch\"\n",
    "} -->"
   ]
  }
 ],
 "metadata": {
  "kernelspec": {
   "display_name": "env",
   "language": "python",
   "name": "python3"
  },
  "language_info": {
   "codemirror_mode": {
    "name": "ipython",
    "version": 3
   },
   "file_extension": ".py",
   "mimetype": "text/x-python",
   "name": "python",
   "nbconvert_exporter": "python",
   "pygments_lexer": "ipython3",
   "version": "3.9.13"
  },
  "orig_nbformat": 4,
  "vscode": {
   "interpreter": {
    "hash": "edf36f54e3c0d12e79cbfbdb2eab1260e125462eb03956a03e5e853a13b289dd"
   }
  }
 },
 "nbformat": 4,
 "nbformat_minor": 2
}
