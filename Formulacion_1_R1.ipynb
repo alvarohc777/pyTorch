{
 "cells": [
  {
   "attachments": {},
   "cell_type": "markdown",
   "metadata": {},
   "source": [
    "<center><h1 style:\"text-align:center;\">Formulación 1</h1></center>\n",
    "<center><h3>Relé 1</h3></center>"
   ]
  },
  {
   "attachments": {},
   "cell_type": "markdown",
   "metadata": {},
   "source": [
    "### 1. Imports"
   ]
  },
  {
   "cell_type": "code",
   "execution_count": 1,
   "metadata": {},
   "outputs": [],
   "source": [
    "import torch\n",
    "import torch.nn as nn\n",
    "from torch.utils.data import Dataset, DataLoader, random_split\n",
    "\n",
    "# Métricas\n",
    "from torchmetrics.functional.classification import binary_stat_scores\n",
    "\n",
    "# Visualizar datos\n",
    "import numpy as np\n",
    "import pandas as pd\n",
    "import matplotlib.pyplot as plt\n",
    "import plotly.express as px\n",
    "\n",
    "# Progress bar\n",
    "from tqdm import tqdm\n",
    "\n",
    "# Acceder al sistema operativo\n",
    "import os\n",
    "import glob\n",
    "import shutil\n",
    "import random\n"
   ]
  },
  {
   "attachments": {},
   "cell_type": "markdown",
   "metadata": {},
   "source": [
    "### 2. Model Parameters"
   ]
  },
  {
   "cell_type": "code",
   "execution_count": 2,
   "metadata": {},
   "outputs": [
    {
     "name": "stdout",
     "output_type": "stream",
     "text": [
      "cuda\n"
     ]
    }
   ],
   "source": [
    "# LSTM parameters\n",
    "hidden_dim = 20\n",
    "n_signals = 1\n",
    "N = 64\n",
    "\n",
    "# _batch_size => m in figure 1.\n",
    "train_batch_size = 64\n",
    "dev_batch_size = 16\n",
    "test_batch_size = 16\n",
    "\n",
    "# Classification type (binary)\n",
    "tagset_size = 1\n",
    "\n",
    "# Set\n",
    "device = \"cuda\" if torch.cuda.is_available() else \"cpu\"\n",
    "print(device)\n"
   ]
  },
  {
   "attachments": {},
   "cell_type": "markdown",
   "metadata": {},
   "source": [
    "### 3. Model Creation"
   ]
  },
  {
   "attachments": {},
   "cell_type": "markdown",
   "metadata": {},
   "source": [
    "##### 3.1. FaultDetector Class Creation"
   ]
  },
  {
   "cell_type": "code",
   "execution_count": 3,
   "metadata": {},
   "outputs": [],
   "source": [
    "# Model Creation\n",
    "\n",
    "\n",
    "class FaultDetector(nn.Module):\n",
    "    \"\"\"Information about FaultDetector\"\"\"\n",
    "\n",
    "    def __init__(self, N, hidden_dim, tagset_size):\n",
    "        super(FaultDetector, self).__init__()\n",
    "        self.lstm = nn.LSTM(N, hidden_dim, batch_first=True)\n",
    "        self.fc = nn.Linear(hidden_dim, tagset_size)\n",
    "\n",
    "    def forward(self, x):\n",
    "        lstm_out, _ = self.lstm(x)\n",
    "        fc_layer = self.fc(lstm_out[:, -1, :])\n",
    "\n",
    "        return torch.sigmoid(fc_layer)\n"
   ]
  },
  {
   "attachments": {},
   "cell_type": "markdown",
   "metadata": {},
   "source": [
    "##### 3.2. Model Instance Initialization"
   ]
  },
  {
   "cell_type": "code",
   "execution_count": 4,
   "metadata": {},
   "outputs": [
    {
     "name": "stdout",
     "output_type": "stream",
     "text": [
      "Model structure: FaultDetector(\n",
      "  (lstm): LSTM(1, 20, batch_first=True)\n",
      "  (fc): Linear(in_features=20, out_features=1, bias=True)\n",
      ")\n",
      "\n",
      "Number of parameters: 1861\n"
     ]
    }
   ],
   "source": [
    "model = FaultDetector(n_signals, hidden_dim, tagset_size).to(device)\n",
    "loss_fn = nn.BCELoss()\n",
    "optimizer = torch.optim.Adam(model.parameters(), lr=1e-2)\n",
    "\n",
    "# Learning rate decay (optional)\n",
    "decayRate = 0.96\n",
    "my_lr_scheduler = torch.optim.lr_scheduler.ExponentialLR(\n",
    "    optimizer=optimizer, gamma=decayRate\n",
    ")\n",
    "\n",
    "print(f\"Model structure: {model}\\n\")\n",
    "\n",
    "# Number of parameters\n",
    "model_parameters = filter(lambda p: p.requires_grad, model.parameters())\n",
    "params = sum([np.prod(p.size()) for p in model_parameters])\n",
    "print(f\"Number of parameters: {params}\")\n"
   ]
  },
  {
   "attachments": {},
   "cell_type": "markdown",
   "metadata": {},
   "source": [
    "### 4. Dataset Creation"
   ]
  },
  {
   "attachments": {},
   "cell_type": "markdown",
   "metadata": {},
   "source": [
    "##### 4.1. Dataset Class Creation"
   ]
  },
  {
   "cell_type": "code",
   "execution_count": 5,
   "metadata": {},
   "outputs": [],
   "source": [
    "from utils.signalload import CSV_pandas_path\n",
    "from utils.auxfunctions import moving_window\n",
    "import numpy as np\n",
    "from itertools import repeat\n",
    "\n",
    "\n",
    "class Form1Dataset(torch.utils.data.Dataset):\n",
    "    \"\"\"Some Information about Form1Dataset\"\"\"\n",
    "\n",
    "    def __init__(\n",
    "        self,\n",
    "        dataset_dir,\n",
    "        signal_name,\n",
    "        max_window_idx=193,\n",
    "        window_length=64,\n",
    "        step=1,\n",
    "        test=False,\n",
    "    ):\n",
    "        super(Form1Dataset, self).__init__()\n",
    "        self.max_window_idx = max_window_idx\n",
    "        self.test = test\n",
    "        self.signal_name = signal_name\n",
    "\n",
    "        self.csv_list = glob.glob(f\"{dataset_dir}*.csv\")\n",
    "        self.csv_amount = len(self.csv_list)\n",
    "        self.windows_amount = max_window_idx * self.csv_amount\n",
    "        self.window_length = window_length\n",
    "        self.step = step\n",
    "\n",
    "    def __getitem__(self, index, data_plot=False):\n",
    "\n",
    "        # sample_settings\n",
    "        window_length = self.window_length\n",
    "        step = self.step\n",
    "\n",
    "        # Calculate window_idx and file name\n",
    "        window_idx = index % self.max_window_idx\n",
    "        csv_idx = index // self.max_window_idx\n",
    "        csv_full_path = self.csv_list[csv_idx]\n",
    "\n",
    "        # Load CSV, signal and create windows\n",
    "        csv_name = os.path.basename(csv_full_path)\n",
    "        signal, t, _ = CSV_pandas_path(csv_full_path).load_data(self.signal_name)\n",
    "        signal_windows, t_windows = list(\n",
    "            map(moving_window, [signal, t], repeat(window_length), repeat(step))\n",
    "        )\n",
    "\n",
    "        # select window\n",
    "\n",
    "        signal_window = signal_windows[window_idx]\n",
    "        signal_window = np.expand_dims(signal_window, axis=1)\n",
    "        t_window = t_windows[window_idx]\n",
    "\n",
    "        # create labels\n",
    "        if window_idx < 66:\n",
    "            label = np.array([0])\n",
    "        else:\n",
    "            label = np.array([1])\n",
    "\n",
    "        # For dataset visualization return following information\n",
    "        signal_window = torch.from_numpy(np.copy(signal_window)).float()\n",
    "        label = torch.from_numpy(label).float()\n",
    "        if data_plot == True:\n",
    "            return signal_window.reshape(-1).numpy(), t_window\n",
    "        if self.test == True:\n",
    "            return signal_window, t_window, label, csv_name, index, window_idx\n",
    "\n",
    "        # For training only signals and labels are required\n",
    "\n",
    "        return signal_window, label\n",
    "\n",
    "    def get_event(self, csv_idx):\n",
    "\n",
    "        # Get indices\n",
    "        idx_min = csv_idx * self.max_window_idx\n",
    "        idx_max = ((csv_idx + 1) * self.max_window_idx) - 1\n",
    "\n",
    "        # Get path of csv_index\n",
    "        csv_full_path = self.csv_list[csv_idx]\n",
    "\n",
    "        # Load CSV, signal and create windows\n",
    "        csv_name = os.path.basename(csv_full_path)\n",
    "\n",
    "        # Load CSV, signal and create windows\n",
    "        csv_name = os.path.basename(csv_full_path)\n",
    "        signal, t, _ = CSV_pandas_path(csv_full_path).load_data(self.signal_name)\n",
    "        return signal, t, idx_min, idx_max, csv_name\n",
    "\n",
    "    def len_events(self):\n",
    "        return self.csv_amount\n",
    "\n",
    "    def __len__(self):\n",
    "        return self.csv_amount * self.max_window_idx\n"
   ]
  },
  {
   "attachments": {},
   "cell_type": "markdown",
   "metadata": {},
   "source": [
    "##### 4.2. Database Directory Creation "
   ]
  },
  {
   "cell_type": "code",
   "execution_count": 6,
   "metadata": {},
   "outputs": [
    {
     "name": "stdout",
     "output_type": "stream",
     "text": [
      "copying 54 files...\n",
      "finished\n"
     ]
    }
   ],
   "source": [
    "# Creating Dataset Folders\n",
    "\n",
    "dataset_dir_full = \"C:/Users/aherrada/OneDrive - Universidad del Norte/Uninorte/DetectionDataBase/LSTM_form_1/fault_01/\"\n",
    "dataset_dir = \"C:/Users/aherrada/OneDrive - Universidad del Norte/Uninorte/DetectionDataBase/LSTM_form_1/R1/\"\n",
    "\n",
    "max_window_idx = 130\n",
    "n_events = 54\n",
    "\n",
    "\n",
    "def dataset_creator(source_path, target_path, signal_list=False):\n",
    "    csv_list = glob.glob(f\"{source_path}*.csv\")\n",
    "    if not os.path.isdir(target_path):\n",
    "        print(\"creating\")\n",
    "        os.makedirs(target_path)\n",
    "    else:\n",
    "        file_list = glob.glob(f\"{target_path}*.csv\")\n",
    "        for file in file_list:\n",
    "            os.remove(file)\n",
    "    csv_list = random.sample(csv_list, n_events)\n",
    "    print(f\"copying {len(csv_list)} files...\")\n",
    "    for csv in csv_list:\n",
    "        source_path = csv\n",
    "        target_path = target_path\n",
    "        shutil.copy(source_path, target_path)\n",
    "    print(\"finished\")\n",
    "\n",
    "    if signal_list == True:\n",
    "        print(\"Available Relays (current):\")\n",
    "        CSV_pandas_path(csv_list[0]).relay_list()\n",
    "\n",
    "\n",
    "# Crear los 3 Datasets para entrenar los relés individualmente\n",
    "dataset_creator(dataset_dir_full, dataset_dir, signal_list=False)\n"
   ]
  },
  {
   "attachments": {},
   "cell_type": "markdown",
   "metadata": {},
   "source": [
    "##### 4.3. Dataset and Dataloader Instances Creation"
   ]
  },
  {
   "cell_type": "code",
   "execution_count": 7,
   "metadata": {},
   "outputs": [],
   "source": [
    "# Load Dataset\n",
    "signal_name = \"I: X0023A-R1A\"\n",
    "# signal_name = \"I: X0004A-R2A\"\n",
    "# signal_name = \"I: X0071A-R3A\"\n",
    "\n",
    "dataset = Form1Dataset(\n",
    "    dataset_dir, max_window_idx=max_window_idx, signal_name=signal_name\n",
    ")\n",
    "# dataset.get_events(0)\n",
    "train_dataset, test_dataset = random_split(dataset, [0.95, 0.05])\n",
    "train_dataloader = DataLoader(train_dataset, batch_size=train_batch_size, shuffle=False)\n",
    "test_dataloader = DataLoader(test_dataset, batch_size=test_batch_size, shuffle=False)\n",
    "# EL test set realmente es un dev set\n",
    "# Como regla general, si es utilizado dentro del loop es un dev set.\n"
   ]
  },
  {
   "attachments": {},
   "cell_type": "markdown",
   "metadata": {},
   "source": [
    "### 5. Model Training\n"
   ]
  },
  {
   "attachments": {},
   "cell_type": "markdown",
   "metadata": {},
   "source": [
    "##### 5.1. Train / Test(dev) Loop Creation"
   ]
  },
  {
   "cell_type": "code",
   "execution_count": 8,
   "metadata": {},
   "outputs": [],
   "source": [
    "# Create Training / Test / Validation Loops\n",
    "\n",
    "\n",
    "# Training\n",
    "def train(dataloader, model, loss_fn, optimizer, return_loss=False):\n",
    "    size = len(dataloader.dataset)\n",
    "    model.train()\n",
    "    loss_list = []\n",
    "\n",
    "    for batch, (x, y) in enumerate(dataloader):\n",
    "        x, y = x.to(device), y.to(device)\n",
    "\n",
    "        # Compute prediction error\n",
    "        pred = model(x)\n",
    "        loss = loss_fn(pred, y)\n",
    "\n",
    "        # Backpropagation\n",
    "        optimizer.zero_grad()\n",
    "        loss.backward()\n",
    "        optimizer.step()\n",
    "        if return_loss == True:\n",
    "            loss_list.append(loss.item())\n",
    "        if batch % 2 == 0:\n",
    "            loss, current = loss.item(), batch * len(x)\n",
    "            print(f\"loss: {loss:>f} [{current:>5d}/{size:>5d}]\")\n",
    "\n",
    "        if batch % 5 == 0:\n",
    "            my_lr_scheduler.step()\n",
    "    if return_loss == True:\n",
    "        return loss_list\n",
    "\n",
    "\n",
    "from torchmetrics.functional.classification import binary_stat_scores\n",
    "\n",
    "\n",
    "def test_metrics(dataloader, model, loss_fn, return_metrics=False):\n",
    "    size = len(dataloader.dataset)\n",
    "    num_batches = len(dataloader)\n",
    "    conf_matrix = torch.zeros(1, 5, dtype=torch.int64).to(device)\n",
    "    model.eval()\n",
    "    test_loss, correct = 0, 0\n",
    "    with torch.no_grad():\n",
    "        for x, y in tqdm(dataloader):\n",
    "\n",
    "            x, y = x.to(device), y.to(device)\n",
    "            pred = model(x)\n",
    "\n",
    "            conf_matrix = conf_matrix.add(binary_stat_scores(pred, y))\n",
    "            test_loss += loss_fn(pred, y).item()\n",
    "            correct += (torch.round(pred) == y).type(torch.float).sum().item()\n",
    "\n",
    "    test_loss /= num_batches\n",
    "    acc = (conf_matrix[0, 0] + conf_matrix[0, 2]) / conf_matrix[0, :-1].sum()\n",
    "    correct /= size\n",
    "    print(f\"{correct*100:>0.1f}\")\n",
    "    print(f\"Test Error: \\n Accuracy: {(100*acc):>0.1f}%, Avg loss: {test_loss:>8f} \\n\")\n",
    "    if return_metrics == True:\n",
    "        return conf_matrix, test_loss\n"
   ]
  },
  {
   "attachments": {},
   "cell_type": "markdown",
   "metadata": {},
   "source": [
    "##### 5.2. Training the model"
   ]
  },
  {
   "cell_type": "code",
   "execution_count": 9,
   "metadata": {},
   "outputs": [
    {
     "name": "stdout",
     "output_type": "stream",
     "text": [
      "Epoch 1\n",
      "--------------------------------\n"
     ]
    },
    {
     "name": "stderr",
     "output_type": "stream",
     "text": [
      "100%|██████████| 22/22 [00:37<00:00,  1.70s/it]"
     ]
    },
    {
     "name": "stdout",
     "output_type": "stream",
     "text": [
      "98.9\n",
      "Test Error: \n",
      " Accuracy: 98.9%, Avg loss: 0.094015 \n",
      "\n",
      "tensor([[175,   0, 172,   4, 179]], device='cuda:0')\n"
     ]
    },
    {
     "name": "stderr",
     "output_type": "stream",
     "text": [
      "\n"
     ]
    }
   ],
   "source": [
    "# model.load_state_dict(torch.load('./models/LSTMHarmonic_weights_R3_934.pth'))\n",
    "model.load_state_dict(torch.load(\"./models/LSTMHarmonic_weights_R1_996.pth\"))\n",
    "# model.load_state_dict(torch.load('./models/LSTMHarmonic_weights_R2_978.pth'))\n",
    "\n",
    "epochs = 1\n",
    "\n",
    "for epoch in range(epochs):\n",
    "\n",
    "    print(f\"Epoch {epoch+1}\\n--------------------------------\")\n",
    "    # train_loss = train(train_dataloader, model, loss_fn, optimizer, return_loss=True)\n",
    "    # accuracy, _ = test(test_dataloader, model, loss_fn, return_metrics=True)\n",
    "    conf_matrix, _ = test_metrics(test_dataloader, model, loss_fn, return_metrics=True)\n",
    "print(conf_matrix)\n"
   ]
  },
  {
   "cell_type": "code",
   "execution_count": 10,
   "metadata": {},
   "outputs": [
    {
     "name": "stdout",
     "output_type": "stream",
     "text": [
      "98.9\n",
      "tensor([[175,   0, 172,   4, 179]], device='cuda:0')\n"
     ]
    }
   ],
   "source": [
    "def conf_matrix_metrics(conf_matrix: torch.LongTensor) -> dict:\n",
    "    \"\"\"\n",
    "    Returns dictionary with metrics from a confusion matrix.\n",
    "\n",
    "            Parameters:\n",
    "                    conf_matrix (torch.Tensor): confusion matrix of dimension (1, 5)\n",
    "                        [TP, FP, TN, FN, TP + FN]\n",
    "\n",
    "            Returns:\n",
    "                    metrics (dict): dictionary with following metrics:\n",
    "                        metrics[\"TOTAL\"] -> total amount of samples.\n",
    "                        metrics[\"TPR\"]   -> True Positive Rate,  sensibility, recall, hit-rate.\n",
    "                        metrics[\"FPR\"]   -> False Positive Rate, Fallout.\n",
    "                        metrics[\"TNR\"]   -> True Negative Rate,  specificity, selectivity\n",
    "                        metrics[\"ACC\"]   -> Accuracy.\n",
    "                        metrics[\"PPV\"]   -> Positive Predictive Value, Precision.\n",
    "    \"\"\"\n",
    "    if conf_matrix.shape == (5,):\n",
    "        conf_matrix = np.expand_dims(conf_matrix, axis=0)\n",
    "\n",
    "    metrics = {}\n",
    "    TP = int(conf_matrix[0, 0].item())\n",
    "    FP = int(conf_matrix[0, 1].item())\n",
    "    TN = int(conf_matrix[0, 2].item())\n",
    "    FN = int(conf_matrix[0, 3].item())\n",
    "    metrics[\"TP\"] = TP\n",
    "    metrics[\"FP\"] = FP\n",
    "    metrics[\"TN\"] = TN\n",
    "    metrics[\"FN\"] = FN\n",
    "    P = TP + FN\n",
    "    N = TN + FP\n",
    "    TOTAL = TP + FP + TN + FN\n",
    "    metrics[\"TOTAL\"] = TOTAL\n",
    "    metrics[\"TPR\"] = TP / (TP + FN)\n",
    "    metrics[\"FPR\"] = FP / (FP + TN)\n",
    "    metrics[\"TNR\"] = TN / (FP + TN)\n",
    "    metrics[\"ACC\"] = (TP + TN) / (TOTAL)\n",
    "    try:\n",
    "        metrics[\"PPV\"] = TP / (TP + FP)\n",
    "    except ZeroDivisionError:\n",
    "        print(\"No se puede obtener PPV, división por cero\")\n",
    "    return metrics\n",
    "\n",
    "\n",
    "metrics = conf_matrix_metrics(conf_matrix)\n",
    "print(round(metrics[\"ACC\"] * 100, 1))\n",
    "print(conf_matrix)\n"
   ]
  },
  {
   "attachments": {},
   "cell_type": "markdown",
   "metadata": {},
   "source": [
    "##### 5.3. Training loss visualization"
   ]
  },
  {
   "cell_type": "code",
   "execution_count": 11,
   "metadata": {},
   "outputs": [
    {
     "name": "stdout",
     "output_type": "stream",
     "text": [
      "Error! Run train loop\n"
     ]
    }
   ],
   "source": [
    "try:\n",
    "    mini_batch_list = [index for index, _ in enumerate(train_loss)]\n",
    "    train_loss_ewm = pd.DataFrame(train_loss).ewm(com=0.95).mean()\n",
    "    plt.plot(mini_batch_list, train_loss, mini_batch_list, train_loss_ewm)\n",
    "except NameError:\n",
    "    print(\"Error! Run train loop\")\n"
   ]
  },
  {
   "attachments": {},
   "cell_type": "markdown",
   "metadata": {},
   "source": [
    "##### 5.4. Saving the Model"
   ]
  },
  {
   "cell_type": "code",
   "execution_count": null,
   "metadata": {},
   "outputs": [],
   "source": [
    "# # Save the Model\n",
    "# torch.save(model.state_dict(), './models/LSTMHarmonic_weights_989.pth')\n"
   ]
  },
  {
   "attachments": {},
   "cell_type": "markdown",
   "metadata": {},
   "source": [
    "### 6. Results Visualization\n"
   ]
  },
  {
   "attachments": {},
   "cell_type": "markdown",
   "metadata": {},
   "source": [
    "#### 6.1. Confussion Matrix Results Table Function"
   ]
  },
  {
   "cell_type": "code",
   "execution_count": 12,
   "metadata": {},
   "outputs": [],
   "source": [
    "# Data visualization (CPU)\n",
    "\n",
    "\n",
    "def confusion_matrix_labels(pred_label, true_label):\n",
    "    label = \"\"\n",
    "    if int(pred_label) == int(true_label):\n",
    "        label += \"T\"\n",
    "    else:\n",
    "        label += \"F\"\n",
    "    if pred_label == 1:\n",
    "        label += \"P\"\n",
    "    else:\n",
    "        label += \"N\"\n",
    "    return label\n",
    "\n",
    "\n",
    "confusion_matrix_pandas = np.vectorize(confusion_matrix_labels)\n",
    "\n",
    "\n",
    "def confusion_matrix(\n",
    "    preds: torch.FloatTensor, labels: torch.FloatTensor\n",
    ") -> pd.DataFrame:\n",
    "    preds = preds.detach()\n",
    "    labels = labels.detach()\n",
    "    data = {\n",
    "        \"Pred probability\": torch.reshape(preds, (-1,)).cpu().numpy(),\n",
    "        \"Pred label\": torch.reshape(torch.round(preds), (-1,)).int().cpu().numpy(),\n",
    "        \"True label\": torch.reshape(labels, (-1,)).int().cpu().numpy(),\n",
    "    }\n",
    "    df = pd.DataFrame(data)\n",
    "    df[\"Result\"] = confusion_matrix_pandas(df[\"Pred label\"], df[\"True label\"])\n",
    "    return df\n"
   ]
  },
  {
   "attachments": {},
   "cell_type": "markdown",
   "metadata": {},
   "source": [
    "##### 6.2. Plotly Plot"
   ]
  },
  {
   "cell_type": "code",
   "execution_count": 13,
   "metadata": {},
   "outputs": [
    {
     "name": "stderr",
     "output_type": "stream",
     "text": [
      "c:\\Users\\aherrada\\Documents\\GIT\\PyTorch\\env\\lib\\site-packages\\torch\\utils\\data\\_utils\\collate.py:172: UserWarning: The given NumPy array is not writable, and PyTorch does not support non-writable tensors. This means writing to this tensor will result in undefined behavior. You may want to copy the array to protect its data or make it writable before converting it to a tensor. This type of warning will be suppressed for the rest of this program. (Triggered internally at C:\\actions-runner\\_work\\pytorch\\pytorch\\builder\\windows\\pytorch\\torch\\csrc\\utils\\tensor_numpy.cpp:205.)\n",
      "  return collate([torch.as_tensor(b) for b in batch], collate_fn_map=collate_fn_map)\n"
     ]
    },
    {
     "name": "stdout",
     "output_type": "stream",
     "text": [
      "64\n",
      "torch.Size([64])\n",
      "torch.Size([64, 1])\n",
      "torch.FloatTensor\n",
      "<class 'pandas.core.frame.DataFrame'>\n",
      "   Pred probability  Pred label  True label Result\n",
      "0          0.041922           0           0     TN\n",
      "1          0.020968           0           0     TN\n",
      "2          0.827875           1           1     TP\n",
      "3          0.047592           0           0     TN\n",
      "4          0.030858           0           0     TN\n",
      "5          0.931889           1           1     TP\n",
      "6          0.078496           0           1     FN\n",
      "7          0.893557           1           1     TP\n",
      "8          0.048241           0           0     TN\n"
     ]
    },
    {
     "data": {
      "application/vnd.plotly.v1+json": {
       "config": {
        "plotlyServerURL": "https://plot.ly"
       },
       "data": [
        {
         "marker": {
          "color": "black"
         },
         "name": "No Fault - 54 - Fault01_B134_RF40.csv",
         "type": "scatter",
         "x": [
          0.0140616,
          0.014322,
          0.0145824,
          0.0148428,
          0.0151032,
          0.0153636,
          0.015624,
          0.0158844,
          0.0161448,
          0.0164052,
          0.0166656,
          0.016926,
          0.0171864,
          0.0174468,
          0.0177072,
          0.0179676,
          0.018228,
          0.0184884,
          0.0187488,
          0.0190092,
          0.0192696,
          0.01953,
          0.0197904,
          0.0200508,
          0.0203112,
          0.0205716,
          0.020832,
          0.0210924,
          0.0213528,
          0.0216132,
          0.0218736,
          0.022134,
          0.0223944,
          0.0226548,
          0.0229152,
          0.0231756,
          0.023436,
          0.0236964,
          0.0239568,
          0.0242172,
          0.0244776,
          0.024738,
          0.0249984,
          0.0252588,
          0.0255192,
          0.0257796,
          0.02604,
          0.0263004,
          0.0265608,
          0.0268212,
          0.0270816,
          0.027342,
          0.0276024,
          0.0278628,
          0.0281232,
          0.0283836,
          0.028644,
          0.0289044,
          0.0291648,
          0.0294252,
          0.0296856,
          0.029946,
          0.0302064,
          0.0304668
         ],
         "xaxis": "x",
         "y": [
          40.12678527832031,
          41.5902214050293,
          42.795528411865234,
          43.19337844848633,
          43.25419616699219,
          42.65855407714844,
          41.9123420715332,
          40.68409729003906,
          39.13561248779297,
          37.17973327636719,
          35.21895980834961,
          32.45200729370117,
          29.484127044677734,
          25.90306854248047,
          22.557870864868164,
          18.882122039794922,
          15.130041122436523,
          11.079691886901855,
          6.970278263092041,
          2.613107204437256,
          -1.5902761220932007,
          -5.739426612854004,
          -9.664103507995605,
          -13.656900405883789,
          -17.465375900268555,
          -21.417137145996094,
          -24.96830940246582,
          -28.405187606811523,
          -31.268943786621094,
          -33.90782165527344,
          -36.29541778564453,
          -38.55408477783203,
          -40.34768295288086,
          -41.71569061279297,
          -42.53754806518555,
          -43.106895446777344,
          -43.309783935546875,
          -43.000431060791016,
          -42.231563568115234,
          -41.02321243286133,
          -39.54315948486328,
          -37.65876007080078,
          -35.60103225708008,
          -32.83638000488281,
          -29.860946655273438,
          -26.550506591796875,
          -23.222484588623047,
          -19.54364776611328,
          -15.573537826538086,
          -11.348267555236816,
          -7.210482120513916,
          -3.0092787742614746,
          1.0481101274490356,
          5.236833572387695,
          9.441895484924316,
          13.618627548217773,
          17.514009475708008,
          21.304752349853516,
          24.856489181518555,
          28.280136108398438,
          31.373945236206055,
          34.155029296875,
          36.599613189697266,
          38.811126708984375
         ],
         "yaxis": "y"
        },
        {
         "marker": {
          "color": "black"
         },
         "name": "No Fault - 60 - Fault01_B814_RF1e-05.csv",
         "type": "scatter",
         "x": [
          0.015624,
          0.0158844,
          0.0161448,
          0.0164052,
          0.0166656,
          0.016926,
          0.0171864,
          0.0174468,
          0.0177072,
          0.0179676,
          0.018228,
          0.0184884,
          0.0187488,
          0.0190092,
          0.0192696,
          0.01953,
          0.0197904,
          0.0200508,
          0.0203112,
          0.0205716,
          0.020832,
          0.0210924,
          0.0213528,
          0.0216132,
          0.0218736,
          0.022134,
          0.0223944,
          0.0226548,
          0.0229152,
          0.0231756,
          0.023436,
          0.0236964,
          0.0239568,
          0.0242172,
          0.0244776,
          0.024738,
          0.0249984,
          0.0252588,
          0.0255192,
          0.0257796,
          0.02604,
          0.0263004,
          0.0265608,
          0.0268212,
          0.0270816,
          0.027342,
          0.0276024,
          0.0278628,
          0.0281232,
          0.0283836,
          0.028644,
          0.0289044,
          0.0291648,
          0.0294252,
          0.0296856,
          0.029946,
          0.0302064,
          0.0304668,
          0.0307272,
          0.0309876,
          0.031248,
          0.0315084,
          0.0317688,
          0.0320292
         ],
         "xaxis": "x2",
         "y": [
          17.66937828063965,
          21.55649757385254,
          25.25467872619629,
          28.55770492553711,
          31.4450740814209,
          33.92674255371094,
          36.2625732421875,
          38.444427490234375,
          40.2987060546875,
          41.66654968261719,
          42.42668914794922,
          42.840755462646484,
          43.03112030029297,
          42.7575569152832,
          42.0064811706543,
          40.81181716918945,
          39.189571380615234,
          37.33546447753906,
          35.13288116455078,
          32.506622314453125,
          29.534561157226562,
          26.299724578857422,
          22.866310119628906,
          19.13374137878418,
          15.202173233032227,
          11.093838691711426,
          7.035786151885986,
          2.8440771102905273,
          -1.2403466701507568,
          -5.424777030944824,
          -9.628033638000488,
          -13.680808067321777,
          -17.512632369995117,
          -21.199661254882812,
          -24.796072006225586,
          -28.18034553527832,
          -31.24996566772461,
          -33.911354064941406,
          -36.306190490722656,
          -38.44588088989258,
          -40.18097686767578,
          -41.572757720947266,
          -42.512847900390625,
          -43.03512954711914,
          -43.234039306640625,
          -42.85319519042969,
          -42.10720443725586,
          -40.94505310058594,
          -39.395240783691406,
          -37.605098724365234,
          -35.42458724975586,
          -32.77421188354492,
          -29.72319793701172,
          -26.52755355834961,
          -23.160207748413086,
          -19.486244201660156,
          -15.526597023010254,
          -11.37106990814209,
          -7.284106731414795,
          -3.1239702701568604,
          0.9768327474594116,
          5.072699546813965,
          9.325760841369629,
          13.3804931640625
         ],
         "yaxis": "y2"
        },
        {
         "marker": {
          "color": "black"
         },
         "name": "Fault - 75 - Fault01_B802_RF100.csv",
         "type": "scatter",
         "x": [
          0.01953,
          0.0197904,
          0.0200508,
          0.0203112,
          0.0205716,
          0.020832,
          0.0210924,
          0.0213528,
          0.0216132,
          0.0218736,
          0.022134,
          0.0223944,
          0.0226548,
          0.0229152,
          0.0231756,
          0.023436,
          0.0236964,
          0.0239568,
          0.0242172,
          0.0244776,
          0.024738,
          0.0249984,
          0.0252588,
          0.0255192,
          0.0257796,
          0.02604,
          0.0263004,
          0.0265608,
          0.0268212,
          0.0270816,
          0.027342,
          0.0276024,
          0.0278628,
          0.0281232,
          0.0283836,
          0.028644,
          0.0289044,
          0.0291648,
          0.0294252,
          0.0296856,
          0.029946,
          0.0302064,
          0.0304668,
          0.0307272,
          0.0309876,
          0.031248,
          0.0315084,
          0.0317688,
          0.0320292,
          0.0322896,
          0.03255,
          0.0328104,
          0.0330708,
          0.0333312,
          0.0335916,
          0.033852,
          0.0341124,
          0.0343728,
          0.0346332,
          0.0348936,
          0.035154,
          0.0354144,
          0.0356748,
          0.0359352
         ],
         "xaxis": "x3",
         "y": [
          36.924774169921875,
          34.655338287353516,
          31.774986267089844,
          28.631765365600586,
          25.37949562072754,
          22.045879364013672,
          18.29425048828125,
          14.256898880004883,
          10.063065528869629,
          5.980208873748779,
          1.7755450010299683,
          -2.3037140369415283,
          -6.449489116668701,
          -10.554296493530273,
          -14.65668773651123,
          -18.51209259033203,
          -22.199481964111328,
          -25.663618087768555,
          -28.959314346313477,
          -31.935102462768555,
          -34.56496810913086,
          -36.91621017456055,
          -38.96096420288086,
          -40.633121490478516,
          -41.83403778076172,
          -42.69078063964844,
          -43.14321517944336,
          -43.23956298828125,
          -42.77006530761719,
          -41.88732147216797,
          -40.59339141845703,
          -38.99962615966797,
          -37.110862731933594,
          -34.89970397949219,
          -32.08782958984375,
          -28.99586296081543,
          -25.71178436279297,
          -22.294017791748047,
          -18.535552978515625,
          -14.510093688964844,
          -10.377578735351562,
          -6.287577152252197,
          -2.1150436401367188,
          2.004983901977539,
          6.184606075286865,
          10.361730575561523,
          14.396655082702637,
          18.249696731567383,
          21.935352325439453,
          25.492870330810547,
          28.851367950439453,
          31.832901000976562,
          34.5074348449707,
          36.858787536621094,
          102.95062255859375,
          150.69314575195312,
          179.76953125,
          206.1912384033203,
          204.62869262695312,
          193.75845336914062,
          177.36312866210938,
          165.25401306152344,
          154.5120849609375,
          144.51959228515625
         ],
         "yaxis": "y3"
        },
        {
         "marker": {
          "color": "black"
         },
         "name": "No Fault - 18 - Fault01_B134_RF20.csv",
         "type": "scatter",
         "x": [
          0.0046872,
          0.0049476,
          0.005208,
          0.0054684,
          0.0057288,
          0.0059892,
          0.0062496,
          0.00651,
          0.0067704,
          0.0070308,
          0.0072912,
          0.0075516,
          0.007812,
          0.0080724,
          0.0083328,
          0.0085932,
          0.0088536,
          0.009114,
          0.0093744,
          0.0096348,
          0.0098952,
          0.0101556,
          0.010416,
          0.0106764,
          0.0109368,
          0.0111972,
          0.0114576,
          0.011718,
          0.0119784,
          0.0122388,
          0.0124992,
          0.0127596,
          0.01302,
          0.0132804,
          0.0135408,
          0.0138012,
          0.0140616,
          0.014322,
          0.0145824,
          0.0148428,
          0.0151032,
          0.0153636,
          0.015624,
          0.0158844,
          0.0161448,
          0.0164052,
          0.0166656,
          0.016926,
          0.0171864,
          0.0174468,
          0.0177072,
          0.0179676,
          0.018228,
          0.0184884,
          0.0187488,
          0.0190092,
          0.0192696,
          0.01953,
          0.0197904,
          0.0200508,
          0.0203112,
          0.0205716,
          0.020832,
          0.0210924
         ],
         "xaxis": "x4",
         "y": [
          44.43419647216797,
          43.54322814941406,
          41.49013137817383,
          37.17397689819336,
          34.60152053833008,
          32.94939041137695,
          31.946474075317383,
          29.687118530273438,
          25.297821044921875,
          19.7392578125,
          14.763827323913574,
          11.286222457885742,
          9.177760124206543,
          6.019651412963867,
          1.3464909791946411,
          -4.5587873458862305,
          -9.889196395874023,
          -13.543620109558105,
          -16.07176971435547,
          -18.759952545166016,
          -22.759538650512695,
          -27.497583389282227,
          -31.46237564086914,
          -33.90772247314453,
          -35.42741012573242,
          -37.09206008911133,
          -39.314205169677734,
          -41.403038024902344,
          -42.84326934814453,
          -43.31969451904297,
          -43.22126388549805,
          -42.77259063720703,
          -42.19687271118164,
          -41.28034210205078,
          -40.14479446411133,
          -38.404178619384766,
          -36.44792556762695,
          -33.721290588378906,
          -30.595172882080078,
          -27.262184143066406,
          -24.219436645507812,
          -21.032865524291992,
          -17.290071487426758,
          -12.97098159790039,
          -8.637221336364746,
          -4.3035664558410645,
          -0.42472001910209656,
          3.447009325027466,
          7.340391635894775,
          11.580400466918945,
          15.746004104614258,
          19.71589469909668,
          23.13287925720215,
          26.3917293548584,
          29.386545181274414,
          32.3650016784668,
          34.97218704223633,
          37.38008499145508,
          39.145015716552734,
          40.66120910644531,
          41.601749420166016,
          42.49052429199219,
          42.85255432128906,
          42.8641242980957
         ],
         "yaxis": "y4"
        },
        {
         "marker": {
          "color": "black"
         },
         "name": "No Fault - 12 - Fault01_B846_RF40.csv",
         "type": "scatter",
         "x": [
          0.0031248,
          0.0033852,
          0.0036456,
          0.003906,
          0.0041664,
          0.0044268,
          0.0046872,
          0.0049476,
          0.005208,
          0.0054684,
          0.0057288,
          0.0059892,
          0.0062496,
          0.00651,
          0.0067704,
          0.0070308,
          0.0072912,
          0.0075516,
          0.007812,
          0.0080724,
          0.0083328,
          0.0085932,
          0.0088536,
          0.009114,
          0.0093744,
          0.0096348,
          0.0098952,
          0.0101556,
          0.010416,
          0.0106764,
          0.0109368,
          0.0111972,
          0.0114576,
          0.011718,
          0.0119784,
          0.0122388,
          0.0124992,
          0.0127596,
          0.01302,
          0.0132804,
          0.0135408,
          0.0138012,
          0.0140616,
          0.014322,
          0.0145824,
          0.0148428,
          0.0151032,
          0.0153636,
          0.015624,
          0.0158844,
          0.0161448,
          0.0164052,
          0.0166656,
          0.016926,
          0.0171864,
          0.0174468,
          0.0177072,
          0.0179676,
          0.018228,
          0.0184884,
          0.0187488,
          0.0190092,
          0.0192696,
          0.01953
         ],
         "xaxis": "x5",
         "y": [
          23.536449432373047,
          19.454408645629883,
          13.758490562438965,
          7.303343296051025,
          2.8460850715637207,
          -0.1367974430322647,
          -2.381296157836914,
          -6.683877468109131,
          -12.084285736083984,
          -17.53434181213379,
          -21.179889678955078,
          -24.005990982055664,
          -26.502370834350586,
          -29.640216827392578,
          -32.96465301513672,
          -36.347469329833984,
          -38.5750846862793,
          -39.999290466308594,
          -40.763553619384766,
          -41.78554153442383,
          -42.736751556396484,
          -43.35917282104492,
          -43.434165954589844,
          -42.789554595947266,
          -41.328922271728516,
          -39.29103088378906,
          -37.38547134399414,
          -35.97804641723633,
          -34.193302154541016,
          -31.379657745361328,
          -27.585590362548828,
          -23.72471046447754,
          -19.941110610961914,
          -16.46665382385254,
          -13.024090766906738,
          -9.351973533630371,
          -4.934664249420166,
          -0.061489712446928024,
          4.358453273773193,
          8.210820198059082,
          11.696499824523926,
          15.303460121154785,
          19.28692626953125,
          23.28592300415039,
          27.06244659423828,
          30.165388107299805,
          32.520843505859375,
          34.79091262817383,
          37.17281723022461,
          39.460880279541016,
          41.16887283325195,
          42.029056549072266,
          42.679542541503906,
          42.87682342529297,
          42.984886169433594,
          42.386138916015625,
          41.56123733520508,
          40.10972595214844,
          38.403385162353516,
          36.350345611572266,
          34.055301666259766,
          31.130672454833984,
          28.000722885131836,
          24.6922607421875
         ],
         "yaxis": "y5"
        },
        {
         "marker": {
          "color": "black"
         },
         "name": "Fault - 99 - Fault01_B802_RF40.csv",
         "type": "scatter",
         "x": [
          0.0257796,
          0.02604,
          0.0263004,
          0.0265608,
          0.0268212,
          0.0270816,
          0.027342,
          0.0276024,
          0.0278628,
          0.0281232,
          0.0283836,
          0.028644,
          0.0289044,
          0.0291648,
          0.0294252,
          0.0296856,
          0.029946,
          0.0302064,
          0.0304668,
          0.0307272,
          0.0309876,
          0.031248,
          0.0315084,
          0.0317688,
          0.0320292,
          0.0322896,
          0.03255,
          0.0328104,
          0.0330708,
          0.0333312,
          0.0335916,
          0.033852,
          0.0341124,
          0.0343728,
          0.0346332,
          0.0348936,
          0.035154,
          0.0354144,
          0.0356748,
          0.0359352,
          0.0361956,
          0.036456,
          0.0367164,
          0.0369768,
          0.0372372,
          0.0374976,
          0.037758,
          0.0380184,
          0.0382788,
          0.0385392,
          0.0387996,
          0.03906,
          0.0393204,
          0.0395808,
          0.0398412,
          0.0401016,
          0.040362,
          0.0406224,
          0.0408828,
          0.0411432,
          0.0414036,
          0.041664,
          0.0419244,
          0.0421848
         ],
         "xaxis": "x6",
         "y": [
          7.17653226852417,
          11.34712028503418,
          15.354083061218262,
          19.16134262084961,
          22.82883644104004,
          26.35037612915039,
          29.746379852294922,
          32.61976623535156,
          35.29390335083008,
          37.50607681274414,
          39.60232925415039,
          41.18885803222656,
          42.44951629638672,
          43.19873046875,
          43.64393997192383,
          43.60112762451172,
          43.13003921508789,
          42.14949417114258,
          40.82804489135742,
          39.125675201416016,
          37.23499298095703,
          34.88098907470703,
          32.01042175292969,
          28.77977180480957,
          25.466670989990234,
          22.004703521728516,
          18.136322021484375,
          14.089132308959961,
          9.906909942626953,
          5.741531848907471,
          -48.430545806884766,
          -108.69270324707031,
          -160.11117553710938,
          -219.01312255859375,
          -265.2215881347656,
          -306.5661315917969,
          -337.0015563964844,
          -365.57012939453125,
          -392.6535339355469,
          -418.599853515625,
          -435.64141845703125,
          -445.28564453125,
          -455.52593994140625,
          -460.55206298828125,
          -461.6770935058594,
          -453.1617126464844,
          -444.6990966796875,
          -431.9156188964844,
          -415.7461853027344,
          -391.63153076171875,
          -366.2169189453125,
          -337.2434387207031,
          -304.8052062988281,
          -269.3414306640625,
          -231.06155395507812,
          -191.61080932617188,
          -148.7021026611328,
          -105.03765106201172,
          -60.56158447265625,
          -16.32265281677246,
          29.855121612548828,
          75.0767593383789,
          119.53291320800781,
          162.6351318359375
         ],
         "yaxis": "y6"
        },
        {
         "marker": {
          "color": "black"
         },
         "name": "Fault - 67 - Fault01_B860_RF80.csv",
         "type": "scatter",
         "x": [
          0.0174468,
          0.0177072,
          0.0179676,
          0.018228,
          0.0184884,
          0.0187488,
          0.0190092,
          0.0192696,
          0.01953,
          0.0197904,
          0.0200508,
          0.0203112,
          0.0205716,
          0.020832,
          0.0210924,
          0.0213528,
          0.0216132,
          0.0218736,
          0.022134,
          0.0223944,
          0.0226548,
          0.0229152,
          0.0231756,
          0.023436,
          0.0236964,
          0.0239568,
          0.0242172,
          0.0244776,
          0.024738,
          0.0249984,
          0.0252588,
          0.0255192,
          0.0257796,
          0.02604,
          0.0263004,
          0.0265608,
          0.0268212,
          0.0270816,
          0.027342,
          0.0276024,
          0.0278628,
          0.0281232,
          0.0283836,
          0.028644,
          0.0289044,
          0.0291648,
          0.0294252,
          0.0296856,
          0.029946,
          0.0302064,
          0.0304668,
          0.0307272,
          0.0309876,
          0.031248,
          0.0315084,
          0.0317688,
          0.0320292,
          0.0322896,
          0.03255,
          0.0328104,
          0.0330708,
          0.0333312,
          0.0335916,
          0.033852
         ],
         "xaxis": "x7",
         "y": [
          7.0948286056518555,
          2.75738525390625,
          -1.4514899253845215,
          -5.352544784545898,
          -9.274325370788574,
          -13.189179420471191,
          -17.269838333129883,
          -21.132064819335938,
          -24.885854721069336,
          -27.970401763916016,
          -30.979408264160156,
          -33.46738815307617,
          -36.1431999206543,
          -38.3272705078125,
          -40.19969940185547,
          -41.44913864135742,
          -42.33395767211914,
          -42.90796661376953,
          -43.19951629638672,
          -42.905845642089844,
          -42.1970100402832,
          -41.00657272338867,
          -39.51912307739258,
          -37.68818283081055,
          -35.59648513793945,
          -32.97061538696289,
          -29.912189483642578,
          -26.77442741394043,
          -23.307767868041992,
          -19.792028427124023,
          -15.695425987243652,
          -11.585326194763184,
          -7.376896381378174,
          -3.2532405853271484,
          0.8347931504249573,
          4.984068393707275,
          9.256691932678223,
          13.398191452026367,
          17.377017974853516,
          21.046817779541016,
          24.712682723999023,
          28.052440643310547,
          31.306119918823242,
          33.990638732910156,
          36.55059814453125,
          38.68043518066406,
          40.50093460083008,
          41.91411590576172,
          42.927032470703125,
          43.52901077270508,
          43.79298782348633,
          43.425594329833984,
          42.771766662597656,
          41.5893440246582,
          40.116275787353516,
          38.22636413574219,
          36.12038803100586,
          33.46879196166992,
          30.41948699951172,
          27.200347900390625,
          23.731975555419922,
          20.116413116455078,
          15.31985855102539,
          -3.524899482727051
         ],
         "yaxis": "y7"
        },
        {
         "marker": {
          "color": "black"
         },
         "name": "Fault - 71 - Fault01_B814_RF80.csv",
         "type": "scatter",
         "x": [
          0.0184884,
          0.0187488,
          0.0190092,
          0.0192696,
          0.01953,
          0.0197904,
          0.0200508,
          0.0203112,
          0.0205716,
          0.020832,
          0.0210924,
          0.0213528,
          0.0216132,
          0.0218736,
          0.022134,
          0.0223944,
          0.0226548,
          0.0229152,
          0.0231756,
          0.023436,
          0.0236964,
          0.0239568,
          0.0242172,
          0.0244776,
          0.024738,
          0.0249984,
          0.0252588,
          0.0255192,
          0.0257796,
          0.02604,
          0.0263004,
          0.0265608,
          0.0268212,
          0.0270816,
          0.027342,
          0.0276024,
          0.0278628,
          0.0281232,
          0.0283836,
          0.028644,
          0.0289044,
          0.0291648,
          0.0294252,
          0.0296856,
          0.029946,
          0.0302064,
          0.0304668,
          0.0307272,
          0.0309876,
          0.031248,
          0.0315084,
          0.0317688,
          0.0320292,
          0.0322896,
          0.03255,
          0.0328104,
          0.0330708,
          0.0333312,
          0.0335916,
          0.033852,
          0.0341124,
          0.0343728,
          0.0346332,
          0.0348936
         ],
         "xaxis": "x8",
         "y": [
          -31.28427505493164,
          -33.75309753417969,
          -36.28540802001953,
          -38.43977355957031,
          -40.334781646728516,
          -41.50079345703125,
          -42.423980712890625,
          -42.78740310668945,
          -43.121543884277344,
          -42.756080627441406,
          -42.03233337402344,
          -40.77620315551758,
          -39.17086410522461,
          -37.37633514404297,
          -35.24960708618164,
          -32.59861755371094,
          -29.55506134033203,
          -26.270437240600586,
          -22.876720428466797,
          -19.204875946044922,
          -15.24770736694336,
          -11.149738311767578,
          -6.967784881591797,
          -2.821054697036743,
          1.3679327964782715,
          5.4325151443481445,
          9.693153381347656,
          13.732222557067871,
          17.671606063842773,
          21.39156150817871,
          24.99535369873047,
          28.381189346313477,
          31.47118377685547,
          34.13503646850586,
          36.62028884887695,
          38.74054718017578,
          40.566917419433594,
          41.86730194091797,
          42.881954193115234,
          43.36870574951172,
          43.63420104980469,
          43.22288131713867,
          42.48368835449219,
          41.31276321411133,
          39.76736068725586,
          37.92070007324219,
          35.74787902832031,
          33.02347946166992,
          30.0286922454834,
          26.732391357421875,
          23.37273597717285,
          19.63470458984375,
          15.64704704284668,
          11.501200675964355,
          7.33608865737915,
          3.164903402328491,
          -1.020175576210022,
          -5.1463541984558105,
          -30.021333694458008,
          -57.75739288330078,
          -86.2405014038086,
          -112.42266082763672,
          -126.67072296142578,
          -135.00198364257812
         ],
         "yaxis": "y8"
        },
        {
         "marker": {
          "color": "black"
         },
         "name": "No Fault - 43 - Fault01_B846_RF100.csv",
         "type": "scatter",
         "x": [
          0.0111972,
          0.0114576,
          0.011718,
          0.0119784,
          0.0122388,
          0.0124992,
          0.0127596,
          0.01302,
          0.0132804,
          0.0135408,
          0.0138012,
          0.0140616,
          0.014322,
          0.0145824,
          0.0148428,
          0.0151032,
          0.0153636,
          0.015624,
          0.0158844,
          0.0161448,
          0.0164052,
          0.0166656,
          0.016926,
          0.0171864,
          0.0174468,
          0.0177072,
          0.0179676,
          0.018228,
          0.0184884,
          0.0187488,
          0.0190092,
          0.0192696,
          0.01953,
          0.0197904,
          0.0200508,
          0.0203112,
          0.0205716,
          0.020832,
          0.0210924,
          0.0213528,
          0.0216132,
          0.0218736,
          0.022134,
          0.0223944,
          0.0226548,
          0.0229152,
          0.0231756,
          0.023436,
          0.0236964,
          0.0239568,
          0.0242172,
          0.0244776,
          0.024738,
          0.0249984,
          0.0252588,
          0.0255192,
          0.0257796,
          0.02604,
          0.0263004,
          0.0265608,
          0.0268212,
          0.0270816,
          0.027342,
          0.0276024
         ],
         "xaxis": "x9",
         "y": [
          42.25035095214844,
          41.414424896240234,
          40.429683685302734,
          39.19001007080078,
          37.473873138427734,
          35.14606475830078,
          32.083526611328125,
          28.833341598510742,
          25.673603057861328,
          22.58395767211914,
          19.147790908813477,
          15.22272777557373,
          10.873833656311035,
          6.54011869430542,
          2.2981278896331787,
          -1.5350942611694336,
          -5.378232955932617,
          -9.421609878540039,
          -13.659441947937012,
          -17.66189193725586,
          -21.420299530029297,
          -24.83401870727539,
          -28.03369140625,
          -30.978717803955078,
          -33.70832824707031,
          -36.26803207397461,
          -38.47063446044922,
          -40.09349060058594,
          -41.36993408203125,
          -42.24370193481445,
          -42.949195861816406,
          -43.16292953491211,
          -42.8787956237793,
          -42.02609634399414,
          -40.902931213378906,
          -39.29283905029297,
          -37.55014419555664,
          -35.49290084838867,
          -32.85007858276367,
          -29.80750846862793,
          -26.483388900756836,
          -23.130125045776367,
          -19.57163429260254,
          -15.631202697753906,
          -11.538043022155762,
          -7.36000919342041,
          -3.158409595489502,
          0.9394164681434631,
          5.083904266357422,
          9.17833137512207,
          13.320169448852539,
          17.207387924194336,
          20.986499786376953,
          24.568252563476562,
          27.9246768951416,
          31.052385330200195,
          33.719512939453125,
          36.19961929321289,
          38.38847351074219,
          40.164886474609375,
          41.59925079345703,
          42.48926544189453,
          43.137550354003906,
          43.33119201660156
         ],
         "yaxis": "y9"
        }
       ],
       "layout": {
        "height": 700,
        "margin": {
         "b": 20,
         "l": 20,
         "r": 30,
         "t": 40
        },
        "plot_bgcolor": "rgba(0,0,0,0)",
        "template": {
         "data": {
          "bar": [
           {
            "error_x": {
             "color": "#2a3f5f"
            },
            "error_y": {
             "color": "#2a3f5f"
            },
            "marker": {
             "line": {
              "color": "#E5ECF6",
              "width": 0.5
             },
             "pattern": {
              "fillmode": "overlay",
              "size": 10,
              "solidity": 0.2
             }
            },
            "type": "bar"
           }
          ],
          "barpolar": [
           {
            "marker": {
             "line": {
              "color": "#E5ECF6",
              "width": 0.5
             },
             "pattern": {
              "fillmode": "overlay",
              "size": 10,
              "solidity": 0.2
             }
            },
            "type": "barpolar"
           }
          ],
          "carpet": [
           {
            "aaxis": {
             "endlinecolor": "#2a3f5f",
             "gridcolor": "white",
             "linecolor": "white",
             "minorgridcolor": "white",
             "startlinecolor": "#2a3f5f"
            },
            "baxis": {
             "endlinecolor": "#2a3f5f",
             "gridcolor": "white",
             "linecolor": "white",
             "minorgridcolor": "white",
             "startlinecolor": "#2a3f5f"
            },
            "type": "carpet"
           }
          ],
          "choropleth": [
           {
            "colorbar": {
             "outlinewidth": 0,
             "ticks": ""
            },
            "type": "choropleth"
           }
          ],
          "contour": [
           {
            "colorbar": {
             "outlinewidth": 0,
             "ticks": ""
            },
            "colorscale": [
             [
              0,
              "#0d0887"
             ],
             [
              0.1111111111111111,
              "#46039f"
             ],
             [
              0.2222222222222222,
              "#7201a8"
             ],
             [
              0.3333333333333333,
              "#9c179e"
             ],
             [
              0.4444444444444444,
              "#bd3786"
             ],
             [
              0.5555555555555556,
              "#d8576b"
             ],
             [
              0.6666666666666666,
              "#ed7953"
             ],
             [
              0.7777777777777778,
              "#fb9f3a"
             ],
             [
              0.8888888888888888,
              "#fdca26"
             ],
             [
              1,
              "#f0f921"
             ]
            ],
            "type": "contour"
           }
          ],
          "contourcarpet": [
           {
            "colorbar": {
             "outlinewidth": 0,
             "ticks": ""
            },
            "type": "contourcarpet"
           }
          ],
          "heatmap": [
           {
            "colorbar": {
             "outlinewidth": 0,
             "ticks": ""
            },
            "colorscale": [
             [
              0,
              "#0d0887"
             ],
             [
              0.1111111111111111,
              "#46039f"
             ],
             [
              0.2222222222222222,
              "#7201a8"
             ],
             [
              0.3333333333333333,
              "#9c179e"
             ],
             [
              0.4444444444444444,
              "#bd3786"
             ],
             [
              0.5555555555555556,
              "#d8576b"
             ],
             [
              0.6666666666666666,
              "#ed7953"
             ],
             [
              0.7777777777777778,
              "#fb9f3a"
             ],
             [
              0.8888888888888888,
              "#fdca26"
             ],
             [
              1,
              "#f0f921"
             ]
            ],
            "type": "heatmap"
           }
          ],
          "heatmapgl": [
           {
            "colorbar": {
             "outlinewidth": 0,
             "ticks": ""
            },
            "colorscale": [
             [
              0,
              "#0d0887"
             ],
             [
              0.1111111111111111,
              "#46039f"
             ],
             [
              0.2222222222222222,
              "#7201a8"
             ],
             [
              0.3333333333333333,
              "#9c179e"
             ],
             [
              0.4444444444444444,
              "#bd3786"
             ],
             [
              0.5555555555555556,
              "#d8576b"
             ],
             [
              0.6666666666666666,
              "#ed7953"
             ],
             [
              0.7777777777777778,
              "#fb9f3a"
             ],
             [
              0.8888888888888888,
              "#fdca26"
             ],
             [
              1,
              "#f0f921"
             ]
            ],
            "type": "heatmapgl"
           }
          ],
          "histogram": [
           {
            "marker": {
             "pattern": {
              "fillmode": "overlay",
              "size": 10,
              "solidity": 0.2
             }
            },
            "type": "histogram"
           }
          ],
          "histogram2d": [
           {
            "colorbar": {
             "outlinewidth": 0,
             "ticks": ""
            },
            "colorscale": [
             [
              0,
              "#0d0887"
             ],
             [
              0.1111111111111111,
              "#46039f"
             ],
             [
              0.2222222222222222,
              "#7201a8"
             ],
             [
              0.3333333333333333,
              "#9c179e"
             ],
             [
              0.4444444444444444,
              "#bd3786"
             ],
             [
              0.5555555555555556,
              "#d8576b"
             ],
             [
              0.6666666666666666,
              "#ed7953"
             ],
             [
              0.7777777777777778,
              "#fb9f3a"
             ],
             [
              0.8888888888888888,
              "#fdca26"
             ],
             [
              1,
              "#f0f921"
             ]
            ],
            "type": "histogram2d"
           }
          ],
          "histogram2dcontour": [
           {
            "colorbar": {
             "outlinewidth": 0,
             "ticks": ""
            },
            "colorscale": [
             [
              0,
              "#0d0887"
             ],
             [
              0.1111111111111111,
              "#46039f"
             ],
             [
              0.2222222222222222,
              "#7201a8"
             ],
             [
              0.3333333333333333,
              "#9c179e"
             ],
             [
              0.4444444444444444,
              "#bd3786"
             ],
             [
              0.5555555555555556,
              "#d8576b"
             ],
             [
              0.6666666666666666,
              "#ed7953"
             ],
             [
              0.7777777777777778,
              "#fb9f3a"
             ],
             [
              0.8888888888888888,
              "#fdca26"
             ],
             [
              1,
              "#f0f921"
             ]
            ],
            "type": "histogram2dcontour"
           }
          ],
          "mesh3d": [
           {
            "colorbar": {
             "outlinewidth": 0,
             "ticks": ""
            },
            "type": "mesh3d"
           }
          ],
          "parcoords": [
           {
            "line": {
             "colorbar": {
              "outlinewidth": 0,
              "ticks": ""
             }
            },
            "type": "parcoords"
           }
          ],
          "pie": [
           {
            "automargin": true,
            "type": "pie"
           }
          ],
          "scatter": [
           {
            "fillpattern": {
             "fillmode": "overlay",
             "size": 10,
             "solidity": 0.2
            },
            "type": "scatter"
           }
          ],
          "scatter3d": [
           {
            "line": {
             "colorbar": {
              "outlinewidth": 0,
              "ticks": ""
             }
            },
            "marker": {
             "colorbar": {
              "outlinewidth": 0,
              "ticks": ""
             }
            },
            "type": "scatter3d"
           }
          ],
          "scattercarpet": [
           {
            "marker": {
             "colorbar": {
              "outlinewidth": 0,
              "ticks": ""
             }
            },
            "type": "scattercarpet"
           }
          ],
          "scattergeo": [
           {
            "marker": {
             "colorbar": {
              "outlinewidth": 0,
              "ticks": ""
             }
            },
            "type": "scattergeo"
           }
          ],
          "scattergl": [
           {
            "marker": {
             "colorbar": {
              "outlinewidth": 0,
              "ticks": ""
             }
            },
            "type": "scattergl"
           }
          ],
          "scattermapbox": [
           {
            "marker": {
             "colorbar": {
              "outlinewidth": 0,
              "ticks": ""
             }
            },
            "type": "scattermapbox"
           }
          ],
          "scatterpolar": [
           {
            "marker": {
             "colorbar": {
              "outlinewidth": 0,
              "ticks": ""
             }
            },
            "type": "scatterpolar"
           }
          ],
          "scatterpolargl": [
           {
            "marker": {
             "colorbar": {
              "outlinewidth": 0,
              "ticks": ""
             }
            },
            "type": "scatterpolargl"
           }
          ],
          "scatterternary": [
           {
            "marker": {
             "colorbar": {
              "outlinewidth": 0,
              "ticks": ""
             }
            },
            "type": "scatterternary"
           }
          ],
          "surface": [
           {
            "colorbar": {
             "outlinewidth": 0,
             "ticks": ""
            },
            "colorscale": [
             [
              0,
              "#0d0887"
             ],
             [
              0.1111111111111111,
              "#46039f"
             ],
             [
              0.2222222222222222,
              "#7201a8"
             ],
             [
              0.3333333333333333,
              "#9c179e"
             ],
             [
              0.4444444444444444,
              "#bd3786"
             ],
             [
              0.5555555555555556,
              "#d8576b"
             ],
             [
              0.6666666666666666,
              "#ed7953"
             ],
             [
              0.7777777777777778,
              "#fb9f3a"
             ],
             [
              0.8888888888888888,
              "#fdca26"
             ],
             [
              1,
              "#f0f921"
             ]
            ],
            "type": "surface"
           }
          ],
          "table": [
           {
            "cells": {
             "fill": {
              "color": "#EBF0F8"
             },
             "line": {
              "color": "white"
             }
            },
            "header": {
             "fill": {
              "color": "#C8D4E3"
             },
             "line": {
              "color": "white"
             }
            },
            "type": "table"
           }
          ]
         },
         "layout": {
          "annotationdefaults": {
           "arrowcolor": "#2a3f5f",
           "arrowhead": 0,
           "arrowwidth": 1
          },
          "autotypenumbers": "strict",
          "coloraxis": {
           "colorbar": {
            "outlinewidth": 0,
            "ticks": ""
           }
          },
          "colorscale": {
           "diverging": [
            [
             0,
             "#8e0152"
            ],
            [
             0.1,
             "#c51b7d"
            ],
            [
             0.2,
             "#de77ae"
            ],
            [
             0.3,
             "#f1b6da"
            ],
            [
             0.4,
             "#fde0ef"
            ],
            [
             0.5,
             "#f7f7f7"
            ],
            [
             0.6,
             "#e6f5d0"
            ],
            [
             0.7,
             "#b8e186"
            ],
            [
             0.8,
             "#7fbc41"
            ],
            [
             0.9,
             "#4d9221"
            ],
            [
             1,
             "#276419"
            ]
           ],
           "sequential": [
            [
             0,
             "#0d0887"
            ],
            [
             0.1111111111111111,
             "#46039f"
            ],
            [
             0.2222222222222222,
             "#7201a8"
            ],
            [
             0.3333333333333333,
             "#9c179e"
            ],
            [
             0.4444444444444444,
             "#bd3786"
            ],
            [
             0.5555555555555556,
             "#d8576b"
            ],
            [
             0.6666666666666666,
             "#ed7953"
            ],
            [
             0.7777777777777778,
             "#fb9f3a"
            ],
            [
             0.8888888888888888,
             "#fdca26"
            ],
            [
             1,
             "#f0f921"
            ]
           ],
           "sequentialminus": [
            [
             0,
             "#0d0887"
            ],
            [
             0.1111111111111111,
             "#46039f"
            ],
            [
             0.2222222222222222,
             "#7201a8"
            ],
            [
             0.3333333333333333,
             "#9c179e"
            ],
            [
             0.4444444444444444,
             "#bd3786"
            ],
            [
             0.5555555555555556,
             "#d8576b"
            ],
            [
             0.6666666666666666,
             "#ed7953"
            ],
            [
             0.7777777777777778,
             "#fb9f3a"
            ],
            [
             0.8888888888888888,
             "#fdca26"
            ],
            [
             1,
             "#f0f921"
            ]
           ]
          },
          "colorway": [
           "#636efa",
           "#EF553B",
           "#00cc96",
           "#ab63fa",
           "#FFA15A",
           "#19d3f3",
           "#FF6692",
           "#B6E880",
           "#FF97FF",
           "#FECB52"
          ],
          "font": {
           "color": "#2a3f5f"
          },
          "geo": {
           "bgcolor": "white",
           "lakecolor": "white",
           "landcolor": "#E5ECF6",
           "showlakes": true,
           "showland": true,
           "subunitcolor": "white"
          },
          "hoverlabel": {
           "align": "left"
          },
          "hovermode": "closest",
          "mapbox": {
           "style": "light"
          },
          "paper_bgcolor": "white",
          "plot_bgcolor": "#E5ECF6",
          "polar": {
           "angularaxis": {
            "gridcolor": "white",
            "linecolor": "white",
            "ticks": ""
           },
           "bgcolor": "#E5ECF6",
           "radialaxis": {
            "gridcolor": "white",
            "linecolor": "white",
            "ticks": ""
           }
          },
          "scene": {
           "xaxis": {
            "backgroundcolor": "#E5ECF6",
            "gridcolor": "white",
            "gridwidth": 2,
            "linecolor": "white",
            "showbackground": true,
            "ticks": "",
            "zerolinecolor": "white"
           },
           "yaxis": {
            "backgroundcolor": "#E5ECF6",
            "gridcolor": "white",
            "gridwidth": 2,
            "linecolor": "white",
            "showbackground": true,
            "ticks": "",
            "zerolinecolor": "white"
           },
           "zaxis": {
            "backgroundcolor": "#E5ECF6",
            "gridcolor": "white",
            "gridwidth": 2,
            "linecolor": "white",
            "showbackground": true,
            "ticks": "",
            "zerolinecolor": "white"
           }
          },
          "shapedefaults": {
           "line": {
            "color": "#2a3f5f"
           }
          },
          "ternary": {
           "aaxis": {
            "gridcolor": "white",
            "linecolor": "white",
            "ticks": ""
           },
           "baxis": {
            "gridcolor": "white",
            "linecolor": "white",
            "ticks": ""
           },
           "bgcolor": "#E5ECF6",
           "caxis": {
            "gridcolor": "white",
            "linecolor": "white",
            "ticks": ""
           }
          },
          "title": {
           "x": 0.05
          },
          "xaxis": {
           "automargin": true,
           "gridcolor": "white",
           "linecolor": "white",
           "ticks": "",
           "title": {
            "standoff": 15
           },
           "zerolinecolor": "white",
           "zerolinewidth": 2
          },
          "yaxis": {
           "automargin": true,
           "gridcolor": "white",
           "linecolor": "white",
           "ticks": "",
           "title": {
            "standoff": 15
           },
           "zerolinecolor": "white",
           "zerolinewidth": 2
          }
         }
        },
        "title": {
         "text": "Figuras"
        },
        "width": 900,
        "xaxis": {
         "anchor": "y",
         "domain": [
          0,
          0.2888888888888889
         ]
        },
        "xaxis2": {
         "anchor": "y2",
         "domain": [
          0.35555555555555557,
          0.6444444444444445
         ]
        },
        "xaxis3": {
         "anchor": "y3",
         "domain": [
          0.7111111111111111,
          1
         ]
        },
        "xaxis4": {
         "anchor": "y4",
         "domain": [
          0,
          0.2888888888888889
         ]
        },
        "xaxis5": {
         "anchor": "y5",
         "domain": [
          0.35555555555555557,
          0.6444444444444445
         ]
        },
        "xaxis6": {
         "anchor": "y6",
         "domain": [
          0.7111111111111111,
          1
         ]
        },
        "xaxis7": {
         "anchor": "y7",
         "domain": [
          0,
          0.2888888888888889
         ]
        },
        "xaxis8": {
         "anchor": "y8",
         "domain": [
          0.35555555555555557,
          0.6444444444444445
         ]
        },
        "xaxis9": {
         "anchor": "y9",
         "domain": [
          0.7111111111111111,
          1
         ]
        },
        "yaxis": {
         "anchor": "x",
         "domain": [
          0.7333333333333333,
          1
         ]
        },
        "yaxis2": {
         "anchor": "x2",
         "domain": [
          0.7333333333333333,
          1
         ]
        },
        "yaxis3": {
         "anchor": "x3",
         "domain": [
          0.7333333333333333,
          1
         ]
        },
        "yaxis4": {
         "anchor": "x4",
         "domain": [
          0.36666666666666664,
          0.6333333333333333
         ]
        },
        "yaxis5": {
         "anchor": "x5",
         "domain": [
          0.36666666666666664,
          0.6333333333333333
         ]
        },
        "yaxis6": {
         "anchor": "x6",
         "domain": [
          0.36666666666666664,
          0.6333333333333333
         ]
        },
        "yaxis7": {
         "anchor": "x7",
         "domain": [
          0,
          0.26666666666666666
         ]
        },
        "yaxis8": {
         "anchor": "x8",
         "domain": [
          0,
          0.26666666666666666
         ]
        },
        "yaxis9": {
         "anchor": "x9",
         "domain": [
          0,
          0.26666666666666666
         ]
        }
       }
      }
     },
     "metadata": {},
     "output_type": "display_data"
    }
   ],
   "source": [
    "from plotly.subplots import make_subplots\n",
    "import plotly.graph_objects as go\n",
    "\n",
    "fs = 3840\n",
    "dataset_plot = Form1Dataset(\n",
    "    dataset_dir, max_window_idx=max_window_idx, signal_name=signal_name, test=True\n",
    ")\n",
    "plot_dataloader = DataLoader(dataset_plot, batch_size=train_batch_size, shuffle=True)\n",
    "\n",
    "dataiter = iter(plot_dataloader)\n",
    "signal_windows, t_windows, labels, csv_name, index, window_idx = next(dataiter)\n",
    "print(len(csv_name))\n",
    "print(window_idx.shape)\n",
    "print(labels.shape)\n",
    "\n",
    "print(labels.type())\n",
    "x = model(signal_windows[0:9].to(device))\n",
    "# x = x.detach()\n",
    "\n",
    "# Crear Matriz de confusión\n",
    "df = confusion_matrix(x, labels[0:9])\n",
    "print(type(df))\n",
    "print(df)\n",
    "\n",
    "# figure = plt.figure(figsize=(10, 10))\n",
    "cols, rows = 3, 3\n",
    "fig = make_subplots(rows=rows, cols=cols)\n",
    "\n",
    "label_to_text = {\n",
    "    \"0\": \"No Fault\",\n",
    "    \"1\": \"Fault\",\n",
    "}\n",
    "\n",
    "for i in range(0, cols * rows):\n",
    "\n",
    "    col = i % cols\n",
    "    row = i // cols\n",
    "    label = label_to_text[str(int(labels[i, 0].item()))]\n",
    "    win_idx = str(window_idx[i].item())\n",
    "    fig.add_trace(\n",
    "        go.Scatter(\n",
    "            name=f\"{label} - {win_idx} - {csv_name[i]}\",\n",
    "            x=t_windows[i, :],\n",
    "            y=signal_windows[i, :, 0],\n",
    "            marker_color=\"black\",\n",
    "        ),\n",
    "        row=row + 1,\n",
    "        col=col + 1,\n",
    "    )\n",
    "\n",
    "fig.update_layout(\n",
    "    height=700,\n",
    "    width=900,\n",
    "    title_text=\"Figuras\",\n",
    "    margin={\"b\": 20, \"t\": 40, \"l\": 20, \"r\": 30},\n",
    "    plot_bgcolor=\"rgba(0,0,0,0)\",\n",
    "    # paper_bgcolor=\"whitesmoke\",\n",
    ")\n",
    "fig.show()\n"
   ]
  },
  {
   "attachments": {},
   "cell_type": "markdown",
   "metadata": {},
   "source": [
    "##### 6.3. Matplotlib Plots"
   ]
  },
  {
   "cell_type": "code",
   "execution_count": 14,
   "metadata": {},
   "outputs": [
    {
     "name": "stdout",
     "output_type": "stream",
     "text": [
      "   Pred probability  Pred label  True label Result\n",
      "0          0.047467           0           0     TN\n",
      "1          0.011892           0           0     TN\n",
      "2          0.014303           0           0     TN\n",
      "3          0.915672           1           1     TP\n",
      "4          0.039081           0           0     TN\n",
      "5          0.968548           1           1     TP\n",
      "6          0.024260           0           0     TN\n",
      "7          0.041793           0           0     TN\n",
      "8          0.926379           1           1     TP\n"
     ]
    },
    {
     "data": {
      "image/png": "[encoded data removed]",
      "text/plain": [
       "<Figure size 1000x1000 with 9 Axes>"
      ]
     },
     "metadata": {},
     "output_type": "display_data"
    }
   ],
   "source": [
    "dataset_plot = Form1Dataset(\n",
    "    dataset_dir, max_window_idx=max_window_idx, signal_name=signal_name, test=True\n",
    ")\n",
    "plot_dataloader = DataLoader(dataset_plot, batch_size=train_batch_size, shuffle=True)\n",
    "\n",
    "dataiter = iter(plot_dataloader)\n",
    "signal_windows, t_windows, labels, *_ = next(dataiter)\n",
    "fs = 3840\n",
    "\n",
    "x = model(signal_windows[1:10].to(device))\n",
    "x = x.detach()\n",
    "\n",
    "# Crear Matriz de confusión\n",
    "df = confusion_matrix(x, labels[1:10])\n",
    "print(df)\n",
    "\n",
    "figure = plt.figure(figsize=(10, 10))\n",
    "cols, rows = 3, 3\n",
    "for i in range(1, cols * rows + 1):\n",
    "    figure.add_subplot(rows, cols, i)\n",
    "    plt.plot(t_windows[i, :], signal_windows[i, :, 0])\n"
   ]
  },
  {
   "attachments": {},
   "cell_type": "markdown",
   "metadata": {},
   "source": [
    "### 7. Data Exploration"
   ]
  },
  {
   "attachments": {},
   "cell_type": "markdown",
   "metadata": {},
   "source": [
    "##### 7.1. Auxiliar Functions"
   ]
  },
  {
   "cell_type": "code",
   "execution_count": 93,
   "metadata": {},
   "outputs": [],
   "source": [
    "def signal_exploration(idx: int, dataset, model, plot_signal: bool = True):\n",
    "    signal, t, idx_min, idx_max, csv_name = dataset.get_event(idx)\n",
    "    model.eval()\n",
    "    if plot_signal == True:\n",
    "        plt.plot(t, signal)\n",
    "        plt.show()\n",
    "    conf_matrix = torch.zeros(1, 5, dtype=torch.int64).to(device)\n",
    "    preds = torch.empty((0, 1)).to(device)\n",
    "    labels = torch.empty((0, 1)).to(device)\n",
    "    for i in range(idx_min, idx_max + 1):\n",
    "        signal, y = dataset.__getitem__(i)\n",
    "        y = torch.unsqueeze(y, 0).to(device)\n",
    "        signal = torch.unsqueeze(signal, 0).to(device)\n",
    "        pred = model(signal)\n",
    "        preds = torch.cat((preds, pred), 0)\n",
    "        labels = torch.cat((labels, y), 0)\n",
    "        conf_matrix = conf_matrix.add(binary_stat_scores(pred, y))\n",
    "    df = confusion_matrix(preds, labels)\n",
    "    df.insert(loc=0, column=\"event_idx\", value=np.repeat(idx, idx_max - idx_min + 1))\n",
    "    # df.insert(loc=0, column=\"window_idx\", value=df.index)\n",
    "    # df.insert(loc=0, column=\"indices\", value=idxs)\n",
    "\n",
    "    return df, conf_matrix\n",
    "\n",
    "\n",
    "def plot_confusion_matrix(metrics):\n",
    "    z = [[metrics[\"TP\"], metrics[\"FN\"]], [metrics[\"FP\"], metrics[\"TN\"]]]\n",
    "    fig = px.imshow(\n",
    "        z,\n",
    "        text_auto=True,\n",
    "        template=\"seaborn\",\n",
    "        labels=dict(x=\"Predicted Label\", y=\"Real Label\", color=\"Predictions\"),\n",
    "        x=[\"Positive\", \"Negative\"],\n",
    "        y=[\"Positive\", \"Negative\"],\n",
    "        width=400,\n",
    "        height=300,\n",
    "    )\n",
    "    fig.show()\n",
    "\n",
    "\n",
    "def print_metrics(metrics):\n",
    "    print(f\"{'Total windows:':.<30}{metrics['TOTAL']:4}\")\n",
    "    print(f\"{'True Positives:':.<30}{metrics['TP']:4}\")\n",
    "    print(f\"{'False Positives:':.<30}{metrics['FP']:4}\")\n",
    "    print(f\"{'True Negatives:':.<30}{metrics['TN']:4}\")\n",
    "    print(f\"{'False Negatives:':.<30}{metrics['FN']:4}\")\n",
    "    print(f\"{'Accuracy:':.<30}{metrics['ACC']*100:>6.1f}%\")\n",
    "    print(f\"{'True Positive Rate:':.<30}{metrics['TPR']*100:>6.1f}%\") \n",
    "    print(f\"{'False Positive Rate:':.<30}{metrics['FPR']*100:>6.1f}%\") \n",
    "    print(f\"{'True Negative Rate:':.<30}{metrics['TNR']*100:>6.1f}%\") \n",
    "    try:\n",
    "        print(f\"{'Positive Predictive Value:':.<30}{metrics['PPV']*100:>6.1f}%\")\n",
    "    except KeyError:\n",
    "        print(f\"PPV divided by 0. No positive class predicted\")\n",
    "    # metrics[\"PPV\"]\n"
   ]
  },
  {
   "attachments": {},
   "cell_type": "markdown",
   "metadata": {},
   "source": [
    "##### 7.2. Data Exploration"
   ]
  },
  {
   "cell_type": "code",
   "execution_count": 134,
   "metadata": {},
   "outputs": [],
   "source": [
    "# Seleccionar pesos de modelo\n",
    "model.load_state_dict(torch.load('./models/LSTMHarmonic_weights_R3_934.pth'))\n",
    "# model.load_state_dict(torch.load(\"./models/LSTMHarmonic_weights_R1_996.pth\"))\n",
    "# model.load_state_dict(torch.load('./models/LSTMHarmonic_weights_R2_978.pth'))\n",
    "\n",
    "# Select Signal Name\n",
    "# signal_name = \"I: X0023A-R1A\"\n",
    "# signal_name = \"I: X0004A-R2A\"\n",
    "signal_name = \"I: X0071A-R3A\"\n",
    "\n",
    "# Create Dataset\n",
    "dataset = Form1Dataset(\n",
    "    dataset_dir, max_window_idx=max_window_idx, signal_name=signal_name\n",
    ")\n",
    "\n",
    "\n"
   ]
  },
  {
   "attachments": {},
   "cell_type": "markdown",
   "metadata": {},
   "source": [
    "##### 7.4. Plot individual windows"
   ]
  },
  {
   "attachments": {},
   "cell_type": "markdown",
   "metadata": {},
   "source": [
    "##### 7.5. Whole Dataset Exploration"
   ]
  },
  {
   "cell_type": "code",
   "execution_count": 136,
   "metadata": {},
   "outputs": [],
   "source": [
    "# # Create Dataframe with information about data\n",
    "# print(dataset.len_events())\n",
    "# conf_matrix = torch.zeros(0, 5, dtype=torch.int64).to(device)\n",
    "# for idx in tqdm(range(dataset.len_events())):\n",
    "# # for idx in tqdm(range()):\n",
    "#     df, CM = signal_exploration(idx, dataset, model, plot_signal=False)\n",
    "#     conf_matrix = torch.cat((conf_matrix, CM))\n",
    "#     if idx == 0:\n",
    "#         dataset_df = df\n",
    "#     else:\n",
    "#         dataset_df = pd.concat([dataset_df, df])\n",
    "\n",
    "# dataset_df = dataset_df.reset_index()\n",
    "# dataset_df = dataset_df.rename(columns={'index': 'window idx'})\n",
    "# conf_matrix_total = np.sum(conf_matrix.cpu().numpy(), axis=0)\n",
    "\n",
    "\n",
    "# # Load Dataframe\n",
    "def load_df(i):\n",
    "    dataset_df = pd.read_parquet(f\"parquet_data/ModelR{i}_R{i}_df.parquet\")\n",
    "    conf_matrix_df = pd.read_parquet(f\"parquet_data/ModelR{i}_R{i}_CM_df.parquet\")\n",
    "    conf_matrix = np.load(f\"parquet_data/ModelR{i}_R{i}_CM.npy\", allow_pickle=False)\n",
    "    return dataset_df, conf_matrix_df, conf_matrix\n",
    "\n",
    "dataset_df, conf_matrix_df, conf_matrix = load_df(3)\n",
    "conf_matrix_total = np.sum(conf_matrix, axis=0)\n",
    "metrics = conf_matrix_metrics(conf_matrix_total)\n"
   ]
  },
  {
   "cell_type": "code",
   "execution_count": 137,
   "metadata": {},
   "outputs": [
    {
     "name": "stdout",
     "output_type": "stream",
     "text": [
      "FALSE POSITVES\n",
      "      window idx  event_idx  Pred probability  Pred label  True label Result\n",
      "1              1          0            50.52%           1           0     FP\n",
      "2              2          0            51.00%           1           0     FP\n",
      "29            29          0            52.61%           1           0     FP\n",
      "30            30          0            54.03%           1           0     FP\n",
      "31            31          0            50.71%           1           0     FP\n",
      "65            65          0            50.01%           1           0     FP\n",
      "161           31          1            50.28%           1           0     FP\n",
      "162           32          1            50.08%           1           0     FP\n",
      "188           58          1            50.65%           1           0     FP\n",
      "189           59          1            53.41%           1           0     FP\n",
      "190           60          1            52.97%           1           0     FP\n",
      "275           15          2            52.62%           1           0     FP\n",
      "276           16          2            54.15%           1           0     FP\n",
      "277           17          2            51.09%           1           0     FP\n",
      "312           52          2            50.68%           1           0     FP\n",
      "404           14          3            50.78%           1           0     FP\n",
      "405           15          3            53.73%           1           0     FP\n",
      "406           16          3            53.77%           1           0     FP\n",
      "441           51          3            50.29%           1           0     FP\n",
      "442           52          3            50.03%           1           0     FP\n",
      "522            2          4            50.88%           1           0     FP\n",
      "523            3          4            50.55%           1           0     FP\n",
      "549           29          4            50.47%           1           0     FP\n",
      "550           30          4            53.49%           1           0     FP\n",
      "551           31          4            53.66%           1           0     FP\n",
      "658            8          5            50.39%           1           0     FP\n",
      "659            9          5            50.87%           1           0     FP\n",
      "686           36          5            52.93%           1           0     FP\n",
      "687           37          5            54.07%           1           0     FP\n",
      "798           18          6            52.75%           1           0     FP\n",
      "799           19          6            53.68%           1           0     FP\n",
      "835           55          6            50.66%           1           0     FP\n",
      "910            0          7            55.04%           1           0     FP\n",
      "911            1          7            56.02%           1           0     FP\n",
      "946           36          7            50.40%           1           0     FP\n",
      "973           63          7            51.09%           1           0     FP\n",
      "974           64          7            53.43%           1           0     FP\n",
      "975           65          7            52.18%           1           0     FP\n",
      "1040           0          8            55.47%           1           0     FP\n",
      "1075          35          8            50.61%           1           0     FP\n",
      "1102          62          8            52.00%           1           0     FP\n",
      "1103          63          8            53.59%           1           0     FP\n",
      "1104          64          8            50.72%           1           0     FP\n",
      "1182          12          9            50.49%           1           0     FP\n",
      "1183          13          9            50.36%           1           0     FP\n",
      "1209          39          9            50.61%           1           0     FP\n",
      "1210          40          9            53.57%           1           0     FP\n",
      "1211          41          9            53.58%           1           0     FP\n",
      "1301           1         10            51.80%           1           0     FP\n",
      "1302           2         10            54.77%           1           0     FP\n",
      "1303           3         10            55.39%           1           0     FP\n",
      "1338          38         10            50.30%           1           0     FP\n",
      "1365          65         10            50.80%           1           0     FP\n",
      "1432           2         11            52.39%           1           0     FP\n",
      "1433           3         11            54.87%           1           0     FP\n",
      "1434           4         11            55.16%           1           0     FP\n",
      "1469          39         11            50.48%           1           0     FP\n",
      "1564           4         12            50.73%           1           0     FP\n",
      "1565           5         12            50.94%           1           0     FP\n",
      "1592          32         12            53.11%           1           0     FP\n",
      "1593          33         12            54.11%           1           0     FP\n",
      "1721          31         13            50.63%           1           0     FP\n",
      "1748          58         13            52.83%           1           0     FP\n",
      "1749          59         13            53.66%           1           0     FP\n",
      "1830          10         14            50.86%           1           0     FP\n",
      "1857          37         14            51.93%           1           0     FP\n",
      "1858          38         14            54.01%           1           0     FP\n",
      "1859          39         14            52.42%           1           0     FP\n",
      "1970          20         15            50.15%           1           0     FP\n",
      "1971          21         15            53.28%           1           0     FP\n",
      "1972          22         15            53.41%           1           0     FP\n",
      "2007          57         15            50.25%           1           0     FP\n",
      "2008          58         15            50.40%           1           0     FP\n",
      "2092          12         16            50.95%           1           0     FP\n",
      "2093          13         16            53.80%           1           0     FP\n",
      "2094          14         16            53.96%           1           0     FP\n",
      "2129          49         16            50.29%           1           0     FP\n",
      "2225          15         17            50.80%           1           0     FP\n",
      "2252          42         17            52.40%           1           0     FP\n",
      "2253          43         17            54.02%           1           0     FP\n",
      "2254          44         17            51.11%           1           0     FP\n",
      "2364          24         18            50.52%           1           0     FP\n",
      "2391          51         18            51.52%           1           0     FP\n",
      "2392          52         18            53.82%           1           0     FP\n",
      "2393          53         18            52.68%           1           0     FP\n",
      "2492          22         19            50.50%           1           0     FP\n",
      "2519          49         19            51.38%           1           0     FP\n",
      "2520          50         19            53.80%           1           0     FP\n",
      "2521          51         19            52.90%           1           0     FP\n",
      "2618          18         20            52.16%           1           0     FP\n",
      "2619          19         20            53.73%           1           0     FP\n",
      "2620          20         20            50.84%           1           0     FP\n",
      "2655          55         20            50.69%           1           0     FP\n",
      "2734           4         21            51.04%           1           0     FP\n",
      "2761          31         21            52.04%           1           0     FP\n",
      "2762          32         21            54.03%           1           0     FP\n",
      "2763          33         21            52.23%           1           0     FP\n",
      "2865           5         22            50.87%           1           0     FP\n",
      "2866           6         22            50.26%           1           0     FP\n",
      "2892          32         22            50.99%           1           0     FP\n",
      "2893          33         22            53.79%           1           0     FP\n",
      "2894          34         22            53.59%           1           0     FP\n",
      "3001          11         23            51.69%           1           0     FP\n",
      "3002          12         23            54.16%           1           0     FP\n",
      "3003          13         23            53.64%           1           0     FP\n",
      "3038          48         23            50.46%           1           0     FP\n",
      "3120           0         24            56.01%           1           0     FP\n",
      "3121           1         24            53.30%           1           0     FP\n",
      "3155          35         24            50.03%           1           0     FP\n",
      "3156          36         24            50.53%           1           0     FP\n",
      "3183          63         24            52.91%           1           0     FP\n",
      "3184          64         24            53.34%           1           0     FP\n",
      "3276          26         25            50.24%           1           0     FP\n",
      "3277          27         25            50.29%           1           0     FP\n",
      "3303          53         25            50.49%           1           0     FP\n",
      "3304          54         25            53.46%           1           0     FP\n",
      "3305          55         25            53.47%           1           0     FP\n",
      "3396          16         26            53.30%           1           0     FP\n",
      "3397          17         26            53.90%           1           0     FP\n",
      "3432          52         26            50.10%           1           0     FP\n",
      "3433          53         26            50.47%           1           0     FP\n",
      "3530          20         27            50.75%           1           0     FP\n",
      "3557          47         27            52.52%           1           0     FP\n",
      "3558          48         27            53.98%           1           0     FP\n",
      "3559          49         27            50.84%           1           0     FP\n",
      "3640           0         28            52.91%           1           0     FP\n",
      "3641           1         28            55.41%           1           0     FP\n",
      "3642           2         28            55.44%           1           0     FP\n",
      "3677          37         28            50.56%           1           0     FP\n",
      "3704          64         28            51.82%           1           0     FP\n",
      "3705          65         28            53.52%           1           0     FP\n",
      "3771           1         29            50.92%           1           0     FP\n",
      "3772           2         29            50.45%           1           0     FP\n",
      "3798          28         29            50.61%           1           0     FP\n",
      "3799          29         29            53.58%           1           0     FP\n",
      "3800          30         29            53.60%           1           0     FP\n",
      "3835          65         29            50.47%           1           0     FP\n",
      "3919          19         30            51.80%           1           0     FP\n",
      "3920          20         30            53.68%           1           0     FP\n",
      "3921          21         30            51.57%           1           0     FP\n",
      "3956          56         30            50.65%           1           0     FP\n",
      "4049          19         31            52.93%           1           0     FP\n",
      "4050          20         31            53.57%           1           0     FP\n",
      "4085          55         31            50.07%           1           0     FP\n",
      "4086          56         31            50.60%           1           0     FP\n",
      "4167           7         32            50.81%           1           0     FP\n",
      "4194          34         32            51.83%           1           0     FP\n",
      "4195          35         32            54.01%           1           0     FP\n",
      "4196          36         32            52.61%           1           0     FP\n",
      "4306          16         33            50.23%           1           0     FP\n",
      "4307          17         33            50.74%           1           0     FP\n",
      "4334          44         33            53.00%           1           0     FP\n",
      "4335          45         33            53.97%           1           0     FP\n",
      "4435          15         34            50.59%           1           0     FP\n",
      "4436          16         34            53.55%           1           0     FP\n",
      "4437          17         34            53.67%           1           0     FP\n",
      "4472          52         34            50.24%           1           0     FP\n",
      "4473          53         34            50.18%           1           0     FP\n",
      "4558           8         35            53.15%           1           0     FP\n",
      "4559           9         35            54.94%           1           0     FP\n",
      "4560          10         35            52.77%           1           0     FP\n",
      "4595          45         35            50.64%           1           0     FP\n",
      "4689           9         36            50.87%           1           0     FP\n",
      "4716          36         36            52.06%           1           0     FP\n",
      "4717          37         36            54.05%           1           0     FP\n",
      "4718          38         36            52.18%           1           0     FP\n",
      "4832          22         37            50.41%           1           0     FP\n",
      "4833          23         37            50.03%           1           0     FP\n",
      "4859          49         37            51.03%           1           0     FP\n",
      "4860          50         37            53.70%           1           0     FP\n",
      "4861          51         37            53.26%           1           0     FP\n",
      "4944           4         38            50.85%           1           0     FP\n",
      "4945           5         38            54.15%           1           0     FP\n",
      "4946           6         38            55.38%           1           0     FP\n",
      "4981          41         38            50.16%           1           0     FP\n",
      "4982          42         38            50.26%           1           0     FP\n",
      "5087          17         39            53.20%           1           0     FP\n",
      "5088          18         39            53.63%           1           0     FP\n",
      "5123          53         39            50.10%           1           0     FP\n",
      "5124          54         39            50.49%           1           0     FP\n",
      "5221          21         40            50.62%           1           0     FP\n",
      "5248          48         40            51.86%           1           0     FP\n",
      "5249          49         40            53.95%           1           0     FP\n",
      "5250          50         40            52.21%           1           0     FP\n",
      "5353          23         41            51.94%           1           0     FP\n",
      "5354          24         41            53.71%           1           0     FP\n",
      "5355          25         41            51.42%           1           0     FP\n",
      "5390          60         41            50.73%           1           0     FP\n",
      "5483          23         42            50.03%           1           0     FP\n",
      "5484          24         42            53.16%           1           0     FP\n",
      "5485          25         42            53.36%           1           0     FP\n",
      "5520          60         42            50.26%           1           0     FP\n",
      "5521          61         42            50.58%           1           0     FP\n",
      "5590           0         43            52.25%           1           0     FP\n",
      "5591           1         43            55.07%           1           0     FP\n",
      "5592           2         43            55.84%           1           0     FP\n",
      "5627          37         43            50.41%           1           0     FP\n",
      "5654          64         43            51.21%           1           0     FP\n",
      "5655          65         43            53.43%           1           0     FP\n",
      "5730          10         44            51.92%           1           0     FP\n",
      "5731          11         44            54.31%           1           0     FP\n",
      "5732          12         44            53.79%           1           0     FP\n",
      "5767          47         44            50.49%           1           0     FP\n",
      "5870          20         45            50.71%           1           0     FP\n",
      "5897          47         45            52.21%           1           0     FP\n",
      "5898          48         45            53.96%           1           0     FP\n",
      "5899          49         45            51.61%           1           0     FP\n",
      "6005          25         46            53.00%           1           0     FP\n",
      "6006          26         46            53.57%           1           0     FP\n",
      "6041          61         46            50.21%           1           0     FP\n",
      "6042          62         46            50.72%           1           0     FP\n",
      "6141          31         47            50.55%           1           0     FP\n",
      "6168          58         47            51.73%           1           0     FP\n",
      "6169          59         47            53.69%           1           0     FP\n",
      "6170          60         47            51.71%           1           0     FP\n",
      "6261          21         48            50.62%           1           0     FP\n",
      "6288          48         48            51.87%           1           0     FP\n",
      "6289          49         48            53.95%           1           0     FP\n",
      "6290          50         48            52.20%           1           0     FP\n",
      "6379           9         49            51.99%           1           0     FP\n",
      "6380          10         49            54.52%           1           0     FP\n",
      "6381          11         49            54.00%           1           0     FP\n",
      "6416          46         49            50.51%           1           0     FP\n",
      "6505           5         50            50.99%           1           0     FP\n",
      "6532          32         50            51.78%           1           0     FP\n",
      "6533          33         50            54.04%           1           0     FP\n",
      "6534          34         50            52.78%           1           0     FP\n",
      "6636           6         51            50.56%           1           0     FP\n",
      "6637           7         51            50.81%           1           0     FP\n",
      "6664          34         51            53.13%           1           0     FP\n",
      "6665          35         51            54.11%           1           0     FP\n",
      "6766           6         52            52.21%           1           0     FP\n",
      "6767           7         52            54.66%           1           0     FP\n",
      "6768           8         52            54.58%           1           0     FP\n",
      "6803          43         52            50.49%           1           0     FP\n",
      "6897           7         53            50.58%           1           0     FP\n",
      "6898           8         53            50.59%           1           0     FP\n",
      "6924          34         53            50.27%           1           0     FP\n",
      "6925          35         53            53.47%           1           0     FP\n",
      "6926          36         53            53.86%           1           0     FP\n"
     ]
    },
    {
     "data": {
      "image/png": "[encoded data removed]",
      "text/plain": [
       "<Figure size 640x480 with 1 Axes>"
      ]
     },
     "metadata": {},
     "output_type": "display_data"
    },
    {
     "data": {
      "image/png": "[encoded data removed]",
      "text/plain": [
       "<Figure size 640x480 with 1 Axes>"
      ]
     },
     "metadata": {},
     "output_type": "display_data"
    },
    {
     "data": {
      "image/png": "[encoded data removed]",
      "text/plain": [
       "<Figure size 640x480 with 1 Axes>"
      ]
     },
     "metadata": {},
     "output_type": "display_data"
    },
    {
     "name": "stdout",
     "output_type": "stream",
     "text": [
      "FALSE NEGATIVES\n",
      "      window idx  event_idx  Pred probability  Pred label  True label Result\n",
      "196           66          1            27.35%           0           1     FN\n",
      "197           67          1            26.00%           0           1     FN\n",
      "198           68          1            38.55%           0           1     FN\n",
      "199           69          1            44.01%           0           1     FN\n",
      "326           66          2            18.72%           0           1     FN\n",
      "327           67          2            19.19%           0           1     FN\n",
      "328           68          2            19.05%           0           1     FN\n",
      "329           69          2            20.03%           0           1     FN\n",
      "330           70          2            21.18%           0           1     FN\n",
      "331           71          2            24.00%           0           1     FN\n",
      "332           72          2            23.84%           0           1     FN\n",
      "333           73          2            33.41%           0           1     FN\n",
      "334           74          2            46.57%           0           1     FN\n",
      "456           66          3            18.46%           0           1     FN\n",
      "457           67          3            18.86%           0           1     FN\n",
      "458           68          3            18.58%           0           1     FN\n",
      "459           69          3            19.39%           0           1     FN\n",
      "460           70          3            20.35%           0           1     FN\n",
      "461           71          3            22.60%           0           1     FN\n",
      "462           72          3            18.99%           0           1     FN\n",
      "464           74          3            44.63%           0           1     FN\n",
      "716           66          5            24.16%           0           1     FN\n",
      "717           67          5            27.44%           0           1     FN\n",
      "718           68          5            30.65%           0           1     FN\n",
      "719           69          5            34.59%           0           1     FN\n",
      "720           70          5            39.07%           0           1     FN\n",
      "721           71          5            44.54%           0           1     FN\n",
      "846           66          6            28.29%           0           1     FN\n",
      "847           67          6            34.10%           0           1     FN\n",
      "848           68          6            35.84%           0           1     FN\n",
      "849           69          6            35.57%           0           1     FN\n",
      "850           70          6            33.88%           0           1     FN\n",
      "851           71          6            38.50%           0           1     FN\n",
      "852           72          6            45.23%           0           1     FN\n",
      "855           75          6            34.12%           0           1     FN\n",
      "857           77          6            43.84%           0           1     FN\n",
      "978           68          7            47.52%           0           1     FN\n",
      "979           69          7            38.88%           0           1     FN\n",
      "980           70          7            40.35%           0           1     FN\n",
      "1107          67          8            49.07%           0           1     FN\n",
      "1108          68          8            44.27%           0           1     FN\n",
      "1109          69          8            37.31%           0           1     FN\n",
      "1110          70          8            36.41%           0           1     FN\n",
      "1111          71          8            44.86%           0           1     FN\n",
      "1236          66          9            17.61%           0           1     FN\n",
      "1237          67          9            19.72%           0           1     FN\n",
      "1238          68          9            21.36%           0           1     FN\n",
      "1239          69          9            22.26%           0           1     FN\n",
      "1240          70          9            25.01%           0           1     FN\n",
      "1241          71          9            27.80%           0           1     FN\n",
      "1242          72          9            30.49%           0           1     FN\n",
      "1243          73          9            33.09%           0           1     FN\n",
      "1244          74          9            36.17%           0           1     FN\n",
      "1245          75          9            40.73%           0           1     FN\n",
      "1246          76          9            46.06%           0           1     FN\n",
      "1368          68         10            47.79%           0           1     FN\n",
      "1369          69         10            48.17%           0           1     FN\n",
      "1370          70         10            39.10%           0           1     FN\n",
      "1371          71         10            41.44%           0           1     FN\n",
      "1372          72         10            42.01%           0           1     FN\n",
      "1373          73         10            40.29%           0           1     FN\n",
      "1374          74         10            37.72%           0           1     FN\n",
      "1375          75         10            34.73%           0           1     FN\n",
      "1376          76         10            41.66%           0           1     FN\n",
      "1499          69         11            44.03%           0           1     FN\n",
      "1501          71         11            41.68%           0           1     FN\n",
      "1502          72         11            41.52%           0           1     FN\n",
      "1503          73         11            38.19%           0           1     FN\n",
      "1504          74         11            36.63%           0           1     FN\n",
      "1505          75         11            33.97%           0           1     FN\n",
      "1506          76         11            36.16%           0           1     FN\n",
      "1507          77         11            40.90%           0           1     FN\n",
      "1626          66         12            41.75%           0           1     FN\n",
      "1627          67         12            48.31%           0           1     FN\n",
      "1756          66         13            25.57%           0           1     FN\n",
      "1757          67         13            28.78%           0           1     FN\n",
      "1758          68         13            37.17%           0           1     FN\n",
      "1759          69         13            36.45%           0           1     FN\n",
      "1886          66         14            20.17%           0           1     FN\n",
      "1887          67         14            22.80%           0           1     FN\n",
      "1888          68         14            25.52%           0           1     FN\n",
      "1889          69         14            28.41%           0           1     FN\n",
      "1890          70         14            31.69%           0           1     FN\n",
      "1891          71         14            35.35%           0           1     FN\n",
      "1892          72         14            39.87%           0           1     FN\n",
      "1893          73         14            46.43%           0           1     FN\n",
      "2016          66         15            27.48%           0           1     FN\n",
      "2017          67         15            30.78%           0           1     FN\n",
      "2018          68         15            35.22%           0           1     FN\n",
      "2019          69         15            38.11%           0           1     FN\n",
      "2020          70         15            42.17%           0           1     FN\n",
      "2021          71         15            49.07%           0           1     FN\n",
      "2146          66         16            17.65%           0           1     FN\n",
      "2147          67         16            17.88%           0           1     FN\n",
      "2148          68         16            18.19%           0           1     FN\n",
      "2149          69         16            19.35%           0           1     FN\n",
      "2150          70         16            15.34%           0           1     FN\n",
      "2151          71         16            33.90%           0           1     FN\n",
      "2152          72         16            35.96%           0           1     FN\n",
      "2161          81         16            49.56%           0           1     FN\n",
      "2162          82         16            46.36%           0           1     FN\n",
      "2163          83         16            47.38%           0           1     FN\n",
      "2165          85         16            49.16%           0           1     FN\n",
      "2276          66         17            13.33%           0           1     FN\n",
      "2277          67         17            13.71%           0           1     FN\n",
      "2278          68         17            15.76%           0           1     FN\n",
      "2279          69         17            16.94%           0           1     FN\n",
      "2280          70         17            20.21%           0           1     FN\n",
      "2281          71         17            22.67%           0           1     FN\n",
      "2282          72         17            25.43%           0           1     FN\n",
      "2283          73         17            28.38%           0           1     FN\n",
      "2284          74         17            31.30%           0           1     FN\n",
      "2285          75         17            35.25%           0           1     FN\n",
      "2286          76         17            39.71%           0           1     FN\n",
      "2287          77         17            45.43%           0           1     FN\n",
      "2406          66         18            18.01%           0           1     FN\n",
      "2407          67         18            19.19%           0           1     FN\n",
      "2408          68         18            18.38%           0           1     FN\n",
      "2409          69         18            18.22%           0           1     FN\n",
      "2410          70         18            17.72%           0           1     FN\n",
      "2411          71         18            18.25%           0           1     FN\n",
      "2412          72         18            17.77%           0           1     FN\n",
      "2413          73         18            17.57%           0           1     FN\n",
      "2414          74         18            17.73%           0           1     FN\n",
      "2415          75         18            17.28%           0           1     FN\n",
      "2416          76         18            17.49%           0           1     FN\n",
      "2417          77         18            18.06%           0           1     FN\n",
      "2418          78         18            19.61%           0           1     FN\n",
      "2419          79         18            20.57%           0           1     FN\n",
      "2420          80         18            22.33%           0           1     FN\n",
      "2421          81         18            23.90%           0           1     FN\n",
      "2422          82         18            26.45%           0           1     FN\n",
      "2423          83         18            29.15%           0           1     FN\n",
      "2424          84         18            33.10%           0           1     FN\n",
      "2425          85         18            37.78%           0           1     FN\n",
      "2426          86         18            43.11%           0           1     FN\n",
      "2427          87         18            49.70%           0           1     FN\n",
      "2433          93         18            47.83%           0           1     FN\n",
      "2434          94         18            45.19%           0           1     FN\n",
      "2435          95         18            44.52%           0           1     FN\n",
      "2436          96         18            44.79%           0           1     FN\n",
      "2437          97         18            45.28%           0           1     FN\n",
      "2438          98         18            45.51%           0           1     FN\n",
      "2439          99         18            45.18%           0           1     FN\n",
      "2440         100         18            44.03%           0           1     FN\n",
      "2441         101         18            41.94%           0           1     FN\n",
      "2442         102         18            39.22%           0           1     FN\n",
      "2443         103         18            36.34%           0           1     FN\n",
      "2444         104         18            33.81%           0           1     FN\n",
      "2445         105         18            31.84%           0           1     FN\n",
      "2446         106         18            30.48%           0           1     FN\n",
      "2447         107         18            29.79%           0           1     FN\n",
      "2448         108         18            28.79%           0           1     FN\n",
      "2449         109         18            30.63%           0           1     FN\n",
      "2453         113         18            49.00%           0           1     FN\n",
      "2454         114         18            47.30%           0           1     FN\n",
      "2460         120         18            41.37%           0           1     FN\n",
      "2461         121         18            29.75%           0           1     FN\n",
      "2462         122         18            28.26%           0           1     FN\n",
      "2463         123         18            22.94%           0           1     FN\n",
      "2464         124         18            19.40%           0           1     FN\n",
      "2465         125         18            18.74%           0           1     FN\n",
      "2466         126         18            18.92%           0           1     FN\n",
      "2467         127         18            19.00%           0           1     FN\n",
      "2468         128         18            18.89%           0           1     FN\n",
      "2469         129         18            18.58%           0           1     FN\n",
      "2536          66         19            16.76%           0           1     FN\n",
      "2537          67         19            20.60%           0           1     FN\n",
      "2538          68         19            20.25%           0           1     FN\n",
      "2539          69         19            20.71%           0           1     FN\n",
      "2540          70         19            22.80%           0           1     FN\n",
      "2541          71         19            27.39%           0           1     FN\n",
      "2542          72         19            29.75%           0           1     FN\n",
      "2543          73         19            30.57%           0           1     FN\n",
      "2544          74         19            32.49%           0           1     FN\n",
      "2545          75         19            36.42%           0           1     FN\n",
      "2546          76         19            45.09%           0           1     FN\n",
      "2666          66         20            21.30%           0           1     FN\n",
      "2667          67         20            23.01%           0           1     FN\n",
      "2668          68         20            24.86%           0           1     FN\n",
      "2669          69         20            24.73%           0           1     FN\n",
      "2670          70         20            25.63%           0           1     FN\n",
      "2671          71         20            28.71%           0           1     FN\n",
      "2672          72         20            34.39%           0           1     FN\n",
      "2673          73         20            41.85%           0           1     FN\n",
      "2675          75         20            44.19%           0           1     FN\n",
      "2796          66         21            44.91%           0           1     FN\n",
      "2819          89         21            47.52%           0           1     FN\n",
      "2829          99         21            48.07%           0           1     FN\n",
      "2830         100         21            48.85%           0           1     FN\n",
      "2831         101         21            48.53%           0           1     FN\n",
      "2832         102         21            48.93%           0           1     FN\n",
      "2833         103         21            44.80%           0           1     FN\n",
      "2834         104         21            37.87%           0           1     FN\n",
      "2835         105         21            33.31%           0           1     FN\n",
      "2836         106         21            31.96%           0           1     FN\n",
      "2837         107         21            31.81%           0           1     FN\n",
      "2838         108         21            32.02%           0           1     FN\n",
      "2839         109         21            31.38%           0           1     FN\n",
      "2840         110         21            30.41%           0           1     FN\n",
      "2841         111         21            28.85%           0           1     FN\n",
      "2842         112         21            27.38%           0           1     FN\n",
      "2843         113         21            26.03%           0           1     FN\n",
      "2844         114         21            24.94%           0           1     FN\n",
      "2845         115         21            24.15%           0           1     FN\n",
      "2846         116         21            24.43%           0           1     FN\n",
      "2847         117         21            35.42%           0           1     FN\n",
      "2926          66         22            38.36%           0           1     FN\n",
      "2927          67         22            43.70%           0           1     FN\n",
      "2945          85         22            46.36%           0           1     FN\n",
      "2946          86         22            42.30%           0           1     FN\n",
      "2947          87         22            39.85%           0           1     FN\n",
      "2948          88         22            38.48%           0           1     FN\n",
      "2949          89         22            37.34%           0           1     FN\n",
      "2950          90         22            36.19%           0           1     FN\n",
      "2951          91         22            40.19%           0           1     FN\n",
      "2959          99         22            49.80%           0           1     FN\n",
      "2960         100         22            44.12%           0           1     FN\n",
      "2962         102         22            48.89%           0           1     FN\n",
      "2963         103         22            49.28%           0           1     FN\n",
      "2964         104         22            41.11%           0           1     FN\n",
      "2965         105         22            32.87%           0           1     FN\n",
      "2966         106         22            29.64%           0           1     FN\n",
      "2967         107         22            29.51%           0           1     FN\n",
      "2968         108         22            31.22%           0           1     FN\n",
      "2969         109         22            34.78%           0           1     FN\n",
      "2970         110         22            42.58%           0           1     FN\n",
      "2971         111         22            43.27%           0           1     FN\n",
      "2972         112         22            26.98%           0           1     FN\n",
      "2973         113         22            22.48%           0           1     FN\n",
      "2974         114         22            20.78%           0           1     FN\n",
      "2975         115         22            19.51%           0           1     FN\n",
      "2976         116         22            18.39%           0           1     FN\n",
      "2977         117         22            17.43%           0           1     FN\n",
      "2978         118         22            16.59%           0           1     FN\n",
      "2979         119         22            15.92%           0           1     FN\n",
      "2980         120         22            15.43%           0           1     FN\n",
      "2981         121         22            15.27%           0           1     FN\n",
      "2982         122         22            15.38%           0           1     FN\n",
      "2983         123         22            40.59%           0           1     FN\n",
      "2988         128         22            42.63%           0           1     FN\n",
      "2989         129         22            22.94%           0           1     FN\n",
      "3056          66         23            17.42%           0           1     FN\n",
      "3057          67         23            17.70%           0           1     FN\n",
      "3058          68         23            18.37%           0           1     FN\n",
      "3059          69         23            15.03%           0           1     FN\n",
      "3060          70         23            30.57%           0           1     FN\n",
      "3061          71         23            37.24%           0           1     FN\n",
      "3062          72         23            45.29%           0           1     FN\n",
      "3068          78         23            48.03%           0           1     FN\n",
      "3070          80         23            35.00%           0           1     FN\n",
      "3071          81         23            31.03%           0           1     FN\n",
      "3072          82         23            28.69%           0           1     FN\n",
      "3073          83         23            23.89%           0           1     FN\n",
      "3074          84         23            21.00%           0           1     FN\n",
      "3075          85         23            20.58%           0           1     FN\n",
      "3076          86         23            21.02%           0           1     FN\n",
      "3077          87         23            21.06%           0           1     FN\n",
      "3078          88         23            20.89%           0           1     FN\n",
      "3079          89         23            20.35%           0           1     FN\n",
      "3080          90         23            19.93%           0           1     FN\n",
      "3081          91         23            19.28%           0           1     FN\n",
      "3082          92         23            18.66%           0           1     FN\n",
      "3083          93         23            17.86%           0           1     FN\n",
      "3084          94         23            17.10%           0           1     FN\n",
      "3085          95         23            16.36%           0           1     FN\n",
      "3086          96         23            15.78%           0           1     FN\n",
      "3087          97         23            15.48%           0           1     FN\n",
      "3088          98         23            15.56%           0           1     FN\n",
      "3089          99         23            15.12%           0           1     FN\n",
      "3090         100         23            14.29%           0           1     FN\n",
      "3091         101         23            14.53%           0           1     FN\n",
      "3092         102         23            37.04%           0           1     FN\n",
      "3096         106         23            47.58%           0           1     FN\n",
      "3097         107         23            42.17%           0           1     FN\n",
      "3098         108         23            24.35%           0           1     FN\n",
      "3099         109         23            33.11%           0           1     FN\n",
      "3100         110         23            37.82%           0           1     FN\n",
      "3101         111         23            45.60%           0           1     FN\n",
      "3102         112         23            46.03%           0           1     FN\n",
      "3103         113         23            49.83%           0           1     FN\n",
      "3105         115         23            49.90%           0           1     FN\n",
      "3106         116         23            42.81%           0           1     FN\n",
      "3107         117         23            36.18%           0           1     FN\n",
      "3108         118         23            32.44%           0           1     FN\n",
      "3109         119         23            31.14%           0           1     FN\n",
      "3110         120         23            31.04%           0           1     FN\n",
      "3111         121         23            31.01%           0           1     FN\n",
      "3112         122         23            30.42%           0           1     FN\n",
      "3113         123         23            29.16%           0           1     FN\n",
      "3114         124         23            27.47%           0           1     FN\n",
      "3115         125         23            25.81%           0           1     FN\n",
      "3116         126         23            24.45%           0           1     FN\n",
      "3117         127         23            23.48%           0           1     FN\n",
      "3118         128         23            22.81%           0           1     FN\n",
      "3119         129         23            22.42%           0           1     FN\n",
      "3186          66         24            45.69%           0           1     FN\n",
      "3187          67         24            36.17%           0           1     FN\n",
      "3188          68         24            32.84%           0           1     FN\n",
      "3189          69         24            34.30%           0           1     FN\n",
      "3190          70         24            31.42%           0           1     FN\n",
      "3191          71         24            36.47%           0           1     FN\n",
      "3192          72         24            36.98%           0           1     FN\n",
      "3193          73         24            42.02%           0           1     FN\n",
      "3194          74         24            45.70%           0           1     FN\n",
      "3316          66         25            21.89%           0           1     FN\n",
      "3317          67         25            20.71%           0           1     FN\n",
      "3318          68         25            27.27%           0           1     FN\n",
      "3319          69         25            27.86%           0           1     FN\n",
      "3320          70         25            29.52%           0           1     FN\n",
      "3321          71         25            40.23%           0           1     FN\n",
      "3322          72         25            39.09%           0           1     FN\n",
      "3446          66         26            19.15%           0           1     FN\n",
      "3447          67         26            19.85%           0           1     FN\n",
      "3448          68         26            19.52%           0           1     FN\n",
      "3449          69         26            20.56%           0           1     FN\n",
      "3450          70         26            21.65%           0           1     FN\n",
      "3451          71         26            24.73%           0           1     FN\n",
      "3452          72         26            29.80%           0           1     FN\n",
      "3453          73         26            25.00%           0           1     FN\n",
      "3576          66         27            14.70%           0           1     FN\n",
      "3577          67         27            13.87%           0           1     FN\n",
      "3578          68         27            15.93%           0           1     FN\n",
      "3579          69         27            17.12%           0           1     FN\n",
      "3580          70         27            18.41%           0           1     FN\n",
      "3581          71         27            22.80%           0           1     FN\n",
      "3582          72         27            22.53%           0           1     FN\n",
      "3583          73         27            25.48%           0           1     FN\n",
      "3584          74         27            25.86%           0           1     FN\n",
      "3585          75         27            28.20%           0           1     FN\n",
      "3586          76         27            31.11%           0           1     FN\n",
      "3587          77         27            32.88%           0           1     FN\n",
      "3588          78         27            36.81%           0           1     FN\n",
      "3589          79         27            39.43%           0           1     FN\n",
      "3590          80         27            45.74%           0           1     FN\n",
      "3707          67         28            45.04%           0           1     FN\n",
      "3708          68         28            48.47%           0           1     FN\n",
      "3709          69         28            38.71%           0           1     FN\n",
      "3710          70         28            36.46%           0           1     FN\n",
      "3711          71         28            43.42%           0           1     FN\n",
      "3712          72         28            42.43%           0           1     FN\n",
      "3713          73         28            43.30%           0           1     FN\n",
      "3714          74         28            42.62%           0           1     FN\n",
      "3715          75         28            48.64%           0           1     FN\n",
      "3966          66         30            22.48%           0           1     FN\n",
      "3967          67         30            21.11%           0           1     FN\n",
      "3968          68         30            22.37%           0           1     FN\n",
      "3969          69         30            24.06%           0           1     FN\n",
      "3970          70         30            25.43%           0           1     FN\n",
      "3971          71         30            28.80%           0           1     FN\n",
      "3972          72         30            34.55%           0           1     FN\n",
      "3973          73         30            43.63%           0           1     FN\n",
      "4096          66         31            26.74%           0           1     FN\n",
      "4097          67         31            32.97%           0           1     FN\n",
      "4098          68         31            36.59%           0           1     FN\n",
      "4099          69         31            49.53%           0           1     FN\n",
      "4100          70         31            45.31%           0           1     FN\n",
      "4226          66         32            29.19%           0           1     FN\n",
      "4227          67         32            34.26%           0           1     FN\n",
      "4228          68         32            35.24%           0           1     FN\n",
      "4229          69         32            42.30%           0           1     FN\n",
      "4230          70         32            46.84%           0           1     FN\n",
      "4356          66         33            13.26%           0           1     FN\n",
      "4357          67         33            13.17%           0           1     FN\n",
      "4358          68         33            17.37%           0           1     FN\n",
      "4359          69         33            16.86%           0           1     FN\n",
      "4360          70         33            21.04%           0           1     FN\n",
      "4361          71         33            22.98%           0           1     FN\n",
      "4362          72         33            26.54%           0           1     FN\n",
      "4363          73         33            30.73%           0           1     FN\n",
      "4364          74         33            35.25%           0           1     FN\n",
      "4365          75         33            38.26%           0           1     FN\n",
      "4366          76         33            43.94%           0           1     FN\n",
      "4486          66         34            19.12%           0           1     FN\n",
      "4487          67         34            19.01%           0           1     FN\n",
      "4488          68         34            19.60%           0           1     FN\n",
      "4489          69         34            21.36%           0           1     FN\n",
      "4490          70         34            22.26%           0           1     FN\n",
      "4491          71         34            24.42%           0           1     FN\n",
      "4492          72         34            27.85%           0           1     FN\n",
      "4493          73         34            24.18%           0           1     FN\n",
      "4616          66         35            18.44%           0           1     FN\n",
      "4617          67         35            32.21%           0           1     FN\n",
      "4618          68         35            38.95%           0           1     FN\n",
      "4619          69         35            41.04%           0           1     FN\n",
      "4620          70         35            43.12%           0           1     FN\n",
      "4621          71         35            48.34%           0           1     FN\n",
      "4625          75         35            49.56%           0           1     FN\n",
      "4626          76         35            49.50%           0           1     FN\n",
      "4627          77         35            41.53%           0           1     FN\n",
      "4628          78         35            41.42%           0           1     FN\n",
      "4629          79         35            41.89%           0           1     FN\n",
      "4630          80         35            44.37%           0           1     FN\n",
      "4631          81         35            47.48%           0           1     FN\n",
      "4746          66         36            34.61%           0           1     FN\n",
      "4747          67         36            49.84%           0           1     FN\n",
      "4876          66         37            25.29%           0           1     FN\n",
      "4877          67         37            28.41%           0           1     FN\n",
      "4878          68         37            32.26%           0           1     FN\n",
      "4879          69         37            44.50%           0           1     FN\n",
      "4894          84         37            48.11%           0           1     FN\n",
      "5006          66         38            46.75%           0           1     FN\n",
      "5008          68         38            49.32%           0           1     FN\n",
      "5266          66         40            22.58%           0           1     FN\n",
      "5267          67         40            24.50%           0           1     FN\n",
      "5268          68         40            28.61%           0           1     FN\n",
      "5269          69         40            38.27%           0           1     FN\n",
      "5279          79         40            49.46%           0           1     FN\n",
      "5280          80         40            44.05%           0           1     FN\n",
      "5526          66         42            37.36%           0           1     FN\n",
      "5527          67         42            42.50%           0           1     FN\n",
      "5528          68         42            45.45%           0           1     FN\n",
      "5657          67         43            46.24%           0           1     FN\n",
      "5659          69         43            40.05%           0           1     FN\n",
      "5660          70         43            46.21%           0           1     FN\n",
      "5786          66         44            18.05%           0           1     FN\n",
      "5787          67         44            19.92%           0           1     FN\n",
      "5788          68         44            17.27%           0           1     FN\n",
      "5789          69         44            33.08%           0           1     FN\n",
      "5790          70         44            38.01%           0           1     FN\n",
      "5916          66         45            19.18%           0           1     FN\n",
      "5917          67         45            16.94%           0           1     FN\n",
      "5918          68         45            24.35%           0           1     FN\n",
      "5919          69         45            21.19%           0           1     FN\n",
      "5920          70         45            24.74%           0           1     FN\n",
      "5921          71         45            26.11%           0           1     FN\n",
      "5922          72         45            26.47%           0           1     FN\n",
      "5923          73         45            31.65%           0           1     FN\n",
      "5924          74         45            29.65%           0           1     FN\n",
      "5925          75         45            34.54%           0           1     FN\n",
      "5926          76         45            36.87%           0           1     FN\n",
      "5927          77         45            36.02%           0           1     FN\n",
      "5928          78         45            43.65%           0           1     FN\n",
      "5929          79         45            43.65%           0           1     FN\n",
      "6046          66         46            43.04%           0           1     FN\n",
      "6047          67         46            47.04%           0           1     FN\n",
      "6176          66         47            38.22%           0           1     FN\n",
      "6177          67         47            26.54%           0           1     FN\n",
      "6178          68         47            47.53%           0           1     FN\n",
      "6179          69         47            39.23%           0           1     FN\n",
      "6306          66         48            22.55%           0           1     FN\n",
      "6307          67         48            23.21%           0           1     FN\n",
      "6308          68         48            28.11%           0           1     FN\n",
      "6309          69         48            37.26%           0           1     FN\n",
      "6319          79         48            49.27%           0           1     FN\n",
      "6436          66         49            38.51%           0           1     FN\n",
      "6437          67         49            22.37%           0           1     FN\n",
      "6438          68         49            49.51%           0           1     FN\n",
      "6442          72         49            47.18%           0           1     FN\n",
      "6826          66         52            38.27%           0           1     FN\n",
      "6827          67         52            40.90%           0           1     FN\n",
      "6828          68         52            48.63%           0           1     FN\n",
      "6829          69         52            48.92%           0           1     FN\n",
      "6830          70         52            47.66%           0           1     FN\n"
     ]
    },
    {
     "data": {
      "image/png": "[encoded data removed]",
      "text/plain": [
       "<Figure size 640x480 with 1 Axes>"
      ]
     },
     "metadata": {},
     "output_type": "display_data"
    },
    {
     "data": {
      "image/png": "[encoded data removed]",
      "text/plain": [
       "<Figure size 640x480 with 1 Axes>"
      ]
     },
     "metadata": {},
     "output_type": "display_data"
    },
    {
     "data": {
      "image/png": "[encoded data removed]",
      "text/plain": [
       "<Figure size 640x480 with 1 Axes>"
      ]
     },
     "metadata": {},
     "output_type": "display_data"
    }
   ],
   "source": [
    "# df and plots settings\n",
    "pd.set_option(\"display.float_format\", \"{:.2%}\".format)\n",
    "\n",
    "pd.options.plotting.backend = \"matplotlib\"\n",
    "\n",
    "\n",
    "# print(dataset_df)\n",
    "pd.set_option(\"display.max_rows\", 2000)\n",
    "false_positive = dataset_df.query('Result == \"FP\"')\n",
    "false_negative = dataset_df.query('Result == \"FN\"')\n",
    "# sample_df = pd.concat([sample_df, sample_df])\n",
    "\n",
    "false_positive_plot = false_positive.groupby([\"window idx\"])[\"window idx\"].count()\n",
    "false_negative_plot = false_negative.groupby([\"window idx\"])[\"window idx\"].count()\n",
    "# print(false_positive['Pred probability'].value_counts(bins=10, sort=False))\n",
    "\n",
    "\n",
    "if len(false_positive_plot) > 0:\n",
    "    print(\"FALSE POSITVES\")\n",
    "    print(false_positive)\n",
    "    # print(false_positive.groupby(['event_idx'])['event_idx'].count())\n",
    "    false_positive.groupby(['event_idx'])['event_idx'].count().plot(kind='bar')\n",
    "    plt.show()\n",
    "    false_positive_plot.plot(kind=\"bar\", edgecolor=\"black\")\n",
    "    plt.show()\n",
    "    false_positive[\"Pred probability\"].value_counts(\n",
    "        bins = [i * 0.1 for i in range(5, 11)], sort=False, normalize=True\n",
    "    ).plot(kind=\"bar\")\n",
    "    plt.show()\n",
    "if len(false_negative_plot) > 0:\n",
    "    print(\"FALSE NEGATIVES\")\n",
    "    print(false_negative)\n",
    "    # print(false_negative.groupby(['event_idx'])['event_idx'].count())\n",
    "    false_negative.groupby(['event_idx'])['event_idx'].count().plot(kind='bar')\n",
    "    plt.show()\n",
    "\n",
    "    false_negative_plot.plot(kind=\"bar\", edgecolor=\"black\")\n",
    "    plt.show()\n",
    "    false_negative[\"Pred probability\"].value_counts(\n",
    "        bins = [i * 0.1 for i in range(6)], sort=False, normalize=True\n",
    "    ).plot(kind=\"bar\")\n",
    "    plt.show()\n",
    "\n",
    "\n",
    "\n",
    "\n",
    "plt.show()\n"
   ]
  },
  {
   "cell_type": "code",
   "execution_count": 128,
   "metadata": {},
   "outputs": [
    {
     "name": "stdout",
     "output_type": "stream",
     "text": [
      "[3303    0 3564  153 3456]\n",
      "Total windows:................7020\n",
      "True Positives:...............3303\n",
      "False Positives:..............   0\n",
      "True Negatives:...............3564\n",
      "False Negatives:.............. 153\n",
      "Accuracy:.....................  97.8%\n",
      "True Positive Rate:...........  95.6%\n",
      "False Positive Rate:..........   0.0%\n",
      "True Negative Rate:........... 100.0%\n",
      "Positive Predictive Value:.... 100.0%\n"
     ]
    },
    {
     "data": {
      "application/vnd.plotly.v1+json": {
       "config": {
        "plotlyServerURL": "https://plot.ly"
       },
       "data": [
        {
         "coloraxis": "coloraxis",
         "hovertemplate": "Predicted Label: %{x}<br>Real Label: %{y}<br>Predictions: %{z}<extra></extra>",
         "name": "0",
         "texttemplate": "%{z}",
         "type": "heatmap",
         "x": [
          "Positive",
          "Negative"
         ],
         "xaxis": "x",
         "y": [
          "Positive",
          "Negative"
         ],
         "yaxis": "y",
         "z": [
          [
           3303,
           153
          ],
          [
           0,
           3564
          ]
         ]
        }
       ],
       "layout": {
        "coloraxis": {
         "colorbar": {
          "title": {
           "text": "Predictions"
          }
         },
         "colorscale": [
          [
           0,
           "rgb(2,4,25)"
          ],
          [
           0.0625,
           "rgb(24,15,41)"
          ],
          [
           0.125,
           "rgb(47,23,57)"
          ],
          [
           0.1875,
           "rgb(71,28,72)"
          ],
          [
           0.25,
           "rgb(97,30,82)"
          ],
          [
           0.3125,
           "rgb(123,30,89)"
          ],
          [
           0.375,
           "rgb(150,27,91)"
          ],
          [
           0.4375,
           "rgb(177,22,88)"
          ],
          [
           0.5,
           "rgb(203,26,79)"
          ],
          [
           0.5625,
           "rgb(223,47,67)"
          ],
          [
           0.625,
           "rgb(236,76,61)"
          ],
          [
           0.6875,
           "rgb(242,107,73)"
          ],
          [
           0.75,
           "rgb(244,135,95)"
          ],
          [
           0.8125,
           "rgb(245,162,122)"
          ],
          [
           0.875,
           "rgb(246,188,153)"
          ],
          [
           0.9375,
           "rgb(247,212,187)"
          ],
          [
           1,
           "rgb(250,234,220)"
          ]
         ]
        },
        "height": 300,
        "margin": {
         "t": 60
        },
        "template": {
         "data": {
          "bar": [
           {
            "error_x": {
             "color": "rgb(36,36,36)"
            },
            "error_y": {
             "color": "rgb(36,36,36)"
            },
            "marker": {
             "line": {
              "color": "rgb(234,234,242)",
              "width": 0.5
             },
             "pattern": {
              "fillmode": "overlay",
              "size": 10,
              "solidity": 0.2
             }
            },
            "type": "bar"
           }
          ],
          "barpolar": [
           {
            "marker": {
             "line": {
              "color": "rgb(234,234,242)",
              "width": 0.5
             },
             "pattern": {
              "fillmode": "overlay",
              "size": 10,
              "solidity": 0.2
             }
            },
            "type": "barpolar"
           }
          ],
          "carpet": [
           {
            "aaxis": {
             "endlinecolor": "rgb(36,36,36)",
             "gridcolor": "white",
             "linecolor": "white",
             "minorgridcolor": "white",
             "startlinecolor": "rgb(36,36,36)"
            },
            "baxis": {
             "endlinecolor": "rgb(36,36,36)",
             "gridcolor": "white",
             "linecolor": "white",
             "minorgridcolor": "white",
             "startlinecolor": "rgb(36,36,36)"
            },
            "type": "carpet"
           }
          ],
          "choropleth": [
           {
            "colorbar": {
             "outlinewidth": 0,
             "tickcolor": "rgb(36,36,36)",
             "ticklen": 8,
             "ticks": "outside",
             "tickwidth": 2
            },
            "type": "choropleth"
           }
          ],
          "contour": [
           {
            "colorbar": {
             "outlinewidth": 0,
             "tickcolor": "rgb(36,36,36)",
             "ticklen": 8,
             "ticks": "outside",
             "tickwidth": 2
            },
            "colorscale": [
             [
              0,
              "rgb(2,4,25)"
             ],
             [
              0.06274509803921569,
              "rgb(24,15,41)"
             ],
             [
              0.12549019607843137,
              "rgb(47,23,57)"
             ],
             [
              0.18823529411764706,
              "rgb(71,28,72)"
             ],
             [
              0.25098039215686274,
              "rgb(97,30,82)"
             ],
             [
              0.3137254901960784,
              "rgb(123,30,89)"
             ],
             [
              0.3764705882352941,
              "rgb(150,27,91)"
             ],
             [
              0.4392156862745098,
              "rgb(177,22,88)"
             ],
             [
              0.5019607843137255,
              "rgb(203,26,79)"
             ],
             [
              0.5647058823529412,
              "rgb(223,47,67)"
             ],
             [
              0.6274509803921569,
              "rgb(236,76,61)"
             ],
             [
              0.6901960784313725,
              "rgb(242,107,73)"
             ],
             [
              0.7529411764705882,
              "rgb(244,135,95)"
             ],
             [
              0.8156862745098039,
              "rgb(245,162,122)"
             ],
             [
              0.8784313725490196,
              "rgb(246,188,153)"
             ],
             [
              0.9411764705882353,
              "rgb(247,212,187)"
             ],
             [
              1,
              "rgb(250,234,220)"
             ]
            ],
            "type": "contour"
           }
          ],
          "contourcarpet": [
           {
            "colorbar": {
             "outlinewidth": 0,
             "tickcolor": "rgb(36,36,36)",
             "ticklen": 8,
             "ticks": "outside",
             "tickwidth": 2
            },
            "type": "contourcarpet"
           }
          ],
          "heatmap": [
           {
            "colorbar": {
             "outlinewidth": 0,
             "tickcolor": "rgb(36,36,36)",
             "ticklen": 8,
             "ticks": "outside",
             "tickwidth": 2
            },
            "colorscale": [
             [
              0,
              "rgb(2,4,25)"
             ],
             [
              0.06274509803921569,
              "rgb(24,15,41)"
             ],
             [
              0.12549019607843137,
              "rgb(47,23,57)"
             ],
             [
              0.18823529411764706,
              "rgb(71,28,72)"
             ],
             [
              0.25098039215686274,
              "rgb(97,30,82)"
             ],
             [
              0.3137254901960784,
              "rgb(123,30,89)"
             ],
             [
              0.3764705882352941,
              "rgb(150,27,91)"
             ],
             [
              0.4392156862745098,
              "rgb(177,22,88)"
             ],
             [
              0.5019607843137255,
              "rgb(203,26,79)"
             ],
             [
              0.5647058823529412,
              "rgb(223,47,67)"
             ],
             [
              0.6274509803921569,
              "rgb(236,76,61)"
             ],
             [
              0.6901960784313725,
              "rgb(242,107,73)"
             ],
             [
              0.7529411764705882,
              "rgb(244,135,95)"
             ],
             [
              0.8156862745098039,
              "rgb(245,162,122)"
             ],
             [
              0.8784313725490196,
              "rgb(246,188,153)"
             ],
             [
              0.9411764705882353,
              "rgb(247,212,187)"
             ],
             [
              1,
              "rgb(250,234,220)"
             ]
            ],
            "type": "heatmap"
           }
          ],
          "heatmapgl": [
           {
            "colorbar": {
             "outlinewidth": 0,
             "tickcolor": "rgb(36,36,36)",
             "ticklen": 8,
             "ticks": "outside",
             "tickwidth": 2
            },
            "colorscale": [
             [
              0,
              "rgb(2,4,25)"
             ],
             [
              0.06274509803921569,
              "rgb(24,15,41)"
             ],
             [
              0.12549019607843137,
              "rgb(47,23,57)"
             ],
             [
              0.18823529411764706,
              "rgb(71,28,72)"
             ],
             [
              0.25098039215686274,
              "rgb(97,30,82)"
             ],
             [
              0.3137254901960784,
              "rgb(123,30,89)"
             ],
             [
              0.3764705882352941,
              "rgb(150,27,91)"
             ],
             [
              0.4392156862745098,
              "rgb(177,22,88)"
             ],
             [
              0.5019607843137255,
              "rgb(203,26,79)"
             ],
             [
              0.5647058823529412,
              "rgb(223,47,67)"
             ],
             [
              0.6274509803921569,
              "rgb(236,76,61)"
             ],
             [
              0.6901960784313725,
              "rgb(242,107,73)"
             ],
             [
              0.7529411764705882,
              "rgb(244,135,95)"
             ],
             [
              0.8156862745098039,
              "rgb(245,162,122)"
             ],
             [
              0.8784313725490196,
              "rgb(246,188,153)"
             ],
             [
              0.9411764705882353,
              "rgb(247,212,187)"
             ],
             [
              1,
              "rgb(250,234,220)"
             ]
            ],
            "type": "heatmapgl"
           }
          ],
          "histogram": [
           {
            "marker": {
             "pattern": {
              "fillmode": "overlay",
              "size": 10,
              "solidity": 0.2
             }
            },
            "type": "histogram"
           }
          ],
          "histogram2d": [
           {
            "colorbar": {
             "outlinewidth": 0,
             "tickcolor": "rgb(36,36,36)",
             "ticklen": 8,
             "ticks": "outside",
             "tickwidth": 2
            },
            "colorscale": [
             [
              0,
              "rgb(2,4,25)"
             ],
             [
              0.06274509803921569,
              "rgb(24,15,41)"
             ],
             [
              0.12549019607843137,
              "rgb(47,23,57)"
             ],
             [
              0.18823529411764706,
              "rgb(71,28,72)"
             ],
             [
              0.25098039215686274,
              "rgb(97,30,82)"
             ],
             [
              0.3137254901960784,
              "rgb(123,30,89)"
             ],
             [
              0.3764705882352941,
              "rgb(150,27,91)"
             ],
             [
              0.4392156862745098,
              "rgb(177,22,88)"
             ],
             [
              0.5019607843137255,
              "rgb(203,26,79)"
             ],
             [
              0.5647058823529412,
              "rgb(223,47,67)"
             ],
             [
              0.6274509803921569,
              "rgb(236,76,61)"
             ],
             [
              0.6901960784313725,
              "rgb(242,107,73)"
             ],
             [
              0.7529411764705882,
              "rgb(244,135,95)"
             ],
             [
              0.8156862745098039,
              "rgb(245,162,122)"
             ],
             [
              0.8784313725490196,
              "rgb(246,188,153)"
             ],
             [
              0.9411764705882353,
              "rgb(247,212,187)"
             ],
             [
              1,
              "rgb(250,234,220)"
             ]
            ],
            "type": "histogram2d"
           }
          ],
          "histogram2dcontour": [
           {
            "colorbar": {
             "outlinewidth": 0,
             "tickcolor": "rgb(36,36,36)",
             "ticklen": 8,
             "ticks": "outside",
             "tickwidth": 2
            },
            "colorscale": [
             [
              0,
              "rgb(2,4,25)"
             ],
             [
              0.06274509803921569,
              "rgb(24,15,41)"
             ],
             [
              0.12549019607843137,
              "rgb(47,23,57)"
             ],
             [
              0.18823529411764706,
              "rgb(71,28,72)"
             ],
             [
              0.25098039215686274,
              "rgb(97,30,82)"
             ],
             [
              0.3137254901960784,
              "rgb(123,30,89)"
             ],
             [
              0.3764705882352941,
              "rgb(150,27,91)"
             ],
             [
              0.4392156862745098,
              "rgb(177,22,88)"
             ],
             [
              0.5019607843137255,
              "rgb(203,26,79)"
             ],
             [
              0.5647058823529412,
              "rgb(223,47,67)"
             ],
             [
              0.6274509803921569,
              "rgb(236,76,61)"
             ],
             [
              0.6901960784313725,
              "rgb(242,107,73)"
             ],
             [
              0.7529411764705882,
              "rgb(244,135,95)"
             ],
             [
              0.8156862745098039,
              "rgb(245,162,122)"
             ],
             [
              0.8784313725490196,
              "rgb(246,188,153)"
             ],
             [
              0.9411764705882353,
              "rgb(247,212,187)"
             ],
             [
              1,
              "rgb(250,234,220)"
             ]
            ],
            "type": "histogram2dcontour"
           }
          ],
          "mesh3d": [
           {
            "colorbar": {
             "outlinewidth": 0,
             "tickcolor": "rgb(36,36,36)",
             "ticklen": 8,
             "ticks": "outside",
             "tickwidth": 2
            },
            "type": "mesh3d"
           }
          ],
          "parcoords": [
           {
            "line": {
             "colorbar": {
              "outlinewidth": 0,
              "tickcolor": "rgb(36,36,36)",
              "ticklen": 8,
              "ticks": "outside",
              "tickwidth": 2
             }
            },
            "type": "parcoords"
           }
          ],
          "pie": [
           {
            "automargin": true,
            "type": "pie"
           }
          ],
          "scatter": [
           {
            "fillpattern": {
             "fillmode": "overlay",
             "size": 10,
             "solidity": 0.2
            },
            "type": "scatter"
           }
          ],
          "scatter3d": [
           {
            "line": {
             "colorbar": {
              "outlinewidth": 0,
              "tickcolor": "rgb(36,36,36)",
              "ticklen": 8,
              "ticks": "outside",
              "tickwidth": 2
             }
            },
            "marker": {
             "colorbar": {
              "outlinewidth": 0,
              "tickcolor": "rgb(36,36,36)",
              "ticklen": 8,
              "ticks": "outside",
              "tickwidth": 2
             }
            },
            "type": "scatter3d"
           }
          ],
          "scattercarpet": [
           {
            "marker": {
             "colorbar": {
              "outlinewidth": 0,
              "tickcolor": "rgb(36,36,36)",
              "ticklen": 8,
              "ticks": "outside",
              "tickwidth": 2
             }
            },
            "type": "scattercarpet"
           }
          ],
          "scattergeo": [
           {
            "marker": {
             "colorbar": {
              "outlinewidth": 0,
              "tickcolor": "rgb(36,36,36)",
              "ticklen": 8,
              "ticks": "outside",
              "tickwidth": 2
             }
            },
            "type": "scattergeo"
           }
          ],
          "scattergl": [
           {
            "marker": {
             "colorbar": {
              "outlinewidth": 0,
              "tickcolor": "rgb(36,36,36)",
              "ticklen": 8,
              "ticks": "outside",
              "tickwidth": 2
             }
            },
            "type": "scattergl"
           }
          ],
          "scattermapbox": [
           {
            "marker": {
             "colorbar": {
              "outlinewidth": 0,
              "tickcolor": "rgb(36,36,36)",
              "ticklen": 8,
              "ticks": "outside",
              "tickwidth": 2
             }
            },
            "type": "scattermapbox"
           }
          ],
          "scatterpolar": [
           {
            "marker": {
             "colorbar": {
              "outlinewidth": 0,
              "tickcolor": "rgb(36,36,36)",
              "ticklen": 8,
              "ticks": "outside",
              "tickwidth": 2
             }
            },
            "type": "scatterpolar"
           }
          ],
          "scatterpolargl": [
           {
            "marker": {
             "colorbar": {
              "outlinewidth": 0,
              "tickcolor": "rgb(36,36,36)",
              "ticklen": 8,
              "ticks": "outside",
              "tickwidth": 2
             }
            },
            "type": "scatterpolargl"
           }
          ],
          "scatterternary": [
           {
            "marker": {
             "colorbar": {
              "outlinewidth": 0,
              "tickcolor": "rgb(36,36,36)",
              "ticklen": 8,
              "ticks": "outside",
              "tickwidth": 2
             }
            },
            "type": "scatterternary"
           }
          ],
          "surface": [
           {
            "colorbar": {
             "outlinewidth": 0,
             "tickcolor": "rgb(36,36,36)",
             "ticklen": 8,
             "ticks": "outside",
             "tickwidth": 2
            },
            "colorscale": [
             [
              0,
              "rgb(2,4,25)"
             ],
             [
              0.06274509803921569,
              "rgb(24,15,41)"
             ],
             [
              0.12549019607843137,
              "rgb(47,23,57)"
             ],
             [
              0.18823529411764706,
              "rgb(71,28,72)"
             ],
             [
              0.25098039215686274,
              "rgb(97,30,82)"
             ],
             [
              0.3137254901960784,
              "rgb(123,30,89)"
             ],
             [
              0.3764705882352941,
              "rgb(150,27,91)"
             ],
             [
              0.4392156862745098,
              "rgb(177,22,88)"
             ],
             [
              0.5019607843137255,
              "rgb(203,26,79)"
             ],
             [
              0.5647058823529412,
              "rgb(223,47,67)"
             ],
             [
              0.6274509803921569,
              "rgb(236,76,61)"
             ],
             [
              0.6901960784313725,
              "rgb(242,107,73)"
             ],
             [
              0.7529411764705882,
              "rgb(244,135,95)"
             ],
             [
              0.8156862745098039,
              "rgb(245,162,122)"
             ],
             [
              0.8784313725490196,
              "rgb(246,188,153)"
             ],
             [
              0.9411764705882353,
              "rgb(247,212,187)"
             ],
             [
              1,
              "rgb(250,234,220)"
             ]
            ],
            "type": "surface"
           }
          ],
          "table": [
           {
            "cells": {
             "fill": {
              "color": "rgb(231,231,240)"
             },
             "line": {
              "color": "white"
             }
            },
            "header": {
             "fill": {
              "color": "rgb(183,183,191)"
             },
             "line": {
              "color": "white"
             }
            },
            "type": "table"
           }
          ]
         },
         "layout": {
          "annotationdefaults": {
           "arrowcolor": "rgb(67,103,167)"
          },
          "autotypenumbers": "strict",
          "coloraxis": {
           "colorbar": {
            "outlinewidth": 0,
            "tickcolor": "rgb(36,36,36)",
            "ticklen": 8,
            "ticks": "outside",
            "tickwidth": 2
           }
          },
          "colorscale": {
           "sequential": [
            [
             0,
             "rgb(2,4,25)"
            ],
            [
             0.06274509803921569,
             "rgb(24,15,41)"
            ],
            [
             0.12549019607843137,
             "rgb(47,23,57)"
            ],
            [
             0.18823529411764706,
             "rgb(71,28,72)"
            ],
            [
             0.25098039215686274,
             "rgb(97,30,82)"
            ],
            [
             0.3137254901960784,
             "rgb(123,30,89)"
            ],
            [
             0.3764705882352941,
             "rgb(150,27,91)"
            ],
            [
             0.4392156862745098,
             "rgb(177,22,88)"
            ],
            [
             0.5019607843137255,
             "rgb(203,26,79)"
            ],
            [
             0.5647058823529412,
             "rgb(223,47,67)"
            ],
            [
             0.6274509803921569,
             "rgb(236,76,61)"
            ],
            [
             0.6901960784313725,
             "rgb(242,107,73)"
            ],
            [
             0.7529411764705882,
             "rgb(244,135,95)"
            ],
            [
             0.8156862745098039,
             "rgb(245,162,122)"
            ],
            [
             0.8784313725490196,
             "rgb(246,188,153)"
            ],
            [
             0.9411764705882353,
             "rgb(247,212,187)"
            ],
            [
             1,
             "rgb(250,234,220)"
            ]
           ],
           "sequentialminus": [
            [
             0,
             "rgb(2,4,25)"
            ],
            [
             0.06274509803921569,
             "rgb(24,15,41)"
            ],
            [
             0.12549019607843137,
             "rgb(47,23,57)"
            ],
            [
             0.18823529411764706,
             "rgb(71,28,72)"
            ],
            [
             0.25098039215686274,
             "rgb(97,30,82)"
            ],
            [
             0.3137254901960784,
             "rgb(123,30,89)"
            ],
            [
             0.3764705882352941,
             "rgb(150,27,91)"
            ],
            [
             0.4392156862745098,
             "rgb(177,22,88)"
            ],
            [
             0.5019607843137255,
             "rgb(203,26,79)"
            ],
            [
             0.5647058823529412,
             "rgb(223,47,67)"
            ],
            [
             0.6274509803921569,
             "rgb(236,76,61)"
            ],
            [
             0.6901960784313725,
             "rgb(242,107,73)"
            ],
            [
             0.7529411764705882,
             "rgb(244,135,95)"
            ],
            [
             0.8156862745098039,
             "rgb(245,162,122)"
            ],
            [
             0.8784313725490196,
             "rgb(246,188,153)"
            ],
            [
             0.9411764705882353,
             "rgb(247,212,187)"
            ],
            [
             1,
             "rgb(250,234,220)"
            ]
           ]
          },
          "colorway": [
           "rgb(76,114,176)",
           "rgb(221,132,82)",
           "rgb(85,168,104)",
           "rgb(196,78,82)",
           "rgb(129,114,179)",
           "rgb(147,120,96)",
           "rgb(218,139,195)",
           "rgb(140,140,140)",
           "rgb(204,185,116)",
           "rgb(100,181,205)"
          ],
          "font": {
           "color": "rgb(36,36,36)"
          },
          "geo": {
           "bgcolor": "white",
           "lakecolor": "white",
           "landcolor": "rgb(234,234,242)",
           "showlakes": true,
           "showland": true,
           "subunitcolor": "white"
          },
          "hoverlabel": {
           "align": "left"
          },
          "hovermode": "closest",
          "paper_bgcolor": "white",
          "plot_bgcolor": "rgb(234,234,242)",
          "polar": {
           "angularaxis": {
            "gridcolor": "white",
            "linecolor": "white",
            "showgrid": true,
            "ticks": ""
           },
           "bgcolor": "rgb(234,234,242)",
           "radialaxis": {
            "gridcolor": "white",
            "linecolor": "white",
            "showgrid": true,
            "ticks": ""
           }
          },
          "scene": {
           "xaxis": {
            "backgroundcolor": "rgb(234,234,242)",
            "gridcolor": "white",
            "gridwidth": 2,
            "linecolor": "white",
            "showbackground": true,
            "showgrid": true,
            "ticks": "",
            "zerolinecolor": "white"
           },
           "yaxis": {
            "backgroundcolor": "rgb(234,234,242)",
            "gridcolor": "white",
            "gridwidth": 2,
            "linecolor": "white",
            "showbackground": true,
            "showgrid": true,
            "ticks": "",
            "zerolinecolor": "white"
           },
           "zaxis": {
            "backgroundcolor": "rgb(234,234,242)",
            "gridcolor": "white",
            "gridwidth": 2,
            "linecolor": "white",
            "showbackground": true,
            "showgrid": true,
            "ticks": "",
            "zerolinecolor": "white"
           }
          },
          "shapedefaults": {
           "fillcolor": "rgb(67,103,167)",
           "line": {
            "width": 0
           },
           "opacity": 0.5
          },
          "ternary": {
           "aaxis": {
            "gridcolor": "white",
            "linecolor": "white",
            "showgrid": true,
            "ticks": ""
           },
           "baxis": {
            "gridcolor": "white",
            "linecolor": "white",
            "showgrid": true,
            "ticks": ""
           },
           "bgcolor": "rgb(234,234,242)",
           "caxis": {
            "gridcolor": "white",
            "linecolor": "white",
            "showgrid": true,
            "ticks": ""
           }
          },
          "xaxis": {
           "automargin": true,
           "gridcolor": "white",
           "linecolor": "white",
           "showgrid": true,
           "ticks": "",
           "title": {
            "standoff": 15
           },
           "zerolinecolor": "white"
          },
          "yaxis": {
           "automargin": true,
           "gridcolor": "white",
           "linecolor": "white",
           "showgrid": true,
           "ticks": "",
           "title": {
            "standoff": 15
           },
           "zerolinecolor": "white"
          }
         }
        },
        "width": 400,
        "xaxis": {
         "anchor": "y",
         "constrain": "domain",
         "domain": [
          0,
          1
         ],
         "scaleanchor": "y",
         "title": {
          "text": "Predicted Label"
         }
        },
        "yaxis": {
         "anchor": "x",
         "autorange": "reversed",
         "constrain": "domain",
         "domain": [
          0,
          1
         ],
         "title": {
          "text": "Real Label"
         }
        }
       }
      }
     },
     "metadata": {},
     "output_type": "display_data"
    }
   ],
   "source": [
    "print(conf_matrix_total)\n",
    "metrics = conf_matrix_metrics(conf_matrix_total)\n",
    "print_metrics(metrics)\n",
    "plot_confusion_matrix(metrics)\n"
   ]
  },
  {
   "attachments": {},
   "cell_type": "markdown",
   "metadata": {},
   "source": [
    "##### 7.6. Save Dataframe and Confusion Matrix"
   ]
  },
  {
   "cell_type": "code",
   "execution_count": 108,
   "metadata": {},
   "outputs": [],
   "source": [
    "# dataset_df.to_parquet('parquet_data/ModelR1_R1_df.parquet')\n",
    "# conf_matrix_df = pd.DataFrame(conf_matrix.cpu(), columns = ['TP','FP','TF', 'FN', 'TP + FN'])\n",
    "# conf_matrix_df.to_parquet('parquet_data/ModelR1_R1_CM_df.parquet')\n",
    "# np.save('parquet_data/ModelR1_R1_CM.npy', conf_matrix.cpu())"
   ]
  },
  {
   "attachments": {},
   "cell_type": "markdown",
   "metadata": {},
   "source": [
    "##### 7.7. Individual Sample Visualization"
   ]
  },
  {
   "cell_type": "code",
   "execution_count": 138,
   "metadata": {},
   "outputs": [
    {
     "name": "stdout",
     "output_type": "stream",
     "text": [
      "C:/Users/aherrada/OneDrive - Universidad del Norte/Uninorte/DetectionDataBase/LSTM_form_1/R1\\Fault01_B802_RF80.csv\n"
     ]
    },
    {
     "data": {
      "image/png": "[encoded data removed]",
      "text/plain": [
       "<Figure size 640x480 with 1 Axes>"
      ]
     },
     "metadata": {},
     "output_type": "display_data"
    },
    {
     "name": "stdout",
     "output_type": "stream",
     "text": [
      "Confusion Matrix: tensor([[10,  4, 62, 54, 64]], device='cuda:0')\n",
      "     event_idx  Pred probability  Pred label  True label Result\n",
      "0           23            18.37%           0           0     TN\n",
      "1           23            17.95%           0           0     TN\n",
      "2           23            17.67%           0           0     TN\n",
      "3           23            17.57%           0           0     TN\n",
      "4           23            17.67%           0           0     TN\n",
      "5           23            14.20%           0           0     TN\n",
      "6           23            29.45%           0           0     TN\n",
      "7           23            37.82%           0           0     TN\n",
      "8           23            41.51%           0           0     TN\n",
      "9           23            42.40%           0           0     TN\n",
      "10          23            46.93%           0           0     TN\n",
      "11          23            51.69%           1           0     FP\n",
      "12          23            54.16%           1           0     FP\n",
      "13          23            53.64%           1           0     FP\n",
      "14          23            44.76%           0           0     TN\n",
      "15          23            43.60%           0           0     TN\n",
      "16          23            28.56%           0           0     TN\n",
      "17          23            25.72%           0           0     TN\n",
      "18          23            20.95%           0           0     TN\n",
      "19          23            18.21%           0           0     TN\n",
      "20          23            17.93%           0           0     TN\n",
      "21          23            18.07%           0           0     TN\n",
      "22          23            18.09%           0           0     TN\n",
      "23          23            17.90%           0           0     TN\n",
      "24          23            17.57%           0           0     TN\n",
      "25          23            17.08%           0           0     TN\n",
      "26          23            16.47%           0           0     TN\n",
      "27          23            15.75%           0           0     TN\n",
      "28          23            14.96%           0           0     TN\n",
      "29          23            14.18%           0           0     TN\n",
      "30          23            13.45%           0           0     TN\n",
      "31          23            12.86%           0           0     TN\n",
      "32          23            12.45%           0           0     TN\n",
      "33          23            12.31%           0           0     TN\n",
      "34          23            12.50%           0           0     TN\n",
      "35          23            12.57%           0           0     TN\n",
      "36          23            12.53%           0           0     TN\n",
      "37          23            13.49%           0           0     TN\n",
      "38          23            15.29%           0           0     TN\n",
      "39          23            17.54%           0           0     TN\n",
      "40          23            20.19%           0           0     TN\n",
      "41          23            23.22%           0           0     TN\n",
      "42          23            26.65%           0           0     TN\n",
      "43          23            30.52%           0           0     TN\n",
      "44          23            34.76%           0           0     TN\n",
      "45          23            39.03%           0           0     TN\n",
      "46          23            43.24%           0           0     TN\n",
      "47          23            48.78%           0           0     TN\n",
      "48          23            50.46%           1           0     FP\n",
      "49          23            49.30%           0           0     TN\n",
      "50          23            42.75%           0           0     TN\n",
      "51          23            34.91%           0           0     TN\n",
      "52          23            29.68%           0           0     TN\n",
      "53          23            27.30%           0           0     TN\n",
      "54          23            26.43%           0           0     TN\n",
      "55          23            25.88%           0           0     TN\n",
      "56          23            25.03%           0           0     TN\n",
      "57          23            23.81%           0           0     TN\n",
      "58          23            22.50%           0           0     TN\n",
      "59          23            21.37%           0           0     TN\n",
      "60          23            20.52%           0           0     TN\n",
      "61          23            19.84%           0           0     TN\n",
      "62          23            19.28%           0           0     TN\n",
      "63          23            18.76%           0           0     TN\n",
      "64          23            18.30%           0           0     TN\n",
      "65          23            17.90%           0           0     TN\n",
      "66          23            17.42%           0           1     FN\n",
      "67          23            17.70%           0           1     FN\n",
      "68          23            18.37%           0           1     FN\n",
      "69          23            15.03%           0           1     FN\n",
      "70          23            30.57%           0           1     FN\n",
      "71          23            37.24%           0           1     FN\n",
      "72          23            45.29%           0           1     FN\n",
      "73          23            51.36%           1           1     TP\n",
      "74          23            56.22%           1           1     TP\n",
      "75          23            59.35%           1           1     TP\n",
      "76          23            59.95%           1           1     TP\n",
      "77          23            56.89%           1           1     TP\n",
      "78          23            48.03%           0           1     FN\n",
      "79          23            52.65%           1           1     TP\n",
      "80          23            35.00%           0           1     FN\n",
      "81          23            31.03%           0           1     FN\n",
      "82          23            28.69%           0           1     FN\n",
      "83          23            23.89%           0           1     FN\n",
      "84          23            21.00%           0           1     FN\n",
      "85          23            20.58%           0           1     FN\n",
      "86          23            21.02%           0           1     FN\n",
      "87          23            21.06%           0           1     FN\n",
      "88          23            20.89%           0           1     FN\n",
      "89          23            20.35%           0           1     FN\n",
      "90          23            19.93%           0           1     FN\n",
      "91          23            19.28%           0           1     FN\n",
      "92          23            18.66%           0           1     FN\n",
      "93          23            17.86%           0           1     FN\n",
      "94          23            17.10%           0           1     FN\n",
      "95          23            16.36%           0           1     FN\n",
      "96          23            15.78%           0           1     FN\n",
      "97          23            15.48%           0           1     FN\n",
      "98          23            15.56%           0           1     FN\n",
      "99          23            15.12%           0           1     FN\n",
      "100         23            14.29%           0           1     FN\n",
      "101         23            14.53%           0           1     FN\n",
      "102         23            37.04%           0           1     FN\n",
      "103         23            57.17%           1           1     TP\n",
      "104         23            60.45%           1           1     TP\n",
      "105         23            55.88%           1           1     TP\n",
      "106         23            47.58%           0           1     FN\n",
      "107         23            42.17%           0           1     FN\n",
      "108         23            24.35%           0           1     FN\n",
      "109         23            33.11%           0           1     FN\n",
      "110         23            37.82%           0           1     FN\n",
      "111         23            45.60%           0           1     FN\n",
      "112         23            46.03%           0           1     FN\n",
      "113         23            49.83%           0           1     FN\n",
      "114         23            52.80%           1           1     TP\n",
      "115         23            49.90%           0           1     FN\n",
      "116         23            42.81%           0           1     FN\n",
      "117         23            36.18%           0           1     FN\n",
      "118         23            32.44%           0           1     FN\n",
      "119         23            31.14%           0           1     FN\n",
      "120         23            31.04%           0           1     FN\n",
      "121         23            31.01%           0           1     FN\n",
      "122         23            30.42%           0           1     FN\n",
      "123         23            29.16%           0           1     FN\n",
      "124         23            27.47%           0           1     FN\n",
      "125         23            25.81%           0           1     FN\n",
      "126         23            24.45%           0           1     FN\n",
      "127         23            23.48%           0           1     FN\n",
      "128         23            22.81%           0           1     FN\n",
      "129         23            22.42%           0           1     FN\n"
     ]
    },
    {
     "data": {
      "application/vnd.plotly.v1+json": {
       "config": {
        "plotlyServerURL": "https://plot.ly"
       },
       "data": [
        {
         "coloraxis": "coloraxis",
         "hovertemplate": "Predicted Label: %{x}<br>Real Label: %{y}<br>Predictions: %{z}<extra></extra>",
         "name": "0",
         "texttemplate": "%{z}",
         "type": "heatmap",
         "x": [
          "Positive",
          "Negative"
         ],
         "xaxis": "x",
         "y": [
          "Positive",
          "Negative"
         ],
         "yaxis": "y",
         "z": [
          [
           10,
           54
          ],
          [
           4,
           62
          ]
         ]
        }
       ],
       "layout": {
        "coloraxis": {
         "colorbar": {
          "title": {
           "text": "Predictions"
          }
         },
         "colorscale": [
          [
           0,
           "rgb(2,4,25)"
          ],
          [
           0.0625,
           "rgb(24,15,41)"
          ],
          [
           0.125,
           "rgb(47,23,57)"
          ],
          [
           0.1875,
           "rgb(71,28,72)"
          ],
          [
           0.25,
           "rgb(97,30,82)"
          ],
          [
           0.3125,
           "rgb(123,30,89)"
          ],
          [
           0.375,
           "rgb(150,27,91)"
          ],
          [
           0.4375,
           "rgb(177,22,88)"
          ],
          [
           0.5,
           "rgb(203,26,79)"
          ],
          [
           0.5625,
           "rgb(223,47,67)"
          ],
          [
           0.625,
           "rgb(236,76,61)"
          ],
          [
           0.6875,
           "rgb(242,107,73)"
          ],
          [
           0.75,
           "rgb(244,135,95)"
          ],
          [
           0.8125,
           "rgb(245,162,122)"
          ],
          [
           0.875,
           "rgb(246,188,153)"
          ],
          [
           0.9375,
           "rgb(247,212,187)"
          ],
          [
           1,
           "rgb(250,234,220)"
          ]
         ]
        },
        "height": 300,
        "margin": {
         "t": 60
        },
        "template": {
         "data": {
          "bar": [
           {
            "error_x": {
             "color": "rgb(36,36,36)"
            },
            "error_y": {
             "color": "rgb(36,36,36)"
            },
            "marker": {
             "line": {
              "color": "rgb(234,234,242)",
              "width": 0.5
             },
             "pattern": {
              "fillmode": "overlay",
              "size": 10,
              "solidity": 0.2
             }
            },
            "type": "bar"
           }
          ],
          "barpolar": [
           {
            "marker": {
             "line": {
              "color": "rgb(234,234,242)",
              "width": 0.5
             },
             "pattern": {
              "fillmode": "overlay",
              "size": 10,
              "solidity": 0.2
             }
            },
            "type": "barpolar"
           }
          ],
          "carpet": [
           {
            "aaxis": {
             "endlinecolor": "rgb(36,36,36)",
             "gridcolor": "white",
             "linecolor": "white",
             "minorgridcolor": "white",
             "startlinecolor": "rgb(36,36,36)"
            },
            "baxis": {
             "endlinecolor": "rgb(36,36,36)",
             "gridcolor": "white",
             "linecolor": "white",
             "minorgridcolor": "white",
             "startlinecolor": "rgb(36,36,36)"
            },
            "type": "carpet"
           }
          ],
          "choropleth": [
           {
            "colorbar": {
             "outlinewidth": 0,
             "tickcolor": "rgb(36,36,36)",
             "ticklen": 8,
             "ticks": "outside",
             "tickwidth": 2
            },
            "type": "choropleth"
           }
          ],
          "contour": [
           {
            "colorbar": {
             "outlinewidth": 0,
             "tickcolor": "rgb(36,36,36)",
             "ticklen": 8,
             "ticks": "outside",
             "tickwidth": 2
            },
            "colorscale": [
             [
              0,
              "rgb(2,4,25)"
             ],
             [
              0.06274509803921569,
              "rgb(24,15,41)"
             ],
             [
              0.12549019607843137,
              "rgb(47,23,57)"
             ],
             [
              0.18823529411764706,
              "rgb(71,28,72)"
             ],
             [
              0.25098039215686274,
              "rgb(97,30,82)"
             ],
             [
              0.3137254901960784,
              "rgb(123,30,89)"
             ],
             [
              0.3764705882352941,
              "rgb(150,27,91)"
             ],
             [
              0.4392156862745098,
              "rgb(177,22,88)"
             ],
             [
              0.5019607843137255,
              "rgb(203,26,79)"
             ],
             [
              0.5647058823529412,
              "rgb(223,47,67)"
             ],
             [
              0.6274509803921569,
              "rgb(236,76,61)"
             ],
             [
              0.6901960784313725,
              "rgb(242,107,73)"
             ],
             [
              0.7529411764705882,
              "rgb(244,135,95)"
             ],
             [
              0.8156862745098039,
              "rgb(245,162,122)"
             ],
             [
              0.8784313725490196,
              "rgb(246,188,153)"
             ],
             [
              0.9411764705882353,
              "rgb(247,212,187)"
             ],
             [
              1,
              "rgb(250,234,220)"
             ]
            ],
            "type": "contour"
           }
          ],
          "contourcarpet": [
           {
            "colorbar": {
             "outlinewidth": 0,
             "tickcolor": "rgb(36,36,36)",
             "ticklen": 8,
             "ticks": "outside",
             "tickwidth": 2
            },
            "type": "contourcarpet"
           }
          ],
          "heatmap": [
           {
            "colorbar": {
             "outlinewidth": 0,
             "tickcolor": "rgb(36,36,36)",
             "ticklen": 8,
             "ticks": "outside",
             "tickwidth": 2
            },
            "colorscale": [
             [
              0,
              "rgb(2,4,25)"
             ],
             [
              0.06274509803921569,
              "rgb(24,15,41)"
             ],
             [
              0.12549019607843137,
              "rgb(47,23,57)"
             ],
             [
              0.18823529411764706,
              "rgb(71,28,72)"
             ],
             [
              0.25098039215686274,
              "rgb(97,30,82)"
             ],
             [
              0.3137254901960784,
              "rgb(123,30,89)"
             ],
             [
              0.3764705882352941,
              "rgb(150,27,91)"
             ],
             [
              0.4392156862745098,
              "rgb(177,22,88)"
             ],
             [
              0.5019607843137255,
              "rgb(203,26,79)"
             ],
             [
              0.5647058823529412,
              "rgb(223,47,67)"
             ],
             [
              0.6274509803921569,
              "rgb(236,76,61)"
             ],
             [
              0.6901960784313725,
              "rgb(242,107,73)"
             ],
             [
              0.7529411764705882,
              "rgb(244,135,95)"
             ],
             [
              0.8156862745098039,
              "rgb(245,162,122)"
             ],
             [
              0.8784313725490196,
              "rgb(246,188,153)"
             ],
             [
              0.9411764705882353,
              "rgb(247,212,187)"
             ],
             [
              1,
              "rgb(250,234,220)"
             ]
            ],
            "type": "heatmap"
           }
          ],
          "heatmapgl": [
           {
            "colorbar": {
             "outlinewidth": 0,
             "tickcolor": "rgb(36,36,36)",
             "ticklen": 8,
             "ticks": "outside",
             "tickwidth": 2
            },
            "colorscale": [
             [
              0,
              "rgb(2,4,25)"
             ],
             [
              0.06274509803921569,
              "rgb(24,15,41)"
             ],
             [
              0.12549019607843137,
              "rgb(47,23,57)"
             ],
             [
              0.18823529411764706,
              "rgb(71,28,72)"
             ],
             [
              0.25098039215686274,
              "rgb(97,30,82)"
             ],
             [
              0.3137254901960784,
              "rgb(123,30,89)"
             ],
             [
              0.3764705882352941,
              "rgb(150,27,91)"
             ],
             [
              0.4392156862745098,
              "rgb(177,22,88)"
             ],
             [
              0.5019607843137255,
              "rgb(203,26,79)"
             ],
             [
              0.5647058823529412,
              "rgb(223,47,67)"
             ],
             [
              0.6274509803921569,
              "rgb(236,76,61)"
             ],
             [
              0.6901960784313725,
              "rgb(242,107,73)"
             ],
             [
              0.7529411764705882,
              "rgb(244,135,95)"
             ],
             [
              0.8156862745098039,
              "rgb(245,162,122)"
             ],
             [
              0.8784313725490196,
              "rgb(246,188,153)"
             ],
             [
              0.9411764705882353,
              "rgb(247,212,187)"
             ],
             [
              1,
              "rgb(250,234,220)"
             ]
            ],
            "type": "heatmapgl"
           }
          ],
          "histogram": [
           {
            "marker": {
             "pattern": {
              "fillmode": "overlay",
              "size": 10,
              "solidity": 0.2
             }
            },
            "type": "histogram"
           }
          ],
          "histogram2d": [
           {
            "colorbar": {
             "outlinewidth": 0,
             "tickcolor": "rgb(36,36,36)",
             "ticklen": 8,
             "ticks": "outside",
             "tickwidth": 2
            },
            "colorscale": [
             [
              0,
              "rgb(2,4,25)"
             ],
             [
              0.06274509803921569,
              "rgb(24,15,41)"
             ],
             [
              0.12549019607843137,
              "rgb(47,23,57)"
             ],
             [
              0.18823529411764706,
              "rgb(71,28,72)"
             ],
             [
              0.25098039215686274,
              "rgb(97,30,82)"
             ],
             [
              0.3137254901960784,
              "rgb(123,30,89)"
             ],
             [
              0.3764705882352941,
              "rgb(150,27,91)"
             ],
             [
              0.4392156862745098,
              "rgb(177,22,88)"
             ],
             [
              0.5019607843137255,
              "rgb(203,26,79)"
             ],
             [
              0.5647058823529412,
              "rgb(223,47,67)"
             ],
             [
              0.6274509803921569,
              "rgb(236,76,61)"
             ],
             [
              0.6901960784313725,
              "rgb(242,107,73)"
             ],
             [
              0.7529411764705882,
              "rgb(244,135,95)"
             ],
             [
              0.8156862745098039,
              "rgb(245,162,122)"
             ],
             [
              0.8784313725490196,
              "rgb(246,188,153)"
             ],
             [
              0.9411764705882353,
              "rgb(247,212,187)"
             ],
             [
              1,
              "rgb(250,234,220)"
             ]
            ],
            "type": "histogram2d"
           }
          ],
          "histogram2dcontour": [
           {
            "colorbar": {
             "outlinewidth": 0,
             "tickcolor": "rgb(36,36,36)",
             "ticklen": 8,
             "ticks": "outside",
             "tickwidth": 2
            },
            "colorscale": [
             [
              0,
              "rgb(2,4,25)"
             ],
             [
              0.06274509803921569,
              "rgb(24,15,41)"
             ],
             [
              0.12549019607843137,
              "rgb(47,23,57)"
             ],
             [
              0.18823529411764706,
              "rgb(71,28,72)"
             ],
             [
              0.25098039215686274,
              "rgb(97,30,82)"
             ],
             [
              0.3137254901960784,
              "rgb(123,30,89)"
             ],
             [
              0.3764705882352941,
              "rgb(150,27,91)"
             ],
             [
              0.4392156862745098,
              "rgb(177,22,88)"
             ],
             [
              0.5019607843137255,
              "rgb(203,26,79)"
             ],
             [
              0.5647058823529412,
              "rgb(223,47,67)"
             ],
             [
              0.6274509803921569,
              "rgb(236,76,61)"
             ],
             [
              0.6901960784313725,
              "rgb(242,107,73)"
             ],
             [
              0.7529411764705882,
              "rgb(244,135,95)"
             ],
             [
              0.8156862745098039,
              "rgb(245,162,122)"
             ],
             [
              0.8784313725490196,
              "rgb(246,188,153)"
             ],
             [
              0.9411764705882353,
              "rgb(247,212,187)"
             ],
             [
              1,
              "rgb(250,234,220)"
             ]
            ],
            "type": "histogram2dcontour"
           }
          ],
          "mesh3d": [
           {
            "colorbar": {
             "outlinewidth": 0,
             "tickcolor": "rgb(36,36,36)",
             "ticklen": 8,
             "ticks": "outside",
             "tickwidth": 2
            },
            "type": "mesh3d"
           }
          ],
          "parcoords": [
           {
            "line": {
             "colorbar": {
              "outlinewidth": 0,
              "tickcolor": "rgb(36,36,36)",
              "ticklen": 8,
              "ticks": "outside",
              "tickwidth": 2
             }
            },
            "type": "parcoords"
           }
          ],
          "pie": [
           {
            "automargin": true,
            "type": "pie"
           }
          ],
          "scatter": [
           {
            "fillpattern": {
             "fillmode": "overlay",
             "size": 10,
             "solidity": 0.2
            },
            "type": "scatter"
           }
          ],
          "scatter3d": [
           {
            "line": {
             "colorbar": {
              "outlinewidth": 0,
              "tickcolor": "rgb(36,36,36)",
              "ticklen": 8,
              "ticks": "outside",
              "tickwidth": 2
             }
            },
            "marker": {
             "colorbar": {
              "outlinewidth": 0,
              "tickcolor": "rgb(36,36,36)",
              "ticklen": 8,
              "ticks": "outside",
              "tickwidth": 2
             }
            },
            "type": "scatter3d"
           }
          ],
          "scattercarpet": [
           {
            "marker": {
             "colorbar": {
              "outlinewidth": 0,
              "tickcolor": "rgb(36,36,36)",
              "ticklen": 8,
              "ticks": "outside",
              "tickwidth": 2
             }
            },
            "type": "scattercarpet"
           }
          ],
          "scattergeo": [
           {
            "marker": {
             "colorbar": {
              "outlinewidth": 0,
              "tickcolor": "rgb(36,36,36)",
              "ticklen": 8,
              "ticks": "outside",
              "tickwidth": 2
             }
            },
            "type": "scattergeo"
           }
          ],
          "scattergl": [
           {
            "marker": {
             "colorbar": {
              "outlinewidth": 0,
              "tickcolor": "rgb(36,36,36)",
              "ticklen": 8,
              "ticks": "outside",
              "tickwidth": 2
             }
            },
            "type": "scattergl"
           }
          ],
          "scattermapbox": [
           {
            "marker": {
             "colorbar": {
              "outlinewidth": 0,
              "tickcolor": "rgb(36,36,36)",
              "ticklen": 8,
              "ticks": "outside",
              "tickwidth": 2
             }
            },
            "type": "scattermapbox"
           }
          ],
          "scatterpolar": [
           {
            "marker": {
             "colorbar": {
              "outlinewidth": 0,
              "tickcolor": "rgb(36,36,36)",
              "ticklen": 8,
              "ticks": "outside",
              "tickwidth": 2
             }
            },
            "type": "scatterpolar"
           }
          ],
          "scatterpolargl": [
           {
            "marker": {
             "colorbar": {
              "outlinewidth": 0,
              "tickcolor": "rgb(36,36,36)",
              "ticklen": 8,
              "ticks": "outside",
              "tickwidth": 2
             }
            },
            "type": "scatterpolargl"
           }
          ],
          "scatterternary": [
           {
            "marker": {
             "colorbar": {
              "outlinewidth": 0,
              "tickcolor": "rgb(36,36,36)",
              "ticklen": 8,
              "ticks": "outside",
              "tickwidth": 2
             }
            },
            "type": "scatterternary"
           }
          ],
          "surface": [
           {
            "colorbar": {
             "outlinewidth": 0,
             "tickcolor": "rgb(36,36,36)",
             "ticklen": 8,
             "ticks": "outside",
             "tickwidth": 2
            },
            "colorscale": [
             [
              0,
              "rgb(2,4,25)"
             ],
             [
              0.06274509803921569,
              "rgb(24,15,41)"
             ],
             [
              0.12549019607843137,
              "rgb(47,23,57)"
             ],
             [
              0.18823529411764706,
              "rgb(71,28,72)"
             ],
             [
              0.25098039215686274,
              "rgb(97,30,82)"
             ],
             [
              0.3137254901960784,
              "rgb(123,30,89)"
             ],
             [
              0.3764705882352941,
              "rgb(150,27,91)"
             ],
             [
              0.4392156862745098,
              "rgb(177,22,88)"
             ],
             [
              0.5019607843137255,
              "rgb(203,26,79)"
             ],
             [
              0.5647058823529412,
              "rgb(223,47,67)"
             ],
             [
              0.6274509803921569,
              "rgb(236,76,61)"
             ],
             [
              0.6901960784313725,
              "rgb(242,107,73)"
             ],
             [
              0.7529411764705882,
              "rgb(244,135,95)"
             ],
             [
              0.8156862745098039,
              "rgb(245,162,122)"
             ],
             [
              0.8784313725490196,
              "rgb(246,188,153)"
             ],
             [
              0.9411764705882353,
              "rgb(247,212,187)"
             ],
             [
              1,
              "rgb(250,234,220)"
             ]
            ],
            "type": "surface"
           }
          ],
          "table": [
           {
            "cells": {
             "fill": {
              "color": "rgb(231,231,240)"
             },
             "line": {
              "color": "white"
             }
            },
            "header": {
             "fill": {
              "color": "rgb(183,183,191)"
             },
             "line": {
              "color": "white"
             }
            },
            "type": "table"
           }
          ]
         },
         "layout": {
          "annotationdefaults": {
           "arrowcolor": "rgb(67,103,167)"
          },
          "autotypenumbers": "strict",
          "coloraxis": {
           "colorbar": {
            "outlinewidth": 0,
            "tickcolor": "rgb(36,36,36)",
            "ticklen": 8,
            "ticks": "outside",
            "tickwidth": 2
           }
          },
          "colorscale": {
           "sequential": [
            [
             0,
             "rgb(2,4,25)"
            ],
            [
             0.06274509803921569,
             "rgb(24,15,41)"
            ],
            [
             0.12549019607843137,
             "rgb(47,23,57)"
            ],
            [
             0.18823529411764706,
             "rgb(71,28,72)"
            ],
            [
             0.25098039215686274,
             "rgb(97,30,82)"
            ],
            [
             0.3137254901960784,
             "rgb(123,30,89)"
            ],
            [
             0.3764705882352941,
             "rgb(150,27,91)"
            ],
            [
             0.4392156862745098,
             "rgb(177,22,88)"
            ],
            [
             0.5019607843137255,
             "rgb(203,26,79)"
            ],
            [
             0.5647058823529412,
             "rgb(223,47,67)"
            ],
            [
             0.6274509803921569,
             "rgb(236,76,61)"
            ],
            [
             0.6901960784313725,
             "rgb(242,107,73)"
            ],
            [
             0.7529411764705882,
             "rgb(244,135,95)"
            ],
            [
             0.8156862745098039,
             "rgb(245,162,122)"
            ],
            [
             0.8784313725490196,
             "rgb(246,188,153)"
            ],
            [
             0.9411764705882353,
             "rgb(247,212,187)"
            ],
            [
             1,
             "rgb(250,234,220)"
            ]
           ],
           "sequentialminus": [
            [
             0,
             "rgb(2,4,25)"
            ],
            [
             0.06274509803921569,
             "rgb(24,15,41)"
            ],
            [
             0.12549019607843137,
             "rgb(47,23,57)"
            ],
            [
             0.18823529411764706,
             "rgb(71,28,72)"
            ],
            [
             0.25098039215686274,
             "rgb(97,30,82)"
            ],
            [
             0.3137254901960784,
             "rgb(123,30,89)"
            ],
            [
             0.3764705882352941,
             "rgb(150,27,91)"
            ],
            [
             0.4392156862745098,
             "rgb(177,22,88)"
            ],
            [
             0.5019607843137255,
             "rgb(203,26,79)"
            ],
            [
             0.5647058823529412,
             "rgb(223,47,67)"
            ],
            [
             0.6274509803921569,
             "rgb(236,76,61)"
            ],
            [
             0.6901960784313725,
             "rgb(242,107,73)"
            ],
            [
             0.7529411764705882,
             "rgb(244,135,95)"
            ],
            [
             0.8156862745098039,
             "rgb(245,162,122)"
            ],
            [
             0.8784313725490196,
             "rgb(246,188,153)"
            ],
            [
             0.9411764705882353,
             "rgb(247,212,187)"
            ],
            [
             1,
             "rgb(250,234,220)"
            ]
           ]
          },
          "colorway": [
           "rgb(76,114,176)",
           "rgb(221,132,82)",
           "rgb(85,168,104)",
           "rgb(196,78,82)",
           "rgb(129,114,179)",
           "rgb(147,120,96)",
           "rgb(218,139,195)",
           "rgb(140,140,140)",
           "rgb(204,185,116)",
           "rgb(100,181,205)"
          ],
          "font": {
           "color": "rgb(36,36,36)"
          },
          "geo": {
           "bgcolor": "white",
           "lakecolor": "white",
           "landcolor": "rgb(234,234,242)",
           "showlakes": true,
           "showland": true,
           "subunitcolor": "white"
          },
          "hoverlabel": {
           "align": "left"
          },
          "hovermode": "closest",
          "paper_bgcolor": "white",
          "plot_bgcolor": "rgb(234,234,242)",
          "polar": {
           "angularaxis": {
            "gridcolor": "white",
            "linecolor": "white",
            "showgrid": true,
            "ticks": ""
           },
           "bgcolor": "rgb(234,234,242)",
           "radialaxis": {
            "gridcolor": "white",
            "linecolor": "white",
            "showgrid": true,
            "ticks": ""
           }
          },
          "scene": {
           "xaxis": {
            "backgroundcolor": "rgb(234,234,242)",
            "gridcolor": "white",
            "gridwidth": 2,
            "linecolor": "white",
            "showbackground": true,
            "showgrid": true,
            "ticks": "",
            "zerolinecolor": "white"
           },
           "yaxis": {
            "backgroundcolor": "rgb(234,234,242)",
            "gridcolor": "white",
            "gridwidth": 2,
            "linecolor": "white",
            "showbackground": true,
            "showgrid": true,
            "ticks": "",
            "zerolinecolor": "white"
           },
           "zaxis": {
            "backgroundcolor": "rgb(234,234,242)",
            "gridcolor": "white",
            "gridwidth": 2,
            "linecolor": "white",
            "showbackground": true,
            "showgrid": true,
            "ticks": "",
            "zerolinecolor": "white"
           }
          },
          "shapedefaults": {
           "fillcolor": "rgb(67,103,167)",
           "line": {
            "width": 0
           },
           "opacity": 0.5
          },
          "ternary": {
           "aaxis": {
            "gridcolor": "white",
            "linecolor": "white",
            "showgrid": true,
            "ticks": ""
           },
           "baxis": {
            "gridcolor": "white",
            "linecolor": "white",
            "showgrid": true,
            "ticks": ""
           },
           "bgcolor": "rgb(234,234,242)",
           "caxis": {
            "gridcolor": "white",
            "linecolor": "white",
            "showgrid": true,
            "ticks": ""
           }
          },
          "xaxis": {
           "automargin": true,
           "gridcolor": "white",
           "linecolor": "white",
           "showgrid": true,
           "ticks": "",
           "title": {
            "standoff": 15
           },
           "zerolinecolor": "white"
          },
          "yaxis": {
           "automargin": true,
           "gridcolor": "white",
           "linecolor": "white",
           "showgrid": true,
           "ticks": "",
           "title": {
            "standoff": 15
           },
           "zerolinecolor": "white"
          }
         }
        },
        "width": 400,
        "xaxis": {
         "anchor": "y",
         "constrain": "domain",
         "domain": [
          0,
          1
         ],
         "scaleanchor": "y",
         "title": {
          "text": "Predicted Label"
         }
        },
        "yaxis": {
         "anchor": "x",
         "autorange": "reversed",
         "constrain": "domain",
         "domain": [
          0,
          1
         ],
         "title": {
          "text": "Real Label"
         }
        }
       }
      }
     },
     "metadata": {},
     "output_type": "display_data"
    },
    {
     "name": "stdout",
     "output_type": "stream",
     "text": [
      "FALSE POSITVES\n",
      "    event_idx  Pred probability  Pred label  True label Result\n",
      "11         23            51.69%           1           0     FP\n",
      "12         23            54.16%           1           0     FP\n",
      "13         23            53.64%           1           0     FP\n",
      "48         23            50.46%           1           0     FP\n",
      "\n",
      "FALSE NEGATIVES\n",
      "     event_idx  Pred probability  Pred label  True label Result\n",
      "66          23            17.42%           0           1     FN\n",
      "67          23            17.70%           0           1     FN\n",
      "68          23            18.37%           0           1     FN\n",
      "69          23            15.03%           0           1     FN\n",
      "70          23            30.57%           0           1     FN\n",
      "71          23            37.24%           0           1     FN\n",
      "72          23            45.29%           0           1     FN\n",
      "78          23            48.03%           0           1     FN\n",
      "80          23            35.00%           0           1     FN\n",
      "81          23            31.03%           0           1     FN\n",
      "82          23            28.69%           0           1     FN\n",
      "83          23            23.89%           0           1     FN\n",
      "84          23            21.00%           0           1     FN\n",
      "85          23            20.58%           0           1     FN\n",
      "86          23            21.02%           0           1     FN\n",
      "87          23            21.06%           0           1     FN\n",
      "88          23            20.89%           0           1     FN\n",
      "89          23            20.35%           0           1     FN\n",
      "90          23            19.93%           0           1     FN\n",
      "91          23            19.28%           0           1     FN\n",
      "92          23            18.66%           0           1     FN\n",
      "93          23            17.86%           0           1     FN\n",
      "94          23            17.10%           0           1     FN\n",
      "95          23            16.36%           0           1     FN\n",
      "96          23            15.78%           0           1     FN\n",
      "97          23            15.48%           0           1     FN\n",
      "98          23            15.56%           0           1     FN\n",
      "99          23            15.12%           0           1     FN\n",
      "100         23            14.29%           0           1     FN\n",
      "101         23            14.53%           0           1     FN\n",
      "102         23            37.04%           0           1     FN\n",
      "106         23            47.58%           0           1     FN\n",
      "107         23            42.17%           0           1     FN\n",
      "108         23            24.35%           0           1     FN\n",
      "109         23            33.11%           0           1     FN\n",
      "110         23            37.82%           0           1     FN\n",
      "111         23            45.60%           0           1     FN\n",
      "112         23            46.03%           0           1     FN\n",
      "113         23            49.83%           0           1     FN\n",
      "115         23            49.90%           0           1     FN\n",
      "116         23            42.81%           0           1     FN\n",
      "117         23            36.18%           0           1     FN\n",
      "118         23            32.44%           0           1     FN\n",
      "119         23            31.14%           0           1     FN\n",
      "120         23            31.04%           0           1     FN\n",
      "121         23            31.01%           0           1     FN\n",
      "122         23            30.42%           0           1     FN\n",
      "123         23            29.16%           0           1     FN\n",
      "124         23            27.47%           0           1     FN\n",
      "125         23            25.81%           0           1     FN\n",
      "126         23            24.45%           0           1     FN\n",
      "127         23            23.48%           0           1     FN\n",
      "128         23            22.81%           0           1     FN\n",
      "129         23            22.42%           0           1     FN\n"
     ]
    }
   ],
   "source": [
    "# Create signal_df\n",
    "event_idx = 23\n",
    "print(dataset.csv_list[event_idx])\n",
    "sample_df, conf_matrix = signal_exploration(event_idx, dataset, model)\n",
    "metrics = conf_matrix_metrics(conf_matrix)\n",
    "print(f\"Confusion Matrix: {conf_matrix}\")\n",
    "print(sample_df)\n",
    "plot_confusion_matrix(metrics)\n",
    "false_positive = sample_df.query('Result == \"FP\"')\n",
    "false_negative = sample_df.query('Result == \"FN\"')\n",
    "# sample_df = pd.concat([sample_df, sample_df])\n",
    "print(\"FALSE POSITVES\")\n",
    "print(false_positive)\n",
    "print(\"\")\n",
    "print(\"FALSE NEGATIVES\")\n",
    "print(false_negative)"
   ]
  },
  {
   "cell_type": "code",
   "execution_count": 139,
   "metadata": {},
   "outputs": [
    {
     "data": {
      "application/vnd.plotly.v1+json": {
       "config": {
        "plotlyServerURL": "https://plot.ly"
       },
       "data": [
        {
         "hovertemplate": "time=%{x}<br>Amplitude=%{y}<extra></extra>",
         "legendgroup": "",
         "line": {
          "color": "#636efa",
          "dash": "solid"
         },
         "marker": {
          "symbol": "circle"
         },
         "mode": "lines",
         "name": "",
         "orientation": "v",
         "showlegend": false,
         "type": "scatter",
         "x": [
          0.02604,
          0.0263004,
          0.0265608,
          0.0268212,
          0.0270816,
          0.027342,
          0.0276024,
          0.0278628,
          0.0281232,
          0.0283836,
          0.028644,
          0.0289044,
          0.0291648,
          0.0294252,
          0.0296856,
          0.029946,
          0.0302064,
          0.0304668,
          0.0307272,
          0.0309876,
          0.031248,
          0.0315084,
          0.0317688,
          0.0320292,
          0.0322896,
          0.03255,
          0.0328104,
          0.0330708,
          0.0333312,
          0.0335916,
          0.033852,
          0.0341124,
          0.0343728,
          0.0346332,
          0.0348936,
          0.035154,
          0.0354144,
          0.0356748,
          0.0359352,
          0.0361956,
          0.036456,
          0.0367164,
          0.0369768,
          0.0372372,
          0.0374976,
          0.037758,
          0.0380184,
          0.0382788,
          0.0385392,
          0.0387996,
          0.03906,
          0.0393204,
          0.0395808,
          0.0398412,
          0.0401016,
          0.040362,
          0.0406224,
          0.0408828,
          0.0411432,
          0.0414036,
          0.041664,
          0.0419244,
          0.0421848,
          0.0424452
         ],
         "xaxis": "x",
         "y": [
          -11.772457122802734,
          -11.846149444580078,
          -11.820664405822754,
          -11.653382301330566,
          -11.40088176727295,
          -11.011163711547852,
          -10.541744232177734,
          -9.951414108276367,
          -9.291707038879395,
          -8.510343551635742,
          -7.671491622924805,
          -6.742979049682617,
          -5.777518272399902,
          -4.738402843475342,
          -3.6511473655700684,
          -2.52302622795105,
          -1.3849079608917236,
          -0.21377478539943695,
          0.9448755383491516,
          2.102663516998291,
          3.244647741317749,
          4.35009765625,
          5.406347751617432,
          6.413867950439453,
          7.3486738204956055,
          8.23308277130127,
          9.02488899230957,
          9.733078956604004,
          10.345573425292969,
          8.768577575683594,
          8.264874458312988,
          11.182342529296875,
          10.346924781799316,
          10.992162704467773,
          9.509428024291992,
          11.28520393371582,
          11.23237419128418,
          10.836555480957031,
          11.236881256103516,
          9.417627334594727,
          9.7324857711792,
          8.616878509521484,
          8.754545211791992,
          7.364255428314209,
          7.054931163787842,
          5.699278354644775,
          5.028184413909912,
          3.6713593006134033,
          2.5105106830596924,
          1.7054868936538696,
          0.45312151312828064,
          -0.7151159048080444,
          -2.036895513534546,
          -2.7983882427215576,
          -4.111873149871826,
          -4.9707255363464355,
          -6.3202619552612305,
          -7.038023948669434,
          -7.9809770584106445,
          -8.8622407913208,
          -9.535953521728516,
          -10.167949676513672,
          -10.687207221984863,
          -11.238507270812988
         ],
         "yaxis": "y"
        }
       ],
       "layout": {
        "height": 400,
        "legend": {
         "tracegroupgap": 0
        },
        "margin": {
         "t": 60
        },
        "template": {
         "data": {
          "bar": [
           {
            "error_x": {
             "color": "#2a3f5f"
            },
            "error_y": {
             "color": "#2a3f5f"
            },
            "marker": {
             "line": {
              "color": "#E5ECF6",
              "width": 0.5
             },
             "pattern": {
              "fillmode": "overlay",
              "size": 10,
              "solidity": 0.2
             }
            },
            "type": "bar"
           }
          ],
          "barpolar": [
           {
            "marker": {
             "line": {
              "color": "#E5ECF6",
              "width": 0.5
             },
             "pattern": {
              "fillmode": "overlay",
              "size": 10,
              "solidity": 0.2
             }
            },
            "type": "barpolar"
           }
          ],
          "carpet": [
           {
            "aaxis": {
             "endlinecolor": "#2a3f5f",
             "gridcolor": "white",
             "linecolor": "white",
             "minorgridcolor": "white",
             "startlinecolor": "#2a3f5f"
            },
            "baxis": {
             "endlinecolor": "#2a3f5f",
             "gridcolor": "white",
             "linecolor": "white",
             "minorgridcolor": "white",
             "startlinecolor": "#2a3f5f"
            },
            "type": "carpet"
           }
          ],
          "choropleth": [
           {
            "colorbar": {
             "outlinewidth": 0,
             "ticks": ""
            },
            "type": "choropleth"
           }
          ],
          "contour": [
           {
            "colorbar": {
             "outlinewidth": 0,
             "ticks": ""
            },
            "colorscale": [
             [
              0,
              "#0d0887"
             ],
             [
              0.1111111111111111,
              "#46039f"
             ],
             [
              0.2222222222222222,
              "#7201a8"
             ],
             [
              0.3333333333333333,
              "#9c179e"
             ],
             [
              0.4444444444444444,
              "#bd3786"
             ],
             [
              0.5555555555555556,
              "#d8576b"
             ],
             [
              0.6666666666666666,
              "#ed7953"
             ],
             [
              0.7777777777777778,
              "#fb9f3a"
             ],
             [
              0.8888888888888888,
              "#fdca26"
             ],
             [
              1,
              "#f0f921"
             ]
            ],
            "type": "contour"
           }
          ],
          "contourcarpet": [
           {
            "colorbar": {
             "outlinewidth": 0,
             "ticks": ""
            },
            "type": "contourcarpet"
           }
          ],
          "heatmap": [
           {
            "colorbar": {
             "outlinewidth": 0,
             "ticks": ""
            },
            "colorscale": [
             [
              0,
              "#0d0887"
             ],
             [
              0.1111111111111111,
              "#46039f"
             ],
             [
              0.2222222222222222,
              "#7201a8"
             ],
             [
              0.3333333333333333,
              "#9c179e"
             ],
             [
              0.4444444444444444,
              "#bd3786"
             ],
             [
              0.5555555555555556,
              "#d8576b"
             ],
             [
              0.6666666666666666,
              "#ed7953"
             ],
             [
              0.7777777777777778,
              "#fb9f3a"
             ],
             [
              0.8888888888888888,
              "#fdca26"
             ],
             [
              1,
              "#f0f921"
             ]
            ],
            "type": "heatmap"
           }
          ],
          "heatmapgl": [
           {
            "colorbar": {
             "outlinewidth": 0,
             "ticks": ""
            },
            "colorscale": [
             [
              0,
              "#0d0887"
             ],
             [
              0.1111111111111111,
              "#46039f"
             ],
             [
              0.2222222222222222,
              "#7201a8"
             ],
             [
              0.3333333333333333,
              "#9c179e"
             ],
             [
              0.4444444444444444,
              "#bd3786"
             ],
             [
              0.5555555555555556,
              "#d8576b"
             ],
             [
              0.6666666666666666,
              "#ed7953"
             ],
             [
              0.7777777777777778,
              "#fb9f3a"
             ],
             [
              0.8888888888888888,
              "#fdca26"
             ],
             [
              1,
              "#f0f921"
             ]
            ],
            "type": "heatmapgl"
           }
          ],
          "histogram": [
           {
            "marker": {
             "pattern": {
              "fillmode": "overlay",
              "size": 10,
              "solidity": 0.2
             }
            },
            "type": "histogram"
           }
          ],
          "histogram2d": [
           {
            "colorbar": {
             "outlinewidth": 0,
             "ticks": ""
            },
            "colorscale": [
             [
              0,
              "#0d0887"
             ],
             [
              0.1111111111111111,
              "#46039f"
             ],
             [
              0.2222222222222222,
              "#7201a8"
             ],
             [
              0.3333333333333333,
              "#9c179e"
             ],
             [
              0.4444444444444444,
              "#bd3786"
             ],
             [
              0.5555555555555556,
              "#d8576b"
             ],
             [
              0.6666666666666666,
              "#ed7953"
             ],
             [
              0.7777777777777778,
              "#fb9f3a"
             ],
             [
              0.8888888888888888,
              "#fdca26"
             ],
             [
              1,
              "#f0f921"
             ]
            ],
            "type": "histogram2d"
           }
          ],
          "histogram2dcontour": [
           {
            "colorbar": {
             "outlinewidth": 0,
             "ticks": ""
            },
            "colorscale": [
             [
              0,
              "#0d0887"
             ],
             [
              0.1111111111111111,
              "#46039f"
             ],
             [
              0.2222222222222222,
              "#7201a8"
             ],
             [
              0.3333333333333333,
              "#9c179e"
             ],
             [
              0.4444444444444444,
              "#bd3786"
             ],
             [
              0.5555555555555556,
              "#d8576b"
             ],
             [
              0.6666666666666666,
              "#ed7953"
             ],
             [
              0.7777777777777778,
              "#fb9f3a"
             ],
             [
              0.8888888888888888,
              "#fdca26"
             ],
             [
              1,
              "#f0f921"
             ]
            ],
            "type": "histogram2dcontour"
           }
          ],
          "mesh3d": [
           {
            "colorbar": {
             "outlinewidth": 0,
             "ticks": ""
            },
            "type": "mesh3d"
           }
          ],
          "parcoords": [
           {
            "line": {
             "colorbar": {
              "outlinewidth": 0,
              "ticks": ""
             }
            },
            "type": "parcoords"
           }
          ],
          "pie": [
           {
            "automargin": true,
            "type": "pie"
           }
          ],
          "scatter": [
           {
            "fillpattern": {
             "fillmode": "overlay",
             "size": 10,
             "solidity": 0.2
            },
            "type": "scatter"
           }
          ],
          "scatter3d": [
           {
            "line": {
             "colorbar": {
              "outlinewidth": 0,
              "ticks": ""
             }
            },
            "marker": {
             "colorbar": {
              "outlinewidth": 0,
              "ticks": ""
             }
            },
            "type": "scatter3d"
           }
          ],
          "scattercarpet": [
           {
            "marker": {
             "colorbar": {
              "outlinewidth": 0,
              "ticks": ""
             }
            },
            "type": "scattercarpet"
           }
          ],
          "scattergeo": [
           {
            "marker": {
             "colorbar": {
              "outlinewidth": 0,
              "ticks": ""
             }
            },
            "type": "scattergeo"
           }
          ],
          "scattergl": [
           {
            "marker": {
             "colorbar": {
              "outlinewidth": 0,
              "ticks": ""
             }
            },
            "type": "scattergl"
           }
          ],
          "scattermapbox": [
           {
            "marker": {
             "colorbar": {
              "outlinewidth": 0,
              "ticks": ""
             }
            },
            "type": "scattermapbox"
           }
          ],
          "scatterpolar": [
           {
            "marker": {
             "colorbar": {
              "outlinewidth": 0,
              "ticks": ""
             }
            },
            "type": "scatterpolar"
           }
          ],
          "scatterpolargl": [
           {
            "marker": {
             "colorbar": {
              "outlinewidth": 0,
              "ticks": ""
             }
            },
            "type": "scatterpolargl"
           }
          ],
          "scatterternary": [
           {
            "marker": {
             "colorbar": {
              "outlinewidth": 0,
              "ticks": ""
             }
            },
            "type": "scatterternary"
           }
          ],
          "surface": [
           {
            "colorbar": {
             "outlinewidth": 0,
             "ticks": ""
            },
            "colorscale": [
             [
              0,
              "#0d0887"
             ],
             [
              0.1111111111111111,
              "#46039f"
             ],
             [
              0.2222222222222222,
              "#7201a8"
             ],
             [
              0.3333333333333333,
              "#9c179e"
             ],
             [
              0.4444444444444444,
              "#bd3786"
             ],
             [
              0.5555555555555556,
              "#d8576b"
             ],
             [
              0.6666666666666666,
              "#ed7953"
             ],
             [
              0.7777777777777778,
              "#fb9f3a"
             ],
             [
              0.8888888888888888,
              "#fdca26"
             ],
             [
              1,
              "#f0f921"
             ]
            ],
            "type": "surface"
           }
          ],
          "table": [
           {
            "cells": {
             "fill": {
              "color": "#EBF0F8"
             },
             "line": {
              "color": "white"
             }
            },
            "header": {
             "fill": {
              "color": "#C8D4E3"
             },
             "line": {
              "color": "white"
             }
            },
            "type": "table"
           }
          ]
         },
         "layout": {
          "annotationdefaults": {
           "arrowcolor": "#2a3f5f",
           "arrowhead": 0,
           "arrowwidth": 1
          },
          "autotypenumbers": "strict",
          "coloraxis": {
           "colorbar": {
            "outlinewidth": 0,
            "ticks": ""
           }
          },
          "colorscale": {
           "diverging": [
            [
             0,
             "#8e0152"
            ],
            [
             0.1,
             "#c51b7d"
            ],
            [
             0.2,
             "#de77ae"
            ],
            [
             0.3,
             "#f1b6da"
            ],
            [
             0.4,
             "#fde0ef"
            ],
            [
             0.5,
             "#f7f7f7"
            ],
            [
             0.6,
             "#e6f5d0"
            ],
            [
             0.7,
             "#b8e186"
            ],
            [
             0.8,
             "#7fbc41"
            ],
            [
             0.9,
             "#4d9221"
            ],
            [
             1,
             "#276419"
            ]
           ],
           "sequential": [
            [
             0,
             "#0d0887"
            ],
            [
             0.1111111111111111,
             "#46039f"
            ],
            [
             0.2222222222222222,
             "#7201a8"
            ],
            [
             0.3333333333333333,
             "#9c179e"
            ],
            [
             0.4444444444444444,
             "#bd3786"
            ],
            [
             0.5555555555555556,
             "#d8576b"
            ],
            [
             0.6666666666666666,
             "#ed7953"
            ],
            [
             0.7777777777777778,
             "#fb9f3a"
            ],
            [
             0.8888888888888888,
             "#fdca26"
            ],
            [
             1,
             "#f0f921"
            ]
           ],
           "sequentialminus": [
            [
             0,
             "#0d0887"
            ],
            [
             0.1111111111111111,
             "#46039f"
            ],
            [
             0.2222222222222222,
             "#7201a8"
            ],
            [
             0.3333333333333333,
             "#9c179e"
            ],
            [
             0.4444444444444444,
             "#bd3786"
            ],
            [
             0.5555555555555556,
             "#d8576b"
            ],
            [
             0.6666666666666666,
             "#ed7953"
            ],
            [
             0.7777777777777778,
             "#fb9f3a"
            ],
            [
             0.8888888888888888,
             "#fdca26"
            ],
            [
             1,
             "#f0f921"
            ]
           ]
          },
          "colorway": [
           "#636efa",
           "#EF553B",
           "#00cc96",
           "#ab63fa",
           "#FFA15A",
           "#19d3f3",
           "#FF6692",
           "#B6E880",
           "#FF97FF",
           "#FECB52"
          ],
          "font": {
           "color": "#2a3f5f"
          },
          "geo": {
           "bgcolor": "white",
           "lakecolor": "white",
           "landcolor": "#E5ECF6",
           "showlakes": true,
           "showland": true,
           "subunitcolor": "white"
          },
          "hoverlabel": {
           "align": "left"
          },
          "hovermode": "closest",
          "mapbox": {
           "style": "light"
          },
          "paper_bgcolor": "white",
          "plot_bgcolor": "#E5ECF6",
          "polar": {
           "angularaxis": {
            "gridcolor": "white",
            "linecolor": "white",
            "ticks": ""
           },
           "bgcolor": "#E5ECF6",
           "radialaxis": {
            "gridcolor": "white",
            "linecolor": "white",
            "ticks": ""
           }
          },
          "scene": {
           "xaxis": {
            "backgroundcolor": "#E5ECF6",
            "gridcolor": "white",
            "gridwidth": 2,
            "linecolor": "white",
            "showbackground": true,
            "ticks": "",
            "zerolinecolor": "white"
           },
           "yaxis": {
            "backgroundcolor": "#E5ECF6",
            "gridcolor": "white",
            "gridwidth": 2,
            "linecolor": "white",
            "showbackground": true,
            "ticks": "",
            "zerolinecolor": "white"
           },
           "zaxis": {
            "backgroundcolor": "#E5ECF6",
            "gridcolor": "white",
            "gridwidth": 2,
            "linecolor": "white",
            "showbackground": true,
            "ticks": "",
            "zerolinecolor": "white"
           }
          },
          "shapedefaults": {
           "line": {
            "color": "#2a3f5f"
           }
          },
          "ternary": {
           "aaxis": {
            "gridcolor": "white",
            "linecolor": "white",
            "ticks": ""
           },
           "baxis": {
            "gridcolor": "white",
            "linecolor": "white",
            "ticks": ""
           },
           "bgcolor": "#E5ECF6",
           "caxis": {
            "gridcolor": "white",
            "linecolor": "white",
            "ticks": ""
           }
          },
          "title": {
           "x": 0.05
          },
          "xaxis": {
           "automargin": true,
           "gridcolor": "white",
           "linecolor": "white",
           "ticks": "",
           "title": {
            "standoff": 15
           },
           "zerolinecolor": "white",
           "zerolinewidth": 2
          },
          "yaxis": {
           "automargin": true,
           "gridcolor": "white",
           "linecolor": "white",
           "ticks": "",
           "title": {
            "standoff": 15
           },
           "zerolinecolor": "white",
           "zerolinewidth": 2
          }
         }
        },
        "width": 600,
        "xaxis": {
         "anchor": "y",
         "domain": [
          0,
          1
         ],
         "title": {
          "text": "time"
         }
        },
        "yaxis": {
         "anchor": "x",
         "domain": [
          0,
          1
         ],
         "title": {
          "text": "Amplitude"
         }
        }
       }
      }
     },
     "metadata": {},
     "output_type": "display_data"
    },
    {
     "data": {
      "application/vnd.plotly.v1+json": {
       "config": {
        "plotlyServerURL": "https://plot.ly"
       },
       "data": [
        {
         "hovertemplate": "Window=%{x}<br>Trip Signal=%{y}<extra></extra>",
         "legendgroup": "",
         "line": {
          "color": "#636efa",
          "dash": "solid",
          "shape": "hv"
         },
         "marker": {
          "symbol": "circle"
         },
         "mode": "lines",
         "name": "",
         "orientation": "v",
         "showlegend": false,
         "type": "scatter",
         "x": [
          0,
          1,
          2,
          3,
          4,
          5,
          6,
          7,
          8,
          9,
          10,
          11,
          12,
          13,
          14,
          15,
          16,
          17,
          18,
          19,
          20,
          21,
          22,
          23,
          24,
          25,
          26,
          27,
          28,
          29,
          30,
          31,
          32,
          33,
          34,
          35,
          36,
          37,
          38,
          39,
          40,
          41,
          42,
          43,
          44,
          45,
          46,
          47,
          48,
          49,
          50,
          51,
          52,
          53,
          54,
          55,
          56,
          57,
          58,
          59,
          60,
          61,
          62,
          63,
          64,
          65,
          66,
          67,
          68,
          69,
          70,
          71,
          72,
          73,
          74,
          75,
          76,
          77,
          78,
          79,
          80,
          81,
          82,
          83,
          84,
          85,
          86,
          87,
          88,
          89,
          90,
          91,
          92,
          93,
          94,
          95,
          96,
          97,
          98,
          99,
          100,
          101,
          102,
          103,
          104,
          105,
          106,
          107,
          108,
          109,
          110,
          111,
          112,
          113,
          114,
          115,
          116,
          117,
          118,
          119,
          120,
          121,
          122,
          123,
          124,
          125,
          126,
          127,
          128,
          129
         ],
         "xaxis": "x",
         "y": [
          0,
          0,
          0,
          0,
          0,
          0,
          0,
          0,
          0,
          0,
          0,
          1,
          1,
          1,
          0,
          0,
          0,
          0,
          0,
          0,
          0,
          0,
          0,
          0,
          0,
          0,
          0,
          0,
          0,
          0,
          0,
          0,
          0,
          0,
          0,
          0,
          0,
          0,
          0,
          0,
          0,
          0,
          0,
          0,
          0,
          0,
          0,
          0,
          1,
          0,
          0,
          0,
          0,
          0,
          0,
          0,
          0,
          0,
          0,
          0,
          0,
          0,
          0,
          0,
          0,
          0,
          0,
          0,
          0,
          0,
          0,
          0,
          0,
          1,
          1,
          1,
          1,
          1,
          0,
          1,
          0,
          0,
          0,
          0,
          0,
          0,
          0,
          0,
          0,
          0,
          0,
          0,
          0,
          0,
          0,
          0,
          0,
          0,
          0,
          0,
          0,
          0,
          0,
          1,
          1,
          1,
          0,
          0,
          0,
          0,
          0,
          0,
          0,
          0,
          1,
          0,
          0,
          0,
          0,
          0,
          0,
          0,
          0,
          0,
          0,
          0,
          0,
          0,
          0,
          0
         ],
         "yaxis": "y"
        }
       ],
       "layout": {
        "height": 400,
        "legend": {
         "tracegroupgap": 0
        },
        "margin": {
         "t": 60
        },
        "template": {
         "data": {
          "bar": [
           {
            "error_x": {
             "color": "#2a3f5f"
            },
            "error_y": {
             "color": "#2a3f5f"
            },
            "marker": {
             "line": {
              "color": "#E5ECF6",
              "width": 0.5
             },
             "pattern": {
              "fillmode": "overlay",
              "size": 10,
              "solidity": 0.2
             }
            },
            "type": "bar"
           }
          ],
          "barpolar": [
           {
            "marker": {
             "line": {
              "color": "#E5ECF6",
              "width": 0.5
             },
             "pattern": {
              "fillmode": "overlay",
              "size": 10,
              "solidity": 0.2
             }
            },
            "type": "barpolar"
           }
          ],
          "carpet": [
           {
            "aaxis": {
             "endlinecolor": "#2a3f5f",
             "gridcolor": "white",
             "linecolor": "white",
             "minorgridcolor": "white",
             "startlinecolor": "#2a3f5f"
            },
            "baxis": {
             "endlinecolor": "#2a3f5f",
             "gridcolor": "white",
             "linecolor": "white",
             "minorgridcolor": "white",
             "startlinecolor": "#2a3f5f"
            },
            "type": "carpet"
           }
          ],
          "choropleth": [
           {
            "colorbar": {
             "outlinewidth": 0,
             "ticks": ""
            },
            "type": "choropleth"
           }
          ],
          "contour": [
           {
            "colorbar": {
             "outlinewidth": 0,
             "ticks": ""
            },
            "colorscale": [
             [
              0,
              "#0d0887"
             ],
             [
              0.1111111111111111,
              "#46039f"
             ],
             [
              0.2222222222222222,
              "#7201a8"
             ],
             [
              0.3333333333333333,
              "#9c179e"
             ],
             [
              0.4444444444444444,
              "#bd3786"
             ],
             [
              0.5555555555555556,
              "#d8576b"
             ],
             [
              0.6666666666666666,
              "#ed7953"
             ],
             [
              0.7777777777777778,
              "#fb9f3a"
             ],
             [
              0.8888888888888888,
              "#fdca26"
             ],
             [
              1,
              "#f0f921"
             ]
            ],
            "type": "contour"
           }
          ],
          "contourcarpet": [
           {
            "colorbar": {
             "outlinewidth": 0,
             "ticks": ""
            },
            "type": "contourcarpet"
           }
          ],
          "heatmap": [
           {
            "colorbar": {
             "outlinewidth": 0,
             "ticks": ""
            },
            "colorscale": [
             [
              0,
              "#0d0887"
             ],
             [
              0.1111111111111111,
              "#46039f"
             ],
             [
              0.2222222222222222,
              "#7201a8"
             ],
             [
              0.3333333333333333,
              "#9c179e"
             ],
             [
              0.4444444444444444,
              "#bd3786"
             ],
             [
              0.5555555555555556,
              "#d8576b"
             ],
             [
              0.6666666666666666,
              "#ed7953"
             ],
             [
              0.7777777777777778,
              "#fb9f3a"
             ],
             [
              0.8888888888888888,
              "#fdca26"
             ],
             [
              1,
              "#f0f921"
             ]
            ],
            "type": "heatmap"
           }
          ],
          "heatmapgl": [
           {
            "colorbar": {
             "outlinewidth": 0,
             "ticks": ""
            },
            "colorscale": [
             [
              0,
              "#0d0887"
             ],
             [
              0.1111111111111111,
              "#46039f"
             ],
             [
              0.2222222222222222,
              "#7201a8"
             ],
             [
              0.3333333333333333,
              "#9c179e"
             ],
             [
              0.4444444444444444,
              "#bd3786"
             ],
             [
              0.5555555555555556,
              "#d8576b"
             ],
             [
              0.6666666666666666,
              "#ed7953"
             ],
             [
              0.7777777777777778,
              "#fb9f3a"
             ],
             [
              0.8888888888888888,
              "#fdca26"
             ],
             [
              1,
              "#f0f921"
             ]
            ],
            "type": "heatmapgl"
           }
          ],
          "histogram": [
           {
            "marker": {
             "pattern": {
              "fillmode": "overlay",
              "size": 10,
              "solidity": 0.2
             }
            },
            "type": "histogram"
           }
          ],
          "histogram2d": [
           {
            "colorbar": {
             "outlinewidth": 0,
             "ticks": ""
            },
            "colorscale": [
             [
              0,
              "#0d0887"
             ],
             [
              0.1111111111111111,
              "#46039f"
             ],
             [
              0.2222222222222222,
              "#7201a8"
             ],
             [
              0.3333333333333333,
              "#9c179e"
             ],
             [
              0.4444444444444444,
              "#bd3786"
             ],
             [
              0.5555555555555556,
              "#d8576b"
             ],
             [
              0.6666666666666666,
              "#ed7953"
             ],
             [
              0.7777777777777778,
              "#fb9f3a"
             ],
             [
              0.8888888888888888,
              "#fdca26"
             ],
             [
              1,
              "#f0f921"
             ]
            ],
            "type": "histogram2d"
           }
          ],
          "histogram2dcontour": [
           {
            "colorbar": {
             "outlinewidth": 0,
             "ticks": ""
            },
            "colorscale": [
             [
              0,
              "#0d0887"
             ],
             [
              0.1111111111111111,
              "#46039f"
             ],
             [
              0.2222222222222222,
              "#7201a8"
             ],
             [
              0.3333333333333333,
              "#9c179e"
             ],
             [
              0.4444444444444444,
              "#bd3786"
             ],
             [
              0.5555555555555556,
              "#d8576b"
             ],
             [
              0.6666666666666666,
              "#ed7953"
             ],
             [
              0.7777777777777778,
              "#fb9f3a"
             ],
             [
              0.8888888888888888,
              "#fdca26"
             ],
             [
              1,
              "#f0f921"
             ]
            ],
            "type": "histogram2dcontour"
           }
          ],
          "mesh3d": [
           {
            "colorbar": {
             "outlinewidth": 0,
             "ticks": ""
            },
            "type": "mesh3d"
           }
          ],
          "parcoords": [
           {
            "line": {
             "colorbar": {
              "outlinewidth": 0,
              "ticks": ""
             }
            },
            "type": "parcoords"
           }
          ],
          "pie": [
           {
            "automargin": true,
            "type": "pie"
           }
          ],
          "scatter": [
           {
            "fillpattern": {
             "fillmode": "overlay",
             "size": 10,
             "solidity": 0.2
            },
            "type": "scatter"
           }
          ],
          "scatter3d": [
           {
            "line": {
             "colorbar": {
              "outlinewidth": 0,
              "ticks": ""
             }
            },
            "marker": {
             "colorbar": {
              "outlinewidth": 0,
              "ticks": ""
             }
            },
            "type": "scatter3d"
           }
          ],
          "scattercarpet": [
           {
            "marker": {
             "colorbar": {
              "outlinewidth": 0,
              "ticks": ""
             }
            },
            "type": "scattercarpet"
           }
          ],
          "scattergeo": [
           {
            "marker": {
             "colorbar": {
              "outlinewidth": 0,
              "ticks": ""
             }
            },
            "type": "scattergeo"
           }
          ],
          "scattergl": [
           {
            "marker": {
             "colorbar": {
              "outlinewidth": 0,
              "ticks": ""
             }
            },
            "type": "scattergl"
           }
          ],
          "scattermapbox": [
           {
            "marker": {
             "colorbar": {
              "outlinewidth": 0,
              "ticks": ""
             }
            },
            "type": "scattermapbox"
           }
          ],
          "scatterpolar": [
           {
            "marker": {
             "colorbar": {
              "outlinewidth": 0,
              "ticks": ""
             }
            },
            "type": "scatterpolar"
           }
          ],
          "scatterpolargl": [
           {
            "marker": {
             "colorbar": {
              "outlinewidth": 0,
              "ticks": ""
             }
            },
            "type": "scatterpolargl"
           }
          ],
          "scatterternary": [
           {
            "marker": {
             "colorbar": {
              "outlinewidth": 0,
              "ticks": ""
             }
            },
            "type": "scatterternary"
           }
          ],
          "surface": [
           {
            "colorbar": {
             "outlinewidth": 0,
             "ticks": ""
            },
            "colorscale": [
             [
              0,
              "#0d0887"
             ],
             [
              0.1111111111111111,
              "#46039f"
             ],
             [
              0.2222222222222222,
              "#7201a8"
             ],
             [
              0.3333333333333333,
              "#9c179e"
             ],
             [
              0.4444444444444444,
              "#bd3786"
             ],
             [
              0.5555555555555556,
              "#d8576b"
             ],
             [
              0.6666666666666666,
              "#ed7953"
             ],
             [
              0.7777777777777778,
              "#fb9f3a"
             ],
             [
              0.8888888888888888,
              "#fdca26"
             ],
             [
              1,
              "#f0f921"
             ]
            ],
            "type": "surface"
           }
          ],
          "table": [
           {
            "cells": {
             "fill": {
              "color": "#EBF0F8"
             },
             "line": {
              "color": "white"
             }
            },
            "header": {
             "fill": {
              "color": "#C8D4E3"
             },
             "line": {
              "color": "white"
             }
            },
            "type": "table"
           }
          ]
         },
         "layout": {
          "annotationdefaults": {
           "arrowcolor": "#2a3f5f",
           "arrowhead": 0,
           "arrowwidth": 1
          },
          "autotypenumbers": "strict",
          "coloraxis": {
           "colorbar": {
            "outlinewidth": 0,
            "ticks": ""
           }
          },
          "colorscale": {
           "diverging": [
            [
             0,
             "#8e0152"
            ],
            [
             0.1,
             "#c51b7d"
            ],
            [
             0.2,
             "#de77ae"
            ],
            [
             0.3,
             "#f1b6da"
            ],
            [
             0.4,
             "#fde0ef"
            ],
            [
             0.5,
             "#f7f7f7"
            ],
            [
             0.6,
             "#e6f5d0"
            ],
            [
             0.7,
             "#b8e186"
            ],
            [
             0.8,
             "#7fbc41"
            ],
            [
             0.9,
             "#4d9221"
            ],
            [
             1,
             "#276419"
            ]
           ],
           "sequential": [
            [
             0,
             "#0d0887"
            ],
            [
             0.1111111111111111,
             "#46039f"
            ],
            [
             0.2222222222222222,
             "#7201a8"
            ],
            [
             0.3333333333333333,
             "#9c179e"
            ],
            [
             0.4444444444444444,
             "#bd3786"
            ],
            [
             0.5555555555555556,
             "#d8576b"
            ],
            [
             0.6666666666666666,
             "#ed7953"
            ],
            [
             0.7777777777777778,
             "#fb9f3a"
            ],
            [
             0.8888888888888888,
             "#fdca26"
            ],
            [
             1,
             "#f0f921"
            ]
           ],
           "sequentialminus": [
            [
             0,
             "#0d0887"
            ],
            [
             0.1111111111111111,
             "#46039f"
            ],
            [
             0.2222222222222222,
             "#7201a8"
            ],
            [
             0.3333333333333333,
             "#9c179e"
            ],
            [
             0.4444444444444444,
             "#bd3786"
            ],
            [
             0.5555555555555556,
             "#d8576b"
            ],
            [
             0.6666666666666666,
             "#ed7953"
            ],
            [
             0.7777777777777778,
             "#fb9f3a"
            ],
            [
             0.8888888888888888,
             "#fdca26"
            ],
            [
             1,
             "#f0f921"
            ]
           ]
          },
          "colorway": [
           "#636efa",
           "#EF553B",
           "#00cc96",
           "#ab63fa",
           "#FFA15A",
           "#19d3f3",
           "#FF6692",
           "#B6E880",
           "#FF97FF",
           "#FECB52"
          ],
          "font": {
           "color": "#2a3f5f"
          },
          "geo": {
           "bgcolor": "white",
           "lakecolor": "white",
           "landcolor": "#E5ECF6",
           "showlakes": true,
           "showland": true,
           "subunitcolor": "white"
          },
          "hoverlabel": {
           "align": "left"
          },
          "hovermode": "closest",
          "mapbox": {
           "style": "light"
          },
          "paper_bgcolor": "white",
          "plot_bgcolor": "#E5ECF6",
          "polar": {
           "angularaxis": {
            "gridcolor": "white",
            "linecolor": "white",
            "ticks": ""
           },
           "bgcolor": "#E5ECF6",
           "radialaxis": {
            "gridcolor": "white",
            "linecolor": "white",
            "ticks": ""
           }
          },
          "scene": {
           "xaxis": {
            "backgroundcolor": "#E5ECF6",
            "gridcolor": "white",
            "gridwidth": 2,
            "linecolor": "white",
            "showbackground": true,
            "ticks": "",
            "zerolinecolor": "white"
           },
           "yaxis": {
            "backgroundcolor": "#E5ECF6",
            "gridcolor": "white",
            "gridwidth": 2,
            "linecolor": "white",
            "showbackground": true,
            "ticks": "",
            "zerolinecolor": "white"
           },
           "zaxis": {
            "backgroundcolor": "#E5ECF6",
            "gridcolor": "white",
            "gridwidth": 2,
            "linecolor": "white",
            "showbackground": true,
            "ticks": "",
            "zerolinecolor": "white"
           }
          },
          "shapedefaults": {
           "line": {
            "color": "#2a3f5f"
           }
          },
          "ternary": {
           "aaxis": {
            "gridcolor": "white",
            "linecolor": "white",
            "ticks": ""
           },
           "baxis": {
            "gridcolor": "white",
            "linecolor": "white",
            "ticks": ""
           },
           "bgcolor": "#E5ECF6",
           "caxis": {
            "gridcolor": "white",
            "linecolor": "white",
            "ticks": ""
           }
          },
          "title": {
           "x": 0.05
          },
          "xaxis": {
           "automargin": true,
           "gridcolor": "white",
           "linecolor": "white",
           "ticks": "",
           "title": {
            "standoff": 15
           },
           "zerolinecolor": "white",
           "zerolinewidth": 2
          },
          "yaxis": {
           "automargin": true,
           "gridcolor": "white",
           "linecolor": "white",
           "ticks": "",
           "title": {
            "standoff": 15
           },
           "zerolinecolor": "white",
           "zerolinewidth": 2
          }
         }
        },
        "width": 600,
        "xaxis": {
         "anchor": "y",
         "domain": [
          0,
          1
         ],
         "title": {
          "text": "Window"
         }
        },
        "yaxis": {
         "anchor": "x",
         "domain": [
          0,
          1
         ],
         "title": {
          "text": "Trip Signal"
         }
        }
       }
      }
     },
     "metadata": {},
     "output_type": "display_data"
    }
   ],
   "source": [
    "def update_fig(fig):\n",
    "    fig.update_traces(line_color=\"#EEEEEE\", line_width=2)\n",
    "    fig.update_layout(\n",
    "        paper_bgcolor=\"#222831\",\n",
    "        plot_bgcolor=\"#393E46\",\n",
    "        font_color=\"whitesmoke\",\n",
    "    )\n",
    "    fig.update_xaxes(showgrid=True, gridwidth=1, gridcolor=\"#32E0C4\")\n",
    "    fig.update_yaxes(showgrid=True, gridwidth=1, gridcolor=\"#32E0C4\")\n",
    "\n",
    "\n",
    "signal, t = dataset.__getitem__(2440, data_plot=True)\n",
    "# print(f\"Window index: {sample_df.query('indices == 196').index[0]}\")\n",
    "fig = px.line(\n",
    "    x=t,\n",
    "    y=signal,\n",
    "    width=600,\n",
    "    height=400,\n",
    "    labels=dict(x=\"time\", y=\"Amplitude\"),\n",
    ")\n",
    "# update_fig(fig)\n",
    "fig.show()\n",
    "fig = px.line(\n",
    "    x=sample_df.index,\n",
    "    y=sample_df[\"Pred label\"],\n",
    "    width=600,\n",
    "    height=400,\n",
    "    labels=dict(x=\"Window\", y=\"Trip Signal\"),\n",
    "    line_shape=\"hv\",\n",
    ")\n",
    "# update_fig(fig)\n",
    "fig.show()"
   ]
  },
  {
   "attachments": {},
   "cell_type": "markdown",
   "metadata": {},
   "source": [
    "### 8. References\n",
    "1. PyTorch Contributors: LSTM. [LSTM — PyTorch 1.13 documentation](https://pytorch.org/docs/stable/generated/torch.nn.LSTM.html).\n",
    "<!-- @online{LSTM,\n",
    "    author = \"{PyTorch Contributors}\",\n",
    "    title = \"LSTM\",\n",
    "    url  = \"https://pytorch.org/docs/stable/generated/torch.nn.LSTM.html\",\n",
    "    addendum = \"(accessed: 10.02.2023)\",\n",
    "    keywords = \"LSTM pytorch\"\n",
    "} -->"
   ]
  }
 ],
 "metadata": {
  "kernelspec": {
   "display_name": "env",
   "language": "python",
   "name": "python3"
  },
  "language_info": {
   "codemirror_mode": {
    "name": "ipython",
    "version": 3
   },
   "file_extension": ".py",
   "mimetype": "text/x-python",
   "name": "python",
   "nbconvert_exporter": "python",
   "pygments_lexer": "ipython3",
   "version": "3.9.0"
  },
  "orig_nbformat": 4,
  "vscode": {
   "interpreter": {
    "hash": "72ca1a9e086f4c7ef9a163ec3bf69ee2fedc8d7281f4001d4d35bca77b5aa424"
   }
  }
 },
 "nbformat": 4,
 "nbformat_minor": 2
}
