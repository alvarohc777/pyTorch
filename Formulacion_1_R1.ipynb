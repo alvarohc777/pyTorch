{
 "cells": [
  {
   "attachments": {},
   "cell_type": "markdown",
   "metadata": {},
   "source": [
    "<center><h1 style:\"text-align:center;\">Formulación 1</h1></center>\n",
    "<center><h3>Relé 1</h3></center>"
   ]
  },
  {
   "attachments": {},
   "cell_type": "markdown",
   "metadata": {},
   "source": [
    "### 1. Imports"
   ]
  },
  {
   "cell_type": "code",
   "execution_count": 1,
   "metadata": {},
   "outputs": [],
   "source": [
    "import torch\n",
    "import torch.nn as nn\n",
    "from torch.utils.data import Dataset, DataLoader, random_split\n",
    "\n",
    "# Métricas\n",
    "from torchmetrics.functional.classification import binary_stat_scores\n",
    "\n",
    "# Visualizar datos\n",
    "import numpy as np\n",
    "import pandas as pd\n",
    "import matplotlib.pyplot as plt\n",
    "import plotly.express as px\n",
    "\n",
    "# Progress bar\n",
    "from tqdm import tqdm\n",
    "\n",
    "# Acceder al sistema operativo\n",
    "import os\n",
    "import glob\n",
    "import shutil\n",
    "import random\n"
   ]
  },
  {
   "attachments": {},
   "cell_type": "markdown",
   "metadata": {},
   "source": [
    "### 2. Model Parameters"
   ]
  },
  {
   "cell_type": "code",
   "execution_count": 2,
   "metadata": {},
   "outputs": [
    {
     "name": "stdout",
     "output_type": "stream",
     "text": [
      "cpu\n"
     ]
    }
   ],
   "source": [
    "# LSTM parameters\n",
    "hidden_dim = 20\n",
    "n_signals = 1\n",
    "N = 64\n",
    "\n",
    "# _batch_size => m in figure 1.\n",
    "train_batch_size = 64\n",
    "dev_batch_size = 16\n",
    "test_batch_size = 16\n",
    "\n",
    "# Classification type (binary)\n",
    "tagset_size = 1\n",
    "\n",
    "# Set\n",
    "device = \"cuda\" if torch.cuda.is_available() else \"cpu\"\n",
    "print(device)\n"
   ]
  },
  {
   "attachments": {},
   "cell_type": "markdown",
   "metadata": {},
   "source": [
    "### 3. Model Creation"
   ]
  },
  {
   "attachments": {},
   "cell_type": "markdown",
   "metadata": {},
   "source": [
    "##### 3.1. FaultDetector Class Creation"
   ]
  },
  {
   "cell_type": "code",
   "execution_count": 3,
   "metadata": {},
   "outputs": [],
   "source": [
    "# Model Creation\n",
    "\n",
    "\n",
    "class FaultDetector(nn.Module):\n",
    "    \"\"\"Information about FaultDetector\"\"\"\n",
    "\n",
    "    def __init__(self, N, hidden_dim, tagset_size):\n",
    "        super(FaultDetector, self).__init__()\n",
    "        self.lstm = nn.LSTM(N, hidden_dim, batch_first=True)\n",
    "        self.fc = nn.Linear(hidden_dim, tagset_size)\n",
    "\n",
    "    def forward(self, x):\n",
    "        lstm_out, _ = self.lstm(x)\n",
    "        fc_layer = self.fc(lstm_out[:, -1, :])\n",
    "\n",
    "        return torch.sigmoid(fc_layer)\n"
   ]
  },
  {
   "attachments": {},
   "cell_type": "markdown",
   "metadata": {},
   "source": [
    "##### 3.2. Model Instance Initialization"
   ]
  },
  {
   "cell_type": "code",
   "execution_count": 4,
   "metadata": {},
   "outputs": [
    {
     "name": "stdout",
     "output_type": "stream",
     "text": [
      "Model structure: FaultDetector(\n",
      "  (lstm): LSTM(1, 20, batch_first=True)\n",
      "  (fc): Linear(in_features=20, out_features=1, bias=True)\n",
      ")\n",
      "\n",
      "Number of parameters: 1861\n"
     ]
    }
   ],
   "source": [
    "model = FaultDetector(n_signals, hidden_dim, tagset_size).to(device)\n",
    "loss_fn = nn.BCELoss()\n",
    "optimizer = torch.optim.Adam(model.parameters(), lr=1e-2)\n",
    "\n",
    "# Learning rate decay (optional)\n",
    "decayRate = 0.96\n",
    "my_lr_scheduler = torch.optim.lr_scheduler.ExponentialLR(\n",
    "    optimizer=optimizer, gamma=decayRate\n",
    ")\n",
    "\n",
    "print(f\"Model structure: {model}\\n\")\n",
    "\n",
    "# Number of parameters\n",
    "model_parameters = filter(lambda p: p.requires_grad, model.parameters())\n",
    "params = sum([np.prod(p.size()) for p in model_parameters])\n",
    "print(f\"Number of parameters: {params}\")\n"
   ]
  },
  {
   "attachments": {},
   "cell_type": "markdown",
   "metadata": {},
   "source": [
    "### 4. Dataset Creation"
   ]
  },
  {
   "attachments": {},
   "cell_type": "markdown",
   "metadata": {},
   "source": [
    "##### 4.1. Dataset Class Creation"
   ]
  },
  {
   "cell_type": "code",
   "execution_count": 5,
   "metadata": {},
   "outputs": [],
   "source": [
    "from utils.signalload import CSV_pandas_path\n",
    "from utils.auxfunctions import moving_window\n",
    "import numpy as np\n",
    "from itertools import repeat\n",
    "\n",
    "\n",
    "class Form1Dataset(torch.utils.data.Dataset):\n",
    "    \"\"\"Some Information about Form1Dataset\"\"\"\n",
    "\n",
    "    def __init__(\n",
    "        self,\n",
    "        dataset_dir,\n",
    "        signal_name,\n",
    "        max_window_idx=193,\n",
    "        window_length=64,\n",
    "        step=1,\n",
    "        test=False,\n",
    "    ):\n",
    "        super(Form1Dataset, self).__init__()\n",
    "        self.max_window_idx = max_window_idx\n",
    "        self.test = test\n",
    "        self.signal_name = signal_name\n",
    "\n",
    "        self.csv_list = glob.glob(f\"{dataset_dir}*.csv\")\n",
    "        self.csv_amount = len(self.csv_list)\n",
    "        self.windows_amount = max_window_idx * self.csv_amount\n",
    "        self.window_length = window_length\n",
    "        self.step = step\n",
    "\n",
    "    def __getitem__(self, index, data_plot=False):\n",
    "\n",
    "        # sample_settings\n",
    "        window_length = self.window_length\n",
    "        step = self.step\n",
    "\n",
    "        # Calculate window_idx and file name\n",
    "        window_idx = index % self.max_window_idx\n",
    "        csv_idx = index // self.max_window_idx\n",
    "        csv_full_path = self.csv_list[csv_idx]\n",
    "\n",
    "        # Load CSV, signal and create windows\n",
    "        csv_name = os.path.basename(csv_full_path)\n",
    "        signal, t, _ = CSV_pandas_path(csv_full_path).load_data(self.signal_name)\n",
    "        signal_windows, t_windows = list(\n",
    "            map(moving_window, [signal, t], repeat(window_length), repeat(step))\n",
    "        )\n",
    "\n",
    "        # select window\n",
    "\n",
    "        signal_window = signal_windows[window_idx]\n",
    "        signal_window = np.expand_dims(signal_window, axis=1)\n",
    "        t_window = t_windows[window_idx]\n",
    "\n",
    "        # create labels\n",
    "        if window_idx < 66:\n",
    "            label = np.array([0])\n",
    "        else:\n",
    "            label = np.array([1])\n",
    "\n",
    "        # For dataset visualization return following information\n",
    "        signal_window = torch.from_numpy(np.copy(signal_window)).float()\n",
    "        label = torch.from_numpy(label).float()\n",
    "        if data_plot == True:\n",
    "            return signal_window.reshape(-1).numpy(), t_window\n",
    "        if self.test == True:\n",
    "            return signal_window, t_window, label, csv_name, index, window_idx\n",
    "\n",
    "        # For training only signals and labels are required\n",
    "\n",
    "        return signal_window, label\n",
    "\n",
    "    def get_event(self, csv_idx):\n",
    "\n",
    "        # Get indices\n",
    "        idx_min = csv_idx * self.max_window_idx\n",
    "        idx_max = ((csv_idx + 1) * self.max_window_idx) - 1\n",
    "\n",
    "        # Get path of csv_index\n",
    "        csv_full_path = self.csv_list[csv_idx]\n",
    "\n",
    "        # Load CSV, signal and create windows\n",
    "        csv_name = os.path.basename(csv_full_path)\n",
    "\n",
    "        # Load CSV, signal and create windows\n",
    "        csv_name = os.path.basename(csv_full_path)\n",
    "        signal, t, _ = CSV_pandas_path(csv_full_path).load_data(self.signal_name)\n",
    "        return signal, t, idx_min, idx_max, csv_name\n",
    "\n",
    "    def len_events(self):\n",
    "        return self.csv_amount\n",
    "\n",
    "    def __len__(self):\n",
    "        return self.csv_amount * self.max_window_idx\n"
   ]
  },
  {
   "attachments": {},
   "cell_type": "markdown",
   "metadata": {},
   "source": [
    "##### 4.2. Database Directory Creation "
   ]
  },
  {
   "cell_type": "code",
   "execution_count": 6,
   "metadata": {},
   "outputs": [
    {
     "name": "stdout",
     "output_type": "stream",
     "text": [
      "copying 54 files...\n",
      "finished\n"
     ]
    }
   ],
   "source": [
    "# Creating Dataset Folders\n",
    "\n",
    "dataset_dir_full = \"C:/Users/aherrada/OneDrive - Universidad del Norte/Uninorte/DetectionDataBase/LSTM_form_1/fault_01/\"\n",
    "dataset_dir = \"C:/Users/aherrada/OneDrive - Universidad del Norte/Uninorte/DetectionDataBase/LSTM_form_1/R1/\"\n",
    "\n",
    "max_window_idx = 130\n",
    "n_events = 54\n",
    "\n",
    "\n",
    "def dataset_creator(source_path, target_path, signal_list=False):\n",
    "    csv_list = glob.glob(f\"{source_path}*.csv\")\n",
    "    if not os.path.isdir(target_path):\n",
    "        print(\"creating\")\n",
    "        os.makedirs(target_path)\n",
    "    else:\n",
    "        file_list = glob.glob(f\"{target_path}*.csv\")\n",
    "        for file in file_list:\n",
    "            os.remove(file)\n",
    "    csv_list = random.sample(csv_list, n_events)\n",
    "    print(f\"copying {len(csv_list)} files...\")\n",
    "    for csv in csv_list:\n",
    "        source_path = csv\n",
    "        target_path = target_path\n",
    "        shutil.copy(source_path, target_path)\n",
    "    print(\"finished\")\n",
    "\n",
    "    if signal_list == True:\n",
    "        print(\"Available Relays (current):\")\n",
    "        CSV_pandas_path(csv_list[0]).relay_list()\n",
    "\n",
    "\n",
    "# Crear los 3 Datasets para entrenar los relés individualmente\n",
    "dataset_creator(dataset_dir_full, dataset_dir, signal_list=False)\n"
   ]
  },
  {
   "attachments": {},
   "cell_type": "markdown",
   "metadata": {},
   "source": [
    "##### 4.3. Dataset and Dataloader Instances Creation"
   ]
  },
  {
   "cell_type": "code",
   "execution_count": 108,
   "metadata": {},
   "outputs": [],
   "source": [
    "# Load Dataset\n",
    "# signal_name = \"I: X0023A-R1A\"\n",
    "signal_name = \"I: X0004A-R2A\"\n",
    "# signal_name = \"I: X0071A-R3A\"\n",
    "\n",
    "dataset = Form1Dataset(\n",
    "    dataset_dir, max_window_idx=max_window_idx, signal_name=signal_name\n",
    ")\n",
    "# dataset.get_events(0)\n",
    "train_dataset, test_dataset = random_split(dataset, [0.95, 0.05])\n",
    "train_dataloader = DataLoader(train_dataset, batch_size=train_batch_size, shuffle=False)\n",
    "test_dataloader = DataLoader(test_dataset, batch_size=test_batch_size, shuffle=False)\n",
    "# EL test set realmente es un dev set\n",
    "# Como regla general, si es utilizado dentro del loop es un dev set.\n"
   ]
  },
  {
   "attachments": {},
   "cell_type": "markdown",
   "metadata": {},
   "source": [
    "### 5. Model Training\n"
   ]
  },
  {
   "attachments": {},
   "cell_type": "markdown",
   "metadata": {},
   "source": [
    "##### 5.1. Train / Test(dev) Loop Creation"
   ]
  },
  {
   "cell_type": "code",
   "execution_count": 109,
   "metadata": {},
   "outputs": [],
   "source": [
    "# Create Training / Test / Validation Loops\n",
    "\n",
    "\n",
    "# Training\n",
    "def train(dataloader, model, loss_fn, optimizer, return_loss=False):\n",
    "    size = len(dataloader.dataset)\n",
    "    model.train()\n",
    "    loss_list = []\n",
    "\n",
    "    for batch, (x, y) in enumerate(dataloader):\n",
    "        x, y = x.to(device), y.to(device)\n",
    "\n",
    "        # Compute prediction error\n",
    "        pred = model(x)\n",
    "        loss = loss_fn(pred, y)\n",
    "\n",
    "        # Backpropagation\n",
    "        optimizer.zero_grad()\n",
    "        loss.backward()\n",
    "        optimizer.step()\n",
    "        if return_loss == True:\n",
    "            loss_list.append(loss.item())\n",
    "        if batch % 2 == 0:\n",
    "            loss, current = loss.item(), batch * len(x)\n",
    "            print(f\"loss: {loss:>f} [{current:>5d}/{size:>5d}]\")\n",
    "\n",
    "        if batch % 5 == 0:\n",
    "            my_lr_scheduler.step()\n",
    "    if return_loss == True:\n",
    "        return loss_list\n",
    "\n",
    "\n",
    "from torchmetrics.functional.classification import binary_stat_scores\n",
    "\n",
    "\n",
    "def test_metrics(dataloader, model, loss_fn, return_metrics=False):\n",
    "    size = len(dataloader.dataset)\n",
    "    num_batches = len(dataloader)\n",
    "    conf_matrix = torch.zeros(1, 5, dtype=torch.int64).to(device)\n",
    "    model.eval()\n",
    "    test_loss, correct = 0, 0\n",
    "    with torch.no_grad():\n",
    "        for x, y in tqdm(dataloader):\n",
    "\n",
    "            x, y = x.to(device), y.to(device)\n",
    "            pred = model(x)\n",
    "\n",
    "            conf_matrix = conf_matrix.add(binary_stat_scores(pred, y))\n",
    "            test_loss += loss_fn(pred, y).item()\n",
    "            correct += (torch.round(pred) == y).type(torch.float).sum().item()\n",
    "\n",
    "    test_loss /= num_batches\n",
    "    acc = (conf_matrix[0, 0] + conf_matrix[0, 2]) / conf_matrix[0, :-1].sum()\n",
    "    correct /= size\n",
    "    print(f\"{correct*100:>0.1f}\")\n",
    "    print(f\"Test Error: \\n Accuracy: {(100*acc):>0.1f}%, Avg loss: {test_loss:>8f} \\n\")\n",
    "    if return_metrics == True:\n",
    "        return conf_matrix, test_loss\n"
   ]
  },
  {
   "attachments": {},
   "cell_type": "markdown",
   "metadata": {},
   "source": [
    "##### 5.2. Training the model"
   ]
  },
  {
   "cell_type": "code",
   "execution_count": 110,
   "metadata": {},
   "outputs": [
    {
     "name": "stdout",
     "output_type": "stream",
     "text": [
      "Epoch 1\n",
      "--------------------------------\n"
     ]
    },
    {
     "name": "stderr",
     "output_type": "stream",
     "text": [
      "100%|██████████| 22/22 [00:23<00:00,  1.06s/it]"
     ]
    },
    {
     "name": "stdout",
     "output_type": "stream",
     "text": [
      "90.0\n",
      "Test Error: \n",
      " Accuracy: 90.0%, Avg loss: 0.340080 \n",
      "\n",
      "tensor([[147,   0, 169,  35, 182]])\n"
     ]
    },
    {
     "name": "stderr",
     "output_type": "stream",
     "text": [
      "\n"
     ]
    }
   ],
   "source": [
    "# model.load_state_dict(torch.load('./models/LSTMHarmonic_weights_R3_934.pth'))\n",
    "# model.load_state_dict(torch.load(\"./models/LSTMHarmonic_weights_R1_996.pth\"))\n",
    "# model.load_state_dict(torch.load('./models/LSTMHarmonic_weights_R2_978.pth'))\n",
    "\n",
    "epochs = 1\n",
    "\n",
    "for epoch in range(epochs):\n",
    "\n",
    "    print(f\"Epoch {epoch+1}\\n--------------------------------\")\n",
    "    # train_loss = train(train_dataloader, model, loss_fn, optimizer, return_loss=True)\n",
    "    # accuracy, _ = test(test_dataloader, model, loss_fn, return_metrics=True)\n",
    "    conf_matrix, _ = test_metrics(test_dataloader, model, loss_fn, return_metrics=True)\n",
    "print(conf_matrix)\n"
   ]
  },
  {
   "cell_type": "code",
   "execution_count": 407,
   "metadata": {},
   "outputs": [
    {
     "name": "stdout",
     "output_type": "stream",
     "text": [
      "No se puede obtener PPV, división por cero\n",
      "50.8\n",
      "[[ 0  0 66 64 64]\n",
      " [64  0 66  0 64]\n",
      " [62  0 66  2 64]\n",
      " [59  0 66  5 64]\n",
      " [11  0 66 53 64]\n",
      " [13  0 66 51 64]\n",
      " [62  0 66  2 64]\n",
      " [64  0 66  0 64]\n",
      " [64  0 66  0 64]\n",
      " [58  0 66  6 64]\n",
      " [64  0 66  0 64]\n",
      " [63  0 66  1 64]\n",
      " [64  0 66  0 64]\n",
      " [64  0 66  0 64]\n",
      " [61  0 66  3 64]\n",
      " [62  0 66  2 64]\n",
      " [62  0 66  2 64]\n",
      " [60  0 66  4 64]\n",
      " [ 0  0 66 64 64]\n",
      " [62  0 66  2 64]\n",
      " [64  0 66  0 64]\n",
      " [ 0  0 66 64 64]\n",
      " [ 0  0 66 64 64]\n",
      " [ 0  0 66 64 64]\n",
      " [ 0  0 66 64 64]\n",
      " [64  0 66  0 64]\n",
      " [64  0 66  0 64]\n",
      " [54  0 66 10 64]\n",
      " [11  0 66 53 64]\n",
      " [ 0  0 66 64 64]\n",
      " [62  0 66  2 64]\n",
      " [63  0 66  1 64]\n",
      " [63  0 66  1 64]\n",
      " [61  0 66  3 64]\n",
      " [61  0 66  3 64]\n",
      " [58  0 66  6 64]\n",
      " [61  0 66  3 64]\n",
      " [63  0 66  1 64]\n",
      " [62  0 66  2 64]\n",
      " [62  0 66  2 64]\n",
      " [61  0 66  3 64]\n",
      " [63  0 66  1 64]\n",
      " [63  0 66  1 64]\n",
      " [64  0 66  0 64]\n",
      " [60  0 66  4 64]\n",
      " [61  0 66  3 64]\n",
      " [63  0 66  1 64]\n",
      " [64  0 66  0 64]\n",
      " [61  0 66  3 64]\n",
      " [58  0 66  6 64]\n",
      " [64  0 66  0 64]\n",
      " [63  0 66  1 64]\n",
      " [60  0 66  4 64]\n",
      " [62  0 66  2 64]]\n"
     ]
    }
   ],
   "source": [
    "def conf_matrix_metrics(conf_matrix: torch.LongTensor) -> dict:\n",
    "    \"\"\"\n",
    "    Returns dictionary with metrics from a confusion matrix.\n",
    "\n",
    "            Parameters:\n",
    "                    conf_matrix (torch.Tensor): confusion matrix of dimension (1, 5)\n",
    "                        [TP, FP, TN, FN, TP + FN]\n",
    "\n",
    "            Returns:\n",
    "                    metrics (dict): dictionary with following metrics:\n",
    "                        metrics[\"TOTAL\"] -> total amount of samples.\n",
    "                        metrics[\"TPR\"]   -> True Positive Rate,  sensibility, recall, hit-rate.\n",
    "                        metrics[\"FPR\"]   -> False Positive Rate, Fallout.\n",
    "                        metrics[\"TNR\"]   -> True Negative Rate,  specificity, selectivity\n",
    "                        metrics[\"ACC\"]   -> Accuracy.\n",
    "                        metrics[\"PPV\"]   -> Positive Predictive Value, Precision.\n",
    "    \"\"\"\n",
    "    if conf_matrix.shape == (5,):\n",
    "        conf_matrix = np.expand_dims(conf_matrix, axis=0)\n",
    "\n",
    "    metrics = {}\n",
    "    TP = int(conf_matrix[0, 0].item())\n",
    "    FP = int(conf_matrix[0, 1].item())\n",
    "    TN = int(conf_matrix[0, 2].item())\n",
    "    FN = int(conf_matrix[0, 3].item())\n",
    "    metrics[\"TP\"] = TP\n",
    "    metrics[\"FP\"] = FP\n",
    "    metrics[\"TN\"] = TN\n",
    "    metrics[\"FN\"] = FN\n",
    "    P = TP + FN\n",
    "    N = TN + FP\n",
    "    TOTAL = TP + FP + TN + FN\n",
    "    metrics[\"TOTAL\"] = TOTAL\n",
    "    metrics[\"TPR\"] = TP / (TP + FN)\n",
    "    metrics[\"FPR\"] = FP / (FP + TN)\n",
    "    metrics[\"TNR\"] = TN / (FP + TN)\n",
    "    metrics[\"ACC\"] = (TP + TN) / (TOTAL)\n",
    "    try:\n",
    "        metrics[\"PPV\"] = TP / (TP + FP)\n",
    "    except ZeroDivisionError:\n",
    "        print(\"No se puede obtener PPV, división por cero\")\n",
    "    return metrics\n",
    "\n",
    "\n",
    "metrics = conf_matrix_metrics(conf_matrix)\n",
    "print(round(metrics[\"ACC\"] * 100, 1))\n",
    "print(conf_matrix)\n"
   ]
  },
  {
   "attachments": {},
   "cell_type": "markdown",
   "metadata": {},
   "source": [
    "##### 5.3. Training loss visualization"
   ]
  },
  {
   "cell_type": "code",
   "execution_count": 12,
   "metadata": {},
   "outputs": [
    {
     "name": "stdout",
     "output_type": "stream",
     "text": [
      "Error! Run train loop\n"
     ]
    }
   ],
   "source": [
    "try:\n",
    "    mini_batch_list = [index for index, _ in enumerate(train_loss)]\n",
    "    train_loss_ewm = pd.DataFrame(train_loss).ewm(com=0.95).mean()\n",
    "    plt.plot(mini_batch_list, train_loss, mini_batch_list, train_loss_ewm)\n",
    "except NameError:\n",
    "    print(\"Error! Run train loop\")\n"
   ]
  },
  {
   "attachments": {},
   "cell_type": "markdown",
   "metadata": {},
   "source": [
    "##### 5.4. Saving the Model"
   ]
  },
  {
   "cell_type": "code",
   "execution_count": null,
   "metadata": {},
   "outputs": [],
   "source": [
    "# # Save the Model\n",
    "# torch.save(model.state_dict(), './models/LSTMHarmonic_weights_989.pth')\n"
   ]
  },
  {
   "attachments": {},
   "cell_type": "markdown",
   "metadata": {},
   "source": [
    "### 6. Results Visualization\n"
   ]
  },
  {
   "attachments": {},
   "cell_type": "markdown",
   "metadata": {},
   "source": [
    "#### 6.1. Confussion Matrix Results Table Function"
   ]
  },
  {
   "cell_type": "code",
   "execution_count": 13,
   "metadata": {},
   "outputs": [],
   "source": [
    "# Data visualization (CPU)\n",
    "\n",
    "\n",
    "def confusion_matrix_labels(pred_label, true_label):\n",
    "    label = \"\"\n",
    "    if int(pred_label) == int(true_label):\n",
    "        label += \"T\"\n",
    "    else:\n",
    "        label += \"F\"\n",
    "    if pred_label == 1:\n",
    "        label += \"P\"\n",
    "    else:\n",
    "        label += \"N\"\n",
    "    return label\n",
    "\n",
    "\n",
    "confusion_matrix_pandas = np.vectorize(confusion_matrix_labels)\n",
    "\n",
    "\n",
    "def confusion_matrix(\n",
    "    preds: torch.FloatTensor, labels: torch.FloatTensor\n",
    ") -> pd.DataFrame:\n",
    "    preds = preds.detach()\n",
    "    labels = labels.detach()\n",
    "    data = {\n",
    "        \"Pred probability\": torch.reshape(preds, (-1,)).cpu().numpy(),\n",
    "        \"Pred label\": torch.reshape(torch.round(preds), (-1,)).int().cpu().numpy(),\n",
    "        \"True label\": torch.reshape(labels, (-1,)).int().cpu().numpy(),\n",
    "    }\n",
    "    df = pd.DataFrame(data)\n",
    "    df[\"Result\"] = confusion_matrix_pandas(df[\"Pred label\"], df[\"True label\"])\n",
    "    return df\n"
   ]
  },
  {
   "attachments": {},
   "cell_type": "markdown",
   "metadata": {},
   "source": [
    "##### 6.2. Plotly Plot"
   ]
  },
  {
   "cell_type": "code",
   "execution_count": 14,
   "metadata": {},
   "outputs": [
    {
     "name": "stderr",
     "output_type": "stream",
     "text": [
      "c:\\Users\\aherrada\\Documents\\Git\\Pytorch\\env\\lib\\site-packages\\torch\\utils\\data\\_utils\\collate.py:172: UserWarning: The given NumPy array is not writable, and PyTorch does not support non-writable tensors. This means writing to this tensor will result in undefined behavior. You may want to copy the array to protect its data or make it writable before converting it to a tensor. This type of warning will be suppressed for the rest of this program. (Triggered internally at C:\\actions-runner\\_work\\pytorch\\pytorch\\builder\\windows\\pytorch\\torch\\csrc\\utils\\tensor_numpy.cpp:205.)\n",
      "  return collate([torch.as_tensor(b) for b in batch], collate_fn_map=collate_fn_map)\n"
     ]
    },
    {
     "name": "stdout",
     "output_type": "stream",
     "text": [
      "64\n",
      "torch.Size([64])\n",
      "torch.Size([64, 1])\n",
      "torch.FloatTensor\n",
      "<class 'pandas.core.frame.DataFrame'>\n",
      "   Pred probability  Pred label  True label Result\n",
      "0          0.556742           1           1     TP\n",
      "1          0.934036           1           1     TP\n",
      "2          0.064776           0           0     TN\n",
      "3          0.708859           1           1     TP\n",
      "4          0.923579           1           1     TP\n",
      "5          0.966437           1           1     TP\n",
      "6          0.037668           0           0     TN\n",
      "7          0.044209           0           0     TN\n",
      "8          0.965192           1           1     TP\n"
     ]
    },
    {
     "data": {
      "application/vnd.plotly.v1+json": {
       "config": {
        "plotlyServerURL": "https://plot.ly"
       },
       "data": [
        {
         "marker": {
          "color": "black"
         },
         "name": "Fault - 70 - Fault01_B846_RF20.csv",
         "type": "scatter",
         "x": [
          0.018228,
          0.0184884,
          0.0187488,
          0.0190092,
          0.0192696,
          0.01953,
          0.0197904,
          0.0200508,
          0.0203112,
          0.0205716,
          0.020832,
          0.0210924,
          0.0213528,
          0.0216132,
          0.0218736,
          0.022134,
          0.0223944,
          0.0226548,
          0.0229152,
          0.0231756,
          0.023436,
          0.0236964,
          0.0239568,
          0.0242172,
          0.0244776,
          0.024738,
          0.0249984,
          0.0252588,
          0.0255192,
          0.0257796,
          0.02604,
          0.0263004,
          0.0265608,
          0.0268212,
          0.0270816,
          0.027342,
          0.0276024,
          0.0278628,
          0.0281232,
          0.0283836,
          0.028644,
          0.0289044,
          0.0291648,
          0.0294252,
          0.0296856,
          0.029946,
          0.0302064,
          0.0304668,
          0.0307272,
          0.0309876,
          0.031248,
          0.0315084,
          0.0317688,
          0.0320292,
          0.0322896,
          0.03255,
          0.0328104,
          0.0330708,
          0.0333312,
          0.0335916,
          0.033852,
          0.0341124,
          0.0343728,
          0.0346332
         ],
         "xaxis": "x",
         "y": [
          -24.9359188079834,
          -21.509763717651367,
          -17.731571197509766,
          -13.560681343078613,
          -9.474360466003418,
          -5.335455894470215,
          -1.419959306716919,
          2.7107675075531006,
          6.801527976989746,
          11.123826026916504,
          15.080451011657715,
          18.879596710205078,
          22.383623123168945,
          25.808565139770508,
          29.086795806884766,
          32.08807373046875,
          34.672847747802734,
          36.98792266845703,
          38.828033447265625,
          40.51902770996094,
          41.67206573486328,
          42.53730773925781,
          42.95353317260742,
          42.88398742675781,
          42.49979019165039,
          41.48054885864258,
          40.29343795776367,
          38.559814453125,
          36.7051887512207,
          34.41642761230469,
          31.609901428222656,
          28.557018280029297,
          25.29790687561035,
          21.83407974243164,
          18.038494110107422,
          13.951592445373535,
          9.975215911865234,
          5.859012603759766,
          1.8149425983428955,
          -2.3916337490081787,
          -6.517299175262451,
          -10.70361614227295,
          -14.673243522644043,
          -18.410581588745117,
          -22.056686401367188,
          -25.56192970275879,
          -28.89548683166504,
          -31.864849090576172,
          -34.37574005126953,
          -36.74811935424805,
          -38.68183517456055,
          -40.43003845214844,
          -41.59881591796875,
          -42.465110778808594,
          -42.9041748046875,
          -42.90058517456055,
          -42.500980377197266,
          -41.564456939697266,
          -40.32225036621094,
          -39.89765167236328,
          -58.37052536010742,
          -61.206390380859375,
          -56.56746292114258,
          -55.967533111572266
         ],
         "yaxis": "y"
        },
        {
         "marker": {
          "color": "black"
         },
         "name": "Fault - 113 - Fault01_B354_RF80.csv",
         "type": "scatter",
         "x": [
          0.0294252,
          0.0296856,
          0.029946,
          0.0302064,
          0.0304668,
          0.0307272,
          0.0309876,
          0.031248,
          0.0315084,
          0.0317688,
          0.0320292,
          0.0322896,
          0.03255,
          0.0328104,
          0.0330708,
          0.0333312,
          0.0335916,
          0.033852,
          0.0341124,
          0.0343728,
          0.0346332,
          0.0348936,
          0.035154,
          0.0354144,
          0.0356748,
          0.0359352,
          0.0361956,
          0.036456,
          0.0367164,
          0.0369768,
          0.0372372,
          0.0374976,
          0.037758,
          0.0380184,
          0.0382788,
          0.0385392,
          0.0387996,
          0.03906,
          0.0393204,
          0.0395808,
          0.0398412,
          0.0401016,
          0.040362,
          0.0406224,
          0.0408828,
          0.0411432,
          0.0414036,
          0.041664,
          0.0419244,
          0.0421848,
          0.0424452,
          0.0427056,
          0.042966,
          0.0432264,
          0.0434868,
          0.0437472,
          0.0440076,
          0.044268,
          0.0445284,
          0.0447888,
          0.0450492,
          0.0453096,
          0.04557,
          0.0458304
         ],
         "xaxis": "x2",
         "y": [
          19.36307144165039,
          23.031789779663086,
          26.59005355834961,
          29.902612686157227,
          32.849708557128906,
          35.34722900390625,
          37.71482849121094,
          39.63123321533203,
          41.32143783569336,
          42.45020294189453,
          43.24479675292969,
          43.64141082763672,
          43.545928955078125,
          43.046165466308594,
          42.0534553527832,
          40.69822692871094,
          44.09686279296875,
          59.0490608215332,
          57.76362228393555,
          57.84878158569336,
          47.849822998046875,
          34.57250213623047,
          25.128225326538086,
          12.78869915008545,
          -0.11678658425807953,
          -18.372520446777344,
          -32.26334762573242,
          -47.69108963012695,
          -60.705135345458984,
          -77.52787780761719,
          -92.07904815673828,
          -105.48741149902344,
          -115.99956512451172,
          -127.46337127685547,
          -137.5472869873047,
          -147.36431884765625,
          -153.88868713378906,
          -159.0168914794922,
          -163.54248046875,
          -166.89266967773438,
          -168.2069091796875,
          -166.3234405517578,
          -163.92648315429688,
          -160.26318359375,
          -156.12457275390625,
          -148.537109375,
          -139.7265167236328,
          -129.5064239501953,
          -119.08451843261719,
          -107.29597473144531,
          -94.21870422363281,
          -79.67306518554688,
          -64.8515853881836,
          -49.47282409667969,
          -33.6224365234375,
          -17.456645965576172,
          -0.6731993556022644,
          15.87704086303711,
          32.304168701171875,
          48.75533676147461,
          64.668701171875,
          80.09146881103516,
          94.53936004638672,
          108.06764221191406
         ],
         "yaxis": "y2"
        },
        {
         "marker": {
          "color": "black"
         },
         "name": "No Fault - 59 - Fault01_B846_RF1e-05.csv",
         "type": "scatter",
         "x": [
          0.0153636,
          0.015624,
          0.0158844,
          0.0161448,
          0.0164052,
          0.0166656,
          0.016926,
          0.0171864,
          0.0174468,
          0.0177072,
          0.0179676,
          0.018228,
          0.0184884,
          0.0187488,
          0.0190092,
          0.0192696,
          0.01953,
          0.0197904,
          0.0200508,
          0.0203112,
          0.0205716,
          0.020832,
          0.0210924,
          0.0213528,
          0.0216132,
          0.0218736,
          0.022134,
          0.0223944,
          0.0226548,
          0.0229152,
          0.0231756,
          0.023436,
          0.0236964,
          0.0239568,
          0.0242172,
          0.0244776,
          0.024738,
          0.0249984,
          0.0252588,
          0.0255192,
          0.0257796,
          0.02604,
          0.0263004,
          0.0265608,
          0.0268212,
          0.0270816,
          0.027342,
          0.0276024,
          0.0278628,
          0.0281232,
          0.0283836,
          0.028644,
          0.0289044,
          0.0291648,
          0.0294252,
          0.0296856,
          0.029946,
          0.0302064,
          0.0304668,
          0.0307272,
          0.0309876,
          0.031248,
          0.0315084,
          0.0317688
         ],
         "xaxis": "x3",
         "y": [
          -28.61804962158203,
          -25.386985778808594,
          -21.65561866760254,
          -17.681440353393555,
          -13.487775802612305,
          -9.687151908874512,
          -5.813731670379639,
          -1.8715157508850098,
          2.4511935710906982,
          6.808911323547363,
          11.11226749420166,
          14.900270462036133,
          18.476396560668945,
          21.868764877319336,
          25.545303344726562,
          28.944591522216797,
          32.05867004394531,
          34.422332763671875,
          36.629146575927734,
          38.481258392333984,
          40.302154541015625,
          41.54045104980469,
          42.45661544799805,
          42.74964141845703,
          42.776119232177734,
          42.29031753540039,
          41.47982406616211,
          40.19440460205078,
          38.58290481567383,
          36.66810607910156,
          34.45936965942383,
          31.687166213989258,
          28.59894561767578,
          25.365690231323242,
          21.89595603942871,
          18.174482345581055,
          14.117532730102539,
          10.086381912231445,
          5.9945783615112305,
          1.8708114624023438,
          -2.301816701889038,
          -6.426015377044678,
          -10.600001335144043,
          -14.537540435791016,
          -18.394689559936523,
          -22.013347625732422,
          -25.58901023864746,
          -28.878568649291992,
          -31.857324600219727,
          -34.418601989746094,
          -36.77601623535156,
          -38.787418365478516,
          -40.52653121948242,
          -41.69938278198242,
          -42.60768127441406,
          -43.00591278076172,
          -43.12788391113281,
          -42.63794708251953,
          -41.785987854003906,
          -40.49039077758789,
          -38.93107223510742,
          -37.0399055480957,
          -34.84067153930664,
          -31.997323989868164
         ],
         "yaxis": "y3"
        },
        {
         "marker": {
          "color": "black"
         },
         "name": "Fault - 100 - Fault01_B846_RF1e-05.csv",
         "type": "scatter",
         "x": [
          0.02604,
          0.0263004,
          0.0265608,
          0.0268212,
          0.0270816,
          0.027342,
          0.0276024,
          0.0278628,
          0.0281232,
          0.0283836,
          0.028644,
          0.0289044,
          0.0291648,
          0.0294252,
          0.0296856,
          0.029946,
          0.0302064,
          0.0304668,
          0.0307272,
          0.0309876,
          0.031248,
          0.0315084,
          0.0317688,
          0.0320292,
          0.0322896,
          0.03255,
          0.0328104,
          0.0330708,
          0.0333312,
          0.0335916,
          0.033852,
          0.0341124,
          0.0343728,
          0.0346332,
          0.0348936,
          0.035154,
          0.0354144,
          0.0356748,
          0.0359352,
          0.0361956,
          0.036456,
          0.0367164,
          0.0369768,
          0.0372372,
          0.0374976,
          0.037758,
          0.0380184,
          0.0382788,
          0.0385392,
          0.0387996,
          0.03906,
          0.0393204,
          0.0395808,
          0.0398412,
          0.0401016,
          0.040362,
          0.0406224,
          0.0408828,
          0.0411432,
          0.0414036,
          0.041664,
          0.0419244,
          0.0421848,
          0.0424452
         ],
         "xaxis": "x4",
         "y": [
          -6.426015377044678,
          -10.600001335144043,
          -14.537540435791016,
          -18.394689559936523,
          -22.013347625732422,
          -25.58901023864746,
          -28.878568649291992,
          -31.857324600219727,
          -34.418601989746094,
          -36.77601623535156,
          -38.787418365478516,
          -40.52653121948242,
          -41.69938278198242,
          -42.60768127441406,
          -43.00591278076172,
          -43.12788391113281,
          -42.63794708251953,
          -41.785987854003906,
          -40.49039077758789,
          -38.93107223510742,
          -37.0399055480957,
          -34.84067153930664,
          -31.997323989868164,
          -28.92849349975586,
          -25.66546630859375,
          -22.282276153564453,
          -18.575950622558594,
          -14.567831993103027,
          -10.494589805603027,
          -4.9602155685424805,
          27.720211029052734,
          51.96430587768555,
          71.00680541992188,
          98.84307098388672,
          117.30480194091797,
          135.6127166748047,
          170.11622619628906,
          187.39224243164062,
          197.7278289794922,
          222.88641357421875,
          239.64297485351562,
          253.2527618408203,
          273.5650329589844,
          273.23828125,
          279.22442626953125,
          297.5750732421875,
          295.1623229980469,
          293.1812744140625,
          292.4912414550781,
          283.75048828125,
          285.3406982421875,
          279.1318359375,
          257.0669860839844,
          243.4345245361328,
          230.35350036621094,
          211.413818359375,
          194.20074462890625,
          168.9478759765625,
          140.769287109375,
          121.4273452758789,
          96.33304595947266,
          65.08826446533203,
          37.468528747558594,
          9.232026100158691
         ],
         "yaxis": "y4"
        },
        {
         "marker": {
          "color": "black"
         },
         "name": "Fault - 119 - Fault01_B134_RF100.csv",
         "type": "scatter",
         "x": [
          0.0309876,
          0.031248,
          0.0315084,
          0.0317688,
          0.0320292,
          0.0322896,
          0.03255,
          0.0328104,
          0.0330708,
          0.0333312,
          0.0335916,
          0.033852,
          0.0341124,
          0.0343728,
          0.0346332,
          0.0348936,
          0.035154,
          0.0354144,
          0.0356748,
          0.0359352,
          0.0361956,
          0.036456,
          0.0367164,
          0.0369768,
          0.0372372,
          0.0374976,
          0.037758,
          0.0380184,
          0.0382788,
          0.0385392,
          0.0387996,
          0.03906,
          0.0393204,
          0.0395808,
          0.0398412,
          0.0401016,
          0.040362,
          0.0406224,
          0.0408828,
          0.0411432,
          0.0414036,
          0.041664,
          0.0419244,
          0.0421848,
          0.0424452,
          0.0427056,
          0.042966,
          0.0432264,
          0.0434868,
          0.0437472,
          0.0440076,
          0.044268,
          0.0445284,
          0.0447888,
          0.0450492,
          0.0453096,
          0.04557,
          0.0458304,
          0.0460908,
          0.0463512,
          0.0466116,
          0.046872,
          0.0471324,
          0.0473928
         ],
         "xaxis": "x5",
         "y": [
          -12.36577320098877,
          -16.285158157348633,
          -20.00530433654785,
          -23.594680786132812,
          -27.07414436340332,
          -30.257286071777344,
          -33.042728424072266,
          -35.51671600341797,
          -37.76190948486328,
          -39.62841033935547,
          -43.79779815673828,
          -86.86995697021484,
          -106.12293243408203,
          -105.10557556152344,
          -114.4526596069336,
          -105.34326171875,
          -100.09606170654297,
          -111.12976837158203,
          -97.70381164550781,
          -80.53028869628906,
          -75.42595672607422,
          -64.6019287109375,
          -55.80880355834961,
          -41.68474197387695,
          -23.061460494995117,
          -11.358343124389648,
          -2.343458890914917,
          14.067873001098633,
          31.253437042236328,
          44.8502197265625,
          55.96385955810547,
          66.68280029296875,
          80.1181640625,
          98.70156860351562,
          107.29180908203125,
          113.07861328125,
          120.29405975341797,
          128.12681579589844,
          138.1355438232422,
          145.82009887695312,
          140.0941162109375,
          145.8709716796875,
          142.30555725097656,
          142.5418243408203,
          144.4963836669922,
          139.61996459960938,
          132.3920135498047,
          131.18905639648438,
          127.56055450439453,
          108.8266830444336,
          99.27967834472656,
          92.70962524414062,
          75.43095397949219,
          76.8050765991211,
          60.048343658447266,
          28.946483612060547,
          27.22124481201172,
          14.179208755493164,
          -1.0137015581130981,
          -8.596373558044434,
          -34.87929153442383,
          -50.94697189331055,
          -55.42533493041992,
          -72.47038269042969
         ],
         "yaxis": "y5"
        },
        {
         "marker": {
          "color": "black"
         },
         "name": "Fault - 126 - Fault01_B860_RF60.csv",
         "type": "scatter",
         "x": [
          0.0328104,
          0.0330708,
          0.0333312,
          0.0335916,
          0.033852,
          0.0341124,
          0.0343728,
          0.0346332,
          0.0348936,
          0.035154,
          0.0354144,
          0.0356748,
          0.0359352,
          0.0361956,
          0.036456,
          0.0367164,
          0.0369768,
          0.0372372,
          0.0374976,
          0.037758,
          0.0380184,
          0.0382788,
          0.0385392,
          0.0387996,
          0.03906,
          0.0393204,
          0.0395808,
          0.0398412,
          0.0401016,
          0.040362,
          0.0406224,
          0.0408828,
          0.0411432,
          0.0414036,
          0.041664,
          0.0419244,
          0.0421848,
          0.0424452,
          0.0427056,
          0.042966,
          0.0432264,
          0.0434868,
          0.0437472,
          0.0440076,
          0.044268,
          0.0445284,
          0.0447888,
          0.0450492,
          0.0453096,
          0.04557,
          0.0458304,
          0.0460908,
          0.0463512,
          0.0466116,
          0.046872,
          0.0471324,
          0.0473928,
          0.0476532,
          0.0479136,
          0.048174,
          0.0484344,
          0.0486948,
          0.0489552,
          0.0492156
         ],
         "xaxis": "x6",
         "y": [
          -36.77409362792969,
          -34.531593322753906,
          -31.66555404663086,
          -28.77204704284668,
          -26.379810333251953,
          -18.150686264038086,
          -7.554947853088379,
          3.7703468799591064,
          17.694766998291016,
          30.989824295043945,
          44.51711654663086,
          60.63175964355469,
          75.34940338134766,
          88.91584777832031,
          102.50814819335938,
          115.318603515625,
          127.84024047851562,
          139.26597595214844,
          147.94677734375,
          156.05470275878906,
          163.4786834716797,
          168.90357971191406,
          172.44309997558594,
          173.95909118652344,
          174.0152587890625,
          173.23851013183594,
          170.2535400390625,
          164.85421752929688,
          158.1611785888672,
          150.31991577148438,
          141.26309204101562,
          130.5653076171875,
          118.10398864746094,
          104.7095718383789,
          90.64682006835938,
          75.78456115722656,
          59.877925872802734,
          43.36676788330078,
          26.375837326049805,
          9.292913436889648,
          -7.989659786224365,
          -25.586162567138672,
          -42.93442153930664,
          -59.79716491699219,
          -76.1796646118164,
          -92.00504302978516,
          -107.43512725830078,
          -121.71188354492188,
          -134.51890563964844,
          -145.98497009277344,
          -156.3415069580078,
          -165.26803588867188,
          -172.4088897705078,
          -177.75318908691406,
          -181.37733459472656,
          -183.5576171875,
          -184.11029052734375,
          -182.60296630859375,
          -179.2224884033203,
          -174.17111206054688,
          -167.79330444335938,
          -159.7352752685547,
          -149.92855834960938,
          -138.6287384033203
         ],
         "yaxis": "y6"
        },
        {
         "marker": {
          "color": "black"
         },
         "name": "No Fault - 17 - Fault01_B840_RF20.csv",
         "type": "scatter",
         "x": [
          0.0044268,
          0.0046872,
          0.0049476,
          0.005208,
          0.0054684,
          0.0057288,
          0.0059892,
          0.0062496,
          0.00651,
          0.0067704,
          0.0070308,
          0.0072912,
          0.0075516,
          0.007812,
          0.0080724,
          0.0083328,
          0.0085932,
          0.0088536,
          0.009114,
          0.0093744,
          0.0096348,
          0.0098952,
          0.0101556,
          0.010416,
          0.0106764,
          0.0109368,
          0.0111972,
          0.0114576,
          0.011718,
          0.0119784,
          0.0122388,
          0.0124992,
          0.0127596,
          0.01302,
          0.0132804,
          0.0135408,
          0.0138012,
          0.0140616,
          0.014322,
          0.0145824,
          0.0148428,
          0.0151032,
          0.0153636,
          0.015624,
          0.0158844,
          0.0161448,
          0.0164052,
          0.0166656,
          0.016926,
          0.0171864,
          0.0174468,
          0.0177072,
          0.0179676,
          0.018228,
          0.0184884,
          0.0187488,
          0.0190092,
          0.0192696,
          0.01953,
          0.0197904,
          0.0200508,
          0.0203112,
          0.0205716,
          0.020832
         ],
         "xaxis": "x7",
         "y": [
          36.19926071166992,
          39.12310791015625,
          41.29255676269531,
          43.15576934814453,
          42.85887908935547,
          42.92814254760742,
          43.14836120605469,
          43.45375442504883,
          42.667686462402344,
          40.51984786987305,
          38.287940979003906,
          36.58412551879883,
          35.33401107788086,
          33.207557678222656,
          29.642772674560547,
          25.389753341674805,
          21.23172950744629,
          17.914466857910156,
          15.01398754119873,
          11.470597267150879,
          7.065205097198486,
          1.7981253862380981,
          -2.9841229915618896,
          -6.813525199890137,
          -10.101806640625,
          -13.445141792297363,
          -17.53522491455078,
          -22.051193237304688,
          -26.140460968017578,
          -29.280874252319336,
          -31.52322006225586,
          -33.754058837890625,
          -36.36130142211914,
          -38.949520111083984,
          -40.78662109375,
          -41.96400833129883,
          -42.47659683227539,
          -42.93956756591797,
          -42.996639251708984,
          -42.74310302734375,
          -41.918296813964844,
          -40.817115783691406,
          -39.15116882324219,
          -37.28200912475586,
          -34.87958526611328,
          -32.123714447021484,
          -28.974939346313477,
          -26.03432846069336,
          -22.70132064819336,
          -19.15651512145996,
          -14.865007400512695,
          -10.650468826293945,
          -6.4786529541015625,
          -2.5610456466674805,
          1.3312159776687622,
          5.314605712890625,
          9.689839363098145,
          13.8560791015625,
          17.85136604309082,
          21.220773696899414,
          24.66646957397461,
          27.841686248779297,
          31.121000289916992,
          33.79198455810547
         ],
         "yaxis": "y7"
        },
        {
         "marker": {
          "color": "black"
         },
         "name": "No Fault - 61 - Fault01_B832_RF1e-05.csv",
         "type": "scatter",
         "x": [
          0.0158844,
          0.0161448,
          0.0164052,
          0.0166656,
          0.016926,
          0.0171864,
          0.0174468,
          0.0177072,
          0.0179676,
          0.018228,
          0.0184884,
          0.0187488,
          0.0190092,
          0.0192696,
          0.01953,
          0.0197904,
          0.0200508,
          0.0203112,
          0.0205716,
          0.020832,
          0.0210924,
          0.0213528,
          0.0216132,
          0.0218736,
          0.022134,
          0.0223944,
          0.0226548,
          0.0229152,
          0.0231756,
          0.023436,
          0.0236964,
          0.0239568,
          0.0242172,
          0.0244776,
          0.024738,
          0.0249984,
          0.0252588,
          0.0255192,
          0.0257796,
          0.02604,
          0.0263004,
          0.0265608,
          0.0268212,
          0.0270816,
          0.027342,
          0.0276024,
          0.0278628,
          0.0281232,
          0.0283836,
          0.028644,
          0.0289044,
          0.0291648,
          0.0294252,
          0.0296856,
          0.029946,
          0.0302064,
          0.0304668,
          0.0307272,
          0.0309876,
          0.031248,
          0.0315084,
          0.0317688,
          0.0320292,
          0.0322896
         ],
         "xaxis": "x8",
         "y": [
          -31.04924201965332,
          -33.91970443725586,
          -36.12242889404297,
          -38.13916015625,
          -39.762142181396484,
          -41.254669189453125,
          -42.289188385009766,
          -42.9820442199707,
          -43.19440841674805,
          -42.76191711425781,
          -41.949275970458984,
          -40.90586471557617,
          -39.42324447631836,
          -37.71416473388672,
          -35.55083084106445,
          -32.9775276184082,
          -29.917762756347656,
          -26.646726608276367,
          -23.309467315673828,
          -19.820138931274414,
          -15.91162395477295,
          -11.776597023010254,
          -7.569033145904541,
          -3.4483895301818848,
          0.6807847619056702,
          4.731590747833252,
          8.950643539428711,
          12.939663887023926,
          16.92830467224121,
          20.66219711303711,
          24.265106201171875,
          27.6229248046875,
          30.679309844970703,
          33.45771026611328,
          35.89039611816406,
          38.10463333129883,
          39.89170455932617,
          41.308074951171875,
          42.286136627197266,
          42.875831604003906,
          43.150150299072266,
          42.89588928222656,
          42.166404724121094,
          41.1047477722168,
          39.541595458984375,
          37.82072067260742,
          35.70252227783203,
          33.1710319519043,
          30.195493698120117,
          26.980823516845703,
          23.636188507080078,
          20.03995132446289,
          16.128131866455078,
          12.012219429016113,
          7.886990070343018,
          3.78814959526062,
          -0.33222731947898865,
          -4.407815933227539,
          -8.65920352935791,
          -12.716568946838379,
          -16.627552032470703,
          -20.359798431396484,
          -23.93968963623047,
          -27.401506423950195
         ],
         "yaxis": "y8"
        },
        {
         "marker": {
          "color": "black"
         },
         "name": "Fault - 123 - Fault01_B832_RF1e-05.csv",
         "type": "scatter",
         "x": [
          0.0320292,
          0.0322896,
          0.03255,
          0.0328104,
          0.0330708,
          0.0333312,
          0.0335916,
          0.033852,
          0.0341124,
          0.0343728,
          0.0346332,
          0.0348936,
          0.035154,
          0.0354144,
          0.0356748,
          0.0359352,
          0.0361956,
          0.036456,
          0.0367164,
          0.0369768,
          0.0372372,
          0.0374976,
          0.037758,
          0.0380184,
          0.0382788,
          0.0385392,
          0.0387996,
          0.03906,
          0.0393204,
          0.0395808,
          0.0398412,
          0.0401016,
          0.040362,
          0.0406224,
          0.0408828,
          0.0411432,
          0.0414036,
          0.041664,
          0.0419244,
          0.0421848,
          0.0424452,
          0.0427056,
          0.042966,
          0.0432264,
          0.0434868,
          0.0437472,
          0.0440076,
          0.044268,
          0.0445284,
          0.0447888,
          0.0450492,
          0.0453096,
          0.04557,
          0.0458304,
          0.0460908,
          0.0463512,
          0.0466116,
          0.046872,
          0.0471324,
          0.0473928,
          0.0476532,
          0.0479136,
          0.048174,
          0.0484344
         ],
         "xaxis": "x9",
         "y": [
          -23.93968963623047,
          -27.401506423950195,
          -30.527118682861328,
          -33.2982063293457,
          -35.77034378051758,
          -37.96448516845703,
          -45.3966178894043,
          -105.0465316772461,
          -124.31195068359375,
          -140.02809143066406,
          -173.8031463623047,
          -159.4443359375,
          -181.03790283203125,
          -204.78912353515625,
          -178.8285675048828,
          -188.92271423339844,
          -184.80697631835938,
          -162.88978576660156,
          -179.15731811523438,
          -146.19415283203125,
          -120.8529281616211,
          -122.81211853027344,
          -88.18500518798828,
          -73.46744537353516,
          -49.73460006713867,
          -2.8381381034851074,
          1.6104822158813477,
          28.070810317993164,
          66.11377716064453,
          84.02918243408203,
          124.87469482421875,
          153.2041778564453,
          152.79507446289062,
          194.8995361328125,
          222.1174774169922,
          226.22740173339844,
          267.2402038574219,
          270.4786682128906,
          281.01983642578125,
          310.7518615722656,
          297.8351745605469,
          303.4871520996094,
          323.4661560058594,
          315.8523864746094,
          319.8306579589844,
          308.3919372558594,
          282.083251953125,
          293.7571105957031,
          280.8521423339844,
          261.8396911621094,
          243.68748474121094,
          203.55276489257812,
          196.64967346191406,
          183.48739624023438,
          142.15113830566406,
          119.51131439208984,
          80.76971435546875,
          53.231971740722656,
          39.31290054321289,
          -0.9863815307617188,
          -36.360626220703125,
          -60.41364669799805,
          -90.26264953613281,
          -126.16261291503906
         ],
         "yaxis": "y9"
        }
       ],
       "layout": {
        "height": 700,
        "margin": {
         "b": 20,
         "l": 20,
         "r": 30,
         "t": 40
        },
        "plot_bgcolor": "rgba(0,0,0,0)",
        "template": {
         "data": {
          "bar": [
           {
            "error_x": {
             "color": "#2a3f5f"
            },
            "error_y": {
             "color": "#2a3f5f"
            },
            "marker": {
             "line": {
              "color": "#E5ECF6",
              "width": 0.5
             },
             "pattern": {
              "fillmode": "overlay",
              "size": 10,
              "solidity": 0.2
             }
            },
            "type": "bar"
           }
          ],
          "barpolar": [
           {
            "marker": {
             "line": {
              "color": "#E5ECF6",
              "width": 0.5
             },
             "pattern": {
              "fillmode": "overlay",
              "size": 10,
              "solidity": 0.2
             }
            },
            "type": "barpolar"
           }
          ],
          "carpet": [
           {
            "aaxis": {
             "endlinecolor": "#2a3f5f",
             "gridcolor": "white",
             "linecolor": "white",
             "minorgridcolor": "white",
             "startlinecolor": "#2a3f5f"
            },
            "baxis": {
             "endlinecolor": "#2a3f5f",
             "gridcolor": "white",
             "linecolor": "white",
             "minorgridcolor": "white",
             "startlinecolor": "#2a3f5f"
            },
            "type": "carpet"
           }
          ],
          "choropleth": [
           {
            "colorbar": {
             "outlinewidth": 0,
             "ticks": ""
            },
            "type": "choropleth"
           }
          ],
          "contour": [
           {
            "colorbar": {
             "outlinewidth": 0,
             "ticks": ""
            },
            "colorscale": [
             [
              0,
              "#0d0887"
             ],
             [
              0.1111111111111111,
              "#46039f"
             ],
             [
              0.2222222222222222,
              "#7201a8"
             ],
             [
              0.3333333333333333,
              "#9c179e"
             ],
             [
              0.4444444444444444,
              "#bd3786"
             ],
             [
              0.5555555555555556,
              "#d8576b"
             ],
             [
              0.6666666666666666,
              "#ed7953"
             ],
             [
              0.7777777777777778,
              "#fb9f3a"
             ],
             [
              0.8888888888888888,
              "#fdca26"
             ],
             [
              1,
              "#f0f921"
             ]
            ],
            "type": "contour"
           }
          ],
          "contourcarpet": [
           {
            "colorbar": {
             "outlinewidth": 0,
             "ticks": ""
            },
            "type": "contourcarpet"
           }
          ],
          "heatmap": [
           {
            "colorbar": {
             "outlinewidth": 0,
             "ticks": ""
            },
            "colorscale": [
             [
              0,
              "#0d0887"
             ],
             [
              0.1111111111111111,
              "#46039f"
             ],
             [
              0.2222222222222222,
              "#7201a8"
             ],
             [
              0.3333333333333333,
              "#9c179e"
             ],
             [
              0.4444444444444444,
              "#bd3786"
             ],
             [
              0.5555555555555556,
              "#d8576b"
             ],
             [
              0.6666666666666666,
              "#ed7953"
             ],
             [
              0.7777777777777778,
              "#fb9f3a"
             ],
             [
              0.8888888888888888,
              "#fdca26"
             ],
             [
              1,
              "#f0f921"
             ]
            ],
            "type": "heatmap"
           }
          ],
          "heatmapgl": [
           {
            "colorbar": {
             "outlinewidth": 0,
             "ticks": ""
            },
            "colorscale": [
             [
              0,
              "#0d0887"
             ],
             [
              0.1111111111111111,
              "#46039f"
             ],
             [
              0.2222222222222222,
              "#7201a8"
             ],
             [
              0.3333333333333333,
              "#9c179e"
             ],
             [
              0.4444444444444444,
              "#bd3786"
             ],
             [
              0.5555555555555556,
              "#d8576b"
             ],
             [
              0.6666666666666666,
              "#ed7953"
             ],
             [
              0.7777777777777778,
              "#fb9f3a"
             ],
             [
              0.8888888888888888,
              "#fdca26"
             ],
             [
              1,
              "#f0f921"
             ]
            ],
            "type": "heatmapgl"
           }
          ],
          "histogram": [
           {
            "marker": {
             "pattern": {
              "fillmode": "overlay",
              "size": 10,
              "solidity": 0.2
             }
            },
            "type": "histogram"
           }
          ],
          "histogram2d": [
           {
            "colorbar": {
             "outlinewidth": 0,
             "ticks": ""
            },
            "colorscale": [
             [
              0,
              "#0d0887"
             ],
             [
              0.1111111111111111,
              "#46039f"
             ],
             [
              0.2222222222222222,
              "#7201a8"
             ],
             [
              0.3333333333333333,
              "#9c179e"
             ],
             [
              0.4444444444444444,
              "#bd3786"
             ],
             [
              0.5555555555555556,
              "#d8576b"
             ],
             [
              0.6666666666666666,
              "#ed7953"
             ],
             [
              0.7777777777777778,
              "#fb9f3a"
             ],
             [
              0.8888888888888888,
              "#fdca26"
             ],
             [
              1,
              "#f0f921"
             ]
            ],
            "type": "histogram2d"
           }
          ],
          "histogram2dcontour": [
           {
            "colorbar": {
             "outlinewidth": 0,
             "ticks": ""
            },
            "colorscale": [
             [
              0,
              "#0d0887"
             ],
             [
              0.1111111111111111,
              "#46039f"
             ],
             [
              0.2222222222222222,
              "#7201a8"
             ],
             [
              0.3333333333333333,
              "#9c179e"
             ],
             [
              0.4444444444444444,
              "#bd3786"
             ],
             [
              0.5555555555555556,
              "#d8576b"
             ],
             [
              0.6666666666666666,
              "#ed7953"
             ],
             [
              0.7777777777777778,
              "#fb9f3a"
             ],
             [
              0.8888888888888888,
              "#fdca26"
             ],
             [
              1,
              "#f0f921"
             ]
            ],
            "type": "histogram2dcontour"
           }
          ],
          "mesh3d": [
           {
            "colorbar": {
             "outlinewidth": 0,
             "ticks": ""
            },
            "type": "mesh3d"
           }
          ],
          "parcoords": [
           {
            "line": {
             "colorbar": {
              "outlinewidth": 0,
              "ticks": ""
             }
            },
            "type": "parcoords"
           }
          ],
          "pie": [
           {
            "automargin": true,
            "type": "pie"
           }
          ],
          "scatter": [
           {
            "fillpattern": {
             "fillmode": "overlay",
             "size": 10,
             "solidity": 0.2
            },
            "type": "scatter"
           }
          ],
          "scatter3d": [
           {
            "line": {
             "colorbar": {
              "outlinewidth": 0,
              "ticks": ""
             }
            },
            "marker": {
             "colorbar": {
              "outlinewidth": 0,
              "ticks": ""
             }
            },
            "type": "scatter3d"
           }
          ],
          "scattercarpet": [
           {
            "marker": {
             "colorbar": {
              "outlinewidth": 0,
              "ticks": ""
             }
            },
            "type": "scattercarpet"
           }
          ],
          "scattergeo": [
           {
            "marker": {
             "colorbar": {
              "outlinewidth": 0,
              "ticks": ""
             }
            },
            "type": "scattergeo"
           }
          ],
          "scattergl": [
           {
            "marker": {
             "colorbar": {
              "outlinewidth": 0,
              "ticks": ""
             }
            },
            "type": "scattergl"
           }
          ],
          "scattermapbox": [
           {
            "marker": {
             "colorbar": {
              "outlinewidth": 0,
              "ticks": ""
             }
            },
            "type": "scattermapbox"
           }
          ],
          "scatterpolar": [
           {
            "marker": {
             "colorbar": {
              "outlinewidth": 0,
              "ticks": ""
             }
            },
            "type": "scatterpolar"
           }
          ],
          "scatterpolargl": [
           {
            "marker": {
             "colorbar": {
              "outlinewidth": 0,
              "ticks": ""
             }
            },
            "type": "scatterpolargl"
           }
          ],
          "scatterternary": [
           {
            "marker": {
             "colorbar": {
              "outlinewidth": 0,
              "ticks": ""
             }
            },
            "type": "scatterternary"
           }
          ],
          "surface": [
           {
            "colorbar": {
             "outlinewidth": 0,
             "ticks": ""
            },
            "colorscale": [
             [
              0,
              "#0d0887"
             ],
             [
              0.1111111111111111,
              "#46039f"
             ],
             [
              0.2222222222222222,
              "#7201a8"
             ],
             [
              0.3333333333333333,
              "#9c179e"
             ],
             [
              0.4444444444444444,
              "#bd3786"
             ],
             [
              0.5555555555555556,
              "#d8576b"
             ],
             [
              0.6666666666666666,
              "#ed7953"
             ],
             [
              0.7777777777777778,
              "#fb9f3a"
             ],
             [
              0.8888888888888888,
              "#fdca26"
             ],
             [
              1,
              "#f0f921"
             ]
            ],
            "type": "surface"
           }
          ],
          "table": [
           {
            "cells": {
             "fill": {
              "color": "#EBF0F8"
             },
             "line": {
              "color": "white"
             }
            },
            "header": {
             "fill": {
              "color": "#C8D4E3"
             },
             "line": {
              "color": "white"
             }
            },
            "type": "table"
           }
          ]
         },
         "layout": {
          "annotationdefaults": {
           "arrowcolor": "#2a3f5f",
           "arrowhead": 0,
           "arrowwidth": 1
          },
          "autotypenumbers": "strict",
          "coloraxis": {
           "colorbar": {
            "outlinewidth": 0,
            "ticks": ""
           }
          },
          "colorscale": {
           "diverging": [
            [
             0,
             "#8e0152"
            ],
            [
             0.1,
             "#c51b7d"
            ],
            [
             0.2,
             "#de77ae"
            ],
            [
             0.3,
             "#f1b6da"
            ],
            [
             0.4,
             "#fde0ef"
            ],
            [
             0.5,
             "#f7f7f7"
            ],
            [
             0.6,
             "#e6f5d0"
            ],
            [
             0.7,
             "#b8e186"
            ],
            [
             0.8,
             "#7fbc41"
            ],
            [
             0.9,
             "#4d9221"
            ],
            [
             1,
             "#276419"
            ]
           ],
           "sequential": [
            [
             0,
             "#0d0887"
            ],
            [
             0.1111111111111111,
             "#46039f"
            ],
            [
             0.2222222222222222,
             "#7201a8"
            ],
            [
             0.3333333333333333,
             "#9c179e"
            ],
            [
             0.4444444444444444,
             "#bd3786"
            ],
            [
             0.5555555555555556,
             "#d8576b"
            ],
            [
             0.6666666666666666,
             "#ed7953"
            ],
            [
             0.7777777777777778,
             "#fb9f3a"
            ],
            [
             0.8888888888888888,
             "#fdca26"
            ],
            [
             1,
             "#f0f921"
            ]
           ],
           "sequentialminus": [
            [
             0,
             "#0d0887"
            ],
            [
             0.1111111111111111,
             "#46039f"
            ],
            [
             0.2222222222222222,
             "#7201a8"
            ],
            [
             0.3333333333333333,
             "#9c179e"
            ],
            [
             0.4444444444444444,
             "#bd3786"
            ],
            [
             0.5555555555555556,
             "#d8576b"
            ],
            [
             0.6666666666666666,
             "#ed7953"
            ],
            [
             0.7777777777777778,
             "#fb9f3a"
            ],
            [
             0.8888888888888888,
             "#fdca26"
            ],
            [
             1,
             "#f0f921"
            ]
           ]
          },
          "colorway": [
           "#636efa",
           "#EF553B",
           "#00cc96",
           "#ab63fa",
           "#FFA15A",
           "#19d3f3",
           "#FF6692",
           "#B6E880",
           "#FF97FF",
           "#FECB52"
          ],
          "font": {
           "color": "#2a3f5f"
          },
          "geo": {
           "bgcolor": "white",
           "lakecolor": "white",
           "landcolor": "#E5ECF6",
           "showlakes": true,
           "showland": true,
           "subunitcolor": "white"
          },
          "hoverlabel": {
           "align": "left"
          },
          "hovermode": "closest",
          "mapbox": {
           "style": "light"
          },
          "paper_bgcolor": "white",
          "plot_bgcolor": "#E5ECF6",
          "polar": {
           "angularaxis": {
            "gridcolor": "white",
            "linecolor": "white",
            "ticks": ""
           },
           "bgcolor": "#E5ECF6",
           "radialaxis": {
            "gridcolor": "white",
            "linecolor": "white",
            "ticks": ""
           }
          },
          "scene": {
           "xaxis": {
            "backgroundcolor": "#E5ECF6",
            "gridcolor": "white",
            "gridwidth": 2,
            "linecolor": "white",
            "showbackground": true,
            "ticks": "",
            "zerolinecolor": "white"
           },
           "yaxis": {
            "backgroundcolor": "#E5ECF6",
            "gridcolor": "white",
            "gridwidth": 2,
            "linecolor": "white",
            "showbackground": true,
            "ticks": "",
            "zerolinecolor": "white"
           },
           "zaxis": {
            "backgroundcolor": "#E5ECF6",
            "gridcolor": "white",
            "gridwidth": 2,
            "linecolor": "white",
            "showbackground": true,
            "ticks": "",
            "zerolinecolor": "white"
           }
          },
          "shapedefaults": {
           "line": {
            "color": "#2a3f5f"
           }
          },
          "ternary": {
           "aaxis": {
            "gridcolor": "white",
            "linecolor": "white",
            "ticks": ""
           },
           "baxis": {
            "gridcolor": "white",
            "linecolor": "white",
            "ticks": ""
           },
           "bgcolor": "#E5ECF6",
           "caxis": {
            "gridcolor": "white",
            "linecolor": "white",
            "ticks": ""
           }
          },
          "title": {
           "x": 0.05
          },
          "xaxis": {
           "automargin": true,
           "gridcolor": "white",
           "linecolor": "white",
           "ticks": "",
           "title": {
            "standoff": 15
           },
           "zerolinecolor": "white",
           "zerolinewidth": 2
          },
          "yaxis": {
           "automargin": true,
           "gridcolor": "white",
           "linecolor": "white",
           "ticks": "",
           "title": {
            "standoff": 15
           },
           "zerolinecolor": "white",
           "zerolinewidth": 2
          }
         }
        },
        "title": {
         "text": "Figuras"
        },
        "width": 900,
        "xaxis": {
         "anchor": "y",
         "domain": [
          0,
          0.2888888888888889
         ]
        },
        "xaxis2": {
         "anchor": "y2",
         "domain": [
          0.35555555555555557,
          0.6444444444444445
         ]
        },
        "xaxis3": {
         "anchor": "y3",
         "domain": [
          0.7111111111111111,
          1
         ]
        },
        "xaxis4": {
         "anchor": "y4",
         "domain": [
          0,
          0.2888888888888889
         ]
        },
        "xaxis5": {
         "anchor": "y5",
         "domain": [
          0.35555555555555557,
          0.6444444444444445
         ]
        },
        "xaxis6": {
         "anchor": "y6",
         "domain": [
          0.7111111111111111,
          1
         ]
        },
        "xaxis7": {
         "anchor": "y7",
         "domain": [
          0,
          0.2888888888888889
         ]
        },
        "xaxis8": {
         "anchor": "y8",
         "domain": [
          0.35555555555555557,
          0.6444444444444445
         ]
        },
        "xaxis9": {
         "anchor": "y9",
         "domain": [
          0.7111111111111111,
          1
         ]
        },
        "yaxis": {
         "anchor": "x",
         "domain": [
          0.7333333333333333,
          1
         ]
        },
        "yaxis2": {
         "anchor": "x2",
         "domain": [
          0.7333333333333333,
          1
         ]
        },
        "yaxis3": {
         "anchor": "x3",
         "domain": [
          0.7333333333333333,
          1
         ]
        },
        "yaxis4": {
         "anchor": "x4",
         "domain": [
          0.36666666666666664,
          0.6333333333333333
         ]
        },
        "yaxis5": {
         "anchor": "x5",
         "domain": [
          0.36666666666666664,
          0.6333333333333333
         ]
        },
        "yaxis6": {
         "anchor": "x6",
         "domain": [
          0.36666666666666664,
          0.6333333333333333
         ]
        },
        "yaxis7": {
         "anchor": "x7",
         "domain": [
          0,
          0.26666666666666666
         ]
        },
        "yaxis8": {
         "anchor": "x8",
         "domain": [
          0,
          0.26666666666666666
         ]
        },
        "yaxis9": {
         "anchor": "x9",
         "domain": [
          0,
          0.26666666666666666
         ]
        }
       }
      }
     },
     "metadata": {},
     "output_type": "display_data"
    }
   ],
   "source": [
    "from plotly.subplots import make_subplots\n",
    "import plotly.graph_objects as go\n",
    "\n",
    "fs = 3840\n",
    "dataset_plot = Form1Dataset(\n",
    "    dataset_dir, max_window_idx=max_window_idx, signal_name=signal_name, test=True\n",
    ")\n",
    "plot_dataloader = DataLoader(dataset_plot, batch_size=train_batch_size, shuffle=True)\n",
    "\n",
    "dataiter = iter(plot_dataloader)\n",
    "signal_windows, t_windows, labels, csv_name, index, window_idx = next(dataiter)\n",
    "print(len(csv_name))\n",
    "print(window_idx.shape)\n",
    "print(labels.shape)\n",
    "\n",
    "print(labels.type())\n",
    "x = model(signal_windows[0:9].to(device))\n",
    "# x = x.detach()\n",
    "\n",
    "# Crear Matriz de confusión\n",
    "df = confusion_matrix(x, labels[0:9])\n",
    "print(type(df))\n",
    "print(df)\n",
    "\n",
    "# figure = plt.figure(figsize=(10, 10))\n",
    "cols, rows = 3, 3\n",
    "fig = make_subplots(rows=rows, cols=cols)\n",
    "\n",
    "label_to_text = {\n",
    "    \"0\": \"No Fault\",\n",
    "    \"1\": \"Fault\",\n",
    "}\n",
    "\n",
    "for i in range(0, cols * rows):\n",
    "\n",
    "    col = i % cols\n",
    "    row = i // cols\n",
    "    label = label_to_text[str(int(labels[i, 0].item()))]\n",
    "    win_idx = str(window_idx[i].item())\n",
    "    fig.add_trace(\n",
    "        go.Scatter(\n",
    "            name=f\"{label} - {win_idx} - {csv_name[i]}\",\n",
    "            x=t_windows[i, :],\n",
    "            y=signal_windows[i, :, 0],\n",
    "            marker_color=\"black\",\n",
    "        ),\n",
    "        row=row + 1,\n",
    "        col=col + 1,\n",
    "    )\n",
    "\n",
    "fig.update_layout(\n",
    "    height=700,\n",
    "    width=900,\n",
    "    title_text=\"Figuras\",\n",
    "    margin={\"b\": 20, \"t\": 40, \"l\": 20, \"r\": 30},\n",
    "    plot_bgcolor=\"rgba(0,0,0,0)\",\n",
    "    # paper_bgcolor=\"whitesmoke\",\n",
    ")\n",
    "fig.show()\n"
   ]
  },
  {
   "attachments": {},
   "cell_type": "markdown",
   "metadata": {},
   "source": [
    "##### 6.3. Matplotlib Plots"
   ]
  },
  {
   "cell_type": "code",
   "execution_count": 15,
   "metadata": {},
   "outputs": [
    {
     "name": "stdout",
     "output_type": "stream",
     "text": [
      "   Pred probability  Pred label  True label Result\n",
      "0          0.934606           1           1     TP\n",
      "1          0.042833           0           0     TN\n",
      "2          0.715621           1           1     TP\n",
      "3          0.966417           1           1     TP\n",
      "4          0.751770           1           1     TP\n",
      "5          0.045122           0           0     TN\n",
      "6          0.048706           0           0     TN\n",
      "7          0.032596           0           0     TN\n",
      "8          0.075378           0           0     TN\n"
     ]
    },
    {
     "data": {
      "image/png": "[encoded data removed]",
      "text/plain": [
       "<Figure size 1000x1000 with 9 Axes>"
      ]
     },
     "metadata": {},
     "output_type": "display_data"
    }
   ],
   "source": [
    "dataset_plot = Form1Dataset(\n",
    "    dataset_dir, max_window_idx=max_window_idx, signal_name=signal_name, test=True\n",
    ")\n",
    "plot_dataloader = DataLoader(dataset_plot, batch_size=train_batch_size, shuffle=True)\n",
    "\n",
    "dataiter = iter(plot_dataloader)\n",
    "signal_windows, t_windows, labels, *_ = next(dataiter)\n",
    "fs = 3840\n",
    "\n",
    "x = model(signal_windows[1:10].to(device))\n",
    "x = x.detach()\n",
    "\n",
    "# Crear Matriz de confusión\n",
    "df = confusion_matrix(x, labels[1:10])\n",
    "print(df)\n",
    "\n",
    "figure = plt.figure(figsize=(10, 10))\n",
    "cols, rows = 3, 3\n",
    "for i in range(1, cols * rows + 1):\n",
    "    figure.add_subplot(rows, cols, i)\n",
    "    plt.plot(t_windows[i, :], signal_windows[i, :, 0])\n"
   ]
  },
  {
   "attachments": {},
   "cell_type": "markdown",
   "metadata": {},
   "source": [
    "### 7. Data Exploration"
   ]
  },
  {
   "attachments": {},
   "cell_type": "markdown",
   "metadata": {},
   "source": [
    "##### 7.1. Auxiliar Functions"
   ]
  },
  {
   "cell_type": "code",
   "execution_count": 401,
   "metadata": {},
   "outputs": [],
   "source": [
    "def signal_exploration(idx: int, dataset, model, plot_signal: bool = True):\n",
    "    signal, t, idx_min, idx_max, csv_name = dataset.get_event(idx)\n",
    "    model.eval()\n",
    "    if plot_signal == True:\n",
    "        plt.plot(t, signal)\n",
    "        plt.show()\n",
    "    conf_matrix = torch.zeros(1, 5, dtype=torch.int64).to(device)\n",
    "    preds = torch.empty((0, 1))\n",
    "    labels = torch.empty((0, 1))\n",
    "    for i in range(idx_min, idx_max + 1):\n",
    "        signal, y = dataset.__getitem__(i)\n",
    "        y = torch.unsqueeze(y, 0).to(device)\n",
    "        signal = torch.unsqueeze(signal, 0).to(device)\n",
    "        pred = model(signal)\n",
    "        preds = torch.cat((preds, pred), 0)\n",
    "        labels = torch.cat((labels, y), 0)\n",
    "        conf_matrix = conf_matrix.add(binary_stat_scores(pred, y))\n",
    "    df = confusion_matrix(preds, labels)\n",
    "    df.insert(loc=0, column=\"event_idx\", value=np.repeat(idx, idx_max - idx_min + 1))\n",
    "    # df.insert(loc=0, column=\"window_idx\", value=df.index)\n",
    "    # df.insert(loc=0, column=\"indices\", value=idxs)\n",
    "\n",
    "    return df, conf_matrix\n",
    "\n",
    "\n",
    "def plot_confusion_matrix(metrics):\n",
    "    z = [[metrics[\"TP\"], metrics[\"FN\"]], [metrics[\"FP\"], metrics[\"TN\"]]]\n",
    "    fig = px.imshow(\n",
    "        z,\n",
    "        text_auto=True,\n",
    "        template=\"seaborn\",\n",
    "        labels=dict(x=\"Predicted Label\", y=\"Real Label\", color=\"Predictions\"),\n",
    "        x=[\"Positive\", \"Negative\"],\n",
    "        y=[\"Positive\", \"Negative\"],\n",
    "        width=400,\n",
    "        height=300,\n",
    "    )\n",
    "    fig.show()\n",
    "\n",
    "\n",
    "def print_metrics(metrics):\n",
    "    print(f\"{'Total windows:':.<30}{metrics['TOTAL']:4}\")\n",
    "    print(f\"{'True Positives:':.<30}{metrics['TP']:4}\")\n",
    "    print(f\"{'False Positives:':.<30}{metrics['FP']:4}\")\n",
    "    print(f\"{'True Negatives:':.<30}{metrics['TN']:4}\")\n",
    "    print(f\"{'False Negatives:':.<30}{metrics['FN']:4}\")\n",
    "    print(f\"{'Accuracy:':.<30}{metrics['ACC']*100:>6.1f}%\")\n",
    "    print(f\"{'True Positive Rate:':.<30}{metrics['TPR']*100:>6.1f}%\") \n",
    "    print(f\"{'False Positive Rate:':.<30}{metrics['FPR']*100:>6.1f}%\") \n",
    "    print(f\"{'True Negative Rate:':.<30}{metrics['TNR']*100:>6.1f}%\") \n",
    "    try:\n",
    "        print(f\"{'Positive Predictive Value:':.<30}{metrics['PPV']*100:>6.1f}%\")\n",
    "    except KeyError:\n",
    "        print(f\"PPV divided by 0. No positive class predicted\")\n",
    "    # metrics[\"PPV\"]\n"
   ]
  },
  {
   "attachments": {},
   "cell_type": "markdown",
   "metadata": {},
   "source": [
    "##### 7.2. Data Exploration"
   ]
  },
  {
   "cell_type": "code",
   "execution_count": 403,
   "metadata": {},
   "outputs": [],
   "source": [
    "# Seleccionar pesos de modelo\n",
    "# model.load_state_dict(torch.load('./models/LSTMHarmonic_weights_R3_934.pth'))\n",
    "# model.load_state_dict(torch.load(\"./models/LSTMHarmonic_weights_R1_996.pth\"))\n",
    "model.load_state_dict(torch.load('./models/LSTMHarmonic_weights_R2_978.pth'))\n",
    "\n",
    "# Select Signal Name\n",
    "# signal_name = \"I: X0023A-R1A\"\n",
    "signal_name = \"I: X0004A-R2A\"\n",
    "# signal_name = \"I: X0071A-R3A\"\n",
    "\n",
    "# Create Dataset\n",
    "dataset = Form1Dataset(\n",
    "    dataset_dir, max_window_idx=max_window_idx, signal_name=signal_name\n",
    ")\n",
    "\n",
    "\n"
   ]
  },
  {
   "attachments": {},
   "cell_type": "markdown",
   "metadata": {},
   "source": [
    "##### 7.4. Plot individual windows"
   ]
  },
  {
   "attachments": {},
   "cell_type": "markdown",
   "metadata": {},
   "source": [
    "##### 7.5. Whole Dataset Exploration"
   ]
  },
  {
   "cell_type": "code",
   "execution_count": 411,
   "metadata": {},
   "outputs": [],
   "source": [
    "# Create Dataframe with information about data\n",
    "# print(dataset.len_events())\n",
    "# conf_matrix = torch.zeros(0, 5, dtype=torch.int64).to(device)\n",
    "# for idx in tqdm(range(dataset.len_events())):\n",
    "# # for idx in tqdm(range()):\n",
    "#     df, CM = signal_exploration(idx, dataset, model, plot_signal=False)\n",
    "#     conf_matrix = torch.cat((conf_matrix, CM))\n",
    "#     if idx == 0:\n",
    "#         dataset_df = df\n",
    "#     else:\n",
    "#         dataset_df = pd.concat([dataset_df, df])\n",
    "\n",
    "# dataset_df = dataset_df.reset_index()\n",
    "# dataset_df = dataset_df.rename(columns={'index': 'window idx'})\n",
    "# conf_matrix_total = np.sum(conf_matrix.numpy(), axis=0)\n",
    "\n",
    "def load_df(i):\n",
    "    dataset_df = pd.read_parquet(f\"parquet_data/ModelR{i}_R{i}_df.parquet\")\n",
    "    conf_matrix_df = pd.read_parquet(f\"parquet_data/ModelR{i}_R{i}_CM_df.parquet\")\n",
    "    conf_matrix = np.load(f\"parquet_data/ModelR{i}_R{i}_CM.npy\", allow_pickle=False)\n",
    "    return dataset_df, conf_matrix_df, conf_matrix\n",
    "\n",
    "dataset_df, conf_matrix_df, conf_matrix = load_df(3)\n",
    "conf_matrix_total = np.sum(conf_matrix, axis=0)\n",
    "metrics = conf_matrix_metrics(conf_matrix_total)\n"
   ]
  },
  {
   "cell_type": "code",
   "execution_count": 414,
   "metadata": {},
   "outputs": [
    {
     "name": "stdout",
     "output_type": "stream",
     "text": [
      "FALSE POSITVES\n",
      "      window idx  event_idx  Pred probability  Pred label  True label Result\n",
      "1              1          0          0.505244           1           0     FP\n",
      "2              2          0          0.509963           1           0     FP\n",
      "29            29          0          0.526133           1           0     FP\n",
      "30            30          0          0.540268           1           0     FP\n",
      "31            31          0          0.507128           1           0     FP\n",
      "65            65          0          0.500103           1           0     FP\n",
      "161           31          1          0.502779           1           0     FP\n",
      "162           32          1          0.500787           1           0     FP\n",
      "188           58          1          0.506541           1           0     FP\n",
      "189           59          1          0.534108           1           0     FP\n",
      "190           60          1          0.529670           1           0     FP\n",
      "275           15          2          0.526197           1           0     FP\n",
      "276           16          2          0.541509           1           0     FP\n",
      "277           17          2          0.510886           1           0     FP\n",
      "312           52          2          0.506797           1           0     FP\n",
      "404           14          3          0.507808           1           0     FP\n",
      "405           15          3          0.537339           1           0     FP\n",
      "406           16          3          0.537742           1           0     FP\n",
      "441           51          3          0.502884           1           0     FP\n",
      "442           52          3          0.500312           1           0     FP\n",
      "522            2          4          0.508816           1           0     FP\n",
      "523            3          4          0.505480           1           0     FP\n",
      "549           29          4          0.504679           1           0     FP\n",
      "550           30          4          0.534852           1           0     FP\n",
      "551           31          4          0.536637           1           0     FP\n",
      "658            8          5          0.503870           1           0     FP\n",
      "659            9          5          0.508662           1           0     FP\n",
      "686           36          5          0.529349           1           0     FP\n",
      "687           37          5          0.540748           1           0     FP\n",
      "798           18          6          0.527470           1           0     FP\n",
      "799           19          6          0.536760           1           0     FP\n",
      "835           55          6          0.506642           1           0     FP\n",
      "910            0          7          0.550370           1           0     FP\n",
      "911            1          7          0.560197           1           0     FP\n",
      "946           36          7          0.503960           1           0     FP\n",
      "973           63          7          0.510898           1           0     FP\n",
      "974           64          7          0.534271           1           0     FP\n",
      "975           65          7          0.521848           1           0     FP\n",
      "1040           0          8          0.554746           1           0     FP\n",
      "1075          35          8          0.506090           1           0     FP\n",
      "1102          62          8          0.519996           1           0     FP\n",
      "1103          63          8          0.535900           1           0     FP\n",
      "1104          64          8          0.507180           1           0     FP\n",
      "1182          12          9          0.504881           1           0     FP\n",
      "1183          13          9          0.503618           1           0     FP\n",
      "1209          39          9          0.506133           1           0     FP\n",
      "1210          40          9          0.535654           1           0     FP\n",
      "1211          41          9          0.535789           1           0     FP\n",
      "1301           1         10          0.517950           1           0     FP\n",
      "1302           2         10          0.547725           1           0     FP\n",
      "1303           3         10          0.553913           1           0     FP\n",
      "1338          38         10          0.502985           1           0     FP\n",
      "1365          65         10          0.507971           1           0     FP\n",
      "1432           2         11          0.523901           1           0     FP\n",
      "1433           3         11          0.548717           1           0     FP\n",
      "1434           4         11          0.551568           1           0     FP\n",
      "1469          39         11          0.504759           1           0     FP\n",
      "1564           4         12          0.507252           1           0     FP\n",
      "1565           5         12          0.509441           1           0     FP\n",
      "1592          32         12          0.531109           1           0     FP\n",
      "1593          33         12          0.541054           1           0     FP\n",
      "1721          31         13          0.506341           1           0     FP\n",
      "1748          58         13          0.528305           1           0     FP\n",
      "1749          59         13          0.536582           1           0     FP\n",
      "1830          10         14          0.508566           1           0     FP\n",
      "1857          37         14          0.519307           1           0     FP\n",
      "1858          38         14          0.540085           1           0     FP\n",
      "1859          39         14          0.524156           1           0     FP\n",
      "1970          20         15          0.501518           1           0     FP\n",
      "1971          21         15          0.532789           1           0     FP\n",
      "1972          22         15          0.534139           1           0     FP\n",
      "2007          57         15          0.502510           1           0     FP\n",
      "2008          58         15          0.503977           1           0     FP\n",
      "2092          12         16          0.509505           1           0     FP\n",
      "2093          13         16          0.538040           1           0     FP\n",
      "2094          14         16          0.539555           1           0     FP\n",
      "2129          49         16          0.502876           1           0     FP\n",
      "2225          15         17          0.508027           1           0     FP\n",
      "2252          42         17          0.524040           1           0     FP\n",
      "2253          43         17          0.540193           1           0     FP\n",
      "2254          44         17          0.511124           1           0     FP\n",
      "2364          24         18          0.505232           1           0     FP\n",
      "2391          51         18          0.515195           1           0     FP\n",
      "2392          52         18          0.538151           1           0     FP\n",
      "2393          53         18          0.526825           1           0     FP\n",
      "2492          22         19          0.504961           1           0     FP\n",
      "2519          49         19          0.513771           1           0     FP\n",
      "2520          50         19          0.537967           1           0     FP\n",
      "2521          51         19          0.529004           1           0     FP\n",
      "2618          18         20          0.521646           1           0     FP\n",
      "2619          19         20          0.537273           1           0     FP\n",
      "2620          20         20          0.508437           1           0     FP\n",
      "2655          55         20          0.506909           1           0     FP\n",
      "2734           4         21          0.510351           1           0     FP\n",
      "2761          31         21          0.520420           1           0     FP\n",
      "2762          32         21          0.540285           1           0     FP\n",
      "2763          33         21          0.522289           1           0     FP\n",
      "2865           5         22          0.508684           1           0     FP\n",
      "2866           6         22          0.502588           1           0     FP\n",
      "2892          32         22          0.509884           1           0     FP\n",
      "2893          33         22          0.537890           1           0     FP\n",
      "2894          34         22          0.535904           1           0     FP\n",
      "3001          11         23          0.516884           1           0     FP\n",
      "3002          12         23          0.541600           1           0     FP\n",
      "3003          13         23          0.536435           1           0     FP\n",
      "3038          48         23          0.504599           1           0     FP\n",
      "3120           0         24          0.560095           1           0     FP\n",
      "3121           1         24          0.532965           1           0     FP\n",
      "3155          35         24          0.500313           1           0     FP\n",
      "3156          36         24          0.505255           1           0     FP\n",
      "3183          63         24          0.529074           1           0     FP\n",
      "3184          64         24          0.533425           1           0     FP\n",
      "3276          26         25          0.502410           1           0     FP\n",
      "3277          27         25          0.502946           1           0     FP\n",
      "3303          53         25          0.504885           1           0     FP\n",
      "3304          54         25          0.534614           1           0     FP\n",
      "3305          55         25          0.534663           1           0     FP\n",
      "3396          16         26          0.532988           1           0     FP\n",
      "3397          17         26          0.538985           1           0     FP\n",
      "3432          52         26          0.500974           1           0     FP\n",
      "3433          53         26          0.504712           1           0     FP\n",
      "3530          20         27          0.507462           1           0     FP\n",
      "3557          47         27          0.525204           1           0     FP\n",
      "3558          48         27          0.539776           1           0     FP\n",
      "3559          49         27          0.508446           1           0     FP\n",
      "3640           0         28          0.529087           1           0     FP\n",
      "3641           1         28          0.554139           1           0     FP\n",
      "3642           2         28          0.554419           1           0     FP\n",
      "3677          37         28          0.505605           1           0     FP\n",
      "3704          64         28          0.518155           1           0     FP\n",
      "3705          65         28          0.535220           1           0     FP\n",
      "3771           1         29          0.509194           1           0     FP\n",
      "3772           2         29          0.504453           1           0     FP\n",
      "3798          28         29          0.506087           1           0     FP\n",
      "3799          29         29          0.535756           1           0     FP\n",
      "3800          30         29          0.536040           1           0     FP\n",
      "3835          65         29          0.504739           1           0     FP\n",
      "3919          19         30          0.518016           1           0     FP\n",
      "3920          20         30          0.536812           1           0     FP\n",
      "3921          21         30          0.515709           1           0     FP\n",
      "3956          56         30          0.506478           1           0     FP\n",
      "4049          19         31          0.529339           1           0     FP\n",
      "4050          20         31          0.535667           1           0     FP\n",
      "4085          55         31          0.500738           1           0     FP\n",
      "4086          56         31          0.505974           1           0     FP\n",
      "4167           7         32          0.508120           1           0     FP\n",
      "4194          34         32          0.518300           1           0     FP\n",
      "4195          35         32          0.540082           1           0     FP\n",
      "4196          36         32          0.526129           1           0     FP\n",
      "4306          16         33          0.502283           1           0     FP\n",
      "4307          17         33          0.507430           1           0     FP\n",
      "4334          44         33          0.530028           1           0     FP\n",
      "4335          45         33          0.539722           1           0     FP\n",
      "4435          15         34          0.505891           1           0     FP\n",
      "4436          16         34          0.535550           1           0     FP\n",
      "4437          17         34          0.536654           1           0     FP\n",
      "4472          52         34          0.502416           1           0     FP\n",
      "4473          53         34          0.501832           1           0     FP\n",
      "4558           8         35          0.531529           1           0     FP\n",
      "4559           9         35          0.549371           1           0     FP\n",
      "4560          10         35          0.527740           1           0     FP\n",
      "4595          45         35          0.506430           1           0     FP\n",
      "4689           9         36          0.508696           1           0     FP\n",
      "4716          36         36          0.520645           1           0     FP\n",
      "4717          37         36          0.540511           1           0     FP\n",
      "4718          38         36          0.521802           1           0     FP\n",
      "4832          22         37          0.504113           1           0     FP\n",
      "4833          23         37          0.500272           1           0     FP\n",
      "4859          49         37          0.510323           1           0     FP\n",
      "4860          50         37          0.536986           1           0     FP\n",
      "4861          51         37          0.532579           1           0     FP\n",
      "4944           4         38          0.508466           1           0     FP\n",
      "4945           5         38          0.541463           1           0     FP\n",
      "4946           6         38          0.553774           1           0     FP\n",
      "4981          41         38          0.501580           1           0     FP\n",
      "4982          42         38          0.502611           1           0     FP\n",
      "5087          17         39          0.532016           1           0     FP\n",
      "5088          18         39          0.536314           1           0     FP\n",
      "5123          53         39          0.500950           1           0     FP\n",
      "5124          54         39          0.504895           1           0     FP\n",
      "5221          21         40          0.506211           1           0     FP\n",
      "5248          48         40          0.518631           1           0     FP\n",
      "5249          49         40          0.539475           1           0     FP\n",
      "5250          50         40          0.522054           1           0     FP\n",
      "5353          23         41          0.519403           1           0     FP\n",
      "5354          24         41          0.537110           1           0     FP\n",
      "5355          25         41          0.514187           1           0     FP\n",
      "5390          60         41          0.507306           1           0     FP\n",
      "5483          23         42          0.500326           1           0     FP\n",
      "5484          24         42          0.531563           1           0     FP\n",
      "5485          25         42          0.533609           1           0     FP\n",
      "5520          60         42          0.502594           1           0     FP\n",
      "5521          61         42          0.505761           1           0     FP\n",
      "5590           0         43          0.522460           1           0     FP\n",
      "5591           1         43          0.550737           1           0     FP\n",
      "5592           2         43          0.558355           1           0     FP\n",
      "5627          37         43          0.504095           1           0     FP\n",
      "5654          64         43          0.512060           1           0     FP\n",
      "5655          65         43          0.534335           1           0     FP\n",
      "5730          10         44          0.519228           1           0     FP\n",
      "5731          11         44          0.543067           1           0     FP\n",
      "5732          12         44          0.537929           1           0     FP\n",
      "5767          47         44          0.504896           1           0     FP\n",
      "5870          20         45          0.507079           1           0     FP\n",
      "5897          47         45          0.522059           1           0     FP\n",
      "5898          48         45          0.539560           1           0     FP\n",
      "5899          49         45          0.516059           1           0     FP\n",
      "6005          25         46          0.530024           1           0     FP\n",
      "6006          26         46          0.535688           1           0     FP\n",
      "6041          61         46          0.502070           1           0     FP\n",
      "6042          62         46          0.507169           1           0     FP\n",
      "6141          31         47          0.505532           1           0     FP\n",
      "6168          58         47          0.517347           1           0     FP\n",
      "6169          59         47          0.536895           1           0     FP\n",
      "6170          60         47          0.517051           1           0     FP\n",
      "6261          21         48          0.506224           1           0     FP\n",
      "6288          48         48          0.518696           1           0     FP\n",
      "6289          49         48          0.539493           1           0     FP\n",
      "6290          50         48          0.521967           1           0     FP\n",
      "6379           9         49          0.519934           1           0     FP\n",
      "6380          10         49          0.545164           1           0     FP\n",
      "6381          11         49          0.539974           1           0     FP\n",
      "6416          46         49          0.505074           1           0     FP\n",
      "6505           5         50          0.509866           1           0     FP\n",
      "6532          32         50          0.517839           1           0     FP\n",
      "6533          33         50          0.540388           1           0     FP\n",
      "6534          34         50          0.527813           1           0     FP\n",
      "6636           6         51          0.505609           1           0     FP\n",
      "6637           7         51          0.508140           1           0     FP\n",
      "6664          34         51          0.531313           1           0     FP\n",
      "6665          35         51          0.541081           1           0     FP\n",
      "6766           6         52          0.522079           1           0     FP\n",
      "6767           7         52          0.546594           1           0     FP\n",
      "6768           8         52          0.545783           1           0     FP\n",
      "6803          43         52          0.504883           1           0     FP\n",
      "6897           7         53          0.505778           1           0     FP\n",
      "6898           8         53          0.505888           1           0     FP\n",
      "6924          34         53          0.502668           1           0     FP\n",
      "6925          35         53          0.534680           1           0     FP\n",
      "6926          36         53          0.538649           1           0     FP\n"
     ]
    },
    {
     "data": {
      "image/png": "[encoded data removed]",
      "text/plain": [
       "<Figure size 640x480 with 1 Axes>"
      ]
     },
     "metadata": {},
     "output_type": "display_data"
    },
    {
     "data": {
      "image/png": "[encoded data removed]",
      "text/plain": [
       "<Figure size 640x480 with 1 Axes>"
      ]
     },
     "metadata": {},
     "output_type": "display_data"
    },
    {
     "name": "stdout",
     "output_type": "stream",
     "text": [
      "FALSE NEGATIVES\n",
      "      window idx  event_idx  Pred probability  Pred label  True label Result\n",
      "196           66          1          0.273521           0           1     FN\n",
      "197           67          1          0.260014           0           1     FN\n",
      "198           68          1          0.385533           0           1     FN\n",
      "199           69          1          0.440082           0           1     FN\n",
      "326           66          2          0.187176           0           1     FN\n",
      "327           67          2          0.191928           0           1     FN\n",
      "328           68          2          0.190538           0           1     FN\n",
      "329           69          2          0.200255           0           1     FN\n",
      "330           70          2          0.211757           0           1     FN\n",
      "331           71          2          0.239996           0           1     FN\n",
      "332           72          2          0.238377           0           1     FN\n",
      "333           73          2          0.334053           0           1     FN\n",
      "334           74          2          0.465701           0           1     FN\n",
      "456           66          3          0.184567           0           1     FN\n",
      "457           67          3          0.188644           0           1     FN\n",
      "458           68          3          0.185813           0           1     FN\n",
      "459           69          3          0.193887           0           1     FN\n",
      "460           70          3          0.203527           0           1     FN\n",
      "461           71          3          0.226022           0           1     FN\n",
      "462           72          3          0.189948           0           1     FN\n",
      "464           74          3          0.446289           0           1     FN\n",
      "716           66          5          0.241648           0           1     FN\n",
      "717           67          5          0.274400           0           1     FN\n",
      "718           68          5          0.306505           0           1     FN\n",
      "719           69          5          0.345913           0           1     FN\n",
      "720           70          5          0.390652           0           1     FN\n",
      "721           71          5          0.445428           0           1     FN\n",
      "846           66          6          0.282922           0           1     FN\n",
      "847           67          6          0.341050           0           1     FN\n",
      "848           68          6          0.358398           0           1     FN\n",
      "849           69          6          0.355668           0           1     FN\n",
      "850           70          6          0.338838           0           1     FN\n",
      "851           71          6          0.385043           0           1     FN\n",
      "852           72          6          0.452265           0           1     FN\n",
      "855           75          6          0.341239           0           1     FN\n",
      "857           77          6          0.438417           0           1     FN\n",
      "978           68          7          0.475176           0           1     FN\n",
      "979           69          7          0.388840           0           1     FN\n",
      "980           70          7          0.403502           0           1     FN\n",
      "1107          67          8          0.490692           0           1     FN\n",
      "1108          68          8          0.442661           0           1     FN\n",
      "1109          69          8          0.373112           0           1     FN\n",
      "1110          70          8          0.364076           0           1     FN\n",
      "1111          71          8          0.448620           0           1     FN\n",
      "1236          66          9          0.176090           0           1     FN\n",
      "1237          67          9          0.197222           0           1     FN\n",
      "1238          68          9          0.213621           0           1     FN\n",
      "1239          69          9          0.222588           0           1     FN\n",
      "1240          70          9          0.250147           0           1     FN\n",
      "1241          71          9          0.278006           0           1     FN\n",
      "1242          72          9          0.304950           0           1     FN\n",
      "1243          73          9          0.330910           0           1     FN\n",
      "1244          74          9          0.361702           0           1     FN\n",
      "1245          75          9          0.407264           0           1     FN\n",
      "1246          76          9          0.460553           0           1     FN\n",
      "1368          68         10          0.477904           0           1     FN\n",
      "1369          69         10          0.481736           0           1     FN\n",
      "1370          70         10          0.390955           0           1     FN\n",
      "1371          71         10          0.414409           0           1     FN\n",
      "1372          72         10          0.420107           0           1     FN\n",
      "1373          73         10          0.402884           0           1     FN\n",
      "1374          74         10          0.377246           0           1     FN\n",
      "1375          75         10          0.347268           0           1     FN\n",
      "1376          76         10          0.416603           0           1     FN\n",
      "1499          69         11          0.440326           0           1     FN\n",
      "1501          71         11          0.416771           0           1     FN\n",
      "1502          72         11          0.415230           0           1     FN\n",
      "1503          73         11          0.381867           0           1     FN\n",
      "1504          74         11          0.366317           0           1     FN\n",
      "1505          75         11          0.339663           0           1     FN\n",
      "1506          76         11          0.361551           0           1     FN\n",
      "1507          77         11          0.408975           0           1     FN\n",
      "1626          66         12          0.417544           0           1     FN\n",
      "1627          67         12          0.483055           0           1     FN\n",
      "1756          66         13          0.255703           0           1     FN\n",
      "1757          67         13          0.287844           0           1     FN\n",
      "1758          68         13          0.371710           0           1     FN\n",
      "1759          69         13          0.364548           0           1     FN\n",
      "1886          66         14          0.201747           0           1     FN\n",
      "1887          67         14          0.228027           0           1     FN\n",
      "1888          68         14          0.255162           0           1     FN\n",
      "1889          69         14          0.284089           0           1     FN\n",
      "1890          70         14          0.316893           0           1     FN\n",
      "1891          71         14          0.353542           0           1     FN\n",
      "1892          72         14          0.398690           0           1     FN\n",
      "1893          73         14          0.464288           0           1     FN\n",
      "2016          66         15          0.274798           0           1     FN\n",
      "2017          67         15          0.307765           0           1     FN\n",
      "2018          68         15          0.352223           0           1     FN\n",
      "2019          69         15          0.381062           0           1     FN\n",
      "2020          70         15          0.421655           0           1     FN\n",
      "2021          71         15          0.490676           0           1     FN\n",
      "2146          66         16          0.176520           0           1     FN\n",
      "2147          67         16          0.178763           0           1     FN\n",
      "2148          68         16          0.181877           0           1     FN\n",
      "2149          69         16          0.193514           0           1     FN\n",
      "2150          70         16          0.153391           0           1     FN\n",
      "2151          71         16          0.339008           0           1     FN\n",
      "2152          72         16          0.359559           0           1     FN\n",
      "2161          81         16          0.495568           0           1     FN\n",
      "2162          82         16          0.463578           0           1     FN\n",
      "2163          83         16          0.473785           0           1     FN\n",
      "2165          85         16          0.491606           0           1     FN\n",
      "2276          66         17          0.133326           0           1     FN\n",
      "2277          67         17          0.137050           0           1     FN\n",
      "2278          68         17          0.157561           0           1     FN\n",
      "2279          69         17          0.169358           0           1     FN\n",
      "2280          70         17          0.202139           0           1     FN\n",
      "2281          71         17          0.226732           0           1     FN\n",
      "2282          72         17          0.254302           0           1     FN\n",
      "2283          73         17          0.283779           0           1     FN\n",
      "2284          74         17          0.312981           0           1     FN\n",
      "2285          75         17          0.352477           0           1     FN\n",
      "2286          76         17          0.397093           0           1     FN\n",
      "2287          77         17          0.454324           0           1     FN\n",
      "2406          66         18          0.180095           0           1     FN\n",
      "2407          67         18          0.191928           0           1     FN\n",
      "2408          68         18          0.183829           0           1     FN\n",
      "2409          69         18          0.182246           0           1     FN\n",
      "2410          70         18          0.177151           0           1     FN\n",
      "2411          71         18          0.182464           0           1     FN\n",
      "2412          72         18          0.177672           0           1     FN\n",
      "2413          73         18          0.175660           0           1     FN\n",
      "2414          74         18          0.177330           0           1     FN\n",
      "2415          75         18          0.172848           0           1     FN\n",
      "2416          76         18          0.174939           0           1     FN\n",
      "2417          77         18          0.180607           0           1     FN\n",
      "2418          78         18          0.196130           0           1     FN\n",
      "2419          79         18          0.205686           0           1     FN\n",
      "2420          80         18          0.223259           0           1     FN\n",
      "2421          81         18          0.238979           0           1     FN\n",
      "2422          82         18          0.264542           0           1     FN\n",
      "2423          83         18          0.291546           0           1     FN\n",
      "2424          84         18          0.330977           0           1     FN\n",
      "2425          85         18          0.377750           0           1     FN\n",
      "2426          86         18          0.431113           0           1     FN\n",
      "2427          87         18          0.496997           0           1     FN\n",
      "2433          93         18          0.478256           0           1     FN\n",
      "2434          94         18          0.451938           0           1     FN\n",
      "2435          95         18          0.445194           0           1     FN\n",
      "2436          96         18          0.447902           0           1     FN\n",
      "2437          97         18          0.452758           0           1     FN\n",
      "2438          98         18          0.455136           0           1     FN\n",
      "2439          99         18          0.451817           0           1     FN\n",
      "2440         100         18          0.440324           0           1     FN\n",
      "2441         101         18          0.419375           0           1     FN\n",
      "2442         102         18          0.392157           0           1     FN\n",
      "2443         103         18          0.363416           0           1     FN\n",
      "2444         104         18          0.338116           0           1     FN\n",
      "2445         105         18          0.318401           0           1     FN\n",
      "2446         106         18          0.304755           0           1     FN\n",
      "2447         107         18          0.297880           0           1     FN\n",
      "2448         108         18          0.287904           0           1     FN\n",
      "2449         109         18          0.306332           0           1     FN\n",
      "2453         113         18          0.490005           0           1     FN\n",
      "2454         114         18          0.473016           0           1     FN\n",
      "2460         120         18          0.413678           0           1     FN\n",
      "2461         121         18          0.297491           0           1     FN\n",
      "2462         122         18          0.282560           0           1     FN\n",
      "2463         123         18          0.229379           0           1     FN\n",
      "2464         124         18          0.194023           0           1     FN\n",
      "2465         125         18          0.187379           0           1     FN\n",
      "2466         126         18          0.189193           0           1     FN\n",
      "2467         127         18          0.189963           0           1     FN\n",
      "2468         128         18          0.188940           0           1     FN\n",
      "2469         129         18          0.185775           0           1     FN\n",
      "2536          66         19          0.167572           0           1     FN\n",
      "2537          67         19          0.205952           0           1     FN\n",
      "2538          68         19          0.202490           0           1     FN\n",
      "2539          69         19          0.207084           0           1     FN\n",
      "2540          70         19          0.227995           0           1     FN\n",
      "2541          71         19          0.273862           0           1     FN\n",
      "2542          72         19          0.297471           0           1     FN\n",
      "2543          73         19          0.305695           0           1     FN\n",
      "2544          74         19          0.324934           0           1     FN\n",
      "2545          75         19          0.364180           0           1     FN\n",
      "2546          76         19          0.450936           0           1     FN\n",
      "2666          66         20          0.212993           0           1     FN\n",
      "2667          67         20          0.230114           0           1     FN\n",
      "2668          68         20          0.248621           0           1     FN\n",
      "2669          69         20          0.247315           0           1     FN\n",
      "2670          70         20          0.256312           0           1     FN\n",
      "2671          71         20          0.287125           0           1     FN\n",
      "2672          72         20          0.343857           0           1     FN\n",
      "2673          73         20          0.418539           0           1     FN\n",
      "2675          75         20          0.441855           0           1     FN\n",
      "2796          66         21          0.449120           0           1     FN\n",
      "2819          89         21          0.475162           0           1     FN\n",
      "2829          99         21          0.480682           0           1     FN\n",
      "2830         100         21          0.488483           0           1     FN\n",
      "2831         101         21          0.485344           0           1     FN\n",
      "2832         102         21          0.489330           0           1     FN\n",
      "2833         103         21          0.447956           0           1     FN\n",
      "2834         104         21          0.378748           0           1     FN\n",
      "2835         105         21          0.333114           0           1     FN\n",
      "2836         106         21          0.319562           0           1     FN\n",
      "2837         107         21          0.318061           0           1     FN\n",
      "2838         108         21          0.320228           0           1     FN\n",
      "2839         109         21          0.313844           0           1     FN\n",
      "2840         110         21          0.304108           0           1     FN\n",
      "2841         111         21          0.288523           0           1     FN\n",
      "2842         112         21          0.273831           0           1     FN\n",
      "2843         113         21          0.260303           0           1     FN\n",
      "2844         114         21          0.249447           0           1     FN\n",
      "2845         115         21          0.241471           0           1     FN\n",
      "2846         116         21          0.244318           0           1     FN\n",
      "2847         117         21          0.354168           0           1     FN\n",
      "2926          66         22          0.383649           0           1     FN\n",
      "2927          67         22          0.436980           0           1     FN\n",
      "2945          85         22          0.463605           0           1     FN\n",
      "2946          86         22          0.423009           0           1     FN\n",
      "2947          87         22          0.398509           0           1     FN\n",
      "2948          88         22          0.384772           0           1     FN\n",
      "2949          89         22          0.373432           0           1     FN\n",
      "2950          90         22          0.361856           0           1     FN\n",
      "2951          91         22          0.401935           0           1     FN\n",
      "2959          99         22          0.498035           0           1     FN\n",
      "2960         100         22          0.441165           0           1     FN\n",
      "2962         102         22          0.488898           0           1     FN\n",
      "2963         103         22          0.492848           0           1     FN\n",
      "2964         104         22          0.411057           0           1     FN\n",
      "2965         105         22          0.328713           0           1     FN\n",
      "2966         106         22          0.296375           0           1     FN\n",
      "2967         107         22          0.295141           0           1     FN\n",
      "2968         108         22          0.312230           0           1     FN\n",
      "2969         109         22          0.347796           0           1     FN\n",
      "2970         110         22          0.425794           0           1     FN\n",
      "2971         111         22          0.432730           0           1     FN\n",
      "2972         112         22          0.269814           0           1     FN\n",
      "2973         113         22          0.224843           0           1     FN\n",
      "2974         114         22          0.207752           0           1     FN\n",
      "2975         115         22          0.195068           0           1     FN\n",
      "2976         116         22          0.183937           0           1     FN\n",
      "2977         117         22          0.174296           0           1     FN\n",
      "2978         118         22          0.165862           0           1     FN\n",
      "2979         119         22          0.159233           0           1     FN\n",
      "2980         120         22          0.154289           0           1     FN\n",
      "2981         121         22          0.152665           0           1     FN\n",
      "2982         122         22          0.153817           0           1     FN\n",
      "2983         123         22          0.405939           0           1     FN\n",
      "2988         128         22          0.426265           0           1     FN\n",
      "2989         129         22          0.229383           0           1     FN\n",
      "3056          66         23          0.174188           0           1     FN\n",
      "3057          67         23          0.177021           0           1     FN\n",
      "3058          68         23          0.183728           0           1     FN\n",
      "3059          69         23          0.150320           0           1     FN\n",
      "3060          70         23          0.305710           0           1     FN\n",
      "3061          71         23          0.372374           0           1     FN\n",
      "3062          72         23          0.452890           0           1     FN\n",
      "3068          78         23          0.480303           0           1     FN\n",
      "3070          80         23          0.349950           0           1     FN\n",
      "3071          81         23          0.310314           0           1     FN\n",
      "3072          82         23          0.286876           0           1     FN\n",
      "3073          83         23          0.238889           0           1     FN\n",
      "3074          84         23          0.210031           0           1     FN\n",
      "3075          85         23          0.205806           0           1     FN\n",
      "3076          86         23          0.210248           0           1     FN\n",
      "3077          87         23          0.210572           0           1     FN\n",
      "3078          88         23          0.208939           0           1     FN\n",
      "3079          89         23          0.203521           0           1     FN\n",
      "3080          90         23          0.199256           0           1     FN\n",
      "3081          91         23          0.192818           0           1     FN\n",
      "3082          92         23          0.186642           0           1     FN\n",
      "3083          93         23          0.178608           0           1     FN\n",
      "3084          94         23          0.170989           0           1     FN\n",
      "3085          95         23          0.163634           0           1     FN\n",
      "3086          96         23          0.157821           0           1     FN\n",
      "3087          97         23          0.154832           0           1     FN\n",
      "3088          98         23          0.155599           0           1     FN\n",
      "3089          99         23          0.151191           0           1     FN\n",
      "3090         100         23          0.142937           0           1     FN\n",
      "3091         101         23          0.145302           0           1     FN\n",
      "3092         102         23          0.370384           0           1     FN\n",
      "3096         106         23          0.475765           0           1     FN\n",
      "3097         107         23          0.421669           0           1     FN\n",
      "3098         108         23          0.243534           0           1     FN\n",
      "3099         109         23          0.331078           0           1     FN\n",
      "3100         110         23          0.378237           0           1     FN\n",
      "3101         111         23          0.455998           0           1     FN\n",
      "3102         112         23          0.460346           0           1     FN\n",
      "3103         113         23          0.498290           0           1     FN\n",
      "3105         115         23          0.498971           0           1     FN\n",
      "3106         116         23          0.428054           0           1     FN\n",
      "3107         117         23          0.361768           0           1     FN\n",
      "3108         118         23          0.324361           0           1     FN\n",
      "3109         119         23          0.311418           0           1     FN\n",
      "3110         120         23          0.310447           0           1     FN\n",
      "3111         121         23          0.310115           0           1     FN\n",
      "3112         122         23          0.304231           0           1     FN\n",
      "3113         123         23          0.291640           0           1     FN\n",
      "3114         124         23          0.274665           0           1     FN\n",
      "3115         125         23          0.258122           0           1     FN\n",
      "3116         126         23          0.244529           0           1     FN\n",
      "3117         127         23          0.234845           0           1     FN\n",
      "3118         128         23          0.228132           0           1     FN\n",
      "3119         129         23          0.224248           0           1     FN\n",
      "3186          66         24          0.456890           0           1     FN\n",
      "3187          67         24          0.361698           0           1     FN\n",
      "3188          68         24          0.328394           0           1     FN\n",
      "3189          69         24          0.343030           0           1     FN\n",
      "3190          70         24          0.314221           0           1     FN\n",
      "3191          71         24          0.364742           0           1     FN\n",
      "3192          72         24          0.369754           0           1     FN\n",
      "3193          73         24          0.420209           0           1     FN\n",
      "3194          74         24          0.457005           0           1     FN\n",
      "3316          66         25          0.218920           0           1     FN\n",
      "3317          67         25          0.207089           0           1     FN\n",
      "3318          68         25          0.272711           0           1     FN\n",
      "3319          69         25          0.278607           0           1     FN\n",
      "3320          70         25          0.295224           0           1     FN\n",
      "3321          71         25          0.402309           0           1     FN\n",
      "3322          72         25          0.390948           0           1     FN\n",
      "3446          66         26          0.191471           0           1     FN\n",
      "3447          67         26          0.198483           0           1     FN\n",
      "3448          68         26          0.195184           0           1     FN\n",
      "3449          69         26          0.205618           0           1     FN\n",
      "3450          70         26          0.216532           0           1     FN\n",
      "3451          71         26          0.247334           0           1     FN\n",
      "3452          72         26          0.297967           0           1     FN\n",
      "3453          73         26          0.250041           0           1     FN\n",
      "3576          66         27          0.146990           0           1     FN\n",
      "3577          67         27          0.138743           0           1     FN\n",
      "3578          68         27          0.159346           0           1     FN\n",
      "3579          69         27          0.171164           0           1     FN\n",
      "3580          70         27          0.184070           0           1     FN\n",
      "3581          71         27          0.227993           0           1     FN\n",
      "3582          72         27          0.225273           0           1     FN\n",
      "3583          73         27          0.254794           0           1     FN\n",
      "3584          74         27          0.258576           0           1     FN\n",
      "3585          75         27          0.282012           0           1     FN\n",
      "3586          76         27          0.311086           0           1     FN\n",
      "3587          77         27          0.328773           0           1     FN\n",
      "3588          78         27          0.368088           0           1     FN\n",
      "3589          79         27          0.394272           0           1     FN\n",
      "3590          80         27          0.457409           0           1     FN\n",
      "3707          67         28          0.450386           0           1     FN\n",
      "3708          68         28          0.484719           0           1     FN\n",
      "3709          69         28          0.387068           0           1     FN\n",
      "3710          70         28          0.364550           0           1     FN\n",
      "3711          71         28          0.434186           0           1     FN\n",
      "3712          72         28          0.424271           0           1     FN\n",
      "3713          73         28          0.433049           0           1     FN\n",
      "3714          74         28          0.426180           0           1     FN\n",
      "3715          75         28          0.486381           0           1     FN\n",
      "3966          66         30          0.224766           0           1     FN\n",
      "3967          67         30          0.211100           0           1     FN\n",
      "3968          68         30          0.223732           0           1     FN\n",
      "3969          69         30          0.240622           0           1     FN\n",
      "3970          70         30          0.254281           0           1     FN\n",
      "3971          71         30          0.287999           0           1     FN\n",
      "3972          72         30          0.345461           0           1     FN\n",
      "3973          73         30          0.436283           0           1     FN\n",
      "4096          66         31          0.267364           0           1     FN\n",
      "4097          67         31          0.329670           0           1     FN\n",
      "4098          68         31          0.365896           0           1     FN\n",
      "4099          69         31          0.495288           0           1     FN\n",
      "4100          70         31          0.453085           0           1     FN\n",
      "4226          66         32          0.291925           0           1     FN\n",
      "4227          67         32          0.342596           0           1     FN\n",
      "4228          68         32          0.352384           0           1     FN\n",
      "4229          69         32          0.422955           0           1     FN\n",
      "4230          70         32          0.468357           0           1     FN\n",
      "4356          66         33          0.132632           0           1     FN\n",
      "4357          67         33          0.131671           0           1     FN\n",
      "4358          68         33          0.173720           0           1     FN\n",
      "4359          69         33          0.168629           0           1     FN\n",
      "4360          70         33          0.210430           0           1     FN\n",
      "4361          71         33          0.229808           0           1     FN\n",
      "4362          72         33          0.265430           0           1     FN\n",
      "4363          73         33          0.307297           0           1     FN\n",
      "4364          74         33          0.352485           0           1     FN\n",
      "4365          75         33          0.382604           0           1     FN\n",
      "4366          76         33          0.439364           0           1     FN\n",
      "4486          66         34          0.191167           0           1     FN\n",
      "4487          67         34          0.190089           0           1     FN\n",
      "4488          68         34          0.195998           0           1     FN\n",
      "4489          69         34          0.213587           0           1     FN\n",
      "4490          70         34          0.222646           0           1     FN\n",
      "4491          71         34          0.244218           0           1     FN\n",
      "4492          72         34          0.278517           0           1     FN\n",
      "4493          73         34          0.241774           0           1     FN\n",
      "4616          66         35          0.184397           0           1     FN\n",
      "4617          67         35          0.322085           0           1     FN\n",
      "4618          68         35          0.389540           0           1     FN\n",
      "4619          69         35          0.410357           0           1     FN\n",
      "4620          70         35          0.431160           0           1     FN\n",
      "4621          71         35          0.483432           0           1     FN\n",
      "4625          75         35          0.495572           0           1     FN\n",
      "4626          76         35          0.494955           0           1     FN\n",
      "4627          77         35          0.415317           0           1     FN\n",
      "4628          78         35          0.414151           0           1     FN\n",
      "4629          79         35          0.418903           0           1     FN\n",
      "4630          80         35          0.443670           0           1     FN\n",
      "4631          81         35          0.474847           0           1     FN\n",
      "4746          66         36          0.346125           0           1     FN\n",
      "4747          67         36          0.498358           0           1     FN\n",
      "4876          66         37          0.252893           0           1     FN\n",
      "4877          67         37          0.284112           0           1     FN\n",
      "4878          68         37          0.322641           0           1     FN\n",
      "4879          69         37          0.445034           0           1     FN\n",
      "4894          84         37          0.481118           0           1     FN\n",
      "5006          66         38          0.467512           0           1     FN\n",
      "5008          68         38          0.493152           0           1     FN\n",
      "5266          66         40          0.225795           0           1     FN\n",
      "5267          67         40          0.245045           0           1     FN\n",
      "5268          68         40          0.286055           0           1     FN\n",
      "5269          69         40          0.382715           0           1     FN\n",
      "5279          79         40          0.494589           0           1     FN\n",
      "5280          80         40          0.440480           0           1     FN\n",
      "5526          66         42          0.373592           0           1     FN\n",
      "5527          67         42          0.425041           0           1     FN\n",
      "5528          68         42          0.454455           0           1     FN\n",
      "5657          67         43          0.462440           0           1     FN\n",
      "5659          69         43          0.400501           0           1     FN\n",
      "5660          70         43          0.462061           0           1     FN\n",
      "5786          66         44          0.180521           0           1     FN\n",
      "5787          67         44          0.199174           0           1     FN\n",
      "5788          68         44          0.172697           0           1     FN\n",
      "5789          69         44          0.330764           0           1     FN\n",
      "5790          70         44          0.380091           0           1     FN\n",
      "5916          66         45          0.191817           0           1     FN\n",
      "5917          67         45          0.169431           0           1     FN\n",
      "5918          68         45          0.243465           0           1     FN\n",
      "5919          69         45          0.211879           0           1     FN\n",
      "5920          70         45          0.247422           0           1     FN\n",
      "5921          71         45          0.261058           0           1     FN\n",
      "5922          72         45          0.264712           0           1     FN\n",
      "5923          73         45          0.316523           0           1     FN\n",
      "5924          74         45          0.296480           0           1     FN\n",
      "5925          75         45          0.345396           0           1     FN\n",
      "5926          76         45          0.368701           0           1     FN\n",
      "5927          77         45          0.360206           0           1     FN\n",
      "5928          78         45          0.436491           0           1     FN\n",
      "5929          79         45          0.436516           0           1     FN\n",
      "6046          66         46          0.430436           0           1     FN\n",
      "6047          67         46          0.470419           0           1     FN\n",
      "6176          66         47          0.382163           0           1     FN\n",
      "6177          67         47          0.265407           0           1     FN\n",
      "6178          68         47          0.475320           0           1     FN\n",
      "6179          69         47          0.392334           0           1     FN\n",
      "6306          66         48          0.225456           0           1     FN\n",
      "6307          67         48          0.232067           0           1     FN\n",
      "6308          68         48          0.281120           0           1     FN\n",
      "6309          69         48          0.372648           0           1     FN\n",
      "6319          79         48          0.492674           0           1     FN\n",
      "6436          66         49          0.385097           0           1     FN\n",
      "6437          67         49          0.223735           0           1     FN\n",
      "6438          68         49          0.495130           0           1     FN\n",
      "6442          72         49          0.471813           0           1     FN\n",
      "6826          66         52          0.382688           0           1     FN\n",
      "6827          67         52          0.409039           0           1     FN\n",
      "6828          68         52          0.486334           0           1     FN\n",
      "6829          69         52          0.489185           0           1     FN\n",
      "6830          70         52          0.476590           0           1     FN\n"
     ]
    },
    {
     "data": {
      "image/png": "[encoded data removed]",
      "text/plain": [
       "<Figure size 640x480 with 1 Axes>"
      ]
     },
     "metadata": {},
     "output_type": "display_data"
    },
    {
     "data": {
      "image/png": "[encoded data removed]",
      "text/plain": [
       "<Figure size 640x480 with 1 Axes>"
      ]
     },
     "metadata": {},
     "output_type": "display_data"
    }
   ],
   "source": [
    "# print(dataset_df)\n",
    "pd.set_option(\"display.max_rows\", 2000)\n",
    "false_positive = dataset_df.query('Result == \"FP\"')\n",
    "false_negative = dataset_df.query('Result == \"FN\"')\n",
    "# sample_df = pd.concat([sample_df, sample_df])\n",
    "\n",
    "\n",
    "\n",
    "\n",
    "false_positive_plot = false_positive.groupby([\"window idx\"])[\"window idx\"].count()\n",
    "false_negative_plot = false_negative.groupby([\"window idx\"])[\"window idx\"].count()\n",
    "# print(false_positive['Pred probability'].value_counts(bins=10, sort=False))\n",
    "\n",
    "# print(dataset_df.query('`window idx` == 66'))\n",
    "# print(false_positive.groupby(['Pred probability'])['Pred probability'].count())\n",
    "if len(false_positive_plot) > 0:\n",
    "    print(\"FALSE POSITVES\")\n",
    "    print(false_positive)\n",
    "    false_positive_plot.plot(kind=\"bar\", edgecolor=\"black\")\n",
    "    plt.show()\n",
    "    false_positive[\"Pred probability\"].value_counts(bins=10, sort=False).plot(\n",
    "        kind=\"bar\"\n",
    "    )\n",
    "    plt.show()\n",
    "if len(false_negative_plot) > 0:\n",
    "    print(\"FALSE NEGATIVES\")\n",
    "    print(false_negative)\n",
    "    false_negative_plot.plot(kind=\"bar\", edgecolor=\"black\")\n",
    "    plt.show()\n",
    "    false_negative[\"Pred probability\"].value_counts(bins=10, sort=False).plot(\n",
    "        kind=\"bar\"\n",
    "    )\n",
    "    plt.show()\n",
    "\n",
    "\n",
    "pd.options.plotting.backend = \"matplotlib\"\n",
    "\n",
    "plt.show()\n"
   ]
  },
  {
   "cell_type": "code",
   "execution_count": 410,
   "metadata": {},
   "outputs": [
    {
     "name": "stdout",
     "output_type": "stream",
     "text": [
      "[2759    0 3564  697 3456]\n",
      "Total windows:................7020\n",
      "True Positives:...............2759\n",
      "False Positives:..............   0\n",
      "True Negatives:...............3564\n",
      "False Negatives:.............. 697\n",
      "Accuracy:.....................  90.1%\n",
      "True Positive Rate:...........  79.8%\n",
      "False Positive Rate:..........   0.0%\n",
      "True Negative Rate:........... 100.0%\n",
      "Positive Predictive Value:.... 100.0%\n"
     ]
    },
    {
     "data": {
      "application/vnd.plotly.v1+json": {
       "config": {
        "plotlyServerURL": "https://plot.ly"
       },
       "data": [
        {
         "coloraxis": "coloraxis",
         "hovertemplate": "Predicted Label: %{x}<br>Real Label: %{y}<br>Predictions: %{z}<extra></extra>",
         "name": "0",
         "texttemplate": "%{z}",
         "type": "heatmap",
         "x": [
          "Positive",
          "Negative"
         ],
         "xaxis": "x",
         "y": [
          "Positive",
          "Negative"
         ],
         "yaxis": "y",
         "z": [
          [
           2759,
           697
          ],
          [
           0,
           3564
          ]
         ]
        }
       ],
       "layout": {
        "coloraxis": {
         "colorbar": {
          "title": {
           "text": "Predictions"
          }
         },
         "colorscale": [
          [
           0,
           "rgb(2,4,25)"
          ],
          [
           0.0625,
           "rgb(24,15,41)"
          ],
          [
           0.125,
           "rgb(47,23,57)"
          ],
          [
           0.1875,
           "rgb(71,28,72)"
          ],
          [
           0.25,
           "rgb(97,30,82)"
          ],
          [
           0.3125,
           "rgb(123,30,89)"
          ],
          [
           0.375,
           "rgb(150,27,91)"
          ],
          [
           0.4375,
           "rgb(177,22,88)"
          ],
          [
           0.5,
           "rgb(203,26,79)"
          ],
          [
           0.5625,
           "rgb(223,47,67)"
          ],
          [
           0.625,
           "rgb(236,76,61)"
          ],
          [
           0.6875,
           "rgb(242,107,73)"
          ],
          [
           0.75,
           "rgb(244,135,95)"
          ],
          [
           0.8125,
           "rgb(245,162,122)"
          ],
          [
           0.875,
           "rgb(246,188,153)"
          ],
          [
           0.9375,
           "rgb(247,212,187)"
          ],
          [
           1,
           "rgb(250,234,220)"
          ]
         ]
        },
        "height": 300,
        "margin": {
         "t": 60
        },
        "template": {
         "data": {
          "bar": [
           {
            "error_x": {
             "color": "rgb(36,36,36)"
            },
            "error_y": {
             "color": "rgb(36,36,36)"
            },
            "marker": {
             "line": {
              "color": "rgb(234,234,242)",
              "width": 0.5
             },
             "pattern": {
              "fillmode": "overlay",
              "size": 10,
              "solidity": 0.2
             }
            },
            "type": "bar"
           }
          ],
          "barpolar": [
           {
            "marker": {
             "line": {
              "color": "rgb(234,234,242)",
              "width": 0.5
             },
             "pattern": {
              "fillmode": "overlay",
              "size": 10,
              "solidity": 0.2
             }
            },
            "type": "barpolar"
           }
          ],
          "carpet": [
           {
            "aaxis": {
             "endlinecolor": "rgb(36,36,36)",
             "gridcolor": "white",
             "linecolor": "white",
             "minorgridcolor": "white",
             "startlinecolor": "rgb(36,36,36)"
            },
            "baxis": {
             "endlinecolor": "rgb(36,36,36)",
             "gridcolor": "white",
             "linecolor": "white",
             "minorgridcolor": "white",
             "startlinecolor": "rgb(36,36,36)"
            },
            "type": "carpet"
           }
          ],
          "choropleth": [
           {
            "colorbar": {
             "outlinewidth": 0,
             "tickcolor": "rgb(36,36,36)",
             "ticklen": 8,
             "ticks": "outside",
             "tickwidth": 2
            },
            "type": "choropleth"
           }
          ],
          "contour": [
           {
            "colorbar": {
             "outlinewidth": 0,
             "tickcolor": "rgb(36,36,36)",
             "ticklen": 8,
             "ticks": "outside",
             "tickwidth": 2
            },
            "colorscale": [
             [
              0,
              "rgb(2,4,25)"
             ],
             [
              0.06274509803921569,
              "rgb(24,15,41)"
             ],
             [
              0.12549019607843137,
              "rgb(47,23,57)"
             ],
             [
              0.18823529411764706,
              "rgb(71,28,72)"
             ],
             [
              0.25098039215686274,
              "rgb(97,30,82)"
             ],
             [
              0.3137254901960784,
              "rgb(123,30,89)"
             ],
             [
              0.3764705882352941,
              "rgb(150,27,91)"
             ],
             [
              0.4392156862745098,
              "rgb(177,22,88)"
             ],
             [
              0.5019607843137255,
              "rgb(203,26,79)"
             ],
             [
              0.5647058823529412,
              "rgb(223,47,67)"
             ],
             [
              0.6274509803921569,
              "rgb(236,76,61)"
             ],
             [
              0.6901960784313725,
              "rgb(242,107,73)"
             ],
             [
              0.7529411764705882,
              "rgb(244,135,95)"
             ],
             [
              0.8156862745098039,
              "rgb(245,162,122)"
             ],
             [
              0.8784313725490196,
              "rgb(246,188,153)"
             ],
             [
              0.9411764705882353,
              "rgb(247,212,187)"
             ],
             [
              1,
              "rgb(250,234,220)"
             ]
            ],
            "type": "contour"
           }
          ],
          "contourcarpet": [
           {
            "colorbar": {
             "outlinewidth": 0,
             "tickcolor": "rgb(36,36,36)",
             "ticklen": 8,
             "ticks": "outside",
             "tickwidth": 2
            },
            "type": "contourcarpet"
           }
          ],
          "heatmap": [
           {
            "colorbar": {
             "outlinewidth": 0,
             "tickcolor": "rgb(36,36,36)",
             "ticklen": 8,
             "ticks": "outside",
             "tickwidth": 2
            },
            "colorscale": [
             [
              0,
              "rgb(2,4,25)"
             ],
             [
              0.06274509803921569,
              "rgb(24,15,41)"
             ],
             [
              0.12549019607843137,
              "rgb(47,23,57)"
             ],
             [
              0.18823529411764706,
              "rgb(71,28,72)"
             ],
             [
              0.25098039215686274,
              "rgb(97,30,82)"
             ],
             [
              0.3137254901960784,
              "rgb(123,30,89)"
             ],
             [
              0.3764705882352941,
              "rgb(150,27,91)"
             ],
             [
              0.4392156862745098,
              "rgb(177,22,88)"
             ],
             [
              0.5019607843137255,
              "rgb(203,26,79)"
             ],
             [
              0.5647058823529412,
              "rgb(223,47,67)"
             ],
             [
              0.6274509803921569,
              "rgb(236,76,61)"
             ],
             [
              0.6901960784313725,
              "rgb(242,107,73)"
             ],
             [
              0.7529411764705882,
              "rgb(244,135,95)"
             ],
             [
              0.8156862745098039,
              "rgb(245,162,122)"
             ],
             [
              0.8784313725490196,
              "rgb(246,188,153)"
             ],
             [
              0.9411764705882353,
              "rgb(247,212,187)"
             ],
             [
              1,
              "rgb(250,234,220)"
             ]
            ],
            "type": "heatmap"
           }
          ],
          "heatmapgl": [
           {
            "colorbar": {
             "outlinewidth": 0,
             "tickcolor": "rgb(36,36,36)",
             "ticklen": 8,
             "ticks": "outside",
             "tickwidth": 2
            },
            "colorscale": [
             [
              0,
              "rgb(2,4,25)"
             ],
             [
              0.06274509803921569,
              "rgb(24,15,41)"
             ],
             [
              0.12549019607843137,
              "rgb(47,23,57)"
             ],
             [
              0.18823529411764706,
              "rgb(71,28,72)"
             ],
             [
              0.25098039215686274,
              "rgb(97,30,82)"
             ],
             [
              0.3137254901960784,
              "rgb(123,30,89)"
             ],
             [
              0.3764705882352941,
              "rgb(150,27,91)"
             ],
             [
              0.4392156862745098,
              "rgb(177,22,88)"
             ],
             [
              0.5019607843137255,
              "rgb(203,26,79)"
             ],
             [
              0.5647058823529412,
              "rgb(223,47,67)"
             ],
             [
              0.6274509803921569,
              "rgb(236,76,61)"
             ],
             [
              0.6901960784313725,
              "rgb(242,107,73)"
             ],
             [
              0.7529411764705882,
              "rgb(244,135,95)"
             ],
             [
              0.8156862745098039,
              "rgb(245,162,122)"
             ],
             [
              0.8784313725490196,
              "rgb(246,188,153)"
             ],
             [
              0.9411764705882353,
              "rgb(247,212,187)"
             ],
             [
              1,
              "rgb(250,234,220)"
             ]
            ],
            "type": "heatmapgl"
           }
          ],
          "histogram": [
           {
            "marker": {
             "pattern": {
              "fillmode": "overlay",
              "size": 10,
              "solidity": 0.2
             }
            },
            "type": "histogram"
           }
          ],
          "histogram2d": [
           {
            "colorbar": {
             "outlinewidth": 0,
             "tickcolor": "rgb(36,36,36)",
             "ticklen": 8,
             "ticks": "outside",
             "tickwidth": 2
            },
            "colorscale": [
             [
              0,
              "rgb(2,4,25)"
             ],
             [
              0.06274509803921569,
              "rgb(24,15,41)"
             ],
             [
              0.12549019607843137,
              "rgb(47,23,57)"
             ],
             [
              0.18823529411764706,
              "rgb(71,28,72)"
             ],
             [
              0.25098039215686274,
              "rgb(97,30,82)"
             ],
             [
              0.3137254901960784,
              "rgb(123,30,89)"
             ],
             [
              0.3764705882352941,
              "rgb(150,27,91)"
             ],
             [
              0.4392156862745098,
              "rgb(177,22,88)"
             ],
             [
              0.5019607843137255,
              "rgb(203,26,79)"
             ],
             [
              0.5647058823529412,
              "rgb(223,47,67)"
             ],
             [
              0.6274509803921569,
              "rgb(236,76,61)"
             ],
             [
              0.6901960784313725,
              "rgb(242,107,73)"
             ],
             [
              0.7529411764705882,
              "rgb(244,135,95)"
             ],
             [
              0.8156862745098039,
              "rgb(245,162,122)"
             ],
             [
              0.8784313725490196,
              "rgb(246,188,153)"
             ],
             [
              0.9411764705882353,
              "rgb(247,212,187)"
             ],
             [
              1,
              "rgb(250,234,220)"
             ]
            ],
            "type": "histogram2d"
           }
          ],
          "histogram2dcontour": [
           {
            "colorbar": {
             "outlinewidth": 0,
             "tickcolor": "rgb(36,36,36)",
             "ticklen": 8,
             "ticks": "outside",
             "tickwidth": 2
            },
            "colorscale": [
             [
              0,
              "rgb(2,4,25)"
             ],
             [
              0.06274509803921569,
              "rgb(24,15,41)"
             ],
             [
              0.12549019607843137,
              "rgb(47,23,57)"
             ],
             [
              0.18823529411764706,
              "rgb(71,28,72)"
             ],
             [
              0.25098039215686274,
              "rgb(97,30,82)"
             ],
             [
              0.3137254901960784,
              "rgb(123,30,89)"
             ],
             [
              0.3764705882352941,
              "rgb(150,27,91)"
             ],
             [
              0.4392156862745098,
              "rgb(177,22,88)"
             ],
             [
              0.5019607843137255,
              "rgb(203,26,79)"
             ],
             [
              0.5647058823529412,
              "rgb(223,47,67)"
             ],
             [
              0.6274509803921569,
              "rgb(236,76,61)"
             ],
             [
              0.6901960784313725,
              "rgb(242,107,73)"
             ],
             [
              0.7529411764705882,
              "rgb(244,135,95)"
             ],
             [
              0.8156862745098039,
              "rgb(245,162,122)"
             ],
             [
              0.8784313725490196,
              "rgb(246,188,153)"
             ],
             [
              0.9411764705882353,
              "rgb(247,212,187)"
             ],
             [
              1,
              "rgb(250,234,220)"
             ]
            ],
            "type": "histogram2dcontour"
           }
          ],
          "mesh3d": [
           {
            "colorbar": {
             "outlinewidth": 0,
             "tickcolor": "rgb(36,36,36)",
             "ticklen": 8,
             "ticks": "outside",
             "tickwidth": 2
            },
            "type": "mesh3d"
           }
          ],
          "parcoords": [
           {
            "line": {
             "colorbar": {
              "outlinewidth": 0,
              "tickcolor": "rgb(36,36,36)",
              "ticklen": 8,
              "ticks": "outside",
              "tickwidth": 2
             }
            },
            "type": "parcoords"
           }
          ],
          "pie": [
           {
            "automargin": true,
            "type": "pie"
           }
          ],
          "scatter": [
           {
            "fillpattern": {
             "fillmode": "overlay",
             "size": 10,
             "solidity": 0.2
            },
            "type": "scatter"
           }
          ],
          "scatter3d": [
           {
            "line": {
             "colorbar": {
              "outlinewidth": 0,
              "tickcolor": "rgb(36,36,36)",
              "ticklen": 8,
              "ticks": "outside",
              "tickwidth": 2
             }
            },
            "marker": {
             "colorbar": {
              "outlinewidth": 0,
              "tickcolor": "rgb(36,36,36)",
              "ticklen": 8,
              "ticks": "outside",
              "tickwidth": 2
             }
            },
            "type": "scatter3d"
           }
          ],
          "scattercarpet": [
           {
            "marker": {
             "colorbar": {
              "outlinewidth": 0,
              "tickcolor": "rgb(36,36,36)",
              "ticklen": 8,
              "ticks": "outside",
              "tickwidth": 2
             }
            },
            "type": "scattercarpet"
           }
          ],
          "scattergeo": [
           {
            "marker": {
             "colorbar": {
              "outlinewidth": 0,
              "tickcolor": "rgb(36,36,36)",
              "ticklen": 8,
              "ticks": "outside",
              "tickwidth": 2
             }
            },
            "type": "scattergeo"
           }
          ],
          "scattergl": [
           {
            "marker": {
             "colorbar": {
              "outlinewidth": 0,
              "tickcolor": "rgb(36,36,36)",
              "ticklen": 8,
              "ticks": "outside",
              "tickwidth": 2
             }
            },
            "type": "scattergl"
           }
          ],
          "scattermapbox": [
           {
            "marker": {
             "colorbar": {
              "outlinewidth": 0,
              "tickcolor": "rgb(36,36,36)",
              "ticklen": 8,
              "ticks": "outside",
              "tickwidth": 2
             }
            },
            "type": "scattermapbox"
           }
          ],
          "scatterpolar": [
           {
            "marker": {
             "colorbar": {
              "outlinewidth": 0,
              "tickcolor": "rgb(36,36,36)",
              "ticklen": 8,
              "ticks": "outside",
              "tickwidth": 2
             }
            },
            "type": "scatterpolar"
           }
          ],
          "scatterpolargl": [
           {
            "marker": {
             "colorbar": {
              "outlinewidth": 0,
              "tickcolor": "rgb(36,36,36)",
              "ticklen": 8,
              "ticks": "outside",
              "tickwidth": 2
             }
            },
            "type": "scatterpolargl"
           }
          ],
          "scatterternary": [
           {
            "marker": {
             "colorbar": {
              "outlinewidth": 0,
              "tickcolor": "rgb(36,36,36)",
              "ticklen": 8,
              "ticks": "outside",
              "tickwidth": 2
             }
            },
            "type": "scatterternary"
           }
          ],
          "surface": [
           {
            "colorbar": {
             "outlinewidth": 0,
             "tickcolor": "rgb(36,36,36)",
             "ticklen": 8,
             "ticks": "outside",
             "tickwidth": 2
            },
            "colorscale": [
             [
              0,
              "rgb(2,4,25)"
             ],
             [
              0.06274509803921569,
              "rgb(24,15,41)"
             ],
             [
              0.12549019607843137,
              "rgb(47,23,57)"
             ],
             [
              0.18823529411764706,
              "rgb(71,28,72)"
             ],
             [
              0.25098039215686274,
              "rgb(97,30,82)"
             ],
             [
              0.3137254901960784,
              "rgb(123,30,89)"
             ],
             [
              0.3764705882352941,
              "rgb(150,27,91)"
             ],
             [
              0.4392156862745098,
              "rgb(177,22,88)"
             ],
             [
              0.5019607843137255,
              "rgb(203,26,79)"
             ],
             [
              0.5647058823529412,
              "rgb(223,47,67)"
             ],
             [
              0.6274509803921569,
              "rgb(236,76,61)"
             ],
             [
              0.6901960784313725,
              "rgb(242,107,73)"
             ],
             [
              0.7529411764705882,
              "rgb(244,135,95)"
             ],
             [
              0.8156862745098039,
              "rgb(245,162,122)"
             ],
             [
              0.8784313725490196,
              "rgb(246,188,153)"
             ],
             [
              0.9411764705882353,
              "rgb(247,212,187)"
             ],
             [
              1,
              "rgb(250,234,220)"
             ]
            ],
            "type": "surface"
           }
          ],
          "table": [
           {
            "cells": {
             "fill": {
              "color": "rgb(231,231,240)"
             },
             "line": {
              "color": "white"
             }
            },
            "header": {
             "fill": {
              "color": "rgb(183,183,191)"
             },
             "line": {
              "color": "white"
             }
            },
            "type": "table"
           }
          ]
         },
         "layout": {
          "annotationdefaults": {
           "arrowcolor": "rgb(67,103,167)"
          },
          "autotypenumbers": "strict",
          "coloraxis": {
           "colorbar": {
            "outlinewidth": 0,
            "tickcolor": "rgb(36,36,36)",
            "ticklen": 8,
            "ticks": "outside",
            "tickwidth": 2
           }
          },
          "colorscale": {
           "sequential": [
            [
             0,
             "rgb(2,4,25)"
            ],
            [
             0.06274509803921569,
             "rgb(24,15,41)"
            ],
            [
             0.12549019607843137,
             "rgb(47,23,57)"
            ],
            [
             0.18823529411764706,
             "rgb(71,28,72)"
            ],
            [
             0.25098039215686274,
             "rgb(97,30,82)"
            ],
            [
             0.3137254901960784,
             "rgb(123,30,89)"
            ],
            [
             0.3764705882352941,
             "rgb(150,27,91)"
            ],
            [
             0.4392156862745098,
             "rgb(177,22,88)"
            ],
            [
             0.5019607843137255,
             "rgb(203,26,79)"
            ],
            [
             0.5647058823529412,
             "rgb(223,47,67)"
            ],
            [
             0.6274509803921569,
             "rgb(236,76,61)"
            ],
            [
             0.6901960784313725,
             "rgb(242,107,73)"
            ],
            [
             0.7529411764705882,
             "rgb(244,135,95)"
            ],
            [
             0.8156862745098039,
             "rgb(245,162,122)"
            ],
            [
             0.8784313725490196,
             "rgb(246,188,153)"
            ],
            [
             0.9411764705882353,
             "rgb(247,212,187)"
            ],
            [
             1,
             "rgb(250,234,220)"
            ]
           ],
           "sequentialminus": [
            [
             0,
             "rgb(2,4,25)"
            ],
            [
             0.06274509803921569,
             "rgb(24,15,41)"
            ],
            [
             0.12549019607843137,
             "rgb(47,23,57)"
            ],
            [
             0.18823529411764706,
             "rgb(71,28,72)"
            ],
            [
             0.25098039215686274,
             "rgb(97,30,82)"
            ],
            [
             0.3137254901960784,
             "rgb(123,30,89)"
            ],
            [
             0.3764705882352941,
             "rgb(150,27,91)"
            ],
            [
             0.4392156862745098,
             "rgb(177,22,88)"
            ],
            [
             0.5019607843137255,
             "rgb(203,26,79)"
            ],
            [
             0.5647058823529412,
             "rgb(223,47,67)"
            ],
            [
             0.6274509803921569,
             "rgb(236,76,61)"
            ],
            [
             0.6901960784313725,
             "rgb(242,107,73)"
            ],
            [
             0.7529411764705882,
             "rgb(244,135,95)"
            ],
            [
             0.8156862745098039,
             "rgb(245,162,122)"
            ],
            [
             0.8784313725490196,
             "rgb(246,188,153)"
            ],
            [
             0.9411764705882353,
             "rgb(247,212,187)"
            ],
            [
             1,
             "rgb(250,234,220)"
            ]
           ]
          },
          "colorway": [
           "rgb(76,114,176)",
           "rgb(221,132,82)",
           "rgb(85,168,104)",
           "rgb(196,78,82)",
           "rgb(129,114,179)",
           "rgb(147,120,96)",
           "rgb(218,139,195)",
           "rgb(140,140,140)",
           "rgb(204,185,116)",
           "rgb(100,181,205)"
          ],
          "font": {
           "color": "rgb(36,36,36)"
          },
          "geo": {
           "bgcolor": "white",
           "lakecolor": "white",
           "landcolor": "rgb(234,234,242)",
           "showlakes": true,
           "showland": true,
           "subunitcolor": "white"
          },
          "hoverlabel": {
           "align": "left"
          },
          "hovermode": "closest",
          "paper_bgcolor": "white",
          "plot_bgcolor": "rgb(234,234,242)",
          "polar": {
           "angularaxis": {
            "gridcolor": "white",
            "linecolor": "white",
            "showgrid": true,
            "ticks": ""
           },
           "bgcolor": "rgb(234,234,242)",
           "radialaxis": {
            "gridcolor": "white",
            "linecolor": "white",
            "showgrid": true,
            "ticks": ""
           }
          },
          "scene": {
           "xaxis": {
            "backgroundcolor": "rgb(234,234,242)",
            "gridcolor": "white",
            "gridwidth": 2,
            "linecolor": "white",
            "showbackground": true,
            "showgrid": true,
            "ticks": "",
            "zerolinecolor": "white"
           },
           "yaxis": {
            "backgroundcolor": "rgb(234,234,242)",
            "gridcolor": "white",
            "gridwidth": 2,
            "linecolor": "white",
            "showbackground": true,
            "showgrid": true,
            "ticks": "",
            "zerolinecolor": "white"
           },
           "zaxis": {
            "backgroundcolor": "rgb(234,234,242)",
            "gridcolor": "white",
            "gridwidth": 2,
            "linecolor": "white",
            "showbackground": true,
            "showgrid": true,
            "ticks": "",
            "zerolinecolor": "white"
           }
          },
          "shapedefaults": {
           "fillcolor": "rgb(67,103,167)",
           "line": {
            "width": 0
           },
           "opacity": 0.5
          },
          "ternary": {
           "aaxis": {
            "gridcolor": "white",
            "linecolor": "white",
            "showgrid": true,
            "ticks": ""
           },
           "baxis": {
            "gridcolor": "white",
            "linecolor": "white",
            "showgrid": true,
            "ticks": ""
           },
           "bgcolor": "rgb(234,234,242)",
           "caxis": {
            "gridcolor": "white",
            "linecolor": "white",
            "showgrid": true,
            "ticks": ""
           }
          },
          "xaxis": {
           "automargin": true,
           "gridcolor": "white",
           "linecolor": "white",
           "showgrid": true,
           "ticks": "",
           "title": {
            "standoff": 15
           },
           "zerolinecolor": "white"
          },
          "yaxis": {
           "automargin": true,
           "gridcolor": "white",
           "linecolor": "white",
           "showgrid": true,
           "ticks": "",
           "title": {
            "standoff": 15
           },
           "zerolinecolor": "white"
          }
         }
        },
        "width": 400,
        "xaxis": {
         "anchor": "y",
         "constrain": "domain",
         "domain": [
          0,
          1
         ],
         "scaleanchor": "y",
         "title": {
          "text": "Predicted Label"
         }
        },
        "yaxis": {
         "anchor": "x",
         "autorange": "reversed",
         "constrain": "domain",
         "domain": [
          0,
          1
         ],
         "title": {
          "text": "Real Label"
         }
        }
       }
      }
     },
     "metadata": {},
     "output_type": "display_data"
    }
   ],
   "source": [
    "print(conf_matrix_total)\n",
    "metrics = conf_matrix_metrics(conf_matrix_total)\n",
    "print_metrics(metrics)\n",
    "plot_confusion_matrix(metrics)\n"
   ]
  },
  {
   "attachments": {},
   "cell_type": "markdown",
   "metadata": {},
   "source": [
    "##### 7.6. Save Dataframe and Confusion Matrix"
   ]
  },
  {
   "cell_type": "code",
   "execution_count": 191,
   "metadata": {},
   "outputs": [],
   "source": [
    "# dataset_df.to_parquet('parquet_data/ModelR3_R3_df.parquet')\n",
    "# conf_matrix_df = pd.DataFrame(conf_matrix, columns = ['TP','FP','TF', 'FN', 'TP + FN'])\n",
    "# conf_matrix_df.to_parquet('parquet_data/ModelR3_R3_CM_df.parquet')\n",
    "# np.save('parquet_data/ModelR3_R3_CM.npy', conf_matrix)"
   ]
  },
  {
   "attachments": {},
   "cell_type": "markdown",
   "metadata": {},
   "source": [
    "##### 7.7. Individual Sample Visualization"
   ]
  },
  {
   "cell_type": "code",
   "execution_count": 299,
   "metadata": {},
   "outputs": [
    {
     "name": "stdout",
     "output_type": "stream",
     "text": [
      "C:/Users/aherrada/OneDrive - Universidad del Norte/Uninorte/DetectionDataBase/LSTM_form_1/R1\\Fault01_B802_RF100.csv\n"
     ]
    },
    {
     "data": {
      "image/png": "[encoded data removed]",
      "text/plain": [
       "<Figure size 640x480 with 1 Axes>"
      ]
     },
     "metadata": {},
     "output_type": "display_data"
    },
    {
     "name": "stdout",
     "output_type": "stream",
     "text": [
      "Confusion Matrix: tensor([[61,  0, 66,  3, 64]])\n",
      "     event_idx  Pred probability  Pred label  True label Result\n",
      "0           18          0.038408           0           0     TN\n",
      "1           18          0.040114           0           0     TN\n",
      "2           18          0.041890           0           0     TN\n",
      "3           18          0.043786           0           0     TN\n",
      "4           18          0.045452           0           0     TN\n",
      "5           18          0.046905           0           0     TN\n",
      "6           18          0.047736           0           0     TN\n",
      "7           18          0.047928           0           0     TN\n",
      "8           18          0.047387           0           0     TN\n",
      "9           18          0.046369           0           0     TN\n",
      "10          18          0.044842           0           0     TN\n",
      "11          18          0.042934           0           0     TN\n",
      "12          18          0.040775           0           0     TN\n",
      "13          18          0.038507           0           0     TN\n",
      "14          18          0.036036           0           0     TN\n",
      "15          18          0.033670           0           0     TN\n",
      "16          18          0.031359           0           0     TN\n",
      "17          18          0.028724           0           0     TN\n",
      "18          18          0.024846           0           0     TN\n",
      "19          18          0.019811           0           0     TN\n",
      "20          18          0.014855           0           0     TN\n",
      "21          18          0.012043           0           0     TN\n",
      "22          18          0.011044           0           0     TN\n",
      "23          18          0.012788           0           0     TN\n",
      "24          18          0.022414           0           0     TN\n",
      "25          18          0.028221           0           0     TN\n",
      "26          18          0.036823           0           0     TN\n",
      "27          18          0.041490           0           0     TN\n",
      "28          18          0.042685           0           0     TN\n",
      "29          18          0.043645           0           0     TN\n",
      "30          18          0.044899           0           0     TN\n",
      "31          18          0.046804           0           0     TN\n",
      "32          18          0.049822           0           0     TN\n",
      "33          18          0.054441           0           0     TN\n",
      "34          18          0.060974           0           0     TN\n",
      "35          18          0.069567           0           0     TN\n",
      "36          18          0.080043           0           0     TN\n",
      "37          18          0.092460           0           0     TN\n",
      "38          18          0.105990           0           0     TN\n",
      "39          18          0.119236           0           0     TN\n",
      "40          18          0.128308           0           0     TN\n",
      "41          18          0.130511           0           0     TN\n",
      "42          18          0.124328           0           0     TN\n",
      "43          18          0.111498           0           0     TN\n",
      "44          18          0.095476           0           0     TN\n",
      "45          18          0.079652           0           0     TN\n",
      "46          18          0.065564           0           0     TN\n",
      "47          18          0.054863           0           0     TN\n",
      "48          18          0.047792           0           0     TN\n",
      "49          18          0.044053           0           0     TN\n",
      "50          18          0.042989           0           0     TN\n",
      "51          18          0.043993           0           0     TN\n",
      "52          18          0.047237           0           0     TN\n",
      "53          18          0.055895           0           0     TN\n",
      "54          18          0.075378           0           0     TN\n",
      "55          18          0.077187           0           0     TN\n",
      "56          18          0.050478           0           0     TN\n",
      "57          18          0.028827           0           0     TN\n",
      "58          18          0.019815           0           0     TN\n",
      "59          18          0.016092           0           0     TN\n",
      "60          18          0.018116           0           0     TN\n",
      "61          18          0.031560           0           0     TN\n",
      "62          18          0.035634           0           0     TN\n",
      "63          18          0.036585           0           0     TN\n",
      "64          18          0.038230           0           0     TN\n",
      "65          18          0.040070           0           0     TN\n",
      "66          18          0.371692           0           1     FN\n",
      "67          18          0.629770           1           1     TP\n",
      "68          18          0.638198           1           1     TP\n",
      "69          18          0.638619           1           1     TP\n",
      "70          18          0.638871           1           1     TP\n",
      "71          18          0.640921           1           1     TP\n",
      "72          18          0.656630           1           1     TP\n",
      "73          18          0.726955           1           1     TP\n",
      "74          18          0.806413           1           1     TP\n",
      "75          18          0.827875           1           1     TP\n",
      "76          18          0.830175           1           1     TP\n",
      "77          18          0.826529           1           1     TP\n",
      "78          18          0.818299           1           1     TP\n",
      "79          18          0.795620           1           1     TP\n",
      "80          18          0.731428           1           1     TP\n",
      "81          18          0.477355           0           1     FN\n",
      "82          18          0.355150           0           1     FN\n",
      "83          18          0.915891           1           1     TP\n",
      "84          18          0.914191           1           1     TP\n",
      "85          18          0.916924           1           1     TP\n",
      "86          18          0.923871           1           1     TP\n",
      "87          18          0.937476           1           1     TP\n",
      "88          18          0.957869           1           1     TP\n",
      "89          18          0.965939           1           1     TP\n",
      "90          18          0.967387           1           1     TP\n",
      "91          18          0.967626           1           1     TP\n",
      "92          18          0.967683           1           1     TP\n",
      "93          18          0.967707           1           1     TP\n",
      "94          18          0.967718           1           1     TP\n",
      "95          18          0.967726           1           1     TP\n",
      "96          18          0.967731           1           1     TP\n",
      "97          18          0.967735           1           1     TP\n",
      "98          18          0.967736           1           1     TP\n",
      "99          18          0.967735           1           1     TP\n",
      "100         18          0.967734           1           1     TP\n",
      "101         18          0.967731           1           1     TP\n",
      "102         18          0.967724           1           1     TP\n",
      "103         18          0.967713           1           1     TP\n",
      "104         18          0.967697           1           1     TP\n",
      "105         18          0.967671           1           1     TP\n",
      "106         18          0.967628           1           1     TP\n",
      "107         18          0.967559           1           1     TP\n",
      "108         18          0.967444           1           1     TP\n",
      "109         18          0.967236           1           1     TP\n",
      "110         18          0.966852           1           1     TP\n",
      "111         18          0.966146           1           1     TP\n",
      "112         18          0.964645           1           1     TP\n",
      "113         18          0.959288           1           1     TP\n",
      "114         18          0.971824           1           1     TP\n",
      "115         18          0.977538           1           1     TP\n",
      "116         18          0.967296           1           1     TP\n",
      "117         18          0.938477           1           1     TP\n",
      "118         18          0.932063           1           1     TP\n",
      "119         18          0.933205           1           1     TP\n",
      "120         18          0.933962           1           1     TP\n",
      "121         18          0.934286           1           1     TP\n",
      "122         18          0.934426           1           1     TP\n",
      "123         18          0.934486           1           1     TP\n",
      "124         18          0.934516           1           1     TP\n",
      "125         18          0.934531           1           1     TP\n",
      "126         18          0.934538           1           1     TP\n",
      "127         18          0.934542           1           1     TP\n",
      "128         18          0.934544           1           1     TP\n",
      "129         18          0.934545           1           1     TP\n"
     ]
    },
    {
     "data": {
      "application/vnd.plotly.v1+json": {
       "config": {
        "plotlyServerURL": "https://plot.ly"
       },
       "data": [
        {
         "coloraxis": "coloraxis",
         "hovertemplate": "Predicted Label: %{x}<br>Real Label: %{y}<br>Predictions: %{z}<extra></extra>",
         "name": "0",
         "texttemplate": "%{z}",
         "type": "heatmap",
         "x": [
          "Positive",
          "Negative"
         ],
         "xaxis": "x",
         "y": [
          "Positive",
          "Negative"
         ],
         "yaxis": "y",
         "z": [
          [
           61,
           3
          ],
          [
           0,
           66
          ]
         ]
        }
       ],
       "layout": {
        "coloraxis": {
         "colorbar": {
          "title": {
           "text": "Predictions"
          }
         },
         "colorscale": [
          [
           0,
           "rgb(2,4,25)"
          ],
          [
           0.0625,
           "rgb(24,15,41)"
          ],
          [
           0.125,
           "rgb(47,23,57)"
          ],
          [
           0.1875,
           "rgb(71,28,72)"
          ],
          [
           0.25,
           "rgb(97,30,82)"
          ],
          [
           0.3125,
           "rgb(123,30,89)"
          ],
          [
           0.375,
           "rgb(150,27,91)"
          ],
          [
           0.4375,
           "rgb(177,22,88)"
          ],
          [
           0.5,
           "rgb(203,26,79)"
          ],
          [
           0.5625,
           "rgb(223,47,67)"
          ],
          [
           0.625,
           "rgb(236,76,61)"
          ],
          [
           0.6875,
           "rgb(242,107,73)"
          ],
          [
           0.75,
           "rgb(244,135,95)"
          ],
          [
           0.8125,
           "rgb(245,162,122)"
          ],
          [
           0.875,
           "rgb(246,188,153)"
          ],
          [
           0.9375,
           "rgb(247,212,187)"
          ],
          [
           1,
           "rgb(250,234,220)"
          ]
         ]
        },
        "height": 300,
        "margin": {
         "t": 60
        },
        "template": {
         "data": {
          "bar": [
           {
            "error_x": {
             "color": "rgb(36,36,36)"
            },
            "error_y": {
             "color": "rgb(36,36,36)"
            },
            "marker": {
             "line": {
              "color": "rgb(234,234,242)",
              "width": 0.5
             },
             "pattern": {
              "fillmode": "overlay",
              "size": 10,
              "solidity": 0.2
             }
            },
            "type": "bar"
           }
          ],
          "barpolar": [
           {
            "marker": {
             "line": {
              "color": "rgb(234,234,242)",
              "width": 0.5
             },
             "pattern": {
              "fillmode": "overlay",
              "size": 10,
              "solidity": 0.2
             }
            },
            "type": "barpolar"
           }
          ],
          "carpet": [
           {
            "aaxis": {
             "endlinecolor": "rgb(36,36,36)",
             "gridcolor": "white",
             "linecolor": "white",
             "minorgridcolor": "white",
             "startlinecolor": "rgb(36,36,36)"
            },
            "baxis": {
             "endlinecolor": "rgb(36,36,36)",
             "gridcolor": "white",
             "linecolor": "white",
             "minorgridcolor": "white",
             "startlinecolor": "rgb(36,36,36)"
            },
            "type": "carpet"
           }
          ],
          "choropleth": [
           {
            "colorbar": {
             "outlinewidth": 0,
             "tickcolor": "rgb(36,36,36)",
             "ticklen": 8,
             "ticks": "outside",
             "tickwidth": 2
            },
            "type": "choropleth"
           }
          ],
          "contour": [
           {
            "colorbar": {
             "outlinewidth": 0,
             "tickcolor": "rgb(36,36,36)",
             "ticklen": 8,
             "ticks": "outside",
             "tickwidth": 2
            },
            "colorscale": [
             [
              0,
              "rgb(2,4,25)"
             ],
             [
              0.06274509803921569,
              "rgb(24,15,41)"
             ],
             [
              0.12549019607843137,
              "rgb(47,23,57)"
             ],
             [
              0.18823529411764706,
              "rgb(71,28,72)"
             ],
             [
              0.25098039215686274,
              "rgb(97,30,82)"
             ],
             [
              0.3137254901960784,
              "rgb(123,30,89)"
             ],
             [
              0.3764705882352941,
              "rgb(150,27,91)"
             ],
             [
              0.4392156862745098,
              "rgb(177,22,88)"
             ],
             [
              0.5019607843137255,
              "rgb(203,26,79)"
             ],
             [
              0.5647058823529412,
              "rgb(223,47,67)"
             ],
             [
              0.6274509803921569,
              "rgb(236,76,61)"
             ],
             [
              0.6901960784313725,
              "rgb(242,107,73)"
             ],
             [
              0.7529411764705882,
              "rgb(244,135,95)"
             ],
             [
              0.8156862745098039,
              "rgb(245,162,122)"
             ],
             [
              0.8784313725490196,
              "rgb(246,188,153)"
             ],
             [
              0.9411764705882353,
              "rgb(247,212,187)"
             ],
             [
              1,
              "rgb(250,234,220)"
             ]
            ],
            "type": "contour"
           }
          ],
          "contourcarpet": [
           {
            "colorbar": {
             "outlinewidth": 0,
             "tickcolor": "rgb(36,36,36)",
             "ticklen": 8,
             "ticks": "outside",
             "tickwidth": 2
            },
            "type": "contourcarpet"
           }
          ],
          "heatmap": [
           {
            "colorbar": {
             "outlinewidth": 0,
             "tickcolor": "rgb(36,36,36)",
             "ticklen": 8,
             "ticks": "outside",
             "tickwidth": 2
            },
            "colorscale": [
             [
              0,
              "rgb(2,4,25)"
             ],
             [
              0.06274509803921569,
              "rgb(24,15,41)"
             ],
             [
              0.12549019607843137,
              "rgb(47,23,57)"
             ],
             [
              0.18823529411764706,
              "rgb(71,28,72)"
             ],
             [
              0.25098039215686274,
              "rgb(97,30,82)"
             ],
             [
              0.3137254901960784,
              "rgb(123,30,89)"
             ],
             [
              0.3764705882352941,
              "rgb(150,27,91)"
             ],
             [
              0.4392156862745098,
              "rgb(177,22,88)"
             ],
             [
              0.5019607843137255,
              "rgb(203,26,79)"
             ],
             [
              0.5647058823529412,
              "rgb(223,47,67)"
             ],
             [
              0.6274509803921569,
              "rgb(236,76,61)"
             ],
             [
              0.6901960784313725,
              "rgb(242,107,73)"
             ],
             [
              0.7529411764705882,
              "rgb(244,135,95)"
             ],
             [
              0.8156862745098039,
              "rgb(245,162,122)"
             ],
             [
              0.8784313725490196,
              "rgb(246,188,153)"
             ],
             [
              0.9411764705882353,
              "rgb(247,212,187)"
             ],
             [
              1,
              "rgb(250,234,220)"
             ]
            ],
            "type": "heatmap"
           }
          ],
          "heatmapgl": [
           {
            "colorbar": {
             "outlinewidth": 0,
             "tickcolor": "rgb(36,36,36)",
             "ticklen": 8,
             "ticks": "outside",
             "tickwidth": 2
            },
            "colorscale": [
             [
              0,
              "rgb(2,4,25)"
             ],
             [
              0.06274509803921569,
              "rgb(24,15,41)"
             ],
             [
              0.12549019607843137,
              "rgb(47,23,57)"
             ],
             [
              0.18823529411764706,
              "rgb(71,28,72)"
             ],
             [
              0.25098039215686274,
              "rgb(97,30,82)"
             ],
             [
              0.3137254901960784,
              "rgb(123,30,89)"
             ],
             [
              0.3764705882352941,
              "rgb(150,27,91)"
             ],
             [
              0.4392156862745098,
              "rgb(177,22,88)"
             ],
             [
              0.5019607843137255,
              "rgb(203,26,79)"
             ],
             [
              0.5647058823529412,
              "rgb(223,47,67)"
             ],
             [
              0.6274509803921569,
              "rgb(236,76,61)"
             ],
             [
              0.6901960784313725,
              "rgb(242,107,73)"
             ],
             [
              0.7529411764705882,
              "rgb(244,135,95)"
             ],
             [
              0.8156862745098039,
              "rgb(245,162,122)"
             ],
             [
              0.8784313725490196,
              "rgb(246,188,153)"
             ],
             [
              0.9411764705882353,
              "rgb(247,212,187)"
             ],
             [
              1,
              "rgb(250,234,220)"
             ]
            ],
            "type": "heatmapgl"
           }
          ],
          "histogram": [
           {
            "marker": {
             "pattern": {
              "fillmode": "overlay",
              "size": 10,
              "solidity": 0.2
             }
            },
            "type": "histogram"
           }
          ],
          "histogram2d": [
           {
            "colorbar": {
             "outlinewidth": 0,
             "tickcolor": "rgb(36,36,36)",
             "ticklen": 8,
             "ticks": "outside",
             "tickwidth": 2
            },
            "colorscale": [
             [
              0,
              "rgb(2,4,25)"
             ],
             [
              0.06274509803921569,
              "rgb(24,15,41)"
             ],
             [
              0.12549019607843137,
              "rgb(47,23,57)"
             ],
             [
              0.18823529411764706,
              "rgb(71,28,72)"
             ],
             [
              0.25098039215686274,
              "rgb(97,30,82)"
             ],
             [
              0.3137254901960784,
              "rgb(123,30,89)"
             ],
             [
              0.3764705882352941,
              "rgb(150,27,91)"
             ],
             [
              0.4392156862745098,
              "rgb(177,22,88)"
             ],
             [
              0.5019607843137255,
              "rgb(203,26,79)"
             ],
             [
              0.5647058823529412,
              "rgb(223,47,67)"
             ],
             [
              0.6274509803921569,
              "rgb(236,76,61)"
             ],
             [
              0.6901960784313725,
              "rgb(242,107,73)"
             ],
             [
              0.7529411764705882,
              "rgb(244,135,95)"
             ],
             [
              0.8156862745098039,
              "rgb(245,162,122)"
             ],
             [
              0.8784313725490196,
              "rgb(246,188,153)"
             ],
             [
              0.9411764705882353,
              "rgb(247,212,187)"
             ],
             [
              1,
              "rgb(250,234,220)"
             ]
            ],
            "type": "histogram2d"
           }
          ],
          "histogram2dcontour": [
           {
            "colorbar": {
             "outlinewidth": 0,
             "tickcolor": "rgb(36,36,36)",
             "ticklen": 8,
             "ticks": "outside",
             "tickwidth": 2
            },
            "colorscale": [
             [
              0,
              "rgb(2,4,25)"
             ],
             [
              0.06274509803921569,
              "rgb(24,15,41)"
             ],
             [
              0.12549019607843137,
              "rgb(47,23,57)"
             ],
             [
              0.18823529411764706,
              "rgb(71,28,72)"
             ],
             [
              0.25098039215686274,
              "rgb(97,30,82)"
             ],
             [
              0.3137254901960784,
              "rgb(123,30,89)"
             ],
             [
              0.3764705882352941,
              "rgb(150,27,91)"
             ],
             [
              0.4392156862745098,
              "rgb(177,22,88)"
             ],
             [
              0.5019607843137255,
              "rgb(203,26,79)"
             ],
             [
              0.5647058823529412,
              "rgb(223,47,67)"
             ],
             [
              0.6274509803921569,
              "rgb(236,76,61)"
             ],
             [
              0.6901960784313725,
              "rgb(242,107,73)"
             ],
             [
              0.7529411764705882,
              "rgb(244,135,95)"
             ],
             [
              0.8156862745098039,
              "rgb(245,162,122)"
             ],
             [
              0.8784313725490196,
              "rgb(246,188,153)"
             ],
             [
              0.9411764705882353,
              "rgb(247,212,187)"
             ],
             [
              1,
              "rgb(250,234,220)"
             ]
            ],
            "type": "histogram2dcontour"
           }
          ],
          "mesh3d": [
           {
            "colorbar": {
             "outlinewidth": 0,
             "tickcolor": "rgb(36,36,36)",
             "ticklen": 8,
             "ticks": "outside",
             "tickwidth": 2
            },
            "type": "mesh3d"
           }
          ],
          "parcoords": [
           {
            "line": {
             "colorbar": {
              "outlinewidth": 0,
              "tickcolor": "rgb(36,36,36)",
              "ticklen": 8,
              "ticks": "outside",
              "tickwidth": 2
             }
            },
            "type": "parcoords"
           }
          ],
          "pie": [
           {
            "automargin": true,
            "type": "pie"
           }
          ],
          "scatter": [
           {
            "fillpattern": {
             "fillmode": "overlay",
             "size": 10,
             "solidity": 0.2
            },
            "type": "scatter"
           }
          ],
          "scatter3d": [
           {
            "line": {
             "colorbar": {
              "outlinewidth": 0,
              "tickcolor": "rgb(36,36,36)",
              "ticklen": 8,
              "ticks": "outside",
              "tickwidth": 2
             }
            },
            "marker": {
             "colorbar": {
              "outlinewidth": 0,
              "tickcolor": "rgb(36,36,36)",
              "ticklen": 8,
              "ticks": "outside",
              "tickwidth": 2
             }
            },
            "type": "scatter3d"
           }
          ],
          "scattercarpet": [
           {
            "marker": {
             "colorbar": {
              "outlinewidth": 0,
              "tickcolor": "rgb(36,36,36)",
              "ticklen": 8,
              "ticks": "outside",
              "tickwidth": 2
             }
            },
            "type": "scattercarpet"
           }
          ],
          "scattergeo": [
           {
            "marker": {
             "colorbar": {
              "outlinewidth": 0,
              "tickcolor": "rgb(36,36,36)",
              "ticklen": 8,
              "ticks": "outside",
              "tickwidth": 2
             }
            },
            "type": "scattergeo"
           }
          ],
          "scattergl": [
           {
            "marker": {
             "colorbar": {
              "outlinewidth": 0,
              "tickcolor": "rgb(36,36,36)",
              "ticklen": 8,
              "ticks": "outside",
              "tickwidth": 2
             }
            },
            "type": "scattergl"
           }
          ],
          "scattermapbox": [
           {
            "marker": {
             "colorbar": {
              "outlinewidth": 0,
              "tickcolor": "rgb(36,36,36)",
              "ticklen": 8,
              "ticks": "outside",
              "tickwidth": 2
             }
            },
            "type": "scattermapbox"
           }
          ],
          "scatterpolar": [
           {
            "marker": {
             "colorbar": {
              "outlinewidth": 0,
              "tickcolor": "rgb(36,36,36)",
              "ticklen": 8,
              "ticks": "outside",
              "tickwidth": 2
             }
            },
            "type": "scatterpolar"
           }
          ],
          "scatterpolargl": [
           {
            "marker": {
             "colorbar": {
              "outlinewidth": 0,
              "tickcolor": "rgb(36,36,36)",
              "ticklen": 8,
              "ticks": "outside",
              "tickwidth": 2
             }
            },
            "type": "scatterpolargl"
           }
          ],
          "scatterternary": [
           {
            "marker": {
             "colorbar": {
              "outlinewidth": 0,
              "tickcolor": "rgb(36,36,36)",
              "ticklen": 8,
              "ticks": "outside",
              "tickwidth": 2
             }
            },
            "type": "scatterternary"
           }
          ],
          "surface": [
           {
            "colorbar": {
             "outlinewidth": 0,
             "tickcolor": "rgb(36,36,36)",
             "ticklen": 8,
             "ticks": "outside",
             "tickwidth": 2
            },
            "colorscale": [
             [
              0,
              "rgb(2,4,25)"
             ],
             [
              0.06274509803921569,
              "rgb(24,15,41)"
             ],
             [
              0.12549019607843137,
              "rgb(47,23,57)"
             ],
             [
              0.18823529411764706,
              "rgb(71,28,72)"
             ],
             [
              0.25098039215686274,
              "rgb(97,30,82)"
             ],
             [
              0.3137254901960784,
              "rgb(123,30,89)"
             ],
             [
              0.3764705882352941,
              "rgb(150,27,91)"
             ],
             [
              0.4392156862745098,
              "rgb(177,22,88)"
             ],
             [
              0.5019607843137255,
              "rgb(203,26,79)"
             ],
             [
              0.5647058823529412,
              "rgb(223,47,67)"
             ],
             [
              0.6274509803921569,
              "rgb(236,76,61)"
             ],
             [
              0.6901960784313725,
              "rgb(242,107,73)"
             ],
             [
              0.7529411764705882,
              "rgb(244,135,95)"
             ],
             [
              0.8156862745098039,
              "rgb(245,162,122)"
             ],
             [
              0.8784313725490196,
              "rgb(246,188,153)"
             ],
             [
              0.9411764705882353,
              "rgb(247,212,187)"
             ],
             [
              1,
              "rgb(250,234,220)"
             ]
            ],
            "type": "surface"
           }
          ],
          "table": [
           {
            "cells": {
             "fill": {
              "color": "rgb(231,231,240)"
             },
             "line": {
              "color": "white"
             }
            },
            "header": {
             "fill": {
              "color": "rgb(183,183,191)"
             },
             "line": {
              "color": "white"
             }
            },
            "type": "table"
           }
          ]
         },
         "layout": {
          "annotationdefaults": {
           "arrowcolor": "rgb(67,103,167)"
          },
          "autotypenumbers": "strict",
          "coloraxis": {
           "colorbar": {
            "outlinewidth": 0,
            "tickcolor": "rgb(36,36,36)",
            "ticklen": 8,
            "ticks": "outside",
            "tickwidth": 2
           }
          },
          "colorscale": {
           "sequential": [
            [
             0,
             "rgb(2,4,25)"
            ],
            [
             0.06274509803921569,
             "rgb(24,15,41)"
            ],
            [
             0.12549019607843137,
             "rgb(47,23,57)"
            ],
            [
             0.18823529411764706,
             "rgb(71,28,72)"
            ],
            [
             0.25098039215686274,
             "rgb(97,30,82)"
            ],
            [
             0.3137254901960784,
             "rgb(123,30,89)"
            ],
            [
             0.3764705882352941,
             "rgb(150,27,91)"
            ],
            [
             0.4392156862745098,
             "rgb(177,22,88)"
            ],
            [
             0.5019607843137255,
             "rgb(203,26,79)"
            ],
            [
             0.5647058823529412,
             "rgb(223,47,67)"
            ],
            [
             0.6274509803921569,
             "rgb(236,76,61)"
            ],
            [
             0.6901960784313725,
             "rgb(242,107,73)"
            ],
            [
             0.7529411764705882,
             "rgb(244,135,95)"
            ],
            [
             0.8156862745098039,
             "rgb(245,162,122)"
            ],
            [
             0.8784313725490196,
             "rgb(246,188,153)"
            ],
            [
             0.9411764705882353,
             "rgb(247,212,187)"
            ],
            [
             1,
             "rgb(250,234,220)"
            ]
           ],
           "sequentialminus": [
            [
             0,
             "rgb(2,4,25)"
            ],
            [
             0.06274509803921569,
             "rgb(24,15,41)"
            ],
            [
             0.12549019607843137,
             "rgb(47,23,57)"
            ],
            [
             0.18823529411764706,
             "rgb(71,28,72)"
            ],
            [
             0.25098039215686274,
             "rgb(97,30,82)"
            ],
            [
             0.3137254901960784,
             "rgb(123,30,89)"
            ],
            [
             0.3764705882352941,
             "rgb(150,27,91)"
            ],
            [
             0.4392156862745098,
             "rgb(177,22,88)"
            ],
            [
             0.5019607843137255,
             "rgb(203,26,79)"
            ],
            [
             0.5647058823529412,
             "rgb(223,47,67)"
            ],
            [
             0.6274509803921569,
             "rgb(236,76,61)"
            ],
            [
             0.6901960784313725,
             "rgb(242,107,73)"
            ],
            [
             0.7529411764705882,
             "rgb(244,135,95)"
            ],
            [
             0.8156862745098039,
             "rgb(245,162,122)"
            ],
            [
             0.8784313725490196,
             "rgb(246,188,153)"
            ],
            [
             0.9411764705882353,
             "rgb(247,212,187)"
            ],
            [
             1,
             "rgb(250,234,220)"
            ]
           ]
          },
          "colorway": [
           "rgb(76,114,176)",
           "rgb(221,132,82)",
           "rgb(85,168,104)",
           "rgb(196,78,82)",
           "rgb(129,114,179)",
           "rgb(147,120,96)",
           "rgb(218,139,195)",
           "rgb(140,140,140)",
           "rgb(204,185,116)",
           "rgb(100,181,205)"
          ],
          "font": {
           "color": "rgb(36,36,36)"
          },
          "geo": {
           "bgcolor": "white",
           "lakecolor": "white",
           "landcolor": "rgb(234,234,242)",
           "showlakes": true,
           "showland": true,
           "subunitcolor": "white"
          },
          "hoverlabel": {
           "align": "left"
          },
          "hovermode": "closest",
          "paper_bgcolor": "white",
          "plot_bgcolor": "rgb(234,234,242)",
          "polar": {
           "angularaxis": {
            "gridcolor": "white",
            "linecolor": "white",
            "showgrid": true,
            "ticks": ""
           },
           "bgcolor": "rgb(234,234,242)",
           "radialaxis": {
            "gridcolor": "white",
            "linecolor": "white",
            "showgrid": true,
            "ticks": ""
           }
          },
          "scene": {
           "xaxis": {
            "backgroundcolor": "rgb(234,234,242)",
            "gridcolor": "white",
            "gridwidth": 2,
            "linecolor": "white",
            "showbackground": true,
            "showgrid": true,
            "ticks": "",
            "zerolinecolor": "white"
           },
           "yaxis": {
            "backgroundcolor": "rgb(234,234,242)",
            "gridcolor": "white",
            "gridwidth": 2,
            "linecolor": "white",
            "showbackground": true,
            "showgrid": true,
            "ticks": "",
            "zerolinecolor": "white"
           },
           "zaxis": {
            "backgroundcolor": "rgb(234,234,242)",
            "gridcolor": "white",
            "gridwidth": 2,
            "linecolor": "white",
            "showbackground": true,
            "showgrid": true,
            "ticks": "",
            "zerolinecolor": "white"
           }
          },
          "shapedefaults": {
           "fillcolor": "rgb(67,103,167)",
           "line": {
            "width": 0
           },
           "opacity": 0.5
          },
          "ternary": {
           "aaxis": {
            "gridcolor": "white",
            "linecolor": "white",
            "showgrid": true,
            "ticks": ""
           },
           "baxis": {
            "gridcolor": "white",
            "linecolor": "white",
            "showgrid": true,
            "ticks": ""
           },
           "bgcolor": "rgb(234,234,242)",
           "caxis": {
            "gridcolor": "white",
            "linecolor": "white",
            "showgrid": true,
            "ticks": ""
           }
          },
          "xaxis": {
           "automargin": true,
           "gridcolor": "white",
           "linecolor": "white",
           "showgrid": true,
           "ticks": "",
           "title": {
            "standoff": 15
           },
           "zerolinecolor": "white"
          },
          "yaxis": {
           "automargin": true,
           "gridcolor": "white",
           "linecolor": "white",
           "showgrid": true,
           "ticks": "",
           "title": {
            "standoff": 15
           },
           "zerolinecolor": "white"
          }
         }
        },
        "width": 400,
        "xaxis": {
         "anchor": "y",
         "constrain": "domain",
         "domain": [
          0,
          1
         ],
         "scaleanchor": "y",
         "title": {
          "text": "Predicted Label"
         }
        },
        "yaxis": {
         "anchor": "x",
         "autorange": "reversed",
         "constrain": "domain",
         "domain": [
          0,
          1
         ],
         "title": {
          "text": "Real Label"
         }
        }
       }
      }
     },
     "metadata": {},
     "output_type": "display_data"
    },
    {
     "name": "stdout",
     "output_type": "stream",
     "text": [
      "FALSE POSITVES\n",
      "Empty DataFrame\n",
      "Columns: [event_idx, Pred probability, Pred label, True label, Result]\n",
      "Index: []\n",
      "\n",
      "FALSE NEGATIVES\n",
      "    event_idx  Pred probability  Pred label  True label Result\n",
      "66         18          0.371692           0           1     FN\n",
      "81         18          0.477355           0           1     FN\n",
      "82         18          0.355150           0           1     FN\n"
     ]
    }
   ],
   "source": [
    "# Create signal_df\n",
    "event_idx = 18\n",
    "print(dataset.csv_list[event_idx])\n",
    "sample_df, conf_matrix = signal_exploration(event_idx, dataset, model)\n",
    "metrics = conf_matrix_metrics(conf_matrix)\n",
    "print(f\"Confusion Matrix: {conf_matrix}\")\n",
    "print(sample_df)\n",
    "plot_confusion_matrix(metrics)\n",
    "false_positive = sample_df.query('Result == \"FP\"')\n",
    "false_negative = sample_df.query('Result == \"FN\"')\n",
    "# sample_df = pd.concat([sample_df, sample_df])\n",
    "print(\"FALSE POSITVES\")\n",
    "print(false_positive)\n",
    "print(\"\")\n",
    "print(\"FALSE NEGATIVES\")\n",
    "print(false_negative)"
   ]
  },
  {
   "cell_type": "code",
   "execution_count": 300,
   "metadata": {},
   "outputs": [
    {
     "data": {
      "application/vnd.plotly.v1+json": {
       "config": {
        "plotlyServerURL": "https://plot.ly"
       },
       "data": [
        {
         "hovertemplate": "time=%{x}<br>Amplitude=%{y}<extra></extra>",
         "legendgroup": "",
         "line": {
          "color": "#636efa",
          "dash": "solid"
         },
         "marker": {
          "symbol": "circle"
         },
         "mode": "lines",
         "name": "",
         "orientation": "v",
         "showlegend": false,
         "type": "scatter",
         "x": [
          0.02604,
          0.0263004,
          0.0265608,
          0.0268212,
          0.0270816,
          0.027342,
          0.0276024,
          0.0278628,
          0.0281232,
          0.0283836,
          0.028644,
          0.0289044,
          0.0291648,
          0.0294252,
          0.0296856,
          0.029946,
          0.0302064,
          0.0304668,
          0.0307272,
          0.0309876,
          0.031248,
          0.0315084,
          0.0317688,
          0.0320292,
          0.0322896,
          0.03255,
          0.0328104,
          0.0330708,
          0.0333312,
          0.0335916,
          0.033852,
          0.0341124,
          0.0343728,
          0.0346332,
          0.0348936,
          0.035154,
          0.0354144,
          0.0356748,
          0.0359352,
          0.0361956,
          0.036456,
          0.0367164,
          0.0369768,
          0.0372372,
          0.0374976,
          0.037758,
          0.0380184,
          0.0382788,
          0.0385392,
          0.0387996,
          0.03906,
          0.0393204,
          0.0395808,
          0.0398412,
          0.0401016,
          0.040362,
          0.0406224,
          0.0408828,
          0.0411432,
          0.0414036,
          0.041664,
          0.0419244,
          0.0421848,
          0.0424452
         ],
         "xaxis": "x",
         "y": [
          -42.69078063964844,
          -43.14321517944336,
          -43.23956298828125,
          -42.77006530761719,
          -41.88732147216797,
          -40.59339141845703,
          -38.99962615966797,
          -37.110862731933594,
          -34.89970397949219,
          -32.08782958984375,
          -28.99586296081543,
          -25.71178436279297,
          -22.294017791748047,
          -18.535552978515625,
          -14.510093688964844,
          -10.377578735351562,
          -6.287577152252197,
          -2.1150436401367188,
          2.004983901977539,
          6.184606075286865,
          10.361730575561523,
          14.396655082702637,
          18.249696731567383,
          21.935352325439453,
          25.492870330810547,
          28.851367950439453,
          31.832901000976562,
          34.5074348449707,
          36.858787536621094,
          102.95062255859375,
          150.69314575195312,
          179.76953125,
          206.1912384033203,
          204.62869262695312,
          193.75845336914062,
          177.36312866210938,
          165.25401306152344,
          154.5120849609375,
          144.51959228515625,
          127.41905975341797,
          104.16673278808594,
          85.58935546875,
          65.58299255371094,
          46.19586181640625,
          23.513174057006836,
          2.2501883506774902,
          -18.37794303894043,
          -40.11948776245117,
          -63.6550407409668,
          -83.57040405273438,
          -102.12338256835938,
          -121.77555847167969,
          -140.2742919921875,
          -156.65347290039062,
          -170.79010009765625,
          -184.2989044189453,
          -196.58575439453125,
          -205.06593322753906,
          -212.20127868652344,
          -218.4714813232422,
          -222.89111328125,
          -223.5230255126953,
          -222.4252471923828,
          -220.06668090820312
         ],
         "yaxis": "y"
        }
       ],
       "layout": {
        "height": 400,
        "legend": {
         "tracegroupgap": 0
        },
        "margin": {
         "t": 60
        },
        "template": {
         "data": {
          "bar": [
           {
            "error_x": {
             "color": "#2a3f5f"
            },
            "error_y": {
             "color": "#2a3f5f"
            },
            "marker": {
             "line": {
              "color": "#E5ECF6",
              "width": 0.5
             },
             "pattern": {
              "fillmode": "overlay",
              "size": 10,
              "solidity": 0.2
             }
            },
            "type": "bar"
           }
          ],
          "barpolar": [
           {
            "marker": {
             "line": {
              "color": "#E5ECF6",
              "width": 0.5
             },
             "pattern": {
              "fillmode": "overlay",
              "size": 10,
              "solidity": 0.2
             }
            },
            "type": "barpolar"
           }
          ],
          "carpet": [
           {
            "aaxis": {
             "endlinecolor": "#2a3f5f",
             "gridcolor": "white",
             "linecolor": "white",
             "minorgridcolor": "white",
             "startlinecolor": "#2a3f5f"
            },
            "baxis": {
             "endlinecolor": "#2a3f5f",
             "gridcolor": "white",
             "linecolor": "white",
             "minorgridcolor": "white",
             "startlinecolor": "#2a3f5f"
            },
            "type": "carpet"
           }
          ],
          "choropleth": [
           {
            "colorbar": {
             "outlinewidth": 0,
             "ticks": ""
            },
            "type": "choropleth"
           }
          ],
          "contour": [
           {
            "colorbar": {
             "outlinewidth": 0,
             "ticks": ""
            },
            "colorscale": [
             [
              0,
              "#0d0887"
             ],
             [
              0.1111111111111111,
              "#46039f"
             ],
             [
              0.2222222222222222,
              "#7201a8"
             ],
             [
              0.3333333333333333,
              "#9c179e"
             ],
             [
              0.4444444444444444,
              "#bd3786"
             ],
             [
              0.5555555555555556,
              "#d8576b"
             ],
             [
              0.6666666666666666,
              "#ed7953"
             ],
             [
              0.7777777777777778,
              "#fb9f3a"
             ],
             [
              0.8888888888888888,
              "#fdca26"
             ],
             [
              1,
              "#f0f921"
             ]
            ],
            "type": "contour"
           }
          ],
          "contourcarpet": [
           {
            "colorbar": {
             "outlinewidth": 0,
             "ticks": ""
            },
            "type": "contourcarpet"
           }
          ],
          "heatmap": [
           {
            "colorbar": {
             "outlinewidth": 0,
             "ticks": ""
            },
            "colorscale": [
             [
              0,
              "#0d0887"
             ],
             [
              0.1111111111111111,
              "#46039f"
             ],
             [
              0.2222222222222222,
              "#7201a8"
             ],
             [
              0.3333333333333333,
              "#9c179e"
             ],
             [
              0.4444444444444444,
              "#bd3786"
             ],
             [
              0.5555555555555556,
              "#d8576b"
             ],
             [
              0.6666666666666666,
              "#ed7953"
             ],
             [
              0.7777777777777778,
              "#fb9f3a"
             ],
             [
              0.8888888888888888,
              "#fdca26"
             ],
             [
              1,
              "#f0f921"
             ]
            ],
            "type": "heatmap"
           }
          ],
          "heatmapgl": [
           {
            "colorbar": {
             "outlinewidth": 0,
             "ticks": ""
            },
            "colorscale": [
             [
              0,
              "#0d0887"
             ],
             [
              0.1111111111111111,
              "#46039f"
             ],
             [
              0.2222222222222222,
              "#7201a8"
             ],
             [
              0.3333333333333333,
              "#9c179e"
             ],
             [
              0.4444444444444444,
              "#bd3786"
             ],
             [
              0.5555555555555556,
              "#d8576b"
             ],
             [
              0.6666666666666666,
              "#ed7953"
             ],
             [
              0.7777777777777778,
              "#fb9f3a"
             ],
             [
              0.8888888888888888,
              "#fdca26"
             ],
             [
              1,
              "#f0f921"
             ]
            ],
            "type": "heatmapgl"
           }
          ],
          "histogram": [
           {
            "marker": {
             "pattern": {
              "fillmode": "overlay",
              "size": 10,
              "solidity": 0.2
             }
            },
            "type": "histogram"
           }
          ],
          "histogram2d": [
           {
            "colorbar": {
             "outlinewidth": 0,
             "ticks": ""
            },
            "colorscale": [
             [
              0,
              "#0d0887"
             ],
             [
              0.1111111111111111,
              "#46039f"
             ],
             [
              0.2222222222222222,
              "#7201a8"
             ],
             [
              0.3333333333333333,
              "#9c179e"
             ],
             [
              0.4444444444444444,
              "#bd3786"
             ],
             [
              0.5555555555555556,
              "#d8576b"
             ],
             [
              0.6666666666666666,
              "#ed7953"
             ],
             [
              0.7777777777777778,
              "#fb9f3a"
             ],
             [
              0.8888888888888888,
              "#fdca26"
             ],
             [
              1,
              "#f0f921"
             ]
            ],
            "type": "histogram2d"
           }
          ],
          "histogram2dcontour": [
           {
            "colorbar": {
             "outlinewidth": 0,
             "ticks": ""
            },
            "colorscale": [
             [
              0,
              "#0d0887"
             ],
             [
              0.1111111111111111,
              "#46039f"
             ],
             [
              0.2222222222222222,
              "#7201a8"
             ],
             [
              0.3333333333333333,
              "#9c179e"
             ],
             [
              0.4444444444444444,
              "#bd3786"
             ],
             [
              0.5555555555555556,
              "#d8576b"
             ],
             [
              0.6666666666666666,
              "#ed7953"
             ],
             [
              0.7777777777777778,
              "#fb9f3a"
             ],
             [
              0.8888888888888888,
              "#fdca26"
             ],
             [
              1,
              "#f0f921"
             ]
            ],
            "type": "histogram2dcontour"
           }
          ],
          "mesh3d": [
           {
            "colorbar": {
             "outlinewidth": 0,
             "ticks": ""
            },
            "type": "mesh3d"
           }
          ],
          "parcoords": [
           {
            "line": {
             "colorbar": {
              "outlinewidth": 0,
              "ticks": ""
             }
            },
            "type": "parcoords"
           }
          ],
          "pie": [
           {
            "automargin": true,
            "type": "pie"
           }
          ],
          "scatter": [
           {
            "fillpattern": {
             "fillmode": "overlay",
             "size": 10,
             "solidity": 0.2
            },
            "type": "scatter"
           }
          ],
          "scatter3d": [
           {
            "line": {
             "colorbar": {
              "outlinewidth": 0,
              "ticks": ""
             }
            },
            "marker": {
             "colorbar": {
              "outlinewidth": 0,
              "ticks": ""
             }
            },
            "type": "scatter3d"
           }
          ],
          "scattercarpet": [
           {
            "marker": {
             "colorbar": {
              "outlinewidth": 0,
              "ticks": ""
             }
            },
            "type": "scattercarpet"
           }
          ],
          "scattergeo": [
           {
            "marker": {
             "colorbar": {
              "outlinewidth": 0,
              "ticks": ""
             }
            },
            "type": "scattergeo"
           }
          ],
          "scattergl": [
           {
            "marker": {
             "colorbar": {
              "outlinewidth": 0,
              "ticks": ""
             }
            },
            "type": "scattergl"
           }
          ],
          "scattermapbox": [
           {
            "marker": {
             "colorbar": {
              "outlinewidth": 0,
              "ticks": ""
             }
            },
            "type": "scattermapbox"
           }
          ],
          "scatterpolar": [
           {
            "marker": {
             "colorbar": {
              "outlinewidth": 0,
              "ticks": ""
             }
            },
            "type": "scatterpolar"
           }
          ],
          "scatterpolargl": [
           {
            "marker": {
             "colorbar": {
              "outlinewidth": 0,
              "ticks": ""
             }
            },
            "type": "scatterpolargl"
           }
          ],
          "scatterternary": [
           {
            "marker": {
             "colorbar": {
              "outlinewidth": 0,
              "ticks": ""
             }
            },
            "type": "scatterternary"
           }
          ],
          "surface": [
           {
            "colorbar": {
             "outlinewidth": 0,
             "ticks": ""
            },
            "colorscale": [
             [
              0,
              "#0d0887"
             ],
             [
              0.1111111111111111,
              "#46039f"
             ],
             [
              0.2222222222222222,
              "#7201a8"
             ],
             [
              0.3333333333333333,
              "#9c179e"
             ],
             [
              0.4444444444444444,
              "#bd3786"
             ],
             [
              0.5555555555555556,
              "#d8576b"
             ],
             [
              0.6666666666666666,
              "#ed7953"
             ],
             [
              0.7777777777777778,
              "#fb9f3a"
             ],
             [
              0.8888888888888888,
              "#fdca26"
             ],
             [
              1,
              "#f0f921"
             ]
            ],
            "type": "surface"
           }
          ],
          "table": [
           {
            "cells": {
             "fill": {
              "color": "#EBF0F8"
             },
             "line": {
              "color": "white"
             }
            },
            "header": {
             "fill": {
              "color": "#C8D4E3"
             },
             "line": {
              "color": "white"
             }
            },
            "type": "table"
           }
          ]
         },
         "layout": {
          "annotationdefaults": {
           "arrowcolor": "#2a3f5f",
           "arrowhead": 0,
           "arrowwidth": 1
          },
          "autotypenumbers": "strict",
          "coloraxis": {
           "colorbar": {
            "outlinewidth": 0,
            "ticks": ""
           }
          },
          "colorscale": {
           "diverging": [
            [
             0,
             "#8e0152"
            ],
            [
             0.1,
             "#c51b7d"
            ],
            [
             0.2,
             "#de77ae"
            ],
            [
             0.3,
             "#f1b6da"
            ],
            [
             0.4,
             "#fde0ef"
            ],
            [
             0.5,
             "#f7f7f7"
            ],
            [
             0.6,
             "#e6f5d0"
            ],
            [
             0.7,
             "#b8e186"
            ],
            [
             0.8,
             "#7fbc41"
            ],
            [
             0.9,
             "#4d9221"
            ],
            [
             1,
             "#276419"
            ]
           ],
           "sequential": [
            [
             0,
             "#0d0887"
            ],
            [
             0.1111111111111111,
             "#46039f"
            ],
            [
             0.2222222222222222,
             "#7201a8"
            ],
            [
             0.3333333333333333,
             "#9c179e"
            ],
            [
             0.4444444444444444,
             "#bd3786"
            ],
            [
             0.5555555555555556,
             "#d8576b"
            ],
            [
             0.6666666666666666,
             "#ed7953"
            ],
            [
             0.7777777777777778,
             "#fb9f3a"
            ],
            [
             0.8888888888888888,
             "#fdca26"
            ],
            [
             1,
             "#f0f921"
            ]
           ],
           "sequentialminus": [
            [
             0,
             "#0d0887"
            ],
            [
             0.1111111111111111,
             "#46039f"
            ],
            [
             0.2222222222222222,
             "#7201a8"
            ],
            [
             0.3333333333333333,
             "#9c179e"
            ],
            [
             0.4444444444444444,
             "#bd3786"
            ],
            [
             0.5555555555555556,
             "#d8576b"
            ],
            [
             0.6666666666666666,
             "#ed7953"
            ],
            [
             0.7777777777777778,
             "#fb9f3a"
            ],
            [
             0.8888888888888888,
             "#fdca26"
            ],
            [
             1,
             "#f0f921"
            ]
           ]
          },
          "colorway": [
           "#636efa",
           "#EF553B",
           "#00cc96",
           "#ab63fa",
           "#FFA15A",
           "#19d3f3",
           "#FF6692",
           "#B6E880",
           "#FF97FF",
           "#FECB52"
          ],
          "font": {
           "color": "#2a3f5f"
          },
          "geo": {
           "bgcolor": "white",
           "lakecolor": "white",
           "landcolor": "#E5ECF6",
           "showlakes": true,
           "showland": true,
           "subunitcolor": "white"
          },
          "hoverlabel": {
           "align": "left"
          },
          "hovermode": "closest",
          "mapbox": {
           "style": "light"
          },
          "paper_bgcolor": "white",
          "plot_bgcolor": "#E5ECF6",
          "polar": {
           "angularaxis": {
            "gridcolor": "white",
            "linecolor": "white",
            "ticks": ""
           },
           "bgcolor": "#E5ECF6",
           "radialaxis": {
            "gridcolor": "white",
            "linecolor": "white",
            "ticks": ""
           }
          },
          "scene": {
           "xaxis": {
            "backgroundcolor": "#E5ECF6",
            "gridcolor": "white",
            "gridwidth": 2,
            "linecolor": "white",
            "showbackground": true,
            "ticks": "",
            "zerolinecolor": "white"
           },
           "yaxis": {
            "backgroundcolor": "#E5ECF6",
            "gridcolor": "white",
            "gridwidth": 2,
            "linecolor": "white",
            "showbackground": true,
            "ticks": "",
            "zerolinecolor": "white"
           },
           "zaxis": {
            "backgroundcolor": "#E5ECF6",
            "gridcolor": "white",
            "gridwidth": 2,
            "linecolor": "white",
            "showbackground": true,
            "ticks": "",
            "zerolinecolor": "white"
           }
          },
          "shapedefaults": {
           "line": {
            "color": "#2a3f5f"
           }
          },
          "ternary": {
           "aaxis": {
            "gridcolor": "white",
            "linecolor": "white",
            "ticks": ""
           },
           "baxis": {
            "gridcolor": "white",
            "linecolor": "white",
            "ticks": ""
           },
           "bgcolor": "#E5ECF6",
           "caxis": {
            "gridcolor": "white",
            "linecolor": "white",
            "ticks": ""
           }
          },
          "title": {
           "x": 0.05
          },
          "xaxis": {
           "automargin": true,
           "gridcolor": "white",
           "linecolor": "white",
           "ticks": "",
           "title": {
            "standoff": 15
           },
           "zerolinecolor": "white",
           "zerolinewidth": 2
          },
          "yaxis": {
           "automargin": true,
           "gridcolor": "white",
           "linecolor": "white",
           "ticks": "",
           "title": {
            "standoff": 15
           },
           "zerolinecolor": "white",
           "zerolinewidth": 2
          }
         }
        },
        "width": 600,
        "xaxis": {
         "anchor": "y",
         "domain": [
          0,
          1
         ],
         "title": {
          "text": "time"
         }
        },
        "yaxis": {
         "anchor": "x",
         "domain": [
          0,
          1
         ],
         "title": {
          "text": "Amplitude"
         }
        }
       }
      }
     },
     "metadata": {},
     "output_type": "display_data"
    },
    {
     "data": {
      "application/vnd.plotly.v1+json": {
       "config": {
        "plotlyServerURL": "https://plot.ly"
       },
       "data": [
        {
         "hovertemplate": "Window=%{x}<br>Trip Signal=%{y}<extra></extra>",
         "legendgroup": "",
         "line": {
          "color": "#636efa",
          "dash": "solid",
          "shape": "hv"
         },
         "marker": {
          "symbol": "circle"
         },
         "mode": "lines",
         "name": "",
         "orientation": "v",
         "showlegend": false,
         "type": "scatter",
         "x": [
          0,
          1,
          2,
          3,
          4,
          5,
          6,
          7,
          8,
          9,
          10,
          11,
          12,
          13,
          14,
          15,
          16,
          17,
          18,
          19,
          20,
          21,
          22,
          23,
          24,
          25,
          26,
          27,
          28,
          29,
          30,
          31,
          32,
          33,
          34,
          35,
          36,
          37,
          38,
          39,
          40,
          41,
          42,
          43,
          44,
          45,
          46,
          47,
          48,
          49,
          50,
          51,
          52,
          53,
          54,
          55,
          56,
          57,
          58,
          59,
          60,
          61,
          62,
          63,
          64,
          65,
          66,
          67,
          68,
          69,
          70,
          71,
          72,
          73,
          74,
          75,
          76,
          77,
          78,
          79,
          80,
          81,
          82,
          83,
          84,
          85,
          86,
          87,
          88,
          89,
          90,
          91,
          92,
          93,
          94,
          95,
          96,
          97,
          98,
          99,
          100,
          101,
          102,
          103,
          104,
          105,
          106,
          107,
          108,
          109,
          110,
          111,
          112,
          113,
          114,
          115,
          116,
          117,
          118,
          119,
          120,
          121,
          122,
          123,
          124,
          125,
          126,
          127,
          128,
          129
         ],
         "xaxis": "x",
         "y": [
          0,
          0,
          0,
          0,
          0,
          0,
          0,
          0,
          0,
          0,
          0,
          0,
          0,
          0,
          0,
          0,
          0,
          0,
          0,
          0,
          0,
          0,
          0,
          0,
          0,
          0,
          0,
          0,
          0,
          0,
          0,
          0,
          0,
          0,
          0,
          0,
          0,
          0,
          0,
          0,
          0,
          0,
          0,
          0,
          0,
          0,
          0,
          0,
          0,
          0,
          0,
          0,
          0,
          0,
          0,
          0,
          0,
          0,
          0,
          0,
          0,
          0,
          0,
          0,
          0,
          0,
          0,
          1,
          1,
          1,
          1,
          1,
          1,
          1,
          1,
          1,
          1,
          1,
          1,
          1,
          1,
          0,
          0,
          1,
          1,
          1,
          1,
          1,
          1,
          1,
          1,
          1,
          1,
          1,
          1,
          1,
          1,
          1,
          1,
          1,
          1,
          1,
          1,
          1,
          1,
          1,
          1,
          1,
          1,
          1,
          1,
          1,
          1,
          1,
          1,
          1,
          1,
          1,
          1,
          1,
          1,
          1,
          1,
          1,
          1,
          1,
          1,
          1,
          1,
          1
         ],
         "yaxis": "y"
        }
       ],
       "layout": {
        "height": 400,
        "legend": {
         "tracegroupgap": 0
        },
        "margin": {
         "t": 60
        },
        "template": {
         "data": {
          "bar": [
           {
            "error_x": {
             "color": "#2a3f5f"
            },
            "error_y": {
             "color": "#2a3f5f"
            },
            "marker": {
             "line": {
              "color": "#E5ECF6",
              "width": 0.5
             },
             "pattern": {
              "fillmode": "overlay",
              "size": 10,
              "solidity": 0.2
             }
            },
            "type": "bar"
           }
          ],
          "barpolar": [
           {
            "marker": {
             "line": {
              "color": "#E5ECF6",
              "width": 0.5
             },
             "pattern": {
              "fillmode": "overlay",
              "size": 10,
              "solidity": 0.2
             }
            },
            "type": "barpolar"
           }
          ],
          "carpet": [
           {
            "aaxis": {
             "endlinecolor": "#2a3f5f",
             "gridcolor": "white",
             "linecolor": "white",
             "minorgridcolor": "white",
             "startlinecolor": "#2a3f5f"
            },
            "baxis": {
             "endlinecolor": "#2a3f5f",
             "gridcolor": "white",
             "linecolor": "white",
             "minorgridcolor": "white",
             "startlinecolor": "#2a3f5f"
            },
            "type": "carpet"
           }
          ],
          "choropleth": [
           {
            "colorbar": {
             "outlinewidth": 0,
             "ticks": ""
            },
            "type": "choropleth"
           }
          ],
          "contour": [
           {
            "colorbar": {
             "outlinewidth": 0,
             "ticks": ""
            },
            "colorscale": [
             [
              0,
              "#0d0887"
             ],
             [
              0.1111111111111111,
              "#46039f"
             ],
             [
              0.2222222222222222,
              "#7201a8"
             ],
             [
              0.3333333333333333,
              "#9c179e"
             ],
             [
              0.4444444444444444,
              "#bd3786"
             ],
             [
              0.5555555555555556,
              "#d8576b"
             ],
             [
              0.6666666666666666,
              "#ed7953"
             ],
             [
              0.7777777777777778,
              "#fb9f3a"
             ],
             [
              0.8888888888888888,
              "#fdca26"
             ],
             [
              1,
              "#f0f921"
             ]
            ],
            "type": "contour"
           }
          ],
          "contourcarpet": [
           {
            "colorbar": {
             "outlinewidth": 0,
             "ticks": ""
            },
            "type": "contourcarpet"
           }
          ],
          "heatmap": [
           {
            "colorbar": {
             "outlinewidth": 0,
             "ticks": ""
            },
            "colorscale": [
             [
              0,
              "#0d0887"
             ],
             [
              0.1111111111111111,
              "#46039f"
             ],
             [
              0.2222222222222222,
              "#7201a8"
             ],
             [
              0.3333333333333333,
              "#9c179e"
             ],
             [
              0.4444444444444444,
              "#bd3786"
             ],
             [
              0.5555555555555556,
              "#d8576b"
             ],
             [
              0.6666666666666666,
              "#ed7953"
             ],
             [
              0.7777777777777778,
              "#fb9f3a"
             ],
             [
              0.8888888888888888,
              "#fdca26"
             ],
             [
              1,
              "#f0f921"
             ]
            ],
            "type": "heatmap"
           }
          ],
          "heatmapgl": [
           {
            "colorbar": {
             "outlinewidth": 0,
             "ticks": ""
            },
            "colorscale": [
             [
              0,
              "#0d0887"
             ],
             [
              0.1111111111111111,
              "#46039f"
             ],
             [
              0.2222222222222222,
              "#7201a8"
             ],
             [
              0.3333333333333333,
              "#9c179e"
             ],
             [
              0.4444444444444444,
              "#bd3786"
             ],
             [
              0.5555555555555556,
              "#d8576b"
             ],
             [
              0.6666666666666666,
              "#ed7953"
             ],
             [
              0.7777777777777778,
              "#fb9f3a"
             ],
             [
              0.8888888888888888,
              "#fdca26"
             ],
             [
              1,
              "#f0f921"
             ]
            ],
            "type": "heatmapgl"
           }
          ],
          "histogram": [
           {
            "marker": {
             "pattern": {
              "fillmode": "overlay",
              "size": 10,
              "solidity": 0.2
             }
            },
            "type": "histogram"
           }
          ],
          "histogram2d": [
           {
            "colorbar": {
             "outlinewidth": 0,
             "ticks": ""
            },
            "colorscale": [
             [
              0,
              "#0d0887"
             ],
             [
              0.1111111111111111,
              "#46039f"
             ],
             [
              0.2222222222222222,
              "#7201a8"
             ],
             [
              0.3333333333333333,
              "#9c179e"
             ],
             [
              0.4444444444444444,
              "#bd3786"
             ],
             [
              0.5555555555555556,
              "#d8576b"
             ],
             [
              0.6666666666666666,
              "#ed7953"
             ],
             [
              0.7777777777777778,
              "#fb9f3a"
             ],
             [
              0.8888888888888888,
              "#fdca26"
             ],
             [
              1,
              "#f0f921"
             ]
            ],
            "type": "histogram2d"
           }
          ],
          "histogram2dcontour": [
           {
            "colorbar": {
             "outlinewidth": 0,
             "ticks": ""
            },
            "colorscale": [
             [
              0,
              "#0d0887"
             ],
             [
              0.1111111111111111,
              "#46039f"
             ],
             [
              0.2222222222222222,
              "#7201a8"
             ],
             [
              0.3333333333333333,
              "#9c179e"
             ],
             [
              0.4444444444444444,
              "#bd3786"
             ],
             [
              0.5555555555555556,
              "#d8576b"
             ],
             [
              0.6666666666666666,
              "#ed7953"
             ],
             [
              0.7777777777777778,
              "#fb9f3a"
             ],
             [
              0.8888888888888888,
              "#fdca26"
             ],
             [
              1,
              "#f0f921"
             ]
            ],
            "type": "histogram2dcontour"
           }
          ],
          "mesh3d": [
           {
            "colorbar": {
             "outlinewidth": 0,
             "ticks": ""
            },
            "type": "mesh3d"
           }
          ],
          "parcoords": [
           {
            "line": {
             "colorbar": {
              "outlinewidth": 0,
              "ticks": ""
             }
            },
            "type": "parcoords"
           }
          ],
          "pie": [
           {
            "automargin": true,
            "type": "pie"
           }
          ],
          "scatter": [
           {
            "fillpattern": {
             "fillmode": "overlay",
             "size": 10,
             "solidity": 0.2
            },
            "type": "scatter"
           }
          ],
          "scatter3d": [
           {
            "line": {
             "colorbar": {
              "outlinewidth": 0,
              "ticks": ""
             }
            },
            "marker": {
             "colorbar": {
              "outlinewidth": 0,
              "ticks": ""
             }
            },
            "type": "scatter3d"
           }
          ],
          "scattercarpet": [
           {
            "marker": {
             "colorbar": {
              "outlinewidth": 0,
              "ticks": ""
             }
            },
            "type": "scattercarpet"
           }
          ],
          "scattergeo": [
           {
            "marker": {
             "colorbar": {
              "outlinewidth": 0,
              "ticks": ""
             }
            },
            "type": "scattergeo"
           }
          ],
          "scattergl": [
           {
            "marker": {
             "colorbar": {
              "outlinewidth": 0,
              "ticks": ""
             }
            },
            "type": "scattergl"
           }
          ],
          "scattermapbox": [
           {
            "marker": {
             "colorbar": {
              "outlinewidth": 0,
              "ticks": ""
             }
            },
            "type": "scattermapbox"
           }
          ],
          "scatterpolar": [
           {
            "marker": {
             "colorbar": {
              "outlinewidth": 0,
              "ticks": ""
             }
            },
            "type": "scatterpolar"
           }
          ],
          "scatterpolargl": [
           {
            "marker": {
             "colorbar": {
              "outlinewidth": 0,
              "ticks": ""
             }
            },
            "type": "scatterpolargl"
           }
          ],
          "scatterternary": [
           {
            "marker": {
             "colorbar": {
              "outlinewidth": 0,
              "ticks": ""
             }
            },
            "type": "scatterternary"
           }
          ],
          "surface": [
           {
            "colorbar": {
             "outlinewidth": 0,
             "ticks": ""
            },
            "colorscale": [
             [
              0,
              "#0d0887"
             ],
             [
              0.1111111111111111,
              "#46039f"
             ],
             [
              0.2222222222222222,
              "#7201a8"
             ],
             [
              0.3333333333333333,
              "#9c179e"
             ],
             [
              0.4444444444444444,
              "#bd3786"
             ],
             [
              0.5555555555555556,
              "#d8576b"
             ],
             [
              0.6666666666666666,
              "#ed7953"
             ],
             [
              0.7777777777777778,
              "#fb9f3a"
             ],
             [
              0.8888888888888888,
              "#fdca26"
             ],
             [
              1,
              "#f0f921"
             ]
            ],
            "type": "surface"
           }
          ],
          "table": [
           {
            "cells": {
             "fill": {
              "color": "#EBF0F8"
             },
             "line": {
              "color": "white"
             }
            },
            "header": {
             "fill": {
              "color": "#C8D4E3"
             },
             "line": {
              "color": "white"
             }
            },
            "type": "table"
           }
          ]
         },
         "layout": {
          "annotationdefaults": {
           "arrowcolor": "#2a3f5f",
           "arrowhead": 0,
           "arrowwidth": 1
          },
          "autotypenumbers": "strict",
          "coloraxis": {
           "colorbar": {
            "outlinewidth": 0,
            "ticks": ""
           }
          },
          "colorscale": {
           "diverging": [
            [
             0,
             "#8e0152"
            ],
            [
             0.1,
             "#c51b7d"
            ],
            [
             0.2,
             "#de77ae"
            ],
            [
             0.3,
             "#f1b6da"
            ],
            [
             0.4,
             "#fde0ef"
            ],
            [
             0.5,
             "#f7f7f7"
            ],
            [
             0.6,
             "#e6f5d0"
            ],
            [
             0.7,
             "#b8e186"
            ],
            [
             0.8,
             "#7fbc41"
            ],
            [
             0.9,
             "#4d9221"
            ],
            [
             1,
             "#276419"
            ]
           ],
           "sequential": [
            [
             0,
             "#0d0887"
            ],
            [
             0.1111111111111111,
             "#46039f"
            ],
            [
             0.2222222222222222,
             "#7201a8"
            ],
            [
             0.3333333333333333,
             "#9c179e"
            ],
            [
             0.4444444444444444,
             "#bd3786"
            ],
            [
             0.5555555555555556,
             "#d8576b"
            ],
            [
             0.6666666666666666,
             "#ed7953"
            ],
            [
             0.7777777777777778,
             "#fb9f3a"
            ],
            [
             0.8888888888888888,
             "#fdca26"
            ],
            [
             1,
             "#f0f921"
            ]
           ],
           "sequentialminus": [
            [
             0,
             "#0d0887"
            ],
            [
             0.1111111111111111,
             "#46039f"
            ],
            [
             0.2222222222222222,
             "#7201a8"
            ],
            [
             0.3333333333333333,
             "#9c179e"
            ],
            [
             0.4444444444444444,
             "#bd3786"
            ],
            [
             0.5555555555555556,
             "#d8576b"
            ],
            [
             0.6666666666666666,
             "#ed7953"
            ],
            [
             0.7777777777777778,
             "#fb9f3a"
            ],
            [
             0.8888888888888888,
             "#fdca26"
            ],
            [
             1,
             "#f0f921"
            ]
           ]
          },
          "colorway": [
           "#636efa",
           "#EF553B",
           "#00cc96",
           "#ab63fa",
           "#FFA15A",
           "#19d3f3",
           "#FF6692",
           "#B6E880",
           "#FF97FF",
           "#FECB52"
          ],
          "font": {
           "color": "#2a3f5f"
          },
          "geo": {
           "bgcolor": "white",
           "lakecolor": "white",
           "landcolor": "#E5ECF6",
           "showlakes": true,
           "showland": true,
           "subunitcolor": "white"
          },
          "hoverlabel": {
           "align": "left"
          },
          "hovermode": "closest",
          "mapbox": {
           "style": "light"
          },
          "paper_bgcolor": "white",
          "plot_bgcolor": "#E5ECF6",
          "polar": {
           "angularaxis": {
            "gridcolor": "white",
            "linecolor": "white",
            "ticks": ""
           },
           "bgcolor": "#E5ECF6",
           "radialaxis": {
            "gridcolor": "white",
            "linecolor": "white",
            "ticks": ""
           }
          },
          "scene": {
           "xaxis": {
            "backgroundcolor": "#E5ECF6",
            "gridcolor": "white",
            "gridwidth": 2,
            "linecolor": "white",
            "showbackground": true,
            "ticks": "",
            "zerolinecolor": "white"
           },
           "yaxis": {
            "backgroundcolor": "#E5ECF6",
            "gridcolor": "white",
            "gridwidth": 2,
            "linecolor": "white",
            "showbackground": true,
            "ticks": "",
            "zerolinecolor": "white"
           },
           "zaxis": {
            "backgroundcolor": "#E5ECF6",
            "gridcolor": "white",
            "gridwidth": 2,
            "linecolor": "white",
            "showbackground": true,
            "ticks": "",
            "zerolinecolor": "white"
           }
          },
          "shapedefaults": {
           "line": {
            "color": "#2a3f5f"
           }
          },
          "ternary": {
           "aaxis": {
            "gridcolor": "white",
            "linecolor": "white",
            "ticks": ""
           },
           "baxis": {
            "gridcolor": "white",
            "linecolor": "white",
            "ticks": ""
           },
           "bgcolor": "#E5ECF6",
           "caxis": {
            "gridcolor": "white",
            "linecolor": "white",
            "ticks": ""
           }
          },
          "title": {
           "x": 0.05
          },
          "xaxis": {
           "automargin": true,
           "gridcolor": "white",
           "linecolor": "white",
           "ticks": "",
           "title": {
            "standoff": 15
           },
           "zerolinecolor": "white",
           "zerolinewidth": 2
          },
          "yaxis": {
           "automargin": true,
           "gridcolor": "white",
           "linecolor": "white",
           "ticks": "",
           "title": {
            "standoff": 15
           },
           "zerolinecolor": "white",
           "zerolinewidth": 2
          }
         }
        },
        "width": 600,
        "xaxis": {
         "anchor": "y",
         "domain": [
          0,
          1
         ],
         "title": {
          "text": "Window"
         }
        },
        "yaxis": {
         "anchor": "x",
         "domain": [
          0,
          1
         ],
         "title": {
          "text": "Trip Signal"
         }
        }
       }
      }
     },
     "metadata": {},
     "output_type": "display_data"
    }
   ],
   "source": [
    "def update_fig(fig):\n",
    "    fig.update_traces(line_color=\"#EEEEEE\", line_width=2)\n",
    "    fig.update_layout(\n",
    "        paper_bgcolor=\"#222831\",\n",
    "        plot_bgcolor=\"#393E46\",\n",
    "        font_color=\"whitesmoke\",\n",
    "    )\n",
    "    fig.update_xaxes(showgrid=True, gridwidth=1, gridcolor=\"#32E0C4\")\n",
    "    fig.update_yaxes(showgrid=True, gridwidth=1, gridcolor=\"#32E0C4\")\n",
    "\n",
    "\n",
    "signal, t = dataset.__getitem__(2440, data_plot=True)\n",
    "# print(f\"Window index: {sample_df.query('indices == 196').index[0]}\")\n",
    "fig = px.line(\n",
    "    x=t,\n",
    "    y=signal,\n",
    "    width=600,\n",
    "    height=400,\n",
    "    labels=dict(x=\"time\", y=\"Amplitude\"),\n",
    ")\n",
    "# update_fig(fig)\n",
    "fig.show()\n",
    "fig = px.line(\n",
    "    x=sample_df.index,\n",
    "    y=sample_df[\"Pred label\"],\n",
    "    width=600,\n",
    "    height=400,\n",
    "    labels=dict(x=\"Window\", y=\"Trip Signal\"),\n",
    "    line_shape=\"hv\",\n",
    ")\n",
    "# update_fig(fig)\n",
    "fig.show()"
   ]
  },
  {
   "attachments": {},
   "cell_type": "markdown",
   "metadata": {},
   "source": [
    "### 8. References\n",
    "1. PyTorch Contributors: LSTM. [LSTM — PyTorch 1.13 documentation](https://pytorch.org/docs/stable/generated/torch.nn.LSTM.html).\n",
    "<!-- @online{LSTM,\n",
    "    author = \"{PyTorch Contributors}\",\n",
    "    title = \"LSTM\",\n",
    "    url  = \"https://pytorch.org/docs/stable/generated/torch.nn.LSTM.html\",\n",
    "    addendum = \"(accessed: 10.02.2023)\",\n",
    "    keywords = \"LSTM pytorch\"\n",
    "} -->"
   ]
  }
 ],
 "metadata": {
  "kernelspec": {
   "display_name": "env",
   "language": "python",
   "name": "python3"
  },
  "language_info": {
   "codemirror_mode": {
    "name": "ipython",
    "version": 3
   },
   "file_extension": ".py",
   "mimetype": "text/x-python",
   "name": "python",
   "nbconvert_exporter": "python",
   "pygments_lexer": "ipython3",
   "version": "3.9.13"
  },
  "orig_nbformat": 4,
  "vscode": {
   "interpreter": {
    "hash": "edf36f54e3c0d12e79cbfbdb2eab1260e125462eb03956a03e5e853a13b289dd"
   }
  }
 },
 "nbformat": 4,
 "nbformat_minor": 2
}
