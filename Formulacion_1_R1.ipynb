{
 "cells": [
  {
   "attachments": {},
   "cell_type": "markdown",
   "metadata": {},
   "source": [
    "<center><h1 style:\"text-align:center;\">Formulación 1</h1></center>\n",
    "<center><h3>Relé 1</h3></center>"
   ]
  },
  {
   "attachments": {},
   "cell_type": "markdown",
   "metadata": {},
   "source": [
    "### 1. Imports"
   ]
  },
  {
   "cell_type": "code",
   "execution_count": 1,
   "metadata": {},
   "outputs": [
    {
     "name": "stderr",
     "output_type": "stream",
     "text": [
      "c:\\Users\\aherrada\\Documents\\Git\\Pytorch\\env\\lib\\site-packages\\tqdm\\auto.py:22: TqdmWarning: IProgress not found. Please update jupyter and ipywidgets. See https://ipywidgets.readthedocs.io/en/stable/user_install.html\n",
      "  from .autonotebook import tqdm as notebook_tqdm\n"
     ]
    }
   ],
   "source": [
    "import torch\n",
    "import torch.nn as nn\n",
    "from torch.utils.data import Dataset, DataLoader, random_split\n",
    "import numpy as np\n",
    "import pandas as pd\n",
    "import matplotlib.pyplot as plt\n",
    "\n",
    "# Acceder al sistema operativo\n",
    "import os\n",
    "import glob\n",
    "import shutil\n",
    "import random"
   ]
  },
  {
   "attachments": {},
   "cell_type": "markdown",
   "metadata": {},
   "source": [
    "### 2. Model Parameters"
   ]
  },
  {
   "cell_type": "code",
   "execution_count": 2,
   "metadata": {},
   "outputs": [
    {
     "name": "stdout",
     "output_type": "stream",
     "text": [
      "cpu\n"
     ]
    }
   ],
   "source": [
    "# LSTM parameters\n",
    "hidden_dim = 20\n",
    "n_signals = 1\n",
    "N = 64\n",
    "\n",
    "# _batch_size => m in figure 1.\n",
    "train_batch_size = 64\n",
    "dev_batch_size = 16\n",
    "test_batch_size = 16\n",
    "\n",
    "# Classification type (binary)\n",
    "tagset_size = 1\n",
    "\n",
    "# Set\n",
    "device = \"cuda\" if torch.cuda.is_available() else \"cpu\"\n",
    "print(device)"
   ]
  },
  {
   "attachments": {},
   "cell_type": "markdown",
   "metadata": {},
   "source": [
    "### 3. Model Creation"
   ]
  },
  {
   "attachments": {},
   "cell_type": "markdown",
   "metadata": {},
   "source": [
    "##### 3.1. FaultDetector Class Creation"
   ]
  },
  {
   "cell_type": "code",
   "execution_count": 3,
   "metadata": {},
   "outputs": [],
   "source": [
    "# Model Creation\n",
    "\n",
    "\n",
    "class FaultDetector(nn.Module):\n",
    "    \"\"\"Some Information about FaultDetector\"\"\"\n",
    "\n",
    "    def __init__(self, N, hidden_dim, tagset_size):\n",
    "        super(FaultDetector, self).__init__()\n",
    "        self.lstm = nn.LSTM(N, hidden_dim, batch_first=True)\n",
    "        self.fc = nn.Linear(hidden_dim, tagset_size)\n",
    "\n",
    "    def forward(self, x):\n",
    "        lstm_out, _ = self.lstm(x)\n",
    "        fc_layer = self.fc(lstm_out[:, -1, :])\n",
    "\n",
    "        return torch.sigmoid(fc_layer)\n"
   ]
  },
  {
   "attachments": {},
   "cell_type": "markdown",
   "metadata": {},
   "source": [
    "##### 3.2. Model Instance Initialization"
   ]
  },
  {
   "cell_type": "code",
   "execution_count": 4,
   "metadata": {},
   "outputs": [
    {
     "name": "stdout",
     "output_type": "stream",
     "text": [
      "Model structure: FaultDetector(\n",
      "  (lstm): LSTM(1, 20, batch_first=True)\n",
      "  (fc): Linear(in_features=20, out_features=1, bias=True)\n",
      ")\n",
      "\n",
      "Number of parameters: 1861\n"
     ]
    }
   ],
   "source": [
    "model = FaultDetector(n_signals, hidden_dim, tagset_size).to(device)\n",
    "loss_fn = nn.BCELoss()\n",
    "optimizer = torch.optim.Adam(model.parameters(), lr=1e-2)\n",
    "\n",
    "# Learning rate decay (optional)\n",
    "decayRate = 0.96\n",
    "my_lr_scheduler = torch.optim.lr_scheduler.ExponentialLR(\n",
    "    optimizer=optimizer, gamma=decayRate\n",
    ")\n",
    "\n",
    "print(f\"Model structure: {model}\\n\")\n",
    "\n",
    "# Number of parameters\n",
    "model_parameters = filter(lambda p: p.requires_grad, model.parameters())\n",
    "params = sum([np.prod(p.size()) for p in model_parameters])\n",
    "print(f\"Number of parameters: {params}\")"
   ]
  },
  {
   "attachments": {},
   "cell_type": "markdown",
   "metadata": {},
   "source": [
    "### 4. Dataset Creation"
   ]
  },
  {
   "attachments": {},
   "cell_type": "markdown",
   "metadata": {},
   "source": [
    "##### 4.1. Dataset Class Creation"
   ]
  },
  {
   "cell_type": "code",
   "execution_count": 5,
   "metadata": {},
   "outputs": [],
   "source": [
    "from utils.signalload import CSV_pandas_path\n",
    "from utils.auxfunctions import moving_window\n",
    "import numpy as np\n",
    "from itertools import repeat\n",
    "\n",
    "\n",
    "class Form1Dataset(torch.utils.data.Dataset):\n",
    "    \"\"\"Some Information about Form1Dataset\"\"\"\n",
    "\n",
    "    def __init__(\n",
    "        self,\n",
    "        dataset_dir,\n",
    "        signal_name,\n",
    "        max_window_idx=193,\n",
    "        window_length=64,\n",
    "        step=1,\n",
    "        test=False,\n",
    "    ):\n",
    "        super(Form1Dataset, self).__init__()\n",
    "        self.max_window_idx = max_window_idx\n",
    "        self.test = test\n",
    "        self.signal_name = signal_name\n",
    "\n",
    "        self.csv_list = glob.glob(f\"{dataset_dir}*.csv\")\n",
    "        self.csv_amount = len(self.csv_list)\n",
    "        self.windows_amount = max_window_idx * self.csv_amount\n",
    "        self.window_length = window_length\n",
    "        self.step = step\n",
    "\n",
    "    def __getitem__(self, index):\n",
    "\n",
    "        # sample_settings\n",
    "        window_length = self.window_length\n",
    "        step = self.step\n",
    "\n",
    "        # Calculate window_idx and file name\n",
    "        window_idx = index % self.max_window_idx\n",
    "        csv_idx = index // self.max_window_idx\n",
    "        csv_full_path = self.csv_list[csv_idx]\n",
    "\n",
    "        # Load CSV, signal and create windows\n",
    "        csv_name = os.path.basename(csv_full_path)\n",
    "        signal, t, _ = CSV_pandas_path(csv_full_path).load_data(self.signal_name)\n",
    "        signal_windows, t_windows = list(\n",
    "            map(moving_window, [signal, t], repeat(window_length), repeat(step))\n",
    "        )\n",
    "\n",
    "        # select window\n",
    "\n",
    "        signal_window = signal_windows[window_idx]\n",
    "        signal_window = np.expand_dims(signal_window, axis=1)\n",
    "        t_window = t_windows[window_idx]\n",
    "\n",
    "        # create labels\n",
    "        if window_idx < 66:\n",
    "            label = np.array([0])\n",
    "        else:\n",
    "            label = np.array([1])\n",
    "\n",
    "        # For dataset visualization return following information\n",
    "        signal_window = torch.from_numpy(np.copy(signal_window)).float()\n",
    "        label = torch.from_numpy(label).float()\n",
    "        if self.test == True:\n",
    "            return signal_window, t_window, label, csv_name, index, window_idx\n",
    "\n",
    "        # For training only signals and labels are required\n",
    "\n",
    "        return signal_window, label\n",
    "\n",
    "    # def get_events(self, csv_index):\n",
    "    #     index_min = csv_index * self.max_window_idx\n",
    "    #     index_max = ((csv_index + 1) * self.max_window_idx) - 1\n",
    "    #     windows = np.array([])\n",
    "    #     labels = np.array([])\n",
    "    #     for i in range(index_min, index_max + 1):\n",
    "    #         signal_window, label = self.__getitem__(i)\n",
    "    #         windows = np.append(windows, signal_window, axis=0)\n",
    "    #         labels = np.append(labels, label)\n",
    "    #     print(windows.shape)\n",
    "    #     print(labels.shape)\n",
    "\n",
    "    def get_event(self, csv_idx):\n",
    "\n",
    "        # Get indices \n",
    "        idx_min = csv_idx * self.max_window_idx\n",
    "        idx_max = ((csv_idx + 1) * self.max_window_idx) - 1\n",
    "\n",
    "        # Get path of csv_index\n",
    "        csv_full_path = self.csv_list[csv_idx]\n",
    "\n",
    "        # Load CSV, signal and create windows\n",
    "        csv_name = os.path.basename(csv_full_path)\n",
    "\n",
    "        # Load CSV, signal and create windows\n",
    "        csv_name = os.path.basename(csv_full_path)\n",
    "        signal, t, _ = CSV_pandas_path(csv_full_path).load_data(self.signal_name)\n",
    "        return signal, t, idx_min, idx_max, csv_name\n",
    "\n",
    "    def len_events(self):\n",
    "        return self.csv_amount\n",
    "\n",
    "    def __len__(self):\n",
    "        return self.csv_amount * self.max_window_idx\n"
   ]
  },
  {
   "cell_type": "code",
   "execution_count": 92,
   "metadata": {},
   "outputs": [
    {
     "data": {
      "image/png": "[encoded data removed]",
      "text/plain": [
       "<Figure size 640x480 with 1 Axes>"
      ]
     },
     "metadata": {},
     "output_type": "display_data"
    },
    {
     "name": "stdout",
     "output_type": "stream",
     "text": [
      "torch.Size([64, 1])\n",
      "tensor([[0.0103]], grad_fn=<SigmoidBackward0>)\n",
      "tensor([[0.0103]], grad_fn=<SigmoidBackward0>)\n",
      "tensor([[0.0103]], grad_fn=<CatBackward0>)\n"
     ]
    },
    {
     "data": {
      "image/png": "[encoded data removed]",
      "text/plain": [
       "<Figure size 640x480 with 1 Axes>"
      ]
     },
     "metadata": {},
     "output_type": "display_data"
    }
   ],
   "source": [
    "signal_name = \"I: X0071A-R3A\"\n",
    "# signal_name = \"I: X0023A-R1A\"\n",
    "\n",
    "dataset = Form1Dataset(\n",
    "    dataset_dir, max_window_idx=max_window_idx, signal_name=signal_name\n",
    ")\n",
    "signal, t, idx_min, idx_max, csv_name = dataset.get_event(1)\n",
    "plt.plot(t, signal)\n",
    "signal = dataset.__getitem__(75)[0]\n",
    "plt.show()\n",
    "print(signal.shape)\n",
    "plt.plot(signal)\n",
    "# print(idx_min, idx_max)\n",
    "model.eval()\n",
    "signal = dataset.__getitem__(75)[0]\n",
    "signal = torch.unsqueeze(signal, 0).to(device)\n",
    "pred = model(signal)\n",
    "print(pred)\n",
    "dataloader = DataLoader(dataset, batch_size=1, shuffle=False)\n",
    "iterator = iter(dataloader)\n",
    "for i in range(0, 76):\n",
    "    signal, t = next(iterator)\n",
    "plt.plot(signal[0,:,0])\n",
    "pred = model(signal)\n",
    "print(pred)\n",
    "\n",
    "\n",
    "preds = torch.empty((0, 1)).float().to(device)\n",
    "\n",
    "for i in range(idx_min, idx_max + 1):\n",
    "    # signal = dataset[i][0]\n",
    "    signal = dataset.__getitem__(75)[0]\n",
    "    # print(signal)\n",
    "    signal = torch.unsqueeze(signal, 0).to(device)\n",
    "    # print(signal.shape)\n",
    "\n",
    "    pred = model(signal)\n",
    "    preds = torch.cat((preds, pred))\n",
    "    \n",
    "    break\n",
    "# print(preds.shape)\n",
    "print(preds)\n"
   ]
  },
  {
   "attachments": {},
   "cell_type": "markdown",
   "metadata": {},
   "source": [
    "##### 4.2. Database Directory Creation "
   ]
  },
  {
   "cell_type": "code",
   "execution_count": 6,
   "metadata": {},
   "outputs": [
    {
     "name": "stdout",
     "output_type": "stream",
     "text": [
      "copying 54 files...\n",
      "finished\n"
     ]
    }
   ],
   "source": [
    "# Creating Dataset Folders\n",
    "\n",
    "dataset_dir_full = \"C:/Users/aherrada/OneDrive - Universidad del Norte/Uninorte/DetectionDataBase/LSTM_form_1/fault_01/\"\n",
    "dataset_dir = \"C:/Users/aherrada/OneDrive - Universidad del Norte/Uninorte/DetectionDataBase/LSTM_form_1/R1/\"\n",
    "\n",
    "max_window_idx = 130\n",
    "n_events = 54\n",
    "\n",
    "\n",
    "def dataset_creator(source_path, target_path, signal_list=False):\n",
    "    csv_list = glob.glob(f\"{source_path}*.csv\")\n",
    "    if not os.path.isdir(target_path):\n",
    "        print(\"creating\")\n",
    "        os.makedirs(target_path)\n",
    "    else:\n",
    "        file_list = glob.glob(f\"{target_path}*.csv\")\n",
    "        for file in file_list:\n",
    "            os.remove(file)\n",
    "    csv_list = random.sample(csv_list, n_events)\n",
    "    print(f\"copying {len(csv_list)} files...\")\n",
    "    for csv in csv_list:\n",
    "        source_path = csv\n",
    "        target_path = target_path\n",
    "        shutil.copy(source_path, target_path)\n",
    "    print(\"finished\")\n",
    "    \n",
    "    if signal_list == True:\n",
    "        print(\"Available Relays (current):\")\n",
    "        CSV_pandas_path(csv_list[0]).relay_list()\n",
    "\n",
    "\n",
    "# Crear los 3 Datasets para entrenar los relés individualmente\n",
    "dataset_creator(dataset_dir_full, dataset_dir, signal_list=False)\n"
   ]
  },
  {
   "attachments": {},
   "cell_type": "markdown",
   "metadata": {},
   "source": [
    "##### 4.3. Dataset and Dataloader Instances Creation"
   ]
  },
  {
   "cell_type": "code",
   "execution_count": 273,
   "metadata": {},
   "outputs": [],
   "source": [
    "# Load Dataset\n",
    "signal_name = \"I: X0023A-R1A\"\n",
    "# signal_name = \"I: X0004A-R2A\"\n",
    "# signal_name = \"I: X0071A-R3A\"\n",
    "\n",
    "dataset = Form1Dataset(\n",
    "    dataset_dir, max_window_idx=max_window_idx, signal_name=signal_name\n",
    ")\n",
    "# dataset.get_events(0)\n",
    "train_dataset, test_dataset = random_split(dataset, [0.95, 0.05])\n",
    "train_dataloader = DataLoader(train_dataset, batch_size=train_batch_size, shuffle=False)\n",
    "test_dataloader = DataLoader(test_dataset, batch_size=test_batch_size, shuffle=False)\n",
    "# EL test set realmente es un dev set\n",
    "# Como regla general, si es utilizado dentro del loop es un dev set.\n"
   ]
  },
  {
   "attachments": {},
   "cell_type": "markdown",
   "metadata": {},
   "source": [
    "### 5. Model Training\n"
   ]
  },
  {
   "attachments": {},
   "cell_type": "markdown",
   "metadata": {},
   "source": [
    "##### 5.1. Train / Test(dev) Loop Creation"
   ]
  },
  {
   "cell_type": "code",
   "execution_count": 274,
   "metadata": {},
   "outputs": [],
   "source": [
    "# Create Training / Test / Validation Loops\n",
    "\n",
    "\n",
    "\n",
    "# Training\n",
    "def train(dataloader, model, loss_fn, optimizer, return_loss=False):\n",
    "    size = len(dataloader.dataset)\n",
    "    model.train()\n",
    "    loss_list = []\n",
    "\n",
    "    for batch, (x, y) in enumerate(dataloader):\n",
    "        x, y = x.to(device), y.to(device)\n",
    "\n",
    "        # Compute prediction error\n",
    "        pred = model(x)\n",
    "        loss = loss_fn(pred, y)\n",
    "        print(pred)\n",
    "\n",
    "        # Backpropagation\n",
    "        optimizer.zero_grad()\n",
    "        loss.backward()\n",
    "        optimizer.step()\n",
    "        if return_loss == True:\n",
    "            loss_list.append(loss.item())\n",
    "        if batch % 2 == 0:\n",
    "            loss, current = loss.item(), batch * len(x)\n",
    "            print(f\"loss: {loss:>f} [{current:>5d}/{size:>5d}]\")\n",
    "\n",
    "        if batch % 5 == 0:\n",
    "            my_lr_scheduler.step()\n",
    "    if return_loss == True:\n",
    "        return loss_list\n",
    "\n",
    "\n",
    "def test(dataloader, model, loss_fn, return_metrics=False):\n",
    "    size = len(dataloader.dataset)\n",
    "    num_batches = len(dataloader)\n",
    "    model.eval()\n",
    "    test_loss, correct = 0, 0\n",
    "    with torch.no_grad():\n",
    "        for x, y in dataloader:\n",
    "\n",
    "            x, y = x.to(device), y.to(device)\n",
    "            pred = model(x)\n",
    "            \n",
    "            test_loss += loss_fn(pred, y).item()\n",
    "            correct += (torch.round(pred) == y).type(torch.float).sum().item()\n",
    "    test_loss /= num_batches\n",
    "    correct /= size\n",
    "    print(\n",
    "        f\"Test Error: \\n Accuracy: {(100*correct):>0.1f}%, Avg loss: {test_loss:>8f} \\n\"\n",
    "    )\n",
    "    if return_metrics == True:\n",
    "        return correct * 100, test_loss\n",
    "\n",
    "from torchmetrics.classification import StatScores\n",
    "from torchmetrics.classification import BinaryStatScores\n",
    "def test_metrics(dataloader, model, loss_fn, return_metrics=False):\n",
    "    size = len(dataloader.dataset)\n",
    "    num_batches = len(dataloader)\n",
    "    metric = BinaryStatScores().to(device)\n",
    "    conf_matrix = torch.empty((1, 5)).to(device)\n",
    "    model.eval()\n",
    "    test_loss, correct = 0, 0\n",
    "    with torch.no_grad():\n",
    "        for x, y in dataloader:\n",
    "\n",
    "            x, y = x.to(device), y.to(device)\n",
    "            pred = model(x)\n",
    "            conf_matrix += metric(torch.round(pred), y)\n",
    "            # conf_matrix += metric(pred, y)\n",
    "            test_loss += loss_fn(pred, y).item()\n",
    "            correct += (torch.round(pred) == y).type(torch.float).sum().item()\n",
    "    test_loss /= num_batches\n",
    "    correct /= size\n",
    "    print(\n",
    "        f\"Test Error: \\n Accuracy: {(100*correct):>0.1f}%, Avg loss: {test_loss:>8f} \\n\"\n",
    "    )\n",
    "    if return_metrics == True:\n",
    "        return conf_matrix\n"
   ]
  },
  {
   "attachments": {},
   "cell_type": "markdown",
   "metadata": {},
   "source": [
    "##### 5.2. Training the model"
   ]
  },
  {
   "cell_type": "code",
   "execution_count": 275,
   "metadata": {},
   "outputs": [
    {
     "name": "stdout",
     "output_type": "stream",
     "text": [
      "Epoch 1\n",
      "--------------------------------\n",
      "Test Error: \n",
      " Accuracy: 75.8%, Avg loss: 0.449981 \n",
      "\n"
     ]
    }
   ],
   "source": [
    "\n",
    "epochs = 1\n",
    "\n",
    "for epoch in range(epochs):\n",
    "    \n",
    "    print(f\"Epoch {epoch+1}\\n--------------------------------\")\n",
    "    # train_loss = train(train_dataloader, model, loss_fn, optimizer, return_loss=True)\n",
    "    # accuracy, _ = test(test_dataloader, model, loss_fn, return_metrics=True)\n",
    "    conf_matrix = test_metrics(test_dataloader, model, loss_fn, return_metrics=True)"
   ]
  },
  {
   "cell_type": "code",
   "execution_count": 276,
   "metadata": {},
   "outputs": [
    {
     "name": "stdout",
     "output_type": "stream",
     "text": [
      "torch.FloatTensor\n",
      "tensor([[182.,  82.,  84.,   3., 185.]])\n",
      "tensor([[182,  82,  84,   3, 185]])\n",
      "torch.LongTensor\n",
      "0.9837837837837838\n",
      "0.4939759036144578\n",
      "0.7578347578347578\n"
     ]
    }
   ],
   "source": [
    "print(conf_matrix.type())\n",
    "print(conf_matrix)\n",
    "\n",
    "conf_matrix = conf_matrix.type(torch.int64)\n",
    "print(conf_matrix)\n",
    "print(conf_matrix.type())\n",
    "TP = int(conf_matrix[0, 0].item())\n",
    "FP = int(conf_matrix[0, 1].item())\n",
    "TN = int(conf_matrix[0, 2].item())\n",
    "FN = int(conf_matrix[0, 3].item())\n",
    "P = TP + FN\n",
    "N = TN + FP\n",
    "TOTAL = TP + FP + TN + FN\n",
    "TPR = TP / (TP + FN)\n",
    "FPR = FP / (FP + TN)\n",
    "TNR = TN / (FP + TN)\n",
    "ACC = (TP + TN) / (TOTAL)\n",
    "print(TPR)\n",
    "print(FPR)\n",
    "print(ACC)\n"
   ]
  },
  {
   "attachments": {},
   "cell_type": "markdown",
   "metadata": {},
   "source": [
    "##### 5.3. Loss visualization"
   ]
  },
  {
   "cell_type": "code",
   "execution_count": 10,
   "metadata": {},
   "outputs": [
    {
     "ename": "NameError",
     "evalue": "name 'train_loss' is not defined",
     "output_type": "error",
     "traceback": [
      "\u001b[1;31m---------------------------------------------------------------------------\u001b[0m",
      "\u001b[1;31mNameError\u001b[0m                                 Traceback (most recent call last)",
      "Cell \u001b[1;32mIn[10], line 1\u001b[0m\n\u001b[1;32m----> 1\u001b[0m mini_batch_list \u001b[39m=\u001b[39m [index \u001b[39mfor\u001b[39;00m index, _ \u001b[39min\u001b[39;00m \u001b[39menumerate\u001b[39m(train_loss)]\n\u001b[0;32m      2\u001b[0m train_loss_ewm \u001b[39m=\u001b[39m pd\u001b[39m.\u001b[39mDataFrame(train_loss)\u001b[39m.\u001b[39mewm(com\u001b[39m=\u001b[39m\u001b[39m0.95\u001b[39m)\u001b[39m.\u001b[39mmean()\n\u001b[0;32m      3\u001b[0m plt\u001b[39m.\u001b[39mplot(mini_batch_list, train_loss, mini_batch_list, train_loss_ewm)\n",
      "\u001b[1;31mNameError\u001b[0m: name 'train_loss' is not defined"
     ]
    }
   ],
   "source": [
    "mini_batch_list = [index for index, _ in enumerate(train_loss)]\n",
    "train_loss_ewm = pd.DataFrame(train_loss).ewm(com=0.95).mean()\n",
    "plt.plot(mini_batch_list, train_loss, mini_batch_list, train_loss_ewm)"
   ]
  },
  {
   "attachments": {},
   "cell_type": "markdown",
   "metadata": {},
   "source": [
    "##### 5.4. Saving the Model"
   ]
  },
  {
   "cell_type": "code",
   "execution_count": 272,
   "metadata": {},
   "outputs": [
    {
     "data": {
      "text/plain": [
       "<All keys matched successfully>"
      ]
     },
     "execution_count": 272,
     "metadata": {},
     "output_type": "execute_result"
    }
   ],
   "source": [
    "# # Save the Model\n",
    "# torch.save(model.state_dict(), './models/LSTMHarmonic_weights_989.pth')\n",
    "model.load_state_dict(torch.load('./models/LSTMHarmonic_weights_R3_934.pth'))\n",
    "# model.load_state_dict(torch.load('./models/LSTMHarmonic_weights_R1_989.pth'))\n",
    "# model.load_state_dict(torch.load('./models/LSTMHarmonic_weights_R2_978.pth'))"
   ]
  },
  {
   "attachments": {},
   "cell_type": "markdown",
   "metadata": {},
   "source": [
    "### 6. Results Visualization\n"
   ]
  },
  {
   "attachments": {},
   "cell_type": "markdown",
   "metadata": {},
   "source": [
    "#### 6.1. Confussion Matrix Results Table Function"
   ]
  },
  {
   "cell_type": "code",
   "execution_count": 63,
   "metadata": {},
   "outputs": [],
   "source": [
    "# Data visualization (CPU)\n",
    "\n",
    "\n",
    "def confussion_matrix_labels(pred_label, true_label):\n",
    "    label = \"\"\n",
    "    if int(pred_label) == int(true_label):\n",
    "        label += \"True\"\n",
    "    else:\n",
    "        label += \"False\"\n",
    "    if pred_label == 1:\n",
    "        label += \" positive\"\n",
    "    else:\n",
    "        label += \" negative\"\n",
    "    return label\n",
    "\n",
    "\n",
    "def confussion_matrix(x, labels):\n",
    "    data = {\n",
    "        \"Pred probability\": torch.reshape(x, (-1,)).cpu().numpy(),\n",
    "        \"Pred label\": torch.reshape(torch.round(x), (-1,)).int().cpu().numpy(),\n",
    "        \"True label\": torch.reshape(labels, (-1,)).int().cpu().numpy(),\n",
    "    }\n",
    "    df = pd.DataFrame(data)\n",
    "    df[\"prueba\"] = confussion_matrix_pandas(df[\"Pred label\"], df[\"True label\"])\n",
    "    return df\n",
    "\n",
    "\n",
    "confussion_matrix_pandas = np.vectorize(confussion_matrix_labels)\n"
   ]
  },
  {
   "attachments": {},
   "cell_type": "markdown",
   "metadata": {},
   "source": [
    "##### 6.2. Plotly Plot"
   ]
  },
  {
   "cell_type": "code",
   "execution_count": 64,
   "metadata": {},
   "outputs": [
    {
     "name": "stderr",
     "output_type": "stream",
     "text": [
      "c:\\Users\\aherrada\\Documents\\Git\\Pytorch\\env\\lib\\site-packages\\torch\\utils\\data\\_utils\\collate.py:172: UserWarning: The given NumPy array is not writable, and PyTorch does not support non-writable tensors. This means writing to this tensor will result in undefined behavior. You may want to copy the array to protect its data or make it writable before converting it to a tensor. This type of warning will be suppressed for the rest of this program. (Triggered internally at C:\\actions-runner\\_work\\pytorch\\pytorch\\builder\\windows\\pytorch\\torch\\csrc\\utils\\tensor_numpy.cpp:205.)\n",
      "  return collate([torch.as_tensor(b) for b in batch], collate_fn_map=collate_fn_map)\n"
     ]
    },
    {
     "name": "stdout",
     "output_type": "stream",
     "text": [
      "64\n",
      "torch.Size([64])\n",
      "torch.Size([64, 1])\n",
      "   Pred probability  Pred label  True label         prueba\n",
      "0          0.982256           1           1  True positive\n",
      "1          0.061780           0           0  True negative\n",
      "2          0.034228           0           0  True negative\n",
      "3          0.983971           1           1  True positive\n",
      "4          0.033078           0           0  True negative\n",
      "5          0.984999           1           1  True positive\n",
      "6          0.072711           0           0  True negative\n",
      "7          0.158671           0           0  True negative\n",
      "8          0.983294           1           1  True positive\n"
     ]
    },
    {
     "data": {
      "application/vnd.plotly.v1+json": {
       "config": {
        "plotlyServerURL": "https://plot.ly"
       },
       "data": [
        {
         "marker": {
          "color": "black"
         },
         "name": "Fault - 97 - Fault01_B840_RF100.csv",
         "type": "scatter",
         "x": [
          0.0252588,
          0.0255192,
          0.0257796,
          0.02604,
          0.0263004,
          0.0265608,
          0.0268212,
          0.0270816,
          0.027342,
          0.0276024,
          0.0278628,
          0.0281232,
          0.0283836,
          0.028644,
          0.0289044,
          0.0291648,
          0.0294252,
          0.0296856,
          0.029946,
          0.0302064,
          0.0304668,
          0.0307272,
          0.0309876,
          0.031248,
          0.0315084,
          0.0317688,
          0.0320292,
          0.0322896,
          0.03255,
          0.0328104,
          0.0330708,
          0.0333312,
          0.0335916,
          0.033852,
          0.0341124,
          0.0343728,
          0.0346332,
          0.0348936,
          0.035154,
          0.0354144,
          0.0356748,
          0.0359352,
          0.0361956,
          0.036456,
          0.0367164,
          0.0369768,
          0.0372372,
          0.0374976,
          0.037758,
          0.0380184,
          0.0382788,
          0.0385392,
          0.0387996,
          0.03906,
          0.0393204,
          0.0395808,
          0.0398412,
          0.0401016,
          0.040362,
          0.0406224,
          0.0408828,
          0.0411432,
          0.0414036,
          0.041664
         ],
         "xaxis": "x",
         "y": [
          -21.718793869018555,
          -17.883441925048828,
          -13.732819557189941,
          -9.626703262329102,
          -5.55012321472168,
          -1.4022141695022583,
          2.7851572036743164,
          7.034245014190674,
          11.291367530822754,
          15.2290678024292,
          19.13311004638672,
          22.69806671142578,
          26.33456039428711,
          29.648944854736328,
          32.65326690673828,
          35.241512298583984,
          37.545616149902344,
          39.559574127197266,
          41.25320053100586,
          42.43668746948242,
          43.30295944213867,
          43.648704528808594,
          43.72171401977539,
          43.15425491333008,
          42.27699279785156,
          40.89405059814453,
          39.24799728393555,
          37.31309509277344,
          34.98146438598633,
          32.113040924072266,
          28.89109230041504,
          25.577896118164062,
          21.783039093017578,
          10.14130687713623,
          -2.131885290145874,
          -13.452370643615723,
          -26.67047691345215,
          -38.57260513305664,
          -49.982784271240234,
          -63.90270233154297,
          -75.78959655761719,
          -85.89725494384766,
          -96.17988586425781,
          -105.7496337890625,
          -114.28672790527344,
          -121.97525024414062,
          -127.25643920898438,
          -131.84136962890625,
          -135.93836975097656,
          -138.18905639648438,
          -138.65020751953125,
          -137.7454071044922,
          -135.8116912841797,
          -132.89035034179688,
          -128.35630798339844,
          -122.00497436523438,
          -114.72931671142578,
          -106.62675476074219,
          -97.4491195678711,
          -87.43801879882812,
          -76.3155288696289,
          -64.44544219970703,
          -52.094764709472656,
          -39.18191909790039
         ],
         "yaxis": "y"
        },
        {
         "marker": {
          "color": "black"
         },
         "name": "No Fault - 25 - Fault01_B802_RF100.csv",
         "type": "scatter",
         "x": [
          0.00651,
          0.0067704,
          0.0070308,
          0.0072912,
          0.0075516,
          0.007812,
          0.0080724,
          0.0083328,
          0.0085932,
          0.0088536,
          0.009114,
          0.0093744,
          0.0096348,
          0.0098952,
          0.0101556,
          0.010416,
          0.0106764,
          0.0109368,
          0.0111972,
          0.0114576,
          0.011718,
          0.0119784,
          0.0122388,
          0.0124992,
          0.0127596,
          0.01302,
          0.0132804,
          0.0135408,
          0.0138012,
          0.0140616,
          0.014322,
          0.0145824,
          0.0148428,
          0.0151032,
          0.0153636,
          0.015624,
          0.0158844,
          0.0161448,
          0.0164052,
          0.0166656,
          0.016926,
          0.0171864,
          0.0174468,
          0.0177072,
          0.0179676,
          0.018228,
          0.0184884,
          0.0187488,
          0.0190092,
          0.0192696,
          0.01953,
          0.0197904,
          0.0200508,
          0.0203112,
          0.0205716,
          0.020832,
          0.0210924,
          0.0213528,
          0.0216132,
          0.0218736,
          0.022134,
          0.0223944,
          0.0226548,
          0.0229152
         ],
         "xaxis": "x2",
         "y": [
          -13.988659858703613,
          -17.921756744384766,
          -23.124679565429688,
          -27.532289505004883,
          -30.66800880432129,
          -32.21525192260742,
          -34.23770523071289,
          -36.67208480834961,
          -39.369163513183594,
          -41.42435073852539,
          -42.431617736816406,
          -42.69382858276367,
          -42.41254425048828,
          -42.39531707763672,
          -42.40781021118164,
          -41.85440444946289,
          -40.47419357299805,
          -38.27752685546875,
          -36.01028060913086,
          -33.5883674621582,
          -30.979290008544922,
          -28.27501678466797,
          -25.25248908996582,
          -21.549461364746094,
          -17.24297523498535,
          -12.969301223754883,
          -9.121238708496094,
          -5.495739459991455,
          -1.5638785362243652,
          2.631985664367676,
          7.076229095458984,
          11.452481269836426,
          15.411568641662598,
          18.804792404174805,
          22.16197395324707,
          25.685800552368164,
          29.2855281829834,
          32.35780715942383,
          34.799415588378906,
          36.93296813964844,
          38.799583435058594,
          40.51353073120117,
          41.78935623168945,
          42.74916458129883,
          43.1375732421875,
          43.06012725830078,
          42.49139404296875,
          41.640541076660156,
          40.418521881103516,
          38.84855270385742,
          36.924774169921875,
          34.655338287353516,
          31.774986267089844,
          28.631765365600586,
          25.37949562072754,
          22.045879364013672,
          18.29425048828125,
          14.256898880004883,
          10.063065528869629,
          5.980208873748779,
          1.7755450010299683,
          -2.3037140369415283,
          -6.449489116668701,
          -10.554296493530273
         ],
         "yaxis": "y2"
        },
        {
         "marker": {
          "color": "black"
         },
         "name": "No Fault - 64 - Fault01_B134_RF1e-05.csv",
         "type": "scatter",
         "x": [
          0.0166656,
          0.016926,
          0.0171864,
          0.0174468,
          0.0177072,
          0.0179676,
          0.018228,
          0.0184884,
          0.0187488,
          0.0190092,
          0.0192696,
          0.01953,
          0.0197904,
          0.0200508,
          0.0203112,
          0.0205716,
          0.020832,
          0.0210924,
          0.0213528,
          0.0216132,
          0.0218736,
          0.022134,
          0.0223944,
          0.0226548,
          0.0229152,
          0.0231756,
          0.023436,
          0.0236964,
          0.0239568,
          0.0242172,
          0.0244776,
          0.024738,
          0.0249984,
          0.0252588,
          0.0255192,
          0.0257796,
          0.02604,
          0.0263004,
          0.0265608,
          0.0268212,
          0.0270816,
          0.027342,
          0.0276024,
          0.0278628,
          0.0281232,
          0.0283836,
          0.028644,
          0.0289044,
          0.0291648,
          0.0294252,
          0.0296856,
          0.029946,
          0.0302064,
          0.0304668,
          0.0307272,
          0.0309876,
          0.031248,
          0.0315084,
          0.0317688,
          0.0320292,
          0.0322896,
          0.03255,
          0.0328104,
          0.0330708
         ],
         "xaxis": "x3",
         "y": [
          -5.715844631195068,
          -1.745186448097229,
          2.07855486869812,
          6.390735626220703,
          10.761781692504883,
          14.940427780151367,
          18.593914031982422,
          21.970531463623047,
          25.254770278930664,
          28.70754051208496,
          31.73877716064453,
          34.54710388183594,
          36.611331939697266,
          38.626548767089844,
          40.074256896972656,
          41.48365783691406,
          42.34199523925781,
          42.85584259033203,
          42.837528228759766,
          42.33500671386719,
          41.4669075012207,
          40.24226379394531,
          38.651493072509766,
          36.787498474121094,
          34.52244186401367,
          31.775671005249023,
          28.711273193359375,
          25.472745895385742,
          22.09307289123535,
          18.26664161682129,
          14.304277420043945,
          10.145647048950195,
          6.168547630310059,
          1.9962236881256104,
          -2.0926406383514404,
          -6.2921671867370605,
          -10.45626449584961,
          -14.467082023620605,
          -18.242067337036133,
          -21.904338836669922,
          -25.41146469116211,
          -28.809085845947266,
          -31.742889404296875,
          -34.410369873046875,
          -36.65517044067383,
          -38.787841796875,
          -40.403587341308594,
          -41.74182891845703,
          -42.55067825317383,
          -43.05413818359375,
          -43.11569595336914,
          -42.706912994384766,
          -41.82316589355469,
          -40.58220291137695,
          -38.964820861816406,
          -37.14833450317383,
          -34.90480422973633,
          -32.1690788269043,
          -29.04099464416504,
          -25.811452865600586,
          -22.399261474609375,
          -18.693010330200195,
          -14.745512008666992,
          -10.627034187316895
         ],
         "yaxis": "y3"
        },
        {
         "marker": {
          "color": "black"
         },
         "name": "Fault - 98 - Fault01_B832_RF40.csv",
         "type": "scatter",
         "x": [
          0.0255192,
          0.0257796,
          0.02604,
          0.0263004,
          0.0265608,
          0.0268212,
          0.0270816,
          0.027342,
          0.0276024,
          0.0278628,
          0.0281232,
          0.0283836,
          0.028644,
          0.0289044,
          0.0291648,
          0.0294252,
          0.0296856,
          0.029946,
          0.0302064,
          0.0304668,
          0.0307272,
          0.0309876,
          0.031248,
          0.0315084,
          0.0317688,
          0.0320292,
          0.0322896,
          0.03255,
          0.0328104,
          0.0330708,
          0.0333312,
          0.0335916,
          0.033852,
          0.0341124,
          0.0343728,
          0.0346332,
          0.0348936,
          0.035154,
          0.0354144,
          0.0356748,
          0.0359352,
          0.0361956,
          0.036456,
          0.0367164,
          0.0369768,
          0.0372372,
          0.0374976,
          0.037758,
          0.0380184,
          0.0382788,
          0.0385392,
          0.0387996,
          0.03906,
          0.0393204,
          0.0395808,
          0.0398412,
          0.0401016,
          0.040362,
          0.0406224,
          0.0408828,
          0.0411432,
          0.0414036,
          0.041664,
          0.0419244
         ],
         "xaxis": "x4",
         "y": [
          -40.006099700927734,
          -38.19830322265625,
          -36.20713424682617,
          -33.67177200317383,
          -30.778728485107422,
          -27.493619918823242,
          -24.165796279907227,
          -20.59185028076172,
          -16.695178985595703,
          -12.511877059936523,
          -8.424254417419434,
          -4.24196720123291,
          -0.10292553156614304,
          4.053736686706543,
          8.300032615661621,
          12.402277946472168,
          16.34137725830078,
          20.186573028564453,
          23.779451370239258,
          27.324268341064453,
          30.479074478149414,
          33.336090087890625,
          35.83851623535156,
          38.115108489990234,
          40.00492477416992,
          41.54624938964844,
          42.624755859375,
          43.306724548339844,
          43.618507385253906,
          43.449241638183594,
          42.81941604614258,
          44.66605758666992,
          71.14884185791016,
          74.79112243652344,
          74.94009399414062,
          77.22794342041016,
          61.954837799072266,
          57.485172271728516,
          53.10882568359375,
          32.81146240234375,
          19.423446655273438,
          2.708061933517456,
          -14.843033790588379,
          -27.516281127929688,
          -48.99983215332031,
          -70.8058853149414,
          -84.92693328857422,
          -102.42781829833984,
          -118.7771987915039,
          -135.77444458007812,
          -153.64004516601562,
          -163.74041748046875,
          -174.29315185546875,
          -186.78219604492188,
          -196.14393615722656,
          -203.59080505371094,
          -206.7019805908203,
          -208.8605194091797,
          -211.85472106933594,
          -211.612060546875,
          -207.70510864257812,
          -201.6601104736328,
          -194.14010620117188,
          -186.80824279785156
         ],
         "yaxis": "y4"
        },
        {
         "marker": {
          "color": "black"
         },
         "name": "No Fault - 56 - Fault01_B846_RF40.csv",
         "type": "scatter",
         "x": [
          0.0145824,
          0.0148428,
          0.0151032,
          0.0153636,
          0.015624,
          0.0158844,
          0.0161448,
          0.0164052,
          0.0166656,
          0.016926,
          0.0171864,
          0.0174468,
          0.0177072,
          0.0179676,
          0.018228,
          0.0184884,
          0.0187488,
          0.0190092,
          0.0192696,
          0.01953,
          0.0197904,
          0.0200508,
          0.0203112,
          0.0205716,
          0.020832,
          0.0210924,
          0.0213528,
          0.0216132,
          0.0218736,
          0.022134,
          0.0223944,
          0.0226548,
          0.0229152,
          0.0231756,
          0.023436,
          0.0236964,
          0.0239568,
          0.0242172,
          0.0244776,
          0.024738,
          0.0249984,
          0.0252588,
          0.0255192,
          0.0257796,
          0.02604,
          0.0263004,
          0.0265608,
          0.0268212,
          0.0270816,
          0.027342,
          0.0276024,
          0.0278628,
          0.0281232,
          0.0283836,
          0.028644,
          0.0289044,
          0.0291648,
          0.0294252,
          0.0296856,
          0.029946,
          0.0302064,
          0.0304668,
          0.0307272,
          0.0309876
         ],
         "xaxis": "x5",
         "y": [
          27.06244659423828,
          30.165388107299805,
          32.520843505859375,
          34.79091262817383,
          37.17281723022461,
          39.460880279541016,
          41.16887283325195,
          42.029056549072266,
          42.679542541503906,
          42.87682342529297,
          42.984886169433594,
          42.386138916015625,
          41.56123733520508,
          40.10972595214844,
          38.403385162353516,
          36.350345611572266,
          34.055301666259766,
          31.130672454833984,
          28.000722885131836,
          24.6922607421875,
          21.31353187561035,
          17.4080810546875,
          13.328346252441406,
          9.12728214263916,
          5.0952301025390625,
          0.9302788376808167,
          -3.118319034576416,
          -7.349383354187012,
          -11.482067108154297,
          -15.517036437988281,
          -19.333206176757812,
          -22.948820114135742,
          -26.340097427368164,
          -29.667009353637695,
          -32.526546478271484,
          -35.18840026855469,
          -37.40488052368164,
          -39.37102508544922,
          -40.98616027832031,
          -42.090003967285156,
          -42.93766403198242,
          -43.251529693603516,
          -43.27377700805664,
          -42.6671257019043,
          -41.747650146484375,
          -40.39375686645508,
          -38.740821838378906,
          -36.76999282836914,
          -34.44859313964844,
          -31.525951385498047,
          -28.422197341918945,
          -25.095348358154297,
          -21.682872772216797,
          -17.7596492767334,
          -13.683089256286621,
          -9.527937889099121,
          -5.441531181335449,
          -1.311301350593567,
          2.812352418899536,
          7.073397159576416,
          11.24535083770752,
          15.257786750793457,
          19.05664825439453,
          22.718242645263672
         ],
         "yaxis": "y5"
        },
        {
         "marker": {
          "color": "black"
         },
         "name": "Fault - 81 - Fault01_B860_RF40.csv",
         "type": "scatter",
         "x": [
          0.0210924,
          0.0213528,
          0.0216132,
          0.0218736,
          0.022134,
          0.0223944,
          0.0226548,
          0.0229152,
          0.0231756,
          0.023436,
          0.0236964,
          0.0239568,
          0.0242172,
          0.0244776,
          0.024738,
          0.0249984,
          0.0252588,
          0.0255192,
          0.0257796,
          0.02604,
          0.0263004,
          0.0265608,
          0.0268212,
          0.0270816,
          0.027342,
          0.0276024,
          0.0278628,
          0.0281232,
          0.0283836,
          0.028644,
          0.0289044,
          0.0291648,
          0.0294252,
          0.0296856,
          0.029946,
          0.0302064,
          0.0304668,
          0.0307272,
          0.0309876,
          0.031248,
          0.0315084,
          0.0317688,
          0.0320292,
          0.0322896,
          0.03255,
          0.0328104,
          0.0330708,
          0.0333312,
          0.0335916,
          0.033852,
          0.0341124,
          0.0343728,
          0.0346332,
          0.0348936,
          0.035154,
          0.0354144,
          0.0356748,
          0.0359352,
          0.0361956,
          0.036456,
          0.0367164,
          0.0369768,
          0.0372372,
          0.0374976
         ],
         "xaxis": "x6",
         "y": [
          -41.37749099731445,
          -42.25364303588867,
          -42.83119201660156,
          -43.10898208618164,
          -42.94477844238281,
          -42.29921340942383,
          -41.2497444152832,
          -39.70502853393555,
          -37.9931526184082,
          -35.92491912841797,
          -33.4041748046875,
          -30.455961227416992,
          -27.184932708740234,
          -23.909719467163086,
          -20.302982330322266,
          -16.41545867919922,
          -12.195343971252441,
          -8.087227821350098,
          -3.8798139095306396,
          0.22463425993919373,
          4.344419002532959,
          8.584482192993164,
          12.736957550048828,
          16.712247848510742,
          20.536548614501953,
          24.08082389831543,
          27.62698745727539,
          30.744382858276367,
          33.63744354248047,
          36.094207763671875,
          38.40033721923828,
          40.22431945800781,
          41.74221420288086,
          42.77149963378906,
          43.46508026123047,
          43.742008209228516,
          43.54977035522461,
          42.84241485595703,
          41.84738540649414,
          40.30313491821289,
          38.58808517456055,
          36.454994201660156,
          33.91860580444336,
          30.93658447265625,
          27.65658950805664,
          24.32999038696289,
          20.737031936645508,
          16.77855110168457,
          11.485453605651855,
          -12.59057903289795,
          -31.554981231689453,
          -46.36970138549805,
          -67.25968933105469,
          -81.41764068603516,
          -96.35686492919922,
          -118.33924102783203,
          -130.2213134765625,
          -143.44293212890625,
          -158.02589416503906,
          -168.82131958007812,
          -180.42202758789062,
          -189.1786651611328,
          -192.52310180664062,
          -199.08518981933594
         ],
         "yaxis": "y6"
        },
        {
         "marker": {
          "color": "black"
         },
         "name": "No Fault - 40 - Fault01_B832_RF60.csv",
         "type": "scatter",
         "x": [
          0.010416,
          0.0106764,
          0.0109368,
          0.0111972,
          0.0114576,
          0.011718,
          0.0119784,
          0.0122388,
          0.0124992,
          0.0127596,
          0.01302,
          0.0132804,
          0.0135408,
          0.0138012,
          0.0140616,
          0.014322,
          0.0145824,
          0.0148428,
          0.0151032,
          0.0153636,
          0.015624,
          0.0158844,
          0.0161448,
          0.0164052,
          0.0166656,
          0.016926,
          0.0171864,
          0.0174468,
          0.0177072,
          0.0179676,
          0.018228,
          0.0184884,
          0.0187488,
          0.0190092,
          0.0192696,
          0.01953,
          0.0197904,
          0.0200508,
          0.0203112,
          0.0205716,
          0.020832,
          0.0210924,
          0.0213528,
          0.0216132,
          0.0218736,
          0.022134,
          0.0223944,
          0.0226548,
          0.0229152,
          0.0231756,
          0.023436,
          0.0236964,
          0.0239568,
          0.0242172,
          0.0244776,
          0.024738,
          0.0249984,
          0.0252588,
          0.0255192,
          0.0257796,
          0.02604,
          0.0263004,
          0.0265608,
          0.0268212
         ],
         "xaxis": "x7",
         "y": [
          35.14326477050781,
          32.51112365722656,
          28.840030670166016,
          25.058706283569336,
          21.35137939453125,
          18.048404693603516,
          14.667084693908691,
          10.940345764160156,
          6.523663520812988,
          1.6628865003585815,
          -2.7314393520355225,
          -6.490321636199951,
          -10.083331108093262,
          -13.756672859191895,
          -17.811674118041992,
          -21.86092185974121,
          -25.665176391601562,
          -28.883169174194336,
          -31.39788246154785,
          -33.763492584228516,
          -36.26343536376953,
          -38.66925048828125,
          -40.52201843261719,
          -41.5587272644043,
          -42.36280822753906,
          -42.6767578125,
          -43.013587951660156,
          -42.570884704589844,
          -41.89687728881836,
          -40.63051223754883,
          -38.99713897705078,
          -37.06958770751953,
          -34.922515869140625,
          -32.21530532836914,
          -29.23086929321289,
          -25.936351776123047,
          -22.63208770751953,
          -18.87859344482422,
          -14.915861129760742,
          -10.721565246582031,
          -6.718647480010986,
          -2.5528042316436768,
          1.4997509717941284,
          5.632126331329346,
          9.831899642944336,
          13.89923095703125,
          17.760976791381836,
          21.432092666625977,
          24.852384567260742,
          28.282947540283203,
          31.27903938293457,
          34.0147819519043,
          36.34416580200195,
          38.41569900512695,
          40.1776008605957,
          41.44011688232422,
          42.444400787353516,
          42.88050079345703,
          43.11323928833008,
          42.666927337646484,
          41.891075134277344,
          40.72868728637695,
          39.17470169067383,
          37.333412170410156
         ],
         "yaxis": "y7"
        },
        {
         "marker": {
          "color": "black"
         },
         "name": "No Fault - 48 - Fault01_B124_RF1e-05.csv",
         "type": "scatter",
         "x": [
          0.0124992,
          0.0127596,
          0.01302,
          0.0132804,
          0.0135408,
          0.0138012,
          0.0140616,
          0.014322,
          0.0145824,
          0.0148428,
          0.0151032,
          0.0153636,
          0.015624,
          0.0158844,
          0.0161448,
          0.0164052,
          0.0166656,
          0.016926,
          0.0171864,
          0.0174468,
          0.0177072,
          0.0179676,
          0.018228,
          0.0184884,
          0.0187488,
          0.0190092,
          0.0192696,
          0.01953,
          0.0197904,
          0.0200508,
          0.0203112,
          0.0205716,
          0.020832,
          0.0210924,
          0.0213528,
          0.0216132,
          0.0218736,
          0.022134,
          0.0223944,
          0.0226548,
          0.0229152,
          0.0231756,
          0.023436,
          0.0236964,
          0.0239568,
          0.0242172,
          0.0244776,
          0.024738,
          0.0249984,
          0.0252588,
          0.0255192,
          0.0257796,
          0.02604,
          0.0263004,
          0.0265608,
          0.0268212,
          0.0270816,
          0.027342,
          0.0276024,
          0.0278628,
          0.0281232,
          0.0283836,
          0.028644,
          0.0289044
         ],
         "xaxis": "x8",
         "y": [
          -40.61854553222656,
          -38.61245346069336,
          -36.578369140625,
          -34.41680908203125,
          -31.97183609008789,
          -29.00537109375,
          -25.81806182861328,
          -22.115318298339844,
          -18.197877883911133,
          -14.094491004943848,
          -10.195566177368164,
          -6.392892360687256,
          -2.3569538593292236,
          1.912488341331482,
          6.141201972961426,
          10.511104583740234,
          14.32763385772705,
          18.028852462768555,
          21.451175689697266,
          25.028398513793945,
          28.545490264892578,
          31.64473533630371,
          34.15851593017578,
          36.378231048583984,
          38.31985092163086,
          40.179141998291016,
          41.45548629760742,
          42.492984771728516,
          42.80500030517578,
          42.986663818359375,
          42.46856689453125,
          41.7475471496582,
          40.59856414794922,
          39.01033401489258,
          37.13475799560547,
          34.889041900634766,
          32.21063232421875,
          29.217300415039062,
          25.967025756835938,
          22.6106014251709,
          18.867952346801758,
          14.883293151855469,
          10.766427993774414,
          6.669371128082275,
          2.605623483657837,
          -1.5764461755752563,
          -5.639556407928467,
          -9.935598373413086,
          -13.90461254119873,
          -17.76860809326172,
          -21.446231842041016,
          -24.96520233154297,
          -28.37879180908203,
          -31.39482879638672,
          -34.05009460449219,
          -36.45622634887695,
          -38.49444580078125,
          -40.3073844909668,
          -41.55570983886719,
          -42.55807113647461,
          -43.000633239746094,
          -43.219879150390625,
          -42.8063850402832,
          -41.99705123901367
         ],
         "yaxis": "y8"
        },
        {
         "marker": {
          "color": "black"
         },
         "name": "Fault - 124 - Fault01_B814_RF20.csv",
         "type": "scatter",
         "x": [
          0.0322896,
          0.03255,
          0.0328104,
          0.0330708,
          0.0333312,
          0.0335916,
          0.033852,
          0.0341124,
          0.0343728,
          0.0346332,
          0.0348936,
          0.035154,
          0.0354144,
          0.0356748,
          0.0359352,
          0.0361956,
          0.036456,
          0.0367164,
          0.0369768,
          0.0372372,
          0.0374976,
          0.037758,
          0.0380184,
          0.0382788,
          0.0385392,
          0.0387996,
          0.03906,
          0.0393204,
          0.0395808,
          0.0398412,
          0.0401016,
          0.040362,
          0.0406224,
          0.0408828,
          0.0411432,
          0.0414036,
          0.041664,
          0.0419244,
          0.0421848,
          0.0424452,
          0.0427056,
          0.042966,
          0.0432264,
          0.0434868,
          0.0437472,
          0.0440076,
          0.044268,
          0.0445284,
          0.0447888,
          0.0450492,
          0.0453096,
          0.04557,
          0.0458304,
          0.0460908,
          0.0463512,
          0.0466116,
          0.046872,
          0.0471324,
          0.0473928,
          0.0476532,
          0.0479136,
          0.048174,
          0.0484344,
          0.0486948
         ],
         "xaxis": "x9",
         "y": [
          -35.84382629394531,
          -37.9904899597168,
          -39.797142028808594,
          -41.26047897338867,
          -42.22498321533203,
          -72.3560791015625,
          -96.23246002197266,
          -122.84777069091797,
          -152.22402954101562,
          -154.90432739257812,
          -150.1676025390625,
          -158.6243133544922,
          -160.8408660888672,
          -145.73094177246094,
          -131.7823944091797,
          -116.80278015136719,
          -101.39468383789062,
          -79.81327056884766,
          -55.37954330444336,
          -29.932252883911133,
          -4.536495208740234,
          22.01091194152832,
          48.89051818847656,
          77.12255859375,
          107.19206237792969,
          136.7288818359375,
          160.3765411376953,
          185.03842163085938,
          212.1396484375,
          235.61647033691406,
          255.04742431640625,
          271.6868896484375,
          289.7740783691406,
          303.416748046875,
          313.86749267578125,
          322.1545104980469,
          326.3826599121094,
          331.0024719238281,
          327.8179016113281,
          324.29974365234375,
          316.9569091796875,
          301.90533447265625,
          290.2364807128906,
          273.557861328125,
          257.7835693359375,
          235.15476989746094,
          210.14886474609375,
          185.69041442871094,
          159.74012756347656,
          130.70907592773438,
          100.84671783447266,
          69.35906219482422,
          42.86497497558594,
          8.821533203125,
          -21.705284118652344,
          -55.919979095458984,
          -88.1241455078125,
          -116.03137969970703,
          -145.3478240966797,
          -173.5587158203125,
          -202.74546813964844,
          -228.2456817626953,
          -247.59762573242188,
          -267.08544921875
         ],
         "yaxis": "y9"
        }
       ],
       "layout": {
        "height": 700,
        "margin": {
         "b": 20,
         "l": 20,
         "r": 30,
         "t": 40
        },
        "plot_bgcolor": "rgba(0,0,0,0)",
        "template": {
         "data": {
          "bar": [
           {
            "error_x": {
             "color": "#2a3f5f"
            },
            "error_y": {
             "color": "#2a3f5f"
            },
            "marker": {
             "line": {
              "color": "#E5ECF6",
              "width": 0.5
             },
             "pattern": {
              "fillmode": "overlay",
              "size": 10,
              "solidity": 0.2
             }
            },
            "type": "bar"
           }
          ],
          "barpolar": [
           {
            "marker": {
             "line": {
              "color": "#E5ECF6",
              "width": 0.5
             },
             "pattern": {
              "fillmode": "overlay",
              "size": 10,
              "solidity": 0.2
             }
            },
            "type": "barpolar"
           }
          ],
          "carpet": [
           {
            "aaxis": {
             "endlinecolor": "#2a3f5f",
             "gridcolor": "white",
             "linecolor": "white",
             "minorgridcolor": "white",
             "startlinecolor": "#2a3f5f"
            },
            "baxis": {
             "endlinecolor": "#2a3f5f",
             "gridcolor": "white",
             "linecolor": "white",
             "minorgridcolor": "white",
             "startlinecolor": "#2a3f5f"
            },
            "type": "carpet"
           }
          ],
          "choropleth": [
           {
            "colorbar": {
             "outlinewidth": 0,
             "ticks": ""
            },
            "type": "choropleth"
           }
          ],
          "contour": [
           {
            "colorbar": {
             "outlinewidth": 0,
             "ticks": ""
            },
            "colorscale": [
             [
              0,
              "#0d0887"
             ],
             [
              0.1111111111111111,
              "#46039f"
             ],
             [
              0.2222222222222222,
              "#7201a8"
             ],
             [
              0.3333333333333333,
              "#9c179e"
             ],
             [
              0.4444444444444444,
              "#bd3786"
             ],
             [
              0.5555555555555556,
              "#d8576b"
             ],
             [
              0.6666666666666666,
              "#ed7953"
             ],
             [
              0.7777777777777778,
              "#fb9f3a"
             ],
             [
              0.8888888888888888,
              "#fdca26"
             ],
             [
              1,
              "#f0f921"
             ]
            ],
            "type": "contour"
           }
          ],
          "contourcarpet": [
           {
            "colorbar": {
             "outlinewidth": 0,
             "ticks": ""
            },
            "type": "contourcarpet"
           }
          ],
          "heatmap": [
           {
            "colorbar": {
             "outlinewidth": 0,
             "ticks": ""
            },
            "colorscale": [
             [
              0,
              "#0d0887"
             ],
             [
              0.1111111111111111,
              "#46039f"
             ],
             [
              0.2222222222222222,
              "#7201a8"
             ],
             [
              0.3333333333333333,
              "#9c179e"
             ],
             [
              0.4444444444444444,
              "#bd3786"
             ],
             [
              0.5555555555555556,
              "#d8576b"
             ],
             [
              0.6666666666666666,
              "#ed7953"
             ],
             [
              0.7777777777777778,
              "#fb9f3a"
             ],
             [
              0.8888888888888888,
              "#fdca26"
             ],
             [
              1,
              "#f0f921"
             ]
            ],
            "type": "heatmap"
           }
          ],
          "heatmapgl": [
           {
            "colorbar": {
             "outlinewidth": 0,
             "ticks": ""
            },
            "colorscale": [
             [
              0,
              "#0d0887"
             ],
             [
              0.1111111111111111,
              "#46039f"
             ],
             [
              0.2222222222222222,
              "#7201a8"
             ],
             [
              0.3333333333333333,
              "#9c179e"
             ],
             [
              0.4444444444444444,
              "#bd3786"
             ],
             [
              0.5555555555555556,
              "#d8576b"
             ],
             [
              0.6666666666666666,
              "#ed7953"
             ],
             [
              0.7777777777777778,
              "#fb9f3a"
             ],
             [
              0.8888888888888888,
              "#fdca26"
             ],
             [
              1,
              "#f0f921"
             ]
            ],
            "type": "heatmapgl"
           }
          ],
          "histogram": [
           {
            "marker": {
             "pattern": {
              "fillmode": "overlay",
              "size": 10,
              "solidity": 0.2
             }
            },
            "type": "histogram"
           }
          ],
          "histogram2d": [
           {
            "colorbar": {
             "outlinewidth": 0,
             "ticks": ""
            },
            "colorscale": [
             [
              0,
              "#0d0887"
             ],
             [
              0.1111111111111111,
              "#46039f"
             ],
             [
              0.2222222222222222,
              "#7201a8"
             ],
             [
              0.3333333333333333,
              "#9c179e"
             ],
             [
              0.4444444444444444,
              "#bd3786"
             ],
             [
              0.5555555555555556,
              "#d8576b"
             ],
             [
              0.6666666666666666,
              "#ed7953"
             ],
             [
              0.7777777777777778,
              "#fb9f3a"
             ],
             [
              0.8888888888888888,
              "#fdca26"
             ],
             [
              1,
              "#f0f921"
             ]
            ],
            "type": "histogram2d"
           }
          ],
          "histogram2dcontour": [
           {
            "colorbar": {
             "outlinewidth": 0,
             "ticks": ""
            },
            "colorscale": [
             [
              0,
              "#0d0887"
             ],
             [
              0.1111111111111111,
              "#46039f"
             ],
             [
              0.2222222222222222,
              "#7201a8"
             ],
             [
              0.3333333333333333,
              "#9c179e"
             ],
             [
              0.4444444444444444,
              "#bd3786"
             ],
             [
              0.5555555555555556,
              "#d8576b"
             ],
             [
              0.6666666666666666,
              "#ed7953"
             ],
             [
              0.7777777777777778,
              "#fb9f3a"
             ],
             [
              0.8888888888888888,
              "#fdca26"
             ],
             [
              1,
              "#f0f921"
             ]
            ],
            "type": "histogram2dcontour"
           }
          ],
          "mesh3d": [
           {
            "colorbar": {
             "outlinewidth": 0,
             "ticks": ""
            },
            "type": "mesh3d"
           }
          ],
          "parcoords": [
           {
            "line": {
             "colorbar": {
              "outlinewidth": 0,
              "ticks": ""
             }
            },
            "type": "parcoords"
           }
          ],
          "pie": [
           {
            "automargin": true,
            "type": "pie"
           }
          ],
          "scatter": [
           {
            "fillpattern": {
             "fillmode": "overlay",
             "size": 10,
             "solidity": 0.2
            },
            "type": "scatter"
           }
          ],
          "scatter3d": [
           {
            "line": {
             "colorbar": {
              "outlinewidth": 0,
              "ticks": ""
             }
            },
            "marker": {
             "colorbar": {
              "outlinewidth": 0,
              "ticks": ""
             }
            },
            "type": "scatter3d"
           }
          ],
          "scattercarpet": [
           {
            "marker": {
             "colorbar": {
              "outlinewidth": 0,
              "ticks": ""
             }
            },
            "type": "scattercarpet"
           }
          ],
          "scattergeo": [
           {
            "marker": {
             "colorbar": {
              "outlinewidth": 0,
              "ticks": ""
             }
            },
            "type": "scattergeo"
           }
          ],
          "scattergl": [
           {
            "marker": {
             "colorbar": {
              "outlinewidth": 0,
              "ticks": ""
             }
            },
            "type": "scattergl"
           }
          ],
          "scattermapbox": [
           {
            "marker": {
             "colorbar": {
              "outlinewidth": 0,
              "ticks": ""
             }
            },
            "type": "scattermapbox"
           }
          ],
          "scatterpolar": [
           {
            "marker": {
             "colorbar": {
              "outlinewidth": 0,
              "ticks": ""
             }
            },
            "type": "scatterpolar"
           }
          ],
          "scatterpolargl": [
           {
            "marker": {
             "colorbar": {
              "outlinewidth": 0,
              "ticks": ""
             }
            },
            "type": "scatterpolargl"
           }
          ],
          "scatterternary": [
           {
            "marker": {
             "colorbar": {
              "outlinewidth": 0,
              "ticks": ""
             }
            },
            "type": "scatterternary"
           }
          ],
          "surface": [
           {
            "colorbar": {
             "outlinewidth": 0,
             "ticks": ""
            },
            "colorscale": [
             [
              0,
              "#0d0887"
             ],
             [
              0.1111111111111111,
              "#46039f"
             ],
             [
              0.2222222222222222,
              "#7201a8"
             ],
             [
              0.3333333333333333,
              "#9c179e"
             ],
             [
              0.4444444444444444,
              "#bd3786"
             ],
             [
              0.5555555555555556,
              "#d8576b"
             ],
             [
              0.6666666666666666,
              "#ed7953"
             ],
             [
              0.7777777777777778,
              "#fb9f3a"
             ],
             [
              0.8888888888888888,
              "#fdca26"
             ],
             [
              1,
              "#f0f921"
             ]
            ],
            "type": "surface"
           }
          ],
          "table": [
           {
            "cells": {
             "fill": {
              "color": "#EBF0F8"
             },
             "line": {
              "color": "white"
             }
            },
            "header": {
             "fill": {
              "color": "#C8D4E3"
             },
             "line": {
              "color": "white"
             }
            },
            "type": "table"
           }
          ]
         },
         "layout": {
          "annotationdefaults": {
           "arrowcolor": "#2a3f5f",
           "arrowhead": 0,
           "arrowwidth": 1
          },
          "autotypenumbers": "strict",
          "coloraxis": {
           "colorbar": {
            "outlinewidth": 0,
            "ticks": ""
           }
          },
          "colorscale": {
           "diverging": [
            [
             0,
             "#8e0152"
            ],
            [
             0.1,
             "#c51b7d"
            ],
            [
             0.2,
             "#de77ae"
            ],
            [
             0.3,
             "#f1b6da"
            ],
            [
             0.4,
             "#fde0ef"
            ],
            [
             0.5,
             "#f7f7f7"
            ],
            [
             0.6,
             "#e6f5d0"
            ],
            [
             0.7,
             "#b8e186"
            ],
            [
             0.8,
             "#7fbc41"
            ],
            [
             0.9,
             "#4d9221"
            ],
            [
             1,
             "#276419"
            ]
           ],
           "sequential": [
            [
             0,
             "#0d0887"
            ],
            [
             0.1111111111111111,
             "#46039f"
            ],
            [
             0.2222222222222222,
             "#7201a8"
            ],
            [
             0.3333333333333333,
             "#9c179e"
            ],
            [
             0.4444444444444444,
             "#bd3786"
            ],
            [
             0.5555555555555556,
             "#d8576b"
            ],
            [
             0.6666666666666666,
             "#ed7953"
            ],
            [
             0.7777777777777778,
             "#fb9f3a"
            ],
            [
             0.8888888888888888,
             "#fdca26"
            ],
            [
             1,
             "#f0f921"
            ]
           ],
           "sequentialminus": [
            [
             0,
             "#0d0887"
            ],
            [
             0.1111111111111111,
             "#46039f"
            ],
            [
             0.2222222222222222,
             "#7201a8"
            ],
            [
             0.3333333333333333,
             "#9c179e"
            ],
            [
             0.4444444444444444,
             "#bd3786"
            ],
            [
             0.5555555555555556,
             "#d8576b"
            ],
            [
             0.6666666666666666,
             "#ed7953"
            ],
            [
             0.7777777777777778,
             "#fb9f3a"
            ],
            [
             0.8888888888888888,
             "#fdca26"
            ],
            [
             1,
             "#f0f921"
            ]
           ]
          },
          "colorway": [
           "#636efa",
           "#EF553B",
           "#00cc96",
           "#ab63fa",
           "#FFA15A",
           "#19d3f3",
           "#FF6692",
           "#B6E880",
           "#FF97FF",
           "#FECB52"
          ],
          "font": {
           "color": "#2a3f5f"
          },
          "geo": {
           "bgcolor": "white",
           "lakecolor": "white",
           "landcolor": "#E5ECF6",
           "showlakes": true,
           "showland": true,
           "subunitcolor": "white"
          },
          "hoverlabel": {
           "align": "left"
          },
          "hovermode": "closest",
          "mapbox": {
           "style": "light"
          },
          "paper_bgcolor": "white",
          "plot_bgcolor": "#E5ECF6",
          "polar": {
           "angularaxis": {
            "gridcolor": "white",
            "linecolor": "white",
            "ticks": ""
           },
           "bgcolor": "#E5ECF6",
           "radialaxis": {
            "gridcolor": "white",
            "linecolor": "white",
            "ticks": ""
           }
          },
          "scene": {
           "xaxis": {
            "backgroundcolor": "#E5ECF6",
            "gridcolor": "white",
            "gridwidth": 2,
            "linecolor": "white",
            "showbackground": true,
            "ticks": "",
            "zerolinecolor": "white"
           },
           "yaxis": {
            "backgroundcolor": "#E5ECF6",
            "gridcolor": "white",
            "gridwidth": 2,
            "linecolor": "white",
            "showbackground": true,
            "ticks": "",
            "zerolinecolor": "white"
           },
           "zaxis": {
            "backgroundcolor": "#E5ECF6",
            "gridcolor": "white",
            "gridwidth": 2,
            "linecolor": "white",
            "showbackground": true,
            "ticks": "",
            "zerolinecolor": "white"
           }
          },
          "shapedefaults": {
           "line": {
            "color": "#2a3f5f"
           }
          },
          "ternary": {
           "aaxis": {
            "gridcolor": "white",
            "linecolor": "white",
            "ticks": ""
           },
           "baxis": {
            "gridcolor": "white",
            "linecolor": "white",
            "ticks": ""
           },
           "bgcolor": "#E5ECF6",
           "caxis": {
            "gridcolor": "white",
            "linecolor": "white",
            "ticks": ""
           }
          },
          "title": {
           "x": 0.05
          },
          "xaxis": {
           "automargin": true,
           "gridcolor": "white",
           "linecolor": "white",
           "ticks": "",
           "title": {
            "standoff": 15
           },
           "zerolinecolor": "white",
           "zerolinewidth": 2
          },
          "yaxis": {
           "automargin": true,
           "gridcolor": "white",
           "linecolor": "white",
           "ticks": "",
           "title": {
            "standoff": 15
           },
           "zerolinecolor": "white",
           "zerolinewidth": 2
          }
         }
        },
        "title": {
         "text": "Figuras"
        },
        "width": 900,
        "xaxis": {
         "anchor": "y",
         "domain": [
          0,
          0.2888888888888889
         ]
        },
        "xaxis2": {
         "anchor": "y2",
         "domain": [
          0.35555555555555557,
          0.6444444444444445
         ]
        },
        "xaxis3": {
         "anchor": "y3",
         "domain": [
          0.7111111111111111,
          1
         ]
        },
        "xaxis4": {
         "anchor": "y4",
         "domain": [
          0,
          0.2888888888888889
         ]
        },
        "xaxis5": {
         "anchor": "y5",
         "domain": [
          0.35555555555555557,
          0.6444444444444445
         ]
        },
        "xaxis6": {
         "anchor": "y6",
         "domain": [
          0.7111111111111111,
          1
         ]
        },
        "xaxis7": {
         "anchor": "y7",
         "domain": [
          0,
          0.2888888888888889
         ]
        },
        "xaxis8": {
         "anchor": "y8",
         "domain": [
          0.35555555555555557,
          0.6444444444444445
         ]
        },
        "xaxis9": {
         "anchor": "y9",
         "domain": [
          0.7111111111111111,
          1
         ]
        },
        "yaxis": {
         "anchor": "x",
         "domain": [
          0.7333333333333333,
          1
         ]
        },
        "yaxis2": {
         "anchor": "x2",
         "domain": [
          0.7333333333333333,
          1
         ]
        },
        "yaxis3": {
         "anchor": "x3",
         "domain": [
          0.7333333333333333,
          1
         ]
        },
        "yaxis4": {
         "anchor": "x4",
         "domain": [
          0.36666666666666664,
          0.6333333333333333
         ]
        },
        "yaxis5": {
         "anchor": "x5",
         "domain": [
          0.36666666666666664,
          0.6333333333333333
         ]
        },
        "yaxis6": {
         "anchor": "x6",
         "domain": [
          0.36666666666666664,
          0.6333333333333333
         ]
        },
        "yaxis7": {
         "anchor": "x7",
         "domain": [
          0,
          0.26666666666666666
         ]
        },
        "yaxis8": {
         "anchor": "x8",
         "domain": [
          0,
          0.26666666666666666
         ]
        },
        "yaxis9": {
         "anchor": "x9",
         "domain": [
          0,
          0.26666666666666666
         ]
        }
       }
      }
     },
     "metadata": {},
     "output_type": "display_data"
    }
   ],
   "source": [
    "from plotly.subplots import make_subplots\n",
    "import plotly.graph_objects as go\n",
    "\n",
    "fs = 3840\n",
    "dataset_plot = Form1Dataset(\n",
    "    dataset_dir, max_window_idx=max_window_idx, signal_name=signal_name, test=True\n",
    ")\n",
    "plot_dataloader = DataLoader(dataset_plot, batch_size=train_batch_size, shuffle=True)\n",
    "\n",
    "dataiter = iter(plot_dataloader)\n",
    "signal_windows, t_windows, labels, csv_name, index, window_idx = next(dataiter)\n",
    "print(len(csv_name))\n",
    "print(window_idx.shape)\n",
    "print(labels.shape)\n",
    "x = model(signal_windows[0:9].to(device))\n",
    "x = x.detach()\n",
    "\n",
    "# Crear Matriz de confusión\n",
    "df = confussion_matrix(x, labels[0:9])\n",
    "print(df)\n",
    "\n",
    "# figure = plt.figure(figsize=(10, 10))\n",
    "cols, rows = 3, 3\n",
    "fig = make_subplots(rows=rows, cols=cols)\n",
    "\n",
    "label_to_text = {\n",
    "    \"0\": \"No Fault\",\n",
    "    \"1\": \"Fault\",\n",
    "}\n",
    "\n",
    "for i in range(0, cols * rows):\n",
    "\n",
    "    col = i % cols\n",
    "    row = i // cols\n",
    "    label = label_to_text[str(int(labels[i, 0].item()))]\n",
    "    win_idx = str(window_idx[i].item())\n",
    "    fig.add_trace(\n",
    "        go.Scatter(\n",
    "            name=f\"{label} - {win_idx} - {csv_name[i]}\",\n",
    "            x=t_windows[i, :],\n",
    "            y=signal_windows[i, :, 0],\n",
    "            marker_color=\"black\",\n",
    "        ),\n",
    "        row=row + 1,\n",
    "        col=col + 1,\n",
    "    )\n",
    "\n",
    "fig.update_layout(\n",
    "    height=700,\n",
    "    width=900,\n",
    "    title_text=\"Figuras\",\n",
    "    margin={\"b\": 20, \"t\": 40, \"l\": 20, \"r\": 30},\n",
    "    plot_bgcolor=\"rgba(0,0,0,0)\",\n",
    "    # paper_bgcolor=\"whitesmoke\",\n",
    ")\n",
    "fig.show()\n"
   ]
  },
  {
   "attachments": {},
   "cell_type": "markdown",
   "metadata": {},
   "source": [
    "##### 6.3. Matlab Plots"
   ]
  },
  {
   "cell_type": "code",
   "execution_count": 87,
   "metadata": {},
   "outputs": [
    {
     "name": "stdout",
     "output_type": "stream",
     "text": [
      "   Pred probability  Pred label  True label          prueba\n",
      "0          0.167843           0           0   True negative\n",
      "1          0.331889           0           0   True negative\n",
      "2          0.188564           0           0   True negative\n",
      "3          0.963528           1           1   True positive\n",
      "4          0.684997           1           1   True positive\n",
      "5          0.190350           0           0   True negative\n",
      "6          0.392578           0           0   True negative\n",
      "7          0.156519           0           1  False negative\n",
      "8          0.638912           1           1   True positive\n"
     ]
    },
    {
     "data": {
      "image/png": "[encoded data removed]",
      "text/plain": [
       "<Figure size 1000x1000 with 9 Axes>"
      ]
     },
     "metadata": {},
     "output_type": "display_data"
    }
   ],
   "source": [
    "dataset_plot = Form1Dataset(\n",
    "    dataset_dir, max_window_idx=max_window_idx, signal_name=signal_name, test=True\n",
    ")\n",
    "plot_dataloader = DataLoader(dataset_plot, batch_size=train_batch_size, shuffle=True)\n",
    "\n",
    "dataiter = iter(plot_dataloader)\n",
    "signal_windows, t_windows, labels, *_ = next(dataiter)\n",
    "fs = 3840\n",
    "\n",
    "x = model(signal_windows[1:10].to(device))\n",
    "x = x.detach()\n",
    "\n",
    "# Crear Matriz de confusión\n",
    "df = confussion_matrix(x, labels[1:10])\n",
    "print(df)\n",
    "\n",
    "figure = plt.figure(figsize=(10, 10))\n",
    "cols, rows = 3, 3\n",
    "for i in range(1, cols * rows + 1):\n",
    "    figure.add_subplot(rows, cols, i)\n",
    "    plt.plot(t_windows[i, :], signal_windows[i, :, 0])\n"
   ]
  },
  {
   "attachments": {},
   "cell_type": "markdown",
   "metadata": {},
   "source": [
    "### 7. References\n",
    "1. PyTorch Contributors: LSTM. [LSTM — PyTorch 1.13 documentation](https://pytorch.org/docs/stable/generated/torch.nn.LSTM.html).\n",
    "<!-- @online{LSTM,\n",
    "    author = \"{PyTorch Contributors}\",\n",
    "    title = \"LSTM\",\n",
    "    url  = \"https://pytorch.org/docs/stable/generated/torch.nn.LSTM.html\",\n",
    "    addendum = \"(accessed: 10.02.2023)\",\n",
    "    keywords = \"LSTM pytorch\"\n",
    "} -->"
   ]
  }
 ],
 "metadata": {
  "kernelspec": {
   "display_name": "env",
   "language": "python",
   "name": "python3"
  },
  "language_info": {
   "codemirror_mode": {
    "name": "ipython",
    "version": 3
   },
   "file_extension": ".py",
   "mimetype": "text/x-python",
   "name": "python",
   "nbconvert_exporter": "python",
   "pygments_lexer": "ipython3",
   "version": "3.9.13"
  },
  "orig_nbformat": 4,
  "vscode": {
   "interpreter": {
    "hash": "edf36f54e3c0d12e79cbfbdb2eab1260e125462eb03956a03e5e853a13b289dd"
   }
  }
 },
 "nbformat": 4,
 "nbformat_minor": 2
}
